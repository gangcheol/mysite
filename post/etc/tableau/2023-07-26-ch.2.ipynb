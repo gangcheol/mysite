{
 "cells": [
  {
   "cell_type": "raw",
   "id": "052f4178",
   "metadata": {},
   "source": [
    "---\n",
    "title : \"ch2. 태블로 기초 이해\"\n",
    "author : \"GANGCHEOL LEE\"\n",
    "date : \"07/26/23\"\n",
    "categories : [\"tableau\"]\n",
    "---"
   ]
  },
  {
   "cell_type": "markdown",
   "id": "cfc03104",
   "metadata": {},
   "source": [
    "# 1. 부분 전체 분석"
   ]
  },
  {
   "cell_type": "markdown",
   "id": "97723c38",
   "metadata": {},
   "source": [
    "## (1) 누적 막대 차트"
   ]
  },
  {
   "cell_type": "markdown",
   "id": "515cf05a",
   "metadata": {},
   "source": [
    "###  단순 합계"
   ]
  },
  {
   "cell_type": "markdown",
   "id": "bbee813d",
   "metadata": {},
   "source": [
    "`-` 연도별 고객 세그먼트의 매출에 대한 막대 차트 그리기"
   ]
  },
  {
   "cell_type": "markdown",
   "id": "a88c8188",
   "metadata": {},
   "source": [
    "`-` step1. 매출액을 뷰에 등록 후, 고객 세그먼트를 색상과 텍스트 마커에 등록, 오름차순 정렬"
   ]
  },
  {
   "cell_type": "markdown",
   "id": "012a3c74",
   "metadata": {},
   "source": [
    "`-` step2. 주문 일자 필드를 추가해 연도별 매출액 산출"
   ]
  },
  {
   "cell_type": "markdown",
   "id": "75caf6ce",
   "metadata": {},
   "source": [
    "![](ch2-1.png)"
   ]
  },
  {
   "cell_type": "markdown",
   "id": "7a67248b",
   "metadata": {},
   "source": [
    "### 비중 계산"
   ]
  },
  {
   "cell_type": "markdown",
   "id": "97266c1d",
   "metadata": {},
   "source": [
    "`-` 아래와 같이 선택"
   ]
  },
  {
   "cell_type": "markdown",
   "id": "58c6c5a9",
   "metadata": {},
   "source": [
    "<img src = \"ch2-2.png\" width = 250>"
   ]
  },
  {
   "cell_type": "markdown",
   "id": "5116ef17",
   "metadata": {},
   "source": [
    "`-` 그러나 위 같은 경우 전체 매출에 대한 각 부분의 비율이므로 각 연도별 매출을 100으로 한 고객 세그먼트별 비율을 파악할 수 없다"
   ]
  },
  {
   "cell_type": "markdown",
   "id": "4e291a41",
   "metadata": {},
   "source": [
    "<img src = \"ch2-3.png\" width = 250>"
   ]
  },
  {
   "cell_type": "markdown",
   "id": "b06e9d22",
   "metadata": {},
   "source": [
    "`-` 위와 같이 옵션 설정을 하면!"
   ]
  },
  {
   "cell_type": "markdown",
   "id": "3fd9c266",
   "metadata": {},
   "source": [
    "<img src = \"ch2-4.png\" width = 850>"
   ]
  },
  {
   "cell_type": "markdown",
   "id": "ba64cf7c",
   "metadata": {},
   "source": [
    "`-` 근데 뭔가 왼쪽에 있는 축도 퍼센트로 나타내면 좋을 것같다."
   ]
  },
  {
   "cell_type": "markdown",
   "id": "5c6d575a",
   "metadata": {},
   "source": [
    "`-` 근데 별거 없다. 위의 과정을 마크가 아닌 행에서 하면된다. 결과를 보면~~"
   ]
  },
  {
   "cell_type": "markdown",
   "id": "903a1550",
   "metadata": {},
   "source": [
    "<img src = \"ch2-5.png\" width = 850>"
   ]
  },
  {
   "cell_type": "markdown",
   "id": "60bca1b6",
   "metadata": {},
   "source": [
    "`-` 그러나 데이터 시각화 수업에서 배웠듯이 퍼센트는 절대적인 수치가 아니기 때문에 결과해석에 오류를 불러 일으킬 수 있다."
   ]
  },
  {
   "cell_type": "markdown",
   "id": "c2761feb",
   "metadata": {},
   "source": [
    "`-` 매출 합계를 텍스트 마커에 추가하자!"
   ]
  },
  {
   "cell_type": "markdown",
   "id": "85d151af",
   "metadata": {},
   "source": [
    "<img src = \"ch2-6.png\" width = 850>"
   ]
  },
  {
   "cell_type": "markdown",
   "id": "d8b1f24c",
   "metadata": {},
   "source": [
    "## (2) 파이차트"
   ]
  },
  {
   "cell_type": "markdown",
   "id": "33afd3c8",
   "metadata": {},
   "source": [
    "`-` 파이차트에서 내림차순은 시계방향 정렬이다."
   ]
  },
  {
   "cell_type": "markdown",
   "id": "5bab3eaa",
   "metadata": {},
   "source": [
    "`-` 고객 세그먼트별 비중 계산 $\\Delta$"
   ]
  },
  {
   "cell_type": "markdown",
   "id": "d5547c21",
   "metadata": {},
   "source": [
    "`-` 파이차트 생성 법 : 고객 세그먼트 클릭 $\\to$ 매출 클릭 $\\to$ 파이차트 선택 (So easy~)"
   ]
  },
  {
   "cell_type": "markdown",
   "id": "dc15c8a2",
   "metadata": {},
   "source": [
    "`-` 내가 선택한 마커는 다음과 같다"
   ]
  },
  {
   "cell_type": "markdown",
   "id": "2f9fa418",
   "metadata": {},
   "source": [
    "<img src = \"ch2-7.png\" width = 150>"
   ]
  },
  {
   "cell_type": "markdown",
   "id": "bf9b53cf",
   "metadata": {},
   "source": [
    "`-` 출력 결과를 살펴보면.."
   ]
  },
  {
   "cell_type": "markdown",
   "id": "bd25eb65",
   "metadata": {},
   "source": [
    "<img src = \"ch2-8.png\" width = 450>"
   ]
  },
  {
   "cell_type": "markdown",
   "id": "76371a84",
   "metadata": {},
   "source": [
    "`-` 근데 먼가 좀 맘에 안듬 퍼센트는 괄호로 표시하고 싶음"
   ]
  },
  {
   "cell_type": "markdown",
   "id": "d2398cf4",
   "metadata": {},
   "source": [
    "`-` 일단 텍스트 우측 맨끝에 있는 점선 클릭"
   ]
  },
  {
   "cell_type": "markdown",
   "id": "dec580fa",
   "metadata": {},
   "source": [
    "<img src = \"ch2-9.png\" width = 150>"
   ]
  },
  {
   "cell_type": "markdown",
   "id": "aea70b50",
   "metadata": {},
   "source": [
    "`-` 그 후 아래와 같이 편집"
   ]
  },
  {
   "cell_type": "markdown",
   "id": "83eaae68",
   "metadata": {},
   "source": [
    "<img src = \"ch2-10.png\" width = 250>"
   ]
  },
  {
   "cell_type": "markdown",
   "id": "01b5ca49",
   "metadata": {},
   "source": [
    "`-` 결과 확인"
   ]
  },
  {
   "cell_type": "markdown",
   "id": "29de7f72",
   "metadata": {},
   "source": [
    "<img src = \"ch2-11.png\" width = 250>"
   ]
  },
  {
   "cell_type": "markdown",
   "id": "1974b92c",
   "metadata": {},
   "source": [
    "`-` 이것을 연도별로 보자 $\\to$ 연도를 뷰에 넣으면 `테이블 아래로`가 아닌 `테이블 옆으로` 설정이 되어 있으므므로 변환해주자"
   ]
  },
  {
   "cell_type": "markdown",
   "id": "8bcae20c",
   "metadata": {},
   "source": [
    "<img src = \"ch2-12.png\" width = 850>"
   ]
  },
  {
   "cell_type": "markdown",
   "id": "5c056054",
   "metadata": {},
   "source": [
    "## (3) 도넛차트"
   ]
  },
  {
   "cell_type": "markdown",
   "id": "fe4da001",
   "metadata": {},
   "source": [
    "`-` 파이 차트에서 가지지 못하는 요약정보를 표시할 수 있다"
   ]
  },
  {
   "cell_type": "markdown",
   "id": "9ae6d4c2",
   "metadata": {},
   "source": [
    "`-` step1. 일단 열선반에 0을 하나 씀(임의의 필드를 하나 만든것임) 그러면 뷰에 의미심장한게 만들어짐"
   ]
  },
  {
   "cell_type": "markdown",
   "id": "54a4b4f4",
   "metadata": {},
   "source": [
    "`-` step2. 기본 데이터 차트를 파이로 변경"
   ]
  },
  {
   "cell_type": "markdown",
   "id": "b50c1f7c",
   "metadata": {},
   "source": [
    "`-` step3. 임의로 만든 필드를 열선반에 하나 더 추가"
   ]
  },
  {
   "cell_type": "markdown",
   "id": "e08d208d",
   "metadata": {},
   "source": [
    "`-` step4. 천번째 합계 0의 마커에 고객 세그먼트 추가"
   ]
  },
  {
   "cell_type": "markdown",
   "id": "1780fbfb",
   "metadata": {},
   "source": [
    "`-` step5. 정렬 시 메뉴바에 있는 정렬보다 마커에 있는 정렬을 이용해서 정렬하자(고객세그먼트에 있음)"
   ]
  },
  {
   "cell_type": "markdown",
   "id": "4fa28891",
   "metadata": {},
   "source": [
    "<img src = \"ch2-13.png\" width = 350>"
   ]
  },
  {
   "cell_type": "markdown",
   "id": "4f4f8518",
   "metadata": {},
   "source": [
    "`-` step6. 이중 축 추가 $\\to$ 열 선반에 있는 두 번째 합계에서 `Dual axis 선택!`"
   ]
  },
  {
   "cell_type": "markdown",
   "id": "f82e9efc",
   "metadata": {},
   "source": [
    "`-` step7. 머리글 표시 해제"
   ]
  },
  {
   "cell_type": "markdown",
   "id": "55326913",
   "metadata": {},
   "source": [
    "`-` step8. view $\\to$ format line $\\to$ column $\\to$ 격자선과 0표시선 none으로 변경"
   ]
  },
  {
   "cell_type": "markdown",
   "id": "94cfe28e",
   "metadata": {},
   "source": [
    "`-` step9. 매출을 합계2 마커에 레이블에 넣기 후, 레이블 텍스트 편집"
   ]
  },
  {
   "cell_type": "markdown",
   "id": "1771cb78",
   "metadata": {},
   "source": [
    "<img src = \"ch2-14.png\" width = 350>"
   ]
  },
  {
   "cell_type": "markdown",
   "id": "682aa9aa",
   "metadata": {},
   "source": [
    "`-` step10. 합계 1에 마커에 매출을 레이블로 구성 비율 레이블로 표시"
   ]
  },
  {
   "cell_type": "markdown",
   "id": "ebd4768b",
   "metadata": {},
   "source": [
    "`-` step11. 연도 차원 추가"
   ]
  },
  {
   "cell_type": "markdown",
   "id": "07f5640d",
   "metadata": {},
   "source": [
    "`-` step12. 그 후 마커 레이블 표현 방식을 테이블 다운으로 변경"
   ]
  },
  {
   "cell_type": "markdown",
   "id": "092b89af",
   "metadata": {},
   "source": [
    "<img src = \"ch2-15.png\" width = 850>"
   ]
  },
  {
   "cell_type": "markdown",
   "id": "1841ed73",
   "metadata": {},
   "source": [
    "`-` 파이차트보다 좋은점 : 가운데에 종합적인 정보를 넣었다,"
   ]
  },
  {
   "cell_type": "markdown",
   "id": "10419595",
   "metadata": {},
   "source": [
    "## (4) 트리맵"
   ]
  },
  {
   "cell_type": "markdown",
   "id": "3a374ee9",
   "metadata": {},
   "source": [
    "`-` step1. 고객 세그먼트, 매출 클릭 후, 트리맵 생성"
   ]
  },
  {
   "cell_type": "markdown",
   "id": "797c16c8",
   "metadata": {},
   "source": [
    "`-` step2. 뭐 그냥 입맛대로 마커 추가"
   ]
  },
  {
   "cell_type": "markdown",
   "id": "b3d4fb6a",
   "metadata": {},
   "source": [
    "## (5) 파이차트와 도넛차트를 쓰면 안되는 경우"
   ]
  },
  {
   "cell_type": "markdown",
   "id": "ad508412",
   "metadata": {},
   "source": [
    "`-` 인접한 값들이 차이가 없는 경우 가급적 트리맵을 사용하는 것이 좋다!"
   ]
  },
  {
   "cell_type": "markdown",
   "id": "45db96a4",
   "metadata": {},
   "source": [
    "## Summay"
   ]
  },
  {
   "cell_type": "markdown",
   "id": "2538e277",
   "metadata": {},
   "source": [
    "`-` 파이차트와 도넛 차트는 각각의 범주가 어느 정도의 비율을 차지하는지 살펴볼 때 적절하다."
   ]
  },
  {
   "cell_type": "markdown",
   "id": "097e5f8d",
   "metadata": {},
   "source": [
    "`-` 그러나 맴버가 많은 경우 트리맵을 대안으로 이용하자"
   ]
  },
  {
   "cell_type": "markdown",
   "id": "3ebeaaea",
   "metadata": {},
   "source": [
    "# 2. 태블로 상관 관계 분석"
   ]
  },
  {
   "cell_type": "markdown",
   "id": "92c53950",
   "metadata": {},
   "source": [
    "## (1). 분산형 차트"
   ]
  },
  {
   "cell_type": "code",
   "execution_count": null,
   "id": "44a30297",
   "metadata": {},
   "outputs": [],
   "source": [
    "## (2)"
   ]
  },
  {
   "cell_type": "markdown",
   "id": "85813a88",
   "metadata": {},
   "source": [
    "# 3. 태블로 이중 축 vs 결합된 축"
   ]
  },
  {
   "cell_type": "markdown",
   "id": "f4703ba8",
   "metadata": {},
   "source": [
    "# 4. 태블로 그룹 vs 집합"
   ]
  },
  {
   "cell_type": "markdown",
   "id": "44f65247",
   "metadata": {},
   "source": [
    "# 5. 태블로 테이블 구성하기_계층과 총계"
   ]
  },
  {
   "cell_type": "markdown",
   "id": "67374c45",
   "metadata": {},
   "source": [
    "# 6. 태블로 테이블 구성하기 맵 만들기"
   ]
  },
  {
   "cell_type": "markdown",
   "id": "827966d3",
   "metadata": {},
   "source": [
    "# Quiz"
   ]
  }
 ],
 "metadata": {
  "kernelspec": {
   "display_name": "Python 3 (ipykernel)",
   "language": "python",
   "name": "python3"
  },
  "language_info": {
   "codemirror_mode": {
    "name": "ipython",
    "version": 3
   },
   "file_extension": ".py",
   "mimetype": "text/x-python",
   "name": "python",
   "nbconvert_exporter": "python",
   "pygments_lexer": "ipython3",
   "version": "3.9.13"
  },
  "toc": {
   "base_numbering": 1,
   "nav_menu": {},
   "number_sections": false,
   "sideBar": true,
   "skip_h1_title": false,
   "title_cell": "Table of Contents",
   "title_sidebar": "Contents",
   "toc_cell": false,
   "toc_position": {
    "height": "calc(100% - 180px)",
    "left": "10px",
    "top": "150px",
    "width": "400.8px"
   },
   "toc_section_display": true,
   "toc_window_display": true
  }
 },
 "nbformat": 4,
 "nbformat_minor": 5
}
