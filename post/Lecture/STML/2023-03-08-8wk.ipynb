{
 "cells": [
  {
   "cell_type": "raw",
   "id": "8bb541aa",
   "metadata": {},
   "source": [
    "---\n",
    "title : \"08. 이미지분석 (1)\"\n",
    "date : \"03/08/2023\"\n",
    "author : \"GANGCHEOL LEE\"\n",
    "categories : \"Python\"\n",
    "---"
   ]
  }
 ],
 "metadata": {
  "kernelspec": {
   "display_name": "Python 3 (ipykernel)",
   "language": "python",
   "name": "python3"
  },
  "language_info": {
   "codemirror_mode": {
    "name": "ipython",
    "version": 3
   },
   "file_extension": ".py",
   "mimetype": "text/x-python",
   "name": "python",
   "nbconvert_exporter": "python",
   "pygments_lexer": "ipython3",
   "version": "3.9.13"
  },
  "toc": {
   "base_numbering": 1,
   "nav_menu": {},
   "number_sections": false,
   "sideBar": true,
   "skip_h1_title": false,
   "title_cell": "Table of Contents",
   "title_sidebar": "Contents",
   "toc_cell": false,
   "toc_position": {},
   "toc_section_display": true,
   "toc_window_display": true
  }
 },
 "nbformat": 4,
 "nbformat_minor": 5
}
