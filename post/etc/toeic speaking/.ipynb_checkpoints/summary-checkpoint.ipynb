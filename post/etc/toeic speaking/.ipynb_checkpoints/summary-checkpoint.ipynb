{
 "cells": [
  {
   "cell_type": "raw",
   "id": "39699075",
   "metadata": {},
   "source": [
    "---\n",
    "title : \"summary\"\n",
    "category : \"speaking\"\n",
    "author : \"GANGCHEOL LEE\"\n",
    "date : \"06/30/23\"\n",
    "---"
   ]
  },
  {
   "cell_type": "markdown",
   "id": "d7ef8f73",
   "metadata": {},
   "source": [
    "# part1. 발음 어려운 단어"
   ]
  },
  {
   "cell_type": "markdown",
   "id": "626310b6",
   "metadata": {},
   "source": [
    "2. Affordable (어포러블)\n",
    "\n",
    "\n",
    "6. Appliances (어플라이언시스)\n",
    "\n",
    "\n",
    "16. Property (프로펄리)\n",
    "\n",
    "\n",
    "17. Executive (이그제키디브??)\n",
    "\n",
    "\n",
    "20. competitive (컴페더디브)\n",
    "\n",
    "\n",
    "32. Alternate (얼터너트)\n",
    "\n",
    "\n",
    "34. Purchase (펄쳐스)\n",
    "\n",
    "\n",
    "44. Record (V 리코드, N 레코드)\n",
    "\n",
    "\n",
    "54. Interior\n",
    "\n",
    "\n",
    "61. Approximately\n",
    "\n",
    "\n",
    "62. Repersentaitve (레프레젠테티브)\n",
    "\n",
    "\n",
    "76. Hesitate\n",
    "\n",
    "\n",
    "93. Applause (어플로우즈)\n",
    "\n",
    "\n",
    "103. Attorney (어 thㅗㄹ 니)\n",
    "\n",
    "\n",
    "105. reward\n",
    "\n",
    "\n",
    "107. Moderate. (머더리트)\n",
    "\n",
    "\n",
    "108. Pedstrians (퍼데스트리언스)\n",
    "\n",
    "\n",
    "113. quarter/quarterly\n",
    "\n",
    "\n",
    "149. Humid / Humidity\n",
    "\n",
    "\n",
    "155. Groceries (그로우서리스)\n",
    "\n",
    "\n",
    "161. Tremendous (트레멘데스)\n",
    "\n",
    "\n",
    "170. Nutritious (뉴트리셔스)\n",
    "\n",
    "\n",
    "176. Exterior\n",
    "\n",
    "\n",
    "177. Cuisine (쿠이진)\n",
    "\n",
    "\n",
    "181. Maintenance (메인티넌스)\n",
    "\n",
    "\n",
    "186. Awareness (어웰너스)\n",
    "\n",
    "\n",
    "188. Exothic (이그조릭)\n",
    "\n",
    "\n",
    "189. Resume (레저미)\n",
    "\n",
    "\n",
    "195. Temporaray / Temporarily (템포러ㄹ리, 템포렐러리)\n",
    "\n",
    "\n",
    "196. Lodging (로징)\n",
    "\n",
    "\n",
    "199. Unforgettable (언폴게러블)\n",
    "\n",
    "\n",
    "203. Renowned (리노운ㅌ)\n",
    " \n",
    "\n",
    "205. Appropriate (어프러푸레이트)\n",
    "\n",
    "\n",
    "207. Strategies (스트레드지스)\n",
    "\n",
    "\n",
    "211. Procedure\n",
    "\n",
    "\n",
    "213. Organize / Organization (올게나이즈, 올가니제이션)\n",
    "\n",
    "\n",
    "215. informative (인폴메티브)\n",
    "\n",
    "\n",
    "226. Associate \n",
    "\n",
    "\n",
    "227. Sculpture (스컬ㅍ쳐)\n",
    "\n",
    "\n",
    "234. Immediate / Immediately (이미디어트, 이미디엍리)\n",
    "\n",
    "\n",
    "240. Region (리즌)\n",
    "\n",
    "\n",
    "246. Vehicle (비이클)\n",
    "\n",
    "\n",
    "250. Creative. (크리에이리브)\n",
    "\n",
    "\n",
    "255. Latest (레이리스트)\n",
    "\n",
    "\n",
    "260. cashier (캐시얼)\n",
    "\n",
    "\n",
    "287. Modern (모어런)\n",
    "\n",
    "\n",
    "288. Contemporary \n",
    "\n",
    "\n",
    "289. Currently(커ㄹㅌ리)\n",
    "\n",
    "\n",
    "290. Cooperation\n",
    "\n",
    "\n",
    "292. Environmental\n",
    "\n",
    "\n",
    "295. Reception (리셒션)\n",
    "\n",
    "\n",
    "298. Interested / Interesting"
   ]
  },
  {
   "cell_type": "markdown",
   "id": "71c47c2a",
   "metadata": {},
   "source": [
    "# part 3, 5 만능문장 템플릿"
   ]
  },
  {
   "cell_type": "markdown",
   "id": "f49b33c7",
   "metadata": {},
   "source": [
    "## 1. 경험 & 교육"
   ]
  },
  {
   "cell_type": "markdown",
   "id": "fac3a7c9",
   "metadata": {},
   "source": [
    "1. They can learn new things (such as ~, about ~)\n",
    "\n",
    "\n",
    "2. They can meet new people and expand their network $\\to$ **(회사 인턴십, 워크숍, 다른부서하고 일할 때)**\n",
    "\n",
    "\n",
    "3. They can have a lot a experience and broaden their perspectives. $\\to$ **(박물관, 해외 여행, 회사 인턴십, 워크숍, 다른부서하고 일할 때)**\n",
    "\n",
    "\n",
    "4. They can't make good decisions because they are not mature enough.\n",
    "\n",
    "\n",
    "5. It makes me happy and I can have a great experience.\n",
    "\n",
    "\n",
    "6. It makes me happy and I can forget about my worries.\n",
    "\n",
    "\n",
    "7. They provide a happy environment and a pleasant experience.\n",
    "\n",
    "\n",
    "8. It relives my stress. I'm stressed out these days. **So, I need this.** (발음 듣기)\n",
    "\n",
    "\n",
    "9. It relives their stress and they can relax.\n",
    "\n",
    "\n",
    "10. It's good for their physical/mental health.**(템플릿 발음)**\n",
    "\n",
    "\n",
    "11. It's my favorite thing to do."
   ]
  },
  {
   "cell_type": "markdown",
   "id": "b53aa43e",
   "metadata": {},
   "source": [
    "## 2. 집중"
   ]
  },
  {
   "cell_type": "markdown",
   "id": "95a12408",
   "metadata": {},
   "source": [
    "1. They will be distracted. (by others) $\\to$ **(스마트폰, 그룹스터디 등등)**\n",
    "\n",
    "\n",
    "2. They can't focus on their studies/works $\\to$ **(스마트폰, 그룹스터디 등등)**\n",
    "\n",
    "\n",
    "3. They can't get good grades at school. $\\to$ **(스마트폰, 그룹스터디 등등)**\n",
    "\n",
    "\n",
    "4. They fall behind in class. $\\to$ **(스마트폰, 그룹스터디 등등)**\n",
    "\n",
    "\n",
    "5. They can't work efficiently $\\to$ **(스마트폰, 그룹스터디 등등)**\n",
    "\n",
    "\n",
    "6. I feel more comfortable and I can focus better.\n",
    "\n",
    "            \n",
    "7. I don't have to waste time waiting for other people.(others) $\\to$ **혼자 쇼핑**"
   ]
  },
  {
   "cell_type": "markdown",
   "id": "557680f3",
   "metadata": {},
   "source": [
    "## 3. 돈, 시간"
   ]
  },
  {
   "cell_type": "markdown",
   "id": "37a431de",
   "metadata": {},
   "source": [
    "1. It's cheaper, so I can save money. $\\to$ **(연봉, 보너스)**\n",
    "\n",
    "\n",
    "2. The price is reasonable. $\\to$ **(연봉, 보너스, 템플릿발음)**\n",
    "\n",
    "\n",
    "3. The cost of living is too high, so employees can't make a living (without bonus, a high salary) $\\to$ **(연봉, 보너스)**\n",
    "\n",
    "\n",
    "4. I can get a high salary.\n",
    "\n",
    "\n",
    "5. It's waste of money/time.\n",
    "\n",
    "\n",
    "6. That's a good investment because It makes lives better.\n",
    "\n",
    "\n",
    "7. I'm a student so my budget is tight.\n",
    "\n",
    "\n",
    "8. I can't afford to buy expensive things.\n",
    "\n",
    "\n",
    "9. I don't want to waste (too much) money(time) on that.\n",
    "\n",
    "\n",
    "10. I'm a student so I'm  busy with my school work.\n",
    "\n",
    "\n",
    "11. I don't have much time.\n",
    "\n",
    "\n",
    "13. It's faster, so I can save time."
   ]
  },
  {
   "cell_type": "markdown",
   "id": "0597dd75",
   "metadata": {},
   "source": [
    "## 4. 혼자 & 같이 & 기술"
   ]
  },
  {
   "cell_type": "markdown",
   "id": "0c87cab9",
   "metadata": {},
   "source": [
    "1. They can focus better. (if, when ~)\n",
    "\n",
    "\n",
    "2. They can set their own schedule.\n",
    "\n",
    "\n",
    "3. They can have/feel more freedom/comfortable. (at home) $\\to$ **(혼자 일할 때)**\n",
    "\n",
    "\n",
    "4. It's fun and entertaining. so I don't get bored.\n",
    "\n",
    "\n",
    "5. They can get a lot of useful information (from my friends, books, on the Internet) and share it with others.\n",
    "\n",
    "\n",
    "6. I think it's more fun to do things in a group.\n",
    "\n",
    "\n",
    "7. I can meet new people and make friends **(expand their network.)**\n",
    "\n",
    "\n",
    "8. I can save time because I don't have to waste time going out.\n",
    "\n",
    "\n",
    "9. They can do everything anytime anywhere on their smartphones.\n",
    "\n",
    "\n",
    "10. They can communicate with their friends anytime anywhere on social media.\n",
    "\n",
    " \n",
    "11. It' faster and convinient.\n",
    "\n",
    "\n",
    "12. **There is a lot of inaccurate information on the internet so it's not reliable.**\n",
    "\n",
    "\n",
    "13. **It's reliable, so the information is more trustworthy.**\n",
    "\n",
    "\n",
    "14. It is very distracting  for student because they can't focus on their studies/work.\n",
    "\n",
    "\n",
    "15. i can get responses right away.\n",
    "\n",
    "\n",
    "16. I can understand the feeling of speaker more accurately. $\\to$ **(대면 수업, 일대일 강의)**\n",
    "\n",
    "\n",
    "16. **It is more personal, and bulids a closer relationship.**\n",
    "\n",
    "\n",
    "17. It causes less misunderstanding.\n",
    "\n",
    "\n",
    "18. They can make a friendly atmosphere.\n",
    "\n",
    "\n",
    "19. They can communicate with others better.\n",
    "\n",
    "\n",
    "20. ~~They can be good team players and make good relationships with others.~~"
   ]
  },
  {
   "cell_type": "markdown",
   "id": "73a6cdc8",
   "metadata": {},
   "source": [
    "## 5. 좋은 성품, 성격"
   ]
  },
  {
   "cell_type": "markdown",
   "id": "363fd798",
   "metadata": {},
   "source": [
    "1. They can have a good reputaion.\n",
    "\n",
    "\n",
    "2. They can be very influential.  **(템플릿 발음)**\n",
    "\n",
    "\n",
    "3. They can motivate others."
   ]
  },
  {
   "cell_type": "markdown",
   "id": "a91a1dff",
   "metadata": {},
   "source": [
    "## 6. 지식, 능력, 재능"
   ]
  },
  {
   "cell_type": "markdown",
   "id": "4684cec1",
   "metadata": {},
   "source": [
    "1. Everything is always chainging and There is a lot of competition.\n",
    "\n",
    "\n",
    "2. They face a lot of challenges and difficulties. **(템플릿 발음)**\n",
    "\n",
    "\n",
    "3. He is able to handle a varity of situation due to his creativity.  **(템플릿 발음)**\n",
    "\n",
    "\n",
    "4. They have a lot of experience / knowledge.\n",
    "\n",
    "\n",
    "$\\divideontimes$ They can give me some good advice."
   ]
  },
  {
   "cell_type": "markdown",
   "id": "12340448",
   "metadata": {},
   "source": [
    "## 7. 업무 환경 & 기업 성공"
   ]
  },
  {
   "cell_type": "markdown",
   "id": "fd0bbd05",
   "metadata": {},
   "source": [
    "1. Employees can work more efficiently and productively (if company offer a high salary)\n",
    "\n",
    "\n",
    "2. Employees can be more satisfied with their jobs.\n",
    "\n",
    "\n",
    "3. It can make a better work environment.\n",
    "\n",
    "\n",
    "4. Customers will feel satisfied  and remain loyal.(They will become regular customer.)\n",
    "\n",
    "\n",
    "5. It will attract more customers.\n",
    "\n",
    "\n",
    "6. The business will be more successful.\n",
    "\n",
    "\n",
    "7. people frequently use it so it will be very effective.\n",
    "\n",
    "\n",
    "8. It has great facilities.\n",
    "\n",
    "\n",
    "9. **It's a well-liked place so people love it.**\n",
    "\n",
    "\n",
    "$\\divideontimes$ It can develop healthy/unhealthy habits. (건강에 안좋은 음식 문제?)"
   ]
  },
  {
   "cell_type": "markdown",
   "id": "a19d61cf",
   "metadata": {},
   "source": [
    "## 8. 환경"
   ]
  },
  {
   "cell_type": "markdown",
   "id": "9ee4fb70",
   "metadata": {},
   "source": [
    "1. It's good for the enviorment.\n",
    "\n",
    "\n",
    "2. Pollution is a serious issue these days.(if ~, it can makes a cleaner environment)\n",
    "\n",
    "\n",
    "3. We will able to protect the environment."
   ]
  },
  {
   "cell_type": "markdown",
   "id": "bee1df42",
   "metadata": {},
   "source": [
    "## 9. 기타"
   ]
  },
  {
   "cell_type": "markdown",
   "id": "e02fd56f",
   "metadata": {},
   "source": [
    "1. They are too old/outdated so I think it's good to have new ones.\n",
    "\n",
    "\n",
    "2. If we have more stores here, it would be more convinient.\n",
    "\n",
    "\n",
    "3. It's very necessary for me. **(템플릿 발음)**\n",
    "\n",
    "\n",
    "4. It's popular item so people will love it.\n",
    "\n",
    "\n",
    "5. I like to try new things.\n",
    "\n",
    "\n",
    "6. It's a good gift **(템플릿 발음)**.\n",
    "\n",
    "\n",
    "7. it has sentimental value.\n",
    "\n",
    "\n",
    "8. It's part of my routine.\n",
    "\n",
    "\n",
    "9. It's my habit.\n",
    "\n",
    "\n",
    "10. I really liked it.\n",
    "\n",
    "\n",
    "11. It was great/awesome."
   ]
  },
  {
   "cell_type": "markdown",
   "id": "93a6ea20",
   "metadata": {},
   "source": [
    "***"
   ]
  },
  {
   "cell_type": "markdown",
   "id": "365780e2",
   "metadata": {},
   "source": [
    "# Part 2. 실전문제"
   ]
  },
  {
   "cell_type": "markdown",
   "id": "b6f76b21",
   "metadata": {},
   "source": [
    "* 나만의 공식 만들자...."
   ]
  },
  {
   "cell_type": "markdown",
   "id": "f85db338",
   "metadata": {},
   "source": [
    "# Part3. 실전문제"
   ]
  },
  {
   "cell_type": "markdown",
   "id": "befb21db",
   "metadata": {},
   "source": [
    "* 템플릿암기가 아직 미숙하다.... 자다가다 나올정도로 뱉어보자."
   ]
  },
  {
   "cell_type": "markdown",
   "id": "6a91b279",
   "metadata": {},
   "source": [
    "# Part 4. 실전문제"
   ]
  },
  {
   "cell_type": "markdown",
   "id": "e9b87171",
   "metadata": {},
   "source": [
    "* part 4 템플릿 암기, 질문 의문사 키워들 잘듣자..."
   ]
  },
  {
   "cell_type": "markdown",
   "id": "d00370a5",
   "metadata": {},
   "source": [
    "***"
   ]
  },
  {
   "cell_type": "markdown",
   "id": "72ef7c36",
   "metadata": {},
   "source": [
    "# Part 5. 실전문제"
   ]
  },
  {
   "cell_type": "markdown",
   "id": "10eb5cd4",
   "metadata": {},
   "source": [
    "* set 8 : 문제를 보고 답을 찾는 습관들이자.\n",
    "\n",
    "* set 10 : part4 만능문장도 한번 섞어보기\n",
    "\n",
    "* set 11 : 문제를 여전히 활용안한다...\n",
    "\n",
    "* set 15 : 다시다시!!\n",
    "\n",
    "* set 16 : 건강에 관한 만능문장을 이용하자...\n",
    "\n",
    "* set 18 : part 3!\n",
    "\n",
    "* set 30 : I dont have to waste time 문구 이용해서 풀어보기"
   ]
  },
  {
   "cell_type": "markdown",
   "id": "c5dd504d",
   "metadata": {},
   "source": [
    "# 결과"
   ]
  },
  {
   "cell_type": "markdown",
   "id": "05cf56dc",
   "metadata": {},
   "source": [
    "![](result.jpg)"
   ]
  }
 ],
 "metadata": {
  "kernelspec": {
   "display_name": "Python 3 (ipykernel)",
   "language": "python",
   "name": "python3"
  },
  "language_info": {
   "codemirror_mode": {
    "name": "ipython",
    "version": 3
   },
   "file_extension": ".py",
   "mimetype": "text/x-python",
   "name": "python",
   "nbconvert_exporter": "python",
   "pygments_lexer": "ipython3",
   "version": "3.9.13"
  },
  "toc": {
   "base_numbering": 1,
   "nav_menu": {},
   "number_sections": false,
   "sideBar": true,
   "skip_h1_title": false,
   "title_cell": "Table of Contents",
   "title_sidebar": "Contents",
   "toc_cell": false,
   "toc_position": {
    "height": "calc(100% - 180px)",
    "left": "10px",
    "top": "150px",
    "width": "174.545px"
   },
   "toc_section_display": true,
   "toc_window_display": true
  }
 },
 "nbformat": 4,
 "nbformat_minor": 5
}
