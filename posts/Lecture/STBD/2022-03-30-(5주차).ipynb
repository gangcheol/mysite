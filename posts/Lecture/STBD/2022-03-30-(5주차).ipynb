{
 "cells": [
  {
   "cell_type": "raw",
   "id": "63d4783f",
   "metadata": {
    "id": "e8809dfd-9f28-4be3-ba52-822d297d777a"
   },
   "source": [
    "---\n",
    "title : \"05. 경사하강법-2\"\n",
    "author : \"GANGCHEOL LEE\"\n",
    "date : \"03/30/22\"\n",
    "categories : [python] \n",
    "---"
   ]
  },
  {
   "cell_type": "markdown",
   "id": "ea093d98-e476-4de2-9ff5-7b98f7d621e2",
   "metadata": {
    "id": "ea093d98-e476-4de2-9ff5-7b98f7d621e2"
   },
   "source": [
    "### imports "
   ]
  },
  {
   "cell_type": "code",
   "execution_count": 1,
   "id": "5ae54fd7-4dfb-4879-b711-70ef051721e3",
   "metadata": {
    "colab": {
     "base_uri": "https://localhost:8080/"
    },
    "executionInfo": {
     "elapsed": 19,
     "status": "ok",
     "timestamp": 1649066933900,
     "user": {
      "displayName": "이강철",
      "userId": "13507850890638580947"
     },
     "user_tz": -540
    },
    "id": "5ae54fd7-4dfb-4879-b711-70ef051721e3",
    "outputId": "5ffd4608-c517-4a43-c8c5-1b760ec73190"
   },
   "outputs": [
    {
     "name": "stdout",
     "output_type": "stream",
     "text": [
      "/bin/bash: conda: command not found\n"
     ]
    }
   ],
   "source": [
    "#!conda install -c conda-forge python-graphviz -y"
   ]
  },
  {
   "cell_type": "code",
   "execution_count": 2,
   "id": "4ec7ad60-84d4-4b61-88d0-5f83872be0be",
   "metadata": {
    "executionInfo": {
     "elapsed": 4299,
     "status": "ok",
     "timestamp": 1649066945780,
     "user": {
      "displayName": "이강철",
      "userId": "13507850890638580947"
     },
     "user_tz": -540
    },
    "id": "4ec7ad60-84d4-4b61-88d0-5f83872be0be"
   },
   "outputs": [],
   "source": [
    "import tensorflow as tf \n",
    "import numpy as np\n",
    "import matplotlib.pyplot as plt "
   ]
  },
  {
   "cell_type": "code",
   "execution_count": 3,
   "id": "9691fb34-384f-4317-9437-998e8219cf8a",
   "metadata": {
    "executionInfo": {
     "elapsed": 307,
     "status": "ok",
     "timestamp": 1649066962484,
     "user": {
      "displayName": "이강철",
      "userId": "13507850890638580947"
     },
     "user_tz": -540
    },
    "id": "9691fb34-384f-4317-9437-998e8219cf8a"
   },
   "outputs": [],
   "source": [
    "import tensorflow.experimental.numpy as tnp "
   ]
  },
  {
   "cell_type": "code",
   "execution_count": 4,
   "id": "2b368af7-2aac-4028-97e2-a83e7196c7dd",
   "metadata": {
    "executionInfo": {
     "elapsed": 3,
     "status": "ok",
     "timestamp": 1649066962756,
     "user": {
      "displayName": "이강철",
      "userId": "13507850890638580947"
     },
     "user_tz": -540
    },
    "id": "2b368af7-2aac-4028-97e2-a83e7196c7dd"
   },
   "outputs": [],
   "source": [
    "tnp.experimental_enable_numpy_behavior() "
   ]
  },
  {
   "cell_type": "markdown",
   "id": "3f4677a4-dba0-4274-96b5-a51a892026c9",
   "metadata": {
    "id": "3f4677a4-dba0-4274-96b5-a51a892026c9",
    "tags": []
   },
   "source": [
    "### 최적화의 문제 "
   ]
  },
  {
   "cell_type": "markdown",
   "id": "bc860b47-d266-4cbc-b7da-8a00d565f1d9",
   "metadata": {
    "id": "bc860b47-d266-4cbc-b7da-8a00d565f1d9"
   },
   "source": [
    "`-` $loss=(\\frac{1}{2}\\beta-1)^2$ "
   ]
  },
  {
   "cell_type": "markdown",
   "id": "320ac0cd-9a4d-4e31-a206-2d93581cacbb",
   "metadata": {
    "id": "320ac0cd-9a4d-4e31-a206-2d93581cacbb"
   },
   "source": [
    "`-` 기존에 했던 방법은 수식을 알고 있어야 한다는 단점이 있음 "
   ]
  },
  {
   "cell_type": "markdown",
   "id": "yl59L9GFDRZA",
   "metadata": {
    "id": "yl59L9GFDRZA"
   },
   "source": [
    "`-` 그래서 확률적 경사하강법을 이용해서 최적해를 찾는 과제를 수행하였음 "
   ]
  },
  {
   "cell_type": "markdown",
   "id": "A8JxNuiRDwO8",
   "metadata": {
    "id": "A8JxNuiRDwO8"
   },
   "source": [
    "`-` 그러나 다양한 `loss` 함수에서 위와 같이 간단히 최적해를 찾는 것은 매우 어려움 $\\to$ 대부분의 함수는 비모수적이기 때문이다!!"
   ]
  },
  {
   "cell_type": "markdown",
   "id": "1TOmsaomD_7f",
   "metadata": {
    "id": "1TOmsaomD_7f"
   },
   "source": [
    "`-` 그래서 오늘은 그것을 쉽게 해주는 `tf.keras.optimizers`를 사용해서 최적해를 찾을 거얌"
   ]
  },
  {
   "cell_type": "markdown",
   "id": "0acf255d-c030-4c91-b9e1-1cf62a09fb65",
   "metadata": {
    "id": "0acf255d-c030-4c91-b9e1-1cf62a09fb65"
   },
   "source": [
    "### tf.keras.optimizers를 이용한 최적화방법 "
   ]
  },
  {
   "cell_type": "markdown",
   "id": "YzThkzu-GaJ8",
   "metadata": {
    "id": "YzThkzu-GaJ8"
   },
   "source": [
    "#### 방법1: opt.apply_gradients()를 이용 "
   ]
  },
  {
   "cell_type": "markdown",
   "id": "Bx49C0rcFTRv",
   "metadata": {
    "id": "Bx49C0rcFTRv"
   },
   "source": [
    "* 이전까지의 방법"
   ]
  },
  {
   "cell_type": "code",
   "execution_count": 29,
   "id": "huK8jBaVErne",
   "metadata": {
    "executionInfo": {
     "elapsed": 287,
     "status": "ok",
     "timestamp": 1649067884773,
     "user": {
      "displayName": "이강철",
      "userId": "13507850890638580947"
     },
     "user_tz": -540
    },
    "id": "huK8jBaVErne"
   },
   "outputs": [],
   "source": [
    "beta = tf.Variable(-10.0)\n",
    "alpha = 0.01/6"
   ]
  },
  {
   "cell_type": "code",
   "execution_count": 30,
   "id": "Tq0muZcnExBN",
   "metadata": {
    "executionInfo": {
     "elapsed": 2,
     "status": "ok",
     "timestamp": 1649067884774,
     "user": {
      "displayName": "이강철",
      "userId": "13507850890638580947"
     },
     "user_tz": -540
    },
    "id": "Tq0muZcnExBN"
   },
   "outputs": [],
   "source": [
    "with tf.GradientTape() as tape :\n",
    "    tape.watch(beta)\n",
    "    loss = (beta/2-1)**2\n",
    "slope = tape.gradient(loss,beta)"
   ]
  },
  {
   "cell_type": "code",
   "execution_count": 31,
   "id": "SB6OJs27FGqq",
   "metadata": {
    "colab": {
     "base_uri": "https://localhost:8080/"
    },
    "executionInfo": {
     "elapsed": 475,
     "status": "ok",
     "timestamp": 1649067885609,
     "user": {
      "displayName": "이강철",
      "userId": "13507850890638580947"
     },
     "user_tz": -540
    },
    "id": "SB6OJs27FGqq",
    "outputId": "e4714c9a-e88f-4b22-f0ac-71c13e2b6b2e"
   },
   "outputs": [
    {
     "data": {
      "text/plain": [
       "<tf.Variable 'UnreadVariable' shape=() dtype=float32, numpy=-9.99>"
      ]
     },
     "execution_count": 31,
     "metadata": {},
     "output_type": "execute_result"
    }
   ],
   "source": [
    "beta.assign_sub(slope*alpha)"
   ]
  },
  {
   "cell_type": "markdown",
   "id": "I6IE8h-vFaHy",
   "metadata": {
    "id": "I6IE8h-vFaHy"
   },
   "source": [
    "* 이전 방법 + 새로운 방법 ( - `beta.assign_sub(slope*alpha)`)"
   ]
  },
  {
   "cell_type": "code",
   "execution_count": 32,
   "id": "s5MDzyZQFbW7",
   "metadata": {
    "executionInfo": {
     "elapsed": 2,
     "status": "ok",
     "timestamp": 1649067886320,
     "user": {
      "displayName": "이강철",
      "userId": "13507850890638580947"
     },
     "user_tz": -540
    },
    "id": "s5MDzyZQFbW7"
   },
   "outputs": [],
   "source": [
    "opt = tf.keras.optimizers.SGD(alpha)"
   ]
  },
  {
   "cell_type": "markdown",
   "id": "XBLsVouJFl7e",
   "metadata": {
    "id": "XBLsVouJFl7e"
   },
   "source": [
    "* `opt.apply_gradients()` : 베타 값과 slope의 값을 받아 최적해를 구해준다."
   ]
  },
  {
   "cell_type": "markdown",
   "id": "2Q3c98QnF_dT",
   "metadata": {
    "id": "2Q3c98QnF_dT"
   },
   "source": [
    "*  즉, 위식을 통해 수식을 몰라도 최적해를 구할 수 있다."
   ]
  },
  {
   "cell_type": "markdown",
   "id": "F8tZu4HTGchq",
   "metadata": {
    "id": "F8tZu4HTGchq"
   },
   "source": [
    "* 아래 과정은 한번에 `iteration` 임"
   ]
  },
  {
   "cell_type": "code",
   "execution_count": 33,
   "id": "SWfDhFIMFfqs",
   "metadata": {
    "colab": {
     "base_uri": "https://localhost:8080/"
    },
    "executionInfo": {
     "elapsed": 3,
     "status": "ok",
     "timestamp": 1649067887643,
     "user": {
      "displayName": "이강철",
      "userId": "13507850890638580947"
     },
     "user_tz": -540
    },
    "id": "SWfDhFIMFfqs",
    "outputId": "092f528f-3b90-4e82-d964-7565133c6a27"
   },
   "outputs": [
    {
     "data": {
      "text/plain": [
       "<tf.Variable 'UnreadVariable' shape=() dtype=int64, numpy=1>"
      ]
     },
     "execution_count": 33,
     "metadata": {},
     "output_type": "execute_result"
    }
   ],
   "source": [
    "opt.apply_gradients([(slope,beta)]) # beta.assign_sub(slope*alpha)"
   ]
  },
  {
   "cell_type": "code",
   "execution_count": 34,
   "id": "h6mePl_vGvQk",
   "metadata": {
    "colab": {
     "base_uri": "https://localhost:8080/"
    },
    "executionInfo": {
     "elapsed": 3,
     "status": "ok",
     "timestamp": 1649067888686,
     "user": {
      "displayName": "이강철",
      "userId": "13507850890638580947"
     },
     "user_tz": -540
    },
    "id": "h6mePl_vGvQk",
    "outputId": "42f89176-0981-4d72-a4f6-6ffd6814c7e3"
   },
   "outputs": [
    {
     "data": {
      "text/plain": [
       "<tf.Variable 'Variable:0' shape=() dtype=float32, numpy=-9.98>"
      ]
     },
     "execution_count": 34,
     "metadata": {},
     "output_type": "execute_result"
    }
   ],
   "source": [
    "beta"
   ]
  },
  {
   "cell_type": "markdown",
   "id": "hzREu7UEGi5P",
   "metadata": {
    "id": "hzREu7UEGi5P"
   },
   "source": [
    "* iteration 2"
   ]
  },
  {
   "cell_type": "code",
   "execution_count": 35,
   "id": "J-voSNqwGpE3",
   "metadata": {
    "executionInfo": {
     "elapsed": 256,
     "status": "ok",
     "timestamp": 1649067890555,
     "user": {
      "displayName": "이강철",
      "userId": "13507850890638580947"
     },
     "user_tz": -540
    },
    "id": "J-voSNqwGpE3"
   },
   "outputs": [],
   "source": [
    "with tf.GradientTape() as tape :\n",
    "    tape.watch(beta)\n",
    "    loss = (beta/2-1)**2\n",
    "slope = tape.gradient(loss,beta)"
   ]
  },
  {
   "cell_type": "code",
   "execution_count": 36,
   "id": "6YEE65BgF-e1",
   "metadata": {
    "colab": {
     "base_uri": "https://localhost:8080/"
    },
    "executionInfo": {
     "elapsed": 3,
     "status": "ok",
     "timestamp": 1649067891809,
     "user": {
      "displayName": "이강철",
      "userId": "13507850890638580947"
     },
     "user_tz": -540
    },
    "id": "6YEE65BgF-e1",
    "outputId": "c2f54c09-f192-49ab-8304-fa0fc5143798"
   },
   "outputs": [
    {
     "data": {
      "text/plain": [
       "<tf.Variable 'UnreadVariable' shape=() dtype=int64, numpy=2>"
      ]
     },
     "execution_count": 36,
     "metadata": {},
     "output_type": "execute_result"
    }
   ],
   "source": [
    "opt.apply_gradients([(slope,beta)]) # beta.assign_sub(slope*alpha)"
   ]
  },
  {
   "cell_type": "code",
   "execution_count": 37,
   "id": "4RV5sDUmFzzD",
   "metadata": {
    "colab": {
     "base_uri": "https://localhost:8080/"
    },
    "executionInfo": {
     "elapsed": 404,
     "status": "ok",
     "timestamp": 1649067893255,
     "user": {
      "displayName": "이강철",
      "userId": "13507850890638580947"
     },
     "user_tz": -540
    },
    "id": "4RV5sDUmFzzD",
    "outputId": "cd743328-0f8c-4b19-9e8e-d5cd4fa9d3ba"
   },
   "outputs": [
    {
     "data": {
      "text/plain": [
       "<tf.Variable 'Variable:0' shape=() dtype=float32, numpy=-9.9700165>"
      ]
     },
     "execution_count": 37,
     "metadata": {},
     "output_type": "execute_result"
    }
   ],
   "source": [
    "beta"
   ]
  },
  {
   "cell_type": "markdown",
   "id": "KSZq01LzGzEb",
   "metadata": {
    "id": "KSZq01LzGzEb"
   },
   "source": [
    "* `interation 1`과 `interation 2` 의 결과가 달라진 것을 확인하였다."
   ]
  },
  {
   "cell_type": "markdown",
   "id": "w19dbcCjG5na",
   "metadata": {
    "id": "w19dbcCjG5na"
   },
   "source": [
    "* `for` 문을 이용한다면?"
   ]
  },
  {
   "cell_type": "code",
   "execution_count": 40,
   "id": "6zkf7f0mG8s6",
   "metadata": {
    "executionInfo": {
     "elapsed": 259,
     "status": "ok",
     "timestamp": 1649068072362,
     "user": {
      "displayName": "이강철",
      "userId": "13507850890638580947"
     },
     "user_tz": -540
    },
    "id": "6zkf7f0mG8s6"
   },
   "outputs": [],
   "source": [
    "alpha = 0.01/6\n",
    "beta =  tf.Variable(-10.0)\n",
    "opt = tf.keras.optimizers.SGD(alpha)"
   ]
  },
  {
   "cell_type": "code",
   "execution_count": 41,
   "id": "6KU_UXkwHGZ3",
   "metadata": {
    "executionInfo": {
     "elapsed": 19581,
     "status": "ok",
     "timestamp": 1649068094229,
     "user": {
      "displayName": "이강철",
      "userId": "13507850890638580947"
     },
     "user_tz": -540
    },
    "id": "6KU_UXkwHGZ3"
   },
   "outputs": [],
   "source": [
    "for epoc in range(10000) :\n",
    "  with tf.GradientTape() as tape :\n",
    "    tape.watch(beta)\n",
    "    loss = (beta/2-1)**2\n",
    "  slope = tape.gradient(loss,beta)\n",
    "  opt.apply_gradients([(slope,beta)])"
   ]
  },
  {
   "cell_type": "code",
   "execution_count": 42,
   "id": "ac9FbdsFHj9j",
   "metadata": {
    "colab": {
     "base_uri": "https://localhost:8080/"
    },
    "executionInfo": {
     "elapsed": 3,
     "status": "ok",
     "timestamp": 1649068099642,
     "user": {
      "displayName": "이강철",
      "userId": "13507850890638580947"
     },
     "user_tz": -540
    },
    "id": "ac9FbdsFHj9j",
    "outputId": "fd4a653e-62fc-4078-da60-d108b03cd1c4"
   },
   "outputs": [
    {
     "data": {
      "text/plain": [
       "<tf.Variable 'Variable:0' shape=() dtype=float32, numpy=1.9971251>"
      ]
     },
     "execution_count": 42,
     "metadata": {},
     "output_type": "execute_result"
    }
   ],
   "source": [
    "beta"
   ]
  },
  {
   "cell_type": "markdown",
   "id": "sdsXPv6DHl0V",
   "metadata": {
    "id": "sdsXPv6DHl0V"
   },
   "source": [
    "* 잠깐, 주소가 같지만 문법이 다름 근데 걍 그런갑다 하자 "
   ]
  },
  {
   "cell_type": "code",
   "execution_count": 43,
   "id": "CzyT9YTeHlq1",
   "metadata": {
    "colab": {
     "base_uri": "https://localhost:8080/"
    },
    "executionInfo": {
     "elapsed": 4,
     "status": "ok",
     "timestamp": 1649068124855,
     "user": {
      "displayName": "이강철",
      "userId": "13507850890638580947"
     },
     "user_tz": -540
    },
    "id": "CzyT9YTeHlq1",
    "outputId": "5d52bf67-07ea-4366-c894-25b7360c1b06"
   },
   "outputs": [
    {
     "data": {
      "text/plain": [
       "(<tf.Variable 'SGD/learning_rate:0' shape=() dtype=float32, numpy=0.0016666667>,\n",
       " <tf.Variable 'SGD/learning_rate:0' shape=() dtype=float32, numpy=0.0016666667>)"
      ]
     },
     "execution_count": 43,
     "metadata": {},
     "output_type": "execute_result"
    }
   ],
   "source": [
    "opt.learning_rate, opt.lr"
   ]
  },
  {
   "cell_type": "code",
   "execution_count": 44,
   "id": "BrZEsHD3HraL",
   "metadata": {
    "colab": {
     "base_uri": "https://localhost:8080/"
    },
    "executionInfo": {
     "elapsed": 5,
     "status": "ok",
     "timestamp": 1649068147778,
     "user": {
      "displayName": "이강철",
      "userId": "13507850890638580947"
     },
     "user_tz": -540
    },
    "id": "BrZEsHD3HraL",
    "outputId": "7263fc0c-e4e4-4d9c-f63b-2d2f52bacc69"
   },
   "outputs": [
    {
     "data": {
      "text/plain": [
       "(139921818271120, 139921818271120)"
      ]
     },
     "execution_count": 44,
     "metadata": {},
     "output_type": "execute_result"
    }
   ],
   "source": [
    "id(opt.learning_rate), id( opt.lr)"
   ]
  },
  {
   "cell_type": "markdown",
   "id": "779dcb12-af26-47b3-a168-e3c87714106b",
   "metadata": {
    "id": "779dcb12-af26-47b3-a168-e3c87714106b"
   },
   "source": [
    "#### 방법2: opt.minimize()"
   ]
  },
  {
   "cell_type": "markdown",
   "id": "Qowm9AHoJQtD",
   "metadata": {
    "id": "Qowm9AHoJQtD"
   },
   "source": [
    "* 이 함수를 이용하면 `gradienttape`를 안써도 된다. 핳"
   ]
  },
  {
   "cell_type": "code",
   "execution_count": 45,
   "id": "4dOQj67RJOGR",
   "metadata": {
    "executionInfo": {
     "elapsed": 268,
     "status": "ok",
     "timestamp": 1649068590820,
     "user": {
      "displayName": "이강철",
      "userId": "13507850890638580947"
     },
     "user_tz": -540
    },
    "id": "4dOQj67RJOGR"
   },
   "outputs": [],
   "source": [
    "alpha = 0.01/6\n",
    "beta =  tf.Variable(-10.0)\n",
    "opt = tf.keras.optimizers.SGD(alpha)"
   ]
  },
  {
   "cell_type": "markdown",
   "id": "mzAMbAiiJPm_",
   "metadata": {
    "id": "mzAMbAiiJPm_"
   },
   "source": [
    "##### loss 함수 정의 "
   ]
  },
  {
   "cell_type": "markdown",
   "id": "ybhkjJgsJ-FV",
   "metadata": {
    "id": "ybhkjJgsJ-FV"
   },
   "source": [
    "$$\\left(\\frac 12\\beta-1\\right)^2$$"
   ]
  },
  {
   "cell_type": "code",
   "execution_count": 50,
   "id": "nDa1q3xtJr0z",
   "metadata": {
    "executionInfo": {
     "elapsed": 325,
     "status": "ok",
     "timestamp": 1649069029834,
     "user": {
      "displayName": "이강철",
      "userId": "13507850890638580947"
     },
     "user_tz": -540
    },
    "id": "nDa1q3xtJr0z"
   },
   "outputs": [],
   "source": [
    "loss_fn = lambda: (beta/2-1)**2 "
   ]
  },
  {
   "cell_type": "markdown",
   "id": "KtRDsmL5K0rm",
   "metadata": {
    "id": "KtRDsmL5K0rm"
   },
   "source": [
    "`-` iter 1"
   ]
  },
  {
   "cell_type": "code",
   "execution_count": 51,
   "id": "SQj2sKAmJQMh",
   "metadata": {
    "colab": {
     "base_uri": "https://localhost:8080/"
    },
    "executionInfo": {
     "elapsed": 295,
     "status": "ok",
     "timestamp": 1649069031277,
     "user": {
      "displayName": "이강철",
      "userId": "13507850890638580947"
     },
     "user_tz": -540
    },
    "id": "SQj2sKAmJQMh",
    "outputId": "02a7d238-f461-4829-fc40-85ce4c81e856"
   },
   "outputs": [
    {
     "data": {
      "text/plain": [
       "<tf.Variable 'UnreadVariable' shape=() dtype=int64, numpy=1>"
      ]
     },
     "execution_count": 51,
     "metadata": {},
     "output_type": "execute_result"
    }
   ],
   "source": [
    "opt.minimize(loss_fn,beta)"
   ]
  },
  {
   "cell_type": "code",
   "execution_count": 52,
   "id": "o5uNghMXLK1k",
   "metadata": {
    "colab": {
     "base_uri": "https://localhost:8080/"
    },
    "executionInfo": {
     "elapsed": 292,
     "status": "ok",
     "timestamp": 1649069045642,
     "user": {
      "displayName": "이강철",
      "userId": "13507850890638580947"
     },
     "user_tz": -540
    },
    "id": "o5uNghMXLK1k",
    "outputId": "1fe822b0-56f7-4a78-9733-854d37bae87f"
   },
   "outputs": [
    {
     "data": {
      "text/plain": [
       "<tf.Variable 'Variable:0' shape=() dtype=float32, numpy=-9.99>"
      ]
     },
     "execution_count": 52,
     "metadata": {},
     "output_type": "execute_result"
    }
   ],
   "source": [
    "beta"
   ]
  },
  {
   "cell_type": "markdown",
   "id": "bwbKvIcxLMqV",
   "metadata": {
    "id": "bwbKvIcxLMqV"
   },
   "source": [
    "`-` for"
   ]
  },
  {
   "cell_type": "code",
   "execution_count": 53,
   "id": "2oBfzaU8LPOV",
   "metadata": {
    "colab": {
     "base_uri": "https://localhost:8080/"
    },
    "executionInfo": {
     "elapsed": 20050,
     "status": "ok",
     "timestamp": 1649069121512,
     "user": {
      "displayName": "이강철",
      "userId": "13507850890638580947"
     },
     "user_tz": -540
    },
    "id": "2oBfzaU8LPOV",
    "outputId": "d1f44761-b30a-4c1f-869e-79e8163a61ed"
   },
   "outputs": [
    {
     "data": {
      "text/plain": [
       "<tf.Variable 'Variable:0' shape=() dtype=float32, numpy=1.9971251>"
      ]
     },
     "execution_count": 53,
     "metadata": {},
     "output_type": "execute_result"
    }
   ],
   "source": [
    "alpha = 0.01/6\n",
    "beta =  tf.Variable(-10.0)\n",
    "opt = tf.keras.optimizers.SGD(alpha)\n",
    "loss_fn = lambda: (beta/2-1)**2 \n",
    "for epoc in range(10000) :\n",
    "    opt.minimize(loss_fn,beta)\n",
    "beta"
   ]
  },
  {
   "cell_type": "code",
   "execution_count": 54,
   "id": "AHkLHcR0LbAD",
   "metadata": {
    "colab": {
     "base_uri": "https://localhost:8080/"
    },
    "executionInfo": {
     "elapsed": 273,
     "status": "ok",
     "timestamp": 1649069168647,
     "user": {
      "displayName": "이강철",
      "userId": "13507850890638580947"
     },
     "user_tz": -540
    },
    "id": "AHkLHcR0LbAD",
    "outputId": "696c0965-f817-47d1-ab2f-6d70a544e86a"
   },
   "outputs": [
    {
     "data": {
      "text/plain": [
       "<tf.Variable 'Variable:0' shape=() dtype=float32, numpy=1.9971251>"
      ]
     },
     "execution_count": 54,
     "metadata": {},
     "output_type": "execute_result"
    }
   ],
   "source": [
    "beta"
   ]
  },
  {
   "cell_type": "markdown",
   "id": "c72c9a7d-e1d7-472b-84c4-e2135b74e7e9",
   "metadata": {
    "id": "c72c9a7d-e1d7-472b-84c4-e2135b74e7e9",
    "tags": []
   },
   "source": [
    "### 회귀분석 문제"
   ]
  },
  {
   "cell_type": "markdown",
   "id": "c4bd3fe9-092a-4c8a-a4d0-b9abcfb4de6d",
   "metadata": {
    "id": "c4bd3fe9-092a-4c8a-a4d0-b9abcfb4de6d"
   },
   "source": [
    "`-` ${\\bf y} \\approx 2.5 + 4 {\\bf x}$"
   ]
  },
  {
   "cell_type": "code",
   "execution_count": 73,
   "id": "2c80d44c-7e99-4bb4-92ff-382b29999470",
   "metadata": {
    "executionInfo": {
     "elapsed": 255,
     "status": "ok",
     "timestamp": 1649069455911,
     "user": {
      "displayName": "이강철",
      "userId": "13507850890638580947"
     },
     "user_tz": -540
    },
    "id": "2c80d44c-7e99-4bb4-92ff-382b29999470"
   },
   "outputs": [],
   "source": [
    "tnp.random.seed(43052)\n",
    "N = 200\n",
    "x = tnp.linspace(0,1,N) \n",
    "epsilon = tnp.random.randn(N)*0.5\n",
    "y = 2.5 + 4*x + epsilon\n",
    "y_hat = 2.5 + 4*x"
   ]
  },
  {
   "cell_type": "code",
   "execution_count": 74,
   "id": "af3a1e90-9370-4705-9be7-f321f7c2f856",
   "metadata": {
    "colab": {
     "base_uri": "https://localhost:8080/",
     "height": 283
    },
    "executionInfo": {
     "elapsed": 314,
     "status": "ok",
     "timestamp": 1649069457432,
     "user": {
      "displayName": "이강철",
      "userId": "13507850890638580947"
     },
     "user_tz": -540
    },
    "id": "af3a1e90-9370-4705-9be7-f321f7c2f856",
    "outputId": "dde389f6-348a-49fb-dc17-acdaca26ba41"
   },
   "outputs": [
    {
     "data": {
      "text/plain": [
       "[<matplotlib.lines.Line2D at 0x7f4215a0cd10>]"
      ]
     },
     "execution_count": 74,
     "metadata": {},
     "output_type": "execute_result"
    },
    {
     "data": {
      "image/png": "[encoded data removed]",
      "text/plain": [
       "<Figure size 432x288 with 1 Axes>"
      ]
     },
     "metadata": {
      "needs_background": "light"
     },
     "output_type": "display_data"
    }
   ],
   "source": [
    "plt.plot(x,y,'.')\n",
    "plt.plot(x,y_hat,'r--')"
   ]
  },
  {
   "cell_type": "markdown",
   "id": "8031b7f3-8460-4804-8806-3615e0ce7ce4",
   "metadata": {
    "id": "8031b7f3-8460-4804-8806-3615e0ce7ce4"
   },
   "source": [
    "### 이론적 풀이"
   ]
  },
  {
   "cell_type": "markdown",
   "id": "726a27e8-8ccb-4432-a826-6848a682e4d6",
   "metadata": {
    "id": "726a27e8-8ccb-4432-a826-6848a682e4d6"
   },
   "source": [
    "#### 풀이1: 스칼라버전"
   ]
  },
  {
   "cell_type": "markdown",
   "id": "b5886ec9-ce8e-41b7-a6d2-7a4a1d4ddd96",
   "metadata": {
    "id": "b5886ec9-ce8e-41b7-a6d2-7a4a1d4ddd96"
   },
   "source": [
    "`-` 포인트 \n",
    "- $S_{xx}=\\sum (x-\\bar x)^2$,$\\quad S_{xy}=\\sum (x-\\bar x)(y- \\bar y)$\n",
    "- $\\hat{\\beta}_0=\\bar y - \\hat{ \\beta_1} \\bar x$$,\\quad \\hat{\\beta}_1= \\frac {S_{xy}}{S_{xx}} $"
   ]
  },
  {
   "cell_type": "code",
   "execution_count": 75,
   "id": "iB1Hj-KCM8Hw",
   "metadata": {
    "executionInfo": {
     "elapsed": 641,
     "status": "ok",
     "timestamp": 1649069520518,
     "user": {
      "displayName": "이강철",
      "userId": "13507850890638580947"
     },
     "user_tz": -540
    },
    "id": "iB1Hj-KCM8Hw"
   },
   "outputs": [],
   "source": [
    "Sxx = sum((x-x.mean())**2) \n",
    "Sxy = sum((x-x.mean())*(y-y.mean())) "
   ]
  },
  {
   "cell_type": "code",
   "execution_count": 76,
   "id": "SpHgM8cFNs9_",
   "metadata": {
    "executionInfo": {
     "elapsed": 285,
     "status": "ok",
     "timestamp": 1649069708950,
     "user": {
      "displayName": "이강철",
      "userId": "13507850890638580947"
     },
     "user_tz": -540
    },
    "id": "SpHgM8cFNs9_"
   },
   "outputs": [],
   "source": [
    "beta1_hat = Sxy/Sxx \n",
    "beta0_hat = y.mean() - beta1_hat*x.mean()"
   ]
  },
  {
   "cell_type": "code",
   "execution_count": 77,
   "id": "WRG0TRKzNt7p",
   "metadata": {
    "colab": {
     "base_uri": "https://localhost:8080/"
    },
    "executionInfo": {
     "elapsed": 258,
     "status": "ok",
     "timestamp": 1649069712553,
     "user": {
      "displayName": "이강철",
      "userId": "13507850890638580947"
     },
     "user_tz": -540
    },
    "id": "WRG0TRKzNt7p",
    "outputId": "5e91655e-1616-4e45-a02a-18920dc62923"
   },
   "outputs": [
    {
     "data": {
      "text/plain": [
       "(<tf.Tensor: shape=(), dtype=float64, numpy=2.583667211565867>,\n",
       " <tf.Tensor: shape=(), dtype=float64, numpy=3.933034516733169>)"
      ]
     },
     "execution_count": 77,
     "metadata": {},
     "output_type": "execute_result"
    }
   ],
   "source": [
    "beta0_hat,beta1_hat"
   ]
  },
  {
   "cell_type": "markdown",
   "id": "15c2e0df-79cf-47bc-88fc-01511aede78f",
   "metadata": {
    "id": "15c2e0df-79cf-47bc-88fc-01511aede78f"
   },
   "source": [
    "#### 풀이2: 벡터버전"
   ]
  },
  {
   "cell_type": "code",
   "execution_count": 78,
   "id": "ewv6J0gWNw2I",
   "metadata": {
    "executionInfo": {
     "elapsed": 405,
     "status": "ok",
     "timestamp": 1649069725020,
     "user": {
      "displayName": "이강철",
      "userId": "13507850890638580947"
     },
     "user_tz": -540
    },
    "id": "ewv6J0gWNw2I"
   },
   "outputs": [],
   "source": [
    "X=tf.stack([tf.ones(N,dtype='float64'),x],axis=1)\n",
    "y=y.reshape(N,1) "
   ]
  },
  {
   "cell_type": "code",
   "execution_count": 79,
   "id": "PogoBSg5Nx-B",
   "metadata": {
    "colab": {
     "base_uri": "https://localhost:8080/"
    },
    "executionInfo": {
     "elapsed": 284,
     "status": "ok",
     "timestamp": 1649069730297,
     "user": {
      "displayName": "이강철",
      "userId": "13507850890638580947"
     },
     "user_tz": -540
    },
    "id": "PogoBSg5Nx-B",
    "outputId": "718b50bf-f16c-443f-b826-3273d1447b56"
   },
   "outputs": [
    {
     "data": {
      "text/plain": [
       "(TensorShape([200, 2]), TensorShape([200, 1]))"
      ]
     },
     "execution_count": 79,
     "metadata": {},
     "output_type": "execute_result"
    }
   ],
   "source": [
    "X.shape,y.shape"
   ]
  },
  {
   "cell_type": "markdown",
   "id": "IcEnk4MON2B7",
   "metadata": {
    "id": "IcEnk4MON2B7"
   },
   "source": [
    "* $\\hat \\beta  = (X^{T}X)^{-1} X^{T} y$"
   ]
  },
  {
   "cell_type": "code",
   "execution_count": 80,
   "id": "TwZ5E6h9NzAK",
   "metadata": {
    "colab": {
     "base_uri": "https://localhost:8080/"
    },
    "executionInfo": {
     "elapsed": 278,
     "status": "ok",
     "timestamp": 1649069736231,
     "user": {
      "displayName": "이강철",
      "userId": "13507850890638580947"
     },
     "user_tz": -540
    },
    "id": "TwZ5E6h9NzAK",
    "outputId": "7e28aeec-0f81-47d5-993d-6f3f9cedcb90"
   },
   "outputs": [
    {
     "data": {
      "text/plain": [
       "<tf.Tensor: shape=(2, 1), dtype=float64, numpy=\n",
       "array([[2.58366721],\n",
       "       [3.93303452]])>"
      ]
     },
     "execution_count": 80,
     "metadata": {},
     "output_type": "execute_result"
    }
   ],
   "source": [
    "tf.linalg.inv(X.T@X)@ X.T @y "
   ]
  },
  {
   "cell_type": "markdown",
   "id": "0e3bc322-477e-4b86-b8f4-57c5b522f3ab",
   "metadata": {
    "id": "0e3bc322-477e-4b86-b8f4-57c5b522f3ab"
   },
   "source": [
    "#### 풀이3: 벡터버전, 손실함수의 도함수이용 (경사하강법을 이용한 풀이)"
   ]
  },
  {
   "cell_type": "markdown",
   "id": "VfRgIvtVPC9e",
   "metadata": {
    "id": "VfRgIvtVPC9e"
   },
   "source": [
    "(단, 텐서플로우의 미분기능을 사용하지 않음 ) $\\to$  `gradienttape` X"
   ]
  },
  {
   "cell_type": "code",
   "execution_count": 82,
   "id": "L8fE2Q1DOo51",
   "metadata": {
    "colab": {
     "base_uri": "https://localhost:8080/"
    },
    "executionInfo": {
     "elapsed": 286,
     "status": "ok",
     "timestamp": 1649069972120,
     "user": {
      "displayName": "이강철",
      "userId": "13507850890638580947"
     },
     "user_tz": -540
    },
    "id": "L8fE2Q1DOo51",
    "outputId": "dfccd994-d164-42d1-aeb9-1e6ed2eb0e5f"
   },
   "outputs": [
    {
     "data": {
      "text/plain": [
       "(TensorShape([200, 2]), TensorShape([200, 1]))"
      ]
     },
     "execution_count": 82,
     "metadata": {},
     "output_type": "execute_result"
    }
   ],
   "source": [
    "X=tf.stack([tf.ones(N,dtype='float64'),x],axis=1)\n",
    "y=y.reshape(N,1) \n",
    "X.shape,y.shape"
   ]
  },
  {
   "cell_type": "markdown",
   "id": "UDcySDwTOu_e",
   "metadata": {
    "id": "UDcySDwTOu_e"
   },
   "source": [
    "`-` 초기값 설정"
   ]
  },
  {
   "cell_type": "code",
   "execution_count": 83,
   "id": "KLTWmG3NOyPb",
   "metadata": {
    "executionInfo": {
     "elapsed": 269,
     "status": "ok",
     "timestamp": 1649070013751,
     "user": {
      "displayName": "이강철",
      "userId": "13507850890638580947"
     },
     "user_tz": -540
    },
    "id": "KLTWmG3NOyPb"
   },
   "outputs": [],
   "source": [
    "beta_hat = tnp.array([-5.0,10.0]).reshape(2,1)"
   ]
  },
  {
   "cell_type": "markdown",
   "id": "NoQtWxHYPIrA",
   "metadata": {
    "id": "NoQtWxHYPIrA"
   },
   "source": [
    "`-` 포인트\n",
    "- $loss'(\\beta)=-2X'y +2X'X\\beta$\n",
    "- $\\beta_{new} = \\beta_{old} - \\alpha \\times loss'(\\beta_{old})$"
   ]
  },
  {
   "cell_type": "code",
   "execution_count": 89,
   "id": "YZbJd5oWO5Oq",
   "metadata": {
    "executionInfo": {
     "elapsed": 268,
     "status": "ok",
     "timestamp": 1649070188642,
     "user": {
      "displayName": "이강철",
      "userId": "13507850890638580947"
     },
     "user_tz": -540
    },
    "id": "YZbJd5oWO5Oq"
   },
   "outputs": [],
   "source": [
    "slope = -2*X.T@y + 2*X.T@X@beta_hat"
   ]
  },
  {
   "cell_type": "code",
   "execution_count": 90,
   "id": "h4wKvgzbO8Yc",
   "metadata": {
    "colab": {
     "base_uri": "https://localhost:8080/"
    },
    "executionInfo": {
     "elapsed": 3,
     "status": "ok",
     "timestamp": 1649070189562,
     "user": {
      "displayName": "이강철",
      "userId": "13507850890638580947"
     },
     "user_tz": -540
    },
    "id": "h4wKvgzbO8Yc",
    "outputId": "d3e1b681-0c39-4026-f47f-396ba433ab98"
   },
   "outputs": [
    {
     "data": {
      "text/plain": [
       "<tf.Tensor: shape=(2, 1), dtype=float64, numpy=\n",
       "array([[-1820.07378797],\n",
       "       [ -705.77222696]])>"
      ]
     },
     "execution_count": 90,
     "metadata": {},
     "output_type": "execute_result"
    }
   ],
   "source": [
    "slope"
   ]
  },
  {
   "cell_type": "code",
   "execution_count": 87,
   "id": "-cCC81W2PMn9",
   "metadata": {
    "executionInfo": {
     "elapsed": 289,
     "status": "ok",
     "timestamp": 1649070100808,
     "user": {
      "displayName": "이강철",
      "userId": "13507850890638580947"
     },
     "user_tz": -540
    },
    "id": "-cCC81W2PMn9"
   },
   "outputs": [],
   "source": [
    "alpha = 0.001"
   ]
  },
  {
   "cell_type": "code",
   "execution_count": 88,
   "id": "oBKxG-ydPNse",
   "metadata": {
    "colab": {
     "base_uri": "https://localhost:8080/"
    },
    "executionInfo": {
     "elapsed": 256,
     "status": "ok",
     "timestamp": 1649070105437,
     "user": {
      "displayName": "이강철",
      "userId": "13507850890638580947"
     },
     "user_tz": -540
    },
    "id": "oBKxG-ydPNse",
    "outputId": "2f39adbd-303a-4265-9fa3-d8bd6985b800"
   },
   "outputs": [
    {
     "data": {
      "text/plain": [
       "<tf.Tensor: shape=(2, 1), dtype=float64, numpy=\n",
       "array([[-1.82007379],\n",
       "       [-0.70577223]])>"
      ]
     },
     "execution_count": 88,
     "metadata": {},
     "output_type": "execute_result"
    }
   ],
   "source": [
    "step = slope * alpha\n",
    "step"
   ]
  },
  {
   "cell_type": "code",
   "execution_count": 91,
   "id": "_D8J9QvaPj_D",
   "metadata": {
    "executionInfo": {
     "elapsed": 1865,
     "status": "ok",
     "timestamp": 1649070244408,
     "user": {
      "displayName": "이강철",
      "userId": "13507850890638580947"
     },
     "user_tz": -540
    },
    "id": "_D8J9QvaPj_D"
   },
   "outputs": [],
   "source": [
    "for epoc in range(1000) : \n",
    "  slope = -2*X.T@y + 2*X.T@X@beta_hat\n",
    "  beta_hat = beta_hat - alpha*slope"
   ]
  },
  {
   "cell_type": "code",
   "execution_count": 92,
   "id": "RRti0p0tPwLK",
   "metadata": {
    "colab": {
     "base_uri": "https://localhost:8080/"
    },
    "executionInfo": {
     "elapsed": 379,
     "status": "ok",
     "timestamp": 1649070250586,
     "user": {
      "displayName": "이강철",
      "userId": "13507850890638580947"
     },
     "user_tz": -540
    },
    "id": "RRti0p0tPwLK",
    "outputId": "ef9bf681-e207-4347-ec34-4cc443f74434"
   },
   "outputs": [
    {
     "data": {
      "text/plain": [
       "<tf.Tensor: shape=(2, 1), dtype=float64, numpy=\n",
       "array([[2.58366721],\n",
       "       [3.93303452]])>"
      ]
     },
     "execution_count": 92,
     "metadata": {},
     "output_type": "execute_result"
    }
   ],
   "source": [
    "beta_hat"
   ]
  },
  {
   "cell_type": "markdown",
   "id": "8f5231a2-1872-497e-baf4-f463f0574757",
   "metadata": {
    "id": "8f5231a2-1872-497e-baf4-f463f0574757"
   },
   "source": [
    "### GradientTape를 이용 "
   ]
  },
  {
   "cell_type": "markdown",
   "id": "6a6f1c18-aff6-41fc-b346-aa184f5cddb4",
   "metadata": {
    "id": "6a6f1c18-aff6-41fc-b346-aa184f5cddb4"
   },
   "source": [
    "#### 풀이1: 벡터버전"
   ]
  },
  {
   "cell_type": "markdown",
   "id": "55ba7a20-43ec-40b3-90f6-5df6036bda89",
   "metadata": {
    "id": "55ba7a20-43ec-40b3-90f6-5df6036bda89"
   },
   "source": [
    "`-` 포인트\n",
    "```python\n",
    "## 포인트코드1: 그레디언트 테입  \n",
    "with tf.GradientTape() as tape: \n",
    "    loss = \n",
    "## 포인트코드2: 미분 \n",
    "slope = tape.gradient(loss,beta_hat) \n",
    "## 포인트코드3: update \n",
    "beta_hat.assign_sub(slope*alph) \n",
    "```"
   ]
  },
  {
   "cell_type": "code",
   "execution_count": 102,
   "id": "lt_CKNBlSlCh",
   "metadata": {
    "colab": {
     "base_uri": "https://localhost:8080/"
    },
    "executionInfo": {
     "elapsed": 436,
     "status": "ok",
     "timestamp": 1649071265564,
     "user": {
      "displayName": "이강철",
      "userId": "13507850890638580947"
     },
     "user_tz": -540
    },
    "id": "lt_CKNBlSlCh",
    "outputId": "1c4ed547-c948-434e-a8d0-b50107ef02ab"
   },
   "outputs": [
    {
     "data": {
      "text/plain": [
       "(TensorShape([200, 2]), TensorShape([200, 1]))"
      ]
     },
     "execution_count": 102,
     "metadata": {},
     "output_type": "execute_result"
    }
   ],
   "source": [
    "y=y.reshape(N,1) # N=200 \n",
    "X.shape,y.shape"
   ]
  },
  {
   "cell_type": "code",
   "execution_count": 103,
   "id": "D_h4TLF3SwWv",
   "metadata": {
    "colab": {
     "base_uri": "https://localhost:8080/"
    },
    "executionInfo": {
     "elapsed": 445,
     "status": "ok",
     "timestamp": 1649071266001,
     "user": {
      "displayName": "이강철",
      "userId": "13507850890638580947"
     },
     "user_tz": -540
    },
    "id": "D_h4TLF3SwWv",
    "outputId": "1507b5a8-43ed-4cf4-ce22-50e009f528a4"
   },
   "outputs": [
    {
     "data": {
      "text/plain": [
       "<tf.Variable 'Variable:0' shape=(2, 1) dtype=float64, numpy=\n",
       "array([[-5.],\n",
       "       [10.]])>"
      ]
     },
     "execution_count": 103,
     "metadata": {},
     "output_type": "execute_result"
    }
   ],
   "source": [
    "beta_hat = tf.Variable(tnp.array([-5.0,10.0]).reshape(2,1))\n",
    "beta_hat"
   ]
  },
  {
   "cell_type": "code",
   "execution_count": 104,
   "id": "PahnF2JwToji",
   "metadata": {
    "executionInfo": {
     "elapsed": 417,
     "status": "ok",
     "timestamp": 1649071266829,
     "user": {
      "displayName": "이강철",
      "userId": "13507850890638580947"
     },
     "user_tz": -540
    },
    "id": "PahnF2JwToji"
   },
   "outputs": [],
   "source": [
    "alpha=0.1"
   ]
  },
  {
   "cell_type": "code",
   "execution_count": 105,
   "id": "lbNuwCTjShXF",
   "metadata": {
    "executionInfo": {
     "elapsed": 2478,
     "status": "ok",
     "timestamp": 1649071269305,
     "user": {
      "displayName": "이강철",
      "userId": "13507850890638580947"
     },
     "user_tz": -540
    },
    "id": "lbNuwCTjShXF"
   },
   "outputs": [],
   "source": [
    "for epoc in range(1000):   \n",
    "    with tf.GradientTape() as tape: \n",
    "        tape.watch(beta_hat)\n",
    "        yhat = X@beta_hat\n",
    "        loss = (y-yhat).T @ (y-yhat) / N \n",
    "    slope = tape.gradient(loss,beta_hat) \n",
    "    beta_hat.assign_sub(slope * alpha) "
   ]
  },
  {
   "cell_type": "code",
   "execution_count": 106,
   "id": "dvemyVx5S2tz",
   "metadata": {
    "colab": {
     "base_uri": "https://localhost:8080/"
    },
    "executionInfo": {
     "elapsed": 4,
     "status": "ok",
     "timestamp": 1649071269306,
     "user": {
      "displayName": "이강철",
      "userId": "13507850890638580947"
     },
     "user_tz": -540
    },
    "id": "dvemyVx5S2tz",
    "outputId": "90eabd98-e346-4d94-eed3-209e64b57c1f"
   },
   "outputs": [
    {
     "data": {
      "text/plain": [
       "<tf.Variable 'Variable:0' shape=(2, 1) dtype=float64, numpy=\n",
       "array([[2.58366061],\n",
       "       [3.93304684]])>"
      ]
     },
     "execution_count": 106,
     "metadata": {},
     "output_type": "execute_result"
    }
   ],
   "source": [
    "beta_hat"
   ]
  },
  {
   "cell_type": "markdown",
   "id": "45b5df07-64fd-4257-a8e5-1c55ffdc2172",
   "metadata": {
    "id": "45b5df07-64fd-4257-a8e5-1c55ffdc2172"
   },
   "source": [
    "#### 풀이2: 스칼라버전"
   ]
  },
  {
   "cell_type": "markdown",
   "id": "121291bf-c8b8-4a77-9c72-3b0f5540ef17",
   "metadata": {
    "id": "121291bf-c8b8-4a77-9c72-3b0f5540ef17"
   },
   "source": [
    "`-` 포인트\n",
    "```python\n",
    "## 포인트코드: 미분\n",
    "slope0,slope1 = tape.gradient(loss,[beta0_hat,beta1_hat])\n",
    "```"
   ]
  },
  {
   "cell_type": "code",
   "execution_count": 120,
   "id": "SollcRijTtag",
   "metadata": {
    "colab": {
     "base_uri": "https://localhost:8080/"
    },
    "executionInfo": {
     "elapsed": 277,
     "status": "ok",
     "timestamp": 1649071405949,
     "user": {
      "displayName": "이강철",
      "userId": "13507850890638580947"
     },
     "user_tz": -540
    },
    "id": "SollcRijTtag",
    "outputId": "0d063eca-8f37-482c-d098-2e221baec738"
   },
   "outputs": [
    {
     "data": {
      "text/plain": [
       "(TensorShape([200]), TensorShape([200]))"
      ]
     },
     "execution_count": 120,
     "metadata": {},
     "output_type": "execute_result"
    }
   ],
   "source": [
    "y=y.reshape(-1) # N=200 \n",
    "x.shape,y.shape"
   ]
  },
  {
   "cell_type": "code",
   "execution_count": 117,
   "id": "mDnoC_p4Tupw",
   "metadata": {
    "executionInfo": {
     "elapsed": 3,
     "status": "ok",
     "timestamp": 1649071392820,
     "user": {
      "displayName": "이강철",
      "userId": "13507850890638580947"
     },
     "user_tz": -540
    },
    "id": "mDnoC_p4Tupw"
   },
   "outputs": [],
   "source": [
    "beta0_hat = tf.Variable(-5.0)\n",
    "beta1_hat = tf.Variable(10.0)\n",
    "alpha = 0.1"
   ]
  },
  {
   "cell_type": "code",
   "execution_count": 121,
   "id": "Nem7XomLTx_j",
   "metadata": {
    "executionInfo": {
     "elapsed": 2983,
     "status": "ok",
     "timestamp": 1649071421914,
     "user": {
      "displayName": "이강철",
      "userId": "13507850890638580947"
     },
     "user_tz": -540
    },
    "id": "Nem7XomLTx_j"
   },
   "outputs": [],
   "source": [
    "for epoc in range(1000):   \n",
    "    with tf.GradientTape() as tape: \n",
    "        yhat = beta0_hat + beta1_hat*x \n",
    "        loss = tf.reduce_sum((y-yhat)**2) / N  #loss = sum((y-yhat)**2) / N \n",
    "    slope0,slope1 = tape.gradient(loss,[beta0_hat,beta1_hat]) \n",
    "    beta0_hat.assign_sub(slope0 * alpha) \n",
    "    beta1_hat.assign_sub(slope1 * alpha) "
   ]
  },
  {
   "cell_type": "code",
   "execution_count": 122,
   "id": "yaBKwL-WTzI2",
   "metadata": {
    "colab": {
     "base_uri": "https://localhost:8080/"
    },
    "executionInfo": {
     "elapsed": 5,
     "status": "ok",
     "timestamp": 1649071421915,
     "user": {
      "displayName": "이강철",
      "userId": "13507850890638580947"
     },
     "user_tz": -540
    },
    "id": "yaBKwL-WTzI2",
    "outputId": "dd62268a-5482-4f24-98ed-aa8014edccd6"
   },
   "outputs": [
    {
     "data": {
      "text/plain": [
       "(<tf.Variable 'Variable:0' shape=() dtype=float32, numpy=2.5836616>,\n",
       " <tf.Variable 'Variable:0' shape=() dtype=float32, numpy=3.9330447>)"
      ]
     },
     "execution_count": 122,
     "metadata": {},
     "output_type": "execute_result"
    }
   ],
   "source": [
    "beta0_hat, beta1_hat "
   ]
  },
  {
   "cell_type": "markdown",
   "id": "febc6310-7669-4cfe-ba5f-70ae1853f605",
   "metadata": {
    "id": "febc6310-7669-4cfe-ba5f-70ae1853f605"
   },
   "source": [
    "### GradientTape + opt.apply_gradients"
   ]
  },
  {
   "cell_type": "markdown",
   "id": "5089a331-82aa-48cc-9f6f-5ea1a93bbd2f",
   "metadata": {
    "id": "5089a331-82aa-48cc-9f6f-5ea1a93bbd2f",
    "tags": []
   },
   "source": [
    "#### 풀이1: 벡터버전 "
   ]
  },
  {
   "cell_type": "markdown",
   "id": "ad963999-5fe2-429f-914a-b70bd3ad9235",
   "metadata": {
    "id": "ad963999-5fe2-429f-914a-b70bd3ad9235"
   },
   "source": [
    "`-` 포인트 \n",
    "```python\n",
    "## 포인트코드: 업데이트\n",
    "opt.apply_gradients([(slope,beta_hat)])  ## pair의 list가 입력 \n",
    "```"
   ]
  },
  {
   "cell_type": "code",
   "execution_count": 123,
   "id": "S44J2El4VV_Q",
   "metadata": {
    "colab": {
     "base_uri": "https://localhost:8080/"
    },
    "executionInfo": {
     "elapsed": 451,
     "status": "ok",
     "timestamp": 1649071712111,
     "user": {
      "displayName": "이강철",
      "userId": "13507850890638580947"
     },
     "user_tz": -540
    },
    "id": "S44J2El4VV_Q",
    "outputId": "d273acbb-2777-472f-fc13-a358c860fb63"
   },
   "outputs": [
    {
     "data": {
      "text/plain": [
       "(TensorShape([200, 2]), TensorShape([200, 1]))"
      ]
     },
     "execution_count": 123,
     "metadata": {},
     "output_type": "execute_result"
    }
   ],
   "source": [
    "y=y.reshape(N,1)\n",
    "X.shape,y.shape"
   ]
  },
  {
   "cell_type": "code",
   "execution_count": 124,
   "id": "TJnMDmj7VXBw",
   "metadata": {
    "colab": {
     "base_uri": "https://localhost:8080/"
    },
    "executionInfo": {
     "elapsed": 288,
     "status": "ok",
     "timestamp": 1649071715959,
     "user": {
      "displayName": "이강철",
      "userId": "13507850890638580947"
     },
     "user_tz": -540
    },
    "id": "TJnMDmj7VXBw",
    "outputId": "f26aa31e-0f0c-479e-e5e3-adc42930aa85"
   },
   "outputs": [
    {
     "data": {
      "text/plain": [
       "<tf.Variable 'Variable:0' shape=(2, 1) dtype=float64, numpy=\n",
       "array([[-5.],\n",
       "       [10.]])>"
      ]
     },
     "execution_count": 124,
     "metadata": {},
     "output_type": "execute_result"
    }
   ],
   "source": [
    "beta_hat = tf.Variable(tnp.array([-5.0,10.0]).reshape(2,1))\n",
    "beta_hat"
   ]
  },
  {
   "cell_type": "code",
   "execution_count": 125,
   "id": "KGIqrU2ZVZ9g",
   "metadata": {
    "executionInfo": {
     "elapsed": 270,
     "status": "ok",
     "timestamp": 1649071732243,
     "user": {
      "displayName": "이강철",
      "userId": "13507850890638580947"
     },
     "user_tz": -540
    },
    "id": "KGIqrU2ZVZ9g"
   },
   "outputs": [],
   "source": [
    "alpha=0.1\n",
    "opt = tf.optimizers.SGD(alpha)  \n",
    "### tf.keras.optimizers.SGD 와 똑같은 위치에 있는 모듈이다 그냥 똑같은거다."
   ]
  },
  {
   "cell_type": "code",
   "execution_count": 126,
   "id": "4LDzPklcVcrH",
   "metadata": {
    "executionInfo": {
     "elapsed": 6501,
     "status": "ok",
     "timestamp": 1649071749883,
     "user": {
      "displayName": "이강철",
      "userId": "13507850890638580947"
     },
     "user_tz": -540
    },
    "id": "4LDzPklcVcrH"
   },
   "outputs": [],
   "source": [
    "for epoc in range(1000): \n",
    "    with tf.GradientTape() as tape: \n",
    "        yhat = X@beta_hat\n",
    "        loss = (y-yhat).T @ (y-yhat) / N \n",
    "    slope = tape.gradient(loss,beta_hat)  \n",
    "    opt.apply_gradients( [(slope,beta_hat),(slope,beta_hat)] )"
   ]
  },
  {
   "cell_type": "code",
   "execution_count": 128,
   "id": "R5Cu1rReVdna",
   "metadata": {
    "colab": {
     "base_uri": "https://localhost:8080/"
    },
    "executionInfo": {
     "elapsed": 267,
     "status": "ok",
     "timestamp": 1649071761271,
     "user": {
      "displayName": "이강철",
      "userId": "13507850890638580947"
     },
     "user_tz": -540
    },
    "id": "R5Cu1rReVdna",
    "outputId": "6ffe1d09-ce5e-4024-eb0b-e5bdbf1e5280"
   },
   "outputs": [
    {
     "data": {
      "text/plain": [
       "(<tf.Tensor: shape=(1, 1), dtype=float64, numpy=array([[0.25493942]])>,\n",
       " <tf.Variable 'Variable:0' shape=(2, 1) dtype=float64, numpy=\n",
       " array([[2.58366721],\n",
       "        [3.93303452]])>)"
      ]
     },
     "execution_count": 128,
     "metadata": {},
     "output_type": "execute_result"
    }
   ],
   "source": [
    "(y-yhat).T @ (y-yhat) / N, beta_hat "
   ]
  },
  {
   "cell_type": "markdown",
   "id": "544bb15a-9809-4bfb-abda-c7e84e20f8e4",
   "metadata": {
    "id": "544bb15a-9809-4bfb-abda-c7e84e20f8e4",
    "tags": []
   },
   "source": [
    "#### 풀이2: 스칼라버전 "
   ]
  },
  {
   "cell_type": "markdown",
   "id": "9e93cdf6-3ba5-4102-b325-33c98fa8010c",
   "metadata": {
    "id": "9e93cdf6-3ba5-4102-b325-33c98fa8010c"
   },
   "source": [
    "`-` 포인트\n",
    "```python\n",
    "## 포인트코드: 업데이트 \n",
    "opt.apply_gradients([(slope0,beta0_hat),(slope1,beta1_hat)]) ## pair의 list가 입력 \n",
    "```"
   ]
  },
  {
   "cell_type": "code",
   "execution_count": 129,
   "id": "3Jg8BjevXF23",
   "metadata": {
    "colab": {
     "base_uri": "https://localhost:8080/"
    },
    "executionInfo": {
     "elapsed": 413,
     "status": "ok",
     "timestamp": 1649072170747,
     "user": {
      "displayName": "이강철",
      "userId": "13507850890638580947"
     },
     "user_tz": -540
    },
    "id": "3Jg8BjevXF23",
    "outputId": "0bb045e4-b00a-48aa-b832-0a0a1fe5b121"
   },
   "outputs": [
    {
     "data": {
      "text/plain": [
       "(TensorShape([200]), TensorShape([200]))"
      ]
     },
     "execution_count": 129,
     "metadata": {},
     "output_type": "execute_result"
    }
   ],
   "source": [
    "y=y.reshape(-1)\n",
    "x.shape,y.shape"
   ]
  },
  {
   "cell_type": "code",
   "execution_count": 130,
   "id": "qgN6db6DXHQU",
   "metadata": {
    "executionInfo": {
     "elapsed": 264,
     "status": "ok",
     "timestamp": 1649072176719,
     "user": {
      "displayName": "이강철",
      "userId": "13507850890638580947"
     },
     "user_tz": -540
    },
    "id": "qgN6db6DXHQU"
   },
   "outputs": [],
   "source": [
    "beta0_hat = tf.Variable(-5.0)\n",
    "beta1_hat = tf.Variable(10.0) "
   ]
  },
  {
   "cell_type": "code",
   "execution_count": 131,
   "id": "Z8dOE8xfXIjX",
   "metadata": {
    "executionInfo": {
     "elapsed": 462,
     "status": "ok",
     "timestamp": 1649072181152,
     "user": {
      "displayName": "이강철",
      "userId": "13507850890638580947"
     },
     "user_tz": -540
    },
    "id": "Z8dOE8xfXIjX"
   },
   "outputs": [],
   "source": [
    "alpha=0.1"
   ]
  },
  {
   "cell_type": "code",
   "execution_count": 132,
   "id": "-O2_zb4LXI7m",
   "metadata": {
    "executionInfo": {
     "elapsed": 274,
     "status": "ok",
     "timestamp": 1649072185590,
     "user": {
      "displayName": "이강철",
      "userId": "13507850890638580947"
     },
     "user_tz": -540
    },
    "id": "-O2_zb4LXI7m"
   },
   "outputs": [],
   "source": [
    "opt = tf.optimizers.SGD(alpha) "
   ]
  },
  {
   "cell_type": "code",
   "execution_count": 133,
   "id": "ZcOvb4JQXK69",
   "metadata": {
    "executionInfo": {
     "elapsed": 9531,
     "status": "ok",
     "timestamp": 1649072200647,
     "user": {
      "displayName": "이강철",
      "userId": "13507850890638580947"
     },
     "user_tz": -540
    },
    "id": "ZcOvb4JQXK69"
   },
   "outputs": [],
   "source": [
    "for epoc in range(1000): \n",
    "    with tf.GradientTape() as tape: \n",
    "        yhat = beta0_hat + beta1_hat*x \n",
    "        loss = tf.reduce_sum((y-yhat)**2) / N \n",
    "    slope0,slope1 = tape.gradient(loss,[beta0_hat,beㅠta1_hat])  \n",
    "    opt.apply_gradients( [(slope0,beta0_hat),(slope1,beta1_hat)] )"
   ]
  },
  {
   "cell_type": "code",
   "execution_count": 134,
   "id": "F4ZosjMMXM-w",
   "metadata": {
    "colab": {
     "base_uri": "https://localhost:8080/"
    },
    "executionInfo": {
     "elapsed": 275,
     "status": "ok",
     "timestamp": 1649072203986,
     "user": {
      "displayName": "이강철",
      "userId": "13507850890638580947"
     },
     "user_tz": -540
    },
    "id": "F4ZosjMMXM-w",
    "outputId": "97da52e8-a8e7-411d-836f-ecf6bd21eab1"
   },
   "outputs": [
    {
     "data": {
      "text/plain": [
       "(<tf.Variable 'Variable:0' shape=() dtype=float32, numpy=2.58366>,\n",
       " <tf.Variable 'Variable:0' shape=() dtype=float32, numpy=3.933048>)"
      ]
     },
     "execution_count": 134,
     "metadata": {},
     "output_type": "execute_result"
    }
   ],
   "source": [
    "beta0_hat,beta1_hat"
   ]
  },
  {
   "cell_type": "markdown",
   "id": "08c010ea-0672-47da-a2ce-e731ccf6d6e0",
   "metadata": {
    "id": "08c010ea-0672-47da-a2ce-e731ccf6d6e0"
   },
   "source": [
    "### opt.minimize"
   ]
  },
  {
   "cell_type": "markdown",
   "id": "2d0207e6-a475-42bc-a1cc-36c7dd86e66d",
   "metadata": {
    "id": "2d0207e6-a475-42bc-a1cc-36c7dd86e66d",
    "tags": []
   },
   "source": [
    "#### 풀이1: 벡터버전, 사용자정의 손실함수 with lambda"
   ]
  },
  {
   "cell_type": "code",
   "execution_count": 136,
   "id": "jNUL_CTnXRpe",
   "metadata": {
    "colab": {
     "base_uri": "https://localhost:8080/"
    },
    "executionInfo": {
     "elapsed": 4,
     "status": "ok",
     "timestamp": 1649072232630,
     "user": {
      "displayName": "이강철",
      "userId": "13507850890638580947"
     },
     "user_tz": -540
    },
    "id": "jNUL_CTnXRpe",
    "outputId": "0269f8d2-d2d5-45df-b1ce-ac9a0fc39e7d"
   },
   "outputs": [
    {
     "data": {
      "text/plain": [
       "<tf.Variable 'Variable:0' shape=(2, 1) dtype=float64, numpy=\n",
       "array([[-5.],\n",
       "       [10.]])>"
      ]
     },
     "execution_count": 136,
     "metadata": {},
     "output_type": "execute_result"
    }
   ],
   "source": [
    "y=y.reshape(N,1)\n",
    "X.shape,y.shape"
   ]
  },
  {
   "cell_type": "code",
   "execution_count": 137,
   "id": "WpqzG0OjXV1P",
   "metadata": {
    "colab": {
     "base_uri": "https://localhost:8080/"
    },
    "executionInfo": {
     "elapsed": 282,
     "status": "ok",
     "timestamp": 1649072239638,
     "user": {
      "displayName": "이강철",
      "userId": "13507850890638580947"
     },
     "user_tz": -540
    },
    "id": "WpqzG0OjXV1P",
    "outputId": "76c6e03b-e111-46d4-aa5e-85e9c0e82b8a"
   },
   "outputs": [
    {
     "data": {
      "text/plain": [
       "<tf.Variable 'Variable:0' shape=(2, 1) dtype=float64, numpy=\n",
       "array([[-5.],\n",
       "       [10.]])>"
      ]
     },
     "execution_count": 137,
     "metadata": {},
     "output_type": "execute_result"
    }
   ],
   "source": [
    "beta_hat = tf.Variable(tnp.array([-5.0,10.0]).reshape(2,1))\n",
    "beta_hat"
   ]
  },
  {
   "cell_type": "code",
   "execution_count": 138,
   "id": "W5jt_FY9XYz5",
   "metadata": {
    "executionInfo": {
     "elapsed": 256,
     "status": "ok",
     "timestamp": 1649072262293,
     "user": {
      "displayName": "이강철",
      "userId": "13507850890638580947"
     },
     "user_tz": -540
    },
    "id": "W5jt_FY9XYz5"
   },
   "outputs": [],
   "source": [
    "alpha=0.1\n",
    "opt = tf.optimizers.SGD(alpha) \n",
    "loss_fn = lambda: (y-X@beta_hat).T @ (y-X@beta_hat)/N"
   ]
  },
  {
   "cell_type": "code",
   "execution_count": 139,
   "id": "AtsyPPfzXd7G",
   "metadata": {
    "colab": {
     "base_uri": "https://localhost:8080/"
    },
    "executionInfo": {
     "elapsed": 297,
     "status": "ok",
     "timestamp": 1649072268720,
     "user": {
      "displayName": "이강철",
      "userId": "13507850890638580947"
     },
     "user_tz": -540
    },
    "id": "AtsyPPfzXd7G",
    "outputId": "af4b87f0-51cd-445e-d424-4148103b06c7"
   },
   "outputs": [
    {
     "data": {
      "text/plain": [
       "<tf.Tensor: shape=(1, 1), dtype=float64, numpy=array([[4811.45696758]])>"
      ]
     },
     "execution_count": 139,
     "metadata": {},
     "output_type": "execute_result"
    }
   ],
   "source": [
    "(y-X@beta_hat).T @ (y-X@beta_hat)"
   ]
  },
  {
   "cell_type": "code",
   "execution_count": 140,
   "id": "P1Qwi3eOXjyz",
   "metadata": {
    "executionInfo": {
     "elapsed": 4676,
     "status": "ok",
     "timestamp": 1649072297281,
     "user": {
      "displayName": "이강철",
      "userId": "13507850890638580947"
     },
     "user_tz": -540
    },
    "id": "P1Qwi3eOXjyz"
   },
   "outputs": [],
   "source": [
    "for epoc in range(1000):\n",
    "    opt.minimize(loss_fn,beta_hat) # 미분 + update "
   ]
  },
  {
   "cell_type": "code",
   "execution_count": 142,
   "id": "ca566SeOXlcA",
   "metadata": {
    "colab": {
     "base_uri": "https://localhost:8080/"
    },
    "executionInfo": {
     "elapsed": 329,
     "status": "ok",
     "timestamp": 1649072301279,
     "user": {
      "displayName": "이강철",
      "userId": "13507850890638580947"
     },
     "user_tz": -540
    },
    "id": "ca566SeOXlcA",
    "outputId": "ce79f327-f0b0-4bf9-d4bd-b1b52017b10c"
   },
   "outputs": [
    {
     "data": {
      "text/plain": [
       "<tf.Variable 'Variable:0' shape=(2, 1) dtype=float64, numpy=\n",
       "array([[2.58366061],\n",
       "       [3.93304684]])>"
      ]
     },
     "execution_count": 142,
     "metadata": {},
     "output_type": "execute_result"
    }
   ],
   "source": [
    "beta_hat"
   ]
  },
  {
   "cell_type": "markdown",
   "id": "f9f7739e-27b2-40e6-a60f-de806e7216f4",
   "metadata": {
    "id": "f9f7739e-27b2-40e6-a60f-de806e7216f4"
   },
   "source": [
    "#### 풀이2: 스칼라버전, 사용자정의 손실함수 with lambda"
   ]
  },
  {
   "cell_type": "code",
   "execution_count": 146,
   "id": "AdDtCISbXnSI",
   "metadata": {
    "colab": {
     "base_uri": "https://localhost:8080/"
    },
    "executionInfo": {
     "elapsed": 389,
     "status": "ok",
     "timestamp": 1649072335249,
     "user": {
      "displayName": "이강철",
      "userId": "13507850890638580947"
     },
     "user_tz": -540
    },
    "id": "AdDtCISbXnSI",
    "outputId": "e0326a67-167c-46f8-ab7c-c902ff7b102f"
   },
   "outputs": [
    {
     "data": {
      "text/plain": [
       "(TensorShape([200]), TensorShape([200]))"
      ]
     },
     "execution_count": 146,
     "metadata": {},
     "output_type": "execute_result"
    }
   ],
   "source": [
    "y=y.reshape(-1)\n",
    "x.shape,y.shape"
   ]
  },
  {
   "cell_type": "code",
   "execution_count": 147,
   "id": "StrM67EPXobO",
   "metadata": {
    "executionInfo": {
     "elapsed": 3,
     "status": "ok",
     "timestamp": 1649072335643,
     "user": {
      "displayName": "이강철",
      "userId": "13507850890638580947"
     },
     "user_tz": -540
    },
    "id": "StrM67EPXobO"
   },
   "outputs": [],
   "source": [
    "beta0_hat = tf.Variable(-5.0)\n",
    "beta1_hat = tf.Variable(10.0) "
   ]
  },
  {
   "cell_type": "code",
   "execution_count": 148,
   "id": "ZmBbSXtmXptF",
   "metadata": {
    "executionInfo": {
     "elapsed": 3,
     "status": "ok",
     "timestamp": 1649072336545,
     "user": {
      "displayName": "이강철",
      "userId": "13507850890638580947"
     },
     "user_tz": -540
    },
    "id": "ZmBbSXtmXptF"
   },
   "outputs": [],
   "source": [
    "alpha=0.1\n",
    "opt = tf.optimizers.SGD(alpha) \n",
    "loss_fn = lambda: tf.reduce_sum((y-beta0_hat - beta1_hat*x)**2)/N"
   ]
  },
  {
   "cell_type": "code",
   "execution_count": 149,
   "id": "Zt8zm75WXqv_",
   "metadata": {
    "executionInfo": {
     "elapsed": 7896,
     "status": "ok",
     "timestamp": 1649072345379,
     "user": {
      "displayName": "이강철",
      "userId": "13507850890638580947"
     },
     "user_tz": -540
    },
    "id": "Zt8zm75WXqv_"
   },
   "outputs": [],
   "source": [
    "for epoc in range(1000):\n",
    "    opt.minimize(loss_fn,[beta0_hat,beta1_hat]) # 미분 + update "
   ]
  },
  {
   "cell_type": "code",
   "execution_count": null,
   "id": "0fX_BEHIXwFk",
   "metadata": {
    "id": "0fX_BEHIXwFk"
   },
   "outputs": [],
   "source": [
    "beta0_hat, beta1_hat"
   ]
  },
  {
   "cell_type": "markdown",
   "id": "cbd0e298-b04a-47dc-974c-4b72cebdfe55",
   "metadata": {
    "id": "cbd0e298-b04a-47dc-974c-4b72cebdfe55"
   },
   "source": [
    "`-` 포인트\n",
    "```python\n",
    "## 포인트코드: 미분 & 업데이트 = minimize \n",
    "opt.minimize(loss_fn,[beta0_hat,beta1_hat])\n",
    "```"
   ]
  },
  {
   "cell_type": "markdown",
   "id": "a1f09a4f-bdb9-440b-9d9e-623cd220baff",
   "metadata": {
    "id": "a1f09a4f-bdb9-440b-9d9e-623cd220baff"
   },
   "source": [
    "#### 풀이3: 벡터버전, 사용자정의 (짧은) 손실함수 "
   ]
  },
  {
   "cell_type": "markdown",
   "id": "f5031126-91a9-4d1f-a932-e0b67559776a",
   "metadata": {
    "id": "f5031126-91a9-4d1f-a932-e0b67559776a"
   },
   "source": [
    "`-` 포인트\n",
    "```python\n",
    "## 포인트코드: 손실함수정의 \n",
    "def loss_fn():\n",
    "    return ??\n",
    "```"
   ]
  },
  {
   "cell_type": "code",
   "execution_count": 150,
   "id": "8wf-GON6X6Vw",
   "metadata": {
    "colab": {
     "base_uri": "https://localhost:8080/"
    },
    "executionInfo": {
     "elapsed": 282,
     "status": "ok",
     "timestamp": 1649072385417,
     "user": {
      "displayName": "이강철",
      "userId": "13507850890638580947"
     },
     "user_tz": -540
    },
    "id": "8wf-GON6X6Vw",
    "outputId": "935d9480-f389-4a4c-8cce-9fb82e54e24e"
   },
   "outputs": [
    {
     "data": {
      "text/plain": [
       "(TensorShape([200, 2]), TensorShape([200, 1]))"
      ]
     },
     "execution_count": 150,
     "metadata": {},
     "output_type": "execute_result"
    }
   ],
   "source": [
    "y=y.reshape(N,1)\n",
    "X.shape,y.shape"
   ]
  },
  {
   "cell_type": "code",
   "execution_count": 151,
   "id": "2Z-x0bA-X7kG",
   "metadata": {
    "colab": {
     "base_uri": "https://localhost:8080/"
    },
    "executionInfo": {
     "elapsed": 285,
     "status": "ok",
     "timestamp": 1649072410549,
     "user": {
      "displayName": "이강철",
      "userId": "13507850890638580947"
     },
     "user_tz": -540
    },
    "id": "2Z-x0bA-X7kG",
    "outputId": "13de2ab8-d645-45bb-bf17-7bc9e76783fd"
   },
   "outputs": [
    {
     "data": {
      "text/plain": [
       "<tf.Variable 'Variable:0' shape=(2, 1) dtype=float64, numpy=\n",
       "array([[-5.],\n",
       "       [10.]])>"
      ]
     },
     "execution_count": 151,
     "metadata": {},
     "output_type": "execute_result"
    }
   ],
   "source": [
    "beta_hat = tf.Variable(tnp.array([-5.0,10.0]).reshape(2,1))\n",
    "beta_hat"
   ]
  },
  {
   "cell_type": "code",
   "execution_count": 152,
   "id": "HJd-fBj9YCpH",
   "metadata": {
    "executionInfo": {
     "elapsed": 291,
     "status": "ok",
     "timestamp": 1649072425666,
     "user": {
      "displayName": "이강철",
      "userId": "13507850890638580947"
     },
     "user_tz": -540
    },
    "id": "HJd-fBj9YCpH"
   },
   "outputs": [],
   "source": [
    "alpha=0.1\n",
    "opt = tf.optimizers.SGD(alpha)"
   ]
  },
  {
   "cell_type": "code",
   "execution_count": 153,
   "id": "XZC99H0IYE8x",
   "metadata": {
    "executionInfo": {
     "elapsed": 4,
     "status": "ok",
     "timestamp": 1649072431463,
     "user": {
      "displayName": "이강철",
      "userId": "13507850890638580947"
     },
     "user_tz": -540
    },
    "id": "XZC99H0IYE8x"
   },
   "outputs": [],
   "source": [
    "def loss_fn():\n",
    "    return (y-X@beta_hat).T @ (y-X@beta_hat)/N"
   ]
  },
  {
   "cell_type": "code",
   "execution_count": 154,
   "id": "DKE9rwfNYGEE",
   "metadata": {
    "executionInfo": {
     "elapsed": 6764,
     "status": "ok",
     "timestamp": 1649072441384,
     "user": {
      "displayName": "이강철",
      "userId": "13507850890638580947"
     },
     "user_tz": -540
    },
    "id": "DKE9rwfNYGEE"
   },
   "outputs": [],
   "source": [
    "for epoc in range(1000):\n",
    "    opt.minimize(loss_fn,beta_hat) # 미분 + update "
   ]
  },
  {
   "cell_type": "code",
   "execution_count": 155,
   "id": "ZsW_vRa_YH90",
   "metadata": {
    "colab": {
     "base_uri": "https://localhost:8080/"
    },
    "executionInfo": {
     "elapsed": 288,
     "status": "ok",
     "timestamp": 1649072444142,
     "user": {
      "displayName": "이강철",
      "userId": "13507850890638580947"
     },
     "user_tz": -540
    },
    "id": "ZsW_vRa_YH90",
    "outputId": "a2988ecb-53c1-4859-c96e-205f8e6b3f10"
   },
   "outputs": [
    {
     "data": {
      "text/plain": [
       "<tf.Variable 'Variable:0' shape=(2, 1) dtype=float64, numpy=\n",
       "array([[2.58366061],\n",
       "       [3.93304684]])>"
      ]
     },
     "execution_count": 155,
     "metadata": {},
     "output_type": "execute_result"
    }
   ],
   "source": [
    "beta_hat"
   ]
  },
  {
   "cell_type": "markdown",
   "id": "28e46453-92c4-4858-8feb-19597cf34e73",
   "metadata": {
    "id": "28e46453-92c4-4858-8feb-19597cf34e73"
   },
   "source": [
    "#### 풀이4: 벡터버전, 사용자정의 (긴) 손실함수 "
   ]
  },
  {
   "cell_type": "markdown",
   "id": "oOCRc2VXYZ4H",
   "metadata": {
    "id": "oOCRc2VXYZ4H"
   },
   "source": [
    "\n",
    "```python\n",
    "def loss_fn():\n",
    "    yhat = X@beta_hat \n",
    "    loss = (y-yhat).T @ (y-yhat) / N\n",
    "    return loss\n",
    "```"
   ]
  },
  {
   "cell_type": "code",
   "execution_count": 156,
   "id": "W_CGPAUgYJkp",
   "metadata": {
    "colab": {
     "base_uri": "https://localhost:8080/"
    },
    "executionInfo": {
     "elapsed": 273,
     "status": "ok",
     "timestamp": 1649072452998,
     "user": {
      "displayName": "이강철",
      "userId": "13507850890638580947"
     },
     "user_tz": -540
    },
    "id": "W_CGPAUgYJkp",
    "outputId": "5ff50f9b-4cba-46a5-a241-0be1e76d2c1d"
   },
   "outputs": [
    {
     "data": {
      "text/plain": [
       "(TensorShape([200, 2]), TensorShape([200, 1]))"
      ]
     },
     "execution_count": 156,
     "metadata": {},
     "output_type": "execute_result"
    }
   ],
   "source": [
    "y=y.reshape(N,1)\n",
    "X.shape,y.shape"
   ]
  },
  {
   "cell_type": "code",
   "execution_count": 157,
   "id": "9GPHh8B7YLon",
   "metadata": {
    "colab": {
     "base_uri": "https://localhost:8080/"
    },
    "executionInfo": {
     "elapsed": 283,
     "status": "ok",
     "timestamp": 1649072459235,
     "user": {
      "displayName": "이강철",
      "userId": "13507850890638580947"
     },
     "user_tz": -540
    },
    "id": "9GPHh8B7YLon",
    "outputId": "d9c30ad1-4064-43f3-a54b-7d56404779c7"
   },
   "outputs": [
    {
     "data": {
      "text/plain": [
       "<tf.Variable 'Variable:0' shape=(2, 1) dtype=float64, numpy=\n",
       "array([[-5.],\n",
       "       [10.]])>"
      ]
     },
     "execution_count": 157,
     "metadata": {},
     "output_type": "execute_result"
    }
   ],
   "source": [
    "beta_hat = tf.Variable(tnp.array([-5.0,10.0]).reshape(2,1))\n",
    "beta_hat"
   ]
  },
  {
   "cell_type": "code",
   "execution_count": 158,
   "id": "2WxesFzPYNsJ",
   "metadata": {
    "executionInfo": {
     "elapsed": 253,
     "status": "ok",
     "timestamp": 1649072469077,
     "user": {
      "displayName": "이강철",
      "userId": "13507850890638580947"
     },
     "user_tz": -540
    },
    "id": "2WxesFzPYNsJ"
   },
   "outputs": [],
   "source": [
    "alpha=0.1\n",
    "opt = tf.optimizers.SGD(alpha)"
   ]
  },
  {
   "cell_type": "code",
   "execution_count": 159,
   "id": "TkQqhM47YPYN",
   "metadata": {
    "executionInfo": {
     "elapsed": 283,
     "status": "ok",
     "timestamp": 1649072474763,
     "user": {
      "displayName": "이강철",
      "userId": "13507850890638580947"
     },
     "user_tz": -540
    },
    "id": "TkQqhM47YPYN"
   },
   "outputs": [],
   "source": [
    "def loss_fn():\n",
    "    yhat = X@beta_hat \n",
    "    loss = (y-yhat).T @ (y-yhat) / N\n",
    "    return loss"
   ]
  },
  {
   "cell_type": "code",
   "execution_count": 160,
   "id": "udxTX-2LYRbl",
   "metadata": {
    "executionInfo": {
     "elapsed": 4275,
     "status": "ok",
     "timestamp": 1649072483974,
     "user": {
      "displayName": "이강철",
      "userId": "13507850890638580947"
     },
     "user_tz": -540
    },
    "id": "udxTX-2LYRbl"
   },
   "outputs": [],
   "source": [
    "for epoc in range(1000):\n",
    "    opt.minimize(loss_fn,beta_hat) # 미분 + update "
   ]
  },
  {
   "cell_type": "code",
   "execution_count": 161,
   "id": "awEpMbwDYSyz",
   "metadata": {
    "colab": {
     "base_uri": "https://localhost:8080/"
    },
    "executionInfo": {
     "elapsed": 281,
     "status": "ok",
     "timestamp": 1649072485828,
     "user": {
      "displayName": "이강철",
      "userId": "13507850890638580947"
     },
     "user_tz": -540
    },
    "id": "awEpMbwDYSyz",
    "outputId": "5c909901-27c3-4b58-f5de-0785eb46379c"
   },
   "outputs": [
    {
     "data": {
      "text/plain": [
       "<tf.Variable 'Variable:0' shape=(2, 1) dtype=float64, numpy=\n",
       "array([[2.58366061],\n",
       "       [3.93304684]])>"
      ]
     },
     "execution_count": 161,
     "metadata": {},
     "output_type": "execute_result"
    }
   ],
   "source": [
    "beta_hat"
   ]
  },
  {
   "cell_type": "markdown",
   "id": "07f15e8b-d947-4341-ad00-d2994d462eef",
   "metadata": {
    "id": "07f15e8b-d947-4341-ad00-d2994d462eef"
   },
   "source": [
    "#### 풀이5: 벡터버전, 사용자정의 손실함수 <- tf.losses.MSE "
   ]
  },
  {
   "cell_type": "markdown",
   "id": "016c6e35-1822-4973-a654-9ff28ac7be66",
   "metadata": {
    "id": "016c6e35-1822-4973-a654-9ff28ac7be66"
   },
   "source": [
    "`-` 포인트\n",
    "```python\n",
    "## 포인트코드: 미리구현되어있는 손실함수 이용 \n",
    "tf.losses.MSE(y,yhat)\n",
    "```"
   ]
  },
  {
   "cell_type": "code",
   "execution_count": 164,
   "id": "n4qAcpF7ZDl0",
   "metadata": {
    "colab": {
     "base_uri": "https://localhost:8080/"
    },
    "executionInfo": {
     "elapsed": 268,
     "status": "ok",
     "timestamp": 1649072685299,
     "user": {
      "displayName": "이강철",
      "userId": "13507850890638580947"
     },
     "user_tz": -540
    },
    "id": "n4qAcpF7ZDl0",
    "outputId": "cdf0eae2-da58-4484-ab52-356791a0ac48"
   },
   "outputs": [
    {
     "data": {
      "text/plain": [
       "(TensorShape([200, 2]), TensorShape([200, 1]))"
      ]
     },
     "execution_count": 164,
     "metadata": {},
     "output_type": "execute_result"
    }
   ],
   "source": [
    "y=y.reshape(N,1)\n",
    "X.shape,y.shape"
   ]
  },
  {
   "cell_type": "code",
   "execution_count": 165,
   "id": "hrPQArRtZEwh",
   "metadata": {
    "colab": {
     "base_uri": "https://localhost:8080/"
    },
    "executionInfo": {
     "elapsed": 258,
     "status": "ok",
     "timestamp": 1649072689721,
     "user": {
      "displayName": "이강철",
      "userId": "13507850890638580947"
     },
     "user_tz": -540
    },
    "id": "hrPQArRtZEwh",
    "outputId": "f0c13ad0-3a76-445a-de98-37dbd034b298"
   },
   "outputs": [
    {
     "data": {
      "text/plain": [
       "<tf.Variable 'Variable:0' shape=(2, 1) dtype=float64, numpy=\n",
       "array([[-5.],\n",
       "       [10.]])>"
      ]
     },
     "execution_count": 165,
     "metadata": {},
     "output_type": "execute_result"
    }
   ],
   "source": [
    "beta_hat = tf.Variable(tnp.array([-5.0,10.0]).reshape(2,1))\n",
    "beta_hat"
   ]
  },
  {
   "cell_type": "code",
   "execution_count": 166,
   "id": "I-p_fFWiZF1M",
   "metadata": {
    "executionInfo": {
     "elapsed": 263,
     "status": "ok",
     "timestamp": 1649072698667,
     "user": {
      "displayName": "이강철",
      "userId": "13507850890638580947"
     },
     "user_tz": -540
    },
    "id": "I-p_fFWiZF1M"
   },
   "outputs": [],
   "source": [
    "alpha=0.1\n",
    "opt = tf.optimizers.SGD(alpha) "
   ]
  },
  {
   "cell_type": "code",
   "execution_count": 167,
   "id": "iTV_H2FKZHa_",
   "metadata": {
    "executionInfo": {
     "elapsed": 261,
     "status": "ok",
     "timestamp": 1649072704152,
     "user": {
      "displayName": "이강철",
      "userId": "13507850890638580947"
     },
     "user_tz": -540
    },
    "id": "iTV_H2FKZHa_"
   },
   "outputs": [],
   "source": [
    "def loss_fn():\n",
    "    yhat= X@beta_hat\n",
    "    loss = tf.losses.MSE(y.reshape(-1),yhat.reshape(-1))\n",
    "    return loss"
   ]
  },
  {
   "cell_type": "code",
   "execution_count": 168,
   "id": "OrVPdVUcZJXN",
   "metadata": {
    "executionInfo": {
     "elapsed": 4824,
     "status": "ok",
     "timestamp": 1649072716168,
     "user": {
      "displayName": "이강철",
      "userId": "13507850890638580947"
     },
     "user_tz": -540
    },
    "id": "OrVPdVUcZJXN"
   },
   "outputs": [],
   "source": [
    "for epoc in range(1000):\n",
    "    opt.minimize(loss_fn,beta_hat) # 미분 + update "
   ]
  },
  {
   "cell_type": "code",
   "execution_count": 169,
   "id": "lhHvQ2OrZKee",
   "metadata": {
    "colab": {
     "base_uri": "https://localhost:8080/"
    },
    "executionInfo": {
     "elapsed": 5,
     "status": "ok",
     "timestamp": 1649072716168,
     "user": {
      "displayName": "이강철",
      "userId": "13507850890638580947"
     },
     "user_tz": -540
    },
    "id": "lhHvQ2OrZKee",
    "outputId": "97f883ad-4ed8-4d49-bb42-497b74abbd9f"
   },
   "outputs": [
    {
     "data": {
      "text/plain": [
       "<tf.Variable 'Variable:0' shape=(2, 1) dtype=float64, numpy=\n",
       "array([[2.58366061],\n",
       "       [3.93304684]])>"
      ]
     },
     "execution_count": 169,
     "metadata": {},
     "output_type": "execute_result"
    }
   ],
   "source": [
    "beta_hat"
   ]
  },
  {
   "cell_type": "markdown",
   "id": "1c725521-bfe4-431e-bf45-9eed25d2d83d",
   "metadata": {
    "id": "1c725521-bfe4-431e-bf45-9eed25d2d83d"
   },
   "source": [
    "#### 풀이6: 벡터버전, 사용자정의 손실함수 <- tf.losses.MeaSquaredError"
   ]
  },
  {
   "cell_type": "markdown",
   "id": "a16611c1-31ef-4ea4-acc5-5d259273b545",
   "metadata": {
    "id": "a16611c1-31ef-4ea4-acc5-5d259273b545"
   },
   "source": [
    "`-` 포인트\n",
    "```python\n",
    "## 포인트코드: 클래스로부터 손실함수 오브젝트 생성 (함수를 찍어내는 클래스) \n",
    "mse_fn = tf.losses.MeanSquaredError()\n",
    "mse_fn(y,yhat)\n",
    "```"
   ]
  },
  {
   "cell_type": "code",
   "execution_count": 170,
   "id": "3djcoP-PZMf6",
   "metadata": {
    "colab": {
     "base_uri": "https://localhost:8080/"
    },
    "executionInfo": {
     "elapsed": 409,
     "status": "ok",
     "timestamp": 1649072725350,
     "user": {
      "displayName": "이강철",
      "userId": "13507850890638580947"
     },
     "user_tz": -540
    },
    "id": "3djcoP-PZMf6",
    "outputId": "e5406172-bc28-4cce-e226-bd1464b4e051"
   },
   "outputs": [
    {
     "data": {
      "text/plain": [
       "(TensorShape([200, 2]), TensorShape([200, 1]))"
      ]
     },
     "execution_count": 170,
     "metadata": {},
     "output_type": "execute_result"
    }
   ],
   "source": [
    "y=y.reshape(N,1)\n",
    "X.shape,y.shape"
   ]
  },
  {
   "cell_type": "code",
   "execution_count": 171,
   "id": "k4D70TnIZNzx",
   "metadata": {
    "colab": {
     "base_uri": "https://localhost:8080/"
    },
    "executionInfo": {
     "elapsed": 272,
     "status": "ok",
     "timestamp": 1649072728894,
     "user": {
      "displayName": "이강철",
      "userId": "13507850890638580947"
     },
     "user_tz": -540
    },
    "id": "k4D70TnIZNzx",
    "outputId": "14c8cf90-e190-4d4c-920a-e1076a46217f"
   },
   "outputs": [
    {
     "data": {
      "text/plain": [
       "<tf.Variable 'Variable:0' shape=(2, 1) dtype=float64, numpy=\n",
       "array([[-5.],\n",
       "       [10.]])>"
      ]
     },
     "execution_count": 171,
     "metadata": {},
     "output_type": "execute_result"
    }
   ],
   "source": [
    "beta_hat = tf.Variable(tnp.array([-5.0,10.0]).reshape(2,1))\n",
    "beta_hat"
   ]
  },
  {
   "cell_type": "code",
   "execution_count": 172,
   "id": "yDEzPA9bZPKO",
   "metadata": {
    "executionInfo": {
     "elapsed": 3,
     "status": "ok",
     "timestamp": 1649072740554,
     "user": {
      "displayName": "이강철",
      "userId": "13507850890638580947"
     },
     "user_tz": -540
    },
    "id": "yDEzPA9bZPKO"
   },
   "outputs": [],
   "source": [
    "alpha=0.1\n",
    "opt = tf.optimizers.SGD(alpha) "
   ]
  },
  {
   "cell_type": "code",
   "execution_count": 173,
   "id": "QB6S4vmMZSoj",
   "metadata": {
    "executionInfo": {
     "elapsed": 283,
     "status": "ok",
     "timestamp": 1649072746467,
     "user": {
      "displayName": "이강철",
      "userId": "13507850890638580947"
     },
     "user_tz": -540
    },
    "id": "QB6S4vmMZSoj"
   },
   "outputs": [],
   "source": [
    "mseloss_fn = tf.losses.MeanSquaredError()"
   ]
  },
  {
   "cell_type": "code",
   "execution_count": 174,
   "id": "UGuegmiEZVKS",
   "metadata": {
    "colab": {
     "base_uri": "https://localhost:8080/"
    },
    "executionInfo": {
     "elapsed": 314,
     "status": "ok",
     "timestamp": 1649072757303,
     "user": {
      "displayName": "이강철",
      "userId": "13507850890638580947"
     },
     "user_tz": -540
    },
    "id": "UGuegmiEZVKS",
    "outputId": "426de1e5-5547-4126-dba1-4c5f8b99fc51"
   },
   "outputs": [
    {
     "data": {
      "text/plain": [
       "<tf.Tensor: shape=(), dtype=float64, numpy=0.25493940711021423>"
      ]
     },
     "execution_count": 174,
     "metadata": {},
     "output_type": "execute_result"
    }
   ],
   "source": [
    "mseloss_fn(y.reshape(-1),yhat.reshape(-1))"
   ]
  },
  {
   "cell_type": "code",
   "execution_count": 175,
   "id": "VaPusIiGZWM8",
   "metadata": {
    "executionInfo": {
     "elapsed": 273,
     "status": "ok",
     "timestamp": 1649072763927,
     "user": {
      "displayName": "이강철",
      "userId": "13507850890638580947"
     },
     "user_tz": -540
    },
    "id": "VaPusIiGZWM8"
   },
   "outputs": [],
   "source": [
    "def loss_fn():\n",
    "    yhat= X@beta_hat\n",
    "    loss = mseloss_fn(y.reshape(-1),yhat.reshape(-1))\n",
    "    return loss"
   ]
  },
  {
   "cell_type": "code",
   "execution_count": 176,
   "id": "gv0MhrXNZZtP",
   "metadata": {
    "executionInfo": {
     "elapsed": 5897,
     "status": "ok",
     "timestamp": 1649072781825,
     "user": {
      "displayName": "이강철",
      "userId": "13507850890638580947"
     },
     "user_tz": -540
    },
    "id": "gv0MhrXNZZtP"
   },
   "outputs": [],
   "source": [
    "for epoc in range(1000):\n",
    "    opt.minimize(loss_fn,beta_hat) # 미분 + update "
   ]
  },
  {
   "cell_type": "code",
   "execution_count": 177,
   "id": "2_b4RpnPZddX",
   "metadata": {
    "colab": {
     "base_uri": "https://localhost:8080/"
    },
    "executionInfo": {
     "elapsed": 288,
     "status": "ok",
     "timestamp": 1649072791151,
     "user": {
      "displayName": "이강철",
      "userId": "13507850890638580947"
     },
     "user_tz": -540
    },
    "id": "2_b4RpnPZddX",
    "outputId": "d2966c0c-ff7e-4876-9dd3-ba4817a41430"
   },
   "outputs": [
    {
     "data": {
      "text/plain": [
       "<tf.Variable 'Variable:0' shape=(2, 1) dtype=float64, numpy=\n",
       "array([[2.58366061],\n",
       "       [3.93304684]])>"
      ]
     },
     "execution_count": 177,
     "metadata": {},
     "output_type": "execute_result"
    }
   ],
   "source": [
    "beta_hat"
   ]
  },
  {
   "cell_type": "markdown",
   "id": "bc382f53-9b01-44f7-b62c-08dd158132bb",
   "metadata": {
    "id": "bc382f53-9b01-44f7-b62c-08dd158132bb"
   },
   "source": [
    "### tf.keras.Sequential"
   ]
  },
  {
   "cell_type": "markdown",
   "id": "898fb22e-89bf-4e73-94d9-4370898e9592",
   "metadata": {
    "id": "898fb22e-89bf-4e73-94d9-4370898e9592"
   },
   "source": [
    "`-` $\\hat{y}_i=\\hat{\\beta}_0+\\hat{\\beta}_1x_i$ 의 서로다른 표현 "
   ]
  },
  {
   "cell_type": "code",
   "execution_count": 178,
   "id": "d6645006-7871-4cec-959f-4f77cbc7df06",
   "metadata": {
    "executionInfo": {
     "elapsed": 267,
     "status": "ok",
     "timestamp": 1649072795501,
     "user": {
      "displayName": "이강철",
      "userId": "13507850890638580947"
     },
     "user_tz": -540
    },
    "id": "d6645006-7871-4cec-959f-4f77cbc7df06"
   },
   "outputs": [],
   "source": [
    "import graphviz\n",
    "def gv(s): return graphviz.Source('digraph G{ rankdir=\"LR\"'+s + '; }')"
   ]
  },
  {
   "cell_type": "code",
   "execution_count": null,
   "id": "912037ce-376d-4eac-9c01-7dfd2b681549",
   "metadata": {
    "id": "912037ce-376d-4eac-9c01-7dfd2b681549",
    "outputId": "fe26c88c-27a5-4c78-d1b6-bcac9a7f1547"
   },
   "outputs": [
    {
     "data": {
      "image/svg+xml": [
       "<?xml version=\"1.0\" encoding=\"UTF-8\" standalone=\"no\"?>\n",
       "<!DOCTYPE svg PUBLIC \"-//W3C//DTD SVG 1.1//EN\"\n",
       " \"http://www.w3.org/Graphics/SVG/1.1/DTD/svg11.dtd\">\n",
       "<!-- Generated by graphviz version 3.0.0 (20220315.2325)\n",
       " -->\n",
       "<!-- Title: G Pages: 1 -->\n",
       "<svg width=\"727pt\" height=\"98pt\"\n",
       " viewBox=\"0.00 0.00 726.86 98.00\" xmlns=\"http://www.w3.org/2000/svg\" xmlns:xlink=\"http://www.w3.org/1999/xlink\">\n",
       "<g id=\"graph0\" class=\"graph\" transform=\"scale(1 1) rotate(0) translate(4 94)\">\n",
       "<title>G</title>\n",
       "<polygon fill=\"white\" stroke=\"transparent\" points=\"-4,4 -4,-94 722.86,-94 722.86,4 -4,4\"/>\n",
       "<!-- 1 -->\n",
       "<g id=\"node1\" class=\"node\">\n",
       "<title>1</title>\n",
       "<ellipse fill=\"none\" stroke=\"black\" cx=\"27\" cy=\"-72\" rx=\"27\" ry=\"18\"/>\n",
       "<text text-anchor=\"middle\" x=\"27\" y=\"-68.3\" font-family=\"Times,serif\" font-size=\"14.00\">1</text>\n",
       "</g>\n",
       "<!-- beta0_hat + x*beta1_hat, &#160;&#160;&#160;bias=False -->\n",
       "<g id=\"node2\" class=\"node\">\n",
       "<title>beta0_hat + x*beta1_hat, &#160;&#160;&#160;bias=False</title>\n",
       "<ellipse fill=\"none\" stroke=\"black\" cx=\"363.73\" cy=\"-45\" rx=\"191.97\" ry=\"18\"/>\n",
       "<text text-anchor=\"middle\" x=\"363.73\" y=\"-41.3\" font-family=\"Times,serif\" font-size=\"14.00\">beta0_hat + x*beta1_hat, &#160;&#160;&#160;bias=False</text>\n",
       "</g>\n",
       "<!-- 1&#45;&gt;beta0_hat + x*beta1_hat, &#160;&#160;&#160;bias=False -->\n",
       "<g id=\"edge1\" class=\"edge\">\n",
       "<title>1&#45;&gt;beta0_hat + x*beta1_hat, &#160;&#160;&#160;bias=False</title>\n",
       "<path fill=\"none\" stroke=\"black\" d=\"M53.99,-69.9C87.46,-67.2 148.36,-62.29 207.28,-57.54\"/>\n",
       "<polygon fill=\"black\" stroke=\"black\" points=\"207.79,-61.01 217.48,-56.72 207.23,-54.03 207.79,-61.01\"/>\n",
       "<text text-anchor=\"middle\" x=\"113\" y=\"-71.8\" font-family=\"Times,serif\" font-size=\"14.00\">* beta0_hat</text>\n",
       "</g>\n",
       "<!-- yhat -->\n",
       "<g id=\"node4\" class=\"node\">\n",
       "<title>yhat</title>\n",
       "<ellipse fill=\"none\" stroke=\"black\" cx=\"687.66\" cy=\"-45\" rx=\"31.4\" ry=\"18\"/>\n",
       "<text text-anchor=\"middle\" x=\"687.66\" y=\"-41.3\" font-family=\"Times,serif\" font-size=\"14.00\">yhat</text>\n",
       "</g>\n",
       "<!-- beta0_hat + x*beta1_hat, &#160;&#160;&#160;bias=False&#45;&gt;yhat -->\n",
       "<g id=\"edge3\" class=\"edge\">\n",
       "<title>beta0_hat + x*beta1_hat, &#160;&#160;&#160;bias=False&#45;&gt;yhat</title>\n",
       "<path fill=\"none\" stroke=\"black\" d=\"M555.72,-45C589.92,-45 622.25,-45 646.23,-45\"/>\n",
       "<polygon fill=\"black\" stroke=\"black\" points=\"646.3,-48.5 656.3,-45 646.3,-41.5 646.3,-48.5\"/>\n",
       "<text text-anchor=\"middle\" x=\"605.97\" y=\"-48.8\" font-family=\"Times,serif\" font-size=\"14.00\">indentity</text>\n",
       "</g>\n",
       "<!-- x -->\n",
       "<g id=\"node3\" class=\"node\">\n",
       "<title>x</title>\n",
       "<ellipse fill=\"none\" stroke=\"black\" cx=\"27\" cy=\"-18\" rx=\"27\" ry=\"18\"/>\n",
       "<text text-anchor=\"middle\" x=\"27\" y=\"-14.3\" font-family=\"Times,serif\" font-size=\"14.00\">x</text>\n",
       "</g>\n",
       "<!-- x&#45;&gt;beta0_hat + x*beta1_hat, &#160;&#160;&#160;bias=False -->\n",
       "<g id=\"edge2\" class=\"edge\">\n",
       "<title>x&#45;&gt;beta0_hat + x*beta1_hat, &#160;&#160;&#160;bias=False</title>\n",
       "<path fill=\"none\" stroke=\"black\" d=\"M53.99,-20.1C87.46,-22.8 148.36,-27.71 207.28,-32.46\"/>\n",
       "<polygon fill=\"black\" stroke=\"black\" points=\"207.23,-35.97 217.48,-33.28 207.79,-28.99 207.23,-35.97\"/>\n",
       "<text text-anchor=\"middle\" x=\"113\" y=\"-30.8\" font-family=\"Times,serif\" font-size=\"14.00\">* beta1_hat</text>\n",
       "</g>\n",
       "</g>\n",
       "</svg>\n"
      ],
      "text/plain": [
       "<graphviz.sources.Source at 0x7efd38c2a320>"
      ]
     },
     "execution_count": 5,
     "metadata": {},
     "output_type": "execute_result"
    }
   ],
   "source": [
    "gv(''' \n",
    "    \"1\" -> \"beta0_hat + x*beta1_hat,    bias=False\"[label=\"* beta0_hat\"]\n",
    "    \"x\" -> \"beta0_hat + x*beta1_hat,    bias=False\"[label=\"* beta1_hat\"]\n",
    "    \"beta0_hat + x*beta1_hat,    bias=False\" -> \"yhat\"[label=\"indentity\"]\n",
    "    ''')"
   ]
  },
  {
   "cell_type": "code",
   "execution_count": null,
   "id": "a57cf1ac-1e13-488b-9d5e-dc9323b8864f",
   "metadata": {
    "id": "a57cf1ac-1e13-488b-9d5e-dc9323b8864f",
    "outputId": "777699fb-2ab1-499c-e5df-3ef14efd20ca"
   },
   "outputs": [
    {
     "data": {
      "image/svg+xml": [
       "<?xml version=\"1.0\" encoding=\"UTF-8\" standalone=\"no\"?>\n",
       "<!DOCTYPE svg PUBLIC \"-//W3C//DTD SVG 1.1//EN\"\n",
       " \"http://www.w3.org/Graphics/SVG/1.1/DTD/svg11.dtd\">\n",
       "<!-- Generated by graphviz version 3.0.0 (20220315.2325)\n",
       " -->\n",
       "<!-- Title: G Pages: 1 -->\n",
       "<svg width=\"598pt\" height=\"44pt\"\n",
       " viewBox=\"0.00 0.00 598.07 44.00\" xmlns=\"http://www.w3.org/2000/svg\" xmlns:xlink=\"http://www.w3.org/1999/xlink\">\n",
       "<g id=\"graph0\" class=\"graph\" transform=\"scale(1 1) rotate(0) translate(4 40)\">\n",
       "<title>G</title>\n",
       "<polygon fill=\"white\" stroke=\"transparent\" points=\"-4,4 -4,-40 594.07,-40 594.07,4 -4,4\"/>\n",
       "<!-- x -->\n",
       "<g id=\"node1\" class=\"node\">\n",
       "<title>x</title>\n",
       "<ellipse fill=\"none\" stroke=\"black\" cx=\"27\" cy=\"-18\" rx=\"27\" ry=\"18\"/>\n",
       "<text text-anchor=\"middle\" x=\"27\" y=\"-14.3\" font-family=\"Times,serif\" font-size=\"14.00\">x</text>\n",
       "</g>\n",
       "<!-- x*beta1_hat, &#160;&#160;&#160;bias=True -->\n",
       "<g id=\"node2\" class=\"node\">\n",
       "<title>x*beta1_hat, &#160;&#160;&#160;bias=True</title>\n",
       "<ellipse fill=\"none\" stroke=\"black\" cx=\"297.34\" cy=\"-18\" rx=\"129.18\" ry=\"18\"/>\n",
       "<text text-anchor=\"middle\" x=\"297.34\" y=\"-14.3\" font-family=\"Times,serif\" font-size=\"14.00\">x*beta1_hat, &#160;&#160;&#160;bias=True</text>\n",
       "</g>\n",
       "<!-- x&#45;&gt;x*beta1_hat, &#160;&#160;&#160;bias=True -->\n",
       "<g id=\"edge1\" class=\"edge\">\n",
       "<title>x&#45;&gt;x*beta1_hat, &#160;&#160;&#160;bias=True</title>\n",
       "<path fill=\"none\" stroke=\"black\" d=\"M54.22,-18C78.96,-18 118.07,-18 157.71,-18\"/>\n",
       "<polygon fill=\"black\" stroke=\"black\" points=\"157.79,-21.5 167.79,-18 157.79,-14.5 157.79,-21.5\"/>\n",
       "<text text-anchor=\"middle\" x=\"111\" y=\"-21.8\" font-family=\"Times,serif\" font-size=\"14.00\">*beta1_hat</text>\n",
       "</g>\n",
       "<!-- yhat -->\n",
       "<g id=\"node3\" class=\"node\">\n",
       "<title>yhat</title>\n",
       "<ellipse fill=\"none\" stroke=\"black\" cx=\"558.87\" cy=\"-18\" rx=\"31.4\" ry=\"18\"/>\n",
       "<text text-anchor=\"middle\" x=\"558.87\" y=\"-14.3\" font-family=\"Times,serif\" font-size=\"14.00\">yhat</text>\n",
       "</g>\n",
       "<!-- x*beta1_hat, &#160;&#160;&#160;bias=True&#45;&gt;yhat -->\n",
       "<g id=\"edge2\" class=\"edge\">\n",
       "<title>x*beta1_hat, &#160;&#160;&#160;bias=True&#45;&gt;yhat</title>\n",
       "<path fill=\"none\" stroke=\"black\" d=\"M426.97,-18C459.87,-18 492.87,-18 517.5,-18\"/>\n",
       "<polygon fill=\"black\" stroke=\"black\" points=\"517.53,-21.5 527.53,-18 517.53,-14.5 517.53,-21.5\"/>\n",
       "<text text-anchor=\"middle\" x=\"477.18\" y=\"-21.8\" font-family=\"Times,serif\" font-size=\"14.00\">indentity</text>\n",
       "</g>\n",
       "</g>\n",
       "</svg>\n"
      ],
      "text/plain": [
       "<graphviz.sources.Source at 0x7efd38c2a290>"
      ]
     },
     "execution_count": 6,
     "metadata": {},
     "output_type": "execute_result"
    }
   ],
   "source": [
    "gv('''\n",
    "\"x\" -> \"x*beta1_hat,    bias=True\"[label=\"*beta1_hat\"] ;\n",
    "\"x*beta1_hat,    bias=True\" -> \"yhat\"[label=\"indentity\"] ''')\n"
   ]
  },
  {
   "cell_type": "code",
   "execution_count": null,
   "id": "6b6cacce-e9e7-40cc-8481-0eaabbedb4dc",
   "metadata": {
    "id": "6b6cacce-e9e7-40cc-8481-0eaabbedb4dc",
    "outputId": "bcdb5c31-7ade-473c-a486-cf50eb2ef6e8"
   },
   "outputs": [
    {
     "data": {
      "image/svg+xml": [
       "<?xml version=\"1.0\" encoding=\"UTF-8\" standalone=\"no\"?>\n",
       "<!DOCTYPE svg PUBLIC \"-//W3C//DTD SVG 1.1//EN\"\n",
       " \"http://www.w3.org/Graphics/SVG/1.1/DTD/svg11.dtd\">\n",
       "<!-- Generated by graphviz version 3.0.0 (20220315.2325)\n",
       " -->\n",
       "<!-- Title: G Pages: 1 -->\n",
       "<svg width=\"640pt\" height=\"44pt\"\n",
       " viewBox=\"0.00 0.00 639.56 44.00\" xmlns=\"http://www.w3.org/2000/svg\" xmlns:xlink=\"http://www.w3.org/1999/xlink\">\n",
       "<g id=\"graph0\" class=\"graph\" transform=\"scale(1 1) rotate(0) translate(4 40)\">\n",
       "<title>G</title>\n",
       "<polygon fill=\"white\" stroke=\"transparent\" points=\"-4,4 -4,-40 635.56,-40 635.56,4 -4,4\"/>\n",
       "<!-- X=[1 x] -->\n",
       "<g id=\"node1\" class=\"node\">\n",
       "<title>X=[1 x]</title>\n",
       "<ellipse fill=\"none\" stroke=\"black\" cx=\"46.15\" cy=\"-18\" rx=\"46.29\" ry=\"18\"/>\n",
       "<text text-anchor=\"middle\" x=\"46.15\" y=\"-14.3\" font-family=\"Times,serif\" font-size=\"14.00\">X=[1 x]</text>\n",
       "</g>\n",
       "<!-- X@beta_hat, &#160;&#160;&#160;bias=False -->\n",
       "<g id=\"node2\" class=\"node\">\n",
       "<title>X@beta_hat, &#160;&#160;&#160;bias=False</title>\n",
       "<ellipse fill=\"none\" stroke=\"black\" cx=\"336.23\" cy=\"-18\" rx=\"131.88\" ry=\"18\"/>\n",
       "<text text-anchor=\"middle\" x=\"336.23\" y=\"-14.3\" font-family=\"Times,serif\" font-size=\"14.00\">X@beta_hat, &#160;&#160;&#160;bias=False</text>\n",
       "</g>\n",
       "<!-- X=[1 x]&#45;&gt;X@beta_hat, &#160;&#160;&#160;bias=False -->\n",
       "<g id=\"edge1\" class=\"edge\">\n",
       "<title>X=[1 x]&#45;&gt;X@beta_hat, &#160;&#160;&#160;bias=False</title>\n",
       "<path fill=\"none\" stroke=\"black\" d=\"M92.48,-18C120.07,-18 156.97,-18 193.66,-18\"/>\n",
       "<polygon fill=\"black\" stroke=\"black\" points=\"193.99,-21.5 203.99,-18 193.99,-14.5 193.99,-21.5\"/>\n",
       "<text text-anchor=\"middle\" x=\"148.29\" y=\"-21.8\" font-family=\"Times,serif\" font-size=\"14.00\">@beta_hat</text>\n",
       "</g>\n",
       "<!-- yhat -->\n",
       "<g id=\"node3\" class=\"node\">\n",
       "<title>yhat</title>\n",
       "<ellipse fill=\"none\" stroke=\"black\" cx=\"600.37\" cy=\"-18\" rx=\"31.4\" ry=\"18\"/>\n",
       "<text text-anchor=\"middle\" x=\"600.37\" y=\"-14.3\" font-family=\"Times,serif\" font-size=\"14.00\">yhat</text>\n",
       "</g>\n",
       "<!-- X@beta_hat, &#160;&#160;&#160;bias=False&#45;&gt;yhat -->\n",
       "<g id=\"edge2\" class=\"edge\">\n",
       "<title>X@beta_hat, &#160;&#160;&#160;bias=False&#45;&gt;yhat</title>\n",
       "<path fill=\"none\" stroke=\"black\" d=\"M468.3,-18C501.34,-18 534.38,-18 559.02,-18\"/>\n",
       "<polygon fill=\"black\" stroke=\"black\" points=\"559.04,-21.5 569.04,-18 559.04,-14.5 559.04,-21.5\"/>\n",
       "<text text-anchor=\"middle\" x=\"518.67\" y=\"-21.8\" font-family=\"Times,serif\" font-size=\"14.00\">indentity</text>\n",
       "</g>\n",
       "</g>\n",
       "</svg>\n"
      ],
      "text/plain": [
       "<graphviz.sources.Source at 0x7efd38c47190>"
      ]
     },
     "execution_count": 7,
     "metadata": {},
     "output_type": "execute_result"
    }
   ],
   "source": [
    "gv('''\n",
    "\"X=[1 x]\" -> \"X@beta_hat,    bias=False\"[label=\"@beta_hat\"] ;\n",
    "\"X@beta_hat,    bias=False\" -> \"yhat\"[label=\"indentity\"] ''')\n"
   ]
  },
  {
   "cell_type": "markdown",
   "id": "755caa9d-a9d5-40b0-9006-bbc9bbb64800",
   "metadata": {
    "id": "755caa9d-a9d5-40b0-9006-bbc9bbb64800"
   },
   "source": [
    "#### 풀이1: 벡터버전, 사용자정의 손실함수 "
   ]
  },
  {
   "cell_type": "markdown",
   "id": "15875d56-087b-4ea5-abd7-1e7ce4225aad",
   "metadata": {
    "id": "15875d56-087b-4ea5-abd7-1e7ce4225aad"
   },
   "source": [
    "`-` 포인트\n",
    "```python\n",
    "## 포인트코드1: 네트워크 생성 \n",
    "net = tf.keras.Sequential()\n",
    "\n",
    "## 포인트코드2: 네트워크의 아키텍처 설계 \n",
    "net.add(tf.keras.layers.Dense(1,input_shape=(2,),use_bias=False)) \n",
    "\n",
    "## 포인트코드3: 네트워크 컴파일 = 아키텍처 + 손실함수 + 옵티마이저\n",
    "net.compile(opt,loss=loss_fn2)\n",
    "\n",
    "## 포인트코드4: 미분 & update \n",
    "net.fit(X,y,epochs=1000,verbose=0,batch_size=N) \n",
    "```"
   ]
  },
  {
   "cell_type": "code",
   "execution_count": 179,
   "id": "hYtLD15SZpH-",
   "metadata": {
    "colab": {
     "base_uri": "https://localhost:8080/"
    },
    "executionInfo": {
     "elapsed": 264,
     "status": "ok",
     "timestamp": 1649072839451,
     "user": {
      "displayName": "이강철",
      "userId": "13507850890638580947"
     },
     "user_tz": -540
    },
    "id": "hYtLD15SZpH-",
    "outputId": "82cd63ed-336b-47dc-a3a7-38b72639c8f3"
   },
   "outputs": [
    {
     "data": {
      "text/plain": [
       "(TensorShape([200, 2]), TensorShape([200, 1]))"
      ]
     },
     "execution_count": 179,
     "metadata": {},
     "output_type": "execute_result"
    }
   ],
   "source": [
    "y=y.reshape(N,1)\n",
    "X.shape,y.shape"
   ]
  },
  {
   "cell_type": "code",
   "execution_count": 180,
   "id": "1PdpifGgZqv1",
   "metadata": {
    "executionInfo": {
     "elapsed": 267,
     "status": "ok",
     "timestamp": 1649072845729,
     "user": {
      "displayName": "이강철",
      "userId": "13507850890638580947"
     },
     "user_tz": -540
    },
    "id": "1PdpifGgZqv1"
   },
   "outputs": [],
   "source": [
    "net = tf.keras.Sequential() \n",
    "net.add(tf.keras.layers.Dense(units=1,input_shape=(2,),use_bias=False)) # 아키텍처 설계 = yhat을 만들계획 "
   ]
  },
  {
   "cell_type": "code",
   "execution_count": 181,
   "id": "w0UUZ-A9ZsKd",
   "metadata": {
    "executionInfo": {
     "elapsed": 256,
     "status": "ok",
     "timestamp": 1649072851510,
     "user": {
      "displayName": "이강철",
      "userId": "13507850890638580947"
     },
     "user_tz": -540
    },
    "id": "w0UUZ-A9ZsKd"
   },
   "outputs": [],
   "source": [
    "def loss_fn2(y,yhat): ## 손실함수의 정의 \n",
    "    return (y-yhat).T @ (y-yhat) / N  "
   ]
  },
  {
   "cell_type": "code",
   "execution_count": 182,
   "id": "N46LQywHZtjw",
   "metadata": {
    "executionInfo": {
     "elapsed": 293,
     "status": "ok",
     "timestamp": 1649072862681,
     "user": {
      "displayName": "이강철",
      "userId": "13507850890638580947"
     },
     "user_tz": -540
    },
    "id": "N46LQywHZtjw"
   },
   "outputs": [],
   "source": [
    "alpha=0.1\n",
    "opt=tf.optimizers.SGD(alpha) ## 옵티마이저의 선택 "
   ]
  },
  {
   "cell_type": "code",
   "execution_count": 183,
   "id": "NEPRzGFtZvZf",
   "metadata": {
    "executionInfo": {
     "elapsed": 255,
     "status": "ok",
     "timestamp": 1649072867206,
     "user": {
      "displayName": "이강철",
      "userId": "13507850890638580947"
     },
     "user_tz": -540
    },
    "id": "NEPRzGFtZvZf"
   },
   "outputs": [],
   "source": [
    "net.compile(opt,loss=loss_fn2) ## 컴파일 = 아키텍처 + 손실함수 + 옵티마이저 "
   ]
  },
  {
   "cell_type": "code",
   "execution_count": 184,
   "id": "72PzOeyRZwzp",
   "metadata": {
    "colab": {
     "base_uri": "https://localhost:8080/"
    },
    "executionInfo": {
     "elapsed": 6228,
     "status": "ok",
     "timestamp": 1649072878608,
     "user": {
      "displayName": "이강철",
      "userId": "13507850890638580947"
     },
     "user_tz": -540
    },
    "id": "72PzOeyRZwzp",
    "outputId": "2f0d5e76-106b-4b9a-a59d-5e9b382eeba0"
   },
   "outputs": [
    {
     "data": {
      "text/plain": [
       "<keras.callbacks.History at 0x7f42158d8e10>"
      ]
     },
     "execution_count": 184,
     "metadata": {},
     "output_type": "execute_result"
    }
   ],
   "source": [
    "net.fit(X,y,epochs=1000,verbose=0,batch_size=N) # 미분 & update 의 반복"
   ]
  },
  {
   "cell_type": "code",
   "execution_count": 185,
   "id": "9T53KKoJZygv",
   "metadata": {
    "colab": {
     "base_uri": "https://localhost:8080/"
    },
    "executionInfo": {
     "elapsed": 263,
     "status": "ok",
     "timestamp": 1649072880788,
     "user": {
      "displayName": "이강철",
      "userId": "13507850890638580947"
     },
     "user_tz": -540
    },
    "id": "9T53KKoJZygv",
    "outputId": "b21adf13-4a2c-4507-9466-1870f3acb639"
   },
   "outputs": [
    {
     "data": {
      "text/plain": [
       "[<tf.Variable 'dense/kernel:0' shape=(2, 1) dtype=float32, numpy=\n",
       " array([[2.5836728],\n",
       "        [3.9330244]], dtype=float32)>]"
      ]
     },
     "execution_count": 185,
     "metadata": {},
     "output_type": "execute_result"
    }
   ],
   "source": [
    "net.weights"
   ]
  }
 ],
 "metadata": {
  "colab": {
   "collapsed_sections": [],
   "name": "2022-03-30-(5주차).ipynb",
   "provenance": [
    {
     "file_id": "https://github.com/guebin/STBDA2022/blob/master/_notebooks/2022-03-30-(5%EC%A3%BC%EC%B0%A8)%204%EC%9B%944%EC%9D%BC.ipynb",
     "timestamp": 1649066547885
    }
   ],
   "toc_visible": true
  },
  "kernelspec": {
   "display_name": "Python 3 (ipykernel)",
   "language": "python",
   "name": "python3"
  },
  "language_info": {
   "codemirror_mode": {
    "name": "ipython",
    "version": 3
   },
   "file_extension": ".py",
   "mimetype": "text/x-python",
   "name": "python",
   "nbconvert_exporter": "python",
   "pygments_lexer": "ipython3",
   "version": "3.9.13"
  }
 },
 "nbformat": 4,
 "nbformat_minor": 5
}
