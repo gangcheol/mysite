{
 "cells": [
  {
   "cell_type": "raw",
   "id": "5baf6fc1",
   "metadata": {},
   "source": [
    "---\n",
    "title : \"part 5\"\n",
    "date : \"02/10/23\"\n",
    "author : \"GANGCHEOL LEE\"\n",
    "categories : \"speaking\"\n",
    "---"
   ]
  },
  {
   "cell_type": "markdown",
   "id": "423932d7",
   "metadata": {},
   "source": [
    "# 0. Intro"
   ]
  },
  {
   "cell_type": "markdown",
   "id": "80b1fa49",
   "metadata": {},
   "source": [
    "`-` : 준비시간 45초, 답변시간 60초"
   ]
  },
  {
   "cell_type": "markdown",
   "id": "ebc6c0a5",
   "metadata": {},
   "source": [
    "`-` [part5 이론강의영상](https://youtu.be/xgJuKIZQbeo)"
   ]
  },
  {
   "cell_type": "markdown",
   "id": "9d1e313f",
   "metadata": {},
   "source": [
    "## (1) 준비시간 전략"
   ]
  },
  {
   "cell_type": "markdown",
   "id": "1e172c5d",
   "metadata": {},
   "source": [
    "### (1)-1. 문제 해석과 이해"
   ]
  },
  {
   "cell_type": "markdown",
   "id": "b727c1ba",
   "metadata": {},
   "source": [
    "* keypoint : **\"문제에 대한 적절합 답변을 하는 것!\"**"
   ]
  },
  {
   "cell_type": "markdown",
   "id": "aaea0d71",
   "metadata": {},
   "source": [
    "* 15초 이내로 문제 해석을 끝낸내는 것이 가장 좋음"
   ]
  },
  {
   "cell_type": "markdown",
   "id": "76dfa035",
   "metadata": {},
   "source": [
    "### (1)-2. 아이디어 생각하기"
   ]
  },
  {
   "cell_type": "markdown",
   "id": "b25963b0",
   "metadata": {},
   "source": [
    "* **\"파트 5 만능 문장, 파트3 만능 문장50가지\"** 를 이용하여 2문장 이상을 준비시간에 생각해내자"
   ]
  },
  {
   "cell_type": "markdown",
   "id": "ce7a13a3",
   "metadata": {},
   "source": [
    "* [파트 5 만능문장](https://youtu.be/P43wDlScjIs)"
   ]
  },
  {
   "cell_type": "markdown",
   "id": "35f0c30b",
   "metadata": {},
   "source": [
    "### (1)-3. 노트 테이킹"
   ]
  },
  {
   "cell_type": "markdown",
   "id": "d063ed4b",
   "metadata": {},
   "source": [
    "* 5글자 이상 되는 단어는 앞의 4-5글자만 쓰고, 동사 위주로만 필기하자."
   ]
  },
  {
   "cell_type": "markdown",
   "id": "6721788a",
   "metadata": {},
   "source": [
    "## (2) 답변시간 전략"
   ]
  },
  {
   "cell_type": "markdown",
   "id": "dc802c10",
   "metadata": {},
   "source": [
    "`-` 전반적인 순서 : 서론(결론) $\\to$ 이유1 $\\to$ 예시1$\\to$ 이유2 $\\to$ 예시2 $\\to$ Therefore, I agree with the statement~ "
   ]
  },
  {
   "cell_type": "markdown",
   "id": "54bdb2ac",
   "metadata": {},
   "source": [
    "`-` 할 수 있다면 만능문장과, 모범답안을 계속 모방해서 연습하자(**고득점 전략!**)"
   ]
  },
  {
   "cell_type": "markdown",
   "id": "fa311163",
   "metadata": {},
   "source": [
    "$\\divideontimes$ 동문서답금지 $\\to$ 외운 답변을 문제에 적절하지 않게그대로 말하면 큰 실점이 된다."
   ]
  },
  {
   "cell_type": "markdown",
   "id": "666f2e94",
   "metadata": {},
   "source": [
    "## (3) 목표 레벨별 전략"
   ]
  },
  {
   "cell_type": "markdown",
   "id": "538c54e8",
   "metadata": {},
   "source": [
    "`-` 130 ~ 150 (IH) : 문제에 적합한 답변을 채점자가 알아 듣게만 하자 $\\to$ 모범 답안의 70 ~ 80%의 퍼포먼스"
   ]
  },
  {
   "cell_type": "markdown",
   "id": "437bceeb",
   "metadata": {},
   "source": [
    "`-` 160이상 (AL 이상) : 파트5 만능 문장을 2문장 이상 다양하게 이용해서 말한다.\n",
    "    \n",
    "    - 파트 3의 만능 문장 50의 쉬운 문장들도 함께 이용한다.\n",
    "    \n",
    "    - 만능 문장을 적용해서 답변하는 연습 (30 set구비)"
   ]
  },
  {
   "cell_type": "markdown",
   "id": "14f1e86a",
   "metadata": {},
   "source": [
    "* 130 + vs 160 : 구체성의 차이!\n",
    "    * A. IH 답변 : From my experience, I studied overseas\n",
    "    * B. AL 답변 : From my experience, I studied in Japan as an exchange student last year.\n",
    " "
   ]
  },
  {
   "cell_type": "markdown",
   "id": "b8464d4c",
   "metadata": {},
   "source": [
    "## (4) part5 만능 문장"
   ]
  },
  {
   "cell_type": "markdown",
   "id": "524cc8d7",
   "metadata": {},
   "source": [
    "### A. 경험 & 교육"
   ]
  },
  {
   "cell_type": "markdown",
   "id": "2c5b9d9a",
   "metadata": {},
   "source": [
    "1. They can learn new things."
   ]
  },
  {
   "cell_type": "markdown",
   "id": "bdae72e6",
   "metadata": {},
   "source": [
    "2. They can meet new people and expand their network."
   ]
  },
  {
   "cell_type": "markdown",
   "id": "fa4e2f28",
   "metadata": {},
   "source": [
    "3. They can have a lot of (new) experience and broaden their perspective."
   ]
  },
  {
   "cell_type": "markdown",
   "id": "2e24030d",
   "metadata": {},
   "source": [
    "4. They can't make good decisions because they are not mature enough."
   ]
  },
  {
   "cell_type": "markdown",
   "id": "ff2be483",
   "metadata": {},
   "source": [
    "### B. 집중"
   ]
  },
  {
   "cell_type": "markdown",
   "id": "eeafb9ab",
   "metadata": {},
   "source": [
    "5. They will be distracted / if a teacher is not strict : strict(엄격한)"
   ]
  },
  {
   "cell_type": "markdown",
   "id": "122fdb56",
   "metadata": {},
   "source": [
    "6. They can't focus on their studies/work."
   ]
  },
  {
   "cell_type": "markdown",
   "id": "6694e9b7",
   "metadata": {},
   "source": [
    "7. They can't get good grades at school."
   ]
  },
  {
   "cell_type": "markdown",
   "id": "eca29ee7",
   "metadata": {},
   "source": [
    "8. They will fall behind in class."
   ]
  },
  {
   "cell_type": "markdown",
   "id": "aa28202c",
   "metadata": {},
   "source": [
    "9. They can't work efficiently."
   ]
  },
  {
   "cell_type": "markdown",
   "id": "934d385b",
   "metadata": {},
   "source": [
    "###  C. 돈"
   ]
  },
  {
   "cell_type": "markdown",
   "id": "da91f444",
   "metadata": {},
   "source": [
    "10. They can save money."
   ]
  },
  {
   "cell_type": "markdown",
   "id": "72c67935",
   "metadata": {},
   "source": [
    "11. The cost of living is too high."
   ]
  },
  {
   "cell_type": "markdown",
   "id": "43b8bd76",
   "metadata": {},
   "source": [
    "12. They can't make a living."
   ]
  },
  {
   "cell_type": "markdown",
   "id": "2c6d6db2",
   "metadata": {},
   "source": [
    "13. I can get a high(er) salary."
   ]
  },
  {
   "cell_type": "markdown",
   "id": "548df99f",
   "metadata": {},
   "source": [
    "14. The cost of N is too expensive."
   ]
  },
  {
   "cell_type": "markdown",
   "id": "493c9a77",
   "metadata": {},
   "source": [
    "15. It's waste of money."
   ]
  },
  {
   "cell_type": "markdown",
   "id": "360be3c1",
   "metadata": {},
   "source": [
    "16. That's good investment because it makes lives better."
   ]
  },
  {
   "cell_type": "markdown",
   "id": "13092d98",
   "metadata": {},
   "source": [
    "### D. 혼자 vs 같이"
   ]
  },
  {
   "cell_type": "markdown",
   "id": "7c2df5c8",
   "metadata": {},
   "source": [
    "17. They can focus better."
   ]
  },
  {
   "cell_type": "markdown",
   "id": "9b494309",
   "metadata": {},
   "source": [
    "18. They will not be distracted by others."
   ]
  },
  {
   "cell_type": "markdown",
   "id": "35db6c1c",
   "metadata": {},
   "source": [
    "19. They can set their own schedule."
   ]
  },
  {
   "cell_type": "markdown",
   "id": "c607818c",
   "metadata": {},
   "source": [
    "20. They can have more freedom."
   ]
  },
  {
   "cell_type": "markdown",
   "id": "dd302340",
   "metadata": {},
   "source": [
    "21. They feel more comfortable."
   ]
  },
  {
   "cell_type": "markdown",
   "id": "1af3a0c1",
   "metadata": {},
   "source": [
    "22. It's fun and entertaining."
   ]
  },
  {
   "cell_type": "markdown",
   "id": "6b1b292b",
   "metadata": {},
   "source": [
    "23. They can get information and share it with other people."
   ]
  },
  {
   "cell_type": "markdown",
   "id": "260ad44c",
   "metadata": {},
   "source": [
    "24. It feels more like a family."
   ]
  },
  {
   "cell_type": "markdown",
   "id": "d7fd4679",
   "metadata": {},
   "source": [
    "### E. 기술"
   ]
  },
  {
   "cell_type": "markdown",
   "id": "8efdf9de",
   "metadata": {},
   "source": [
    "25. They can get a lot of (useful information/latest information) on the Internet.\n",
    "    \n",
    "    - 기기나 인터넷 상에서 하는 것 앞에는 전치사 **'on'** 을 쓴다."
   ]
  },
  {
   "cell_type": "markdown",
   "id": "e55f9144",
   "metadata": {},
   "source": [
    "26. They can communicate with their friends anytime anywhere on their smartphones.\n"
   ]
  },
  {
   "cell_type": "markdown",
   "id": "e96b891d",
   "metadata": {},
   "source": [
    "27. It's faster and convenient."
   ]
  },
  {
   "cell_type": "markdown",
   "id": "45fbc970",
   "metadata": {},
   "source": [
    "28. There is a lot of inaccurate information on the internet so it's not reliable."
   ]
  },
  {
   "cell_type": "markdown",
   "id": "1da62175",
   "metadata": {},
   "source": [
    "29. it is very distracting for S so S can't focus on their studies/work."
   ]
  },
  {
   "cell_type": "markdown",
   "id": "e7488563",
   "metadata": {},
   "source": [
    "30. I can get responses right away"
   ]
  },
  {
   "cell_type": "markdown",
   "id": "39b433ab",
   "metadata": {},
   "source": [
    "31. I can understand the feeling  of the speaker more accurately."
   ]
  },
  {
   "cell_type": "markdown",
   "id": "106a3f4b",
   "metadata": {},
   "source": [
    "### F. 특징"
   ]
  },
  {
   "cell_type": "markdown",
   "id": "f4692034",
   "metadata": {},
   "source": [
    "32. They can make a friendly (work) atmosphere."
   ]
  },
  {
   "cell_type": "markdown",
   "id": "604e14c5",
   "metadata": {},
   "source": [
    "33. They can communicate with others better."
   ]
  },
  {
   "cell_type": "markdown",
   "id": "28f8e58a",
   "metadata": {},
   "source": [
    "34. They can be good team players and make good relationships with others."
   ]
  },
  {
   "cell_type": "markdown",
   "id": "2ac7329f",
   "metadata": {},
   "source": [
    "35. They can have a good reputation."
   ]
  },
  {
   "cell_type": "markdown",
   "id": "03016c37",
   "metadata": {},
   "source": [
    "36. They can be very influential."
   ]
  },
  {
   "cell_type": "markdown",
   "id": "5990eb9e",
   "metadata": {},
   "source": [
    "37. They can motivate others."
   ]
  },
  {
   "cell_type": "markdown",
   "id": "62a7cc6c",
   "metadata": {},
   "source": [
    "38. Everything is always changing and there is a lot of competition."
   ]
  },
  {
   "cell_type": "markdown",
   "id": "cac5f351",
   "metadata": {},
   "source": [
    "39. They face a lot of challenges and difficulties."
   ]
  },
  {
   "cell_type": "markdown",
   "id": "c2d7dbac",
   "metadata": {},
   "source": [
    "40. He is able to handle a variety of situation due to his N."
   ]
  },
  {
   "cell_type": "markdown",
   "id": "3be51834",
   "metadata": {},
   "source": [
    "41. They have a lot of experience/knowledge."
   ]
  },
  {
   "cell_type": "markdown",
   "id": "5bf63575",
   "metadata": {},
   "source": [
    "### G. 업무 환경  & 기업 성공"
   ]
  },
  {
   "cell_type": "markdown",
   "id": "8cf78fb0",
   "metadata": {},
   "source": [
    "42. Employees can work more efficiently and productively."
   ]
  },
  {
   "cell_type": "markdown",
   "id": "b5a73f2c",
   "metadata": {},
   "source": [
    "43. Employees can be more satisfied with their jobs."
   ]
  },
  {
   "cell_type": "markdown",
   "id": "e3f91996",
   "metadata": {},
   "source": [
    "44. It can make a better work environment."
   ]
  },
  {
   "cell_type": "markdown",
   "id": "d011299a",
   "metadata": {},
   "source": [
    "45. They might appear less professional."
   ]
  },
  {
   "cell_type": "markdown",
   "id": "11095f1c",
   "metadata": {},
   "source": [
    "46. Customers will fell satisfied and remain loyal."
   ]
  },
  {
   "cell_type": "markdown",
   "id": "c7c76295",
   "metadata": {},
   "source": [
    "47. It will attract more customers."
   ]
  },
  {
   "cell_type": "markdown",
   "id": "db936f50",
   "metadata": {},
   "source": [
    "48. The business will be more successful."
   ]
  },
  {
   "cell_type": "markdown",
   "id": "082c467d",
   "metadata": {},
   "source": [
    "49. People frequently use N so it will be very effective."
   ]
  },
  {
   "cell_type": "markdown",
   "id": "f15225f8",
   "metadata": {},
   "source": [
    "### H. 스트레스 & 건강"
   ]
  },
  {
   "cell_type": "markdown",
   "id": "1e52fdf2",
   "metadata": {},
   "source": [
    "50. It relieves their stress and they can relax."
   ]
  },
  {
   "cell_type": "markdown",
   "id": "35032dfc",
   "metadata": {},
   "source": [
    "51. It is good for their (Physical / mental) health."
   ]
  },
  {
   "cell_type": "markdown",
   "id": "5333d65d",
   "metadata": {},
   "source": [
    "52. It is not good for their health."
   ]
  },
  {
   "cell_type": "markdown",
   "id": "8f1a559b",
   "metadata": {},
   "source": [
    "### I. 환경"
   ]
  },
  {
   "cell_type": "markdown",
   "id": "3476acb4",
   "metadata": {},
   "source": [
    "53. It is good for environment."
   ]
  },
  {
   "cell_type": "markdown",
   "id": "1493206e",
   "metadata": {},
   "source": [
    "54. Pollution is a serious issue these days."
   ]
  },
  {
   "cell_type": "markdown",
   "id": "88d68e23",
   "metadata": {},
   "source": [
    "55. It can make a cleaner environment."
   ]
  },
  {
   "cell_type": "markdown",
   "id": "f775cfbb",
   "metadata": {},
   "source": [
    "56. We will be able to protect the environment."
   ]
  },
  {
   "cell_type": "markdown",
   "id": "c6e557b0",
   "metadata": {},
   "source": [
    "***"
   ]
  }
 ],
 "metadata": {
  "kernelspec": {
   "display_name": "Python 3 (ipykernel)",
   "language": "python",
   "name": "python3"
  },
  "language_info": {
   "codemirror_mode": {
    "name": "ipython",
    "version": 3
   },
   "file_extension": ".py",
   "mimetype": "text/x-python",
   "name": "python",
   "nbconvert_exporter": "python",
   "pygments_lexer": "ipython3",
   "version": "3.9.13"
  },
  "toc": {
   "base_numbering": 1,
   "nav_menu": {},
   "number_sections": false,
   "sideBar": true,
   "skip_h1_title": true,
   "title_cell": "Table of Contents",
   "title_sidebar": "Contents",
   "toc_cell": false,
   "toc_position": {
    "height": "calc(100% - 180px)",
    "left": "10px",
    "top": "150px",
    "width": "409.6px"
   },
   "toc_section_display": true,
   "toc_window_display": true
  }
 },
 "nbformat": 4,
 "nbformat_minor": 5
}
