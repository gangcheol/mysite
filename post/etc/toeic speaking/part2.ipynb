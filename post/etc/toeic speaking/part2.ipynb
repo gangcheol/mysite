{
 "cells": [
  {
   "cell_type": "raw",
   "id": "7b91b4b7",
   "metadata": {},
   "source": [
    "---\n",
    "title : \"part 2\"\n",
    "date : \"06/20/23\"\n",
    "author : \"GANGCHEOL LEE\"\n",
    "categories : \"speaking\"\n",
    "---"
   ]
  },
  {
   "cell_type": "markdown",
   "id": "5b2c9d29",
   "metadata": {},
   "source": [
    "# 0. Intro"
   ]
  },
  {
   "cell_type": "markdown",
   "id": "70be0cc0",
   "metadata": {},
   "source": [
    "`-` 사진묘사"
   ]
  },
  {
   "cell_type": "markdown",
   "id": "13e4fb20",
   "metadata": {},
   "source": [
    "`-` Q3-4, 답변 준비 시간 각 45초, 답변 시간 각 30초"
   ]
  },
  {
   "cell_type": "markdown",
   "id": "51e0da48",
   "metadata": {},
   "source": [
    "`-` [참고영상](https://youtu.be/FC1xOMQLvtQ)"
   ]
  },
  {
   "cell_type": "markdown",
   "id": "b7a87ef6",
   "metadata": {},
   "source": [
    "***"
   ]
  },
  {
   "cell_type": "markdown",
   "id": "78998404",
   "metadata": {},
   "source": [
    "# 1. 파트2 만점전략"
   ]
  },
  {
   "cell_type": "markdown",
   "id": "e55df9f3",
   "metadata": {},
   "source": [
    "## (1) 실점 원인 6가지"
   ]
  },
  {
   "cell_type": "markdown",
   "id": "58944b36",
   "metadata": {},
   "source": [
    "1. 준비시간 활용을 잘 못하는 경우\n",
    "\n",
    "2. 아주 기본적인 단어를 모르는 경우\n",
    "\n",
    "3. 외운 템플릿에서는 빠른속도, 내가 영작해야 하는 부분에서는 느려짐\n",
    "\n",
    "4. 세부 사항에 집착을 하다가 사진의 전반적인 것들을 설명 못함\n",
    "\n",
    "5. 기본적인 문법실수가 너무 심하게 반복 **(ex, 한 문장에 동사가 2개, equipment 같은 불가산 명사에 (a)를 붙임)**\n",
    "\n",
    "6. 사진에 대한 묘사 보다 내 의견 위주로 말하는 경우"
   ]
  },
  {
   "cell_type": "markdown",
   "id": "7bed3889",
   "metadata": {},
   "source": [
    "## (2) 만접 비법 3가지"
   ]
  },
  {
   "cell_type": "markdown",
   "id": "67dea6e4",
   "metadata": {},
   "source": [
    "1. [템플릿, 빈출 표현 입을 움직여서 암기](https://www.youtube.com/watch?v=nIup6_Xe7Xo&list=PL8-zrEeeBrpPmDhiXAcShsBCQtf0sM-aG&index=5) "
   ]
  },
  {
   "cell_type": "markdown",
   "id": "232d54fb",
   "metadata": {},
   "source": [
    "2. 지엽적, 한가지 대상만 오래 설명하지말고, **\"공통문장\"**을 써서 전반적인 묘사를 하자."
   ]
  },
  {
   "cell_type": "markdown",
   "id": "7cfa52da",
   "metadata": {},
   "source": [
    "3. 모르는 단어는 더큰 범위의 단어로 표현\n",
    "\n",
    "* ex1) a hammer $\\to$ a tool\n",
    "\n",
    "* ex2) a pitchfork(쇠스랑)  $\\to$  a garden tool\n",
    "\n",
    "* ex3) a yellow cardigan $\\to$ yellow clothes\n",
    "\n",
    "* ex4) a beaker $\\to$ equipment"
   ]
  },
  {
   "cell_type": "markdown",
   "id": "7fb94a47",
   "metadata": {},
   "source": [
    "## summary"
   ]
  },
  {
   "cell_type": "markdown",
   "id": "7d11f444",
   "metadata": {},
   "source": [
    "* 준비시간: 필기비추, 최대 중요 포인트 몇가지 잡고 순서만 정하자."
   ]
  },
  {
   "cell_type": "markdown",
   "id": "b49e3765",
   "metadata": {},
   "source": [
    "* 답변시간 : 지엽적, 한가지 대상만 오래설명하지말고 공통문장을 사용해서 **\"핵심적, 전반적\"**인 묘사를 사용하자."
   ]
  },
  {
   "cell_type": "markdown",
   "id": "8d86b2bc",
   "metadata": {},
   "source": [
    "***"
   ]
  },
  {
   "cell_type": "markdown",
   "id": "8b655748",
   "metadata": {},
   "source": [
    "# 2. 파트 2 템플릿"
   ]
  },
  {
   "cell_type": "markdown",
   "id": "cb482d6f",
   "metadata": {},
   "source": [
    "## (1) 서론"
   ]
  },
  {
   "cell_type": "markdown",
   "id": "d29fb9a6",
   "metadata": {},
   "source": [
    "1. This is a picture taken at/in 장소\n",
    "\n",
    "2. **This is a picture taken indoors/outdoors**"
   ]
  },
  {
   "cell_type": "markdown",
   "id": "0fb8ca25",
   "metadata": {},
   "source": [
    "## (2) 전체요약"
   ]
  },
  {
   "cell_type": "markdown",
   "id": "75375b00",
   "metadata": {},
   "source": [
    " * 때에 따라 생략가능 "
   ]
  },
  {
   "cell_type": "markdown",
   "id": "32f6f052",
   "metadata": {},
   "source": [
    "The first thing I can see from this picture is `대표적인 사람/사물`"
   ]
  },
  {
   "cell_type": "markdown",
   "id": "7723844e",
   "metadata": {},
   "source": [
    "## (3) 세부사항"
   ]
  },
  {
   "cell_type": "markdown",
   "id": "5cc4c825",
   "metadata": {},
   "source": [
    "### (3)-1.  정면"
   ]
  },
  {
   "cell_type": "markdown",
   "id": "9bfc67e3",
   "metadata": {},
   "source": [
    "![](part2-세부사항1.png)"
   ]
  },
  {
   "cell_type": "markdown",
   "id": "733cd0b4",
   "metadata": {},
   "source": [
    "![](part2-세부사항2.png)"
   ]
  },
  {
   "cell_type": "markdown",
   "id": "f0b66653",
   "metadata": {},
   "source": [
    "***"
   ]
  },
  {
   "cell_type": "markdown",
   "id": "3a394a21",
   "metadata": {},
   "source": [
    "### (3)-2. 중심"
   ]
  },
  {
   "cell_type": "markdown",
   "id": "0d14c23c",
   "metadata": {},
   "source": [
    "![](part2-세부사항3.png)"
   ]
  },
  {
   "cell_type": "markdown",
   "id": "3b3b74d8",
   "metadata": {},
   "source": [
    "![](part2-세부사항4.png)"
   ]
  },
  {
   "cell_type": "markdown",
   "id": "abbe07d7",
   "metadata": {},
   "source": [
    "***"
   ]
  },
  {
   "cell_type": "markdown",
   "id": "cfecda18",
   "metadata": {},
   "source": [
    "### (3)-3. 왼쪽/오른쪽"
   ]
  },
  {
   "cell_type": "markdown",
   "id": "7bab16e3",
   "metadata": {},
   "source": [
    "![](part2-세부사항5.png)"
   ]
  },
  {
   "cell_type": "markdown",
   "id": "371e1076",
   "metadata": {},
   "source": [
    "* On the right/left side of the picture, there is/are `사람/사물` I can see `단/복수명사`\n",
    "\n",
    "1. On the left side of the picture, there is a man with a beard.(턱수염이 있는 남자)\n",
    "\n",
    "2. On the right side of the picture, there is a man sitting on a chair"
   ]
  },
  {
   "cell_type": "markdown",
   "id": "abba32dd",
   "metadata": {},
   "source": [
    "### (3)-4. 배경"
   ]
  },
  {
   "cell_type": "markdown",
   "id": "31f1c62b",
   "metadata": {},
   "source": [
    "![](part2-세부사항6.png)"
   ]
  },
  {
   "cell_type": "markdown",
   "id": "1dee8983",
   "metadata": {},
   "source": [
    "* In the background of the picture, I can see **three people.**"
   ]
  },
  {
   "cell_type": "markdown",
   "id": "336695cc",
   "metadata": {},
   "source": [
    "***"
   ]
  },
  {
   "cell_type": "markdown",
   "id": "2b20b673",
   "metadata": {},
   "source": [
    "## (4) 마무리"
   ]
  },
  {
   "cell_type": "markdown",
   "id": "d7fd4801",
   "metadata": {},
   "source": [
    "* 1인 유형을 제외하고는 생략하는 것을 추천"
   ]
  },
  {
   "cell_type": "markdown",
   "id": "92909f3d",
   "metadata": {},
   "source": [
    "![](part2-마무리1.png)"
   ]
  },
  {
   "cell_type": "markdown",
   "id": "7224197e",
   "metadata": {},
   "source": [
    "* Overall, It seems/looks like `주어 + 동사` $\\to$ **Overall, It seems like the woman is busy.**"
   ]
  },
  {
   "cell_type": "markdown",
   "id": "52a9ff2c",
   "metadata": {},
   "source": [
    "***"
   ]
  },
  {
   "cell_type": "markdown",
   "id": "52ab60b3",
   "metadata": {},
   "source": [
    "## (5) 주의해야할 문법"
   ]
  },
  {
   "cell_type": "markdown",
   "id": "22e2d97f",
   "metadata": {},
   "source": [
    "## (5)-1. 분사 vs 현재진행형"
   ]
  },
  {
   "cell_type": "markdown",
   "id": "b0ac21fa",
   "metadata": {},
   "source": [
    "1. 분사 : N + ing\n",
    "\n",
    "> I can see a man working hard (열심히 일하고 있는 남자를 볼 수 있다.)"
   ]
  },
  {
   "cell_type": "markdown",
   "id": "d6507815",
   "metadata": {},
   "source": [
    "2. 현재진행형 : be + ing\n",
    "\n",
    "> He is working hard. (그는 열심히 일하고 있는 중이다.)"
   ]
  },
  {
   "cell_type": "markdown",
   "id": "24f0d8cd",
   "metadata": {},
   "source": [
    "3. **a lot of는 셀 수 있는/없는 명사 모두 수식 가능**"
   ]
  },
  {
   "cell_type": "markdown",
   "id": "5c350051",
   "metadata": {},
   "source": [
    "***"
   ]
  },
  {
   "cell_type": "markdown",
   "id": "823d0446",
   "metadata": {},
   "source": [
    "# 1인묘사 유형"
   ]
  },
  {
   "cell_type": "markdown",
   "id": "5b389ad7",
   "metadata": {},
   "source": [
    "## Q1"
   ]
  },
  {
   "cell_type": "markdown",
   "id": "faaa6398",
   "metadata": {},
   "source": [
    "![](part2-q1.png)"
   ]
  },
  {
   "cell_type": "markdown",
   "id": "d4f11996",
   "metadata": {},
   "source": [
    "\n",
    "**This is a picture taken indoors. (서론)**\n",
    "\n",
    "**The first thing I can see from this picture is a woman, (전체요약)**\n",
    "\n",
    "**She is working and using a drill.**\n",
    "**Also, she is holding a piece of wood and looking at it.(인물묘사)**\n",
    "\n",
    "**In front of her, there is a table. On the right side of the picture, I can see shelves. (기타사물배경)**\n",
    "\n",
    "**Overall, it seems like the woman is busy.**"
   ]
  },
  {
   "cell_type": "markdown",
   "id": "1f8af1ca",
   "metadata": {},
   "source": [
    "***"
   ]
  },
  {
   "cell_type": "markdown",
   "id": "fa9aa6fd",
   "metadata": {},
   "source": [
    "## Q2"
   ]
  },
  {
   "cell_type": "markdown",
   "id": "b8db8da1",
   "metadata": {},
   "source": [
    "![](part2-q2.png)"
   ]
  },
  {
   "cell_type": "markdown",
   "id": "1ea17682",
   "metadata": {},
   "source": [
    "**This is a picture taken at cafe.**\n",
    "\n",
    "**The first thing I can see from this picture is a woman,**\n",
    "\n",
    "**she is sitting at a table. she is wearning a blue shirt(셜트), and she has long hair.**\n",
    "\n",
    "**she is holing a smartphone and looking at the screen.**\n",
    "\n",
    "**In front of her, there is a table. On the table, I can see a pick cup.**\n",
    "\n",
    "**Overall, it seems like the woman is busy.**"
   ]
  },
  {
   "cell_type": "markdown",
   "id": "88953b05",
   "metadata": {},
   "source": [
    "***"
   ]
  },
  {
   "cell_type": "markdown",
   "id": "7e3451ed",
   "metadata": {},
   "source": [
    "# 2인 묘사 유형"
   ]
  },
  {
   "cell_type": "markdown",
   "id": "3e4b36c9",
   "metadata": {},
   "source": [
    "## Q1"
   ]
  },
  {
   "cell_type": "markdown",
   "id": "314b670c",
   "metadata": {},
   "source": [
    "![](part2-2-q1.png)"
   ]
  },
  {
   "cell_type": "markdown",
   "id": "042eca6c",
   "metadata": {},
   "source": [
    "This is a picture taken outdoors.\n",
    "\n",
    "The first thing I can see from this picture is two people.\n",
    "\n",
    "The man on the left is smiling and is wearing a black T-shirt.\n",
    "\n",
    "They are wearing helmets, sunglasses, and sportswear. Also, they are riding bicycles.\n",
    "\n",
    "In the background of the picture, I can see green grass."
   ]
  },
  {
   "cell_type": "markdown",
   "id": "7d9c4db9",
   "metadata": {},
   "source": [
    "## Q2"
   ]
  },
  {
   "cell_type": "markdown",
   "id": "6dbcaac9",
   "metadata": {},
   "source": [
    "![](part2-2-q2.png)"
   ]
  },
  {
   "cell_type": "markdown",
   "id": "fa7980d9",
   "metadata": {},
   "source": [
    "This is a picture taken outdoors.\n",
    "\n",
    "The first thing I can see from this picture is two people.\n",
    "\n",
    "They are taking a picture. Also, they are wearing sunglasses and smiling.\n",
    "\n",
    "The woman in the picture is wearing blue cloths. she is holding a smartphone and taking a picture.\n",
    "\n",
    "The man is holing a camera and waving his hand."
   ]
  },
  {
   "cell_type": "markdown",
   "id": "435037c3",
   "metadata": {},
   "source": [
    "***"
   ]
  },
  {
   "cell_type": "markdown",
   "id": "d2001b70",
   "metadata": {},
   "source": [
    "# 다수의 사람 유형"
   ]
  },
  {
   "cell_type": "markdown",
   "id": "10d2f034",
   "metadata": {},
   "source": [
    "## Q1"
   ]
  },
  {
   "cell_type": "markdown",
   "id": "b493d980",
   "metadata": {},
   "source": [
    "![](part2-3-q1.png)"
   ]
  },
  {
   "cell_type": "markdown",
   "id": "cf211928",
   "metadata": {},
   "source": [
    "This is a picture taken outdoors.\n",
    "\n",
    "The first thing I can see from this picture is some people.\n",
    "\n",
    "On the rigth side of the picture, I can see two people. They are taking a walk.\n",
    "\n",
    "One of them is a woman. She is  walking a dog.\n",
    "\n",
    "The other is a a girl. She has a ponytail and she is wearing a blue shirt.\n",
    "\n",
    "In the background of the picture, I can see a house **(and on old lady (pushing a stroller)유모차를 밀다.) $\\to$ 생략가능**"
   ]
  },
  {
   "cell_type": "markdown",
   "id": "a3189717",
   "metadata": {},
   "source": [
    "***"
   ]
  },
  {
   "cell_type": "markdown",
   "id": "83207c72",
   "metadata": {},
   "source": [
    "## Q2"
   ]
  },
  {
   "cell_type": "markdown",
   "id": "79c5a563",
   "metadata": {},
   "source": [
    "![](part2-3-q2.png)"
   ]
  },
  {
   "cell_type": "markdown",
   "id": "fa9778f6",
   "metadata": {},
   "source": [
    "This is a picture taken outdoors.\n",
    "\n",
    "The first thing I can see from this picture is some people\n",
    "\n",
    "On the left side of the picture, I can see a man sitting on the ground and taking a picture.\n",
    "\n",
    "On the right side of the picture, I can see amen walking on the street.\n",
    "\n",
    "In the back ground of the picture, I can see buildings, parasols, and more people **walking around(서성거리다.)**."
   ]
  },
  {
   "cell_type": "markdown",
   "id": "6a10ff5f",
   "metadata": {},
   "source": [
    "## set2-Q1"
   ]
  },
  {
   "cell_type": "markdown",
   "id": "bf6ccab2",
   "metadata": {},
   "source": [
    "![](part2-3-set2-q1.png)"
   ]
  },
  {
   "cell_type": "markdown",
   "id": "a1f2ac6c",
   "metadata": {},
   "source": [
    "This is a picture taken outdoors.\n",
    "\n",
    "(전체요약 생략)\n",
    "\n",
    "In the middle of the picture, I can see a lot of people crossing the street.\n",
    "\n",
    "Some of them are carrying bags.**(Most of them are wearing casual clothes.)**\n",
    "\n",
    "On the right side of the picture, there is a car. Next to it, there is a sidewalk.\n",
    "\n",
    "In the backgroud of the picture, I can see two big buildings,(street lights, signboards(가로등), and traffic lights(산호등))"
   ]
  }
 ],
 "metadata": {
  "kernelspec": {
   "display_name": "Python 3 (ipykernel)",
   "language": "python",
   "name": "python3"
  },
  "language_info": {
   "codemirror_mode": {
    "name": "ipython",
    "version": 3
   },
   "file_extension": ".py",
   "mimetype": "text/x-python",
   "name": "python",
   "nbconvert_exporter": "python",
   "pygments_lexer": "ipython3",
   "version": "3.9.13"
  },
  "toc": {
   "base_numbering": 1,
   "nav_menu": {},
   "number_sections": false,
   "sideBar": true,
   "skip_h1_title": false,
   "title_cell": "Table of Contents",
   "title_sidebar": "Contents",
   "toc_cell": false,
   "toc_position": {
    "height": "calc(100% - 180px)",
    "left": "10px",
    "top": "150px",
    "width": "386.989px"
   },
   "toc_section_display": true,
   "toc_window_display": true
  }
 },
 "nbformat": 4,
 "nbformat_minor": 5
}
