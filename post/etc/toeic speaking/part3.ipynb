{
 "cells": [
  {
   "cell_type": "raw",
   "id": "9d5d08f9",
   "metadata": {},
   "source": [
    "---\n",
    "title : \"part 4\"\n",
    "date : \"02/08/23\"\n",
    "author : \"GANGCHEOL LEE\"\n",
    "categories : \"speaking\"\n",
    "---"
   ]
  },
  {
   "cell_type": "markdown",
   "id": "3c42c50e",
   "metadata": {},
   "source": [
    "# 0. Intro"
   ]
  },
  {
   "cell_type": "markdown",
   "id": "06c91317",
   "metadata": {},
   "source": [
    "`-` 문제 번호 : Q5-7 (3문제) \n",
    "\n",
    "`-` 답변 준비 시간 : 각 3초\n",
    "\n",
    "`-` 답변시간\n",
    "    \n",
    "    * 5, 6번 : 15초\n",
    "    * 7번 : 30초"
   ]
  },
  {
   "cell_type": "markdown",
   "id": "f0f2f1e4",
   "metadata": {},
   "source": [
    "`-` [참고영상](https://youtu.be/wWzNGMnOYSI)"
   ]
  },
  {
   "cell_type": "markdown",
   "id": "7627b975",
   "metadata": {},
   "source": [
    "# 1. 만점 전략"
   ]
  },
  {
   "cell_type": "markdown",
   "id": "1567a447",
   "metadata": {},
   "source": [
    "## (1) 문제는 내 친구"
   ]
  },
  {
   "cell_type": "markdown",
   "id": "7788bed2",
   "metadata": {},
   "source": [
    "1. 문제를 참조해서 답변으로 바꾸어 읽기\n",
    "\n",
    "2. 의문사 만능공식을 활용해 답변형식으로 변형하자."
   ]
  },
  {
   "cell_type": "markdown",
   "id": "67a02c6c",
   "metadata": {},
   "source": [
    "![](part3-만점전략1.png)"
   ]
  },
  {
   "cell_type": "markdown",
   "id": "7a75b7be",
   "metadata": {},
   "source": [
    "## (2) 어렵게 말하기 X"
   ]
  },
  {
   "cell_type": "markdown",
   "id": "207726bb",
   "metadata": {},
   "source": [
    "![](part3-만점전략2.png)"
   ]
  },
  {
   "cell_type": "markdown",
   "id": "ea1c46dc",
   "metadata": {},
   "source": [
    "## (3) 진짜 '내 얘기' x"
   ]
  },
  {
   "cell_type": "markdown",
   "id": "96bf6882",
   "metadata": {},
   "source": [
    "1. 만능 답변 등을 이용한 쉬운 답변 이용"
   ]
  },
  {
   "cell_type": "markdown",
   "id": "c3a23e35",
   "metadata": {},
   "source": [
    "![](part3-만점전략3.png)"
   ]
  },
  {
   "cell_type": "markdown",
   "id": "ab3cd20b",
   "metadata": {},
   "source": [
    "## (4) 답변의 70% 미리준비"
   ]
  },
  {
   "cell_type": "markdown",
   "id": "55946274",
   "metadata": {},
   "source": [
    "1. 의문사 만능동식 6개\n",
    "\n",
    "2. 부연설명 쉽게 만드는 팁 2개\n",
    "\n",
    "3. 만능 문장 50개"
   ]
  },
  {
   "cell_type": "markdown",
   "id": "1ff0764a",
   "metadata": {},
   "source": [
    "## (5) 가급적 Yes로 대답"
   ]
  },
  {
   "cell_type": "markdown",
   "id": "f0cc33ce",
   "metadata": {},
   "source": [
    "* 5번 문항에서 부정적으로 답변하면 뒤에 6, 7번에서 동일 주제에 대한 문제가 연속으로 나오기 때문에 뒤에서 답변하는데 약간의 차질이 생길 수 있음"
   ]
  },
  {
   "cell_type": "markdown",
   "id": "6b65f592",
   "metadata": {},
   "source": [
    "# 2. 기초이론다지기"
   ]
  },
  {
   "cell_type": "markdown",
   "id": "beba4741",
   "metadata": {},
   "source": [
    "`-` [참고영상](https://youtu.be/dlQ95wyC5kc)"
   ]
  },
  {
   "cell_type": "markdown",
   "id": "9750a50f",
   "metadata": {},
   "source": [
    "![](part3-기초.png)"
   ]
  },
  {
   "cell_type": "markdown",
   "id": "4284a838",
   "metadata": {},
   "source": [
    "* 문제 유형에 신경쓰지말고 `about`뒈에 주제만 확인하자.\n",
    "\n",
    "* **주제만 미리 확인하고 준비 시간을 가지자.**"
   ]
  },
  {
   "cell_type": "markdown",
   "id": "bb64e495",
   "metadata": {},
   "source": [
    "***"
   ]
  },
  {
   "cell_type": "markdown",
   "id": "8972064e",
   "metadata": {},
   "source": [
    "# 3. 의문사 만능공식"
   ]
  },
  {
   "cell_type": "markdown",
   "id": "ccbaaa3e",
   "metadata": {},
   "source": [
    "## (1)  Who"
   ]
  },
  {
   "cell_type": "markdown",
   "id": "f265cf21",
   "metadata": {},
   "source": [
    "Q. Who do you usually go with when you go to a cafe?\n",
    "\n",
    "**A. I usually go with my friend when I go to a cafe** "
   ]
  },
  {
   "cell_type": "markdown",
   "id": "939a0887",
   "metadata": {},
   "source": [
    "## (2) Where"
   ]
  },
  {
   "cell_type": "markdown",
   "id": "74649d4f",
   "metadata": {},
   "source": [
    "### (2)-1. 어디서 사니?\n",
    "\n",
    "(where do you buy ~?)\n",
    "\n",
    "1. On the Internet\n",
    "2. At a shopping mall\n",
    "3. At a department store 백화점\n",
    "    \n",
    "Q. where do you buy (purchase) clothes?\n",
    "\n",
    "**A. I usually buy cloths on the Internet.**"
   ]
  },
  {
   "cell_type": "markdown",
   "id": "c2bc2e8a",
   "metadata": {},
   "source": [
    "***"
   ]
  },
  {
   "cell_type": "markdown",
   "id": "415738e0",
   "metadata": {},
   "source": [
    "### (2)-2. 어디서 하니 \n",
    "\n",
    "(Where do you usually play ~?)\n",
    "\n",
    "1. at home/school\n",
    "2. on a subway\n",
    "   \n",
    "Q. where do you usually play mobile game?\n",
    "\n",
    "**A. I usually play mobile game at home/school/on a subway.**"
   ]
  },
  {
   "cell_type": "markdown",
   "id": "62033d97",
   "metadata": {},
   "source": [
    "***"
   ]
  },
  {
   "cell_type": "markdown",
   "id": "b00a0d99",
   "metadata": {},
   "source": [
    "### (2)-3. 어디서 정보를 얻니?\n",
    "\n",
    "(Where do you get information ~ ?)\n",
    "\n",
    "1. on the internet\n",
    "\n",
    "Q. Where do you get information about where to buy home cleaning products?\n",
    "\n",
    "**A. I usually get information about where to buy home cleaning products on the Internet.**"
   ]
  },
  {
   "cell_type": "markdown",
   "id": "a1ddeb52",
   "metadata": {},
   "source": [
    "***"
   ]
  },
  {
   "cell_type": "markdown",
   "id": "9d452e7d",
   "metadata": {},
   "source": [
    "## (3) When"
   ]
  },
  {
   "cell_type": "markdown",
   "id": "16ca7202",
   "metadata": {},
   "source": [
    "### (3)-1. 보통 언제 하니\n",
    "\n",
    "(When do you usually~?)\n",
    "\n",
    "1. **When I have spare time(빈출)**\n",
    "2. on weekends / in 계절\n",
    "\n",
    "Q. When do you usually visit museums?\n",
    "\n",
    "**A. I usually visit museums when I have spare time.** "
   ]
  },
  {
   "cell_type": "markdown",
   "id": "70afcec3",
   "metadata": {},
   "source": [
    "***"
   ]
  },
  {
   "cell_type": "markdown",
   "id": "31def20e",
   "metadata": {},
   "source": [
    "### (3)-2. 언제 했니?, 언제 마지막으로 했니?\n",
    "\n",
    "\n",
    "(When did you) ~ ? $\\to$ two weeks ago / yesterday / last year\n",
    "* **When was the last time you 과거동사?** $\\to$ The last time I 과거동사 was two weeks ago.\n",
    "    \n",
    "Q. When was the last time you went to a park?\n",
    "\n",
    "**A. The last time I went to a park was two weeks ago** \n",
    "\n",
    "cf. When did you last go to a park?\n",
    "\n",
    "**A. I last went to a park two weeks ago**\n",
    "    "
   ]
  },
  {
   "cell_type": "markdown",
   "id": "97f1c65c",
   "metadata": {},
   "source": [
    "***"
   ]
  },
  {
   "cell_type": "markdown",
   "id": "965178fd",
   "metadata": {},
   "source": [
    "### (3)-3. 하루 중 언제 하니? \n",
    "\n",
    "(What time of the day do you usually~?)\n",
    "\n",
    "* in the moring/evening\n",
    "* 답변 만능 문장\n",
    "    * It's part of my routine. 내 일과 중 일부이다.\n",
    "    * It's less crowded in the morning. 아침에 덜 붐빈다.\n",
    "    \n",
    " Q. What time of the day do you usually go to the movies?\n",
    " \n",
    " **A. I usually go to the movies in the morning. because it's less crowded in the morning.**\n"
   ]
  },
  {
   "cell_type": "markdown",
   "id": "0073c5f5",
   "metadata": {},
   "source": [
    "***"
   ]
  },
  {
   "cell_type": "markdown",
   "id": "ba61583b",
   "metadata": {},
   "source": [
    "### (3)-4. 일 년 중에 언제 하니?"
   ]
  },
  {
   "cell_type": "markdown",
   "id": "73d79187",
   "metadata": {},
   "source": [
    "(what time of the year~?)\n",
    "\n",
    "* in 계절\n",
    "\n",
    "Q.  what time of the year do you read books most?\n",
    "\n",
    "**A. I read books in winter most.**"
   ]
  },
  {
   "cell_type": "markdown",
   "id": "3aeb4eeb",
   "metadata": {},
   "source": [
    "***"
   ]
  },
  {
   "cell_type": "markdown",
   "id": "cf5e9e88",
   "metadata": {},
   "source": [
    "## (4) How"
   ]
  },
  {
   "cell_type": "markdown",
   "id": "0dd1e017",
   "metadata": {},
   "source": [
    "### (4)-1.  얼마나 자주"
   ]
  },
  {
   "cell_type": "markdown",
   "id": "d572b00e",
   "metadata": {},
   "source": [
    "**(How often, How frequently, How many times~?) $\\to$ 빈출**"
   ]
  },
  {
   "cell_type": "markdown",
   "id": "cae3cb1e",
   "metadata": {},
   "source": [
    "* twice a week 일주일에 두 번\n",
    "* almost every day 거의 매일\n",
    "* once in a while 가끔씩"
   ]
  },
  {
   "cell_type": "markdown",
   "id": "12f167a9",
   "metadata": {},
   "source": [
    "Q. How often do you shop for cloths?\n",
    "\n",
    "A. I shop for cloths **twice a week / almost every day / once in a while.**"
   ]
  },
  {
   "cell_type": "markdown",
   "id": "db702ad4",
   "metadata": {},
   "source": [
    "### (4)-2. 얼마나 오래"
   ]
  },
  {
   "cell_type": "markdown",
   "id": "039e8e63",
   "metadata": {},
   "source": [
    "**(How long have you p.p~?) $\\to$ 빈출**\n",
    "\n",
    "* I have p.p + for 기간(5 minutes / 2 hours / a year)\n",
    "\n",
    "Q. How long have you lived in your current neighborhood?\n",
    "\n",
    "**A. I have lived in my current neighborhood for 3 years.**"
   ]
  },
  {
   "cell_type": "markdown",
   "id": "1f94d332",
   "metadata": {},
   "source": [
    "### (4)-3. V 하는데에 얼마가 걸리니?"
   ]
  },
  {
   "cell_type": "markdown",
   "id": "ae736a9c",
   "metadata": {},
   "source": [
    "(How long does it take 사람 to V?)\n",
    "\n",
    "* It takes 기간 (for 목적어) to V"
   ]
  },
  {
   "cell_type": "markdown",
   "id": "5f0a6079",
   "metadata": {},
   "source": [
    "Q. How long does it take you to finish a book?\n",
    "\n",
    "**A. It takes 3 hours for me to finish a book.**"
   ]
  },
  {
   "cell_type": "markdown",
   "id": "dd6b406e",
   "metadata": {},
   "source": [
    "### (4)-4. 얼마나 오래 시간을 보내니?"
   ]
  },
  {
   "cell_type": "markdown",
   "id": "d81886d7",
   "metadata": {},
   "source": [
    "**(How much time do you spend~?) $\\to$ 빈출**"
   ]
  },
  {
   "cell_type": "markdown",
   "id": "3e321d2d",
   "metadata": {},
   "source": [
    "* I spend minutes / hours / days"
   ]
  },
  {
   "cell_type": "markdown",
   "id": "aeb27be2",
   "metadata": {},
   "source": [
    "Q. How much time do you spend surfing the Internet every day?\n",
    "\n",
    "**A. I spend 3 hours surfing the Internet  every day.**"
   ]
  },
  {
   "cell_type": "markdown",
   "id": "1c3cc476",
   "metadata": {},
   "source": [
    "***"
   ]
  },
  {
   "cell_type": "markdown",
   "id": "40420614",
   "metadata": {},
   "source": [
    "### (4)-5. 얼마나 멀리 있니?"
   ]
  },
  {
   "cell_type": "markdown",
   "id": "4b6cf5b8",
   "metadata": {},
   "source": [
    "(How far)\n",
    "\n",
    "* about 10 minutes away"
   ]
  },
  {
   "cell_type": "markdown",
   "id": "16045ce3",
   "metadata": {},
   "source": [
    "Q. How far is the closest bank from where you live?\n",
    "\n",
    "**A. The closet bank from where I live is about 10 minutes away.**"
   ]
  },
  {
   "cell_type": "markdown",
   "id": "3b85be90",
   "metadata": {},
   "source": [
    "### (4)-6. 가격이 얼마니?"
   ]
  },
  {
   "cell_type": "markdown",
   "id": "ad06af9a",
   "metadata": {},
   "source": [
    "(How much~?)\n",
    "\n",
    "* about 20 dollars"
   ]
  },
  {
   "cell_type": "markdown",
   "id": "2f8e74b3",
   "metadata": {},
   "source": [
    "Q. How much do you usually spend when you go to a restaurant with your friends?\n",
    "\n",
    "**A. I usually spend about 20 dollars when I go to a restaurant with my friends.**"
   ]
  },
  {
   "cell_type": "markdown",
   "id": "e53c6a4d",
   "metadata": {},
   "source": [
    "***"
   ]
  },
  {
   "cell_type": "markdown",
   "id": "f4a52713",
   "metadata": {},
   "source": [
    "### (4)-7.  몇 개니?"
   ]
  },
  {
   "cell_type": "markdown",
   "id": "043efbc2",
   "metadata": {},
   "source": [
    "(How many~?)\n",
    "\n",
    "Q. How many bookstores are there in your town?\n",
    "\n",
    "**A. There are two bookstores in my town.**"
   ]
  },
  {
   "cell_type": "markdown",
   "id": "75af63b0",
   "metadata": {},
   "source": [
    "***"
   ]
  },
  {
   "cell_type": "markdown",
   "id": "2e652557",
   "metadata": {},
   "source": [
    "### (4)-8. 이동 수단"
   ]
  },
  {
   "cell_type": "markdown",
   "id": "32132ddd",
   "metadata": {},
   "source": [
    "(How do you get to ~?)\n",
    "\n",
    "Q. How do you usually get to school?\n",
    "\n",
    "**A. I usually get to school by bus.**"
   ]
  },
  {
   "cell_type": "markdown",
   "id": "90f4abf5",
   "metadata": {},
   "source": [
    "***"
   ]
  },
  {
   "cell_type": "markdown",
   "id": "4bee3db4",
   "metadata": {},
   "source": [
    "## (5) What"
   ]
  },
  {
   "cell_type": "markdown",
   "id": "ab0879b0",
   "metadata": {},
   "source": [
    "**(What kind / type / sort / genre of N) $\\to$ 빈출**"
   ]
  },
  {
   "cell_type": "markdown",
   "id": "852fd9c4",
   "metadata": {},
   "source": [
    "* K-pop / Fiction / action movies"
   ]
  },
  {
   "cell_type": "markdown",
   "id": "6e5cc753",
   "metadata": {},
   "source": [
    "Q. What kind of social media do people in your company normally use?\n",
    "\n",
    "A. **People in my country normally use Instagram.**"
   ]
  },
  {
   "cell_type": "markdown",
   "id": "7bca5218",
   "metadata": {},
   "source": [
    "## ~해본적 있니?"
   ]
  },
  {
   "cell_type": "markdown",
   "id": "7cd7a079",
   "metadata": {},
   "source": [
    "(Have you ever p.p~?)\n",
    "\n",
    "* Yes, I have p.p / No, I haven't p.p\n",
    "\n",
    "Q. Have you ever used a photo-editing software to imporve your picture images?\n",
    "\n",
    "**A. Yes, I have used a photo-editing software to improve my picture images.**"
   ]
  },
  {
   "cell_type": "markdown",
   "id": "a7e83d4a",
   "metadata": {},
   "source": [
    "***"
   ]
  },
  {
   "cell_type": "markdown",
   "id": "040ce57a",
   "metadata": {},
   "source": [
    "# 4. 이유 문장/ 부연설명 쉽게 만드는 TIP"
   ]
  },
  {
   "cell_type": "markdown",
   "id": "8cee246d",
   "metadata": {},
   "source": [
    "## (1). 매우 좋아한다."
   ]
  },
  {
   "cell_type": "markdown",
   "id": "f97935d5",
   "metadata": {},
   "source": [
    "* I like/love N very much.$\\to$ **빈출**\n",
    "\n",
    "Q. who do you usually go with when you shop for clothes?\n",
    "\n",
    "**A. I usually go with my friends when I shop for clothes / because we like shopping very much.**"
   ]
  },
  {
   "cell_type": "markdown",
   "id": "4762a37a",
   "metadata": {},
   "source": [
    "## (2). 형용사로 표현 "
   ]
  },
  {
   "cell_type": "markdown",
   "id": "6ba4251b",
   "metadata": {},
   "source": [
    "* 쉽고 간결하며 더 좋은 점수를 받을 수 있음"
   ]
  },
  {
   "cell_type": "markdown",
   "id": "d9bfcdf6",
   "metadata": {},
   "source": [
    "![](part3-형용사tip1.png)"
   ]
  },
  {
   "cell_type": "markdown",
   "id": "1128e1cf",
   "metadata": {},
   "source": [
    "### (2)-1. It's very + 형용사 (빈출)"
   ]
  },
  {
   "cell_type": "markdown",
   "id": "3798492e",
   "metadata": {},
   "source": [
    "![](part3-형용사tip2.png)"
   ]
  },
  {
   "cell_type": "markdown",
   "id": "6c5d64a5",
   "metadata": {},
   "source": [
    "### (2)-2.  비교급"
   ]
  },
  {
   "cell_type": "markdown",
   "id": "f02a03ca",
   "metadata": {},
   "source": [
    "![](part3-형용사tip3.png)"
   ]
  },
  {
   "cell_type": "markdown",
   "id": "9aede8cd",
   "metadata": {},
   "source": [
    "### (2)-3. 유용하고 간편하게 쓸 수 있는 형용사"
   ]
  },
  {
   "cell_type": "markdown",
   "id": "356fa2b7",
   "metadata": {},
   "source": [
    "![](part3-형용사tip4.png)"
   ]
  },
  {
   "cell_type": "markdown",
   "id": "a2ea8d4d",
   "metadata": {},
   "source": [
    "![](part3-형용사tip5.png)"
   ]
  },
  {
   "cell_type": "markdown",
   "id": "94701693",
   "metadata": {},
   "source": [
    "### (2)-4. 비교급 주의"
   ]
  },
  {
   "cell_type": "markdown",
   "id": "602f012f",
   "metadata": {},
   "source": [
    "![](part3-형용사tip6.png)"
   ]
  },
  {
   "cell_type": "markdown",
   "id": "0b691039",
   "metadata": {},
   "source": [
    "### (2)-5. 빈출 예시"
   ]
  },
  {
   "cell_type": "markdown",
   "id": "1c3091a0",
   "metadata": {},
   "source": [
    "![](part3-형용사tip7.png)"
   ]
  },
  {
   "cell_type": "markdown",
   "id": "0339a3fb",
   "metadata": {},
   "source": [
    "### (2)-6. 문장 연결어"
   ]
  },
  {
   "cell_type": "markdown",
   "id": "8e6436d0",
   "metadata": {},
   "source": [
    "![](part3-형용사tip8.png)"
   ]
  },
  {
   "cell_type": "markdown",
   "id": "c26ef6e0",
   "metadata": {},
   "source": [
    "`-` [파트3 만능문장50](https://youtu.be/tdGCKI48Sjk)"
   ]
  },
  {
   "cell_type": "markdown",
   "id": "4b9efbcb",
   "metadata": {},
   "source": [
    "***"
   ]
  },
  {
   "cell_type": "markdown",
   "id": "3506442e",
   "metadata": {},
   "source": [
    "# 4. 실전연습"
   ]
  },
  {
   "cell_type": "markdown",
   "id": "c17c49c6",
   "metadata": {},
   "source": [
    "`-` [참고영상](https://www.youtube.com/watch?v=pAQcGnhQ_70) "
   ]
  },
  {
   "cell_type": "markdown",
   "id": "fbbd7b37",
   "metadata": {},
   "source": [
    "## set1. 해외여행"
   ]
  },
  {
   "cell_type": "markdown",
   "id": "16b953aa",
   "metadata": {},
   "source": [
    "![](part3-set1.png)"
   ]
  },
  {
   "cell_type": "markdown",
   "id": "176c00d0",
   "metadata": {},
   "source": [
    "Q5. when was the last time you traveled overseas and what is your favorite places?\n",
    "\n",
    "**answer**\n",
    "\n",
    "**The last time I traveld overseas was last year, and my favorite places is canda.**\n",
    "\n",
    "***\n",
    "\n",
    "Q6. What kind of activities do you enjoy when traveling overseas?\n",
    "\n",
    "**answer**\n",
    "\n",
    "**I enjoy shopping when traveling overseas because it's favorite thing to do and it makes me happy.**\n",
    "\n",
    "***\n",
    "\n",
    "Q7. Which of the following activity do you think is the most important when you travel overseas?\n",
    "\n",
    "- Learning local languages, - Visiting historical spot, - Meeting local people\n",
    "\n",
    "**A1. 기본형**\n",
    "\n",
    "**I think meeting local people is the most important when I travel overseas.**\n",
    "\n",
    "**First, I can meet foregin people and make new friends.** \n",
    "\n",
    "**Also, I can get a lot of useful information from these new friends(local people, them).** \n",
    "\n",
    "**Therefore, I think this way.**\n",
    "\n",
    "***\n",
    "\n",
    "\n",
    "**A2. 과거형**\n",
    "\n",
    "**I think meeting local people is the most important when I travel overseas.**\n",
    "\n",
    "**because, I can meet foregin people and make new friends.** \n",
    "\n",
    "**Last year, I traveled overseas and I met local people. I really liked it. It was awesome!**\n",
    "\n",
    "**because, I was able to meet foreign people and make new friends**"
   ]
  },
  {
   "cell_type": "markdown",
   "id": "bedf301b",
   "metadata": {},
   "source": [
    "***"
   ]
  },
  {
   "cell_type": "markdown",
   "id": "d2322730",
   "metadata": {},
   "source": [
    "## set2. 기부"
   ]
  },
  {
   "cell_type": "markdown",
   "id": "fc249560",
   "metadata": {},
   "source": [
    "![](part3-set2-q5.png)"
   ]
  },
  {
   "cell_type": "markdown",
   "id": "335b5f90",
   "metadata": {},
   "source": [
    "![](part3-set2-q6.png)"
   ]
  },
  {
   "cell_type": "markdown",
   "id": "d701e803",
   "metadata": {},
   "source": [
    "![](part3-set2-q7.png)"
   ]
  },
  {
   "cell_type": "markdown",
   "id": "3ab170e8",
   "metadata": {},
   "source": [
    "***"
   ]
  },
  {
   "cell_type": "markdown",
   "id": "45033a95",
   "metadata": {},
   "source": [
    "## set3. 거주지"
   ]
  },
  {
   "cell_type": "markdown",
   "id": "d704c21a",
   "metadata": {},
   "source": [
    "![](part3-set3-q5.png)"
   ]
  },
  {
   "cell_type": "markdown",
   "id": "d7465737",
   "metadata": {},
   "source": [
    "![](part3-set2-q6.png)"
   ]
  },
  {
   "cell_type": "markdown",
   "id": "d499e17e",
   "metadata": {},
   "source": [
    "![](part3-set3-q7.png)"
   ]
  },
  {
   "cell_type": "markdown",
   "id": "f9977080",
   "metadata": {},
   "source": [
    "***"
   ]
  },
  {
   "cell_type": "markdown",
   "id": "f5f411a6",
   "metadata": {},
   "source": [
    "## set4. 놀이공원"
   ]
  },
  {
   "cell_type": "markdown",
   "id": "816390e2",
   "metadata": {},
   "source": [
    "![](part3-set4-Q5.png)"
   ]
  },
  {
   "cell_type": "markdown",
   "id": "000596a3",
   "metadata": {},
   "source": [
    "![](part3-set4-Q6.png)"
   ]
  },
  {
   "cell_type": "markdown",
   "id": "de8da05a",
   "metadata": {},
   "source": [
    "![](part3-set4-Q7.png)"
   ]
  },
  {
   "cell_type": "markdown",
   "id": "497bcb92",
   "metadata": {},
   "source": [
    "***"
   ]
  },
  {
   "cell_type": "markdown",
   "id": "5f5123ba",
   "metadata": {},
   "source": [
    "## set5. 악기수업"
   ]
  },
  {
   "cell_type": "markdown",
   "id": "17dcad7c",
   "metadata": {},
   "source": [
    "![](part3-set5-q5.png)"
   ]
  },
  {
   "cell_type": "markdown",
   "id": "2fba5f72",
   "metadata": {},
   "source": [
    "![](part3-set5-q6.png)"
   ]
  },
  {
   "cell_type": "markdown",
   "id": "f86a6934",
   "metadata": {},
   "source": [
    "![](part3-set5-q7.png)"
   ]
  },
  {
   "cell_type": "markdown",
   "id": "27d8719c",
   "metadata": {},
   "source": [
    "***"
   ]
  },
  {
   "cell_type": "markdown",
   "id": "7a4ed787",
   "metadata": {},
   "source": [
    "## set11.  운동기구"
   ]
  },
  {
   "cell_type": "markdown",
   "id": "8e007056",
   "metadata": {},
   "source": [
    "![](part3-set11-q5.png)"
   ]
  },
  {
   "cell_type": "markdown",
   "id": "510a766c",
   "metadata": {},
   "source": [
    "![](part3-set11-q6.png)"
   ]
  },
  {
   "cell_type": "markdown",
   "id": "4582c236",
   "metadata": {},
   "source": [
    "![](part3-set11-q7.png)"
   ]
  },
  {
   "cell_type": "markdown",
   "id": "86b3aad1",
   "metadata": {},
   "source": [
    "## set14. 호텔"
   ]
  },
  {
   "cell_type": "markdown",
   "id": "4be1110c",
   "metadata": {},
   "source": [
    "![](part3-set14-q5.png)"
   ]
  },
  {
   "cell_type": "markdown",
   "id": "7f3e2203",
   "metadata": {},
   "source": [
    "![](part3-set14-q6.png)"
   ]
  },
  {
   "cell_type": "markdown",
   "id": "1bc279a8",
   "metadata": {},
   "source": [
    "![](part3-set14-q7.png)"
   ]
  }
 ],
 "metadata": {
  "kernelspec": {
   "display_name": "Python 3 (ipykernel)",
   "language": "python",
   "name": "python3"
  },
  "language_info": {
   "codemirror_mode": {
    "name": "ipython",
    "version": 3
   },
   "file_extension": ".py",
   "mimetype": "text/x-python",
   "name": "python",
   "nbconvert_exporter": "python",
   "pygments_lexer": "ipython3",
   "version": "3.9.13"
  },
  "toc": {
   "base_numbering": 1,
   "nav_menu": {},
   "number_sections": false,
   "sideBar": true,
   "skip_h1_title": false,
   "title_cell": "Table of Contents",
   "title_sidebar": "Contents",
   "toc_cell": false,
   "toc_position": {
    "height": "calc(100% - 180px)",
    "left": "10px",
    "top": "150px",
    "width": "406.875px"
   },
   "toc_section_display": true,
   "toc_window_display": true
  }
 },
 "nbformat": 4,
 "nbformat_minor": 5
}
