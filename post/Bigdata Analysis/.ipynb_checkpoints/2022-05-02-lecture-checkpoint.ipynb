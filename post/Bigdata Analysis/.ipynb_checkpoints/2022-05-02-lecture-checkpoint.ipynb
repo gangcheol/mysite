{
 "cells": [
  {
   "cell_type": "raw",
   "id": "cbbf16b5",
   "metadata": {
    "id": "150d702d-62e0-4990-a341-bc149bde7cae"
   },
   "source": [
    "---\n",
    "title : \"10. 확률적 경사하강법\"\n",
    "author : \"GANGCHEOL LEE\"\n",
    "date : \"05/02/22\"\n",
    "categories : [python] \n",
    "---"
   ]
  },
  {
   "cell_type": "markdown",
   "id": "7e0ffce7-1379-433b-88aa-06e79f99ea6a",
   "metadata": {
    "id": "7e0ffce7-1379-433b-88aa-06e79f99ea6a",
    "tags": []
   },
   "source": [
    "## import"
   ]
  },
  {
   "cell_type": "code",
   "execution_count": 1,
   "id": "327fb6aa-8045-4aa8-acf4-57424f9fd2f2",
   "metadata": {
    "executionInfo": {
     "elapsed": 4271,
     "status": "ok",
     "timestamp": 1652676055872,
     "user": {
      "displayName": "이강철",
      "userId": "13507850890638580947"
     },
     "user_tz": -540
    },
    "id": "327fb6aa-8045-4aa8-acf4-57424f9fd2f2"
   },
   "outputs": [],
   "source": [
    "import tensorflow as tf\n",
    "import matplotlib.pyplot as plt\n",
    "import numpy as np\n",
    "import tensorflow.experimental.numpy as tnp"
   ]
  },
  {
   "cell_type": "code",
   "execution_count": 2,
   "id": "c43254c6-2874-4c84-b132-466712dd1e13",
   "metadata": {
    "colab": {
     "base_uri": "https://localhost:8080/"
    },
    "executionInfo": {
     "elapsed": 461,
     "status": "ok",
     "timestamp": 1652676061645,
     "user": {
      "displayName": "이강철",
      "userId": "13507850890638580947"
     },
     "user_tz": -540
    },
    "id": "c43254c6-2874-4c84-b132-466712dd1e13",
    "outputId": "ee3795aa-e307-4166-8861-a0e92156799d"
   },
   "outputs": [
    {
     "data": {
      "text/plain": [
       "[PhysicalDevice(name='/physical_device:CPU:0', device_type='CPU')]"
      ]
     },
     "execution_count": 2,
     "metadata": {},
     "output_type": "execute_result"
    }
   ],
   "source": [
    "tf.config.experimental.list_physical_devices()"
   ]
  },
  {
   "cell_type": "code",
   "execution_count": 3,
   "id": "c47c390b-1e8b-40ad-898c-d6f32bd26a5b",
   "metadata": {
    "executionInfo": {
     "elapsed": 3,
     "status": "ok",
     "timestamp": 1652676064315,
     "user": {
      "displayName": "이강철",
      "userId": "13507850890638580947"
     },
     "user_tz": -540
    },
    "id": "c47c390b-1e8b-40ad-898c-d6f32bd26a5b"
   },
   "outputs": [],
   "source": [
    "import graphviz\n",
    "def gv(s): return graphviz.Source('digraph G{ rankdir=\"LR\"'+ s + ';}')"
   ]
  },
  {
   "cell_type": "markdown",
   "id": "2f7b0e44-117f-4307-8e17-c50d60133457",
   "metadata": {
    "id": "2f7b0e44-117f-4307-8e17-c50d60133457"
   },
   "source": [
    "## 중간고사 관련 잡담 "
   ]
  },
  {
   "cell_type": "markdown",
   "id": "d5bcf7f7-3d23-4899-9d98-7ad79293ed3f",
   "metadata": {
    "id": "d5bcf7f7-3d23-4899-9d98-7ad79293ed3f"
   },
   "source": [
    "### 중간고사 3번문제"
   ]
  },
  {
   "cell_type": "markdown",
   "id": "BzddMN24NpYX",
   "metadata": {
    "id": "BzddMN24NpYX"
   },
   "source": [
    "`-` 특이한 모형 : 오버핏이 일어날 수 없는 모형이다."
   ]
  },
  {
   "cell_type": "markdown",
   "id": "PazkoXPJS6pD",
   "metadata": {
    "id": "PazkoXPJS6pD"
   },
   "source": [
    "`-` 회귀분석은 과적합이 안된다! $\\to$ 알아서 $n$이 커질수록 유의미하지 않은 변수들을 거슬러줌\n",
    "  * 모형이 스스로 변수에 `coffecient`에 대한 유의성 검정을 수행 따라서 과적합 이슈가 없다\n",
    "  * keypoint : 무조건 변수가 많다고 과적합이 일어나지 않음\n",
    "  * 빨강, 노랑, 파랑으로 모든 색깔을 표현 가능($\\star\\star\\star$)"
   ]
  },
  {
   "cell_type": "markdown",
   "id": "4512d3d1-9169-4607-bbaa-8ab2ba88d996",
   "metadata": {
    "id": "4512d3d1-9169-4607-bbaa-8ab2ba88d996"
   },
   "source": [
    "### 중간고사 1-(3)번 문제"
   ]
  },
  {
   "cell_type": "markdown",
   "id": "f07acbe5-13f0-48e4-9bee-f37e4d8d98f2",
   "metadata": {
    "id": "f07acbe5-13f0-48e4-9bee-f37e4d8d98f2",
    "tags": []
   },
   "source": [
    "## 경사하강법과 확률적경사하강법"
   ]
  },
  {
   "cell_type": "markdown",
   "id": "FVtVQRSALzXd",
   "metadata": {
    "id": "FVtVQRSALzXd"
   },
   "source": [
    "* 확률적 경사하강법을 오늘부터 배울 거임!!"
   ]
  },
  {
   "cell_type": "markdown",
   "id": "686a5f46-4d83-408a-b6c4-5853e675a6c9",
   "metadata": {
    "id": "686a5f46-4d83-408a-b6c4-5853e675a6c9"
   },
   "source": [
    "### ver1: 모든 샘플을 사용하여 slope계산 (Gradient decent)"
   ]
  },
  {
   "cell_type": "markdown",
   "id": "yl0C-fTpMhfv",
   "metadata": {
    "id": "yl0C-fTpMhfv"
   },
   "source": [
    "* 기본까지 했던 방법"
   ]
  },
  {
   "cell_type": "markdown",
   "id": "JO4z38r4MXmF",
   "metadata": {
    "id": "JO4z38r4MXmF"
   },
   "source": [
    "* 10개의 샘플을 관측!"
   ]
  },
  {
   "cell_type": "markdown",
   "id": "520b8b0f-391d-4d60-91dc-6b92194d4363",
   "metadata": {
    "id": "520b8b0f-391d-4d60-91dc-6b92194d4363"
   },
   "source": [
    "(epoch1) $loss=\\sum_{i=1}^{10}(y_i-\\beta_0-\\beta_1x_i)^2 \\quad \\to \\quad slope \\quad \\to \\quad update$"
   ]
  },
  {
   "cell_type": "markdown",
   "id": "264dce34-67c9-4ce1-9f25-bcc0ab15e94a",
   "metadata": {
    "id": "264dce34-67c9-4ce1-9f25-bcc0ab15e94a"
   },
   "source": [
    "(epoch2) $loss=\\sum_{i=1}^{10}(y_i-\\beta_0-\\beta_1x_i)^2 \\quad \\to \\quad slope \\quad \\to \\quad update$"
   ]
  },
  {
   "cell_type": "markdown",
   "id": "d777da58-9d8f-4157-a77f-d8c6caf81443",
   "metadata": {
    "id": "d777da58-9d8f-4157-a77f-d8c6caf81443"
   },
   "source": [
    "..."
   ]
  },
  {
   "cell_type": "markdown",
   "id": "c5b0914d-1645-493d-a51f-1df82b026312",
   "metadata": {
    "id": "c5b0914d-1645-493d-a51f-1df82b026312"
   },
   "source": [
    "### ver2: 하나의 샘플만 사용하여 slope계산(stochastic gradient descent)"
   ]
  },
  {
   "cell_type": "markdown",
   "id": "__TSUZ1NYIx6",
   "metadata": {
    "id": "__TSUZ1NYIx6"
   },
   "source": [
    "* (epoch이 3번이면 for문이 30번돌아감)"
   ]
  },
  {
   "cell_type": "markdown",
   "id": "72120e79-8ce9-43c7-80a3-1e2605360767",
   "metadata": {
    "id": "72120e79-8ce9-43c7-80a3-1e2605360767"
   },
   "source": [
    "(epoch1) \n",
    "- $loss=(y_1-\\beta_0-\\beta_1x_1)^2 \\quad \\to \\quad slope \\quad \\to \\quad update$\n",
    "- $loss=(y_2-\\beta_0-\\beta_1x_2)^2 \\quad \\to \\quad slope \\quad \\to \\quad update$\n",
    "- ...\n",
    "- $loss=(y_{10}-\\beta_0-\\beta_1x_{10})^2 \\quad \\to \\quad slope \\quad \\to \\quad update$"
   ]
  },
  {
   "cell_type": "markdown",
   "id": "8e45ca5b-9615-4614-a251-0443deb70831",
   "metadata": {
    "id": "8e45ca5b-9615-4614-a251-0443deb70831"
   },
   "source": [
    "(epoch2) \n",
    "- $loss=(y_1-\\beta_0-\\beta_1x_1)^2 \\quad \\to \\quad slope \\quad \\to \\quad update$\n",
    "- $loss=(y_2-\\beta_0-\\beta_1x_1)^2 \\quad \\to \\quad slope \\quad \\to \\quad update$\n",
    "- ...\n",
    "- $loss=(y_{10}-\\beta_0-\\beta_1x_{10})^2 \\quad \\to \\quad slope \\quad \\to \\quad update$"
   ]
  },
  {
   "cell_type": "markdown",
   "id": "GI-JvCACYkUs",
   "metadata": {
    "id": "GI-JvCACYkUs"
   },
   "source": [
    "* 총 쏘는거 생각 : `ver2`는 동일한 총알이 주어졌을 때 그냥 막 쏘는거임\n",
    "* 동일 **iteration** 대비 효율이 좋은 것은 `ver1`이다.\n",
    "  * 왜냐 ver1의경우 `iteration == epoch`이기 때문!\n",
    "* 동일 **epoch** 대비 효율이 좋은 것도 `ver1`이다.\n",
    "* 정확도 또한 ver1이 더 높을 것이다. 그러나 이터레이셧 횟수는 ver2가 더 많을 것이다.\n",
    "* ver1은 모든 샘플을 고려해 한번에 기울기를 계산(질로 승부), ver2는 양으로 승부하는 것이라고 생각한다."
   ]
  },
  {
   "cell_type": "markdown",
   "id": "57e07bb4-d3f1-4629-b8aa-74c6dbd80a8e",
   "metadata": {
    "id": "57e07bb4-d3f1-4629-b8aa-74c6dbd80a8e"
   },
   "source": [
    "### ver3: $m(\\leq n)$개의 샘플만 사용하여 slope계산"
   ]
  },
  {
   "cell_type": "markdown",
   "id": "72957d2a-6159-455b-a9f7-d0dc8ef2e18e",
   "metadata": {
    "id": "72957d2a-6159-455b-a9f7-d0dc8ef2e18e"
   },
   "source": [
    "$m=3$이라고 하자. "
   ]
  },
  {
   "cell_type": "markdown",
   "id": "17711a71-0bda-443c-86ee-f2de201cc6cc",
   "metadata": {
    "id": "17711a71-0bda-443c-86ee-f2de201cc6cc"
   },
   "source": [
    "(epoch1) \n",
    "- $loss=\\sum_{i=1}^{3}(y_i-\\beta_0-\\beta_1x_i)^2 \\quad \\to \\quad slope \\quad \\to \\quad update$\n",
    "- $loss=\\sum_{i=4}^{6}(y_i-\\beta_0-\\beta_1x_i)^2 \\quad \\to \\quad slope \\quad \\to \\quad update$\n",
    "- $loss=\\sum_{i=7}^{9}(y_i-\\beta_0-\\beta_1x_i)^2 \\quad \\to \\quad slope \\quad \\to \\quad update$\n",
    "- $loss=(y_{10}-\\beta_0-\\beta_1x_{10})^2 \\quad \\to \\quad slope \\quad \\to \\quad update$"
   ]
  },
  {
   "cell_type": "markdown",
   "id": "2dc1fa34-a514-4442-8499-d722c5669018",
   "metadata": {
    "id": "2dc1fa34-a514-4442-8499-d722c5669018"
   },
   "source": [
    "(epoch2) \n",
    "- $loss=\\sum_{i=1}^{3}(y_i-\\beta_0-\\beta_1x_i)^2 \\quad \\to \\quad slope \\quad \\to \\quad update$\n",
    "- $loss=\\sum_{i=4}^{6}(y_i-\\beta_0-\\beta_1x_i)^2 \\quad \\to \\quad slope \\quad \\to \\quad update$\n",
    "- $loss=\\sum_{i=7}^{9}(y_i-\\beta_0-\\beta_1x_i)^2 \\quad \\to \\quad slope \\quad \\to \\quad update$\n",
    "- $loss=(y_{10}-\\beta_0-\\beta_1x_{10})^2 \\quad \\to \\quad slope \\quad \\to \\quad update$"
   ]
  },
  {
   "cell_type": "markdown",
   "id": "cf3ae2c2-be34-416f-ab7f-8d6d1899084f",
   "metadata": {
    "id": "cf3ae2c2-be34-416f-ab7f-8d6d1899084f"
   },
   "source": [
    "..."
   ]
  },
  {
   "cell_type": "markdown",
   "id": "t0XcPjnART1B",
   "metadata": {
    "id": "t0XcPjnART1B"
   },
   "source": [
    "* Ver 3의 겨우 파라미터 업데이트시 한번도 사용이 안되는 샘플이 존재할 수 가 있다."
   ]
  },
  {
   "cell_type": "markdown",
   "id": "fa5a3830-f271-406e-b748-e45df9fe1076",
   "metadata": {
    "id": "fa5a3830-f271-406e-b748-e45df9fe1076"
   },
   "source": [
    "### 용어의 정리 "
   ]
  },
  {
   "cell_type": "markdown",
   "id": "b3a464b9-aaef-4625-8533-cacc00559c9a",
   "metadata": {
    "id": "b3a464b9-aaef-4625-8533-cacc00559c9a"
   },
   "source": [
    "#### 옛날 (좀 더 엄밀)"
   ]
  },
  {
   "cell_type": "markdown",
   "id": "870b1c0b-8465-4e54-a8ef-c6dc21512919",
   "metadata": {
    "id": "870b1c0b-8465-4e54-a8ef-c6dc21512919"
   },
   "source": [
    "`-` ver1: gradient descent, batch gradient descent \n"
   ]
  },
  {
   "cell_type": "markdown",
   "id": "f9b2a2ea-770a-439e-acb2-a5092f8f5687",
   "metadata": {
    "id": "f9b2a2ea-770a-439e-acb2-a5092f8f5687"
   },
   "source": [
    "`-` ver2: stochastic gradient descent (확률적 경사 하강법)\n",
    "\n"
   ]
  },
  {
   "cell_type": "markdown",
   "id": "7e0f292b-da41-47a5-8dea-6cfbc17e7b11",
   "metadata": {
    "id": "7e0f292b-da41-47a5-8dea-6cfbc17e7b11"
   },
   "source": [
    "`-` ver3: mini-batch gradient descent, mini-batch stochastic gradient descent"
   ]
  },
  {
   "cell_type": "markdown",
   "id": "106c2364-be91-43e9-bf87-a9ad9209317c",
   "metadata": {
    "id": "106c2364-be91-43e9-bf87-a9ad9209317c"
   },
   "source": [
    "#### 요즘 "
   ]
  },
  {
   "cell_type": "markdown",
   "id": "a03457f9-5a12-4240-8e46-8cb7a9ca6522",
   "metadata": {
    "id": "a03457f9-5a12-4240-8e46-8cb7a9ca6522"
   },
   "source": [
    "`-` ver1: gradient descent\n"
   ]
  },
  {
   "cell_type": "markdown",
   "id": "30369967-7ee8-46ba-abbc-ccf28df09cc5",
   "metadata": {
    "id": "30369967-7ee8-46ba-abbc-ccf28df09cc5"
   },
   "source": [
    "`-` ver2: stochastic gradient descent with batch size = 1 "
   ]
  },
  {
   "cell_type": "markdown",
   "id": "aabfe7d2-d779-4b5f-ac6d-e2367f693835",
   "metadata": {
    "id": "aabfe7d2-d779-4b5f-ac6d-e2367f693835"
   },
   "source": [
    "`-` ver3: stochastic gradient descent (확률적 경사하강법)\n",
    "- https://www.deeplearningbook.org/contents/optimization.html, 알고리즘 8-1 참고. "
   ]
  },
  {
   "cell_type": "markdown",
   "id": "1aa1ab0c-e4be-4462-a9af-b9375056f617",
   "metadata": {
    "id": "1aa1ab0c-e4be-4462-a9af-b9375056f617"
   },
   "source": [
    "note: 이렇게 많이 쓰는 이유? ver1,2는 사실상 없는 방법이므로"
   ]
  },
  {
   "cell_type": "markdown",
   "id": "41b0806c-1312-40b4-ae45-1e7aa6e8eb95",
   "metadata": {
    "id": "41b0806c-1312-40b4-ae45-1e7aa6e8eb95"
   },
   "source": [
    "### ver1,2,3 이외에 좀 더 지저분한 것들이 있다. "
   ]
  },
  {
   "cell_type": "markdown",
   "id": "ab033e1a-c1a8-46f1-acde-80595eb87c73",
   "metadata": {
    "id": "ab033e1a-c1a8-46f1-acde-80595eb87c73"
   },
   "source": [
    "`-` ver2,3에서 샘플을 셔플할 수도 있다. "
   ]
  },
  {
   "cell_type": "markdown",
   "id": "b7b14707-101e-47ca-afa3-15bece9d3200",
   "metadata": {
    "id": "b7b14707-101e-47ca-afa3-15bece9d3200"
   },
   "source": [
    "`-` ver3에서 일부 샘플이 학습에 참여 안하는 버전도 있다. "
   ]
  },
  {
   "cell_type": "markdown",
   "id": "473e8f92-b711-46c2-86ae-30202e3218ff",
   "metadata": {
    "id": "473e8f92-b711-46c2-86ae-30202e3218ff"
   },
   "source": [
    "`-` 개인적 생각: 크게3개정도만 알면 괜찮고 나머지는 그렇게 유의미하지 않아보인다. "
   ]
  },
  {
   "cell_type": "markdown",
   "id": "1f96b101-074b-419f-961c-21bc7b2dec08",
   "metadata": {
    "id": "1f96b101-074b-419f-961c-21bc7b2dec08"
   },
   "source": [
    "### Discussion "
   ]
  },
  {
   "cell_type": "markdown",
   "id": "82f26aa7-736b-41e0-9cd5-24525c6318c1",
   "metadata": {
    "id": "82f26aa7-736b-41e0-9cd5-24525c6318c1"
   },
   "source": [
    "`-` 핵심개념 \n",
    "- **메모리사용량: ver1 > ver3 > ver2** (한번에 한개의 파라미터를  업데이트 할 때!!)\n",
    "- 계산속도: ver1 > ver3 > ver2 (한번에 한개의 파라미터를  업데이트 할 때!!) \n",
    "- local-min에 갇힘: ver1> ver3 > ver2 (이건 알고리즘 구성의 차이)  \n",
    "  * `ver1` 은 local-min을 잘 찾는다\n",
    "  * `ver2`, `ver3`은 운좋게 `local-min`을 탈출한다"
   ]
  },
  {
   "cell_type": "markdown",
   "id": "f20b36c8-ef09-46c6-8a05-2e0e31c84652",
   "metadata": {
    "id": "f20b36c8-ef09-46c6-8a05-2e0e31c84652"
   },
   "source": [
    "`-` 본질: GPU 메모리가 한정되어 있어서 ver1을 쓰지는 못한다. GPU 메모리를 가장 적게쓰는것은 ver2인데 이것은 너무 불안정하다. "
   ]
  },
  {
   "cell_type": "markdown",
   "id": "073482a8-ac5a-4eb1-a79c-45240454e597",
   "metadata": {
    "id": "073482a8-ac5a-4eb1-a79c-45240454e597"
   },
   "source": [
    "`-` 틀리진 않지만 어색한 블로그 정리 내용들 \n",
    "- 경사하강법은 종종 국소최소점에 갇히는 문제가 있다. 이를 해결하기 위해서 등장한 방법이 확률적 경사하강법이다.(X)\n",
    "  * 틀린말은 아니나 그것을 의도하고 만든 것은 아님, 가끔 그럴 때도 있는 것이지 확률적 경사하강법을 쓴다고 local_minimum에 빠지지 않는 것은 아니다.\n",
    "- 경사하강법은 계산시간이 오래걸린다(O). 계산을 빠르게 하기 위해서 등장한 방법이 확률적 경사하강법이다.(O)\n",
    "  * 1회 업데이트는 빠르게 계산하나, 하지만 그것이 최적의 $\\beta$를 빠르게 얻을 수 있는 것은 아님\n",
    "\n"
   ]
  },
  {
   "cell_type": "markdown",
   "id": "SgJ2CEhBTzCm",
   "metadata": {
    "id": "SgJ2CEhBTzCm"
   },
   "source": [
    "* 결론\n",
    "  * 확률적 경사하강법을 쓰는 이유는 메모리적 문제이다. 메모리를 아끼기 위해 우리는 `tf.Variable`을 이용한다. 그런데 `Gradient`를 계산하려면 `loss`를 계산해야 하고 샘플 `(y,yhat)`을 전부 메모리상에 올려야한다.\n",
    "  * 위 같은 경우 GPU가 샘플의 일부만 올라갈 수 있다면 미니배치방법인 확률적 경사하강법을 사용해야기 때문에 확률적경사하강법을 우리가 사용하는 이유다.\n",
    "  "
   ]
  },
  {
   "cell_type": "markdown",
   "id": "c824d653-8259-473a-a6ae-d704a4d0ec46",
   "metadata": {
    "id": "c824d653-8259-473a-a6ae-d704a4d0ec46"
   },
   "source": [
    "## fashion_mnist 모듈 "
   ]
  },
  {
   "cell_type": "markdown",
   "id": "a9994341-1fe6-466a-99b2-5f9dc7e6293e",
   "metadata": {
    "id": "a9994341-1fe6-466a-99b2-5f9dc7e6293e"
   },
   "source": [
    "### tf.keras.datasets.fashion_mnist.load_data()"
   ]
  },
  {
   "cell_type": "code",
   "execution_count": 4,
   "id": "S0Fb0mSygrKl",
   "metadata": {
    "colab": {
     "base_uri": "https://localhost:8080/"
    },
    "executionInfo": {
     "elapsed": 448,
     "status": "ok",
     "timestamp": 1652678715265,
     "user": {
      "displayName": "이강철",
      "userId": "13507850890638580947"
     },
     "user_tz": -540
    },
    "id": "S0Fb0mSygrKl",
    "outputId": "15bb09ed-4328-4d3e-9784-0f097f1f8b2c"
   },
   "outputs": [
    {
     "data": {
      "text/plain": [
       "module"
      ]
     },
     "execution_count": 4,
     "metadata": {},
     "output_type": "execute_result"
    }
   ],
   "source": [
    "type(tf.keras.datasets.fashion_mnist)"
   ]
  },
  {
   "cell_type": "markdown",
   "id": "e58529e6-3122-4aac-abbb-97b30527c24a",
   "metadata": {
    "id": "e58529e6-3122-4aac-abbb-97b30527c24a"
   },
   "source": [
    "### 데이터생성 및 탐색"
   ]
  },
  {
   "cell_type": "markdown",
   "id": "32792d84-35c1-444a-a6a1-ccecd40b045a",
   "metadata": {
    "id": "32792d84-35c1-444a-a6a1-ccecd40b045a"
   },
   "source": [
    "`-` tf.keras.datasets.fashion_mnist.load_data()를 이용한 데이터 생성 "
   ]
  },
  {
   "cell_type": "code",
   "execution_count": 5,
   "id": "1DvgQmK7g6K0",
   "metadata": {
    "colab": {
     "base_uri": "https://localhost:8080/"
    },
    "executionInfo": {
     "elapsed": 442,
     "status": "ok",
     "timestamp": 1652678717926,
     "user": {
      "displayName": "이강철",
      "userId": "13507850890638580947"
     },
     "user_tz": -540
    },
    "id": "1DvgQmK7g6K0",
    "outputId": "2b3ba457-f263-41b3-e4d8-c17484476b14"
   },
   "outputs": [
    {
     "data": {
      "text/plain": [
       "function"
      ]
     },
     "execution_count": 5,
     "metadata": {},
     "output_type": "execute_result"
    }
   ],
   "source": [
    "type(tf.keras.datasets.fashion_mnist.load_data)"
   ]
  },
  {
   "cell_type": "markdown",
   "id": "xJEG7FhzhTt8",
   "metadata": {
    "id": "xJEG7FhzhTt8"
   },
   "source": [
    "* `__call__` : 오브젝트가 숨겨져있음 $\\to$ 괄호를 열고 닫으면 오브젝트가 생성됨"
   ]
  },
  {
   "cell_type": "markdown",
   "id": "srOjtot-hd1s",
   "metadata": {
    "id": "srOjtot-hd1s"
   },
   "source": [
    "* `enter` 와 `exit`가 없으면 `with`를 같이 쓸 수 없음"
   ]
  },
  {
   "cell_type": "code",
   "execution_count": null,
   "id": "J2obn6KshRhz",
   "metadata": {
    "colab": {
     "base_uri": "https://localhost:8080/"
    },
    "executionInfo": {
     "elapsed": 15,
     "status": "ok",
     "timestamp": 1651490761327,
     "user": {
      "displayName": "이강철",
      "userId": "13507850890638580947"
     },
     "user_tz": -540
    },
    "id": "J2obn6KshRhz",
    "outputId": "5bcbb3dc-0af4-4ef0-a53c-fcd233b03286"
   },
   "outputs": [
    {
     "data": {
      "text/plain": [
       "['__annotations__',\n",
       " '__call__',\n",
       " '__class__',\n",
       " '__closure__',\n",
       " '__code__',\n",
       " '__defaults__',\n",
       " '__delattr__',\n",
       " '__dict__',\n",
       " '__dir__',\n",
       " '__doc__',\n",
       " '__eq__',\n",
       " '__format__',\n",
       " '__ge__',\n",
       " '__get__',\n",
       " '__getattribute__',\n",
       " '__globals__',\n",
       " '__gt__',\n",
       " '__hash__',\n",
       " '__init__',\n",
       " '__init_subclass__',\n",
       " '__kwdefaults__',\n",
       " '__le__',\n",
       " '__lt__',\n",
       " '__module__',\n",
       " '__name__',\n",
       " '__ne__',\n",
       " '__new__',\n",
       " '__qualname__',\n",
       " '__reduce__',\n",
       " '__reduce_ex__',\n",
       " '__repr__',\n",
       " '__setattr__',\n",
       " '__sizeof__',\n",
       " '__str__',\n",
       " '__subclasshook__',\n",
       " '_keras_api_names',\n",
       " '_keras_api_names_v1']"
      ]
     },
     "execution_count": 14,
     "metadata": {},
     "output_type": "execute_result"
    }
   ],
   "source": [
    "dir(tf.keras.datasets.fashion_mnist.load_data)"
   ]
  },
  {
   "cell_type": "code",
   "execution_count": 7,
   "id": "4KFmv6CQVkZS",
   "metadata": {
    "executionInfo": {
     "elapsed": 419,
     "status": "ok",
     "timestamp": 1652678896157,
     "user": {
      "displayName": "이강철",
      "userId": "13507850890638580947"
     },
     "user_tz": -540
    },
    "id": "4KFmv6CQVkZS"
   },
   "outputs": [],
   "source": [
    "tf.keras.datasets.fashion_mnist.load_data??"
   ]
  },
  {
   "cell_type": "code",
   "execution_count": 8,
   "id": "S8I5-uOvh8qG",
   "metadata": {
    "colab": {
     "base_uri": "https://localhost:8080/"
    },
    "executionInfo": {
     "elapsed": 1006,
     "status": "ok",
     "timestamp": 1652678915567,
     "user": {
      "displayName": "이강철",
      "userId": "13507850890638580947"
     },
     "user_tz": -540
    },
    "id": "S8I5-uOvh8qG",
    "outputId": "e795debc-5055-4cec-88da-4b9d6e0dc8f1"
   },
   "outputs": [
    {
     "name": "stdout",
     "output_type": "stream",
     "text": [
      "Downloading data from https://storage.googleapis.com/tensorflow/tf-keras-datasets/train-labels-idx1-ubyte.gz\n",
      "32768/29515 [=================================] - 0s 0us/step\n",
      "40960/29515 [=========================================] - 0s 0us/step\n",
      "Downloading data from https://storage.googleapis.com/tensorflow/tf-keras-datasets/train-images-idx3-ubyte.gz\n",
      "26427392/26421880 [==============================] - 0s 0us/step\n",
      "26435584/26421880 [==============================] - 0s 0us/step\n",
      "Downloading data from https://storage.googleapis.com/tensorflow/tf-keras-datasets/t10k-labels-idx1-ubyte.gz\n",
      "16384/5148 [===============================================================================================] - 0s 0us/step\n",
      "Downloading data from https://storage.googleapis.com/tensorflow/tf-keras-datasets/t10k-images-idx3-ubyte.gz\n",
      "4423680/4422102 [==============================] - 0s 0us/step\n",
      "4431872/4422102 [==============================] - 0s 0us/step\n"
     ]
    }
   ],
   "source": [
    "(x_train, y_train), (x_test, y_test) = tf.keras.datasets.fashion_mnist.load_data()"
   ]
  },
  {
   "cell_type": "code",
   "execution_count": 9,
   "id": "3wiAL54ziLHF",
   "metadata": {
    "colab": {
     "base_uri": "https://localhost:8080/"
    },
    "executionInfo": {
     "elapsed": 4,
     "status": "ok",
     "timestamp": 1652678918077,
     "user": {
      "displayName": "이강철",
      "userId": "13507850890638580947"
     },
     "user_tz": -540
    },
    "id": "3wiAL54ziLHF",
    "outputId": "8655085c-6bff-4af6-d015-d924afe71e7c"
   },
   "outputs": [
    {
     "data": {
      "text/plain": [
       "((60000, 28, 28), (60000,))"
      ]
     },
     "execution_count": 9,
     "metadata": {},
     "output_type": "execute_result"
    }
   ],
   "source": [
    "x_train.shape, y_train.shape"
   ]
  },
  {
   "cell_type": "code",
   "execution_count": 10,
   "id": "j43oONaaiPuc",
   "metadata": {
    "colab": {
     "base_uri": "https://localhost:8080/"
    },
    "executionInfo": {
     "elapsed": 512,
     "status": "ok",
     "timestamp": 1652678922401,
     "user": {
      "displayName": "이강철",
      "userId": "13507850890638580947"
     },
     "user_tz": -540
    },
    "id": "j43oONaaiPuc",
    "outputId": "fa1a343c-5ad5-4e07-d4d9-fa0e013b8a0d"
   },
   "outputs": [
    {
     "data": {
      "text/plain": [
       "((10000, 28, 28), (10000,))"
      ]
     },
     "execution_count": 10,
     "metadata": {},
     "output_type": "execute_result"
    }
   ],
   "source": [
    "x_test.shape, y_test.shape"
   ]
  },
  {
   "cell_type": "markdown",
   "id": "Bo4xVaWriYVE",
   "metadata": {
    "id": "Bo4xVaWriYVE"
   },
   "source": [
    "* 코드를 바로 뜯어보고 구글링은 최후 수단으로 하자"
   ]
  },
  {
   "cell_type": "markdown",
   "id": "1890d715-a038-4ae4-a4ad-7aed7ac80ef5",
   "metadata": {
    "id": "1890d715-a038-4ae4-a4ad-7aed7ac80ef5"
   },
   "source": [
    "### 데이터구조 "
   ]
  },
  {
   "cell_type": "code",
   "execution_count": 12,
   "id": "XOZV6U3UjP7N",
   "metadata": {
    "executionInfo": {
     "elapsed": 425,
     "status": "ok",
     "timestamp": 1652678933695,
     "user": {
      "displayName": "이강철",
      "userId": "13507850890638580947"
     },
     "user_tz": -540
    },
    "id": "XOZV6U3UjP7N"
   },
   "outputs": [],
   "source": [
    "#x_train[0] ## 첫번째 관측치"
   ]
  },
  {
   "cell_type": "code",
   "execution_count": 13,
   "id": "-CTKR-mMjTRc",
   "metadata": {
    "colab": {
     "base_uri": "https://localhost:8080/"
    },
    "executionInfo": {
     "elapsed": 678,
     "status": "ok",
     "timestamp": 1652678950436,
     "user": {
      "displayName": "이강철",
      "userId": "13507850890638580947"
     },
     "user_tz": -540
    },
    "id": "-CTKR-mMjTRc",
    "outputId": "c33b2ea4-e626-4db0-d9f6-e272efe96138"
   },
   "outputs": [
    {
     "data": {
      "text/plain": [
       "(28, 28)"
      ]
     },
     "execution_count": 13,
     "metadata": {},
     "output_type": "execute_result"
    }
   ],
   "source": [
    "x_train[0].shape"
   ]
  },
  {
   "cell_type": "code",
   "execution_count": 14,
   "id": "Mz4acpJDigjm",
   "metadata": {
    "colab": {
     "base_uri": "https://localhost:8080/",
     "height": 283
    },
    "executionInfo": {
     "elapsed": 8,
     "status": "ok",
     "timestamp": 1652678952387,
     "user": {
      "displayName": "이강철",
      "userId": "13507850890638580947"
     },
     "user_tz": -540
    },
    "id": "Mz4acpJDigjm",
    "outputId": "4b983552-f56b-4991-aece-086c71ce9e27"
   },
   "outputs": [
    {
     "data": {
      "text/plain": [
       "<matplotlib.image.AxesImage at 0x7f44628357d0>"
      ]
     },
     "execution_count": 14,
     "metadata": {},
     "output_type": "execute_result"
    },
    {
     "data": {
      "image/png": "[encoded data removed]",
      "text/plain": [
       "<Figure size 432x288 with 1 Axes>"
      ]
     },
     "metadata": {
      "needs_background": "light"
     },
     "output_type": "display_data"
    }
   ],
   "source": [
    "plt.imshow(x_train[0])"
   ]
  },
  {
   "cell_type": "code",
   "execution_count": 15,
   "id": "Rlk4h_hJjbUF",
   "metadata": {
    "colab": {
     "base_uri": "https://localhost:8080/"
    },
    "executionInfo": {
     "elapsed": 419,
     "status": "ok",
     "timestamp": 1652678957011,
     "user": {
      "displayName": "이강철",
      "userId": "13507850890638580947"
     },
     "user_tz": -540
    },
    "id": "Rlk4h_hJjbUF",
    "outputId": "410d8b93-6448-45dc-c575-ec177a0e3d4d"
   },
   "outputs": [
    {
     "data": {
      "text/plain": [
       "array([0, 1, 2, 3, 4, 5, 6, 7, 8, 9], dtype=uint8)"
      ]
     },
     "execution_count": 15,
     "metadata": {},
     "output_type": "execute_result"
    }
   ],
   "source": [
    "np.unique(y_train)"
   ]
  },
  {
   "cell_type": "code",
   "execution_count": 16,
   "id": "s8Fi4wLWjZGT",
   "metadata": {
    "colab": {
     "base_uri": "https://localhost:8080/"
    },
    "executionInfo": {
     "elapsed": 580,
     "status": "ok",
     "timestamp": 1652678959370,
     "user": {
      "displayName": "이강철",
      "userId": "13507850890638580947"
     },
     "user_tz": -540
    },
    "id": "s8Fi4wLWjZGT",
    "outputId": "92ad2f71-7a6c-429f-b16f-2628ed6e4648"
   },
   "outputs": [
    {
     "data": {
      "text/plain": [
       "(array([    0,    11,    15, ..., 59932, 59970, 59978]),)"
      ]
     },
     "execution_count": 16,
     "metadata": {},
     "output_type": "execute_result"
    }
   ],
   "source": [
    "np.where(y_train==9)"
   ]
  },
  {
   "cell_type": "markdown",
   "id": "o2UejYM3jyKV",
   "metadata": {
    "id": "o2UejYM3jyKV"
   },
   "source": [
    "* 오 왠지 11번째 데이터도 신발일 것 같에"
   ]
  },
  {
   "cell_type": "code",
   "execution_count": 17,
   "id": "cIkTXD7sjnn8",
   "metadata": {
    "colab": {
     "base_uri": "https://localhost:8080/",
     "height": 283
    },
    "executionInfo": {
     "elapsed": 443,
     "status": "ok",
     "timestamp": 1652678964756,
     "user": {
      "displayName": "이강철",
      "userId": "13507850890638580947"
     },
     "user_tz": -540
    },
    "id": "cIkTXD7sjnn8",
    "outputId": "8383207b-97ee-4c34-b4e8-7b82f60b9abe"
   },
   "outputs": [
    {
     "data": {
      "text/plain": [
       "<matplotlib.image.AxesImage at 0x7f446239ba50>"
      ]
     },
     "execution_count": 17,
     "metadata": {},
     "output_type": "execute_result"
    },
    {
     "data": {
      "image/png": "[encoded data removed]",
      "text/plain": [
       "<Figure size 432x288 with 1 Axes>"
      ]
     },
     "metadata": {
      "needs_background": "light"
     },
     "output_type": "display_data"
    }
   ],
   "source": [
    "plt.imshow(x_train[11])"
   ]
  },
  {
   "cell_type": "markdown",
   "id": "NrYg4Omqj-RF",
   "metadata": {
    "id": "NrYg4Omqj-RF"
   },
   "source": [
    "`-` $\\bf{X} : (n,28,28)$\n"
   ]
  },
  {
   "cell_type": "markdown",
   "id": "fOCk3eMIkFDs",
   "metadata": {
    "id": "fOCk3eMIkFDs"
   },
   "source": [
    "`-` $y$ : 각 이미지의 라벨 데이터"
   ]
  },
  {
   "cell_type": "markdown",
   "id": "6df7878d-a027-4a0d-aa4d-287df84ca684",
   "metadata": {
    "id": "6df7878d-a027-4a0d-aa4d-287df84ca684"
   },
   "source": [
    "## 예제1"
   ]
  },
  {
   "cell_type": "markdown",
   "id": "46acce66-af19-4368-a663-079e5794821b",
   "metadata": {
    "id": "46acce66-af19-4368-a663-079e5794821b",
    "tags": []
   },
   "source": [
    "### 데이터 정리 "
   ]
  },
  {
   "cell_type": "markdown",
   "id": "oBJh2IV8kVO1",
   "metadata": {
    "id": "oBJh2IV8kVO1"
   },
   "source": [
    "`-` $y=0,1$에 대응하는 이미지만 정리하자. (우리가 배운건 로지스틱이니깐)"
   ]
  },
  {
   "cell_type": "code",
   "execution_count": 22,
   "id": "_nUMu_LFkd_E",
   "metadata": {
    "executionInfo": {
     "elapsed": 436,
     "status": "ok",
     "timestamp": 1652679103623,
     "user": {
      "displayName": "이강철",
      "userId": "13507850890638580947"
     },
     "user_tz": -540
    },
    "id": "_nUMu_LFkd_E"
   },
   "outputs": [],
   "source": [
    "y=y_train[(y_train == 0) | (y_train == 1)].reshape(-1,1)\n",
    "yy= y_test[(y_test == 0) | (y_test == 1)].reshape(-1,1)"
   ]
  },
  {
   "cell_type": "code",
   "execution_count": 23,
   "id": "KJiIiFgjkuR1",
   "metadata": {
    "executionInfo": {
     "elapsed": 542,
     "status": "ok",
     "timestamp": 1652679104598,
     "user": {
      "displayName": "이강철",
      "userId": "13507850890638580947"
     },
     "user_tz": -540
    },
    "id": "KJiIiFgjkuR1"
   },
   "outputs": [],
   "source": [
    "X=x_train[(y_train == 0) | (y_train == 1)]\n",
    "XX= x_test[(y_test == 0) | (y_test== 1)]"
   ]
  },
  {
   "cell_type": "code",
   "execution_count": null,
   "id": "gWPg7h6dlew0",
   "metadata": {
    "colab": {
     "base_uri": "https://localhost:8080/"
    },
    "executionInfo": {
     "elapsed": 9,
     "status": "ok",
     "timestamp": 1651491985436,
     "user": {
      "displayName": "이강철",
      "userId": "13507850890638580947"
     },
     "user_tz": -540
    },
    "id": "gWPg7h6dlew0",
    "outputId": "b6e6e873-f85f-477a-c5df-d53f106346ad"
   },
   "outputs": [
    {
     "data": {
      "text/plain": [
       "(12000, 28, 28)"
      ]
     },
     "execution_count": 54,
     "metadata": {},
     "output_type": "execute_result"
    }
   ],
   "source": [
    "X.shape"
   ]
  },
  {
   "cell_type": "code",
   "execution_count": 24,
   "id": "EVlrxs46WeZ-",
   "metadata": {
    "colab": {
     "base_uri": "https://localhost:8080/"
    },
    "executionInfo": {
     "elapsed": 5,
     "status": "ok",
     "timestamp": 1652679112235,
     "user": {
      "displayName": "이강철",
      "userId": "13507850890638580947"
     },
     "user_tz": -540
    },
    "id": "EVlrxs46WeZ-",
    "outputId": "a9e27d3e-6c3e-4ecf-eee3-c2605928fbb1"
   },
   "outputs": [
    {
     "data": {
      "text/plain": [
       "(12000, 1)"
      ]
     },
     "execution_count": 24,
     "metadata": {},
     "output_type": "execute_result"
    }
   ],
   "source": [
    "y.shape"
   ]
  },
  {
   "cell_type": "code",
   "execution_count": 25,
   "id": "Iw1tPaTukv9G",
   "metadata": {
    "colab": {
     "base_uri": "https://localhost:8080/"
    },
    "executionInfo": {
     "elapsed": 430,
     "status": "ok",
     "timestamp": 1652679146111,
     "user": {
      "displayName": "이강철",
      "userId": "13507850890638580947"
     },
     "user_tz": -540
    },
    "id": "Iw1tPaTukv9G",
    "outputId": "821c7674-bce7-4db1-9dc7-c5bcc341c791"
   },
   "outputs": [
    {
     "data": {
      "text/plain": [
       "784"
      ]
     },
     "execution_count": 25,
     "metadata": {},
     "output_type": "execute_result"
    }
   ],
   "source": [
    "28*28"
   ]
  },
  {
   "cell_type": "code",
   "execution_count": 26,
   "id": "iRNTuUPlliYj",
   "metadata": {
    "executionInfo": {
     "elapsed": 2,
     "status": "ok",
     "timestamp": 1652679147610,
     "user": {
      "displayName": "이강철",
      "userId": "13507850890638580947"
     },
     "user_tz": -540
    },
    "id": "iRNTuUPlliYj"
   },
   "outputs": [],
   "source": [
    "X=x_train[(y_train == 0) | (y_train == 1)].reshape(-1,784)\n",
    "XX= x_test[(y_test == 0) | (y_test== 1)].reshape(-1,784)"
   ]
  },
  {
   "cell_type": "code",
   "execution_count": 27,
   "id": "pPIMgAW6lsFi",
   "metadata": {
    "colab": {
     "base_uri": "https://localhost:8080/"
    },
    "executionInfo": {
     "elapsed": 5,
     "status": "ok",
     "timestamp": 1652679149820,
     "user": {
      "displayName": "이강철",
      "userId": "13507850890638580947"
     },
     "user_tz": -540
    },
    "id": "pPIMgAW6lsFi",
    "outputId": "ef5f43e3-c0cb-4181-ae50-5ef243e21782"
   },
   "outputs": [
    {
     "data": {
      "text/plain": [
       "((12000, 784), (2000, 784))"
      ]
     },
     "execution_count": 27,
     "metadata": {},
     "output_type": "execute_result"
    }
   ],
   "source": [
    "X.shape,XX.shape"
   ]
  },
  {
   "cell_type": "markdown",
   "id": "f1607fa9-169a-46c1-9d05-301dc135bd6b",
   "metadata": {
    "id": "f1607fa9-169a-46c1-9d05-301dc135bd6b"
   },
   "source": [
    "### 풀이1: 은닉층을 포함한 신경망  // epochs=100"
   ]
  },
  {
   "cell_type": "code",
   "execution_count": 28,
   "id": "89de916e-b83d-42d6-bd39-f5d3004d25c2",
   "metadata": {
    "colab": {
     "base_uri": "https://localhost:8080/",
     "height": 368
    },
    "executionInfo": {
     "elapsed": 621,
     "status": "ok",
     "timestamp": 1652679176255,
     "user": {
      "displayName": "이강철",
      "userId": "13507850890638580947"
     },
     "user_tz": -540
    },
    "id": "89de916e-b83d-42d6-bd39-f5d3004d25c2",
    "outputId": "96d289ff-ad2a-4ed8-cef9-fa6e0fc0baeb"
   },
   "outputs": [
    {
     "data": {
      "image/svg+xml": [
       "<?xml version=\"1.0\" encoding=\"UTF-8\" standalone=\"no\"?>\n",
       "<!DOCTYPE svg PUBLIC \"-//W3C//DTD SVG 1.1//EN\"\n",
       " \"http://www.w3.org/Graphics/SVG/1.1/DTD/svg11.dtd\">\n",
       "<!-- Generated by graphviz version 2.40.1 (20161225.0304)\n",
       " -->\n",
       "<!-- Title: G Pages: 1 -->\n",
       "<svg width=\"342pt\" height=\"261pt\"\n",
       " viewBox=\"0.00 0.00 342.09 261.00\" xmlns=\"http://www.w3.org/2000/svg\" xmlns:xlink=\"http://www.w3.org/1999/xlink\">\n",
       "<g id=\"graph0\" class=\"graph\" transform=\"scale(1 1) rotate(0) translate(4 257)\">\n",
       "<title>G</title>\n",
       "<polygon fill=\"#ffffff\" stroke=\"transparent\" points=\"-4,4 -4,-257 338.0877,-257 338.0877,4 -4,4\"/>\n",
       "<g id=\"clust1\" class=\"cluster\">\n",
       "<title>cluster_1</title>\n",
       "<polygon fill=\"#d3d3d3\" stroke=\"#d3d3d3\" points=\"8,-8 8,-245 85.0946,-245 85.0946,-8 8,-8\"/>\n",
       "<text text-anchor=\"middle\" x=\"46.5473\" y=\"-229.8\" font-family=\"Times,serif\" font-size=\"14.00\" fill=\"#000000\">Layer 0</text>\n",
       "</g>\n",
       "<g id=\"clust2\" class=\"cluster\">\n",
       "<title>cluster_2</title>\n",
       "<polygon fill=\"#d3d3d3\" stroke=\"#d3d3d3\" points=\"105.0946,-8 105.0946,-245 199.0877,-245 199.0877,-8 105.0946,-8\"/>\n",
       "<text text-anchor=\"middle\" x=\"152.0911\" y=\"-229.8\" font-family=\"Times,serif\" font-size=\"14.00\" fill=\"#000000\">Layer 1: relu</text>\n",
       "</g>\n",
       "<g id=\"clust3\" class=\"cluster\">\n",
       "<title>cluster_3</title>\n",
       "<polygon fill=\"#d3d3d3\" stroke=\"#d3d3d3\" points=\"219.0877,-89 219.0877,-164 334.0877,-164 334.0877,-89 219.0877,-89\"/>\n",
       "<text text-anchor=\"middle\" x=\"276.5877\" y=\"-148.8\" font-family=\"Times,serif\" font-size=\"14.00\" fill=\"#000000\">Layer 2: sigmoid</text>\n",
       "</g>\n",
       "<!-- x1 -->\n",
       "<g id=\"node1\" class=\"node\">\n",
       "<title>x1</title>\n",
       "<ellipse fill=\"none\" stroke=\"#000000\" cx=\"46.5473\" cy=\"-196\" rx=\"27\" ry=\"18\"/>\n",
       "<text text-anchor=\"middle\" x=\"46.5473\" y=\"-192.3\" font-family=\"Times,serif\" font-size=\"14.00\" fill=\"#000000\">x1</text>\n",
       "</g>\n",
       "<!-- node1 -->\n",
       "<g id=\"node5\" class=\"node\">\n",
       "<title>node1</title>\n",
       "<ellipse fill=\"none\" stroke=\"#000000\" cx=\"152.0911\" cy=\"-196\" rx=\"34.394\" ry=\"18\"/>\n",
       "<text text-anchor=\"middle\" x=\"152.0911\" y=\"-192.3\" font-family=\"Times,serif\" font-size=\"14.00\" fill=\"#000000\">node1</text>\n",
       "</g>\n",
       "<!-- x1&#45;&gt;node1 -->\n",
       "<g id=\"edge1\" class=\"edge\">\n",
       "<title>x1&#45;&gt;node1</title>\n",
       "<path fill=\"none\" stroke=\"#000000\" d=\"M73.7274,-196C83.9217,-196 95.7972,-196 107.1744,-196\"/>\n",
       "<polygon fill=\"#000000\" stroke=\"#000000\" points=\"107.4202,-199.5001 117.4202,-196 107.4202,-192.5001 107.4202,-199.5001\"/>\n",
       "</g>\n",
       "<!-- node2 -->\n",
       "<g id=\"node6\" class=\"node\">\n",
       "<title>node2</title>\n",
       "<ellipse fill=\"none\" stroke=\"#000000\" cx=\"152.0911\" cy=\"-142\" rx=\"34.394\" ry=\"18\"/>\n",
       "<text text-anchor=\"middle\" x=\"152.0911\" y=\"-138.3\" font-family=\"Times,serif\" font-size=\"14.00\" fill=\"#000000\">node2</text>\n",
       "</g>\n",
       "<!-- x1&#45;&gt;node2 -->\n",
       "<g id=\"edge5\" class=\"edge\">\n",
       "<title>x1&#45;&gt;node2</title>\n",
       "<path fill=\"none\" stroke=\"#000000\" d=\"M68.1603,-184.942C82.4781,-177.6165 101.5634,-167.8518 117.9166,-159.4849\"/>\n",
       "<polygon fill=\"#000000\" stroke=\"#000000\" points=\"119.8644,-162.4199 127.1727,-154.7492 116.676,-156.1882 119.8644,-162.4199\"/>\n",
       "</g>\n",
       "<!-- ... -->\n",
       "<g id=\"node7\" class=\"node\">\n",
       "<title>...</title>\n",
       "<ellipse fill=\"none\" stroke=\"#000000\" cx=\"152.0911\" cy=\"-88\" rx=\"27\" ry=\"18\"/>\n",
       "<text text-anchor=\"middle\" x=\"152.0911\" y=\"-84.3\" font-family=\"Times,serif\" font-size=\"14.00\" fill=\"#000000\">...</text>\n",
       "</g>\n",
       "<!-- x1&#45;&gt;... -->\n",
       "<g id=\"edge9\" class=\"edge\">\n",
       "<title>x1&#45;&gt;...</title>\n",
       "<path fill=\"none\" stroke=\"#000000\" d=\"M61.6691,-180.5262C79.6401,-162.1371 109.7657,-131.3104 130.2622,-110.3369\"/>\n",
       "<polygon fill=\"#000000\" stroke=\"#000000\" points=\"132.8515,-112.6951 137.3376,-103.0969 127.8451,-107.8026 132.8515,-112.6951\"/>\n",
       "</g>\n",
       "<!-- node30 -->\n",
       "<g id=\"node8\" class=\"node\">\n",
       "<title>node30</title>\n",
       "<ellipse fill=\"none\" stroke=\"#000000\" cx=\"152.0911\" cy=\"-34\" rx=\"38.9931\" ry=\"18\"/>\n",
       "<text text-anchor=\"middle\" x=\"152.0911\" y=\"-30.3\" font-family=\"Times,serif\" font-size=\"14.00\" fill=\"#000000\">node30</text>\n",
       "</g>\n",
       "<!-- x1&#45;&gt;node30 -->\n",
       "<g id=\"edge13\" class=\"edge\">\n",
       "<title>x1&#45;&gt;node30</title>\n",
       "<path fill=\"none\" stroke=\"#000000\" d=\"M57.4448,-179.2733C75.8352,-151.0458 113.1612,-93.7539 135.0423,-60.1684\"/>\n",
       "<polygon fill=\"#000000\" stroke=\"#000000\" points=\"138.2495,-61.6573 140.7757,-51.3681 132.3844,-57.8362 138.2495,-61.6573\"/>\n",
       "</g>\n",
       "<!-- x2 -->\n",
       "<g id=\"node2\" class=\"node\">\n",
       "<title>x2</title>\n",
       "<ellipse fill=\"none\" stroke=\"#000000\" cx=\"46.5473\" cy=\"-142\" rx=\"27\" ry=\"18\"/>\n",
       "<text text-anchor=\"middle\" x=\"46.5473\" y=\"-138.3\" font-family=\"Times,serif\" font-size=\"14.00\" fill=\"#000000\">x2</text>\n",
       "</g>\n",
       "<!-- x2&#45;&gt;node1 -->\n",
       "<g id=\"edge2\" class=\"edge\">\n",
       "<title>x2&#45;&gt;node1</title>\n",
       "<path fill=\"none\" stroke=\"#000000\" d=\"M68.1603,-153.058C82.4781,-160.3835 101.5634,-170.1482 117.9166,-178.5151\"/>\n",
       "<polygon fill=\"#000000\" stroke=\"#000000\" points=\"116.676,-181.8118 127.1727,-183.2508 119.8644,-175.5801 116.676,-181.8118\"/>\n",
       "</g>\n",
       "<!-- x2&#45;&gt;node2 -->\n",
       "<g id=\"edge6\" class=\"edge\">\n",
       "<title>x2&#45;&gt;node2</title>\n",
       "<path fill=\"none\" stroke=\"#000000\" d=\"M73.7274,-142C83.9217,-142 95.7972,-142 107.1744,-142\"/>\n",
       "<polygon fill=\"#000000\" stroke=\"#000000\" points=\"107.4202,-145.5001 117.4202,-142 107.4202,-138.5001 107.4202,-145.5001\"/>\n",
       "</g>\n",
       "<!-- x2&#45;&gt;... -->\n",
       "<g id=\"edge10\" class=\"edge\">\n",
       "<title>x2&#45;&gt;...</title>\n",
       "<path fill=\"none\" stroke=\"#000000\" d=\"M68.1603,-130.942C83.5278,-123.0794 104.3876,-112.4068 121.4665,-103.6686\"/>\n",
       "<polygon fill=\"#000000\" stroke=\"#000000\" points=\"123.1987,-106.714 130.507,-99.0432 120.0103,-100.4822 123.1987,-106.714\"/>\n",
       "</g>\n",
       "<!-- x2&#45;&gt;node30 -->\n",
       "<g id=\"edge14\" class=\"edge\">\n",
       "<title>x2&#45;&gt;node30</title>\n",
       "<path fill=\"none\" stroke=\"#000000\" d=\"M61.6691,-126.5262C79.2339,-108.5527 108.4103,-78.6974 128.8581,-57.7737\"/>\n",
       "<polygon fill=\"#000000\" stroke=\"#000000\" points=\"131.4729,-60.1058 135.959,-50.5076 126.4665,-55.2133 131.4729,-60.1058\"/>\n",
       "</g>\n",
       "<!-- .. -->\n",
       "<g id=\"node3\" class=\"node\">\n",
       "<title>..</title>\n",
       "<ellipse fill=\"none\" stroke=\"#000000\" cx=\"46.5473\" cy=\"-88\" rx=\"27\" ry=\"18\"/>\n",
       "<text text-anchor=\"middle\" x=\"46.5473\" y=\"-84.3\" font-family=\"Times,serif\" font-size=\"14.00\" fill=\"#000000\">..</text>\n",
       "</g>\n",
       "<!-- ..&#45;&gt;node1 -->\n",
       "<g id=\"edge3\" class=\"edge\">\n",
       "<title>..&#45;&gt;node1</title>\n",
       "<path fill=\"none\" stroke=\"#000000\" d=\"M61.6691,-103.4738C79.3355,-121.5512 108.7479,-151.6482 129.2118,-172.5883\"/>\n",
       "<polygon fill=\"#000000\" stroke=\"#000000\" points=\"126.8155,-175.1439 136.308,-179.8496 131.8218,-170.2513 126.8155,-175.1439\"/>\n",
       "</g>\n",
       "<!-- ..&#45;&gt;node2 -->\n",
       "<g id=\"edge7\" class=\"edge\">\n",
       "<title>..&#45;&gt;node2</title>\n",
       "<path fill=\"none\" stroke=\"#000000\" d=\"M68.1603,-99.058C82.4781,-106.3835 101.5634,-116.1482 117.9166,-124.5151\"/>\n",
       "<polygon fill=\"#000000\" stroke=\"#000000\" points=\"116.676,-127.8118 127.1727,-129.2508 119.8644,-121.5801 116.676,-127.8118\"/>\n",
       "</g>\n",
       "<!-- ..&#45;&gt;... -->\n",
       "<g id=\"edge11\" class=\"edge\">\n",
       "<title>..&#45;&gt;...</title>\n",
       "<path fill=\"none\" stroke=\"#000000\" d=\"M73.7274,-88C86.2847,-88 101.3928,-88 114.9783,-88\"/>\n",
       "<polygon fill=\"#000000\" stroke=\"#000000\" points=\"115.0031,-91.5001 125.0031,-88 115.003,-84.5001 115.0031,-91.5001\"/>\n",
       "</g>\n",
       "<!-- ..&#45;&gt;node30 -->\n",
       "<g id=\"edge15\" class=\"edge\">\n",
       "<title>..&#45;&gt;node30</title>\n",
       "<path fill=\"none\" stroke=\"#000000\" d=\"M68.1603,-76.942C82.0748,-69.8229 100.4919,-60.4 116.5283,-52.1952\"/>\n",
       "<polygon fill=\"#000000\" stroke=\"#000000\" points=\"118.3348,-55.2025 125.6431,-47.5318 115.1464,-48.9708 118.3348,-55.2025\"/>\n",
       "</g>\n",
       "<!-- x784 -->\n",
       "<g id=\"node4\" class=\"node\">\n",
       "<title>x784</title>\n",
       "<ellipse fill=\"none\" stroke=\"#000000\" cx=\"46.5473\" cy=\"-34\" rx=\"30.5947\" ry=\"18\"/>\n",
       "<text text-anchor=\"middle\" x=\"46.5473\" y=\"-30.3\" font-family=\"Times,serif\" font-size=\"14.00\" fill=\"#000000\">x784</text>\n",
       "</g>\n",
       "<!-- x784&#45;&gt;node1 -->\n",
       "<g id=\"edge4\" class=\"edge\">\n",
       "<title>x784&#45;&gt;node1</title>\n",
       "<path fill=\"none\" stroke=\"#000000\" d=\"M57.6428,-51.0306C76.123,-79.396 113.3242,-136.4964 135.1169,-169.9461\"/>\n",
       "<polygon fill=\"#000000\" stroke=\"#000000\" points=\"132.4352,-172.2418 140.8266,-178.71 138.3003,-168.4207 132.4352,-172.2418\"/>\n",
       "</g>\n",
       "<!-- x784&#45;&gt;node2 -->\n",
       "<g id=\"edge8\" class=\"edge\">\n",
       "<title>x784&#45;&gt;node2</title>\n",
       "<path fill=\"none\" stroke=\"#000000\" d=\"M62.1206,-49.9358C79.7907,-68.0171 108.7821,-97.6831 129.0659,-118.439\"/>\n",
       "<polygon fill=\"#000000\" stroke=\"#000000\" points=\"126.6154,-120.9391 136.1079,-125.6448 131.6217,-116.0466 126.6154,-120.9391\"/>\n",
       "</g>\n",
       "<!-- x784&#45;&gt;... -->\n",
       "<g id=\"edge12\" class=\"edge\">\n",
       "<title>x784&#45;&gt;...</title>\n",
       "<path fill=\"none\" stroke=\"#000000\" d=\"M69.7093,-45.8505C84.8255,-53.5845 104.734,-63.7704 121.1932,-72.1915\"/>\n",
       "<polygon fill=\"#000000\" stroke=\"#000000\" points=\"119.9265,-75.4749 130.4232,-76.9139 123.115,-69.2432 119.9265,-75.4749\"/>\n",
       "</g>\n",
       "<!-- x784&#45;&gt;node30 -->\n",
       "<g id=\"edge16\" class=\"edge\">\n",
       "<title>x784&#45;&gt;node30</title>\n",
       "<path fill=\"none\" stroke=\"#000000\" d=\"M77.3587,-34C85.318,-34 94.0885,-34 102.7361,-34\"/>\n",
       "<polygon fill=\"#000000\" stroke=\"#000000\" points=\"102.7753,-37.5001 112.7753,-34 102.7752,-30.5001 102.7753,-37.5001\"/>\n",
       "</g>\n",
       "<!-- y -->\n",
       "<g id=\"node9\" class=\"node\">\n",
       "<title>y</title>\n",
       "<ellipse fill=\"none\" stroke=\"#000000\" cx=\"276.0877\" cy=\"-115\" rx=\"27\" ry=\"18\"/>\n",
       "<text text-anchor=\"middle\" x=\"276.0877\" y=\"-111.3\" font-family=\"Times,serif\" font-size=\"14.00\" fill=\"#000000\">y</text>\n",
       "</g>\n",
       "<!-- node1&#45;&gt;y -->\n",
       "<g id=\"edge17\" class=\"edge\">\n",
       "<title>node1&#45;&gt;y</title>\n",
       "<path fill=\"none\" stroke=\"#000000\" d=\"M173.6897,-181.8909C194.3939,-168.3659 225.7449,-147.8861 248.3008,-133.1516\"/>\n",
       "<polygon fill=\"#000000\" stroke=\"#000000\" points=\"250.3149,-136.0166 256.7728,-127.6173 246.4866,-130.1561 250.3149,-136.0166\"/>\n",
       "</g>\n",
       "<!-- node2&#45;&gt;y -->\n",
       "<g id=\"edge18\" class=\"edge\">\n",
       "<title>node2&#45;&gt;y</title>\n",
       "<path fill=\"none\" stroke=\"#000000\" d=\"M184.0233,-135.0468C201.1787,-131.3113 222.3866,-126.6933 240.1217,-122.8315\"/>\n",
       "<polygon fill=\"#000000\" stroke=\"#000000\" points=\"241.0794,-126.2051 250.1057,-120.6575 239.59,-119.3654 241.0794,-126.2051\"/>\n",
       "</g>\n",
       "<!-- ...&#45;&gt;y -->\n",
       "<g id=\"edge19\" class=\"edge\">\n",
       "<title>...&#45;&gt;y</title>\n",
       "<path fill=\"none\" stroke=\"#000000\" d=\"M177.7833,-93.5944C195.7845,-97.5141 220.0905,-102.8067 240.0296,-107.1484\"/>\n",
       "<polygon fill=\"#000000\" stroke=\"#000000\" points=\"239.4861,-110.612 250.0018,-109.3199 240.9755,-103.7723 239.4861,-110.612\"/>\n",
       "</g>\n",
       "<!-- node30&#45;&gt;y -->\n",
       "<g id=\"edge20\" class=\"edge\">\n",
       "<title>node30&#45;&gt;y</title>\n",
       "<path fill=\"none\" stroke=\"#000000\" d=\"M174.834,-48.8566C195.4809,-62.3441 225.9951,-82.2774 248.1253,-96.7338\"/>\n",
       "<polygon fill=\"#000000\" stroke=\"#000000\" points=\"246.4611,-99.8272 256.7472,-102.366 250.2894,-93.9668 246.4611,-99.8272\"/>\n",
       "</g>\n",
       "</g>\n",
       "</svg>\n"
      ],
      "text/plain": [
       "<graphviz.files.Source at 0x7f4462359f50>"
      ]
     },
     "execution_count": 28,
     "metadata": {},
     "output_type": "execute_result"
    }
   ],
   "source": [
    "#collapse\n",
    "gv('''\n",
    "splines=line\n",
    "subgraph cluster_1{\n",
    "    style=filled;\n",
    "    color=lightgrey;\n",
    "    \"x1\"\n",
    "    \"x2\"\n",
    "    \"..\"\n",
    "    \"x784\"\n",
    "    label = \"Layer 0\"\n",
    "}\n",
    "subgraph cluster_2{\n",
    "    style=filled;\n",
    "    color=lightgrey;\n",
    "    \"x1\" -> \"node1\"\n",
    "    \"x2\" -> \"node1\"\n",
    "    \"..\" -> \"node1\"\n",
    "    \n",
    "    \"x784\" -> \"node1\"\n",
    "    \"x1\" -> \"node2\"\n",
    "    \"x2\" -> \"node2\"\n",
    "    \"..\" -> \"node2\"\n",
    "    \"x784\" -> \"node2\"\n",
    "    \n",
    "    \"x1\" -> \"...\"\n",
    "    \"x2\" -> \"...\"\n",
    "    \"..\" -> \"...\"\n",
    "    \"x784\" -> \"...\"\n",
    "\n",
    "    \"x1\" -> \"node30\"\n",
    "    \"x2\" -> \"node30\"\n",
    "    \"..\" -> \"node30\"\n",
    "    \"x784\" -> \"node30\"\n",
    "\n",
    "\n",
    "    label = \"Layer 1: relu\"\n",
    "}\n",
    "subgraph cluster_3{\n",
    "    style=filled;\n",
    "    color=lightgrey;\n",
    "    \"node1\" -> \"y\"\n",
    "    \"node2\" -> \"y\"\n",
    "    \"...\" -> \"y\"\n",
    "    \"node30\" -> \"y\"\n",
    "    label = \"Layer 2: sigmoid\"\n",
    "}\n",
    "''')"
   ]
  },
  {
   "cell_type": "code",
   "execution_count": 29,
   "id": "NL3DLHOGl0_r",
   "metadata": {
    "colab": {
     "base_uri": "https://localhost:8080/"
    },
    "executionInfo": {
     "elapsed": 7363,
     "status": "ok",
     "timestamp": 1652679274289,
     "user": {
      "displayName": "이강철",
      "userId": "13507850890638580947"
     },
     "user_tz": -540
    },
    "id": "NL3DLHOGl0_r",
    "outputId": "ccd2d9e9-ac74-4c64-f2db-7a6031430218"
   },
   "outputs": [
    {
     "data": {
      "text/plain": [
       "<keras.callbacks.History at 0x7f44601b7990>"
      ]
     },
     "execution_count": 29,
     "metadata": {},
     "output_type": "execute_result"
    }
   ],
   "source": [
    "tf.random.set_seed(43052)\n",
    "net = tf.keras.Sequential() \n",
    "net.add(tf.keras.layers.Dense(30,activation='relu'))\n",
    "net.add(tf.keras.layers.Dense(1,activation='sigmoid'))\n",
    "net.compile(optimizer='sgd',loss=tf.losses.binary_crossentropy)\n",
    "net.fit(X,y,epochs=100,batch_size=12000,verbose=0) "
   ]
  },
  {
   "cell_type": "markdown",
   "id": "tr-Zwludm7XF",
   "metadata": {
    "id": "tr-Zwludm7XF"
   },
   "source": [
    "* `loss`는 미분하기위한 정보지 성능에 대한 정보는 아니다."
   ]
  },
  {
   "cell_type": "markdown",
   "id": "arKr8g11nP8u",
   "metadata": {
    "id": "arKr8g11nP8u"
   },
   "source": [
    "* `train`"
   ]
  },
  {
   "cell_type": "code",
   "execution_count": 30,
   "id": "VdCF_nfZmOe1",
   "metadata": {
    "colab": {
     "base_uri": "https://localhost:8080/"
    },
    "executionInfo": {
     "elapsed": 4,
     "status": "ok",
     "timestamp": 1652679292064,
     "user": {
      "displayName": "이강철",
      "userId": "13507850890638580947"
     },
     "user_tz": -540
    },
    "id": "VdCF_nfZmOe1",
    "outputId": "de1a0930-2951-4529-c00b-d75706ad4bc2"
   },
   "outputs": [
    {
     "data": {
      "text/plain": [
       "0.5000833333333333"
      ]
     },
     "execution_count": 30,
     "metadata": {},
     "output_type": "execute_result"
    }
   ],
   "source": [
    "np.mean((net(X)>0.5) == y.reshape(12000,1))"
   ]
  },
  {
   "cell_type": "markdown",
   "id": "CHA4Q5V4nRs3",
   "metadata": {
    "id": "CHA4Q5V4nRs3"
   },
   "source": [
    "* `test`"
   ]
  },
  {
   "cell_type": "code",
   "execution_count": 31,
   "id": "S-qaoQ5MnAwN",
   "metadata": {
    "colab": {
     "base_uri": "https://localhost:8080/"
    },
    "executionInfo": {
     "elapsed": 544,
     "status": "ok",
     "timestamp": 1652679297289,
     "user": {
      "displayName": "이강철",
      "userId": "13507850890638580947"
     },
     "user_tz": -540
    },
    "id": "S-qaoQ5MnAwN",
    "outputId": "1e88fe2c-ab48-43fc-d6ae-a91f63f570b2"
   },
   "outputs": [
    {
     "data": {
      "text/plain": [
       "0.5"
      ]
     },
     "execution_count": 31,
     "metadata": {},
     "output_type": "execute_result"
    }
   ],
   "source": [
    "np.mean((net(XX)>0.5) == yy.reshape(2000,1))"
   ]
  },
  {
   "cell_type": "markdown",
   "id": "DgotZr7knoFl",
   "metadata": {
    "id": "DgotZr7knoFl"
   },
   "source": [
    "* `local_min`에 빠져서 못 나오는 것임(verbose=1로하고 loss를 살펴볼 줄 알아야한다)"
   ]
  },
  {
   "cell_type": "markdown",
   "id": "z6l7vUS7oBz6",
   "metadata": {
    "id": "z6l7vUS7oBz6"
   },
   "source": [
    "* `초기값` 문제가 아닌 옵티마이저의 문제임$(\\star\\star\\star)$"
   ]
  },
  {
   "cell_type": "markdown",
   "id": "1e98a4d6-4b9a-4195-9637-d65833c75c86",
   "metadata": {
    "id": "1e98a4d6-4b9a-4195-9637-d65833c75c86"
   },
   "source": [
    "### 풀이2: 옵티마이저 개선"
   ]
  },
  {
   "cell_type": "code",
   "execution_count": 32,
   "id": "x2SF_JP1nWdb",
   "metadata": {
    "colab": {
     "base_uri": "https://localhost:8080/"
    },
    "executionInfo": {
     "elapsed": 6617,
     "status": "ok",
     "timestamp": 1652679312490,
     "user": {
      "displayName": "이강철",
      "userId": "13507850890638580947"
     },
     "user_tz": -540
    },
    "id": "x2SF_JP1nWdb",
    "outputId": "11c8d223-a450-4186-ee32-ff1b9f06872d"
   },
   "outputs": [
    {
     "data": {
      "text/plain": [
       "<keras.callbacks.History at 0x7f445e8ef250>"
      ]
     },
     "execution_count": 32,
     "metadata": {},
     "output_type": "execute_result"
    }
   ],
   "source": [
    "tf.random.set_seed(43051)\n",
    "net = tf.keras.Sequential() \n",
    "net.add(tf.keras.layers.Dense(30,activation='relu'))\n",
    "net.add(tf.keras.layers.Dense(1,activation='sigmoid'))\n",
    "net.compile(optimizer='adam',loss=tf.losses.binary_crossentropy)\n",
    "net.fit(X,y,epochs=100,batch_size=12000,verbose=0) "
   ]
  },
  {
   "cell_type": "code",
   "execution_count": 33,
   "id": "lZTlQpaAn2Rd",
   "metadata": {
    "colab": {
     "base_uri": "https://localhost:8080/"
    },
    "executionInfo": {
     "elapsed": 495,
     "status": "ok",
     "timestamp": 1652679316194,
     "user": {
      "displayName": "이강철",
      "userId": "13507850890638580947"
     },
     "user_tz": -540
    },
    "id": "lZTlQpaAn2Rd",
    "outputId": "d8bf463c-4797-4e37-f285-5aa658637e79"
   },
   "outputs": [
    {
     "data": {
      "text/plain": [
       "0.9919166666666667"
      ]
     },
     "execution_count": 33,
     "metadata": {},
     "output_type": "execute_result"
    }
   ],
   "source": [
    "np.mean((net(X)>0.5) == y.reshape(12000,1))"
   ]
  },
  {
   "cell_type": "code",
   "execution_count": 34,
   "id": "zZeEPXS6n3W7",
   "metadata": {
    "colab": {
     "base_uri": "https://localhost:8080/"
    },
    "executionInfo": {
     "elapsed": 6,
     "status": "ok",
     "timestamp": 1652679317889,
     "user": {
      "displayName": "이강철",
      "userId": "13507850890638580947"
     },
     "user_tz": -540
    },
    "id": "zZeEPXS6n3W7",
    "outputId": "0d94986d-7850-4a94-8238-e424d089c57d"
   },
   "outputs": [
    {
     "data": {
      "text/plain": [
       "0.9855"
      ]
     },
     "execution_count": 34,
     "metadata": {},
     "output_type": "execute_result"
    }
   ],
   "source": [
    "np.mean((net(XX)>0.5) == yy.reshape(2000,1))"
   ]
  },
  {
   "cell_type": "markdown",
   "id": "64ea3ada-597c-4dd4-bd25-09c7910b36e7",
   "metadata": {
    "id": "64ea3ada-597c-4dd4-bd25-09c7910b36e7"
   },
   "source": [
    "### 풀이3: 컴파일시 metrics=['accuracy'] 추가"
   ]
  },
  {
   "cell_type": "code",
   "execution_count": 35,
   "id": "3FSKegA5oBDu",
   "metadata": {
    "colab": {
     "base_uri": "https://localhost:8080/"
    },
    "executionInfo": {
     "elapsed": 10918,
     "status": "ok",
     "timestamp": 1652679330864,
     "user": {
      "displayName": "이강철",
      "userId": "13507850890638580947"
     },
     "user_tz": -540
    },
    "id": "3FSKegA5oBDu",
    "outputId": "79a2d4e7-a5d3-40e4-b61d-f42a2eae7581"
   },
   "outputs": [
    {
     "name": "stdout",
     "output_type": "stream",
     "text": [
      "Epoch 1/100\n",
      "1/1 [==============================] - 0s 486ms/step - loss: 100.9425 - accuracy: 0.4988\n",
      "Epoch 2/100\n",
      "1/1 [==============================] - 0s 82ms/step - loss: 44.4441 - accuracy: 0.3741\n",
      "Epoch 3/100\n",
      "1/1 [==============================] - 0s 75ms/step - loss: 29.2322 - accuracy: 0.4321\n",
      "Epoch 4/100\n",
      "1/1 [==============================] - 0s 109ms/step - loss: 22.6921 - accuracy: 0.5399\n",
      "Epoch 5/100\n",
      "1/1 [==============================] - 0s 69ms/step - loss: 8.7741 - accuracy: 0.7321\n",
      "Epoch 6/100\n",
      "1/1 [==============================] - 0s 63ms/step - loss: 4.6409 - accuracy: 0.8516\n",
      "Epoch 7/100\n",
      "1/1 [==============================] - 0s 65ms/step - loss: 5.2642 - accuracy: 0.8711\n",
      "Epoch 8/100\n",
      "1/1 [==============================] - 0s 69ms/step - loss: 6.1993 - accuracy: 0.8771\n",
      "Epoch 9/100\n",
      "1/1 [==============================] - 0s 66ms/step - loss: 6.5543 - accuracy: 0.8845\n",
      "Epoch 10/100\n",
      "1/1 [==============================] - 0s 68ms/step - loss: 6.3454 - accuracy: 0.8953\n",
      "Epoch 11/100\n",
      "1/1 [==============================] - 0s 66ms/step - loss: 5.7887 - accuracy: 0.9062\n",
      "Epoch 12/100\n",
      "1/1 [==============================] - 0s 67ms/step - loss: 5.1074 - accuracy: 0.9168\n",
      "Epoch 13/100\n",
      "1/1 [==============================] - 0s 69ms/step - loss: 4.4821 - accuracy: 0.9276\n",
      "Epoch 14/100\n",
      "1/1 [==============================] - 0s 71ms/step - loss: 3.9864 - accuracy: 0.9359\n",
      "Epoch 15/100\n",
      "1/1 [==============================] - 0s 64ms/step - loss: 3.6388 - accuracy: 0.9402\n",
      "Epoch 16/100\n",
      "1/1 [==============================] - 0s 71ms/step - loss: 3.4077 - accuracy: 0.9412\n",
      "Epoch 17/100\n",
      "1/1 [==============================] - 0s 65ms/step - loss: 3.2687 - accuracy: 0.9415\n",
      "Epoch 18/100\n",
      "1/1 [==============================] - 0s 72ms/step - loss: 3.1829 - accuracy: 0.9404\n",
      "Epoch 19/100\n",
      "1/1 [==============================] - 0s 63ms/step - loss: 3.1196 - accuracy: 0.9388\n",
      "Epoch 20/100\n",
      "1/1 [==============================] - 0s 71ms/step - loss: 3.0526 - accuracy: 0.9380\n",
      "Epoch 21/100\n",
      "1/1 [==============================] - 0s 65ms/step - loss: 2.9635 - accuracy: 0.9371\n",
      "Epoch 22/100\n",
      "1/1 [==============================] - 0s 80ms/step - loss: 2.8397 - accuracy: 0.9376\n",
      "Epoch 23/100\n",
      "1/1 [==============================] - 0s 66ms/step - loss: 2.6812 - accuracy: 0.9389\n",
      "Epoch 24/100\n",
      "1/1 [==============================] - 0s 65ms/step - loss: 2.4916 - accuracy: 0.9396\n",
      "Epoch 25/100\n",
      "1/1 [==============================] - 0s 81ms/step - loss: 2.2804 - accuracy: 0.9408\n",
      "Epoch 26/100\n",
      "1/1 [==============================] - 0s 65ms/step - loss: 2.0630 - accuracy: 0.9433\n",
      "Epoch 27/100\n",
      "1/1 [==============================] - 0s 74ms/step - loss: 1.8600 - accuracy: 0.9470\n",
      "Epoch 28/100\n",
      "1/1 [==============================] - 0s 70ms/step - loss: 1.6744 - accuracy: 0.9488\n",
      "Epoch 29/100\n",
      "1/1 [==============================] - 0s 68ms/step - loss: 1.5003 - accuracy: 0.9510\n",
      "Epoch 30/100\n",
      "1/1 [==============================] - 0s 65ms/step - loss: 1.3529 - accuracy: 0.9531\n",
      "Epoch 31/100\n",
      "1/1 [==============================] - 0s 74ms/step - loss: 1.2575 - accuracy: 0.9542\n",
      "Epoch 32/100\n",
      "1/1 [==============================] - 0s 68ms/step - loss: 1.1763 - accuracy: 0.9553\n",
      "Epoch 33/100\n",
      "1/1 [==============================] - 0s 69ms/step - loss: 1.0853 - accuracy: 0.9567\n",
      "Epoch 34/100\n",
      "1/1 [==============================] - 0s 78ms/step - loss: 0.9978 - accuracy: 0.9587\n",
      "Epoch 35/100\n",
      "1/1 [==============================] - 0s 68ms/step - loss: 0.9337 - accuracy: 0.9603\n",
      "Epoch 36/100\n",
      "1/1 [==============================] - 0s 65ms/step - loss: 0.8893 - accuracy: 0.9617\n",
      "Epoch 37/100\n",
      "1/1 [==============================] - 0s 69ms/step - loss: 0.8503 - accuracy: 0.9627\n",
      "Epoch 38/100\n",
      "1/1 [==============================] - 0s 66ms/step - loss: 0.8154 - accuracy: 0.9632\n",
      "Epoch 39/100\n",
      "1/1 [==============================] - 0s 67ms/step - loss: 0.7843 - accuracy: 0.9642\n",
      "Epoch 40/100\n",
      "1/1 [==============================] - 0s 68ms/step - loss: 0.7548 - accuracy: 0.9654\n",
      "Epoch 41/100\n",
      "1/1 [==============================] - 0s 65ms/step - loss: 0.7288 - accuracy: 0.9663\n",
      "Epoch 42/100\n",
      "1/1 [==============================] - 0s 70ms/step - loss: 0.7061 - accuracy: 0.9674\n",
      "Epoch 43/100\n",
      "1/1 [==============================] - 0s 65ms/step - loss: 0.6844 - accuracy: 0.9687\n",
      "Epoch 44/100\n",
      "1/1 [==============================] - 0s 66ms/step - loss: 0.6640 - accuracy: 0.9693\n",
      "Epoch 45/100\n",
      "1/1 [==============================] - 0s 77ms/step - loss: 0.6427 - accuracy: 0.9710\n",
      "Epoch 46/100\n",
      "1/1 [==============================] - 0s 75ms/step - loss: 0.6187 - accuracy: 0.9716\n",
      "Epoch 47/100\n",
      "1/1 [==============================] - 0s 65ms/step - loss: 0.5933 - accuracy: 0.9723\n",
      "Epoch 48/100\n",
      "1/1 [==============================] - 0s 75ms/step - loss: 0.5693 - accuracy: 0.9730\n",
      "Epoch 49/100\n",
      "1/1 [==============================] - 0s 68ms/step - loss: 0.5471 - accuracy: 0.9733\n",
      "Epoch 50/100\n",
      "1/1 [==============================] - 0s 70ms/step - loss: 0.5253 - accuracy: 0.9737\n",
      "Epoch 51/100\n",
      "1/1 [==============================] - 0s 65ms/step - loss: 0.5031 - accuracy: 0.9744\n",
      "Epoch 52/100\n",
      "1/1 [==============================] - 0s 68ms/step - loss: 0.4805 - accuracy: 0.9750\n",
      "Epoch 53/100\n",
      "1/1 [==============================] - 0s 66ms/step - loss: 0.4572 - accuracy: 0.9767\n",
      "Epoch 54/100\n",
      "1/1 [==============================] - 0s 67ms/step - loss: 0.4368 - accuracy: 0.9775\n",
      "Epoch 55/100\n",
      "1/1 [==============================] - 0s 73ms/step - loss: 0.4180 - accuracy: 0.9778\n",
      "Epoch 56/100\n",
      "1/1 [==============================] - 0s 69ms/step - loss: 0.3991 - accuracy: 0.9783\n",
      "Epoch 57/100\n",
      "1/1 [==============================] - 0s 62ms/step - loss: 0.3828 - accuracy: 0.9791\n",
      "Epoch 58/100\n",
      "1/1 [==============================] - 0s 67ms/step - loss: 0.3701 - accuracy: 0.9793\n",
      "Epoch 59/100\n",
      "1/1 [==============================] - 0s 78ms/step - loss: 0.3568 - accuracy: 0.9793\n",
      "Epoch 60/100\n",
      "1/1 [==============================] - 0s 66ms/step - loss: 0.3426 - accuracy: 0.9805\n",
      "Epoch 61/100\n",
      "1/1 [==============================] - 0s 78ms/step - loss: 0.3286 - accuracy: 0.9813\n",
      "Epoch 62/100\n",
      "1/1 [==============================] - 0s 70ms/step - loss: 0.3165 - accuracy: 0.9822\n",
      "Epoch 63/100\n",
      "1/1 [==============================] - 0s 67ms/step - loss: 0.3051 - accuracy: 0.9827\n",
      "Epoch 64/100\n",
      "1/1 [==============================] - 0s 73ms/step - loss: 0.2929 - accuracy: 0.9827\n",
      "Epoch 65/100\n",
      "1/1 [==============================] - 0s 69ms/step - loss: 0.2836 - accuracy: 0.9827\n",
      "Epoch 66/100\n",
      "1/1 [==============================] - 0s 70ms/step - loss: 0.2753 - accuracy: 0.9830\n",
      "Epoch 67/100\n",
      "1/1 [==============================] - 0s 64ms/step - loss: 0.2664 - accuracy: 0.9835\n",
      "Epoch 68/100\n",
      "1/1 [==============================] - 0s 65ms/step - loss: 0.2574 - accuracy: 0.9843\n",
      "Epoch 69/100\n",
      "1/1 [==============================] - 0s 66ms/step - loss: 0.2493 - accuracy: 0.9845\n",
      "Epoch 70/100\n",
      "1/1 [==============================] - 0s 69ms/step - loss: 0.2411 - accuracy: 0.9852\n",
      "Epoch 71/100\n",
      "1/1 [==============================] - 0s 67ms/step - loss: 0.2335 - accuracy: 0.9852\n",
      "Epoch 72/100\n",
      "1/1 [==============================] - 0s 64ms/step - loss: 0.2267 - accuracy: 0.9852\n",
      "Epoch 73/100\n",
      "1/1 [==============================] - 0s 75ms/step - loss: 0.2198 - accuracy: 0.9858\n",
      "Epoch 74/100\n",
      "1/1 [==============================] - 0s 64ms/step - loss: 0.2137 - accuracy: 0.9866\n",
      "Epoch 75/100\n",
      "1/1 [==============================] - 0s 71ms/step - loss: 0.2075 - accuracy: 0.9866\n",
      "Epoch 76/100\n",
      "1/1 [==============================] - 0s 71ms/step - loss: 0.2013 - accuracy: 0.9873\n",
      "Epoch 77/100\n",
      "1/1 [==============================] - 0s 69ms/step - loss: 0.1954 - accuracy: 0.9875\n",
      "Epoch 78/100\n",
      "1/1 [==============================] - 0s 67ms/step - loss: 0.1903 - accuracy: 0.9879\n",
      "Epoch 79/100\n",
      "1/1 [==============================] - 0s 69ms/step - loss: 0.1850 - accuracy: 0.9883\n",
      "Epoch 80/100\n",
      "1/1 [==============================] - 0s 68ms/step - loss: 0.1801 - accuracy: 0.9882\n",
      "Epoch 81/100\n",
      "1/1 [==============================] - 0s 67ms/step - loss: 0.1751 - accuracy: 0.9886\n",
      "Epoch 82/100\n",
      "1/1 [==============================] - 0s 68ms/step - loss: 0.1708 - accuracy: 0.9893\n",
      "Epoch 83/100\n",
      "1/1 [==============================] - 0s 65ms/step - loss: 0.1671 - accuracy: 0.9893\n",
      "Epoch 84/100\n",
      "1/1 [==============================] - 0s 64ms/step - loss: 0.1629 - accuracy: 0.9893\n",
      "Epoch 85/100\n",
      "1/1 [==============================] - 0s 64ms/step - loss: 0.1592 - accuracy: 0.9898\n",
      "Epoch 86/100\n",
      "1/1 [==============================] - 0s 68ms/step - loss: 0.1553 - accuracy: 0.9898\n",
      "Epoch 87/100\n",
      "1/1 [==============================] - 0s 78ms/step - loss: 0.1514 - accuracy: 0.9898\n",
      "Epoch 88/100\n",
      "1/1 [==============================] - 0s 71ms/step - loss: 0.1479 - accuracy: 0.9900\n",
      "Epoch 89/100\n",
      "1/1 [==============================] - 0s 68ms/step - loss: 0.1441 - accuracy: 0.9900\n",
      "Epoch 90/100\n",
      "1/1 [==============================] - 0s 64ms/step - loss: 0.1409 - accuracy: 0.9899\n",
      "Epoch 91/100\n",
      "1/1 [==============================] - 0s 68ms/step - loss: 0.1373 - accuracy: 0.9902\n",
      "Epoch 92/100\n",
      "1/1 [==============================] - 0s 70ms/step - loss: 0.1340 - accuracy: 0.9902\n",
      "Epoch 93/100\n",
      "1/1 [==============================] - 0s 71ms/step - loss: 0.1305 - accuracy: 0.9904\n",
      "Epoch 94/100\n",
      "1/1 [==============================] - 0s 66ms/step - loss: 0.1275 - accuracy: 0.9909\n",
      "Epoch 95/100\n",
      "1/1 [==============================] - 0s 71ms/step - loss: 0.1242 - accuracy: 0.9908\n",
      "Epoch 96/100\n",
      "1/1 [==============================] - 0s 69ms/step - loss: 0.1213 - accuracy: 0.9908\n",
      "Epoch 97/100\n",
      "1/1 [==============================] - 0s 67ms/step - loss: 0.1184 - accuracy: 0.9910\n",
      "Epoch 98/100\n",
      "1/1 [==============================] - 0s 64ms/step - loss: 0.1157 - accuracy: 0.9911\n",
      "Epoch 99/100\n",
      "1/1 [==============================] - 0s 71ms/step - loss: 0.1132 - accuracy: 0.9912\n",
      "Epoch 100/100\n",
      "1/1 [==============================] - 0s 64ms/step - loss: 0.1110 - accuracy: 0.9917\n"
     ]
    },
    {
     "data": {
      "text/plain": [
       "<keras.callbacks.History at 0x7f44600a41d0>"
      ]
     },
     "execution_count": 35,
     "metadata": {},
     "output_type": "execute_result"
    }
   ],
   "source": [
    "tf.random.set_seed(43055)\n",
    "net = tf.keras.Sequential() \n",
    "net.add(tf.keras.layers.Dense(30,activation='relu'))\n",
    "net.add(tf.keras.layers.Dense(1,activation='sigmoid'))\n",
    "net.compile(optimizer='adam',loss=tf.losses.binary_crossentropy,metrics=['accuracy'])\n",
    "net.fit(X,y,epochs=100,batch_size=12000) "
   ]
  },
  {
   "cell_type": "code",
   "execution_count": 36,
   "id": "hCxPb0QLoRiy",
   "metadata": {
    "colab": {
     "base_uri": "https://localhost:8080/"
    },
    "executionInfo": {
     "elapsed": 1105,
     "status": "ok",
     "timestamp": 1652679361090,
     "user": {
      "displayName": "이강철",
      "userId": "13507850890638580947"
     },
     "user_tz": -540
    },
    "id": "hCxPb0QLoRiy",
    "outputId": "4adcf7cc-57c1-4d72-dec6-ded63d27d5de"
   },
   "outputs": [
    {
     "name": "stdout",
     "output_type": "stream",
     "text": [
      "375/375 [==============================] - 1s 2ms/step - loss: 0.1086 - accuracy: 0.9918\n"
     ]
    },
    {
     "data": {
      "text/plain": [
       "[0.10858089476823807, 0.9917500019073486]"
      ]
     },
     "execution_count": 36,
     "metadata": {},
     "output_type": "execute_result"
    }
   ],
   "source": [
    "net.evaluate(X,y)"
   ]
  },
  {
   "cell_type": "code",
   "execution_count": 37,
   "id": "FnjT3V7VoSu9",
   "metadata": {
    "colab": {
     "base_uri": "https://localhost:8080/"
    },
    "executionInfo": {
     "elapsed": 608,
     "status": "ok",
     "timestamp": 1652679363297,
     "user": {
      "displayName": "이강철",
      "userId": "13507850890638580947"
     },
     "user_tz": -540
    },
    "id": "FnjT3V7VoSu9",
    "outputId": "a6ffbd92-07d1-4ae6-ddca-d0f41d3f2510"
   },
   "outputs": [
    {
     "name": "stdout",
     "output_type": "stream",
     "text": [
      "63/63 [==============================] - 0s 2ms/step - loss: 0.2933 - accuracy: 0.9800\n"
     ]
    },
    {
     "data": {
      "text/plain": [
       "[0.2932808995246887, 0.9800000190734863]"
      ]
     },
     "execution_count": 37,
     "metadata": {},
     "output_type": "execute_result"
    }
   ],
   "source": [
    "net.evaluate(XX,yy)"
   ]
  },
  {
   "cell_type": "markdown",
   "id": "2c5714c2-9bb7-4b11-9d4f-a2785425eba5",
   "metadata": {
    "id": "2c5714c2-9bb7-4b11-9d4f-a2785425eba5",
    "tags": []
   },
   "source": [
    "### 풀이4: 확률적경사하강법 이용 // epochs=10 (Ver2)"
   ]
  },
  {
   "cell_type": "code",
   "execution_count": 40,
   "id": "GUVhw-a6oU3O",
   "metadata": {
    "colab": {
     "base_uri": "https://localhost:8080/"
    },
    "executionInfo": {
     "elapsed": 4319,
     "status": "ok",
     "timestamp": 1652679452060,
     "user": {
      "displayName": "이강철",
      "userId": "13507850890638580947"
     },
     "user_tz": -540
    },
    "id": "GUVhw-a6oU3O",
    "outputId": "2474ad3c-5560-4ab3-c8f6-83fcaf26e133"
   },
   "outputs": [
    {
     "name": "stdout",
     "output_type": "stream",
     "text": [
      "Epoch 1/10\n",
      "100/100 [==============================] - 1s 3ms/step - loss: 5.6484 - accuracy: 0.9418\n",
      "Epoch 2/10\n",
      "100/100 [==============================] - 0s 4ms/step - loss: 0.5078 - accuracy: 0.9793\n",
      "Epoch 3/10\n",
      "100/100 [==============================] - 0s 3ms/step - loss: 0.3784 - accuracy: 0.9818\n",
      "Epoch 4/10\n",
      "100/100 [==============================] - 0s 3ms/step - loss: 0.3390 - accuracy: 0.9828\n",
      "Epoch 5/10\n",
      "100/100 [==============================] - 0s 4ms/step - loss: 0.2474 - accuracy: 0.9857\n",
      "Epoch 6/10\n",
      "100/100 [==============================] - 0s 3ms/step - loss: 0.2116 - accuracy: 0.9870\n",
      "Epoch 7/10\n",
      "100/100 [==============================] - 0s 3ms/step - loss: 0.1743 - accuracy: 0.9889\n",
      "Epoch 8/10\n",
      "100/100 [==============================] - 0s 3ms/step - loss: 0.1374 - accuracy: 0.9899\n",
      "Epoch 9/10\n",
      "100/100 [==============================] - 0s 3ms/step - loss: 0.1570 - accuracy: 0.9891\n",
      "Epoch 10/10\n",
      "100/100 [==============================] - 0s 4ms/step - loss: 0.1097 - accuracy: 0.9915\n"
     ]
    },
    {
     "data": {
      "text/plain": [
       "<keras.callbacks.History at 0x7f445ff81490>"
      ]
     },
     "execution_count": 40,
     "metadata": {},
     "output_type": "execute_result"
    }
   ],
   "source": [
    "tf.random.set_seed(43052)\n",
    "net = tf.keras.Sequential() \n",
    "net.add(tf.keras.layers.Dense(30,activation='relu'))\n",
    "net.add(tf.keras.layers.Dense(1,activation='sigmoid'))\n",
    "net.compile(optimizer='adam',loss=tf.losses.binary_crossentropy,metrics=['accuracy'])\n",
    "net.fit(X,y,epochs=10,batch_size=120) "
   ]
  },
  {
   "cell_type": "code",
   "execution_count": 41,
   "id": "w8B7Hze7oXb3",
   "metadata": {
    "colab": {
     "base_uri": "https://localhost:8080/"
    },
    "executionInfo": {
     "elapsed": 1035,
     "status": "ok",
     "timestamp": 1652679460401,
     "user": {
      "displayName": "이강철",
      "userId": "13507850890638580947"
     },
     "user_tz": -540
    },
    "id": "w8B7Hze7oXb3",
    "outputId": "d6009208-24e0-4628-ecf9-fe52eab85bb5"
   },
   "outputs": [
    {
     "name": "stdout",
     "output_type": "stream",
     "text": [
      "375/375 [==============================] - 1s 2ms/step - loss: 0.0889 - accuracy: 0.9933\n"
     ]
    },
    {
     "data": {
      "text/plain": [
       "[0.08887288719415665, 0.9932500123977661]"
      ]
     },
     "execution_count": 41,
     "metadata": {},
     "output_type": "execute_result"
    }
   ],
   "source": [
    "net.evaluate(X,y)"
   ]
  },
  {
   "cell_type": "code",
   "execution_count": 42,
   "id": "mVOeJdIeoYc1",
   "metadata": {
    "colab": {
     "base_uri": "https://localhost:8080/"
    },
    "executionInfo": {
     "elapsed": 6,
     "status": "ok",
     "timestamp": 1652679461322,
     "user": {
      "displayName": "이강철",
      "userId": "13507850890638580947"
     },
     "user_tz": -540
    },
    "id": "mVOeJdIeoYc1",
    "outputId": "cebaa5f6-4a57-484c-ee7d-3ab382c9bbcc"
   },
   "outputs": [
    {
     "name": "stdout",
     "output_type": "stream",
     "text": [
      "63/63 [==============================] - 0s 2ms/step - loss: 0.2973 - accuracy: 0.9845\n"
     ]
    },
    {
     "data": {
      "text/plain": [
       "[0.2972556948661804, 0.984499990940094]"
      ]
     },
     "execution_count": 42,
     "metadata": {},
     "output_type": "execute_result"
    }
   ],
   "source": [
    "net.evaluate(XX,yy)"
   ]
  },
  {
   "cell_type": "markdown",
   "id": "q8QxyTT8pkHe",
   "metadata": {
    "id": "q8QxyTT8pkHe"
   },
   "source": [
    "* 풀이 4는 정확도가 초기값이 너무 좋음\n",
    "* 왜 업데이트를 한번의 에폭에서 현재 100번을 수행했기 때문!!\n",
    "* 배치사이즈는 보통 메모리에 맞추어 올린다"
   ]
  }
 ],
 "metadata": {
  "colab": {
   "collapsed_sections": [],
   "name": "2022-05-02-lecture.ipynb",
   "provenance": [
    {
     "file_id": "https://github.com/guebin/STBDA2022/blob/master/_notebooks/2022-05-02-lecture.ipynb",
     "timestamp": 1651485482573
    }
   ],
   "toc_visible": true
  },
  "kernelspec": {
   "display_name": "Python 3 (ipykernel)",
   "language": "python",
   "name": "python3"
  },
  "language_info": {
   "codemirror_mode": {
    "name": "ipython",
    "version": 3
   },
   "file_extension": ".py",
   "mimetype": "text/x-python",
   "name": "python",
   "nbconvert_exporter": "python",
   "pygments_lexer": "ipython3",
   "version": "3.9.13"
  }
 },
 "nbformat": 4,
 "nbformat_minor": 5
}
