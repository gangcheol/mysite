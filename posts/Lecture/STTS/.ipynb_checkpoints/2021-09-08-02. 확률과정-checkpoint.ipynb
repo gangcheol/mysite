{
 "cells": [
  {
   "cell_type": "raw",
   "metadata": {},
   "source": [
    "---\n",
    "title : \"02. 확률과정\"\n",
    "author : \"GC\"\n",
    "date : \"09/08/21\"\n",
    "---"
   ]
  },
  {
   "cell_type": "markdown",
   "metadata": {},
   "source": [
    "# 0. 확률과정"
   ]
  },
  {
   "cell_type": "markdown",
   "metadata": {},
   "source": [
    "- 정의 : 관측값들이 확률법칙에 의해 생성되는 일련의 통계적인 현상"
   ]
  },
  {
   "cell_type": "markdown",
   "metadata": {},
   "source": [
    "* 따라서 $Z_t$ : 확률공간에서 정의되는 확률변수들의 모임이다. {$Z_t : t\\in T$}"
   ]
  },
  {
   "cell_type": "markdown",
   "metadata": {},
   "source": [
    "* $T= (-\\infty,\\infty)$ : 연속형 확률과정, $T=\\pm1,\\,\\pm2\\dots$ : 이산형 확률과정\n",
    "    * 우리는 이산형 확률과정에서만 다룬다."
   ]
  },
  {
   "cell_type": "markdown",
   "metadata": {},
   "source": [
    "* for z fixed t : $Z_t$ : 확률 변수, for z fixed $w=w_1$ : $Z_t(w_1)$ : t 에 대한 함수로 확률 변수가 아니다. (이 표현은 나중에 다른 과목에서도 굉장히 중요할 듯?)"
   ]
  },
  {
   "cell_type": "markdown",
   "metadata": {},
   "source": [
    "# 1. 정상성 (Stationarity)"
   ]
  },
  {
   "cell_type": "markdown",
   "metadata": {},
   "source": [
    "- 시계열의 확률적인 성질( 평균, 분산, 공분산, 분포 )들이 시간의 흐름에 따라 불변"
   ]
  },
  {
   "cell_type": "markdown",
   "metadata": {},
   "source": [
    "* 평균이 일정하다는 것 : 뚜렷한 추세가 없다 라든 뜻이다."
   ]
  },
  {
   "cell_type": "markdown",
   "metadata": {},
   "source": [
    "* 주기적인 변화가 없다 : 계절 성분이 없다."
   ]
  },
  {
   "cell_type": "markdown",
   "metadata": {},
   "source": [
    "$\\divideontimes $ 대부분의 시계열의 이론들이 정상성을 가정하고 전개되어 있기 때문에 정상적이 아닌 시계열은 정상시계열로 변환해야한다."
   ]
  },
  {
   "cell_type": "markdown",
   "metadata": {},
   "source": [
    "## 1-1. 강정상성 (Strict Stationarity)"
   ]
  },
  {
   "cell_type": "markdown",
   "metadata": {},
   "source": [
    "* 시차가 동일 하다면 결합확률분포는 변하지 않는다."
   ]
  },
  {
   "cell_type": "markdown",
   "metadata": {},
   "source": [
    "$$P\\,(Z_{t_1}\\leq z_1\\dots Z_{t_k} \\leq z_k) = P\\,(Z_{t_1+h}\\leq z_1\\dots Z_{t_k+h} \\leq z_k)$$"
   ]
  },
  {
   "cell_type": "markdown",
   "metadata": {},
   "source": [
    "* 위 식의 의미는 {$Z_t, t=1,\\dots$}가 강정상성을 갖는다는 의미이다."
   ]
  },
  {
   "cell_type": "markdown",
   "metadata": {},
   "source": [
    "* 하지만 우리는 앞으로 정상시계열을 보여라는 의미를 약정상성을 보여라로 생각할 것이다."
   ]
  },
  {
   "cell_type": "markdown",
   "metadata": {},
   "source": [
    "## 1-2. 약정상성 (Weakly Stationarity)"
   ]
  },
  {
   "cell_type": "markdown",
   "metadata": {},
   "source": [
    "* 평균, 분산, 자기공분산이 시간에 따라 변하지 않음."
   ]
  },
  {
   "cell_type": "markdown",
   "metadata": {},
   "source": [
    "* 단, 자기공분산 $Cov(Z_t, Z_{t+h})= \\gamma_h$ 는 시점과는 관련 없이 시차에만 의존한다."
   ]
  },
  {
   "cell_type": "markdown",
   "metadata": {},
   "source": [
    "* 즉, 자기공분산 $\\gamma_h$는 **\"시차가 동일하다면 $\\gamma_h$는 동일하다\"**는 의미이다."
   ]
  },
  {
   "cell_type": "markdown",
   "metadata": {},
   "source": [
    "***"
   ]
  },
  {
   "cell_type": "markdown",
   "metadata": {},
   "source": [
    "# 3. 백색잡음과정 (White Noise Process)"
   ]
  },
  {
   "cell_type": "markdown",
   "metadata": {},
   "source": [
    "* 대표적인 정상시계열 $Z_t = \\varepsilon_t$"
   ]
  },
  {
   "cell_type": "markdown",
   "metadata": {},
   "source": [
    "* $\\varepsilon_t \\sim_{idd} N(0, \\sigma^2)$ 이라고 할 때 이를 $\\varepsilon_t \\sim WN(0, \\sigma^2)$ 으로 표기하며 성질은 아래와 같다."
   ]
  },
  {
   "cell_type": "markdown",
   "metadata": {},
   "source": [
    "* $E(Z_t) = E(\\varepsilon_t) = 0$"
   ]
  },
  {
   "cell_type": "markdown",
   "metadata": {},
   "source": [
    "* $Var(Z_t) = Var(\\varepsilon_t)=\\sigma^2$"
   ]
  },
  {
   "cell_type": "markdown",
   "metadata": {},
   "source": [
    "* $\\gamma_k=Cov(Z_t, Z_{t+k}) = Cov(\\varepsilon_t,\\varepsilon_{t+k}) = 0$"
   ]
  },
  {
   "cell_type": "markdown",
   "metadata": {},
   "source": [
    "***"
   ]
  },
  {
   "cell_type": "markdown",
   "metadata": {},
   "source": [
    "# 4. 확률보행과정 (Random Walk Process)"
   ]
  },
  {
   "cell_type": "markdown",
   "metadata": {},
   "source": [
    "* 확률보행과정은 대표적인 비정상 확률과정이다."
   ]
  },
  {
   "cell_type": "markdown",
   "metadata": {},
   "source": [
    "* 절편이 없는 확률보행과정과 절편이 있는 확률보행과정을 다룬다."
   ]
  },
  {
   "cell_type": "markdown",
   "metadata": {},
   "source": [
    "## 4-1. 절편이 없는 확률보행과정"
   ]
  },
  {
   "cell_type": "markdown",
   "metadata": {},
   "source": [
    "* $\\varepsilon_t \\sim WN(0, \\sigma^2)$을 따를 때 다음과 같이 정의되는 확률과정 {$Z_t$}를 확률보행과정 이라고 부른다."
   ]
  },
  {
   "cell_type": "markdown",
   "metadata": {},
   "source": [
    "* $Z_t = Z_{t-1}+\\varepsilon_t, \\quad Z_0=0$ 또 이를 풀어서 쓰면"
   ]
  },
  {
   "cell_type": "markdown",
   "metadata": {},
   "source": [
    "$$\\begin{eqnarray*}Z_t &=& Z_{t-1}+\\varepsilon_t \\\\ \\\\\n",
    "                       &=& Z_{t-2}+\\varepsilon_{t-1}+\\varepsilon_{t} \\\\ \\\\\n",
    "                       &=& Z_{t-3}+\\varepsilon_{t-1}+\\varepsilon_{t-2}+\\varepsilon_{t} \\\\ \\\\ \n",
    "                      \\dots &=&  \\sum_{i=1}^t \\varepsilon_t\\end{eqnarray*} $$"
   ]
  },
  {
   "cell_type": "markdown",
   "metadata": {},
   "source": [
    "* 즉 $Z_t = Z_{t-1}+\\varepsilon = \\sum_{i=1}^{t} \\varepsilon_t$ 라고 할 수 있다."
   ]
  },
  {
   "cell_type": "markdown",
   "metadata": {},
   "source": [
    "* $E(Z_t) = E(\\sum \\varepsilon_t) =0$"
   ]
  },
  {
   "cell_type": "markdown",
   "metadata": {},
   "source": [
    "* $Var(Z_t) = Var(\\sum \\varepsilon_t) = t\\sigma^2$"
   ]
  },
  {
   "cell_type": "markdown",
   "metadata": {},
   "source": [
    "* $Cov(Z_t,Z_{t+h}) = t\\sigma^2$ 이는 백색잡음이기때문에 $\\varepsilon_t,\\varepsilon_{t+h}$ 공분산이 0임을 이용하면 증명 가능"
   ]
  },
  {
   "cell_type": "markdown",
   "metadata": {},
   "source": [
    "## 4-2. 절편이 있는 확률보행과정"
   ]
  },
  {
   "cell_type": "markdown",
   "metadata": {},
   "source": [
    "$$Z_t = \\delta + Z_{t-1}+\\varepsilon_t, \\quad \\varepsilon_t \\sim WN(0,\\sigma^2),Z_0=0$$"
   ]
  },
  {
   "cell_type": "markdown",
   "metadata": {},
   "source": [
    "* $Z_t = \\delta + Z_{t-1}+\\varepsilon_t = t\\delta + \\sum_{i=1}^t\\varepsilon_t$"
   ]
  },
  {
   "cell_type": "markdown",
   "metadata": {},
   "source": [
    "* $E(Z_t) = t\\delta$"
   ]
  },
  {
   "cell_type": "markdown",
   "metadata": {},
   "source": [
    "* $Var(Z_t) = t\\sigma^2$"
   ]
  },
  {
   "cell_type": "markdown",
   "metadata": {},
   "source": [
    "* $Cov(Z_t, Z_{t+h}) = t\\sigma^2$"
   ]
  },
  {
   "cell_type": "markdown",
   "metadata": {},
   "source": [
    "$\\divideontimes$ 현재 우리는 확률보행과정 $Z_t$가 비정상시계열임을 알았다. 이는 차분을 통해서 정상시계열로 바꾸는 방법을 주로 선택한다."
   ]
  },
  {
   "cell_type": "markdown",
   "metadata": {},
   "source": [
    "즉, $Z_t - Z_{t-1} = \\varepsilon_t$이므로 $\\varepsilon_t \\sim WN(0,\\sigma^2)$ 이기 때문에 정상시계열을 따른다."
   ]
  },
  {
   "cell_type": "markdown",
   "metadata": {},
   "source": [
    "***"
   ]
  },
  {
   "cell_type": "markdown",
   "metadata": {},
   "source": [
    "# 5. 이동평균과정 (MA(1))"
   ]
  },
  {
   "cell_type": "markdown",
   "metadata": {},
   "source": [
    "$$ Z_t = \\mu+\\varepsilon_t -\\theta \\varepsilon_{t-1},\\quad \\varepsilon_t \\sim WN(0,\\sigma^2)$$"
   ]
  },
  {
   "cell_type": "markdown",
   "metadata": {},
   "source": [
    "* $E(Z_t) = \\mu$"
   ]
  },
  {
   "cell_type": "markdown",
   "metadata": {},
   "source": [
    "* $Var(Z_t) = (1+\\theta^2)\\sigma^2$ "
   ]
  },
  {
   "cell_type": "markdown",
   "metadata": {},
   "source": [
    "* $Cov(Z_t,Z_{t+h}) = \\begin{cases} -\\theta\\sigma^2,\\,h=1 \\\\\n",
    "                                     0,\\,h>1   \\end{cases}$"
   ]
  },
  {
   "cell_type": "markdown",
   "metadata": {},
   "source": [
    "* 평균과 분산이 일정하고 자기공분산도 시차 $h$에만 의존하므로 정상시계열이다."
   ]
  },
  {
   "cell_type": "markdown",
   "metadata": {},
   "source": [
    "***"
   ]
  },
  {
   "cell_type": "markdown",
   "metadata": {},
   "source": [
    "# 6. 선형 과정 (Linear Process)"
   ]
  },
  {
   "cell_type": "markdown",
   "metadata": {},
   "source": [
    "$$Z_t = \\mu +\\varepsilon_t+\\phi_1 \\varepsilon_{t-1}+\\phi_2 \\varepsilon_{t-2}\\dots= \\mu + \\sum_{j=0}^\\infty \\phi_j\\varepsilon_{t-j},\\quad \\varepsilon_t \\sim WN(0,\\sigma^2),\\phi_o=1$$"
   ]
  },
  {
   "cell_type": "markdown",
   "metadata": {},
   "source": [
    "* $E(Z_t) = \\mu$"
   ]
  },
  {
   "cell_type": "markdown",
   "metadata": {},
   "source": [
    "* $Var(Z_t) = \\sigma^2\\sum_{j=0}^\\infty \\phi_j^2$"
   ]
  },
  {
   "cell_type": "markdown",
   "metadata": {},
   "source": [
    "* $Cov(Z_t, Z_{t+h})= \\sigma^2\\sum_{j=0}^\\infty\\phi_j\\phi_{j+h}$"
   ]
  },
  {
   "cell_type": "markdown",
   "metadata": {},
   "source": [
    "* 대표적인 정상시계열의 또 다른 예시이며 정상성의 조건은 아래와 같다."
   ]
  },
  {
   "cell_type": "markdown",
   "metadata": {},
   "source": [
    "$$\\sum_{j=0}^\\infty\\phi_j^2<\\infty $$"
   ]
  },
  {
   "cell_type": "markdown",
   "metadata": {},
   "source": [
    "***"
   ]
  },
  {
   "cell_type": "markdown",
   "metadata": {},
   "source": [
    "# 7. 자기회귀과정 AR(1)"
   ]
  },
  {
   "cell_type": "markdown",
   "metadata": {},
   "source": [
    "* 현 시점의 상태를 과거 자기 자신의 관측값과 현 시점의 오차의 함수 형태로 나타낸다."
   ]
  },
  {
   "cell_type": "markdown",
   "metadata": {},
   "source": [
    "$$Z_t -\\mu = \\phi (Z_{t-1}-\\mu)+\\varepsilon_t,\\quad \\varepsilon_t \\sim WN(0,\\sigma^2)$$"
   ]
  },
  {
   "cell_type": "markdown",
   "metadata": {},
   "source": [
    "* 또한 $|\\phi| <1$인 경우 => 정상시계열이 되기 위한 조건"
   ]
  },
  {
   "cell_type": "markdown",
   "metadata": {},
   "source": [
    "* $Z_t = \\mu + \\sum_{j=0}^\\infty \\phi^j\\varepsilon_{t-j}$"
   ]
  },
  {
   "cell_type": "markdown",
   "metadata": {},
   "source": [
    "* $E(Z_t) =\\mu$"
   ]
  },
  {
   "cell_type": "markdown",
   "metadata": {},
   "source": [
    "* $Var(Z_t) = \\sigma^2\\sum_{j=0}^\\infty\\phi^{2j} = \\frac{\\sigma^2}{1-\\phi^2}$"
   ]
  },
  {
   "cell_type": "markdown",
   "metadata": {},
   "source": [
    "* $Cov (Z_t, Z_{t+h}) = \\phi^h\\frac{\\sigma^2}{1-\\phi^2}$"
   ]
  },
  {
   "cell_type": "markdown",
   "metadata": {},
   "source": [
    "# 8. 자기상관함수 (Autocorrelaton Function, ACF)"
   ]
  },
  {
   "cell_type": "markdown",
   "metadata": {},
   "source": [
    "$$\\rho_h = Corr (Z_t,Z_{t+h})$$"
   ]
  },
  {
   "cell_type": "markdown",
   "metadata": {},
   "source": [
    "* 정상시계열의 ACF의 성질은 다음과 같다."
   ]
  },
  {
   "cell_type": "markdown",
   "metadata": {},
   "source": [
    "* $\\rho_h = \\frac {Cov(Z_t,Z_{t+h})}{sd(Z_t),sd(Z_{t+h})}= \\frac {\\gamma_h}{\\gamma_0}$ 임은 자명하다."
   ]
  },
  {
   "cell_type": "markdown",
   "metadata": {},
   "source": [
    "* $|\\rho_h| \\leq 1, \\forall h=1,2,3\\dots$"
   ]
  },
  {
   "cell_type": "markdown",
   "metadata": {},
   "source": [
    "* $\\rho_{-h} = \\rho_{h}, \\forall h =1,2,3\\dots$"
   ]
  },
  {
   "cell_type": "markdown",
   "metadata": {},
   "source": [
    "## 8-1 표본자기상관함수(Sample Autocorrelation Function)"
   ]
  },
  {
   "cell_type": "markdown",
   "metadata": {},
   "source": [
    "* $\\overline Z = \\sum_{i=1}^{n}\\frac{ Z_t}{n}$ 이라고 할 대 표본자기상관함수는 아래와 같다."
   ]
  },
  {
   "cell_type": "markdown",
   "metadata": {},
   "source": [
    "$$ \\hat {\\rho}_h = \\frac{\\hat {\\gamma}_h}{\\hat {\\gamma}_0}$$"
   ]
  },
  {
   "cell_type": "markdown",
   "metadata": {},
   "source": [
    "* $E[\\,\\hat {\\rho}_h\\,] \\approx \\rho_h$ 이거는 대수의 법칙 생각하면 이지이지"
   ]
  },
  {
   "cell_type": "markdown",
   "metadata": {},
   "source": [
    "* (Bartlett,1946) : 샘플 크기 $n$이 충분히 클 때 $\\hat {\\rho}_h\\sim N(\\rho_h,\\frac 1n (1+2\\sum \\rho_i^2))$"
   ]
  },
  {
   "cell_type": "markdown",
   "metadata": {},
   "source": [
    "* 위 성질을 이용하면 $Z_t=\\epsilon_t \\sim WN(0,\\sigma^2)$ 일 경우 $\\hat {\\rho}_h\\sim N(0,\\frac 1n )$ 을 만족한다."
   ]
  },
  {
   "cell_type": "markdown",
   "metadata": {},
   "source": [
    "* **SACF($\\hat {\\rho}_h$)**는 시간에 따라 주어진 시계열 자료가 독립(=백색잡음)인지 아닌지 파악하는데 도움이 된다."
   ]
  },
  {
   "cell_type": "markdown",
   "metadata": {},
   "source": [
    "$$H_0: \\rho_h=0\\quad H_1: not \\,\\, H_0$$"
   ]
  },
  {
   "cell_type": "markdown",
   "metadata": {},
   "source": [
    "* $\\hat {\\rho}_h > \\frac {2}{\\sqrt {n}}$ 이면 귀무가설을 기각한다. 즉 시차 $h$ 에서 자기상관관계가 존재한다고 할 수 있다. "
   ]
  },
  {
   "cell_type": "markdown",
   "metadata": {},
   "source": [
    "$\\divideontimes$ 주의 : 두 변수가 독립이면 상관계수가 반드시 0이지만, 이에 대한 역은 성립하지 않는다."
   ]
  },
  {
   "cell_type": "markdown",
   "metadata": {},
   "source": [
    "* R에서 ACF 그림을 고렸을 때 점선은 $\\frac 2{\\sqrt n}$을 의미한다. 이 점선보다 큰 값을 가지는 시차 $h$에서 자기상관관계가 존재한다고 볼 수 있다."
   ]
  },
  {
   "cell_type": "markdown",
   "metadata": {},
   "source": [
    "***"
   ]
  },
  {
   "cell_type": "markdown",
   "metadata": {},
   "source": [
    "# 9. 부분자기상관함수(PACF : Partial Autocorrelation Function)"
   ]
  },
  {
   "cell_type": "markdown",
   "metadata": {},
   "source": [
    "* 정의 : $X,Y$의 순순한 상관관계를 구하기 위해서 제 3의변수 $Z$의 효과를 제거한 후 상관계수를 구하는 것이다,"
   ]
  },
  {
   "cell_type": "markdown",
   "metadata": {},
   "source": [
    "* 시계열로 다시 돌아와 보면 $Z_t,Z_{t+k}$의 상관계수를 구할 때 $Z_{t+1}\\dots Z_{t+k-1}$의 효과를 제거한 후의 상관계수를 구하는 것이다."
   ]
  },
  {
   "cell_type": "markdown",
   "metadata": {},
   "source": [
    "* 즉 $Z_t, Z_{t+k}$의 산점도에서 직선관계의 정도를 나타낸다."
   ]
  },
  {
   "cell_type": "markdown",
   "metadata": {},
   "source": [
    "* 시차 $k$의 PACF는 다음과 같다."
   ]
  },
  {
   "cell_type": "markdown",
   "metadata": {},
   "source": [
    "$$ \\phi_{kk} = Corr(Z_t^*,Z_{t+k}^*)= \\frac {}{}$$"
   ]
  },
  {
   "cell_type": "markdown",
   "metadata": {},
   "source": [
    "* $Z_t^* = Z_t - E(Z_t|Z_{t+1},\\dots Z_{t+k-1})$"
   ]
  },
  {
   "cell_type": "markdown",
   "metadata": {},
   "source": [
    ": 이는 $Z_t$를 $Z_{t+1}\\dots Z_{t+k-1}$에 회귀분석을 시행한 후  잔차이다. 회귀분석에 정의를 생각하면 쉽게 이해할 수 있다."
   ]
  },
  {
   "cell_type": "markdown",
   "metadata": {},
   "source": [
    "* $\\phi_{11} = \\rho_1, \\quad \\phi_{22}= \\frac{\\rho_2-\\rho_1^2}{1-\\rho_1^2}$"
   ]
  },
  {
   "cell_type": "markdown",
   "metadata": {},
   "source": [
    "* 요약하자면 부분자기상관함수 PACF는 시차가 2이상일 경우 시차간 직선관계정도를 파악하기 위해 사용한다고 생각할 수 있다."
   ]
  }
 ],
 "metadata": {
  "kernelspec": {
   "display_name": "R",
   "language": "R",
   "name": "ir"
  },
  "language_info": {
   "codemirror_mode": "r",
   "file_extension": ".r",
   "mimetype": "text/x-r-source",
   "name": "R",
   "pygments_lexer": "r",
   "version": "4.1.3"
  },
  "toc": {
   "base_numbering": 1,
   "nav_menu": {},
   "number_sections": false,
   "sideBar": true,
   "skip_h1_title": false,
   "title_cell": "Table of Contents",
   "title_sidebar": "Contents",
   "toc_cell": false,
   "toc_position": {
    "height": "calc(100% - 180px)",
    "left": "10px",
    "top": "150px",
    "width": "253.711px"
   },
   "toc_section_display": true,
   "toc_window_display": true
  }
 },
 "nbformat": 4,
 "nbformat_minor": 4
}
