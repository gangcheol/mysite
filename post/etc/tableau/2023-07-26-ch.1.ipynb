{
 "cells": [
  {
   "cell_type": "raw",
   "id": "44d70e9d",
   "metadata": {},
   "source": [
    "---\n",
    "title : \"ch1. 태블로 이해하기\"\n",
    "author : \"GANGCHEOL LEE\"\n",
    "date : \"07/26/23\"\n",
    "categories : [\"tableau\"]\n",
    "---"
   ]
  },
  {
   "cell_type": "markdown",
   "id": "0d0578a6",
   "metadata": {},
   "source": [
    "# 1. 디지털로의 전환"
   ]
  },
  {
   "cell_type": "markdown",
   "id": "9185063b",
   "metadata": {},
   "source": [
    "`-` DX(Digital Transformation): 전반적인 모든 비즈니스 요소에 디지털 기술을 적용하여 전통적인 사회구조를 혁신, 변혁하는 것을 의미 (기업들의 비즈니스 전략)"
   ]
  },
  {
   "cell_type": "markdown",
   "id": "80526f19",
   "metadata": {},
   "source": [
    "`-` Data Literacy : 데이터를 보는것이 아니라 탐색을 통해 자신이 이해하고, 이를 다른사람과 대화와 협업을 통해 찾은 통찰을 공유하는 능력 (개별구성원에게 능력되는 능력)"
   ]
  },
  {
   "cell_type": "markdown",
   "id": "bb244926",
   "metadata": {},
   "source": [
    "## example"
   ]
  },
  {
   "cell_type": "markdown",
   "id": "e3252c82",
   "metadata": {},
   "source": [
    "### 태블로 도입전"
   ]
  },
  {
   "cell_type": "markdown",
   "id": "30025198",
   "metadata": {},
   "source": [
    "`-` SAP에서 데이터를 다운로드 $\\to$ excel에서 가공 $\\to$ Powerpoint나 excel에서 시각화 하는 방식"
   ]
  },
  {
   "cell_type": "markdown",
   "id": "de71a14e",
   "metadata": {},
   "source": [
    "### 테블로 도입 후"
   ]
  },
  {
   "cell_type": "markdown",
   "id": "afe1289c",
   "metadata": {},
   "source": [
    "`-` SAP 데이터를 Tableau에서 바로 연결하고 실시간으로 데이터의 흐름을 추적"
   ]
  },
  {
   "cell_type": "markdown",
   "id": "ac2a5994",
   "metadata": {},
   "source": [
    "`-` Tableau Desktop에서 시각적 분석을 한뒤, Tableau Server로 공유하는 형식"
   ]
  },
  {
   "cell_type": "markdown",
   "id": "250affaf",
   "metadata": {},
   "source": [
    "### 변화"
   ]
  },
  {
   "cell_type": "markdown",
   "id": "52fbff0e",
   "metadata": {},
   "source": [
    "`-` 데이터를 기반으로한 의사결정이 빨라짐"
   ]
  },
  {
   "cell_type": "markdown",
   "id": "4f3f89c4",
   "metadata": {},
   "source": [
    "`-` 비지니스에 대한 이해와 흐름이 이전보다 훨씬 좋아짐"
   ]
  },
  {
   "cell_type": "markdown",
   "id": "6b183010",
   "metadata": {},
   "source": [
    "## 데이터 시각적 분석"
   ]
  },
  {
   "cell_type": "markdown",
   "id": "cc001227",
   "metadata": {},
   "source": [
    "`-` 데이터 시각화를 통해 스토리텔링 및 인사이트를 찾는 분석 기법"
   ]
  },
  {
   "cell_type": "markdown",
   "id": "3dca5289",
   "metadata": {},
   "source": [
    "## Summary"
   ]
  },
  {
   "cell_type": "markdown",
   "id": "72c30f33",
   "metadata": {},
   "source": [
    "`-` DT"
   ]
  },
  {
   "cell_type": "markdown",
   "id": "9ae34dc1",
   "metadata": {},
   "source": [
    "* 기업의 당면과제 $\\to$ 산재되어 있는 데이터를 집중화시키고, 비즈니스에 적극적으로 활용할 수 있도록하여 데이터에 대한 내부 문화가 바뀌도록 유도"
   ]
  },
  {
   "cell_type": "markdown",
   "id": "3c2f94d8",
   "metadata": {},
   "source": [
    "`-` DL"
   ]
  },
  {
   "cell_type": "markdown",
   "id": "c4c89b68",
   "metadata": {},
   "source": [
    "* 기업 구성원의 당명 과제 $\\to$ DT로 마련한 데이터를 개인들이 언제나 접근해 비즈니스 인사이트를 빠르게 발굴하는 능력"
   ]
  },
  {
   "cell_type": "markdown",
   "id": "15c87884",
   "metadata": {},
   "source": [
    "`-` DV"
   ]
  },
  {
   "cell_type": "markdown",
   "id": "f332a704",
   "metadata": {},
   "source": [
    "* DL을 강화 $\\to$ 데이터를 시각적으로 표현하고 찾은 인사이트를 조직 내 공유 및 협업하는 과정"
   ]
  },
  {
   "cell_type": "markdown",
   "id": "fe588633",
   "metadata": {},
   "source": [
    "***"
   ]
  },
  {
   "cell_type": "markdown",
   "id": "af105e76",
   "metadata": {},
   "source": [
    "# 2. 태블로 이해 및 설치"
   ]
  },
  {
   "cell_type": "markdown",
   "id": "9e012925",
   "metadata": {},
   "source": [
    "## (1) 태블로란?"
   ]
  },
  {
   "cell_type": "markdown",
   "id": "1bb22e29",
   "metadata": {},
   "source": [
    "`-` 데이터를 분석 및 시각화하는 Business Intelligence(이하 BI) 솔루션"
   ]
  },
  {
   "cell_type": "markdown",
   "id": "a9b29ff2",
   "metadata": {},
   "source": [
    "`-` 사용자에게 최소 수준의 기술만을 요구 $\\to$ 사용자가 데이터 활용 시 IT부서에 의존도를 최소화하고 그들 스스로 데이터를 이해하하도록 함"
   ]
  },
  {
   "cell_type": "markdown",
   "id": "e708fb79",
   "metadata": {},
   "source": [
    "`-` 2021년 기준 9년 연속 Gartner가 선정한 **DV & BI** 분야의 리더"
   ]
  },
  {
   "cell_type": "markdown",
   "id": "cadee19a",
   "metadata": {},
   "source": [
    "`-` 데이터 원본에 없는 필드를 직접 생성 가능 $\\to$ 엑셀과 비슷한 함수들이 많음"
   ]
  },
  {
   "cell_type": "markdown",
   "id": "a0953955",
   "metadata": {},
   "source": [
    "## (2) 태블로 퍼블릭 설치"
   ]
  },
  {
   "cell_type": "markdown",
   "id": "b81f3f51",
   "metadata": {},
   "source": [
    "`-` step1. [링크로 이동](https://public.tableau.com/app/resources/learn)"
   ]
  },
  {
   "cell_type": "markdown",
   "id": "32fb9986",
   "metadata": {},
   "source": [
    "`-` step2. 인적사항 작성 후 파일 다운"
   ]
  },
  {
   "cell_type": "markdown",
   "id": "525baa3a",
   "metadata": {},
   "source": [
    "`-`step3. 설치 확인 "
   ]
  },
  {
   "cell_type": "markdown",
   "id": "320fe1e4",
   "metadata": {},
   "source": [
    "<div>\n",
    "<img src=\"ch1-1.png\" width=\"350\">\n",
    "</div>"
   ]
  },
  {
   "cell_type": "markdown",
   "id": "3fe88ac8",
   "metadata": {},
   "source": [
    "## (3) 데이터 연결"
   ]
  },
  {
   "cell_type": "markdown",
   "id": "f91a3a99",
   "metadata": {},
   "source": [
    "`-` 상단에 태블로 마크를 클릭하면 워크시트가 생성"
   ]
  },
  {
   "cell_type": "markdown",
   "id": "92b892d5",
   "metadata": {},
   "source": [
    "`-` connect data 클릭 후 확인!"
   ]
  },
  {
   "cell_type": "markdown",
   "id": "4231c73a",
   "metadata": {},
   "source": [
    "<div>\n",
    "<img src = \"ch1-2.png\" width=\"450\">\n",
    "</div>"
   ]
  },
  {
   "cell_type": "markdown",
   "id": "968efed4",
   "metadata": {},
   "source": [
    "`-` #: 숫자 "
   ]
  },
  {
   "cell_type": "markdown",
   "id": "4fc7ff7c",
   "metadata": {},
   "source": [
    "`-` Abc: 문자"
   ]
  },
  {
   "cell_type": "markdown",
   "id": "32fb8ba8",
   "metadata": {},
   "source": [
    "`-` 달력 : 날짜데이터"
   ]
  },
  {
   "cell_type": "markdown",
   "id": "0400f9fe",
   "metadata": {},
   "source": [
    "### example"
   ]
  },
  {
   "cell_type": "markdown",
   "id": "e3fdf8cc",
   "metadata": {},
   "source": [
    "`-` 시트로 이동 후 매출 측정값을 더블 클릭한 경우"
   ]
  },
  {
   "cell_type": "markdown",
   "id": "1e5ee86f",
   "metadata": {},
   "source": [
    "<img src = \"ch1-3.png\" width = \"200\">"
   ]
  },
  {
   "cell_type": "markdown",
   "id": "f01da232",
   "metadata": {},
   "source": [
    "`-` 그 후, 고객 세그먼트를 더블 클릭!"
   ]
  },
  {
   "cell_type": "markdown",
   "id": "ff289d4a",
   "metadata": {},
   "source": [
    "<img src = \"ch1-4.png\" width = \"200\">"
   ]
  },
  {
   "cell_type": "markdown",
   "id": "297c998e",
   "metadata": {},
   "source": [
    "`-` 고객 세그먼트 컬럼을 추가하기 전에는 전체 합계를 표시해 주었지만, 추가한 이후에는 **고객 분류에** 맞는 합계를 제공해주었다"
   ]
  },
  {
   "cell_type": "markdown",
   "id": "d2b0e58d",
   "metadata": {},
   "source": [
    "***"
   ]
  },
  {
   "cell_type": "markdown",
   "id": "6f0d62de",
   "metadata": {},
   "source": [
    "# 3. 태블로 기본 컨셉 1"
   ]
  },
  {
   "cell_type": "markdown",
   "id": "363c818c",
   "metadata": {},
   "source": [
    "## (1) 측정값 : 숫자형식 (#)"
   ]
  },
  {
   "cell_type": "markdown",
   "id": "9fa3ca86",
   "metadata": {},
   "source": [
    "<img src = \"ch1-5.png\" width=500>"
   ]
  },
  {
   "cell_type": "markdown",
   "id": "6644fdba",
   "metadata": {},
   "source": [
    "`-` 측정값을 컬럼에 추가했기 때문에 전에 했던 고객 세그먼트처럼 분류된 값을 보여주지 않는다."
   ]
  },
  {
   "cell_type": "markdown",
   "id": "564d2037",
   "metadata": {},
   "source": [
    "`-` 근데 할인율은 합계가 아니라 평균으로 집계해야한다."
   ]
  },
  {
   "cell_type": "markdown",
   "id": "e6a49fdc",
   "metadata": {},
   "source": [
    "<img src = \"ch1-6.png\" width = \"200\">"
   ]
  },
  {
   "cell_type": "markdown",
   "id": "2f7440c9",
   "metadata": {},
   "source": [
    "`-` 집계 후 결과 확인"
   ]
  },
  {
   "cell_type": "markdown",
   "id": "4a6db622",
   "metadata": {},
   "source": [
    "<img src = \"ch1-7.png\" width = 500>"
   ]
  },
  {
   "cell_type": "markdown",
   "id": "b11c0692",
   "metadata": {},
   "source": [
    "`-` 새로운 시트로 바꿀 경우 집계함수의 디폴트가 합계이다."
   ]
  },
  {
   "cell_type": "markdown",
   "id": "7cf364ed",
   "metadata": {},
   "source": [
    "`-` 이 경우 해당 측정값의 기본 속성을 평균으로 바꾸어주자"
   ]
  },
  {
   "cell_type": "markdown",
   "id": "a9f544e2",
   "metadata": {},
   "source": [
    "<img src = \"ch1-8.png\" width=300>"
   ]
  },
  {
   "cell_type": "markdown",
   "id": "05b42f33",
   "metadata": {},
   "source": [
    "`-` 그 후 시트를 다시 생성하면 됨!"
   ]
  },
  {
   "cell_type": "markdown",
   "id": "6054a050",
   "metadata": {},
   "source": [
    "`-` 숫자 형식 변경 : 기본 속성 $\\to$ 숫자형식 $\\to$ 백분율"
   ]
  },
  {
   "cell_type": "markdown",
   "id": "9a346c74",
   "metadata": {},
   "source": [
    "<img src = \"ch1-9.png\" width = 350>"
   ]
  },
  {
   "cell_type": "markdown",
   "id": "f55674df",
   "metadata": {},
   "source": [
    "## (2) 차원"
   ]
  },
  {
   "cell_type": "markdown",
   "id": "852bc7aa",
   "metadata": {},
   "source": [
    "`-` 행에 주문일자(차원), 매출(측정값), 열에 고객 세그먼트 (추가)"
   ]
  },
  {
   "cell_type": "markdown",
   "id": "7a788fd4",
   "metadata": {},
   "source": [
    "`-` 즉, 차원은 숫자로 만들어진 측정값을 나누어서 보는 개념으로 생각하자"
   ]
  },
  {
   "cell_type": "markdown",
   "id": "3b43b313",
   "metadata": {},
   "source": [
    "<img src = \"ch1-10.png\" width = 350>"
   ]
  },
  {
   "cell_type": "markdown",
   "id": "1851e381",
   "metadata": {},
   "source": [
    "## (3) bar garph"
   ]
  },
  {
   "cell_type": "markdown",
   "id": "71971f8c",
   "metadata": {},
   "source": [
    "`-` 우리가 하고 싶은거 : 제품 대분류에 따른 매출액을 10억단위로 보고 싶고, 글씨체도 먼가 좀 더 크게 보였으면 좋겠음"
   ]
  },
  {
   "cell_type": "markdown",
   "id": "b0013a5f",
   "metadata": {},
   "source": [
    "`-` 그래프 행열 전환과정은 위에 메뉴바에서 클릭클릭"
   ]
  },
  {
   "cell_type": "markdown",
   "id": "03b90d66",
   "metadata": {},
   "source": [
    "### example 1"
   ]
  },
  {
   "cell_type": "markdown",
   "id": "c626823d",
   "metadata": {},
   "source": [
    "#### step 1"
   ]
  },
  {
   "cell_type": "markdown",
   "id": "b00f02d7",
   "metadata": {},
   "source": [
    "`-` 측정값 매출을 label로 드래그"
   ]
  },
  {
   "cell_type": "markdown",
   "id": "548c5164",
   "metadata": {},
   "source": [
    "`-` 그 후, 가운데 정렬 및 폰트사이즈 조절"
   ]
  },
  {
   "cell_type": "markdown",
   "id": "38e15979",
   "metadata": {},
   "source": [
    "#### step 2"
   ]
  },
  {
   "cell_type": "markdown",
   "id": "7a69bf9d",
   "metadata": {},
   "source": [
    "`-` 마크안에 **매출액**에서 format 선택 "
   ]
  },
  {
   "cell_type": "markdown",
   "id": "8c3be0e2",
   "metadata": {},
   "source": [
    "<img src = \"ch1-11.png\" width=\"250\">"
   ]
  },
  {
   "cell_type": "markdown",
   "id": "50fc0cf9",
   "metadata": {},
   "source": [
    "`-` 그 후 아래와 같이 수행"
   ]
  },
  {
   "cell_type": "markdown",
   "id": "1dc372e3",
   "metadata": {},
   "source": [
    "<img src = \"ch1-12.png\" width = \"350\">"
   ]
  },
  {
   "cell_type": "markdown",
   "id": "d9ee8ac4",
   "metadata": {},
   "source": [
    "`-` 결과"
   ]
  },
  {
   "cell_type": "markdown",
   "id": "0c822766",
   "metadata": {},
   "source": [
    "<img src = \"ch1-13.png\" width = \"550\">"
   ]
  },
  {
   "cell_type": "markdown",
   "id": "58360641",
   "metadata": {},
   "source": [
    "### example 2"
   ]
  },
  {
   "cell_type": "markdown",
   "id": "4eb0f6a2",
   "metadata": {},
   "source": [
    "`-` 매출액을 제품 중분류에 따라 분류 후 평균 미만과 이상으로 색상 분류"
   ]
  },
  {
   "cell_type": "markdown",
   "id": "2865049a",
   "metadata": {},
   "source": [
    "#### step 1"
   ]
  },
  {
   "cell_type": "markdown",
   "id": "1267600c",
   "metadata": {},
   "source": [
    "`-` 계산된 필드 만들기"
   ]
  },
  {
   "cell_type": "markdown",
   "id": "dac4acf1",
   "metadata": {},
   "source": [
    "<img src = \"ch1-14.png\" width = \"250\">"
   ]
  },
  {
   "cell_type": "markdown",
   "id": "7a6005cf",
   "metadata": {},
   "source": [
    "#### step 2"
   ]
  },
  {
   "cell_type": "markdown",
   "id": "17534745",
   "metadata": {},
   "source": [
    "`-` 함수 입력"
   ]
  },
  {
   "cell_type": "markdown",
   "id": "bf00f7d3",
   "metadata": {},
   "source": [
    "<img src = \"ch1-15.png\" width = \"250\">"
   ]
  },
  {
   "cell_type": "markdown",
   "id": "1771c692",
   "metadata": {},
   "source": [
    "#### step 3"
   ]
  },
  {
   "cell_type": "markdown",
   "id": "868c6369",
   "metadata": {},
   "source": [
    "`-` 색상 마크에 드래그엔 드랍 후 결과 확인"
   ]
  },
  {
   "cell_type": "markdown",
   "id": "0f58efab",
   "metadata": {},
   "source": [
    "<img src = \"ch1-16.png\" width = \"550\">"
   ]
  },
  {
   "cell_type": "markdown",
   "id": "8a59953e",
   "metadata": {},
   "source": [
    "#### step 4"
   ]
  },
  {
   "cell_type": "markdown",
   "id": "c37b1462",
   "metadata": {},
   "source": [
    "`-` 평균라인 추가"
   ]
  },
  {
   "cell_type": "markdown",
   "id": "65500cf3",
   "metadata": {},
   "source": [
    "* 분석 패널에서 평균라인 클릭\n",
    "\n",
    "* 시트로 가져와 테이블 참조선에 드래그"
   ]
  },
  {
   "cell_type": "markdown",
   "id": "41a76487",
   "metadata": {},
   "source": [
    "<img src = \"ch1-17.png\" width = \"250\">"
   ]
  },
  {
   "cell_type": "markdown",
   "id": "304bd746",
   "metadata": {},
   "source": [
    "# 4. 태블로 기본 컨셉 2"
   ]
  },
  {
   "cell_type": "markdown",
   "id": "20fbe2e4",
   "metadata": {},
   "source": [
    "`-` 불연속형 : 파란색 필드"
   ]
  },
  {
   "cell_type": "markdown",
   "id": "2f217f21",
   "metadata": {},
   "source": [
    "`-` 초록색 : 연속형 필드"
   ]
  },
  {
   "cell_type": "markdown",
   "id": "82e141bb",
   "metadata": {},
   "source": [
    "## (1) 날짜 데이터"
   ]
  },
  {
   "cell_type": "markdown",
   "id": "54e48d28",
   "metadata": {},
   "source": [
    "<img src = \"ch1-18.png\" width = \"250\">"
   ]
  },
  {
   "cell_type": "markdown",
   "id": "54f97ff4",
   "metadata": {},
   "source": [
    "`-` 회색선을 기준으로 위는 불연속, 아래는 연속형 필드로 취급한다."
   ]
  },
  {
   "cell_type": "markdown",
   "id": "1b6395ba",
   "metadata": {},
   "source": [
    "`-` 불연속형의 경우 산출되는 그래프"
   ]
  },
  {
   "cell_type": "markdown",
   "id": "68f3d698",
   "metadata": {},
   "source": [
    "<img src = \"ch1-19.png\" width = \"550\">"
   ]
  },
  {
   "cell_type": "markdown",
   "id": "33cdf65e",
   "metadata": {},
   "source": [
    "`-` 위의 4분기는 2015 ~ 2019년의 4분기가 모두 포함된 것이다."
   ]
  },
  {
   "cell_type": "markdown",
   "id": "cf876574",
   "metadata": {},
   "source": [
    "<img src = \"ch1-20.png\" width = \"850\">"
   ]
  },
  {
   "cell_type": "markdown",
   "id": "31a39ac8",
   "metadata": {},
   "source": [
    "### 왜 차이가 나는지.,,,?"
   ]
  },
  {
   "cell_type": "markdown",
   "id": "1e6a59d0",
   "metadata": {},
   "source": [
    "`-` 불연속형의 경우 `DATEPART('quarter', [주문 일자])`"
   ]
  },
  {
   "cell_type": "markdown",
   "id": "355a1260",
   "metadata": {},
   "source": [
    "* 위 함수는 날짜 형식을 숫자 타입으로 전환해 주는 함수이다. $\\to$ 즉 1,2,3,4 분기로 산출됨"
   ]
  },
  {
   "cell_type": "markdown",
   "id": "9f2a0e0c",
   "metadata": {},
   "source": [
    "`-` 연속형의 경우 `DATETRUNC('quarter', [주문 일자])`"
   ]
  },
  {
   "cell_type": "markdown",
   "id": "357b47c0",
   "metadata": {},
   "source": [
    "* 2018년 1분기의 경우 1월 1일 부터 3월 31일까지의 모든 데이터를 표시한 것이다."
   ]
  },
  {
   "cell_type": "markdown",
   "id": "67175d83",
   "metadata": {},
   "source": [
    "### 년,월 데이터 살피기"
   ]
  },
  {
   "cell_type": "markdown",
   "id": "ac7dbc52",
   "metadata": {},
   "source": [
    "#### 레이블 마커 조절 1"
   ]
  },
  {
   "cell_type": "markdown",
   "id": "3631e72e",
   "metadata": {},
   "source": [
    "<img src = \"ch1-21.png\" width = \"250\">"
   ]
  },
  {
   "cell_type": "markdown",
   "id": "0eb06ec3",
   "metadata": {},
   "source": [
    "<img src = \"ch1-22.png\" width = \"550\">"
   ]
  },
  {
   "cell_type": "markdown",
   "id": "019c7557",
   "metadata": {},
   "source": [
    "#### 레이블 마커 조절 2"
   ]
  },
  {
   "cell_type": "markdown",
   "id": "40bc83bc",
   "metadata": {},
   "source": [
    "`-` step1 : 마커에서 레이블 옵션 중 하이라이트 선택"
   ]
  },
  {
   "cell_type": "markdown",
   "id": "bf99645b",
   "metadata": {},
   "source": [
    "<img src = \"ch1-23.png\" width = \"150\">"
   ]
  },
  {
   "cell_type": "markdown",
   "id": "5d2abdc1",
   "metadata": {},
   "source": [
    "`-` step2 : 하이라이트 표시 선택"
   ]
  },
  {
   "cell_type": "markdown",
   "id": "a07382a9",
   "metadata": {},
   "source": [
    "<img src = \"ch1-24.png\" width = \"150\">"
   ]
  },
  {
   "cell_type": "markdown",
   "id": "9873fbcf",
   "metadata": {},
   "source": [
    "`-` 결과 확인"
   ]
  },
  {
   "cell_type": "markdown",
   "id": "d0aedaf7",
   "metadata": {},
   "source": [
    "<img src = \"ch1-25.png\" width = \"550\">"
   ]
  },
  {
   "cell_type": "markdown",
   "id": "f6722513",
   "metadata": {},
   "source": [
    "#### 평균 라인 추가"
   ]
  },
  {
   "cell_type": "markdown",
   "id": "85de3c40",
   "metadata": {},
   "source": [
    "`-` 연도별 평균"
   ]
  },
  {
   "cell_type": "markdown",
   "id": "7493380b",
   "metadata": {},
   "source": [
    "step 1. 분석 패널에서 평균라인을 panel로 드래그"
   ]
  },
  {
   "cell_type": "markdown",
   "id": "e33c7b2a",
   "metadata": {},
   "source": [
    "step 2. 평균 라인 우클릭 후 편집창에서 다음과 같이 편집"
   ]
  },
  {
   "cell_type": "markdown",
   "id": "512607a5",
   "metadata": {},
   "source": [
    "<img src = \"ch1-26.png\" width = \"350\">"
   ]
  },
  {
   "cell_type": "markdown",
   "id": "6e2bf9e4",
   "metadata": {},
   "source": [
    "<계산> = <값> $\\to$ `<Computation> = <Value>`"
   ]
  },
  {
   "cell_type": "markdown",
   "id": "2185210f",
   "metadata": {},
   "source": [
    "step 3. 결과확인"
   ]
  },
  {
   "cell_type": "markdown",
   "id": "d074cadc",
   "metadata": {},
   "source": [
    "<img src = \"ch1-27.png\" width = \"850\" height = \"1000\">"
   ]
  },
  {
   "cell_type": "markdown",
   "id": "f9bf5eb3",
   "metadata": {},
   "source": [
    "## Summary"
   ]
  },
  {
   "cell_type": "markdown",
   "id": "c1bd7a43",
   "metadata": {},
   "source": [
    "`-` 파란색필드 = 불연속형 = 개별적(패널)으로 구분"
   ]
  },
  {
   "cell_type": "markdown",
   "id": "e15c8802",
   "metadata": {},
   "source": [
    "* 뷰에 추가하면 머리글을 표시"
   ]
  },
  {
   "cell_type": "markdown",
   "id": "27f7937a",
   "metadata": {},
   "source": [
    "`-` 초록색필드 = 연속형"
   ]
  },
  {
   "cell_type": "markdown",
   "id": "b2682c65",
   "metadata": {},
   "source": [
    "* 뷰에 추가하면 축을 추가한다."
   ]
  },
  {
   "cell_type": "markdown",
   "id": "d7d20901",
   "metadata": {},
   "source": [
    "# Quiz"
   ]
  },
  {
   "cell_type": "markdown",
   "id": "846b6d6e",
   "metadata": {},
   "source": [
    "## (1) 데이터 리터러시와 가장 관련이 없는 키워드는 무엇일까요?"
   ]
  },
  {
   "cell_type": "markdown",
   "id": "5aa6d83e",
   "metadata": {},
   "source": [
    "* 협업 (Collaboration)\n",
    "\n",
    "* 탐색 (Explore)\n",
    "\n",
    "* 보기 (See)\n",
    "\n",
    "* 공유 (Share)\n",
    "\n",
    "* 대화 (Communication)"
   ]
  },
  {
   "cell_type": "markdown",
   "id": "54a7b068",
   "metadata": {},
   "source": [
    "**정답 : 보기**"
   ]
  },
  {
   "cell_type": "markdown",
   "id": "c6bae726",
   "metadata": {},
   "source": [
    "## (2) 다음 중 태블로가 지닌 장점과 거리가 먼 것은?\n",
    "\n",
    "* 끌어다 놓기 (Drag & Drop)만으로 시각화 가능\n",
    "\n",
    "* 데이터 원본이 없는 사람은 어떤 경우에도 태블로 워크북을 오픈할 수 없어 보안에 강함\n",
    "\n",
    "* 다양한 시각적 표현 가능\n",
    "\n",
    "* 데이터 원본에 없는 필드 생성\n",
    "\n",
    "* 모바일 디바이스에 맞게 제작해서 이동중에도 KPI를 살펴볼 수 있음"
   ]
  },
  {
   "cell_type": "markdown",
   "id": "82d7b589",
   "metadata": {},
   "source": [
    "**정답 : 데이터 원본이 없는 사람은 어떤 경우에도 태블로 워크북을 오픈할 수 없어 보안에 강함**"
   ]
  },
  {
   "cell_type": "markdown",
   "id": "0301a47d",
   "metadata": {},
   "source": [
    "## (3) 다음 중 완전 무료 완전 공개 형태로 전 세계 태블로 유저들이 만든 Viz를 누구나 볼 수 있는 태블로 제품은 무엇인가요?\n",
    "\n",
    "* 태블로 프렙\n",
    "\n",
    "* 태블로 서버\n",
    "\n",
    "* 태블로 데스크탑\n",
    "\n",
    "* 태블로 뷰어\n",
    "\n",
    "* 태블로 퍼블릭"
   ]
  },
  {
   "cell_type": "markdown",
   "id": "76b91729",
   "metadata": {},
   "source": [
    "**정답 : 테블로 퍼블릭**"
   ]
  },
  {
   "cell_type": "markdown",
   "id": "7015ea9f",
   "metadata": {},
   "source": [
    "## (4) 다음 중 측정값에 대한 설명 중 틀린 것을 고르시오\n",
    "\n",
    "* 차트를 나누어서 보는 기준\n",
    "\n",
    "* 액션 (더블클릭 또는 드래그앤드롭)에 따라 한 덩어리로 만들어짐\n",
    "\n",
    "* 기본 속성의 집계 설정 가능\n",
    "\n",
    "* 일반적으로 숫자 형식"
   ]
  },
  {
   "cell_type": "markdown",
   "id": "b65ecbe7",
   "metadata": {},
   "source": [
    "**정답 : 차트를 나누어서 보는 기준**"
   ]
  },
  {
   "cell_type": "markdown",
   "id": "60ff9efa",
   "metadata": {},
   "source": [
    "## (5) 다음 중 태블로에서 기본적으로 측정값에 배치되는 필드 예시를 고르시오\n",
    "\n",
    "* 지역명\n",
    "\n",
    "* 구매 날짜\n",
    "\n",
    "* 시험 점수\n",
    "\n",
    "* 사람 이름\n",
    "\n",
    "* 그룹"
   ]
  },
  {
   "cell_type": "markdown",
   "id": "d84168d6",
   "metadata": {},
   "source": [
    "**정답 : 시험 점수**"
   ]
  },
  {
   "cell_type": "markdown",
   "id": "6365c04b",
   "metadata": {},
   "source": [
    "## (6) 막대 차트가 많이 활용되는 이유를 모두 고르시오\n",
    "\n",
    "* 항목별로 나누어서 보는데 적합함\n",
    "* 더블 클릭으로 쉽게 만들 수 있음\n",
    "* 순위를 보는데 유용함\n",
    "* 크기를 다르게 설정해서 살펴보는데 적합함"
   ]
  },
  {
   "cell_type": "markdown",
   "id": "1bd79383",
   "metadata": {},
   "source": [
    "**정답 : 항목별로 나누어서 보는데 적합함, 더블 클릭으로 쉽게 만들 수 있음, 순위를 보는데 유용함**"
   ]
  },
  {
   "cell_type": "markdown",
   "id": "2ee7d1ce",
   "metadata": {},
   "source": [
    "## (7) 다음 중 불연속형 속성에 대한 것을 모두 고르시오\n",
    "\n",
    "* 단절이 없고 범위가 무한대로 이어짐\n",
    "\n",
    "* 색상 마크에 올리면 그라데이션 다중색이 반영됨\n",
    "\n",
    "* 뷰에 추가하면 머리글이 생성됨\n",
    "\n",
    "* 필드 색상은 파란색"
   ]
  },
  {
   "cell_type": "markdown",
   "id": "e0ffa32f",
   "metadata": {},
   "source": [
    "**정답 : 필드 색상은 파란색, 뷰에 추가하면 머리글이 생성됨**"
   ]
  },
  {
   "cell_type": "markdown",
   "id": "2563ec99",
   "metadata": {},
   "source": [
    "## (8) 다음 중 연속형 속성에 대한 것을 모두 고르시오\n",
    "\n",
    "* 필드 색상은 초록색임\n",
    "\n",
    "* 날짜 타입의 필드의 기본 함수가 DATETRUNC임\n",
    "\n",
    "* 날짜 타입의 필드의 기본 함수가 DATEPART임\n",
    "\n",
    "* 연속형 분기는 1,2,3,4 분기 4가지가 전부임\n",
    "\n",
    "* 뷰에 추가하면 축을 가져옴"
   ]
  },
  {
   "cell_type": "markdown",
   "id": "fa4a92af",
   "metadata": {},
   "source": [
    "**정답 : 필드 색상은 초록색임, 날짜 타입의 필드의 기본 함수가 DATETRUNC임, 뷰에 추가하면 축을 가져옴**"
   ]
  },
  {
   "cell_type": "markdown",
   "id": "f2a55907",
   "metadata": {},
   "source": [
    "## (9) 다음 중 라인 차트에 대한 설명으로 알맞은 것을 고르시오\n",
    "\n",
    "* 맵 차트와 이중 축으로 표현할 때 유용함\n",
    "\n",
    "* 날짜 타입에 따라 불연속형과 연속형 형태로 설정이 가능함\n",
    "\n",
    "* 부분 전체 분석에 유용함\n",
    "\n",
    "* 날짜 타입의 필드를 맨 처음 더블 클릭하면 행 선반에 배치됨"
   ]
  },
  {
   "cell_type": "markdown",
   "id": "b4469043",
   "metadata": {},
   "source": [
    "**정답 : 부분 전체 분석에 유용함**"
   ]
  },
  {
   "cell_type": "markdown",
   "id": "0630c9a5",
   "metadata": {},
   "source": [
    "## (10) 다음 중 평균 라인을 불러올 수 있는 곳을 고르시오\n",
    "\n",
    "* 데이터 패널\n",
    "\n",
    "* 분석 패널\n",
    "\n",
    "* 맵 메뉴\n",
    "\n",
    "* 데이터 원본 페이지"
   ]
  },
  {
   "cell_type": "markdown",
   "id": "85b3c8d5",
   "metadata": {},
   "source": [
    "**정답 : 분석 패널**"
   ]
  }
 ],
 "metadata": {
  "kernelspec": {
   "display_name": "Python 3 (ipykernel)",
   "language": "python",
   "name": "python3"
  },
  "language_info": {
   "codemirror_mode": {
    "name": "ipython",
    "version": 3
   },
   "file_extension": ".py",
   "mimetype": "text/x-python",
   "name": "python",
   "nbconvert_exporter": "python",
   "pygments_lexer": "ipython3",
   "version": "3.9.13"
  },
  "toc": {
   "base_numbering": 1,
   "nav_menu": {},
   "number_sections": false,
   "sideBar": true,
   "skip_h1_title": false,
   "title_cell": "Table of Contents",
   "title_sidebar": "Contents",
   "toc_cell": false,
   "toc_position": {
    "height": "calc(100% - 180px)",
    "left": "10px",
    "top": "150px",
    "width": "246.663px"
   },
   "toc_section_display": true,
   "toc_window_display": true
  }
 },
 "nbformat": 4,
 "nbformat_minor": 5
}
