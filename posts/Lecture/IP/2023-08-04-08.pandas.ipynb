{
 "cells": [
  {
   "cell_type": "raw",
   "id": "84c51a72-6cad-44dc-abca-8973992daf4f",
   "metadata": {},
   "source": [
    "---\n",
    "title : \"08. pandas\"\n",
    "date : \"08/04/23\"\n",
    "categories : [\"Python\"]\n",
    "author : \"GANGCHEOL LEE\"\n",
    "---"
   ]
  },
  {
   "cell_type": "code",
   "execution_count": 1,
   "id": "e45f2a9e-4119-43e1-9edc-dad0ccc15129",
   "metadata": {},
   "outputs": [],
   "source": [
    "import pandas as pd\n",
    "import numpy as np"
   ]
  },
  {
   "cell_type": "markdown",
   "id": "cf0b9a7b-dd9f-4070-beb7-5a02dfbfdc88",
   "metadata": {},
   "source": [
    "## pandas 개발"
   ]
  },
  {
   "cell_type": "code",
   "execution_count": 8,
   "id": "cc2dce29-7fab-4b2b-aa80-88d72f71ae4d",
   "metadata": {},
   "outputs": [],
   "source": [
    "att = np.random.choice(np.arange(10,21)*5,20)\n",
    "\n",
    "rep = np.random.choice(np.arange(5,21)*5,20)\n",
    "mid = np.random.choice(np.arange(0,21)*5,20)\n",
    "fin =  np.random.choice(np.arange(0,21)*5,20)\n",
    "\n",
    "key = [\"2022-12\" + str(s) for s in np.random.choice(np.arange(300,501),20,replace=False)]"
   ]
  },
  {
   "cell_type": "markdown",
   "id": "547b91ee-6d20-4761-8dcb-7eece6c84dec",
   "metadata": {},
   "source": [
    "학번이 `2022-12350`에 해당하는 학생의 출석점수를 알고 싶다."
   ]
  },
  {
   "cell_type": "markdown",
   "id": "d2081f80-882b-426b-93d4-f94831201787",
   "metadata": {},
   "source": [
    "(풀이1) - dct로 자료를 저장하고 출력"
   ]
  },
  {
   "cell_type": "code",
   "execution_count": 14,
   "id": "a0912adf-d1f1-48ff-acd3-bf6a03fa0760",
   "metadata": {},
   "outputs": [],
   "source": [
    "dct = {\"att\": {key[i]:att[i] for i in range(20)},\n",
    "      \"rep\": {key[i]:rep[i] for i in range(20)},\n",
    "      \"mid\": {key[i]:mid[i] for i in range(20)},\n",
    "      \"fin\": {key[i]:fin[i] for i in range(20)},\n",
    "      }"
   ]
  },
  {
   "cell_type": "code",
   "execution_count": 18,
   "id": "bb39153c-01a3-41d3-b4b5-cef4518368e0",
   "metadata": {},
   "outputs": [
    {
     "data": {
      "text/plain": [
       "100"
      ]
     },
     "execution_count": 18,
     "metadata": {},
     "output_type": "execute_result"
    }
   ],
   "source": [
    "dct[\"att\"][\"2022-12350\"]"
   ]
  },
  {
   "cell_type": "markdown",
   "id": "0db16b60-2c6b-4554-9f1c-f3160eeb315e",
   "metadata": {},
   "source": [
    "(풀이2)-ndarray로 자료를 저장하고 출력"
   ]
  },
  {
   "cell_type": "code",
   "execution_count": 20,
   "id": "1aed7928-23ca-4d56-9073-0b49ad50b3c4",
   "metadata": {},
   "outputs": [
    {
     "data": {
      "text/plain": [
       "array([['75', '55', '60', '2022-12436'],\n",
       "       ['55', '80', '70', '2022-12408'],\n",
       "       ['50', '100', '100', '2022-12390'],\n",
       "       ['75', '45', '85', '2022-12325'],\n",
       "       ['60', '65', '80', '2022-12392'],\n",
       "       ['70', '95', '50', '2022-12450'],\n",
       "       ['70', '45', '75', '2022-12428'],\n",
       "       ['75', '55', '45', '2022-12393'],\n",
       "       ['100', '55', '20', '2022-12446'],\n",
       "       ['85', '45', '15', '2022-12421'],\n",
       "       ['90', '30', '100', '2022-12329'],\n",
       "       ['100', '70', '10', '2022-12350'],\n",
       "       ['75', '25', '95', '2022-12426'],\n",
       "       ['85', '65', '85', '2022-12335'],\n",
       "       ['80', '95', '95', '2022-12442'],\n",
       "       ['95', '85', '10', '2022-12331'],\n",
       "       ['70', '30', '0', '2022-12453'],\n",
       "       ['50', '85', '20', '2022-12422'],\n",
       "       ['60', '40', '65', '2022-12466'],\n",
       "       ['75', '90', '30', '2022-12347']], dtype='<U11')"
      ]
     },
     "execution_count": 20,
     "metadata": {},
     "output_type": "execute_result"
    }
   ],
   "source": [
    "arr = np.array([att,rep,fin,key]).T\n",
    "arr"
   ]
  },
  {
   "cell_type": "code",
   "execution_count": 28,
   "id": "2e5b042c-de49-429b-a3a2-901b2173f109",
   "metadata": {},
   "outputs": [
    {
     "data": {
      "text/plain": [
       "array(['100'], dtype='<U11')"
      ]
     },
     "execution_count": 28,
     "metadata": {},
     "output_type": "execute_result"
    }
   ],
   "source": [
    "arr[arr[:,-1]==\"2022-12350\",0]"
   ]
  },
  {
   "cell_type": "markdown",
   "id": "c292aa44-136a-40fe-a902-3dd5fc05f2d3",
   "metadata": {},
   "source": [
    "**풀이2의 불편한점**"
   ]
  },
  {
   "cell_type": "markdown",
   "id": "a5502a9d-a0c3-4ecc-8c9c-eb5d83fa1fd7",
   "metadata": {},
   "source": [
    "* 마지막 컬럼이 학번이고 첫번째 칼럼이 att라는 사실을 암기하고 있어야함"
   ]
  },
  {
   "cell_type": "markdown",
   "id": "08686167-74bb-4dfa-95fe-e580a9b85f30",
   "metadata": {},
   "source": [
    "* 자료형이 문자로 강제로 바뀌어서 저장되어 있음"
   ]
  },
  {
   "cell_type": "markdown",
   "id": "7f6e6137-0f88-4b87-b13e-63a6bba8ae16",
   "metadata": {},
   "source": [
    "* 또한, 코드의 가독성이 없음(위치로 접근하기 때문)"
   ]
  },
  {
   "cell_type": "markdown",
   "id": "8fe08a05-2b82-4fa8-afdd-a955193dc069",
   "metadata": {},
   "source": [
    "* pandas는 hash스타일의 key값을 제공하고 numpy스타일로 정보를 뽑을 수 도 있도록 만들어졌다."
   ]
  },
  {
   "cell_type": "markdown",
   "id": "aa95b3e6-7fa3-4436-9651-5f4cef7e7056",
   "metadata": {},
   "source": [
    "## 엑셀처럼..."
   ]
  },
  {
   "cell_type": "code",
   "execution_count": 31,
   "id": "3f2bb46d-024e-4062-ae6f-15132d3e6592",
   "metadata": {},
   "outputs": [
    {
     "data": {
      "text/html": [
       "<div>\n",
       "<style scoped>\n",
       "    .dataframe tbody tr th:only-of-type {\n",
       "        vertical-align: middle;\n",
       "    }\n",
       "\n",
       "    .dataframe tbody tr th {\n",
       "        vertical-align: top;\n",
       "    }\n",
       "\n",
       "    .dataframe thead th {\n",
       "        text-align: right;\n",
       "    }\n",
       "</style>\n",
       "<table border=\"1\" class=\"dataframe\">\n",
       "  <thead>\n",
       "    <tr style=\"text-align: right;\">\n",
       "      <th></th>\n",
       "      <th>att</th>\n",
       "      <th>rep</th>\n",
       "      <th>mid</th>\n",
       "      <th>fin</th>\n",
       "    </tr>\n",
       "  </thead>\n",
       "  <tbody>\n",
       "    <tr>\n",
       "      <th>2022-12436</th>\n",
       "      <td>75</td>\n",
       "      <td>55</td>\n",
       "      <td>70</td>\n",
       "      <td>60</td>\n",
       "    </tr>\n",
       "    <tr>\n",
       "      <th>2022-12408</th>\n",
       "      <td>55</td>\n",
       "      <td>80</td>\n",
       "      <td>10</td>\n",
       "      <td>70</td>\n",
       "    </tr>\n",
       "    <tr>\n",
       "      <th>2022-12390</th>\n",
       "      <td>50</td>\n",
       "      <td>100</td>\n",
       "      <td>80</td>\n",
       "      <td>100</td>\n",
       "    </tr>\n",
       "    <tr>\n",
       "      <th>2022-12325</th>\n",
       "      <td>75</td>\n",
       "      <td>45</td>\n",
       "      <td>85</td>\n",
       "      <td>85</td>\n",
       "    </tr>\n",
       "    <tr>\n",
       "      <th>2022-12392</th>\n",
       "      <td>60</td>\n",
       "      <td>65</td>\n",
       "      <td>90</td>\n",
       "      <td>80</td>\n",
       "    </tr>\n",
       "  </tbody>\n",
       "</table>\n",
       "</div>"
      ],
      "text/plain": [
       "            att  rep  mid  fin\n",
       "2022-12436   75   55   70   60\n",
       "2022-12408   55   80   10   70\n",
       "2022-12390   50  100   80  100\n",
       "2022-12325   75   45   85   85\n",
       "2022-12392   60   65   90   80"
      ]
     },
     "execution_count": 31,
     "metadata": {},
     "output_type": "execute_result"
    }
   ],
   "source": [
    "pd.DataFrame(dct).head()"
   ]
  },
  {
   "cell_type": "code",
   "execution_count": 40,
   "id": "eee0f7c2-3c50-4a39-9b29-5bfa6cc65947",
   "metadata": {},
   "outputs": [
    {
     "data": {
      "text/html": [
       "<div>\n",
       "<style scoped>\n",
       "    .dataframe tbody tr th:only-of-type {\n",
       "        vertical-align: middle;\n",
       "    }\n",
       "\n",
       "    .dataframe tbody tr th {\n",
       "        vertical-align: top;\n",
       "    }\n",
       "\n",
       "    .dataframe thead th {\n",
       "        text-align: right;\n",
       "    }\n",
       "</style>\n",
       "<table border=\"1\" class=\"dataframe\">\n",
       "  <thead>\n",
       "    <tr style=\"text-align: right;\">\n",
       "      <th></th>\n",
       "      <th>att</th>\n",
       "      <th>rep</th>\n",
       "      <th>mid</th>\n",
       "      <th>fin</th>\n",
       "    </tr>\n",
       "  </thead>\n",
       "  <tbody>\n",
       "    <tr>\n",
       "      <th>2022-12436</th>\n",
       "      <td>75</td>\n",
       "      <td>55</td>\n",
       "      <td>70</td>\n",
       "      <td>60</td>\n",
       "    </tr>\n",
       "    <tr>\n",
       "      <th>2022-12408</th>\n",
       "      <td>55</td>\n",
       "      <td>80</td>\n",
       "      <td>10</td>\n",
       "      <td>70</td>\n",
       "    </tr>\n",
       "    <tr>\n",
       "      <th>2022-12390</th>\n",
       "      <td>50</td>\n",
       "      <td>100</td>\n",
       "      <td>80</td>\n",
       "      <td>100</td>\n",
       "    </tr>\n",
       "    <tr>\n",
       "      <th>2022-12325</th>\n",
       "      <td>75</td>\n",
       "      <td>45</td>\n",
       "      <td>85</td>\n",
       "      <td>85</td>\n",
       "    </tr>\n",
       "    <tr>\n",
       "      <th>2022-12392</th>\n",
       "      <td>60</td>\n",
       "      <td>65</td>\n",
       "      <td>90</td>\n",
       "      <td>80</td>\n",
       "    </tr>\n",
       "  </tbody>\n",
       "</table>\n",
       "</div>"
      ],
      "text/plain": [
       "            att  rep  mid  fin\n",
       "2022-12436   75   55   70   60\n",
       "2022-12408   55   80   10   70\n",
       "2022-12390   50  100   80  100\n",
       "2022-12325   75   45   85   85\n",
       "2022-12392   60   65   90   80"
      ]
     },
     "execution_count": 40,
     "metadata": {},
     "output_type": "execute_result"
    }
   ],
   "source": [
    "df = pd.DataFrame({\"att\":att,\n",
    "              \"rep\":rep,\n",
    "              \"mid\": mid,\n",
    "              \"fin\":fin},index=key)\n",
    "df.head()"
   ]
  },
  {
   "cell_type": "markdown",
   "id": "5ea5334d-4847-4e95-be03-95774e936e41",
   "metadata": {},
   "source": [
    "## 출석점수 출력"
   ]
  },
  {
   "cell_type": "code",
   "execution_count": 42,
   "id": "de5416a7-1618-40ab-af41-8f14438019c5",
   "metadata": {},
   "outputs": [
    {
     "data": {
      "text/plain": [
       "75"
      ]
     },
     "execution_count": 42,
     "metadata": {},
     "output_type": "execute_result"
    }
   ],
   "source": [
    "df[\"att\"][\"2022-12436\"]"
   ]
  },
  {
   "cell_type": "code",
   "execution_count": 46,
   "id": "a6075d91-6fb6-4057-9b48-6a46c682d129",
   "metadata": {},
   "outputs": [
    {
     "data": {
      "text/plain": [
       "75"
      ]
     },
     "execution_count": 46,
     "metadata": {},
     "output_type": "execute_result"
    }
   ],
   "source": [
    "df.loc[\"2022-12436\",\"att\"]"
   ]
  },
  {
   "cell_type": "markdown",
   "id": "61f3095e-2ffe-4f4b-b229-a5c3da0fcb1f",
   "metadata": {},
   "source": [
    "## 해싱 + 인덱싱"
   ]
  },
  {
   "cell_type": "markdown",
   "id": "afa8bc9a-b803-48b3-ba0d-187f9afdf117",
   "metadata": {},
   "source": [
    "### ex1 "
   ]
  },
  {
   "cell_type": "markdown",
   "id": "2d7f36fb-6b3b-4bdf-8555-bb2237ff56de",
   "metadata": {},
   "source": [
    "`-` 예제1 : \"mid 20 >= and att<60\"인 학생들의 \"fin\" 출력"
   ]
  },
  {
   "cell_type": "markdown",
   "id": "0b98e7d6-ac2a-4acb-b3af-269b327aca23",
   "metadata": {},
   "source": [
    "#### sol1. 데이터베이스 스타일"
   ]
  },
  {
   "cell_type": "code",
   "execution_count": 49,
   "id": "0422ff55-efc4-41c5-b6ce-ad544a312df6",
   "metadata": {},
   "outputs": [
    {
     "data": {
      "text/plain": [
       "2022-12390    100\n",
       "2022-12422     20\n",
       "Name: fin, dtype: int32"
      ]
     },
     "execution_count": 49,
     "metadata": {},
     "output_type": "execute_result"
    }
   ],
   "source": [
    "df.query(\"mid >=20 and att<60\")[\"fin\"]"
   ]
  },
  {
   "cell_type": "markdown",
   "id": "2eaed01d-4338-4be9-9586-81abe576a03c",
   "metadata": {},
   "source": [
    "#### sol2. numpy"
   ]
  },
  {
   "cell_type": "code",
   "execution_count": 52,
   "id": "8c91ec16-ac3c-4802-8006-7d4ed167d1b0",
   "metadata": {},
   "outputs": [
    {
     "data": {
      "text/plain": [
       "array(['70', '100', '20'], dtype='<U11')"
      ]
     },
     "execution_count": 52,
     "metadata": {},
     "output_type": "execute_result"
    }
   ],
   "source": [
    "arr[(arr[:,2].astype(dtype=np.int64) >= 20) & (arr[:,0].astype(dtype=np.int64) < 60),2]"
   ]
  },
  {
   "cell_type": "markdown",
   "id": "7a5e93ec-10e1-47a4-8e2f-41a0e7839221",
   "metadata": {},
   "source": [
    "### ex2"
   ]
  },
  {
   "cell_type": "markdown",
   "id": "f7dd6205-711b-4a5a-a049-dbdb5b6a2a01",
   "metadata": {},
   "source": [
    "`-` 중간고사<기말고사 인학생들의 출석점수 평균"
   ]
  },
  {
   "cell_type": "code",
   "execution_count": 53,
   "id": "082459d6-e4fd-4319-8cb6-b201dac54028",
   "metadata": {},
   "outputs": [
    {
     "data": {
      "text/plain": [
       "72.14285714285714"
      ]
     },
     "execution_count": 53,
     "metadata": {},
     "output_type": "execute_result"
    }
   ],
   "source": [
    "df.query(\"mid<fin\")[\"att\"].mean()"
   ]
  },
  {
   "cell_type": "markdown",
   "id": "6f84e526-775d-4e82-87d4-6e8ab5af3550",
   "metadata": {},
   "source": [
    "## Exercise"
   ]
  },
  {
   "cell_type": "markdown",
   "id": "df5c88fc-99af-449c-a644-ec0fcca0e118",
   "metadata": {},
   "source": [
    "## (1) 아래와 같은 데이터 프레임을 선언"
   ]
  },
  {
   "cell_type": "code",
   "execution_count": 56,
   "id": "cdc62466-2436-44c3-b19a-7c4b9f8b5fa8",
   "metadata": {},
   "outputs": [
    {
     "data": {
      "text/html": [
       "<table border=\"1\" class=\"dataframe\">\n",
       "  <thead>\n",
       "    <tr style=\"text-align: right;\">\n",
       "      <th></th>\n",
       "      <th>A</th>\n",
       "      <th>B</th>\n",
       "    </tr>\n",
       "  </thead>\n",
       "  <tbody>\n",
       "    <tr>\n",
       "      <th>0</th>\n",
       "      <td>1</td>\n",
       "      <td>-2</td>\n",
       "    </tr>\n",
       "    <tr>\n",
       "      <th>1</th>\n",
       "      <td>2</td>\n",
       "      <td>-3</td>\n",
       "    </tr>\n",
       "    <tr>\n",
       "      <th>2</th>\n",
       "      <td>3</td>\n",
       "      <td>-4</td>\n",
       "    </tr>\n",
       "  </tbody>\n",
       "</table>"
      ],
      "text/plain": [
       "<IPython.core.display.HTML object>"
      ]
     },
     "execution_count": 56,
     "metadata": {},
     "output_type": "execute_result"
    }
   ],
   "source": [
    "# | code-fold: true\n",
    "from IPython.core.display import HTML \n",
    "HTML('<table border=\"1\" class=\"dataframe\">\\n  <thead>\\n    <tr style=\"text-align: right;\">\\n      <th></th>\\n      <th>A</th>\\n      <th>B</th>\\n    </tr>\\n  </thead>\\n  <tbody>\\n    <tr>\\n      <th>0</th>\\n      <td>1</td>\\n      <td>-2</td>\\n    </tr>\\n    <tr>\\n      <th>1</th>\\n      <td>2</td>\\n      <td>-3</td>\\n    </tr>\\n    <tr>\\n      <th>2</th>\\n      <td>3</td>\\n      <td>-4</td>\\n    </tr>\\n  </tbody>\\n</table>')"
   ]
  },
  {
   "cell_type": "markdown",
   "id": "f428284a-b601-49ea-a136-574fac5f4ddf",
   "metadata": {},
   "source": [
    "### sol"
   ]
  },
  {
   "cell_type": "code",
   "execution_count": 59,
   "id": "42b2c559-1a64-41e0-b5d6-2a7f0a2484a2",
   "metadata": {},
   "outputs": [],
   "source": [
    "df = pd.DataFrame({\"A\":[1,2,3],\"B\" : [-2,-3,-4]})"
   ]
  },
  {
   "cell_type": "code",
   "execution_count": 60,
   "id": "2faf993c-67fd-40f8-bf23-a3c48276ffef",
   "metadata": {},
   "outputs": [
    {
     "data": {
      "text/html": [
       "<div>\n",
       "<style scoped>\n",
       "    .dataframe tbody tr th:only-of-type {\n",
       "        vertical-align: middle;\n",
       "    }\n",
       "\n",
       "    .dataframe tbody tr th {\n",
       "        vertical-align: top;\n",
       "    }\n",
       "\n",
       "    .dataframe thead th {\n",
       "        text-align: right;\n",
       "    }\n",
       "</style>\n",
       "<table border=\"1\" class=\"dataframe\">\n",
       "  <thead>\n",
       "    <tr style=\"text-align: right;\">\n",
       "      <th></th>\n",
       "      <th>A</th>\n",
       "      <th>B</th>\n",
       "    </tr>\n",
       "  </thead>\n",
       "  <tbody>\n",
       "    <tr>\n",
       "      <th>0</th>\n",
       "      <td>1</td>\n",
       "      <td>-2</td>\n",
       "    </tr>\n",
       "    <tr>\n",
       "      <th>1</th>\n",
       "      <td>2</td>\n",
       "      <td>-3</td>\n",
       "    </tr>\n",
       "    <tr>\n",
       "      <th>2</th>\n",
       "      <td>3</td>\n",
       "      <td>-4</td>\n",
       "    </tr>\n",
       "  </tbody>\n",
       "</table>\n",
       "</div>"
      ],
      "text/plain": [
       "   A  B\n",
       "0  1 -2\n",
       "1  2 -3\n",
       "2  3 -4"
      ]
     },
     "execution_count": 60,
     "metadata": {},
     "output_type": "execute_result"
    }
   ],
   "source": [
    "df"
   ]
  },
  {
   "cell_type": "markdown",
   "id": "55f08cf3-c11f-43c1-8734-88ac523931d2",
   "metadata": {},
   "source": [
    "## (2) 컬럼이름을 X1,X2로 변경"
   ]
  },
  {
   "cell_type": "markdown",
   "id": "6c70d81a-d0f8-4719-978a-cfbade92c149",
   "metadata": {},
   "source": [
    "### sol"
   ]
  },
  {
   "cell_type": "code",
   "execution_count": 61,
   "id": "7c50cb10-818f-4cca-ae86-7218a755676f",
   "metadata": {},
   "outputs": [],
   "source": [
    "df.columns = [\"X1\",\"X2\"]"
   ]
  },
  {
   "cell_type": "code",
   "execution_count": 62,
   "id": "0432ded9-33a7-4a18-b83c-6f7278341e0b",
   "metadata": {},
   "outputs": [
    {
     "data": {
      "text/html": [
       "<div>\n",
       "<style scoped>\n",
       "    .dataframe tbody tr th:only-of-type {\n",
       "        vertical-align: middle;\n",
       "    }\n",
       "\n",
       "    .dataframe tbody tr th {\n",
       "        vertical-align: top;\n",
       "    }\n",
       "\n",
       "    .dataframe thead th {\n",
       "        text-align: right;\n",
       "    }\n",
       "</style>\n",
       "<table border=\"1\" class=\"dataframe\">\n",
       "  <thead>\n",
       "    <tr style=\"text-align: right;\">\n",
       "      <th></th>\n",
       "      <th>X1</th>\n",
       "      <th>X2</th>\n",
       "    </tr>\n",
       "  </thead>\n",
       "  <tbody>\n",
       "    <tr>\n",
       "      <th>0</th>\n",
       "      <td>1</td>\n",
       "      <td>-2</td>\n",
       "    </tr>\n",
       "    <tr>\n",
       "      <th>1</th>\n",
       "      <td>2</td>\n",
       "      <td>-3</td>\n",
       "    </tr>\n",
       "    <tr>\n",
       "      <th>2</th>\n",
       "      <td>3</td>\n",
       "      <td>-4</td>\n",
       "    </tr>\n",
       "  </tbody>\n",
       "</table>\n",
       "</div>"
      ],
      "text/plain": [
       "   X1  X2\n",
       "0   1  -2\n",
       "1   2  -3\n",
       "2   3  -4"
      ]
     },
     "execution_count": 62,
     "metadata": {},
     "output_type": "execute_result"
    }
   ],
   "source": [
    "df"
   ]
  },
  {
   "cell_type": "markdown",
   "id": "4cae0f9c-c367-4faf-87b2-62d03c3aa0c2",
   "metadata": {},
   "source": [
    "## (3) 다음 데이터 프레임에서 B,D열을 선택"
   ]
  },
  {
   "cell_type": "code",
   "execution_count": 63,
   "id": "8c176929-bb43-4503-85dc-84b1625e663e",
   "metadata": {},
   "outputs": [
    {
     "data": {
      "text/html": [
       "<div>\n",
       "<style scoped>\n",
       "    .dataframe tbody tr th:only-of-type {\n",
       "        vertical-align: middle;\n",
       "    }\n",
       "\n",
       "    .dataframe tbody tr th {\n",
       "        vertical-align: top;\n",
       "    }\n",
       "\n",
       "    .dataframe thead th {\n",
       "        text-align: right;\n",
       "    }\n",
       "</style>\n",
       "<table border=\"1\" class=\"dataframe\">\n",
       "  <thead>\n",
       "    <tr style=\"text-align: right;\">\n",
       "      <th></th>\n",
       "      <th>A</th>\n",
       "      <th>B</th>\n",
       "      <th>C</th>\n",
       "      <th>D</th>\n",
       "      <th>E</th>\n",
       "    </tr>\n",
       "  </thead>\n",
       "  <tbody>\n",
       "    <tr>\n",
       "      <th>0</th>\n",
       "      <td>0.248865</td>\n",
       "      <td>0.895611</td>\n",
       "      <td>0.089525</td>\n",
       "      <td>0.976961</td>\n",
       "      <td>-0.907373</td>\n",
       "    </tr>\n",
       "    <tr>\n",
       "      <th>1</th>\n",
       "      <td>-1.541892</td>\n",
       "      <td>-0.113904</td>\n",
       "      <td>-1.506780</td>\n",
       "      <td>0.145914</td>\n",
       "      <td>-0.039179</td>\n",
       "    </tr>\n",
       "    <tr>\n",
       "      <th>2</th>\n",
       "      <td>0.618049</td>\n",
       "      <td>0.464153</td>\n",
       "      <td>1.212350</td>\n",
       "      <td>0.701788</td>\n",
       "      <td>-1.077556</td>\n",
       "    </tr>\n",
       "    <tr>\n",
       "      <th>3</th>\n",
       "      <td>0.893047</td>\n",
       "      <td>-1.388979</td>\n",
       "      <td>-0.900623</td>\n",
       "      <td>0.833062</td>\n",
       "      <td>-0.691650</td>\n",
       "    </tr>\n",
       "    <tr>\n",
       "      <th>4</th>\n",
       "      <td>-0.778846</td>\n",
       "      <td>-0.770769</td>\n",
       "      <td>1.601176</td>\n",
       "      <td>1.283867</td>\n",
       "      <td>-0.110478</td>\n",
       "    </tr>\n",
       "  </tbody>\n",
       "</table>\n",
       "</div>"
      ],
      "text/plain": [
       "          A         B         C         D         E\n",
       "0  0.248865  0.895611  0.089525  0.976961 -0.907373\n",
       "1 -1.541892 -0.113904 -1.506780  0.145914 -0.039179\n",
       "2  0.618049  0.464153  1.212350  0.701788 -1.077556\n",
       "3  0.893047 -1.388979 -0.900623  0.833062 -0.691650\n",
       "4 -0.778846 -0.770769  1.601176  1.283867 -0.110478"
      ]
     },
     "execution_count": 63,
     "metadata": {},
     "output_type": "execute_result"
    }
   ],
   "source": [
    "df = pd.DataFrame(np.random.normal(size=(100,5)),columns=list('ABCDE'))\n",
    "df.head()"
   ]
  },
  {
   "cell_type": "markdown",
   "id": "3d5d556b-c4f0-42b6-9316-cf5a68f450c1",
   "metadata": {},
   "source": [
    "### sol"
   ]
  },
  {
   "cell_type": "code",
   "execution_count": 68,
   "id": "e96dbd4f-5439-4caf-af76-f2c734d5ec02",
   "metadata": {},
   "outputs": [
    {
     "data": {
      "text/html": [
       "<div>\n",
       "<style scoped>\n",
       "    .dataframe tbody tr th:only-of-type {\n",
       "        vertical-align: middle;\n",
       "    }\n",
       "\n",
       "    .dataframe tbody tr th {\n",
       "        vertical-align: top;\n",
       "    }\n",
       "\n",
       "    .dataframe thead th {\n",
       "        text-align: right;\n",
       "    }\n",
       "</style>\n",
       "<table border=\"1\" class=\"dataframe\">\n",
       "  <thead>\n",
       "    <tr style=\"text-align: right;\">\n",
       "      <th></th>\n",
       "      <th>B</th>\n",
       "      <th>D</th>\n",
       "    </tr>\n",
       "  </thead>\n",
       "  <tbody>\n",
       "    <tr>\n",
       "      <th>0</th>\n",
       "      <td>0.895611</td>\n",
       "      <td>0.976961</td>\n",
       "    </tr>\n",
       "    <tr>\n",
       "      <th>1</th>\n",
       "      <td>-0.113904</td>\n",
       "      <td>0.145914</td>\n",
       "    </tr>\n",
       "    <tr>\n",
       "      <th>2</th>\n",
       "      <td>0.464153</td>\n",
       "      <td>0.701788</td>\n",
       "    </tr>\n",
       "    <tr>\n",
       "      <th>3</th>\n",
       "      <td>-1.388979</td>\n",
       "      <td>0.833062</td>\n",
       "    </tr>\n",
       "    <tr>\n",
       "      <th>4</th>\n",
       "      <td>-0.770769</td>\n",
       "      <td>1.283867</td>\n",
       "    </tr>\n",
       "    <tr>\n",
       "      <th>...</th>\n",
       "      <td>...</td>\n",
       "      <td>...</td>\n",
       "    </tr>\n",
       "    <tr>\n",
       "      <th>95</th>\n",
       "      <td>1.411654</td>\n",
       "      <td>-0.795260</td>\n",
       "    </tr>\n",
       "    <tr>\n",
       "      <th>96</th>\n",
       "      <td>1.481368</td>\n",
       "      <td>-0.755572</td>\n",
       "    </tr>\n",
       "    <tr>\n",
       "      <th>97</th>\n",
       "      <td>-0.100731</td>\n",
       "      <td>-2.611382</td>\n",
       "    </tr>\n",
       "    <tr>\n",
       "      <th>98</th>\n",
       "      <td>0.663444</td>\n",
       "      <td>1.067437</td>\n",
       "    </tr>\n",
       "    <tr>\n",
       "      <th>99</th>\n",
       "      <td>0.138120</td>\n",
       "      <td>-0.777253</td>\n",
       "    </tr>\n",
       "  </tbody>\n",
       "</table>\n",
       "<p>100 rows × 2 columns</p>\n",
       "</div>"
      ],
      "text/plain": [
       "           B         D\n",
       "0   0.895611  0.976961\n",
       "1  -0.113904  0.145914\n",
       "2   0.464153  0.701788\n",
       "3  -1.388979  0.833062\n",
       "4  -0.770769  1.283867\n",
       "..       ...       ...\n",
       "95  1.411654 -0.795260\n",
       "96  1.481368 -0.755572\n",
       "97 -0.100731 -2.611382\n",
       "98  0.663444  1.067437\n",
       "99  0.138120 -0.777253\n",
       "\n",
       "[100 rows x 2 columns]"
      ]
     },
     "execution_count": 68,
     "metadata": {},
     "output_type": "execute_result"
    }
   ],
   "source": [
    "df.loc[:,[\"B\",\"D\"]]"
   ]
  },
  {
   "cell_type": "markdown",
   "id": "bf0b9d93-b908-4aa9-9828-0e3c8831decf",
   "metadata": {},
   "source": [
    "## (4) 마지막 10개의 row를 출력"
   ]
  },
  {
   "cell_type": "markdown",
   "id": "7296502e-f052-4d0c-af03-93d76b1699b4",
   "metadata": {},
   "source": [
    "### sol"
   ]
  },
  {
   "cell_type": "code",
   "execution_count": 70,
   "id": "e2955970-c951-4b14-a423-dd8a0750286f",
   "metadata": {},
   "outputs": [
    {
     "data": {
      "text/html": [
       "<div>\n",
       "<style scoped>\n",
       "    .dataframe tbody tr th:only-of-type {\n",
       "        vertical-align: middle;\n",
       "    }\n",
       "\n",
       "    .dataframe tbody tr th {\n",
       "        vertical-align: top;\n",
       "    }\n",
       "\n",
       "    .dataframe thead th {\n",
       "        text-align: right;\n",
       "    }\n",
       "</style>\n",
       "<table border=\"1\" class=\"dataframe\">\n",
       "  <thead>\n",
       "    <tr style=\"text-align: right;\">\n",
       "      <th></th>\n",
       "      <th>A</th>\n",
       "      <th>B</th>\n",
       "      <th>C</th>\n",
       "      <th>D</th>\n",
       "      <th>E</th>\n",
       "    </tr>\n",
       "  </thead>\n",
       "  <tbody>\n",
       "    <tr>\n",
       "      <th>90</th>\n",
       "      <td>-0.315609</td>\n",
       "      <td>0.201108</td>\n",
       "      <td>1.237544</td>\n",
       "      <td>-1.322454</td>\n",
       "      <td>-1.541894</td>\n",
       "    </tr>\n",
       "    <tr>\n",
       "      <th>91</th>\n",
       "      <td>-0.949342</td>\n",
       "      <td>0.057856</td>\n",
       "      <td>0.065429</td>\n",
       "      <td>0.931203</td>\n",
       "      <td>-1.137109</td>\n",
       "    </tr>\n",
       "    <tr>\n",
       "      <th>92</th>\n",
       "      <td>0.570043</td>\n",
       "      <td>0.051667</td>\n",
       "      <td>0.828303</td>\n",
       "      <td>1.671300</td>\n",
       "      <td>0.631333</td>\n",
       "    </tr>\n",
       "    <tr>\n",
       "      <th>93</th>\n",
       "      <td>0.728668</td>\n",
       "      <td>-0.729015</td>\n",
       "      <td>0.776093</td>\n",
       "      <td>0.102270</td>\n",
       "      <td>0.516913</td>\n",
       "    </tr>\n",
       "    <tr>\n",
       "      <th>94</th>\n",
       "      <td>-0.466797</td>\n",
       "      <td>0.624024</td>\n",
       "      <td>0.358107</td>\n",
       "      <td>-0.474222</td>\n",
       "      <td>0.432968</td>\n",
       "    </tr>\n",
       "    <tr>\n",
       "      <th>95</th>\n",
       "      <td>-0.322176</td>\n",
       "      <td>1.411654</td>\n",
       "      <td>-1.521602</td>\n",
       "      <td>-0.795260</td>\n",
       "      <td>0.628524</td>\n",
       "    </tr>\n",
       "    <tr>\n",
       "      <th>96</th>\n",
       "      <td>-1.626727</td>\n",
       "      <td>1.481368</td>\n",
       "      <td>-0.992218</td>\n",
       "      <td>-0.755572</td>\n",
       "      <td>-1.633161</td>\n",
       "    </tr>\n",
       "    <tr>\n",
       "      <th>97</th>\n",
       "      <td>-0.444244</td>\n",
       "      <td>-0.100731</td>\n",
       "      <td>-0.300905</td>\n",
       "      <td>-2.611382</td>\n",
       "      <td>1.151302</td>\n",
       "    </tr>\n",
       "    <tr>\n",
       "      <th>98</th>\n",
       "      <td>-0.532225</td>\n",
       "      <td>0.663444</td>\n",
       "      <td>1.084953</td>\n",
       "      <td>1.067437</td>\n",
       "      <td>-0.628104</td>\n",
       "    </tr>\n",
       "    <tr>\n",
       "      <th>99</th>\n",
       "      <td>-1.112164</td>\n",
       "      <td>0.138120</td>\n",
       "      <td>0.134880</td>\n",
       "      <td>-0.777253</td>\n",
       "      <td>-0.354412</td>\n",
       "    </tr>\n",
       "  </tbody>\n",
       "</table>\n",
       "</div>"
      ],
      "text/plain": [
       "           A         B         C         D         E\n",
       "90 -0.315609  0.201108  1.237544 -1.322454 -1.541894\n",
       "91 -0.949342  0.057856  0.065429  0.931203 -1.137109\n",
       "92  0.570043  0.051667  0.828303  1.671300  0.631333\n",
       "93  0.728668 -0.729015  0.776093  0.102270  0.516913\n",
       "94 -0.466797  0.624024  0.358107 -0.474222  0.432968\n",
       "95 -0.322176  1.411654 -1.521602 -0.795260  0.628524\n",
       "96 -1.626727  1.481368 -0.992218 -0.755572 -1.633161\n",
       "97 -0.444244 -0.100731 -0.300905 -2.611382  1.151302\n",
       "98 -0.532225  0.663444  1.084953  1.067437 -0.628104\n",
       "99 -1.112164  0.138120  0.134880 -0.777253 -0.354412"
      ]
     },
     "execution_count": 70,
     "metadata": {},
     "output_type": "execute_result"
    }
   ],
   "source": [
    "df.iloc[-10:,:]"
   ]
  },
  {
   "cell_type": "markdown",
   "id": "38356841-2c2b-423c-8b1c-7993d914d8bf",
   "metadata": {},
   "source": [
    "## (5) A,B 열의 처음 10개의 row를 출력"
   ]
  },
  {
   "cell_type": "markdown",
   "id": "201bf0b2-a2d2-48a2-9437-78d37e083681",
   "metadata": {},
   "source": [
    "### sol"
   ]
  },
  {
   "cell_type": "code",
   "execution_count": 74,
   "id": "44e5cecc-bf54-40d1-9601-20fea8217520",
   "metadata": {},
   "outputs": [
    {
     "data": {
      "text/html": [
       "<div>\n",
       "<style scoped>\n",
       "    .dataframe tbody tr th:only-of-type {\n",
       "        vertical-align: middle;\n",
       "    }\n",
       "\n",
       "    .dataframe tbody tr th {\n",
       "        vertical-align: top;\n",
       "    }\n",
       "\n",
       "    .dataframe thead th {\n",
       "        text-align: right;\n",
       "    }\n",
       "</style>\n",
       "<table border=\"1\" class=\"dataframe\">\n",
       "  <thead>\n",
       "    <tr style=\"text-align: right;\">\n",
       "      <th></th>\n",
       "      <th>A</th>\n",
       "      <th>B</th>\n",
       "    </tr>\n",
       "  </thead>\n",
       "  <tbody>\n",
       "    <tr>\n",
       "      <th>0</th>\n",
       "      <td>0.248865</td>\n",
       "      <td>0.895611</td>\n",
       "    </tr>\n",
       "    <tr>\n",
       "      <th>1</th>\n",
       "      <td>-1.541892</td>\n",
       "      <td>-0.113904</td>\n",
       "    </tr>\n",
       "    <tr>\n",
       "      <th>2</th>\n",
       "      <td>0.618049</td>\n",
       "      <td>0.464153</td>\n",
       "    </tr>\n",
       "    <tr>\n",
       "      <th>3</th>\n",
       "      <td>0.893047</td>\n",
       "      <td>-1.388979</td>\n",
       "    </tr>\n",
       "    <tr>\n",
       "      <th>4</th>\n",
       "      <td>-0.778846</td>\n",
       "      <td>-0.770769</td>\n",
       "    </tr>\n",
       "    <tr>\n",
       "      <th>5</th>\n",
       "      <td>1.370019</td>\n",
       "      <td>1.086862</td>\n",
       "    </tr>\n",
       "    <tr>\n",
       "      <th>6</th>\n",
       "      <td>0.832954</td>\n",
       "      <td>-0.920285</td>\n",
       "    </tr>\n",
       "    <tr>\n",
       "      <th>7</th>\n",
       "      <td>-0.298321</td>\n",
       "      <td>0.057971</td>\n",
       "    </tr>\n",
       "    <tr>\n",
       "      <th>8</th>\n",
       "      <td>0.332499</td>\n",
       "      <td>0.192044</td>\n",
       "    </tr>\n",
       "    <tr>\n",
       "      <th>9</th>\n",
       "      <td>0.622278</td>\n",
       "      <td>0.847585</td>\n",
       "    </tr>\n",
       "  </tbody>\n",
       "</table>\n",
       "</div>"
      ],
      "text/plain": [
       "          A         B\n",
       "0  0.248865  0.895611\n",
       "1 -1.541892 -0.113904\n",
       "2  0.618049  0.464153\n",
       "3  0.893047 -1.388979\n",
       "4 -0.778846 -0.770769\n",
       "5  1.370019  1.086862\n",
       "6  0.832954 -0.920285\n",
       "7 -0.298321  0.057971\n",
       "8  0.332499  0.192044\n",
       "9  0.622278  0.847585"
      ]
     },
     "execution_count": 74,
     "metadata": {},
     "output_type": "execute_result"
    }
   ],
   "source": [
    "df.loc[:9, [\"A\",\"B\"]]"
   ]
  },
  {
   "cell_type": "markdown",
   "id": "e1b198b6-bc2d-41e6-b617-d2b734689367",
   "metadata": {},
   "source": [
    "## (6) 주어진 자료의 칼럼 갯수"
   ]
  },
  {
   "cell_type": "markdown",
   "id": "ae55565d-ebf8-49cb-b809-0f003375f9e5",
   "metadata": {},
   "source": [
    "### sol"
   ]
  },
  {
   "cell_type": "code",
   "execution_count": 75,
   "id": "27534ee6-de90-493d-8110-c7d3098d5cae",
   "metadata": {},
   "outputs": [
    {
     "data": {
      "text/html": [
       "<div>\n",
       "<style scoped>\n",
       "    .dataframe tbody tr th:only-of-type {\n",
       "        vertical-align: middle;\n",
       "    }\n",
       "\n",
       "    .dataframe tbody tr th {\n",
       "        vertical-align: top;\n",
       "    }\n",
       "\n",
       "    .dataframe thead th {\n",
       "        text-align: right;\n",
       "    }\n",
       "</style>\n",
       "<table border=\"1\" class=\"dataframe\">\n",
       "  <thead>\n",
       "    <tr style=\"text-align: right;\">\n",
       "      <th></th>\n",
       "      <th>color</th>\n",
       "      <th>director_name</th>\n",
       "      <th>num_critic_for_reviews</th>\n",
       "      <th>duration</th>\n",
       "      <th>director_facebook_likes</th>\n",
       "      <th>actor_3_facebook_likes</th>\n",
       "      <th>actor_2_name</th>\n",
       "      <th>actor_1_facebook_likes</th>\n",
       "      <th>gross</th>\n",
       "      <th>genres</th>\n",
       "      <th>...</th>\n",
       "      <th>num_user_for_reviews</th>\n",
       "      <th>language</th>\n",
       "      <th>country</th>\n",
       "      <th>content_rating</th>\n",
       "      <th>budget</th>\n",
       "      <th>title_year</th>\n",
       "      <th>actor_2_facebook_likes</th>\n",
       "      <th>imdb_score</th>\n",
       "      <th>aspect_ratio</th>\n",
       "      <th>movie_facebook_likes</th>\n",
       "    </tr>\n",
       "  </thead>\n",
       "  <tbody>\n",
       "    <tr>\n",
       "      <th>0</th>\n",
       "      <td>Color</td>\n",
       "      <td>James Cameron</td>\n",
       "      <td>723.0</td>\n",
       "      <td>178.0</td>\n",
       "      <td>0.0</td>\n",
       "      <td>855.0</td>\n",
       "      <td>Joel David Moore</td>\n",
       "      <td>1000.0</td>\n",
       "      <td>760505847.0</td>\n",
       "      <td>Action|Adventure|Fantasy|Sci-Fi</td>\n",
       "      <td>...</td>\n",
       "      <td>3054.0</td>\n",
       "      <td>English</td>\n",
       "      <td>USA</td>\n",
       "      <td>PG-13</td>\n",
       "      <td>237000000.0</td>\n",
       "      <td>2009.0</td>\n",
       "      <td>936.0</td>\n",
       "      <td>7.9</td>\n",
       "      <td>1.78</td>\n",
       "      <td>33000</td>\n",
       "    </tr>\n",
       "    <tr>\n",
       "      <th>1</th>\n",
       "      <td>Color</td>\n",
       "      <td>Gore Verbinski</td>\n",
       "      <td>302.0</td>\n",
       "      <td>169.0</td>\n",
       "      <td>563.0</td>\n",
       "      <td>1000.0</td>\n",
       "      <td>Orlando Bloom</td>\n",
       "      <td>40000.0</td>\n",
       "      <td>309404152.0</td>\n",
       "      <td>Action|Adventure|Fantasy</td>\n",
       "      <td>...</td>\n",
       "      <td>1238.0</td>\n",
       "      <td>English</td>\n",
       "      <td>USA</td>\n",
       "      <td>PG-13</td>\n",
       "      <td>300000000.0</td>\n",
       "      <td>2007.0</td>\n",
       "      <td>5000.0</td>\n",
       "      <td>7.1</td>\n",
       "      <td>2.35</td>\n",
       "      <td>0</td>\n",
       "    </tr>\n",
       "    <tr>\n",
       "      <th>2</th>\n",
       "      <td>Color</td>\n",
       "      <td>Sam Mendes</td>\n",
       "      <td>602.0</td>\n",
       "      <td>148.0</td>\n",
       "      <td>0.0</td>\n",
       "      <td>161.0</td>\n",
       "      <td>Rory Kinnear</td>\n",
       "      <td>11000.0</td>\n",
       "      <td>200074175.0</td>\n",
       "      <td>Action|Adventure|Thriller</td>\n",
       "      <td>...</td>\n",
       "      <td>994.0</td>\n",
       "      <td>English</td>\n",
       "      <td>UK</td>\n",
       "      <td>PG-13</td>\n",
       "      <td>245000000.0</td>\n",
       "      <td>2015.0</td>\n",
       "      <td>393.0</td>\n",
       "      <td>6.8</td>\n",
       "      <td>2.35</td>\n",
       "      <td>85000</td>\n",
       "    </tr>\n",
       "    <tr>\n",
       "      <th>3</th>\n",
       "      <td>Color</td>\n",
       "      <td>Christopher Nolan</td>\n",
       "      <td>813.0</td>\n",
       "      <td>164.0</td>\n",
       "      <td>22000.0</td>\n",
       "      <td>23000.0</td>\n",
       "      <td>Christian Bale</td>\n",
       "      <td>27000.0</td>\n",
       "      <td>448130642.0</td>\n",
       "      <td>Action|Thriller</td>\n",
       "      <td>...</td>\n",
       "      <td>2701.0</td>\n",
       "      <td>English</td>\n",
       "      <td>USA</td>\n",
       "      <td>PG-13</td>\n",
       "      <td>250000000.0</td>\n",
       "      <td>2012.0</td>\n",
       "      <td>23000.0</td>\n",
       "      <td>8.5</td>\n",
       "      <td>2.35</td>\n",
       "      <td>164000</td>\n",
       "    </tr>\n",
       "    <tr>\n",
       "      <th>4</th>\n",
       "      <td>NaN</td>\n",
       "      <td>Doug Walker</td>\n",
       "      <td>NaN</td>\n",
       "      <td>NaN</td>\n",
       "      <td>131.0</td>\n",
       "      <td>NaN</td>\n",
       "      <td>Rob Walker</td>\n",
       "      <td>131.0</td>\n",
       "      <td>NaN</td>\n",
       "      <td>Documentary</td>\n",
       "      <td>...</td>\n",
       "      <td>NaN</td>\n",
       "      <td>NaN</td>\n",
       "      <td>NaN</td>\n",
       "      <td>NaN</td>\n",
       "      <td>NaN</td>\n",
       "      <td>NaN</td>\n",
       "      <td>12.0</td>\n",
       "      <td>7.1</td>\n",
       "      <td>NaN</td>\n",
       "      <td>0</td>\n",
       "    </tr>\n",
       "  </tbody>\n",
       "</table>\n",
       "<p>5 rows × 28 columns</p>\n",
       "</div>"
      ],
      "text/plain": [
       "   color      director_name  num_critic_for_reviews  duration  \\\n",
       "0  Color      James Cameron                   723.0     178.0   \n",
       "1  Color     Gore Verbinski                   302.0     169.0   \n",
       "2  Color         Sam Mendes                   602.0     148.0   \n",
       "3  Color  Christopher Nolan                   813.0     164.0   \n",
       "4    NaN        Doug Walker                     NaN       NaN   \n",
       "\n",
       "   director_facebook_likes  actor_3_facebook_likes      actor_2_name  \\\n",
       "0                      0.0                   855.0  Joel David Moore   \n",
       "1                    563.0                  1000.0     Orlando Bloom   \n",
       "2                      0.0                   161.0      Rory Kinnear   \n",
       "3                  22000.0                 23000.0    Christian Bale   \n",
       "4                    131.0                     NaN        Rob Walker   \n",
       "\n",
       "   actor_1_facebook_likes        gross                           genres  ...  \\\n",
       "0                  1000.0  760505847.0  Action|Adventure|Fantasy|Sci-Fi  ...   \n",
       "1                 40000.0  309404152.0         Action|Adventure|Fantasy  ...   \n",
       "2                 11000.0  200074175.0        Action|Adventure|Thriller  ...   \n",
       "3                 27000.0  448130642.0                  Action|Thriller  ...   \n",
       "4                   131.0          NaN                      Documentary  ...   \n",
       "\n",
       "  num_user_for_reviews language  country  content_rating       budget  \\\n",
       "0               3054.0  English      USA           PG-13  237000000.0   \n",
       "1               1238.0  English      USA           PG-13  300000000.0   \n",
       "2                994.0  English       UK           PG-13  245000000.0   \n",
       "3               2701.0  English      USA           PG-13  250000000.0   \n",
       "4                  NaN      NaN      NaN             NaN          NaN   \n",
       "\n",
       "   title_year actor_2_facebook_likes imdb_score  aspect_ratio  \\\n",
       "0      2009.0                  936.0        7.9          1.78   \n",
       "1      2007.0                 5000.0        7.1          2.35   \n",
       "2      2015.0                  393.0        6.8          2.35   \n",
       "3      2012.0                23000.0        8.5          2.35   \n",
       "4         NaN                   12.0        7.1           NaN   \n",
       "\n",
       "  movie_facebook_likes  \n",
       "0                33000  \n",
       "1                    0  \n",
       "2                85000  \n",
       "3               164000  \n",
       "4                    0  \n",
       "\n",
       "[5 rows x 28 columns]"
      ]
     },
     "execution_count": 75,
     "metadata": {},
     "output_type": "execute_result"
    }
   ],
   "source": [
    "df=pd.read_csv('https://raw.githubusercontent.com/PacktPublishing/Pandas-Cookbook/master/data/movie.csv')\n",
    "df.head()"
   ]
  },
  {
   "cell_type": "code",
   "execution_count": 76,
   "id": "6c0531fe-ac24-42e2-81e7-667dd6f86d66",
   "metadata": {},
   "outputs": [
    {
     "data": {
      "text/plain": [
       "28"
      ]
     },
     "execution_count": 76,
     "metadata": {},
     "output_type": "execute_result"
    }
   ],
   "source": [
    "len(df.columns)"
   ]
  },
  {
   "cell_type": "markdown",
   "id": "0abcbf83-4a11-4df2-8fcb-39494bf5d949",
   "metadata": {},
   "source": [
    "## (7) 데이터 프레임의 컬럼이릉이 c혹인 d로 시작하는 열은 몇개인가?"
   ]
  },
  {
   "cell_type": "markdown",
   "id": "a630356e-8670-4453-8bb2-207a7e4fb483",
   "metadata": {},
   "source": [
    "### sol"
   ]
  },
  {
   "cell_type": "code",
   "execution_count": 85,
   "id": "b04ffbb9-1d55-4f81-8635-4f43aa6260bd",
   "metadata": {},
   "outputs": [
    {
     "data": {
      "text/plain": [
       "7"
      ]
     },
     "execution_count": 85,
     "metadata": {},
     "output_type": "execute_result"
    }
   ],
   "source": [
    "len([i for i in df.columns if i[0] == \"c\" or i[0] == \"d\"])"
   ]
  },
  {
   "cell_type": "markdown",
   "id": "5f6dcf84-9bdd-4649-a7f7-47f4c709db05",
   "metadata": {},
   "source": [
    "## (8) actor라는 단어가 포함된 열의 갯수"
   ]
  },
  {
   "cell_type": "markdown",
   "id": "65bcf21d-0a68-4fbe-953f-0cc7b4682715",
   "metadata": {},
   "source": [
    "### sol"
   ]
  },
  {
   "cell_type": "code",
   "execution_count": 87,
   "id": "33351528-e702-4f3b-bcc4-aeb4b745bd90",
   "metadata": {},
   "outputs": [
    {
     "data": {
      "text/plain": [
       "6"
      ]
     },
     "execution_count": 87,
     "metadata": {},
     "output_type": "execute_result"
    }
   ],
   "source": [
    "len([i for i in df.columns if \"actor\" in i])"
   ]
  },
  {
   "cell_type": "markdown",
   "id": "42a626da-5e8e-4a7c-95e0-796da65e4c5b",
   "metadata": {},
   "source": [
    "## (9) actor라는 단어가 포함된 열을 추출"
   ]
  },
  {
   "cell_type": "markdown",
   "id": "040b41e1-b88e-4333-8765-6c342fbe4788",
   "metadata": {},
   "source": [
    "### sol"
   ]
  },
  {
   "cell_type": "code",
   "execution_count": 89,
   "id": "652b6a91-00a1-4845-8098-941a3dc3bfa6",
   "metadata": {},
   "outputs": [
    {
     "data": {
      "text/html": [
       "<div>\n",
       "<style scoped>\n",
       "    .dataframe tbody tr th:only-of-type {\n",
       "        vertical-align: middle;\n",
       "    }\n",
       "\n",
       "    .dataframe tbody tr th {\n",
       "        vertical-align: top;\n",
       "    }\n",
       "\n",
       "    .dataframe thead th {\n",
       "        text-align: right;\n",
       "    }\n",
       "</style>\n",
       "<table border=\"1\" class=\"dataframe\">\n",
       "  <thead>\n",
       "    <tr style=\"text-align: right;\">\n",
       "      <th></th>\n",
       "      <th>actor_3_facebook_likes</th>\n",
       "      <th>actor_2_name</th>\n",
       "      <th>actor_1_facebook_likes</th>\n",
       "      <th>actor_1_name</th>\n",
       "      <th>actor_3_name</th>\n",
       "      <th>actor_2_facebook_likes</th>\n",
       "    </tr>\n",
       "  </thead>\n",
       "  <tbody>\n",
       "    <tr>\n",
       "      <th>0</th>\n",
       "      <td>855.0</td>\n",
       "      <td>Joel David Moore</td>\n",
       "      <td>1000.0</td>\n",
       "      <td>CCH Pounder</td>\n",
       "      <td>Wes Studi</td>\n",
       "      <td>936.0</td>\n",
       "    </tr>\n",
       "    <tr>\n",
       "      <th>1</th>\n",
       "      <td>1000.0</td>\n",
       "      <td>Orlando Bloom</td>\n",
       "      <td>40000.0</td>\n",
       "      <td>Johnny Depp</td>\n",
       "      <td>Jack Davenport</td>\n",
       "      <td>5000.0</td>\n",
       "    </tr>\n",
       "    <tr>\n",
       "      <th>2</th>\n",
       "      <td>161.0</td>\n",
       "      <td>Rory Kinnear</td>\n",
       "      <td>11000.0</td>\n",
       "      <td>Christoph Waltz</td>\n",
       "      <td>Stephanie Sigman</td>\n",
       "      <td>393.0</td>\n",
       "    </tr>\n",
       "    <tr>\n",
       "      <th>3</th>\n",
       "      <td>23000.0</td>\n",
       "      <td>Christian Bale</td>\n",
       "      <td>27000.0</td>\n",
       "      <td>Tom Hardy</td>\n",
       "      <td>Joseph Gordon-Levitt</td>\n",
       "      <td>23000.0</td>\n",
       "    </tr>\n",
       "    <tr>\n",
       "      <th>4</th>\n",
       "      <td>NaN</td>\n",
       "      <td>Rob Walker</td>\n",
       "      <td>131.0</td>\n",
       "      <td>Doug Walker</td>\n",
       "      <td>NaN</td>\n",
       "      <td>12.0</td>\n",
       "    </tr>\n",
       "    <tr>\n",
       "      <th>...</th>\n",
       "      <td>...</td>\n",
       "      <td>...</td>\n",
       "      <td>...</td>\n",
       "      <td>...</td>\n",
       "      <td>...</td>\n",
       "      <td>...</td>\n",
       "    </tr>\n",
       "    <tr>\n",
       "      <th>4911</th>\n",
       "      <td>318.0</td>\n",
       "      <td>Daphne Zuniga</td>\n",
       "      <td>637.0</td>\n",
       "      <td>Eric Mabius</td>\n",
       "      <td>Crystal Lowe</td>\n",
       "      <td>470.0</td>\n",
       "    </tr>\n",
       "    <tr>\n",
       "      <th>4912</th>\n",
       "      <td>319.0</td>\n",
       "      <td>Valorie Curry</td>\n",
       "      <td>841.0</td>\n",
       "      <td>Natalie Zea</td>\n",
       "      <td>Sam Underwood</td>\n",
       "      <td>593.0</td>\n",
       "    </tr>\n",
       "    <tr>\n",
       "      <th>4913</th>\n",
       "      <td>0.0</td>\n",
       "      <td>Maxwell Moody</td>\n",
       "      <td>0.0</td>\n",
       "      <td>Eva Boehnke</td>\n",
       "      <td>David Chandler</td>\n",
       "      <td>0.0</td>\n",
       "    </tr>\n",
       "    <tr>\n",
       "      <th>4914</th>\n",
       "      <td>489.0</td>\n",
       "      <td>Daniel Henney</td>\n",
       "      <td>946.0</td>\n",
       "      <td>Alan Ruck</td>\n",
       "      <td>Eliza Coupe</td>\n",
       "      <td>719.0</td>\n",
       "    </tr>\n",
       "    <tr>\n",
       "      <th>4915</th>\n",
       "      <td>16.0</td>\n",
       "      <td>Brian Herzlinger</td>\n",
       "      <td>86.0</td>\n",
       "      <td>John August</td>\n",
       "      <td>Jon Gunn</td>\n",
       "      <td>23.0</td>\n",
       "    </tr>\n",
       "  </tbody>\n",
       "</table>\n",
       "<p>4916 rows × 6 columns</p>\n",
       "</div>"
      ],
      "text/plain": [
       "      actor_3_facebook_likes      actor_2_name  actor_1_facebook_likes  \\\n",
       "0                      855.0  Joel David Moore                  1000.0   \n",
       "1                     1000.0     Orlando Bloom                 40000.0   \n",
       "2                      161.0      Rory Kinnear                 11000.0   \n",
       "3                    23000.0    Christian Bale                 27000.0   \n",
       "4                        NaN        Rob Walker                   131.0   \n",
       "...                      ...               ...                     ...   \n",
       "4911                   318.0     Daphne Zuniga                   637.0   \n",
       "4912                   319.0     Valorie Curry                   841.0   \n",
       "4913                     0.0     Maxwell Moody                     0.0   \n",
       "4914                   489.0     Daniel Henney                   946.0   \n",
       "4915                    16.0  Brian Herzlinger                    86.0   \n",
       "\n",
       "         actor_1_name          actor_3_name  actor_2_facebook_likes  \n",
       "0         CCH Pounder             Wes Studi                   936.0  \n",
       "1         Johnny Depp        Jack Davenport                  5000.0  \n",
       "2     Christoph Waltz      Stephanie Sigman                   393.0  \n",
       "3           Tom Hardy  Joseph Gordon-Levitt                 23000.0  \n",
       "4         Doug Walker                   NaN                    12.0  \n",
       "...               ...                   ...                     ...  \n",
       "4911      Eric Mabius          Crystal Lowe                   470.0  \n",
       "4912      Natalie Zea         Sam Underwood                   593.0  \n",
       "4913      Eva Boehnke        David Chandler                     0.0  \n",
       "4914        Alan Ruck           Eliza Coupe                   719.0  \n",
       "4915      John August              Jon Gunn                    23.0  \n",
       "\n",
       "[4916 rows x 6 columns]"
      ]
     },
     "execution_count": 89,
     "metadata": {},
     "output_type": "execute_result"
    }
   ],
   "source": [
    "df.loc[:,[\"actor\" in i for i in df.columns ]]"
   ]
  },
  {
   "cell_type": "markdown",
   "id": "5916c03b-f152-444d-a4f8-dd8c3a8abf65",
   "metadata": {},
   "source": [
    "***"
   ]
  },
  {
   "cell_type": "markdown",
   "id": "be686d02-3259-486e-8a6a-19eb74943e3a",
   "metadata": {},
   "source": [
    "## query($\\star$)"
   ]
  },
  {
   "cell_type": "code",
   "execution_count": 90,
   "id": "47cbf5ff-6727-43c4-9167-549b5f18ee69",
   "metadata": {},
   "outputs": [
    {
     "data": {
      "text/html": [
       "<div>\n",
       "<style scoped>\n",
       "    .dataframe tbody tr th:only-of-type {\n",
       "        vertical-align: middle;\n",
       "    }\n",
       "\n",
       "    .dataframe tbody tr th {\n",
       "        vertical-align: top;\n",
       "    }\n",
       "\n",
       "    .dataframe thead th {\n",
       "        text-align: right;\n",
       "    }\n",
       "</style>\n",
       "<table border=\"1\" class=\"dataframe\">\n",
       "  <thead>\n",
       "    <tr style=\"text-align: right;\">\n",
       "      <th></th>\n",
       "      <th>att</th>\n",
       "      <th>rep</th>\n",
       "      <th>mid</th>\n",
       "      <th>fin</th>\n",
       "    </tr>\n",
       "  </thead>\n",
       "  <tbody>\n",
       "    <tr>\n",
       "      <th>2022-12380</th>\n",
       "      <td>65</td>\n",
       "      <td>55</td>\n",
       "      <td>50</td>\n",
       "      <td>40</td>\n",
       "    </tr>\n",
       "    <tr>\n",
       "      <th>2022-12370</th>\n",
       "      <td>95</td>\n",
       "      <td>100</td>\n",
       "      <td>50</td>\n",
       "      <td>80</td>\n",
       "    </tr>\n",
       "    <tr>\n",
       "      <th>2022-12363</th>\n",
       "      <td>65</td>\n",
       "      <td>90</td>\n",
       "      <td>60</td>\n",
       "      <td>30</td>\n",
       "    </tr>\n",
       "    <tr>\n",
       "      <th>2022-12488</th>\n",
       "      <td>55</td>\n",
       "      <td>80</td>\n",
       "      <td>75</td>\n",
       "      <td>80</td>\n",
       "    </tr>\n",
       "    <tr>\n",
       "      <th>2022-12312</th>\n",
       "      <td>80</td>\n",
       "      <td>30</td>\n",
       "      <td>30</td>\n",
       "      <td>100</td>\n",
       "    </tr>\n",
       "  </tbody>\n",
       "</table>\n",
       "</div>"
      ],
      "text/plain": [
       "            att  rep  mid  fin\n",
       "2022-12380   65   55   50   40\n",
       "2022-12370   95  100   50   80\n",
       "2022-12363   65   90   60   30\n",
       "2022-12488   55   80   75   80\n",
       "2022-12312   80   30   30  100"
      ]
     },
     "execution_count": 90,
     "metadata": {},
     "output_type": "execute_result"
    }
   ],
   "source": [
    "#| code-fold: true\n",
    "np.random.seed(43052)\n",
    "att = np.random.choice(np.arange(10,21)*5,20)\n",
    "rep = np.random.choice(np.arange(5,21)*5,20)\n",
    "mid = np.random.choice(np.arange(0,21)*5,20)\n",
    "fin = np.random.choice(np.arange(0,21)*5,20)\n",
    "key = ['2022-12'+str(s) for s in np.random.choice(np.arange(300,501),20,replace=False)]\n",
    "df = pd.DataFrame({'att':att,'rep':rep,'mid':mid,'fin':fin},index=key)\n",
    "df.head()"
   ]
  },
  {
   "cell_type": "code",
   "execution_count": 91,
   "id": "fef7ccee-b1b2-4386-8a55-10a2e7fc947b",
   "metadata": {},
   "outputs": [
    {
     "data": {
      "text/html": [
       "<div>\n",
       "<style scoped>\n",
       "    .dataframe tbody tr th:only-of-type {\n",
       "        vertical-align: middle;\n",
       "    }\n",
       "\n",
       "    .dataframe tbody tr th {\n",
       "        vertical-align: top;\n",
       "    }\n",
       "\n",
       "    .dataframe thead th {\n",
       "        text-align: right;\n",
       "    }\n",
       "</style>\n",
       "<table border=\"1\" class=\"dataframe\">\n",
       "  <thead>\n",
       "    <tr style=\"text-align: right;\">\n",
       "      <th></th>\n",
       "      <th>att</th>\n",
       "      <th>rep</th>\n",
       "      <th>mid</th>\n",
       "      <th>fin</th>\n",
       "    </tr>\n",
       "  </thead>\n",
       "  <tbody>\n",
       "    <tr>\n",
       "      <th>2022-12354</th>\n",
       "      <td>90</td>\n",
       "      <td>90</td>\n",
       "      <td>80</td>\n",
       "      <td>90</td>\n",
       "    </tr>\n",
       "  </tbody>\n",
       "</table>\n",
       "</div>"
      ],
      "text/plain": [
       "            att  rep  mid  fin\n",
       "2022-12354   90   90   80   90"
      ]
     },
     "execution_count": 91,
     "metadata": {},
     "output_type": "execute_result"
    }
   ],
   "source": [
    "df.query(\"att ==90 & fin >30\")"
   ]
  },
  {
   "cell_type": "code",
   "execution_count": 93,
   "id": "d31524e7-4561-46fb-a2bd-83ac4befb380",
   "metadata": {},
   "outputs": [
    {
     "data": {
      "text/html": [
       "<div>\n",
       "<style scoped>\n",
       "    .dataframe tbody tr th:only-of-type {\n",
       "        vertical-align: middle;\n",
       "    }\n",
       "\n",
       "    .dataframe tbody tr th {\n",
       "        vertical-align: top;\n",
       "    }\n",
       "\n",
       "    .dataframe thead th {\n",
       "        text-align: right;\n",
       "    }\n",
       "</style>\n",
       "<table border=\"1\" class=\"dataframe\">\n",
       "  <thead>\n",
       "    <tr style=\"text-align: right;\">\n",
       "      <th></th>\n",
       "      <th>att</th>\n",
       "      <th>rep</th>\n",
       "      <th>mid</th>\n",
       "      <th>fin</th>\n",
       "    </tr>\n",
       "  </thead>\n",
       "  <tbody>\n",
       "    <tr>\n",
       "      <th>2022-12370</th>\n",
       "      <td>95</td>\n",
       "      <td>100</td>\n",
       "      <td>50</td>\n",
       "      <td>80</td>\n",
       "    </tr>\n",
       "    <tr>\n",
       "      <th>2022-12488</th>\n",
       "      <td>55</td>\n",
       "      <td>80</td>\n",
       "      <td>75</td>\n",
       "      <td>80</td>\n",
       "    </tr>\n",
       "    <tr>\n",
       "      <th>2022-12458</th>\n",
       "      <td>50</td>\n",
       "      <td>55</td>\n",
       "      <td>15</td>\n",
       "      <td>85</td>\n",
       "    </tr>\n",
       "  </tbody>\n",
       "</table>\n",
       "</div>"
      ],
      "text/plain": [
       "            att  rep  mid  fin\n",
       "2022-12370   95  100   50   80\n",
       "2022-12488   55   80   75   80\n",
       "2022-12458   50   55   15   85"
      ]
     },
     "execution_count": 93,
     "metadata": {},
     "output_type": "execute_result"
    }
   ],
   "source": [
    "df.query(\"att<rep and mid <fin\")"
   ]
  },
  {
   "cell_type": "code",
   "execution_count": 94,
   "id": "e04eda77-7a05-4bf1-a76e-ab384afbc018",
   "metadata": {},
   "outputs": [
    {
     "data": {
      "text/html": [
       "<div>\n",
       "<style scoped>\n",
       "    .dataframe tbody tr th:only-of-type {\n",
       "        vertical-align: middle;\n",
       "    }\n",
       "\n",
       "    .dataframe tbody tr th {\n",
       "        vertical-align: top;\n",
       "    }\n",
       "\n",
       "    .dataframe thead th {\n",
       "        text-align: right;\n",
       "    }\n",
       "</style>\n",
       "<table border=\"1\" class=\"dataframe\">\n",
       "  <thead>\n",
       "    <tr style=\"text-align: right;\">\n",
       "      <th></th>\n",
       "      <th>att</th>\n",
       "      <th>rep</th>\n",
       "      <th>mid</th>\n",
       "      <th>fin</th>\n",
       "    </tr>\n",
       "  </thead>\n",
       "  <tbody>\n",
       "    <tr>\n",
       "      <th>2022-12318</th>\n",
       "      <td>55</td>\n",
       "      <td>75</td>\n",
       "      <td>35</td>\n",
       "      <td>25</td>\n",
       "    </tr>\n",
       "    <tr>\n",
       "      <th>2022-12458</th>\n",
       "      <td>50</td>\n",
       "      <td>55</td>\n",
       "      <td>15</td>\n",
       "      <td>85</td>\n",
       "    </tr>\n",
       "  </tbody>\n",
       "</table>\n",
       "</div>"
      ],
      "text/plain": [
       "            att  rep  mid  fin\n",
       "2022-12318   55   75   35   25\n",
       "2022-12458   50   55   15   85"
      ]
     },
     "execution_count": 94,
     "metadata": {},
     "output_type": "execute_result"
    }
   ],
   "source": [
    "df.query(\"att<rep<80\")"
   ]
  },
  {
   "cell_type": "code",
   "execution_count": 97,
   "id": "c220ee40-913a-4790-aced-67b7d85291aa",
   "metadata": {},
   "outputs": [
    {
     "data": {
      "text/html": [
       "<div>\n",
       "<style scoped>\n",
       "    .dataframe tbody tr th:only-of-type {\n",
       "        vertical-align: middle;\n",
       "    }\n",
       "\n",
       "    .dataframe tbody tr th {\n",
       "        vertical-align: top;\n",
       "    }\n",
       "\n",
       "    .dataframe thead th {\n",
       "        text-align: right;\n",
       "    }\n",
       "</style>\n",
       "<table border=\"1\" class=\"dataframe\">\n",
       "  <thead>\n",
       "    <tr style=\"text-align: right;\">\n",
       "      <th></th>\n",
       "      <th>att</th>\n",
       "      <th>rep</th>\n",
       "      <th>mid</th>\n",
       "      <th>fin</th>\n",
       "    </tr>\n",
       "  </thead>\n",
       "  <tbody>\n",
       "    <tr>\n",
       "      <th>2022-12488</th>\n",
       "      <td>55</td>\n",
       "      <td>80</td>\n",
       "      <td>75</td>\n",
       "      <td>80</td>\n",
       "    </tr>\n",
       "    <tr>\n",
       "      <th>2022-12312</th>\n",
       "      <td>80</td>\n",
       "      <td>30</td>\n",
       "      <td>30</td>\n",
       "      <td>100</td>\n",
       "    </tr>\n",
       "    <tr>\n",
       "      <th>2022-12463</th>\n",
       "      <td>65</td>\n",
       "      <td>45</td>\n",
       "      <td>45</td>\n",
       "      <td>90</td>\n",
       "    </tr>\n",
       "    <tr>\n",
       "      <th>2022-12452</th>\n",
       "      <td>65</td>\n",
       "      <td>55</td>\n",
       "      <td>15</td>\n",
       "      <td>45</td>\n",
       "    </tr>\n",
       "    <tr>\n",
       "      <th>2022-12354</th>\n",
       "      <td>90</td>\n",
       "      <td>90</td>\n",
       "      <td>80</td>\n",
       "      <td>90</td>\n",
       "    </tr>\n",
       "  </tbody>\n",
       "</table>\n",
       "</div>"
      ],
      "text/plain": [
       "            att  rep  mid  fin\n",
       "2022-12488   55   80   75   80\n",
       "2022-12312   80   30   30  100\n",
       "2022-12463   65   45   45   90\n",
       "2022-12452   65   55   15   45\n",
       "2022-12354   90   90   80   90"
      ]
     },
     "execution_count": 97,
     "metadata": {},
     "output_type": "execute_result"
    }
   ],
   "source": [
    "df.query(\"50<att<=90 and mid < fin\")"
   ]
  },
  {
   "cell_type": "code",
   "execution_count": 99,
   "id": "a3aa99c8-77cc-470c-b7bc-91389c22880a",
   "metadata": {},
   "outputs": [
    {
     "data": {
      "text/html": [
       "<div>\n",
       "<style scoped>\n",
       "    .dataframe tbody tr th:only-of-type {\n",
       "        vertical-align: middle;\n",
       "    }\n",
       "\n",
       "    .dataframe tbody tr th {\n",
       "        vertical-align: top;\n",
       "    }\n",
       "\n",
       "    .dataframe thead th {\n",
       "        text-align: right;\n",
       "    }\n",
       "</style>\n",
       "<table border=\"1\" class=\"dataframe\">\n",
       "  <thead>\n",
       "    <tr style=\"text-align: right;\">\n",
       "      <th></th>\n",
       "      <th>att</th>\n",
       "      <th>rep</th>\n",
       "      <th>mid</th>\n",
       "      <th>fin</th>\n",
       "    </tr>\n",
       "  </thead>\n",
       "  <tbody>\n",
       "    <tr>\n",
       "      <th>2022-12370</th>\n",
       "      <td>95</td>\n",
       "      <td>100</td>\n",
       "      <td>50</td>\n",
       "      <td>80</td>\n",
       "    </tr>\n",
       "    <tr>\n",
       "      <th>2022-12488</th>\n",
       "      <td>55</td>\n",
       "      <td>80</td>\n",
       "      <td>75</td>\n",
       "      <td>80</td>\n",
       "    </tr>\n",
       "    <tr>\n",
       "      <th>2022-12312</th>\n",
       "      <td>80</td>\n",
       "      <td>30</td>\n",
       "      <td>30</td>\n",
       "      <td>100</td>\n",
       "    </tr>\n",
       "    <tr>\n",
       "      <th>2022-12463</th>\n",
       "      <td>65</td>\n",
       "      <td>45</td>\n",
       "      <td>45</td>\n",
       "      <td>90</td>\n",
       "    </tr>\n",
       "    <tr>\n",
       "      <th>2022-12396</th>\n",
       "      <td>95</td>\n",
       "      <td>30</td>\n",
       "      <td>30</td>\n",
       "      <td>95</td>\n",
       "    </tr>\n",
       "    <tr>\n",
       "      <th>2022-12354</th>\n",
       "      <td>90</td>\n",
       "      <td>90</td>\n",
       "      <td>80</td>\n",
       "      <td>90</td>\n",
       "    </tr>\n",
       "  </tbody>\n",
       "</table>\n",
       "</div>"
      ],
      "text/plain": [
       "            att  rep  mid  fin\n",
       "2022-12370   95  100   50   80\n",
       "2022-12488   55   80   75   80\n",
       "2022-12312   80   30   30  100\n",
       "2022-12463   65   45   45   90\n",
       "2022-12396   95   30   30   95\n",
       "2022-12354   90   90   80   90"
      ]
     },
     "execution_count": 99,
     "metadata": {},
     "output_type": "execute_result"
    }
   ],
   "source": [
    "df.query(\"(mid+fin)/2 >= 60\")"
   ]
  },
  {
   "cell_type": "code",
   "execution_count": 102,
   "id": "f0a6afb1-c262-408b-8d1f-34a9d931f5fb",
   "metadata": {},
   "outputs": [
    {
     "data": {
      "text/html": [
       "<div>\n",
       "<style scoped>\n",
       "    .dataframe tbody tr th:only-of-type {\n",
       "        vertical-align: middle;\n",
       "    }\n",
       "\n",
       "    .dataframe tbody tr th {\n",
       "        vertical-align: top;\n",
       "    }\n",
       "\n",
       "    .dataframe thead th {\n",
       "        text-align: right;\n",
       "    }\n",
       "</style>\n",
       "<table border=\"1\" class=\"dataframe\">\n",
       "  <thead>\n",
       "    <tr style=\"text-align: right;\">\n",
       "      <th></th>\n",
       "      <th>att</th>\n",
       "      <th>rep</th>\n",
       "      <th>mid</th>\n",
       "      <th>fin</th>\n",
       "    </tr>\n",
       "  </thead>\n",
       "  <tbody>\n",
       "    <tr>\n",
       "      <th>2022-12370</th>\n",
       "      <td>95</td>\n",
       "      <td>100</td>\n",
       "      <td>50</td>\n",
       "      <td>80</td>\n",
       "    </tr>\n",
       "    <tr>\n",
       "      <th>2022-12312</th>\n",
       "      <td>80</td>\n",
       "      <td>30</td>\n",
       "      <td>30</td>\n",
       "      <td>100</td>\n",
       "    </tr>\n",
       "    <tr>\n",
       "      <th>2022-12377</th>\n",
       "      <td>75</td>\n",
       "      <td>40</td>\n",
       "      <td>100</td>\n",
       "      <td>15</td>\n",
       "    </tr>\n",
       "    <tr>\n",
       "      <th>2022-12400</th>\n",
       "      <td>95</td>\n",
       "      <td>65</td>\n",
       "      <td>20</td>\n",
       "      <td>10</td>\n",
       "    </tr>\n",
       "    <tr>\n",
       "      <th>2022-12469</th>\n",
       "      <td>90</td>\n",
       "      <td>80</td>\n",
       "      <td>80</td>\n",
       "      <td>20</td>\n",
       "    </tr>\n",
       "    <tr>\n",
       "      <th>2022-12432</th>\n",
       "      <td>95</td>\n",
       "      <td>95</td>\n",
       "      <td>45</td>\n",
       "      <td>0</td>\n",
       "    </tr>\n",
       "    <tr>\n",
       "      <th>2022-12443</th>\n",
       "      <td>95</td>\n",
       "      <td>55</td>\n",
       "      <td>15</td>\n",
       "      <td>35</td>\n",
       "    </tr>\n",
       "    <tr>\n",
       "      <th>2022-12396</th>\n",
       "      <td>95</td>\n",
       "      <td>30</td>\n",
       "      <td>30</td>\n",
       "      <td>95</td>\n",
       "    </tr>\n",
       "    <tr>\n",
       "      <th>2022-12354</th>\n",
       "      <td>90</td>\n",
       "      <td>90</td>\n",
       "      <td>80</td>\n",
       "      <td>90</td>\n",
       "    </tr>\n",
       "  </tbody>\n",
       "</table>\n",
       "</div>"
      ],
      "text/plain": [
       "            att  rep  mid  fin\n",
       "2022-12370   95  100   50   80\n",
       "2022-12312   80   30   30  100\n",
       "2022-12377   75   40  100   15\n",
       "2022-12400   95   65   20   10\n",
       "2022-12469   90   80   80   20\n",
       "2022-12432   95   95   45    0\n",
       "2022-12443   95   55   15   35\n",
       "2022-12396   95   30   30   95\n",
       "2022-12354   90   90   80   90"
      ]
     },
     "execution_count": 102,
     "metadata": {},
     "output_type": "execute_result"
    }
   ],
   "source": [
    "_m = df[\"att\"].mean()\n",
    "df.query(\"att > @_m\")"
   ]
  },
  {
   "cell_type": "markdown",
   "id": "1486a41e-392b-4e6b-8fd5-4e6d7690fdec",
   "metadata": {},
   "source": [
    "## 시계열 자료"
   ]
  },
  {
   "cell_type": "markdown",
   "id": "ef545f86-7648-4332-b5c9-222df21fc57e",
   "metadata": {},
   "source": [
    "`-` 10개의 날짜데이터 생성"
   ]
  },
  {
   "cell_type": "code",
   "execution_count": 107,
   "id": "0619e879-fd63-4452-bd7c-c6c181ae3aac",
   "metadata": {},
   "outputs": [],
   "source": [
    "index = pd.date_range(\"20211226\",periods=10)"
   ]
  },
  {
   "cell_type": "markdown",
   "id": "68daedc8-2f26-4c4d-b0f8-238a77372cf6",
   "metadata": {},
   "source": [
    "`-` 데이터 프레임 생성"
   ]
  },
  {
   "cell_type": "code",
   "execution_count": 109,
   "id": "24c6bb00-a85c-4ba2-9c1a-b31fa2c5578f",
   "metadata": {},
   "outputs": [],
   "source": [
    "c =list(\"ABCD\")\n",
    "data = np.random.normal(size=(10,4))"
   ]
  },
  {
   "cell_type": "code",
   "execution_count": 112,
   "id": "31e24039-2a4b-4ece-9190-758f48b5d986",
   "metadata": {},
   "outputs": [],
   "source": [
    "df = pd.DataFrame(data,columns = c,index=index)"
   ]
  },
  {
   "cell_type": "code",
   "execution_count": 114,
   "id": "57515463-2142-4ccd-ad2e-59bd2b3b857b",
   "metadata": {},
   "outputs": [
    {
     "data": {
      "text/html": [
       "<div>\n",
       "<style scoped>\n",
       "    .dataframe tbody tr th:only-of-type {\n",
       "        vertical-align: middle;\n",
       "    }\n",
       "\n",
       "    .dataframe tbody tr th {\n",
       "        vertical-align: top;\n",
       "    }\n",
       "\n",
       "    .dataframe thead th {\n",
       "        text-align: right;\n",
       "    }\n",
       "</style>\n",
       "<table border=\"1\" class=\"dataframe\">\n",
       "  <thead>\n",
       "    <tr style=\"text-align: right;\">\n",
       "      <th></th>\n",
       "      <th>A</th>\n",
       "      <th>B</th>\n",
       "      <th>C</th>\n",
       "      <th>D</th>\n",
       "    </tr>\n",
       "  </thead>\n",
       "  <tbody>\n",
       "    <tr>\n",
       "      <th>2021-12-26</th>\n",
       "      <td>0.117038</td>\n",
       "      <td>-0.350165</td>\n",
       "      <td>0.410882</td>\n",
       "      <td>-0.763975</td>\n",
       "    </tr>\n",
       "    <tr>\n",
       "      <th>2021-12-27</th>\n",
       "      <td>0.766821</td>\n",
       "      <td>1.032189</td>\n",
       "      <td>0.404380</td>\n",
       "      <td>-0.134916</td>\n",
       "    </tr>\n",
       "    <tr>\n",
       "      <th>2021-12-28</th>\n",
       "      <td>-0.767637</td>\n",
       "      <td>-0.642942</td>\n",
       "      <td>-0.247824</td>\n",
       "      <td>-1.457658</td>\n",
       "    </tr>\n",
       "    <tr>\n",
       "      <th>2021-12-29</th>\n",
       "      <td>-0.091060</td>\n",
       "      <td>0.323402</td>\n",
       "      <td>-0.774021</td>\n",
       "      <td>0.659558</td>\n",
       "    </tr>\n",
       "    <tr>\n",
       "      <th>2021-12-30</th>\n",
       "      <td>-0.794595</td>\n",
       "      <td>-2.605380</td>\n",
       "      <td>0.283726</td>\n",
       "      <td>-1.832944</td>\n",
       "    </tr>\n",
       "  </tbody>\n",
       "</table>\n",
       "</div>"
      ],
      "text/plain": [
       "                   A         B         C         D\n",
       "2021-12-26  0.117038 -0.350165  0.410882 -0.763975\n",
       "2021-12-27  0.766821  1.032189  0.404380 -0.134916\n",
       "2021-12-28 -0.767637 -0.642942 -0.247824 -1.457658\n",
       "2021-12-29 -0.091060  0.323402 -0.774021  0.659558\n",
       "2021-12-30 -0.794595 -2.605380  0.283726 -1.832944"
      ]
     },
     "execution_count": 114,
     "metadata": {},
     "output_type": "execute_result"
    }
   ],
   "source": [
    "df.head()"
   ]
  },
  {
   "cell_type": "markdown",
   "id": "f1028fa2-2c10-4542-87bd-512b3a733aac",
   "metadata": {},
   "source": [
    "### ex1. 인덱싱"
   ]
  },
  {
   "cell_type": "code",
   "execution_count": 115,
   "id": "1a6f877d-7f98-4c25-b725-9be523b14971",
   "metadata": {},
   "outputs": [
    {
     "data": {
      "text/html": [
       "<div>\n",
       "<style scoped>\n",
       "    .dataframe tbody tr th:only-of-type {\n",
       "        vertical-align: middle;\n",
       "    }\n",
       "\n",
       "    .dataframe tbody tr th {\n",
       "        vertical-align: top;\n",
       "    }\n",
       "\n",
       "    .dataframe thead th {\n",
       "        text-align: right;\n",
       "    }\n",
       "</style>\n",
       "<table border=\"1\" class=\"dataframe\">\n",
       "  <thead>\n",
       "    <tr style=\"text-align: right;\">\n",
       "      <th></th>\n",
       "      <th>A</th>\n",
       "      <th>B</th>\n",
       "      <th>C</th>\n",
       "      <th>D</th>\n",
       "    </tr>\n",
       "  </thead>\n",
       "  <tbody>\n",
       "    <tr>\n",
       "      <th>2021-12-28</th>\n",
       "      <td>-0.767637</td>\n",
       "      <td>-0.642942</td>\n",
       "      <td>-0.247824</td>\n",
       "      <td>-1.457658</td>\n",
       "    </tr>\n",
       "    <tr>\n",
       "      <th>2021-12-29</th>\n",
       "      <td>-0.091060</td>\n",
       "      <td>0.323402</td>\n",
       "      <td>-0.774021</td>\n",
       "      <td>0.659558</td>\n",
       "    </tr>\n",
       "    <tr>\n",
       "      <th>2021-12-30</th>\n",
       "      <td>-0.794595</td>\n",
       "      <td>-2.605380</td>\n",
       "      <td>0.283726</td>\n",
       "      <td>-1.832944</td>\n",
       "    </tr>\n",
       "    <tr>\n",
       "      <th>2021-12-31</th>\n",
       "      <td>0.292831</td>\n",
       "      <td>0.287421</td>\n",
       "      <td>0.283594</td>\n",
       "      <td>-0.746875</td>\n",
       "    </tr>\n",
       "    <tr>\n",
       "      <th>2022-01-01</th>\n",
       "      <td>-0.918335</td>\n",
       "      <td>0.402325</td>\n",
       "      <td>0.485921</td>\n",
       "      <td>0.122862</td>\n",
       "    </tr>\n",
       "    <tr>\n",
       "      <th>2022-01-02</th>\n",
       "      <td>-0.701718</td>\n",
       "      <td>0.740156</td>\n",
       "      <td>-0.898490</td>\n",
       "      <td>1.038380</td>\n",
       "    </tr>\n",
       "  </tbody>\n",
       "</table>\n",
       "</div>"
      ],
      "text/plain": [
       "                   A         B         C         D\n",
       "2021-12-28 -0.767637 -0.642942 -0.247824 -1.457658\n",
       "2021-12-29 -0.091060  0.323402 -0.774021  0.659558\n",
       "2021-12-30 -0.794595 -2.605380  0.283726 -1.832944\n",
       "2021-12-31  0.292831  0.287421  0.283594 -0.746875\n",
       "2022-01-01 -0.918335  0.402325  0.485921  0.122862\n",
       "2022-01-02 -0.701718  0.740156 -0.898490  1.038380"
      ]
     },
     "execution_count": 115,
     "metadata": {},
     "output_type": "execute_result"
    }
   ],
   "source": [
    "df.loc['2021-12-28':'2022-01-02',:]"
   ]
  },
  {
   "cell_type": "markdown",
   "id": "49ae04ac-54d0-4b0f-8e0b-70d3acc749f3",
   "metadata": {},
   "source": [
    "### ex2. 스트라이딩(샘플링)"
   ]
  },
  {
   "cell_type": "code",
   "execution_count": 116,
   "id": "f612ed16-0a91-4d84-af14-565ddadbd671",
   "metadata": {},
   "outputs": [
    {
     "data": {
      "text/html": [
       "<div>\n",
       "<style scoped>\n",
       "    .dataframe tbody tr th:only-of-type {\n",
       "        vertical-align: middle;\n",
       "    }\n",
       "\n",
       "    .dataframe tbody tr th {\n",
       "        vertical-align: top;\n",
       "    }\n",
       "\n",
       "    .dataframe thead th {\n",
       "        text-align: right;\n",
       "    }\n",
       "</style>\n",
       "<table border=\"1\" class=\"dataframe\">\n",
       "  <thead>\n",
       "    <tr style=\"text-align: right;\">\n",
       "      <th></th>\n",
       "      <th>A</th>\n",
       "      <th>B</th>\n",
       "      <th>C</th>\n",
       "      <th>D</th>\n",
       "    </tr>\n",
       "  </thead>\n",
       "  <tbody>\n",
       "    <tr>\n",
       "      <th>2021-12-26</th>\n",
       "      <td>0.117038</td>\n",
       "      <td>-0.350165</td>\n",
       "      <td>0.410882</td>\n",
       "      <td>-0.763975</td>\n",
       "    </tr>\n",
       "    <tr>\n",
       "      <th>2021-12-29</th>\n",
       "      <td>-0.091060</td>\n",
       "      <td>0.323402</td>\n",
       "      <td>-0.774021</td>\n",
       "      <td>0.659558</td>\n",
       "    </tr>\n",
       "    <tr>\n",
       "      <th>2022-01-01</th>\n",
       "      <td>-0.918335</td>\n",
       "      <td>0.402325</td>\n",
       "      <td>0.485921</td>\n",
       "      <td>0.122862</td>\n",
       "    </tr>\n",
       "    <tr>\n",
       "      <th>2022-01-04</th>\n",
       "      <td>-0.148996</td>\n",
       "      <td>0.234815</td>\n",
       "      <td>-1.412675</td>\n",
       "      <td>-0.706377</td>\n",
       "    </tr>\n",
       "  </tbody>\n",
       "</table>\n",
       "</div>"
      ],
      "text/plain": [
       "                   A         B         C         D\n",
       "2021-12-26  0.117038 -0.350165  0.410882 -0.763975\n",
       "2021-12-29 -0.091060  0.323402 -0.774021  0.659558\n",
       "2022-01-01 -0.918335  0.402325  0.485921  0.122862\n",
       "2022-01-04 -0.148996  0.234815 -1.412675 -0.706377"
      ]
     },
     "execution_count": 116,
     "metadata": {},
     "output_type": "execute_result"
    }
   ],
   "source": [
    "df.loc[::3,:]"
   ]
  },
  {
   "cell_type": "markdown",
   "id": "5a3d50ba-3479-4516-9f23-4c8f6376bbfc",
   "metadata": {},
   "source": [
    "### ex3. query"
   ]
  },
  {
   "cell_type": "code",
   "execution_count": 117,
   "id": "a9b0ab60-69cf-4751-9524-865941a17119",
   "metadata": {},
   "outputs": [
    {
     "data": {
      "text/html": [
       "<div>\n",
       "<style scoped>\n",
       "    .dataframe tbody tr th:only-of-type {\n",
       "        vertical-align: middle;\n",
       "    }\n",
       "\n",
       "    .dataframe tbody tr th {\n",
       "        vertical-align: top;\n",
       "    }\n",
       "\n",
       "    .dataframe thead th {\n",
       "        text-align: right;\n",
       "    }\n",
       "</style>\n",
       "<table border=\"1\" class=\"dataframe\">\n",
       "  <thead>\n",
       "    <tr style=\"text-align: right;\">\n",
       "      <th></th>\n",
       "      <th>A</th>\n",
       "      <th>B</th>\n",
       "      <th>C</th>\n",
       "      <th>D</th>\n",
       "    </tr>\n",
       "  </thead>\n",
       "  <tbody>\n",
       "    <tr>\n",
       "      <th>2021-12-26</th>\n",
       "      <td>0.117038</td>\n",
       "      <td>-0.350165</td>\n",
       "      <td>0.410882</td>\n",
       "      <td>-0.763975</td>\n",
       "    </tr>\n",
       "    <tr>\n",
       "      <th>2021-12-27</th>\n",
       "      <td>0.766821</td>\n",
       "      <td>1.032189</td>\n",
       "      <td>0.404380</td>\n",
       "      <td>-0.134916</td>\n",
       "    </tr>\n",
       "    <tr>\n",
       "      <th>2021-12-28</th>\n",
       "      <td>-0.767637</td>\n",
       "      <td>-0.642942</td>\n",
       "      <td>-0.247824</td>\n",
       "      <td>-1.457658</td>\n",
       "    </tr>\n",
       "    <tr>\n",
       "      <th>2021-12-29</th>\n",
       "      <td>-0.091060</td>\n",
       "      <td>0.323402</td>\n",
       "      <td>-0.774021</td>\n",
       "      <td>0.659558</td>\n",
       "    </tr>\n",
       "    <tr>\n",
       "      <th>2021-12-30</th>\n",
       "      <td>-0.794595</td>\n",
       "      <td>-2.605380</td>\n",
       "      <td>0.283726</td>\n",
       "      <td>-1.832944</td>\n",
       "    </tr>\n",
       "    <tr>\n",
       "      <th>2022-01-02</th>\n",
       "      <td>-0.701718</td>\n",
       "      <td>0.740156</td>\n",
       "      <td>-0.898490</td>\n",
       "      <td>1.038380</td>\n",
       "    </tr>\n",
       "  </tbody>\n",
       "</table>\n",
       "</div>"
      ],
      "text/plain": [
       "                   A         B         C         D\n",
       "2021-12-26  0.117038 -0.350165  0.410882 -0.763975\n",
       "2021-12-27  0.766821  1.032189  0.404380 -0.134916\n",
       "2021-12-28 -0.767637 -0.642942 -0.247824 -1.457658\n",
       "2021-12-29 -0.091060  0.323402 -0.774021  0.659558\n",
       "2021-12-30 -0.794595 -2.605380  0.283726 -1.832944\n",
       "2022-01-02 -0.701718  0.740156 -0.898490  1.038380"
      ]
     },
     "execution_count": 117,
     "metadata": {},
     "output_type": "execute_result"
    }
   ],
   "source": [
    "df.query(\"index <= '2021-12-30' or index=='2022-01-02'\")"
   ]
  },
  {
   "cell_type": "markdown",
   "id": "bf91968e-a001-4c0b-b19f-29ac7df74240",
   "metadata": {},
   "source": [
    "## 더러운 자료"
   ]
  },
  {
   "cell_type": "code",
   "execution_count": 119,
   "id": "5f150236-f6be-442c-b5d1-c76183d414fc",
   "metadata": {},
   "outputs": [
    {
     "data": {
      "text/html": [
       "<div>\n",
       "<style scoped>\n",
       "    .dataframe tbody tr th:only-of-type {\n",
       "        vertical-align: middle;\n",
       "    }\n",
       "\n",
       "    .dataframe tbody tr th {\n",
       "        vertical-align: top;\n",
       "    }\n",
       "\n",
       "    .dataframe thead th {\n",
       "        text-align: right;\n",
       "    }\n",
       "</style>\n",
       "<table border=\"1\" class=\"dataframe\">\n",
       "  <thead>\n",
       "    <tr style=\"text-align: right;\">\n",
       "      <th></th>\n",
       "      <th>att</th>\n",
       "      <th>rep</th>\n",
       "      <th>mid</th>\n",
       "      <th>fin</th>\n",
       "    </tr>\n",
       "  </thead>\n",
       "  <tbody>\n",
       "    <tr>\n",
       "      <th>2022-12380</th>\n",
       "      <td>65</td>\n",
       "      <td>55</td>\n",
       "      <td>50</td>\n",
       "      <td>40</td>\n",
       "    </tr>\n",
       "    <tr>\n",
       "      <th>2022-12370</th>\n",
       "      <td>95</td>\n",
       "      <td>100</td>\n",
       "      <td>50</td>\n",
       "      <td>80</td>\n",
       "    </tr>\n",
       "    <tr>\n",
       "      <th>2022-12363</th>\n",
       "      <td>65</td>\n",
       "      <td>90</td>\n",
       "      <td>60</td>\n",
       "      <td>30</td>\n",
       "    </tr>\n",
       "    <tr>\n",
       "      <th>2022-12488</th>\n",
       "      <td>55</td>\n",
       "      <td>80</td>\n",
       "      <td>75</td>\n",
       "      <td>80</td>\n",
       "    </tr>\n",
       "    <tr>\n",
       "      <th>2022-12312</th>\n",
       "      <td>80</td>\n",
       "      <td>30</td>\n",
       "      <td>30</td>\n",
       "      <td>100</td>\n",
       "    </tr>\n",
       "  </tbody>\n",
       "</table>\n",
       "</div>"
      ],
      "text/plain": [
       "            att  rep  mid  fin\n",
       "2022-12380   65   55   50   40\n",
       "2022-12370   95  100   50   80\n",
       "2022-12363   65   90   60   30\n",
       "2022-12488   55   80   75   80\n",
       "2022-12312   80   30   30  100"
      ]
     },
     "execution_count": 119,
     "metadata": {},
     "output_type": "execute_result"
    }
   ],
   "source": [
    "#| code-fold: true\n",
    "np.random.seed(43052)\n",
    "att = np.random.choice(np.arange(10,21)*5,20)\n",
    "rep = np.random.choice(np.arange(5,21)*5,20)\n",
    "mid = np.random.choice(np.arange(0,21)*5,20)\n",
    "fin = np.random.choice(np.arange(0,21)*5,20)\n",
    "key = ['2022-12'+str(s) for s in np.random.choice(np.arange(300,501),20,replace=False)]\n",
    "df = pd.DataFrame({'att':att,'rep':rep,'mid':mid,'fin':fin},index=key)\n",
    "df.head()"
   ]
  },
  {
   "cell_type": "code",
   "execution_count": 120,
   "id": "80429d3d-a1b5-4ddc-8c02-7e45b631f269",
   "metadata": {},
   "outputs": [
    {
     "data": {
      "text/plain": [
       "2022-12380    65\n",
       "2022-12370    95\n",
       "2022-12363    65\n",
       "2022-12488    55\n",
       "2022-12312    80\n",
       "2022-12377    75\n",
       "2022-12463    65\n",
       "2022-12471    60\n",
       "2022-12400    95\n",
       "2022-12469    90\n",
       "2022-12318    55\n",
       "2022-12432    95\n",
       "2022-12443    95\n",
       "2022-12367    50\n",
       "2022-12458    50\n",
       "2022-12396    95\n",
       "2022-12482    50\n",
       "2022-12452    65\n",
       "2022-12387    70\n",
       "2022-12354    90\n",
       "Name: att, dtype: int32"
      ]
     },
     "execution_count": 120,
     "metadata": {},
     "output_type": "execute_result"
    }
   ],
   "source": [
    "df.att"
   ]
  },
  {
   "cell_type": "markdown",
   "id": "ae2aa56a-f013-4128-91e3-a064d3192b57",
   "metadata": {},
   "source": [
    "`-` 위 방법을 쓰면 쉽게 원하는 컬럼의 접근할 수 있음"
   ]
  },
  {
   "cell_type": "markdown",
   "id": "dfdb4758-0c30-4f98-a261-f68193c211cf",
   "metadata": {},
   "source": [
    "`-` 그러나 컬럼이름에 스페이스가 있으면 쓸 수 없음."
   ]
  },
  {
   "cell_type": "code",
   "execution_count": 121,
   "id": "963c23fb-8ba8-47cc-b1e9-87144e313cab",
   "metadata": {},
   "outputs": [
    {
     "data": {
      "text/html": [
       "<div>\n",
       "<style scoped>\n",
       "    .dataframe tbody tr th:only-of-type {\n",
       "        vertical-align: middle;\n",
       "    }\n",
       "\n",
       "    .dataframe tbody tr th {\n",
       "        vertical-align: top;\n",
       "    }\n",
       "\n",
       "    .dataframe thead th {\n",
       "        text-align: right;\n",
       "    }\n",
       "</style>\n",
       "<table border=\"1\" class=\"dataframe\">\n",
       "  <thead>\n",
       "    <tr style=\"text-align: right;\">\n",
       "      <th></th>\n",
       "      <th>att score</th>\n",
       "      <th>rep score</th>\n",
       "      <th>mid score</th>\n",
       "      <th>fin score</th>\n",
       "    </tr>\n",
       "  </thead>\n",
       "  <tbody>\n",
       "    <tr>\n",
       "      <th>2022-12380</th>\n",
       "      <td>65</td>\n",
       "      <td>55</td>\n",
       "      <td>50</td>\n",
       "      <td>40</td>\n",
       "    </tr>\n",
       "    <tr>\n",
       "      <th>2022-12370</th>\n",
       "      <td>95</td>\n",
       "      <td>100</td>\n",
       "      <td>50</td>\n",
       "      <td>80</td>\n",
       "    </tr>\n",
       "    <tr>\n",
       "      <th>2022-12363</th>\n",
       "      <td>65</td>\n",
       "      <td>90</td>\n",
       "      <td>60</td>\n",
       "      <td>30</td>\n",
       "    </tr>\n",
       "    <tr>\n",
       "      <th>2022-12488</th>\n",
       "      <td>55</td>\n",
       "      <td>80</td>\n",
       "      <td>75</td>\n",
       "      <td>80</td>\n",
       "    </tr>\n",
       "    <tr>\n",
       "      <th>2022-12312</th>\n",
       "      <td>80</td>\n",
       "      <td>30</td>\n",
       "      <td>30</td>\n",
       "      <td>100</td>\n",
       "    </tr>\n",
       "  </tbody>\n",
       "</table>\n",
       "</div>"
      ],
      "text/plain": [
       "            att score  rep score  mid score  fin score\n",
       "2022-12380         65         55         50         40\n",
       "2022-12370         95        100         50         80\n",
       "2022-12363         65         90         60         30\n",
       "2022-12488         55         80         75         80\n",
       "2022-12312         80         30         30        100"
      ]
     },
     "execution_count": 121,
     "metadata": {},
     "output_type": "execute_result"
    }
   ],
   "source": [
    "df.columns = pd.Index(['att score', 'rep score', 'mid score', 'fin score'])\n",
    "df.head()"
   ]
  },
  {
   "cell_type": "code",
   "execution_count": 122,
   "id": "79c72e91-8234-408f-9591-f1ef73626402",
   "metadata": {},
   "outputs": [
    {
     "ename": "SyntaxError",
     "evalue": "invalid syntax (266787719.py, line 1)",
     "output_type": "error",
     "traceback": [
      "\u001b[1;36m  Cell \u001b[1;32mIn[122], line 1\u001b[1;36m\u001b[0m\n\u001b[1;33m    df.att score\u001b[0m\n\u001b[1;37m           ^\u001b[0m\n\u001b[1;31mSyntaxError\u001b[0m\u001b[1;31m:\u001b[0m invalid syntax\n"
     ]
    }
   ],
   "source": [
    "df.att score"
   ]
  },
  {
   "cell_type": "code",
   "execution_count": 123,
   "id": "f0fd5878-84d7-48f4-b480-a34d90f643e3",
   "metadata": {},
   "outputs": [
    {
     "data": {
      "text/plain": [
       "2022-12380    65\n",
       "2022-12370    95\n",
       "2022-12363    65\n",
       "2022-12488    55\n",
       "2022-12312    80\n",
       "2022-12377    75\n",
       "2022-12463    65\n",
       "2022-12471    60\n",
       "2022-12400    95\n",
       "2022-12469    90\n",
       "2022-12318    55\n",
       "2022-12432    95\n",
       "2022-12443    95\n",
       "2022-12367    50\n",
       "2022-12458    50\n",
       "2022-12396    95\n",
       "2022-12482    50\n",
       "2022-12452    65\n",
       "2022-12387    70\n",
       "2022-12354    90\n",
       "Name: att score, dtype: int32"
      ]
     },
     "execution_count": 123,
     "metadata": {},
     "output_type": "execute_result"
    }
   ],
   "source": [
    "df[\"att score\"]"
   ]
  },
  {
   "cell_type": "markdown",
   "id": "094c3edb-9a52-4f1c-919e-9fce6eaa9b59",
   "metadata": {},
   "source": [
    "## 개인습관"
   ]
  },
  {
   "cell_type": "markdown",
   "id": "ceab8083-f4d3-451d-8c70-39d0544b7323",
   "metadata": {},
   "source": [
    "`-` Row의 이름은 없는게 낫다고 생각함// 시계열 자료는 제외"
   ]
  },
  {
   "cell_type": "code",
   "execution_count": 124,
   "id": "a8ec8be7-f039-435d-8ef6-70364680abef",
   "metadata": {},
   "outputs": [
    {
     "data": {
      "text/html": [
       "<div>\n",
       "<style scoped>\n",
       "    .dataframe tbody tr th:only-of-type {\n",
       "        vertical-align: middle;\n",
       "    }\n",
       "\n",
       "    .dataframe tbody tr th {\n",
       "        vertical-align: top;\n",
       "    }\n",
       "\n",
       "    .dataframe thead th {\n",
       "        text-align: right;\n",
       "    }\n",
       "</style>\n",
       "<table border=\"1\" class=\"dataframe\">\n",
       "  <thead>\n",
       "    <tr style=\"text-align: right;\">\n",
       "      <th></th>\n",
       "      <th>att</th>\n",
       "      <th>rep</th>\n",
       "      <th>mid</th>\n",
       "      <th>fin</th>\n",
       "    </tr>\n",
       "  </thead>\n",
       "  <tbody>\n",
       "    <tr>\n",
       "      <th>2022-12380</th>\n",
       "      <td>65</td>\n",
       "      <td>55</td>\n",
       "      <td>50</td>\n",
       "      <td>40</td>\n",
       "    </tr>\n",
       "    <tr>\n",
       "      <th>2022-12370</th>\n",
       "      <td>95</td>\n",
       "      <td>100</td>\n",
       "      <td>50</td>\n",
       "      <td>80</td>\n",
       "    </tr>\n",
       "    <tr>\n",
       "      <th>2022-12363</th>\n",
       "      <td>65</td>\n",
       "      <td>90</td>\n",
       "      <td>60</td>\n",
       "      <td>30</td>\n",
       "    </tr>\n",
       "    <tr>\n",
       "      <th>2022-12488</th>\n",
       "      <td>55</td>\n",
       "      <td>80</td>\n",
       "      <td>75</td>\n",
       "      <td>80</td>\n",
       "    </tr>\n",
       "    <tr>\n",
       "      <th>2022-12312</th>\n",
       "      <td>80</td>\n",
       "      <td>30</td>\n",
       "      <td>30</td>\n",
       "      <td>100</td>\n",
       "    </tr>\n",
       "  </tbody>\n",
       "</table>\n",
       "</div>"
      ],
      "text/plain": [
       "            att  rep  mid  fin\n",
       "2022-12380   65   55   50   40\n",
       "2022-12370   95  100   50   80\n",
       "2022-12363   65   90   60   30\n",
       "2022-12488   55   80   75   80\n",
       "2022-12312   80   30   30  100"
      ]
     },
     "execution_count": 124,
     "metadata": {},
     "output_type": "execute_result"
    }
   ],
   "source": [
    "# code-fold : true\n",
    "np.random.seed(43052)\n",
    "att = np.random.choice(np.arange(10,21)*5,20)\n",
    "rep = np.random.choice(np.arange(5,21)*5,20)\n",
    "mid = np.random.choice(np.arange(0,21)*5,20)\n",
    "fin = np.random.choice(np.arange(0,21)*5,20)\n",
    "key = ['2022-12'+str(s) for s in np.random.choice(np.arange(300,501),20,replace=False)]\n",
    "df = pd.DataFrame({'att':att,'rep':rep,'mid':mid,'fin':fin},index=key)\n",
    "df.head()"
   ]
  },
  {
   "cell_type": "code",
   "execution_count": 128,
   "id": "3aebe9b0-be7b-4330-8b96-1b2f68b25b60",
   "metadata": {},
   "outputs": [],
   "source": [
    "df2 = df.reset_index().rename(columns={\"index\":\"id\"})"
   ]
  },
  {
   "cell_type": "code",
   "execution_count": 130,
   "id": "2a8bfab1-27fb-49bd-a15d-f9aa10255594",
   "metadata": {},
   "outputs": [
    {
     "data": {
      "text/html": [
       "<div>\n",
       "<style scoped>\n",
       "    .dataframe tbody tr th:only-of-type {\n",
       "        vertical-align: middle;\n",
       "    }\n",
       "\n",
       "    .dataframe tbody tr th {\n",
       "        vertical-align: top;\n",
       "    }\n",
       "\n",
       "    .dataframe thead th {\n",
       "        text-align: right;\n",
       "    }\n",
       "</style>\n",
       "<table border=\"1\" class=\"dataframe\">\n",
       "  <thead>\n",
       "    <tr style=\"text-align: right;\">\n",
       "      <th></th>\n",
       "      <th>id</th>\n",
       "      <th>att</th>\n",
       "      <th>rep</th>\n",
       "      <th>mid</th>\n",
       "      <th>fin</th>\n",
       "    </tr>\n",
       "  </thead>\n",
       "  <tbody>\n",
       "    <tr>\n",
       "      <th>0</th>\n",
       "      <td>2022-12380</td>\n",
       "      <td>65</td>\n",
       "      <td>55</td>\n",
       "      <td>50</td>\n",
       "      <td>40</td>\n",
       "    </tr>\n",
       "    <tr>\n",
       "      <th>1</th>\n",
       "      <td>2022-12370</td>\n",
       "      <td>95</td>\n",
       "      <td>100</td>\n",
       "      <td>50</td>\n",
       "      <td>80</td>\n",
       "    </tr>\n",
       "    <tr>\n",
       "      <th>2</th>\n",
       "      <td>2022-12363</td>\n",
       "      <td>65</td>\n",
       "      <td>90</td>\n",
       "      <td>60</td>\n",
       "      <td>30</td>\n",
       "    </tr>\n",
       "    <tr>\n",
       "      <th>3</th>\n",
       "      <td>2022-12488</td>\n",
       "      <td>55</td>\n",
       "      <td>80</td>\n",
       "      <td>75</td>\n",
       "      <td>80</td>\n",
       "    </tr>\n",
       "    <tr>\n",
       "      <th>4</th>\n",
       "      <td>2022-12312</td>\n",
       "      <td>80</td>\n",
       "      <td>30</td>\n",
       "      <td>30</td>\n",
       "      <td>100</td>\n",
       "    </tr>\n",
       "  </tbody>\n",
       "</table>\n",
       "</div>"
      ],
      "text/plain": [
       "           id  att  rep  mid  fin\n",
       "0  2022-12380   65   55   50   40\n",
       "1  2022-12370   95  100   50   80\n",
       "2  2022-12363   65   90   60   30\n",
       "3  2022-12488   55   80   75   80\n",
       "4  2022-12312   80   30   30  100"
      ]
     },
     "execution_count": 130,
     "metadata": {},
     "output_type": "execute_result"
    }
   ],
   "source": [
    "df2.head()"
   ]
  },
  {
   "cell_type": "markdown",
   "id": "5ac9a1f4-66ba-4325-9d25-c44e47d29431",
   "metadata": {},
   "source": [
    "## 컬럼추가($\\star\\star$)"
   ]
  },
  {
   "cell_type": "code",
   "execution_count": 132,
   "id": "909259b8-1136-43a2-87d6-68fe30e50349",
   "metadata": {},
   "outputs": [
    {
     "data": {
      "text/html": [
       "<div>\n",
       "<style scoped>\n",
       "    .dataframe tbody tr th:only-of-type {\n",
       "        vertical-align: middle;\n",
       "    }\n",
       "\n",
       "    .dataframe tbody tr th {\n",
       "        vertical-align: top;\n",
       "    }\n",
       "\n",
       "    .dataframe thead th {\n",
       "        text-align: right;\n",
       "    }\n",
       "</style>\n",
       "<table border=\"1\" class=\"dataframe\">\n",
       "  <thead>\n",
       "    <tr style=\"text-align: right;\">\n",
       "      <th></th>\n",
       "      <th>student_id</th>\n",
       "      <th>att</th>\n",
       "      <th>rep</th>\n",
       "      <th>mid</th>\n",
       "      <th>fin</th>\n",
       "    </tr>\n",
       "  </thead>\n",
       "  <tbody>\n",
       "    <tr>\n",
       "      <th>0</th>\n",
       "      <td>2023-12362</td>\n",
       "      <td>65</td>\n",
       "      <td>55</td>\n",
       "      <td>50</td>\n",
       "      <td>40</td>\n",
       "    </tr>\n",
       "    <tr>\n",
       "      <th>1</th>\n",
       "      <td>2022-12471</td>\n",
       "      <td>95</td>\n",
       "      <td>100</td>\n",
       "      <td>50</td>\n",
       "      <td>80</td>\n",
       "    </tr>\n",
       "    <tr>\n",
       "      <th>2</th>\n",
       "      <td>2023-12333</td>\n",
       "      <td>65</td>\n",
       "      <td>90</td>\n",
       "      <td>60</td>\n",
       "      <td>30</td>\n",
       "    </tr>\n",
       "    <tr>\n",
       "      <th>3</th>\n",
       "      <td>2022-12400</td>\n",
       "      <td>55</td>\n",
       "      <td>80</td>\n",
       "      <td>75</td>\n",
       "      <td>80</td>\n",
       "    </tr>\n",
       "    <tr>\n",
       "      <th>4</th>\n",
       "      <td>2022-12377</td>\n",
       "      <td>80</td>\n",
       "      <td>30</td>\n",
       "      <td>30</td>\n",
       "      <td>100</td>\n",
       "    </tr>\n",
       "  </tbody>\n",
       "</table>\n",
       "</div>"
      ],
      "text/plain": [
       "   student_id  att  rep  mid  fin\n",
       "0  2023-12362   65   55   50   40\n",
       "1  2022-12471   95  100   50   80\n",
       "2  2023-12333   65   90   60   30\n",
       "3  2022-12400   55   80   75   80\n",
       "4  2022-12377   80   30   30  100"
      ]
     },
     "execution_count": 132,
     "metadata": {},
     "output_type": "execute_result"
    }
   ],
   "source": [
    "# code-fold : true\n",
    "\n",
    "np.random.seed(43052)\n",
    "att = np.random.choice(np.arange(10,21)*5,20)\n",
    "rep = np.random.choice(np.arange(5,21)*5,20)\n",
    "mid = np.random.choice(np.arange(0,21)*5,20)\n",
    "fin = np.random.choice(np.arange(0,21)*5,20)\n",
    "student_id = [ '2023-12362', '2022-12471', '2023-12333', '2022-12400', '2022-12377',\n",
    "               '2022-12469', '2023-12314', '2022-12363', '2023-12445', '2023-12336',\n",
    "               '2023-12426', '2022-12380', '2023-12422', '2022-12488', '2022-12370',\n",
    "               '2023-12443', '2022-12463', '2023-12491', '2023-12340', '2022-12312' ]\n",
    "df = pd.DataFrame({'student_id':student_id,'att':att,'rep':rep,'mid':mid,'fin':fin})\n",
    "df.head()"
   ]
  },
  {
   "cell_type": "code",
   "execution_count": 139,
   "id": "6080a2e5-3784-4718-b9da-71c74caafc20",
   "metadata": {},
   "outputs": [],
   "source": [
    "total = df.att*0.1 + df.rep*0.2 + df.mid*0.3 + df.fin*0.4"
   ]
  },
  {
   "cell_type": "code",
   "execution_count": 140,
   "id": "a32bbbc3-5980-4a13-b50b-f5743bbb3852",
   "metadata": {},
   "outputs": [
    {
     "data": {
      "text/html": [
       "<div>\n",
       "<style scoped>\n",
       "    .dataframe tbody tr th:only-of-type {\n",
       "        vertical-align: middle;\n",
       "    }\n",
       "\n",
       "    .dataframe tbody tr th {\n",
       "        vertical-align: top;\n",
       "    }\n",
       "\n",
       "    .dataframe thead th {\n",
       "        text-align: right;\n",
       "    }\n",
       "</style>\n",
       "<table border=\"1\" class=\"dataframe\">\n",
       "  <thead>\n",
       "    <tr style=\"text-align: right;\">\n",
       "      <th></th>\n",
       "      <th>student_id</th>\n",
       "      <th>att</th>\n",
       "      <th>rep</th>\n",
       "      <th>mid</th>\n",
       "      <th>fin</th>\n",
       "      <th>total</th>\n",
       "    </tr>\n",
       "  </thead>\n",
       "  <tbody>\n",
       "    <tr>\n",
       "      <th>0</th>\n",
       "      <td>2023-12362</td>\n",
       "      <td>65</td>\n",
       "      <td>55</td>\n",
       "      <td>50</td>\n",
       "      <td>40</td>\n",
       "      <td>48.5</td>\n",
       "    </tr>\n",
       "    <tr>\n",
       "      <th>1</th>\n",
       "      <td>2022-12471</td>\n",
       "      <td>95</td>\n",
       "      <td>100</td>\n",
       "      <td>50</td>\n",
       "      <td>80</td>\n",
       "      <td>76.5</td>\n",
       "    </tr>\n",
       "    <tr>\n",
       "      <th>2</th>\n",
       "      <td>2023-12333</td>\n",
       "      <td>65</td>\n",
       "      <td>90</td>\n",
       "      <td>60</td>\n",
       "      <td>30</td>\n",
       "      <td>54.5</td>\n",
       "    </tr>\n",
       "    <tr>\n",
       "      <th>3</th>\n",
       "      <td>2022-12400</td>\n",
       "      <td>55</td>\n",
       "      <td>80</td>\n",
       "      <td>75</td>\n",
       "      <td>80</td>\n",
       "      <td>76.0</td>\n",
       "    </tr>\n",
       "    <tr>\n",
       "      <th>4</th>\n",
       "      <td>2022-12377</td>\n",
       "      <td>80</td>\n",
       "      <td>30</td>\n",
       "      <td>30</td>\n",
       "      <td>100</td>\n",
       "      <td>63.0</td>\n",
       "    </tr>\n",
       "  </tbody>\n",
       "</table>\n",
       "</div>"
      ],
      "text/plain": [
       "   student_id  att  rep  mid  fin  total\n",
       "0  2023-12362   65   55   50   40   48.5\n",
       "1  2022-12471   95  100   50   80   76.5\n",
       "2  2023-12333   65   90   60   30   54.5\n",
       "3  2022-12400   55   80   75   80   76.0\n",
       "4  2022-12377   80   30   30  100   63.0"
      ]
     },
     "execution_count": 140,
     "metadata": {},
     "output_type": "execute_result"
    }
   ],
   "source": [
    "df.assign(total=total).head()"
   ]
  },
  {
   "cell_type": "code",
   "execution_count": 143,
   "id": "5731c324-4696-40be-9c22-2cf549577c91",
   "metadata": {},
   "outputs": [
    {
     "data": {
      "text/html": [
       "<div>\n",
       "<style scoped>\n",
       "    .dataframe tbody tr th:only-of-type {\n",
       "        vertical-align: middle;\n",
       "    }\n",
       "\n",
       "    .dataframe tbody tr th {\n",
       "        vertical-align: top;\n",
       "    }\n",
       "\n",
       "    .dataframe thead th {\n",
       "        text-align: right;\n",
       "    }\n",
       "</style>\n",
       "<table border=\"1\" class=\"dataframe\">\n",
       "  <thead>\n",
       "    <tr style=\"text-align: right;\">\n",
       "      <th></th>\n",
       "      <th>student_id</th>\n",
       "      <th>att</th>\n",
       "      <th>rep</th>\n",
       "      <th>mid</th>\n",
       "      <th>fin</th>\n",
       "      <th>total</th>\n",
       "    </tr>\n",
       "  </thead>\n",
       "  <tbody>\n",
       "    <tr>\n",
       "      <th>0</th>\n",
       "      <td>2023-12362</td>\n",
       "      <td>65</td>\n",
       "      <td>55</td>\n",
       "      <td>50</td>\n",
       "      <td>40</td>\n",
       "      <td>48.5</td>\n",
       "    </tr>\n",
       "    <tr>\n",
       "      <th>1</th>\n",
       "      <td>2022-12471</td>\n",
       "      <td>95</td>\n",
       "      <td>100</td>\n",
       "      <td>50</td>\n",
       "      <td>80</td>\n",
       "      <td>76.5</td>\n",
       "    </tr>\n",
       "    <tr>\n",
       "      <th>2</th>\n",
       "      <td>2023-12333</td>\n",
       "      <td>65</td>\n",
       "      <td>90</td>\n",
       "      <td>60</td>\n",
       "      <td>30</td>\n",
       "      <td>54.5</td>\n",
       "    </tr>\n",
       "    <tr>\n",
       "      <th>3</th>\n",
       "      <td>2022-12400</td>\n",
       "      <td>55</td>\n",
       "      <td>80</td>\n",
       "      <td>75</td>\n",
       "      <td>80</td>\n",
       "      <td>76.0</td>\n",
       "    </tr>\n",
       "    <tr>\n",
       "      <th>4</th>\n",
       "      <td>2022-12377</td>\n",
       "      <td>80</td>\n",
       "      <td>30</td>\n",
       "      <td>30</td>\n",
       "      <td>100</td>\n",
       "      <td>63.0</td>\n",
       "    </tr>\n",
       "  </tbody>\n",
       "</table>\n",
       "</div>"
      ],
      "text/plain": [
       "   student_id  att  rep  mid  fin  total\n",
       "0  2023-12362   65   55   50   40   48.5\n",
       "1  2022-12471   95  100   50   80   76.5\n",
       "2  2023-12333   65   90   60   30   54.5\n",
       "3  2022-12400   55   80   75   80   76.0\n",
       "4  2022-12377   80   30   30  100   63.0"
      ]
     },
     "execution_count": 143,
     "metadata": {},
     "output_type": "execute_result"
    }
   ],
   "source": [
    "df.eval('total = att*0.1 + rep*0.2 + mid*0.3 + fin*0.4').head() "
   ]
  },
  {
   "cell_type": "code",
   "execution_count": 144,
   "id": "88e3ee49-578d-4be5-9d89-b26f7e076659",
   "metadata": {},
   "outputs": [
    {
     "data": {
      "text/html": [
       "<div>\n",
       "<style scoped>\n",
       "    .dataframe tbody tr th:only-of-type {\n",
       "        vertical-align: middle;\n",
       "    }\n",
       "\n",
       "    .dataframe tbody tr th {\n",
       "        vertical-align: top;\n",
       "    }\n",
       "\n",
       "    .dataframe thead th {\n",
       "        text-align: right;\n",
       "    }\n",
       "</style>\n",
       "<table border=\"1\" class=\"dataframe\">\n",
       "  <thead>\n",
       "    <tr style=\"text-align: right;\">\n",
       "      <th></th>\n",
       "      <th>student_id</th>\n",
       "      <th>att</th>\n",
       "      <th>rep</th>\n",
       "      <th>mid</th>\n",
       "      <th>fin</th>\n",
       "      <th>total</th>\n",
       "    </tr>\n",
       "  </thead>\n",
       "  <tbody>\n",
       "    <tr>\n",
       "      <th>0</th>\n",
       "      <td>2023-12362</td>\n",
       "      <td>65</td>\n",
       "      <td>55</td>\n",
       "      <td>50</td>\n",
       "      <td>40</td>\n",
       "      <td>48.5</td>\n",
       "    </tr>\n",
       "    <tr>\n",
       "      <th>1</th>\n",
       "      <td>2022-12471</td>\n",
       "      <td>95</td>\n",
       "      <td>100</td>\n",
       "      <td>50</td>\n",
       "      <td>80</td>\n",
       "      <td>76.5</td>\n",
       "    </tr>\n",
       "    <tr>\n",
       "      <th>2</th>\n",
       "      <td>2023-12333</td>\n",
       "      <td>65</td>\n",
       "      <td>90</td>\n",
       "      <td>60</td>\n",
       "      <td>30</td>\n",
       "      <td>54.5</td>\n",
       "    </tr>\n",
       "    <tr>\n",
       "      <th>3</th>\n",
       "      <td>2022-12400</td>\n",
       "      <td>55</td>\n",
       "      <td>80</td>\n",
       "      <td>75</td>\n",
       "      <td>80</td>\n",
       "      <td>76.0</td>\n",
       "    </tr>\n",
       "    <tr>\n",
       "      <th>4</th>\n",
       "      <td>2022-12377</td>\n",
       "      <td>80</td>\n",
       "      <td>30</td>\n",
       "      <td>30</td>\n",
       "      <td>100</td>\n",
       "      <td>63.0</td>\n",
       "    </tr>\n",
       "  </tbody>\n",
       "</table>\n",
       "</div>"
      ],
      "text/plain": [
       "   student_id  att  rep  mid  fin  total\n",
       "0  2023-12362   65   55   50   40   48.5\n",
       "1  2022-12471   95  100   50   80   76.5\n",
       "2  2023-12333   65   90   60   30   54.5\n",
       "3  2022-12400   55   80   75   80   76.0\n",
       "4  2022-12377   80   30   30  100   63.0"
      ]
     },
     "execution_count": 144,
     "metadata": {},
     "output_type": "execute_result"
    }
   ],
   "source": [
    "df['total'] = df.att*0.1 + df.rep*0.2 + df.mid*0.3 + df.fin*0.4\n",
    "df.head()"
   ]
  },
  {
   "cell_type": "markdown",
   "id": "92100a86-140c-40bb-88f1-330d639e73f8",
   "metadata": {},
   "source": [
    "`-` 입학년도 변수 추가"
   ]
  },
  {
   "cell_type": "code",
   "execution_count": 148,
   "id": "33ae80b1-bfad-4e24-ab02-249f0c4e2730",
   "metadata": {},
   "outputs": [
    {
     "data": {
      "text/html": [
       "<div>\n",
       "<style scoped>\n",
       "    .dataframe tbody tr th:only-of-type {\n",
       "        vertical-align: middle;\n",
       "    }\n",
       "\n",
       "    .dataframe tbody tr th {\n",
       "        vertical-align: top;\n",
       "    }\n",
       "\n",
       "    .dataframe thead th {\n",
       "        text-align: right;\n",
       "    }\n",
       "</style>\n",
       "<table border=\"1\" class=\"dataframe\">\n",
       "  <thead>\n",
       "    <tr style=\"text-align: right;\">\n",
       "      <th></th>\n",
       "      <th>student_id</th>\n",
       "      <th>att</th>\n",
       "      <th>rep</th>\n",
       "      <th>mid</th>\n",
       "      <th>fin</th>\n",
       "      <th>total</th>\n",
       "      <th>year</th>\n",
       "    </tr>\n",
       "  </thead>\n",
       "  <tbody>\n",
       "    <tr>\n",
       "      <th>0</th>\n",
       "      <td>2023-12362</td>\n",
       "      <td>65</td>\n",
       "      <td>55</td>\n",
       "      <td>50</td>\n",
       "      <td>40</td>\n",
       "      <td>48.5</td>\n",
       "      <td>2023</td>\n",
       "    </tr>\n",
       "    <tr>\n",
       "      <th>1</th>\n",
       "      <td>2022-12471</td>\n",
       "      <td>95</td>\n",
       "      <td>100</td>\n",
       "      <td>50</td>\n",
       "      <td>80</td>\n",
       "      <td>76.5</td>\n",
       "      <td>2022</td>\n",
       "    </tr>\n",
       "    <tr>\n",
       "      <th>2</th>\n",
       "      <td>2023-12333</td>\n",
       "      <td>65</td>\n",
       "      <td>90</td>\n",
       "      <td>60</td>\n",
       "      <td>30</td>\n",
       "      <td>54.5</td>\n",
       "      <td>2023</td>\n",
       "    </tr>\n",
       "    <tr>\n",
       "      <th>3</th>\n",
       "      <td>2022-12400</td>\n",
       "      <td>55</td>\n",
       "      <td>80</td>\n",
       "      <td>75</td>\n",
       "      <td>80</td>\n",
       "      <td>76.0</td>\n",
       "      <td>2022</td>\n",
       "    </tr>\n",
       "    <tr>\n",
       "      <th>4</th>\n",
       "      <td>2022-12377</td>\n",
       "      <td>80</td>\n",
       "      <td>30</td>\n",
       "      <td>30</td>\n",
       "      <td>100</td>\n",
       "      <td>63.0</td>\n",
       "      <td>2022</td>\n",
       "    </tr>\n",
       "    <tr>\n",
       "      <th>5</th>\n",
       "      <td>2022-12469</td>\n",
       "      <td>75</td>\n",
       "      <td>40</td>\n",
       "      <td>100</td>\n",
       "      <td>15</td>\n",
       "      <td>51.5</td>\n",
       "      <td>2022</td>\n",
       "    </tr>\n",
       "    <tr>\n",
       "      <th>6</th>\n",
       "      <td>2023-12314</td>\n",
       "      <td>65</td>\n",
       "      <td>45</td>\n",
       "      <td>45</td>\n",
       "      <td>90</td>\n",
       "      <td>65.0</td>\n",
       "      <td>2023</td>\n",
       "    </tr>\n",
       "    <tr>\n",
       "      <th>7</th>\n",
       "      <td>2022-12363</td>\n",
       "      <td>60</td>\n",
       "      <td>60</td>\n",
       "      <td>25</td>\n",
       "      <td>0</td>\n",
       "      <td>25.5</td>\n",
       "      <td>2022</td>\n",
       "    </tr>\n",
       "    <tr>\n",
       "      <th>8</th>\n",
       "      <td>2023-12445</td>\n",
       "      <td>95</td>\n",
       "      <td>65</td>\n",
       "      <td>20</td>\n",
       "      <td>10</td>\n",
       "      <td>32.5</td>\n",
       "      <td>2023</td>\n",
       "    </tr>\n",
       "    <tr>\n",
       "      <th>9</th>\n",
       "      <td>2023-12336</td>\n",
       "      <td>90</td>\n",
       "      <td>80</td>\n",
       "      <td>80</td>\n",
       "      <td>20</td>\n",
       "      <td>57.0</td>\n",
       "      <td>2023</td>\n",
       "    </tr>\n",
       "    <tr>\n",
       "      <th>10</th>\n",
       "      <td>2023-12426</td>\n",
       "      <td>55</td>\n",
       "      <td>75</td>\n",
       "      <td>35</td>\n",
       "      <td>25</td>\n",
       "      <td>41.0</td>\n",
       "      <td>2023</td>\n",
       "    </tr>\n",
       "    <tr>\n",
       "      <th>11</th>\n",
       "      <td>2022-12380</td>\n",
       "      <td>95</td>\n",
       "      <td>95</td>\n",
       "      <td>45</td>\n",
       "      <td>0</td>\n",
       "      <td>42.0</td>\n",
       "      <td>2022</td>\n",
       "    </tr>\n",
       "    <tr>\n",
       "      <th>12</th>\n",
       "      <td>2023-12422</td>\n",
       "      <td>95</td>\n",
       "      <td>55</td>\n",
       "      <td>15</td>\n",
       "      <td>35</td>\n",
       "      <td>39.0</td>\n",
       "      <td>2023</td>\n",
       "    </tr>\n",
       "    <tr>\n",
       "      <th>13</th>\n",
       "      <td>2022-12488</td>\n",
       "      <td>50</td>\n",
       "      <td>80</td>\n",
       "      <td>40</td>\n",
       "      <td>30</td>\n",
       "      <td>45.0</td>\n",
       "      <td>2022</td>\n",
       "    </tr>\n",
       "    <tr>\n",
       "      <th>14</th>\n",
       "      <td>2022-12370</td>\n",
       "      <td>50</td>\n",
       "      <td>55</td>\n",
       "      <td>15</td>\n",
       "      <td>85</td>\n",
       "      <td>54.5</td>\n",
       "      <td>2022</td>\n",
       "    </tr>\n",
       "    <tr>\n",
       "      <th>15</th>\n",
       "      <td>2023-12443</td>\n",
       "      <td>95</td>\n",
       "      <td>30</td>\n",
       "      <td>30</td>\n",
       "      <td>95</td>\n",
       "      <td>62.5</td>\n",
       "      <td>2023</td>\n",
       "    </tr>\n",
       "    <tr>\n",
       "      <th>16</th>\n",
       "      <td>2022-12463</td>\n",
       "      <td>50</td>\n",
       "      <td>50</td>\n",
       "      <td>45</td>\n",
       "      <td>10</td>\n",
       "      <td>32.5</td>\n",
       "      <td>2022</td>\n",
       "    </tr>\n",
       "    <tr>\n",
       "      <th>17</th>\n",
       "      <td>2023-12491</td>\n",
       "      <td>65</td>\n",
       "      <td>55</td>\n",
       "      <td>15</td>\n",
       "      <td>45</td>\n",
       "      <td>40.0</td>\n",
       "      <td>2023</td>\n",
       "    </tr>\n",
       "    <tr>\n",
       "      <th>18</th>\n",
       "      <td>2023-12340</td>\n",
       "      <td>70</td>\n",
       "      <td>70</td>\n",
       "      <td>40</td>\n",
       "      <td>35</td>\n",
       "      <td>47.0</td>\n",
       "      <td>2023</td>\n",
       "    </tr>\n",
       "    <tr>\n",
       "      <th>19</th>\n",
       "      <td>2022-12312</td>\n",
       "      <td>90</td>\n",
       "      <td>90</td>\n",
       "      <td>80</td>\n",
       "      <td>90</td>\n",
       "      <td>87.0</td>\n",
       "      <td>2022</td>\n",
       "    </tr>\n",
       "  </tbody>\n",
       "</table>\n",
       "</div>"
      ],
      "text/plain": [
       "    student_id  att  rep  mid  fin  total  year\n",
       "0   2023-12362   65   55   50   40   48.5  2023\n",
       "1   2022-12471   95  100   50   80   76.5  2022\n",
       "2   2023-12333   65   90   60   30   54.5  2023\n",
       "3   2022-12400   55   80   75   80   76.0  2022\n",
       "4   2022-12377   80   30   30  100   63.0  2022\n",
       "5   2022-12469   75   40  100   15   51.5  2022\n",
       "6   2023-12314   65   45   45   90   65.0  2023\n",
       "7   2022-12363   60   60   25    0   25.5  2022\n",
       "8   2023-12445   95   65   20   10   32.5  2023\n",
       "9   2023-12336   90   80   80   20   57.0  2023\n",
       "10  2023-12426   55   75   35   25   41.0  2023\n",
       "11  2022-12380   95   95   45    0   42.0  2022\n",
       "12  2023-12422   95   55   15   35   39.0  2023\n",
       "13  2022-12488   50   80   40   30   45.0  2022\n",
       "14  2022-12370   50   55   15   85   54.5  2022\n",
       "15  2023-12443   95   30   30   95   62.5  2023\n",
       "16  2022-12463   50   50   45   10   32.5  2022\n",
       "17  2023-12491   65   55   15   45   40.0  2023\n",
       "18  2023-12340   70   70   40   35   47.0  2023\n",
       "19  2022-12312   90   90   80   90   87.0  2022"
      ]
     },
     "execution_count": 148,
     "metadata": {},
     "output_type": "execute_result"
    }
   ],
   "source": [
    "df.assign(year = [i.split(\"-\")[0] for i in df.student_id])"
   ]
  },
  {
   "cell_type": "markdown",
   "id": "d4d66791-db40-43aa-afb4-7c5cd92ff473",
   "metadata": {},
   "source": [
    "# excercise"
   ]
  },
  {
   "cell_type": "markdown",
   "id": "fe7b6842-171a-46ea-8fff-18cf9c05aaa2",
   "metadata": {},
   "source": [
    "`-` 아래자료는 학생들이 R과 Python을 공부한 평균시간이다."
   ]
  },
  {
   "cell_type": "code",
   "execution_count": 149,
   "id": "a67eb3ff-dcd7-4d9c-ad32-1ef28ff4bab0",
   "metadata": {},
   "outputs": [
    {
     "data": {
      "text/html": [
       "<div>\n",
       "<style scoped>\n",
       "    .dataframe tbody tr th:only-of-type {\n",
       "        vertical-align: middle;\n",
       "    }\n",
       "\n",
       "    .dataframe tbody tr th {\n",
       "        vertical-align: top;\n",
       "    }\n",
       "\n",
       "    .dataframe thead th {\n",
       "        text-align: right;\n",
       "    }\n",
       "</style>\n",
       "<table border=\"1\" class=\"dataframe\">\n",
       "  <thead>\n",
       "    <tr style=\"text-align: right;\">\n",
       "      <th></th>\n",
       "      <th>hours(R)</th>\n",
       "      <th>hours(Python)</th>\n",
       "    </tr>\n",
       "  </thead>\n",
       "  <tbody>\n",
       "    <tr>\n",
       "      <th>2023-04-24(Mon)</th>\n",
       "      <td>11.064829</td>\n",
       "      <td>9.254671</td>\n",
       "    </tr>\n",
       "    <tr>\n",
       "      <th>2023-04-25(Tue)</th>\n",
       "      <td>9.790750</td>\n",
       "      <td>7.327548</td>\n",
       "    </tr>\n",
       "    <tr>\n",
       "      <th>2023-04-26(Wed)</th>\n",
       "      <td>5.993362</td>\n",
       "      <td>9.185495</td>\n",
       "    </tr>\n",
       "    <tr>\n",
       "      <th>2023-04-27(Thu)</th>\n",
       "      <td>7.542498</td>\n",
       "      <td>12.525569</td>\n",
       "    </tr>\n",
       "    <tr>\n",
       "      <th>2023-04-28(Fri)</th>\n",
       "      <td>8.598600</td>\n",
       "      <td>10.906909</td>\n",
       "    </tr>\n",
       "    <tr>\n",
       "      <th>2023-05-01(Mon)</th>\n",
       "      <td>6.933549</td>\n",
       "      <td>9.865538</td>\n",
       "    </tr>\n",
       "    <tr>\n",
       "      <th>2023-05-02(Tue)</th>\n",
       "      <td>6.456987</td>\n",
       "      <td>11.081043</td>\n",
       "    </tr>\n",
       "    <tr>\n",
       "      <th>2023-05-03(Wed)</th>\n",
       "      <td>4.976548</td>\n",
       "      <td>10.240239</td>\n",
       "    </tr>\n",
       "    <tr>\n",
       "      <th>2023-05-04(Thu)</th>\n",
       "      <td>6.021139</td>\n",
       "      <td>5.822405</td>\n",
       "    </tr>\n",
       "    <tr>\n",
       "      <th>2023-05-05(Fri)</th>\n",
       "      <td>1.851839</td>\n",
       "      <td>5.522484</td>\n",
       "    </tr>\n",
       "    <tr>\n",
       "      <th>2023-05-08(Mon)</th>\n",
       "      <td>1.000000</td>\n",
       "      <td>4.319094</td>\n",
       "    </tr>\n",
       "    <tr>\n",
       "      <th>2023-05-09(Tue)</th>\n",
       "      <td>1.350073</td>\n",
       "      <td>1.000000</td>\n",
       "    </tr>\n",
       "    <tr>\n",
       "      <th>2023-05-10(Wed)</th>\n",
       "      <td>3.138700</td>\n",
       "      <td>2.633662</td>\n",
       "    </tr>\n",
       "    <tr>\n",
       "      <th>2023-05-11(Thu)</th>\n",
       "      <td>3.153756</td>\n",
       "      <td>4.870860</td>\n",
       "    </tr>\n",
       "    <tr>\n",
       "      <th>2023-05-12(Fri)</th>\n",
       "      <td>1.353976</td>\n",
       "      <td>1.785441</td>\n",
       "    </tr>\n",
       "  </tbody>\n",
       "</table>\n",
       "</div>"
      ],
      "text/plain": [
       "                  hours(R)  hours(Python)\n",
       "2023-04-24(Mon)  11.064829       9.254671\n",
       "2023-04-25(Tue)   9.790750       7.327548\n",
       "2023-04-26(Wed)   5.993362       9.185495\n",
       "2023-04-27(Thu)   7.542498      12.525569\n",
       "2023-04-28(Fri)   8.598600      10.906909\n",
       "2023-05-01(Mon)   6.933549       9.865538\n",
       "2023-05-02(Tue)   6.456987      11.081043\n",
       "2023-05-03(Wed)   4.976548      10.240239\n",
       "2023-05-04(Thu)   6.021139       5.822405\n",
       "2023-05-05(Fri)   1.851839       5.522484\n",
       "2023-05-08(Mon)   1.000000       4.319094\n",
       "2023-05-09(Tue)   1.350073       1.000000\n",
       "2023-05-10(Wed)   3.138700       2.633662\n",
       "2023-05-11(Thu)   3.153756       4.870860\n",
       "2023-05-12(Fri)   1.353976       1.785441"
      ]
     },
     "execution_count": 149,
     "metadata": {},
     "output_type": "execute_result"
    }
   ],
   "source": [
    "#code-fold : true\n",
    "np.random.seed(20230426)\n",
    "day = ['2023-04-24(Mon)','2023-04-25(Tue)','2023-04-26(Wed)','2023-04-27(Thu)','2023-04-28(Fri)',\n",
    "       '2023-05-01(Mon)','2023-05-02(Tue)','2023-05-03(Wed)','2023-05-04(Thu)','2023-05-05(Fri)',\n",
    "       '2023-05-08(Mon)','2023-05-09(Tue)','2023-05-10(Wed)','2023-05-11(Thu)','2023-05-12(Fri)']\n",
    "hours1 = np.random.randn(15).cumsum()*2\n",
    "hours1 = hours1 - hours1.min() +1\n",
    "hours2 = np.random.randn(15).cumsum()*2\n",
    "hours2 = hours2 - hours2.min() +1\n",
    "\n",
    "df = pd.DataFrame({'hours(R)':hours1, 'hours(Python)':hours2},index=day)\n",
    "df"
   ]
  },
  {
   "cell_type": "markdown",
   "id": "8aa51792-2ce9-4d96-b89d-c57850c21732",
   "metadata": {},
   "source": [
    "## (1) 인덱스를 reset하고 컬럼으로 변경"
   ]
  },
  {
   "cell_type": "code",
   "execution_count": 182,
   "id": "6eb7d7b5-613e-4212-9782-fb0674f8e32c",
   "metadata": {},
   "outputs": [],
   "source": [
    "df2= df.reset_index()"
   ]
  },
  {
   "cell_type": "code",
   "execution_count": 186,
   "id": "43ec0fc9-1167-463e-ba31-ab576450d3fc",
   "metadata": {},
   "outputs": [],
   "source": [
    "index = [i.replace(\")\",\"\").split(\"(\") for i in df2[\"index\"]]"
   ]
  },
  {
   "cell_type": "code",
   "execution_count": 191,
   "id": "5565696b-e070-45f8-800a-893f2c7af258",
   "metadata": {},
   "outputs": [],
   "source": [
    "df2 = df2.assign(\n",
    "    day = [i for i,_ in index],\n",
    "    weekday = [i for _,i in index]\n",
    "     )"
   ]
  },
  {
   "cell_type": "markdown",
   "id": "703de1e2-4abd-43db-bf08-7c85ea3e9f8d",
   "metadata": {},
   "source": [
    "## (2) 4월달에 전북대학교 학생들은 R과 python중 어떤 과목을 더 많이 공부하였는가?"
   ]
  },
  {
   "cell_type": "code",
   "execution_count": 197,
   "id": "9854187d-bccf-4521-81f4-ed959484e878",
   "metadata": {},
   "outputs": [],
   "source": [
    "df4= df2.query(\"'2023-04-01' <= day <='2023-04-30'\")"
   ]
  },
  {
   "cell_type": "code",
   "execution_count": 208,
   "id": "3949204d-ef1a-471f-bca2-ad6f8bbb109b",
   "metadata": {},
   "outputs": [
    {
     "data": {
      "text/plain": [
       "42.99003889835529"
      ]
     },
     "execution_count": 208,
     "metadata": {},
     "output_type": "execute_result"
    }
   ],
   "source": [
    "df4[\"hours(R)\"].sum()"
   ]
  },
  {
   "cell_type": "code",
   "execution_count": 209,
   "id": "57ce6034-6f06-4e27-85e1-3a401bdea1b9",
   "metadata": {},
   "outputs": [
    {
     "data": {
      "text/plain": [
       "49.20019054928582"
      ]
     },
     "execution_count": 209,
     "metadata": {},
     "output_type": "execute_result"
    }
   ],
   "source": [
    "df4[\"hours(Python)\"].sum()"
   ]
  },
  {
   "cell_type": "markdown",
   "id": "70a8d620-c5ac-45ac-b4b0-d5da9d841e05",
   "metadata": {},
   "source": [
    "## (3) \"월-금\" 사이의 요일 중 R을 가장 열심히 공부한 요일은 어느 요일인가?"
   ]
  },
  {
   "cell_type": "code",
   "execution_count": 221,
   "id": "3d9349ea-171c-4172-b439-2597af0938b9",
   "metadata": {},
   "outputs": [
    {
     "data": {
      "text/plain": [
       "weekday\n",
       "Fri    11.804415\n",
       "Mon    18.998378\n",
       "Thu    16.717393\n",
       "Tue    17.597811\n",
       "Wed    14.108609\n",
       "Name: hours(R), dtype: float64"
      ]
     },
     "execution_count": 221,
     "metadata": {},
     "output_type": "execute_result"
    }
   ],
   "source": [
    "df2.groupby(\"weekday\")[\"hours(R)\"].sum()"
   ]
  },
  {
   "cell_type": "markdown",
   "id": "412e9a7b-a7a0-4d5a-a906-aa1b19a49f30",
   "metadata": {},
   "source": [
    "## (4) \"월-금\"사이의 요잉중 Python과 R의 합계 학습량이 가장 큰 요일은? "
   ]
  },
  {
   "cell_type": "code",
   "execution_count": 232,
   "id": "50451a25-f954-4d2b-ad35-b8f7403c2398",
   "metadata": {},
   "outputs": [
    {
     "data": {
      "text/plain": [
       "2023-04-24(Mon)    20.319500\n",
       "2023-04-25(Tue)    17.118298\n",
       "2023-04-26(Wed)    15.178856\n",
       "2023-04-27(Thu)    20.068066\n",
       "2023-04-28(Fri)    19.505508\n",
       "2023-05-01(Mon)    16.799086\n",
       "2023-05-02(Tue)    17.538030\n",
       "2023-05-03(Wed)    15.216786\n",
       "2023-05-04(Thu)    11.843545\n",
       "2023-05-05(Fri)     7.374323\n",
       "2023-05-08(Mon)     5.319094\n",
       "2023-05-09(Tue)     2.350073\n",
       "2023-05-10(Wed)     5.772362\n",
       "2023-05-11(Thu)     8.024616\n",
       "2023-05-12(Fri)     3.139417\n",
       "dtype: float64"
      ]
     },
     "execution_count": 232,
     "metadata": {},
     "output_type": "execute_result"
    }
   ],
   "source": [
    " df[\"hours(R)\"] + df[\"hours(Python)\"]"
   ]
  },
  {
   "cell_type": "code",
   "execution_count": 243,
   "id": "90111e83-13cd-4985-a277-3528849d3668",
   "metadata": {},
   "outputs": [],
   "source": [
    "df2 = df2.assign(total = df2[\"hours(R)\"] + df2[\"hours(Python)\"])"
   ]
  },
  {
   "cell_type": "code",
   "execution_count": 246,
   "id": "82dfdfb6-7a2e-4a64-9c25-a6363e4d2b7a",
   "metadata": {},
   "outputs": [
    {
     "data": {
      "text/html": [
       "<div>\n",
       "<style scoped>\n",
       "    .dataframe tbody tr th:only-of-type {\n",
       "        vertical-align: middle;\n",
       "    }\n",
       "\n",
       "    .dataframe tbody tr th {\n",
       "        vertical-align: top;\n",
       "    }\n",
       "\n",
       "    .dataframe thead th {\n",
       "        text-align: right;\n",
       "    }\n",
       "</style>\n",
       "<table border=\"1\" class=\"dataframe\">\n",
       "  <thead>\n",
       "    <tr style=\"text-align: right;\">\n",
       "      <th></th>\n",
       "      <th>total</th>\n",
       "    </tr>\n",
       "    <tr>\n",
       "      <th>weekday</th>\n",
       "      <th></th>\n",
       "    </tr>\n",
       "  </thead>\n",
       "  <tbody>\n",
       "    <tr>\n",
       "      <th>Fri</th>\n",
       "      <td>30.019248</td>\n",
       "    </tr>\n",
       "    <tr>\n",
       "      <th>Mon</th>\n",
       "      <td>42.437680</td>\n",
       "    </tr>\n",
       "    <tr>\n",
       "      <th>Thu</th>\n",
       "      <td>39.936227</td>\n",
       "    </tr>\n",
       "    <tr>\n",
       "      <th>Tue</th>\n",
       "      <td>37.006402</td>\n",
       "    </tr>\n",
       "    <tr>\n",
       "      <th>Wed</th>\n",
       "      <td>36.168004</td>\n",
       "    </tr>\n",
       "  </tbody>\n",
       "</table>\n",
       "</div>"
      ],
      "text/plain": [
       "             total\n",
       "weekday           \n",
       "Fri      30.019248\n",
       "Mon      42.437680\n",
       "Thu      39.936227\n",
       "Tue      37.006402\n",
       "Wed      36.168004"
      ]
     },
     "execution_count": 246,
     "metadata": {},
     "output_type": "execute_result"
    }
   ],
   "source": [
    "df2.groupby(\"weekday\").agg({\"total\":np.sum})"
   ]
  },
  {
   "cell_type": "markdown",
   "id": "1f7c6298-554a-42b8-9e2d-08b8d930633b",
   "metadata": {},
   "source": [
    "## (5) R과 Python의 학습량 차이를 계산하고 matplotlib을 이용하여 시각화해라"
   ]
  },
  {
   "cell_type": "code",
   "execution_count": 250,
   "id": "f5ef1e4d-e714-4de1-94b8-5877688fb574",
   "metadata": {},
   "outputs": [],
   "source": [
    "import matplotlib.pyplot as plt"
   ]
  },
  {
   "cell_type": "code",
   "execution_count": 257,
   "id": "51cb109a-9898-4849-9ba8-696129b02fdb",
   "metadata": {},
   "outputs": [],
   "source": [
    "y = df2[\"hours(R)\"] - df2[\"hours(Python)\"] "
   ]
  },
  {
   "cell_type": "code",
   "execution_count": 259,
   "id": "4e55db97-bb38-4a9d-90ca-2955e3690fd3",
   "metadata": {},
   "outputs": [
    {
     "data": {
      "text/plain": [
       "[<matplotlib.lines.Line2D at 0x29d1a79b890>]"
      ]
     },
     "execution_count": 259,
     "metadata": {},
     "output_type": "execute_result"
    },
    {
     "data": {
      "image/png": "[encoded data removed]",
      "text/plain": [
       "<Figure size 640x480 with 1 Axes>"
      ]
     },
     "metadata": {},
     "output_type": "display_data"
    }
   ],
   "source": [
    "plt.plot(y,\"--o\")"
   ]
  },
  {
   "cell_type": "markdown",
   "id": "5d48b03b-fefd-47ab-877d-442c337543f7",
   "metadata": {},
   "source": [
    "## (6) 계산한 차이를 아래와 같이 변환해라"
   ]
  },
  {
   "cell_type": "markdown",
   "id": "c5cc0650-553c-48a2-bad2-2a341731fafe",
   "metadata": {},
   "source": [
    "$\\hat y_1 = \\frac {1}{3} (2y_1+y_2) $"
   ]
  },
  {
   "cell_type": "markdown",
   "id": "6525329e-948a-40b9-a13d-5c66bd06ce9c",
   "metadata": {},
   "source": [
    "$\\hat y_i = \\frac {1}{3} (y_{i-1}+y_i + y_{i+1}) $"
   ]
  },
  {
   "cell_type": "markdown",
   "id": "aba70c4d-6a5b-4a26-8654-ab941fe17f09",
   "metadata": {},
   "source": [
    "$\\hat y_{n} = \\frac {1}{3} (y_{n-1} + 2y_{n})$"
   ]
  },
  {
   "cell_type": "code",
   "execution_count": 276,
   "id": "c6e3d2f0-2284-4151-ac10-f7173673e4d6",
   "metadata": {},
   "outputs": [],
   "source": [
    "M = [[abs(i-j) <=1 for i in range(len(y))] for j in range(len(y))]\n",
    "M = np.array(M)*1/3\n",
    "M[0,0] = 2/3\n",
    "M[-1,-1] = 2/3"
   ]
  },
  {
   "cell_type": "code",
   "execution_count": 282,
   "id": "248364db-2bf9-4864-ae88-0689941c712b",
   "metadata": {},
   "outputs": [
    {
     "data": {
      "text/plain": [
       "<matplotlib.legend.Legend at 0x29d1b059210>"
      ]
     },
     "execution_count": 282,
     "metadata": {},
     "output_type": "execute_result"
    },
    {
     "data": {
      "image/png": "[encoded data removed]",
      "text/plain": [
       "<Figure size 640x480 with 1 Axes>"
      ]
     },
     "metadata": {},
     "output_type": "display_data"
    }
   ],
   "source": [
    "plt.plot(y,\"--o\",label=\"y\")\n",
    "plt.plot(M@y,\"--o\",label=\"M@y\")\n",
    "plt.legend()"
   ]
  }
 ],
 "metadata": {
  "kernelspec": {
   "display_name": "Python 3 (ipykernel)",
   "language": "python",
   "name": "python3"
  },
  "language_info": {
   "codemirror_mode": {
    "name": "ipython",
    "version": 3
   },
   "file_extension": ".py",
   "mimetype": "text/x-python",
   "name": "python",
   "nbconvert_exporter": "python",
   "pygments_lexer": "ipython3",
   "version": "3.11.4"
  }
 },
 "nbformat": 4,
 "nbformat_minor": 5
}
