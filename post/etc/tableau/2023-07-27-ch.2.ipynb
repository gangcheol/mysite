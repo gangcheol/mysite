{
 "cells": [
  {
   "cell_type": "raw",
   "id": "052f4178",
   "metadata": {},
   "source": [
    "---\n",
    "title : \"ch2. 태블로 기초 이해\"\n",
    "author : \"GANGCHEOL LEE\"\n",
    "date : \"07/27/23\"\n",
    "categories : [\"tableau\"]\n",
    "---"
   ]
  },
  {
   "cell_type": "markdown",
   "id": "cfc03104",
   "metadata": {},
   "source": [
    "# 1. 부분 전체 분석"
   ]
  },
  {
   "cell_type": "markdown",
   "id": "97723c38",
   "metadata": {},
   "source": [
    "## (1) 누적 막대 차트"
   ]
  },
  {
   "cell_type": "markdown",
   "id": "515cf05a",
   "metadata": {},
   "source": [
    "###  단순 합계"
   ]
  },
  {
   "cell_type": "markdown",
   "id": "bbee813d",
   "metadata": {},
   "source": [
    "`-` 연도별 고객 세그먼트의 매출에 대한 막대 차트 그리기"
   ]
  },
  {
   "cell_type": "markdown",
   "id": "a88c8188",
   "metadata": {},
   "source": [
    "`-` step1. 매출액을 뷰에 등록 후, 고객 세그먼트를 색상과 텍스트 마커에 등록, 오름차순 정렬"
   ]
  },
  {
   "cell_type": "markdown",
   "id": "012a3c74",
   "metadata": {},
   "source": [
    "`-` step2. 주문 일자 필드를 추가해 연도별 매출액 산출"
   ]
  },
  {
   "cell_type": "markdown",
   "id": "75caf6ce",
   "metadata": {},
   "source": [
    "![](ch2-1.png)"
   ]
  },
  {
   "cell_type": "markdown",
   "id": "7a67248b",
   "metadata": {},
   "source": [
    "### 비중 계산"
   ]
  },
  {
   "cell_type": "markdown",
   "id": "97266c1d",
   "metadata": {},
   "source": [
    "`-` 아래와 같이 선택"
   ]
  },
  {
   "cell_type": "markdown",
   "id": "58c6c5a9",
   "metadata": {},
   "source": [
    "<img src = \"ch2-2.png\" width = 250>"
   ]
  },
  {
   "cell_type": "markdown",
   "id": "5116ef17",
   "metadata": {},
   "source": [
    "`-` 그러나 위 같은 경우 전체 매출에 대한 각 부분의 비율이므로 각 연도별 매출을 100으로 한 고객 세그먼트별 비율을 파악할 수 없다"
   ]
  },
  {
   "cell_type": "markdown",
   "id": "4e291a41",
   "metadata": {},
   "source": [
    "<img src = \"ch2-3.png\" width = 250>"
   ]
  },
  {
   "cell_type": "markdown",
   "id": "b06e9d22",
   "metadata": {},
   "source": [
    "`-` 위와 같이 옵션 설정을 하면!"
   ]
  },
  {
   "cell_type": "markdown",
   "id": "3fd9c266",
   "metadata": {},
   "source": [
    "<img src = \"ch2-4.png\" width = 850>"
   ]
  },
  {
   "cell_type": "markdown",
   "id": "ba64cf7c",
   "metadata": {},
   "source": [
    "`-` 근데 뭔가 왼쪽에 있는 축도 퍼센트로 나타내면 좋을 것같다."
   ]
  },
  {
   "cell_type": "markdown",
   "id": "5c6d575a",
   "metadata": {},
   "source": [
    "`-` 근데 별거 없다. 위의 과정을 마크가 아닌 행에서 하면된다. 결과를 보면~~"
   ]
  },
  {
   "cell_type": "markdown",
   "id": "903a1550",
   "metadata": {},
   "source": [
    "<img src = \"ch2-5.png\" width = 850>"
   ]
  },
  {
   "cell_type": "markdown",
   "id": "60bca1b6",
   "metadata": {},
   "source": [
    "`-` 그러나 데이터 시각화 수업에서 배웠듯이 퍼센트는 절대적인 수치가 아니기 때문에 결과해석에 오류를 불러 일으킬 수 있다."
   ]
  },
  {
   "cell_type": "markdown",
   "id": "c2761feb",
   "metadata": {},
   "source": [
    "`-` 매출 합계를 텍스트 마커에 추가하자!"
   ]
  },
  {
   "cell_type": "markdown",
   "id": "85d151af",
   "metadata": {},
   "source": [
    "<img src = \"ch2-6.png\" width = 850>"
   ]
  },
  {
   "cell_type": "markdown",
   "id": "d8b1f24c",
   "metadata": {},
   "source": [
    "## (2) 파이차트"
   ]
  },
  {
   "cell_type": "markdown",
   "id": "33afd3c8",
   "metadata": {},
   "source": [
    "`-` 파이차트에서 내림차순은 시계방향 정렬이다."
   ]
  },
  {
   "cell_type": "markdown",
   "id": "5bab3eaa",
   "metadata": {},
   "source": [
    "`-` 고객 세그먼트별 비중 계산 $\\Delta$"
   ]
  },
  {
   "cell_type": "markdown",
   "id": "d5547c21",
   "metadata": {},
   "source": [
    "`-` 파이차트 생성 법 : 고객 세그먼트 클릭 $\\to$ 매출 클릭 $\\to$ 파이차트 선택 (So easy~)"
   ]
  },
  {
   "cell_type": "markdown",
   "id": "dc15c8a2",
   "metadata": {},
   "source": [
    "`-` 내가 선택한 마커는 다음과 같다"
   ]
  },
  {
   "cell_type": "markdown",
   "id": "2f9fa418",
   "metadata": {},
   "source": [
    "<img src = \"ch2-7.png\" width = 150>"
   ]
  },
  {
   "cell_type": "markdown",
   "id": "bf9b53cf",
   "metadata": {},
   "source": [
    "`-` 출력 결과를 살펴보면.."
   ]
  },
  {
   "cell_type": "markdown",
   "id": "bd25eb65",
   "metadata": {},
   "source": [
    "<img src = \"ch2-8.png\" width = 450>"
   ]
  },
  {
   "cell_type": "markdown",
   "id": "76371a84",
   "metadata": {},
   "source": [
    "`-` 근데 먼가 좀 맘에 안듬 퍼센트는 괄호로 표시하고 싶음"
   ]
  },
  {
   "cell_type": "markdown",
   "id": "d2398cf4",
   "metadata": {},
   "source": [
    "`-` 일단 텍스트 우측 맨끝에 있는 점선 클릭"
   ]
  },
  {
   "cell_type": "markdown",
   "id": "dec580fa",
   "metadata": {},
   "source": [
    "<img src = \"ch2-9.png\" width = 150>"
   ]
  },
  {
   "cell_type": "markdown",
   "id": "aea70b50",
   "metadata": {},
   "source": [
    "`-` 그 후 아래와 같이 편집"
   ]
  },
  {
   "cell_type": "markdown",
   "id": "83eaae68",
   "metadata": {},
   "source": [
    "<img src = \"ch2-10.png\" width = 250>"
   ]
  },
  {
   "cell_type": "markdown",
   "id": "01b5ca49",
   "metadata": {},
   "source": [
    "`-` 결과 확인"
   ]
  },
  {
   "cell_type": "markdown",
   "id": "29de7f72",
   "metadata": {},
   "source": [
    "<img src = \"ch2-11.png\" width = 250>"
   ]
  },
  {
   "cell_type": "markdown",
   "id": "1974b92c",
   "metadata": {},
   "source": [
    "`-` 이것을 연도별로 보자 $\\to$ 연도를 뷰에 넣으면 `테이블 아래로`가 아닌 `테이블 옆으로` 설정이 되어 있으므므로 변환해주자"
   ]
  },
  {
   "cell_type": "markdown",
   "id": "8bcae20c",
   "metadata": {},
   "source": [
    "<img src = \"ch2-12.png\" width = 850>"
   ]
  },
  {
   "cell_type": "markdown",
   "id": "5c056054",
   "metadata": {},
   "source": [
    "## (3) 도넛차트"
   ]
  },
  {
   "cell_type": "markdown",
   "id": "fe4da001",
   "metadata": {},
   "source": [
    "`-` 파이 차트에서 가지지 못하는 요약정보를 표시할 수 있다"
   ]
  },
  {
   "cell_type": "markdown",
   "id": "9ae6d4c2",
   "metadata": {},
   "source": [
    "`-` step1. 일단 열선반에 0을 하나 씀(임의의 필드를 하나 만든것임) 그러면 뷰에 의미심장한게 만들어짐"
   ]
  },
  {
   "cell_type": "markdown",
   "id": "54a4b4f4",
   "metadata": {},
   "source": [
    "`-` step2. 기본 데이터 차트를 파이로 변경"
   ]
  },
  {
   "cell_type": "markdown",
   "id": "b50c1f7c",
   "metadata": {},
   "source": [
    "`-` step3. 임의로 만든 필드를 열선반에 하나 더 추가"
   ]
  },
  {
   "cell_type": "markdown",
   "id": "e08d208d",
   "metadata": {},
   "source": [
    "`-` step4. 천번째 합계 0의 마커에 고객 세그먼트 추가"
   ]
  },
  {
   "cell_type": "markdown",
   "id": "1780fbfb",
   "metadata": {},
   "source": [
    "`-` step5. 정렬 시 메뉴바에 있는 정렬보다 마커에 있는 정렬을 이용해서 정렬하자(고객세그먼트에 있음)"
   ]
  },
  {
   "cell_type": "markdown",
   "id": "4fa28891",
   "metadata": {},
   "source": [
    "<img src = \"ch2-13.png\" width = 350>"
   ]
  },
  {
   "cell_type": "markdown",
   "id": "4f4f8518",
   "metadata": {},
   "source": [
    "`-` step6. 이중 축 추가 $\\to$ 열 선반에 있는 두 번째 합계에서 `Dual axis 선택!`"
   ]
  },
  {
   "cell_type": "markdown",
   "id": "f82e9efc",
   "metadata": {},
   "source": [
    "`-` step7. 머리글 표시 해제"
   ]
  },
  {
   "cell_type": "markdown",
   "id": "55326913",
   "metadata": {},
   "source": [
    "`-` step8. view $\\to$ format line $\\to$ column $\\to$ 격자선과 0표시선 none으로 변경"
   ]
  },
  {
   "cell_type": "markdown",
   "id": "94cfe28e",
   "metadata": {},
   "source": [
    "`-` step9. 매출을 합계2 마커에 레이블에 넣기 후, 레이블 텍스트 편집"
   ]
  },
  {
   "cell_type": "markdown",
   "id": "1771cb78",
   "metadata": {},
   "source": [
    "<img src = \"ch2-14.png\" width = 350>"
   ]
  },
  {
   "cell_type": "markdown",
   "id": "682aa9aa",
   "metadata": {},
   "source": [
    "`-` step10. 합계 1에 마커에 매출을 레이블로 구성 비율 레이블로 표시"
   ]
  },
  {
   "cell_type": "markdown",
   "id": "ebd4768b",
   "metadata": {},
   "source": [
    "`-` step11. 연도 차원 추가"
   ]
  },
  {
   "cell_type": "markdown",
   "id": "07f5640d",
   "metadata": {},
   "source": [
    "`-` step12. 그 후 마커 레이블 표현 방식을 테이블 다운으로 변경"
   ]
  },
  {
   "cell_type": "markdown",
   "id": "092b89af",
   "metadata": {},
   "source": [
    "<img src = \"ch2-15.png\" width = 850>"
   ]
  },
  {
   "cell_type": "markdown",
   "id": "1841ed73",
   "metadata": {},
   "source": [
    "`-` 파이차트보다 좋은점 : 가운데에 종합적인 정보를 넣었다,"
   ]
  },
  {
   "cell_type": "markdown",
   "id": "10419595",
   "metadata": {},
   "source": [
    "## (4) 트리맵"
   ]
  },
  {
   "cell_type": "markdown",
   "id": "3a374ee9",
   "metadata": {},
   "source": [
    "`-` step1. 고객 세그먼트, 매출 클릭 후, 트리맵 생성"
   ]
  },
  {
   "cell_type": "markdown",
   "id": "797c16c8",
   "metadata": {},
   "source": [
    "`-` step2. 뭐 그냥 입맛대로 마커 추가"
   ]
  },
  {
   "cell_type": "markdown",
   "id": "b3d4fb6a",
   "metadata": {},
   "source": [
    "## (5) 파이차트와 도넛차트를 쓰면 안되는 경우"
   ]
  },
  {
   "cell_type": "markdown",
   "id": "ad508412",
   "metadata": {},
   "source": [
    "`-` 인접한 값들이 차이가 없는 경우 가급적 트리맵을 사용하는 것이 좋다!"
   ]
  },
  {
   "cell_type": "markdown",
   "id": "45db96a4",
   "metadata": {},
   "source": [
    "## Summay"
   ]
  },
  {
   "cell_type": "markdown",
   "id": "2538e277",
   "metadata": {},
   "source": [
    "`-` 파이차트와 도넛 차트는 각각의 범주가 어느 정도의 비율을 차지하는지 살펴볼 때 적절하다."
   ]
  },
  {
   "cell_type": "markdown",
   "id": "097e5f8d",
   "metadata": {},
   "source": [
    "`-` 그러나 맴버가 많은 경우 트리맵을 대안으로 이용하자"
   ]
  },
  {
   "cell_type": "markdown",
   "id": "ea74fdb4",
   "metadata": {},
   "source": [
    "***"
   ]
  },
  {
   "cell_type": "markdown",
   "id": "3ebeaaea",
   "metadata": {},
   "source": [
    "# 2. 상관 관계 분석"
   ]
  },
  {
   "cell_type": "markdown",
   "id": "92c53950",
   "metadata": {},
   "source": [
    "## (1). 분산형 차트"
   ]
  },
  {
   "cell_type": "markdown",
   "id": "4670254f",
   "metadata": {},
   "source": [
    "`-` 일반적으로 내가 생각하는 scatter plot인 것 같다."
   ]
  },
  {
   "cell_type": "markdown",
   "id": "07c99f70",
   "metadata": {},
   "source": [
    "`-` 그러니 당연히 열 선반과 행 선반의 측정값을 배치해야한다."
   ]
  },
  {
   "cell_type": "markdown",
   "id": "9d840571",
   "metadata": {},
   "source": [
    "`-` 실제 시험문제 : 분산형 차트를 만들때 측정값은 최소 몇 개인가? $\\to$ 2개"
   ]
  },
  {
   "cell_type": "markdown",
   "id": "534ed911",
   "metadata": {},
   "source": [
    "### 사전 단계"
   ]
  },
  {
   "cell_type": "markdown",
   "id": "4eb22e8d",
   "metadata": {},
   "source": [
    "`-` step1.할인율을 열에 합계 필드를 행으로 두고 할인율의 집계 방식을 평균으로 변경 (기본 속성에서 집계를 평균, 그리고 숫자 형식에서 소수점 2로 변경하면 `15.0%` 식으로 변경)"
   ]
  },
  {
   "cell_type": "markdown",
   "id": "c1a3e258",
   "metadata": {},
   "source": [
    "`-` step2. 고객명 세그먼트를 detail mark로 드래그"
   ]
  },
  {
   "cell_type": "markdown",
   "id": "74efcaff",
   "metadata": {},
   "source": [
    "`-` step3. color mark에서 Opacity 70%로 수정"
   ]
  },
  {
   "cell_type": "markdown",
   "id": "1f1a9fbb",
   "metadata": {},
   "source": [
    "`-` step4. 수익을 색상 마크로 드래그 하면 0을 기준으로 파란색 오랜지로 나뉨"
   ]
  },
  {
   "cell_type": "markdown",
   "id": "f62444f4",
   "metadata": {},
   "source": [
    "<img src = \"ch2-16.png\" width = 150>"
   ]
  },
  {
   "cell_type": "markdown",
   "id": "62dec47f",
   "metadata": {},
   "source": [
    "`-` step5. 분석 패널에서 추세선 삽입"
   ]
  },
  {
   "cell_type": "markdown",
   "id": "037c6bb9",
   "metadata": {},
   "source": [
    "<img src = \"ch2-18.png\" width = 750>"
   ]
  },
  {
   "cell_type": "markdown",
   "id": "7a166f75",
   "metadata": {},
   "source": [
    "## (2) 데이터 설명"
   ]
  },
  {
   "cell_type": "markdown",
   "id": "567180de",
   "metadata": {},
   "source": [
    "`-` 문제가 되는 데이터"
   ]
  },
  {
   "cell_type": "markdown",
   "id": "5f9f5a1b",
   "metadata": {},
   "source": [
    "<img src = \"ch2-17.png\" width = 250>"
   ]
  },
  {
   "cell_type": "markdown",
   "id": "30dfe8d6",
   "metadata": {},
   "source": [
    "`-` 해당 데이터에 전구 모양 클릭 후 데이터를 살펴본 결과 -3백만원이라는 관측치 때문에 다음과 같은 상황이 발생한 것이다."
   ]
  },
  {
   "cell_type": "markdown",
   "id": "715fcb5e",
   "metadata": {},
   "source": [
    "`-` 해당 데이터를 제거할 경우도 보여준다!"
   ]
  },
  {
   "cell_type": "markdown",
   "id": "c9d7aadd",
   "metadata": {},
   "source": [
    "## (3) 매개변수 적용"
   ]
  },
  {
   "cell_type": "markdown",
   "id": "1d43b507",
   "metadata": {},
   "source": [
    "`-` step1. creat parameter 선택"
   ]
  },
  {
   "cell_type": "markdown",
   "id": "f9778403",
   "metadata": {},
   "source": [
    "<img src = \"ch2-19.png\" width = 250>"
   ]
  },
  {
   "cell_type": "markdown",
   "id": "4004e6b1",
   "metadata": {},
   "source": [
    "`-` step2. allow values는 Range, 최솟값 0, 최대값0.45, Step size 0.05 선택"
   ]
  },
  {
   "cell_type": "markdown",
   "id": "bc3954ba",
   "metadata": {},
   "source": [
    "<img src = \"ch2-20.png\" width = 350>"
   ]
  },
  {
   "cell_type": "markdown",
   "id": "cabd21f4",
   "metadata": {},
   "source": [
    "`-` step3. 수익에 대한 매개변수 생성"
   ]
  },
  {
   "cell_type": "markdown",
   "id": "b41712ad",
   "metadata": {},
   "source": [
    "<img src = \"ch2-21.png\" width = 350>"
   ]
  },
  {
   "cell_type": "markdown",
   "id": "8d04d854",
   "metadata": {},
   "source": [
    "`-` step4. Parameters에서 show parameter 선택"
   ]
  },
  {
   "cell_type": "markdown",
   "id": "bdc8994c",
   "metadata": {},
   "source": [
    "`-` step5. 고객명에서 creat set을 클릭 후 다음과 같은 조건 생성"
   ]
  },
  {
   "cell_type": "markdown",
   "id": "de6625b2",
   "metadata": {},
   "source": [
    "<img src = \"ch2-22.png\" width = 350>"
   ]
  },
  {
   "cell_type": "markdown",
   "id": "ae268063",
   "metadata": {},
   "source": [
    "`-` 테이블의 고객명 set을 색상마커에 집어넣기"
   ]
  },
  {
   "cell_type": "markdown",
   "id": "c0aa691f",
   "metadata": {},
   "source": [
    "`-` 좀더 면밀하게 보기위해 참조선 추가 (value를 `p.할인율` 매개변수 선택)"
   ]
  },
  {
   "cell_type": "markdown",
   "id": "7d666320",
   "metadata": {},
   "source": [
    "`-` 수익에 대한 참조선도 p.수익으로 변경"
   ]
  },
  {
   "cell_type": "markdown",
   "id": "bb870bfb",
   "metadata": {},
   "source": [
    "`-` 수익과 할인율에 조건에 충족하는 고객들만 별도로 집합 만들어서 구별할 수 있다.(필터라구 생각)"
   ]
  },
  {
   "cell_type": "markdown",
   "id": "8a0f079c",
   "metadata": {},
   "source": [
    "<img src = \"ch2-23.png\" width = 750>"
   ]
  },
  {
   "cell_type": "markdown",
   "id": "cc2a4902",
   "metadata": {},
   "source": [
    "## Summary"
   ]
  },
  {
   "cell_type": "markdown",
   "id": "b9156c49",
   "metadata": {},
   "source": [
    "`-` 분산형 차트는 측정값 간의 관계를 파악하기 위한 시각화의 한 방식이다."
   ]
  },
  {
   "cell_type": "markdown",
   "id": "5e3d3404",
   "metadata": {},
   "source": [
    "`-` **열 선반과 행 선반에 각각 측정값을 배치하면 자동적으로 분산형 차트가 만들어 진다.**"
   ]
  },
  {
   "cell_type": "markdown",
   "id": "697c0f92",
   "metadata": {},
   "source": [
    "`-` 열 선반과 행 선반에 올리는 필드는 고정적으로 배치가 가능하지만, 좀 더 자유도를 주고자 별도의 매개변수를 만들면 매개 변수 값에 따라 분산형 차트를 다양하게 활용할 수 있다."
   ]
  },
  {
   "cell_type": "markdown",
   "id": "1f69caa8",
   "metadata": {},
   "source": [
    "***"
   ]
  },
  {
   "cell_type": "markdown",
   "id": "85813a88",
   "metadata": {},
   "source": [
    "# 3. 이중 축 vs 결합된 축"
   ]
  },
  {
   "cell_type": "markdown",
   "id": "1b6fcff7",
   "metadata": {},
   "source": [
    "## (1) 이중 축 (Dual axis)"
   ]
  },
  {
   "cell_type": "markdown",
   "id": "139ab504",
   "metadata": {},
   "source": [
    "### a. 고객 세그먼트별 매출 표현"
   ]
  },
  {
   "cell_type": "markdown",
   "id": "ee74ab8d",
   "metadata": {},
   "source": [
    "`-` 매출과 주문일자로 그래프 생성"
   ]
  },
  {
   "cell_type": "markdown",
   "id": "4e07517d",
   "metadata": {},
   "source": [
    "`-` 매출을 한번더 행선반에 놓고 marker를 circle로 변경"
   ]
  },
  {
   "cell_type": "markdown",
   "id": "57e6eb79",
   "metadata": {},
   "source": [
    "`-` 이중 축 선택"
   ]
  },
  {
   "cell_type": "markdown",
   "id": "ab3ded31",
   "metadata": {},
   "source": [
    "<img src = \"ch2-24.png\" width = 150>"
   ]
  },
  {
   "cell_type": "markdown",
   "id": "24b26ad0",
   "metadata": {},
   "source": [
    "`-` 합쳐진 결과를 보니 왼쪽과 오른쪽 축의 범위가 서로 다르다."
   ]
  },
  {
   "cell_type": "markdown",
   "id": "92b3ea7c",
   "metadata": {},
   "source": [
    "<img src = \"ch2-25.png\" width = 250>"
   ]
  },
  {
   "cell_type": "markdown",
   "id": "07081514",
   "metadata": {},
   "source": [
    "`-` 서로 다른 이유는 라인보다 원이 더커서 그런다 $\\to$ 축 아무대나 클릭 후 synchronize axis 누르면 끝~"
   ]
  },
  {
   "cell_type": "markdown",
   "id": "923ab8aa",
   "metadata": {},
   "source": [
    "`-` 그 다음 단위를 매출을 라벨로 쓰고 단위를 백만으로 변경!"
   ]
  },
  {
   "cell_type": "markdown",
   "id": "d187af04",
   "metadata": {},
   "source": [
    "<img src = \"ch2-26.png\" width = 250>"
   ]
  },
  {
   "cell_type": "markdown",
   "id": "d5dff5da",
   "metadata": {},
   "source": [
    "`-` 그 다음 전체 마커에 고객세그먼트를 색상 마커에 삽입"
   ]
  },
  {
   "cell_type": "markdown",
   "id": "4b8c4130",
   "metadata": {},
   "source": [
    "<img src = \"ch2-27.png\" width = 350>"
   ]
  },
  {
   "cell_type": "markdown",
   "id": "44ad499a",
   "metadata": {},
   "source": [
    "### b. 누적막대차트 + 간트차트"
   ]
  },
  {
   "cell_type": "markdown",
   "id": "7d271de2",
   "metadata": {},
   "source": [
    "`-` 매출과 주문일자를 이용하여 누적 막대 그래프생성"
   ]
  },
  {
   "cell_type": "markdown",
   "id": "faa8210e",
   "metadata": {},
   "source": [
    "<img src = \"ch2-28.png\" width = 350>"
   ]
  },
  {
   "cell_type": "markdown",
   "id": "59b0cb52",
   "metadata": {},
   "source": [
    "`-` 행 선반에 매출 필드를 하나 더 추가해 세그먼트 종합 차트도 추가"
   ]
  },
  {
   "cell_type": "markdown",
   "id": "0b7ba043",
   "metadata": {},
   "source": [
    "<img src = \"ch2-29.png\" width = 350>"
   ]
  },
  {
   "cell_type": "markdown",
   "id": "eb8bdb47",
   "metadata": {},
   "source": [
    "`-` 합계 매출 2번 마크를 간트로 변경"
   ]
  },
  {
   "cell_type": "markdown",
   "id": "83c51447",
   "metadata": {},
   "source": [
    "`-` 이중 축 선택 후 축 동기화 선택"
   ]
  },
  {
   "cell_type": "markdown",
   "id": "26462909",
   "metadata": {},
   "source": [
    "`-` 합계 매출 2번 매출 글씨 키운 후  합계 매출 1번 마크에서 테두리 흰색 하이라이트 옵션 추가"
   ]
  },
  {
   "cell_type": "markdown",
   "id": "5446b6a5",
   "metadata": {},
   "source": [
    "`-` 주문일자 레이블 숨기기 수행  하단에 있는 연도를 상단에 표시"
   ]
  },
  {
   "cell_type": "markdown",
   "id": "cd7d747e",
   "metadata": {},
   "source": [
    "* step1"
   ]
  },
  {
   "cell_type": "markdown",
   "id": "b606f1cc",
   "metadata": {},
   "source": [
    "<img src = \"ch2-30.png\" width = 350>"
   ]
  },
  {
   "cell_type": "markdown",
   "id": "eff72138",
   "metadata": {},
   "source": [
    "* step2 : Show inner~~~ 체크 해제"
   ]
  },
  {
   "cell_type": "markdown",
   "id": "3ed297f9",
   "metadata": {},
   "source": [
    "<img src = \"ch2-31.png\" width = 250>"
   ]
  },
  {
   "cell_type": "markdown",
   "id": "89d8fcab",
   "metadata": {},
   "source": [
    "`-` 그다음 저번시간에 배운 것처럼 구성비율을 생성하자 (머 대충 요런식??)"
   ]
  },
  {
   "cell_type": "markdown",
   "id": "3fdfa57b",
   "metadata": {},
   "source": [
    "<img src = \"ch2-32.png\" width = 750>"
   ]
  },
  {
   "cell_type": "markdown",
   "id": "b675e974",
   "metadata": {},
   "source": [
    "## (2) 결합된 축(Combined Axis)"
   ]
  },
  {
   "cell_type": "markdown",
   "id": "133d8896",
   "metadata": {},
   "source": [
    "### 2020년과 2021년의 월별 축을 하나의 축으로 표현"
   ]
  },
  {
   "cell_type": "markdown",
   "id": "65875854",
   "metadata": {},
   "source": [
    "`-` 열 선반에 주문인자 월별 넣기"
   ]
  },
  {
   "cell_type": "markdown",
   "id": "aa89ba37",
   "metadata": {},
   "source": [
    "`-` 계산된 필드 만들기를 이용하여 다음 과정을 수행"
   ]
  },
  {
   "cell_type": "markdown",
   "id": "a9294f96",
   "metadata": {},
   "source": [
    "<img src = \"ch2-33.png\" width = 250>"
   ]
  },
  {
   "cell_type": "markdown",
   "id": "1c3497b9",
   "metadata": {},
   "source": [
    "<img src = \"ch2-34.png\" width = 350>"
   ]
  },
  {
   "cell_type": "markdown",
   "id": "655899cc",
   "metadata": {},
   "source": [
    "`-` 2021은 그냥 복사 후 편집"
   ]
  },
  {
   "cell_type": "markdown",
   "id": "a37b40c4",
   "metadata": {},
   "source": [
    "`-` 그 다음 만든 합계 2020 매출을 행 선반에 두고 생성된 축에 2021매출을 드래그"
   ]
  },
  {
   "cell_type": "markdown",
   "id": "6c7c1f8b",
   "metadata": {},
   "source": [
    "* step1"
   ]
  },
  {
   "cell_type": "markdown",
   "id": "f9f12583",
   "metadata": {},
   "source": [
    "<img src = \"ch2-35.png\" width = 150>"
   ]
  },
  {
   "cell_type": "markdown",
   "id": "735036eb",
   "metadata": {},
   "source": [
    "* step2"
   ]
  },
  {
   "cell_type": "markdown",
   "id": "9281d9fa",
   "metadata": {},
   "source": [
    "<img src = \"ch2-36.png\" width = 350>"
   ]
  },
  {
   "cell_type": "markdown",
   "id": "62648fcf",
   "metadata": {},
   "source": [
    "`-` 그 다음 뭐 알아서 맛있게"
   ]
  },
  {
   "cell_type": "markdown",
   "id": "177f9d3f",
   "metadata": {},
   "source": [
    "## (3) 이중 축 & 결합된 축 동시 적용"
   ]
  },
  {
   "cell_type": "markdown",
   "id": "bb787dc5",
   "metadata": {},
   "source": [
    "`-`  행 시도, 열 매출"
   ]
  },
  {
   "cell_type": "markdown",
   "id": "f0210559",
   "metadata": {},
   "source": [
    "`-` 서울, 경기도, 제주도를 볼건데.. 제주도의 매출이 너무 적으므로 서울과 경기도는 같은 축(결합축), 제주도는 다른 축을 사용(이중축)"
   ]
  },
  {
   "cell_type": "markdown",
   "id": "d414c052",
   "metadata": {},
   "source": [
    "`-` 주문일자에서 연속형 분기 선택 후 계산된 필드 만들기를 선택해 다음과 같은 메소드 반복"
   ]
  },
  {
   "cell_type": "markdown",
   "id": "b364d4a1",
   "metadata": {},
   "source": [
    "* IIF([시도] = \"서울특별시\", [매출], NULL )"
   ]
  },
  {
   "cell_type": "markdown",
   "id": "0baf1a95",
   "metadata": {},
   "source": [
    "`-` 그 다음 생성한 필드를 경기와 서울은 같은 축(결합축), 제주는 드래그해서 오른쪽 축에 드랍(이중축)"
   ]
  },
  {
   "cell_type": "markdown",
   "id": "5b60a843",
   "metadata": {},
   "source": [
    "`-` 가독성 진짜 개별로임 난 죽어도 안쓸듯"
   ]
  },
  {
   "cell_type": "markdown",
   "id": "d231e741",
   "metadata": {},
   "source": [
    "<img src = \"ch2-37.png\" width = 250>"
   ]
  },
  {
   "cell_type": "markdown",
   "id": "b4215139",
   "metadata": {},
   "source": [
    "### Summary"
   ]
  },
  {
   "cell_type": "markdown",
   "id": "0fc00b3a",
   "metadata": {},
   "source": [
    "`-` 이중축은 하나의 뷰안에서 축을 이중으로 써서 차트를 만드는 경우이며 이중 축은 마크를 서로 다르게 구성이 가능하다!"
   ]
  },
  {
   "cell_type": "markdown",
   "id": "dcf440c3",
   "metadata": {},
   "source": [
    "`-` 반면, 결합된 축은 하나의 뷰에서 같은 축을 결합 또는 공유하는 케이스이며 결합된 축은 마크가 동일하게 구성되어야 한다."
   ]
  },
  {
   "cell_type": "markdown",
   "id": "84409099",
   "metadata": {},
   "source": [
    "***"
   ]
  },
  {
   "cell_type": "markdown",
   "id": "f4703ba8",
   "metadata": {},
   "source": [
    "# 4. 그룹 vs 집합"
   ]
  },
  {
   "cell_type": "markdown",
   "id": "18927659",
   "metadata": {},
   "source": [
    "## (1) 그룹"
   ]
  },
  {
   "cell_type": "markdown",
   "id": "6e269ec7",
   "metadata": {},
   "source": [
    "`-` 항목내 멤버들을 묶어줌"
   ]
  },
  {
   "cell_type": "markdown",
   "id": "b9e0257a",
   "metadata": {},
   "source": [
    "### example 1"
   ]
  },
  {
   "cell_type": "markdown",
   "id": "7d0a80ab",
   "metadata": {},
   "source": [
    "`-` 시도 필드 우클릭 $\\to$ create group $\\to$ (경기도, 서울특별시, 인천광역시) 수도권으로 그룹 나머지는 기타"
   ]
  },
  {
   "cell_type": "markdown",
   "id": "64849e25",
   "metadata": {},
   "source": [
    "<img src = \"ch2-38.png\" width = 250>"
   ]
  },
  {
   "cell_type": "markdown",
   "id": "3670d44c",
   "metadata": {},
   "source": [
    "`-` 행은 매출, 열은 연속형 분기 주문일자 선택"
   ]
  },
  {
   "cell_type": "markdown",
   "id": "227f4503",
   "metadata": {},
   "source": [
    "`-` 그 후 색상은 시도, 그리고 분기 주문일자를 discrete로 변경"
   ]
  },
  {
   "cell_type": "markdown",
   "id": "049853bf",
   "metadata": {},
   "source": [
    "<img src = \"ch2-39.png\" width = 250>"
   ]
  },
  {
   "cell_type": "markdown",
   "id": "2284b75a",
   "metadata": {},
   "source": [
    "`-` 각 연분기 기준으로 수도권과 기타 지역의 매출 비중을 살펴보자"
   ]
  },
  {
   "cell_type": "markdown",
   "id": "00d07d7d",
   "metadata": {},
   "source": [
    "`-` 행 선반에 매출에서 구성비율 선택, 그 후 테이블 계산을 아래로 변경, 그 후 컨트롤 + 드래그로 행선반에 있는 매출을 마크의 레이블로 드래그"
   ]
  },
  {
   "cell_type": "markdown",
   "id": "184cee89",
   "metadata": {},
   "source": [
    "<img src = \"ch2-40.png\" width = 250>"
   ]
  },
  {
   "cell_type": "markdown",
   "id": "5e0f64d0",
   "metadata": {},
   "source": [
    "`-` 분석  패널에서 상수라인을 추가 열 축 이름 우클릭 후 점선 편집 $\\to$ 별거없음"
   ]
  },
  {
   "cell_type": "markdown",
   "id": "f26b9250",
   "metadata": {},
   "source": [
    "`-` 색상에서 원하는 색으로 수도권, 기타 범주 편집"
   ]
  },
  {
   "cell_type": "markdown",
   "id": "02b08982",
   "metadata": {},
   "source": [
    "`-` 축 눈금자 편집은 5분 25초 강의 ㄱㄱ"
   ]
  },
  {
   "cell_type": "markdown",
   "id": "1aba0ae0",
   "metadata": {},
   "source": [
    "`-` 결과물"
   ]
  },
  {
   "cell_type": "markdown",
   "id": "e8bf9e33",
   "metadata": {},
   "source": [
    "<img src = \"ch2-41.png\" width = 350>"
   ]
  },
  {
   "cell_type": "markdown",
   "id": "7fec444f",
   "metadata": {},
   "source": [
    "## (2) 집합"
   ]
  },
  {
   "cell_type": "markdown",
   "id": "e0a24263",
   "metadata": {},
   "source": [
    "`-` 집합에 포함되는지 아닌지 (그룹과의 차이)"
   ]
  },
  {
   "cell_type": "markdown",
   "id": "f469c767",
   "metadata": {},
   "source": [
    "`-` 매출 1에서 10위, 매출 11에서 20 위 집합 생성"
   ]
  },
  {
   "cell_type": "markdown",
   "id": "9d61d563",
   "metadata": {},
   "source": [
    "`-` 데이터 정렬"
   ]
  },
  {
   "cell_type": "markdown",
   "id": "83457c67",
   "metadata": {},
   "source": [
    "<img src = \"ch2-42.png\" width = 350>"
   ]
  },
  {
   "cell_type": "markdown",
   "id": "e08ea654",
   "metadata": {},
   "source": [
    "`-` 고객명 우클릭 후 집합 생성"
   ]
  },
  {
   "cell_type": "markdown",
   "id": "1749919b",
   "metadata": {},
   "source": [
    "<img src = \"ch2-43.png\" width = 250>"
   ]
  },
  {
   "cell_type": "markdown",
   "id": "5754f902",
   "metadata": {},
   "source": [
    "`-` 같은 방식으로 상위 20명 생성"
   ]
  },
  {
   "cell_type": "markdown",
   "id": "acc5bd61",
   "metadata": {},
   "source": [
    "`-` 그 후 행 선반에 매출 상위 10,20명 필드를 드래그"
   ]
  },
  {
   "cell_type": "markdown",
   "id": "84e8586d",
   "metadata": {},
   "source": [
    "## (3) 결합된 집합"
   ]
  },
  {
   "cell_type": "markdown",
   "id": "62efc3dd",
   "metadata": {},
   "source": [
    "`-` 이번엔 상위 11에서 20위 생성"
   ]
  },
  {
   "cell_type": "markdown",
   "id": "916e458b",
   "metadata": {},
   "source": [
    "<img src = \"ch2-44.png\" width = 250>"
   ]
  },
  {
   "cell_type": "markdown",
   "id": "95686097",
   "metadata": {},
   "source": [
    "<img src = \"ch2-45.png\" width = 300>"
   ]
  },
  {
   "cell_type": "markdown",
   "id": "b109cc94",
   "metadata": {},
   "source": [
    "`-` 11위에서 20위를 행에 드래그"
   ]
  },
  {
   "cell_type": "markdown",
   "id": "1ab973a1",
   "metadata": {},
   "source": [
    "`-` 그 후 마크 위에 필터란에 넣어서 in을 선택 후 확인"
   ]
  },
  {
   "cell_type": "markdown",
   "id": "84ef4642",
   "metadata": {},
   "source": [
    "`-` 만든집합을 폴더로 관리 (이 방법을 내가 많이 쓸듯)"
   ]
  },
  {
   "cell_type": "markdown",
   "id": "d75871fe",
   "metadata": {},
   "source": [
    "* step1. 폴더별 그룹화 선택"
   ]
  },
  {
   "cell_type": "markdown",
   "id": "ebfd2c9c",
   "metadata": {},
   "source": [
    "* step2. 넣고 싶은 필드 선택 후 우클릭 $\\to$ create folder"
   ]
  },
  {
   "cell_type": "markdown",
   "id": "ee4051ba",
   "metadata": {},
   "source": [
    "## Summary"
   ]
  },
  {
   "cell_type": "markdown",
   "id": "a2f2b4a9",
   "metadata": {},
   "source": [
    "**그룹**은 항목들을 여러 그룹으로 묶을 수 있지만 **집합**은 포함되는지 아닌지로만 구분"
   ]
  },
  {
   "cell_type": "markdown",
   "id": "548ce1ab",
   "metadata": {},
   "source": [
    "***"
   ]
  },
  {
   "cell_type": "markdown",
   "id": "44f65247",
   "metadata": {},
   "source": [
    "# 5. 계층과 총계"
   ]
  },
  {
   "cell_type": "markdown",
   "id": "a39c546a",
   "metadata": {},
   "source": [
    "## (1) 계층 만들기"
   ]
  },
  {
   "cell_type": "markdown",
   "id": "a437d0e3",
   "metadata": {},
   "source": [
    "`-` 계층은 Drill-down해서 값을 세부적으로 찾는데 유용. 특히 지역 데이터(맵에서 표현할때) 계층을 만들어 놓지 않으면 동일한 시군구명으로 인해 에러가 발생할 수도 있으니 미리 상위레벨과 하위레벨에 대한계층(hierarchy)를 만들어 주는것이 중요"
   ]
  },
  {
   "cell_type": "markdown",
   "id": "8d0c42b4",
   "metadata": {},
   "source": [
    "### example"
   ]
  },
  {
   "cell_type": "markdown",
   "id": "0bcece04",
   "metadata": {},
   "source": [
    "`-` 제품대분류와 제품중분류를 선택후 우클릭한 후에 계층만들기!! 이름은 **제품 분류**"
   ]
  },
  {
   "cell_type": "markdown",
   "id": "508bde87",
   "metadata": {},
   "source": [
    "<img src = \"ch2-46.png\" width = 300>"
   ]
  },
  {
   "cell_type": "markdown",
   "id": "7711b1b2",
   "metadata": {},
   "source": [
    "`-` 워크시트 새로만든 후 제품 코드를 드래그하여 행 선반에 추가 다음 메시지가 나오면 **Add all members** 클릭"
   ]
  },
  {
   "cell_type": "markdown",
   "id": "e6d98f36",
   "metadata": {},
   "source": [
    "<img src = \"ch2-47.png\" width = 300>"
   ]
  },
  {
   "cell_type": "markdown",
   "id": "8a83311a",
   "metadata": {},
   "source": [
    "`-` 살펴보니 제품명에 앞부분은 제조사임, 변환해주자"
   ]
  },
  {
   "cell_type": "markdown",
   "id": "7929ed13",
   "metadata": {},
   "source": [
    "`-` 제품명 우클릭 후 transform 후 다음과 같이 공백을 구분자로 설정 후 확인"
   ]
  },
  {
   "cell_type": "markdown",
   "id": "1995fc79",
   "metadata": {},
   "source": [
    "<img src = \"ch2-48.png\" width = 300>"
   ]
  },
  {
   "cell_type": "markdown",
   "id": "66db1085",
   "metadata": {},
   "source": [
    "`-` 그 후 만들어진 계층에 넣어주면 끝!"
   ]
  },
  {
   "cell_type": "markdown",
   "id": "1b9e9d9d",
   "metadata": {},
   "source": [
    "<img src = \"ch2-49.png\" width = 300>"
   ]
  },
  {
   "cell_type": "markdown",
   "id": "fe843725",
   "metadata": {},
   "source": [
    "## (2) 층계 만들기"
   ]
  },
  {
   "cell_type": "markdown",
   "id": "bf165eaa",
   "metadata": {},
   "source": [
    "`-` 총계(total)는 각각의 요소들의 TOTAL 을 보여주는 방식으로 범위에 따라 총합계및 소계, 그리고열과행 기준으로 각각 TOTAL을 표시 할 수 있다."
   ]
  },
  {
   "cell_type": "markdown",
   "id": "4b3cae9e",
   "metadata": {},
   "source": [
    "`-` 또한 TOTAL은 기본적으로는 하단과 우측에 배치가 되는데항목이 많아질 경우 TOTAL이 바로시각적으로 드러나지 않을 수 있다. 이럴 때는 분석 메뉴에서 총계 에 대한 행과 열 표시의 위치를 변경하면 된다."
   ]
  },
  {
   "cell_type": "markdown",
   "id": "de23e5fe",
   "metadata": {},
   "source": [
    "### example"
   ]
  },
  {
   "cell_type": "markdown",
   "id": "83451b30",
   "metadata": {},
   "source": [
    "`-` 지역 행, 매출을 마크에 넣어줌"
   ]
  },
  {
   "cell_type": "markdown",
   "id": "351d2687",
   "metadata": {},
   "source": [
    "`-` 그 후 분석 패널에서 total을 열 방향 총합으로 드래그 드랍!"
   ]
  },
  {
   "cell_type": "markdown",
   "id": "cea91e65",
   "metadata": {},
   "source": [
    "`-` 이번엔 행 선반에 시도 추가! 그러면 이제 지역별 총합은 표시가 안되는데 분석패널에서 total을 subtotals로 넣어주면 된다. (시군구도 이와 같은 방식으로!)"
   ]
  },
  {
   "cell_type": "markdown",
   "id": "f8e79b58",
   "metadata": {},
   "source": [
    "`-` 주문일자를 열선반에 추가! $\\to$ 연도별 시군구 매출액을 파악할 수 있다. (분석 패널에서 행 방향 총계도 종합가능)"
   ]
  },
  {
   "cell_type": "markdown",
   "id": "0635e443",
   "metadata": {},
   "source": [
    "`-` 근데 이렇게 하다 보니 먼가 열 총합은 현재 밑으로 한참 내려야 하고 분기까지 열에 추가하면 더 복잡해질 것임"
   ]
  },
  {
   "cell_type": "markdown",
   "id": "8d95811a",
   "metadata": {},
   "source": [
    "`-` 다음과 같은 방법으로 해결 가능"
   ]
  },
  {
   "cell_type": "markdown",
   "id": "1c233bbb",
   "metadata": {},
   "source": [
    "<img src = \"ch2-50.png\" width = 300>"
   ]
  },
  {
   "cell_type": "markdown",
   "id": "4987a063",
   "metadata": {},
   "source": [
    "## Summary"
   ]
  },
  {
   "cell_type": "markdown",
   "id": "6f492a2f",
   "metadata": {},
   "source": [
    "`-` 계층은 화면에서 Drill-Down해서 값을 세부적으로 찾는데 유용"
   ]
  },
  {
   "cell_type": "markdown",
   "id": "14e6075b",
   "metadata": {},
   "source": [
    "`-` 총계는 각각의 요소들의 Total을 보여주는 방식으로 범위에 따라 총 합계 및 소계, 그리고 열과 행 기준으로 가각 Total을 표시할 수 있음"
   ]
  },
  {
   "cell_type": "markdown",
   "id": "6e180163",
   "metadata": {},
   "source": [
    "***"
   ]
  },
  {
   "cell_type": "markdown",
   "id": "67374c45",
   "metadata": {},
   "source": [
    "# 6. 맵 만들기"
   ]
  },
  {
   "cell_type": "markdown",
   "id": "4a38ae9a",
   "metadata": {},
   "source": [
    "## (1) 지리적 역할 부여하기"
   ]
  },
  {
   "cell_type": "markdown",
   "id": "b767d87e",
   "metadata": {},
   "source": [
    "<img src = \"ch2-51.png\" width = 300>"
   ]
  },
  {
   "cell_type": "markdown",
   "id": "f34ffd61",
   "metadata": {},
   "source": [
    "`-` 측정값에 없던 경도와 위도 추가, 그리고 문자열이 아닌 지구본 모양으로 표시됨"
   ]
  },
  {
   "cell_type": "markdown",
   "id": "1c368bd5",
   "metadata": {},
   "source": [
    "`-` 그 후 국가를 더블 클릭하면!"
   ]
  },
  {
   "cell_type": "markdown",
   "id": "4455174c",
   "metadata": {},
   "source": [
    "<img src = \"ch2-52.png\" width = 450>"
   ]
  },
  {
   "cell_type": "markdown",
   "id": "12822e3e",
   "metadata": {},
   "source": [
    "`-` 시도 기준으로 표현, 똑같이 지리적 역할 선택후 state/province 선택, 그리고 더블클릭"
   ]
  },
  {
   "cell_type": "markdown",
   "id": "b57c0e0e",
   "metadata": {},
   "source": [
    "<img src = \"ch2-53.png\" width = 350>"
   ]
  },
  {
   "cell_type": "markdown",
   "id": "bedb9bcc",
   "metadata": {},
   "source": [
    "`-` 시군구도 선택만 country로 하고 동일!"
   ]
  },
  {
   "cell_type": "markdown",
   "id": "c64e5ee8",
   "metadata": {},
   "source": [
    "`-` 시군구의 경우 7개의 불확실한 지역이 있는데 이건 시도별 동일한 이름을 가진 지역이 있어서 그럼"
   ]
  },
  {
   "cell_type": "markdown",
   "id": "060268c1",
   "metadata": {},
   "source": [
    "`-` 따라서 계층형 구조를 만들어야 한다. 시군구 필드를 시도로 드래그!"
   ]
  },
  {
   "cell_type": "markdown",
   "id": "63f37e59",
   "metadata": {},
   "source": [
    "`-` 그 후 시군구를 더블 클릭하면 **unknown**이 사라짐!"
   ]
  },
  {
   "cell_type": "markdown",
   "id": "22e47b99",
   "metadata": {},
   "source": [
    "<img src = \"ch2-54.png\" width = 350>"
   ]
  },
  {
   "cell_type": "markdown",
   "id": "6437ea25",
   "metadata": {},
   "source": [
    "`-` 지역의 경우 시도보다 상위 개념이다. 따라서 지리적 역할을 만들 때 `create from 시도`를 이용해서 만든 후 지도 계층에서 시도 위에 넣어주자"
   ]
  },
  {
   "cell_type": "markdown",
   "id": "8f9ced94",
   "metadata": {},
   "source": [
    "## (2) 맵 차트 구현하기"
   ]
  },
  {
   "cell_type": "markdown",
   "id": "1422894e",
   "metadata": {},
   "source": [
    "`-` 시군구 기준으로 수익을 맵에 표현"
   ]
  },
  {
   "cell_type": "markdown",
   "id": "765b27d6",
   "metadata": {},
   "source": [
    "`-` 매출은 사이즈, 수익은 색상으로 표현"
   ]
  },
  {
   "cell_type": "markdown",
   "id": "4a8dfb72",
   "metadata": {},
   "source": [
    "`-` filter값으로 특정 시도만 보는 것도 가능!"
   ]
  },
  {
   "cell_type": "markdown",
   "id": "1c4a09ad",
   "metadata": {},
   "source": [
    "`-` 또한, 마커를 맵으로 표시하면 아래와 같이도 표현이 가능하다."
   ]
  },
  {
   "cell_type": "markdown",
   "id": "9d76b915",
   "metadata": {},
   "source": [
    "<img src = \"ch2-55.png\" width = 350>"
   ]
  },
  {
   "cell_type": "markdown",
   "id": "ac1d6a40",
   "metadata": {},
   "source": [
    "`-` 근데 다른 나라도 표시되는 것 같음"
   ]
  },
  {
   "cell_type": "markdown",
   "id": "0664d847",
   "metadata": {},
   "source": [
    "### background 기능"
   ]
  },
  {
   "cell_type": "markdown",
   "id": "771d6d6e",
   "metadata": {},
   "source": [
    "`-` 최상단 메뉴바에서 map, backgroud layer 클릭! $\\to$ 다양한 메뉴가 있으니 한번씩 수행해보자!"
   ]
  },
  {
   "cell_type": "markdown",
   "id": "58cdb973",
   "metadata": {},
   "source": [
    "`-` 우리나라 빼고 전부 없애기 $\\to$ washout(투명도)를 100%로 바꾸기"
   ]
  },
  {
   "cell_type": "markdown",
   "id": "fd26d328",
   "metadata": {},
   "source": [
    "<img src = \"ch2-56.png\" width = 450>"
   ]
  },
  {
   "cell_type": "markdown",
   "id": "9a6d60f0",
   "metadata": {},
   "source": [
    "### Summary"
   ]
  },
  {
   "cell_type": "markdown",
   "id": "f4302745",
   "metadata": {},
   "source": [
    "`-` 태블로에서는 맵 형태로 데이터를 표현할 수 있다."
   ]
  },
  {
   "cell_type": "markdown",
   "id": "23fbeb3b",
   "metadata": {},
   "source": [
    "`-` 우리나라 지리 정보가 있다면 기본적으로는 시도와 시군구명만 있더라도 태블로에서 맵 형태로 표현이 가능"
   ]
  },
  {
   "cell_type": "markdown",
   "id": "c677e308",
   "metadata": {},
   "source": [
    "`-` 그 외에 읍면동이라든지 지점 위치를 표현하고 싶다면 위도와 경도값을 가지고 있거나, 별도의 공간 파일(shp)파일과 조인해서 표현 가능."
   ]
  },
  {
   "cell_type": "markdown",
   "id": "60c700e0",
   "metadata": {},
   "source": [
    "***"
   ]
  },
  {
   "cell_type": "markdown",
   "id": "827966d3",
   "metadata": {},
   "source": [
    "# Quiz"
   ]
  },
  {
   "cell_type": "markdown",
   "id": "8fe5672d",
   "metadata": {},
   "source": [
    "## (1) 다음 중 부분 전체 분석에 적합한 차트 유형이 아닌 것을 고르시오\n",
    "\n",
    "* 파이 차트\n",
    "\n",
    "* 누적 막대 차트\n",
    "\n",
    "* 채워진 버블 차트\n",
    "\n",
    "* 트리맵\n",
    "\n",
    "* 도넛 차트"
   ]
  },
  {
   "cell_type": "markdown",
   "id": "eff73c31",
   "metadata": {},
   "source": [
    "**정답 : 채워진 버블 차트**"
   ]
  },
  {
   "cell_type": "markdown",
   "id": "fb8eb59a",
   "metadata": {},
   "source": [
    "## (2) 다음 중 파이 차트 두 개로 도넛 차트를 만들 때 활용하는 기능을 고르시오\n",
    "\n",
    "* 측정값 결합\n",
    "\n",
    "* 이중 축\n",
    "\n",
    "* 축 편집\n",
    "\n",
    "* 결합된 축"
   ]
  },
  {
   "cell_type": "markdown",
   "id": "13afd77b",
   "metadata": {},
   "source": [
    "**정답 : 이중 축**"
   ]
  },
  {
   "cell_type": "markdown",
   "id": "95a50b57",
   "metadata": {},
   "source": [
    "## (3) 분산형 차트를 만드는 경우 측정값은 최소 몇 개 이상 있어야 하는가\n",
    "\n",
    "* 2\n",
    "* 0\n",
    "* 4\n",
    "* 3\n",
    "* 1\n",
    "\n"
   ]
  },
  {
   "cell_type": "markdown",
   "id": "3929ef3c",
   "metadata": {},
   "source": [
    "**정답 : 2**"
   ]
  },
  {
   "cell_type": "markdown",
   "id": "2a20494a",
   "metadata": {},
   "source": [
    "## (4) 다음 중 결합된 축과 관련된 내용을 고르시오\n",
    "\n",
    "* 태블로에서 삼중축 적용이 가능함\n",
    "\n",
    "* 마크를 서로 다르게 구성 가능함\n",
    "\n",
    "* 영어로 Dual Axis라고 함\n",
    "\n",
    "* 마크는 반드시 동일하게 구성됨"
   ]
  },
  {
   "cell_type": "markdown",
   "id": "a3abfba5",
   "metadata": {},
   "source": [
    "**정답 :마크는 반드시 동일하게 구성됨**"
   ]
  },
  {
   "cell_type": "markdown",
   "id": "2cb18643",
   "metadata": {},
   "source": [
    "## (5) 다음 중 그룹을 만드는 방법으로 적절한 것을 고르시오\n",
    "\n",
    "* 선반에서 아래 세모 옵션 선택\n",
    "\n",
    "* 데이터 패널에 있는 임의의 차원에서 마우스 우클릭\n",
    "\n",
    "* 표현 방식에서 원 뷰 클릭\n",
    "\n",
    "* 사이드바에 있는 분석 패널에서 선택"
   ]
  },
  {
   "cell_type": "markdown",
   "id": "dd2846e6",
   "metadata": {},
   "source": [
    "**정답 : 데이터 패널에 있는 임의의 차원에서 마우스 우클릭**"
   ]
  },
  {
   "cell_type": "markdown",
   "id": "a21cff75",
   "metadata": {},
   "source": [
    "## (6) 다음 중 집합에 대한 설명으로 맞는 것을 고르시오\n",
    "\n",
    "* 하나의 차원에서 IN, OUT, OTHER 3개로 만들 수 있음\n",
    "\n",
    "* 집합을 만들면 필드 유형 아이콘은 Abc로 표시됨\n",
    "\n",
    "* 두 개의 집합을 결합된 집합으로 만들 수 있음\n",
    "\n",
    "* 집합을 필터로 적용할 때 OUT으로 설정함"
   ]
  },
  {
   "cell_type": "markdown",
   "id": "7f39e6c5",
   "metadata": {},
   "source": [
    "**정답 : 두 개의 집합을 결합된 집합으로 만들 수 있음**"
   ]
  },
  {
   "cell_type": "markdown",
   "id": "9369d06f",
   "metadata": {},
   "source": [
    "## (7) 다음 중 자동적으로 계층이 설정되어 있는 데이터 유형을 고르시오\n",
    "\n",
    "* 부울\n",
    "\n",
    "* 정수\n",
    "\n",
    "* 지리적 역할\n",
    "\n",
    "* 문자열\n",
    "\n",
    "* 날짜"
   ]
  },
  {
   "cell_type": "markdown",
   "id": "f4d9ad13",
   "metadata": {},
   "source": [
    "**정답 : 날짜**"
   ]
  },
  {
   "cell_type": "markdown",
   "id": "8d331cee",
   "metadata": {},
   "source": [
    "## (8) 다음 중 총계 기능을 사용할 수 있는 영역을 모두 고르시오\n",
    "\n",
    "* 표현 방식\n",
    "\n",
    "* 분석 메뉴\n",
    "\n",
    "* 워크 시트 메뉴\n",
    "\n",
    "* 분석 패널\n",
    "\n",
    "* 맵 메뉴"
   ]
  },
  {
   "cell_type": "markdown",
   "id": "c4f80fcf",
   "metadata": {},
   "source": [
    "**정답 : 분석 메뉴, 분석 패널**"
   ]
  },
  {
   "cell_type": "markdown",
   "id": "d95c1c0e",
   "metadata": {},
   "source": [
    "## (9) 다음 중 지리적 역할로 변경할 경우 맞는 설명을 모두 고르시오\n",
    "\n",
    "* 데이터 원본에 위도와 경도가 없다면 맵으로 표현 불가능\n",
    "\n",
    "* 지리적 역할로 변경할 경우 차원에 우클릭 후 '변환'을 선택함\n",
    "\n",
    "* 같은 지역명을 맵에서 제대로 보여주기 위해서는 계층을 만드는 것이 좋음\n",
    "\n",
    "* 우리나라 기준 '시도'는 '시(도시)'로 변환\n",
    "\n",
    "* 우리나라 기준 '시군구'는 '카운티'로 변환"
   ]
  },
  {
   "cell_type": "markdown",
   "id": "8c9a3e7e",
   "metadata": {},
   "source": [
    "**정답 : 같은 지역명을 맵에서 제대로 보여주기 위해서는 계층을 만드는 것이 좋음, 우리나라 기준 '시군구'는 '카운티'로 변환**"
   ]
  },
  {
   "cell_type": "markdown",
   "id": "8a86441a",
   "metadata": {},
   "source": [
    "## (10) 다음 중 태블로에서 맵을 표현할 수 있는 방법 중 틀린 표현을 찾으시오\n",
    "\n",
    "* 위도와 경도 값이 있으면 맵 표현이 가능함\n",
    "\n",
    "* 한 번 설정된 배경 맵은 변경할 수 없음\n",
    "\n",
    "* 맵의 계층은 여려 개의 계층(layer)으로 이루어져 있음\n",
    "\n",
    "* 지리적 역할로 변경한 차원 필드를 더블 클릭하면 맵 형태로 표현됨"
   ]
  },
  {
   "cell_type": "markdown",
   "id": "b747c6c6",
   "metadata": {},
   "source": [
    "**정답 : 한 번 설정된 배경 맵은 변경할 수 없음**"
   ]
  }
 ],
 "metadata": {
  "kernelspec": {
   "display_name": "Python 3 (ipykernel)",
   "language": "python",
   "name": "python3"
  },
  "language_info": {
   "codemirror_mode": {
    "name": "ipython",
    "version": 3
   },
   "file_extension": ".py",
   "mimetype": "text/x-python",
   "name": "python",
   "nbconvert_exporter": "python",
   "pygments_lexer": "ipython3",
   "version": "3.9.13"
  },
  "toc": {
   "base_numbering": 1,
   "nav_menu": {},
   "number_sections": false,
   "sideBar": true,
   "skip_h1_title": false,
   "title_cell": "Table of Contents",
   "title_sidebar": "Contents",
   "toc_cell": false,
   "toc_position": {
    "height": "calc(100% - 180px)",
    "left": "10px",
    "top": "150px",
    "width": "222.2px"
   },
   "toc_section_display": true,
   "toc_window_display": true
  }
 },
 "nbformat": 4,
 "nbformat_minor": 5
}
