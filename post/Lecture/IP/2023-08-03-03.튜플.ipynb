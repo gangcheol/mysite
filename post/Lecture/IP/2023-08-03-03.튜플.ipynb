{
 "cells": [
  {
   "cell_type": "raw",
   "id": "e1e0dc4d-405b-49ee-983e-79bf9b9287a2",
   "metadata": {},
   "source": [
    "---\n",
    "title : \"03. 튜플\"\n",
    "date : \"08/03/23\"\n",
    "categories : [\"Python\"]\n",
    "author : \"GANGCHEOL LEE\"\n",
    "---"
   ]
  },
  {
   "cell_type": "markdown",
   "id": "5d12793e-4c4d-4e52-b469-e01a6409bdad",
   "metadata": {},
   "source": [
    "# tuple advanced"
   ]
  },
  {
   "cell_type": "markdown",
   "id": "d1d21589-a455-4497-a0b2-b07aafa23628",
   "metadata": {},
   "source": [
    "## Why use(1)"
   ]
  },
  {
   "cell_type": "markdown",
   "id": "03895f0d-92fd-48c4-97c2-b05f30cf543e",
   "metadata": {},
   "source": [
    "`-` 빠르고, 다중 작업에 유리"
   ]
  },
  {
   "cell_type": "markdown",
   "id": "15595faa-da73-4d40-8a64-80b36ea9fc40",
   "metadata": {},
   "source": [
    "`-` 메모리 관리측면에서도 좋음, 또한, 소괄호 생략"
   ]
  },
  {
   "cell_type": "markdown",
   "id": "aa337957-0b34-4460-8eeb-c82409c26666",
   "metadata": {},
   "source": [
    "## 슬기로운 튜플사용( $\\star \\star \\star$ )"
   ]
  },
  {
   "cell_type": "markdown",
   "id": "fbb584b8-77e3-4c59-801a-3b46d20e0329",
   "metadata": {},
   "source": [
    "`-` 예제1: 여러개의 변수를 동시 출력 및 할당"
   ]
  },
  {
   "cell_type": "code",
   "execution_count": 4,
   "id": "b5b0428d-7cfa-42fc-ad44-e1226a742d11",
   "metadata": {},
   "outputs": [],
   "source": [
    "name, age, sex, height, weight = 'Tom', 20, 'M', 180, 70 "
   ]
  },
  {
   "cell_type": "code",
   "execution_count": 5,
   "id": "fefc03de-9028-4141-b9ad-3bdfd8614f4b",
   "metadata": {},
   "outputs": [
    {
     "data": {
      "text/plain": [
       "('Tom', 20, 'M', 180, 70)"
      ]
     },
     "execution_count": 5,
     "metadata": {},
     "output_type": "execute_result"
    }
   ],
   "source": [
    "name, age, sex, height, weight"
   ]
  },
  {
   "cell_type": "markdown",
   "id": "397175ca-2650-4bd9-948f-1261f4533f37",
   "metadata": {},
   "source": [
    "`-` 예제 2: 다중할당 및 위도와 경도"
   ]
  },
  {
   "cell_type": "code",
   "execution_count": 7,
   "id": "3d4ed57a-9e9a-4113-bd5b-830d58802981",
   "metadata": {},
   "outputs": [],
   "source": [
    "coor = (37,127)"
   ]
  },
  {
   "cell_type": "code",
   "execution_count": 8,
   "id": "677e9d40-473e-4e90-aadf-deded4ed0e23",
   "metadata": {},
   "outputs": [
    {
     "data": {
      "text/plain": [
       "(37, 127)"
      ]
     },
     "execution_count": 8,
     "metadata": {},
     "output_type": "execute_result"
    }
   ],
   "source": [
    "coor"
   ]
  },
  {
   "cell_type": "code",
   "execution_count": 9,
   "id": "5f8af7f6-36b7-429d-8789-6897802b17a4",
   "metadata": {},
   "outputs": [],
   "source": [
    "lat, long = coor"
   ]
  },
  {
   "cell_type": "code",
   "execution_count": 10,
   "id": "bd71434f-0019-4bd5-a800-4f8cc0d0b807",
   "metadata": {},
   "outputs": [
    {
     "data": {
      "text/plain": [
       "37"
      ]
     },
     "execution_count": 10,
     "metadata": {},
     "output_type": "execute_result"
    }
   ],
   "source": [
    "lat"
   ]
  },
  {
   "cell_type": "code",
   "execution_count": 11,
   "id": "5d25b0b8-1c6a-4ea0-9858-2cd3ec96047a",
   "metadata": {},
   "outputs": [
    {
     "data": {
      "text/plain": [
       "127"
      ]
     },
     "execution_count": 11,
     "metadata": {},
     "output_type": "execute_result"
    }
   ],
   "source": [
    "long"
   ]
  },
  {
   "cell_type": "markdown",
   "id": "09dea8ea-5206-4c82-a4e3-1e736351b53d",
   "metadata": {},
   "source": [
    "`-` 예제3 : text"
   ]
  },
  {
   "cell_type": "code",
   "execution_count": 12,
   "id": "cd46fecd-4769-4241-8e02-500582de2177",
   "metadata": {},
   "outputs": [
    {
     "data": {
      "text/plain": [
       "('h', 'i')"
      ]
     },
     "execution_count": 12,
     "metadata": {},
     "output_type": "execute_result"
    }
   ],
   "source": [
    "x,y = 'hi'\n",
    "x,y "
   ]
  },
  {
   "cell_type": "markdown",
   "id": "9f075375-83a2-44ef-a86a-1fc9076cf9b6",
   "metadata": {},
   "source": [
    "`-` 예제4 : 두 변수의 값을 교환"
   ]
  },
  {
   "cell_type": "code",
   "execution_count": 13,
   "id": "1b7038dd-f709-4fdb-b399-7745ed794734",
   "metadata": {},
   "outputs": [],
   "source": [
    "a = 10\n",
    "b = 20"
   ]
  },
  {
   "cell_type": "code",
   "execution_count": 14,
   "id": "f9b222dc-95b9-4346-aec2-ceec9f6f8847",
   "metadata": {},
   "outputs": [],
   "source": [
    "a,b = b,a"
   ]
  },
  {
   "cell_type": "code",
   "execution_count": 15,
   "id": "525c8146-6ca3-4879-a671-56a2c646b765",
   "metadata": {},
   "outputs": [
    {
     "data": {
      "text/plain": [
       "20"
      ]
     },
     "execution_count": 15,
     "metadata": {},
     "output_type": "execute_result"
    }
   ],
   "source": [
    "a"
   ]
  },
  {
   "cell_type": "code",
   "execution_count": 16,
   "id": "d421f125-aca3-40db-8e9c-18d5239629fd",
   "metadata": {},
   "outputs": [
    {
     "data": {
      "text/plain": [
       "10"
      ]
     },
     "execution_count": 16,
     "metadata": {},
     "output_type": "execute_result"
    }
   ],
   "source": [
    "b"
   ]
  },
  {
   "cell_type": "markdown",
   "id": "2d8963a9-61ae-4b78-af66-6af4e3e00503",
   "metadata": {},
   "source": [
    "`-` 예제 4: for문"
   ]
  },
  {
   "cell_type": "code",
   "execution_count": 17,
   "id": "ad57802e-f87c-4129-bcf3-b99ba5d55121",
   "metadata": {},
   "outputs": [
    {
     "data": {
      "text/plain": [
       "[['gc', 2021502565, 'M'], ['iu', 202254321, 'F'], ['hodong', 202011223, 'M']]"
      ]
     },
     "execution_count": 17,
     "metadata": {},
     "output_type": "execute_result"
    }
   ],
   "source": [
    "lst = [['gc', 2021502565, 'M'],\n",
    "       ['iu',202254321, 'F'],\n",
    "       ['hodong', 202011223, 'M']]\n",
    "lst"
   ]
  },
  {
   "cell_type": "code",
   "execution_count": 20,
   "id": "7fa536c3-e988-4303-a864-94274dd9c15f",
   "metadata": {},
   "outputs": [
    {
     "name": "stdout",
     "output_type": "stream",
     "text": [
      "gc 2021502565 M\n",
      "iu 202254321 F\n",
      "hodong 202011223 M\n"
     ]
    }
   ],
   "source": [
    "for name, s, sex in lst :\n",
    "    print(name,s,sex)"
   ]
  },
  {
   "cell_type": "markdown",
   "id": "78fb2a7c-6a92-477f-8a65-cd877e23a0aa",
   "metadata": {},
   "source": [
    "`-` 예제 5 : for + tuple + \"_\""
   ]
  },
  {
   "cell_type": "code",
   "execution_count": 21,
   "id": "60db83cb-b289-4a43-8837-47277918ae06",
   "metadata": {},
   "outputs": [
    {
     "name": "stdout",
     "output_type": "stream",
     "text": [
      "2021502565\n",
      "202254321\n",
      "202011223\n"
     ]
    }
   ],
   "source": [
    "for _,s,_ in lst :\n",
    "    print(s)"
   ]
  },
  {
   "cell_type": "code",
   "execution_count": 22,
   "id": "84ea214f-2bec-466b-916e-5da014231a15",
   "metadata": {},
   "outputs": [
    {
     "name": "stdout",
     "output_type": "stream",
     "text": [
      "M\n",
      "F\n",
      "M\n"
     ]
    }
   ],
   "source": [
    "for _,_,s in lst :\n",
    "    print(s)"
   ]
  },
  {
   "cell_type": "code",
   "execution_count": 23,
   "id": "afa35dfc-497c-4e42-b67d-ae1e149b781e",
   "metadata": {},
   "outputs": [
    {
     "name": "stdout",
     "output_type": "stream",
     "text": [
      "gc M\n",
      "iu F\n",
      "hodong M\n"
     ]
    }
   ],
   "source": [
    "for n,_,s in lst :\n",
    "    print(n,s)"
   ]
  },
  {
   "cell_type": "markdown",
   "id": "df73cbb4-e495-46f5-80dc-4f48082b2e9f",
   "metadata": {},
   "source": [
    "`-` args는 특정하지 않은 여러개의 인자를 tuple형태로 받는다."
   ]
  },
  {
   "cell_type": "code",
   "execution_count": 25,
   "id": "d89a261d-602c-4b7c-9d4f-174873d790a5",
   "metadata": {},
   "outputs": [
    {
     "name": "stdout",
     "output_type": "stream",
     "text": [
      "gc\n",
      "iu\n",
      "hodong\n"
     ]
    }
   ],
   "source": [
    "for name,*args  in lst: \n",
    "    print(name)"
   ]
  },
  {
   "cell_type": "markdown",
   "id": "8febac0b-3ddf-4b9c-adc8-656e0dce0b4f",
   "metadata": {},
   "source": [
    "`-` 예제 : 튜플과 언패킹연산자 `*`"
   ]
  },
  {
   "cell_type": "code",
   "execution_count": 27,
   "id": "79b1dcc6-ca79-4cd3-8e61-2c94fb4ed5cd",
   "metadata": {},
   "outputs": [],
   "source": [
    "head, body,*tail = range(1,11)"
   ]
  },
  {
   "cell_type": "code",
   "execution_count": 28,
   "id": "93f72568-7205-42d7-a82c-95b786cc6ee0",
   "metadata": {},
   "outputs": [
    {
     "data": {
      "text/plain": [
       "(1, 2, [3, 4, 5, 6, 7, 8, 9, 10])"
      ]
     },
     "execution_count": 28,
     "metadata": {},
     "output_type": "execute_result"
    }
   ],
   "source": [
    "head,body,tail"
   ]
  },
  {
   "cell_type": "code",
   "execution_count": 31,
   "id": "305c2f88-0a11-400c-a6cf-dfc92d483ef1",
   "metadata": {},
   "outputs": [
    {
     "data": {
      "text/plain": [
       "(1, 2, [3, 4, 5, 6, 7], 8, 9, 10)"
      ]
     },
     "execution_count": 31,
     "metadata": {},
     "output_type": "execute_result"
    }
   ],
   "source": [
    "head1,head2, *body, tail1,tail2,tail3 = range(1,11) \n",
    "head1,head2, body, tail1,tail2,tail3 "
   ]
  },
  {
   "cell_type": "markdown",
   "id": "108a26bd-dba2-401c-bdef-9bfa071568c0",
   "metadata": {},
   "source": [
    "(관찰)"
   ]
  },
  {
   "cell_type": "code",
   "execution_count": 33,
   "id": "6d313c87-b658-4d3b-94b9-e14eea21e0e1",
   "metadata": {},
   "outputs": [],
   "source": [
    "head1,head2, body, tail1,tail2,tail3  = (1, 2, [3,4,5,6,7], 8, 9, 10)"
   ]
  },
  {
   "cell_type": "code",
   "execution_count": 40,
   "id": "e64ea5eb-47fd-40db-81f3-02085bec21d6",
   "metadata": {},
   "outputs": [
    {
     "ename": "SyntaxError",
     "evalue": "can't use starred expression here (1094250779.py, line 1)",
     "output_type": "error",
     "traceback": [
      "\u001b[1;36m  Cell \u001b[1;32mIn[40], line 1\u001b[1;36m\u001b[0m\n\u001b[1;33m    *body\u001b[0m\n\u001b[1;37m    ^\u001b[0m\n\u001b[1;31mSyntaxError\u001b[0m\u001b[1;31m:\u001b[0m can't use starred expression here\n"
     ]
    }
   ],
   "source": [
    "*body"
   ]
  },
  {
   "cell_type": "code",
   "execution_count": 41,
   "id": "368a0293-02e0-47a0-8a41-951c8b98bb88",
   "metadata": {},
   "outputs": [
    {
     "name": "stdout",
     "output_type": "stream",
     "text": [
      "3 4 5 6 7\n"
     ]
    }
   ],
   "source": [
    "print(*body)"
   ]
  },
  {
   "cell_type": "code",
   "execution_count": 42,
   "id": "89409920-274c-48a7-a4f5-12b8f5d65c7c",
   "metadata": {},
   "outputs": [
    {
     "data": {
      "text/plain": [
       "[3, 4, 5, 6, 7]"
      ]
     },
     "execution_count": 42,
     "metadata": {},
     "output_type": "execute_result"
    }
   ],
   "source": [
    "body"
   ]
  },
  {
   "cell_type": "code",
   "execution_count": 43,
   "id": "42984f89-3dbe-499b-a0b2-447604420b44",
   "metadata": {},
   "outputs": [
    {
     "name": "stdout",
     "output_type": "stream",
     "text": [
      "[3, 4, 5, 6, 7]\n"
     ]
    }
   ],
   "source": [
    "print(body)"
   ]
  },
  {
   "cell_type": "markdown",
   "id": "a3318fd1-4c11-4954-bace-78496e03950e",
   "metadata": {},
   "source": [
    "`-` 예제1"
   ]
  },
  {
   "cell_type": "markdown",
   "id": "4310f4f9-44cc-4285-94b9-846bc4f1620d",
   "metadata": {},
   "source": [
    "* 아래의 함수는 여러개의 값을 리턴하는 것처럼 보이나, 사실은 길이가 4인, 튜플1개만을 return 한다."
   ]
  },
  {
   "cell_type": "code",
   "execution_count": 2,
   "id": "27a69aac-34ec-44d6-93ed-edc0e0a05a9c",
   "metadata": {},
   "outputs": [],
   "source": [
    "def cal(a,b):\n",
    "    return a+b,a-b,a*b,a/b"
   ]
  },
  {
   "cell_type": "code",
   "execution_count": 3,
   "id": "74e1a6bd-142e-4c58-8188-1a734c1b4c94",
   "metadata": {},
   "outputs": [
    {
     "data": {
      "text/plain": [
       "(5, -1, 6, 0.6666666666666666)"
      ]
     },
     "execution_count": 3,
     "metadata": {},
     "output_type": "execute_result"
    }
   ],
   "source": [
    "cal(2,3)"
   ]
  },
  {
   "cell_type": "markdown",
   "id": "15a712ed-163f-49fb-86ad-70b5d278305b",
   "metadata": {},
   "source": [
    "`-` 왜 튜플만이 괄호를 생략할 수 있는가?"
   ]
  },
  {
   "cell_type": "markdown",
   "id": "ea927a61-661b-43da-96e2-ddcabf999d91",
   "metadata": {},
   "source": [
    "* 튜플을 먼저 만들고, 괄호를 생략하는 문법을 추가한 것은 아닐것이다."
   ]
  },
  {
   "cell_type": "markdown",
   "id": "8641cd6b-28e4-4db6-a0ff-ae71325c2ba3",
   "metadata": {},
   "source": [
    "* 원래는 괄호없이 벡터를 만들고 싶었을 것임"
   ]
  },
  {
   "cell_type": "markdown",
   "id": "95edb0f9-1d63-4af8-88ec-6fd71e23dd53",
   "metadata": {},
   "source": [
    "* 차피 벡터는 한 두번 쓰고 버리는 경우가 많고, 대부분 이름도 필요없음"
   ]
  },
  {
   "cell_type": "markdown",
   "id": "240321cb-e37e-40fa-8b44-5c9d16e770f2",
   "metadata": {},
   "source": [
    "* 즉, 원소에 접근해서 sorting하고 순서를 바꿀 필요가 없다는 것임"
   ]
  },
  {
   "cell_type": "markdown",
   "id": "27955c32-8847-4b2c-889c-dba63deb162c",
   "metadata": {},
   "source": [
    "* 데이터를 분석하면서 우리에게 필요한 것은, 데이터가 벡터 형태로 모여, 하나의 데이터프레임을 구축하기만 하면된다."
   ]
  },
  {
   "cell_type": "markdown",
   "id": "0f21e79e-84e0-4d5a-a633-e6b41a49f88b",
   "metadata": {},
   "source": [
    "***"
   ]
  },
  {
   "cell_type": "markdown",
   "id": "b0483b91-303a-4cb1-bba6-517050e67dfd",
   "metadata": {},
   "source": [
    "# Excersise"
   ]
  },
  {
   "cell_type": "markdown",
   "id": "5a6ff2ed-35f5-4ec1-8a4c-d3d659dd1efe",
   "metadata": {},
   "source": [
    "## (1) 자신의 학번과 영문이름을 각각 길이가 1인 튜플로 만든 후 합쳐라"
   ]
  },
  {
   "cell_type": "code",
   "execution_count": 50,
   "id": "8af64340-e59d-4586-a639-bac43161973a",
   "metadata": {},
   "outputs": [],
   "source": [
    "num = '202150256',\n",
    "name = 'gc',"
   ]
  },
  {
   "cell_type": "code",
   "execution_count": 51,
   "id": "16fe6b8a-d559-443e-83ab-40e0be77e968",
   "metadata": {},
   "outputs": [
    {
     "data": {
      "text/plain": [
       "('202150256', 'gc')"
      ]
     },
     "execution_count": 51,
     "metadata": {},
     "output_type": "execute_result"
    }
   ],
   "source": [
    "num+name"
   ]
  },
  {
   "cell_type": "markdown",
   "id": "61ba240a-395a-4f11-bce5-bbab42507c92",
   "metadata": {},
   "source": [
    "## (2) 다음의 중첩리스트를 보고 해당 강의의 수강생 수를 구하여라"
   ]
  },
  {
   "cell_type": "markdown",
   "id": "4132f099-24f8-4e09-9b49-6863b9fbda93",
   "metadata": {},
   "source": [
    "`-` 수강생들의 학번, 이름, 출석점수, 과제점수, 중간고사점수, 기말고사점수"
   ]
  },
  {
   "cell_type": "code",
   "execution_count": 52,
   "id": "e8568ab4-3b6c-4514-bbe4-fac9e97bc8a7",
   "metadata": {},
   "outputs": [
    {
     "data": {
      "text/plain": [
       "[['2021-43052', 'GuebinChoi', 5, 10, 20, 25],\n",
       " ['2019-12342', 'Heung-min Son', 10, 15, 30, 15],\n",
       " ['2018-32234', 'hynn', 7, 20, 30, 15],\n",
       " ['2022-42323', 'Minji', 8, 20, 20, 35],\n",
       " ['2023-55342', 'Hanni', 7, 20, 30, 35],\n",
       " ['2022-46624', 'Danielle', 3, 15, 30, 40],\n",
       " ['2022-11239', 'Haerin', 10, 20, 30, 40],\n",
       " ['2022-32114', 'Hyein', 10, 20, 20, 35]]"
      ]
     },
     "execution_count": 52,
     "metadata": {},
     "output_type": "execute_result"
    }
   ],
   "source": [
    "lst = [['2021-43052', 'GuebinChoi', 5, 10, 20, 25],\n",
    "       ['2019-12342', 'Heung-min Son', 10, 15, 30, 15],\n",
    "       ['2018-32234', 'hynn', 7, 20, 30, 15],\n",
    "       ['2022-42323', 'Minji', 8, 20, 20, 35],\n",
    "       ['2023-55342', 'Hanni', 7, 20, 30, 35],\n",
    "       ['2022-46624', 'Danielle', 3, 15, 30, 40],\n",
    "       ['2022-11239', 'Haerin', 10, 20, 30, 40],\n",
    "       ['2022-32114', 'Hyein', 10, 20, 20, 35]]\n",
    "lst "
   ]
  },
  {
   "cell_type": "code",
   "execution_count": 53,
   "id": "6c5cca63-24b9-47c7-9e10-04b521c54b67",
   "metadata": {},
   "outputs": [
    {
     "data": {
      "text/plain": [
       "8"
      ]
     },
     "execution_count": 53,
     "metadata": {},
     "output_type": "execute_result"
    }
   ],
   "source": [
    "len(lst)"
   ]
  },
  {
   "cell_type": "markdown",
   "id": "70a37cf6-24d3-4493-b39c-a4485f681f8c",
   "metadata": {},
   "source": [
    "## (3) 출석점수가 <7일 미만인 학생 수를 구하여라"
   ]
  },
  {
   "cell_type": "code",
   "execution_count": 55,
   "id": "7153e5ab-51c8-4a26-83b1-dedad8b4be2a",
   "metadata": {},
   "outputs": [
    {
     "data": {
      "text/plain": [
       "2"
      ]
     },
     "execution_count": 55,
     "metadata": {},
     "output_type": "execute_result"
    }
   ],
   "source": [
    "sum([s<7 for _,_,s,*args in lst])"
   ]
  },
  {
   "cell_type": "markdown",
   "id": "7f8cafb6-46f5-4699-b736-02637b5d81c9",
   "metadata": {},
   "source": [
    "## (4) 출석 + 과제 <21인 학생 수"
   ]
  },
  {
   "cell_type": "code",
   "execution_count": 56,
   "id": "4fa4da2d-18b9-4b67-bc59-9ecee93c38b6",
   "metadata": {},
   "outputs": [
    {
     "data": {
      "text/plain": [
       "2"
      ]
     },
     "execution_count": 56,
     "metadata": {},
     "output_type": "execute_result"
    }
   ],
   "source": [
    "sum([(s1+s2)<21 for _,_,s1,s2,*args in lst])"
   ]
  },
  {
   "cell_type": "markdown",
   "id": "f44fa966-7823-4a6c-ad78-071344c4f16e",
   "metadata": {},
   "source": [
    "## (5) 리스트의 정렬순서를 [이름,학번..., 기말고사]와 같이 변경"
   ]
  },
  {
   "cell_type": "code",
   "execution_count": 59,
   "id": "b90c311a-8df2-4eb5-8749-f181b3d59bb4",
   "metadata": {},
   "outputs": [
    {
     "data": {
      "text/plain": [
       "[['GuebinChoi', '2021-43052', 5, 10, 20, 25],\n",
       " ['Heung-min Son', '2019-12342', 10, 15, 30, 15],\n",
       " ['hynn', '2018-32234', 7, 20, 30, 15],\n",
       " ['Minji', '2022-42323', 8, 20, 20, 35],\n",
       " ['Hanni', '2023-55342', 7, 20, 30, 35],\n",
       " ['Danielle', '2022-46624', 3, 15, 30, 40],\n",
       " ['Haerin', '2022-11239', 10, 20, 30, 40],\n",
       " ['Hyein', '2022-32114', 10, 20, 20, 35]]"
      ]
     },
     "execution_count": 59,
     "metadata": {},
     "output_type": "execute_result"
    }
   ],
   "source": [
    "[[name,id,*a]for id, name, *a in lst]"
   ]
  },
  {
   "cell_type": "markdown",
   "id": "dddce206-44f2-441d-b791-61ee34c77757",
   "metadata": {},
   "source": [
    "## (6) split"
   ]
  },
  {
   "cell_type": "code",
   "execution_count": 60,
   "id": "db9f64c3-ad99-4575-88c1-535452eb287e",
   "metadata": {},
   "outputs": [
    {
     "data": {
      "text/plain": [
       "['2023', '03', '22']"
      ]
     },
     "execution_count": 60,
     "metadata": {},
     "output_type": "execute_result"
    }
   ],
   "source": [
    "'2023-03-22'.split('-')"
   ]
  },
  {
   "cell_type": "markdown",
   "id": "f9b182d9-f179-4d39-add6-aee80f6e608f",
   "metadata": {},
   "source": [
    "## (7) (6)의 결과를 되돌리는 코드를 작성"
   ]
  },
  {
   "cell_type": "code",
   "execution_count": 62,
   "id": "9324a743-2581-44ff-8ad3-fdcd2456045c",
   "metadata": {},
   "outputs": [
    {
     "data": {
      "text/plain": [
       "'2023-03-22'"
      ]
     },
     "execution_count": 62,
     "metadata": {},
     "output_type": "execute_result"
    }
   ],
   "source": [
    "\"-\".join('2023-03-22'.split('-'))"
   ]
  },
  {
   "cell_type": "markdown",
   "id": "f273a39e-daa7-4575-9cc5-d3fa71acbfa5",
   "metadata": {},
   "source": [
    "## (8) 다음 텍스트의 문장 개수는?"
   ]
  },
  {
   "cell_type": "code",
   "execution_count": 63,
   "id": "1e265cf6-893d-4171-9777-1c32c941eb2c",
   "metadata": {},
   "outputs": [],
   "source": [
    "text = \"국내뿐 아니라 해외 인기도 심상치 않다. 2023년 1월 18일 'Ditto'가 빌보드 핫 100에 96위로 진입했다. 이는 K-pop 역사상 데뷔후 최단 빌보드 Hot 100 차트 입성 기록이다. 다른 뮤지션들이 보통 데뷔 후 수년간 쌓아온 팬덤을 기반으로 빌보드에 입성한데 비해, 뉴진스의 기록은 이례적인 것으로 평가받고 있다. 또한 'OMG'가 빌보드 핫 100에 91위로 진입한 동시에 'Ditto'는 85위로 순위가 상승, 핫 100 주간차트에 두 곡을 올려놓았다. K-Pop 역사상 이 차트에 두 곡 이상을 진입시킨 아티스트는 방탄소년단과 블랙핑크가 유일하다. 'Ditto'는 1월 셋째주 기준, 빌보드뿐만 아니라 영국 오피셜 싱글 차트 '톱 100'에 2주 연속 진입하기도 했다.\""
   ]
  },
  {
   "cell_type": "code",
   "execution_count": 64,
   "id": "e3cbf90f-45f5-4485-886a-4c66782f8d03",
   "metadata": {},
   "outputs": [
    {
     "data": {
      "text/plain": [
       "\"국내뿐 아니라 해외 인기도 심상치 않다. 2023년 1월 18일 'Ditto'가 빌보드 핫 100에 96위로 진입했다. 이는 K-pop 역사상 데뷔후 최단 빌보드 Hot 100 차트 입성 기록이다. 다른 뮤지션들이 보통 데뷔 후 수년간 쌓아온 팬덤을 기반으로 빌보드에 입성한데 비해, 뉴진스의 기록은 이례적인 것으로 평가받고 있다. 또한 'OMG'가 빌보드 핫 100에 91위로 진입한 동시에 'Ditto'는 85위로 순위가 상승, 핫 100 주간차트에 두 곡을 올려놓았다. K-Pop 역사상 이 차트에 두 곡 이상을 진입시킨 아티스트는 방탄소년단과 블랙핑크가 유일하다. 'Ditto'는 1월 셋째주 기준, 빌보드뿐만 아니라 영국 오피셜 싱글 차트 '톱 100'에 2주 연속 진입하기도 했다.\""
      ]
     },
     "execution_count": 64,
     "metadata": {},
     "output_type": "execute_result"
    }
   ],
   "source": [
    "text"
   ]
  },
  {
   "cell_type": "code",
   "execution_count": 68,
   "id": "6fe80fe1-2c40-4343-a99c-1a7c7c5092e7",
   "metadata": {},
   "outputs": [
    {
     "data": {
      "text/plain": [
       "7"
      ]
     },
     "execution_count": 68,
     "metadata": {},
     "output_type": "execute_result"
    }
   ],
   "source": [
    "len(text.split(\". \"))"
   ]
  },
  {
   "cell_type": "markdown",
   "id": "49323695-46b6-45ea-ad2b-2d80879223c1",
   "metadata": {},
   "source": [
    "## (9) 각 문장의 단어 개수"
   ]
  },
  {
   "cell_type": "code",
   "execution_count": 70,
   "id": "c513ea77-0cd8-423e-b329-253819c8c0e5",
   "metadata": {},
   "outputs": [],
   "source": [
    "str1 = text.split(\". \")"
   ]
  },
  {
   "cell_type": "code",
   "execution_count": 72,
   "id": "ef3f3b68-9ec6-4e36-9766-e29c2f945af1",
   "metadata": {},
   "outputs": [
    {
     "data": {
      "text/plain": [
       "[6, 9, 11, 18, 18, 12, 16]"
      ]
     },
     "execution_count": 72,
     "metadata": {},
     "output_type": "execute_result"
    }
   ],
   "source": [
    "[ len(i.split(\" \")) for i in str1]"
   ]
  },
  {
   "cell_type": "markdown",
   "id": "dfcf5490-e828-403a-9c42-ac9e72174f10",
   "metadata": {},
   "source": [
    "## (10) 100이란 단어가 포함된 문장은 모두 몇개인가?"
   ]
  },
  {
   "cell_type": "code",
   "execution_count": 75,
   "id": "fbe5599b-d5a9-4a85-b86b-66b37fcc5dde",
   "metadata": {},
   "outputs": [
    {
     "data": {
      "text/plain": [
       "4"
      ]
     },
     "execution_count": 75,
     "metadata": {},
     "output_type": "execute_result"
    }
   ],
   "source": [
    "sum([\"100\" in i for i in str1])"
   ]
  },
  {
   "cell_type": "markdown",
   "id": "c12ee973-145f-49c8-9525-dcb6907bcd8e",
   "metadata": {},
   "source": [
    "***"
   ]
  },
  {
   "cell_type": "markdown",
   "id": "6652868c-6537-4e79-ad4e-d354d249446c",
   "metadata": {},
   "source": [
    "# 유용한 기술"
   ]
  },
  {
   "cell_type": "markdown",
   "id": "a4b94458-55f8-4a4f-90e1-3c23a8db25f0",
   "metadata": {},
   "source": [
    "## 스트라이딩"
   ]
  },
  {
   "cell_type": "markdown",
   "id": "46cbf026-bfcc-4097-8ab2-25f385482364",
   "metadata": {},
   "source": [
    "`-` start:end:step"
   ]
  },
  {
   "cell_type": "code",
   "execution_count": 88,
   "id": "95c10a19-9530-4279-b157-342831c71392",
   "metadata": {},
   "outputs": [
    {
     "data": {
      "text/plain": [
       "['a', 'b', 'c', 'd', 'e', 'f', 'g', 'h', 'i', 'j', 'k']"
      ]
     },
     "execution_count": 88,
     "metadata": {},
     "output_type": "execute_result"
    }
   ],
   "source": [
    "lst = list('abcdefghijk')\n",
    "lst"
   ]
  },
  {
   "cell_type": "markdown",
   "id": "df63d9d0-f56b-4123-9156-ea7fc207d6c0",
   "metadata": {},
   "source": [
    "`-` 첫 번째 글자부터 8번째 글자까지 3칸씩 출력"
   ]
  },
  {
   "cell_type": "code",
   "execution_count": 89,
   "id": "57b4439c-dffa-4bf2-9538-4f77dc50b0f4",
   "metadata": {},
   "outputs": [
    {
     "data": {
      "text/plain": [
       "['a', 'd', 'g']"
      ]
     },
     "execution_count": 89,
     "metadata": {},
     "output_type": "execute_result"
    }
   ],
   "source": [
    "lst[0:9:3]"
   ]
  },
  {
   "cell_type": "code",
   "execution_count": 92,
   "id": "c181c9ec-6f32-48f8-ba99-7c8194f62559",
   "metadata": {},
   "outputs": [
    {
     "data": {
      "text/plain": [
       "['a', 'b', 'c', 'd', 'e', 'f', 'g', 'h', 'i']"
      ]
     },
     "execution_count": 92,
     "metadata": {},
     "output_type": "execute_result"
    }
   ],
   "source": [
    "lst[0:9]"
   ]
  },
  {
   "cell_type": "code",
   "execution_count": 91,
   "id": "48be0ca7-2d4d-4596-8151-49379998c5cd",
   "metadata": {},
   "outputs": [
    {
     "data": {
      "text/plain": [
       "['a', 'b', 'c', 'd', 'e', 'f', 'g', 'h', 'i']"
      ]
     },
     "execution_count": 91,
     "metadata": {},
     "output_type": "execute_result"
    }
   ],
   "source": [
    "lst[0:9:]"
   ]
  },
  {
   "cell_type": "code",
   "execution_count": 93,
   "id": "d2a6d1dd-f977-4877-ab9f-1c9afb59c163",
   "metadata": {},
   "outputs": [
    {
     "data": {
      "text/plain": [
       "['a', 'b', 'c', 'd', 'e', 'f', 'g', 'h', 'i']"
      ]
     },
     "execution_count": 93,
     "metadata": {},
     "output_type": "execute_result"
    }
   ],
   "source": [
    "lst[0:9:1]"
   ]
  },
  {
   "cell_type": "markdown",
   "id": "70df4598-22f5-48f0-8209-ca5c83394f4f",
   "metadata": {},
   "source": [
    "`-` step이 `-1`이면?"
   ]
  },
  {
   "cell_type": "code",
   "execution_count": 104,
   "id": "fa7f2044-2ad1-497b-bdab-241f0e0ccf3a",
   "metadata": {},
   "outputs": [
    {
     "data": {
      "text/plain": [
       "['a', 'b', 'c', 'd', 'e', 'f', 'g', 'h', 'i', 'j', 'k']"
      ]
     },
     "execution_count": 104,
     "metadata": {},
     "output_type": "execute_result"
    }
   ],
   "source": [
    "lst"
   ]
  },
  {
   "cell_type": "code",
   "execution_count": 105,
   "id": "54e6695c-1917-44aa-bd0d-a76fc7435fe0",
   "metadata": {},
   "outputs": [
    {
     "data": {
      "text/plain": [
       "['k', 'j', 'i', 'h', 'g', 'f', 'e', 'd', 'c', 'b', 'a']"
      ]
     },
     "execution_count": 105,
     "metadata": {},
     "output_type": "execute_result"
    }
   ],
   "source": [
    "lst[::-1]"
   ]
  },
  {
   "cell_type": "markdown",
   "id": "9a577b61-a6c0-4b0b-9e5a-f407815b5283",
   "metadata": {},
   "source": [
    "### step=-1 vs revers() "
   ]
  },
  {
   "cell_type": "code",
   "execution_count": 109,
   "id": "b42dd036-5b5b-4eb1-9e33-0e4df55da85f",
   "metadata": {},
   "outputs": [
    {
     "data": {
      "text/plain": [
       "['a', 'b', 'c', 'd', 'e', 'f', 'g', 'h']"
      ]
     },
     "execution_count": 109,
     "metadata": {},
     "output_type": "execute_result"
    }
   ],
   "source": [
    "lst = list('abcdefgh')\n",
    "lst"
   ]
  },
  {
   "cell_type": "markdown",
   "id": "6187c649-7406-418a-a24e-7f52c95829d8",
   "metadata": {},
   "source": [
    "`-` 아래와 같이 `step=-1` 객체를 변환하지않음"
   ]
  },
  {
   "cell_type": "code",
   "execution_count": 110,
   "id": "7e57dd05-e635-4405-9a17-717d6ba03c4f",
   "metadata": {},
   "outputs": [
    {
     "data": {
      "text/plain": [
       "['h', 'g', 'f', 'e', 'd', 'c', 'b', 'a']"
      ]
     },
     "execution_count": 110,
     "metadata": {},
     "output_type": "execute_result"
    }
   ],
   "source": [
    "lst[::-1]"
   ]
  },
  {
   "cell_type": "code",
   "execution_count": 111,
   "id": "b6a8dac5-8076-4e0e-8dc5-94eb82a9dacc",
   "metadata": {},
   "outputs": [
    {
     "data": {
      "text/plain": [
       "['a', 'b', 'c', 'd', 'e', 'f', 'g', 'h']"
      ]
     },
     "execution_count": 111,
     "metadata": {},
     "output_type": "execute_result"
    }
   ],
   "source": [
    "lst"
   ]
  },
  {
   "cell_type": "markdown",
   "id": "ea9bc92f-a625-4b94-8e5a-2222d740464e",
   "metadata": {},
   "source": [
    "`-` reverse는 변환한 형태로 객체를 저장"
   ]
  },
  {
   "cell_type": "code",
   "execution_count": 112,
   "id": "b6796c1b-386e-45b5-8186-c3a3e2c2cb23",
   "metadata": {},
   "outputs": [],
   "source": [
    "lst.reverse()"
   ]
  },
  {
   "cell_type": "code",
   "execution_count": 113,
   "id": "76f2e9b2-1215-47a2-9c86-bdd43b118931",
   "metadata": {},
   "outputs": [
    {
     "data": {
      "text/plain": [
       "['h', 'g', 'f', 'e', 'd', 'c', 'b', 'a']"
      ]
     },
     "execution_count": 113,
     "metadata": {},
     "output_type": "execute_result"
    }
   ],
   "source": [
    "lst"
   ]
  },
  {
   "cell_type": "markdown",
   "id": "f450b53a-9cb6-46e7-81a3-f334d4b52229",
   "metadata": {},
   "source": [
    "## 인덱스가 짝수/홀수 원소 추출"
   ]
  },
  {
   "cell_type": "code",
   "execution_count": 94,
   "id": "367138ed-79ec-49ed-85c9-85de4091a770",
   "metadata": {},
   "outputs": [
    {
     "data": {
      "text/plain": [
       "['a', 'b', 'c', 'd', 'e', 'f', 'g', 'h', 'i', 'j', 'k']"
      ]
     },
     "execution_count": 94,
     "metadata": {},
     "output_type": "execute_result"
    }
   ],
   "source": [
    "lst = list('abcdefghijk')\n",
    "lst"
   ]
  },
  {
   "cell_type": "markdown",
   "id": "f1663ab2-255b-418e-a840-e8b30b0b3eae",
   "metadata": {},
   "source": [
    "`-` 짝수 추출"
   ]
  },
  {
   "cell_type": "code",
   "execution_count": 96,
   "id": "df7d2844-d17e-4cdc-b3bb-bf4b973612c9",
   "metadata": {},
   "outputs": [
    {
     "data": {
      "text/plain": [
       "['a', 'c', 'e', 'g', 'i', 'k']"
      ]
     },
     "execution_count": 96,
     "metadata": {},
     "output_type": "execute_result"
    }
   ],
   "source": [
    "lst[::2]"
   ]
  },
  {
   "cell_type": "markdown",
   "id": "9862ff9c-706f-47ce-9abb-a02c0b4f4144",
   "metadata": {},
   "source": [
    "`-` 홀수 추출"
   ]
  },
  {
   "cell_type": "code",
   "execution_count": 97,
   "id": "a499a19a-be5d-462c-8d3e-d39e5f76787b",
   "metadata": {},
   "outputs": [
    {
     "data": {
      "text/plain": [
       "['b', 'd', 'f', 'h', 'j']"
      ]
     },
     "execution_count": 97,
     "metadata": {},
     "output_type": "execute_result"
    }
   ],
   "source": [
    "lst[1::2]"
   ]
  },
  {
   "cell_type": "markdown",
   "id": "9444de15-6cd4-455c-a263-332c13561bc0",
   "metadata": {},
   "source": [
    "## 문자열 세로로 읽기"
   ]
  },
  {
   "cell_type": "code",
   "execution_count": 98,
   "id": "5a9effca-3b87-413c-a7f7-cd034e23c275",
   "metadata": {},
   "outputs": [
    {
     "name": "stdout",
     "output_type": "stream",
     "text": [
      "너같이사랑스럽고\n",
      "또예쁘고도멋지고\n",
      "속훤히보이는너알\n",
      "았어그동안고마웠\n",
      "지정말정말사랑해\n"
     ]
    }
   ],
   "source": [
    "txt = '너같이사랑스럽고\\n또예쁘고도멋지고\\n속훤히보이는너알\\n았어그동안고마웠\\n지정말정말사랑해'\n",
    "print(txt)"
   ]
  },
  {
   "cell_type": "code",
   "execution_count": 102,
   "id": "e2cd1e4e-b853-416d-b67b-58e1432dcfd0",
   "metadata": {},
   "outputs": [
    {
     "data": {
      "text/plain": [
       "'너또속았지'"
      ]
     },
     "execution_count": 102,
     "metadata": {},
     "output_type": "execute_result"
    }
   ],
   "source": [
    "txt[::9]"
   ]
  },
  {
   "cell_type": "markdown",
   "id": "25049e92-026f-4898-bcbf-8b81f4babf8f",
   "metadata": {},
   "source": [
    "***"
   ]
  },
  {
   "cell_type": "markdown",
   "id": "c16956b4-e356-45fd-8a92-b93f04888c87",
   "metadata": {},
   "source": [
    "# 컴프리헨션 고급"
   ]
  },
  {
   "cell_type": "markdown",
   "id": "24d32fd4-c233-4d95-b898-4cfcc85e7ffc",
   "metadata": {},
   "source": [
    "## if + 컴프리헨션"
   ]
  },
  {
   "cell_type": "markdown",
   "id": "0d33a1e1-b67f-4b90-89cb-bce9f3fb88ad",
   "metadata": {},
   "source": [
    "### 예제1"
   ]
  },
  {
   "cell_type": "markdown",
   "id": "8c126cba-4c7f-4f23-9a52-f19d37b83b9b",
   "metadata": {},
   "source": [
    "`-` 제곱수중에서 12로 나누어 떨어지는 수만 원소로 가지는 리스트를 만들고 싶다."
   ]
  },
  {
   "cell_type": "markdown",
   "id": "1c13694f-71b9-4a6b-91d0-6be58f1dd81f",
   "metadata": {},
   "source": [
    "#### Sol"
   ]
  },
  {
   "cell_type": "markdown",
   "id": "7eb2229a-9ce3-45a3-81d7-78e3a709aa09",
   "metadata": {},
   "source": [
    "`-` 풀이1"
   ]
  },
  {
   "cell_type": "code",
   "execution_count": 125,
   "id": "733ffa7c-8565-493b-b4c3-33cb789cd5ff",
   "metadata": {},
   "outputs": [],
   "source": [
    "result = [i**2 for i in range(1,101) if i**2 % 12==0]"
   ]
  },
  {
   "cell_type": "code",
   "execution_count": 127,
   "id": "b690b2fa-9547-4b35-8669-3e25835a0920",
   "metadata": {},
   "outputs": [
    {
     "name": "stdout",
     "output_type": "stream",
     "text": [
      "[36, 144, 324, 576, 900, 1296, 1764, 2304, 2916, 3600, 4356, 5184, 6084, 7056, 8100, 9216]\n"
     ]
    }
   ],
   "source": [
    "print(result)"
   ]
  },
  {
   "cell_type": "markdown",
   "id": "1c2cdc94-cd76-4c2f-9f0e-47a5d579ebb9",
   "metadata": {},
   "source": [
    "`-` 위 결과는 아래와 같다."
   ]
  },
  {
   "cell_type": "code",
   "execution_count": 134,
   "id": "2bc58919-dd50-4682-a4f3-23b7457496c4",
   "metadata": {},
   "outputs": [],
   "source": [
    "lst=[]\n",
    "for i in range(1,101) :\n",
    "    if i**2 % 12 == 0:\n",
    "        lst.append(i**2)"
   ]
  },
  {
   "cell_type": "code",
   "execution_count": 135,
   "id": "3a2d977b-a3f3-4053-9a17-3ffc501a35d3",
   "metadata": {},
   "outputs": [
    {
     "name": "stdout",
     "output_type": "stream",
     "text": [
      "[36, 144, 324, 576, 900, 1296, 1764, 2304, 2916, 3600, 4356, 5184, 6084, 7056, 8100, 9216]\n"
     ]
    }
   ],
   "source": [
    "print(lst)"
   ]
  },
  {
   "cell_type": "markdown",
   "id": "5b51fa17-a365-4fc0-8fef-bdc9a11ad559",
   "metadata": {},
   "source": [
    "### 예제2"
   ]
  },
  {
   "cell_type": "markdown",
   "id": "78e29a05-cc6a-4cc0-a848-e97e85d1d9cd",
   "metadata": {},
   "source": [
    "`-` 홀짝 함수 + 컴프리헨션"
   ]
  },
  {
   "cell_type": "code",
   "execution_count": 137,
   "id": "41d01b1f-9538-4bee-a25f-000027aeb0fd",
   "metadata": {},
   "outputs": [],
   "source": [
    "def test(x) :\n",
    "    return \"even\" if x % 2==0 else \"odd\""
   ]
  },
  {
   "cell_type": "code",
   "execution_count": 141,
   "id": "b481aaee-860d-450b-af7d-e272fed0816b",
   "metadata": {},
   "outputs": [
    {
     "data": {
      "text/plain": [
       "['odd', 'even', 'odd', 'even', 'odd', 'even', 'odd', 'even', 'odd']"
      ]
     },
     "execution_count": 141,
     "metadata": {},
     "output_type": "execute_result"
    }
   ],
   "source": [
    "[test(i) for i in range(1,10)]"
   ]
  }
 ],
 "metadata": {
  "kernelspec": {
   "display_name": "Python 3 (ipykernel)",
   "language": "python",
   "name": "python3"
  },
  "language_info": {
   "codemirror_mode": {
    "name": "ipython",
    "version": 3
   },
   "file_extension": ".py",
   "mimetype": "text/x-python",
   "name": "python",
   "nbconvert_exporter": "python",
   "pygments_lexer": "ipython3",
   "version": "3.11.4"
  }
 },
 "nbformat": 4,
 "nbformat_minor": 5
}
