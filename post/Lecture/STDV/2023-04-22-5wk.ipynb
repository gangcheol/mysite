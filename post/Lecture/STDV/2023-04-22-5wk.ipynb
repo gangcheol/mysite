{
 "cells": [
  {
   "cell_type": "raw",
   "metadata": {
    "id": "_JTehGkpae0R"
   },
   "source": [
    "---\n",
    "title : \"04. qqplot, 찰스미나도의 도표\"\n",
    "author : \"GANGCHEOL LEE\"\n",
    "date : \"04/22/2023\"\n",
    "categories : \"python\"\n",
    "---"
   ]
  },
  {
   "cell_type": "markdown",
   "metadata": {},
   "source": [
    "# import"
   ]
  },
  {
   "cell_type": "code",
   "execution_count": 10,
   "metadata": {
    "executionInfo": {
     "elapsed": 3,
     "status": "ok",
     "timestamp": 1681973764057,
     "user": {
      "displayName": "이강철",
      "userId": "13507850890638580947"
     },
     "user_tz": -540
    },
    "id": "XU-ehxrxaxTR"
   },
   "outputs": [],
   "source": [
    "import pandas as pd\n",
    "import numpy as np\n",
    "import matplotlib.pyplot as plt\n",
    "from scipy import stats"
   ]
  },
  {
   "cell_type": "code",
   "execution_count": 11,
   "metadata": {
    "executionInfo": {
     "elapsed": 3,
     "status": "ok",
     "timestamp": 1681973765104,
     "user": {
      "displayName": "이강철",
      "userId": "13507850890638580947"
     },
     "user_tz": -540
    },
    "id": "Yw7JvJlObA_K"
   },
   "outputs": [],
   "source": [
    "np.random.seed(202150256)\n",
    "x = np.random.normal(loc = 2, scale = 1.5, size =1000)\n",
    "y = stats.t.rvs(df=10,size =1000)/np.sqrt(10/8)*1.5 + 2"
   ]
  },
  {
   "cell_type": "code",
   "execution_count": 12,
   "metadata": {
    "colab": {
     "base_uri": "https://localhost:8080/"
    },
    "executionInfo": {
     "elapsed": 3,
     "status": "ok",
     "timestamp": 1681973765470,
     "user": {
      "displayName": "이강철",
      "userId": "13507850890638580947"
     },
     "user_tz": -540
    },
    "id": "1Yl45FtmbOzH",
    "outputId": "febf8ef4-8f28-4437-995b-c022e77f4de9"
   },
   "outputs": [
    {
     "data": {
      "text/plain": [
       "(1.4739981187361109, 1.9504733080884165)"
      ]
     },
     "execution_count": 12,
     "metadata": {},
     "output_type": "execute_result"
    }
   ],
   "source": [
    "np.std(y),np.mean(y)"
   ]
  },
  {
   "cell_type": "markdown",
   "metadata": {
    "id": "C3F1ES5WbfgC"
   },
   "source": [
    "`-` 우리가 관측한 $x_1\\dots x_{1000}$ 이 $N(2,1.5^2)$ 에서 나온 샘플인지 궁금하다."
   ]
  },
  {
   "cell_type": "markdown",
   "metadata": {
    "id": "XSXtOjO7bh_Q"
   },
   "source": [
    "`-` 아이디어"
   ]
  },
  {
   "cell_type": "markdown",
   "metadata": {
    "id": "NQOXZjm2bkic"
   },
   "source": [
    "(1) 관측한 값을 순서대로 나열하여 $x_{(1)}\\dots x_{(1000)}$을 만든다.\n",
    "\n",
    "(2) 파이썬이나 R로 $N (2, 1.5^2)$ 에서 1000개의 정규분포를 생성. 그리고 순서대로 나열하여 $\\tilde x_{(1)}\\dots \\tilde x_{(1000)}$ 을 만는다.\n",
    "\n",
    "(3) $x_{(1)} \\approx \\tilde x_{(1)} \\dots x_{(1000)} \\approx \\tilde x_{(1000)}$ 이면 우리가 관측한 $x$는 정규분포일 것이다."
   ]
  },
  {
   "cell_type": "markdown",
   "metadata": {
    "id": "15POvVEYb7Oq"
   },
   "source": [
    "* 값을 정렬"
   ]
  },
  {
   "cell_type": "code",
   "execution_count": 13,
   "metadata": {
    "executionInfo": {
     "elapsed": 4,
     "status": "ok",
     "timestamp": 1681973767731,
     "user": {
      "displayName": "이강철",
      "userId": "13507850890638580947"
     },
     "user_tz": -540
    },
    "id": "wHKTcLL1b41O"
   },
   "outputs": [],
   "source": [
    "x.sort()"
   ]
  },
  {
   "cell_type": "markdown",
   "metadata": {
    "id": "0QFUJ2ipb_5q"
   },
   "source": [
    "* 편리한 계산을 위해 표준화 과정을 거침"
   ]
  },
  {
   "cell_type": "code",
   "execution_count": 14,
   "metadata": {
    "executionInfo": {
     "elapsed": 3,
     "status": "ok",
     "timestamp": 1681973767732,
     "user": {
      "displayName": "이강철",
      "userId": "13507850890638580947"
     },
     "user_tz": -540
    },
    "id": "u-IRTBNcb88-"
   },
   "outputs": [],
   "source": [
    "xx = (x-np.mean(x))/np.std(x,ddof=1)"
   ]
  },
  {
   "cell_type": "markdown",
   "metadata": {
    "id": "8EUCTWTncIXe"
   },
   "source": [
    "* 가장 작은 관측값 2개를 추출"
   ]
  },
  {
   "cell_type": "code",
   "execution_count": 15,
   "metadata": {
    "colab": {
     "base_uri": "https://localhost:8080/"
    },
    "executionInfo": {
     "elapsed": 3,
     "status": "ok",
     "timestamp": 1681973768867,
     "user": {
      "displayName": "이강철",
      "userId": "13507850890638580947"
     },
     "user_tz": -540
    },
    "id": "qvHJh42QcKIj",
    "outputId": "a3ba4b6a-2622-42eb-ccfc-33a1800f6a21"
   },
   "outputs": [
    {
     "data": {
      "text/plain": [
       "array([-3.60370086, -2.76081303])"
      ]
     },
     "execution_count": 15,
     "metadata": {},
     "output_type": "execute_result"
    }
   ],
   "source": [
    "xx[:2]"
   ]
  },
  {
   "cell_type": "markdown",
   "metadata": {
    "id": "2jgHukaCcLQG"
   },
   "source": [
    "* 아래의 값을 확인해 보니 얼추 비슷하게 나오는 것 같다."
   ]
  },
  {
   "cell_type": "code",
   "execution_count": 9,
   "metadata": {
    "colab": {
     "base_uri": "https://localhost:8080/"
    },
    "executionInfo": {
     "elapsed": 3,
     "status": "ok",
     "timestamp": 1681973746851,
     "user": {
      "displayName": "이강철",
      "userId": "13507850890638580947"
     },
     "user_tz": -540
    },
    "id": "qSkQeR4YcO-N",
    "outputId": "183e4c74-bb25-4027-fe29-7983eb36ba36"
   },
   "outputs": [
    {
     "data": {
      "text/plain": [
       "(-3.090232306167813, -2.878161739095483)"
      ]
     },
     "execution_count": 9,
     "metadata": {},
     "output_type": "execute_result"
    }
   ],
   "source": [
    "stats.norm.ppf(0.001), stats.norm.ppf(0.002)"
   ]
  },
  {
   "cell_type": "markdown",
   "metadata": {
    "id": "MfOdmNydc8RS"
   },
   "source": [
    "* 이제 이론적인 값을 생성"
   ]
  },
  {
   "cell_type": "code",
   "execution_count": 27,
   "metadata": {
    "executionInfo": {
     "elapsed": 264,
     "status": "ok",
     "timestamp": 1681974009475,
     "user": {
      "displayName": "이강철",
      "userId": "13507850890638580947"
     },
     "user_tz": -540
    },
    "id": "U_9yW2ryc-pQ"
   },
   "outputs": [],
   "source": [
    "m = [i / 1000 for i in range(1000)]"
   ]
  },
  {
   "cell_type": "code",
   "execution_count": 28,
   "metadata": {
    "executionInfo": {
     "elapsed": 419,
     "status": "ok",
     "timestamp": 1681974010935,
     "user": {
      "displayName": "이강철",
      "userId": "13507850890638580947"
     },
     "user_tz": -540
    },
    "id": "XptgwsxKdHC7"
   },
   "outputs": [],
   "source": [
    "q = [stats.norm.ppf(m[i]) for i in range(len(m))]"
   ]
  },
  {
   "cell_type": "markdown",
   "metadata": {
    "id": "ns5bx976dRwy"
   },
   "source": [
    "* $xx \\approx q$ 임을 확인하기 위해서 $(q,q)$ 그래프와 $(q, xx)$ 그래프를 그려서 겹쳐보자."
   ]
  },
  {
   "cell_type": "code",
   "execution_count": 29,
   "metadata": {
    "colab": {
     "base_uri": "https://localhost:8080/",
     "height": 448
    },
    "executionInfo": {
     "elapsed": 895,
     "status": "ok",
     "timestamp": 1681974012193,
     "user": {
      "displayName": "이강철",
      "userId": "13507850890638580947"
     },
     "user_tz": -540
    },
    "id": "GPw_Y6cidVMP",
    "outputId": "4810fa5c-8898-4eec-9b9d-0969b5a40a52"
   },
   "outputs": [
    {
     "data": {
      "text/plain": [
       "[<matplotlib.lines.Line2D at 0x7f37fde32fd0>]"
      ]
     },
     "execution_count": 29,
     "metadata": {},
     "output_type": "execute_result"
    },
    {
     "data": {
      "image/png": "[encoded data removed]",
      "text/plain": [
       "<Figure size 640x480 with 1 Axes>"
      ]
     },
     "metadata": {},
     "output_type": "display_data"
    }
   ],
   "source": [
    "plt.plot(q,xx,\"o\")\n",
    "plt.plot(q,q,\"-\")"
   ]
  },
  {
   "cell_type": "markdown",
   "metadata": {
    "id": "RfL6qoqidrrm"
   },
   "source": [
    "`-` 해석 : 점들이 주황색선 근처에 모여있을 수록 정규분포에 가깝다고 볼 수 있다."
   ]
  },
  {
   "cell_type": "markdown",
   "metadata": {
    "id": "WaXxPPlzdxc6"
   },
   "source": [
    "`-` 아래와 같은 방법으로도 그릴 수 있음."
   ]
  },
  {
   "cell_type": "code",
   "execution_count": 32,
   "metadata": {
    "colab": {
     "base_uri": "https://localhost:8080/",
     "height": 472
    },
    "executionInfo": {
     "elapsed": 586,
     "status": "ok",
     "timestamp": 1681974085836,
     "user": {
      "displayName": "이강철",
      "userId": "13507850890638580947"
     },
     "user_tz": -540
    },
    "id": "ie-2dWbtd1rq",
    "outputId": "76b450c0-1748-4857-b05d-456fa0755d3e"
   },
   "outputs": [
    {
     "data": {
      "image/png": "[encoded data removed]",
      "text/plain": [
       "<Figure size 640x480 with 1 Axes>"
      ]
     },
     "metadata": {},
     "output_type": "display_data"
    }
   ],
   "source": [
    "_ = stats.probplot(x,plot=plt)"
   ]
  },
  {
   "cell_type": "markdown",
   "metadata": {
    "id": "LcrUJ1sDd9mt"
   },
   "source": [
    "`-` 우리가 그린 그림과 비교"
   ]
  },
  {
   "cell_type": "code",
   "execution_count": 34,
   "metadata": {
    "colab": {
     "base_uri": "https://localhost:8080/",
     "height": 333
    },
    "executionInfo": {
     "elapsed": 1351,
     "status": "ok",
     "timestamp": 1681974172370,
     "user": {
      "displayName": "이강철",
      "userId": "13507850890638580947"
     },
     "user_tz": -540
    },
    "id": "6PnS09S1eCRq",
    "outputId": "a1450858-8dcb-4435-ce2c-8c53f4d831cd"
   },
   "outputs": [
    {
     "data": {
      "image/png": "[encoded data removed]",
      "text/plain": [
       "<Figure size 1000x300 with 2 Axes>"
      ]
     },
     "metadata": {},
     "output_type": "display_data"
    }
   ],
   "source": [
    "fig,axes = plt.subplots(1,2,figsize=(10,3))\n",
    "ax1, ax2 = axes\n",
    "\n",
    "ax1.plot(q,xx,\"o\")\n",
    "ax1.plot(q,q,\"-\")\n",
    "_ = stats.probplot(xx,plot=ax2)"
   ]
  },
  {
   "cell_type": "markdown",
   "metadata": {
    "id": "vaLE7yUseS2l"
   },
   "source": [
    "`-` 그림이 살짝 다른 이유는 우리가 한 것 처럼 $m = (\\frac {1}{1000}\\dots \\frac {1000}{1000})$ 이 아닌 약간 보정한 값을 계산하기 때문임."
   ]
  },
  {
   "cell_type": "markdown",
   "metadata": {
    "id": "__zEP52Zed2Z"
   },
   "source": [
    "`-` 이제 우리가 처음에 생성한 정규분포와 t분포의 qqplot을 그려 비교해보자."
   ]
  },
  {
   "cell_type": "code",
   "execution_count": 35,
   "metadata": {
    "colab": {
     "base_uri": "https://localhost:8080/",
     "height": 501
    },
    "executionInfo": {
     "elapsed": 908,
     "status": "ok",
     "timestamp": 1681974246651,
     "user": {
      "displayName": "이강철",
      "userId": "13507850890638580947"
     },
     "user_tz": -540
    },
    "id": "uRnnj64teiAA",
    "outputId": "22d62be8-b4cc-4c9f-890b-de97b41409e6"
   },
   "outputs": [
    {
     "data": {
      "text/plain": [
       "Text(0.5, 1.0, 't dist')"
      ]
     },
     "execution_count": 35,
     "metadata": {},
     "output_type": "execute_result"
    },
    {
     "data": {
      "image/png": "[encoded data removed]",
      "text/plain": [
       "<Figure size 1000x500 with 2 Axes>"
      ]
     },
     "metadata": {},
     "output_type": "display_data"
    }
   ],
   "source": [
    "fig, axes =plt.subplots(1,2, figsize = (10,5))\n",
    "ax1,ax2=axes\n",
    "_ = stats.probplot(x,plot=ax1)\n",
    "_ = stats.probplot(y,plot=ax2)\n",
    "ax1.set_title(\"normal dist\")\n",
    "ax2.set_title(\"t dist\")"
   ]
  },
  {
   "cell_type": "markdown",
   "metadata": {
    "id": "ZFTzgJ0fetAv"
   },
   "source": [
    "* t분포 : 푸른점들이 대체로 붉은선 놓여 있는듯 하지만 양끝단에서는 그렇지 않다.(중앙부근은 정규분포와 비슷하지만, 꼬리부분은 정규분포와 확실히 다르다.)\n",
    "\n",
    "  * 완쪽 꼬리 : 이론적으로 나와야 할 값보다 더 작은 값이 실제로 관측됨\n",
    "\n",
    "  * 오른쪽 꼬리 : 이론적으로 나와야할 값보다 더 큰 값이 실제로 관측됨\n",
    "\n",
    "  * 따라서 $y$의 분포는 정규분포보다 더 두꺼운 꼬리를 가진다고 해석할 수 있다. "
   ]
  },
  {
   "cell_type": "markdown",
   "metadata": {
    "id": "o1gGtNIxfVNk"
   },
   "source": [
    "## 예제 : boxplot. hist, qqplot "
   ]
  },
  {
   "cell_type": "code",
   "execution_count": 36,
   "metadata": {
    "executionInfo": {
     "elapsed": 386,
     "status": "ok",
     "timestamp": 1681974468694,
     "user": {
      "displayName": "이강철",
      "userId": "13507850890638580947"
     },
     "user_tz": -540
    },
    "id": "yg1isRmCfWdg"
   },
   "outputs": [],
   "source": [
    "import seaborn as sns"
   ]
  },
  {
   "cell_type": "code",
   "execution_count": 41,
   "metadata": {
    "colab": {
     "base_uri": "https://localhost:8080/",
     "height": 431
    },
    "executionInfo": {
     "elapsed": 1999,
     "status": "ok",
     "timestamp": 1681974664908,
     "user": {
      "displayName": "이강철",
      "userId": "13507850890638580947"
     },
     "user_tz": -540
    },
    "id": "EffW9PlqfZ6r",
    "outputId": "5ac8dbe9-5a0e-47d7-eca4-a28d2d672ac4"
   },
   "outputs": [
    {
     "data": {
      "image/png": "[encoded data removed]",
      "text/plain": [
       "<Figure size 1000x500 with 6 Axes>"
      ]
     },
     "metadata": {},
     "output_type": "display_data"
    }
   ],
   "source": [
    "fig, axes = plt.subplots(2,3,figsize=(10,5))\n",
    "\n",
    "(ax1, ax2, ax3), (ax4, ax5, ax6) = axes\n",
    "\n",
    "sns.boxplot(x,ax=ax1,orient=\"h\")\n",
    "sns.histplot(x,ax=ax2)\n",
    "_ = stats.probplot(x,plot=ax3)\n",
    "ax1.set_title(\"distribution of x\")\n",
    "ax2.set_title(\"distribution of x\")\n",
    "\n",
    "sns.boxplot(y,ax=ax4,orient=\"h\")\n",
    "sns.histplot(y,ax=ax5)\n",
    "_ = stats.probplot(y,plot=ax6)\n",
    "ax4.set_title(\"distribution of y\")\n",
    "ax5.set_title(\"distribution of y\")\n",
    "\n",
    "fig.tight_layout()"
   ]
  },
  {
   "cell_type": "markdown",
   "metadata": {
    "id": "LYhPa168gPpO"
   },
   "source": [
    "# Appendix : 분위수를 구하는 다양한 방법"
   ]
  },
  {
   "cell_type": "code",
   "execution_count": 42,
   "metadata": {
    "executionInfo": {
     "elapsed": 2,
     "status": "ok",
     "timestamp": 1681974723316,
     "user": {
      "displayName": "이강철",
      "userId": "13507850890638580947"
     },
     "user_tz": -540
    },
    "id": "MFwXkFl_gTmY"
   },
   "outputs": [],
   "source": [
    "m  = [ i / 1000 for i in range(1000)]"
   ]
  },
  {
   "cell_type": "markdown",
   "metadata": {
    "id": "dSOYLprfgZ-s"
   },
   "source": [
    "## 방법 1"
   ]
  },
  {
   "cell_type": "code",
   "execution_count": 47,
   "metadata": {
    "executionInfo": {
     "elapsed": 1182,
     "status": "ok",
     "timestamp": 1681974798761,
     "user": {
      "displayName": "이강철",
      "userId": "13507850890638580947"
     },
     "user_tz": -540
    },
    "id": "RJocP8Yegd1G"
   },
   "outputs": [],
   "source": [
    "q = []\n",
    "\n",
    "for i in range(len(m)) :\n",
    "    q = q + [stats.norm.ppf(m[i])]"
   ]
  },
  {
   "cell_type": "code",
   "execution_count": 49,
   "metadata": {
    "colab": {
     "base_uri": "https://localhost:8080/"
    },
    "executionInfo": {
     "elapsed": 4,
     "status": "ok",
     "timestamp": 1681974805575,
     "user": {
      "displayName": "이강철",
      "userId": "13507850890638580947"
     },
     "user_tz": -540
    },
    "id": "Cb5XIwyqgopu",
    "outputId": "8cf1d51a-8e62-4e7b-9095-a59018cb097c"
   },
   "outputs": [
    {
     "data": {
      "text/plain": [
       "[-inf,\n",
       " -3.090232306167813,\n",
       " -2.878161739095483,\n",
       " -2.7477813854449926,\n",
       " -2.6520698079021954]"
      ]
     },
     "execution_count": 49,
     "metadata": {},
     "output_type": "execute_result"
    }
   ],
   "source": [
    "q[:5]"
   ]
  },
  {
   "cell_type": "markdown",
   "metadata": {
    "id": "VDpu3gz-gsff"
   },
   "source": [
    "## 방법 2"
   ]
  },
  {
   "cell_type": "code",
   "execution_count": 50,
   "metadata": {
    "executionInfo": {
     "elapsed": 4,
     "status": "ok",
     "timestamp": 1681974836302,
     "user": {
      "displayName": "이강철",
      "userId": "13507850890638580947"
     },
     "user_tz": -540
    },
    "id": "a0qH8ox4gvNB"
   },
   "outputs": [],
   "source": [
    "q = [stats.norm.ppf(m[i]) for i in range(len(m))]"
   ]
  },
  {
   "cell_type": "code",
   "execution_count": 51,
   "metadata": {
    "colab": {
     "base_uri": "https://localhost:8080/"
    },
    "executionInfo": {
     "elapsed": 3,
     "status": "ok",
     "timestamp": 1681974840494,
     "user": {
      "displayName": "이강철",
      "userId": "13507850890638580947"
     },
     "user_tz": -540
    },
    "id": "-80KuVf_g0Zu",
    "outputId": "4b67af13-b08c-4f2a-be48-23f35259c6ac"
   },
   "outputs": [
    {
     "data": {
      "text/plain": [
       "[-inf,\n",
       " -3.090232306167813,\n",
       " -2.878161739095483,\n",
       " -2.7477813854449926,\n",
       " -2.6520698079021954]"
      ]
     },
     "execution_count": 51,
     "metadata": {},
     "output_type": "execute_result"
    }
   ],
   "source": [
    "q[:5]"
   ]
  },
  {
   "cell_type": "markdown",
   "metadata": {
    "id": "OYTftX9og0z_"
   },
   "source": [
    "## 방법 3"
   ]
  },
  {
   "cell_type": "code",
   "execution_count": 52,
   "metadata": {
    "colab": {
     "base_uri": "https://localhost:8080/"
    },
    "executionInfo": {
     "elapsed": 594,
     "status": "ok",
     "timestamp": 1681974878065,
     "user": {
      "displayName": "이강철",
      "userId": "13507850890638580947"
     },
     "user_tz": -540
    },
    "id": "Qehmo9BQg3gu",
    "outputId": "51925719-587d-468f-9b02-9c784b01b0ff"
   },
   "outputs": [
    {
     "data": {
      "text/plain": [
       "[-inf,\n",
       " -3.090232306167813,\n",
       " -2.878161739095483,\n",
       " -2.7477813854449926,\n",
       " -2.6520698079021954]"
      ]
     },
     "execution_count": 52,
     "metadata": {},
     "output_type": "execute_result"
    }
   ],
   "source": [
    "q = list(map(stats.norm.ppf,m))\n",
    "q[:5]"
   ]
  },
  {
   "cell_type": "markdown",
   "metadata": {
    "id": "5Pm43Yf5g91x"
   },
   "source": [
    "## 방법 4"
   ]
  },
  {
   "cell_type": "code",
   "execution_count": 53,
   "metadata": {
    "colab": {
     "base_uri": "https://localhost:8080/"
    },
    "executionInfo": {
     "elapsed": 434,
     "status": "ok",
     "timestamp": 1681974888308,
     "user": {
      "displayName": "이강철",
      "userId": "13507850890638580947"
     },
     "user_tz": -540
    },
    "id": "KBgnJu99g_2f",
    "outputId": "67e1177f-15ef-49a6-8c1e-cd940e83d318"
   },
   "outputs": [
    {
     "data": {
      "text/plain": [
       "[-inf,\n",
       " -3.090232306167813,\n",
       " -2.878161739095483,\n",
       " -2.7477813854449926,\n",
       " -2.6520698079021954]"
      ]
     },
     "execution_count": 53,
     "metadata": {},
     "output_type": "execute_result"
    }
   ],
   "source": [
    "list(stats.norm.ppf(m))[:5]"
   ]
  },
  {
   "cell_type": "markdown",
   "metadata": {
    "id": "of87sDushCBP"
   },
   "source": [
    "# Appendix : lambda, map  "
   ]
  },
  {
   "cell_type": "markdown",
   "metadata": {
    "id": "wAX3wqEdhSvL"
   },
   "source": [
    "##  예제 1"
   ]
  },
  {
   "cell_type": "code",
   "execution_count": 54,
   "metadata": {
    "executionInfo": {
     "elapsed": 2,
     "status": "ok",
     "timestamp": 1681974981190,
     "user": {
      "displayName": "이강철",
      "userId": "13507850890638580947"
     },
     "user_tz": -540
    },
    "id": "zHQA-YVFhUJZ"
   },
   "outputs": [],
   "source": [
    "f = lambda x,y,z : x + y + z"
   ]
  },
  {
   "cell_type": "code",
   "execution_count": 55,
   "metadata": {
    "colab": {
     "base_uri": "https://localhost:8080/"
    },
    "executionInfo": {
     "elapsed": 4,
     "status": "ok",
     "timestamp": 1681974985470,
     "user": {
      "displayName": "이강철",
      "userId": "13507850890638580947"
     },
     "user_tz": -540
    },
    "id": "G2lqqE6FhXDa",
    "outputId": "a9fea9a6-9c58-40d6-c775-00f43d457a9d"
   },
   "outputs": [
    {
     "data": {
      "text/plain": [
       "9"
      ]
     },
     "execution_count": 55,
     "metadata": {},
     "output_type": "execute_result"
    }
   ],
   "source": [
    "f(2,3,4)"
   ]
  },
  {
   "cell_type": "markdown",
   "metadata": {
    "id": "W41WdlZahYCm"
   },
   "source": [
    "## 예제 2"
   ]
  },
  {
   "cell_type": "code",
   "execution_count": 56,
   "metadata": {
    "executionInfo": {
     "elapsed": 3,
     "status": "ok",
     "timestamp": 1681975020863,
     "user": {
      "displayName": "이강철",
      "userId": "13507850890638580947"
     },
     "user_tz": -540
    },
    "id": "GENNnv1jhZtR"
   },
   "outputs": [],
   "source": [
    "x = lambda a=\"fee\", b=\"file\", c=\"foe\" : a + b + c"
   ]
  },
  {
   "cell_type": "code",
   "execution_count": 58,
   "metadata": {
    "colab": {
     "base_uri": "https://localhost:8080/"
    },
    "executionInfo": {
     "elapsed": 5,
     "status": "ok",
     "timestamp": 1681975031040,
     "user": {
      "displayName": "이강철",
      "userId": "13507850890638580947"
     },
     "user_tz": -540
    },
    "id": "wE7O30wdhgkT",
    "outputId": "851edd4c-5366-43ae-ed57-b1b593060856"
   },
   "outputs": [
    {
     "data": {
      "text/plain": [
       "<function __main__.<lambda>(a='fee', b='file', c='foe')>"
      ]
     },
     "execution_count": 58,
     "metadata": {},
     "output_type": "execute_result"
    }
   ],
   "source": [
    "x"
   ]
  },
  {
   "cell_type": "code",
   "execution_count": 60,
   "metadata": {
    "colab": {
     "base_uri": "https://localhost:8080/",
     "height": 35
    },
    "executionInfo": {
     "elapsed": 284,
     "status": "ok",
     "timestamp": 1681975043998,
     "user": {
      "displayName": "이강철",
      "userId": "13507850890638580947"
     },
     "user_tz": -540
    },
    "id": "rjiTuyHJhjkh",
    "outputId": "dc860a19-6cdb-4188-826b-f7d85fb8de1e"
   },
   "outputs": [
    {
     "data": {
      "application/vnd.google.colaboratory.intrinsic+json": {
       "type": "string"
      },
      "text/plain": [
       "'weefilefoe'"
      ]
     },
     "execution_count": 60,
     "metadata": {},
     "output_type": "execute_result"
    }
   ],
   "source": [
    "x(\"wee\")"
   ]
  },
  {
   "cell_type": "markdown",
   "metadata": {
    "id": "kQr4eNsFhm8h"
   },
   "source": [
    "## 예제 3"
   ]
  },
  {
   "cell_type": "code",
   "execution_count": 61,
   "metadata": {
    "executionInfo": {
     "elapsed": 2,
     "status": "ok",
     "timestamp": 1681975087835,
     "user": {
      "displayName": "이강철",
      "userId": "13507850890638580947"
     },
     "user_tz": -540
    },
    "id": "UW-0_E7chqNU"
   },
   "outputs": [],
   "source": [
    "l = [lambda x : x**2, lambda x: x**3, lambda x : x**4]"
   ]
  },
  {
   "cell_type": "code",
   "execution_count": 62,
   "metadata": {
    "colab": {
     "base_uri": "https://localhost:8080/"
    },
    "executionInfo": {
     "elapsed": 4,
     "status": "ok",
     "timestamp": 1681975098718,
     "user": {
      "displayName": "이강철",
      "userId": "13507850890638580947"
     },
     "user_tz": -540
    },
    "id": "ODa6bzfzhw_g",
    "outputId": "4674b8cc-9480-4ea1-81a4-878246cb8e27"
   },
   "outputs": [
    {
     "name": "stdout",
     "output_type": "stream",
     "text": [
      "4\n",
      "8\n",
      "16\n"
     ]
    }
   ],
   "source": [
    "for f in l :\n",
    "    print(f(2))"
   ]
  },
  {
   "cell_type": "markdown",
   "metadata": {
    "id": "WY3dW_JKh0pu"
   },
   "source": [
    "## 예제 4"
   ]
  },
  {
   "cell_type": "code",
   "execution_count": 63,
   "metadata": {
    "executionInfo": {
     "elapsed": 459,
     "status": "ok",
     "timestamp": 1681975146299,
     "user": {
      "displayName": "이강철",
      "userId": "13507850890638580947"
     },
     "user_tz": -540
    },
    "id": "8vCcfTAxh3Y1"
   },
   "outputs": [],
   "source": [
    "dct = {\"f1\": lambda x : x+1, \"f2\" : lambda x : x+22, \"f3\": lambda x : x + 33}"
   ]
  },
  {
   "cell_type": "code",
   "execution_count": 65,
   "metadata": {
    "colab": {
     "base_uri": "https://localhost:8080/"
    },
    "executionInfo": {
     "elapsed": 4,
     "status": "ok",
     "timestamp": 1681975166582,
     "user": {
      "displayName": "이강철",
      "userId": "13507850890638580947"
     },
     "user_tz": -540
    },
    "id": "XtIPYRW5h_ls",
    "outputId": "7592e067-0714-46ed-9f0e-786f49b82028"
   },
   "outputs": [
    {
     "data": {
      "text/plain": [
       "(2, 23, 34)"
      ]
     },
     "execution_count": 65,
     "metadata": {},
     "output_type": "execute_result"
    }
   ],
   "source": [
    "dct[\"f1\"](1), dct[\"f2\"](1), dct[\"f3\"](1)"
   ]
  },
  {
   "cell_type": "markdown",
   "metadata": {
    "id": "m8B3ALlAiE22"
   },
   "source": [
    "## 예제 5"
   ]
  },
  {
   "cell_type": "code",
   "execution_count": 66,
   "metadata": {
    "executionInfo": {
     "elapsed": 289,
     "status": "ok",
     "timestamp": 1681975196814,
     "user": {
      "displayName": "이강철",
      "userId": "13507850890638580947"
     },
     "user_tz": -540
    },
    "id": "RiQnJGf-iHbX"
   },
   "outputs": [],
   "source": [
    "lower = lambda x,y : x if x<y else y"
   ]
  },
  {
   "cell_type": "code",
   "execution_count": 68,
   "metadata": {
    "colab": {
     "base_uri": "https://localhost:8080/",
     "height": 35
    },
    "executionInfo": {
     "elapsed": 4,
     "status": "ok",
     "timestamp": 1681975207966,
     "user": {
      "displayName": "이강철",
      "userId": "13507850890638580947"
     },
     "user_tz": -540
    },
    "id": "27g3e51kiLpv",
    "outputId": "fe4e83bd-9a64-40c1-a45c-87616a7ae1c5"
   },
   "outputs": [
    {
     "data": {
      "application/vnd.google.colaboratory.intrinsic+json": {
       "type": "string"
      },
      "text/plain": [
       "'a'"
      ]
     },
     "execution_count": 68,
     "metadata": {},
     "output_type": "execute_result"
    }
   ],
   "source": [
    "lower(\"a\",\"b\")"
   ]
  },
  {
   "cell_type": "markdown",
   "metadata": {
    "id": "CsmK2GumiOtS"
   },
   "source": [
    "## 예제 6 "
   ]
  },
  {
   "cell_type": "code",
   "execution_count": 69,
   "metadata": {
    "executionInfo": {
     "elapsed": 2,
     "status": "ok",
     "timestamp": 1681975238363,
     "user": {
      "displayName": "이강철",
      "userId": "13507850890638580947"
     },
     "user_tz": -540
    },
    "id": "oFFHxb-PiSGE"
   },
   "outputs": [],
   "source": [
    "def action(x) :\n",
    "    return (lambda y : x + y)"
   ]
  },
  {
   "cell_type": "code",
   "execution_count": 71,
   "metadata": {
    "executionInfo": {
     "elapsed": 2,
     "status": "ok",
     "timestamp": 1681975261076,
     "user": {
      "displayName": "이강철",
      "userId": "13507850890638580947"
     },
     "user_tz": -540
    },
    "id": "bR3fOfpoiV0e"
   },
   "outputs": [],
   "source": [
    "act = action (99)\n",
    "act2 = action(98)"
   ]
  },
  {
   "cell_type": "code",
   "execution_count": 75,
   "metadata": {
    "colab": {
     "base_uri": "https://localhost:8080/"
    },
    "executionInfo": {
     "elapsed": 4,
     "status": "ok",
     "timestamp": 1681975277190,
     "user": {
      "displayName": "이강철",
      "userId": "13507850890638580947"
     },
     "user_tz": -540
    },
    "id": "wGeSZXjlibRf",
    "outputId": "f2ed817c-629b-40bb-c4d5-6601e84c6a45"
   },
   "outputs": [
    {
     "data": {
      "text/plain": [
       "(101, 100)"
      ]
     },
     "execution_count": 75,
     "metadata": {},
     "output_type": "execute_result"
    }
   ],
   "source": [
    "act(2), act2(2)"
   ]
  },
  {
   "cell_type": "markdown",
   "metadata": {
    "id": "ZwNNs92PigQe"
   },
   "source": [
    "## 예제 7"
   ]
  },
  {
   "cell_type": "code",
   "execution_count": 76,
   "metadata": {
    "executionInfo": {
     "elapsed": 2,
     "status": "ok",
     "timestamp": 1681975303761,
     "user": {
      "displayName": "이강철",
      "userId": "13507850890638580947"
     },
     "user_tz": -540
    },
    "id": "58jieXqFiitB"
   },
   "outputs": [],
   "source": [
    "action = lambda x : (lambda y : x+y)"
   ]
  },
  {
   "cell_type": "code",
   "execution_count": 77,
   "metadata": {
    "colab": {
     "base_uri": "https://localhost:8080/"
    },
    "executionInfo": {
     "elapsed": 279,
     "status": "ok",
     "timestamp": 1681975314153,
     "user": {
      "displayName": "이강철",
      "userId": "13507850890638580947"
     },
     "user_tz": -540
    },
    "id": "afUdNvk9ilyp",
    "outputId": "007ff2ee-fcaa-4d77-ba19-f6cfb69c6a6d"
   },
   "outputs": [
    {
     "data": {
      "text/plain": [
       "(101, 100)"
      ]
     },
     "execution_count": 77,
     "metadata": {},
     "output_type": "execute_result"
    }
   ],
   "source": [
    "act = action (99)\n",
    "act2 = action(98)\n",
    "\n",
    "act(2), act2(2)"
   ]
  },
  {
   "cell_type": "markdown",
   "metadata": {
    "id": "xIzyt9h4ipPX"
   },
   "source": [
    "## map\n"
   ]
  },
  {
   "cell_type": "markdown",
   "metadata": {
    "id": "U9ia2nr6itMB"
   },
   "source": [
    "### 예제 1"
   ]
  },
  {
   "cell_type": "code",
   "execution_count": 78,
   "metadata": {
    "executionInfo": {
     "elapsed": 928,
     "status": "ok",
     "timestamp": 1681975358780,
     "user": {
      "displayName": "이강철",
      "userId": "13507850890638580947"
     },
     "user_tz": -540
    },
    "id": "O7BdiiEWivlY"
   },
   "outputs": [],
   "source": [
    "def inc(x) : return x+1"
   ]
  },
  {
   "cell_type": "code",
   "execution_count": 80,
   "metadata": {
    "colab": {
     "base_uri": "https://localhost:8080/"
    },
    "executionInfo": {
     "elapsed": 719,
     "status": "ok",
     "timestamp": 1681975373290,
     "user": {
      "displayName": "이강철",
      "userId": "13507850890638580947"
     },
     "user_tz": -540
    },
    "id": "hUV0Wg-Giy36",
    "outputId": "78eaa377-4e1d-4a99-9fd0-8029218019b0"
   },
   "outputs": [
    {
     "data": {
      "text/plain": [
       "[2, 3, 4, 5]"
      ]
     },
     "execution_count": 80,
     "metadata": {},
     "output_type": "execute_result"
    }
   ],
   "source": [
    "list(map(inc, [1,2,3,4]))"
   ]
  },
  {
   "cell_type": "markdown",
   "metadata": {
    "id": "m0nhBC_9i1Qj"
   },
   "source": [
    "`-` 예제 1의 변형 (with lambda)"
   ]
  },
  {
   "cell_type": "code",
   "execution_count": 82,
   "metadata": {
    "colab": {
     "base_uri": "https://localhost:8080/"
    },
    "executionInfo": {
     "elapsed": 3,
     "status": "ok",
     "timestamp": 1681975408525,
     "user": {
      "displayName": "이강철",
      "userId": "13507850890638580947"
     },
     "user_tz": -540
    },
    "id": "AqdS0E8ai7BJ",
    "outputId": "dd509018-67e3-4c22-faf7-afd968fd8bd7"
   },
   "outputs": [
    {
     "data": {
      "text/plain": [
       "[3, 4, 5, 6]"
      ]
     },
     "execution_count": 82,
     "metadata": {},
     "output_type": "execute_result"
    }
   ],
   "source": [
    "list(map(lambda x: x+1,[2,3,4,5]))"
   ]
  },
  {
   "cell_type": "markdown",
   "metadata": {
    "id": "56yRfPd_i_Wx"
   },
   "source": [
    "### 에제 2"
   ]
  },
  {
   "cell_type": "markdown",
   "metadata": {
    "id": "_tt-RHtijCjM"
   },
   "source": [
    "`-` map과 list comprehension"
   ]
  },
  {
   "cell_type": "markdown",
   "metadata": {
    "id": "Z4-vbgiljPGa"
   },
   "source": [
    "* 함수선언 : x라는 문자열에 \"X\"가 포함되어있는지 확인하는 함수"
   ]
  },
  {
   "cell_type": "code",
   "execution_count": 83,
   "metadata": {
    "executionInfo": {
     "elapsed": 2,
     "status": "ok",
     "timestamp": 1681975497797,
     "user": {
      "displayName": "이강철",
      "userId": "13507850890638580947"
     },
     "user_tz": -540
    },
    "id": "x6CivjjijMO1"
   },
   "outputs": [],
   "source": [
    "f = lambda x : \"X\" in x"
   ]
  },
  {
   "cell_type": "markdown",
   "metadata": {
    "id": "Dvt8khUJjVOa"
   },
   "source": [
    "(map)"
   ]
  },
  {
   "cell_type": "code",
   "execution_count": 84,
   "metadata": {
    "colab": {
     "base_uri": "https://localhost:8080/"
    },
    "executionInfo": {
     "elapsed": 315,
     "status": "ok",
     "timestamp": 1681975522884,
     "user": {
      "displayName": "이강철",
      "userId": "13507850890638580947"
     },
     "user_tz": -540
    },
    "id": "ImMYEY5ljYUU",
    "outputId": "73bfb5ab-22cb-43a2-de53-a6b0e7c08a94"
   },
   "outputs": [
    {
     "data": {
      "text/plain": [
       "[True, True, True]"
      ]
     },
     "execution_count": 84,
     "metadata": {},
     "output_type": "execute_result"
    }
   ],
   "source": [
    "list(map(f,[\"X1\",\"X2\",\"X3\"]))"
   ]
  },
  {
   "cell_type": "markdown",
   "metadata": {
    "id": "g0fdxZWJjbyy"
   },
   "source": [
    "(list comprehension)"
   ]
  },
  {
   "cell_type": "code",
   "execution_count": 86,
   "metadata": {
    "colab": {
     "base_uri": "https://localhost:8080/"
    },
    "executionInfo": {
     "elapsed": 294,
     "status": "ok",
     "timestamp": 1681975554927,
     "user": {
      "displayName": "이강철",
      "userId": "13507850890638580947"
     },
     "user_tz": -540
    },
    "id": "PQCNftuGjcfS",
    "outputId": "8e1a4d2a-8a8e-489b-c3ec-084571fab0af"
   },
   "outputs": [
    {
     "data": {
      "text/plain": [
       "[True, True, True]"
      ]
     },
     "execution_count": 86,
     "metadata": {},
     "output_type": "execute_result"
    }
   ],
   "source": [
    "[f(x) for x in [\"X1\",\"X2\",\"X3\"]]"
   ]
  },
  {
   "cell_type": "markdown",
   "metadata": {
    "id": "afcKpR1QjfzK"
   },
   "source": [
    "### 예제 3"
   ]
  },
  {
   "cell_type": "markdown",
   "metadata": {
    "id": "_XGR3hemjnpK"
   },
   "source": [
    "`-`두 개의 입력을 받는함수의 경우 map과 list comprehension 비교"
   ]
  },
  {
   "cell_type": "code",
   "execution_count": 87,
   "metadata": {
    "colab": {
     "base_uri": "https://localhost:8080/"
    },
    "executionInfo": {
     "elapsed": 288,
     "status": "ok",
     "timestamp": 1681975571319,
     "user": {
      "displayName": "이강철",
      "userId": "13507850890638580947"
     },
     "user_tz": -540
    },
    "id": "Tw_0mddEjlzg",
    "outputId": "e06d6eb5-f5c1-4e30-d164-ef9e1b6630e9"
   },
   "outputs": [
    {
     "data": {
      "text/plain": [
       "32"
      ]
     },
     "execution_count": 87,
     "metadata": {},
     "output_type": "execute_result"
    }
   ],
   "source": [
    "pow(2,5)"
   ]
  },
  {
   "cell_type": "markdown",
   "metadata": {
    "id": "wrdfFdz5jvwk"
   },
   "source": [
    "(map)"
   ]
  },
  {
   "cell_type": "code",
   "execution_count": 90,
   "metadata": {
    "colab": {
     "base_uri": "https://localhost:8080/"
    },
    "executionInfo": {
     "elapsed": 3,
     "status": "ok",
     "timestamp": 1681975628962,
     "user": {
      "displayName": "이강철",
      "userId": "13507850890638580947"
     },
     "user_tz": -540
    },
    "id": "8cLZV4TxjxAC",
    "outputId": "f66a87f3-6b74-4f0d-a6e3-2a7389a81245"
   },
   "outputs": [
    {
     "data": {
      "text/plain": [
       "[1, 3]"
      ]
     },
     "execution_count": 90,
     "metadata": {},
     "output_type": "execute_result"
    }
   ],
   "source": [
    "list(map(pow,[2,3],[0,1]))"
   ]
  },
  {
   "cell_type": "markdown",
   "metadata": {
    "id": "KsWxq-4cj2kO"
   },
   "source": [
    "(list comprehension)"
   ]
  },
  {
   "cell_type": "code",
   "execution_count": 91,
   "metadata": {
    "colab": {
     "base_uri": "https://localhost:8080/"
    },
    "executionInfo": {
     "elapsed": 4,
     "status": "ok",
     "timestamp": 1681975657847,
     "user": {
      "displayName": "이강철",
      "userId": "13507850890638580947"
     },
     "user_tz": -540
    },
    "id": "BP6FHwlQj3Wv",
    "outputId": "18932cfa-68c2-41c7-89ba-719f2d372c8d"
   },
   "outputs": [
    {
     "data": {
      "text/plain": [
       "[1, 3]"
      ]
     },
     "execution_count": 91,
     "metadata": {},
     "output_type": "execute_result"
    }
   ],
   "source": [
    "[pow(x,y) for x,y in zip([2,3],[0,1])]"
   ]
  },
  {
   "cell_type": "markdown",
   "metadata": {
    "id": "dlaeiynWj9q8"
   },
   "source": [
    "### 예제 4"
   ]
  },
  {
   "cell_type": "markdown",
   "metadata": {
    "id": "ayoJ4frDj_DV"
   },
   "source": [
    "map은 하나의 함수에 다향한 입력인 경우 사용가능하다."
   ]
  },
  {
   "cell_type": "code",
   "execution_count": 93,
   "metadata": {
    "executionInfo": {
     "elapsed": 666,
     "status": "ok",
     "timestamp": 1681975726021,
     "user": {
      "displayName": "이강철",
      "userId": "13507850890638580947"
     },
     "user_tz": -540
    },
    "id": "PUNf-slFkCEo"
   },
   "outputs": [],
   "source": [
    "l = lambda x: x+1,lambda x : x+2, lambda x: x+3"
   ]
  },
  {
   "cell_type": "code",
   "execution_count": 94,
   "metadata": {
    "colab": {
     "base_uri": "https://localhost:8080/",
     "height": 174
    },
    "executionInfo": {
     "elapsed": 360,
     "status": "error",
     "timestamp": 1681975726925,
     "user": {
      "displayName": "이강철",
      "userId": "13507850890638580947"
     },
     "user_tz": -540
    },
    "id": "_Sdk062RkD72",
    "outputId": "60f93d8f-9e6e-4492-e277-6c9b4da5d54f"
   },
   "outputs": [
    {
     "ename": "TypeError",
     "evalue": "ignored",
     "output_type": "error",
     "traceback": [
      "\u001b[0;31m---------------------------------------------------------------------------\u001b[0m",
      "\u001b[0;31mTypeError\u001b[0m                                 Traceback (most recent call last)",
      "\u001b[0;32m<ipython-input-94-dcc049c06067>\u001b[0m in \u001b[0;36m<cell line: 1>\u001b[0;34m()\u001b[0m\n\u001b[0;32m----> 1\u001b[0;31m \u001b[0mlist\u001b[0m\u001b[0;34m(\u001b[0m\u001b[0mmap\u001b[0m\u001b[0;34m(\u001b[0m\u001b[0ml\u001b[0m\u001b[0;34m,\u001b[0m\u001b[0;34m[\u001b[0m\u001b[0;36m100\u001b[0m\u001b[0;34m,\u001b[0m\u001b[0;36m200\u001b[0m\u001b[0;34m,\u001b[0m\u001b[0;36m300\u001b[0m\u001b[0;34m]\u001b[0m\u001b[0;34m)\u001b[0m\u001b[0;34m)\u001b[0m\u001b[0;34m\u001b[0m\u001b[0;34m\u001b[0m\u001b[0m\n\u001b[0m",
      "\u001b[0;31mTypeError\u001b[0m: 'tuple' object is not callable"
     ]
    }
   ],
   "source": [
    "list(map(l,[100,200,300]))"
   ]
  },
  {
   "cell_type": "markdown",
   "metadata": {
    "id": "HcfWYSTSkPGv"
   },
   "source": [
    "list comporehension은 다양한 함수, 다양한 입력이 가능함"
   ]
  },
  {
   "cell_type": "code",
   "execution_count": 96,
   "metadata": {
    "colab": {
     "base_uri": "https://localhost:8080/"
    },
    "executionInfo": {
     "elapsed": 831,
     "status": "ok",
     "timestamp": 1681975789517,
     "user": {
      "displayName": "이강철",
      "userId": "13507850890638580947"
     },
     "user_tz": -540
    },
    "id": "x8-9fkMXkVKE",
    "outputId": "b170c34f-7705-4ba1-af3f-1d4ee00bda87"
   },
   "outputs": [
    {
     "data": {
      "text/plain": [
       "[101, 202, 303]"
      ]
     },
     "execution_count": 96,
     "metadata": {},
     "output_type": "execute_result"
    }
   ],
   "source": [
    "[l[i](x) for i,x in zip([0,1,2],[100,200,300])]"
   ]
  },
  {
   "cell_type": "markdown",
   "metadata": {
    "id": "EgRZ-x19kvmB"
   },
   "source": [
    "## Summary"
   ]
  },
  {
   "cell_type": "markdown",
   "metadata": {
    "id": "wy7LYDM5kyBQ"
   },
   "source": [
    "`-` 종합 : 리스트컴프리헨션과 비교하면 map은 반복인덱스를 쓰지 않는 장점이 있는 반면 다양한 함수를 한꺼번에 적용하지 못하는 제약이 있음"
   ]
  },
  {
   "cell_type": "markdown",
   "metadata": {
    "id": "SBXB-w0ik0uD"
   },
   "source": [
    "# 찰스미나드 예제"
   ]
  },
  {
   "cell_type": "code",
   "execution_count": 97,
   "metadata": {
    "colab": {
     "base_uri": "https://localhost:8080/",
     "height": 363
    },
    "executionInfo": {
     "elapsed": 6,
     "status": "ok",
     "timestamp": 1681975922173,
     "user": {
      "displayName": "이강철",
      "userId": "13507850890638580947"
     },
     "user_tz": -540
    },
    "id": "bP5oZKmUk561",
    "outputId": "3f3d1512-0f8a-4617-c48f-cdf200e0e239"
   },
   "outputs": [
    {
     "data": {
      "text/html": [
       "\n",
       "  <div id=\"df-602f9754-13e0-4840-934b-df7a933f7fe1\">\n",
       "    <div class=\"colab-df-container\">\n",
       "      <div>\n",
       "<style scoped>\n",
       "    .dataframe tbody tr th:only-of-type {\n",
       "        vertical-align: middle;\n",
       "    }\n",
       "\n",
       "    .dataframe tbody tr th {\n",
       "        vertical-align: top;\n",
       "    }\n",
       "\n",
       "    .dataframe thead th {\n",
       "        text-align: right;\n",
       "    }\n",
       "</style>\n",
       "<table border=\"1\" class=\"dataframe\">\n",
       "  <thead>\n",
       "    <tr style=\"text-align: right;\">\n",
       "      <th></th>\n",
       "      <th>w</th>\n",
       "      <th>h</th>\n",
       "      <th>g</th>\n",
       "    </tr>\n",
       "  </thead>\n",
       "  <tbody>\n",
       "    <tr>\n",
       "      <th>0</th>\n",
       "      <td>44</td>\n",
       "      <td>159</td>\n",
       "      <td>f</td>\n",
       "    </tr>\n",
       "    <tr>\n",
       "      <th>1</th>\n",
       "      <td>48</td>\n",
       "      <td>160</td>\n",
       "      <td>f</td>\n",
       "    </tr>\n",
       "    <tr>\n",
       "      <th>2</th>\n",
       "      <td>49</td>\n",
       "      <td>162</td>\n",
       "      <td>f</td>\n",
       "    </tr>\n",
       "    <tr>\n",
       "      <th>3</th>\n",
       "      <td>58</td>\n",
       "      <td>165</td>\n",
       "      <td>f</td>\n",
       "    </tr>\n",
       "    <tr>\n",
       "      <th>4</th>\n",
       "      <td>62</td>\n",
       "      <td>167</td>\n",
       "      <td>m</td>\n",
       "    </tr>\n",
       "    <tr>\n",
       "      <th>5</th>\n",
       "      <td>68</td>\n",
       "      <td>162</td>\n",
       "      <td>f</td>\n",
       "    </tr>\n",
       "    <tr>\n",
       "      <th>6</th>\n",
       "      <td>69</td>\n",
       "      <td>165</td>\n",
       "      <td>m</td>\n",
       "    </tr>\n",
       "    <tr>\n",
       "      <th>7</th>\n",
       "      <td>70</td>\n",
       "      <td>175</td>\n",
       "      <td>m</td>\n",
       "    </tr>\n",
       "    <tr>\n",
       "      <th>8</th>\n",
       "      <td>76</td>\n",
       "      <td>165</td>\n",
       "      <td>m</td>\n",
       "    </tr>\n",
       "    <tr>\n",
       "      <th>9</th>\n",
       "      <td>79</td>\n",
       "      <td>172</td>\n",
       "      <td>m</td>\n",
       "    </tr>\n",
       "  </tbody>\n",
       "</table>\n",
       "</div>\n",
       "      <button class=\"colab-df-convert\" onclick=\"convertToInteractive('df-602f9754-13e0-4840-934b-df7a933f7fe1')\"\n",
       "              title=\"Convert this dataframe to an interactive table.\"\n",
       "              style=\"display:none;\">\n",
       "        \n",
       "  <svg xmlns=\"http://www.w3.org/2000/svg\" height=\"24px\"viewBox=\"0 0 24 24\"\n",
       "       width=\"24px\">\n",
       "    <path d=\"M0 0h24v24H0V0z\" fill=\"none\"/>\n",
       "    <path d=\"M18.56 5.44l.94 2.06.94-2.06 2.06-.94-2.06-.94-.94-2.06-.94 2.06-2.06.94zm-11 1L8.5 8.5l.94-2.06 2.06-.94-2.06-.94L8.5 2.5l-.94 2.06-2.06.94zm10 10l.94 2.06.94-2.06 2.06-.94-2.06-.94-.94-2.06-.94 2.06-2.06.94z\"/><path d=\"M17.41 7.96l-1.37-1.37c-.4-.4-.92-.59-1.43-.59-.52 0-1.04.2-1.43.59L10.3 9.45l-7.72 7.72c-.78.78-.78 2.05 0 2.83L4 21.41c.39.39.9.59 1.41.59.51 0 1.02-.2 1.41-.59l7.78-7.78 2.81-2.81c.8-.78.8-2.07 0-2.86zM5.41 20L4 18.59l7.72-7.72 1.47 1.35L5.41 20z\"/>\n",
       "  </svg>\n",
       "      </button>\n",
       "      \n",
       "  <style>\n",
       "    .colab-df-container {\n",
       "      display:flex;\n",
       "      flex-wrap:wrap;\n",
       "      gap: 12px;\n",
       "    }\n",
       "\n",
       "    .colab-df-convert {\n",
       "      background-color: #E8F0FE;\n",
       "      border: none;\n",
       "      border-radius: 50%;\n",
       "      cursor: pointer;\n",
       "      display: none;\n",
       "      fill: #1967D2;\n",
       "      height: 32px;\n",
       "      padding: 0 0 0 0;\n",
       "      width: 32px;\n",
       "    }\n",
       "\n",
       "    .colab-df-convert:hover {\n",
       "      background-color: #E2EBFA;\n",
       "      box-shadow: 0px 1px 2px rgba(60, 64, 67, 0.3), 0px 1px 3px 1px rgba(60, 64, 67, 0.15);\n",
       "      fill: #174EA6;\n",
       "    }\n",
       "\n",
       "    [theme=dark] .colab-df-convert {\n",
       "      background-color: #3B4455;\n",
       "      fill: #D2E3FC;\n",
       "    }\n",
       "\n",
       "    [theme=dark] .colab-df-convert:hover {\n",
       "      background-color: #434B5C;\n",
       "      box-shadow: 0px 1px 3px 1px rgba(0, 0, 0, 0.15);\n",
       "      filter: drop-shadow(0px 1px 2px rgba(0, 0, 0, 0.3));\n",
       "      fill: #FFFFFF;\n",
       "    }\n",
       "  </style>\n",
       "\n",
       "      <script>\n",
       "        const buttonEl =\n",
       "          document.querySelector('#df-602f9754-13e0-4840-934b-df7a933f7fe1 button.colab-df-convert');\n",
       "        buttonEl.style.display =\n",
       "          google.colab.kernel.accessAllowed ? 'block' : 'none';\n",
       "\n",
       "        async function convertToInteractive(key) {\n",
       "          const element = document.querySelector('#df-602f9754-13e0-4840-934b-df7a933f7fe1');\n",
       "          const dataTable =\n",
       "            await google.colab.kernel.invokeFunction('convertToInteractive',\n",
       "                                                     [key], {});\n",
       "          if (!dataTable) return;\n",
       "\n",
       "          const docLinkHtml = 'Like what you see? Visit the ' +\n",
       "            '<a target=\"_blank\" href=https://colab.research.google.com/notebooks/data_table.ipynb>data table notebook</a>'\n",
       "            + ' to learn more about interactive tables.';\n",
       "          element.innerHTML = '';\n",
       "          dataTable['output_type'] = 'display_data';\n",
       "          await google.colab.output.renderOutput(dataTable, element);\n",
       "          const docLink = document.createElement('div');\n",
       "          docLink.innerHTML = docLinkHtml;\n",
       "          element.appendChild(docLink);\n",
       "        }\n",
       "      </script>\n",
       "    </div>\n",
       "  </div>\n",
       "  "
      ],
      "text/plain": [
       "    w    h  g\n",
       "0  44  159  f\n",
       "1  48  160  f\n",
       "2  49  162  f\n",
       "3  58  165  f\n",
       "4  62  167  m\n",
       "5  68  162  f\n",
       "6  69  165  m\n",
       "7  70  175  m\n",
       "8  76  165  m\n",
       "9  79  172  m"
      ]
     },
     "execution_count": 97,
     "metadata": {},
     "output_type": "execute_result"
    }
   ],
   "source": [
    "x=[44,48,49,58,62,68,69,70,76,79] ## 몸무게 \n",
    "y=[159,160,162,165,167,162,165,175,165,172] ## 키\n",
    "g= 'f','f','f','f','m','f','m','m','m','m'\n",
    "df=pd.DataFrame({'w':x,'h':y,'g':g})\n",
    "df"
   ]
  },
  {
   "cell_type": "markdown",
   "metadata": {
    "id": "kcfum7-Pk9Ku"
   },
   "source": [
    "`-` 미나드의 접근방법 : 고차원의 자료를 한 도면안에서 패널을 늘리는 방법을 선택\n",
    "\n",
    "   * 일반적은 사람들은 보통 색깔을 사용할 생각을 못한다. (아래처럼 그린다.)"
   ]
  },
  {
   "cell_type": "code",
   "execution_count": 99,
   "metadata": {
    "colab": {
     "base_uri": "https://localhost:8080/",
     "height": 325
    },
    "executionInfo": {
     "elapsed": 954,
     "status": "ok",
     "timestamp": 1681976014986,
     "user": {
      "displayName": "이강철",
      "userId": "13507850890638580947"
     },
     "user_tz": -540
    },
    "id": "4pxArW4_lBV5",
    "outputId": "a089359d-1509-4792-ea45-4ef2aa7cf44c"
   },
   "outputs": [
    {
     "data": {
      "text/plain": [
       "<seaborn.axisgrid.FacetGrid at 0x7f37fcd36be0>"
      ]
     },
     "execution_count": 99,
     "metadata": {},
     "output_type": "execute_result"
    },
    {
     "data": {
      "image/png": "[encoded data removed]",
      "text/plain": [
       "<Figure size 600x300 with 2 Axes>"
      ]
     },
     "metadata": {},
     "output_type": "display_data"
    }
   ],
   "source": [
    "fig = sns.FacetGrid(df,col=\"g\")\n",
    "fig.map(sns.scatterplot,\"w\",\"g\")"
   ]
  },
  {
   "cell_type": "markdown",
   "metadata": {
    "id": "FZ-u1pmylTyM"
   },
   "source": [
    "`-` 미나드의 접근"
   ]
  },
  {
   "cell_type": "code",
   "execution_count": 100,
   "metadata": {
    "colab": {
     "base_uri": "https://localhost:8080/",
     "height": 448
    },
    "executionInfo": {
     "elapsed": 1375,
     "status": "ok",
     "timestamp": 1681976388047,
     "user": {
      "displayName": "이강철",
      "userId": "13507850890638580947"
     },
     "user_tz": -540
    },
    "id": "99sJ1Ip9mqPv",
    "outputId": "ef69186e-aaeb-403e-e834-81fbe3f21779"
   },
   "outputs": [
    {
     "data": {
      "text/plain": [
       "<Axes: >"
      ]
     },
     "execution_count": 100,
     "metadata": {},
     "output_type": "execute_result"
    },
    {
     "data": {
      "image/png": "[encoded data removed]",
      "text/plain": [
       "<Figure size 640x480 with 1 Axes>"
      ]
     },
     "metadata": {},
     "output_type": "display_data"
    }
   ],
   "source": [
    "sns.scatterplot(data=df,x=x,y=y,hue=\"g\")"
   ]
  }
 ],
 "metadata": {
  "colab": {
   "authorship_tag": "ABX9TyO2lXLUErd/CAhiIiLELT/B",
   "provenance": []
  },
  "kernelspec": {
   "display_name": "Python 3 (ipykernel)",
   "language": "python",
   "name": "python3"
  },
  "language_info": {
   "codemirror_mode": {
    "name": "ipython",
    "version": 3
   },
   "file_extension": ".py",
   "mimetype": "text/x-python",
   "name": "python",
   "nbconvert_exporter": "python",
   "pygments_lexer": "ipython3",
   "version": "3.11.4"
  },
  "toc": {
   "base_numbering": 1,
   "nav_menu": {},
   "number_sections": false,
   "sideBar": true,
   "skip_h1_title": false,
   "title_cell": "Table of Contents",
   "title_sidebar": "Contents",
   "toc_cell": false,
   "toc_position": {},
   "toc_section_display": true,
   "toc_window_display": true
  }
 },
 "nbformat": 4,
 "nbformat_minor": 4
}
