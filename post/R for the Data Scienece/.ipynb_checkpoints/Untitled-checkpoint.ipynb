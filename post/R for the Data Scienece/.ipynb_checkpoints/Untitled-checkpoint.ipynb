{
 "cells": [
  {
   "cell_type": "code",
   "execution_count": 2,
   "id": "95993c2c",
   "metadata": {},
   "outputs": [],
   "source": [
    "library(tidyverse)"
   ]
  },
  {
   "cell_type": "code",
   "execution_count": 3,
   "id": "1089d04d",
   "metadata": {},
   "outputs": [
    {
     "name": "stdout",
     "output_type": "stream",
     "text": [
      "Observations: 150\n",
      "Variables: 5\n",
      "$ Sepal.Length <dbl> 5.1, 4.9, 4.7, 4.6, 5.0, 5.4, 4.6, 5.0, 4.4, 4.9, 5.4,...\n",
      "$ Sepal.Width  <dbl> 3.5, 3.0, 3.2, 3.1, 3.6, 3.9, 3.4, 3.4, 2.9, 3.1, 3.7,...\n",
      "$ Petal.Length <dbl> 1.4, 1.4, 1.3, 1.5, 1.4, 1.7, 1.4, 1.5, 1.4, 1.5, 1.5,...\n",
      "$ Petal.Width  <dbl> 0.2, 0.2, 0.2, 0.2, 0.2, 0.4, 0.3, 0.2, 0.2, 0.1, 0.2,...\n",
      "$ Species      <fct> setosa, setosa, setosa, setosa, setosa, setosa, setosa...\n"
     ]
    }
   ],
   "source": [
    "glimpse(iris)"
   ]
  },
  {
   "cell_type": "code",
   "execution_count": 5,
   "id": "17ce775d",
   "metadata": {},
   "outputs": [
    {
     "name": "stdout",
     "output_type": "stream",
     "text": [
      "Observations: 32\n",
      "Variables: 5\n",
      "$ Sepal.Length <dbl> 4.9, 4.7, 4.6, 5.0, 4.6, 5.0, 4.4, 4.9, 4.8, 4.8, 4.3,...\n",
      "$ Sepal.Width  <dbl> 3.0, 3.2, 3.1, 3.6, 3.4, 3.4, 2.9, 3.1, 3.4, 3.0, 3.0,...\n",
      "$ Petal.Length <dbl> 1.4, 1.3, 1.5, 1.4, 1.4, 1.5, 1.4, 1.5, 1.6, 1.4, 1.1,...\n",
      "$ Petal.Width  <dbl> 0.2, 0.2, 0.2, 0.2, 0.3, 0.2, 0.2, 0.1, 0.2, 0.1, 0.1,...\n",
      "$ Species      <fct> setosa, setosa, setosa, setosa, setosa, setosa, setosa...\n"
     ]
    }
   ],
   "source": [
    "glimpse(iris %>% filter(Sepal.Length <=5))"
   ]
  }
 ],
 "metadata": {
  "kernelspec": {
   "display_name": "R",
   "language": "R",
   "name": "r"
  },
  "language_info": {
   "codemirror_mode": "r",
   "file_extension": ".r",
   "mimetype": "text/x-r-source",
   "name": "R",
   "pygments_lexer": "r",
   "version": "3.6.1"
  }
 },
 "nbformat": 4,
 "nbformat_minor": 5
}
