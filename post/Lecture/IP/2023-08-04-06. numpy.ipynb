{
 "cells": [
  {
   "cell_type": "raw",
   "id": "a24ad39f-a386-430b-b269-48157afc6b5b",
   "metadata": {},
   "source": [
    "---\n",
    "title : \"06. Numpy\"\n",
    "date : \"08/04/23\"\n",
    "categories : [\"Python\"]\n",
    "author : \"GANGCHEOL LEE\"\n",
    "---"
   ]
  },
  {
   "cell_type": "code",
   "execution_count": 3,
   "id": "bf3c6433-221c-432d-b2c7-7033dc1918a8",
   "metadata": {},
   "outputs": [],
   "source": [
    "import numpy as np"
   ]
  },
  {
   "cell_type": "markdown",
   "id": "25f55f92-271f-4c83-944d-afaa8d78e735",
   "metadata": {},
   "source": [
    "# 사칙연산"
   ]
  },
  {
   "cell_type": "code",
   "execution_count": 4,
   "id": "628c2cb3-763b-4c39-b69f-7d3d11b577fd",
   "metadata": {},
   "outputs": [],
   "source": [
    "a = np.array([1,2,3])"
   ]
  },
  {
   "cell_type": "code",
   "execution_count": 6,
   "id": "2798ca93-5ee2-4200-92c2-1d48e1170991",
   "metadata": {},
   "outputs": [
    {
     "data": {
      "text/plain": [
       "array([2, 3, 4])"
      ]
     },
     "execution_count": 6,
     "metadata": {},
     "output_type": "execute_result"
    }
   ],
   "source": [
    "a + 1"
   ]
  },
  {
   "cell_type": "code",
   "execution_count": 7,
   "id": "8d75bc62-de32-400b-bc86-6f386e74d46e",
   "metadata": {},
   "outputs": [
    {
     "data": {
      "text/plain": [
       "array([0, 1, 2])"
      ]
     },
     "execution_count": 7,
     "metadata": {},
     "output_type": "execute_result"
    }
   ],
   "source": [
    "a-1"
   ]
  },
  {
   "cell_type": "code",
   "execution_count": 8,
   "id": "fdc8970c-9845-4bcd-bdba-a324401751ec",
   "metadata": {},
   "outputs": [
    {
     "data": {
      "text/plain": [
       "array([2, 4, 6])"
      ]
     },
     "execution_count": 8,
     "metadata": {},
     "output_type": "execute_result"
    }
   ],
   "source": [
    "a*2"
   ]
  },
  {
   "cell_type": "code",
   "execution_count": 9,
   "id": "b439dffe-09e5-444a-b866-1dcfaa006cd4",
   "metadata": {},
   "outputs": [
    {
     "data": {
      "text/plain": [
       "array([0.5, 1. , 1.5])"
      ]
     },
     "execution_count": 9,
     "metadata": {},
     "output_type": "execute_result"
    }
   ],
   "source": [
    "a/2"
   ]
  },
  {
   "cell_type": "markdown",
   "id": "bf7d4f11-6bab-4853-b0ce-602a7b996aa3",
   "metadata": {},
   "source": [
    "# 기타 연산"
   ]
  },
  {
   "cell_type": "code",
   "execution_count": 10,
   "id": "cb7ebc97-2948-4c85-93d6-5e83af9e8c97",
   "metadata": {},
   "outputs": [
    {
     "data": {
      "text/plain": [
       "array([1, 4, 9])"
      ]
     },
     "execution_count": 10,
     "metadata": {},
     "output_type": "execute_result"
    }
   ],
   "source": [
    "a**2"
   ]
  },
  {
   "cell_type": "markdown",
   "id": "376dac78-cdd8-4bd0-b8df-fb0db684226b",
   "metadata": {},
   "source": [
    "`-` 나머지 연산"
   ]
  },
  {
   "cell_type": "code",
   "execution_count": 11,
   "id": "b63bbca4-d252-4780-b385-494490d6d642",
   "metadata": {},
   "outputs": [
    {
     "data": {
      "text/plain": [
       "array([1, 0, 1], dtype=int32)"
      ]
     },
     "execution_count": 11,
     "metadata": {},
     "output_type": "execute_result"
    }
   ],
   "source": [
    "a%2 "
   ]
  },
  {
   "cell_type": "markdown",
   "id": "80499e2f-e271-4424-ba94-1d7ed1a9c2ae",
   "metadata": {},
   "source": [
    "# 기타"
   ]
  },
  {
   "cell_type": "code",
   "execution_count": 16,
   "id": "81f0b15a-11b6-4f07-b305-07beeccf9d77",
   "metadata": {},
   "outputs": [],
   "source": [
    "l = [1,2,3]"
   ]
  },
  {
   "cell_type": "code",
   "execution_count": 17,
   "id": "d2a5cff8-0b15-4823-ae05-90f7efa5ac5f",
   "metadata": {},
   "outputs": [
    {
     "data": {
      "text/plain": [
       "(array([1.        , 1.41421356, 1.73205081]),\n",
       " array([1.        , 1.41421356, 1.73205081]))"
      ]
     },
     "execution_count": 17,
     "metadata": {},
     "output_type": "execute_result"
    }
   ],
   "source": [
    "np.sqrt(a), np.sqrt(l)"
   ]
  },
  {
   "cell_type": "code",
   "execution_count": 18,
   "id": "a0bf827d-258b-49d2-a6d2-f00253198663",
   "metadata": {},
   "outputs": [
    {
     "data": {
      "text/plain": [
       "(array([0.        , 0.69314718, 1.09861229]),\n",
       " array([0.        , 0.69314718, 1.09861229]))"
      ]
     },
     "execution_count": 18,
     "metadata": {},
     "output_type": "execute_result"
    }
   ],
   "source": [
    "np.log(a),np.log(l)"
   ]
  },
  {
   "cell_type": "code",
   "execution_count": 19,
   "id": "16e0be3a-9eb4-4285-909a-90992ee3f6a9",
   "metadata": {},
   "outputs": [
    {
     "data": {
      "text/plain": [
       "(array([ 2.71828183,  7.3890561 , 20.08553692]),\n",
       " array([0.        , 0.69314718, 1.09861229]))"
      ]
     },
     "execution_count": 19,
     "metadata": {},
     "output_type": "execute_result"
    }
   ],
   "source": [
    "np.exp(a),np.log(l)"
   ]
  },
  {
   "cell_type": "code",
   "execution_count": 21,
   "id": "92cd2424-95d4-454f-af8a-69752095b640",
   "metadata": {},
   "outputs": [
    {
     "data": {
      "text/plain": [
       "(array([0.84147098, 0.90929743, 0.14112001]),\n",
       " array([0.84147098, 0.90929743, 0.14112001]))"
      ]
     },
     "execution_count": 21,
     "metadata": {},
     "output_type": "execute_result"
    }
   ],
   "source": [
    "np.sin(a), np.sin(l)"
   ]
  },
  {
   "cell_type": "markdown",
   "id": "e525e528-260f-4de4-b4bb-94eb18692afd",
   "metadata": {},
   "source": [
    "# 인덱싱"
   ]
  },
  {
   "cell_type": "markdown",
   "id": "402ed3c9-f9b9-41b4-ba50-a2c7988abad8",
   "metadata": {},
   "source": [
    "## 1차원"
   ]
  },
  {
   "cell_type": "code",
   "execution_count": 22,
   "id": "6fc678d1-0b94-4c40-a2cc-37960d8be26d",
   "metadata": {},
   "outputs": [],
   "source": [
    "l=[11,22,33,44,55,66] \n",
    "a=np.array(l) "
   ]
  },
  {
   "cell_type": "code",
   "execution_count": 24,
   "id": "2a76a91b-2ffa-4274-98e8-05774dd30ca0",
   "metadata": {},
   "outputs": [
    {
     "data": {
      "text/plain": [
       "array([11, 22, 33, 44, 55, 66])"
      ]
     },
     "execution_count": 24,
     "metadata": {},
     "output_type": "execute_result"
    }
   ],
   "source": [
    "a"
   ]
  },
  {
   "cell_type": "code",
   "execution_count": 27,
   "id": "fa86127b-0317-4dbf-a610-c426e5bf6125",
   "metadata": {},
   "outputs": [
    {
     "data": {
      "text/plain": [
       "11"
      ]
     },
     "execution_count": 27,
     "metadata": {},
     "output_type": "execute_result"
    }
   ],
   "source": [
    "a[0]"
   ]
  },
  {
   "cell_type": "code",
   "execution_count": 28,
   "id": "d994d7c7-214a-4342-95cc-a1d9e74f041e",
   "metadata": {},
   "outputs": [
    {
     "data": {
      "text/plain": [
       "(11, 22)"
      ]
     },
     "execution_count": 28,
     "metadata": {},
     "output_type": "execute_result"
    }
   ],
   "source": [
    "a[0],a[1]"
   ]
  },
  {
   "cell_type": "code",
   "execution_count": 30,
   "id": "9462997b-a8db-425f-8aa2-ccec1436ab8e",
   "metadata": {},
   "outputs": [
    {
     "data": {
      "text/plain": [
       "array([11, 22, 33])"
      ]
     },
     "execution_count": 30,
     "metadata": {},
     "output_type": "execute_result"
    }
   ],
   "source": [
    "a[0:3]"
   ]
  },
  {
   "cell_type": "code",
   "execution_count": 31,
   "id": "63589f94-de4b-491b-b3dc-b1d710464b34",
   "metadata": {},
   "outputs": [
    {
     "data": {
      "text/plain": [
       "array([11, 33, 55])"
      ]
     },
     "execution_count": 31,
     "metadata": {},
     "output_type": "execute_result"
    }
   ],
   "source": [
    "a[[0,2,4]]"
   ]
  },
  {
   "cell_type": "code",
   "execution_count": 32,
   "id": "2c837d98-cef6-4abe-bc27-5b8c7342e1d3",
   "metadata": {},
   "outputs": [
    {
     "data": {
      "text/plain": [
       "array([ True,  True, False, False, False, False])"
      ]
     },
     "execution_count": 32,
     "metadata": {},
     "output_type": "execute_result"
    }
   ],
   "source": [
    "a<33"
   ]
  },
  {
   "cell_type": "code",
   "execution_count": 33,
   "id": "a406ba2b-2df6-46c4-84f2-253ad7d2f76e",
   "metadata": {},
   "outputs": [
    {
     "data": {
      "text/plain": [
       "array([11, 22])"
      ]
     },
     "execution_count": 33,
     "metadata": {},
     "output_type": "execute_result"
    }
   ],
   "source": [
    "a[a<33]"
   ]
  },
  {
   "cell_type": "markdown",
   "id": "b586a746-bec7-4162-aaf7-b9518db0e4f2",
   "metadata": {},
   "source": [
    "`-` 리스트는 불가능"
   ]
  },
  {
   "cell_type": "code",
   "execution_count": 34,
   "id": "a459f7db-deba-49ee-a2f3-b6113c030422",
   "metadata": {},
   "outputs": [
    {
     "ename": "TypeError",
     "evalue": "'<' not supported between instances of 'list' and 'int'",
     "output_type": "error",
     "traceback": [
      "\u001b[1;31m---------------------------------------------------------------------------\u001b[0m",
      "\u001b[1;31mTypeError\u001b[0m                                 Traceback (most recent call last)",
      "Cell \u001b[1;32mIn[34], line 1\u001b[0m\n\u001b[1;32m----> 1\u001b[0m l\u001b[38;5;241m<\u001b[39m\u001b[38;5;241m33\u001b[39m\n",
      "\u001b[1;31mTypeError\u001b[0m: '<' not supported between instances of 'list' and 'int'"
     ]
    }
   ],
   "source": [
    "l<33"
   ]
  },
  {
   "cell_type": "code",
   "execution_count": 35,
   "id": "d375f5b6-d5fa-4c4e-a95c-3826d29ba436",
   "metadata": {},
   "outputs": [
    {
     "ename": "TypeError",
     "evalue": "list indices must be integers or slices, not list",
     "output_type": "error",
     "traceback": [
      "\u001b[1;31m---------------------------------------------------------------------------\u001b[0m",
      "\u001b[1;31mTypeError\u001b[0m                                 Traceback (most recent call last)",
      "Cell \u001b[1;32mIn[35], line 1\u001b[0m\n\u001b[1;32m----> 1\u001b[0m l[[\u001b[38;5;28;01mTrue\u001b[39;00m,\u001b[38;5;28;01mFalse\u001b[39;00m]]\n",
      "\u001b[1;31mTypeError\u001b[0m: list indices must be integers or slices, not list"
     ]
    }
   ],
   "source": [
    "l[[True,False]]"
   ]
  },
  {
   "cell_type": "markdown",
   "id": "7fb7bde4-c6f2-48f5-a930-a8eb94856f1a",
   "metadata": {},
   "source": [
    "## 2차원"
   ]
  },
  {
   "cell_type": "code",
   "execution_count": 36,
   "id": "87717364-9e81-40eb-be7e-3a6d89129ca4",
   "metadata": {},
   "outputs": [],
   "source": [
    "A = [[1,2,3,4],[-1,-2,-3,-4],[5,6,7,8],[-5,-6,-7,-8]]\n",
    "A2 = np.array(A)"
   ]
  },
  {
   "cell_type": "code",
   "execution_count": 38,
   "id": "2e4d5a6d-6c31-4848-99ce-a98fa4cf782f",
   "metadata": {},
   "outputs": [
    {
     "data": {
      "text/plain": [
       "[[1, 2, 3, 4], [-1, -2, -3, -4], [5, 6, 7, 8], [-5, -6, -7, -8]]"
      ]
     },
     "execution_count": 38,
     "metadata": {},
     "output_type": "execute_result"
    }
   ],
   "source": [
    "A"
   ]
  },
  {
   "cell_type": "code",
   "execution_count": 37,
   "id": "d0ef52fc-ccce-434c-815e-f119af61de30",
   "metadata": {},
   "outputs": [
    {
     "data": {
      "text/plain": [
       "array([[ 1,  2,  3,  4],\n",
       "       [-1, -2, -3, -4],\n",
       "       [ 5,  6,  7,  8],\n",
       "       [-5, -6, -7, -8]])"
      ]
     },
     "execution_count": 37,
     "metadata": {},
     "output_type": "execute_result"
    }
   ],
   "source": [
    "A2"
   ]
  },
  {
   "cell_type": "markdown",
   "id": "1f8204bb-d55e-4acf-bda1-2bae5fd0d49f",
   "metadata": {},
   "source": [
    "`-` A는 리스트, A2는 array"
   ]
  },
  {
   "cell_type": "code",
   "execution_count": 39,
   "id": "9a002181-23a4-4aa7-ba7d-cdc27ab8cbd6",
   "metadata": {},
   "outputs": [
    {
     "data": {
      "text/plain": [
       "1"
      ]
     },
     "execution_count": 39,
     "metadata": {},
     "output_type": "execute_result"
    }
   ],
   "source": [
    "A[0][0]"
   ]
  },
  {
   "cell_type": "code",
   "execution_count": 40,
   "id": "f70d6639-f590-45fd-ac0f-0f54f36ccb83",
   "metadata": {},
   "outputs": [
    {
     "data": {
      "text/plain": [
       "1"
      ]
     },
     "execution_count": 40,
     "metadata": {},
     "output_type": "execute_result"
    }
   ],
   "source": [
    "A2[0][0]"
   ]
  },
  {
   "cell_type": "code",
   "execution_count": 41,
   "id": "2293583f-3b7b-4b57-8a84-e35efb153010",
   "metadata": {},
   "outputs": [
    {
     "ename": "TypeError",
     "evalue": "list indices must be integers or slices, not tuple",
     "output_type": "error",
     "traceback": [
      "\u001b[1;31m---------------------------------------------------------------------------\u001b[0m",
      "\u001b[1;31mTypeError\u001b[0m                                 Traceback (most recent call last)",
      "Cell \u001b[1;32mIn[41], line 1\u001b[0m\n\u001b[1;32m----> 1\u001b[0m A[\u001b[38;5;241m0\u001b[39m,\u001b[38;5;241m0\u001b[39m]\n",
      "\u001b[1;31mTypeError\u001b[0m: list indices must be integers or slices, not tuple"
     ]
    }
   ],
   "source": [
    "A[0,0]"
   ]
  },
  {
   "cell_type": "code",
   "execution_count": 42,
   "id": "3b7d0544-d870-440a-8131-e4ea8958011c",
   "metadata": {},
   "outputs": [
    {
     "data": {
      "text/plain": [
       "1"
      ]
     },
     "execution_count": 42,
     "metadata": {},
     "output_type": "execute_result"
    }
   ],
   "source": [
    "A2[0,0]"
   ]
  },
  {
   "cell_type": "code",
   "execution_count": 43,
   "id": "1665b9e2-0980-441e-b1c0-1872a480e696",
   "metadata": {},
   "outputs": [
    {
     "data": {
      "text/plain": [
       "array([1, 2])"
      ]
     },
     "execution_count": 43,
     "metadata": {},
     "output_type": "execute_result"
    }
   ],
   "source": [
    "A2[0,0:2]"
   ]
  },
  {
   "cell_type": "code",
   "execution_count": 44,
   "id": "ceec1c7d-d0ee-4e5c-8e66-a5cb5e764823",
   "metadata": {},
   "outputs": [
    {
     "data": {
      "text/plain": [
       "array([1, 2, 3, 4])"
      ]
     },
     "execution_count": 44,
     "metadata": {},
     "output_type": "execute_result"
    }
   ],
   "source": [
    "A2[0,:]"
   ]
  },
  {
   "cell_type": "code",
   "execution_count": 46,
   "id": "7d45e202-3104-4eae-bd1c-f10fcdb25ce1",
   "metadata": {},
   "outputs": [
    {
     "data": {
      "text/plain": [
       "array([[1, 2, 3, 4],\n",
       "       [5, 6, 7, 8]])"
      ]
     },
     "execution_count": 46,
     "metadata": {},
     "output_type": "execute_result"
    }
   ],
   "source": [
    "A2[[0,2],:]"
   ]
  },
  {
   "cell_type": "code",
   "execution_count": 47,
   "id": "55e9898b-08bc-449e-9a82-86329e4b5e4e",
   "metadata": {},
   "outputs": [
    {
     "data": {
      "text/plain": [
       "array([[1, 2, 3, 4],\n",
       "       [5, 6, 7, 8]])"
      ]
     },
     "execution_count": 47,
     "metadata": {},
     "output_type": "execute_result"
    }
   ],
   "source": [
    "A2[[0,2]]"
   ]
  },
  {
   "cell_type": "markdown",
   "id": "840e6022-2feb-4536-8d91-0ed2d6498fc8",
   "metadata": {},
   "source": [
    "`-` 열 추출"
   ]
  },
  {
   "cell_type": "code",
   "execution_count": 48,
   "id": "0e888a5d-5540-4cf6-aeb1-d4ce7c03b520",
   "metadata": {},
   "outputs": [
    {
     "data": {
      "text/plain": [
       "array([[ 1,  2,  3,  4],\n",
       "       [-1, -2, -3, -4],\n",
       "       [ 5,  6,  7,  8],\n",
       "       [-5, -6, -7, -8]])"
      ]
     },
     "execution_count": 48,
     "metadata": {},
     "output_type": "execute_result"
    }
   ],
   "source": [
    "A2"
   ]
  },
  {
   "cell_type": "code",
   "execution_count": 49,
   "id": "6f2bfbea-3970-49cf-94e9-cee9f44aefc1",
   "metadata": {},
   "outputs": [
    {
     "data": {
      "text/plain": [
       "array([ 1, -1,  5, -5])"
      ]
     },
     "execution_count": 49,
     "metadata": {},
     "output_type": "execute_result"
    }
   ],
   "source": [
    "A2[:,0]"
   ]
  },
  {
   "cell_type": "code",
   "execution_count": 51,
   "id": "3514420f-72a7-4938-a968-5fa7b79f9e62",
   "metadata": {},
   "outputs": [
    {
     "data": {
      "text/plain": [
       "array([[ 1],\n",
       "       [-1],\n",
       "       [ 5],\n",
       "       [-5]])"
      ]
     },
     "execution_count": 51,
     "metadata": {},
     "output_type": "execute_result"
    }
   ],
   "source": [
    "A2[:,[0]]"
   ]
  },
  {
   "cell_type": "code",
   "execution_count": 52,
   "id": "56c885c0-e970-47e9-9820-14c1b38e642e",
   "metadata": {},
   "outputs": [
    {
     "data": {
      "text/plain": [
       "array([[ 1,  3],\n",
       "       [-1, -3],\n",
       "       [ 5,  7],\n",
       "       [-5, -7]])"
      ]
     },
     "execution_count": 52,
     "metadata": {},
     "output_type": "execute_result"
    }
   ],
   "source": [
    "A2[:,[0,2]]"
   ]
  },
  {
   "cell_type": "markdown",
   "id": "df7a1c96-ccd2-4cc3-8f97-c13b10b0da0c",
   "metadata": {},
   "source": [
    "### shape"
   ]
  },
  {
   "cell_type": "markdown",
   "id": "704069f7-79e9-48bf-8326-64c811bbc490",
   "metadata": {},
   "source": [
    "`-` 아래의 경우는 길이가 4인 1차원 벡터"
   ]
  },
  {
   "cell_type": "code",
   "execution_count": 55,
   "id": "ca6cb91d-9a8d-4052-95b7-b67d6603ced2",
   "metadata": {},
   "outputs": [
    {
     "data": {
      "text/plain": [
       "((4,), array([1, 2, 3, 4]))"
      ]
     },
     "execution_count": 55,
     "metadata": {},
     "output_type": "execute_result"
    }
   ],
   "source": [
    "A2[0].shape,A2[0]"
   ]
  },
  {
   "cell_type": "markdown",
   "id": "f454bd38-bbd5-4f43-bfbd-e95fd2ee13b7",
   "metadata": {},
   "source": [
    "`-` 다음은 차원이 2*4인 행렬"
   ]
  },
  {
   "cell_type": "code",
   "execution_count": 56,
   "id": "e3b8b96e-a76f-415b-8aaf-23bcb224311a",
   "metadata": {},
   "outputs": [
    {
     "data": {
      "text/plain": [
       "(array([[ 1,  2,  3,  4],\n",
       "        [-1, -2, -3, -4]]),\n",
       " (2, 4))"
      ]
     },
     "execution_count": 56,
     "metadata": {},
     "output_type": "execute_result"
    }
   ],
   "source": [
    "A2[0:2], A2[0:2].shape"
   ]
  },
  {
   "cell_type": "markdown",
   "id": "bce0b6d9-3208-4cdf-8026-75e9a6a02ce0",
   "metadata": {},
   "source": [
    "`-` 아래는 dim 1*4인 행렬"
   ]
  },
  {
   "cell_type": "code",
   "execution_count": 58,
   "id": "e41312a5-6e36-4c20-93cd-99935f7d492a",
   "metadata": {},
   "outputs": [
    {
     "data": {
      "text/plain": [
       "(array([[1, 2, 3, 4]]), (1, 4))"
      ]
     },
     "execution_count": 58,
     "metadata": {},
     "output_type": "execute_result"
    }
   ],
   "source": [
    "A2[0:1], A2[0:1].shape"
   ]
  },
  {
   "cell_type": "markdown",
   "id": "1afecd19-4845-435d-acd0-3921939dd00e",
   "metadata": {},
   "source": [
    "* 즉, `A2[0]`가 `A2[0:1]`은 다르다."
   ]
  },
  {
   "cell_type": "markdown",
   "id": "7d077de6-5900-412e-b17d-133c5ba0f32c",
   "metadata": {},
   "source": [
    "#### ex1"
   ]
  },
  {
   "cell_type": "code",
   "execution_count": 59,
   "id": "9cc93e12-f116-49a3-8727-44f04606ed94",
   "metadata": {},
   "outputs": [
    {
     "data": {
      "text/plain": [
       "array([[ 1,  2,  3,  4],\n",
       "       [-1, -2, -3, -4],\n",
       "       [ 5,  6,  7,  8],\n",
       "       [-5, -6, -7, -8]])"
      ]
     },
     "execution_count": 59,
     "metadata": {},
     "output_type": "execute_result"
    }
   ],
   "source": [
    "A2"
   ]
  },
  {
   "cell_type": "markdown",
   "id": "1d238848-33e0-4485-a4ff-4df95a20ed05",
   "metadata": {},
   "source": [
    "`-` 0차원 출력"
   ]
  },
  {
   "cell_type": "code",
   "execution_count": 60,
   "id": "095f71e7-7252-4af9-80b7-8f1ec73feafc",
   "metadata": {},
   "outputs": [
    {
     "data": {
      "text/plain": [
       "1"
      ]
     },
     "execution_count": 60,
     "metadata": {},
     "output_type": "execute_result"
    }
   ],
   "source": [
    "A2[0,0]"
   ]
  },
  {
   "cell_type": "markdown",
   "id": "a3ea9d5e-bad0-41c2-aabb-974682ca2004",
   "metadata": {},
   "source": [
    "`-` 1차원 출력"
   ]
  },
  {
   "cell_type": "code",
   "execution_count": 62,
   "id": "3e207707-47c5-4633-8286-077d3c050236",
   "metadata": {},
   "outputs": [
    {
     "data": {
      "text/plain": [
       "(array([1]), array([1]))"
      ]
     },
     "execution_count": 62,
     "metadata": {},
     "output_type": "execute_result"
    }
   ],
   "source": [
    "A2[[0],0], A2[0,[0]]"
   ]
  },
  {
   "cell_type": "code",
   "execution_count": 63,
   "id": "ac27d0ef-073c-4250-9923-9758f063509a",
   "metadata": {},
   "outputs": [
    {
     "data": {
      "text/plain": [
       "array([1])"
      ]
     },
     "execution_count": 63,
     "metadata": {},
     "output_type": "execute_result"
    }
   ],
   "source": [
    "A2[0:1,0]"
   ]
  },
  {
   "cell_type": "code",
   "execution_count": 64,
   "id": "8217130f-9b71-49a6-9f21-3dcb104985a8",
   "metadata": {},
   "outputs": [
    {
     "data": {
      "text/plain": [
       "array([1])"
      ]
     },
     "execution_count": 64,
     "metadata": {},
     "output_type": "execute_result"
    }
   ],
   "source": [
    "A2[0,0:1]"
   ]
  },
  {
   "cell_type": "markdown",
   "id": "b903fec0-ed1a-4b31-a73d-8cf6c1ae0fd9",
   "metadata": {},
   "source": [
    "`-` 2차원 출력"
   ]
  },
  {
   "cell_type": "code",
   "execution_count": 68,
   "id": "1747436a-3699-477f-b908-ef5bc039043b",
   "metadata": {},
   "outputs": [
    {
     "data": {
      "text/plain": [
       "array([[1]])"
      ]
     },
     "execution_count": 68,
     "metadata": {},
     "output_type": "execute_result"
    }
   ],
   "source": [
    "A2[0:1,0:1]"
   ]
  },
  {
   "cell_type": "markdown",
   "id": "c898a891-4898-4130-a55c-b7ea4d5d409e",
   "metadata": {},
   "source": [
    "#### ex2"
   ]
  },
  {
   "cell_type": "code",
   "execution_count": 69,
   "id": "3d395cf3-71be-469f-ab24-de8df2108511",
   "metadata": {},
   "outputs": [
    {
     "data": {
      "text/plain": [
       "array([[ 1,  2,  3,  4],\n",
       "       [-1, -2, -3, -4],\n",
       "       [ 5,  6,  7,  8],\n",
       "       [-5, -6, -7, -8]])"
      ]
     },
     "execution_count": 69,
     "metadata": {},
     "output_type": "execute_result"
    }
   ],
   "source": [
    "A2"
   ]
  },
  {
   "cell_type": "markdown",
   "id": "31137f11-f8c5-42f2-8548-10a115d344ff",
   "metadata": {},
   "source": [
    "`-` 벡터 1차원"
   ]
  },
  {
   "cell_type": "code",
   "execution_count": 70,
   "id": "1be8e13a-3874-42f9-877d-dd503b2f6d3e",
   "metadata": {},
   "outputs": [
    {
     "data": {
      "text/plain": [
       "array([[ 1,  2,  3,  4],\n",
       "       [-1, -2, -3, -4],\n",
       "       [ 5,  6,  7,  8],\n",
       "       [-5, -6, -7, -8]])"
      ]
     },
     "execution_count": 70,
     "metadata": {},
     "output_type": "execute_result"
    }
   ],
   "source": [
    "A2"
   ]
  },
  {
   "cell_type": "code",
   "execution_count": 72,
   "id": "1ae2b04b-b086-4115-b56c-75043a634cf8",
   "metadata": {},
   "outputs": [
    {
     "data": {
      "text/plain": [
       "(array([ 2, -2,  6, -6]), (4,))"
      ]
     },
     "execution_count": 72,
     "metadata": {},
     "output_type": "execute_result"
    }
   ],
   "source": [
    "A2[:,1],A2[:,1].shape"
   ]
  },
  {
   "cell_type": "markdown",
   "id": "9558335b-6425-48cd-a5c9-480b3139f37f",
   "metadata": {},
   "source": [
    "`-` 행렬 2차원"
   ]
  },
  {
   "cell_type": "code",
   "execution_count": 74,
   "id": "c0276a11-4648-4e81-8a19-2047e4a5dc5b",
   "metadata": {},
   "outputs": [
    {
     "data": {
      "text/plain": [
       "(array([[ 2],\n",
       "        [-2],\n",
       "        [ 6],\n",
       "        [-6]]),\n",
       " (4, 1))"
      ]
     },
     "execution_count": 74,
     "metadata": {},
     "output_type": "execute_result"
    }
   ],
   "source": [
    "A2[:,[1]],A2[:,[1]].shape"
   ]
  },
  {
   "cell_type": "code",
   "execution_count": 76,
   "id": "6daf1c33-1a2b-4bbf-ae3a-7d08d0353889",
   "metadata": {},
   "outputs": [
    {
     "data": {
      "text/plain": [
       "(array([[ 4],\n",
       "        [-4],\n",
       "        [ 8],\n",
       "        [-8]]),\n",
       " (4, 1))"
      ]
     },
     "execution_count": 76,
     "metadata": {},
     "output_type": "execute_result"
    }
   ],
   "source": [
    "A2[:,[-1]],A2[:,[-1]].shape"
   ]
  },
  {
   "cell_type": "markdown",
   "id": "0d86c737-bb0a-4b32-89c8-029487f73f02",
   "metadata": {},
   "source": [
    "## 1차원 배열의 선언"
   ]
  },
  {
   "cell_type": "markdown",
   "id": "f5d71a42-247d-49ee-9018-936435695cb9",
   "metadata": {},
   "source": [
    "## 리스트, 튜플"
   ]
  },
  {
   "cell_type": "code",
   "execution_count": 77,
   "id": "1570aa36-4b76-41a7-8293-7b5613fa7ce8",
   "metadata": {},
   "outputs": [
    {
     "data": {
      "text/plain": [
       "array([1, 2, 3])"
      ]
     },
     "execution_count": 77,
     "metadata": {},
     "output_type": "execute_result"
    }
   ],
   "source": [
    "np.array((1,2,3))"
   ]
  },
  {
   "cell_type": "code",
   "execution_count": 78,
   "id": "5595ad2f-e220-48bd-843f-14f596d3fc28",
   "metadata": {},
   "outputs": [
    {
     "data": {
      "text/plain": [
       "array([1, 2, 3])"
      ]
     },
     "execution_count": 78,
     "metadata": {},
     "output_type": "execute_result"
    }
   ],
   "source": [
    "np.array([1,2,3])"
   ]
  },
  {
   "cell_type": "markdown",
   "id": "5a8cc1c9-4abd-497b-806e-b92555855333",
   "metadata": {},
   "source": [
    "## range"
   ]
  },
  {
   "cell_type": "code",
   "execution_count": 79,
   "id": "25b6fa08-a738-4ec3-a41e-1295e3a7c81e",
   "metadata": {},
   "outputs": [
    {
     "data": {
      "text/plain": [
       "array([0, 1, 2, 3, 4, 5, 6, 7, 8, 9])"
      ]
     },
     "execution_count": 79,
     "metadata": {},
     "output_type": "execute_result"
    }
   ],
   "source": [
    "np.array(range(10))"
   ]
  },
  {
   "cell_type": "markdown",
   "id": "58e7f9d8-c294-480f-9fb4-dc6dee332b8c",
   "metadata": {},
   "source": [
    "## etc"
   ]
  },
  {
   "cell_type": "code",
   "execution_count": 80,
   "id": "9840326d-724a-41be-a018-37eb5d97ee3c",
   "metadata": {},
   "outputs": [
    {
     "data": {
      "text/plain": [
       "array([0., 0., 0.])"
      ]
     },
     "execution_count": 80,
     "metadata": {},
     "output_type": "execute_result"
    }
   ],
   "source": [
    "np.zeros(3)"
   ]
  },
  {
   "cell_type": "code",
   "execution_count": 81,
   "id": "d7bc1db1-0fe7-4629-a829-e7f4e8efe904",
   "metadata": {},
   "outputs": [
    {
     "data": {
      "text/plain": [
       "array([1., 1., 1.])"
      ]
     },
     "execution_count": 81,
     "metadata": {},
     "output_type": "execute_result"
    }
   ],
   "source": [
    "np.ones(3)"
   ]
  },
  {
   "cell_type": "code",
   "execution_count": 89,
   "id": "bb7f403c-37e6-44f4-b187-debc108f4db2",
   "metadata": {},
   "outputs": [
    {
     "data": {
      "text/plain": [
       "array([2., 4., 6., 8.])"
      ]
     },
     "execution_count": 89,
     "metadata": {},
     "output_type": "execute_result"
    }
   ],
   "source": [
    "np.linspace(2,8,4)"
   ]
  },
  {
   "cell_type": "code",
   "execution_count": 90,
   "id": "3c717c05-d45d-421a-a7c4-73207cdffd7a",
   "metadata": {},
   "outputs": [
    {
     "data": {
      "text/plain": [
       "array([0, 1, 2, 3, 4])"
      ]
     },
     "execution_count": 90,
     "metadata": {},
     "output_type": "execute_result"
    }
   ],
   "source": [
    "np.arange(5)"
   ]
  },
  {
   "cell_type": "code",
   "execution_count": 91,
   "id": "a2be7d2e-3b35-4735-91a7-85210c1f5a36",
   "metadata": {},
   "outputs": [
    {
     "data": {
      "text/plain": [
       "array([1, 2, 3, 4, 5])"
      ]
     },
     "execution_count": 91,
     "metadata": {},
     "output_type": "execute_result"
    }
   ],
   "source": [
    "np.arange(1,6)"
   ]
  },
  {
   "cell_type": "markdown",
   "id": "4003472d-e70e-47e0-877d-a464042ebb16",
   "metadata": {},
   "source": [
    "# reshape($\\star$)"
   ]
  },
  {
   "cell_type": "code",
   "execution_count": 95,
   "id": "e52690ed-6370-458e-bf31-1a2ec7d07fc2",
   "metadata": {},
   "outputs": [
    {
     "data": {
      "text/plain": [
       "array([1, 2, 3, 4, 5, 6])"
      ]
     },
     "execution_count": 95,
     "metadata": {},
     "output_type": "execute_result"
    }
   ],
   "source": [
    "a = np.arange(1,7)\n",
    "a"
   ]
  },
  {
   "cell_type": "code",
   "execution_count": 96,
   "id": "4a6eb488-b0a3-4499-9cdd-a8c2d112dd32",
   "metadata": {},
   "outputs": [
    {
     "data": {
      "text/plain": [
       "(6,)"
      ]
     },
     "execution_count": 96,
     "metadata": {},
     "output_type": "execute_result"
    }
   ],
   "source": [
    "a.shape"
   ]
  },
  {
   "cell_type": "code",
   "execution_count": 101,
   "id": "0eccda0c-9865-44b0-995c-e64ad8d6f9b2",
   "metadata": {},
   "outputs": [
    {
     "data": {
      "text/plain": [
       "array([[1, 2, 3],\n",
       "       [4, 5, 6]])"
      ]
     },
     "execution_count": 101,
     "metadata": {},
     "output_type": "execute_result"
    }
   ],
   "source": [
    "b = a.reshape(2,3)\n",
    "b"
   ]
  },
  {
   "cell_type": "code",
   "execution_count": 104,
   "id": "f69edc10-dd37-440e-915c-8618d91d1dec",
   "metadata": {},
   "outputs": [
    {
     "data": {
      "text/plain": [
       "array([1, 2, 3, 4, 5, 6])"
      ]
     },
     "execution_count": 104,
     "metadata": {},
     "output_type": "execute_result"
    }
   ],
   "source": [
    "b.reshape(-1) # b.reshape(6) "
   ]
  },
  {
   "cell_type": "code",
   "execution_count": 105,
   "id": "7f522c19-5b25-45a9-b725-68032a78aabb",
   "metadata": {},
   "outputs": [
    {
     "data": {
      "text/plain": [
       "array([ 0,  1,  2,  3,  4,  5,  6,  7,  8,  9, 10, 11, 12, 13, 14, 15, 16,\n",
       "       17, 18, 19, 20, 21, 22, 23])"
      ]
     },
     "execution_count": 105,
     "metadata": {},
     "output_type": "execute_result"
    }
   ],
   "source": [
    "a = np.arange(24)\n",
    "a"
   ]
  },
  {
   "cell_type": "code",
   "execution_count": 107,
   "id": "f3cec4dc-f847-40ef-847d-a8445b70d989",
   "metadata": {},
   "outputs": [
    {
     "data": {
      "text/plain": [
       "array([[ 0,  1,  2,  3,  4,  5,  6,  7,  8,  9, 10, 11],\n",
       "       [12, 13, 14, 15, 16, 17, 18, 19, 20, 21, 22, 23]])"
      ]
     },
     "execution_count": 107,
     "metadata": {},
     "output_type": "execute_result"
    }
   ],
   "source": [
    "a.reshape(2,-1)"
   ]
  },
  {
   "cell_type": "code",
   "execution_count": 108,
   "id": "c6c290aa-07e6-44bd-a1a7-5fec05917ccd",
   "metadata": {},
   "outputs": [
    {
     "data": {
      "text/plain": [
       "array([[ 0,  1,  2,  3,  4,  5,  6,  7],\n",
       "       [ 8,  9, 10, 11, 12, 13, 14, 15],\n",
       "       [16, 17, 18, 19, 20, 21, 22, 23]])"
      ]
     },
     "execution_count": 108,
     "metadata": {},
     "output_type": "execute_result"
    }
   ],
   "source": [
    "a.reshape(3,-1)"
   ]
  },
  {
   "cell_type": "code",
   "execution_count": 109,
   "id": "a33d18a4-c933-4c18-9f36-e34d6f8ee0f2",
   "metadata": {},
   "outputs": [
    {
     "data": {
      "text/plain": [
       "array([[ 0,  1,  2,  3,  4,  5],\n",
       "       [ 6,  7,  8,  9, 10, 11],\n",
       "       [12, 13, 14, 15, 16, 17],\n",
       "       [18, 19, 20, 21, 22, 23]])"
      ]
     },
     "execution_count": 109,
     "metadata": {},
     "output_type": "execute_result"
    }
   ],
   "source": [
    "a.reshape(4,-1)"
   ]
  },
  {
   "cell_type": "code",
   "execution_count": 110,
   "id": "77f50bec-2044-463d-8fbf-52a7404f24c8",
   "metadata": {},
   "outputs": [
    {
     "ename": "ValueError",
     "evalue": "cannot reshape array of size 24 into shape (5,newaxis)",
     "output_type": "error",
     "traceback": [
      "\u001b[1;31m---------------------------------------------------------------------------\u001b[0m",
      "\u001b[1;31mValueError\u001b[0m                                Traceback (most recent call last)",
      "Cell \u001b[1;32mIn[110], line 1\u001b[0m\n\u001b[1;32m----> 1\u001b[0m a\u001b[38;5;241m.\u001b[39mreshape(\u001b[38;5;241m5\u001b[39m,\u001b[38;5;241m-\u001b[39m\u001b[38;5;241m1\u001b[39m)\n",
      "\u001b[1;31mValueError\u001b[0m: cannot reshape array of size 24 into shape (5,newaxis)"
     ]
    }
   ],
   "source": [
    "a.reshape(5,-1)"
   ]
  },
  {
   "cell_type": "code",
   "execution_count": 111,
   "id": "63e7e46f-4724-4280-9a09-055b6398d936",
   "metadata": {},
   "outputs": [
    {
     "data": {
      "text/plain": [
       "array([[ 0,  1,  2,  3],\n",
       "       [ 4,  5,  6,  7],\n",
       "       [ 8,  9, 10, 11],\n",
       "       [12, 13, 14, 15],\n",
       "       [16, 17, 18, 19],\n",
       "       [20, 21, 22, 23]])"
      ]
     },
     "execution_count": 111,
     "metadata": {},
     "output_type": "execute_result"
    }
   ],
   "source": [
    "a.reshape(6,-1)"
   ]
  },
  {
   "cell_type": "markdown",
   "id": "57eca033-1643-4953-a8b0-3b97132dad84",
   "metadata": {},
   "source": [
    "# 2차원 배열의 선언"
   ]
  },
  {
   "cell_type": "code",
   "execution_count": 112,
   "id": "5723594f-1b63-4938-935c-a52f41438a66",
   "metadata": {},
   "outputs": [
    {
     "data": {
      "text/plain": [
       "array([[0., 0., 0.],\n",
       "       [0., 0., 0.],\n",
       "       [0., 0., 0.]])"
      ]
     },
     "execution_count": 112,
     "metadata": {},
     "output_type": "execute_result"
    }
   ],
   "source": [
    "np.zeros((3,3))"
   ]
  },
  {
   "cell_type": "code",
   "execution_count": 113,
   "id": "ec8f3ac8-4146-4514-bd08-3630bbc41364",
   "metadata": {},
   "outputs": [
    {
     "data": {
      "text/plain": [
       "array([[1., 1., 1.],\n",
       "       [1., 1., 1.],\n",
       "       [1., 1., 1.]])"
      ]
     },
     "execution_count": 113,
     "metadata": {},
     "output_type": "execute_result"
    }
   ],
   "source": [
    "np.ones((3,3))"
   ]
  },
  {
   "cell_type": "code",
   "execution_count": 114,
   "id": "23b1a4db-35ad-4795-9bd7-b420ac09bb19",
   "metadata": {},
   "outputs": [
    {
     "data": {
      "text/plain": [
       "array([[1., 0., 0.],\n",
       "       [0., 1., 0.],\n",
       "       [0., 0., 1.]])"
      ]
     },
     "execution_count": 114,
     "metadata": {},
     "output_type": "execute_result"
    }
   ],
   "source": [
    "np.eye(3)"
   ]
  },
  {
   "cell_type": "code",
   "execution_count": 115,
   "id": "d043f525-09ee-4f4f-a0f4-7061bc7e0f7d",
   "metadata": {},
   "outputs": [
    {
     "data": {
      "text/plain": [
       "array([[ 1,  0,  0,  0],\n",
       "       [ 0,  2,  0,  0],\n",
       "       [ 0,  0,  3,  0],\n",
       "       [ 0,  0,  0, -1]])"
      ]
     },
     "execution_count": 115,
     "metadata": {},
     "output_type": "execute_result"
    }
   ],
   "source": [
    "np.diag([1,2,3,-1])"
   ]
  },
  {
   "cell_type": "markdown",
   "id": "b05e12fc-7814-48b5-b614-3919ff777f80",
   "metadata": {},
   "source": [
    "# 랜덤배열생성"
   ]
  },
  {
   "cell_type": "markdown",
   "id": "7d4e9168-7dad-4f38-ac33-06d30ceb1f78",
   "metadata": {},
   "source": [
    "`-` 표준정규분포에서 뽑기"
   ]
  },
  {
   "cell_type": "code",
   "execution_count": 118,
   "id": "eb8f6cc5-b026-4ec9-ac2a-14c201f61bab",
   "metadata": {},
   "outputs": [
    {
     "data": {
      "text/plain": [
       "array([ 1.04,  1.52,  1.12,  1.03, -0.2 ,  0.65,  0.04, -1.18,  0.21,\n",
       "       -0.01])"
      ]
     },
     "execution_count": 118,
     "metadata": {},
     "output_type": "execute_result"
    }
   ],
   "source": [
    "np.random.randn(10).round(2)"
   ]
  },
  {
   "cell_type": "markdown",
   "id": "61a5d814-7761-44a1-a377-e1e8c4a892b2",
   "metadata": {},
   "source": [
    "`-` 0에서 1사이의 난수 뽑기"
   ]
  },
  {
   "cell_type": "code",
   "execution_count": 119,
   "id": "fac3465a-65eb-4ece-bae7-5acfc9b7f738",
   "metadata": {},
   "outputs": [
    {
     "data": {
      "text/plain": [
       "array([0.64, 0.8 , 0.07, 0.25, 0.2 , 0.43, 0.26, 0.91, 0.64, 0.64])"
      ]
     },
     "execution_count": 119,
     "metadata": {},
     "output_type": "execute_result"
    }
   ],
   "source": [
    "np.random.rand(10).round(2)"
   ]
  },
  {
   "cell_type": "code",
   "execution_count": 120,
   "id": "8dd94966-ba59-4096-83b0-4f0982cf09e8",
   "metadata": {},
   "outputs": [
    {
     "data": {
      "text/plain": [
       "array([[-1.73, -1.1 ,  0.06,  0.2 ,  0.27],\n",
       "       [ 0.52,  0.63,  0.39,  0.88, -0.09]])"
      ]
     },
     "execution_count": 120,
     "metadata": {},
     "output_type": "execute_result"
    }
   ],
   "source": [
    "np.random.randn(10).round(2).reshape(2,5)"
   ]
  },
  {
   "cell_type": "markdown",
   "id": "90f8f956-93b7-4863-a959-94b2a3b3643e",
   "metadata": {},
   "source": [
    "# 행렬관련 기능"
   ]
  },
  {
   "cell_type": "code",
   "execution_count": 121,
   "id": "cbe38b66-1446-469d-8ef9-b22379b9189c",
   "metadata": {},
   "outputs": [
    {
     "data": {
      "text/plain": [
       "array([[0, 1],\n",
       "       [2, 3]])"
      ]
     },
     "execution_count": 121,
     "metadata": {},
     "output_type": "execute_result"
    }
   ],
   "source": [
    "A=np.arange(4).reshape(2,2) \n",
    "A"
   ]
  },
  {
   "cell_type": "markdown",
   "id": "b4e9ce90-bee7-414a-a9e1-cb6940e0823a",
   "metadata": {},
   "source": [
    "`-` 전치행렬"
   ]
  },
  {
   "cell_type": "code",
   "execution_count": 122,
   "id": "2843321a-5075-4fc8-821a-72264f087178",
   "metadata": {},
   "outputs": [
    {
     "data": {
      "text/plain": [
       "array([[0, 2],\n",
       "       [1, 3]])"
      ]
     },
     "execution_count": 122,
     "metadata": {},
     "output_type": "execute_result"
    }
   ],
   "source": [
    "A.T"
   ]
  },
  {
   "cell_type": "markdown",
   "id": "6deae4cb-02af-436e-b8e4-c5e7ad846054",
   "metadata": {},
   "source": [
    "`-` 역행렬"
   ]
  },
  {
   "cell_type": "code",
   "execution_count": 123,
   "id": "406d8c9d-ef62-42b5-8bd5-7c0b7789a5ba",
   "metadata": {},
   "outputs": [
    {
     "data": {
      "text/plain": [
       "array([[-1.5,  0.5],\n",
       "       [ 1. ,  0. ]])"
      ]
     },
     "execution_count": 123,
     "metadata": {},
     "output_type": "execute_result"
    }
   ],
   "source": [
    "np.linalg.inv(A)"
   ]
  },
  {
   "cell_type": "markdown",
   "id": "0617b07e-abb2-4641-a482-27597ed14f7a",
   "metadata": {},
   "source": [
    "`-` 행렬곱"
   ]
  },
  {
   "cell_type": "code",
   "execution_count": 125,
   "id": "7918e60a-5424-4279-b20b-39a839a503d2",
   "metadata": {},
   "outputs": [
    {
     "data": {
      "text/plain": [
       "array([[1., 0.],\n",
       "       [0., 1.]])"
      ]
     },
     "execution_count": 125,
     "metadata": {},
     "output_type": "execute_result"
    }
   ],
   "source": [
    "np.linalg.inv(A) @ A"
   ]
  },
  {
   "cell_type": "markdown",
   "id": "0b87b155-8397-4176-9b51-82a43edbbbcb",
   "metadata": {},
   "source": [
    "# 연립방정식"
   ]
  },
  {
   "cell_type": "markdown",
   "id": "045ae124-e5d7-47de-80b0-b56d85a494bd",
   "metadata": {},
   "source": [
    "$$\\begin{cases}y+z+w =3 \\\\\n",
    "              x+z+w=3 \\\\\n",
    "              x+y+w=3 \\\\\n",
    "              x+y+z =3\\end{cases}$$"
   ]
  },
  {
   "cell_type": "markdown",
   "id": "84999aba-9398-40e0-be92-84117be73c85",
   "metadata": {},
   "source": [
    "`-` 위를 행렬로 표현"
   ]
  },
  {
   "cell_type": "markdown",
   "id": "fc59e7e9-4650-4559-8756-ea9510ad95a9",
   "metadata": {},
   "source": [
    "$$\\begin{bmatrix} 0 & 1 & 1 & 1\\\\ \n",
    "                  1 & 0 & 1 & 1\\\\\n",
    "                  1 & 1 & 0 & 1\\\\\n",
    "                  1 & 1 & 1 & 0\n",
    "\\end{bmatrix} \\begin{bmatrix} x \\\\ y \\\\ z \\\\ w \\end{bmatrix} =\\begin{bmatrix} 3 \\\\ 3 \\\\ 3 \\\\ 3  \\end{bmatrix} $$"
   ]
  },
  {
   "cell_type": "markdown",
   "id": "8e460bbb-5fbf-4cc8-aced-919b1699cd92",
   "metadata": {},
   "source": [
    "## 풀이"
   ]
  },
  {
   "cell_type": "code",
   "execution_count": 138,
   "id": "f04c6d36-f0d2-4ba4-85fe-e35a5b4a91b9",
   "metadata": {},
   "outputs": [],
   "source": [
    "A = [[0,1,1,1],[1,0,1,1],[1,1,0,1],[1,1,1,0]]"
   ]
  },
  {
   "cell_type": "code",
   "execution_count": 139,
   "id": "712e9f67-a079-4c94-a837-1c98e15e66e2",
   "metadata": {},
   "outputs": [],
   "source": [
    "A = np.array(A)"
   ]
  },
  {
   "cell_type": "code",
   "execution_count": 141,
   "id": "98db9b87-a9a3-49db-8f54-0425841fb9e9",
   "metadata": {},
   "outputs": [],
   "source": [
    "b = np.array([3,3,3,3]).reshape(4,1)"
   ]
  },
  {
   "cell_type": "code",
   "execution_count": 143,
   "id": "1ae4c674-da87-4213-ae72-cba369b10241",
   "metadata": {},
   "outputs": [
    {
     "data": {
      "text/plain": [
       "array([[1.],\n",
       "       [1.],\n",
       "       [1.],\n",
       "       [1.]])"
      ]
     },
     "execution_count": 143,
     "metadata": {},
     "output_type": "execute_result"
    }
   ],
   "source": [
    "np.linalg.inv(A) @ b"
   ]
  },
  {
   "cell_type": "markdown",
   "id": "865f48f4-2dab-4d14-8812-f1fe388eb04f",
   "metadata": {},
   "source": [
    "# Exercise 1"
   ]
  },
  {
   "cell_type": "markdown",
   "id": "af57c312-bb33-4207-a6e2-28272edf0991",
   "metadata": {},
   "source": [
    "## (1) 차원이 0인 array새성"
   ]
  },
  {
   "cell_type": "markdown",
   "id": "c7425567-5b64-4500-8012-a9b9f923b479",
   "metadata": {},
   "source": [
    "### sol"
   ]
  },
  {
   "cell_type": "code",
   "execution_count": 146,
   "id": "f1216498-8c18-4a80-8ac8-1d5a5ca9e059",
   "metadata": {},
   "outputs": [
    {
     "data": {
      "text/plain": [
       "()"
      ]
     },
     "execution_count": 146,
     "metadata": {},
     "output_type": "execute_result"
    }
   ],
   "source": [
    "np.array(0).shape"
   ]
  },
  {
   "cell_type": "markdown",
   "id": "0a2b3a64-27d4-432a-91e3-157f50e9d445",
   "metadata": {},
   "source": [
    "## (2) a의 모든 원소에 1을 더하는 코드 작성"
   ]
  },
  {
   "cell_type": "code",
   "execution_count": 147,
   "id": "a9510597-4c12-404e-9f4a-813a28cf296e",
   "metadata": {},
   "outputs": [],
   "source": [
    "a=[1,3,2,5,-3,3,8,2,3,1] "
   ]
  },
  {
   "cell_type": "markdown",
   "id": "73a41ef0-0ea2-444e-b02a-56653f4dec9d",
   "metadata": {},
   "source": [
    "### sol"
   ]
  },
  {
   "cell_type": "code",
   "execution_count": 148,
   "id": "6489f45d-ccb1-422c-8fcd-9b69c5696e79",
   "metadata": {},
   "outputs": [
    {
     "data": {
      "text/plain": [
       "array([ 2,  4,  3,  6, -2,  4,  9,  3,  4,  2])"
      ]
     },
     "execution_count": 148,
     "metadata": {},
     "output_type": "execute_result"
    }
   ],
   "source": [
    "np.array(a)+1"
   ]
  },
  {
   "cell_type": "markdown",
   "id": "555421f6-94d1-4b9b-b34f-a162ab97de1a",
   "metadata": {},
   "source": [
    "## (3) 아래와 같은 수열 생성하고 1,4,7,10...번째의 원소를 뽑기"
   ]
  },
  {
   "cell_type": "markdown",
   "id": "bf96ae76-281c-4061-9150-37d0bc6ee9be",
   "metadata": {},
   "source": [
    "$0,1,2,3,4,...99$"
   ]
  },
  {
   "cell_type": "markdown",
   "id": "cd53bf73-de5c-4969-ac0b-90d1394c82e4",
   "metadata": {},
   "source": [
    "### sol"
   ]
  },
  {
   "cell_type": "code",
   "execution_count": 151,
   "id": "b9334f46-a191-4e22-9528-f9ffcc1ea6db",
   "metadata": {},
   "outputs": [
    {
     "data": {
      "text/plain": [
       "array([ 0,  3,  6,  9, 12, 15, 18, 21, 24, 27, 30, 33, 36, 39, 42, 45, 48,\n",
       "       51, 54, 57, 60, 63, 66, 69, 72, 75, 78, 81, 84, 87, 90, 93, 96, 99])"
      ]
     },
     "execution_count": 151,
     "metadata": {},
     "output_type": "execute_result"
    }
   ],
   "source": [
    "np.arange(100)[::3]"
   ]
  },
  {
   "cell_type": "markdown",
   "id": "553b7245-78de-44a6-a8e4-4cb9acf3d2ff",
   "metadata": {},
   "source": [
    "## (4) shape(5,5)인 단위행렬을 만들기"
   ]
  },
  {
   "cell_type": "markdown",
   "id": "96a7a49b-ac42-43c3-a71f-483d59a8ebbb",
   "metadata": {},
   "source": [
    "### sol"
   ]
  },
  {
   "cell_type": "code",
   "execution_count": 152,
   "id": "69d65c76-6ef2-40da-8798-90c53d9610de",
   "metadata": {},
   "outputs": [
    {
     "data": {
      "text/plain": [
       "array([[1., 0., 0., 0., 0.],\n",
       "       [0., 1., 0., 0., 0.],\n",
       "       [0., 0., 1., 0., 0.],\n",
       "       [0., 0., 0., 1., 0.],\n",
       "       [0., 0., 0., 0., 1.]])"
      ]
     },
     "execution_count": 152,
     "metadata": {},
     "output_type": "execute_result"
    }
   ],
   "source": [
    "np.eye(5)"
   ]
  },
  {
   "cell_type": "markdown",
   "id": "8cb0a6ec-78f0-4668-8edd-f1071c742270",
   "metadata": {},
   "source": [
    "## (5) numpy을 이용하여 아래의 역행렬을 구하기"
   ]
  },
  {
   "cell_type": "code",
   "execution_count": 154,
   "id": "eebf5e15-fb46-4546-98c1-374e767fbd63",
   "metadata": {},
   "outputs": [],
   "source": [
    "a= np.array([[1,0],[0,3]])"
   ]
  },
  {
   "cell_type": "code",
   "execution_count": 155,
   "id": "14745238-5949-4ee3-9d41-9ae70b9259a8",
   "metadata": {},
   "outputs": [
    {
     "data": {
      "text/plain": [
       "array([[1, 0],\n",
       "       [0, 3]])"
      ]
     },
     "execution_count": 155,
     "metadata": {},
     "output_type": "execute_result"
    }
   ],
   "source": [
    "a"
   ]
  },
  {
   "cell_type": "markdown",
   "id": "f4344d12-e43a-444e-9921-4b79cfae702c",
   "metadata": {},
   "source": [
    "### sol"
   ]
  },
  {
   "cell_type": "code",
   "execution_count": 156,
   "id": "fc2794d8-3bd5-49c2-9b97-f8e2c493971d",
   "metadata": {},
   "outputs": [
    {
     "data": {
      "text/plain": [
       "array([[1.        , 0.        ],\n",
       "       [0.        , 0.33333333]])"
      ]
     },
     "execution_count": 156,
     "metadata": {},
     "output_type": "execute_result"
    }
   ],
   "source": [
    "np.linalg.inv(a)"
   ]
  },
  {
   "cell_type": "markdown",
   "id": "10f5ff98-cf69-4ec9-a14d-debc24b86eb3",
   "metadata": {},
   "source": [
    "## (6) 표준정규분포에서 난수를 생성하고 절대값이 1.96보다 큰값의 개수"
   ]
  },
  {
   "cell_type": "markdown",
   "id": "48d7c89f-b07b-4764-870b-6ca58c99ca78",
   "metadata": {},
   "source": [
    "### sol"
   ]
  },
  {
   "cell_type": "code",
   "execution_count": 157,
   "id": "443618ce-067b-40af-b852-201670b18a62",
   "metadata": {},
   "outputs": [],
   "source": [
    "x = np.random.randn(1000)"
   ]
  },
  {
   "cell_type": "code",
   "execution_count": 161,
   "id": "b76b5b64-bcf2-4d21-9310-75460ff75c05",
   "metadata": {},
   "outputs": [
    {
     "data": {
      "text/plain": [
       "45"
      ]
     },
     "execution_count": 161,
     "metadata": {},
     "output_type": "execute_result"
    }
   ],
   "source": [
    "sum(abs(x)>1.96)"
   ]
  },
  {
   "cell_type": "markdown",
   "id": "7fe3ce0e-70bb-40b2-bd05-c885bca1c56e",
   "metadata": {},
   "source": [
    "# (7) a에서 20,21,22는 몇개가 있는가?"
   ]
  },
  {
   "cell_type": "code",
   "execution_count": 162,
   "id": "f0dd8e9e-7566-4e82-a225-ac2d2f217a49",
   "metadata": {},
   "outputs": [],
   "source": [
    "a=np.random.randint(low=20,high=25,size=(10,10))"
   ]
  },
  {
   "cell_type": "code",
   "execution_count": 165,
   "id": "8f324f06-a922-4370-bcaa-56359f846044",
   "metadata": {},
   "outputs": [],
   "source": [
    "#?np.random.randint"
   ]
  },
  {
   "cell_type": "markdown",
   "id": "0953b21e-49f7-4cfd-981a-b8274475e462",
   "metadata": {},
   "source": [
    "## sol"
   ]
  },
  {
   "cell_type": "code",
   "execution_count": 169,
   "id": "f23a8f69-b3b8-4393-b0fa-a22960ff5c41",
   "metadata": {},
   "outputs": [
    {
     "data": {
      "text/plain": [
       "(28, 18, 22)"
      ]
     },
     "execution_count": 169,
     "metadata": {},
     "output_type": "execute_result"
    }
   ],
   "source": [
    "(a==20).sum(),(a==21).sum(),(a==22).sum()"
   ]
  },
  {
   "cell_type": "markdown",
   "id": "9f479885-7b16-4cbf-9808-43d9f12c22c6",
   "metadata": {},
   "source": [
    "# (8) 아래의 코드를 단위행렬로 변환"
   ]
  },
  {
   "cell_type": "code",
   "execution_count": 170,
   "id": "bdcfd82c-f7a5-412c-b848-5073178f1b2e",
   "metadata": {},
   "outputs": [
    {
     "data": {
      "text/plain": [
       "[[True, False, False, False, False],\n",
       " [False, True, False, False, False],\n",
       " [False, False, True, False, False],\n",
       " [False, False, False, True, False],\n",
       " [False, False, False, False, True]]"
      ]
     },
     "execution_count": 170,
     "metadata": {},
     "output_type": "execute_result"
    }
   ],
   "source": [
    "lst = [[i==j for i in range(5)] for j in range(5)]\n",
    "lst"
   ]
  },
  {
   "cell_type": "markdown",
   "id": "5dcc7a6d-af3b-46db-8a3c-853dce83df37",
   "metadata": {},
   "source": [
    "## sol"
   ]
  },
  {
   "cell_type": "code",
   "execution_count": 237,
   "id": "ed646e38-a5d8-4d96-9ea0-49a898782b47",
   "metadata": {},
   "outputs": [
    {
     "data": {
      "text/plain": [
       "array([[1, 0, 0, 0, 0],\n",
       "       [0, 1, 0, 0, 0],\n",
       "       [0, 0, 1, 0, 0],\n",
       "       [0, 0, 0, 1, 0],\n",
       "       [0, 0, 0, 0, 1]])"
      ]
     },
     "execution_count": 237,
     "metadata": {},
     "output_type": "execute_result"
    }
   ],
   "source": [
    "np.array(lst)*1"
   ]
  },
  {
   "cell_type": "markdown",
   "id": "62772850-7613-4318-a83b-1c7a9e407501",
   "metadata": {},
   "source": [
    "# (9) 다음과 같은 행렬을 선언하라"
   ]
  },
  {
   "cell_type": "markdown",
   "id": "6d173ce3-d44a-418b-a565-a945f04690d9",
   "metadata": {},
   "source": [
    "```\n",
    "[[0, 1, 2, 3, 4],\n",
    " [1, 2, 3, 4, 5],\n",
    " [2, 3, 4, 5, 6],\n",
    " [3, 4, 5, 6, 7],\n",
    " [4, 5, 6, 7, 8]]\n",
    "```"
   ]
  },
  {
   "cell_type": "markdown",
   "id": "2f533245-6a29-4438-8dd1-5cf48c330a33",
   "metadata": {},
   "source": [
    "## sol"
   ]
  },
  {
   "cell_type": "code",
   "execution_count": 242,
   "id": "ca48050f-0c37-4842-b1e0-612c194627dc",
   "metadata": {},
   "outputs": [],
   "source": [
    "lst = [[i+j for i in range(0,5)] for j in range(0,5)]"
   ]
  },
  {
   "cell_type": "code",
   "execution_count": 244,
   "id": "ed3caed2-eaa3-45ad-980f-c7206e20e5f0",
   "metadata": {},
   "outputs": [
    {
     "data": {
      "text/plain": [
       "array([[0, 1, 2, 3, 4],\n",
       "       [1, 2, 3, 4, 5],\n",
       "       [2, 3, 4, 5, 6],\n",
       "       [3, 4, 5, 6, 7],\n",
       "       [4, 5, 6, 7, 8]])"
      ]
     },
     "execution_count": 244,
     "metadata": {},
     "output_type": "execute_result"
    }
   ],
   "source": [
    "np.array(lst)"
   ]
  },
  {
   "cell_type": "markdown",
   "id": "19648e9c-0f85-4d5c-af4f-040eb00cb8ed",
   "metadata": {},
   "source": [
    "# (10) 아래와 같은 행렬선언"
   ]
  },
  {
   "cell_type": "markdown",
   "id": "3f5fb464-7115-4c7c-9b8b-6f9043bd175b",
   "metadata": {},
   "source": [
    "```\n",
    "array([[1, 1, 0, 0, 0, 0, 0, 0, 0, 0],\n",
    "       [1, 1, 1, 0, 0, 0, 0, 0, 0, 0],\n",
    "       [0, 1, 1, 1, 0, 0, 0, 0, 0, 0],\n",
    "       [0, 0, 1, 1, 1, 0, 0, 0, 0, 0],\n",
    "       [0, 0, 0, 1, 1, 1, 0, 0, 0, 0],\n",
    "       [0, 0, 0, 0, 1, 1, 1, 0, 0, 0],\n",
    "       [0, 0, 0, 0, 0, 1, 1, 1, 0, 0],\n",
    "       [0, 0, 0, 0, 0, 0, 1, 1, 1, 0],\n",
    "       [0, 0, 0, 0, 0, 0, 0, 1, 1, 1],\n",
    "       [0, 0, 0, 0, 0, 0, 0, 0, 1, 1]])\n",
    "```"
   ]
  },
  {
   "cell_type": "markdown",
   "id": "f5f4d9fe-9f47-45da-a0c3-da8f588baa4b",
   "metadata": {},
   "source": [
    "## sol"
   ]
  },
  {
   "cell_type": "code",
   "execution_count": 249,
   "id": "66ddd807-ede0-467e-9ed5-d178eee84d06",
   "metadata": {},
   "outputs": [
    {
     "data": {
      "text/plain": [
       "array([[1, 1, 0, 0, 0, 0, 0, 0, 0, 0],\n",
       "       [1, 1, 1, 0, 0, 0, 0, 0, 0, 0],\n",
       "       [0, 1, 1, 1, 0, 0, 0, 0, 0, 0],\n",
       "       [0, 0, 1, 1, 1, 0, 0, 0, 0, 0],\n",
       "       [0, 0, 0, 1, 1, 1, 0, 0, 0, 0],\n",
       "       [0, 0, 0, 0, 1, 1, 1, 0, 0, 0],\n",
       "       [0, 0, 0, 0, 0, 1, 1, 1, 0, 0],\n",
       "       [0, 0, 0, 0, 0, 0, 1, 1, 1, 0],\n",
       "       [0, 0, 0, 0, 0, 0, 0, 1, 1, 1],\n",
       "       [0, 0, 0, 0, 0, 0, 0, 0, 1, 1]])"
      ]
     },
     "execution_count": 249,
     "metadata": {},
     "output_type": "execute_result"
    }
   ],
   "source": [
    "np.array([[abs(i-j)<2 for i in range(10)] for j in range(10)])*1"
   ]
  },
  {
   "cell_type": "markdown",
   "id": "234573bc-f019-4d03-aded-30d7a21e399c",
   "metadata": {},
   "source": [
    "# 축"
   ]
  },
  {
   "cell_type": "markdown",
   "id": "4a9ee926-aa1f-4865-a286-15657be6f881",
   "metadata": {},
   "source": [
    "## np.concatenate"
   ]
  },
  {
   "cell_type": "code",
   "execution_count": 250,
   "id": "27272352-25ad-4654-aaf9-41178739c6b3",
   "metadata": {},
   "outputs": [],
   "source": [
    "a = np.array([1,2,3])"
   ]
  },
  {
   "cell_type": "code",
   "execution_count": 251,
   "id": "5a9c8ece-92da-4cf9-9ebc-90fa7aa7a5a9",
   "metadata": {},
   "outputs": [],
   "source": [
    "b= -a"
   ]
  },
  {
   "cell_type": "code",
   "execution_count": 253,
   "id": "6027dd88-0e97-4fb2-a4a5-e6c4e3506fec",
   "metadata": {},
   "outputs": [
    {
     "data": {
      "text/plain": [
       "array([ 1,  2,  3, -1, -2, -3])"
      ]
     },
     "execution_count": 253,
     "metadata": {},
     "output_type": "execute_result"
    }
   ],
   "source": [
    "np.concatenate([a,b])"
   ]
  },
  {
   "cell_type": "markdown",
   "id": "1831f00d-3ad1-4c8b-a195-3ebfd9853dd1",
   "metadata": {},
   "source": [
    "`-` 2차원"
   ]
  },
  {
   "cell_type": "code",
   "execution_count": 254,
   "id": "cbc21c72-6d2a-4b91-a137-f94b13f45170",
   "metadata": {},
   "outputs": [],
   "source": [
    "a = np.array([1,2,3,4]).reshape(2,2)\n",
    "b = -a"
   ]
  },
  {
   "cell_type": "code",
   "execution_count": 255,
   "id": "c999e85a-ad35-4907-9e05-95e7a4f0fe03",
   "metadata": {},
   "outputs": [
    {
     "data": {
      "text/plain": [
       "array([[ 1,  2],\n",
       "       [ 3,  4],\n",
       "       [-1, -2],\n",
       "       [-3, -4]])"
      ]
     },
     "execution_count": 255,
     "metadata": {},
     "output_type": "execute_result"
    }
   ],
   "source": [
    "np.concatenate([a,b])"
   ]
  },
  {
   "cell_type": "code",
   "execution_count": 257,
   "id": "ae1b610c-4aec-449b-98c1-d9ea684c8c14",
   "metadata": {},
   "outputs": [
    {
     "data": {
      "text/plain": [
       "(4, 2)"
      ]
     },
     "execution_count": 257,
     "metadata": {},
     "output_type": "execute_result"
    }
   ],
   "source": [
    "np.concatenate([a,b]).shape"
   ]
  },
  {
   "cell_type": "code",
   "execution_count": 256,
   "id": "a11a2a30-8b7d-46c2-bd89-dedd476c3624",
   "metadata": {},
   "outputs": [
    {
     "data": {
      "text/plain": [
       "array([[ 1,  2, -1, -2],\n",
       "       [ 3,  4, -3, -4]])"
      ]
     },
     "execution_count": 256,
     "metadata": {},
     "output_type": "execute_result"
    }
   ],
   "source": [
    "np.concatenate([a,b],axis=1)"
   ]
  },
  {
   "cell_type": "code",
   "execution_count": 259,
   "id": "8c57584a-f90e-4329-98f7-8f2d79bd12c6",
   "metadata": {},
   "outputs": [
    {
     "data": {
      "text/plain": [
       "(2, 4)"
      ]
     },
     "execution_count": 259,
     "metadata": {},
     "output_type": "execute_result"
    }
   ],
   "source": [
    "np.concatenate([a,b],axis=1).shape"
   ]
  },
  {
   "cell_type": "markdown",
   "id": "6dca4b96-83bf-46e6-a054-e7b1790b5e6f",
   "metadata": {},
   "source": [
    "`-` 3차원"
   ]
  },
  {
   "cell_type": "code",
   "execution_count": 260,
   "id": "c6ecc7e8-edd7-4455-8c9c-38f8fd7a2aa7",
   "metadata": {},
   "outputs": [],
   "source": [
    "a = np.arange(24).reshape(2,3,-1)"
   ]
  },
  {
   "cell_type": "code",
   "execution_count": 261,
   "id": "11d9eae1-c147-4cf0-99a8-3969acb7e18b",
   "metadata": {},
   "outputs": [],
   "source": [
    "b= -a"
   ]
  },
  {
   "cell_type": "code",
   "execution_count": 264,
   "id": "e0fa3eee-1d30-48a6-b949-d6d7320f689a",
   "metadata": {},
   "outputs": [
    {
     "data": {
      "text/plain": [
       "((2, 3, 4), (2, 3, 4))"
      ]
     },
     "execution_count": 264,
     "metadata": {},
     "output_type": "execute_result"
    }
   ],
   "source": [
    "a.shape, b.shape"
   ]
  },
  {
   "cell_type": "code",
   "execution_count": 266,
   "id": "a5ab755a-55b1-4e4e-b829-72c49ef6f766",
   "metadata": {},
   "outputs": [],
   "source": [
    "c = np.concatenate([a,b])"
   ]
  },
  {
   "cell_type": "code",
   "execution_count": 269,
   "id": "0b12c750-84ed-4c2c-9c09-637e03a5a64e",
   "metadata": {},
   "outputs": [
    {
     "data": {
      "text/plain": [
       "(array([[[  0,   1,   2,   3],\n",
       "         [  4,   5,   6,   7],\n",
       "         [  8,   9,  10,  11]],\n",
       " \n",
       "        [[ 12,  13,  14,  15],\n",
       "         [ 16,  17,  18,  19],\n",
       "         [ 20,  21,  22,  23]],\n",
       " \n",
       "        [[  0,  -1,  -2,  -3],\n",
       "         [ -4,  -5,  -6,  -7],\n",
       "         [ -8,  -9, -10, -11]],\n",
       " \n",
       "        [[-12, -13, -14, -15],\n",
       "         [-16, -17, -18, -19],\n",
       "         [-20, -21, -22, -23]]]),\n",
       " (4, 3, 4))"
      ]
     },
     "execution_count": 269,
     "metadata": {},
     "output_type": "execute_result"
    }
   ],
   "source": [
    "c,c.shape"
   ]
  },
  {
   "cell_type": "code",
   "execution_count": 270,
   "id": "ddd43627-4731-445b-907f-eb0c99b6b775",
   "metadata": {},
   "outputs": [],
   "source": [
    "c = np.concatenate([a,b],axis=1)"
   ]
  },
  {
   "cell_type": "code",
   "execution_count": 271,
   "id": "159e3045-89d3-412c-b0a9-2f410dbd2e5a",
   "metadata": {},
   "outputs": [
    {
     "data": {
      "text/plain": [
       "(2, 6, 4)"
      ]
     },
     "execution_count": 271,
     "metadata": {},
     "output_type": "execute_result"
    }
   ],
   "source": [
    "c.shape"
   ]
  },
  {
   "cell_type": "code",
   "execution_count": 272,
   "id": "8d2113c3-d189-4f8d-8b77-4ffc6f2282e9",
   "metadata": {},
   "outputs": [],
   "source": [
    "c = np.concatenate([a,b],axis=2)"
   ]
  },
  {
   "cell_type": "code",
   "execution_count": 273,
   "id": "e71403bf-f350-4417-b524-c99e49c11bbd",
   "metadata": {},
   "outputs": [
    {
     "data": {
      "text/plain": [
       "(2, 3, 8)"
      ]
     },
     "execution_count": 273,
     "metadata": {},
     "output_type": "execute_result"
    }
   ],
   "source": [
    "c.shape"
   ]
  },
  {
   "cell_type": "markdown",
   "id": "ceec84d2-f14b-42a5-97be-86bf823b13d5",
   "metadata": {},
   "source": [
    "## np.stack"
   ]
  },
  {
   "cell_type": "code",
   "execution_count": 276,
   "id": "a2bf34c1-16d6-417d-b5e0-f5cfd8d22e0e",
   "metadata": {},
   "outputs": [],
   "source": [
    "a = np.array([1,2,3])\n",
    "b = -a"
   ]
  },
  {
   "cell_type": "markdown",
   "id": "9cbf40a3-fbd9-4b7c-a5e3-db4c3527d65a",
   "metadata": {},
   "source": [
    "`-` (2,3) 행렬 만들기"
   ]
  },
  {
   "cell_type": "code",
   "execution_count": 281,
   "id": "7d7db5bf-7c09-470f-90da-7c4ab291dcf9",
   "metadata": {},
   "outputs": [
    {
     "data": {
      "text/plain": [
       "array([ 1,  2,  3, -1, -2, -3])"
      ]
     },
     "execution_count": 281,
     "metadata": {},
     "output_type": "execute_result"
    }
   ],
   "source": [
    "np.concatenate([a,b],axis=0) ## 실패"
   ]
  },
  {
   "cell_type": "code",
   "execution_count": 295,
   "id": "e54440e2-392b-4b13-b06a-ef838b96dbbd",
   "metadata": {},
   "outputs": [
    {
     "data": {
      "text/plain": [
       "array([[[[  0,   1,   2,   3,   4],\n",
       "         [  5,   6,   7,   8,   9],\n",
       "         [ 10,  11,  12,  13,  14],\n",
       "         [ 15,  16,  17,  18,  19]],\n",
       "\n",
       "        [[ 20,  21,  22,  23,  24],\n",
       "         [ 25,  26,  27,  28,  29],\n",
       "         [ 30,  31,  32,  33,  34],\n",
       "         [ 35,  36,  37,  38,  39]],\n",
       "\n",
       "        [[ 40,  41,  42,  43,  44],\n",
       "         [ 45,  46,  47,  48,  49],\n",
       "         [ 50,  51,  52,  53,  54],\n",
       "         [ 55,  56,  57,  58,  59]]],\n",
       "\n",
       "\n",
       "       [[[  0,  -1,  -2,  -3,  -4],\n",
       "         [ -5,  -6,  -7,  -8,  -9],\n",
       "         [-10, -11, -12, -13, -14],\n",
       "         [-15, -16, -17, -18, -19]],\n",
       "\n",
       "        [[-20, -21, -22, -23, -24],\n",
       "         [-25, -26, -27, -28, -29],\n",
       "         [-30, -31, -32, -33, -34],\n",
       "         [-35, -36, -37, -38, -39]],\n",
       "\n",
       "        [[-40, -41, -42, -43, -44],\n",
       "         [-45, -46, -47, -48, -49],\n",
       "         [-50, -51, -52, -53, -54],\n",
       "         [-55, -56, -57, -58, -59]]]])"
      ]
     },
     "execution_count": 295,
     "metadata": {},
     "output_type": "execute_result"
    }
   ],
   "source": [
    "np.stack([a,b])"
   ]
  },
  {
   "cell_type": "markdown",
   "id": "03012411-c45e-4958-8028-095d2795bc8b",
   "metadata": {},
   "source": [
    "`-` 실패의 이유 : a와 b는 길이가 3인 벡터이기 때문"
   ]
  },
  {
   "cell_type": "code",
   "execution_count": 284,
   "id": "7e990a13-f8a8-45fa-a946-847a43cac12d",
   "metadata": {},
   "outputs": [
    {
     "data": {
      "text/plain": [
       "(3,)"
      ]
     },
     "execution_count": 284,
     "metadata": {},
     "output_type": "execute_result"
    }
   ],
   "source": [
    "a.shape"
   ]
  },
  {
   "cell_type": "code",
   "execution_count": 286,
   "id": "d17be29b-7eff-4ee1-81ed-702cf85e8f80",
   "metadata": {},
   "outputs": [
    {
     "data": {
      "text/plain": [
       "array([[ 1,  2,  3],\n",
       "       [-1, -2, -3]])"
      ]
     },
     "execution_count": 286,
     "metadata": {},
     "output_type": "execute_result"
    }
   ],
   "source": [
    "np.concatenate([a.reshape(1,3),b.reshape(1,3)],axis=0) ## 실패"
   ]
  },
  {
   "cell_type": "markdown",
   "id": "ba513c04-d005-48c3-9393-6d007688df1f",
   "metadata": {},
   "source": [
    "`-` `3,2`행렬"
   ]
  },
  {
   "cell_type": "code",
   "execution_count": 287,
   "id": "a7763de8-d4dc-4ee9-ac05-7061a6e37d6c",
   "metadata": {},
   "outputs": [
    {
     "data": {
      "text/plain": [
       "array([[ 1, -1],\n",
       "       [ 2, -2],\n",
       "       [ 3, -3]])"
      ]
     },
     "execution_count": 287,
     "metadata": {},
     "output_type": "execute_result"
    }
   ],
   "source": [
    "np.stack([a,b],axis=1)"
   ]
  },
  {
   "cell_type": "markdown",
   "id": "e1dfce24-6ba7-4b6d-a671-34c6f3ceee5b",
   "metadata": {},
   "source": [
    "## 기타"
   ]
  },
  {
   "cell_type": "code",
   "execution_count": 311,
   "id": "721f1a27-1615-49b0-b603-5508d1d514bf",
   "metadata": {},
   "outputs": [],
   "source": [
    "a = np.arange(1*2*3).reshape(1,2,3)\n",
    "b= -a"
   ]
  },
  {
   "cell_type": "code",
   "execution_count": 312,
   "id": "af867931-134e-4293-8b5c-ca4e2b213c0c",
   "metadata": {},
   "outputs": [
    {
     "data": {
      "text/plain": [
       "((1, 2, 3), (1, 2, 3))"
      ]
     },
     "execution_count": 312,
     "metadata": {},
     "output_type": "execute_result"
    }
   ],
   "source": [
    "a.shape, b.shape"
   ]
  },
  {
   "cell_type": "markdown",
   "id": "155e7371-3a0f-4928-b771-7dcb72a8f57c",
   "metadata": {},
   "source": [
    "`-` 첫 위치에 축이 추가됨"
   ]
  },
  {
   "cell_type": "code",
   "execution_count": 315,
   "id": "0a6603a7-0377-4094-af34-48ed60191b4f",
   "metadata": {},
   "outputs": [
    {
     "data": {
      "text/plain": [
       "array([[[0, 1, 2],\n",
       "        [3, 4, 5]]])"
      ]
     },
     "execution_count": 315,
     "metadata": {},
     "output_type": "execute_result"
    }
   ],
   "source": [
    "a"
   ]
  },
  {
   "cell_type": "code",
   "execution_count": 316,
   "id": "c595b07f-9a6e-4c34-b0ff-c4c8c5ee10db",
   "metadata": {},
   "outputs": [
    {
     "data": {
      "text/plain": [
       "array([[[ 0, -1, -2],\n",
       "        [-3, -4, -5]]])"
      ]
     },
     "execution_count": 316,
     "metadata": {},
     "output_type": "execute_result"
    }
   ],
   "source": [
    "b"
   ]
  },
  {
   "cell_type": "code",
   "execution_count": 313,
   "id": "ffb5cded-3bb4-4496-862b-7d85961cf3b2",
   "metadata": {},
   "outputs": [
    {
     "data": {
      "text/plain": [
       "array([[[[ 0,  1,  2],\n",
       "         [ 3,  4,  5]]],\n",
       "\n",
       "\n",
       "       [[[ 0, -1, -2],\n",
       "         [-3, -4, -5]]]])"
      ]
     },
     "execution_count": 313,
     "metadata": {},
     "output_type": "execute_result"
    }
   ],
   "source": [
    "np.stack([a,b])"
   ]
  },
  {
   "cell_type": "code",
   "execution_count": 329,
   "id": "25918fa8-4deb-4b20-bd1a-c38d18dba2b3",
   "metadata": {},
   "outputs": [
    {
     "data": {
      "text/plain": [
       "((1, 2, 3), (1, 2, 3))"
      ]
     },
     "execution_count": 329,
     "metadata": {},
     "output_type": "execute_result"
    }
   ],
   "source": [
    "a.shape, b.shape"
   ]
  },
  {
   "cell_type": "code",
   "execution_count": 327,
   "id": "cccd3aa1-e6c3-4078-ad48-f226392d7707",
   "metadata": {},
   "outputs": [
    {
     "data": {
      "text/plain": [
       "(2, 1, 2, 3)"
      ]
     },
     "execution_count": 327,
     "metadata": {},
     "output_type": "execute_result"
    }
   ],
   "source": [
    "np.stack([a,b]).shape"
   ]
  },
  {
   "cell_type": "code",
   "execution_count": 323,
   "id": "49a922d1-991f-439e-9fed-bd48b4a81fa4",
   "metadata": {},
   "outputs": [
    {
     "data": {
      "text/plain": [
       "(1, 2, 2, 3)"
      ]
     },
     "execution_count": 323,
     "metadata": {},
     "output_type": "execute_result"
    }
   ],
   "source": [
    "np.stack([a,b],axis=1).shape"
   ]
  },
  {
   "cell_type": "code",
   "execution_count": 324,
   "id": "2ccfc943-b768-4ce7-828e-6e93b32b4721",
   "metadata": {},
   "outputs": [
    {
     "data": {
      "text/plain": [
       "(1, 2, 2, 3)"
      ]
     },
     "execution_count": 324,
     "metadata": {},
     "output_type": "execute_result"
    }
   ],
   "source": [
    "np.stack([a,b],axis=2).shape"
   ]
  },
  {
   "cell_type": "code",
   "execution_count": 325,
   "id": "7339dee4-08ce-4501-90e1-9bcaae90721f",
   "metadata": {},
   "outputs": [
    {
     "data": {
      "text/plain": [
       "(1, 2, 3, 2)"
      ]
     },
     "execution_count": 325,
     "metadata": {},
     "output_type": "execute_result"
    }
   ],
   "source": [
    "np.stack([a,b],axis=3).shape"
   ]
  },
  {
   "cell_type": "markdown",
   "id": "ecf197e4-70a8-4df8-b3f2-9af01f3fc377",
   "metadata": {},
   "source": [
    "`-` **np.concatenate**는 축의 총 갯수를 유지하면서 결합, **np.stack**는 축을 하나 새로 만들어서 결합한다."
   ]
  },
  {
   "cell_type": "markdown",
   "id": "a64e0240-9317-478e-9f9a-fb9beacb3016",
   "metadata": {},
   "source": [
    "## sum"
   ]
  },
  {
   "cell_type": "markdown",
   "id": "f69e8a35-0d48-4189-9d62-b03ebe58c4b7",
   "metadata": {},
   "source": [
    "`-` 1차원"
   ]
  },
  {
   "cell_type": "code",
   "execution_count": 330,
   "id": "dda82d5c-6db9-473e-bff3-9aa7657b97a0",
   "metadata": {},
   "outputs": [],
   "source": [
    "a = np.array([1,2,3])"
   ]
  },
  {
   "cell_type": "code",
   "execution_count": 331,
   "id": "bd72090c-6fc8-406a-ae3e-ce49da8de213",
   "metadata": {},
   "outputs": [
    {
     "data": {
      "text/plain": [
       "array([1, 2, 3])"
      ]
     },
     "execution_count": 331,
     "metadata": {},
     "output_type": "execute_result"
    }
   ],
   "source": [
    "a"
   ]
  },
  {
   "cell_type": "code",
   "execution_count": 332,
   "id": "78f466ae-753f-486d-8178-ca3921b0024f",
   "metadata": {},
   "outputs": [
    {
     "data": {
      "text/plain": [
       "6"
      ]
     },
     "execution_count": 332,
     "metadata": {},
     "output_type": "execute_result"
    }
   ],
   "source": [
    "a.sum()"
   ]
  },
  {
   "cell_type": "markdown",
   "id": "7f5231aa-0273-483a-9237-753ddb954261",
   "metadata": {},
   "source": [
    "`-` 2차원 array일 경우"
   ]
  },
  {
   "cell_type": "code",
   "execution_count": 334,
   "id": "0ae733dc-a654-45eb-ae38-9b8cf7ff9d82",
   "metadata": {},
   "outputs": [],
   "source": [
    "a = np.arange(4*3).reshape(4,3)"
   ]
  },
  {
   "cell_type": "code",
   "execution_count": 335,
   "id": "fd29191d-a353-4446-bbbc-eec8be173200",
   "metadata": {},
   "outputs": [
    {
     "data": {
      "text/plain": [
       "array([[ 0,  1,  2],\n",
       "       [ 3,  4,  5],\n",
       "       [ 6,  7,  8],\n",
       "       [ 9, 10, 11]])"
      ]
     },
     "execution_count": 335,
     "metadata": {},
     "output_type": "execute_result"
    }
   ],
   "source": [
    "a"
   ]
  },
  {
   "cell_type": "code",
   "execution_count": 337,
   "id": "38e484f4-6c04-427f-88fa-a131140118c0",
   "metadata": {},
   "outputs": [
    {
     "data": {
      "text/plain": [
       "66"
      ]
     },
     "execution_count": 337,
     "metadata": {},
     "output_type": "execute_result"
    }
   ],
   "source": [
    "a.sum() ## 전체 합을 구해줌"
   ]
  },
  {
   "cell_type": "code",
   "execution_count": 340,
   "id": "3b82c88f-d1c3-44a0-af28-b75b29fab244",
   "metadata": {},
   "outputs": [
    {
     "data": {
      "text/plain": [
       "array([ 3, 12, 21, 30])"
      ]
     },
     "execution_count": 340,
     "metadata": {},
     "output_type": "execute_result"
    }
   ],
   "source": [
    "a.sum(axis=1) ## 각 행의 합 계산"
   ]
  },
  {
   "cell_type": "code",
   "execution_count": 342,
   "id": "59adca3b-93ed-4826-b9cd-3a214f49ca75",
   "metadata": {},
   "outputs": [
    {
     "data": {
      "text/plain": [
       "array([18, 22, 26])"
      ]
     },
     "execution_count": 342,
     "metadata": {},
     "output_type": "execute_result"
    }
   ],
   "source": [
    "a.sum(axis=0) # 각 열의 합 계산"
   ]
  },
  {
   "cell_type": "markdown",
   "id": "ddd2a51d-4d5a-4f65-a6e4-2df868999d8e",
   "metadata": {},
   "source": [
    "## mean"
   ]
  },
  {
   "cell_type": "code",
   "execution_count": 347,
   "id": "d1275c18-0215-4a29-869a-201578c3d672",
   "metadata": {},
   "outputs": [
    {
     "data": {
      "text/plain": [
       "array([[ 0,  1,  2],\n",
       "       [ 3,  4,  5],\n",
       "       [ 6,  7,  8],\n",
       "       [ 9, 10, 11]])"
      ]
     },
     "execution_count": 347,
     "metadata": {},
     "output_type": "execute_result"
    }
   ],
   "source": [
    "a"
   ]
  },
  {
   "cell_type": "code",
   "execution_count": 348,
   "id": "1d5b713c-8253-4462-84b7-30e9e4349777",
   "metadata": {},
   "outputs": [
    {
     "data": {
      "text/plain": [
       "5.5"
      ]
     },
     "execution_count": 348,
     "metadata": {},
     "output_type": "execute_result"
    }
   ],
   "source": [
    "a.mean()"
   ]
  },
  {
   "cell_type": "code",
   "execution_count": 350,
   "id": "89ab55aa-9adc-4e9f-bd88-04038b38ca1e",
   "metadata": {},
   "outputs": [
    {
     "data": {
      "text/plain": [
       "array([4.5, 5.5, 6.5])"
      ]
     },
     "execution_count": 350,
     "metadata": {},
     "output_type": "execute_result"
    }
   ],
   "source": [
    "a.mean(axis=0)"
   ]
  },
  {
   "cell_type": "code",
   "execution_count": 351,
   "id": "00618b65-1486-49ad-98fa-8f8a6679821a",
   "metadata": {},
   "outputs": [
    {
     "data": {
      "text/plain": [
       "array([ 1.,  4.,  7., 10.])"
      ]
     },
     "execution_count": 351,
     "metadata": {},
     "output_type": "execute_result"
    }
   ],
   "source": [
    "a.mean(axis=1)"
   ]
  },
  {
   "cell_type": "markdown",
   "id": "8e25b1e3-cebe-4fee-bb78-3980e385210a",
   "metadata": {},
   "source": [
    "## std"
   ]
  },
  {
   "cell_type": "code",
   "execution_count": 353,
   "id": "6bbe97a3-bc96-4393-b799-93dc33cd58f1",
   "metadata": {},
   "outputs": [
    {
     "data": {
      "text/plain": [
       "array([3.35410197, 3.35410197, 3.35410197])"
      ]
     },
     "execution_count": 353,
     "metadata": {},
     "output_type": "execute_result"
    }
   ],
   "source": [
    "a.std(axis=0)"
   ]
  },
  {
   "cell_type": "code",
   "execution_count": 354,
   "id": "5ed8ca61-867b-474a-b47d-eabfe42917bf",
   "metadata": {},
   "outputs": [
    {
     "data": {
      "text/plain": [
       "array([0.81649658, 0.81649658, 0.81649658, 0.81649658])"
      ]
     },
     "execution_count": 354,
     "metadata": {},
     "output_type": "execute_result"
    }
   ],
   "source": [
    "a.std(axis=1)"
   ]
  },
  {
   "cell_type": "markdown",
   "id": "147448ad-fb0d-4ad9-afcd-b516aa3c176b",
   "metadata": {},
   "source": [
    "`-` 참고 : 분모를 $n$이 아니라 $n-1$로 나누고 싶다면 아래와 같이 사용 "
   ]
  },
  {
   "cell_type": "code",
   "execution_count": 364,
   "id": "3665d6e0-48ed-4486-847c-1e06c99bf2e4",
   "metadata": {},
   "outputs": [
    {
     "data": {
      "text/plain": [
       "array([[ 0,  1,  2],\n",
       "       [ 3,  4,  5],\n",
       "       [ 6,  7,  8],\n",
       "       [ 9, 10, 11]])"
      ]
     },
     "execution_count": 364,
     "metadata": {},
     "output_type": "execute_result"
    }
   ],
   "source": [
    "a"
   ]
  },
  {
   "cell_type": "code",
   "execution_count": 361,
   "id": "d95f649d-9f71-44a5-a19a-7c57be634ff4",
   "metadata": {},
   "outputs": [
    {
     "data": {
      "text/plain": [
       "array([1., 1., 1., 1.])"
      ]
     },
     "execution_count": 361,
     "metadata": {},
     "output_type": "execute_result"
    }
   ],
   "source": [
    "a.std(axis=1,ddof=1)"
   ]
  },
  {
   "cell_type": "code",
   "execution_count": 363,
   "id": "98189608-b6a7-4f48-b27e-3b6299844950",
   "metadata": {},
   "outputs": [
    {
     "data": {
      "text/plain": [
       "array([3.87298335, 3.87298335, 3.87298335])"
      ]
     },
     "execution_count": 363,
     "metadata": {},
     "output_type": "execute_result"
    }
   ],
   "source": [
    "a.std(axis=0,ddof=1)"
   ]
  },
  {
   "cell_type": "markdown",
   "id": "f0cabcc0-3d55-4993-b289-f1288177d5e0",
   "metadata": {},
   "source": [
    "## max,min"
   ]
  },
  {
   "cell_type": "code",
   "execution_count": 356,
   "id": "9295a956-cc32-4a32-9428-0e09ef03d11b",
   "metadata": {},
   "outputs": [
    {
     "data": {
      "text/plain": [
       "array([ 9, 10, 11])"
      ]
     },
     "execution_count": 356,
     "metadata": {},
     "output_type": "execute_result"
    }
   ],
   "source": [
    "a.max(axis=0)"
   ]
  },
  {
   "cell_type": "code",
   "execution_count": 357,
   "id": "da9c1e0f-44f5-4a1a-b29f-339e3928563d",
   "metadata": {},
   "outputs": [
    {
     "data": {
      "text/plain": [
       "array([ 2,  5,  8, 11])"
      ]
     },
     "execution_count": 357,
     "metadata": {},
     "output_type": "execute_result"
    }
   ],
   "source": [
    "a.max(axis=1)"
   ]
  },
  {
   "cell_type": "code",
   "execution_count": 358,
   "id": "d0b9d02d-afba-4b0c-9eeb-8ba0f2028ffb",
   "metadata": {},
   "outputs": [
    {
     "data": {
      "text/plain": [
       "array([0, 1, 2])"
      ]
     },
     "execution_count": 358,
     "metadata": {},
     "output_type": "execute_result"
    }
   ],
   "source": [
    "a.min(axis=0)"
   ]
  },
  {
   "cell_type": "code",
   "execution_count": 359,
   "id": "1c535d32-7b39-4329-84c4-72a6d046d413",
   "metadata": {},
   "outputs": [
    {
     "data": {
      "text/plain": [
       "array([0, 3, 6, 9])"
      ]
     },
     "execution_count": 359,
     "metadata": {},
     "output_type": "execute_result"
    }
   ],
   "source": [
    "a.min(axis=1)"
   ]
  },
  {
   "cell_type": "markdown",
   "id": "af347bd7-da2e-4e96-a871-83bddc596742",
   "metadata": {},
   "source": [
    "## prod"
   ]
  },
  {
   "cell_type": "code",
   "execution_count": 366,
   "id": "fbaf0ef0-ca37-42d4-ab49-c6678dd98026",
   "metadata": {},
   "outputs": [
    {
     "data": {
      "text/plain": [
       "array([[ 0,  1,  2],\n",
       "       [ 3,  4,  5],\n",
       "       [ 6,  7,  8],\n",
       "       [ 9, 10, 11]])"
      ]
     },
     "execution_count": 366,
     "metadata": {},
     "output_type": "execute_result"
    }
   ],
   "source": [
    "a"
   ]
  },
  {
   "cell_type": "code",
   "execution_count": 367,
   "id": "c7914603-e4d1-430e-81de-9352bdda49d7",
   "metadata": {},
   "outputs": [
    {
     "data": {
      "text/plain": [
       "array([  0, 280, 880])"
      ]
     },
     "execution_count": 367,
     "metadata": {},
     "output_type": "execute_result"
    }
   ],
   "source": [
    "a.prod(axis=0)"
   ]
  },
  {
   "cell_type": "code",
   "execution_count": 368,
   "id": "1fae926e-3dc8-4140-98ce-6a13b739ded2",
   "metadata": {},
   "outputs": [
    {
     "data": {
      "text/plain": [
       "array([  0,  60, 336, 990])"
      ]
     },
     "execution_count": 368,
     "metadata": {},
     "output_type": "execute_result"
    }
   ],
   "source": [
    "a.prod(axis=1)"
   ]
  },
  {
   "cell_type": "markdown",
   "id": "b377a738-409d-41b5-a8b8-23cf6fcb8fde",
   "metadata": {},
   "source": [
    "## argmax, argmin"
   ]
  },
  {
   "cell_type": "markdown",
   "id": "03157e90-30e7-4ddc-8a82-2d81ad619a49",
   "metadata": {},
   "source": [
    "`-` 아래와 같은 행렬 `a`를 고려"
   ]
  },
  {
   "cell_type": "code",
   "execution_count": 390,
   "id": "29bbd631-b673-4552-90a7-20ee2d78a9fd",
   "metadata": {},
   "outputs": [],
   "source": [
    "a = np.random.randn(15).reshape(5,3)\n",
    "a = np.stack(\n",
    "      [np.array(i)/i.sum() for i in a]) ## 각 행의 요소들을 행합으로 나눔 \n",
    "a = a.round(2)"
   ]
  },
  {
   "cell_type": "code",
   "execution_count": 391,
   "id": "cb78bcdd-038a-4b3f-b61f-076a56a69bea",
   "metadata": {},
   "outputs": [
    {
     "data": {
      "text/plain": [
       "array([[ 0.63,  0.08,  0.3 ],\n",
       "       [-0.07,  0.49,  0.58],\n",
       "       [-0.49,  1.47,  0.01],\n",
       "       [ 0.46,  0.38,  0.17],\n",
       "       [ 0.13,  0.29,  0.58]])"
      ]
     },
     "execution_count": 391,
     "metadata": {},
     "output_type": "execute_result"
    }
   ],
   "source": [
    "a"
   ]
  },
  {
   "cell_type": "markdown",
   "id": "49df5dc1-0baf-4a31-b4eb-3c6b0e26b4ba",
   "metadata": {},
   "source": [
    "`-` **np.argmax** 각 행이나 열이라, 최대값을 가지는 인덱스를 반환"
   ]
  },
  {
   "cell_type": "code",
   "execution_count": 392,
   "id": "c2c05b80-449b-4679-95f2-2efe3c4f4bdd",
   "metadata": {},
   "outputs": [
    {
     "data": {
      "text/plain": [
       "array([0, 2, 1, 0, 2], dtype=int64)"
      ]
     },
     "execution_count": 392,
     "metadata": {},
     "output_type": "execute_result"
    }
   ],
   "source": [
    "np.argmax(a,axis=1)"
   ]
  },
  {
   "cell_type": "markdown",
   "id": "65a34cfb-e22c-4cf3-8ebf-92fa1e222663",
   "metadata": {},
   "source": [
    "# exercise"
   ]
  },
  {
   "cell_type": "markdown",
   "id": "fe6b947f-0510-49ab-9f65-fe293a51c0ec",
   "metadata": {},
   "source": [
    "## (1) 다음의 배열을 결합하라."
   ]
  },
  {
   "cell_type": "code",
   "execution_count": 396,
   "id": "426b8456-c30d-4dd1-8747-faff8fcc06e7",
   "metadata": {},
   "outputs": [],
   "source": [
    "a=np.array([1]*10)\n",
    "b=np.array([2]*10)"
   ]
  },
  {
   "cell_type": "markdown",
   "id": "02eb8958-f58f-4bd6-8c2b-62f714a0d418",
   "metadata": {},
   "source": [
    "### sol"
   ]
  },
  {
   "cell_type": "code",
   "execution_count": 397,
   "id": "8cf52e4a-6178-47b9-a262-3708f740fa10",
   "metadata": {},
   "outputs": [
    {
     "data": {
      "text/plain": [
       "array([1, 1, 1, 1, 1, 1, 1, 1, 1, 1, 2, 2, 2, 2, 2, 2, 2, 2, 2, 2])"
      ]
     },
     "execution_count": 397,
     "metadata": {},
     "output_type": "execute_result"
    }
   ],
   "source": [
    "np.concatenate([a,b])"
   ]
  },
  {
   "cell_type": "markdown",
   "id": "b6493624-ffd3-457d-a13e-ca4ab04d8ea5",
   "metadata": {},
   "source": [
    "## (2) a,b와 np.concatenate를 이용하여 아래와 같은 배열을 만들어라."
   ]
  },
  {
   "cell_type": "code",
   "execution_count": 398,
   "id": "301617a2-2b81-47dc-a8f4-e330a260c9ae",
   "metadata": {},
   "outputs": [],
   "source": [
    "a=np.array([1]*10)\n",
    "b=np.array([2]*10)"
   ]
  },
  {
   "cell_type": "markdown",
   "id": "994af55b-d4c1-4b1a-b5cf-85adea6af3ff",
   "metadata": {},
   "source": [
    "```python\n",
    "array([[1],\n",
    "       [1],\n",
    "       [1],\n",
    "       [1],\n",
    "       [1],\n",
    "       [1],\n",
    "       [1],\n",
    "       [1],\n",
    "       [1],\n",
    "       [1],\n",
    "       [2],\n",
    "       [2],\n",
    "       [2],\n",
    "       [2],\n",
    "       [2],\n",
    "       [2],\n",
    "       [2],\n",
    "       [2],\n",
    "       [2],\n",
    "       [2]])\n",
    "```"
   ]
  },
  {
   "cell_type": "markdown",
   "id": "586a1ed4-0dec-449f-a8a8-a024bc44d91f",
   "metadata": {},
   "source": [
    "### sol"
   ]
  },
  {
   "cell_type": "code",
   "execution_count": 406,
   "id": "8196ff76-7198-4151-8b7d-c775fd3e8be8",
   "metadata": {},
   "outputs": [
    {
     "data": {
      "text/plain": [
       "array([1, 1, 1, 1, 1, 1, 1, 1, 1, 1])"
      ]
     },
     "execution_count": 406,
     "metadata": {},
     "output_type": "execute_result"
    }
   ],
   "source": [
    "a"
   ]
  },
  {
   "cell_type": "code",
   "execution_count": 405,
   "id": "f8f15709-6181-4647-834e-76e908bde7cb",
   "metadata": {},
   "outputs": [
    {
     "data": {
      "text/plain": [
       "array([[1],\n",
       "       [1],\n",
       "       [1],\n",
       "       [1],\n",
       "       [1],\n",
       "       [1],\n",
       "       [1],\n",
       "       [1],\n",
       "       [1],\n",
       "       [1],\n",
       "       [2],\n",
       "       [2],\n",
       "       [2],\n",
       "       [2],\n",
       "       [2],\n",
       "       [2],\n",
       "       [2],\n",
       "       [2],\n",
       "       [2],\n",
       "       [2]])"
      ]
     },
     "execution_count": 405,
     "metadata": {},
     "output_type": "execute_result"
    }
   ],
   "source": [
    "np.concatenate([a.reshape(-1,1),b.reshape(-1,1)],axis=0)"
   ]
  },
  {
   "cell_type": "markdown",
   "id": "e19dd471-ff9b-438a-94c1-2cc89370392b",
   "metadata": {},
   "source": [
    "## (3) a,b와 np.concatenate를 이용하여 아래와 같은 배열을 만들어라."
   ]
  },
  {
   "cell_type": "markdown",
   "id": "2b418a2f-4858-4af1-965b-e24f8932a5a4",
   "metadata": {},
   "source": [
    "```python\n",
    "array([[1, 1, 1, 1, 1, 1, 1, 1, 1, 1],\n",
    "       [2, 2, 2, 2, 2, 2, 2, 2, 2, 2]]\n",
    "```"
   ]
  },
  {
   "cell_type": "markdown",
   "id": "d92bb43e-1064-426b-a543-59665b68696b",
   "metadata": {},
   "source": [
    "### sol"
   ]
  },
  {
   "cell_type": "code",
   "execution_count": 410,
   "id": "7c9942fc-7ac5-4daa-8b92-ec253df4ed6e",
   "metadata": {},
   "outputs": [
    {
     "data": {
      "text/plain": [
       "array([1, 1, 1, 1, 1, 1, 1, 1, 1, 1])"
      ]
     },
     "execution_count": 410,
     "metadata": {},
     "output_type": "execute_result"
    }
   ],
   "source": [
    "a"
   ]
  },
  {
   "cell_type": "code",
   "execution_count": 408,
   "id": "b55b37b2-a6de-4992-aaba-bb6a20fd0074",
   "metadata": {},
   "outputs": [
    {
     "data": {
      "text/plain": [
       "array([2, 2, 2, 2, 2, 2, 2, 2, 2, 2])"
      ]
     },
     "execution_count": 408,
     "metadata": {},
     "output_type": "execute_result"
    }
   ],
   "source": [
    "b"
   ]
  },
  {
   "cell_type": "code",
   "execution_count": 409,
   "id": "ea0073ff-1d8e-4c44-bda0-2158aaecaf03",
   "metadata": {},
   "outputs": [
    {
     "data": {
      "text/plain": [
       "array([[1, 1, 1, 1, 1, 1, 1, 1, 1, 1],\n",
       "       [2, 2, 2, 2, 2, 2, 2, 2, 2, 2]])"
      ]
     },
     "execution_count": 409,
     "metadata": {},
     "output_type": "execute_result"
    }
   ],
   "source": [
    "np.concatenate([[a],[b]])"
   ]
  },
  {
   "cell_type": "markdown",
   "id": "f8780c1e-b04e-4980-92f8-701b217e9162",
   "metadata": {},
   "source": [
    "## (4) a,b와 np.concatenate를 이용하여 아래와 같은 배열을 만들어라."
   ]
  },
  {
   "cell_type": "markdown",
   "id": "c7354475-e6b9-4afd-8a4e-0c1f7409286a",
   "metadata": {},
   "source": [
    "### sol"
   ]
  },
  {
   "cell_type": "markdown",
   "id": "b3718ec6-ccce-457f-994a-b023917f3e64",
   "metadata": {},
   "source": [
    "```python\n",
    "array([[1, 2],\n",
    "       [1, 2],\n",
    "       [1, 2],\n",
    "       [1, 2],\n",
    "       [1, 2],\n",
    "       [1, 2],\n",
    "       [1, 2],\n",
    "       [1, 2],\n",
    "       [1, 2],\n",
    "       [1, 2]])\n",
    "```"
   ]
  },
  {
   "cell_type": "code",
   "execution_count": 411,
   "id": "da4d8a3b-65d9-4670-832a-9557a83a9f1d",
   "metadata": {},
   "outputs": [
    {
     "data": {
      "text/plain": [
       "array([1, 1, 1, 1, 1, 1, 1, 1, 1, 1])"
      ]
     },
     "execution_count": 411,
     "metadata": {},
     "output_type": "execute_result"
    }
   ],
   "source": [
    "a"
   ]
  },
  {
   "cell_type": "code",
   "execution_count": 412,
   "id": "648f68f6-eb03-49d9-9078-cc4f137aad08",
   "metadata": {},
   "outputs": [
    {
     "data": {
      "text/plain": [
       "array([2, 2, 2, 2, 2, 2, 2, 2, 2, 2])"
      ]
     },
     "execution_count": 412,
     "metadata": {},
     "output_type": "execute_result"
    }
   ],
   "source": [
    "b"
   ]
  },
  {
   "cell_type": "code",
   "execution_count": 417,
   "id": "5c247869-9e00-471f-8317-de2e87684611",
   "metadata": {},
   "outputs": [
    {
     "data": {
      "text/plain": [
       "array([[1, 2],\n",
       "       [1, 2],\n",
       "       [1, 2],\n",
       "       [1, 2],\n",
       "       [1, 2],\n",
       "       [1, 2],\n",
       "       [1, 2],\n",
       "       [1, 2],\n",
       "       [1, 2],\n",
       "       [1, 2]])"
      ]
     },
     "execution_count": 417,
     "metadata": {},
     "output_type": "execute_result"
    }
   ],
   "source": [
    "np.concatenate([a.reshape(-1,1),b.reshape(-1,1)],axis=1)"
   ]
  },
  {
   "cell_type": "markdown",
   "id": "3a9fca8b-47c6-4610-a081-f18fc61bffa4",
   "metadata": {},
   "source": [
    "## (5) a,b와 np.stack를 이용하여 아래와 같은 배열을 만들어라."
   ]
  },
  {
   "cell_type": "markdown",
   "id": "ff03bcb9-84f5-4c40-921a-59e85e7d8252",
   "metadata": {},
   "source": [
    "```python\n",
    "array([[1, 1, 1, 1, 1, 1, 1, 1, 1, 1],\n",
    "       [2, 2, 2, 2, 2, 2, 2, 2, 2, 2]]\n",
    "```"
   ]
  },
  {
   "cell_type": "markdown",
   "id": "e0917d6e-76f4-436d-ba31-a2ccde508288",
   "metadata": {},
   "source": [
    "### sol"
   ]
  },
  {
   "cell_type": "code",
   "execution_count": 418,
   "id": "b92f5ab0-f1b0-425a-a465-dcaddee62ab2",
   "metadata": {},
   "outputs": [
    {
     "data": {
      "text/plain": [
       "array([1, 1, 1, 1, 1, 1, 1, 1, 1, 1])"
      ]
     },
     "execution_count": 418,
     "metadata": {},
     "output_type": "execute_result"
    }
   ],
   "source": [
    "a"
   ]
  },
  {
   "cell_type": "code",
   "execution_count": 419,
   "id": "55c1256e-7f6d-43d1-977c-6fa69815c6c8",
   "metadata": {},
   "outputs": [
    {
     "data": {
      "text/plain": [
       "array([2, 2, 2, 2, 2, 2, 2, 2, 2, 2])"
      ]
     },
     "execution_count": 419,
     "metadata": {},
     "output_type": "execute_result"
    }
   ],
   "source": [
    "b"
   ]
  },
  {
   "cell_type": "code",
   "execution_count": 420,
   "id": "79c9d372-d24c-449e-95ea-66f9d94ba232",
   "metadata": {},
   "outputs": [
    {
     "data": {
      "text/plain": [
       "array([[1, 1, 1, 1, 1, 1, 1, 1, 1, 1],\n",
       "       [2, 2, 2, 2, 2, 2, 2, 2, 2, 2]])"
      ]
     },
     "execution_count": 420,
     "metadata": {},
     "output_type": "execute_result"
    }
   ],
   "source": [
    "np.stack([a,b])"
   ]
  },
  {
   "cell_type": "markdown",
   "id": "03a00215-b493-439b-bc9f-352376f588a7",
   "metadata": {},
   "source": [
    "## (6)  a,b와 np.stack을 이용하여 아래와 같은 배열을 만들어라. "
   ]
  },
  {
   "cell_type": "markdown",
   "id": "228b786f-cddb-4b50-8cf2-1038dfbaa1b4",
   "metadata": {},
   "source": [
    "### sol"
   ]
  },
  {
   "cell_type": "markdown",
   "id": "2ac4a7c8-4c79-4ece-9078-1fbb11f9df0b",
   "metadata": {},
   "source": [
    "```python\n",
    "array([[1, 2],\n",
    "       [1, 2],\n",
    "       [1, 2],\n",
    "       [1, 2],\n",
    "       [1, 2],\n",
    "       [1, 2],\n",
    "       [1, 2],\n",
    "       [1, 2],\n",
    "       [1, 2],\n",
    "       [1, 2]])\n",
    "```"
   ]
  },
  {
   "cell_type": "code",
   "execution_count": 421,
   "id": "3bc6a4c7-788b-49b5-93f2-d57885cd49ec",
   "metadata": {},
   "outputs": [
    {
     "data": {
      "text/plain": [
       "array([[1, 2],\n",
       "       [1, 2],\n",
       "       [1, 2],\n",
       "       [1, 2],\n",
       "       [1, 2],\n",
       "       [1, 2],\n",
       "       [1, 2],\n",
       "       [1, 2],\n",
       "       [1, 2],\n",
       "       [1, 2]])"
      ]
     },
     "execution_count": 421,
     "metadata": {},
     "output_type": "execute_result"
    }
   ],
   "source": [
    "np.stack([a,b],axis=1)"
   ]
  },
  {
   "cell_type": "markdown",
   "id": "a4ca0131-953b-4a98-b718-e193f83b0ad1",
   "metadata": {},
   "source": [
    "## (7) 각 행의 합을 구해라"
   ]
  },
  {
   "cell_type": "code",
   "execution_count": 423,
   "id": "1d727f6d-3fb6-4dfa-8c4c-584620a50a0c",
   "metadata": {},
   "outputs": [],
   "source": [
    "np.random.seed(43052)\n",
    "a=np.random.randn(10000).reshape(100,100)"
   ]
  },
  {
   "cell_type": "markdown",
   "id": "be4f1672-220b-4850-8b21-ee18713bf04e",
   "metadata": {},
   "source": [
    "### sol"
   ]
  },
  {
   "cell_type": "code",
   "execution_count": 426,
   "id": "146ff20c-4a8b-446a-87e5-72dd81ae5cbd",
   "metadata": {},
   "outputs": [
    {
     "data": {
      "text/plain": [
       "array([-8.13607922e+00,  9.87120533e+00, -1.41434956e+01, -2.21705363e+00,\n",
       "       -1.45535236e+01, -9.15821678e+00, -2.59866360e+00, -1.54562385e+01,\n",
       "       -1.42005088e+00, -3.51523111e+00,  9.70487578e+00, -1.26229105e+01,\n",
       "        1.66837113e+00,  2.43015457e+00,  2.72990184e+00, -7.99486429e+00,\n",
       "       -8.38305954e-01, -8.45002020e+00, -1.03610098e+00,  2.07251861e+01,\n",
       "        1.11461478e+01,  7.62144075e+00, -7.93734585e+00,  1.82844319e+01,\n",
       "       -2.63562392e+00, -8.97916930e+00, -1.88986183e+00, -9.32477049e+00,\n",
       "       -6.69074565e+00, -1.42463143e+01,  6.45540510e-01,  1.80911488e+00,\n",
       "        2.40997157e+00,  1.63367254e+01,  7.63990677e+00,  8.13524813e+00,\n",
       "        3.97159000e+00, -1.10542949e+00,  4.37564512e-01,  2.87299971e+00,\n",
       "       -4.01016768e+00,  5.71115215e+00, -4.64132698e+00, -9.13987753e+00,\n",
       "       -6.78326000e+00,  3.36308150e+00, -5.13704342e+00, -5.09782466e+00,\n",
       "        6.54192465e-03,  7.19722660e+00, -4.64674820e+00, -9.24124039e+00,\n",
       "        6.73530841e+00,  1.12168921e+00,  1.61615988e+00,  1.37602200e+01,\n",
       "        6.67289840e-01, -2.09578108e+00, -2.81826564e-01, -8.52416541e+00,\n",
       "       -7.21970047e+00,  2.27146777e+01, -1.40341974e+01,  1.69263136e+01,\n",
       "       -1.80568372e+01,  6.52142336e+00, -1.73092812e+01, -1.34999285e+01,\n",
       "       -7.85539317e+00, -4.74940393e-01, -2.75765037e+01,  8.74991555e+00,\n",
       "       -9.77324158e+00,  1.42854121e+01, -1.10130356e+00, -1.39206483e-01,\n",
       "       -1.54638921e+01,  1.36814794e+00,  8.41394160e+00, -2.42153833e+00,\n",
       "       -2.57155344e+01, -6.72423820e+00, -9.49366257e-01,  3.79493472e+00,\n",
       "       -6.23508582e+00,  7.75657189e+00,  9.69403620e+00,  1.46847519e+01,\n",
       "        7.36500792e+00, -2.54755192e+01,  1.22792449e+01, -1.02497847e+01,\n",
       "        1.30452028e+01,  3.92943038e+00, -3.27227585e+00, -1.06633071e+01,\n",
       "       -1.56942302e+01,  8.01451222e+00,  2.81546938e+00,  5.56774384e+00])"
      ]
     },
     "execution_count": 426,
     "metadata": {},
     "output_type": "execute_result"
    }
   ],
   "source": [
    "a.sum(axis=1)"
   ]
  },
  {
   "cell_type": "markdown",
   "id": "db911c76-911e-4eb6-84e9-6bf66d7bb451",
   "metadata": {},
   "source": [
    "## (8) 7의 결과로 나온 배열의 표준편차를 구하라."
   ]
  },
  {
   "cell_type": "markdown",
   "id": "f5d9b04d-3fb7-491d-86db-bf5bf337e11c",
   "metadata": {},
   "source": [
    "### sol"
   ]
  },
  {
   "cell_type": "code",
   "execution_count": 430,
   "id": "33b48bc8-42e2-4368-a2eb-b3ec434366bd",
   "metadata": {},
   "outputs": [
    {
     "data": {
      "text/plain": [
       "array([-8.13607922e+00,  9.87120533e+00, -1.41434956e+01, -2.21705363e+00,\n",
       "       -1.45535236e+01, -9.15821678e+00, -2.59866360e+00, -1.54562385e+01,\n",
       "       -1.42005088e+00, -3.51523111e+00,  9.70487578e+00, -1.26229105e+01,\n",
       "        1.66837113e+00,  2.43015457e+00,  2.72990184e+00, -7.99486429e+00,\n",
       "       -8.38305954e-01, -8.45002020e+00, -1.03610098e+00,  2.07251861e+01,\n",
       "        1.11461478e+01,  7.62144075e+00, -7.93734585e+00,  1.82844319e+01,\n",
       "       -2.63562392e+00, -8.97916930e+00, -1.88986183e+00, -9.32477049e+00,\n",
       "       -6.69074565e+00, -1.42463143e+01,  6.45540510e-01,  1.80911488e+00,\n",
       "        2.40997157e+00,  1.63367254e+01,  7.63990677e+00,  8.13524813e+00,\n",
       "        3.97159000e+00, -1.10542949e+00,  4.37564512e-01,  2.87299971e+00,\n",
       "       -4.01016768e+00,  5.71115215e+00, -4.64132698e+00, -9.13987753e+00,\n",
       "       -6.78326000e+00,  3.36308150e+00, -5.13704342e+00, -5.09782466e+00,\n",
       "        6.54192465e-03,  7.19722660e+00, -4.64674820e+00, -9.24124039e+00,\n",
       "        6.73530841e+00,  1.12168921e+00,  1.61615988e+00,  1.37602200e+01,\n",
       "        6.67289840e-01, -2.09578108e+00, -2.81826564e-01, -8.52416541e+00,\n",
       "       -7.21970047e+00,  2.27146777e+01, -1.40341974e+01,  1.69263136e+01,\n",
       "       -1.80568372e+01,  6.52142336e+00, -1.73092812e+01, -1.34999285e+01,\n",
       "       -7.85539317e+00, -4.74940393e-01, -2.75765037e+01,  8.74991555e+00,\n",
       "       -9.77324158e+00,  1.42854121e+01, -1.10130356e+00, -1.39206483e-01,\n",
       "       -1.54638921e+01,  1.36814794e+00,  8.41394160e+00, -2.42153833e+00,\n",
       "       -2.57155344e+01, -6.72423820e+00, -9.49366257e-01,  3.79493472e+00,\n",
       "       -6.23508582e+00,  7.75657189e+00,  9.69403620e+00,  1.46847519e+01,\n",
       "        7.36500792e+00, -2.54755192e+01,  1.22792449e+01, -1.02497847e+01,\n",
       "        1.30452028e+01,  3.92943038e+00, -3.27227585e+00, -1.06633071e+01,\n",
       "       -1.56942302e+01,  8.01451222e+00,  2.81546938e+00,  5.56774384e+00])"
      ]
     },
     "execution_count": 430,
     "metadata": {},
     "output_type": "execute_result"
    }
   ],
   "source": [
    "a.sum(axis=1)"
   ]
  },
  {
   "cell_type": "markdown",
   "id": "6487e7b4-1288-4903-b9b2-f580141df169",
   "metadata": {},
   "source": [
    "## (9) 각 열의 평균"
   ]
  },
  {
   "cell_type": "markdown",
   "id": "e20684c4-4a9d-4889-ae74-17b82f94f141",
   "metadata": {},
   "source": [
    "### sol"
   ]
  },
  {
   "cell_type": "code",
   "execution_count": 431,
   "id": "54cc7fa2-0b7b-4bba-9f98-4b6c0e027cb1",
   "metadata": {},
   "outputs": [
    {
     "data": {
      "text/plain": [
       "array([ 5.05543481e-03, -8.11250975e-03, -7.27142023e-03,  9.64876493e-02,\n",
       "        5.64186324e-02, -2.22728206e-02,  1.32808256e-04, -9.60905067e-02,\n",
       "        9.42144096e-02, -1.21946518e-01, -2.21878576e-02, -3.77018716e-02,\n",
       "        2.35739166e-03, -1.13202128e-01, -9.00374437e-02, -3.09372275e-02,\n",
       "       -2.18029121e-02,  7.04210003e-02, -4.12563112e-02,  2.58233488e-02,\n",
       "        1.16578817e-01, -1.59430241e-01, -1.53668953e-02,  9.21879710e-02,\n",
       "       -1.11346500e-01, -1.20131585e-01,  5.94139652e-02, -3.27022797e-02,\n",
       "       -1.46466366e-02, -1.78386785e-02, -1.06650333e-01, -9.04542721e-02,\n",
       "       -8.52586244e-02,  5.52166280e-02,  1.94115122e-01,  4.64389603e-02,\n",
       "        5.13636914e-02,  1.11424801e-01, -4.18629084e-02,  9.23822150e-02,\n",
       "       -2.00433998e-02, -5.73784795e-02, -8.79928414e-02, -3.01766235e-02,\n",
       "        6.47256326e-02,  3.14419234e-02, -1.16146865e-01, -1.04800787e-01,\n",
       "        3.17924308e-02,  5.51687322e-02,  1.04913214e-01, -2.79741703e-03,\n",
       "        2.56767141e-01, -1.35620430e-01, -9.59492302e-02,  1.23241275e-01,\n",
       "       -5.26436946e-03, -3.14823093e-02, -4.00286104e-02, -1.48618576e-01,\n",
       "        4.85988487e-02, -1.37972086e-01, -1.04715966e-01, -7.13893940e-02,\n",
       "        4.35483376e-02, -2.10610822e-01, -1.03231108e-01, -1.62132451e-01,\n",
       "        2.85187037e-01, -8.25697744e-02,  4.33723229e-02,  1.32763889e-02,\n",
       "       -1.61919484e-01, -5.07924036e-02,  6.62243327e-02, -9.72863991e-02,\n",
       "        2.71962223e-01, -5.97710822e-02,  1.54580795e-01, -5.46739064e-02,\n",
       "       -1.08611574e-01, -1.56520706e-01, -1.40476317e-01,  1.06067589e-01,\n",
       "       -3.46141736e-02, -6.07673046e-02,  5.33471760e-03,  8.10276105e-02,\n",
       "       -1.31994569e-01, -1.00936968e-02,  6.13944222e-02, -9.72765699e-02,\n",
       "        1.61342793e-01,  1.02634369e-01, -5.03038014e-02, -7.50604837e-02,\n",
       "        2.63992605e-02,  6.98470602e-02, -1.89567885e-01,  7.91910813e-02])"
      ]
     },
     "execution_count": 431,
     "metadata": {},
     "output_type": "execute_result"
    }
   ],
   "source": [
    "a.mean(axis=0)"
   ]
  },
  {
   "cell_type": "markdown",
   "id": "ba678f71-72e9-4c5c-b518-c0586506f8a4",
   "metadata": {},
   "source": [
    "## (10) 9의 결과로 나온 배열의 표준편차를 구하라."
   ]
  },
  {
   "cell_type": "markdown",
   "id": "5a93e2e3-1809-4a7b-9417-493141ba2e8e",
   "metadata": {},
   "source": [
    "### sol"
   ]
  },
  {
   "cell_type": "code",
   "execution_count": 432,
   "id": "932199d2-300d-4655-a219-3f283d659bed",
   "metadata": {},
   "outputs": [
    {
     "data": {
      "text/plain": [
       "0.10030404622647883"
      ]
     },
     "execution_count": 432,
     "metadata": {},
     "output_type": "execute_result"
    }
   ],
   "source": [
    "a.mean(axis=1).std(ddof=1)"
   ]
  }
 ],
 "metadata": {
  "kernelspec": {
   "display_name": "Python 3 (ipykernel)",
   "language": "python",
   "name": "python3"
  },
  "language_info": {
   "codemirror_mode": {
    "name": "ipython",
    "version": 3
   },
   "file_extension": ".py",
   "mimetype": "text/x-python",
   "name": "python",
   "nbconvert_exporter": "python",
   "pygments_lexer": "ipython3",
   "version": "3.11.4"
  }
 },
 "nbformat": 4,
 "nbformat_minor": 5
}
