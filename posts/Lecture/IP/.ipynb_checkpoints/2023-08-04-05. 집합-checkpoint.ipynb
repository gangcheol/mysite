{
 "cells": [
  {
   "cell_type": "raw",
   "id": "0be4591d-89ab-44b6-b4ef-98961e663346",
   "metadata": {},
   "source": [
    "---\n",
    "title : \"05. 집합\"\n",
    "date : \"08/04/23\"\n",
    "categories : [\"Python\"]\n",
    "author : \"GANGCHEOL LEE\"\n",
    "---"
   ]
  },
  {
   "cell_type": "markdown",
   "id": "6cc1cfeb-d22a-4e84-93ec-c942f8d365e2",
   "metadata": {},
   "source": [
    "## basic"
   ]
  },
  {
   "cell_type": "markdown",
   "id": "c1c20b7a-84fc-45ad-941e-d4362643a0e6",
   "metadata": {},
   "source": [
    "## 선언"
   ]
  },
  {
   "cell_type": "code",
   "execution_count": 2,
   "id": "78b68db8-410f-4725-8fb3-9a9518f622c9",
   "metadata": {},
   "outputs": [],
   "source": [
    "s = {\"a\",\"b\"}"
   ]
  },
  {
   "cell_type": "markdown",
   "id": "fb40a877-94ef-40e1-b1fd-4e23ac3210fe",
   "metadata": {},
   "source": [
    "## 원소추출"
   ]
  },
  {
   "cell_type": "markdown",
   "id": "a2cd10fc-6a8c-4523-833f-a3616c956630",
   "metadata": {},
   "source": [
    "`-` 일반 인덱스로는 못한다."
   ]
  },
  {
   "cell_type": "code",
   "execution_count": 3,
   "id": "20e437f7-7cb4-4ff8-8176-d30d1c3b8b35",
   "metadata": {},
   "outputs": [
    {
     "ename": "TypeError",
     "evalue": "'set' object is not subscriptable",
     "output_type": "error",
     "traceback": [
      "\u001b[1;31m---------------------------------------------------------------------------\u001b[0m",
      "\u001b[1;31mTypeError\u001b[0m                                 Traceback (most recent call last)",
      "Cell \u001b[1;32mIn[3], line 1\u001b[0m\n\u001b[1;32m----> 1\u001b[0m s[\u001b[38;5;241m0\u001b[39m]\n",
      "\u001b[1;31mTypeError\u001b[0m: 'set' object is not subscriptable"
     ]
    }
   ],
   "source": [
    "s[0]"
   ]
  },
  {
   "cell_type": "markdown",
   "id": "3b6e77a9-c1b2-402a-9c74-68225ab572a9",
   "metadata": {},
   "source": [
    "`-` 딱히 하는 방법이 없음"
   ]
  },
  {
   "cell_type": "markdown",
   "id": "b5f54b61-48f1-4a62-8504-022bc39ab2d3",
   "metadata": {},
   "source": [
    "`-` 무엇보다 이걸 하는 의미가 없다.(원소에 접근해서 하는거 자체가 무의미한 행위)"
   ]
  },
  {
   "cell_type": "markdown",
   "id": "3bea2ecb-611d-4280-a7f5-7d3f0296bfb3",
   "metadata": {},
   "source": [
    "## 원소 추가"
   ]
  },
  {
   "cell_type": "code",
   "execution_count": 4,
   "id": "a4162f77-bb6b-4941-83e4-a6577a29993d",
   "metadata": {},
   "outputs": [
    {
     "data": {
      "text/plain": [
       "{'a', 'b', 'c'}"
      ]
     },
     "execution_count": 4,
     "metadata": {},
     "output_type": "execute_result"
    }
   ],
   "source": [
    "s.add(\"c\")\n",
    "s"
   ]
  },
  {
   "cell_type": "markdown",
   "id": "e4722bc5-79b4-4eac-bed5-10b2ad290b27",
   "metadata": {},
   "source": [
    "## 원소 삭제"
   ]
  },
  {
   "cell_type": "code",
   "execution_count": 6,
   "id": "d290f647-e615-4997-beeb-452dc2689841",
   "metadata": {},
   "outputs": [],
   "source": [
    "s.remove(\"c\")"
   ]
  },
  {
   "cell_type": "code",
   "execution_count": 7,
   "id": "5c72087d-f7d5-493a-895b-fbe3d4073fc1",
   "metadata": {},
   "outputs": [
    {
     "data": {
      "text/plain": [
       "{'a', 'b'}"
      ]
     },
     "execution_count": 7,
     "metadata": {},
     "output_type": "execute_result"
    }
   ],
   "source": [
    "s"
   ]
  },
  {
   "cell_type": "markdown",
   "id": "582b4830-8cb2-4712-b9af-2e2ecf3c356b",
   "metadata": {},
   "source": [
    "## 연산"
   ]
  },
  {
   "cell_type": "markdown",
   "id": "e2f8f32f-fbfc-487a-8f11-39966cc4bb41",
   "metadata": {},
   "source": [
    "### in"
   ]
  },
  {
   "cell_type": "code",
   "execution_count": 8,
   "id": "c92ef582-8bb1-406f-9f7c-1a4ba0cac3e3",
   "metadata": {},
   "outputs": [
    {
     "data": {
      "text/plain": [
       "True"
      ]
     },
     "execution_count": 8,
     "metadata": {},
     "output_type": "execute_result"
    }
   ],
   "source": [
    "\"a\" in s"
   ]
  },
  {
   "cell_type": "markdown",
   "id": "a0660948-49a6-4952-b0fe-c4bb115254b2",
   "metadata": {},
   "source": [
    "### 합,교,차집합"
   ]
  },
  {
   "cell_type": "code",
   "execution_count": 9,
   "id": "ca7cb152-212c-4b99-ac6e-570603e55c3d",
   "metadata": {},
   "outputs": [],
   "source": [
    "set1 = {\"a\",\"b\",\"c\"}\n",
    "set2 = {\"b\",\"c\",\"d\"}"
   ]
  },
  {
   "cell_type": "markdown",
   "id": "88850aff-46b0-4849-b8c2-c5104ead2551",
   "metadata": {},
   "source": [
    "`-` 합집합"
   ]
  },
  {
   "cell_type": "code",
   "execution_count": 10,
   "id": "12f8f957-5c72-41d1-97ff-5e8f6060b7d5",
   "metadata": {},
   "outputs": [
    {
     "data": {
      "text/plain": [
       "{'a', 'b', 'c', 'd'}"
      ]
     },
     "execution_count": 10,
     "metadata": {},
     "output_type": "execute_result"
    }
   ],
   "source": [
    "set1|set2"
   ]
  },
  {
   "cell_type": "code",
   "execution_count": 19,
   "id": "ab786c1f-8809-4035-a55c-8d77343c9cb2",
   "metadata": {},
   "outputs": [
    {
     "data": {
      "text/plain": [
       "{'a', 'b', 'c', 'd'}"
      ]
     },
     "execution_count": 19,
     "metadata": {},
     "output_type": "execute_result"
    }
   ],
   "source": [
    "set1.union(set2)"
   ]
  },
  {
   "cell_type": "markdown",
   "id": "ba2b2f1e-2063-45a9-a283-32511fbf4867",
   "metadata": {},
   "source": [
    "`-` 교집합"
   ]
  },
  {
   "cell_type": "code",
   "execution_count": 11,
   "id": "eb282ec3-1cd0-4086-959e-4be1eb83def7",
   "metadata": {},
   "outputs": [
    {
     "data": {
      "text/plain": [
       "{'b', 'c'}"
      ]
     },
     "execution_count": 11,
     "metadata": {},
     "output_type": "execute_result"
    }
   ],
   "source": [
    "set1 & set2"
   ]
  },
  {
   "cell_type": "code",
   "execution_count": 21,
   "id": "cd2f708d-e53a-4e4d-90e3-bb924d58f456",
   "metadata": {},
   "outputs": [
    {
     "data": {
      "text/plain": [
       "{'b', 'c'}"
      ]
     },
     "execution_count": 21,
     "metadata": {},
     "output_type": "execute_result"
    }
   ],
   "source": [
    "set1.intersection(set2)"
   ]
  },
  {
   "cell_type": "markdown",
   "id": "908c919a-cf01-4566-b24b-8a467c102f15",
   "metadata": {},
   "source": [
    "`-` 차집합"
   ]
  },
  {
   "cell_type": "code",
   "execution_count": 12,
   "id": "06148387-8aa0-4bfd-b412-da0948346121",
   "metadata": {},
   "outputs": [
    {
     "data": {
      "text/plain": [
       "{'d'}"
      ]
     },
     "execution_count": 12,
     "metadata": {},
     "output_type": "execute_result"
    }
   ],
   "source": [
    "set2-set1"
   ]
  },
  {
   "cell_type": "markdown",
   "id": "48402417-edb3-4262-9cf0-50849dc27e3c",
   "metadata": {},
   "source": [
    "### 부분집합"
   ]
  },
  {
   "cell_type": "code",
   "execution_count": 14,
   "id": "7eb6eccd-7898-4a4a-aaaf-aa0b9af301d3",
   "metadata": {},
   "outputs": [],
   "source": [
    "set3 = set2|set1"
   ]
  },
  {
   "cell_type": "code",
   "execution_count": 17,
   "id": "600ab8a4-dd5d-468f-a877-6eb591fc4166",
   "metadata": {},
   "outputs": [
    {
     "data": {
      "text/plain": [
       "True"
      ]
     },
     "execution_count": 17,
     "metadata": {},
     "output_type": "execute_result"
    }
   ],
   "source": [
    "set1<set3 "
   ]
  },
  {
   "cell_type": "code",
   "execution_count": 18,
   "id": "d11086ba-d424-427f-be76-02235df06bcf",
   "metadata": {},
   "outputs": [
    {
     "data": {
      "text/plain": [
       "True"
      ]
     },
     "execution_count": 18,
     "metadata": {},
     "output_type": "execute_result"
    }
   ],
   "source": [
    "set2<set3"
   ]
  },
  {
   "cell_type": "markdown",
   "id": "99faf95d-126d-4c5b-a049-646d57366386",
   "metadata": {},
   "source": [
    "## for문과 set"
   ]
  },
  {
   "cell_type": "code",
   "execution_count": 28,
   "id": "d6aff3f1-b6c6-4843-9073-86516a5e6f5e",
   "metadata": {},
   "outputs": [
    {
     "name": "stdout",
     "output_type": "stream",
     "text": [
      "b\n",
      "d\n",
      "c\n",
      "a\n"
     ]
    }
   ],
   "source": [
    "for i in set1|set2:\n",
    "    print(i)"
   ]
  },
  {
   "cell_type": "markdown",
   "id": "dd91c14e-f270-4564-8fad-3a53f6c14a3c",
   "metadata": {},
   "source": [
    "# Advanced"
   ]
  },
  {
   "cell_type": "markdown",
   "id": "846de11d-d224-4152-8102-abe7425075e7",
   "metadata": {},
   "source": [
    "`-` set은 중복을 허용하지 않음"
   ]
  },
  {
   "cell_type": "code",
   "execution_count": 32,
   "id": "f8764f1b-ebf2-4846-8a49-fab1df7fa26c",
   "metadata": {},
   "outputs": [
    {
     "data": {
      "text/plain": [
       "{1, 2, 3, 4, 5}"
      ]
     },
     "execution_count": 32,
     "metadata": {},
     "output_type": "execute_result"
    }
   ],
   "source": [
    "lst = [1,2,1,1,3,4,5]\n",
    "set(lst)"
   ]
  },
  {
   "cell_type": "markdown",
   "id": "ebe17b0d-fb96-4a71-9d61-8dfdd3472a81",
   "metadata": {},
   "source": [
    "`-` 다음의 텍스트가 각각 몇번씩 사용되었는지 빈도를 구해라"
   ]
  },
  {
   "cell_type": "code",
   "execution_count": 33,
   "id": "1635e578-d889-449e-889b-52fd0594046b",
   "metadata": {},
   "outputs": [
    {
     "data": {
      "text/plain": [
       "'asdkflkjahsdlkjfhlaksglkjdhflkgjhlskdfjhglkajhsdlkfjhalsdkf'"
      ]
     },
     "execution_count": 33,
     "metadata": {},
     "output_type": "execute_result"
    }
   ],
   "source": [
    "txt = 'asdkflkjahsdlkjfhlaksglkjdhflkgjhlskdfjhglkajhsdlkfjhalsdkf'\n",
    "txt"
   ]
  },
  {
   "cell_type": "code",
   "execution_count": 34,
   "id": "5106bac7-4bc7-40fd-9620-6a8906c0e9d3",
   "metadata": {},
   "outputs": [
    {
     "data": {
      "text/plain": [
       "{'a', 'd', 'f', 'g', 'h', 'j', 'k', 'l', 's'}"
      ]
     },
     "execution_count": 34,
     "metadata": {},
     "output_type": "execute_result"
    }
   ],
   "source": [
    "set(txt)"
   ]
  },
  {
   "cell_type": "markdown",
   "id": "840944e4-1346-42fe-b5fc-14e8f3f7dcee",
   "metadata": {},
   "source": [
    "`-` 예비학습"
   ]
  },
  {
   "cell_type": "code",
   "execution_count": null,
   "id": "38a2d6d6-98b6-49db-adbf-9b8362ffb32c",
   "metadata": {},
   "outputs": [
    {
     "data": {
      "text/plain": [
       "5"
      ]
     },
     "execution_count": 37,
     "metadata": {},
     "output_type": "execute_result"
    }
   ],
   "source": [
    "list(txt).count(\"a\")"
   ]
  },
  {
   "cell_type": "markdown",
   "id": "89013830-b568-405c-902a-451822c320f8",
   "metadata": {},
   "source": [
    "`-` 전체 구현"
   ]
  },
  {
   "cell_type": "code",
   "execution_count": 38,
   "id": "55e9cdd4-3116-49cc-bdcc-7fe2eca2bdd6",
   "metadata": {},
   "outputs": [
    {
     "data": {
      "text/plain": [
       "{'s': 6, 'l': 9, 'j': 7, 'a': 5, 'h': 7, 'd': 6, 'k': 10, 'f': 6, 'g': 3}"
      ]
     },
     "execution_count": 38,
     "metadata": {},
     "output_type": "execute_result"
    }
   ],
   "source": [
    "{k :list(txt).count(k) for k in set(txt)}"
   ]
  },
  {
   "cell_type": "markdown",
   "id": "31d739f6-9489-43ab-b20b-444fe85443e0",
   "metadata": {},
   "source": [
    "# Exercise"
   ]
  },
  {
   "cell_type": "code",
   "execution_count": 39,
   "id": "c25ac2f4-df7b-4097-b437-8115ae7567aa",
   "metadata": {},
   "outputs": [],
   "source": [
    "import requests\n",
    "url = 'https://raw.githubusercontent.com/guebin/PP2023/main/posts/01_PythonBasic/Oxford-IIIT.txt'\n",
    "txt = requests.get(url).content.decode()"
   ]
  },
  {
   "cell_type": "markdown",
   "id": "48e42f19-c220-4470-a1b6-72bc01f29ac6",
   "metadata": {},
   "source": [
    "위 코드는 이미지 파일명들이 저장된 string을 불러오는 코드들이다."
   ]
  },
  {
   "cell_type": "markdown",
   "id": "cb94a494-c69d-449d-8daa-6b2051e43eb8",
   "metadata": {},
   "source": [
    "`-` 이미지파일이 저장된 형식은 아래와 같다."
   ]
  },
  {
   "cell_type": "markdown",
   "id": "dd86521b-ca00-495b-b0cd-b6d7c0fb740e",
   "metadata": {},
   "source": [
    "* Abyssinian_1.jpg\n",
    "\n",
    "* British_Shorthair_129.jpg"
   ]
  },
  {
   "cell_type": "markdown",
   "id": "198ace2e-67cf-41a9-8fb1-9bf9fbe954e9",
   "metadata": {},
   "source": [
    " ## (1) txt를 적당히 변환하여 이미지 라벨만 표시"
   ]
  },
  {
   "cell_type": "markdown",
   "id": "86f454af-3e38-4072-a042-4713432cac01",
   "metadata": {},
   "source": [
    "### sol"
   ]
  },
  {
   "cell_type": "code",
   "execution_count": 48,
   "id": "8d645dc7-2688-4898-8826-a074be5effa4",
   "metadata": {},
   "outputs": [],
   "source": [
    "temp = txt.split(\"\\n\")"
   ]
  },
  {
   "cell_type": "code",
   "execution_count": 52,
   "id": "64593e00-ecf5-4fde-bebf-60e2b9a4a284",
   "metadata": {},
   "outputs": [
    {
     "data": {
      "text/plain": [
       "'Abyssinian'"
      ]
     },
     "execution_count": 52,
     "metadata": {},
     "output_type": "execute_result"
    }
   ],
   "source": [
    "temp[0].split(\"_\")[0]"
   ]
  },
  {
   "cell_type": "code",
   "execution_count": 61,
   "id": "e5e623f5-73d3-4631-8d2c-a946e8e15564",
   "metadata": {},
   "outputs": [],
   "source": [
    "def f(temp):\n",
    "    return [i.split(\"_\")[0] for i in temp]"
   ]
  },
  {
   "cell_type": "code",
   "execution_count": 63,
   "id": "feb0213f-8de0-4f04-8d8a-37c829135c89",
   "metadata": {},
   "outputs": [],
   "source": [
    "lst = f(temp)"
   ]
  },
  {
   "cell_type": "code",
   "execution_count": 65,
   "id": "8aa8f958-e464-47b9-9b77-5e5552593bef",
   "metadata": {},
   "outputs": [
    {
     "data": {
      "text/plain": [
       "['Abyssinian',\n",
       " 'British',\n",
       " 'Russian',\n",
       " 'basset',\n",
       " 'english',\n",
       " 'keeshond',\n",
       " 'pug',\n",
       " 'wheaten']"
      ]
     },
     "execution_count": 65,
     "metadata": {},
     "output_type": "execute_result"
    }
   ],
   "source": [
    "lst[::1000]"
   ]
  },
  {
   "cell_type": "markdown",
   "id": "37901e63-b153-4f2f-a3ef-ee93fb89607f",
   "metadata": {},
   "source": [
    "## (2) 강아지와 고양이의 종류는 몇 가지인가?"
   ]
  },
  {
   "cell_type": "markdown",
   "id": "519cd2c0-2e45-40f9-9c3b-d2b2143e6c1b",
   "metadata": {},
   "source": [
    "### Sol"
   ]
  },
  {
   "cell_type": "markdown",
   "id": "7018fcd7-2a82-4c9b-9b3e-f0db556eb118",
   "metadata": {},
   "source": [
    "`-` 고양이는 대문자, 강아지는 소문자로 시작한다."
   ]
  },
  {
   "cell_type": "code",
   "execution_count": 71,
   "id": "e9116634-3050-40c2-a2fe-172111f20391",
   "metadata": {},
   "outputs": [],
   "source": [
    "set1 = set(lst)"
   ]
  },
  {
   "cell_type": "markdown",
   "id": "b9b99c99-3498-4106-8ae1-e4e3f9e95463",
   "metadata": {},
   "source": [
    "`-` 고양이"
   ]
  },
  {
   "cell_type": "code",
   "execution_count": 75,
   "id": "61591453-294e-4566-af43-db038a70ef3b",
   "metadata": {},
   "outputs": [
    {
     "data": {
      "text/plain": [
       "12"
      ]
     },
     "execution_count": 75,
     "metadata": {},
     "output_type": "execute_result"
    }
   ],
   "source": [
    "[s[0].isupper() for s in set1].count(True)"
   ]
  },
  {
   "cell_type": "markdown",
   "id": "108751fe-4cf6-4bd6-90c7-67f0f270b3fd",
   "metadata": {},
   "source": [
    "`-` 강아지"
   ]
  },
  {
   "cell_type": "code",
   "execution_count": 79,
   "id": "65ed95e8-a6fe-4da2-ab66-2d0b36306fdf",
   "metadata": {},
   "outputs": [
    {
     "data": {
      "text/plain": [
       "23"
      ]
     },
     "execution_count": 79,
     "metadata": {},
     "output_type": "execute_result"
    }
   ],
   "source": [
    "[s[0].isupper() for s in set1].count(False)"
   ]
  },
  {
   "cell_type": "markdown",
   "id": "c9e7284b-39e5-442d-b0e0-f6ab44ff1a8b",
   "metadata": {},
   "source": [
    "## (3) 강아지 종은 dog, 고양이 종은 cat으로 변환"
   ]
  },
  {
   "cell_type": "markdown",
   "id": "c98451bd-36e4-410a-ba4c-49249c4ef77f",
   "metadata": {},
   "source": [
    "### sol"
   ]
  },
  {
   "cell_type": "code",
   "execution_count": 92,
   "id": "0710b91e-f706-4ec1-9def-94088dc64efa",
   "metadata": {},
   "outputs": [],
   "source": [
    "lst2 =[\"cat\"if i[0].isupper() else \"dog\" for i in lst]"
   ]
  },
  {
   "cell_type": "code",
   "execution_count": 93,
   "id": "72a7cef1-f810-4ae1-88b3-c2d349b10149",
   "metadata": {},
   "outputs": [
    {
     "data": {
      "text/plain": [
       "{'cat', 'dog'}"
      ]
     },
     "execution_count": 93,
     "metadata": {},
     "output_type": "execute_result"
    }
   ],
   "source": [
    "set(lst2)"
   ]
  },
  {
   "cell_type": "markdown",
   "id": "f3e0f393-9eed-44e0-afb0-a061cf1d67aa",
   "metadata": {},
   "source": [
    "## (4) 강아지와 고양이 사진은 모두 몇장인가?"
   ]
  },
  {
   "cell_type": "markdown",
   "id": "6f0147d0-743a-4b15-9f52-aa7806ea75fc",
   "metadata": {},
   "source": [
    "### sol"
   ]
  },
  {
   "cell_type": "code",
   "execution_count": 97,
   "id": "afb1b917-0cc4-4a32-ab94-21e354a7dd0a",
   "metadata": {},
   "outputs": [
    {
     "data": {
      "text/plain": [
       "{'dog': 4990, 'cat': 2403}"
      ]
     },
     "execution_count": 97,
     "metadata": {},
     "output_type": "execute_result"
    }
   ],
   "source": [
    "{s:lst2.count(s) for s in set(lst2)}"
   ]
  },
  {
   "cell_type": "markdown",
   "id": "37f76111-5a94-4ba5-b357-026b9acfe195",
   "metadata": {},
   "source": [
    "## (5) txt에 각 종별로 몇장의 사긴이 있는지 조사"
   ]
  },
  {
   "cell_type": "markdown",
   "id": "f12de726-2562-4c6b-9e72-fecd66c550d6",
   "metadata": {},
   "source": [
    "### sol"
   ]
  },
  {
   "cell_type": "code",
   "execution_count": 98,
   "id": "5e06f2e4-d6ae-41bd-8bbd-68583a133f8f",
   "metadata": {},
   "outputs": [
    {
     "data": {
      "text/plain": [
       "{'saint': 200,\n",
       " 'pomeranian': 200,\n",
       " 'newfoundland': 200,\n",
       " 'Sphynx': 200,\n",
       " 'Abyssinian': 203,\n",
       " 'miniature': 200,\n",
       " 'basset': 200,\n",
       " 'Maine': 200,\n",
       " 'beagle': 200,\n",
       " 'japanese': 200,\n",
       " 'Egyptian': 200,\n",
       " 'samoyed': 200,\n",
       " 'keeshond': 200,\n",
       " 'wheaten': 200,\n",
       " 'chihuahua': 200,\n",
       " 'havanese': 200,\n",
       " 'american': 400,\n",
       " 'Persian': 200,\n",
       " 'pug': 200,\n",
       " 'Russian': 200,\n",
       " 'Siamese': 200,\n",
       " 'Bombay': 200,\n",
       " 'english': 400,\n",
       " 'staffordshire': 191,\n",
       " 'boxer': 200,\n",
       " 'Bengal': 200,\n",
       " 'leonberger': 200,\n",
       " 'British': 200,\n",
       " 'scottish': 199,\n",
       " 'shiba': 200,\n",
       " 'yorkshire': 200,\n",
       " 'great': 200,\n",
       " 'german': 200,\n",
       " 'Ragdoll': 200,\n",
       " 'Birman': 200}"
      ]
     },
     "execution_count": 98,
     "metadata": {},
     "output_type": "execute_result"
    }
   ],
   "source": [
    "{s:lst.count(s) for s in set(lst)}"
   ]
  }
 ],
 "metadata": {
  "kernelspec": {
   "display_name": "Python 3 (ipykernel)",
   "language": "python",
   "name": "python3"
  },
  "language_info": {
   "codemirror_mode": {
    "name": "ipython",
    "version": 3
   },
   "file_extension": ".py",
   "mimetype": "text/x-python",
   "name": "python",
   "nbconvert_exporter": "python",
   "pygments_lexer": "ipython3",
   "version": "3.11.4"
  }
 },
 "nbformat": 4,
 "nbformat_minor": 5
}
