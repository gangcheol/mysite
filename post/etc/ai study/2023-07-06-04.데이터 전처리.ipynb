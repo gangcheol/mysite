{
 "cells": [
  {
   "cell_type": "raw",
   "metadata": {},
   "source": [
    "---\n",
    "title : \"04. data processing\"\n",
    "author : \"GANGCHEOL LEE\"\n",
    "date : \"07/06/23\"\n",
    "categories : \"Python\"\n",
    "---"
   ]
  },
  {
   "cell_type": "markdown",
   "metadata": {},
   "source": [
    "# Python 활용한 데이터 전처리\n",
    "\n",
    "데이터 분석/AI 모델링을 위하여 데이터를 정제하는 전처리 방법을 실습해 봅시다.    \n",
    "우선 확보한 데이터를 전처리를 위해 불러옵니다.     \n",
    "AI/DU 포탈의 데이터관리탭에 데이터를 Upload 했다면 아래 코드를 실행하여 JupyterLab 환경으로 불러 올 수 있습니다"
   ]
  },
  {
   "cell_type": "code",
   "execution_count": 169,
   "metadata": {},
   "outputs": [],
   "source": [
    "# #AIDU환경 사용자\n",
    "import pandas as pd\n",
    "\n",
    "# from aicentro.session import Session\n",
    "# from aicentro.framework.keras import Keras as AiduFrm\n",
    "\n",
    "# aidu_session = Session(verify=False)\n",
    "# aidu_framework = AiduFrm(session=aidu_session) \n",
    "\n",
    "# #sc_cust_info_txn.csv대시 AI/DU 포탈내 데이터 관리에 있는 불러오기를 원하는 파일명을 입력해 주면 됩니다. \n",
    "# df = pd.read_csv(aidu_framework.config.data_dir + '/sc_cust_info_txn_v1.5.csv')"
   ]
  },
  {
   "cell_type": "markdown",
   "metadata": {},
   "source": [
    "개별 환경 사용자라면 ipynb 파일과 같은 Workspace에 sc_cust_info_txn_v1.5.csv파일을 넣어서 아래 코드를 실행하여 데이터를 불러 올 수 있습니다. "
   ]
  },
  {
   "cell_type": "code",
   "execution_count": 170,
   "metadata": {},
   "outputs": [],
   "source": [
    "#개별 환경 사용자\n",
    "df=pd.read_csv(\"sc_cust_info_txn_v1.5.csv\")"
   ]
  },
  {
   "cell_type": "code",
   "execution_count": 171,
   "metadata": {},
   "outputs": [
    {
     "data": {
      "text/html": [
       "<div>\n",
       "<style scoped>\n",
       "    .dataframe tbody tr th:only-of-type {\n",
       "        vertical-align: middle;\n",
       "    }\n",
       "\n",
       "    .dataframe tbody tr th {\n",
       "        vertical-align: top;\n",
       "    }\n",
       "\n",
       "    .dataframe thead th {\n",
       "        text-align: right;\n",
       "    }\n",
       "</style>\n",
       "<table border=\"1\" class=\"dataframe\">\n",
       "  <thead>\n",
       "    <tr style=\"text-align: right;\">\n",
       "      <th></th>\n",
       "      <th>base_ym</th>\n",
       "      <th>dpro_tgt_perd_val</th>\n",
       "      <th>cust_ctg_type</th>\n",
       "      <th>cust_class</th>\n",
       "      <th>sex_type</th>\n",
       "      <th>age</th>\n",
       "      <th>efct_svc_count</th>\n",
       "      <th>dt_stop_yn</th>\n",
       "      <th>npay_yn</th>\n",
       "      <th>r3m_avg_bill_amt</th>\n",
       "      <th>r3m_A_avg_arpu_amt</th>\n",
       "      <th>r3m_B_avg_arpu_amt</th>\n",
       "      <th>r6m_A_avg_arpu_amt</th>\n",
       "      <th>r6m_B_avg_arpu_amt</th>\n",
       "      <th>termination_yn</th>\n",
       "    </tr>\n",
       "  </thead>\n",
       "  <tbody>\n",
       "    <tr>\n",
       "      <th>0</th>\n",
       "      <td>202006</td>\n",
       "      <td>20200630</td>\n",
       "      <td>10001</td>\n",
       "      <td>C</td>\n",
       "      <td>F</td>\n",
       "      <td>28</td>\n",
       "      <td>0</td>\n",
       "      <td>N</td>\n",
       "      <td>N</td>\n",
       "      <td>2640.0000</td>\n",
       "      <td>792.000000</td>\n",
       "      <td>1584.0000</td>\n",
       "      <td>0.0</td>\n",
       "      <td>0.0000</td>\n",
       "      <td>Y</td>\n",
       "    </tr>\n",
       "    <tr>\n",
       "      <th>1</th>\n",
       "      <td>202006</td>\n",
       "      <td>20200630</td>\n",
       "      <td>10001</td>\n",
       "      <td>_</td>\n",
       "      <td>_</td>\n",
       "      <td>_</td>\n",
       "      <td>1</td>\n",
       "      <td>N</td>\n",
       "      <td>N</td>\n",
       "      <td>300.0000</td>\n",
       "      <td>90.000000</td>\n",
       "      <td>180.0000</td>\n",
       "      <td>0.0</td>\n",
       "      <td>0.0000</td>\n",
       "      <td>Y</td>\n",
       "    </tr>\n",
       "    <tr>\n",
       "      <th>2</th>\n",
       "      <td>202006</td>\n",
       "      <td>20200630</td>\n",
       "      <td>10001</td>\n",
       "      <td>E</td>\n",
       "      <td>F</td>\n",
       "      <td>24</td>\n",
       "      <td>1</td>\n",
       "      <td>N</td>\n",
       "      <td>N</td>\n",
       "      <td>16840.0000</td>\n",
       "      <td>2526.000000</td>\n",
       "      <td>6983.0000</td>\n",
       "      <td>0.0</td>\n",
       "      <td>6981.0000</td>\n",
       "      <td>N</td>\n",
       "    </tr>\n",
       "    <tr>\n",
       "      <th>3</th>\n",
       "      <td>202006</td>\n",
       "      <td>20200630</td>\n",
       "      <td>10001</td>\n",
       "      <td>F</td>\n",
       "      <td>F</td>\n",
       "      <td>32</td>\n",
       "      <td>1</td>\n",
       "      <td>N</td>\n",
       "      <td>N</td>\n",
       "      <td>15544.7334</td>\n",
       "      <td>2331.710010</td>\n",
       "      <td>6750.4666</td>\n",
       "      <td>0.0</td>\n",
       "      <td>6508.8000</td>\n",
       "      <td>N</td>\n",
       "    </tr>\n",
       "    <tr>\n",
       "      <th>4</th>\n",
       "      <td>202006</td>\n",
       "      <td>20200630</td>\n",
       "      <td>10001</td>\n",
       "      <td>D</td>\n",
       "      <td>M</td>\n",
       "      <td>18</td>\n",
       "      <td>1</td>\n",
       "      <td>N</td>\n",
       "      <td>N</td>\n",
       "      <td>4700.0000</td>\n",
       "      <td>0.000000</td>\n",
       "      <td>4502.0000</td>\n",
       "      <td>0.0</td>\n",
       "      <td>4507.7000</td>\n",
       "      <td>N</td>\n",
       "    </tr>\n",
       "    <tr>\n",
       "      <th>...</th>\n",
       "      <td>...</td>\n",
       "      <td>...</td>\n",
       "      <td>...</td>\n",
       "      <td>...</td>\n",
       "      <td>...</td>\n",
       "      <td>...</td>\n",
       "      <td>...</td>\n",
       "      <td>...</td>\n",
       "      <td>...</td>\n",
       "      <td>...</td>\n",
       "      <td>...</td>\n",
       "      <td>...</td>\n",
       "      <td>...</td>\n",
       "      <td>...</td>\n",
       "      <td>...</td>\n",
       "    </tr>\n",
       "    <tr>\n",
       "      <th>9925</th>\n",
       "      <td>202006</td>\n",
       "      <td>20200630</td>\n",
       "      <td>10001</td>\n",
       "      <td>C</td>\n",
       "      <td>F</td>\n",
       "      <td>15</td>\n",
       "      <td>1</td>\n",
       "      <td>N</td>\n",
       "      <td>Y</td>\n",
       "      <td>1296.0999</td>\n",
       "      <td>194.414985</td>\n",
       "      <td>643.1001</td>\n",
       "      <td>0.0</td>\n",
       "      <td>852.5499</td>\n",
       "      <td>N</td>\n",
       "    </tr>\n",
       "    <tr>\n",
       "      <th>9926</th>\n",
       "      <td>202006</td>\n",
       "      <td>20200630</td>\n",
       "      <td>10001</td>\n",
       "      <td>G</td>\n",
       "      <td>M</td>\n",
       "      <td>12</td>\n",
       "      <td>1</td>\n",
       "      <td>N</td>\n",
       "      <td>N</td>\n",
       "      <td>13799.6666</td>\n",
       "      <td>2069.949990</td>\n",
       "      <td>10605.9266</td>\n",
       "      <td>0.0</td>\n",
       "      <td>10603.9266</td>\n",
       "      <td>N</td>\n",
       "    </tr>\n",
       "    <tr>\n",
       "      <th>9927</th>\n",
       "      <td>202006</td>\n",
       "      <td>20200630</td>\n",
       "      <td>10005</td>\n",
       "      <td>C</td>\n",
       "      <td>_</td>\n",
       "      <td>_</td>\n",
       "      <td>1</td>\n",
       "      <td>N</td>\n",
       "      <td>N</td>\n",
       "      <td>1396.2000</td>\n",
       "      <td>1206.000000</td>\n",
       "      <td>0.0000</td>\n",
       "      <td>1212.0</td>\n",
       "      <td>0.0000</td>\n",
       "      <td>N</td>\n",
       "    </tr>\n",
       "    <tr>\n",
       "      <th>9928</th>\n",
       "      <td>202006</td>\n",
       "      <td>20200630</td>\n",
       "      <td>10001</td>\n",
       "      <td>C</td>\n",
       "      <td>F</td>\n",
       "      <td>40</td>\n",
       "      <td>0</td>\n",
       "      <td>N</td>\n",
       "      <td>N</td>\n",
       "      <td>3140.0000</td>\n",
       "      <td>942.000000</td>\n",
       "      <td>1884.0000</td>\n",
       "      <td>0.0</td>\n",
       "      <td>0.0000</td>\n",
       "      <td>Y</td>\n",
       "    </tr>\n",
       "    <tr>\n",
       "      <th>9929</th>\n",
       "      <td>202006</td>\n",
       "      <td>20200630</td>\n",
       "      <td>10001</td>\n",
       "      <td>C</td>\n",
       "      <td>F</td>\n",
       "      <td>59</td>\n",
       "      <td>1</td>\n",
       "      <td>N</td>\n",
       "      <td>N</td>\n",
       "      <td>2436.9000</td>\n",
       "      <td>365.535000</td>\n",
       "      <td>1839.9000</td>\n",
       "      <td>0.0</td>\n",
       "      <td>1919.7999</td>\n",
       "      <td>N</td>\n",
       "    </tr>\n",
       "  </tbody>\n",
       "</table>\n",
       "<p>9930 rows × 15 columns</p>\n",
       "</div>"
      ],
      "text/plain": [
       "      base_ym  dpro_tgt_perd_val  cust_ctg_type cust_class sex_type age  \\\n",
       "0      202006           20200630          10001          C        F  28   \n",
       "1      202006           20200630          10001          _        _   _   \n",
       "2      202006           20200630          10001          E        F  24   \n",
       "3      202006           20200630          10001          F        F  32   \n",
       "4      202006           20200630          10001          D        M  18   \n",
       "...       ...                ...            ...        ...      ...  ..   \n",
       "9925   202006           20200630          10001          C        F  15   \n",
       "9926   202006           20200630          10001          G        M  12   \n",
       "9927   202006           20200630          10005          C        _   _   \n",
       "9928   202006           20200630          10001          C        F  40   \n",
       "9929   202006           20200630          10001          C        F  59   \n",
       "\n",
       "      efct_svc_count dt_stop_yn npay_yn  r3m_avg_bill_amt  r3m_A_avg_arpu_amt  \\\n",
       "0                  0          N       N         2640.0000          792.000000   \n",
       "1                  1          N       N          300.0000           90.000000   \n",
       "2                  1          N       N        16840.0000         2526.000000   \n",
       "3                  1          N       N        15544.7334         2331.710010   \n",
       "4                  1          N       N         4700.0000            0.000000   \n",
       "...              ...        ...     ...               ...                 ...   \n",
       "9925               1          N       Y         1296.0999          194.414985   \n",
       "9926               1          N       N        13799.6666         2069.949990   \n",
       "9927               1          N       N         1396.2000         1206.000000   \n",
       "9928               0          N       N         3140.0000          942.000000   \n",
       "9929               1          N       N         2436.9000          365.535000   \n",
       "\n",
       "      r3m_B_avg_arpu_amt  r6m_A_avg_arpu_amt  r6m_B_avg_arpu_amt  \\\n",
       "0              1584.0000                 0.0              0.0000   \n",
       "1               180.0000                 0.0              0.0000   \n",
       "2              6983.0000                 0.0           6981.0000   \n",
       "3              6750.4666                 0.0           6508.8000   \n",
       "4              4502.0000                 0.0           4507.7000   \n",
       "...                  ...                 ...                 ...   \n",
       "9925            643.1001                 0.0            852.5499   \n",
       "9926          10605.9266                 0.0          10603.9266   \n",
       "9927              0.0000              1212.0              0.0000   \n",
       "9928           1884.0000                 0.0              0.0000   \n",
       "9929           1839.9000                 0.0           1919.7999   \n",
       "\n",
       "     termination_yn  \n",
       "0                 Y  \n",
       "1                 Y  \n",
       "2                 N  \n",
       "3                 N  \n",
       "4                 N  \n",
       "...             ...  \n",
       "9925              N  \n",
       "9926              N  \n",
       "9927              N  \n",
       "9928              Y  \n",
       "9929              N  \n",
       "\n",
       "[9930 rows x 15 columns]"
      ]
     },
     "execution_count": 171,
     "metadata": {},
     "output_type": "execute_result"
    }
   ],
   "source": [
    "df"
   ]
  },
  {
   "cell_type": "markdown",
   "metadata": {},
   "source": [
    "    "
   ]
  },
  {
   "cell_type": "markdown",
   "metadata": {},
   "source": [
    "## 1. 데이터 탐색하기\n",
    "### 1-1. 데이터 확인하기"
   ]
  },
  {
   "cell_type": "code",
   "execution_count": 172,
   "metadata": {},
   "outputs": [
    {
     "name": "stdout",
     "output_type": "stream",
     "text": [
      "<class 'pandas.core.frame.DataFrame'>\n",
      "RangeIndex: 9930 entries, 0 to 9929\n",
      "Data columns (total 15 columns):\n",
      " #   Column              Non-Null Count  Dtype  \n",
      "---  ------              --------------  -----  \n",
      " 0   base_ym             9930 non-null   int64  \n",
      " 1   dpro_tgt_perd_val   9930 non-null   int64  \n",
      " 2   cust_ctg_type       9930 non-null   int64  \n",
      " 3   cust_class          9930 non-null   object \n",
      " 4   sex_type            9930 non-null   object \n",
      " 5   age                 9930 non-null   object \n",
      " 6   efct_svc_count      9930 non-null   int64  \n",
      " 7   dt_stop_yn          9930 non-null   object \n",
      " 8   npay_yn             9930 non-null   object \n",
      " 9   r3m_avg_bill_amt    9930 non-null   float64\n",
      " 10  r3m_A_avg_arpu_amt  9930 non-null   float64\n",
      " 11  r3m_B_avg_arpu_amt  9930 non-null   float64\n",
      " 12  r6m_A_avg_arpu_amt  9930 non-null   float64\n",
      " 13  r6m_B_avg_arpu_amt  9930 non-null   float64\n",
      " 14  termination_yn      9930 non-null   object \n",
      "dtypes: float64(5), int64(4), object(6)\n",
      "memory usage: 1.1+ MB\n"
     ]
    }
   ],
   "source": [
    "df.info()"
   ]
  },
  {
   "cell_type": "markdown",
   "metadata": {},
   "source": [
    "head와 tail은 sample 데이터 확인이 가능합니다.     "
   ]
  },
  {
   "cell_type": "code",
   "execution_count": 173,
   "metadata": {},
   "outputs": [
    {
     "data": {
      "text/html": [
       "<div>\n",
       "<style scoped>\n",
       "    .dataframe tbody tr th:only-of-type {\n",
       "        vertical-align: middle;\n",
       "    }\n",
       "\n",
       "    .dataframe tbody tr th {\n",
       "        vertical-align: top;\n",
       "    }\n",
       "\n",
       "    .dataframe thead th {\n",
       "        text-align: right;\n",
       "    }\n",
       "</style>\n",
       "<table border=\"1\" class=\"dataframe\">\n",
       "  <thead>\n",
       "    <tr style=\"text-align: right;\">\n",
       "      <th></th>\n",
       "      <th>base_ym</th>\n",
       "      <th>dpro_tgt_perd_val</th>\n",
       "      <th>cust_ctg_type</th>\n",
       "      <th>cust_class</th>\n",
       "      <th>sex_type</th>\n",
       "      <th>age</th>\n",
       "      <th>efct_svc_count</th>\n",
       "      <th>dt_stop_yn</th>\n",
       "      <th>npay_yn</th>\n",
       "      <th>r3m_avg_bill_amt</th>\n",
       "      <th>r3m_A_avg_arpu_amt</th>\n",
       "      <th>r3m_B_avg_arpu_amt</th>\n",
       "      <th>r6m_A_avg_arpu_amt</th>\n",
       "      <th>r6m_B_avg_arpu_amt</th>\n",
       "      <th>termination_yn</th>\n",
       "    </tr>\n",
       "  </thead>\n",
       "  <tbody>\n",
       "    <tr>\n",
       "      <th>0</th>\n",
       "      <td>202006</td>\n",
       "      <td>20200630</td>\n",
       "      <td>10001</td>\n",
       "      <td>C</td>\n",
       "      <td>F</td>\n",
       "      <td>28</td>\n",
       "      <td>0</td>\n",
       "      <td>N</td>\n",
       "      <td>N</td>\n",
       "      <td>2640.0000</td>\n",
       "      <td>792.00000</td>\n",
       "      <td>1584.0000</td>\n",
       "      <td>0.0</td>\n",
       "      <td>0.0</td>\n",
       "      <td>Y</td>\n",
       "    </tr>\n",
       "    <tr>\n",
       "      <th>1</th>\n",
       "      <td>202006</td>\n",
       "      <td>20200630</td>\n",
       "      <td>10001</td>\n",
       "      <td>_</td>\n",
       "      <td>_</td>\n",
       "      <td>_</td>\n",
       "      <td>1</td>\n",
       "      <td>N</td>\n",
       "      <td>N</td>\n",
       "      <td>300.0000</td>\n",
       "      <td>90.00000</td>\n",
       "      <td>180.0000</td>\n",
       "      <td>0.0</td>\n",
       "      <td>0.0</td>\n",
       "      <td>Y</td>\n",
       "    </tr>\n",
       "    <tr>\n",
       "      <th>2</th>\n",
       "      <td>202006</td>\n",
       "      <td>20200630</td>\n",
       "      <td>10001</td>\n",
       "      <td>E</td>\n",
       "      <td>F</td>\n",
       "      <td>24</td>\n",
       "      <td>1</td>\n",
       "      <td>N</td>\n",
       "      <td>N</td>\n",
       "      <td>16840.0000</td>\n",
       "      <td>2526.00000</td>\n",
       "      <td>6983.0000</td>\n",
       "      <td>0.0</td>\n",
       "      <td>6981.0</td>\n",
       "      <td>N</td>\n",
       "    </tr>\n",
       "    <tr>\n",
       "      <th>3</th>\n",
       "      <td>202006</td>\n",
       "      <td>20200630</td>\n",
       "      <td>10001</td>\n",
       "      <td>F</td>\n",
       "      <td>F</td>\n",
       "      <td>32</td>\n",
       "      <td>1</td>\n",
       "      <td>N</td>\n",
       "      <td>N</td>\n",
       "      <td>15544.7334</td>\n",
       "      <td>2331.71001</td>\n",
       "      <td>6750.4666</td>\n",
       "      <td>0.0</td>\n",
       "      <td>6508.8</td>\n",
       "      <td>N</td>\n",
       "    </tr>\n",
       "    <tr>\n",
       "      <th>4</th>\n",
       "      <td>202006</td>\n",
       "      <td>20200630</td>\n",
       "      <td>10001</td>\n",
       "      <td>D</td>\n",
       "      <td>M</td>\n",
       "      <td>18</td>\n",
       "      <td>1</td>\n",
       "      <td>N</td>\n",
       "      <td>N</td>\n",
       "      <td>4700.0000</td>\n",
       "      <td>0.00000</td>\n",
       "      <td>4502.0000</td>\n",
       "      <td>0.0</td>\n",
       "      <td>4507.7</td>\n",
       "      <td>N</td>\n",
       "    </tr>\n",
       "  </tbody>\n",
       "</table>\n",
       "</div>"
      ],
      "text/plain": [
       "   base_ym  dpro_tgt_perd_val  cust_ctg_type cust_class sex_type age  \\\n",
       "0   202006           20200630          10001          C        F  28   \n",
       "1   202006           20200630          10001          _        _   _   \n",
       "2   202006           20200630          10001          E        F  24   \n",
       "3   202006           20200630          10001          F        F  32   \n",
       "4   202006           20200630          10001          D        M  18   \n",
       "\n",
       "   efct_svc_count dt_stop_yn npay_yn  r3m_avg_bill_amt  r3m_A_avg_arpu_amt  \\\n",
       "0               0          N       N         2640.0000           792.00000   \n",
       "1               1          N       N          300.0000            90.00000   \n",
       "2               1          N       N        16840.0000          2526.00000   \n",
       "3               1          N       N        15544.7334          2331.71001   \n",
       "4               1          N       N         4700.0000             0.00000   \n",
       "\n",
       "   r3m_B_avg_arpu_amt  r6m_A_avg_arpu_amt  r6m_B_avg_arpu_amt termination_yn  \n",
       "0           1584.0000                 0.0                 0.0              Y  \n",
       "1            180.0000                 0.0                 0.0              Y  \n",
       "2           6983.0000                 0.0              6981.0              N  \n",
       "3           6750.4666                 0.0              6508.8              N  \n",
       "4           4502.0000                 0.0              4507.7              N  "
      ]
     },
     "execution_count": 173,
     "metadata": {},
     "output_type": "execute_result"
    }
   ],
   "source": [
    "df.head()"
   ]
  },
  {
   "cell_type": "code",
   "execution_count": 174,
   "metadata": {},
   "outputs": [
    {
     "data": {
      "text/html": [
       "<div>\n",
       "<style scoped>\n",
       "    .dataframe tbody tr th:only-of-type {\n",
       "        vertical-align: middle;\n",
       "    }\n",
       "\n",
       "    .dataframe tbody tr th {\n",
       "        vertical-align: top;\n",
       "    }\n",
       "\n",
       "    .dataframe thead th {\n",
       "        text-align: right;\n",
       "    }\n",
       "</style>\n",
       "<table border=\"1\" class=\"dataframe\">\n",
       "  <thead>\n",
       "    <tr style=\"text-align: right;\">\n",
       "      <th></th>\n",
       "      <th>base_ym</th>\n",
       "      <th>dpro_tgt_perd_val</th>\n",
       "      <th>cust_ctg_type</th>\n",
       "      <th>cust_class</th>\n",
       "      <th>sex_type</th>\n",
       "      <th>age</th>\n",
       "      <th>efct_svc_count</th>\n",
       "      <th>dt_stop_yn</th>\n",
       "      <th>npay_yn</th>\n",
       "      <th>r3m_avg_bill_amt</th>\n",
       "      <th>r3m_A_avg_arpu_amt</th>\n",
       "      <th>r3m_B_avg_arpu_amt</th>\n",
       "      <th>r6m_A_avg_arpu_amt</th>\n",
       "      <th>r6m_B_avg_arpu_amt</th>\n",
       "      <th>termination_yn</th>\n",
       "    </tr>\n",
       "  </thead>\n",
       "  <tbody>\n",
       "    <tr>\n",
       "      <th>9925</th>\n",
       "      <td>202006</td>\n",
       "      <td>20200630</td>\n",
       "      <td>10001</td>\n",
       "      <td>C</td>\n",
       "      <td>F</td>\n",
       "      <td>15</td>\n",
       "      <td>1</td>\n",
       "      <td>N</td>\n",
       "      <td>Y</td>\n",
       "      <td>1296.0999</td>\n",
       "      <td>194.414985</td>\n",
       "      <td>643.1001</td>\n",
       "      <td>0.0</td>\n",
       "      <td>852.5499</td>\n",
       "      <td>N</td>\n",
       "    </tr>\n",
       "    <tr>\n",
       "      <th>9926</th>\n",
       "      <td>202006</td>\n",
       "      <td>20200630</td>\n",
       "      <td>10001</td>\n",
       "      <td>G</td>\n",
       "      <td>M</td>\n",
       "      <td>12</td>\n",
       "      <td>1</td>\n",
       "      <td>N</td>\n",
       "      <td>N</td>\n",
       "      <td>13799.6666</td>\n",
       "      <td>2069.949990</td>\n",
       "      <td>10605.9266</td>\n",
       "      <td>0.0</td>\n",
       "      <td>10603.9266</td>\n",
       "      <td>N</td>\n",
       "    </tr>\n",
       "    <tr>\n",
       "      <th>9927</th>\n",
       "      <td>202006</td>\n",
       "      <td>20200630</td>\n",
       "      <td>10005</td>\n",
       "      <td>C</td>\n",
       "      <td>_</td>\n",
       "      <td>_</td>\n",
       "      <td>1</td>\n",
       "      <td>N</td>\n",
       "      <td>N</td>\n",
       "      <td>1396.2000</td>\n",
       "      <td>1206.000000</td>\n",
       "      <td>0.0000</td>\n",
       "      <td>1212.0</td>\n",
       "      <td>0.0000</td>\n",
       "      <td>N</td>\n",
       "    </tr>\n",
       "    <tr>\n",
       "      <th>9928</th>\n",
       "      <td>202006</td>\n",
       "      <td>20200630</td>\n",
       "      <td>10001</td>\n",
       "      <td>C</td>\n",
       "      <td>F</td>\n",
       "      <td>40</td>\n",
       "      <td>0</td>\n",
       "      <td>N</td>\n",
       "      <td>N</td>\n",
       "      <td>3140.0000</td>\n",
       "      <td>942.000000</td>\n",
       "      <td>1884.0000</td>\n",
       "      <td>0.0</td>\n",
       "      <td>0.0000</td>\n",
       "      <td>Y</td>\n",
       "    </tr>\n",
       "    <tr>\n",
       "      <th>9929</th>\n",
       "      <td>202006</td>\n",
       "      <td>20200630</td>\n",
       "      <td>10001</td>\n",
       "      <td>C</td>\n",
       "      <td>F</td>\n",
       "      <td>59</td>\n",
       "      <td>1</td>\n",
       "      <td>N</td>\n",
       "      <td>N</td>\n",
       "      <td>2436.9000</td>\n",
       "      <td>365.535000</td>\n",
       "      <td>1839.9000</td>\n",
       "      <td>0.0</td>\n",
       "      <td>1919.7999</td>\n",
       "      <td>N</td>\n",
       "    </tr>\n",
       "  </tbody>\n",
       "</table>\n",
       "</div>"
      ],
      "text/plain": [
       "      base_ym  dpro_tgt_perd_val  cust_ctg_type cust_class sex_type age  \\\n",
       "9925   202006           20200630          10001          C        F  15   \n",
       "9926   202006           20200630          10001          G        M  12   \n",
       "9927   202006           20200630          10005          C        _   _   \n",
       "9928   202006           20200630          10001          C        F  40   \n",
       "9929   202006           20200630          10001          C        F  59   \n",
       "\n",
       "      efct_svc_count dt_stop_yn npay_yn  r3m_avg_bill_amt  r3m_A_avg_arpu_amt  \\\n",
       "9925               1          N       Y         1296.0999          194.414985   \n",
       "9926               1          N       N        13799.6666         2069.949990   \n",
       "9927               1          N       N         1396.2000         1206.000000   \n",
       "9928               0          N       N         3140.0000          942.000000   \n",
       "9929               1          N       N         2436.9000          365.535000   \n",
       "\n",
       "      r3m_B_avg_arpu_amt  r6m_A_avg_arpu_amt  r6m_B_avg_arpu_amt  \\\n",
       "9925            643.1001                 0.0            852.5499   \n",
       "9926          10605.9266                 0.0          10603.9266   \n",
       "9927              0.0000              1212.0              0.0000   \n",
       "9928           1884.0000                 0.0              0.0000   \n",
       "9929           1839.9000                 0.0           1919.7999   \n",
       "\n",
       "     termination_yn  \n",
       "9925              N  \n",
       "9926              N  \n",
       "9927              N  \n",
       "9928              Y  \n",
       "9929              N  "
      ]
     },
     "execution_count": 174,
     "metadata": {},
     "output_type": "execute_result"
    }
   ],
   "source": [
    " df.tail()"
   ]
  },
  {
   "cell_type": "markdown",
   "metadata": {},
   "source": [
    "describe를 통해 수학적 통계를 확인해 보는 작업도 해봅시다."
   ]
  },
  {
   "cell_type": "code",
   "execution_count": 175,
   "metadata": {},
   "outputs": [
    {
     "data": {
      "text/html": [
       "<div>\n",
       "<style scoped>\n",
       "    .dataframe tbody tr th:only-of-type {\n",
       "        vertical-align: middle;\n",
       "    }\n",
       "\n",
       "    .dataframe tbody tr th {\n",
       "        vertical-align: top;\n",
       "    }\n",
       "\n",
       "    .dataframe thead th {\n",
       "        text-align: right;\n",
       "    }\n",
       "</style>\n",
       "<table border=\"1\" class=\"dataframe\">\n",
       "  <thead>\n",
       "    <tr style=\"text-align: right;\">\n",
       "      <th></th>\n",
       "      <th>base_ym</th>\n",
       "      <th>dpro_tgt_perd_val</th>\n",
       "      <th>cust_ctg_type</th>\n",
       "      <th>efct_svc_count</th>\n",
       "      <th>r3m_avg_bill_amt</th>\n",
       "      <th>r3m_A_avg_arpu_amt</th>\n",
       "      <th>r3m_B_avg_arpu_amt</th>\n",
       "      <th>r6m_A_avg_arpu_amt</th>\n",
       "      <th>r6m_B_avg_arpu_amt</th>\n",
       "    </tr>\n",
       "  </thead>\n",
       "  <tbody>\n",
       "    <tr>\n",
       "      <th>count</th>\n",
       "      <td>9930.0</td>\n",
       "      <td>9930.0</td>\n",
       "      <td>9930.000000</td>\n",
       "      <td>9930.000000</td>\n",
       "      <td>9.930000e+03</td>\n",
       "      <td>9.930000e+03</td>\n",
       "      <td>9.930000e+03</td>\n",
       "      <td>9.930000e+03</td>\n",
       "      <td>9930.000000</td>\n",
       "    </tr>\n",
       "    <tr>\n",
       "      <th>mean</th>\n",
       "      <td>202006.0</td>\n",
       "      <td>20200630.0</td>\n",
       "      <td>10001.372810</td>\n",
       "      <td>1.520040</td>\n",
       "      <td>1.181774e+04</td>\n",
       "      <td>1.897536e+03</td>\n",
       "      <td>6.395259e+03</td>\n",
       "      <td>8.496206e+02</td>\n",
       "      <td>4624.897630</td>\n",
       "    </tr>\n",
       "    <tr>\n",
       "      <th>std</th>\n",
       "      <td>0.0</td>\n",
       "      <td>0.0</td>\n",
       "      <td>1.605016</td>\n",
       "      <td>15.404037</td>\n",
       "      <td>1.397822e+05</td>\n",
       "      <td>1.235342e+04</td>\n",
       "      <td>8.346138e+04</td>\n",
       "      <td>1.235124e+04</td>\n",
       "      <td>4561.049131</td>\n",
       "    </tr>\n",
       "    <tr>\n",
       "      <th>min</th>\n",
       "      <td>202006.0</td>\n",
       "      <td>20200630.0</td>\n",
       "      <td>10001.000000</td>\n",
       "      <td>0.000000</td>\n",
       "      <td>0.000000e+00</td>\n",
       "      <td>0.000000e+00</td>\n",
       "      <td>0.000000e+00</td>\n",
       "      <td>0.000000e+00</td>\n",
       "      <td>0.000000</td>\n",
       "    </tr>\n",
       "    <tr>\n",
       "      <th>25%</th>\n",
       "      <td>202006.0</td>\n",
       "      <td>20200630.0</td>\n",
       "      <td>10001.000000</td>\n",
       "      <td>1.000000</td>\n",
       "      <td>3.624503e+03</td>\n",
       "      <td>3.240000e+02</td>\n",
       "      <td>1.260000e+03</td>\n",
       "      <td>0.000000e+00</td>\n",
       "      <td>0.000000</td>\n",
       "    </tr>\n",
       "    <tr>\n",
       "      <th>50%</th>\n",
       "      <td>202006.0</td>\n",
       "      <td>20200630.0</td>\n",
       "      <td>10001.000000</td>\n",
       "      <td>1.000000</td>\n",
       "      <td>8.284467e+03</td>\n",
       "      <td>1.593307e+03</td>\n",
       "      <td>4.768617e+03</td>\n",
       "      <td>0.000000e+00</td>\n",
       "      <td>3959.316700</td>\n",
       "    </tr>\n",
       "    <tr>\n",
       "      <th>75%</th>\n",
       "      <td>202006.0</td>\n",
       "      <td>20200630.0</td>\n",
       "      <td>10001.000000</td>\n",
       "      <td>1.000000</td>\n",
       "      <td>1.372000e+04</td>\n",
       "      <td>2.308360e+03</td>\n",
       "      <td>7.982000e+03</td>\n",
       "      <td>1.006125e+03</td>\n",
       "      <td>7741.006900</td>\n",
       "    </tr>\n",
       "    <tr>\n",
       "      <th>max</th>\n",
       "      <td>202006.0</td>\n",
       "      <td>20200630.0</td>\n",
       "      <td>10010.000000</td>\n",
       "      <td>905.000000</td>\n",
       "      <td>1.281568e+07</td>\n",
       "      <td>1.188998e+06</td>\n",
       "      <td>7.689409e+06</td>\n",
       "      <td>1.208498e+06</td>\n",
       "      <td>64947.092000</td>\n",
       "    </tr>\n",
       "  </tbody>\n",
       "</table>\n",
       "</div>"
      ],
      "text/plain": [
       "        base_ym  dpro_tgt_perd_val  cust_ctg_type  efct_svc_count  \\\n",
       "count    9930.0             9930.0    9930.000000     9930.000000   \n",
       "mean   202006.0         20200630.0   10001.372810        1.520040   \n",
       "std         0.0                0.0       1.605016       15.404037   \n",
       "min    202006.0         20200630.0   10001.000000        0.000000   \n",
       "25%    202006.0         20200630.0   10001.000000        1.000000   \n",
       "50%    202006.0         20200630.0   10001.000000        1.000000   \n",
       "75%    202006.0         20200630.0   10001.000000        1.000000   \n",
       "max    202006.0         20200630.0   10010.000000      905.000000   \n",
       "\n",
       "       r3m_avg_bill_amt  r3m_A_avg_arpu_amt  r3m_B_avg_arpu_amt  \\\n",
       "count      9.930000e+03        9.930000e+03        9.930000e+03   \n",
       "mean       1.181774e+04        1.897536e+03        6.395259e+03   \n",
       "std        1.397822e+05        1.235342e+04        8.346138e+04   \n",
       "min        0.000000e+00        0.000000e+00        0.000000e+00   \n",
       "25%        3.624503e+03        3.240000e+02        1.260000e+03   \n",
       "50%        8.284467e+03        1.593307e+03        4.768617e+03   \n",
       "75%        1.372000e+04        2.308360e+03        7.982000e+03   \n",
       "max        1.281568e+07        1.188998e+06        7.689409e+06   \n",
       "\n",
       "       r6m_A_avg_arpu_amt  r6m_B_avg_arpu_amt  \n",
       "count        9.930000e+03         9930.000000  \n",
       "mean         8.496206e+02         4624.897630  \n",
       "std          1.235124e+04         4561.049131  \n",
       "min          0.000000e+00            0.000000  \n",
       "25%          0.000000e+00            0.000000  \n",
       "50%          0.000000e+00         3959.316700  \n",
       "75%          1.006125e+03         7741.006900  \n",
       "max          1.208498e+06        64947.092000  "
      ]
     },
     "execution_count": 175,
     "metadata": {},
     "output_type": "execute_result"
    }
   ],
   "source": [
    "df.describe()"
   ]
  },
  {
   "cell_type": "markdown",
   "metadata": {},
   "source": [
    " "
   ]
  },
  {
   "cell_type": "markdown",
   "metadata": {},
   "source": [
    "### 1-2. 필요한 컬럼만 추출하기"
   ]
  },
  {
   "cell_type": "markdown",
   "metadata": {},
   "source": [
    "`-` 데이터 처리에 필요한 10개 항목만 추출"
   ]
  },
  {
   "cell_type": "markdown",
   "metadata": {},
   "source": [
    "```{python}\n",
    "고객등급(cust_class), 성별(sex_type), 나이(age), \n",
    "\n",
    "사용서비스수(efct_svc_count), 서비스중지여부 (dt_stop_yn), 미납여부(npay_yn),\n",
    "\n",
    "3개월 평균 요금(r3m_avg_bill_amt), A서비스 3개월 평균요금(r3m_A_avg_arpu_amt), \n",
    "\n",
    "B서비스 3개월 평균요금(r3m_B_avg_arpu_amt), 해지여부(termination_yn)\n",
    "```"
   ]
  },
  {
   "cell_type": "code",
   "execution_count": 176,
   "metadata": {},
   "outputs": [
    {
     "data": {
      "text/html": [
       "<div>\n",
       "<style scoped>\n",
       "    .dataframe tbody tr th:only-of-type {\n",
       "        vertical-align: middle;\n",
       "    }\n",
       "\n",
       "    .dataframe tbody tr th {\n",
       "        vertical-align: top;\n",
       "    }\n",
       "\n",
       "    .dataframe thead th {\n",
       "        text-align: right;\n",
       "    }\n",
       "</style>\n",
       "<table border=\"1\" class=\"dataframe\">\n",
       "  <thead>\n",
       "    <tr style=\"text-align: right;\">\n",
       "      <th></th>\n",
       "      <th>cust_class</th>\n",
       "      <th>sex_type</th>\n",
       "      <th>age</th>\n",
       "      <th>efct_svc_count</th>\n",
       "      <th>dt_stop_yn</th>\n",
       "      <th>npay_yn</th>\n",
       "      <th>r3m_avg_bill_amt</th>\n",
       "      <th>r3m_A_avg_arpu_amt</th>\n",
       "      <th>r3m_B_avg_arpu_amt</th>\n",
       "      <th>termination_yn</th>\n",
       "    </tr>\n",
       "  </thead>\n",
       "  <tbody>\n",
       "    <tr>\n",
       "      <th>0</th>\n",
       "      <td>C</td>\n",
       "      <td>F</td>\n",
       "      <td>28</td>\n",
       "      <td>0</td>\n",
       "      <td>N</td>\n",
       "      <td>N</td>\n",
       "      <td>2640.0000</td>\n",
       "      <td>792.00000</td>\n",
       "      <td>1584.0000</td>\n",
       "      <td>Y</td>\n",
       "    </tr>\n",
       "    <tr>\n",
       "      <th>1</th>\n",
       "      <td>_</td>\n",
       "      <td>_</td>\n",
       "      <td>_</td>\n",
       "      <td>1</td>\n",
       "      <td>N</td>\n",
       "      <td>N</td>\n",
       "      <td>300.0000</td>\n",
       "      <td>90.00000</td>\n",
       "      <td>180.0000</td>\n",
       "      <td>Y</td>\n",
       "    </tr>\n",
       "    <tr>\n",
       "      <th>2</th>\n",
       "      <td>E</td>\n",
       "      <td>F</td>\n",
       "      <td>24</td>\n",
       "      <td>1</td>\n",
       "      <td>N</td>\n",
       "      <td>N</td>\n",
       "      <td>16840.0000</td>\n",
       "      <td>2526.00000</td>\n",
       "      <td>6983.0000</td>\n",
       "      <td>N</td>\n",
       "    </tr>\n",
       "    <tr>\n",
       "      <th>3</th>\n",
       "      <td>F</td>\n",
       "      <td>F</td>\n",
       "      <td>32</td>\n",
       "      <td>1</td>\n",
       "      <td>N</td>\n",
       "      <td>N</td>\n",
       "      <td>15544.7334</td>\n",
       "      <td>2331.71001</td>\n",
       "      <td>6750.4666</td>\n",
       "      <td>N</td>\n",
       "    </tr>\n",
       "    <tr>\n",
       "      <th>4</th>\n",
       "      <td>D</td>\n",
       "      <td>M</td>\n",
       "      <td>18</td>\n",
       "      <td>1</td>\n",
       "      <td>N</td>\n",
       "      <td>N</td>\n",
       "      <td>4700.0000</td>\n",
       "      <td>0.00000</td>\n",
       "      <td>4502.0000</td>\n",
       "      <td>N</td>\n",
       "    </tr>\n",
       "  </tbody>\n",
       "</table>\n",
       "</div>"
      ],
      "text/plain": [
       "  cust_class sex_type age  efct_svc_count dt_stop_yn npay_yn  \\\n",
       "0          C        F  28               0          N       N   \n",
       "1          _        _   _               1          N       N   \n",
       "2          E        F  24               1          N       N   \n",
       "3          F        F  32               1          N       N   \n",
       "4          D        M  18               1          N       N   \n",
       "\n",
       "   r3m_avg_bill_amt  r3m_A_avg_arpu_amt  r3m_B_avg_arpu_amt termination_yn  \n",
       "0         2640.0000           792.00000           1584.0000              Y  \n",
       "1          300.0000            90.00000            180.0000              Y  \n",
       "2        16840.0000          2526.00000           6983.0000              N  \n",
       "3        15544.7334          2331.71001           6750.4666              N  \n",
       "4         4700.0000             0.00000           4502.0000              N  "
      ]
     },
     "execution_count": 176,
     "metadata": {},
     "output_type": "execute_result"
    }
   ],
   "source": [
    "cust=df[[\"cust_class\",\"sex_type\",\"age\",\"efct_svc_count\",\"dt_stop_yn\",\"npay_yn\",\"r3m_avg_bill_amt\",\"r3m_A_avg_arpu_amt\",\"r3m_B_avg_arpu_amt\", \"termination_yn\"]]\n",
    "cust.head()"
   ]
  },
  {
   "cell_type": "markdown",
   "metadata": {},
   "source": [
    "`-`  컬럼명을 간결하고 직관적으로 변경."
   ]
  },
  {
   "cell_type": "code",
   "execution_count": 177,
   "metadata": {},
   "outputs": [
    {
     "data": {
      "text/html": [
       "<div>\n",
       "<style scoped>\n",
       "    .dataframe tbody tr th:only-of-type {\n",
       "        vertical-align: middle;\n",
       "    }\n",
       "\n",
       "    .dataframe tbody tr th {\n",
       "        vertical-align: top;\n",
       "    }\n",
       "\n",
       "    .dataframe thead th {\n",
       "        text-align: right;\n",
       "    }\n",
       "</style>\n",
       "<table border=\"1\" class=\"dataframe\">\n",
       "  <thead>\n",
       "    <tr style=\"text-align: right;\">\n",
       "      <th></th>\n",
       "      <th>class</th>\n",
       "      <th>sex</th>\n",
       "      <th>age</th>\n",
       "      <th>service</th>\n",
       "      <th>stop</th>\n",
       "      <th>npay</th>\n",
       "      <th>avg_bill</th>\n",
       "      <th>A_bill</th>\n",
       "      <th>B_bill</th>\n",
       "      <th>termination</th>\n",
       "    </tr>\n",
       "  </thead>\n",
       "  <tbody>\n",
       "    <tr>\n",
       "      <th>0</th>\n",
       "      <td>C</td>\n",
       "      <td>F</td>\n",
       "      <td>28</td>\n",
       "      <td>0</td>\n",
       "      <td>N</td>\n",
       "      <td>N</td>\n",
       "      <td>2640.0000</td>\n",
       "      <td>792.00000</td>\n",
       "      <td>1584.0000</td>\n",
       "      <td>Y</td>\n",
       "    </tr>\n",
       "    <tr>\n",
       "      <th>1</th>\n",
       "      <td>_</td>\n",
       "      <td>_</td>\n",
       "      <td>_</td>\n",
       "      <td>1</td>\n",
       "      <td>N</td>\n",
       "      <td>N</td>\n",
       "      <td>300.0000</td>\n",
       "      <td>90.00000</td>\n",
       "      <td>180.0000</td>\n",
       "      <td>Y</td>\n",
       "    </tr>\n",
       "    <tr>\n",
       "      <th>2</th>\n",
       "      <td>E</td>\n",
       "      <td>F</td>\n",
       "      <td>24</td>\n",
       "      <td>1</td>\n",
       "      <td>N</td>\n",
       "      <td>N</td>\n",
       "      <td>16840.0000</td>\n",
       "      <td>2526.00000</td>\n",
       "      <td>6983.0000</td>\n",
       "      <td>N</td>\n",
       "    </tr>\n",
       "    <tr>\n",
       "      <th>3</th>\n",
       "      <td>F</td>\n",
       "      <td>F</td>\n",
       "      <td>32</td>\n",
       "      <td>1</td>\n",
       "      <td>N</td>\n",
       "      <td>N</td>\n",
       "      <td>15544.7334</td>\n",
       "      <td>2331.71001</td>\n",
       "      <td>6750.4666</td>\n",
       "      <td>N</td>\n",
       "    </tr>\n",
       "    <tr>\n",
       "      <th>4</th>\n",
       "      <td>D</td>\n",
       "      <td>M</td>\n",
       "      <td>18</td>\n",
       "      <td>1</td>\n",
       "      <td>N</td>\n",
       "      <td>N</td>\n",
       "      <td>4700.0000</td>\n",
       "      <td>0.00000</td>\n",
       "      <td>4502.0000</td>\n",
       "      <td>N</td>\n",
       "    </tr>\n",
       "  </tbody>\n",
       "</table>\n",
       "</div>"
      ],
      "text/plain": [
       "  class sex age  service stop npay    avg_bill      A_bill     B_bill  \\\n",
       "0     C   F  28        0    N    N   2640.0000   792.00000  1584.0000   \n",
       "1     _   _   _        1    N    N    300.0000    90.00000   180.0000   \n",
       "2     E   F  24        1    N    N  16840.0000  2526.00000  6983.0000   \n",
       "3     F   F  32        1    N    N  15544.7334  2331.71001  6750.4666   \n",
       "4     D   M  18        1    N    N   4700.0000     0.00000  4502.0000   \n",
       "\n",
       "  termination  \n",
       "0           Y  \n",
       "1           Y  \n",
       "2           N  \n",
       "3           N  \n",
       "4           N  "
      ]
     },
     "execution_count": 177,
     "metadata": {},
     "output_type": "execute_result"
    }
   ],
   "source": [
    "cust=cust.rename(columns = {\"cust_class\" : 'class',\"sex_type\":'sex', \"efct_svc_count\":'service', \"dt_stop_yn\":'stop',\"npay_yn\":'npay', \"r3m_avg_bill_amt\":'avg_bill', \"r3m_A_avg_arpu_amt\":\"A_bill\", \"r3m_B_avg_arpu_amt\":'B_bill', \"termination_yn\":'termination'})\n",
    "cust.head()"
   ]
  },
  {
   "cell_type": "code",
   "execution_count": 178,
   "metadata": {},
   "outputs": [
    {
     "name": "stdout",
     "output_type": "stream",
     "text": [
      "<class 'pandas.core.frame.DataFrame'>\n",
      "RangeIndex: 9930 entries, 0 to 9929\n",
      "Data columns (total 10 columns):\n",
      " #   Column       Non-Null Count  Dtype  \n",
      "---  ------       --------------  -----  \n",
      " 0   class        9930 non-null   object \n",
      " 1   sex          9930 non-null   object \n",
      " 2   age          9930 non-null   object \n",
      " 3   service      9930 non-null   int64  \n",
      " 4   stop         9930 non-null   object \n",
      " 5   npay         9930 non-null   object \n",
      " 6   avg_bill     9930 non-null   float64\n",
      " 7   A_bill       9930 non-null   float64\n",
      " 8   B_bill       9930 non-null   float64\n",
      " 9   termination  9930 non-null   object \n",
      "dtypes: float64(3), int64(1), object(6)\n",
      "memory usage: 775.9+ KB\n"
     ]
    }
   ],
   "source": [
    "cust.info()"
   ]
  },
  {
   "cell_type": "markdown",
   "metadata": {},
   "source": [
    " "
   ]
  },
  {
   "cell_type": "markdown",
   "metadata": {},
   "source": [
    "### 1-3. 데이터 타입 변경하기"
   ]
  },
  {
   "cell_type": "markdown",
   "metadata": {},
   "source": [
    "`-` 데이터를 불러온 후에는 반드시 데이터 타입을 확인하자.\n",
    "\n",
    "`-` 숫자형 데이터가 문자형으로 지정되어 있거나 혹은 그반의 경우 원하는 데이터 처리 결과가 도출 되지 않을 수 있음."
   ]
  },
  {
   "cell_type": "markdown",
   "metadata": {},
   "source": [
    "`-` 숫자형 데이터가 문자형으로 저장된 경우의 사칙연산"
   ]
  },
  {
   "cell_type": "code",
   "execution_count": 179,
   "metadata": {},
   "outputs": [
    {
     "data": {
      "text/plain": [
       "'3218'"
      ]
     },
     "execution_count": 179,
     "metadata": {},
     "output_type": "execute_result"
    }
   ],
   "source": [
    "cust['age'][3]+cust['age'][4]"
   ]
  },
  {
   "cell_type": "markdown",
   "metadata": {},
   "source": [
    "`-` age 항목을 Intger type으로 변경\n",
    "\n",
    "* 결측치가 문자 '_'로 되어있어 에러발생"
   ]
  },
  {
   "cell_type": "code",
   "execution_count": 180,
   "metadata": {
    "scrolled": false
   },
   "outputs": [
    {
     "ename": "ValueError",
     "evalue": "invalid literal for int() with base 10: '_'",
     "output_type": "error",
     "traceback": [
      "\u001b[1;31m---------------------------------------------------------------------------\u001b[0m",
      "\u001b[1;31mValueError\u001b[0m                                Traceback (most recent call last)",
      "\u001b[1;32m~\\AppData\\Local\\Temp\\ipykernel_6624\\926362855.py\u001b[0m in \u001b[0;36m<module>\u001b[1;34m\u001b[0m\n\u001b[1;32m----> 1\u001b[1;33m \u001b[0mcust\u001b[0m\u001b[1;33m=\u001b[0m\u001b[0mcust\u001b[0m\u001b[1;33m.\u001b[0m\u001b[0mastype\u001b[0m\u001b[1;33m(\u001b[0m\u001b[1;33m{\u001b[0m\u001b[1;34m'age'\u001b[0m\u001b[1;33m:\u001b[0m \u001b[0mint\u001b[0m\u001b[1;33m}\u001b[0m\u001b[1;33m)\u001b[0m\u001b[1;33m\u001b[0m\u001b[1;33m\u001b[0m\u001b[0m\n\u001b[0m",
      "\u001b[1;32m~\\anaconda3\\lib\\site-packages\\pandas\\core\\generic.py\u001b[0m in \u001b[0;36mastype\u001b[1;34m(self, dtype, copy, errors)\u001b[0m\n\u001b[0;32m   5896\u001b[0m                     \u001b[0mres_col\u001b[0m \u001b[1;33m=\u001b[0m \u001b[0mcol\u001b[0m\u001b[1;33m.\u001b[0m\u001b[0mcopy\u001b[0m\u001b[1;33m(\u001b[0m\u001b[1;33m)\u001b[0m \u001b[1;32mif\u001b[0m \u001b[0mcopy\u001b[0m \u001b[1;32melse\u001b[0m \u001b[0mcol\u001b[0m\u001b[1;33m\u001b[0m\u001b[1;33m\u001b[0m\u001b[0m\n\u001b[0;32m   5897\u001b[0m                 \u001b[1;32melse\u001b[0m\u001b[1;33m:\u001b[0m\u001b[1;33m\u001b[0m\u001b[1;33m\u001b[0m\u001b[0m\n\u001b[1;32m-> 5898\u001b[1;33m                     \u001b[0mres_col\u001b[0m \u001b[1;33m=\u001b[0m \u001b[0mcol\u001b[0m\u001b[1;33m.\u001b[0m\u001b[0mastype\u001b[0m\u001b[1;33m(\u001b[0m\u001b[0mdtype\u001b[0m\u001b[1;33m=\u001b[0m\u001b[0mcdt\u001b[0m\u001b[1;33m,\u001b[0m \u001b[0mcopy\u001b[0m\u001b[1;33m=\u001b[0m\u001b[0mcopy\u001b[0m\u001b[1;33m,\u001b[0m \u001b[0merrors\u001b[0m\u001b[1;33m=\u001b[0m\u001b[0merrors\u001b[0m\u001b[1;33m)\u001b[0m\u001b[1;33m\u001b[0m\u001b[1;33m\u001b[0m\u001b[0m\n\u001b[0m\u001b[0;32m   5899\u001b[0m                 \u001b[0mresults\u001b[0m\u001b[1;33m.\u001b[0m\u001b[0mappend\u001b[0m\u001b[1;33m(\u001b[0m\u001b[0mres_col\u001b[0m\u001b[1;33m)\u001b[0m\u001b[1;33m\u001b[0m\u001b[1;33m\u001b[0m\u001b[0m\n\u001b[0;32m   5900\u001b[0m \u001b[1;33m\u001b[0m\u001b[0m\n",
      "\u001b[1;32m~\\anaconda3\\lib\\site-packages\\pandas\\core\\generic.py\u001b[0m in \u001b[0;36mastype\u001b[1;34m(self, dtype, copy, errors)\u001b[0m\n\u001b[0;32m   5910\u001b[0m         \u001b[1;32melse\u001b[0m\u001b[1;33m:\u001b[0m\u001b[1;33m\u001b[0m\u001b[1;33m\u001b[0m\u001b[0m\n\u001b[0;32m   5911\u001b[0m             \u001b[1;31m# else, only a single dtype is given\u001b[0m\u001b[1;33m\u001b[0m\u001b[1;33m\u001b[0m\u001b[0m\n\u001b[1;32m-> 5912\u001b[1;33m             \u001b[0mnew_data\u001b[0m \u001b[1;33m=\u001b[0m \u001b[0mself\u001b[0m\u001b[1;33m.\u001b[0m\u001b[0m_mgr\u001b[0m\u001b[1;33m.\u001b[0m\u001b[0mastype\u001b[0m\u001b[1;33m(\u001b[0m\u001b[0mdtype\u001b[0m\u001b[1;33m=\u001b[0m\u001b[0mdtype\u001b[0m\u001b[1;33m,\u001b[0m \u001b[0mcopy\u001b[0m\u001b[1;33m=\u001b[0m\u001b[0mcopy\u001b[0m\u001b[1;33m,\u001b[0m \u001b[0merrors\u001b[0m\u001b[1;33m=\u001b[0m\u001b[0merrors\u001b[0m\u001b[1;33m)\u001b[0m\u001b[1;33m\u001b[0m\u001b[1;33m\u001b[0m\u001b[0m\n\u001b[0m\u001b[0;32m   5913\u001b[0m             \u001b[1;32mreturn\u001b[0m \u001b[0mself\u001b[0m\u001b[1;33m.\u001b[0m\u001b[0m_constructor\u001b[0m\u001b[1;33m(\u001b[0m\u001b[0mnew_data\u001b[0m\u001b[1;33m)\u001b[0m\u001b[1;33m.\u001b[0m\u001b[0m__finalize__\u001b[0m\u001b[1;33m(\u001b[0m\u001b[0mself\u001b[0m\u001b[1;33m,\u001b[0m \u001b[0mmethod\u001b[0m\u001b[1;33m=\u001b[0m\u001b[1;34m\"astype\"\u001b[0m\u001b[1;33m)\u001b[0m\u001b[1;33m\u001b[0m\u001b[1;33m\u001b[0m\u001b[0m\n\u001b[0;32m   5914\u001b[0m \u001b[1;33m\u001b[0m\u001b[0m\n",
      "\u001b[1;32m~\\anaconda3\\lib\\site-packages\\pandas\\core\\internals\\managers.py\u001b[0m in \u001b[0;36mastype\u001b[1;34m(self, dtype, copy, errors)\u001b[0m\n\u001b[0;32m    417\u001b[0m \u001b[1;33m\u001b[0m\u001b[0m\n\u001b[0;32m    418\u001b[0m     \u001b[1;32mdef\u001b[0m \u001b[0mastype\u001b[0m\u001b[1;33m(\u001b[0m\u001b[0mself\u001b[0m\u001b[1;33m:\u001b[0m \u001b[0mT\u001b[0m\u001b[1;33m,\u001b[0m \u001b[0mdtype\u001b[0m\u001b[1;33m,\u001b[0m \u001b[0mcopy\u001b[0m\u001b[1;33m:\u001b[0m \u001b[0mbool\u001b[0m \u001b[1;33m=\u001b[0m \u001b[1;32mFalse\u001b[0m\u001b[1;33m,\u001b[0m \u001b[0merrors\u001b[0m\u001b[1;33m:\u001b[0m \u001b[0mstr\u001b[0m \u001b[1;33m=\u001b[0m \u001b[1;34m\"raise\"\u001b[0m\u001b[1;33m)\u001b[0m \u001b[1;33m->\u001b[0m \u001b[0mT\u001b[0m\u001b[1;33m:\u001b[0m\u001b[1;33m\u001b[0m\u001b[1;33m\u001b[0m\u001b[0m\n\u001b[1;32m--> 419\u001b[1;33m         \u001b[1;32mreturn\u001b[0m \u001b[0mself\u001b[0m\u001b[1;33m.\u001b[0m\u001b[0mapply\u001b[0m\u001b[1;33m(\u001b[0m\u001b[1;34m\"astype\"\u001b[0m\u001b[1;33m,\u001b[0m \u001b[0mdtype\u001b[0m\u001b[1;33m=\u001b[0m\u001b[0mdtype\u001b[0m\u001b[1;33m,\u001b[0m \u001b[0mcopy\u001b[0m\u001b[1;33m=\u001b[0m\u001b[0mcopy\u001b[0m\u001b[1;33m,\u001b[0m \u001b[0merrors\u001b[0m\u001b[1;33m=\u001b[0m\u001b[0merrors\u001b[0m\u001b[1;33m)\u001b[0m\u001b[1;33m\u001b[0m\u001b[1;33m\u001b[0m\u001b[0m\n\u001b[0m\u001b[0;32m    420\u001b[0m \u001b[1;33m\u001b[0m\u001b[0m\n\u001b[0;32m    421\u001b[0m     def convert(\n",
      "\u001b[1;32m~\\anaconda3\\lib\\site-packages\\pandas\\core\\internals\\managers.py\u001b[0m in \u001b[0;36mapply\u001b[1;34m(self, f, align_keys, ignore_failures, **kwargs)\u001b[0m\n\u001b[0;32m    302\u001b[0m                     \u001b[0mapplied\u001b[0m \u001b[1;33m=\u001b[0m \u001b[0mb\u001b[0m\u001b[1;33m.\u001b[0m\u001b[0mapply\u001b[0m\u001b[1;33m(\u001b[0m\u001b[0mf\u001b[0m\u001b[1;33m,\u001b[0m \u001b[1;33m**\u001b[0m\u001b[0mkwargs\u001b[0m\u001b[1;33m)\u001b[0m\u001b[1;33m\u001b[0m\u001b[1;33m\u001b[0m\u001b[0m\n\u001b[0;32m    303\u001b[0m                 \u001b[1;32melse\u001b[0m\u001b[1;33m:\u001b[0m\u001b[1;33m\u001b[0m\u001b[1;33m\u001b[0m\u001b[0m\n\u001b[1;32m--> 304\u001b[1;33m                     \u001b[0mapplied\u001b[0m \u001b[1;33m=\u001b[0m \u001b[0mgetattr\u001b[0m\u001b[1;33m(\u001b[0m\u001b[0mb\u001b[0m\u001b[1;33m,\u001b[0m \u001b[0mf\u001b[0m\u001b[1;33m)\u001b[0m\u001b[1;33m(\u001b[0m\u001b[1;33m**\u001b[0m\u001b[0mkwargs\u001b[0m\u001b[1;33m)\u001b[0m\u001b[1;33m\u001b[0m\u001b[1;33m\u001b[0m\u001b[0m\n\u001b[0m\u001b[0;32m    305\u001b[0m             \u001b[1;32mexcept\u001b[0m \u001b[1;33m(\u001b[0m\u001b[0mTypeError\u001b[0m\u001b[1;33m,\u001b[0m \u001b[0mNotImplementedError\u001b[0m\u001b[1;33m)\u001b[0m\u001b[1;33m:\u001b[0m\u001b[1;33m\u001b[0m\u001b[1;33m\u001b[0m\u001b[0m\n\u001b[0;32m    306\u001b[0m                 \u001b[1;32mif\u001b[0m \u001b[1;32mnot\u001b[0m \u001b[0mignore_failures\u001b[0m\u001b[1;33m:\u001b[0m\u001b[1;33m\u001b[0m\u001b[1;33m\u001b[0m\u001b[0m\n",
      "\u001b[1;32m~\\anaconda3\\lib\\site-packages\\pandas\\core\\internals\\blocks.py\u001b[0m in \u001b[0;36mastype\u001b[1;34m(self, dtype, copy, errors)\u001b[0m\n\u001b[0;32m    578\u001b[0m         \u001b[0mvalues\u001b[0m \u001b[1;33m=\u001b[0m \u001b[0mself\u001b[0m\u001b[1;33m.\u001b[0m\u001b[0mvalues\u001b[0m\u001b[1;33m\u001b[0m\u001b[1;33m\u001b[0m\u001b[0m\n\u001b[0;32m    579\u001b[0m \u001b[1;33m\u001b[0m\u001b[0m\n\u001b[1;32m--> 580\u001b[1;33m         \u001b[0mnew_values\u001b[0m \u001b[1;33m=\u001b[0m \u001b[0mastype_array_safe\u001b[0m\u001b[1;33m(\u001b[0m\u001b[0mvalues\u001b[0m\u001b[1;33m,\u001b[0m \u001b[0mdtype\u001b[0m\u001b[1;33m,\u001b[0m \u001b[0mcopy\u001b[0m\u001b[1;33m=\u001b[0m\u001b[0mcopy\u001b[0m\u001b[1;33m,\u001b[0m \u001b[0merrors\u001b[0m\u001b[1;33m=\u001b[0m\u001b[0merrors\u001b[0m\u001b[1;33m)\u001b[0m\u001b[1;33m\u001b[0m\u001b[1;33m\u001b[0m\u001b[0m\n\u001b[0m\u001b[0;32m    581\u001b[0m \u001b[1;33m\u001b[0m\u001b[0m\n\u001b[0;32m    582\u001b[0m         \u001b[0mnew_values\u001b[0m \u001b[1;33m=\u001b[0m \u001b[0mmaybe_coerce_values\u001b[0m\u001b[1;33m(\u001b[0m\u001b[0mnew_values\u001b[0m\u001b[1;33m)\u001b[0m\u001b[1;33m\u001b[0m\u001b[1;33m\u001b[0m\u001b[0m\n",
      "\u001b[1;32m~\\anaconda3\\lib\\site-packages\\pandas\\core\\dtypes\\cast.py\u001b[0m in \u001b[0;36mastype_array_safe\u001b[1;34m(values, dtype, copy, errors)\u001b[0m\n\u001b[0;32m   1290\u001b[0m \u001b[1;33m\u001b[0m\u001b[0m\n\u001b[0;32m   1291\u001b[0m     \u001b[1;32mtry\u001b[0m\u001b[1;33m:\u001b[0m\u001b[1;33m\u001b[0m\u001b[1;33m\u001b[0m\u001b[0m\n\u001b[1;32m-> 1292\u001b[1;33m         \u001b[0mnew_values\u001b[0m \u001b[1;33m=\u001b[0m \u001b[0mastype_array\u001b[0m\u001b[1;33m(\u001b[0m\u001b[0mvalues\u001b[0m\u001b[1;33m,\u001b[0m \u001b[0mdtype\u001b[0m\u001b[1;33m,\u001b[0m \u001b[0mcopy\u001b[0m\u001b[1;33m=\u001b[0m\u001b[0mcopy\u001b[0m\u001b[1;33m)\u001b[0m\u001b[1;33m\u001b[0m\u001b[1;33m\u001b[0m\u001b[0m\n\u001b[0m\u001b[0;32m   1293\u001b[0m     \u001b[1;32mexcept\u001b[0m \u001b[1;33m(\u001b[0m\u001b[0mValueError\u001b[0m\u001b[1;33m,\u001b[0m \u001b[0mTypeError\u001b[0m\u001b[1;33m)\u001b[0m\u001b[1;33m:\u001b[0m\u001b[1;33m\u001b[0m\u001b[1;33m\u001b[0m\u001b[0m\n\u001b[0;32m   1294\u001b[0m         \u001b[1;31m# e.g. astype_nansafe can fail on object-dtype of strings\u001b[0m\u001b[1;33m\u001b[0m\u001b[1;33m\u001b[0m\u001b[0m\n",
      "\u001b[1;32m~\\anaconda3\\lib\\site-packages\\pandas\\core\\dtypes\\cast.py\u001b[0m in \u001b[0;36mastype_array\u001b[1;34m(values, dtype, copy)\u001b[0m\n\u001b[0;32m   1235\u001b[0m \u001b[1;33m\u001b[0m\u001b[0m\n\u001b[0;32m   1236\u001b[0m     \u001b[1;32melse\u001b[0m\u001b[1;33m:\u001b[0m\u001b[1;33m\u001b[0m\u001b[1;33m\u001b[0m\u001b[0m\n\u001b[1;32m-> 1237\u001b[1;33m         \u001b[0mvalues\u001b[0m \u001b[1;33m=\u001b[0m \u001b[0mastype_nansafe\u001b[0m\u001b[1;33m(\u001b[0m\u001b[0mvalues\u001b[0m\u001b[1;33m,\u001b[0m \u001b[0mdtype\u001b[0m\u001b[1;33m,\u001b[0m \u001b[0mcopy\u001b[0m\u001b[1;33m=\u001b[0m\u001b[0mcopy\u001b[0m\u001b[1;33m)\u001b[0m\u001b[1;33m\u001b[0m\u001b[1;33m\u001b[0m\u001b[0m\n\u001b[0m\u001b[0;32m   1238\u001b[0m \u001b[1;33m\u001b[0m\u001b[0m\n\u001b[0;32m   1239\u001b[0m     \u001b[1;31m# in pandas we don't store numpy str dtypes, so convert to object\u001b[0m\u001b[1;33m\u001b[0m\u001b[1;33m\u001b[0m\u001b[0m\n",
      "\u001b[1;32m~\\anaconda3\\lib\\site-packages\\pandas\\core\\dtypes\\cast.py\u001b[0m in \u001b[0;36mastype_nansafe\u001b[1;34m(arr, dtype, copy, skipna)\u001b[0m\n\u001b[0;32m   1152\u001b[0m         \u001b[1;31m# work around NumPy brokenness, #1987\u001b[0m\u001b[1;33m\u001b[0m\u001b[1;33m\u001b[0m\u001b[0m\n\u001b[0;32m   1153\u001b[0m         \u001b[1;32mif\u001b[0m \u001b[0mnp\u001b[0m\u001b[1;33m.\u001b[0m\u001b[0missubdtype\u001b[0m\u001b[1;33m(\u001b[0m\u001b[0mdtype\u001b[0m\u001b[1;33m.\u001b[0m\u001b[0mtype\u001b[0m\u001b[1;33m,\u001b[0m \u001b[0mnp\u001b[0m\u001b[1;33m.\u001b[0m\u001b[0minteger\u001b[0m\u001b[1;33m)\u001b[0m\u001b[1;33m:\u001b[0m\u001b[1;33m\u001b[0m\u001b[1;33m\u001b[0m\u001b[0m\n\u001b[1;32m-> 1154\u001b[1;33m             \u001b[1;32mreturn\u001b[0m \u001b[0mlib\u001b[0m\u001b[1;33m.\u001b[0m\u001b[0mastype_intsafe\u001b[0m\u001b[1;33m(\u001b[0m\u001b[0marr\u001b[0m\u001b[1;33m,\u001b[0m \u001b[0mdtype\u001b[0m\u001b[1;33m)\u001b[0m\u001b[1;33m\u001b[0m\u001b[1;33m\u001b[0m\u001b[0m\n\u001b[0m\u001b[0;32m   1155\u001b[0m \u001b[1;33m\u001b[0m\u001b[0m\n\u001b[0;32m   1156\u001b[0m         \u001b[1;31m# if we have a datetime/timedelta array of objects\u001b[0m\u001b[1;33m\u001b[0m\u001b[1;33m\u001b[0m\u001b[0m\n",
      "\u001b[1;32m~\\anaconda3\\lib\\site-packages\\pandas\\_libs\\lib.pyx\u001b[0m in \u001b[0;36mpandas._libs.lib.astype_intsafe\u001b[1;34m()\u001b[0m\n",
      "\u001b[1;31mValueError\u001b[0m: invalid literal for int() with base 10: '_'"
     ]
    }
   ],
   "source": [
    "cust=cust.astype({'age': int})"
   ]
  },
  {
   "cell_type": "markdown",
   "metadata": {},
   "source": [
    "`-` \"_\" 항목을 NaN 값으로 치환"
   ]
  },
  {
   "cell_type": "code",
   "execution_count": null,
   "metadata": {},
   "outputs": [],
   "source": [
    "import numpy as np\n",
    "cust = cust.replace(\"_\", np.NaN)"
   ]
  },
  {
   "cell_type": "code",
   "execution_count": null,
   "metadata": {},
   "outputs": [],
   "source": [
    "cust.info()"
   ]
  },
  {
   "cell_type": "code",
   "execution_count": null,
   "metadata": {},
   "outputs": [],
   "source": [
    "#age 항목의 type 변경\n",
    "#NaN의 경우 int type을 지원하지 않아 float type으로 변경\n",
    "cust=cust.astype({'age': float })"
   ]
  },
  {
   "cell_type": "code",
   "execution_count": null,
   "metadata": {},
   "outputs": [],
   "source": [
    "cust.info()"
   ]
  },
  {
   "cell_type": "code",
   "execution_count": null,
   "metadata": {},
   "outputs": [],
   "source": [
    "cust.head()"
   ]
  },
  {
   "cell_type": "markdown",
   "metadata": {},
   "source": [
    " "
   ]
  },
  {
   "cell_type": "markdown",
   "metadata": {},
   "source": [
    "## 2. 결측치 처리하기"
   ]
  },
  {
   "cell_type": "markdown",
   "metadata": {},
   "source": [
    "`-` 파이썬에서 Copy 메소드를 사용하지 않으면 주소값을 복사해서 사용기 때문에 원본 값을 변경 시킴   \n",
    "\n",
    "`-` 따라서 원본 항목을 보전하면서 데이터를 보정하려면 copy 메소드를 사용하자."
   ]
  },
  {
   "cell_type": "code",
   "execution_count": null,
   "metadata": {},
   "outputs": [],
   "source": [
    "# Cust Data 복사\n",
    "cust_fix=cust.copy()\n",
    "cust_fix.head()"
   ]
  },
  {
   "cell_type": "code",
   "execution_count": null,
   "metadata": {},
   "outputs": [],
   "source": [
    "test=cust\n",
    "test.head()"
   ]
  },
  {
   "cell_type": "code",
   "execution_count": null,
   "metadata": {},
   "outputs": [],
   "source": [
    "test['age']=0\n",
    "test.head()"
   ]
  },
  {
   "cell_type": "code",
   "execution_count": null,
   "metadata": {},
   "outputs": [],
   "source": [
    "# test 데이터 변경 후 Cust 데이터 확인\n",
    "cust.head()"
   ]
  },
  {
   "cell_type": "code",
   "execution_count": null,
   "metadata": {},
   "outputs": [],
   "source": [
    "#Copy 메소드로 변경한 Cust_fix 데이터 확인\n",
    "cust_fix.head()"
   ]
  },
  {
   "cell_type": "markdown",
   "metadata": {},
   "source": [
    "`-` \"test\" 데이터프레임을 생성 후 값 변경 결과 원본데이터에 반영됨.\n",
    "\n",
    "`-` 그러나 `copy` method를 사용한 데이터프레임의 경우 원본 데이터의 변경이 일어나지 않음."
   ]
  },
  {
   "cell_type": "code",
   "execution_count": null,
   "metadata": {},
   "outputs": [],
   "source": [
    "cust=cust_fix.copy()"
   ]
  },
  {
   "cell_type": "markdown",
   "metadata": {},
   "source": [
    "### 2-1. <b>결측치 채우기 </b>"
   ]
  },
  {
   "cell_type": "markdown",
   "metadata": {},
   "source": [
    "`-` **\"fillna\"** 함수를 사용해서 특정 숫자나 문자로 결측치를 처리하는 방법\n"
   ]
  },
  {
   "cell_type": "code",
   "execution_count": null,
   "metadata": {},
   "outputs": [],
   "source": [
    "cust_fix.info()"
   ]
  },
  {
   "cell_type": "code",
   "execution_count": null,
   "metadata": {},
   "outputs": [],
   "source": [
    "cust=cust.fillna(15)\n",
    "cust.head()"
   ]
  },
  {
   "cell_type": "code",
   "execution_count": null,
   "metadata": {},
   "outputs": [],
   "source": [
    "cust.info()"
   ]
  },
  {
   "cell_type": "markdown",
   "metadata": {},
   "source": [
    "`-` fillna의 Method 파라미터를 사용하면, 사용자가 지정하는 일괄적인 값이 아닌 주변값을 활용하여 결측치를 채울수 있다."
   ]
  },
  {
   "cell_type": "markdown",
   "metadata": {},
   "source": [
    "`-` 뒤에 있는 data를 사용해서 결측치를 처리하는 방법"
   ]
  },
  {
   "cell_type": "code",
   "execution_count": null,
   "metadata": {},
   "outputs": [],
   "source": [
    "cust=cust_fix.copy()\n",
    "cust=cust.fillna(method='backfill')\n",
    "cust.head()"
   ]
  },
  {
   "cell_type": "markdown",
   "metadata": {},
   "source": [
    "`-` 앞에 있는 data를 사용해서 결측치를 처리하는 방법"
   ]
  },
  {
   "cell_type": "code",
   "execution_count": null,
   "metadata": {},
   "outputs": [],
   "source": [
    "cust=cust_fix.copy()\n",
    "cust=cust.fillna(method='ffill')\n",
    "cust.head()"
   ]
  },
  {
   "cell_type": "markdown",
   "metadata": {},
   "source": [
    "$\\divideontimes$ **Method 파리미터사용시 첫 Record 또는 마지막 Record가 결측치 인지 확인해야 합니다.**"
   ]
  },
  {
   "cell_type": "markdown",
   "metadata": {},
   "source": [
    "`-` Replace 함수를 사용해도 결측치 채우기가 가능 (중앙값 이용)"
   ]
  },
  {
   "cell_type": "code",
   "execution_count": null,
   "metadata": {},
   "outputs": [],
   "source": [
    "cust=cust_fix.copy()\n",
    "cust['age']=cust['age'].replace(np.nan, cust['age'].median())\n",
    "cust.head()"
   ]
  },
  {
   "cell_type": "markdown",
   "metadata": {},
   "source": [
    "`-` interpolate() 함수로 결측치 채우기 $\\to$ 선형방식은 값들을 같은 간격으로 처리"
   ]
  },
  {
   "cell_type": "code",
   "execution_count": null,
   "metadata": {},
   "outputs": [],
   "source": [
    "cust=cust_fix.copy()\n",
    "cust=cust.interpolate()\n",
    "cust.head()"
   ]
  },
  {
   "cell_type": "markdown",
   "metadata": {},
   "source": [
    "### 2-2. 결측치 제거\n",
    "\n",
    "`-` 결측치를 채우기로 처리하다보면 경우에 따라 값의 왜곡이 크게 발생하는 발생 하는 경우가 있습니다.    \n",
    "`-` 이때는 제거하기 기법을 사용하여 결측치를 처리하면 데이터의 정합성을 보존 할 수 있습니다."
   ]
  },
  {
   "cell_type": "markdown",
   "metadata": {},
   "source": [
    "* listwise 방식 : record의 항목 중 1개의 값이라도 NA이면 해당 데이터 행 전체 제거\n",
    "\n",
    "* pairwise 방식 : 모든 항목이 NA인 데이터 행만 제거"
   ]
  },
  {
   "cell_type": "code",
   "execution_count": null,
   "metadata": {},
   "outputs": [],
   "source": [
    "#listwise 방식으로 제거 하기\n",
    "cust=cust_fix.copy()\n",
    "cust=cust.dropna()\n",
    "cust.info()"
   ]
  },
  {
   "cell_type": "code",
   "execution_count": null,
   "metadata": {},
   "outputs": [],
   "source": [
    "#pairwise 방식으로 제거하기\n",
    "cust=cust_fix.copy()\n",
    "cust=cust.dropna(how='all')\n",
    "cust.info()"
   ]
  },
  {
   "cell_type": "markdown",
   "metadata": {},
   "source": [
    "`-` pairwise 방식 확인을 위한 데이터 임의 변경"
   ]
  },
  {
   "cell_type": "code",
   "execution_count": null,
   "metadata": {},
   "outputs": [],
   "source": [
    "cust=cust_fix.copy()\n",
    "cust[['npay','stop','termination']]=cust[['npay','stop','termination']].replace('N', np.nan)\n",
    "\n",
    "cust[['service','avg_bill','A_bill','B_bill']]=cust[['service','avg_bill','A_bill','B_bill']].replace(0, np.nan)\n",
    "\n",
    "cust=cust.dropna(how='all')\n",
    "\n",
    "cust[['npay','stop','termination']]=cust[['npay','stop','termination']].replace(np.nan,'N')\n",
    "\n",
    "cust[['service','avg_bill','A_bill','B_bill']]=cust[['service','avg_bill','A_bill','B_bill']].replace(np.nan, 0)"
   ]
  },
  {
   "cell_type": "code",
   "execution_count": null,
   "metadata": {},
   "outputs": [],
   "source": [
    "cust.info()"
   ]
  },
  {
   "cell_type": "code",
   "execution_count": null,
   "metadata": {},
   "outputs": [],
   "source": [
    "cust=cust_fix.copy()\n",
    "cust[(cust['avg_bill']==0)]"
   ]
  },
  {
   "cell_type": "markdown",
   "metadata": {},
   "source": [
    "`-` NA의 갯수에 따라 결측데이터를 판단하고자 한다면, thresh 파라미터를 사용\n",
    "\n",
    "`-` NA가 아닌값이 n개 이상인(한 개체에서) 경우만 남겨라는 뜻으로 해석하면 됩니다."
   ]
  },
  {
   "cell_type": "markdown",
   "metadata": {},
   "source": [
    "`-` 임계치를 설정해서 제거하기"
   ]
  },
  {
   "cell_type": "code",
   "execution_count": null,
   "metadata": {},
   "outputs": [],
   "source": [
    "cust=cust_fix.copy()\n",
    "cust=cust.dropna(thresh=10)\n",
    "cust.info()"
   ]
  },
  {
   "cell_type": "markdown",
   "metadata": {},
   "source": [
    "특정 열에 있는 NA만 참고하여 결측치를 제거하려면 Subset 파라미터를 사용"
   ]
  },
  {
   "cell_type": "markdown",
   "metadata": {},
   "source": [
    "특정열 안에서만 삭제하기"
   ]
  },
  {
   "cell_type": "code",
   "execution_count": null,
   "metadata": {},
   "outputs": [],
   "source": [
    "cust=cust_fix.copy()\n",
    "cust=cust.dropna(subset=['class'])\n",
    "cust.info()"
   ]
  },
  {
   "cell_type": "markdown",
   "metadata": {},
   "source": [
    "## [실습1] 수업용 데이터 결측치 처리 하기   "
   ]
  },
  {
   "cell_type": "markdown",
   "metadata": {},
   "source": [
    "`-` age를 제외한 모든 연속형 변수의 결측치를 0으로 바꾼 후, 결측치가 1개라도 있는 데이터는 제거"
   ]
  },
  {
   "cell_type": "code",
   "execution_count": null,
   "metadata": {},
   "outputs": [],
   "source": [
    "cust=cust_fix.copy()"
   ]
  },
  {
   "cell_type": "code",
   "execution_count": null,
   "metadata": {},
   "outputs": [],
   "source": [
    "cust.info()"
   ]
  },
  {
   "cell_type": "code",
   "execution_count": null,
   "metadata": {},
   "outputs": [],
   "source": [
    "cust.service.unique()"
   ]
  },
  {
   "cell_type": "code",
   "execution_count": null,
   "metadata": {},
   "outputs": [],
   "source": [
    "cust[['service','avg_bill','A_bill','B_bill']]=cust[['service','avg_bill','A_bill','B_bill']].fillna(0)\n",
    "cust.head()"
   ]
  },
  {
   "cell_type": "code",
   "execution_count": null,
   "metadata": {},
   "outputs": [],
   "source": [
    "cust=cust.dropna()"
   ]
  },
  {
   "cell_type": "markdown",
   "metadata": {},
   "source": [
    "## 3. 이상치 처리하기\n",
    "\n",
    "### 3-1. 범주형 데이터 이상치 처리\n",
    "\n",
    "`-` 범주형 데이터의 경우 value_counts 메소드를 사용하면, 값의 분포와 함께 Trash 값이 있는지도 확인 가능합니다."
   ]
  },
  {
   "cell_type": "markdown",
   "metadata": {},
   "source": [
    "`-` 범주형 데이터의 값 분포 확인"
   ]
  },
  {
   "cell_type": "code",
   "execution_count": null,
   "metadata": {},
   "outputs": [],
   "source": [
    "print(cust['sex'].value_counts())"
   ]
  },
  {
   "cell_type": "code",
   "execution_count": null,
   "metadata": {},
   "outputs": [],
   "source": [
    "print(cust['class'].value_counts())"
   ]
  },
  {
   "cell_type": "code",
   "execution_count": null,
   "metadata": {},
   "outputs": [],
   "source": [
    "print(cust['npay'].value_counts())"
   ]
  },
  {
   "cell_type": "markdown",
   "metadata": {},
   "source": [
    "`-` Class의 값에는 'C, D, E, F, G, H'가 들어있는것을 확인    \n",
    "\n",
    "* 실제로 그렇지는 않지만 'H'가 실제로는 존재하지 않는 값이라고 가정 $\\to$ 이상치"
   ]
  },
  {
   "cell_type": "markdown",
   "metadata": {},
   "source": [
    "`-` 이상치 제거하기"
   ]
  },
  {
   "cell_type": "code",
   "execution_count": null,
   "metadata": {},
   "outputs": [],
   "source": [
    "cust_data=cust[(cust['class']!='H')]\n",
    "\n",
    "print(cust_data['class'].value_counts())"
   ]
  },
  {
   "cell_type": "markdown",
   "metadata": {},
   "source": [
    "`-` 이상치 변경하기"
   ]
  },
  {
   "cell_type": "code",
   "execution_count": null,
   "metadata": {},
   "outputs": [],
   "source": [
    "cust_data=cust.copy()\n",
    "\n",
    "cust_data['class']=cust_data['class'].replace('H','F')\n",
    "\n",
    "print(cust_data['class'].value_counts())"
   ]
  },
  {
   "cell_type": "markdown",
   "metadata": {},
   "source": [
    "### 3-2. 수치형 데이터 이상치 처리"
   ]
  },
  {
   "cell_type": "code",
   "execution_count": null,
   "metadata": {},
   "outputs": [],
   "source": [
    "cust.describe()"
   ]
  },
  {
   "cell_type": "markdown",
   "metadata": {},
   "source": [
    "`-` Q1와 Q3가 거리의 1.5배가 넘어가는 값을 Outlier 라고 판단    \n",
    "`-` 이 값들은 이상치로써 일반적으로 제거 또는 변경하여 데이터를 분석,학습    \n",
    "\n",
    "(단, 이상치 분석시에는 제거하지 않습니다.)    "
   ]
  },
  {
   "cell_type": "markdown",
   "metadata": {},
   "source": [
    "$$\\text {IQR} = 1.5 \\times (\\text {Q}_3-\\text {Q}_1)$$"
   ]
  },
  {
   "cell_type": "markdown",
   "metadata": {},
   "source": [
    "$$ \\text {Outlier} < \\text{Q}_1 - \\text{IQR} \\quad \\&  \\quad \\text {Outlier} > \\text{Q}_3 + \\text{IQR}$$"
   ]
  },
  {
   "cell_type": "code",
   "execution_count": null,
   "metadata": {},
   "outputs": [],
   "source": [
    "#이상치를 제거하는 함수 만들기\n",
    "def removeOutliers(x, column):\n",
    "    # Q1, Q3구하기\n",
    "    q1 = x[column].quantile(0.25)\n",
    "    q3 = x[column].quantile(0.75)\n",
    "    \n",
    "    # 1.5 * IQR(Q3 - Q1)\n",
    "    iqr = 1.5 * (q3 - q1)\n",
    "    \n",
    "    # 이상치를 제거\n",
    "    y=x[(x[column] < (q3 + iqr)) & (x[column] > (q1 - iqr))]\n",
    "    \n",
    "    return(y)"
   ]
  },
  {
   "cell_type": "code",
   "execution_count": null,
   "metadata": {},
   "outputs": [],
   "source": [
    "#연속형 데이터의 이상치 제거하기\n",
    "cust_data=removeOutliers(cust, 'avg_bill')\n",
    "cust_data.describe()"
   ]
  },
  {
   "cell_type": "code",
   "execution_count": null,
   "metadata": {},
   "outputs": [],
   "source": [
    "cust_data.info()"
   ]
  },
  {
   "cell_type": "markdown",
   "metadata": {},
   "source": [
    "`-` 동일한 함수로 나머지 연속형 변수에 대해서도 이상치를 처리"
   ]
  },
  {
   "cell_type": "code",
   "execution_count": null,
   "metadata": {},
   "outputs": [],
   "source": [
    "cust_data=removeOutliers(cust_data, 'A_bill')\n",
    "cust_data=removeOutliers(cust_data, 'B_bill')\n",
    "cust_data.describe()"
   ]
  },
  {
   "cell_type": "code",
   "execution_count": null,
   "metadata": {},
   "outputs": [],
   "source": [
    "cust_data.info()"
   ]
  },
  {
   "cell_type": "markdown",
   "metadata": {},
   "source": [
    "`-` 이상치를 변경하는 함수 만들기\n",
    "\n",
    "* `q1-IQR` 값보다 작은값들을 `q1-iqr` 값으로 대체\n",
    "\n",
    "* `q3+IQR` 값보다 큰값들을 `q1+iqr` 값으로 대체\n"
   ]
  },
  {
   "cell_type": "code",
   "execution_count": null,
   "metadata": {},
   "outputs": [],
   "source": [
    "def changeOutliers(data, column):\n",
    "    x=data.copy()\n",
    "    # Q1, Q3구하기\n",
    "    q1 = x[column].quantile(0.25)\n",
    "    q3 = x[column].quantile(0.75)\n",
    "    \n",
    "    # 1.5 * IQR(Q3 - Q1)\n",
    "    iqr = 1.5 * (q3 - q1)\n",
    "    \n",
    "    #이상치 대체값 설정하기\n",
    "    Min = 0\n",
    "    if (q1 - iqr) > 0 : Min=(q1 - iqr)\n",
    "        \n",
    "    Max = q3 + iqr\n",
    "    \n",
    "    # 이상치를 변경\n",
    "    # X의 값을 직졉 변경해도 되지만 Pyhon Warning이 나오기 떄문에 인덱스를 이용\n",
    "    x.loc[(x[column] > Max), column]= Max\n",
    "    x.loc[(x[column] < Min), column]= Min\n",
    "    \n",
    "    return(x)"
   ]
  },
  {
   "cell_type": "code",
   "execution_count": null,
   "metadata": {},
   "outputs": [],
   "source": [
    "#연속형 데이터의 이상치 변경하기\n",
    "cust_data=changeOutliers(cust, 'avg_bill')\n",
    "cust_data.describe()"
   ]
  },
  {
   "cell_type": "code",
   "execution_count": null,
   "metadata": {},
   "outputs": [],
   "source": [
    "cust.describe()"
   ]
  },
  {
   "cell_type": "code",
   "execution_count": null,
   "metadata": {},
   "outputs": [],
   "source": [
    "# 동일한 함수로 나머지 연속형 변수에 대해서도 이상치를 처리\n",
    "cust_data=changeOutliers(cust_data, 'A_bill')\n",
    "cust_data=changeOutliers(cust_data, 'B_bill')\n",
    "cust_data.describe()"
   ]
  },
  {
   "cell_type": "code",
   "execution_count": null,
   "metadata": {},
   "outputs": [],
   "source": [
    "cust_data.info()"
   ]
  },
  {
   "cell_type": "markdown",
   "metadata": {},
   "source": [
    "## 4. Feature Engineering  "
   ]
  },
  {
   "cell_type": "markdown",
   "metadata": {},
   "source": [
    "`-` 초기 데이터로부터 특징을 가공하고 생산하여 입력 데이터를 생성하는 과정\n",
    "\n",
    "`-` Feature Engineering을 통해 AI가 학습하기 좋은 형태로 데이터를 만들거나, 새로운 입력 데이터를 생성 할 수 있음.\n",
    "\n",
    "(이때 데이터를 수정하지 않도록 주의 합니다.)"
   ]
  },
  {
   "cell_type": "code",
   "execution_count": null,
   "metadata": {},
   "outputs": [],
   "source": [
    "cust_data.head()"
   ]
  },
  {
   "cell_type": "code",
   "execution_count": null,
   "metadata": {},
   "outputs": [],
   "source": [
    "cust_data['by_age']=cust_data['age']//10*10"
   ]
  },
  {
   "cell_type": "markdown",
   "metadata": {},
   "source": [
    "### 4-1. Binning"
   ]
  },
  {
   "cell_type": "markdown",
   "metadata": {},
   "source": [
    "`-` 단어 뜻 그대로 자료를 일정한 규격의 통에 넣는것 입니다.`-` \n",
    "\n",
    "`-` 만약 관측치가 연속형이면서 범위가 너무 다양할 경우, 적절히 그룹을 지어주면 데이터를 이해하기가 더 쉬워질수 있기에 사용\n",
    "\n",
    "`-` 즉, 연속형 변수를 범주형 변수로 만드는 방법이라고 보시면 됩니다."
   ]
  },
  {
   "cell_type": "markdown",
   "metadata": {},
   "source": [
    "`-` age를 활용하여 나이대(\"by_age\")  Feature 만들기"
   ]
  },
  {
   "cell_type": "code",
   "execution_count": null,
   "metadata": {
    "scrolled": false
   },
   "outputs": [],
   "source": [
    "cust_data.head()"
   ]
  },
  {
   "cell_type": "code",
   "execution_count": null,
   "metadata": {},
   "outputs": [],
   "source": [
    "cust_data.info()"
   ]
  },
  {
   "cell_type": "code",
   "execution_count": null,
   "metadata": {},
   "outputs": [],
   "source": [
    "#NaN값이 더이상 존재하지 않기 때문에 age와 by_age는 int로 형변환\n",
    "cust_data=cust_data.astype({'age': int, 'by_age':int})"
   ]
  },
  {
   "cell_type": "markdown",
   "metadata": {},
   "source": [
    "#### cut\n",
    "\n",
    "`-` Cut 함수를 사용하면 구간을 지정해서 쉽게 범주화 할 수 있다.\n",
    "\n",
    "`-` Bins 구간 사이의 값을 범주화 하여 Label에 지정된 카테고리명을 사용한다."
   ]
  },
  {
   "cell_type": "code",
   "execution_count": null,
   "metadata": {},
   "outputs": [],
   "source": [
    "q1=cust_data['avg_bill'].quantile(0.25)\n",
    "q3=cust_data['avg_bill'].quantile(0.75)\n",
    "print(q1,q3)"
   ]
  },
  {
   "cell_type": "markdown",
   "metadata": {},
   "source": [
    "`-` cut 메소드를 활용하여 요금을 3개 구간으로 나누기"
   ]
  },
  {
   "cell_type": "code",
   "execution_count": null,
   "metadata": {},
   "outputs": [],
   "source": [
    "?pd.cut # default : right = True"
   ]
  },
  {
   "cell_type": "code",
   "execution_count": null,
   "metadata": {},
   "outputs": [],
   "source": [
    "cust_data['bill_rating'] = pd.cut(cust_data[\"avg_bill\"], \n",
    "                                  bins=[0,q1,q3,cust_data[\"avg_bill\"].max()] , \n",
    "                                  labels=['low', 'mid','high'])\n",
    "cust_data.head()"
   ]
  },
  {
   "cell_type": "code",
   "execution_count": null,
   "metadata": {},
   "outputs": [],
   "source": [
    "print(cust_data['bill_rating'].value_counts())"
   ]
  },
  {
   "cell_type": "markdown",
   "metadata": {},
   "source": [
    "#### qcut"
   ]
  },
  {
   "cell_type": "markdown",
   "metadata": {},
   "source": [
    "`-` cut과 비슷하지만 같은 크기로 구간을 나누어 범주형 변수로 만든다"
   ]
  },
  {
   "cell_type": "markdown",
   "metadata": {},
   "source": [
    "`-` qcut 메소드를 활용하여 요금을 동일 비율로 3개 구간으로 나누기"
   ]
  },
  {
   "cell_type": "code",
   "execution_count": null,
   "metadata": {},
   "outputs": [],
   "source": [
    "cust_data['bill_rating'] = pd.qcut(cust_data[\"avg_bill\"], \n",
    "                                       3 , \n",
    "                                       labels=['low', 'mid','high'])\n",
    "\n",
    "cust_data.head()"
   ]
  },
  {
   "cell_type": "code",
   "execution_count": null,
   "metadata": {},
   "outputs": [],
   "source": [
    "print(cust_data['bill_rating'].value_counts())"
   ]
  },
  {
   "cell_type": "markdown",
   "metadata": {},
   "source": [
    "### 4-2. Scaling\n",
    "\n",
    "`-` 각 컬럼에 들어있는 데이터의 상대적 크기에 따라 분석 결과나 모델링 결과가 달라질수 있다.\n",
    "\n",
    "`-` 0 ~ 1000까지의 값을 가지는 변수 A와 0 ~ 10까지의 값을 가지는 변수 B를 가지고 분석을 수행 \n",
    "\n",
    "`-` 이 경우, 상대적으로 큰 숫자를 가지는 A변수의 영향이 더 크게 반영된다.\n",
    "\n",
    "`-` 따라서, 숫자데이터는 상대적 크기 차이를 제거할 필요가 있고, 이를 scaling이라고 합니다.    \n",
    "\n",
    "#### Standardization\n",
    "\n",
    "`-` 정규 분포를 평균이 0 이고 분산이 1 인  표준 정규 분포로 변환합니다. "
   ]
  },
  {
   "cell_type": "code",
   "execution_count": null,
   "metadata": {},
   "outputs": [],
   "source": [
    "cust_data_num = cust_data[['avg_bill', 'A_bill', 'B_bill']]\n",
    "#표준화\n",
    "Standardization_df = (cust_data_num - cust_data_num.mean())/cust_data_num.std()\n",
    "Standardization_df.head()"
   ]
  },
  {
   "cell_type": "code",
   "execution_count": null,
   "metadata": {},
   "outputs": [],
   "source": [
    "Standardization_df.describe()"
   ]
  },
  {
   "cell_type": "markdown",
   "metadata": {},
   "source": [
    "####  Normalization\n",
    "값들을 모두 0과 1사이의 값으로 변환"
   ]
  },
  {
   "cell_type": "markdown",
   "metadata": {},
   "source": [
    "$$\\text {normalization} = \\frac {X-min_{x}}{max_{x}-min_{x}}$$"
   ]
  },
  {
   "cell_type": "markdown",
   "metadata": {},
   "source": [
    "`-` 사이킷런 패키지의 MinMaxScaler를 이용하여  Scaling"
   ]
  },
  {
   "cell_type": "code",
   "execution_count": null,
   "metadata": {},
   "outputs": [],
   "source": [
    "from sklearn.preprocessing import MinMaxScaler\n",
    "scaler=MinMaxScaler()\n",
    "\n",
    "normalization_df=cust_data_num.copy()\n",
    "\n",
    "normalization_df[:]=scaler.fit_transform(normalization_df[:])\n",
    "\n",
    "normalization_df.head()"
   ]
  },
  {
   "cell_type": "code",
   "execution_count": null,
   "metadata": {},
   "outputs": [],
   "source": [
    "normalization_df.describe()"
   ]
  },
  {
   "cell_type": "markdown",
   "metadata": {},
   "source": [
    "`-` MinMaxScaler 함수 구현하기"
   ]
  },
  {
   "cell_type": "code",
   "execution_count": null,
   "metadata": {},
   "outputs": [],
   "source": [
    "normalization_df = (cust_data_num - cust_data_num.min())/(cust_data_num.max()-cust_data_num.min())\n",
    "normalization_df.head()"
   ]
  },
  {
   "cell_type": "markdown",
   "metadata": {},
   "source": [
    "### 4-3. One-Hot Encording\n",
    "\n",
    "`-` 원-핫 인코딩은 간단히 말해 한 개의 요소는 True, 나머지 요소는 False로 만들어 주는 기법\n",
    "\n",
    "`-` 기계 학습의 주요 문제 중 하나는 많은 알고리즘이 범주형 데이터를 입력값으로 수용하지 않는다는 점이다. \n",
    "\n",
    "`-` 이를 One-Hot Encording을 통해 해결 할 수 있다.\n",
    "\n",
    "`-` 정수 치환으로 해결 할 수도 있지만 이럴 경우 성능이 저하되거나 예상치 못한 결과가 발생할 수 있다."
   ]
  },
  {
   "cell_type": "markdown",
   "metadata": {},
   "source": [
    "`-` pandas에서는 `get_dummies`함수를 사용하면 쉽게 One-Hot Encording이 가능\n"
   ]
  },
  {
   "cell_type": "code",
   "execution_count": null,
   "metadata": {},
   "outputs": [],
   "source": [
    "pd.get_dummies(cust_data['class'])"
   ]
  },
  {
   "cell_type": "markdown",
   "metadata": {},
   "source": [
    "`-` columns를 사용해서 기존 테이블에 One-Hot Encording으로 치환된 변수 생성하기"
   ]
  },
  {
   "cell_type": "code",
   "execution_count": null,
   "metadata": {},
   "outputs": [],
   "source": [
    "cust_data_end=pd.get_dummies(cust_data, columns=['class'])\n",
    "cust_data_end"
   ]
  },
  {
   "cell_type": "markdown",
   "metadata": {},
   "source": [
    "***"
   ]
  },
  {
   "cell_type": "markdown",
   "metadata": {},
   "source": [
    "## [실습2] 수업용 데이터 이상치 처리와 Feature Engineering 하기\n",
    "\n",
    "\n",
    "cust 데이터의 이상치는 제거하고, 나이는 5단위로 범주화, 평균 요금은 5개 구간으로 나누어 새로운 변수를 만들어 데이터를 저장\n",
    "\n",
    "* 이상치 : InterQuartile Range의 1.5배가 넘는 수 (처리 대상 Feature : avg_bill, A_bill, B_bill)\n",
    "* by_age : 나이는 0 ~ 4세는 0/ 5 ~ 9세는 5 / 10 ~ 14세는 10으로 5단위 범주화\n",
    "* bill_rating : 전체 평균 요금을 균등비율로 low / lowmid / mid / midhigh / high 5단계로 구분"
   ]
  },
  {
   "cell_type": "code",
   "execution_count": null,
   "metadata": {},
   "outputs": [],
   "source": [
    "#이상치를 제거하는 함수 만들기\n",
    "def removeOutliers(x, column):\n",
    "    # Q1, Q3구하기\n",
    "    q1 = x[column].quantile(0.25)\n",
    "    q3 = x[column].quantile(0.75)\n",
    "    \n",
    "    # 1.5 * IQR(Q3 - Q1)\n",
    "    iqr = 1.5 * (q3 - q1)\n",
    "    \n",
    "    # 이상치를 제거\n",
    "    y=x[(x[column] < (q3 + iqr)) & (x[column] > (q1 - iqr))]\n",
    "    \n",
    "    return(y)"
   ]
  },
  {
   "cell_type": "code",
   "execution_count": null,
   "metadata": {},
   "outputs": [],
   "source": [
    "cust_data=removeOutliers(cust, 'avg_bill')\n",
    "cust_data=removeOutliers(cust_data, 'A_bill')\n",
    "cust_data=removeOutliers(cust_data, 'B_bill')"
   ]
  },
  {
   "cell_type": "code",
   "execution_count": null,
   "metadata": {},
   "outputs": [],
   "source": [
    "cust_data['by_age']=cust_data['age']//5*5\n",
    "cust_data=cust_data.astype({'age': int, 'by_age':int})"
   ]
  },
  {
   "cell_type": "code",
   "execution_count": null,
   "metadata": {},
   "outputs": [],
   "source": [
    "cust_data['bill_rating'] = pd.qcut(cust_data[\"avg_bill\"], 5 , labels=['low','lowmid', 'mid','midhigh','high'])\n",
    "cust_data.head()"
   ]
  },
  {
   "cell_type": "code",
   "execution_count": null,
   "metadata": {},
   "outputs": [],
   "source": [
    "cust_data.to_csv('cust_data.csv', index=False)"
   ]
  }
 ],
 "metadata": {
  "kernelspec": {
   "display_name": "Python 3 (ipykernel)",
   "language": "python",
   "name": "python3"
  },
  "language_info": {
   "codemirror_mode": {
    "name": "ipython",
    "version": 3
   },
   "file_extension": ".py",
   "mimetype": "text/x-python",
   "name": "python",
   "nbconvert_exporter": "python",
   "pygments_lexer": "ipython3",
   "version": "3.9.13"
  },
  "toc": {
   "base_numbering": 1,
   "nav_menu": {},
   "number_sections": false,
   "sideBar": true,
   "skip_h1_title": false,
   "title_cell": "Table of Contents",
   "title_sidebar": "Contents",
   "toc_cell": false,
   "toc_position": {
    "height": "700.667px",
    "left": "29px",
    "top": "110.229px",
    "width": "281.698px"
   },
   "toc_section_display": true,
   "toc_window_display": true
  }
 },
 "nbformat": 4,
 "nbformat_minor": 4
}
