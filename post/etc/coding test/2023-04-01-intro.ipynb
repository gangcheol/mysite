{
 "cells": [
  {
   "cell_type": "raw",
   "metadata": {
    "id": "30T-1BefXWCF"
   },
   "source": [
    "---\n",
    "title : \"01. 코딩 테스트 개요 및 파이썬 문법\"\n",
    "author : \"GANGCHEOL LEE\"\n",
    "date : \"04/01/23\"\n",
    "categories : [\"python\",\"coding test\"]\n",
    "---"
   ]
  },
  {
   "cell_type": "markdown",
   "metadata": {
    "id": "V8w-a0zPXy7i"
   },
   "source": [
    "# 알고리즘 성능 평가"
   ]
  },
  {
   "cell_type": "markdown",
   "metadata": {
    "id": "wd_PO_GDYME3"
   },
   "source": [
    "## 복잡도 (Complexity)"
   ]
  },
  {
   "cell_type": "markdown",
   "metadata": {
    "id": "uoo1Vi5mYSeR"
   },
   "source": [
    "* 시간 복잡도 : 얼마나 오래걸리는가\n",
    "* 공간 복잡도 : 얼마나 메모리를 차지하는가"
   ]
  },
  {
   "cell_type": "markdown",
   "metadata": {
    "id": "qUoU179bYwD9"
   },
   "source": [
    "### 빅오 표기법 (Big-O Notation) "
   ]
  },
  {
   "cell_type": "markdown",
   "metadata": {
    "id": "yxbZZoF0YzoL"
   },
   "source": [
    "* 가장 빠르게 증가하는 항만을 고려하는 표기법"
   ]
  },
  {
   "cell_type": "markdown",
   "metadata": {
    "id": "hsGIfqJVY8R8"
   },
   "source": [
    "$$3N^3 + 5N^2 + 1,000,000$$"
   ]
  },
  {
   "cell_type": "markdown",
   "metadata": {
    "id": "ZCADCItyZDfI"
   },
   "source": [
    "* 위의 문제의 경우 $O(N^3)$으로 표기"
   ]
  },
  {
   "cell_type": "markdown",
   "metadata": {
    "id": "wECRLzszZOjJ"
   },
   "source": [
    "* 복잡도 크기 순서"
   ]
  },
  {
   "cell_type": "markdown",
   "metadata": {
    "id": "4dtsTjlNZTC9"
   },
   "source": [
    "$$O(1)< O(\\log N)< O(N)< O(N\\log N)< O(N^2)< O(N^3)< O(2^n)$$"
   ]
  },
  {
   "cell_type": "markdown",
   "metadata": {
    "id": "8XwsiEG0aE95"
   },
   "source": [
    "* 문제에서 가장 먼저 확인해야 하는 내용은 **시간제한(수행시간 요구사항)** 이다."
   ]
  },
  {
   "cell_type": "markdown",
   "metadata": {
    "id": "4dD-Qp1KaUZw"
   },
   "source": [
    "`-` 시간제한이 1초인 문제를 만났을때, 일반적인 기준은 아래와 같다."
   ]
  },
  {
   "cell_type": "markdown",
   "metadata": {
    "id": "LmLri9eNaac9"
   },
   "source": [
    "1. $N = 500 \\to O(N^3)$\n",
    "2. $N = 2,000 \\to O(N^2)$\n",
    "3. $N = 100,000 \\to O(N\\log N)$\n",
    "4. $N = 10,000,000 \\to O(N)$"
   ]
  },
  {
   "cell_type": "markdown",
   "metadata": {
    "id": "9cQYSZb2a1Rx"
   },
   "source": [
    "# 파이썬 기초"
   ]
  },
  {
   "cell_type": "markdown",
   "metadata": {
    "id": "UbY5mwKXbN1Z"
   },
   "source": [
    "## 지수 표현 방식"
   ]
  },
  {
   "cell_type": "markdown",
   "metadata": {
    "id": "sn1peTHGbpS8"
   },
   "source": [
    "$$숫자 \\times e^{n} = 숫자 \\times 10^{n}$$"
   ]
  },
  {
   "cell_type": "code",
   "execution_count": 2,
   "metadata": {
    "colab": {
     "base_uri": "https://localhost:8080/"
    },
    "executionInfo": {
     "elapsed": 289,
     "status": "ok",
     "timestamp": 1680312517530,
     "user": {
      "displayName": "이강철",
      "userId": "13507850890638580947"
     },
     "user_tz": -540
    },
    "id": "Qq9D12dVbQf4",
    "outputId": "a7222989-362d-47f8-b1d9-b924308c3fce"
   },
   "outputs": [
    {
     "data": {
      "text/plain": [
       "1000000000.0"
      ]
     },
     "execution_count": 2,
     "metadata": {},
     "output_type": "execute_result"
    }
   ],
   "source": [
    "a = 1e9;a"
   ]
  },
  {
   "cell_type": "code",
   "execution_count": 4,
   "metadata": {
    "colab": {
     "base_uri": "https://localhost:8080/"
    },
    "executionInfo": {
     "elapsed": 294,
     "status": "ok",
     "timestamp": 1680312524695,
     "user": {
      "displayName": "이강철",
      "userId": "13507850890638580947"
     },
     "user_tz": -540
    },
    "id": "Kr-7eJYKbkR3",
    "outputId": "6a7d2dd2-bf6b-4aec-d80c-4cd33aacb67b"
   },
   "outputs": [
    {
     "data": {
      "text/plain": [
       "752.5"
      ]
     },
     "execution_count": 4,
     "metadata": {},
     "output_type": "execute_result"
    }
   ],
   "source": [
    "b= 75.25e1\n",
    "b"
   ]
  },
  {
   "cell_type": "code",
   "execution_count": 6,
   "metadata": {
    "colab": {
     "base_uri": "https://localhost:8080/"
    },
    "executionInfo": {
     "elapsed": 299,
     "status": "ok",
     "timestamp": 1680312585298,
     "user": {
      "displayName": "이강철",
      "userId": "13507850890638580947"
     },
     "user_tz": -540
    },
    "id": "FXEeL453bmFV",
    "outputId": "47bf3de4-0923-4449-c73e-dd79c06b021f"
   },
   "outputs": [
    {
     "data": {
      "text/plain": [
       "3.954"
      ]
     },
     "execution_count": 6,
     "metadata": {},
     "output_type": "execute_result"
    }
   ],
   "source": [
    "a = 3954e-3\n",
    "a"
   ]
  },
  {
   "cell_type": "code",
   "execution_count": 9,
   "metadata": {
    "colab": {
     "base_uri": "https://localhost:8080/"
    },
    "executionInfo": {
     "elapsed": 305,
     "status": "ok",
     "timestamp": 1680312641202,
     "user": {
      "displayName": "이강철",
      "userId": "13507850890638580947"
     },
     "user_tz": -540
    },
    "id": "-D0TpIXgb3wz",
    "outputId": "ff48af89-ba09-4f5e-d765-d782382d8dbc"
   },
   "outputs": [
    {
     "data": {
      "text/plain": [
       "1000000000"
      ]
     },
     "execution_count": 9,
     "metadata": {},
     "output_type": "execute_result"
    }
   ],
   "source": [
    "INF = 1e9\n",
    "INF; int(INF)"
   ]
  },
  {
   "cell_type": "code",
   "execution_count": 10,
   "metadata": {
    "colab": {
     "base_uri": "https://localhost:8080/"
    },
    "executionInfo": {
     "elapsed": 273,
     "status": "ok",
     "timestamp": 1680312692650,
     "user": {
      "displayName": "이강철",
      "userId": "13507850890638580947"
     },
     "user_tz": -540
    },
    "id": "vxKGZxujcJ6b",
    "outputId": "db22b1bb-55bf-4938-c21a-4f83cd3f7868"
   },
   "outputs": [
    {
     "data": {
      "text/plain": [
       "3.95"
      ]
     },
     "execution_count": 10,
     "metadata": {},
     "output_type": "execute_result"
    }
   ],
   "source": [
    "round(a,2)"
   ]
  },
  {
   "cell_type": "markdown",
   "metadata": {
    "id": "HNLxPGX9cSQo"
   },
   "source": [
    "## 사칙 연산"
   ]
  },
  {
   "cell_type": "markdown",
   "metadata": {
    "id": "7uWaG6N3cTeh"
   },
   "source": [
    "### 나누기 연산"
   ]
  },
  {
   "cell_type": "markdown",
   "metadata": {
    "id": "VFB5rBurcXh_"
   },
   "source": [
    "주의~!! 실수형으로 출력"
   ]
  },
  {
   "cell_type": "code",
   "execution_count": 11,
   "metadata": {
    "colab": {
     "base_uri": "https://localhost:8080/"
    },
    "executionInfo": {
     "elapsed": 417,
     "status": "ok",
     "timestamp": 1680312749290,
     "user": {
      "displayName": "이강철",
      "userId": "13507850890638580947"
     },
     "user_tz": -540
    },
    "id": "oGjSHO1Mcb6_",
    "outputId": "6b98962a-c02b-4b84-b80b-0fa562cda8b1"
   },
   "outputs": [
    {
     "data": {
      "text/plain": [
       "2.3333333333333335"
      ]
     },
     "execution_count": 11,
     "metadata": {},
     "output_type": "execute_result"
    }
   ],
   "source": [
    "7/3"
   ]
  },
  {
   "cell_type": "markdown",
   "metadata": {
    "id": "jbei2HepcdF4"
   },
   "source": [
    "### 나머지 연산"
   ]
  },
  {
   "cell_type": "code",
   "execution_count": 13,
   "metadata": {
    "colab": {
     "base_uri": "https://localhost:8080/"
    },
    "executionInfo": {
     "elapsed": 324,
     "status": "ok",
     "timestamp": 1680312793820,
     "user": {
      "displayName": "이강철",
      "userId": "13507850890638580947"
     },
     "user_tz": -540
    },
    "id": "EC_HyHFPcgrQ",
    "outputId": "fde0711b-667a-46b7-f4d5-a395566fb0da"
   },
   "outputs": [
    {
     "data": {
      "text/plain": [
       "1"
      ]
     },
     "execution_count": 13,
     "metadata": {},
     "output_type": "execute_result"
    }
   ],
   "source": [
    "a = 7\n",
    "b = 3 \n",
    "\n",
    "a % b"
   ]
  },
  {
   "cell_type": "markdown",
   "metadata": {
    "id": "LLOSVIubcoyH"
   },
   "source": [
    "### 몫 연산"
   ]
  },
  {
   "cell_type": "code",
   "execution_count": 14,
   "metadata": {
    "colab": {
     "base_uri": "https://localhost:8080/"
    },
    "executionInfo": {
     "elapsed": 301,
     "status": "ok",
     "timestamp": 1680312814649,
     "user": {
      "displayName": "이강철",
      "userId": "13507850890638580947"
     },
     "user_tz": -540
    },
    "id": "i5x7i2_kcroX",
    "outputId": "4ad189a9-e620-4543-e8da-a7279eed48d4"
   },
   "outputs": [
    {
     "data": {
      "text/plain": [
       "2"
      ]
     },
     "execution_count": 14,
     "metadata": {},
     "output_type": "execute_result"
    }
   ],
   "source": [
    " a // b"
   ]
  },
  {
   "cell_type": "markdown",
   "metadata": {
    "id": "QI-Jy2wGcus9"
   },
   "source": [
    "### 거듭제곱"
   ]
  },
  {
   "cell_type": "code",
   "execution_count": 15,
   "metadata": {
    "colab": {
     "base_uri": "https://localhost:8080/"
    },
    "executionInfo": {
     "elapsed": 327,
     "status": "ok",
     "timestamp": 1680312844422,
     "user": {
      "displayName": "이강철",
      "userId": "13507850890638580947"
     },
     "user_tz": -540
    },
    "id": "xRO8L2PUcxV0",
    "outputId": "71cc7391-6a6e-4e4b-cf19-0b5de5059e0f"
   },
   "outputs": [
    {
     "data": {
      "text/plain": [
       "8"
      ]
     },
     "execution_count": 15,
     "metadata": {},
     "output_type": "execute_result"
    }
   ],
   "source": [
    "2**3"
   ]
  },
  {
   "cell_type": "markdown",
   "metadata": {
    "id": "jqmQONfec0cd"
   },
   "source": [
    "## 리스트 자료형"
   ]
  },
  {
   "cell_type": "code",
   "execution_count": 16,
   "metadata": {
    "executionInfo": {
     "elapsed": 400,
     "status": "ok",
     "timestamp": 1680312868285,
     "user": {
      "displayName": "이강철",
      "userId": "13507850890638580947"
     },
     "user_tz": -540
    },
    "id": "7ULE_e3Jc2Ce"
   },
   "outputs": [],
   "source": [
    "import numpy as np"
   ]
  },
  {
   "cell_type": "code",
   "execution_count": 24,
   "metadata": {
    "colab": {
     "base_uri": "https://localhost:8080/"
    },
    "executionInfo": {
     "elapsed": 349,
     "status": "ok",
     "timestamp": 1680312921359,
     "user": {
      "displayName": "이강철",
      "userId": "13507850890638580947"
     },
     "user_tz": -540
    },
    "id": "2-7iJudBc50f",
    "outputId": "9a1e3c83-02b5-4c96-cf6b-9c6362d9d83d"
   },
   "outputs": [
    {
     "data": {
      "text/plain": [
       "[1, 2, 3, 4, 5, 6, 7, 8, 9]"
      ]
     },
     "execution_count": 24,
     "metadata": {},
     "output_type": "execute_result"
    }
   ],
   "source": [
    "a = list(range(1,10))\n",
    "b = [0]*10\n",
    "a"
   ]
  },
  {
   "cell_type": "code",
   "execution_count": 25,
   "metadata": {
    "colab": {
     "base_uri": "https://localhost:8080/"
    },
    "executionInfo": {
     "elapsed": 288,
     "status": "ok",
     "timestamp": 1680312923246,
     "user": {
      "displayName": "이강철",
      "userId": "13507850890638580947"
     },
     "user_tz": -540
    },
    "id": "-RJq9hxIdGyF",
    "outputId": "24cfa242-7649-4a31-ac65-c121b9af9403"
   },
   "outputs": [
    {
     "data": {
      "text/plain": [
       "[0, 0, 0, 0, 0, 0, 0, 0, 0, 0]"
      ]
     },
     "execution_count": 25,
     "metadata": {},
     "output_type": "execute_result"
    }
   ],
   "source": [
    "b"
   ]
  },
  {
   "cell_type": "markdown",
   "metadata": {
    "id": "HJAVw7uadKG7"
   },
   "source": [
    "### 인덱싱"
   ]
  },
  {
   "cell_type": "code",
   "execution_count": 27,
   "metadata": {
    "colab": {
     "base_uri": "https://localhost:8080/"
    },
    "executionInfo": {
     "elapsed": 270,
     "status": "ok",
     "timestamp": 1680312973594,
     "user": {
      "displayName": "이강철",
      "userId": "13507850890638580947"
     },
     "user_tz": -540
    },
    "id": "MOBbbwUVdLxy",
    "outputId": "94c924a7-a215-4154-8bdb-ec3601c0696d"
   },
   "outputs": [
    {
     "name": "stdout",
     "output_type": "stream",
     "text": [
      "9 1 4\n"
     ]
    }
   ],
   "source": [
    "print(a[-1],a[0],a[3])"
   ]
  },
  {
   "cell_type": "code",
   "execution_count": 30,
   "metadata": {
    "colab": {
     "base_uri": "https://localhost:8080/"
    },
    "executionInfo": {
     "elapsed": 284,
     "status": "ok",
     "timestamp": 1680313068598,
     "user": {
      "displayName": "이강철",
      "userId": "13507850890638580947"
     },
     "user_tz": -540
    },
    "id": "fEV0wsJcdqIJ",
    "outputId": "0212662b-8c3d-4ce9-b7aa-24d506fcc030"
   },
   "outputs": [
    {
     "data": {
      "text/plain": [
       "[1, 2, 3, 4, 5, 6, 7, 8, 9]"
      ]
     },
     "execution_count": 30,
     "metadata": {},
     "output_type": "execute_result"
    }
   ],
   "source": [
    "a"
   ]
  },
  {
   "cell_type": "code",
   "execution_count": 29,
   "metadata": {
    "colab": {
     "base_uri": "https://localhost:8080/"
    },
    "executionInfo": {
     "elapsed": 288,
     "status": "ok",
     "timestamp": 1680313063131,
     "user": {
      "displayName": "이강철",
      "userId": "13507850890638580947"
     },
     "user_tz": -540
    },
    "id": "TNhrIOeFdUKE",
    "outputId": "0c6d08b4-86b5-46b5-8bea-6841a28921b7"
   },
   "outputs": [
    {
     "data": {
      "text/plain": [
       "[2, 3, 4]"
      ]
     },
     "execution_count": 29,
     "metadata": {},
     "output_type": "execute_result"
    }
   ],
   "source": [
    "# 두 번쨰 원소부터 4번째 원소까지\n",
    "a[1:4]"
   ]
  },
  {
   "cell_type": "markdown",
   "metadata": {
    "id": "dmPWI_HkdsDQ"
   },
   "source": [
    "### 리스트 컴프리헨션($⋆⋆⋆$)"
   ]
  },
  {
   "cell_type": "markdown",
   "metadata": {
    "id": "jimZ4tFhd5NP"
   },
   "source": [
    "* 대괄호 안에 반복문이나 조건문을 걸음"
   ]
  },
  {
   "cell_type": "code",
   "execution_count": 31,
   "metadata": {
    "colab": {
     "base_uri": "https://localhost:8080/"
    },
    "executionInfo": {
     "elapsed": 298,
     "status": "ok",
     "timestamp": 1680313124213,
     "user": {
      "displayName": "이강철",
      "userId": "13507850890638580947"
     },
     "user_tz": -540
    },
    "id": "0N1Fh6Uhd1po",
    "outputId": "36a4aa72-0ed1-46cb-cce3-8edd046b90c0"
   },
   "outputs": [
    {
     "data": {
      "text/plain": [
       "[0, 1, 2, 3, 4, 5, 6, 7, 8, 9]"
      ]
     },
     "execution_count": 31,
     "metadata": {},
     "output_type": "execute_result"
    }
   ],
   "source": [
    "[i for i in range(10)]"
   ]
  },
  {
   "cell_type": "code",
   "execution_count": 33,
   "metadata": {
    "colab": {
     "base_uri": "https://localhost:8080/"
    },
    "executionInfo": {
     "elapsed": 296,
     "status": "ok",
     "timestamp": 1680313193385,
     "user": {
      "displayName": "이강철",
      "userId": "13507850890638580947"
     },
     "user_tz": -540
    },
    "id": "Sz2J-HNMeDxv",
    "outputId": "3ef6a016-252f-4e0b-c34a-c669bbf0e4ba"
   },
   "outputs": [
    {
     "data": {
      "text/plain": [
       "[1, 3, 5, 7, 9, 11, 13, 15, 17, 19]"
      ]
     },
     "execution_count": 33,
     "metadata": {},
     "output_type": "execute_result"
    }
   ],
   "source": [
    "[i for i in range(20) if i % 2 == 1]"
   ]
  },
  {
   "cell_type": "markdown",
   "metadata": {
    "id": "kTE5JWc9eX17"
   },
   "source": [
    "#### 컴프리헨션을 안쓴 경우의 코드"
   ]
  },
  {
   "cell_type": "code",
   "execution_count": 34,
   "metadata": {
    "executionInfo": {
     "elapsed": 283,
     "status": "ok",
     "timestamp": 1680313302508,
     "user": {
      "displayName": "이강철",
      "userId": "13507850890638580947"
     },
     "user_tz": -540
    },
    "id": "nJZq_h7jeasE"
   },
   "outputs": [],
   "source": [
    "array = []\n",
    "for i in range (20) :\n",
    "    if i % 2 ==1 :\n",
    "        array.append(i)"
   ]
  },
  {
   "cell_type": "code",
   "execution_count": 35,
   "metadata": {
    "colab": {
     "base_uri": "https://localhost:8080/"
    },
    "executionInfo": {
     "elapsed": 349,
     "status": "ok",
     "timestamp": 1680313305926,
     "user": {
      "displayName": "이강철",
      "userId": "13507850890638580947"
     },
     "user_tz": -540
    },
    "id": "hnD0v-GhekJy",
    "outputId": "0c2f8dc8-0252-4e3d-e8aa-7467ec603895"
   },
   "outputs": [
    {
     "data": {
      "text/plain": [
       "[1, 3, 5, 7, 9, 11, 13, 15, 17, 19]"
      ]
     },
     "execution_count": 35,
     "metadata": {},
     "output_type": "execute_result"
    }
   ],
   "source": [
    "array"
   ]
  },
  {
   "cell_type": "markdown",
   "metadata": {
    "id": "prKcN7wPenD7"
   },
   "source": [
    "`-` 리스트 컴프리헨션은 **2차원 리스트를 초기화할 때 효과적으로 사용될 수 있음**"
   ]
  },
  {
   "cell_type": "markdown",
   "metadata": {
    "id": "hojVmGVgerR7"
   },
   "source": [
    "`-` 특히 N x M 크기의 2차원 리스트를 한번에 초기화 해야 할 때 매우 유용함."
   ]
  },
  {
   "cell_type": "markdown",
   "metadata": {
    "id": "1uRmMwOjeyfa"
   },
   "source": [
    "좋은 예시 "
   ]
  },
  {
   "cell_type": "code",
   "execution_count": 38,
   "metadata": {
    "colab": {
     "base_uri": "https://localhost:8080/"
    },
    "executionInfo": {
     "elapsed": 308,
     "status": "ok",
     "timestamp": 1680313442827,
     "user": {
      "displayName": "이강철",
      "userId": "13507850890638580947"
     },
     "user_tz": -540
    },
    "id": "n7o_egc1fC0J",
    "outputId": "2052ec4b-49c2-46ce-8dbc-f0fb44f26a02"
   },
   "outputs": [
    {
     "data": {
      "text/plain": [
       "[[0, 0, 0], [0, 0, 0]]"
      ]
     },
     "execution_count": 38,
     "metadata": {},
     "output_type": "execute_result"
    }
   ],
   "source": [
    "n=2\n",
    "m=3\n",
    "array = [[0]*m for _ in range(n)] ## 그냥 일반적으로 쓰는 i를 쓰지 않겠다.\n",
    "array"
   ]
  },
  {
   "cell_type": "markdown",
   "metadata": {
    "id": "DTA31AphfQQv"
   },
   "source": [
    "잘못된 예시"
   ]
  },
  {
   "cell_type": "code",
   "execution_count": 40,
   "metadata": {
    "colab": {
     "base_uri": "https://localhost:8080/"
    },
    "executionInfo": {
     "elapsed": 343,
     "status": "ok",
     "timestamp": 1680313503090,
     "user": {
      "displayName": "이강철",
      "userId": "13507850890638580947"
     },
     "user_tz": -540
    },
    "id": "NqXjXIWBfRMv",
    "outputId": "8a288942-e9bb-4cab-8373-2d96a3b220f0"
   },
   "outputs": [
    {
     "data": {
      "text/plain": [
       "[[0, 0, 0], [0, 0, 0]]"
      ]
     },
     "execution_count": 40,
     "metadata": {},
     "output_type": "execute_result"
    }
   ],
   "source": [
    "array = [[0]*m]*n\n",
    "array"
   ]
  },
  {
   "cell_type": "code",
   "execution_count": 41,
   "metadata": {
    "colab": {
     "base_uri": "https://localhost:8080/"
    },
    "executionInfo": {
     "elapsed": 307,
     "status": "ok",
     "timestamp": 1680313652232,
     "user": {
      "displayName": "이강철",
      "userId": "13507850890638580947"
     },
     "user_tz": -540
    },
    "id": "clNoOurLf0RO",
    "outputId": "d4844cba-580a-4415-8206-5121a5ca5227"
   },
   "outputs": [
    {
     "data": {
      "text/plain": [
       "[[0, 5, 0], [0, 5, 0]]"
      ]
     },
     "execution_count": 41,
     "metadata": {},
     "output_type": "execute_result"
    }
   ],
   "source": [
    "array[1][1] = 5\n",
    "array"
   ]
  },
  {
   "cell_type": "markdown",
   "metadata": {
    "id": "yw9THh6zfVsg"
   },
   "source": [
    "위 코드는 리스트 안에 포함된 리스트가 모두 같은 개체로 인식됨 $\\to$ 내부적으로 주소를 N번 복제하는게 되버림 즉, 각각의 리스트가 모두 같은 주소값을 가지게 된다."
   ]
  },
  {
   "cell_type": "markdown",
   "metadata": {
    "id": "9P7jsGTAf8ql"
   },
   "source": [
    "### 기타 메서드"
   ]
  },
  {
   "cell_type": "code",
   "execution_count": 55,
   "metadata": {
    "colab": {
     "base_uri": "https://localhost:8080/"
    },
    "executionInfo": {
     "elapsed": 277,
     "status": "ok",
     "timestamp": 1680313870071,
     "user": {
      "displayName": "이강철",
      "userId": "13507850890638580947"
     },
     "user_tz": -540
    },
    "id": "Pdl5b7YkgXVS",
    "outputId": "6596933b-8dc6-4e1e-8695-29876e7b849a"
   },
   "outputs": [
    {
     "data": {
      "text/plain": [
       "[0, 1, 2, 3, 4, 5, 6]"
      ]
     },
     "execution_count": 55,
     "metadata": {},
     "output_type": "execute_result"
    }
   ],
   "source": [
    "a = [i for i in range(6)]\n",
    "a.append(6)\n",
    "a"
   ]
  },
  {
   "cell_type": "code",
   "execution_count": 56,
   "metadata": {
    "colab": {
     "base_uri": "https://localhost:8080/"
    },
    "executionInfo": {
     "elapsed": 2,
     "status": "ok",
     "timestamp": 1680313870542,
     "user": {
      "displayName": "이강철",
      "userId": "13507850890638580947"
     },
     "user_tz": -540
    },
    "id": "Kh6C4rtqglNS",
    "outputId": "dc1d42ce-7d8e-4da8-8697-099eca08db37"
   },
   "outputs": [
    {
     "data": {
      "text/plain": [
       "[0, 1, 2, 3, 4, 5, 6]"
      ]
     },
     "execution_count": 56,
     "metadata": {},
     "output_type": "execute_result"
    }
   ],
   "source": [
    "a.sort()\n",
    "a"
   ]
  },
  {
   "cell_type": "code",
   "execution_count": 57,
   "metadata": {
    "colab": {
     "base_uri": "https://localhost:8080/"
    },
    "executionInfo": {
     "elapsed": 2,
     "status": "ok",
     "timestamp": 1680313871320,
     "user": {
      "displayName": "이강철",
      "userId": "13507850890638580947"
     },
     "user_tz": -540
    },
    "id": "wmbecHu-gnTK",
    "outputId": "3ef7b3b7-3ad7-46bd-f458-d6b9cb75bb14"
   },
   "outputs": [
    {
     "data": {
      "text/plain": [
       "[6, 5, 4, 3, 2, 1, 0]"
      ]
     },
     "execution_count": 57,
     "metadata": {},
     "output_type": "execute_result"
    }
   ],
   "source": [
    "a.sort(reverse=True)\n",
    "a"
   ]
  },
  {
   "cell_type": "code",
   "execution_count": 58,
   "metadata": {
    "colab": {
     "base_uri": "https://localhost:8080/"
    },
    "executionInfo": {
     "elapsed": 2,
     "status": "ok",
     "timestamp": 1680313871746,
     "user": {
      "displayName": "이강철",
      "userId": "13507850890638580947"
     },
     "user_tz": -540
    },
    "id": "DZ_gvDULgrmJ",
    "outputId": "d52d818c-5680-47e3-8035-0e2cebace3da"
   },
   "outputs": [
    {
     "data": {
      "text/plain": [
       "[6, 5, 100, 4, 3, 2, 1, 0]"
      ]
     },
     "execution_count": 58,
     "metadata": {},
     "output_type": "execute_result"
    }
   ],
   "source": [
    "a.insert(2,100)\n",
    "a"
   ]
  },
  {
   "cell_type": "code",
   "execution_count": 59,
   "metadata": {
    "executionInfo": {
     "elapsed": 281,
     "status": "ok",
     "timestamp": 1680313884076,
     "user": {
      "displayName": "이강철",
      "userId": "13507850890638580947"
     },
     "user_tz": -540
    },
    "id": "zWaKQOHHgwrb"
   },
   "outputs": [],
   "source": [
    "a.remove(1) ## 1이란 값을 삭제"
   ]
  },
  {
   "cell_type": "code",
   "execution_count": 60,
   "metadata": {
    "colab": {
     "base_uri": "https://localhost:8080/"
    },
    "executionInfo": {
     "elapsed": 426,
     "status": "ok",
     "timestamp": 1680313888917,
     "user": {
      "displayName": "이강철",
      "userId": "13507850890638580947"
     },
     "user_tz": -540
    },
    "id": "qHnfJWM8gysh",
    "outputId": "dbd3cbad-740c-4409-b046-1a24ab50c2b5"
   },
   "outputs": [
    {
     "data": {
      "text/plain": [
       "[6, 5, 100, 4, 3, 2, 0]"
      ]
     },
     "execution_count": 60,
     "metadata": {},
     "output_type": "execute_result"
    }
   ],
   "source": [
    "a"
   ]
  },
  {
   "cell_type": "code",
   "execution_count": 62,
   "metadata": {
    "colab": {
     "base_uri": "https://localhost:8080/"
    },
    "executionInfo": {
     "elapsed": 312,
     "status": "ok",
     "timestamp": 1680313960460,
     "user": {
      "displayName": "이강철",
      "userId": "13507850890638580947"
     },
     "user_tz": -540
    },
    "id": "BRnyQ9Apg3Y5",
    "outputId": "4c3835a2-a95e-42f2-d645-c908badfcc0f"
   },
   "outputs": [
    {
     "data": {
      "text/plain": [
       "[0, 2, 3, 4, 5, 6, 100]"
      ]
     },
     "execution_count": 62,
     "metadata": {},
     "output_type": "execute_result"
    }
   ],
   "source": [
    "a.sort()\n",
    "a"
   ]
  },
  {
   "cell_type": "code",
   "execution_count": 64,
   "metadata": {
    "colab": {
     "base_uri": "https://localhost:8080/"
    },
    "executionInfo": {
     "elapsed": 375,
     "status": "ok",
     "timestamp": 1680313981593,
     "user": {
      "displayName": "이강철",
      "userId": "13507850890638580947"
     },
     "user_tz": -540
    },
    "id": "IMovzSOMhEpQ",
    "outputId": "019484ea-439b-43a4-917b-541eb706f90e"
   },
   "outputs": [
    {
     "data": {
      "text/plain": [
       "[5, 4, 3]"
      ]
     },
     "execution_count": 64,
     "metadata": {},
     "output_type": "execute_result"
    }
   ],
   "source": [
    "b = [5,4,3]\n",
    "result = sorted(b) ## 객체를 하나 더만듬\n",
    "b"
   ]
  },
  {
   "cell_type": "code",
   "execution_count": 65,
   "metadata": {
    "colab": {
     "base_uri": "https://localhost:8080/"
    },
    "executionInfo": {
     "elapsed": 307,
     "status": "ok",
     "timestamp": 1680313985291,
     "user": {
      "displayName": "이강철",
      "userId": "13507850890638580947"
     },
     "user_tz": -540
    },
    "id": "dx48Wkv4hJn_",
    "outputId": "efdf833a-bd52-4a15-89c6-06f88a40429f"
   },
   "outputs": [
    {
     "data": {
      "text/plain": [
       "[3, 4, 5]"
      ]
     },
     "execution_count": 65,
     "metadata": {},
     "output_type": "execute_result"
    }
   ],
   "source": [
    "result"
   ]
  },
  {
   "cell_type": "markdown",
   "metadata": {
    "id": "32MdRz1ehOEA"
   },
   "source": [
    "### 특정 원소제거"
   ]
  },
  {
   "cell_type": "code",
   "execution_count": 70,
   "metadata": {
    "executionInfo": {
     "elapsed": 270,
     "status": "ok",
     "timestamp": 1680314036992,
     "user": {
      "displayName": "이강철",
      "userId": "13507850890638580947"
     },
     "user_tz": -540
    },
    "id": "SscR4BS0hQGo"
   },
   "outputs": [],
   "source": [
    "a = [5,2,4,6,8,4]\n",
    "a.remove(4)"
   ]
  },
  {
   "cell_type": "code",
   "execution_count": 75,
   "metadata": {
    "colab": {
     "base_uri": "https://localhost:8080/"
    },
    "executionInfo": {
     "elapsed": 264,
     "status": "ok",
     "timestamp": 1680314074588,
     "user": {
      "displayName": "이강철",
      "userId": "13507850890638580947"
     },
     "user_tz": -540
    },
    "id": "g7SNllU3hTeP",
    "outputId": "9b94cee6-f423-4fa2-8206-7757d7d9f376"
   },
   "outputs": [
    {
     "data": {
      "text/plain": [
       "[1, 2, 4]"
      ]
     },
     "execution_count": 75,
     "metadata": {},
     "output_type": "execute_result"
    }
   ],
   "source": [
    "a = [1,2,3,4,5,5,5]\n",
    "remove_set = {3,5}\n",
    "\n",
    "result = [i for i in a if i not in remove_set]\n",
    "result"
   ]
  },
  {
   "cell_type": "markdown",
   "metadata": {
    "id": "2J61DnP1hhqg"
   },
   "source": [
    "## 문자열 자료형"
   ]
  },
  {
   "cell_type": "code",
   "execution_count": 76,
   "metadata": {
    "colab": {
     "base_uri": "https://localhost:8080/",
     "height": 36
    },
    "executionInfo": {
     "elapsed": 303,
     "status": "ok",
     "timestamp": 1680314138749,
     "user": {
      "displayName": "이강철",
      "userId": "13507850890638580947"
     },
     "user_tz": -540
    },
    "id": "5phnxZ1qhj9W",
    "outputId": "b1855d01-7b0a-4dac-e335-5ce44506f930"
   },
   "outputs": [
    {
     "data": {
      "application/vnd.google.colaboratory.intrinsic+json": {
       "type": "string"
      },
      "text/plain": [
       "'hello word'"
      ]
     },
     "execution_count": 76,
     "metadata": {},
     "output_type": "execute_result"
    }
   ],
   "source": [
    "\"hello word\""
   ]
  },
  {
   "cell_type": "code",
   "execution_count": 79,
   "metadata": {
    "colab": {
     "base_uri": "https://localhost:8080/"
    },
    "executionInfo": {
     "elapsed": 282,
     "status": "ok",
     "timestamp": 1680314190585,
     "user": {
      "displayName": "이강철",
      "userId": "13507850890638580947"
     },
     "user_tz": -540
    },
    "id": "nYMIOJ5thwUU",
    "outputId": "da5be4ec-7973-41f3-b5a9-ffe68c14807c"
   },
   "outputs": [
    {
     "name": "stdout",
     "output_type": "stream",
     "text": [
      "dont you know 'python'?\n"
     ]
    }
   ],
   "source": [
    "print(\"dont you know \\'python\\'?\")"
   ]
  },
  {
   "cell_type": "markdown",
   "metadata": {
    "id": "-tABUFqih-rV"
   },
   "source": [
    "* 덧셈을 이용해 문자열을 연결할 수 있음"
   ]
  },
  {
   "cell_type": "code",
   "execution_count": 81,
   "metadata": {
    "colab": {
     "base_uri": "https://localhost:8080/",
     "height": 36
    },
    "executionInfo": {
     "elapsed": 292,
     "status": "ok",
     "timestamp": 1680314222927,
     "user": {
      "displayName": "이강철",
      "userId": "13507850890638580947"
     },
     "user_tz": -540
    },
    "id": "xA8pJ4WfiA5j",
    "outputId": "d8db0096-3b30-42f1-cff8-f174582f7764"
   },
   "outputs": [
    {
     "data": {
      "application/vnd.google.colaboratory.intrinsic+json": {
       "type": "string"
      },
      "text/plain": [
       "'helloword'"
      ]
     },
     "execution_count": 81,
     "metadata": {},
     "output_type": "execute_result"
    }
   ],
   "source": [
    "a =\"hello\"\n",
    "b = \"word\"\n",
    "a+b"
   ]
  },
  {
   "cell_type": "code",
   "execution_count": 82,
   "metadata": {
    "colab": {
     "base_uri": "https://localhost:8080/",
     "height": 36
    },
    "executionInfo": {
     "elapsed": 305,
     "status": "ok",
     "timestamp": 1680314230058,
     "user": {
      "displayName": "이강철",
      "userId": "13507850890638580947"
     },
     "user_tz": -540
    },
    "id": "lne-nmqAiFtc",
    "outputId": "7ce05782-d3e3-4ea3-d7f0-05a15a17a99b"
   },
   "outputs": [
    {
     "data": {
      "application/vnd.google.colaboratory.intrinsic+json": {
       "type": "string"
      },
      "text/plain": [
       "'hellohellohello'"
      ]
     },
     "execution_count": 82,
     "metadata": {},
     "output_type": "execute_result"
    }
   ],
   "source": [
    "a*3"
   ]
  },
  {
   "cell_type": "code",
   "execution_count": 85,
   "metadata": {
    "colab": {
     "base_uri": "https://localhost:8080/",
     "height": 36
    },
    "executionInfo": {
     "elapsed": 310,
     "status": "ok",
     "timestamp": 1680314242685,
     "user": {
      "displayName": "이강철",
      "userId": "13507850890638580947"
     },
     "user_tz": -540
    },
    "id": "bC8FsrPmiGza",
    "outputId": "0d06293e-76c8-4da1-e1b3-052b845a80c9"
   },
   "outputs": [
    {
     "data": {
      "application/vnd.google.colaboratory.intrinsic+json": {
       "type": "string"
      },
      "text/plain": [
       "'ll'"
      ]
     },
     "execution_count": 85,
     "metadata": {},
     "output_type": "execute_result"
    }
   ],
   "source": [
    "a[2:4]"
   ]
  },
  {
   "cell_type": "markdown",
   "metadata": {
    "id": "rZjW5ka0iOj7"
   },
   "source": [
    "## 튜플 자료형"
   ]
  },
  {
   "cell_type": "markdown",
   "metadata": {
    "id": "b4CvS3c1iQkC"
   },
   "source": [
    "* 한번 선언된 값을 변경할 수 없음\n",
    "* 소괄호를 이용\n",
    "* 상대적으로 **공간 효율적**임 "
   ]
  },
  {
   "cell_type": "code",
   "execution_count": 88,
   "metadata": {
    "colab": {
     "base_uri": "https://localhost:8080/"
    },
    "executionInfo": {
     "elapsed": 287,
     "status": "ok",
     "timestamp": 1680314319455,
     "user": {
      "displayName": "이강철",
      "userId": "13507850890638580947"
     },
     "user_tz": -540
    },
    "id": "N9HkhFmKiXJ6",
    "outputId": "eee6e5c9-3b1e-44a5-d99b-da474edae061"
   },
   "outputs": [
    {
     "data": {
      "text/plain": [
       "(1, 2, 3, 4, 5)"
      ]
     },
     "execution_count": 88,
     "metadata": {},
     "output_type": "execute_result"
    }
   ],
   "source": [
    "a = (1,2,3,4,5)\n",
    "a"
   ]
  },
  {
   "cell_type": "code",
   "execution_count": 89,
   "metadata": {
    "colab": {
     "base_uri": "https://localhost:8080/",
     "height": 176
    },
    "executionInfo": {
     "elapsed": 282,
     "status": "error",
     "timestamp": 1680314325538,
     "user": {
      "displayName": "이강철",
      "userId": "13507850890638580947"
     },
     "user_tz": -540
    },
    "id": "iCReta0Cicly",
    "outputId": "36342bf8-536b-489e-eac7-2a8e6bf5181e"
   },
   "outputs": [
    {
     "ename": "TypeError",
     "evalue": "ignored",
     "output_type": "error",
     "traceback": [
      "\u001b[0;31m---------------------------------------------------------------------------\u001b[0m",
      "\u001b[0;31mTypeError\u001b[0m                                 Traceback (most recent call last)",
      "\u001b[0;32m<ipython-input-89-8b8645146ab3>\u001b[0m in \u001b[0;36m<cell line: 1>\u001b[0;34m()\u001b[0m\n\u001b[0;32m----> 1\u001b[0;31m \u001b[0ma\u001b[0m\u001b[0;34m[\u001b[0m\u001b[0;36m2\u001b[0m\u001b[0;34m]\u001b[0m \u001b[0;34m=\u001b[0m\u001b[0;36m7\u001b[0m\u001b[0;34m\u001b[0m\u001b[0;34m\u001b[0m\u001b[0m\n\u001b[0m",
      "\u001b[0;31mTypeError\u001b[0m: 'tuple' object does not support item assignment"
     ]
    }
   ],
   "source": [
    "a[2] =7 "
   ]
  },
  {
   "cell_type": "markdown",
   "metadata": {
    "id": "9DwhoSXgieUa"
   },
   "source": [
    "## 사전 자료형"
   ]
  },
  {
   "cell_type": "code",
   "execution_count": 91,
   "metadata": {
    "colab": {
     "base_uri": "https://localhost:8080/"
    },
    "executionInfo": {
     "elapsed": 273,
     "status": "ok",
     "timestamp": 1680314408715,
     "user": {
      "displayName": "이강철",
      "userId": "13507850890638580947"
     },
     "user_tz": -540
    },
    "id": "2c_SrFYKigB6",
    "outputId": "ebc564c1-f2e4-4d99-a6b8-7e7ea989f57e"
   },
   "outputs": [
    {
     "data": {
      "text/plain": [
       "{'사과': 'apple', '바나나': 'banana', '코코넛': 'coconut'}"
      ]
     },
     "execution_count": 91,
     "metadata": {},
     "output_type": "execute_result"
    }
   ],
   "source": [
    "data = dict()\n",
    "data[\"사과\"] = \"apple\"\n",
    "data[\"바나나\"] = \"banana\"\n",
    "data[\"코코넛\"] = \"coconut\"\n",
    "data"
   ]
  },
  {
   "cell_type": "code",
   "execution_count": 92,
   "metadata": {
    "colab": {
     "base_uri": "https://localhost:8080/"
    },
    "executionInfo": {
     "elapsed": 292,
     "status": "ok",
     "timestamp": 1680314427592,
     "user": {
      "displayName": "이강철",
      "userId": "13507850890638580947"
     },
     "user_tz": -540
    },
    "id": "9whQGAD7ix9A",
    "outputId": "1d2a13b6-4353-4b04-a9a8-57479d0291fc"
   },
   "outputs": [
    {
     "name": "stdout",
     "output_type": "stream",
     "text": [
      "true\n"
     ]
    }
   ],
   "source": [
    "if \"사과\" in data :\n",
    "    print (\"true\")"
   ]
  },
  {
   "cell_type": "code",
   "execution_count": 93,
   "metadata": {
    "colab": {
     "base_uri": "https://localhost:8080/"
    },
    "executionInfo": {
     "elapsed": 292,
     "status": "ok",
     "timestamp": 1680314438785,
     "user": {
      "displayName": "이강철",
      "userId": "13507850890638580947"
     },
     "user_tz": -540
    },
    "id": "SiQrQ8b9i3q4",
    "outputId": "8c0540cc-23b3-4f76-b5de-a2584355fb85"
   },
   "outputs": [
    {
     "data": {
      "text/plain": [
       "dict_keys(['사과', '바나나', '코코넛'])"
      ]
     },
     "execution_count": 93,
     "metadata": {},
     "output_type": "execute_result"
    }
   ],
   "source": [
    "data.keys()"
   ]
  },
  {
   "cell_type": "code",
   "execution_count": 94,
   "metadata": {
    "colab": {
     "base_uri": "https://localhost:8080/"
    },
    "executionInfo": {
     "elapsed": 400,
     "status": "ok",
     "timestamp": 1680314444422,
     "user": {
      "displayName": "이강철",
      "userId": "13507850890638580947"
     },
     "user_tz": -540
    },
    "id": "amfZvoPbi5Vw",
    "outputId": "4bb018d8-fde0-454f-e52e-4231abae8d30"
   },
   "outputs": [
    {
     "data": {
      "text/plain": [
       "dict_values(['apple', 'banana', 'coconut'])"
      ]
     },
     "execution_count": 94,
     "metadata": {},
     "output_type": "execute_result"
    }
   ],
   "source": [
    "data.values()"
   ]
  },
  {
   "cell_type": "code",
   "execution_count": 98,
   "metadata": {
    "colab": {
     "base_uri": "https://localhost:8080/"
    },
    "executionInfo": {
     "elapsed": 307,
     "status": "ok",
     "timestamp": 1680314495909,
     "user": {
      "displayName": "이강철",
      "userId": "13507850890638580947"
     },
     "user_tz": -540
    },
    "id": "4jdaw7MPi-hH",
    "outputId": "36ba89c7-eb9f-42af-8364-3667743aaf47"
   },
   "outputs": [
    {
     "data": {
      "text/plain": [
       "['사과', '바나나', '코코넛']"
      ]
     },
     "execution_count": 98,
     "metadata": {},
     "output_type": "execute_result"
    }
   ],
   "source": [
    "a=list(data.keys())\n",
    "a"
   ]
  },
  {
   "cell_type": "code",
   "execution_count": 100,
   "metadata": {
    "colab": {
     "base_uri": "https://localhost:8080/"
    },
    "executionInfo": {
     "elapsed": 4,
     "status": "ok",
     "timestamp": 1680314524623,
     "user": {
      "displayName": "이강철",
      "userId": "13507850890638580947"
     },
     "user_tz": -540
    },
    "id": "Jmhl7XlVjCIY",
    "outputId": "86003932-0e65-4ede-b800-1dc692f8af38"
   },
   "outputs": [
    {
     "data": {
      "text/plain": [
       "['apple', 'banana', 'coconut']"
      ]
     },
     "execution_count": 100,
     "metadata": {},
     "output_type": "execute_result"
    }
   ],
   "source": [
    "b=list(data.values())\n",
    "b"
   ]
  },
  {
   "cell_type": "markdown",
   "metadata": {
    "id": "m90bXHhtjOX-"
   },
   "source": [
    "## 집합 자료형"
   ]
  },
  {
   "cell_type": "markdown",
   "metadata": {
    "id": "fy7Ku38UjPiP"
   },
   "source": [
    "* 중복을 허용하지 않고 순서가 없음\n",
    "* 사전 자료형과 집합 자료형은 순서가 없기 때문에 인덱싱으로 값을 얻을 수 없다.\n",
    "* 집합은 리스트 혹은 문자열을 이용해서 초기화할 수 있음 (set) 함수 이용\n",
    "* 혹은 중괄호 안에 각 원소를 콤마를 기준으로 구분하여 삽임함으로써 초기화할 수 있음\n"
   ]
  },
  {
   "cell_type": "code",
   "execution_count": 102,
   "metadata": {
    "colab": {
     "base_uri": "https://localhost:8080/"
    },
    "executionInfo": {
     "elapsed": 281,
     "status": "ok",
     "timestamp": 1680314659327,
     "user": {
      "displayName": "이강철",
      "userId": "13507850890638580947"
     },
     "user_tz": -540
    },
    "id": "yEXZy42njmvf",
    "outputId": "a7e7762b-87c9-4fce-ee06-61999d438c3b"
   },
   "outputs": [
    {
     "data": {
      "text/plain": [
       "{0, 1, 2, 3, 4}"
      ]
     },
     "execution_count": 102,
     "metadata": {},
     "output_type": "execute_result"
    }
   ],
   "source": [
    "data = set(list(range(5)))\n",
    "data"
   ]
  },
  {
   "cell_type": "code",
   "execution_count": 104,
   "metadata": {
    "colab": {
     "base_uri": "https://localhost:8080/"
    },
    "executionInfo": {
     "elapsed": 273,
     "status": "ok",
     "timestamp": 1680314701913,
     "user": {
      "displayName": "이강철",
      "userId": "13507850890638580947"
     },
     "user_tz": -540
    },
    "id": "4amH2JMJjyW9",
    "outputId": "1a4152aa-04b5-4995-df41-3a0062fc17ed"
   },
   "outputs": [
    {
     "data": {
      "text/plain": [
       "{1, 2, 3, 4, 5}"
      ]
     },
     "execution_count": 104,
     "metadata": {},
     "output_type": "execute_result"
    }
   ],
   "source": [
    "{1,1,2,3,4,5,5}"
   ]
  },
  {
   "cell_type": "markdown",
   "metadata": {
    "id": "2154JenNj7r1"
   },
   "source": [
    "* 어떤 값에 존재 유무를 파악할 때 유용"
   ]
  },
  {
   "cell_type": "code",
   "execution_count": 108,
   "metadata": {
    "colab": {
     "base_uri": "https://localhost:8080/"
    },
    "executionInfo": {
     "elapsed": 313,
     "status": "ok",
     "timestamp": 1680314852874,
     "user": {
      "displayName": "이강철",
      "userId": "13507850890638580947"
     },
     "user_tz": -540
    },
    "id": "CobGjJ3pj_a8",
    "outputId": "824d7e17-b93e-4dd3-be7d-e5507238444b"
   },
   "outputs": [
    {
     "name": "stdout",
     "output_type": "stream",
     "text": [
      "False\n"
     ]
    }
   ],
   "source": [
    "print(3 in  a)"
   ]
  },
  {
   "cell_type": "markdown",
   "metadata": {
    "id": "mCX_somNkLmr"
   },
   "source": [
    "`-` 합집합"
   ]
  },
  {
   "cell_type": "code",
   "execution_count": 110,
   "metadata": {
    "colab": {
     "base_uri": "https://localhost:8080/"
    },
    "executionInfo": {
     "elapsed": 272,
     "status": "ok",
     "timestamp": 1680314943107,
     "user": {
      "displayName": "이강철",
      "userId": "13507850890638580947"
     },
     "user_tz": -540
    },
    "id": "Z5H3zKeGkSUz",
    "outputId": "66b8a6e9-f061-48cf-bf02-8612066583f4"
   },
   "outputs": [
    {
     "data": {
      "text/plain": [
       "{1, 2, 3, 4, 5, 6, 7}"
      ]
     },
     "execution_count": 110,
     "metadata": {},
     "output_type": "execute_result"
    }
   ],
   "source": [
    "a = {1,2,3,4,5}\n",
    "b = {3,4,5,6,7}\n",
    "\n",
    "a|b"
   ]
  },
  {
   "cell_type": "markdown",
   "metadata": {
    "id": "XRV_xYiqkO2j"
   },
   "source": [
    "`-` 교집합"
   ]
  },
  {
   "cell_type": "code",
   "execution_count": 111,
   "metadata": {
    "colab": {
     "base_uri": "https://localhost:8080/"
    },
    "executionInfo": {
     "elapsed": 300,
     "status": "ok",
     "timestamp": 1680314948344,
     "user": {
      "displayName": "이강철",
      "userId": "13507850890638580947"
     },
     "user_tz": -540
    },
    "id": "ZE4ZM50Kk0kT",
    "outputId": "51c7cb83-cd1d-4b67-e4b7-b153d43996bc"
   },
   "outputs": [
    {
     "data": {
      "text/plain": [
       "{3, 4, 5}"
      ]
     },
     "execution_count": 111,
     "metadata": {},
     "output_type": "execute_result"
    }
   ],
   "source": [
    "a & b"
   ]
  },
  {
   "cell_type": "markdown",
   "metadata": {
    "id": "DQYY1yPQkQAk"
   },
   "source": [
    "`-` 차집합"
   ]
  },
  {
   "cell_type": "code",
   "execution_count": 112,
   "metadata": {
    "colab": {
     "base_uri": "https://localhost:8080/"
    },
    "executionInfo": {
     "elapsed": 291,
     "status": "ok",
     "timestamp": 1680314951454,
     "user": {
      "displayName": "이강철",
      "userId": "13507850890638580947"
     },
     "user_tz": -540
    },
    "id": "sjZFkJ6Tk13C",
    "outputId": "dff3ba33-6e2b-463d-da18-7c161519e30d"
   },
   "outputs": [
    {
     "data": {
      "text/plain": [
       "{1, 2}"
      ]
     },
     "execution_count": 112,
     "metadata": {},
     "output_type": "execute_result"
    }
   ],
   "source": [
    "a-b"
   ]
  },
  {
   "cell_type": "markdown",
   "metadata": {
    "id": "1YJ80BZrk3m9"
   },
   "source": [
    "`-` 관련함수"
   ]
  },
  {
   "cell_type": "code",
   "execution_count": 114,
   "metadata": {
    "colab": {
     "base_uri": "https://localhost:8080/"
    },
    "executionInfo": {
     "elapsed": 340,
     "status": "ok",
     "timestamp": 1680315007580,
     "user": {
      "displayName": "이강철",
      "userId": "13507850890638580947"
     },
     "user_tz": -540
    },
    "id": "XkmWLc0lk75p",
    "outputId": "8e063a59-82dc-46f6-c668-f3da5d6efabc"
   },
   "outputs": [
    {
     "data": {
      "text/plain": [
       "{1, 2, 3, 4}"
      ]
     },
     "execution_count": 114,
     "metadata": {},
     "output_type": "execute_result"
    }
   ],
   "source": [
    "data = {1,2,3}\n",
    "data.add(4)\n",
    "data"
   ]
  },
  {
   "cell_type": "code",
   "execution_count": 116,
   "metadata": {
    "colab": {
     "base_uri": "https://localhost:8080/"
    },
    "executionInfo": {
     "elapsed": 287,
     "status": "ok",
     "timestamp": 1680315021545,
     "user": {
      "displayName": "이강철",
      "userId": "13507850890638580947"
     },
     "user_tz": -540
    },
    "id": "qst27dOUlEIi",
    "outputId": "82f34298-b01e-49f5-f768-eff7d1b56f9f"
   },
   "outputs": [
    {
     "data": {
      "text/plain": [
       "{1, 2, 3, 4, 5, 6}"
      ]
     },
     "execution_count": 116,
     "metadata": {},
     "output_type": "execute_result"
    }
   ],
   "source": [
    "data.update([5,6])\n",
    "data"
   ]
  },
  {
   "cell_type": "code",
   "execution_count": 117,
   "metadata": {
    "colab": {
     "base_uri": "https://localhost:8080/"
    },
    "executionInfo": {
     "elapsed": 295,
     "status": "ok",
     "timestamp": 1680315032727,
     "user": {
      "displayName": "이강철",
      "userId": "13507850890638580947"
     },
     "user_tz": -540
    },
    "id": "c25zTbNBlJAy",
    "outputId": "7d3647b6-e4e8-4734-826e-f264da7c6c20"
   },
   "outputs": [
    {
     "data": {
      "text/plain": [
       "{1, 2, 4, 5, 6}"
      ]
     },
     "execution_count": 117,
     "metadata": {},
     "output_type": "execute_result"
    }
   ],
   "source": [
    "data.remove(3)\n",
    "data"
   ]
  },
  {
   "cell_type": "markdown",
   "metadata": {
    "id": "sBeCPMRglXd0"
   },
   "source": [
    "* 중복을 허용하지 않고 출력!"
   ]
  },
  {
   "cell_type": "code",
   "execution_count": 120,
   "metadata": {
    "colab": {
     "base_uri": "https://localhost:8080/"
    },
    "executionInfo": {
     "elapsed": 277,
     "status": "ok",
     "timestamp": 1680315085864,
     "user": {
      "displayName": "이강철",
      "userId": "13507850890638580947"
     },
     "user_tz": -540
    },
    "id": "VQk16Z0UlW0Z",
    "outputId": "e7146e90-9403-4aa1-f9fd-3e47243234e5"
   },
   "outputs": [
    {
     "name": "stdout",
     "output_type": "stream",
     "text": [
      "{'o', 'e', 'h', 'l'}\n"
     ]
    }
   ],
   "source": [
    "a = [\"h\",\"e\",\"l\",\"l\",\"o\"]\n",
    "print(set(a))"
   ]
  },
  {
   "cell_type": "markdown",
   "metadata": {
    "id": "6qQT3KQ-lQJ5"
   },
   "source": [
    "## 기본 입출력"
   ]
  },
  {
   "cell_type": "markdown",
   "metadata": {
    "id": "L_dhN5zPlvH3"
   },
   "source": [
    "* 리스트는 뒤에 이어써주고 사전이나 집합에서는 그렇지 않다."
   ]
  },
  {
   "cell_type": "code",
   "execution_count": 122,
   "metadata": {
    "colab": {
     "base_uri": "https://localhost:8080/"
    },
    "executionInfo": {
     "elapsed": 324,
     "status": "ok",
     "timestamp": 1680315151224,
     "user": {
      "displayName": "이강철",
      "userId": "13507850890638580947"
     },
     "user_tz": -540
    },
    "id": "VZ-TreQ2lRao",
    "outputId": "b70d7b96-c507-498d-ea0a-aa09e922015b"
   },
   "outputs": [
    {
     "data": {
      "text/plain": [
       "[1, 2, 3, 4]"
      ]
     },
     "execution_count": 122,
     "metadata": {},
     "output_type": "execute_result"
    }
   ],
   "source": [
    "a = [1,2,3]\n",
    "a.append(4)\n",
    "a"
   ]
  },
  {
   "cell_type": "code",
   "execution_count": 124,
   "metadata": {
    "colab": {
     "base_uri": "https://localhost:8080/"
    },
    "executionInfo": {
     "elapsed": 327,
     "status": "ok",
     "timestamp": 1680315176429,
     "user": {
      "displayName": "이강철",
      "userId": "13507850890638580947"
     },
     "user_tz": -540
    },
    "id": "L57mepWOlmjH",
    "outputId": "dfd3553d-36a0-4b3c-b91d-b72b2ab50317"
   },
   "outputs": [
    {
     "name": "stdout",
     "output_type": "stream",
     "text": [
      "{0, 1, 2, 3}\n"
     ]
    }
   ],
   "source": [
    "a = {1,2,3}\n",
    "a.add(0)\n",
    "print(a)"
   ]
  },
  {
   "cell_type": "markdown",
   "metadata": {
    "id": "Rn8i1U_5l3LP"
   },
   "source": [
    "### 자주 사용되는 표준 입력 방법($⋆⋆⋆$)"
   ]
  },
  {
   "cell_type": "markdown",
   "metadata": {
    "id": "X9p0-Z4Zl6CW"
   },
   "source": [
    "* input() : 한 줄의 문자열을 입력 받는 함수\n",
    "* map : 리시트의 모든 원소에 각각 특정한 함수를 적용할 때 사용"
   ]
  },
  {
   "cell_type": "code",
   "execution_count": 133,
   "metadata": {
    "colab": {
     "base_uri": "https://localhost:8080/"
    },
    "executionInfo": {
     "elapsed": 2645,
     "status": "ok",
     "timestamp": 1680315392369,
     "user": {
      "displayName": "이강철",
      "userId": "13507850890638580947"
     },
     "user_tz": -540
    },
    "id": "E47ZKxBWmJyO",
    "outputId": "3aa5e588-5a8e-47ff-8ea6-d2af5e25396c"
   },
   "outputs": [
    {
     "name": "stdout",
     "output_type": "stream",
     "text": [
      "1 2 3 4 5\n"
     ]
    }
   ],
   "source": [
    "## 입력 : 1 2 3 4 5\n",
    "a = map(int, input().split())"
   ]
  },
  {
   "cell_type": "code",
   "execution_count": 137,
   "metadata": {
    "colab": {
     "base_uri": "https://localhost:8080/"
    },
    "executionInfo": {
     "elapsed": 293,
     "status": "ok",
     "timestamp": 1680315417757,
     "user": {
      "displayName": "이강철",
      "userId": "13507850890638580947"
     },
     "user_tz": -540
    },
    "id": "wO5t98FRmiml",
    "outputId": "3a2463a2-8bca-4e1b-c7d4-af02ff949f4b"
   },
   "outputs": [
    {
     "data": {
      "text/plain": [
       "[1, 2, 3, 4, 5]"
      ]
     },
     "execution_count": 137,
     "metadata": {},
     "output_type": "execute_result"
    }
   ],
   "source": [
    "list(a)"
   ]
  },
  {
   "cell_type": "code",
   "execution_count": 129,
   "metadata": {
    "colab": {
     "base_uri": "https://localhost:8080/"
    },
    "executionInfo": {
     "elapsed": 3917,
     "status": "ok",
     "timestamp": 1680315375853,
     "user": {
      "displayName": "이강철",
      "userId": "13507850890638580947"
     },
     "user_tz": -540
    },
    "id": "ZZUQ1F7QmZFV",
    "outputId": "68bea0ce-6f73-428b-eea2-1a54665d0c7a"
   },
   "outputs": [
    {
     "name": "stdout",
     "output_type": "stream",
     "text": [
      "1 2 3 4 5\n"
     ]
    }
   ],
   "source": [
    "a,b,c,d,e = map(int, input().split())"
   ]
  },
  {
   "cell_type": "markdown",
   "metadata": {
    "id": "yK758jyKnUkD"
   },
   "source": [
    "`-` 2차원 데이터 입력"
   ]
  },
  {
   "cell_type": "markdown",
   "metadata": {
    "id": "77hadSmdnpB0"
   },
   "source": [
    "```{python}\n",
    "3\n",
    "4\n",
    "0 0 0 0\n",
    "0 0 0 0\n",
    "0 0 0 0\n",
    "```"
   ]
  },
  {
   "cell_type": "code",
   "execution_count": 165,
   "metadata": {
    "colab": {
     "base_uri": "https://localhost:8080/"
    },
    "executionInfo": {
     "elapsed": 10000,
     "status": "ok",
     "timestamp": 1680316195913,
     "user": {
      "displayName": "이강철",
      "userId": "13507850890638580947"
     },
     "user_tz": -540
    },
    "id": "iZHoNVmBmeO-",
    "outputId": "5a91c08b-0ad1-4333-c832-ef90ba671cec"
   },
   "outputs": [
    {
     "name": "stdout",
     "output_type": "stream",
     "text": [
      "3\n",
      "2 3\n",
      "1\n",
      "4 5 6\n"
     ]
    }
   ],
   "source": [
    "n = int(input()) ## row라고 생각\n",
    "arr = []\n",
    "for i in range(n) :\n",
    "    arr.append(list(map(int,input().split())))"
   ]
  },
  {
   "cell_type": "code",
   "execution_count": 166,
   "metadata": {
    "colab": {
     "base_uri": "https://localhost:8080/"
    },
    "executionInfo": {
     "elapsed": 457,
     "status": "ok",
     "timestamp": 1680316197422,
     "user": {
      "displayName": "이강철",
      "userId": "13507850890638580947"
     },
     "user_tz": -540
    },
    "id": "FmcDIVU8n9Q6",
    "outputId": "b1cce45b-ec62-4e09-e3e5-b7e2919f4b52"
   },
   "outputs": [
    {
     "data": {
      "text/plain": [
       "[[2, 3], [1], [4, 5, 6]]"
      ]
     },
     "execution_count": 166,
     "metadata": {},
     "output_type": "execute_result"
    }
   ],
   "source": [
    "arr"
   ]
  },
  {
   "cell_type": "code",
   "execution_count": 167,
   "metadata": {
    "colab": {
     "base_uri": "https://localhost:8080/"
    },
    "executionInfo": {
     "elapsed": 272,
     "status": "ok",
     "timestamp": 1680316199182,
     "user": {
      "displayName": "이강철",
      "userId": "13507850890638580947"
     },
     "user_tz": -540
    },
    "id": "x3NsfRedpF5_",
    "outputId": "285196df-5693-43fe-8bca-f9b3ebbc0b76"
   },
   "outputs": [
    {
     "data": {
      "text/plain": [
       "2"
      ]
     },
     "execution_count": 167,
     "metadata": {},
     "output_type": "execute_result"
    }
   ],
   "source": [
    "arr[0][0]"
   ]
  },
  {
   "cell_type": "code",
   "execution_count": 170,
   "metadata": {
    "colab": {
     "base_uri": "https://localhost:8080/"
    },
    "executionInfo": {
     "elapsed": 286,
     "status": "ok",
     "timestamp": 1680316209975,
     "user": {
      "displayName": "이강철",
      "userId": "13507850890638580947"
     },
     "user_tz": -540
    },
    "id": "poTunrllpGxH",
    "outputId": "8be96340-511d-44bc-81c7-414b208b09f0"
   },
   "outputs": [
    {
     "data": {
      "text/plain": [
       "6"
      ]
     },
     "execution_count": 170,
     "metadata": {},
     "output_type": "execute_result"
    }
   ],
   "source": [
    "arr[2][2]"
   ]
  },
  {
   "cell_type": "markdown",
   "metadata": {
    "id": "Eu8d8DOrpsHm"
   },
   "source": [
    "`-` 기본 출력 이후 줄 바꿈 수행"
   ]
  },
  {
   "cell_type": "code",
   "execution_count": 174,
   "metadata": {
    "colab": {
     "base_uri": "https://localhost:8080/"
    },
    "executionInfo": {
     "elapsed": 282,
     "status": "ok",
     "timestamp": 1680316289729,
     "user": {
      "displayName": "이강철",
      "userId": "13507850890638580947"
     },
     "user_tz": -540
    },
    "id": "Vysp9T6sp8M2",
    "outputId": "0c6ebc74-b8a0-46b0-a84e-dd434d4119cd"
   },
   "outputs": [
    {
     "name": "stdout",
     "output_type": "stream",
     "text": [
      "8\n",
      "10\n"
     ]
    }
   ],
   "source": [
    "print(8)\n",
    "print(10)"
   ]
  },
  {
   "cell_type": "code",
   "execution_count": 173,
   "metadata": {
    "colab": {
     "base_uri": "https://localhost:8080/"
    },
    "executionInfo": {
     "elapsed": 429,
     "status": "ok",
     "timestamp": 1680316281011,
     "user": {
      "displayName": "이강철",
      "userId": "13507850890638580947"
     },
     "user_tz": -540
    },
    "id": "6c-JC06npv2F",
    "outputId": "44bb1a21-19e1-42a2-95d1-552211be6adb"
   },
   "outputs": [
    {
     "name": "stdout",
     "output_type": "stream",
     "text": [
      "8 10\n"
     ]
    }
   ],
   "source": [
    "print(8,end=\" \")\n",
    "print(10)"
   ]
  },
  {
   "cell_type": "markdown",
   "metadata": {
    "id": "450dVfxGqBQ4"
   },
   "source": [
    "`-` 출력을 위한 전형적인 소스코드"
   ]
  },
  {
   "cell_type": "code",
   "execution_count": 177,
   "metadata": {
    "colab": {
     "base_uri": "https://localhost:8080/",
     "height": 213
    },
    "executionInfo": {
     "elapsed": 283,
     "status": "error",
     "timestamp": 1680316337077,
     "user": {
      "displayName": "이강철",
      "userId": "13507850890638580947"
     },
     "user_tz": -540
    },
    "id": "2gj-CGYDqD5j",
    "outputId": "2b4b1baa-b5c6-4a8b-9a52-2ec1fe7a175a"
   },
   "outputs": [
    {
     "ename": "TypeError",
     "evalue": "ignored",
     "output_type": "error",
     "traceback": [
      "\u001b[0;31m---------------------------------------------------------------------------\u001b[0m",
      "\u001b[0;31mTypeError\u001b[0m                                 Traceback (most recent call last)",
      "\u001b[0;32m<ipython-input-177-5ce268144c4a>\u001b[0m in \u001b[0;36m<cell line: 3>\u001b[0;34m()\u001b[0m\n\u001b[1;32m      1\u001b[0m \u001b[0ma\u001b[0m\u001b[0;34m=\u001b[0m\u001b[0;36m7\u001b[0m\u001b[0;34m\u001b[0m\u001b[0;34m\u001b[0m\u001b[0m\n\u001b[1;32m      2\u001b[0m \u001b[0;34m\u001b[0m\u001b[0m\n\u001b[0;32m----> 3\u001b[0;31m \u001b[0mprint\u001b[0m\u001b[0;34m(\u001b[0m\u001b[0;34m\"정답은\"\u001b[0m\u001b[0;34m+\u001b[0m\u001b[0;36m7\u001b[0m\u001b[0;34m)\u001b[0m\u001b[0;34m\u001b[0m\u001b[0;34m\u001b[0m\u001b[0m\n\u001b[0m",
      "\u001b[0;31mTypeError\u001b[0m: can only concatenate str (not \"int\") to str"
     ]
    }
   ],
   "source": [
    "a=7\n",
    "\n",
    "print(\"정답은\"+7)"
   ]
  },
  {
   "cell_type": "code",
   "execution_count": 178,
   "metadata": {
    "colab": {
     "base_uri": "https://localhost:8080/"
    },
    "executionInfo": {
     "elapsed": 289,
     "status": "ok",
     "timestamp": 1680316349032,
     "user": {
      "displayName": "이강철",
      "userId": "13507850890638580947"
     },
     "user_tz": -540
    },
    "id": "gberpjbAqJac",
    "outputId": "474eb1d0-c97f-4b5f-d7e6-3133de2be007"
   },
   "outputs": [
    {
     "name": "stdout",
     "output_type": "stream",
     "text": [
      "정답은7\n"
     ]
    }
   ],
   "source": [
    "a=7\n",
    "\n",
    "print(\"정답은\"+str(a))"
   ]
  },
  {
   "cell_type": "markdown",
   "metadata": {
    "id": "0QfIJckvqMW8"
   },
   "source": [
    "## 조건문"
   ]
  },
  {
   "cell_type": "code",
   "execution_count": 180,
   "metadata": {
    "colab": {
     "base_uri": "https://localhost:8080/"
    },
    "executionInfo": {
     "elapsed": 286,
     "status": "ok",
     "timestamp": 1680316388955,
     "user": {
      "displayName": "이강철",
      "userId": "13507850890638580947"
     },
     "user_tz": -540
    },
    "id": "cDYHng2KqPAt",
    "outputId": "6059841d-2303-431f-c525-1255bf26b32c"
   },
   "outputs": [
    {
     "name": "stdout",
     "output_type": "stream",
     "text": [
      "15\n"
     ]
    }
   ],
   "source": [
    "x = 15\n",
    "if x >= 10 : \n",
    "  print(x)"
   ]
  },
  {
   "cell_type": "code",
   "execution_count": 184,
   "metadata": {
    "colab": {
     "base_uri": "https://localhost:8080/"
    },
    "executionInfo": {
     "elapsed": 278,
     "status": "ok",
     "timestamp": 1680316509540,
     "user": {
      "displayName": "이강철",
      "userId": "13507850890638580947"
     },
     "user_tz": -540
    },
    "id": "KQX6zSEYqdsL",
    "outputId": "f4e41651-7ee5-41a9-d26b-d1c1e3efb5d6"
   },
   "outputs": [
    {
     "name": "stdout",
     "output_type": "stream",
     "text": [
      "true\n"
     ]
    }
   ],
   "source": [
    "a = 7\n",
    "if  0<=a and a<=10 :\n",
    "    print(\"true\")"
   ]
  },
  {
   "cell_type": "code",
   "execution_count": 187,
   "metadata": {
    "colab": {
     "base_uri": "https://localhost:8080/"
    },
    "executionInfo": {
     "elapsed": 318,
     "status": "ok",
     "timestamp": 1680316646199,
     "user": {
      "displayName": "이강철",
      "userId": "13507850890638580947"
     },
     "user_tz": -540
    },
    "id": "V4ZV-ZIAqo0s",
    "outputId": "fe06d650-7ae5-4237-a29f-5cea3662a50b"
   },
   "outputs": [
    {
     "name": "stdout",
     "output_type": "stream",
     "text": [
      "not\n"
     ]
    }
   ],
   "source": [
    "a = 11\n",
    "if  0<=a and a<=10 :\n",
    "    pass ## 아무것도 처리하고 싶지 않을때\n",
    "else:\n",
    "    print(\"not\")"
   ]
  },
  {
   "cell_type": "code",
   "execution_count": 191,
   "metadata": {
    "colab": {
     "base_uri": "https://localhost:8080/",
     "height": 36
    },
    "executionInfo": {
     "elapsed": 7,
     "status": "ok",
     "timestamp": 1680316690830,
     "user": {
      "displayName": "이강철",
      "userId": "13507850890638580947"
     },
     "user_tz": -540
    },
    "id": "yh2fg-eSrGEr",
    "outputId": "5f96014d-a2a5-4451-e6d6-568d0091c05d"
   },
   "outputs": [
    {
     "data": {
      "application/vnd.google.colaboratory.intrinsic+json": {
       "type": "string"
      },
      "text/plain": [
       "'합격'"
      ]
     },
     "execution_count": 191,
     "metadata": {},
     "output_type": "execute_result"
    }
   ],
   "source": [
    "score= 85\n",
    "result = \"합격\" if score >=80 else \"불합격\"\n",
    "result"
   ]
  },
  {
   "cell_type": "markdown",
   "metadata": {
    "id": "q0fFd8vErkt2"
   },
   "source": [
    "## 반복문"
   ]
  },
  {
   "cell_type": "code",
   "execution_count": 192,
   "metadata": {
    "colab": {
     "base_uri": "https://localhost:8080/"
    },
    "executionInfo": {
     "elapsed": 309,
     "status": "ok",
     "timestamp": 1680316788303,
     "user": {
      "displayName": "이강철",
      "userId": "13507850890638580947"
     },
     "user_tz": -540
    },
    "id": "ZosZsKGIrnbj",
    "outputId": "c89a4064-d080-48c4-972a-abfd06a13ada"
   },
   "outputs": [
    {
     "name": "stdout",
     "output_type": "stream",
     "text": [
      "45\n"
     ]
    }
   ],
   "source": [
    "i =1\n",
    "result =0\n",
    "while i<=9:\n",
    "    result +=i\n",
    "    i+=1\n",
    "print(result)"
   ]
  },
  {
   "cell_type": "code",
   "execution_count": 196,
   "metadata": {
    "colab": {
     "base_uri": "https://localhost:8080/"
    },
    "executionInfo": {
     "elapsed": 335,
     "status": "ok",
     "timestamp": 1680316897644,
     "user": {
      "displayName": "이강철",
      "userId": "13507850890638580947"
     },
     "user_tz": -540
    },
    "id": "wD8KMba4r_iS",
    "outputId": "2e8323b6-7c8f-4427-f4cd-73193284a065"
   },
   "outputs": [
    {
     "name": "stdout",
     "output_type": "stream",
     "text": [
      "25\n"
     ]
    }
   ],
   "source": [
    "i =1\n",
    "result =0\n",
    "while i<=9:\n",
    "    if i % 2 == 1 :\n",
    "        result +=i\n",
    "    i+=1\n",
    "print(result)"
   ]
  },
  {
   "cell_type": "markdown",
   "metadata": {
    "id": "gxIgFDQksaBS"
   },
   "source": [
    "`-` 구구단 예시"
   ]
  },
  {
   "cell_type": "code",
   "execution_count": 201,
   "metadata": {
    "colab": {
     "base_uri": "https://localhost:8080/"
    },
    "executionInfo": {
     "elapsed": 300,
     "status": "ok",
     "timestamp": 1680317026225,
     "user": {
      "displayName": "이강철",
      "userId": "13507850890638580947"
     },
     "user_tz": -540
    },
    "id": "0nP4doiFsbtP",
    "outputId": "2ddcc237-eef5-4598-9d35-090f8a638507"
   },
   "outputs": [
    {
     "name": "stdout",
     "output_type": "stream",
     "text": [
      "2 4 6 8 10 12 14 16 18 \n",
      "3 6 9 12 15 18 21 24 27 \n",
      "4 8 12 16 20 24 28 32 36 \n",
      "5 10 15 20 25 30 35 40 45 \n",
      "6 12 18 24 30 36 42 48 54 \n",
      "7 14 21 28 35 42 49 56 63 \n",
      "8 16 24 32 40 48 56 64 72 \n",
      "9 18 27 36 45 54 63 72 81 \n"
     ]
    }
   ],
   "source": [
    "for i in range(2,10) :\n",
    "    for j in range(1,10) :\n",
    "        print(i*j,end=\" \")\n",
    "    print()"
   ]
  },
  {
   "cell_type": "markdown",
   "metadata": {
    "id": "VQBoVhm1s103"
   },
   "source": [
    "##  람다"
   ]
  },
  {
   "cell_type": "code",
   "execution_count": 208,
   "metadata": {
    "colab": {
     "base_uri": "https://localhost:8080/"
    },
    "executionInfo": {
     "elapsed": 297,
     "status": "ok",
     "timestamp": 1680317207401,
     "user": {
      "displayName": "이강철",
      "userId": "13507850890638580947"
     },
     "user_tz": -540
    },
    "id": "mWTwLRdftWDn",
    "outputId": "eafffcb2-39b3-4be8-c8b3-2862b92ca0aa"
   },
   "outputs": [
    {
     "data": {
      "text/plain": [
       "8"
      ]
     },
     "execution_count": 208,
     "metadata": {},
     "output_type": "execute_result"
    }
   ],
   "source": [
    "(lambda a,b : a+b)(3,5)"
   ]
  },
  {
   "cell_type": "code",
   "execution_count": 210,
   "metadata": {
    "colab": {
     "base_uri": "https://localhost:8080/"
    },
    "executionInfo": {
     "elapsed": 283,
     "status": "ok",
     "timestamp": 1680317314319,
     "user": {
      "displayName": "이강철",
      "userId": "13507850890638580947"
     },
     "user_tz": -540
    },
    "id": "rc2t65qkteJI",
    "outputId": "279a9b4d-619a-44b0-d56b-f845072c48c0"
   },
   "outputs": [
    {
     "data": {
      "text/plain": [
       "[('홍길동', 50), ('이순신', 32), ('아무개', 74)]"
      ]
     },
     "execution_count": 210,
     "metadata": {},
     "output_type": "execute_result"
    }
   ],
   "source": [
    "array = [(\"홍길동\",50),(\"이순신\",32),(\"아무개\",74)]\n",
    "array"
   ]
  },
  {
   "cell_type": "code",
   "execution_count": 213,
   "metadata": {
    "executionInfo": {
     "elapsed": 280,
     "status": "ok",
     "timestamp": 1680317365874,
     "user": {
      "displayName": "이강철",
      "userId": "13507850890638580947"
     },
     "user_tz": -540
    },
    "id": "xi3NFoq8tywY"
   },
   "outputs": [],
   "source": [
    "def my_key(x):\n",
    "    return x[1]"
   ]
  },
  {
   "cell_type": "code",
   "execution_count": 216,
   "metadata": {
    "colab": {
     "base_uri": "https://localhost:8080/"
    },
    "executionInfo": {
     "elapsed": 267,
     "status": "ok",
     "timestamp": 1680317391766,
     "user": {
      "displayName": "이강철",
      "userId": "13507850890638580947"
     },
     "user_tz": -540
    },
    "id": "750ej6Jmt6Yv",
    "outputId": "104337de-6ece-45ce-efb0-a35ac0373215"
   },
   "outputs": [
    {
     "data": {
      "text/plain": [
       "[('이순신', 32), ('홍길동', 50), ('아무개', 74)]"
      ]
     },
     "execution_count": 216,
     "metadata": {},
     "output_type": "execute_result"
    }
   ],
   "source": [
    "sorted(array, key=my_key)"
   ]
  },
  {
   "cell_type": "code",
   "execution_count": 217,
   "metadata": {
    "colab": {
     "base_uri": "https://localhost:8080/"
    },
    "executionInfo": {
     "elapsed": 2,
     "status": "ok",
     "timestamp": 1680317392817,
     "user": {
      "displayName": "이강철",
      "userId": "13507850890638580947"
     },
     "user_tz": -540
    },
    "id": "ZljTDzXjt97-",
    "outputId": "da59fec7-db3c-4a0b-f01f-b9e5d6d4157c"
   },
   "outputs": [
    {
     "data": {
      "text/plain": [
       "[('이순신', 32), ('홍길동', 50), ('아무개', 74)]"
      ]
     },
     "execution_count": 217,
     "metadata": {},
     "output_type": "execute_result"
    }
   ],
   "source": [
    "sorted(array, key=lambda x:x[1])"
   ]
  },
  {
   "cell_type": "markdown",
   "metadata": {
    "id": "6uRKZCipuNXW"
   },
   "source": [
    "`-` 여러 개의 리스트에 적용"
   ]
  },
  {
   "cell_type": "code",
   "execution_count": 222,
   "metadata": {
    "colab": {
     "base_uri": "https://localhost:8080/"
    },
    "executionInfo": {
     "elapsed": 310,
     "status": "ok",
     "timestamp": 1680317486559,
     "user": {
      "displayName": "이강철",
      "userId": "13507850890638580947"
     },
     "user_tz": -540
    },
    "id": "t1Vy_NlduPyU",
    "outputId": "5c140fa3-b295-47b9-cb59-a79edc93241a"
   },
   "outputs": [
    {
     "data": {
      "text/plain": [
       "[7, 9, 11, 13, 15]"
      ]
     },
     "execution_count": 222,
     "metadata": {},
     "output_type": "execute_result"
    }
   ],
   "source": [
    "list1 =list(range(1,6))\n",
    "list2 =list(range(6,11))\n",
    "\n",
    "result = list(map(lambda a,b: a+b,list1,list2))\n",
    "result"
   ]
  },
  {
   "cell_type": "markdown",
   "metadata": {
    "id": "a5FB4YTXuq-9"
   },
   "source": [
    "## 유용한 라이브러리"
   ]
  },
  {
   "cell_type": "markdown",
   "metadata": {
    "id": "fYvZ8lvouu6W"
   },
   "source": [
    "* itertools : 반복되는 형태의 데이터를 처리하는 기능을 제공하는 라이브러리, 순열과 조합 라이브러리를 제공\n",
    "* heapq : 힙 기능을 제공하는 라이브러리, 우선수위 큐 기능을 구현하기 위해 사용\n",
    "* bisect : 이진 탐색 기능을 제공하는 라이브러리\n",
    "* collections : 덱, 카운터 등의 유용한 자료구조를 포함하고 있는 라이브러리"
   ]
  },
  {
   "cell_type": "markdown",
   "metadata": {
    "id": "bP2yrEKPvHCc"
   },
   "source": [
    "`+` eval"
   ]
  },
  {
   "cell_type": "code",
   "execution_count": 223,
   "metadata": {
    "colab": {
     "base_uri": "https://localhost:8080/"
    },
    "executionInfo": {
     "elapsed": 296,
     "status": "ok",
     "timestamp": 1680317635032,
     "user": {
      "displayName": "이강철",
      "userId": "13507850890638580947"
     },
     "user_tz": -540
    },
    "id": "pzPKMSiqvBvU",
    "outputId": "ce2e7cc1-4786-4211-e0ef-195daf150da3"
   },
   "outputs": [
    {
     "data": {
      "text/plain": [
       "56"
      ]
     },
     "execution_count": 223,
     "metadata": {},
     "output_type": "execute_result"
    }
   ],
   "source": [
    "result = eval(\"(3+5)*7\")\n",
    "result"
   ]
  },
  {
   "cell_type": "markdown",
   "metadata": {
    "id": "qOTxBu5DvTEN"
   },
   "source": [
    "## 순열과 조합"
   ]
  },
  {
   "cell_type": "markdown",
   "metadata": {
    "id": "VwUjy44lviEk"
   },
   "source": [
    "`-` 순열"
   ]
  },
  {
   "cell_type": "code",
   "execution_count": 225,
   "metadata": {
    "colab": {
     "base_uri": "https://localhost:8080/"
    },
    "executionInfo": {
     "elapsed": 301,
     "status": "ok",
     "timestamp": 1680317739212,
     "user": {
      "displayName": "이강철",
      "userId": "13507850890638580947"
     },
     "user_tz": -540
    },
    "id": "R-gWk6ONvU06",
    "outputId": "94e6c034-71c9-4b6e-d8d8-1fc97786feb5"
   },
   "outputs": [
    {
     "data": {
      "text/plain": [
       "[('A', 'B', 'C'),\n",
       " ('A', 'C', 'B'),\n",
       " ('B', 'A', 'C'),\n",
       " ('B', 'C', 'A'),\n",
       " ('C', 'A', 'B'),\n",
       " ('C', 'B', 'A')]"
      ]
     },
     "execution_count": 225,
     "metadata": {},
     "output_type": "execute_result"
    }
   ],
   "source": [
    "from itertools import permutations\n",
    "\n",
    "data = [\"A\",\"B\",\"C\"]\n",
    "result = list(permutations(data,3))\n",
    "result"
   ]
  },
  {
   "cell_type": "markdown",
   "metadata": {
    "id": "2dZeceq6vjVE"
   },
   "source": [
    "`-` 조합"
   ]
  },
  {
   "cell_type": "code",
   "execution_count": 230,
   "metadata": {
    "colab": {
     "base_uri": "https://localhost:8080/"
    },
    "executionInfo": {
     "elapsed": 330,
     "status": "ok",
     "timestamp": 1680317937594,
     "user": {
      "displayName": "이강철",
      "userId": "13507850890638580947"
     },
     "user_tz": -540
    },
    "id": "gsHK-419vkvL",
    "outputId": "0802f74a-b407-4fb5-a1ed-e6634a299928"
   },
   "outputs": [
    {
     "data": {
      "text/plain": [
       "[('A', 'B'), ('A', 'C'), ('B', 'C')]"
      ]
     },
     "execution_count": 230,
     "metadata": {},
     "output_type": "execute_result"
    }
   ],
   "source": [
    "from itertools import combinations\n",
    "list(combinations(data,2))"
   ]
  },
  {
   "cell_type": "markdown",
   "metadata": {
    "id": "NSa0-xl-wZWj"
   },
   "source": [
    "`-` 중복 순열"
   ]
  },
  {
   "cell_type": "code",
   "execution_count": 234,
   "metadata": {
    "colab": {
     "base_uri": "https://localhost:8080/"
    },
    "executionInfo": {
     "elapsed": 288,
     "status": "ok",
     "timestamp": 1680318021520,
     "user": {
      "displayName": "이강철",
      "userId": "13507850890638580947"
     },
     "user_tz": -540
    },
    "id": "yRFB8vfvwad7",
    "outputId": "424ed15c-273d-40d6-d9f6-afbcf9670c71"
   },
   "outputs": [
    {
     "data": {
      "text/plain": [
       "[('A', 'A'),\n",
       " ('A', 'B'),\n",
       " ('A', 'C'),\n",
       " ('B', 'A'),\n",
       " ('B', 'B'),\n",
       " ('B', 'C'),\n",
       " ('C', 'A'),\n",
       " ('C', 'B'),\n",
       " ('C', 'C')]"
      ]
     },
     "execution_count": 234,
     "metadata": {},
     "output_type": "execute_result"
    }
   ],
   "source": [
    "from itertools import product\n",
    "\n",
    "list(product(data,repeat=2))"
   ]
  },
  {
   "cell_type": "markdown",
   "metadata": {
    "id": "yWf38JirwlnL"
   },
   "source": [
    "`-` 중복 조합"
   ]
  },
  {
   "cell_type": "code",
   "execution_count": 235,
   "metadata": {
    "colab": {
     "base_uri": "https://localhost:8080/"
    },
    "executionInfo": {
     "elapsed": 379,
     "status": "ok",
     "timestamp": 1680318059799,
     "user": {
      "displayName": "이강철",
      "userId": "13507850890638580947"
     },
     "user_tz": -540
    },
    "id": "JMpGMW11wnhD",
    "outputId": "f810a278-4b13-4f9f-992b-0ad2528407e9"
   },
   "outputs": [
    {
     "data": {
      "text/plain": [
       "[('A', 'A'), ('A', 'B'), ('A', 'C'), ('B', 'B'), ('B', 'C'), ('C', 'C')]"
      ]
     },
     "execution_count": 235,
     "metadata": {},
     "output_type": "execute_result"
    }
   ],
   "source": [
    "from itertools import combinations_with_replacement\n",
    "\n",
    "list(combinations_with_replacement(data,2))"
   ]
  },
  {
   "cell_type": "markdown",
   "metadata": {
    "id": "wkeQ9eNewwyy"
   },
   "source": [
    "### 추가할 내용"
   ]
  },
  {
   "cell_type": "markdown",
   "metadata": {
    "id": "5gkjyJG2w8Dh"
   },
   "source": [
    "* 순열과 조합 공식, 라이브러리 쓰지않고 구현하기, 리스트 컴프리헨션 복습, map,lambda 복습\n",
    "\n",
    "* numpy는 표준 라이브러리에 포함되지않아 거의 못쓴다..."
   ]
  }
 ],
 "metadata": {
  "colab": {
   "authorship_tag": "ABX9TyP/AA4x70jE4jC51l+ot0BH",
   "provenance": [],
   "toc_visible": true
  },
  "kernelspec": {
   "display_name": "Python 3 (ipykernel)",
   "language": "python",
   "name": "python3"
  },
  "language_info": {
   "codemirror_mode": {
    "name": "ipython",
    "version": 3
   },
   "file_extension": ".py",
   "mimetype": "text/x-python",
   "name": "python",
   "nbconvert_exporter": "python",
   "pygments_lexer": "ipython3",
   "version": "3.9.13"
  },
  "toc": {
   "base_numbering": 1,
   "nav_menu": {},
   "number_sections": false,
   "sideBar": true,
   "skip_h1_title": true,
   "title_cell": "Table of Contents",
   "title_sidebar": "Contents",
   "toc_cell": false,
   "toc_position": {},
   "toc_section_display": true,
   "toc_window_display": true
  }
 },
 "nbformat": 4,
 "nbformat_minor": 1
}
