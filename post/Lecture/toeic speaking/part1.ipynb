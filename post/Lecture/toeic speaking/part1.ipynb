{
 "cells": [
  {
   "cell_type": "raw",
   "id": "0b84e8ed",
   "metadata": {},
   "source": [
    "---\n",
    "title : \"part 1\"\n",
    "date : \"06/19/23\"\n",
    "author : \"GANGCHEOL LEE\"\n",
    "categories : \"speaking\"\n",
    "---"
   ]
  },
  {
   "cell_type": "markdown",
   "id": "822c7161",
   "metadata": {},
   "source": [
    "# 0. Intro"
   ]
  },
  {
   "cell_type": "markdown",
   "id": "28f60254",
   "metadata": {},
   "source": [
    "`-` 주어진 지문을 따라 읽기"
   ]
  },
  {
   "cell_type": "markdown",
   "id": "93eba69b",
   "metadata": {},
   "source": [
    "`-` 답변 준비시간 : 각 45초, 답변 시간 : 45초"
   ]
  },
  {
   "cell_type": "markdown",
   "id": "0c53b992",
   "metadata": {},
   "source": [
    "`-` [참고영상](https://youtu.be/PTfhKogBpQA)"
   ]
  },
  {
   "cell_type": "markdown",
   "id": "a584fec4",
   "metadata": {},
   "source": [
    "***"
   ]
  },
  {
   "cell_type": "markdown",
   "id": "08d15760",
   "metadata": {},
   "source": [
    "## 1. 준비시간 활용법"
   ]
  },
  {
   "cell_type": "markdown",
   "id": "9c471f17",
   "metadata": {},
   "source": [
    "1. 준비시간 : 큰소리로 지문 전체를 한 번 읽고 남는 시간에는 어려웠던 발음을 연습"
   ]
  },
  {
   "cell_type": "markdown",
   "id": "4b6b0185",
   "metadata": {},
   "source": [
    "2. 답변시간 : 지문을 자신감 있게 읽고 남는 시간 묵음, 읽다가 틀리면 그 부분만 다시 읽기"
   ]
  },
  {
   "cell_type": "markdown",
   "id": "1db10faa",
   "metadata": {},
   "source": [
    "# 2. 실점원인 3가지"
   ]
  },
  {
   "cell_type": "markdown",
   "id": "48cefa57",
   "metadata": {},
   "source": [
    "1. 모노톤, 소심톤"
   ]
  },
  {
   "cell_type": "markdown",
   "id": "a450368b",
   "metadata": {},
   "source": [
    "2. 쉬운 단어의 발음과 강세를 반복적으로 실수하는 경우"
   ]
  },
  {
   "cell_type": "markdown",
   "id": "a3c00c3c",
   "metadata": {},
   "source": [
    "3. 속도가 너무 빨라서 발음이 뭉개지는 경우"
   ]
  },
  {
   "cell_type": "markdown",
   "id": "100acc7d",
   "metadata": {},
   "source": [
    "# 3. 만점 비법 5가지"
   ]
  },
  {
   "cell_type": "markdown",
   "id": "5ce415fc",
   "metadata": {},
   "source": [
    "1. 어려운 단어일수록 자신감 있게 읽기\n",
    "\n",
    "* 고유명사는 틀려도 감점 x \n",
    "\n",
    "* **\"R, L, F, V\"** 의 발음은 정확히 하자"
   ]
  },
  {
   "cell_type": "markdown",
   "id": "991beddc",
   "metadata": {},
   "source": [
    "2. 틀린 부분은 그 단어 부터 다시 읽기"
   ]
  },
  {
   "cell_type": "markdown",
   "id": "1a2efedb",
   "metadata": {},
   "source": [
    "3. 적정 속도로 읽기"
   ]
  },
  {
   "cell_type": "markdown",
   "id": "5e207f1b",
   "metadata": {},
   "source": [
    "4. 남는 시간은 멘탈 관리하기"
   ]
  },
  {
   "cell_type": "markdown",
   "id": "fe7217ed",
   "metadata": {},
   "source": [
    "5. 지문의 종류에 구애 받지 말자"
   ]
  },
  {
   "cell_type": "markdown",
   "id": "ce86afed",
   "metadata": {},
   "source": [
    "$\\divideontimes$ **교재를 참고해서 어려운 발음의 단어를 학습하고 발음, 강세, 억양, 끊어읽기를 지겹게 발음하여 연습하자.**"
   ]
  },
  {
   "cell_type": "markdown",
   "id": "30d40f8a",
   "metadata": {},
   "source": [
    "`-` [빈출단어 발음연습](https://www.youtube.com/watch?v=5iG99SwLrhc)"
   ]
  }
 ],
 "metadata": {
  "kernelspec": {
   "display_name": "Python 3 (ipykernel)",
   "language": "python",
   "name": "python3"
  },
  "language_info": {
   "codemirror_mode": {
    "name": "ipython",
    "version": 3
   },
   "file_extension": ".py",
   "mimetype": "text/x-python",
   "name": "python",
   "nbconvert_exporter": "python",
   "pygments_lexer": "ipython3",
   "version": "3.9.13"
  },
  "toc": {
   "base_numbering": 1,
   "nav_menu": {},
   "number_sections": false,
   "sideBar": true,
   "skip_h1_title": true,
   "title_cell": "Table of Contents",
   "title_sidebar": "Contents",
   "toc_cell": false,
   "toc_position": {},
   "toc_section_display": true,
   "toc_window_display": true
  }
 },
 "nbformat": 4,
 "nbformat_minor": 5
}
