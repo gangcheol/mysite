{
 "cells": [
  {
   "cell_type": "raw",
   "id": "f476922c",
   "metadata": {},
   "source": [
    "---\n",
    "title : \"part 4\"\n",
    "date : \"02/09/23\"\n",
    "author : \"GANGCHEOL LEE\"\n",
    "categories : \"speaking\"\n",
    "---"
   ]
  },
  {
   "cell_type": "markdown",
   "id": "458827ba",
   "metadata": {},
   "source": [
    "# 0. Intro"
   ]
  },
  {
   "cell_type": "markdown",
   "id": "493e54ed",
   "metadata": {},
   "source": [
    "1. 표 읽는시간 45초, 답변 준비시간 문항당 3초\n",
    "\n",
    "2. 10 번을 제외하고 전부 1회 청취가능\n",
    "\n",
    "3. 답변시간 : 8, 9번 $\\to$ 15초, 10번 $\\to$ 30초"
   ]
  },
  {
   "cell_type": "markdown",
   "id": "8c46172c",
   "metadata": {},
   "source": [
    "# 1. 만점전략"
   ]
  },
  {
   "cell_type": "markdown",
   "id": "11ed7313",
   "metadata": {},
   "source": [
    "## (1) 표 읽는 시간"
   ]
  },
  {
   "cell_type": "markdown",
   "id": "ad2e03c7",
   "metadata": {},
   "source": [
    "1. 전반적인 내용\n",
    "\n",
    "2. 중요한 부분(반복적 키워드)\n",
    "\n",
    "3. 특이사항\n",
    "\n",
    "4. 유형별 중요한 포인트"
   ]
  },
  {
   "cell_type": "markdown",
   "id": "4be8db26",
   "metadata": {},
   "source": [
    "## (2) 고정된 템플릿"
   ]
  },
  {
   "cell_type": "markdown",
   "id": "37c39348",
   "metadata": {},
   "source": [
    "* 동일한 표현을 썼더라도 문제에 대한 정확한 답변을 했을때 고득점을 받음!`"
   ]
  },
  {
   "cell_type": "markdown",
   "id": "dd95e3ba",
   "metadata": {},
   "source": [
    "## (3) 듣기 잘 듣는 법"
   ]
  },
  {
   "cell_type": "markdown",
   "id": "23a888a0",
   "metadata": {},
   "source": [
    "`-` 파트 4는 유사한 패턴이 반족 출제 되므로 문제를 예측해서 키워드를 캐치하자!"
   ]
  },
  {
   "cell_type": "markdown",
   "id": "a088c517",
   "metadata": {},
   "source": [
    "`-` 듣기 문제 예측방법\n",
    "\n",
    "1. 표가 힌트다 $\\to$ 표가 계속 화면에 떠있음\n",
    "\n",
    "2. 의문사를 잘듣자 $\\to$ 8번 문제의 경우 시간, 날짜, 장소, 금액 등 고정적으로 묻는 문제들이 출제됨\n",
    "\n",
    "3. 키워드 듣기 $\\to$ 9, 10번의 경우, 표에 나와있는 키워드를 언급을 한다면 그 부분이 정답이 되는 경우가 많음\n"
   ]
  },
  {
   "cell_type": "markdown",
   "id": "22813b31",
   "metadata": {},
   "source": [
    "## (4) 유형별 정리"
   ]
  },
  {
   "cell_type": "markdown",
   "id": "fa2158ec",
   "metadata": {},
   "source": [
    "1. 일정표\n",
    "\n",
    "2. 개인 일정표\n",
    "\n",
    "3. 이력서\n",
    "\n",
    "4. 면접 일정표\n",
    "\n",
    "5. 수업 시간표"
   ]
  },
  {
   "cell_type": "markdown",
   "id": "e1230365",
   "metadata": {},
   "source": [
    "***"
   ]
  },
  {
   "cell_type": "markdown",
   "id": "db0b5697",
   "metadata": {},
   "source": [
    "# 2. 기초 이론 다지기"
   ]
  },
  {
   "cell_type": "markdown",
   "id": "657db004",
   "metadata": {},
   "source": [
    "`-` [참고영상](https://m.youtube.com/watch?v=QYgfYk9Ysys&feature=youtu.be`)"
   ]
  },
  {
   "cell_type": "markdown",
   "id": "66dcd314",
   "metadata": {},
   "source": [
    "## (1) 날짜, 숫자, 시간"
   ]
  },
  {
   "cell_type": "markdown",
   "id": "2ead4c76",
   "metadata": {},
   "source": [
    "### A. 서수 읽기"
   ]
  },
  {
   "cell_type": "markdown",
   "id": "506b778f",
   "metadata": {},
   "source": [
    "`-` 날짜는 '서수'로 읽는다. **'숫자 + th'**"
   ]
  },
  {
   "cell_type": "markdown",
   "id": "07891cb9",
   "metadata": {},
   "source": [
    "`-` 나머지는 교재 보고 읽기 연습"
   ]
  },
  {
   "cell_type": "markdown",
   "id": "7c542552",
   "metadata": {},
   "source": [
    "### B. 전치사 사용"
   ]
  },
  {
   "cell_type": "markdown",
   "id": "857b51f8",
   "metadata": {},
   "source": [
    "#### 1. 시간"
   ]
  },
  {
   "cell_type": "markdown",
   "id": "cd06c320",
   "metadata": {},
   "source": [
    "`-` on + 날짜/요일\n",
    "\n",
    "`-` At + 시각\n",
    "\n",
    "`-` in + 월/계절\n",
    "\n",
    "`-` From A to B"
   ]
  },
  {
   "cell_type": "markdown",
   "id": "ce3ed02d",
   "metadata": {},
   "source": [
    "#### 2. 장소"
   ]
  },
  {
   "cell_type": "markdown",
   "id": "20a36d7e",
   "metadata": {},
   "source": [
    "`-` **At** : 특정 장소\n",
    "\n",
    "`-` **in** : 방안(실내장소), 도시, 나라\n",
    "\n",
    "`-` **On** : 층, 거리명, 교통편"
   ]
  },
  {
   "cell_type": "markdown",
   "id": "57f39d96",
   "metadata": {},
   "source": [
    "#### 3. 기타"
   ]
  },
  {
   "cell_type": "markdown",
   "id": "18034ea1",
   "metadata": {},
   "source": [
    "* **by/with** + 사람\n",
    "    * by : 그 사람에 의해서 진행되거나 이끌어 지는 경우\n",
    "    * with : 그 사람이 진행 하거나 진행하지는 않지만, 그 사람과 함께 하는 경우\n",
    "    \n",
    "* **on/about** + 주제 : 둘의 딱히 구별은 없음\n",
    "\n",
    "* **from + 소속**\n",
    "\n",
    "* **the, as** + (a) 직책\n",
    "    * as는 이력서 유형에서 경력을 말할 때!"
   ]
  },
  {
   "cell_type": "markdown",
   "id": "ea424c45",
   "metadata": {},
   "source": [
    "***"
   ]
  },
  {
   "cell_type": "markdown",
   "id": "d428b9ab",
   "metadata": {},
   "source": [
    "# 3. 템플릿"
   ]
  },
  {
   "cell_type": "markdown",
   "id": "734a84ef",
   "metadata": {},
   "source": [
    "## 일정표 템플릿"
   ]
  },
  {
   "cell_type": "markdown",
   "id": "593d8ebb",
   "metadata": {},
   "source": [
    "### Question 8"
   ]
  },
  {
   "cell_type": "markdown",
   "id": "f08940a6",
   "metadata": {},
   "source": [
    "`-` It will be held + 시간/장소 = it wiil take place + 시간/장소\n",
    "\n",
    "`-` It will start at 시간/장소 = It will begin at 시간/장소\n",
    " \n",
    "`-` It will finish at 시각 "
   ]
  },
  {
   "cell_type": "markdown",
   "id": "6ee7cb2f",
   "metadata": {},
   "source": [
    "### Question 9"
   ]
  },
  {
   "cell_type": "markdown",
   "id": "eaa3c4d0",
   "metadata": {},
   "source": [
    "`-` No, I'm afraid that you have the wrong information, Actually, + 맞는정보\n",
    "\n",
    "* 시간이 부족하다면 **\"No, Actually, 맞는정보~~\"** 로 가자."
   ]
  },
  {
   "cell_type": "markdown",
   "id": "7a19a9b9",
   "metadata": {},
   "source": [
    "### Question 10"
   ]
  },
  {
   "cell_type": "markdown",
   "id": "5fc319a6",
   "metadata": {},
   "source": [
    "`-` There are ___ session. First, Next, Finally, there is 일정 on 주제 by 사람"
   ]
  },
  {
   "cell_type": "markdown",
   "id": "7f1172e4",
   "metadata": {},
   "source": [
    "### set 1"
   ]
  },
  {
   "cell_type": "markdown",
   "id": "2da5f320",
   "metadata": {},
   "source": [
    "`-` 교재 126"
   ]
  },
  {
   "cell_type": "markdown",
   "id": "d849259f",
   "metadata": {},
   "source": [
    "![](part4-set1.png)"
   ]
  },
  {
   "cell_type": "markdown",
   "id": "f684a002",
   "metadata": {},
   "source": [
    "`-` Q8. when and where is it scheduled to take place?\n",
    "\n",
    "`-` Answer\n",
    "\n",
    "**It will be held on Monday, November 2nd, at Washington Convention Center**"
   ]
  },
  {
   "cell_type": "markdown",
   "id": "6876a257",
   "metadata": {},
   "source": [
    "`-` Q8-1. On what date does the conference take place and what time does it start?\n",
    "\n",
    "`-` Answer\n",
    "\n",
    "**It will be held on Monday, November 2nd and it will start at 10 a.m**"
   ]
  },
  {
   "cell_type": "markdown",
   "id": "0d83292c",
   "metadata": {},
   "source": [
    "`-` Q8-2\n",
    "\n",
    "How much is the registration fee per person if I\"m going with five other people?\n",
    "\n",
    "\n",
    "`-` Answer\n",
    "\n",
    "**It's 15 dollars per person because you can get a group discount**"
   ]
  },
  {
   "cell_type": "markdown",
   "id": "f626cc47",
   "metadata": {},
   "source": [
    "![](part4-set1.png)"
   ]
  },
  {
   "cell_type": "markdown",
   "id": "c6585941",
   "metadata": {},
   "source": [
    "`-` Q9. I'm going with some other people. so will be a group of six people. Can we get a group discount? and, if so, how much is the discounted registration fee per person?\n",
    "\n",
    "`-` Answer\n",
    "\n",
    "**Yes, you can get a  group discount, and it's 15 dollars per person.**\n"
   ]
  },
  {
   "cell_type": "markdown",
   "id": "ebdfd29b",
   "metadata": {},
   "source": [
    "`-` Q9-1. I heard that Murphy davis will give a presentation in the aftenoon is that right?\n",
    "\n",
    "`-` answer\n",
    "\n",
    "**No. I'm afraid that you have the wrong information. Actually Murphy Davis will give a presentation at 11 am.**"
   ]
  },
  {
   "cell_type": "markdown",
   "id": "69d2b2d7",
   "metadata": {},
   "source": [
    "`-` Q9-2. I was told that there will be a seminar by jane Morris at 1 p.m. Can you confirm that?\n",
    "\n",
    "\n",
    "`-` answer\n",
    "\n",
    "**No, actually, there was supposed to be a seminar by Jane Morris, but it has been cancled.**"
   ]
  },
  {
   "cell_type": "markdown",
   "id": "2c3b3ed5",
   "metadata": {},
   "source": [
    "`-` Q9-3. I'm afraid I'll have to leave after 4 p.m. Will I miss anything?\n",
    "\n",
    "\n",
    "`-` answer\n",
    "\n",
    "**Yes, from 4 to 5 p.m, there is a lecture on Customer Service Skills for Small Business Owners by Susan Foster**\n",
    "\n"
   ]
  },
  {
   "cell_type": "markdown",
   "id": "e3108feb",
   "metadata": {},
   "source": [
    "![](part4-set1.png)"
   ]
  },
  {
   "cell_type": "markdown",
   "id": "10b00060",
   "metadata": {},
   "source": [
    "`-` Q10. I'm looking forward to sessions that deal with customer service. Could you give me all the details of the sessions related to customer service?\n",
    "\n",
    "`-` answer\n",
    "\n",
    "**Sure. First, at 2 p.m. there is a workshop on how to provide great customer service by Ashley Parker. Next, at 4 p.m, there is a lecture on customer service skills for small business owners by Susan Poster**"
   ]
  },
  {
   "cell_type": "markdown",
   "id": "b89463ee",
   "metadata": {},
   "source": [
    "`-` Q10-1. I want to know about the details of the sessions that deal with customer service. Can you tell me about them?\n",
    "\n",
    "`-` answer\n",
    "\n",
    "**Sure. First, at 2 p.m. there is a workshop on how to provide great customer service by Ashley Parker. Next, at 4 p.m, there is a lecture on customer service skills for small business owners by Susan Poster**\n"
   ]
  },
  {
   "cell_type": "markdown",
   "id": "37b3045a",
   "metadata": {},
   "source": [
    "### set 3"
   ]
  },
  {
   "cell_type": "markdown",
   "id": "6f0b55bc",
   "metadata": {},
   "source": [
    "`-` 교재 128"
   ]
  },
  {
   "cell_type": "markdown",
   "id": "875fb3b3",
   "metadata": {},
   "source": [
    "![](part4-set3.png)"
   ]
  },
  {
   "cell_type": "markdown",
   "id": "ee3cf2f9",
   "metadata": {},
   "source": [
    "`-` Q8. When is the first day of the orientation, and what is the first thing on the schedule?\n",
    "\n",
    "`-` answer\n",
    "\n",
    "**Saturday, August 15th, is the first day of the orientaton. and the first thing on the schedule is an opening address at 10 a.m**"
   ]
  },
  {
   "cell_type": "markdown",
   "id": "d407c8be",
   "metadata": {},
   "source": [
    "`-` Q9. I heard that there will be a company tour in the morning. Am I right?\n",
    "\n",
    "`-` answer\n",
    "\n",
    "**No. I'm afraid that you have the wrong information. actually, the company tour will be held at 1 p.m**"
   ]
  },
  {
   "cell_type": "markdown",
   "id": "89d2059c",
   "metadata": {},
   "source": [
    "`-` Q10, Someone told me that I would find the lectures particularly helpful. Can you give me all the details of the **lectures** offered at the orientation?\n",
    "\n",
    "`-` answer\n",
    "\n",
    "**Sure, There are two lectures on Sunday. First, at 9 am. there is a lecture on how to succeed in a workplace by jennifer owen. Then, at noon, there is a lecture on Teamwork is Everything by Cindy Peterson**"
   ]
  },
  {
   "cell_type": "markdown",
   "id": "66e9d1ac",
   "metadata": {},
   "source": [
    "***"
   ]
  },
  {
   "cell_type": "markdown",
   "id": "b41baf4d",
   "metadata": {},
   "source": [
    "## 수업시간표"
   ]
  },
  {
   "cell_type": "markdown",
   "id": "abb0d5c5",
   "metadata": {},
   "source": [
    "### 템플릿1. 금액, 등록"
   ]
  },
  {
   "cell_type": "markdown",
   "id": "849de939",
   "metadata": {},
   "source": [
    "`-` You have to pay 금액 for 강좌\n",
    "\n",
    "`-` it's 숫지 dollars.\n",
    "\n",
    "`-`**You should register(=sign up) by 등록 마감일**\n",
    "\n",
    "`-` If you V, it's ~dollars\n",
    "\n",
    "`-` It's free\n",
    "\n",
    "`-` It's for beginners/intermediate students/advanced students."
   ]
  },
  {
   "cell_type": "markdown",
   "id": "04e571f8",
   "metadata": {},
   "source": [
    "### 템플릿 2. 수업 소개"
   ]
  },
  {
   "cell_type": "markdown",
   "id": "f0f12625",
   "metadata": {},
   "source": [
    "`-` There is a 과목명 class/course\n",
    "\n",
    "`-` 강사 will teach 과목명 class/coures\n",
    "\n",
    "`-` There is a class on 주제\n",
    "\n",
    "`-` 강사 will teach a class on 주제"
   ]
  },
  {
   "cell_type": "markdown",
   "id": "14682843",
   "metadata": {},
   "source": [
    "### set 10"
   ]
  },
  {
   "cell_type": "markdown",
   "id": "c2261675",
   "metadata": {},
   "source": [
    "`-` 교재 135"
   ]
  },
  {
   "cell_type": "markdown",
   "id": "e0f8f66b",
   "metadata": {},
   "source": [
    "![](part4-set10.png)"
   ]
  },
  {
   "cell_type": "markdown",
   "id": "f9b95bcf",
   "metadata": {},
   "source": [
    "`-` Q8. How much is the **fee per course**, and when is the deadline for **registration**?\n",
    "\n",
    "`-` answer\n",
    "\n",
    "**It's 50 dollars per course, you have to register by December 2nd.**"
   ]
  },
  {
   "cell_type": "markdown",
   "id": "590d6647",
   "metadata": {},
   "source": [
    "`-`Q9. I heared that **Elliot Ross** will be teaching **History of video Artwork**. Can you confirm that?\n",
    "\n",
    "`-` answer\n",
    "\n",
    "**No. I'm afraid that you have wrong information. actually, Andrew Morgan will teach history of video Artworks.**\n"
   ]
  },
  {
   "cell_type": "markdown",
   "id": "e58c1e34",
   "metadata": {},
   "source": [
    "![](part4-set10.png)"
   ]
  },
  {
   "cell_type": "markdown",
   "id": "5a171b26",
   "metadata": {},
   "source": [
    "`-` Q10. I'm busy with my work these days. so I only have time **on mondays and saturdays.** Can you tell me all the details of the classes scheduled on mondays and saturdays?\n",
    "\n",
    "\n",
    "`-` answer\n",
    "\n",
    "**Sure. First, on mondays, there is a class on the importance of artworks appreciation(어프리쉬에이션) by Shellakeen from 1 to 2 pm. Next, on Saturdays. there is an oil painting for beginners by kate carter from 4 to 5 pm.**"
   ]
  },
  {
   "cell_type": "markdown",
   "id": "be0d944b",
   "metadata": {},
   "source": [
    "### Set 4"
   ]
  },
  {
   "cell_type": "markdown",
   "id": "2e712fa4",
   "metadata": {},
   "source": [
    "`-` 가끔 출제되는 유형"
   ]
  },
  {
   "cell_type": "markdown",
   "id": "aa07225f",
   "metadata": {},
   "source": [
    "![](part4-set4.png)"
   ]
  },
  {
   "cell_type": "markdown",
   "id": "2abdd1d8",
   "metadata": {},
   "source": [
    "`-` Q8. **What time** does the first movie start, and **what** is **the title of the movie**?\n",
    "\n",
    "`-` answer\n",
    "\n",
    "**It will be held at 9 am. and the title of the movie is Seed of Evil**"
   ]
  },
  {
   "cell_type": "markdown",
   "id": "0e3833ce",
   "metadata": {},
   "source": [
    "`-` Q9. I'm a big fan of **Sean Adams**. and I want to watch his movie. A man in Love. I heard that **the fee is 10 dollars** per ticket. Is that right?\n",
    "\n",
    "`-` answer\n",
    "\n",
    "No, actually, it's a free. So you don't have to pay for the ticket."
   ]
  },
  {
   "cell_type": "markdown",
   "id": "afed4cea",
   "metadata": {},
   "source": [
    "`-` Q10. Could you tell me about all the screenings being **held in the New york Theater**?\n",
    "\n",
    "`-` answer\n",
    "\n",
    "**There are two films. First, at 11 am, there is Gloomy Fate. it's 7 dollars per ticket. Next, at 3 p.m, there is Heaven. It's 6 dollars per ticket.**"
   ]
  },
  {
   "cell_type": "markdown",
   "id": "2f012f33",
   "metadata": {},
   "source": [
    "## 개인일정표"
   ]
  },
  {
   "cell_type": "markdown",
   "id": "53c4ce2b",
   "metadata": {},
   "source": [
    "### 템플릿 1. ~ 할것이다"
   ]
  },
  {
   "cell_type": "markdown",
   "id": "4e1625bd",
   "metadata": {},
   "source": [
    "`-` You will depart from 출발지\n",
    "\n",
    "`-` You will arrive in 도착지\n",
    "\n",
    "`-` You will take 교통편\n",
    "\n",
    "`-` You will stay at 숙소\n",
    "\n",
    "`-` You will have lunch/ dinner/ a meeting.\n",
    "\n",
    "`-` You will give a sppech/ a lecture/ a presentation"
   ]
  },
  {
   "cell_type": "markdown",
   "id": "eb7dd0e8",
   "metadata": {},
   "source": [
    "### 템플릿 2. 취소/ 연기 일정 변경\n"
   ]
  },
  {
   "cell_type": "markdown",
   "id": "b21096de",
   "metadata": {},
   "source": [
    "`-`There was supposed to **(비 서포스투)** be 일정, but it has been canceled.\n",
    "\n",
    "`-` There was supposeed to be 일정, but it has been postponed.\n",
    "\n",
    "`-` There was supposed to be 일정 but it has been rescheduled to 바뀐날짜\n",
    "\n",
    "* 시간이 부족할 땐 It has been canceled/postponed/recheduled to 바뀐날짜만 쓸 수 있다."
   ]
  },
  {
   "cell_type": "markdown",
   "id": "20a19a6e",
   "metadata": {},
   "source": [
    "### set 5"
   ]
  },
  {
   "cell_type": "markdown",
   "id": "40b6307e",
   "metadata": {},
   "source": [
    "![](part4-set5.png)"
   ]
  },
  {
   "cell_type": "markdown",
   "id": "b9bf4a1c",
   "metadata": {},
   "source": [
    "`-` Q8. **What time** will the **team meeting** take place. and **what we be discussing**?\n",
    "\n",
    "`-` answer\n",
    "\n",
    "**it will be held at 1 pm. and the topic will be reviewing safety issues**"
   ]
  },
  {
   "cell_type": "markdown",
   "id": "aa75a88a",
   "metadata": {},
   "source": [
    "`-`Q9. **I'm planning**  to have a lunch appointment with my friend at **noon**. Would that be posssible?\n",
    "\n",
    "`-` answer\n",
    "\n",
    "**No, Actually it's not possible, You have a lunch meeting with your clients, John Brown**\n"
   ]
  },
  {
   "cell_type": "markdown",
   "id": "46b8e1f5",
   "metadata": {},
   "source": [
    "`-` Q9-1. As far as I know. **I'm supposd to attend a staff meeting in the morning**. Can you confirm that?\n",
    "\n",
    "`-` answer\n",
    "\n",
    "**No, actually, There is a staff meeting at 2 pm**\n"
   ]
  },
  {
   "cell_type": "markdown",
   "id": "ef90ca14",
   "metadata": {},
   "source": [
    "![](part4-set5.png)"
   ]
  },
  {
   "cell_type": "markdown",
   "id": "32ff0abc",
   "metadata": {},
   "source": [
    "`-` Q10.I want to know about the things **I have to do before noon**. Can you tell me all the items scheduled before noon?\n",
    "\n",
    "`-` answer\n",
    "\n",
    "**Yes, First, at 10 am, there is a meeting with samuel Greene, sales director, next, at 11 am, there is a meeting with Shawna choi, regional(리지너) director.**"
   ]
  },
  {
   "cell_type": "markdown",
   "id": "c5d32d89",
   "metadata": {},
   "source": [
    "### set 8"
   ]
  },
  {
   "cell_type": "markdown",
   "id": "df7e21bd",
   "metadata": {},
   "source": [
    "![](part4-set8.png)"
   ]
  },
  {
   "cell_type": "markdown",
   "id": "facd8e75",
   "metadata": {},
   "source": [
    "`-` Q8. **Which hotel wiil I be staying at**, and **what time** do I arrive in **Chicago on Wednesday**, June 20th?\n",
    "\n",
    "\n",
    "`-` answer\n",
    "\n",
    "**You wiil stay at Glen Hotel, and You will arrive in Chicago at 10:30 am. on wednesday.**"
   ]
  },
  {
   "cell_type": "markdown",
   "id": "efff7033",
   "metadata": {},
   "source": [
    "`-` Q9. When I arrive in Chicao, do **I have to take a taxi to get to the hotel?\n",
    "\n",
    "`-` answer\n",
    "\n",
    "**No. You don't have to, Actually, a rental car will be reserved at the airport on June 20th.**"
   ]
  },
  {
   "cell_type": "markdown",
   "id": "31015f2e",
   "metadata": {},
   "source": [
    "![](part4-set8.png)"
   ]
  },
  {
   "cell_type": "markdown",
   "id": "80d2dab7",
   "metadata": {},
   "source": [
    "`-` Q10. Can You tell me all the details of my schedule **on Friday, June 22nd**?\n",
    "\n",
    "`-` answer\n",
    "\n",
    "**Sure. First, you will depart from Chicago at 6 pm on Friday. You will take Los Angeles airlines. The flight number is 105,**\n",
    "\n",
    "**Next, You will arrive in San Antonio at 9:30 pm on Friday.**"
   ]
  },
  {
   "cell_type": "markdown",
   "id": "cc8dbaeb",
   "metadata": {},
   "source": [
    "***"
   ]
  },
  {
   "cell_type": "markdown",
   "id": "1648e947",
   "metadata": {},
   "source": [
    "##  이력서"
   ]
  },
  {
   "cell_type": "markdown",
   "id": "415ff16b",
   "metadata": {},
   "source": [
    "### 템플릿 1. 학력"
   ]
  },
  {
   "cell_type": "markdown",
   "id": "b45544bb",
   "metadata": {},
   "source": [
    "`-` He got a bachelor's(배칠러스) degree/master's degree in 전공 from 학교 in 년도\n"
   ]
  },
  {
   "cell_type": "markdown",
   "id": "6cf4311e",
   "metadata": {},
   "source": [
    "### 템플릿 2. 경력"
   ]
  },
  {
   "cell_type": "markdown",
   "id": "31ed05c5",
   "metadata": {},
   "source": [
    "`-` From 시작일 to 종료일, He worked at 회사명 as 직책\n",
    "\n",
    "`-` From 시작일 up to now, He has worked at 회사명 as 직책"
   ]
  },
  {
   "cell_type": "markdown",
   "id": "eb4cd112",
   "metadata": {},
   "source": [
    "### 템플릿 3. 기타 능력"
   ]
  },
  {
   "cell_type": "markdown",
   "id": "30a99f54",
   "metadata": {},
   "source": [
    "`-` I think he is qualified because ~\n",
    "\n",
    "`-` he is fluent in 언어명\n",
    "\n",
    "`-` He is certified(설디파이드) in 자격\n",
    "\n",
    "`-` he has a certificate(설티피킷).\n",
    "\n",
    "`-` he has experience in 분야"
   ]
  },
  {
   "cell_type": "markdown",
   "id": "0ec49a53",
   "metadata": {},
   "source": [
    "### set 9"
   ]
  },
  {
   "cell_type": "markdown",
   "id": "6ec233f6",
   "metadata": {},
   "source": [
    "![](part4-set9.png)"
   ]
  },
  {
   "cell_type": "markdown",
   "id": "9efb679a",
   "metadata": {},
   "source": [
    "`-` Q8. **What school** did he get his master's degree from, and **what was his major?**\n",
    "\n",
    "`-` answer\n",
    "\n",
    "**he got a master's degree in computer enginering from the university of southern california in 2016.**"
   ]
  },
  {
   "cell_type": "markdown",
   "id": "429cedcc",
   "metadata": {},
   "source": [
    "`-` Q9. I'd like to hire an applicant who **understands software enginerring management**. **Do you think he is a qualified applicant?** \n",
    "\n",
    "`-` answer\n",
    "\n",
    "**Yes. I think he is qualified because he is certified in software engineering management.**"
   ]
  },
  {
   "cell_type": "markdown",
   "id": "29aca5ca",
   "metadata": {},
   "source": [
    "![](part4-set9.png)"
   ]
  },
  {
   "cell_type": "markdown",
   "id": "9d836280",
   "metadata": {},
   "source": [
    "`-` Q9-1. We are planning to work with **Chinese companies** next year and I want to hire an employee who can help us with that project. **Is he qualified**?\n",
    "\n",
    "`-` answer\n",
    "\n",
    "**Yes, I think he is qualified because he is fluent in Chinese.**"
   ]
  },
  {
   "cell_type": "markdown",
   "id": "10c2f0c7",
   "metadata": {},
   "source": [
    "`-` Q10, we want to hire **a highly experienced** employee. What **details** can you tell me about **his work experience?**\n",
    "\n",
    "`-` answer\n",
    "\n",
    "**Yes, First, from 2017 to 2018, he woaked at Jefferson Software as an intern, Next, from 2018 until now, he has worked at STA Eletronics as Chief Engineer.**"
   ]
  },
  {
   "cell_type": "markdown",
   "id": "87f37b58",
   "metadata": {},
   "source": [
    "***"
   ]
  },
  {
   "cell_type": "markdown",
   "id": "1077075f",
   "metadata": {},
   "source": [
    "## 면접일정표"
   ]
  },
  {
   "cell_type": "markdown",
   "id": "84858cbf",
   "metadata": {},
   "source": [
    "### 템플릿 1. 면접일정"
   ]
  },
  {
   "cell_type": "markdown",
   "id": "c4483d79",
   "metadata": {},
   "source": [
    "`-` You will interview 사람.\n",
    "\n",
    "`-` there is an interview with 사람 from 회사명 (Who is applying for 직책).\n",
    "\n",
    "`-` he has **5** years of experience.\n",
    "\n",
    "`-` he is applying for **editor** position."
   ]
  },
  {
   "cell_type": "markdown",
   "id": "11c0747a",
   "metadata": {},
   "source": [
    "### set 7"
   ]
  },
  {
   "cell_type": "markdown",
   "id": "5c04eb1a",
   "metadata": {},
   "source": [
    "![](part4-set7.png)"
   ]
  },
  {
   "cell_type": "markdown",
   "id": "85584ec2",
   "metadata": {},
   "source": [
    "`-` Q8. What date will the job interview be held, and where are they being held?\n",
    "\n",
    "`-` answer\n",
    "\n",
    "**It will be held on Monday, january 10th, and they will be held in metting room A**"
   ]
  },
  {
   "cell_type": "markdown",
   "id": "88dd213d",
   "metadata": {},
   "source": [
    "`-` Q8-1. What time does the first inteview start and who am I interviewing?\n",
    "\n",
    "`-` answer\n",
    "\n",
    "**The first interview will start at 9 am. and you will interview Michael West from Smart Design.**"
   ]
  },
  {
   "cell_type": "markdown",
   "id": "c4b75220",
   "metadata": {},
   "source": [
    "`-` Q9. I'm afraid that I have an urgent video conference with my client at 10 am. Would it be a problem?\n",
    "\n",
    "`-` answer\n",
    "\n",
    "**Fortuately(폴츄널리), there was supposed to be an interview with Aiden Thomas. but it has ben canceled. (So, it wouldn't be a problem at all.)**"
   ]
  },
  {
   "cell_type": "markdown",
   "id": "ad7610f9",
   "metadata": {},
   "source": [
    "![](part4-set7.png)"
   ]
  },
  {
   "cell_type": "markdown",
   "id": "3a043718",
   "metadata": {},
   "source": [
    "`-` Q9-1. I know that I'm supposed to have an interview with aiden thomas from creative minds. Am I right?\n",
    "\n",
    "`-` answer\n",
    "\n",
    "No, actually, there was supposed to be an interview with Aiden Thomas. but it has ben canceled."
   ]
  },
  {
   "cell_type": "markdown",
   "id": "4d361dc5",
   "metadata": {},
   "source": [
    "`-` Q10. Can you give me all the details of applicants who are currently working at Smart Design?\n",
    "\n",
    "`-` answer\n",
    "\n",
    "**There are two applicants(어플리컨츠). First, at 9 am. there is an interview with Michael West. he is applying for web designer position. next, at 2 pm, there is an interview with Heater Stevenson. he is applying for Graphic Designer position.**"
   ]
  },
  {
   "cell_type": "markdown",
   "id": "a600284c",
   "metadata": {},
   "source": [
    "`-` Q10-1. Can you tell me about the details of the applicants who are applying for a web designer posution?\n",
    "\n",
    "`-` answer\n",
    "\n",
    "**There are two applicants. First, at 9 am.  there is an interview with Michael West from Smart Design. Next, at 1 pm. there is an interview with Dylan Paley Desi from gn Master.**"
   ]
  },
  {
   "cell_type": "markdown",
   "id": "22f29252",
   "metadata": {},
   "source": [
    "***"
   ]
  },
  {
   "cell_type": "markdown",
   "id": "36004dee",
   "metadata": {},
   "source": [
    "## 복기"
   ]
  },
  {
   "cell_type": "markdown",
   "id": "888232f3",
   "metadata": {},
   "source": [
    "* set3, set4 처럼 예상치 못한 질문"
   ]
  },
  {
   "cell_type": "markdown",
   "id": "2df79096",
   "metadata": {},
   "source": [
    "* set5 $\\to$ 사람이름, the + 직책"
   ]
  },
  {
   "cell_type": "markdown",
   "id": "fb615984",
   "metadata": {},
   "source": [
    "* set7 $\\to$ 주제 명사 복수인지, 단수인지 확인(다시 풀자..)"
   ]
  }
 ],
 "metadata": {
  "kernelspec": {
   "display_name": "Python 3 (ipykernel)",
   "language": "python",
   "name": "python3"
  },
  "language_info": {
   "codemirror_mode": {
    "name": "ipython",
    "version": 3
   },
   "file_extension": ".py",
   "mimetype": "text/x-python",
   "name": "python",
   "nbconvert_exporter": "python",
   "pygments_lexer": "ipython3",
   "version": "3.9.13"
  },
  "toc": {
   "base_numbering": 1,
   "nav_menu": {},
   "number_sections": false,
   "sideBar": true,
   "skip_h1_title": false,
   "title_cell": "Table of Contents",
   "title_sidebar": "Contents",
   "toc_cell": false,
   "toc_position": {
    "height": "calc(100% - 180px)",
    "left": "10px",
    "top": "150px",
    "width": "232.396px"
   },
   "toc_section_display": true,
   "toc_window_display": true
  }
 },
 "nbformat": 4,
 "nbformat_minor": 5
}
