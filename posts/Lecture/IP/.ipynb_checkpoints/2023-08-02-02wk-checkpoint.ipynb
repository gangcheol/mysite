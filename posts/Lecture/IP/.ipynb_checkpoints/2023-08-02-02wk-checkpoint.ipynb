{
 "cells": [
  {
   "cell_type": "raw",
   "id": "a94cfc2d",
   "metadata": {},
   "source": [
    "---\n",
    "title : \"02. 리스트\"\n",
    "date : \"08/02/23\"\n",
    "categories : [\"Python\"]\n",
    "author : \"GANGCHEOL LEE\"\n",
    "---"
   ]
  },
  {
   "cell_type": "markdown",
   "id": "11898b6c",
   "metadata": {},
   "source": [
    "# list basic"
   ]
  },
  {
   "cell_type": "markdown",
   "id": "c0e5ee00-0196-4749-910e-7fe8be09bd0e",
   "metadata": {},
   "source": [
    "`-` 리스트는 사칙연산 중 덧셈, 곱하기만 지원한다.$\\to$ 그렇다고 그 연산이, 실제 더하기나 곱하기를 수행하지 않음"
   ]
  },
  {
   "cell_type": "markdown",
   "id": "cd0d8d9c-5d27-4430-b533-56086bdbc40e",
   "metadata": {},
   "source": [
    "`-` 리스트에 더하기와 곱하기 연산은 두 개의 리스트가 주어졌을 때 단순히 이어 붙인다는 느낌이다."
   ]
  },
  {
   "cell_type": "markdown",
   "id": "6a89f967-157d-4a2a-b4a7-78377a5ebad2",
   "metadata": {},
   "source": [
    "## ex1. 더하기"
   ]
  },
  {
   "cell_type": "code",
   "execution_count": 2,
   "id": "6561b951-9375-43c5-949e-a96b8f183ad2",
   "metadata": {},
   "outputs": [],
   "source": [
    "a = [1,2,3]\n",
    "b = [4,5,6]"
   ]
  },
  {
   "cell_type": "code",
   "execution_count": 3,
   "id": "97e66f0c-d407-44b0-968f-6c8e8f6a0ae1",
   "metadata": {},
   "outputs": [
    {
     "data": {
      "text/plain": [
       "[1, 2, 3, 4, 5, 6]"
      ]
     },
     "execution_count": 3,
     "metadata": {},
     "output_type": "execute_result"
    }
   ],
   "source": [
    "a+b"
   ]
  },
  {
   "cell_type": "markdown",
   "id": "8648d1f9-7416-4513-939b-5bbd4cd3999a",
   "metadata": {},
   "source": [
    "`-` R에서처럼 브로드캐스팅이 수행되지 않음"
   ]
  },
  {
   "cell_type": "code",
   "execution_count": 9,
   "id": "bae9373e-e9c1-40c1-b10a-2805891104e1",
   "metadata": {},
   "outputs": [
    {
     "ename": "TypeError",
     "evalue": "can only concatenate list (not \"int\") to list",
     "output_type": "error",
     "traceback": [
      "\u001b[1;31m---------------------------------------------------------------------------\u001b[0m",
      "\u001b[1;31mTypeError\u001b[0m                                 Traceback (most recent call last)",
      "Cell \u001b[1;32mIn[9], line 1\u001b[0m\n\u001b[1;32m----> 1\u001b[0m a\u001b[38;5;241m+\u001b[39m\u001b[38;5;241m1\u001b[39m\n",
      "\u001b[1;31mTypeError\u001b[0m: can only concatenate list (not \"int\") to list"
     ]
    }
   ],
   "source": [
    "a+1"
   ]
  },
  {
   "cell_type": "markdown",
   "id": "fa24a965-8ea1-4b99-98a6-d6b0530885eb",
   "metadata": {},
   "source": [
    "## ex.2 곱하기"
   ]
  },
  {
   "cell_type": "markdown",
   "id": "451e3505-a7ba-41c8-be21-4f1a042f961b",
   "metadata": {},
   "source": [
    "`-` 아래와 같은 연산은 수행되지 않음"
   ]
  },
  {
   "cell_type": "code",
   "execution_count": 5,
   "id": "a6262373-f329-48cb-a001-ed38957c921f",
   "metadata": {},
   "outputs": [
    {
     "ename": "TypeError",
     "evalue": "can't multiply sequence by non-int of type 'list'",
     "output_type": "error",
     "traceback": [
      "\u001b[1;31m---------------------------------------------------------------------------\u001b[0m",
      "\u001b[1;31mTypeError\u001b[0m                                 Traceback (most recent call last)",
      "Cell \u001b[1;32mIn[5], line 1\u001b[0m\n\u001b[1;32m----> 1\u001b[0m a\u001b[38;5;241m*\u001b[39mb\n",
      "\u001b[1;31mTypeError\u001b[0m: can't multiply sequence by non-int of type 'list'"
     ]
    }
   ],
   "source": [
    "a*b"
   ]
  },
  {
   "cell_type": "code",
   "execution_count": 6,
   "id": "4262697b-6543-46ab-8943-5141d406e98f",
   "metadata": {},
   "outputs": [
    {
     "data": {
      "text/plain": [
       "[1, 2, 3, 1, 2, 3, 1, 2, 3]"
      ]
     },
     "execution_count": 6,
     "metadata": {},
     "output_type": "execute_result"
    }
   ],
   "source": [
    "a*3"
   ]
  },
  {
   "cell_type": "markdown",
   "id": "2889fc22-2a48-44f5-a341-9d71931477ef",
   "metadata": {},
   "source": [
    "`-` 즉, 곱하기 연산은 특정 리스트를 얼마만큼 반복해서 채워넣느냐를 의미한다."
   ]
  },
  {
   "cell_type": "markdown",
   "id": "293eb7dd-e196-4ae4-9558-5893b8aa1c6d",
   "metadata": {},
   "source": [
    "## ex3. 실제 더하기 수행"
   ]
  },
  {
   "cell_type": "markdown",
   "id": "6426e0da-9e83-4dfe-9c89-bff060285903",
   "metadata": {},
   "source": [
    "`-` 리스트에서 실제 더하기를 수행은 다음과 같이 이루어진다."
   ]
  },
  {
   "cell_type": "code",
   "execution_count": 11,
   "id": "567a73de-762c-4d27-93fc-97f4e5676a68",
   "metadata": {},
   "outputs": [
    {
     "data": {
      "text/plain": [
       "([1, 2, 3], [4, 5, 6])"
      ]
     },
     "execution_count": 11,
     "metadata": {},
     "output_type": "execute_result"
    }
   ],
   "source": [
    "a,b"
   ]
  },
  {
   "cell_type": "code",
   "execution_count": 10,
   "id": "c696431e-aa38-472d-8557-eac548470ea3",
   "metadata": {},
   "outputs": [
    {
     "data": {
      "text/plain": [
       "[5, 7, 9]"
      ]
     },
     "execution_count": 10,
     "metadata": {},
     "output_type": "execute_result"
    }
   ],
   "source": [
    "[a[0]+b[0],a[1]+b[1],a[2]+b[2]]"
   ]
  },
  {
   "cell_type": "markdown",
   "id": "5ff560fa-fd28-4356-8715-d7db8ce682b6",
   "metadata": {},
   "source": [
    "### numpy를 이용한 풀이"
   ]
  },
  {
   "cell_type": "markdown",
   "id": "57250491-6d65-4c8c-839d-2e1bacfc397d",
   "metadata": {},
   "source": [
    "`-` 패키지를 설치하는 방법"
   ]
  },
  {
   "cell_type": "markdown",
   "id": "101002d3-f3f9-44f7-a789-757591bd0b33",
   "metadata": {},
   "source": [
    "* pip install numpy $\\to$ 최신버전 설치"
   ]
  },
  {
   "cell_type": "markdown",
   "id": "20513aa5-c176-476b-a5e9-cf9fe54086b4",
   "metadata": {},
   "source": [
    "* conda install -c conda-forge numpy -y $\\to$ 안전한 버전을 설치"
   ]
  },
  {
   "cell_type": "code",
   "execution_count": 13,
   "id": "26711857-bd73-4fcd-b0ca-8ff48890fbc7",
   "metadata": {},
   "outputs": [],
   "source": [
    "#conda install -c conda-forge numpy -y"
   ]
  },
  {
   "cell_type": "code",
   "execution_count": 14,
   "id": "6ee3d993-dfe0-4484-9769-7d6c4390bd3e",
   "metadata": {},
   "outputs": [],
   "source": [
    "import numpy as np"
   ]
  },
  {
   "cell_type": "code",
   "execution_count": 15,
   "id": "f2f4a0c3-482f-40ec-9e05-1ba5478a6ce5",
   "metadata": {},
   "outputs": [
    {
     "data": {
      "text/plain": [
       "([1, 2, 3], [4, 5, 6])"
      ]
     },
     "execution_count": 15,
     "metadata": {},
     "output_type": "execute_result"
    }
   ],
   "source": [
    "a,b"
   ]
  },
  {
   "cell_type": "code",
   "execution_count": 16,
   "id": "0fc92f39-3488-475d-99aa-e810f646e302",
   "metadata": {},
   "outputs": [],
   "source": [
    "aa = np.array(a)\n",
    "bb = np.array(b)"
   ]
  },
  {
   "cell_type": "code",
   "execution_count": 17,
   "id": "dba9cca6-894e-4c45-9d84-9b02057d8ed2",
   "metadata": {},
   "outputs": [
    {
     "data": {
      "text/plain": [
       "array([5, 7, 9])"
      ]
     },
     "execution_count": 17,
     "metadata": {},
     "output_type": "execute_result"
    }
   ],
   "source": [
    "aa+bb"
   ]
  },
  {
   "cell_type": "markdown",
   "id": "c4b98bcb-4909-4789-8e34-14076c783cc3",
   "metadata": {},
   "source": [
    "# list advanced"
   ]
  },
  {
   "cell_type": "markdown",
   "id": "98ee785d-a7c7-4277-892f-6b08740e1402",
   "metadata": {},
   "source": [
    "`-` 리스트는 단순히 int, float 뿐만 아니라 다양한 타입의 데이터를 저장할 수 있다."
   ]
  },
  {
   "cell_type": "markdown",
   "id": "bbaed311-f6f2-40ba-a37d-06c350aba1c3",
   "metadata": {},
   "source": [
    "## ex1"
   ]
  },
  {
   "cell_type": "code",
   "execution_count": 18,
   "id": "f76ac8ed-f2d7-4c51-8991-711916317fc8",
   "metadata": {},
   "outputs": [],
   "source": [
    "lst = [1, 3.14, True, \"a\",[1,2],(1,2),\n",
    "        {\"namme\" :\"iu\", \"age\":27},{1,2,3}]"
   ]
  },
  {
   "cell_type": "code",
   "execution_count": 23,
   "id": "b9512817-6741-4e81-8e7c-8911faad57a5",
   "metadata": {},
   "outputs": [
    {
     "name": "stdout",
     "output_type": "stream",
     "text": [
      "1   <class 'int'>\n",
      "3.14   <class 'float'>\n",
      "True   <class 'bool'>\n",
      "a   <class 'str'>\n",
      "[1, 2]   <class 'list'>\n",
      "(1, 2)   <class 'tuple'>\n",
      "{'namme': 'iu', 'age': 27}   <class 'dict'>\n",
      "{1, 2, 3}   <class 'set'>\n"
     ]
    }
   ],
   "source": [
    "for i in range(len(lst)) :\n",
    "        print(lst[i],\" \",type(lst[i]))"
   ]
  },
  {
   "cell_type": "markdown",
   "id": "902c78cd-edf3-4a93-99dc-40d56c5a95b1",
   "metadata": {},
   "source": [
    "`-` 또한, 리스트는 가면 객체, 즉 원소를 수정할 수 있다."
   ]
  },
  {
   "cell_type": "markdown",
   "id": "2b5f0e3f-3536-4736-9e1c-ec3df7e821b0",
   "metadata": {},
   "source": [
    "## ex2"
   ]
  },
  {
   "cell_type": "code",
   "execution_count": 24,
   "id": "01b3ac5e-40f0-49fe-a772-efe40448fae0",
   "metadata": {},
   "outputs": [],
   "source": [
    "a =[1,2,3]"
   ]
  },
  {
   "cell_type": "code",
   "execution_count": 26,
   "id": "32157c38-6610-4b53-a9fd-d7e58fccdbf8",
   "metadata": {},
   "outputs": [
    {
     "data": {
      "text/plain": [
       "[1, 2, 3]"
      ]
     },
     "execution_count": 26,
     "metadata": {},
     "output_type": "execute_result"
    }
   ],
   "source": [
    "a"
   ]
  },
  {
   "cell_type": "code",
   "execution_count": 27,
   "id": "1b28531c-7f3a-410c-ad85-72efde458083",
   "metadata": {},
   "outputs": [],
   "source": [
    "a[0] =1000"
   ]
  },
  {
   "cell_type": "code",
   "execution_count": 28,
   "id": "9a9486eb-60a9-497f-b6cf-4a94fb95bd4e",
   "metadata": {},
   "outputs": [
    {
     "data": {
      "text/plain": [
       "[1000, 2, 3]"
      ]
     },
     "execution_count": 28,
     "metadata": {},
     "output_type": "execute_result"
    }
   ],
   "source": [
    "a"
   ]
  },
  {
   "cell_type": "markdown",
   "id": "09b23c69-b5b5-4528-a703-c4619ec67f99",
   "metadata": {},
   "source": [
    "`-` 또한, 가변 객체이므로 삭제 기능 또한 제공한다."
   ]
  },
  {
   "cell_type": "markdown",
   "id": "c3cc00cd-e5f4-47f0-b253-6bd838dc1542",
   "metadata": {},
   "source": [
    "## ex3"
   ]
  },
  {
   "cell_type": "code",
   "execution_count": 35,
   "id": "a6e775fb-6c3f-4b95-91cb-a60e55ee32f8",
   "metadata": {},
   "outputs": [
    {
     "data": {
      "text/plain": [
       "[0, 1, 2, 3, 4, 5, 6]"
      ]
     },
     "execution_count": 35,
     "metadata": {},
     "output_type": "execute_result"
    }
   ],
   "source": [
    "a = list(range(7))\n",
    "a"
   ]
  },
  {
   "cell_type": "code",
   "execution_count": 36,
   "id": "c0cdfee6-202c-44b6-9ed7-a98d5e309d8a",
   "metadata": {},
   "outputs": [],
   "source": [
    "del a[0]"
   ]
  },
  {
   "cell_type": "code",
   "execution_count": 37,
   "id": "2646c3f7-e686-4bdc-b3da-de9657432322",
   "metadata": {},
   "outputs": [
    {
     "data": {
      "text/plain": [
       "[1, 2, 3, 4, 5, 6]"
      ]
     },
     "execution_count": 37,
     "metadata": {},
     "output_type": "execute_result"
    }
   ],
   "source": [
    "a"
   ]
  },
  {
   "cell_type": "code",
   "execution_count": 38,
   "id": "ebaaeb8e-95c2-4bc7-9740-46fb48f5df33",
   "metadata": {},
   "outputs": [
    {
     "data": {
      "text/plain": [
       "1"
      ]
     },
     "execution_count": 38,
     "metadata": {},
     "output_type": "execute_result"
    }
   ],
   "source": [
    "a.pop(0)"
   ]
  },
  {
   "cell_type": "code",
   "execution_count": 39,
   "id": "60ea8a2c-fc88-4f1b-963b-a88506a13e4a",
   "metadata": {},
   "outputs": [
    {
     "data": {
      "text/plain": [
       "[2, 3, 4, 5, 6]"
      ]
     },
     "execution_count": 39,
     "metadata": {},
     "output_type": "execute_result"
    }
   ],
   "source": [
    "a"
   ]
  },
  {
   "cell_type": "markdown",
   "id": "86eb3896-dfa0-4eb6-a6ca-ca020d57f250",
   "metadata": {},
   "source": [
    "# Excercise1"
   ]
  },
  {
   "cell_type": "markdown",
   "id": "07c7e247-3249-4a52-b3b2-1e36293a966b",
   "metadata": {},
   "source": [
    "## (1) 길이가 0인 리스트 생성"
   ]
  },
  {
   "cell_type": "markdown",
   "id": "46acc8b4-310d-44a2-96fd-d757781ce9e3",
   "metadata": {},
   "source": [
    "### Solution"
   ]
  },
  {
   "cell_type": "code",
   "execution_count": 41,
   "id": "d59771bc-6889-4749-8fe2-010af1942125",
   "metadata": {},
   "outputs": [],
   "source": [
    "a=[]"
   ]
  },
  {
   "cell_type": "code",
   "execution_count": 42,
   "id": "a23103c8-1367-4c7f-b270-5cdbcc747a41",
   "metadata": {},
   "outputs": [
    {
     "data": {
      "text/plain": [
       "0"
      ]
     },
     "execution_count": 42,
     "metadata": {},
     "output_type": "execute_result"
    }
   ],
   "source": [
    "len(a)"
   ]
  },
  {
   "cell_type": "markdown",
   "id": "9c3b6a3c-fc13-4952-a669-c187f000fa95",
   "metadata": {},
   "source": [
    "## (2) 다음의 실행값 중 가장 큰 숫자가 나오는 보기를 골라라."
   ]
  },
  {
   "cell_type": "markdown",
   "id": "42b87692-9d0a-4f79-9176-a8ec8804a1cd",
   "metadata": {},
   "source": [
    "``` python\n",
    "(a) len(3.14) \n",
    "(b) len([3.14]) \n",
    "(c) len('3.14')\n",
    "```"
   ]
  },
  {
   "cell_type": "markdown",
   "id": "523c1268-6925-4828-a1b9-448d07320fa8",
   "metadata": {},
   "source": [
    "### Solution"
   ]
  },
  {
   "cell_type": "code",
   "execution_count": 44,
   "id": "9544bbe0-c40e-435b-b4bd-6cc09c1ee68a",
   "metadata": {},
   "outputs": [
    {
     "ename": "TypeError",
     "evalue": "object of type 'float' has no len()",
     "output_type": "error",
     "traceback": [
      "\u001b[1;31m---------------------------------------------------------------------------\u001b[0m",
      "\u001b[1;31mTypeError\u001b[0m                                 Traceback (most recent call last)",
      "Cell \u001b[1;32mIn[44], line 1\u001b[0m\n\u001b[1;32m----> 1\u001b[0m \u001b[38;5;28mlen\u001b[39m(\u001b[38;5;241m3.14\u001b[39m)\n",
      "\u001b[1;31mTypeError\u001b[0m: object of type 'float' has no len()"
     ]
    }
   ],
   "source": [
    "len(3.14)"
   ]
  },
  {
   "cell_type": "code",
   "execution_count": 45,
   "id": "2ae8098a-fb3a-4dbb-88d9-84ddb13cd0d1",
   "metadata": {},
   "outputs": [
    {
     "data": {
      "text/plain": [
       "1"
      ]
     },
     "execution_count": 45,
     "metadata": {},
     "output_type": "execute_result"
    }
   ],
   "source": [
    "len([3.14])"
   ]
  },
  {
   "cell_type": "code",
   "execution_count": 46,
   "id": "974b1842-6d63-43dd-8c83-6365b3076928",
   "metadata": {},
   "outputs": [
    {
     "data": {
      "text/plain": [
       "4"
      ]
     },
     "execution_count": 46,
     "metadata": {},
     "output_type": "execute_result"
    }
   ],
   "source": [
    "len('3.14')"
   ]
  },
  {
   "cell_type": "markdown",
   "id": "87a2b3bb-4312-41ac-b04a-4d8954c1c7a2",
   "metadata": {},
   "source": [
    "따라서 답은 `(c)`"
   ]
  },
  {
   "cell_type": "markdown",
   "id": "16193545-3fd1-4fd8-bf6e-08555bb437b8",
   "metadata": {},
   "source": [
    "## (3) 아래의 예제를 관찰하라"
   ]
  },
  {
   "cell_type": "code",
   "execution_count": 47,
   "id": "96c61fb7-4a5f-4208-954c-b55b31b2d0e2",
   "metadata": {},
   "outputs": [
    {
     "data": {
      "text/plain": [
       "'제 이름은 이강철입니다'"
      ]
     },
     "execution_count": 47,
     "metadata": {},
     "output_type": "execute_result"
    }
   ],
   "source": [
    "'제 이름은 {}입니다'.format('이강철')"
   ]
  },
  {
   "cell_type": "markdown",
   "id": "fec96ce8-788a-41a4-8c36-7236368d3682",
   "metadata": {},
   "source": [
    "이 예제를 바탕으로 문자열에 포함된 `.format()` 함수의 기능을 유추하라. 그리고 아래의 결과를 확인하라."
   ]
  },
  {
   "cell_type": "markdown",
   "id": "42b2e166-7f29-4fed-b9f5-4893c0f62426",
   "metadata": {},
   "source": [
    "### Solution"
   ]
  },
  {
   "cell_type": "code",
   "execution_count": 49,
   "id": "d1658d2f-48c7-427a-95ea-e36af0c6c0d0",
   "metadata": {},
   "outputs": [
    {
     "data": {
      "text/plain": [
       "'전북대학교 학생엠티가 {}월{}일-{}월{}일 완주 곶감펜션에서 있다고 합니다. 자세한 일정 등은 다시 공지하겠습니다.'"
      ]
     },
     "execution_count": 49,
     "metadata": {},
     "output_type": "execute_result"
    }
   ],
   "source": [
    "st = '전북대학교 학생엠티가 {}월{}일-{}월{}일 완주 곶감펜션에서 있다고 합니다. 자세한 일정 등은 다시 공지하겠습니다.' \n",
    "st"
   ]
  },
  {
   "cell_type": "code",
   "execution_count": 50,
   "id": "a94b159d-8897-4cfa-b6a8-7bb8cccbf369",
   "metadata": {},
   "outputs": [
    {
     "data": {
      "text/plain": [
       "'전북대학교 학생엠티가 3월24일-3월25일 완주 곶감펜션에서 있다고 합니다. 자세한 일정 등은 다시 공지하겠습니다.'"
      ]
     },
     "execution_count": 50,
     "metadata": {},
     "output_type": "execute_result"
    }
   ],
   "source": [
    "st.format(3,24,3,25)"
   ]
  },
  {
   "cell_type": "markdown",
   "id": "d1f86769-3659-4a35-b6bd-6bba9c74dad1",
   "metadata": {},
   "source": [
    "## (4) 아래의 예제를 관찰하라."
   ]
  },
  {
   "cell_type": "code",
   "execution_count": 51,
   "id": "26a7eb0b-94b7-4cfc-b409-7aa7dc1e0195",
   "metadata": {},
   "outputs": [
    {
     "data": {
      "text/plain": [
       "'abcdefu'"
      ]
     },
     "execution_count": 51,
     "metadata": {},
     "output_type": "execute_result"
    }
   ],
   "source": [
    "'abcdefg'.replace('g','u')"
   ]
  },
  {
   "cell_type": "markdown",
   "id": "2b344500-8c09-459d-94ff-d36d5ab8e7bf",
   "metadata": {},
   "source": [
    "이 예제를 바탕으로 문자열의 .replace() 기능을 유추하라. "
   ]
  },
  {
   "cell_type": "markdown",
   "id": "989b3c00-6c31-4e17-b1a7-57a9c83f4e38",
   "metadata": {},
   "source": [
    "### Solution"
   ]
  },
  {
   "cell_type": "markdown",
   "id": "782005bd-3e8c-49b8-a2ca-8f3ed92a52fa",
   "metadata": {},
   "source": [
    "replace 함수는 string 객체의 특정 문자열을 새로운 문자로 바꿔주는 함수이다."
   ]
  },
  {
   "cell_type": "code",
   "execution_count": 62,
   "id": "0b576aaa-c430-4d7b-a51a-8fc77c57e438",
   "metadata": {},
   "outputs": [],
   "source": [
    "a = [\"a\",\"a\",\"a\"]"
   ]
  },
  {
   "cell_type": "code",
   "execution_count": 63,
   "id": "f4475663-c412-4175-bdcb-b9790a68a939",
   "metadata": {},
   "outputs": [
    {
     "ename": "AttributeError",
     "evalue": "'list' object has no attribute 'replace'",
     "output_type": "error",
     "traceback": [
      "\u001b[1;31m---------------------------------------------------------------------------\u001b[0m",
      "\u001b[1;31mAttributeError\u001b[0m                            Traceback (most recent call last)",
      "Cell \u001b[1;32mIn[63], line 1\u001b[0m\n\u001b[1;32m----> 1\u001b[0m a\u001b[38;5;241m.\u001b[39mreplace(\u001b[38;5;124m\"\u001b[39m\u001b[38;5;124ma\u001b[39m\u001b[38;5;124m\"\u001b[39m,\u001b[38;5;124m\"\u001b[39m\u001b[38;5;124mb\u001b[39m\u001b[38;5;124m\"\u001b[39m)\n",
      "\u001b[1;31mAttributeError\u001b[0m: 'list' object has no attribute 'replace'"
     ]
    }
   ],
   "source": [
    "a.replace(\"a\",\"b\")"
   ]
  },
  {
   "cell_type": "markdown",
   "id": "1bbd1732-0a7f-4a4d-8b97-2d4ba8df3327",
   "metadata": {},
   "source": [
    "위와 같이 list객체에 적용 시 수행되지 않는다. 이 경우 loop를 이용해서 바쭤주어야 한다."
   ]
  },
  {
   "cell_type": "code",
   "execution_count": 64,
   "id": "4c079214-bbc9-4a4b-8f8b-4d32d16133ec",
   "metadata": {},
   "outputs": [],
   "source": [
    "b = []\n",
    "for i in a :\n",
    "    b.append(i.replace(\"a\",\"b\"))"
   ]
  },
  {
   "cell_type": "code",
   "execution_count": 65,
   "id": "babb322d-e708-48ed-9694-2a1689d69899",
   "metadata": {},
   "outputs": [
    {
     "data": {
      "text/plain": [
       "['b', 'b', 'b']"
      ]
     },
     "execution_count": 65,
     "metadata": {},
     "output_type": "execute_result"
    }
   ],
   "source": [
    "b"
   ]
  },
  {
   "cell_type": "markdown",
   "id": "de31ae0b-806e-4209-8cad-ebe91da2819b",
   "metadata": {},
   "source": [
    "## (5) 리스트 자료형의 `+, *` 을 이용하여 아래와 같은 list를 생성"
   ]
  },
  {
   "cell_type": "code",
   "execution_count": 66,
   "id": "eb0f4c94-1ccf-4771-a6d7-d84fba1ae5a2",
   "metadata": {},
   "outputs": [
    {
     "data": {
      "text/plain": [
       "[1, 2, 2, 3, 3, 3, 4, 4, 4, 4, 5, 5, 5, 5, 5]"
      ]
     },
     "execution_count": 66,
     "metadata": {},
     "output_type": "execute_result"
    }
   ],
   "source": [
    "[1, 2, 2, 3, 3, 3, 4, 4, 4, 4, 5, 5, 5, 5, 5]"
   ]
  },
  {
   "cell_type": "markdown",
   "id": "93684f47-591d-4ca9-954d-47c2e8db868a",
   "metadata": {},
   "source": [
    "### Solution"
   ]
  },
  {
   "cell_type": "code",
   "execution_count": 75,
   "id": "403faaee-23ce-4bf9-95ee-bf1b78274c9d",
   "metadata": {},
   "outputs": [],
   "source": [
    "result = []\n",
    "for i in range(1,6) :\n",
    "    temp =[i]\n",
    "    result += temp*i    "
   ]
  },
  {
   "cell_type": "code",
   "execution_count": 76,
   "id": "06fe48cf-aba7-4023-b682-ea2f58c031bc",
   "metadata": {},
   "outputs": [
    {
     "data": {
      "text/plain": [
       "[1, 2, 2, 3, 3, 3, 4, 4, 4, 4, 5, 5, 5, 5, 5]"
      ]
     },
     "execution_count": 76,
     "metadata": {},
     "output_type": "execute_result"
    }
   ],
   "source": [
    "result"
   ]
  },
  {
   "cell_type": "markdown",
   "id": "36658d24-9f6e-4738-8c52-6a72908beff4",
   "metadata": {},
   "source": [
    "## (6) 넘파이를 이용하여 아래와 같은 결과가 나오도록 코드를 작성하라."
   ]
  },
  {
   "cell_type": "markdown",
   "id": "9258d532-5cd3-4085-8b4d-063b2fdcb9c0",
   "metadata": {},
   "source": [
    "$$\\begin{bmatrix}1 \\\\ 2 \\end{bmatrix} + \\begin{bmatrix}11 \\\\ 22 \\end{bmatrix}= \\begin{bmatrix}12 \\\\ 24 \\end{bmatrix}$$"
   ]
  },
  {
   "cell_type": "markdown",
   "id": "dab5571e-4486-4ddb-84ca-1a5f58d43785",
   "metadata": {},
   "source": [
    "### Solution"
   ]
  },
  {
   "cell_type": "code",
   "execution_count": 78,
   "id": "dc9d1574-7994-4b80-8239-c835621d02ae",
   "metadata": {},
   "outputs": [
    {
     "data": {
      "text/plain": [
       "(array([1, 2]), array([11, 22]))"
      ]
     },
     "execution_count": 78,
     "metadata": {},
     "output_type": "execute_result"
    }
   ],
   "source": [
    "a = np.array([1,2])\n",
    "b = np.array([11,22])\n",
    "a,b"
   ]
  },
  {
   "cell_type": "code",
   "execution_count": 81,
   "id": "1298229b-6b12-4906-a5af-727d4223290b",
   "metadata": {},
   "outputs": [
    {
     "data": {
      "text/plain": [
       "[12, 24]"
      ]
     },
     "execution_count": 81,
     "metadata": {},
     "output_type": "execute_result"
    }
   ],
   "source": [
    "list(a+b)"
   ]
  },
  {
   "cell_type": "markdown",
   "id": "62994448-ed4a-41dd-af23-fe0f11039f04",
   "metadata": {},
   "source": [
    "## (7) 다음과 같은 결과를 출력하는 코드를 작성"
   ]
  },
  {
   "cell_type": "markdown",
   "id": "5b6f5a3e-00d9-4f0a-977e-210b44a46d42",
   "metadata": {},
   "source": [
    "$$a = \\begin{bmatrix} 12 \\\\ 24\\end{bmatrix}$$"
   ]
  },
  {
   "cell_type": "markdown",
   "id": "6ee30c39-f206-43f3-bf9f-2a4fdc3b64fe",
   "metadata": {},
   "source": [
    "$$2a = \\begin{bmatrix} 24 \\\\ 48\\end{bmatrix}$$"
   ]
  },
  {
   "cell_type": "markdown",
   "id": "2c146173-6235-4577-b9d2-284ca610a868",
   "metadata": {},
   "source": [
    "### Solution"
   ]
  },
  {
   "cell_type": "code",
   "execution_count": 88,
   "id": "a32ab43d-bd86-4096-99a0-8b51d8d04734",
   "metadata": {},
   "outputs": [],
   "source": [
    "a = np.array([12,24])"
   ]
  },
  {
   "cell_type": "code",
   "execution_count": 89,
   "id": "3e28af2d-2d61-45de-b5f0-eb79a534d137",
   "metadata": {},
   "outputs": [],
   "source": [
    "a2 = list(2*a)"
   ]
  },
  {
   "cell_type": "code",
   "execution_count": 90,
   "id": "c1a32325-c1a6-4bd6-a61e-8599c0b5d7e5",
   "metadata": {},
   "outputs": [
    {
     "data": {
      "text/plain": [
       "[24, 48]"
      ]
     },
     "execution_count": 90,
     "metadata": {},
     "output_type": "execute_result"
    }
   ],
   "source": [
    "a2"
   ]
  },
  {
   "cell_type": "markdown",
   "id": "6bf2128f-6c2c-47bc-ba0f-36ad33f51b5e",
   "metadata": {},
   "source": [
    "***"
   ]
  },
  {
   "cell_type": "markdown",
   "id": "918c6cc1-0273-47d7-93e8-b0163e6a1fb2",
   "metadata": {},
   "source": [
    "# list advanced2"
   ]
  },
  {
   "cell_type": "markdown",
   "id": "0dccea79-49d1-47ab-b131-768ce5066d42",
   "metadata": {},
   "source": [
    "## 리스트 원소 추가"
   ]
  },
  {
   "cell_type": "markdown",
   "id": "0d93206a-be8c-4176-8efd-888a4e53d7d9",
   "metadata": {},
   "source": [
    "### ex1. `+` 연산 이용"
   ]
  },
  {
   "cell_type": "code",
   "execution_count": 7,
   "id": "6e131b0a-1e94-4424-9c10-f635ed62c2eb",
   "metadata": {},
   "outputs": [],
   "source": [
    "a=[]\n",
    "\n",
    "for i in range(3):\n",
    "    a += [i]"
   ]
  },
  {
   "cell_type": "code",
   "execution_count": 8,
   "id": "fbaaba78-555a-4675-aca7-e854c3283fb4",
   "metadata": {},
   "outputs": [
    {
     "data": {
      "text/plain": [
       "[0, 1, 2]"
      ]
     },
     "execution_count": 8,
     "metadata": {},
     "output_type": "execute_result"
    }
   ],
   "source": [
    "a"
   ]
  },
  {
   "cell_type": "markdown",
   "id": "ac665e2d-7b45-4f45-8043-203fb1cfbd4c",
   "metadata": {},
   "source": [
    "### ex2. append 이용"
   ]
  },
  {
   "cell_type": "code",
   "execution_count": 9,
   "id": "8a80ee8a-ba47-4b3a-bc0e-fd75542d478b",
   "metadata": {},
   "outputs": [
    {
     "data": {
      "text/plain": [
       "[0, 1, 2]"
      ]
     },
     "execution_count": 9,
     "metadata": {},
     "output_type": "execute_result"
    }
   ],
   "source": [
    "a = []\n",
    "\n",
    "for i in range(3):\n",
    "    a.append(i)\n",
    "a"
   ]
  },
  {
   "cell_type": "markdown",
   "id": "9ff59d99-b994-4e7d-8d52-1815e91df249",
   "metadata": {},
   "source": [
    "### append 연산의 예외"
   ]
  },
  {
   "cell_type": "code",
   "execution_count": 4,
   "id": "371c40fd-c44f-4625-b5f2-8da670864a96",
   "metadata": {},
   "outputs": [
    {
     "ename": "AttributeError",
     "evalue": "'NoneType' object has no attribute 'append'",
     "output_type": "error",
     "traceback": [
      "\u001b[1;31m---------------------------------------------------------------------------\u001b[0m",
      "\u001b[1;31mAttributeError\u001b[0m                            Traceback (most recent call last)",
      "Cell \u001b[1;32mIn[4], line 1\u001b[0m\n\u001b[1;32m----> 1\u001b[0m a\u001b[38;5;241m.\u001b[39mappend(\u001b[38;5;241m0\u001b[39m)\u001b[38;5;241m.\u001b[39mappend(\u001b[38;5;241m1\u001b[39m)\u001b[38;5;241m.\u001b[39mappend(\u001b[38;5;241m2\u001b[39m)\n",
      "\u001b[1;31mAttributeError\u001b[0m: 'NoneType' object has no attribute 'append'"
     ]
    }
   ],
   "source": [
    "a.append(0).append(1).append(2)"
   ]
  },
  {
   "cell_type": "code",
   "execution_count": 5,
   "id": "b22b2a4b-56b1-4944-87d7-d02984690c97",
   "metadata": {},
   "outputs": [
    {
     "ename": "TypeError",
     "evalue": "list.append() takes exactly one argument (3 given)",
     "output_type": "error",
     "traceback": [
      "\u001b[1;31m---------------------------------------------------------------------------\u001b[0m",
      "\u001b[1;31mTypeError\u001b[0m                                 Traceback (most recent call last)",
      "Cell \u001b[1;32mIn[5], line 1\u001b[0m\n\u001b[1;32m----> 1\u001b[0m a\u001b[38;5;241m.\u001b[39mappend(\u001b[38;5;241m0\u001b[39m,\u001b[38;5;241m1\u001b[39m,\u001b[38;5;241m2\u001b[39m)\n",
      "\u001b[1;31mTypeError\u001b[0m: list.append() takes exactly one argument (3 given)"
     ]
    }
   ],
   "source": [
    "a.append(0,1,2)"
   ]
  },
  {
   "cell_type": "markdown",
   "id": "12e4d8e8-3a72-4ea7-bd45-3ff4c42be065",
   "metadata": {},
   "source": [
    "### `+`와 append의 차이"
   ]
  },
  {
   "cell_type": "markdown",
   "id": "02cf35ed-37dc-451f-8f92-c0e026a0d01d",
   "metadata": {},
   "source": [
    "`-` append함수의 경우 해당연산을 수행한 list 객체가 변한다."
   ]
  },
  {
   "cell_type": "code",
   "execution_count": 10,
   "id": "f8ce7870-d3f5-4459-a62f-b48a2e6df765",
   "metadata": {},
   "outputs": [
    {
     "data": {
      "text/plain": [
       "[0, 1, 2]"
      ]
     },
     "execution_count": 10,
     "metadata": {},
     "output_type": "execute_result"
    }
   ],
   "source": [
    "a"
   ]
  },
  {
   "cell_type": "code",
   "execution_count": 11,
   "id": "2262b690-827c-476d-b790-d3dd7e2df9b3",
   "metadata": {},
   "outputs": [
    {
     "data": {
      "text/plain": [
       "[0, 1, 2, 3]"
      ]
     },
     "execution_count": 11,
     "metadata": {},
     "output_type": "execute_result"
    }
   ],
   "source": [
    "a.append(3)\n",
    "a"
   ]
  },
  {
   "cell_type": "markdown",
   "id": "6be9a13b-cf68-499d-9c81-5df4d3044244",
   "metadata": {},
   "source": [
    "`-` +연산은 그렇지 않음"
   ]
  },
  {
   "cell_type": "code",
   "execution_count": 12,
   "id": "505c4cb1-8d6d-4e0f-a7f9-a5093b2418ee",
   "metadata": {},
   "outputs": [
    {
     "data": {
      "text/plain": [
       "[0, 1, 2, 3, 4]"
      ]
     },
     "execution_count": 12,
     "metadata": {},
     "output_type": "execute_result"
    }
   ],
   "source": [
    "a + [4]"
   ]
  },
  {
   "cell_type": "code",
   "execution_count": 13,
   "id": "154f2044-7510-4e03-ac78-e40fec9197fb",
   "metadata": {},
   "outputs": [
    {
     "data": {
      "text/plain": [
       "[0, 1, 2, 3]"
      ]
     },
     "execution_count": 13,
     "metadata": {},
     "output_type": "execute_result"
    }
   ],
   "source": [
    "a"
   ]
  },
  {
   "cell_type": "markdown",
   "id": "4426e553-3e8d-49f8-89a9-807e3fbd9cfb",
   "metadata": {},
   "source": [
    "## 리스트 특수 기능"
   ]
  },
  {
   "cell_type": "code",
   "execution_count": 14,
   "id": "b286268b-bb27-42ca-a7aa-f10d63cf4bf8",
   "metadata": {},
   "outputs": [
    {
     "data": {
      "text/plain": [
       "[0, 1, 2, 3]"
      ]
     },
     "execution_count": 14,
     "metadata": {},
     "output_type": "execute_result"
    }
   ],
   "source": [
    "a= list(range(4))\n",
    "a"
   ]
  },
  {
   "cell_type": "markdown",
   "id": "bffd1f72-162c-463b-a65a-dfa209ecaf31",
   "metadata": {},
   "source": [
    "### clear"
   ]
  },
  {
   "cell_type": "code",
   "execution_count": 15,
   "id": "856e56f7-a165-43e1-b70a-39a9c18f26ac",
   "metadata": {},
   "outputs": [],
   "source": [
    "a.clear()"
   ]
  },
  {
   "cell_type": "code",
   "execution_count": 16,
   "id": "debce02c-54c7-4cb8-8034-7425cd412f7e",
   "metadata": {},
   "outputs": [
    {
     "data": {
      "text/plain": [
       "[]"
      ]
     },
     "execution_count": 16,
     "metadata": {},
     "output_type": "execute_result"
    }
   ],
   "source": [
    "a"
   ]
  },
  {
   "cell_type": "markdown",
   "id": "aaf57c74-d7bf-478f-ba41-2560498842a4",
   "metadata": {},
   "source": [
    "### copy"
   ]
  },
  {
   "cell_type": "markdown",
   "id": "7e4ebea0-8177-43a2-a7c6-e696460160ab",
   "metadata": {},
   "source": [
    "`-` 카피함수를 사용하는 이유는 아래와 같은 경우를 방지하기 위함이다."
   ]
  },
  {
   "cell_type": "code",
   "execution_count": 17,
   "id": "04ea1801-7a64-44d6-8b3c-8b68df0ee6fc",
   "metadata": {},
   "outputs": [
    {
     "data": {
      "text/plain": [
       "[0, 1, 2, 3]"
      ]
     },
     "execution_count": 17,
     "metadata": {},
     "output_type": "execute_result"
    }
   ],
   "source": [
    "a= list(range(4))\n",
    "a"
   ]
  },
  {
   "cell_type": "markdown",
   "id": "3da96ee7-a41c-47e7-8b6b-a234d54eae87",
   "metadata": {},
   "source": [
    "`-` 이런식으로 객체를 선언시 b와 a는 같은 메모리 공간을 공유한다."
   ]
  },
  {
   "cell_type": "code",
   "execution_count": 18,
   "id": "b54d52f3-ee86-44dc-9531-7aca5ecffcee",
   "metadata": {},
   "outputs": [],
   "source": [
    "b= a"
   ]
  },
  {
   "cell_type": "code",
   "execution_count": 19,
   "id": "dfa2ad26-4af6-4590-b28a-62642d0b5e71",
   "metadata": {},
   "outputs": [
    {
     "data": {
      "text/plain": [
       "[0, 1, 2, 3]"
      ]
     },
     "execution_count": 19,
     "metadata": {},
     "output_type": "execute_result"
    }
   ],
   "source": [
    "b"
   ]
  },
  {
   "cell_type": "markdown",
   "id": "1547138c-b9a0-4cd3-96b9-bd702dfa65cd",
   "metadata": {},
   "source": [
    "`-` 그렇기 때문에 아래와 같은 현상이 발생함"
   ]
  },
  {
   "cell_type": "code",
   "execution_count": 20,
   "id": "ab603b35-7126-43cf-933f-0a76a537f847",
   "metadata": {},
   "outputs": [],
   "source": [
    "b.append(4)"
   ]
  },
  {
   "cell_type": "code",
   "execution_count": 21,
   "id": "01e56c96-3bc9-4326-bcb6-8922ae8fd7c1",
   "metadata": {},
   "outputs": [
    {
     "data": {
      "text/plain": [
       "[0, 1, 2, 3, 4]"
      ]
     },
     "execution_count": 21,
     "metadata": {},
     "output_type": "execute_result"
    }
   ],
   "source": [
    "a"
   ]
  },
  {
   "cell_type": "markdown",
   "id": "e2c731e6-49a7-4051-92fa-e7a9297cb8c4",
   "metadata": {},
   "source": [
    "`-` 다시 풀이"
   ]
  },
  {
   "cell_type": "code",
   "execution_count": 22,
   "id": "e9095575-5e33-45d0-8f90-4c6cbfeff2bf",
   "metadata": {},
   "outputs": [],
   "source": [
    "a = list(range(4))\n",
    "b = a.copy()"
   ]
  },
  {
   "cell_type": "code",
   "execution_count": 23,
   "id": "dbe2383c-377f-43b2-84e0-132497536838",
   "metadata": {},
   "outputs": [
    {
     "data": {
      "text/plain": [
       "[0, 1, 2, 3]"
      ]
     },
     "execution_count": 23,
     "metadata": {},
     "output_type": "execute_result"
    }
   ],
   "source": [
    "a"
   ]
  },
  {
   "cell_type": "code",
   "execution_count": 24,
   "id": "1837756c-6b4c-4dda-a7f4-2b4a67f135e6",
   "metadata": {},
   "outputs": [],
   "source": [
    "b.append(4)"
   ]
  },
  {
   "cell_type": "code",
   "execution_count": 25,
   "id": "8e21d010-22b4-4843-b67b-035fd55e80bc",
   "metadata": {},
   "outputs": [
    {
     "data": {
      "text/plain": [
       "[0, 1, 2, 3, 4]"
      ]
     },
     "execution_count": 25,
     "metadata": {},
     "output_type": "execute_result"
    }
   ],
   "source": [
    "b"
   ]
  },
  {
   "cell_type": "code",
   "execution_count": 26,
   "id": "798dd516-f837-4036-b1d1-a4a505a566ed",
   "metadata": {},
   "outputs": [
    {
     "data": {
      "text/plain": [
       "[0, 1, 2, 3]"
      ]
     },
     "execution_count": 26,
     "metadata": {},
     "output_type": "execute_result"
    }
   ],
   "source": [
    "a"
   ]
  },
  {
   "cell_type": "markdown",
   "id": "af2ef69d-0ba0-4d77-b143-20afc90b8714",
   "metadata": {},
   "source": [
    "### count"
   ]
  },
  {
   "cell_type": "code",
   "execution_count": 27,
   "id": "322d7717-9cb5-4f59-8fff-c1d31a52c069",
   "metadata": {},
   "outputs": [
    {
     "data": {
      "text/plain": [
       "[1, 2, 2, 3, 3, 3]"
      ]
     },
     "execution_count": 27,
     "metadata": {},
     "output_type": "execute_result"
    }
   ],
   "source": [
    "a=[]\n",
    "for i in range(1,4) :\n",
    "    a += [i]*i\n",
    "a"
   ]
  },
  {
   "cell_type": "code",
   "execution_count": 28,
   "id": "8496a13d-0134-4419-8e9e-5de2220ba186",
   "metadata": {},
   "outputs": [
    {
     "data": {
      "text/plain": [
       "1"
      ]
     },
     "execution_count": 28,
     "metadata": {},
     "output_type": "execute_result"
    }
   ],
   "source": [
    "a.count(1)"
   ]
  },
  {
   "cell_type": "code",
   "execution_count": 29,
   "id": "4dffc2f1-7fda-4aa4-9d2c-1bbef01b9a93",
   "metadata": {},
   "outputs": [
    {
     "data": {
      "text/plain": [
       "2"
      ]
     },
     "execution_count": 29,
     "metadata": {},
     "output_type": "execute_result"
    }
   ],
   "source": [
    "a.count(2)"
   ]
  },
  {
   "cell_type": "code",
   "execution_count": 30,
   "id": "25c61717-b2b1-49f5-855d-2c34d95528ad",
   "metadata": {},
   "outputs": [
    {
     "data": {
      "text/plain": [
       "3"
      ]
     },
     "execution_count": 30,
     "metadata": {},
     "output_type": "execute_result"
    }
   ],
   "source": [
    "a.count(3)"
   ]
  },
  {
   "cell_type": "markdown",
   "id": "7dd2c73a-5f48-405d-a95d-1abe5922b316",
   "metadata": {},
   "source": [
    "### extend"
   ]
  },
  {
   "cell_type": "code",
   "execution_count": 45,
   "id": "cab36f05-7e43-4da2-a2a4-6ac45a559b79",
   "metadata": {},
   "outputs": [],
   "source": [
    "a = list(range(1,5))\n",
    "b = list(range(-4,0))\n",
    "b.sort(reverse=True)"
   ]
  },
  {
   "cell_type": "code",
   "execution_count": 46,
   "id": "b2785bec-4831-414d-949e-9f58faa03988",
   "metadata": {},
   "outputs": [
    {
     "data": {
      "text/plain": [
       "[1, 2, 3, 4]"
      ]
     },
     "execution_count": 46,
     "metadata": {},
     "output_type": "execute_result"
    }
   ],
   "source": [
    "a"
   ]
  },
  {
   "cell_type": "code",
   "execution_count": 47,
   "id": "2f290496-064e-4cc1-b333-713223bddd93",
   "metadata": {},
   "outputs": [
    {
     "data": {
      "text/plain": [
       "[-1, -2, -3, -4]"
      ]
     },
     "execution_count": 47,
     "metadata": {},
     "output_type": "execute_result"
    }
   ],
   "source": [
    "b"
   ]
  },
  {
   "cell_type": "code",
   "execution_count": 48,
   "id": "6d0e7469-294f-49b4-9f4b-0843d3567d6c",
   "metadata": {},
   "outputs": [],
   "source": [
    "a.extend(b)"
   ]
  },
  {
   "cell_type": "code",
   "execution_count": 49,
   "id": "7551f4e9-4dae-4ded-b92d-75dfa6817106",
   "metadata": {},
   "outputs": [
    {
     "data": {
      "text/plain": [
       "[1, 2, 3, 4, -1, -2, -3, -4]"
      ]
     },
     "execution_count": 49,
     "metadata": {},
     "output_type": "execute_result"
    }
   ],
   "source": [
    "a"
   ]
  },
  {
   "cell_type": "markdown",
   "id": "215006b9-72b9-4316-97cb-4e65084a55e0",
   "metadata": {},
   "source": [
    "### index"
   ]
  },
  {
   "cell_type": "code",
   "execution_count": 52,
   "id": "01205be6-ab26-47f7-91ec-e2c060a348f7",
   "metadata": {},
   "outputs": [],
   "source": [
    "import numpy as np"
   ]
  },
  {
   "cell_type": "code",
   "execution_count": 65,
   "id": "da192468-e7b8-4784-bc6e-51b8159fad3d",
   "metadata": {},
   "outputs": [],
   "source": [
    "a = list(np.round(np.random.normal(size=10),2))"
   ]
  },
  {
   "cell_type": "code",
   "execution_count": 66,
   "id": "c154ca1d-036c-411f-b1e1-b19a1d76c9d9",
   "metadata": {},
   "outputs": [
    {
     "data": {
      "text/plain": [
       "[1.09, 0.72, -0.13, -0.24, -0.86, -1.46, -1.54, 0.23, 1.59, -1.48]"
      ]
     },
     "execution_count": 66,
     "metadata": {},
     "output_type": "execute_result"
    }
   ],
   "source": [
    "a"
   ]
  },
  {
   "cell_type": "code",
   "execution_count": 71,
   "id": "ea847d58-ff8e-4883-a105-df3610299519",
   "metadata": {},
   "outputs": [
    {
     "name": "stdout",
     "output_type": "stream",
     "text": [
      "1.09 index :  0\n",
      "0.72 index :  1\n",
      "-0.13 index :  2\n",
      "-0.24 index :  3\n",
      "-0.86 index :  4\n",
      "-1.46 index :  5\n",
      "-1.54 index :  6\n",
      "0.23 index :  7\n",
      "1.59 index :  8\n",
      "-1.48 index :  9\n"
     ]
    }
   ],
   "source": [
    "for i in range(len(a)) :\n",
    "    print (a[i],\"index : \", a.index(a[i]))"
   ]
  },
  {
   "cell_type": "markdown",
   "id": "834d7c89-7b00-44bd-a5e2-d294d81fad3f",
   "metadata": {},
   "source": [
    "### insert"
   ]
  },
  {
   "cell_type": "code",
   "execution_count": 76,
   "id": "7d9d8785-0a58-4b50-9956-10fa62370176",
   "metadata": {},
   "outputs": [],
   "source": [
    "a = [1,2,3]"
   ]
  },
  {
   "cell_type": "code",
   "execution_count": 77,
   "id": "f771b724-d585-4d31-8c8a-b4841dcb18fa",
   "metadata": {},
   "outputs": [],
   "source": [
    "a.insert(0,11)"
   ]
  },
  {
   "cell_type": "code",
   "execution_count": 78,
   "id": "5229c798-9444-430f-ac75-d9d407a7b749",
   "metadata": {},
   "outputs": [
    {
     "data": {
      "text/plain": [
       "[11, 1, 2, 3]"
      ]
     },
     "execution_count": 78,
     "metadata": {},
     "output_type": "execute_result"
    }
   ],
   "source": [
    "a"
   ]
  },
  {
   "cell_type": "markdown",
   "id": "f4541f88-32f8-47c8-89ad-8d9dc9d48a60",
   "metadata": {},
   "source": [
    "### pop"
   ]
  },
  {
   "cell_type": "code",
   "execution_count": 79,
   "id": "469614aa-12a5-4bb9-b375-be6789a3a41c",
   "metadata": {},
   "outputs": [],
   "source": [
    "a=['a',1,2,'d']"
   ]
  },
  {
   "cell_type": "code",
   "execution_count": 80,
   "id": "28b8c195-01f0-43d6-ba1f-60f5b63ba418",
   "metadata": {},
   "outputs": [
    {
     "data": {
      "text/plain": [
       "'a'"
      ]
     },
     "execution_count": 80,
     "metadata": {},
     "output_type": "execute_result"
    }
   ],
   "source": [
    "a.pop(0)"
   ]
  },
  {
   "cell_type": "code",
   "execution_count": 81,
   "id": "211434a9-e6aa-4d2a-b361-14be9037a945",
   "metadata": {},
   "outputs": [
    {
     "data": {
      "text/plain": [
       "[1, 2, 'd']"
      ]
     },
     "execution_count": 81,
     "metadata": {},
     "output_type": "execute_result"
    }
   ],
   "source": [
    "a"
   ]
  },
  {
   "cell_type": "code",
   "execution_count": 82,
   "id": "4cb9c58a-146c-47ce-bae0-7b17f75fdb02",
   "metadata": {},
   "outputs": [
    {
     "data": {
      "text/plain": [
       "'d'"
      ]
     },
     "execution_count": 82,
     "metadata": {},
     "output_type": "execute_result"
    }
   ],
   "source": [
    "a.pop(-1)"
   ]
  },
  {
   "cell_type": "code",
   "execution_count": 83,
   "id": "165b254c-1b32-4b72-81c6-001c366e0b93",
   "metadata": {},
   "outputs": [
    {
     "data": {
      "text/plain": [
       "[1, 2]"
      ]
     },
     "execution_count": 83,
     "metadata": {},
     "output_type": "execute_result"
    }
   ],
   "source": [
    "a"
   ]
  },
  {
   "cell_type": "markdown",
   "id": "224c9f88-9e25-4aae-af9c-79a4d64e626d",
   "metadata": {},
   "source": [
    "### remove"
   ]
  },
  {
   "cell_type": "code",
   "execution_count": 84,
   "id": "ce92f408-a706-49e0-a57b-35a81bd39bb3",
   "metadata": {},
   "outputs": [],
   "source": [
    "a = [1,2,3,4]"
   ]
  },
  {
   "cell_type": "code",
   "execution_count": 86,
   "id": "5e7b1e8e-b83c-49e5-88bf-494f107d41cd",
   "metadata": {},
   "outputs": [],
   "source": [
    "a.remove(1)"
   ]
  },
  {
   "cell_type": "code",
   "execution_count": 87,
   "id": "c62fbda5-c9c4-45ef-8f43-e8524903814e",
   "metadata": {},
   "outputs": [
    {
     "data": {
      "text/plain": [
       "[2, 3, 4]"
      ]
     },
     "execution_count": 87,
     "metadata": {},
     "output_type": "execute_result"
    }
   ],
   "source": [
    "a"
   ]
  },
  {
   "cell_type": "markdown",
   "id": "4a495836-e3c7-44eb-86d3-77c45599c846",
   "metadata": {},
   "source": [
    "### reverse"
   ]
  },
  {
   "cell_type": "code",
   "execution_count": 88,
   "id": "04642c78-9268-4fde-8386-60727ab6d090",
   "metadata": {},
   "outputs": [],
   "source": [
    "a = [1,2,3,4]"
   ]
  },
  {
   "cell_type": "code",
   "execution_count": 90,
   "id": "59596a54-6362-41f6-b9e1-8d17f1a75df2",
   "metadata": {},
   "outputs": [],
   "source": [
    "a.reverse()"
   ]
  },
  {
   "cell_type": "code",
   "execution_count": 91,
   "id": "de689e36-a69e-43b5-978d-cb7ac53ea539",
   "metadata": {},
   "outputs": [
    {
     "data": {
      "text/plain": [
       "[4, 3, 2, 1]"
      ]
     },
     "execution_count": 91,
     "metadata": {},
     "output_type": "execute_result"
    }
   ],
   "source": [
    "a"
   ]
  },
  {
   "cell_type": "markdown",
   "id": "c9fec89f-a98c-43de-a37e-482b3c8e98c3",
   "metadata": {},
   "source": [
    "***"
   ]
  },
  {
   "cell_type": "markdown",
   "id": "668750ed-fbeb-46dc-998f-9d2f340058a9",
   "metadata": {},
   "source": [
    "## 리스트 중첩"
   ]
  },
  {
   "cell_type": "markdown",
   "id": "ebd59ebf-2aa6-4b31-8627-1fa135e194d5",
   "metadata": {},
   "source": [
    "아래와 같은 2차원 행렬을 구현한다고 하자"
   ]
  },
  {
   "cell_type": "markdown",
   "id": "3427ae64-4c5b-4c4e-9b05-85c1b076dbbb",
   "metadata": {},
   "source": [
    "$$a=\\begin{bmatrix} 1 & 2 & 3 \\\\ 4 & 5 & 6 \\\\ 7 & 8 & 9\\end{bmatrix}$$"
   ]
  },
  {
   "cell_type": "code",
   "execution_count": 93,
   "id": "4e82b0d8-2f99-4afb-a30b-d4ee6def2d45",
   "metadata": {},
   "outputs": [],
   "source": [
    "t = [1,4,7]\n",
    "a = []\n",
    "for i in range(3) :\n",
    "    t2 = [t[i],t[i]+1,t[i]+2]\n",
    "    a.append(t2)"
   ]
  },
  {
   "cell_type": "code",
   "execution_count": 94,
   "id": "e3c49b06-6855-48d5-8d76-3c8243b88635",
   "metadata": {},
   "outputs": [
    {
     "data": {
      "text/plain": [
       "[[1, 2, 3], [4, 5, 6], [7, 8, 9]]"
      ]
     },
     "execution_count": 94,
     "metadata": {},
     "output_type": "execute_result"
    }
   ],
   "source": [
    "a"
   ]
  },
  {
   "cell_type": "markdown",
   "id": "f9fbd39a-5415-4213-8fe9-727583dd798e",
   "metadata": {},
   "source": [
    "### 인덱싱 (1,2)"
   ]
  },
  {
   "cell_type": "code",
   "execution_count": 97,
   "id": "f5723c4d-ca51-49be-af8a-5736959ea358",
   "metadata": {},
   "outputs": [
    {
     "data": {
      "text/plain": [
       "2"
      ]
     },
     "execution_count": 97,
     "metadata": {},
     "output_type": "execute_result"
    }
   ],
   "source": [
    "a[0][1]"
   ]
  },
  {
   "cell_type": "markdown",
   "id": "e51df4b2-d39d-4a98-97e0-542af870f5eb",
   "metadata": {},
   "source": [
    "## 리스트 컴프리헨션"
   ]
  },
  {
   "cell_type": "markdown",
   "id": "4795e584-76d0-449f-95ed-d1ce2407d999",
   "metadata": {},
   "source": [
    "### 예제1"
   ]
  },
  {
   "cell_type": "markdown",
   "id": "66116468-4ee1-464e-94a2-539b4ce9de09",
   "metadata": {},
   "source": [
    "$2^0,\\dots 2^{10}$ 연산"
   ]
  },
  {
   "cell_type": "markdown",
   "id": "07b33efc-3d2b-4467-9f32-96b4e6ed5138",
   "metadata": {},
   "source": [
    "#### 풀이1. for문"
   ]
  },
  {
   "cell_type": "code",
   "execution_count": 98,
   "id": "1fa9b512-32eb-4edb-86f9-5f48485f933c",
   "metadata": {},
   "outputs": [],
   "source": [
    "a=[]\n",
    "for i in range(11) : \n",
    "    a.append(2**i)"
   ]
  },
  {
   "cell_type": "code",
   "execution_count": 99,
   "id": "df189696-9f1e-41f1-a78c-3a7d83f9ec17",
   "metadata": {},
   "outputs": [
    {
     "data": {
      "text/plain": [
       "[1, 2, 4, 8, 16, 32, 64, 128, 256, 512, 1024]"
      ]
     },
     "execution_count": 99,
     "metadata": {},
     "output_type": "execute_result"
    }
   ],
   "source": [
    "a"
   ]
  },
  {
   "cell_type": "markdown",
   "id": "1eb3c245-7dc7-4633-b8ec-5414b9a9397b",
   "metadata": {},
   "source": [
    "#### 풀이2. 리스트 컴프리헨션"
   ]
  },
  {
   "cell_type": "code",
   "execution_count": 100,
   "id": "bb9e7c24-ee00-4d80-a778-b1be9a206a0e",
   "metadata": {},
   "outputs": [
    {
     "data": {
      "text/plain": [
       "[1, 2, 4, 8, 16, 32, 64, 128, 256, 512, 1024]"
      ]
     },
     "execution_count": 100,
     "metadata": {},
     "output_type": "execute_result"
    }
   ],
   "source": [
    "[2**i for i in range(11)]"
   ]
  },
  {
   "cell_type": "markdown",
   "id": "5d672334-a901-42e2-8bf2-ab4563b1891f",
   "metadata": {},
   "source": [
    "### 예제2"
   ]
  },
  {
   "cell_type": "markdown",
   "id": "cfb95609-7e49-4d5b-b903-ea6251fbb5e7",
   "metadata": {},
   "source": [
    "아래와 같은 리스트 만들기"
   ]
  },
  {
   "cell_type": "code",
   "execution_count": 102,
   "id": "0edb8e1b-00a3-4fb2-8dda-0db22c7c23e4",
   "metadata": {},
   "outputs": [
    {
     "data": {
      "text/plain": [
       "['SSSS', 'PPPP', 'AAAA', 'MMMM']"
      ]
     },
     "execution_count": 102,
     "metadata": {},
     "output_type": "execute_result"
    }
   ],
   "source": [
    "['SSSS','PPPP','AAAA','MMMM']"
   ]
  },
  {
   "cell_type": "markdown",
   "id": "9cc258dc-0679-45f8-b731-9f58869ea135",
   "metadata": {},
   "source": [
    "#### 풀이"
   ]
  },
  {
   "cell_type": "code",
   "execution_count": 103,
   "id": "3ed4ffae-f79c-4aba-b2e1-f64778d7fb1a",
   "metadata": {},
   "outputs": [
    {
     "data": {
      "text/plain": [
       "['SSSS', 'PPPP', 'AAAA', 'MMMM']"
      ]
     },
     "execution_count": 103,
     "metadata": {},
     "output_type": "execute_result"
    }
   ],
   "source": [
    "[i*4 for i in \"SPAM\"]"
   ]
  },
  {
   "cell_type": "markdown",
   "id": "69f50b16-eaa1-41a8-b9f1-d9bdf4add1e7",
   "metadata": {},
   "source": [
    "### 예제3"
   ]
  },
  {
   "cell_type": "markdown",
   "id": "886a8dea-fa46-4f79-aa76-dc07b631607c",
   "metadata": {},
   "source": [
    "`-` 아래와 같은 리스트를 만들어라"
   ]
  },
  {
   "cell_type": "code",
   "execution_count": 104,
   "id": "37babcf9-8ecc-45e9-a4ba-81049ad7bb92",
   "metadata": {},
   "outputs": [
    {
     "data": {
      "text/plain": [
       "['X1', 'X2', 'X3', 'Y1', 'Y2', 'Y3']"
      ]
     },
     "execution_count": 104,
     "metadata": {},
     "output_type": "execute_result"
    }
   ],
   "source": [
    "['X1','X2','X3','Y1','Y2','Y3']"
   ]
  },
  {
   "cell_type": "markdown",
   "id": "ff192412-1d5d-4dc7-bdfe-a4a651c34174",
   "metadata": {},
   "source": [
    "#### 풀이"
   ]
  },
  {
   "cell_type": "code",
   "execution_count": 105,
   "id": "e9743cfe-6042-4faa-9d48-c3f16f2dfc03",
   "metadata": {},
   "outputs": [
    {
     "data": {
      "text/plain": [
       "['X1', 'X2', 'X3', 'Y1', 'Y2', 'Y3']"
      ]
     },
     "execution_count": 105,
     "metadata": {},
     "output_type": "execute_result"
    }
   ],
   "source": [
    "[i+j for i in \"XY\" for j in \"123\"]"
   ]
  },
  {
   "cell_type": "markdown",
   "id": "b9983b42-fe10-47d8-9ed3-47aaa7490c9b",
   "metadata": {},
   "source": [
    "### 예제4"
   ]
  },
  {
   "cell_type": "code",
   "execution_count": 106,
   "id": "80f4515a-1682-476b-80af-e4ff80fd6c7c",
   "metadata": {},
   "outputs": [
    {
     "data": {
      "text/plain": [
       "['stat1', 'stat2', 'stat3', 'math1', 'math2', 'math3']"
      ]
     },
     "execution_count": 106,
     "metadata": {},
     "output_type": "execute_result"
    }
   ],
   "source": [
    "['stat1', 'stat2', 'stat3', 'math1', 'math2', 'math3']"
   ]
  },
  {
   "cell_type": "markdown",
   "id": "a76b49e3-06c3-45a0-9247-6670cafc6f8a",
   "metadata": {},
   "source": [
    "#### 풀이"
   ]
  },
  {
   "cell_type": "code",
   "execution_count": 107,
   "id": "437cc714-373b-4b4e-9427-e4052f4467b1",
   "metadata": {},
   "outputs": [
    {
     "data": {
      "text/plain": [
       "['stat1', 'stat2', 'stat3', 'math1', 'math2', 'math3']"
      ]
     },
     "execution_count": 107,
     "metadata": {},
     "output_type": "execute_result"
    }
   ],
   "source": [
    "[i+j for i in [\"stat\",\"math\"] for j in \"123\"]"
   ]
  },
  {
   "cell_type": "markdown",
   "id": "045b11c6-89cd-417e-9c3a-30907d8256e7",
   "metadata": {},
   "source": [
    "### 예제5"
   ]
  },
  {
   "cell_type": "markdown",
   "id": "c05fbfa8-faf8-4028-ab3e-ee18c3310d6b",
   "metadata": {},
   "source": [
    "`jbnu`를 이용하여 아래와 같은 리스트를 만들어라."
   ]
  },
  {
   "cell_type": "code",
   "execution_count": 108,
   "id": "6a489a9c-119a-4a04-a74a-2df851dd4f0b",
   "metadata": {},
   "outputs": [
    {
     "data": {
      "text/plain": [
       "['j', 'b', 'n', 'u']"
      ]
     },
     "execution_count": 108,
     "metadata": {},
     "output_type": "execute_result"
    }
   ],
   "source": [
    "['j','b','n','u']"
   ]
  },
  {
   "cell_type": "code",
   "execution_count": 109,
   "id": "24f87263-dd91-402e-9f08-5179282fb80c",
   "metadata": {},
   "outputs": [
    {
     "data": {
      "text/plain": [
       "['j', 'b', 'n', 'u']"
      ]
     },
     "execution_count": 109,
     "metadata": {},
     "output_type": "execute_result"
    }
   ],
   "source": [
    "[i for i in \"jbnu\"]"
   ]
  },
  {
   "cell_type": "markdown",
   "id": "6d9140e9-da7b-405a-8e8e-8345ea7c63df",
   "metadata": {},
   "source": [
    "### 예제6"
   ]
  },
  {
   "cell_type": "code",
   "execution_count": 110,
   "id": "68e523e2-a87f-4100-9011-0c949cd821fa",
   "metadata": {},
   "outputs": [
    {
     "data": {
      "text/plain": [
       "['X1', 'X2', 'X3', 'X4', 'X5', 'X6', 'X7', 'X8', 'X9', 'X10', 'X11', 'X12']"
      ]
     },
     "execution_count": 110,
     "metadata": {},
     "output_type": "execute_result"
    }
   ],
   "source": [
    "['X1', 'X2', 'X3', 'X4', 'X5', 'X6', 'X7', 'X8', 'X9', 'X10', 'X11', 'X12']"
   ]
  },
  {
   "cell_type": "markdown",
   "id": "5c5b2d49-7969-4ad9-be2b-8c37f810e009",
   "metadata": {},
   "source": [
    "#### 풀이"
   ]
  },
  {
   "cell_type": "code",
   "execution_count": 112,
   "id": "235bcce8-3d02-4c01-b5fe-df72181e518a",
   "metadata": {},
   "outputs": [
    {
     "data": {
      "text/plain": [
       "['X1', 'X2', 'X3', 'X4', 'X5', 'X6', 'X7', 'X8', 'X9', 'X10', 'X11', 'X12']"
      ]
     },
     "execution_count": 112,
     "metadata": {},
     "output_type": "execute_result"
    }
   ],
   "source": [
    "[\"X\" + str(i) for i in range(1,13)]"
   ]
  },
  {
   "cell_type": "markdown",
   "id": "8027cba7-f1b6-47ca-aece-aee9c3a4211c",
   "metadata": {},
   "source": [
    "# tuple basic"
   ]
  },
  {
   "cell_type": "markdown",
   "id": "4bff1cea-726c-4550-ae0f-d84bab852444",
   "metadata": {},
   "source": [
    "`-` 리스트와의 공통점\n",
    "\n",
    "* 컨테이너형 타입, 연산 및 인덱싱하는 방법이 리스트와 같음"
   ]
  },
  {
   "cell_type": "markdown",
   "id": "77009f6d-2a7d-4fbe-b364-33118ea66825",
   "metadata": {},
   "source": [
    "`-` 차이점1"
   ]
  },
  {
   "cell_type": "markdown",
   "id": "04451dfc-3750-409d-a1a5-facc89feca08",
   "metadata": {},
   "source": [
    "* 선언 시 `()`사용"
   ]
  },
  {
   "cell_type": "code",
   "execution_count": 114,
   "id": "f4312521-0488-45f8-a309-87d172b1d9c6",
   "metadata": {},
   "outputs": [],
   "source": [
    "a = (4,6)"
   ]
  },
  {
   "cell_type": "code",
   "execution_count": 115,
   "id": "7ad5fb27-b5d3-425d-91e8-0d142b0d863e",
   "metadata": {},
   "outputs": [
    {
     "data": {
      "text/plain": [
       "(4, 6)"
      ]
     },
     "execution_count": 115,
     "metadata": {},
     "output_type": "execute_result"
    }
   ],
   "source": [
    "a"
   ]
  },
  {
   "cell_type": "markdown",
   "id": "d948c329-35b5-4b2c-ab34-38dfdca83d80",
   "metadata": {},
   "source": [
    "`-` 차이점2 : 원소의 값을 바꿀 수 없다."
   ]
  },
  {
   "cell_type": "code",
   "execution_count": 116,
   "id": "d2ee4d5b-0941-42c5-bf20-bf603869ad9e",
   "metadata": {},
   "outputs": [
    {
     "ename": "TypeError",
     "evalue": "'tuple' object does not support item assignment",
     "output_type": "error",
     "traceback": [
      "\u001b[1;31m---------------------------------------------------------------------------\u001b[0m",
      "\u001b[1;31mTypeError\u001b[0m                                 Traceback (most recent call last)",
      "Cell \u001b[1;32mIn[116], line 1\u001b[0m\n\u001b[1;32m----> 1\u001b[0m a[\u001b[38;5;241m1\u001b[39m]\u001b[38;5;241m=\u001b[39m\u001b[38;5;241m11\u001b[39m\n",
      "\u001b[1;31mTypeError\u001b[0m: 'tuple' object does not support item assignment"
     ]
    }
   ],
   "source": [
    "a[1]=11"
   ]
  },
  {
   "cell_type": "markdown",
   "id": "2811de3f-5163-42ea-987b-d1c18505799e",
   "metadata": {},
   "source": [
    "`-` 차이점3 : 하나의 원소를 선언할 때는 (1,)와 같이 선언"
   ]
  },
  {
   "cell_type": "code",
   "execution_count": 117,
   "id": "e2166296-911e-4f98-8a28-c95bf22e4cd8",
   "metadata": {},
   "outputs": [],
   "source": [
    "a = (1,)"
   ]
  },
  {
   "cell_type": "code",
   "execution_count": 119,
   "id": "d25d36f3-88cb-47f5-8a35-6f782f052131",
   "metadata": {},
   "outputs": [
    {
     "data": {
      "text/plain": [
       "(1,)"
      ]
     },
     "execution_count": 119,
     "metadata": {},
     "output_type": "execute_result"
    }
   ],
   "source": [
    "a"
   ]
  },
  {
   "cell_type": "code",
   "execution_count": 120,
   "id": "7cf5f7f1-57bb-41ec-8440-b15c65dbfce4",
   "metadata": {},
   "outputs": [
    {
     "data": {
      "text/plain": [
       "(1, 2, 3, 4)"
      ]
     },
     "execution_count": 120,
     "metadata": {},
     "output_type": "execute_result"
    }
   ],
   "source": [
    "a + (2,3,4)"
   ]
  },
  {
   "cell_type": "markdown",
   "id": "ef608d36-c0b7-475e-88dc-0928f97fd161",
   "metadata": {},
   "source": [
    "`-` **차이점4 : 의미가 명확할 떄는 괄호 생략 가능!**"
   ]
  },
  {
   "cell_type": "code",
   "execution_count": 122,
   "id": "e728dcaa-0810-40de-bb71-8ca33cbae7a3",
   "metadata": {},
   "outputs": [
    {
     "data": {
      "text/plain": [
       "(1, 2)"
      ]
     },
     "execution_count": 122,
     "metadata": {},
     "output_type": "execute_result"
    }
   ],
   "source": [
    "a = 1,2\n",
    "a"
   ]
  },
  {
   "cell_type": "code",
   "execution_count": 123,
   "id": "c31a60c6-e66d-490e-acb5-40c484825159",
   "metadata": {},
   "outputs": [
    {
     "data": {
      "text/plain": [
       "tuple"
      ]
     },
     "execution_count": 123,
     "metadata": {},
     "output_type": "execute_result"
    }
   ],
   "source": [
    "type(a)"
   ]
  },
  {
   "cell_type": "markdown",
   "id": "482d8ba6-1d02-4d10-a33a-ea5232574d02",
   "metadata": {},
   "source": [
    "`-` 아래와 같을때는 생략을 지양하자"
   ]
  },
  {
   "cell_type": "code",
   "execution_count": 124,
   "id": "f8daa013-6b90-466b-ab89-8fe90bee5e96",
   "metadata": {},
   "outputs": [
    {
     "data": {
      "text/plain": [
       "(1, 5, 4, 5)"
      ]
     },
     "execution_count": 124,
     "metadata": {},
     "output_type": "execute_result"
    }
   ],
   "source": [
    "1,2 + 3,4,5"
   ]
  },
  {
   "cell_type": "code",
   "execution_count": 125,
   "id": "15a472ff-4d88-4ae7-81aa-b154add6e71d",
   "metadata": {},
   "outputs": [
    {
     "data": {
      "text/plain": [
       "(1, 2, 3, 4, 5)"
      ]
     },
     "execution_count": 125,
     "metadata": {},
     "output_type": "execute_result"
    }
   ],
   "source": [
    "(1,2) + (3,4,5)"
   ]
  },
  {
   "cell_type": "markdown",
   "id": "6b6d7bb6-74af-4497-b93b-e001ed376270",
   "metadata": {},
   "source": [
    "***"
   ]
  },
  {
   "cell_type": "markdown",
   "id": "1cf88968-3ad4-44f4-8d41-edfc9a22aa6e",
   "metadata": {},
   "source": [
    "# Exercise2"
   ]
  },
  {
   "cell_type": "markdown",
   "id": "45934988-77dc-4320-ba6d-2cd220f774a3",
   "metadata": {},
   "source": [
    "## (1) sum 함수"
   ]
  },
  {
   "cell_type": "code",
   "execution_count": 126,
   "id": "86ea2fa5-1817-4c45-bd53-c2922d2a404d",
   "metadata": {},
   "outputs": [
    {
     "data": {
      "text/plain": [
       "2"
      ]
     },
     "execution_count": 126,
     "metadata": {},
     "output_type": "execute_result"
    }
   ],
   "source": [
    "sum([1,0,1,0])"
   ]
  },
  {
   "cell_type": "code",
   "execution_count": 127,
   "id": "1470ff85-9fb0-4951-947c-233b9337cf0c",
   "metadata": {},
   "outputs": [
    {
     "data": {
      "text/plain": [
       "2"
      ]
     },
     "execution_count": 127,
     "metadata": {},
     "output_type": "execute_result"
    }
   ],
   "source": [
    "sum([True,False,True,False])"
   ]
  },
  {
   "cell_type": "markdown",
   "id": "fd5bca4e-14f4-475b-8c8a-c6062e5eea3c",
   "metadata": {},
   "source": [
    "## (2) $x_i > 80$을 만족하는 원소개수 구하기"
   ]
  },
  {
   "cell_type": "code",
   "execution_count": 128,
   "id": "df040a25-c1b6-4163-95c8-525afcaee7f8",
   "metadata": {},
   "outputs": [
    {
     "data": {
      "text/plain": [
       "[80, 60, 80, 90, 55, 85, 95, 100, 35, 70, 75, 65, 95]"
      ]
     },
     "execution_count": 128,
     "metadata": {},
     "output_type": "execute_result"
    }
   ],
   "source": [
    "x = [80,60,80,90,55,85,95,100,35,70,75,65,95]\n",
    "x"
   ]
  },
  {
   "cell_type": "code",
   "execution_count": 137,
   "id": "0696a9bf-c373-4600-a08a-0a60a904a28f",
   "metadata": {},
   "outputs": [
    {
     "data": {
      "text/plain": [
       "5"
      ]
     },
     "execution_count": 137,
     "metadata": {},
     "output_type": "execute_result"
    }
   ],
   "source": [
    "sum([i>80  for i in x])"
   ]
  },
  {
   "cell_type": "markdown",
   "id": "7eaa862b-499c-4750-a235-a06b540ec633",
   "metadata": {},
   "source": [
    "## (3) \"A\" 혹은 \"B\"의 숫자는 모두 몇개인가?"
   ]
  },
  {
   "cell_type": "code",
   "execution_count": 138,
   "id": "0e3ea6f6-91ec-41c9-aa80-232873933255",
   "metadata": {},
   "outputs": [
    {
     "data": {
      "text/plain": [
       "['A', 'B', 'C', 'D', 'A', 'A', 'B', 'A', 'F', 'C', 'C', 'C', 'A']"
      ]
     },
     "execution_count": 138,
     "metadata": {},
     "output_type": "execute_result"
    }
   ],
   "source": [
    "['A','B','C','D','A','A','B','A','F','C','C','C','A']"
   ]
  },
  {
   "cell_type": "code",
   "execution_count": 139,
   "id": "9e3c7a48-d274-400c-b75f-0b0215d6d4c8",
   "metadata": {},
   "outputs": [],
   "source": [
    "lst = ['A','B','C','D','A','A','B','A','F','C','C','C','A']"
   ]
  },
  {
   "cell_type": "code",
   "execution_count": 140,
   "id": "d7cb7af7-74a8-401d-8e40-0a6fc7948857",
   "metadata": {},
   "outputs": [
    {
     "data": {
      "text/plain": [
       "7"
      ]
     },
     "execution_count": 140,
     "metadata": {},
     "output_type": "execute_result"
    }
   ],
   "source": [
    "sum([i <\"C\" for i in lst])"
   ]
  },
  {
   "cell_type": "markdown",
   "id": "2470a32f-379d-4bac-9891-58480e9a65a9",
   "metadata": {},
   "source": [
    "## (4) 리스트 컴프리헨션을 이용하여 아래를 구현"
   ]
  },
  {
   "cell_type": "markdown",
   "id": "9bd02f1f-c3c8-43b6-90d0-bbcb1eae04ce",
   "metadata": {},
   "source": [
    "$$z = [x_{1}^{2}+y_{1}^{2}\\dots x_{8}^{2}+y_{8}^{2}]$$"
   ]
  },
  {
   "cell_type": "code",
   "execution_count": 141,
   "id": "178655d1-14fa-4ba9-8e7f-d0705881fd8d",
   "metadata": {},
   "outputs": [],
   "source": [
    "x=[1,2,1,5,6,2,4,7]\n",
    "y=[3,2,4,1,2,5,6,7] "
   ]
  },
  {
   "cell_type": "code",
   "execution_count": 144,
   "id": "4684a1c0-81af-4a9a-b9ab-cf84c7188679",
   "metadata": {},
   "outputs": [
    {
     "data": {
      "text/plain": [
       "[10, 8, 17, 26, 40, 29, 52, 98]"
      ]
     },
     "execution_count": 144,
     "metadata": {},
     "output_type": "execute_result"
    }
   ],
   "source": [
    "[x[i]**2 + y[i]**2 for i in range(8)]"
   ]
  },
  {
   "cell_type": "markdown",
   "id": "dd6eb5a8-8910-44f9-8598-46f1b14566e9",
   "metadata": {},
   "source": [
    " ## (5) 대문자 개수 count"
   ]
  },
  {
   "cell_type": "code",
   "execution_count": 153,
   "id": "2daa2fd3-b0c0-4974-b541-6c88bad205a1",
   "metadata": {},
   "outputs": [],
   "source": [
    "test_arr = 'ssh-rsa AAAAB3NzaC1yc2EAAAABIwAAAQEAklOUpkDHrfHY17SbrmTIpNLTGK9Tjom/BWDSUGPl+nafzlHDTYW7hdI4yZ5ew18JH4JW9jbhUFrviQzM7xlELEVf4h9lFX5QVkbPppSwg0cda3Pbv7kOdJ/MTyBlWXFCR+HAo3FXRitBqxiX1nKhXpHAZsMciLq8V6RjsNAQwdsdMFvSlVK/7XAt3FaoJoAsncM1Q9x5+3V0Ww68/eIFmb1zuUFljQJKprrX88XypNDvjYNby6vw/Pb0rwert/EnmZ+AW4OZPnTPI89ZPmVMLuayrD2cE86Z/il8b+gw3r3+1nKatmIkjn2so1d01QraTlMqVSsbxNrRFi9wrf+M7Q== schacon@mylaptop.local'"
   ]
  },
  {
   "cell_type": "code",
   "execution_count": 156,
   "id": "914140fd-8d2a-42f3-9b4b-025b61eed9a3",
   "metadata": {},
   "outputs": [
    {
     "data": {
      "text/plain": [
       "155"
      ]
     },
     "execution_count": 156,
     "metadata": {},
     "output_type": "execute_result"
    }
   ],
   "source": [
    "sum([s.isupper() for s in test_arr])"
   ]
  },
  {
   "cell_type": "markdown",
   "id": "73a32a67-80ce-4aae-8ed6-5f0c920bd420",
   "metadata": {},
   "source": [
    "## (6) 아래와 같은 리스트 생성"
   ]
  },
  {
   "cell_type": "markdown",
   "id": "04e8d7fb-bd5b-42d7-84d3-954d62cfbc84",
   "metadata": {},
   "source": [
    "```python\n",
    "['a',\n",
    " 'aa',\n",
    " 'aaa',\n",
    " 'aaaa',\n",
    " 'aaaaa',\n",
    " 'aaaaaa',\n",
    " 'aaaaaaa',\n",
    " 'aaaaaaaa',\n",
    " 'aaaaaaaaa',\n",
    " 'aaaaaaaaaa']\n",
    "```"
   ]
  },
  {
   "cell_type": "code",
   "execution_count": 159,
   "id": "fe130e9c-6203-4bde-9773-1410a1b13416",
   "metadata": {},
   "outputs": [
    {
     "data": {
      "text/plain": [
       "['a',\n",
       " 'aa',\n",
       " 'aaa',\n",
       " 'aaaa',\n",
       " 'aaaaa',\n",
       " 'aaaaaa',\n",
       " 'aaaaaaa',\n",
       " 'aaaaaaaa',\n",
       " 'aaaaaaaaa',\n",
       " 'aaaaaaaaaa']"
      ]
     },
     "execution_count": 159,
     "metadata": {},
     "output_type": "execute_result"
    }
   ],
   "source": [
    "[\"a\"*i for i in range(1,11)]"
   ]
  },
  {
   "cell_type": "markdown",
   "id": "5f7b57e2-8355-4803-a396-683b8f109be6",
   "metadata": {},
   "source": [
    "## (7) test_lst와 리스트컴프리헨션을 이용하여 아래를 출력하는 코드를 구현하라."
   ]
  },
  {
   "cell_type": "code",
   "execution_count": 161,
   "id": "689ad6d0-6c7c-4574-a945-401fb72cb883",
   "metadata": {},
   "outputs": [],
   "source": [
    "test_lst = [['g',1],['u',5],['e',2],['b',8],['i',2],['n',9]]"
   ]
  },
  {
   "cell_type": "markdown",
   "id": "b22bd941-fd2f-42be-87c6-8b462278cd55",
   "metadata": {},
   "source": [
    "(출력)"
   ]
  },
  {
   "cell_type": "code",
   "execution_count": 163,
   "id": "11004dfe-0e4a-46fe-bde7-7ace77ba357c",
   "metadata": {},
   "outputs": [
    {
     "data": {
      "text/plain": [
       "['g', 'uuuuu', 'ee', 'bbbbbbbb', 'ii', 'nnnnnnnnn']"
      ]
     },
     "execution_count": 163,
     "metadata": {},
     "output_type": "execute_result"
    }
   ],
   "source": [
    "['g', 'uuuuu', 'ee', 'bbbbbbbb', 'ii', 'nnnnnnnnn']"
   ]
  },
  {
   "cell_type": "code",
   "execution_count": 165,
   "id": "7796fe0e-43d2-4730-ae8d-0aa95a9c4e09",
   "metadata": {},
   "outputs": [
    {
     "data": {
      "text/plain": [
       "['g', 'uuuuu', 'ee', 'bbbbbbbb', 'ii', 'nnnnnnnnn']"
      ]
     },
     "execution_count": 165,
     "metadata": {},
     "output_type": "execute_result"
    }
   ],
   "source": [
    "[i[0]*i[1] for i in test_lst]"
   ]
  },
  {
   "cell_type": "markdown",
   "id": "11406b65-634b-4929-82d5-c673d352fd5b",
   "metadata": {},
   "source": [
    "## (8) 아래와 같은 리스트를 생성"
   ]
  },
  {
   "cell_type": "markdown",
   "id": "1577c6e3-9d1d-44f2-8b6d-924e59c152c4",
   "metadata": {},
   "source": [
    "```python\n",
    "[1,\n",
    " 2,2,\n",
    " 3,3,3,\n",
    " 4,4,4,4,\n",
    " 5,5,5,5,5,\n",
    " ...\n",
    " 9,9,9,9,9,9,9,9,9] <- 9가 9개 있음 \n",
    "```"
   ]
  },
  {
   "cell_type": "code",
   "execution_count": 227,
   "id": "7a02e383-4485-466b-a4f8-64f81353f25e",
   "metadata": {},
   "outputs": [
    {
     "data": {
      "text/plain": [
       "[1, 2, 3, 4, 5, 6, 7, 8, 9]"
      ]
     },
     "execution_count": 227,
     "metadata": {},
     "output_type": "execute_result"
    }
   ],
   "source": [
    "x = list(range(1,10))\n",
    "x"
   ]
  },
  {
   "cell_type": "code",
   "execution_count": 234,
   "id": "e3afc488-056c-4b2a-a555-7f6b986f3b3e",
   "metadata": {},
   "outputs": [
    {
     "name": "stdout",
     "output_type": "stream",
     "text": [
      "[1, 2, 2, 3, 3, 3, 4, 4, 4, 4, 5, 5, 5, 5, 5, 6, 6, 6, 6, 6, 6, 7, 7, 7, 7, 7, 7, 7, 8, 8, 8, 8, 8, 8, 8, 8, 9, 9, 9, 9, 9, 9, 9, 9, 9]\n"
     ]
    }
   ],
   "source": [
    "print([i for i in x for j in range(1,i+1)])"
   ]
  },
  {
   "cell_type": "markdown",
   "id": "e788df4f-dcca-481f-9ee5-0bb551494950",
   "metadata": {},
   "source": [
    "## (9) 다음과 같은 변환을 수행"
   ]
  },
  {
   "cell_type": "code",
   "execution_count": 235,
   "id": "893867c5-7c9e-4ca9-9a9c-50fc7d57ab94",
   "metadata": {},
   "outputs": [],
   "source": [
    "lst = ['2022/09/21','2022/10/30','2022/12/25','2023/01/01','2023/01/31','2023/03/20']"
   ]
  },
  {
   "cell_type": "code",
   "execution_count": 236,
   "id": "7671cd4c-e5d4-4587-8f70-136725d1621e",
   "metadata": {},
   "outputs": [
    {
     "data": {
      "text/plain": [
       "['2022-09-21',\n",
       " '2022-10-30',\n",
       " '2022-12-25',\n",
       " '2023-01-01',\n",
       " '2023-01-31',\n",
       " '2023-03-20']"
      ]
     },
     "execution_count": 236,
     "metadata": {},
     "output_type": "execute_result"
    }
   ],
   "source": [
    "['2022-09-21', '2022-10-30', '2022-12-25', '2023-01-01', '2023-01-31', '2023-03-20']"
   ]
  },
  {
   "cell_type": "code",
   "execution_count": 237,
   "id": "8d05fc58-c5cc-4d24-8f01-e3e119a86d2e",
   "metadata": {},
   "outputs": [
    {
     "data": {
      "text/plain": [
       "['2022-09-21',\n",
       " '2022-10-30',\n",
       " '2022-12-25',\n",
       " '2023-01-01',\n",
       " '2023-01-31',\n",
       " '2023-03-20']"
      ]
     },
     "execution_count": 237,
     "metadata": {},
     "output_type": "execute_result"
    }
   ],
   "source": [
    "[i.replace(\"/\",\"-\")for i in lst]"
   ]
  },
  {
   "cell_type": "markdown",
   "id": "42ada6f5-fc96-465b-bd58-a2d58cdc8e3c",
   "metadata": {},
   "source": [
    "## (10) 띄어쓰기 제거"
   ]
  },
  {
   "cell_type": "code",
   "execution_count": 238,
   "id": "923feddf-1c93-486d-b959-3a8e03bc5e30",
   "metadata": {},
   "outputs": [
    {
     "data": {
      "text/plain": [
       "'2021. 01. 05.'"
      ]
     },
     "execution_count": 238,
     "metadata": {},
     "output_type": "execute_result"
    }
   ],
   "source": [
    "'2021. 01. 05.'"
   ]
  },
  {
   "cell_type": "code",
   "execution_count": 239,
   "id": "975d8c02-d014-46ca-a96f-b7e9737cdfd3",
   "metadata": {},
   "outputs": [
    {
     "data": {
      "text/plain": [
       "'2021.01.05.'"
      ]
     },
     "execution_count": 239,
     "metadata": {},
     "output_type": "execute_result"
    }
   ],
   "source": [
    "'2021. 01. 05.'.replace(\" \",\"\")"
   ]
  },
  {
   "cell_type": "markdown",
   "id": "04438845-e0d6-4c19-b65c-08e28453b7dd",
   "metadata": {},
   "source": [
    "## (11) 조인"
   ]
  },
  {
   "cell_type": "code",
   "execution_count": 240,
   "id": "339f5bc1-e572-47f1-8bcb-c7a3e521426a",
   "metadata": {},
   "outputs": [
    {
     "data": {
      "text/plain": [
       "'2022-01-05'"
      ]
     },
     "execution_count": 240,
     "metadata": {},
     "output_type": "execute_result"
    }
   ],
   "source": [
    "'-'.join(['2022','01','05'])"
   ]
  },
  {
   "cell_type": "markdown",
   "id": "beb24bce-16d8-4d95-a16c-d4660a2ad828",
   "metadata": {},
   "source": [
    "## (12) 다음과 같은 특스문자로 이루어진 리스트를 고려하고 다음과 같은 결과를 출력"
   ]
  },
  {
   "cell_type": "code",
   "execution_count": 242,
   "id": "ec3abc4c-969f-435e-a49d-8e03cae437b2",
   "metadata": {},
   "outputs": [],
   "source": [
    "block = ['■'] "
   ]
  },
  {
   "cell_type": "code",
   "execution_count": 243,
   "id": "4dc64947-cd21-4fe4-89a1-a835997b0db1",
   "metadata": {},
   "outputs": [
    {
     "data": {
      "text/plain": [
       "'■-■-■-■-■-■-■-■-■-■'"
      ]
     },
     "execution_count": 243,
     "metadata": {},
     "output_type": "execute_result"
    }
   ],
   "source": [
    "'■-■-■-■-■-■-■-■-■-■' # 여기에서 '■'는 모두 10개 있음"
   ]
  },
  {
   "cell_type": "code",
   "execution_count": 244,
   "id": "479e7be7-fc78-4f80-927a-b6ac2705e334",
   "metadata": {},
   "outputs": [
    {
     "data": {
      "text/plain": [
       "'■-■-■-■-■-■-■-■-■-■'"
      ]
     },
     "execution_count": 244,
     "metadata": {},
     "output_type": "execute_result"
    }
   ],
   "source": [
    "\"-\".join(block*10)"
   ]
  }
 ],
 "metadata": {
  "kernelspec": {
   "display_name": "Python 3 (ipykernel)",
   "language": "python",
   "name": "python3"
  },
  "language_info": {
   "codemirror_mode": {
    "name": "ipython",
    "version": 3
   },
   "file_extension": ".py",
   "mimetype": "text/x-python",
   "name": "python",
   "nbconvert_exporter": "python",
   "pygments_lexer": "ipython3",
   "version": "3.11.4"
  },
  "toc": {
   "base_numbering": 1,
   "nav_menu": {},
   "number_sections": false,
   "sideBar": true,
   "skip_h1_title": false,
   "title_cell": "Table of Contents",
   "title_sidebar": "Contents",
   "toc_cell": false,
   "toc_position": {},
   "toc_section_display": true,
   "toc_window_display": true
  }
 },
 "nbformat": 4,
 "nbformat_minor": 5
}
