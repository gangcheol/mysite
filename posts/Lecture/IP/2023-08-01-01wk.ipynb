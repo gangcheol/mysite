{
 "cells": [
  {
   "cell_type": "raw",
   "id": "e08993b7",
   "metadata": {},
   "source": [
    "---\n",
    "title : \"01. 자료형\"\n",
    "author : \"GANGCHEOL LEE\"\n",
    "date : \"08/01/23\"\n",
    "categories : [\"python\"]\n",
    "---"
   ]
  },
  {
   "cell_type": "markdown",
   "id": "019654e8",
   "metadata": {},
   "source": [
    "# 자료형"
   ]
  },
  {
   "cell_type": "markdown",
   "id": "fc16f63a",
   "metadata": {},
   "source": [
    "`-` 0차원 자료형 : int, float, bool\n",
    "\n",
    "`-` 1차원 자료형 : str, list, tuple, dict, set"
   ]
  },
  {
   "cell_type": "markdown",
   "id": "0e110b62",
   "metadata": {},
   "source": [
    "## int"
   ]
  },
  {
   "cell_type": "code",
   "execution_count": 2,
   "id": "42406915",
   "metadata": {},
   "outputs": [
    {
     "data": {
      "text/plain": [
       "int"
      ]
     },
     "execution_count": 2,
     "metadata": {},
     "output_type": "execute_result"
    }
   ],
   "source": [
    "a = 100\n",
    "type(a)"
   ]
  },
  {
   "cell_type": "markdown",
   "id": "7dc8926a",
   "metadata": {},
   "source": [
    "## float"
   ]
  },
  {
   "cell_type": "code",
   "execution_count": 5,
   "id": "793d1199",
   "metadata": {},
   "outputs": [
    {
     "data": {
      "text/plain": [
       "float"
      ]
     },
     "execution_count": 5,
     "metadata": {},
     "output_type": "execute_result"
    }
   ],
   "source": [
    "a = 1.2*3\n",
    "type(a)"
   ]
  },
  {
   "cell_type": "code",
   "execution_count": 6,
   "id": "03412bbe",
   "metadata": {},
   "outputs": [],
   "source": [
    "a?"
   ]
  },
  {
   "cell_type": "markdown",
   "id": "e0bb12f7",
   "metadata": {},
   "source": [
    "## bool"
   ]
  },
  {
   "cell_type": "code",
   "execution_count": 7,
   "id": "8bdf83e6",
   "metadata": {},
   "outputs": [],
   "source": [
    "a = True\n",
    "b = False"
   ]
  },
  {
   "cell_type": "code",
   "execution_count": 8,
   "id": "b3d8d7da",
   "metadata": {},
   "outputs": [
    {
     "data": {
      "text/plain": [
       "(bool, bool)"
      ]
     },
     "execution_count": 8,
     "metadata": {},
     "output_type": "execute_result"
    }
   ],
   "source": [
    "type(a),type(b)"
   ]
  },
  {
   "cell_type": "code",
   "execution_count": 11,
   "id": "5dc073f1",
   "metadata": {},
   "outputs": [
    {
     "data": {
      "text/plain": [
       "1"
      ]
     },
     "execution_count": 11,
     "metadata": {},
     "output_type": "execute_result"
    }
   ],
   "source": [
    "a + b"
   ]
  },
  {
   "cell_type": "markdown",
   "id": "9990933d",
   "metadata": {},
   "source": [
    "## complex"
   ]
  },
  {
   "cell_type": "code",
   "execution_count": 12,
   "id": "6ab92c2c",
   "metadata": {},
   "outputs": [],
   "source": [
    "a = 1 + 2j\n",
    "\n",
    "b = 2-2j"
   ]
  },
  {
   "cell_type": "code",
   "execution_count": 14,
   "id": "da060adc",
   "metadata": {},
   "outputs": [],
   "source": [
    "c = a + b"
   ]
  },
  {
   "cell_type": "code",
   "execution_count": 15,
   "id": "315086a8",
   "metadata": {},
   "outputs": [
    {
     "data": {
      "text/plain": [
       "(3+0j)"
      ]
     },
     "execution_count": 15,
     "metadata": {},
     "output_type": "execute_result"
    }
   ],
   "source": [
    "c"
   ]
  },
  {
   "cell_type": "code",
   "execution_count": 16,
   "id": "b1fb5884",
   "metadata": {},
   "outputs": [
    {
     "data": {
      "text/plain": [
       "(complex, complex, complex)"
      ]
     },
     "execution_count": 16,
     "metadata": {},
     "output_type": "execute_result"
    }
   ],
   "source": [
    "type(a), type(b), type(c)"
   ]
  },
  {
   "cell_type": "markdown",
   "id": "f6e3115e",
   "metadata": {},
   "source": [
    "## 형태변환"
   ]
  },
  {
   "cell_type": "markdown",
   "id": "91ea6f6b",
   "metadata": {},
   "source": [
    "### float $\\to$ int"
   ]
  },
  {
   "cell_type": "code",
   "execution_count": 19,
   "id": "e24ec7ff",
   "metadata": {},
   "outputs": [],
   "source": [
    "a = 3.4\n",
    "\n",
    "_a = int(a)"
   ]
  },
  {
   "cell_type": "code",
   "execution_count": 20,
   "id": "3c2e76a7",
   "metadata": {},
   "outputs": [
    {
     "data": {
      "text/plain": [
       "(float, int)"
      ]
     },
     "execution_count": 20,
     "metadata": {},
     "output_type": "execute_result"
    }
   ],
   "source": [
    "type(a), type(_a)"
   ]
  },
  {
   "cell_type": "code",
   "execution_count": 21,
   "id": "52843f6a",
   "metadata": {},
   "outputs": [
    {
     "data": {
      "text/plain": [
       "(3.4, 3)"
      ]
     },
     "execution_count": 21,
     "metadata": {},
     "output_type": "execute_result"
    }
   ],
   "source": [
    "a, _a"
   ]
  },
  {
   "cell_type": "markdown",
   "id": "d3c1aa42",
   "metadata": {},
   "source": [
    "`-` 정보의 손실이 발생한 것임"
   ]
  },
  {
   "cell_type": "markdown",
   "id": "1dd1c9f7",
   "metadata": {},
   "source": [
    "### float $\\to$ int"
   ]
  },
  {
   "cell_type": "code",
   "execution_count": 22,
   "id": "d32062f6",
   "metadata": {},
   "outputs": [],
   "source": [
    "a = 3\n",
    "_a = float(a)"
   ]
  },
  {
   "cell_type": "code",
   "execution_count": 23,
   "id": "613d295e",
   "metadata": {},
   "outputs": [
    {
     "data": {
      "text/plain": [
       "(int, float)"
      ]
     },
     "execution_count": 23,
     "metadata": {},
     "output_type": "execute_result"
    }
   ],
   "source": [
    "type(a), type(_a)"
   ]
  },
  {
   "cell_type": "code",
   "execution_count": 24,
   "id": "37a52ab6",
   "metadata": {},
   "outputs": [
    {
     "data": {
      "text/plain": [
       "(3, 3.0)"
      ]
     },
     "execution_count": 24,
     "metadata": {},
     "output_type": "execute_result"
    }
   ],
   "source": [
    "a, _a"
   ]
  },
  {
   "cell_type": "markdown",
   "id": "5a51f4aa",
   "metadata": {},
   "source": [
    "### bool $\\to$ float,int, int/float $\\to$ bool"
   ]
  },
  {
   "cell_type": "markdown",
   "id": "8916bfd9",
   "metadata": {},
   "source": [
    "`-` 예시 1"
   ]
  },
  {
   "cell_type": "code",
   "execution_count": 33,
   "id": "c555f80a",
   "metadata": {},
   "outputs": [],
   "source": [
    "a = True\n",
    "_a1 = float(a)\n",
    "_a2 = int(a)"
   ]
  },
  {
   "cell_type": "code",
   "execution_count": 34,
   "id": "337bc01b",
   "metadata": {},
   "outputs": [
    {
     "data": {
      "text/plain": [
       "(bool, float, int)"
      ]
     },
     "execution_count": 34,
     "metadata": {},
     "output_type": "execute_result"
    }
   ],
   "source": [
    "type(a), type(_a1), type(_a2)"
   ]
  },
  {
   "cell_type": "markdown",
   "id": "bc49024b",
   "metadata": {},
   "source": [
    "`-` 예시 2"
   ]
  },
  {
   "cell_type": "code",
   "execution_count": 35,
   "id": "6238869b",
   "metadata": {},
   "outputs": [],
   "source": [
    "a1 = 1\n",
    "a2 = 1.0\n",
    "\n",
    "_a1 = bool(a1)\n",
    "_a2 = bool(a2)"
   ]
  },
  {
   "cell_type": "code",
   "execution_count": 36,
   "id": "911bdcef",
   "metadata": {},
   "outputs": [
    {
     "data": {
      "text/plain": [
       "(int, float, bool, bool)"
      ]
     },
     "execution_count": 36,
     "metadata": {},
     "output_type": "execute_result"
    }
   ],
   "source": [
    "type(a1), type(a2), type(_a1), type(_a2)"
   ]
  },
  {
   "cell_type": "code",
   "execution_count": 38,
   "id": "b3a9ce52",
   "metadata": {},
   "outputs": [
    {
     "data": {
      "text/plain": [
       "(True, True)"
      ]
     },
     "execution_count": 38,
     "metadata": {},
     "output_type": "execute_result"
    }
   ],
   "source": [
    "_a1,_a2"
   ]
  },
  {
   "cell_type": "markdown",
   "id": "1019f15c",
   "metadata": {},
   "source": [
    "### 기타 형태변환"
   ]
  },
  {
   "cell_type": "code",
   "execution_count": 39,
   "id": "867f3f4a",
   "metadata": {},
   "outputs": [
    {
     "data": {
      "text/plain": [
       "True"
      ]
     },
     "execution_count": 39,
     "metadata": {},
     "output_type": "execute_result"
    }
   ],
   "source": [
    "bool(-3.14)"
   ]
  },
  {
   "cell_type": "code",
   "execution_count": 40,
   "id": "3d682596",
   "metadata": {},
   "outputs": [
    {
     "data": {
      "text/plain": [
       "3"
      ]
     },
     "execution_count": 40,
     "metadata": {},
     "output_type": "execute_result"
    }
   ],
   "source": [
    "int(3.14)"
   ]
  },
  {
   "cell_type": "markdown",
   "id": "aa788832",
   "metadata": {},
   "source": [
    "`-` 형태변환이 항상 가능한 것도 아님"
   ]
  },
  {
   "cell_type": "code",
   "execution_count": 41,
   "id": "605fbb45",
   "metadata": {},
   "outputs": [
    {
     "ename": "TypeError",
     "evalue": "can't convert complex to float",
     "output_type": "error",
     "traceback": [
      "\u001b[1;31m---------------------------------------------------------------------------\u001b[0m",
      "\u001b[1;31mTypeError\u001b[0m                                 Traceback (most recent call last)",
      "\u001b[1;32m~\\AppData\\Local\\Temp\\ipykernel_24020\\957390365.py\u001b[0m in \u001b[0;36m<module>\u001b[1;34m\u001b[0m\n\u001b[1;32m----> 1\u001b[1;33m \u001b[0mfloat\u001b[0m\u001b[1;33m(\u001b[0m\u001b[1;36m3\u001b[0m\u001b[1;33m+\u001b[0m\u001b[1;36m0j\u001b[0m\u001b[1;33m)\u001b[0m\u001b[1;33m\u001b[0m\u001b[1;33m\u001b[0m\u001b[0m\n\u001b[0m",
      "\u001b[1;31mTypeError\u001b[0m: can't convert complex to float"
     ]
    }
   ],
   "source": [
    "float(3+0j)"
   ]
  },
  {
   "cell_type": "markdown",
   "id": "48968bc8",
   "metadata": {},
   "source": [
    "### 암묵적 형변환 (implicit)"
   ]
  },
  {
   "cell_type": "code",
   "execution_count": 43,
   "id": "e15fe96d",
   "metadata": {},
   "outputs": [
    {
     "data": {
      "text/plain": [
       "2"
      ]
     },
     "execution_count": 43,
     "metadata": {},
     "output_type": "execute_result"
    }
   ],
   "source": [
    "True + 1 "
   ]
  },
  {
   "cell_type": "code",
   "execution_count": 44,
   "id": "8a916e65",
   "metadata": {},
   "outputs": [
    {
     "data": {
      "text/plain": [
       "1.0"
      ]
     },
     "execution_count": 44,
     "metadata": {},
     "output_type": "execute_result"
    }
   ],
   "source": [
    "1*1.0"
   ]
  },
  {
   "cell_type": "code",
   "execution_count": 45,
   "id": "c1b49ffc",
   "metadata": {},
   "outputs": [
    {
     "data": {
      "text/plain": [
       "2"
      ]
     },
     "execution_count": 45,
     "metadata": {},
     "output_type": "execute_result"
    }
   ],
   "source": [
    "True + True"
   ]
  },
  {
   "cell_type": "markdown",
   "id": "e978e1e4",
   "metadata": {},
   "source": [
    "## str"
   ]
  },
  {
   "cell_type": "code",
   "execution_count": 46,
   "id": "7c7bf3bc",
   "metadata": {},
   "outputs": [],
   "source": [
    "a = \"gangcheol\""
   ]
  },
  {
   "cell_type": "code",
   "execution_count": 47,
   "id": "3db2d410",
   "metadata": {},
   "outputs": [
    {
     "data": {
      "text/plain": [
       "'gangcheol'"
      ]
     },
     "execution_count": 47,
     "metadata": {},
     "output_type": "execute_result"
    }
   ],
   "source": [
    "a"
   ]
  },
  {
   "cell_type": "markdown",
   "id": "cf938957",
   "metadata": {},
   "source": [
    "### 더하기"
   ]
  },
  {
   "cell_type": "code",
   "execution_count": 48,
   "id": "d3eebea2",
   "metadata": {},
   "outputs": [
    {
     "data": {
      "text/plain": [
       "'X2'"
      ]
     },
     "execution_count": 48,
     "metadata": {},
     "output_type": "execute_result"
    }
   ],
   "source": [
    "a = \"X\"\n",
    "\n",
    "b= \"2\"\n",
    "\n",
    "a+b"
   ]
  },
  {
   "cell_type": "markdown",
   "id": "f8f7883a",
   "metadata": {},
   "source": [
    "### 빼기 (이런건 존재하지 않음)"
   ]
  },
  {
   "cell_type": "code",
   "execution_count": 49,
   "id": "bf333ac9",
   "metadata": {},
   "outputs": [
    {
     "ename": "TypeError",
     "evalue": "unsupported operand type(s) for -: 'str' and 'str'",
     "output_type": "error",
     "traceback": [
      "\u001b[1;31m---------------------------------------------------------------------------\u001b[0m",
      "\u001b[1;31mTypeError\u001b[0m                                 Traceback (most recent call last)",
      "\u001b[1;32m~\\AppData\\Local\\Temp\\ipykernel_24020\\2328419943.py\u001b[0m in \u001b[0;36m<module>\u001b[1;34m\u001b[0m\n\u001b[0;32m      3\u001b[0m \u001b[0mb\u001b[0m\u001b[1;33m=\u001b[0m \u001b[1;34m\"2\"\u001b[0m\u001b[1;33m\u001b[0m\u001b[1;33m\u001b[0m\u001b[0m\n\u001b[0;32m      4\u001b[0m \u001b[1;33m\u001b[0m\u001b[0m\n\u001b[1;32m----> 5\u001b[1;33m \u001b[0ma\u001b[0m\u001b[1;33m-\u001b[0m\u001b[0mb\u001b[0m\u001b[1;33m\u001b[0m\u001b[1;33m\u001b[0m\u001b[0m\n\u001b[0m",
      "\u001b[1;31mTypeError\u001b[0m: unsupported operand type(s) for -: 'str' and 'str'"
     ]
    }
   ],
   "source": [
    "a = \"X\"\n",
    "\n",
    "b= \"2\"\n",
    "\n",
    "a-b"
   ]
  },
  {
   "cell_type": "markdown",
   "id": "3c56f6f9",
   "metadata": {},
   "source": [
    "### 곱하기"
   ]
  },
  {
   "cell_type": "code",
   "execution_count": 50,
   "id": "83ad1968",
   "metadata": {},
   "outputs": [
    {
     "data": {
      "text/plain": [
       "'XXX'"
      ]
     },
     "execution_count": 50,
     "metadata": {},
     "output_type": "execute_result"
    }
   ],
   "source": [
    "a*3"
   ]
  },
  {
   "cell_type": "code",
   "execution_count": 51,
   "id": "3d6c9e27",
   "metadata": {},
   "outputs": [
    {
     "data": {
      "text/plain": [
       "'XX'"
      ]
     },
     "execution_count": 51,
     "metadata": {},
     "output_type": "execute_result"
    }
   ],
   "source": [
    "b=2\n",
    "a*b"
   ]
  },
  {
   "cell_type": "markdown",
   "id": "92aefb5d",
   "metadata": {},
   "source": [
    "`-` 이런건 수행되지 않음."
   ]
  },
  {
   "cell_type": "code",
   "execution_count": 52,
   "id": "7c8e937f",
   "metadata": {},
   "outputs": [
    {
     "ename": "TypeError",
     "evalue": "can't multiply sequence by non-int of type 'str'",
     "output_type": "error",
     "traceback": [
      "\u001b[1;31m---------------------------------------------------------------------------\u001b[0m",
      "\u001b[1;31mTypeError\u001b[0m                                 Traceback (most recent call last)",
      "\u001b[1;32m~\\AppData\\Local\\Temp\\ipykernel_24020\\3284584398.py\u001b[0m in \u001b[0;36m<module>\u001b[1;34m\u001b[0m\n\u001b[0;32m      1\u001b[0m \u001b[0ma\u001b[0m \u001b[1;33m=\u001b[0m \u001b[1;34m\"X\"\u001b[0m\u001b[1;33m\u001b[0m\u001b[1;33m\u001b[0m\u001b[0m\n\u001b[0;32m      2\u001b[0m \u001b[0mb\u001b[0m \u001b[1;33m=\u001b[0m \u001b[1;34m\"Y\"\u001b[0m\u001b[1;33m\u001b[0m\u001b[1;33m\u001b[0m\u001b[0m\n\u001b[1;32m----> 3\u001b[1;33m \u001b[0ma\u001b[0m\u001b[1;33m*\u001b[0m\u001b[0mb\u001b[0m\u001b[1;33m\u001b[0m\u001b[1;33m\u001b[0m\u001b[0m\n\u001b[0m",
      "\u001b[1;31mTypeError\u001b[0m: can't multiply sequence by non-int of type 'str'"
     ]
    }
   ],
   "source": [
    "a = \"X\"\n",
    "b = \"Y\"\n",
    "a*b"
   ]
  },
  {
   "cell_type": "markdown",
   "id": "69680c16",
   "metadata": {},
   "source": [
    "### 나눗셈 (이런것도 존재하지 않음)"
   ]
  },
  {
   "cell_type": "code",
   "execution_count": 53,
   "id": "9c50cf7d",
   "metadata": {},
   "outputs": [
    {
     "ename": "TypeError",
     "evalue": "unsupported operand type(s) for /: 'str' and 'str'",
     "output_type": "error",
     "traceback": [
      "\u001b[1;31m---------------------------------------------------------------------------\u001b[0m",
      "\u001b[1;31mTypeError\u001b[0m                                 Traceback (most recent call last)",
      "\u001b[1;32m~\\AppData\\Local\\Temp\\ipykernel_24020\\1348051284.py\u001b[0m in \u001b[0;36m<module>\u001b[1;34m\u001b[0m\n\u001b[1;32m----> 1\u001b[1;33m \u001b[0ma\u001b[0m\u001b[1;33m/\u001b[0m\u001b[0mb\u001b[0m\u001b[1;33m\u001b[0m\u001b[1;33m\u001b[0m\u001b[0m\n\u001b[0m",
      "\u001b[1;31mTypeError\u001b[0m: unsupported operand type(s) for /: 'str' and 'str'"
     ]
    }
   ],
   "source": [
    "a/b"
   ]
  },
  {
   "cell_type": "markdown",
   "id": "a46475d5",
   "metadata": {},
   "source": [
    "### 인덱싱"
   ]
  },
  {
   "cell_type": "code",
   "execution_count": 54,
   "id": "81462865",
   "metadata": {},
   "outputs": [],
   "source": [
    "a = \"gangcheol\""
   ]
  },
  {
   "cell_type": "code",
   "execution_count": 55,
   "id": "73b22f4b",
   "metadata": {},
   "outputs": [
    {
     "data": {
      "text/plain": [
       "'g'"
      ]
     },
     "execution_count": 55,
     "metadata": {},
     "output_type": "execute_result"
    }
   ],
   "source": [
    "a[0]"
   ]
  },
  {
   "cell_type": "code",
   "execution_count": 56,
   "id": "87ebb51b",
   "metadata": {},
   "outputs": [
    {
     "data": {
      "text/plain": [
       "'l'"
      ]
     },
     "execution_count": 56,
     "metadata": {},
     "output_type": "execute_result"
    }
   ],
   "source": [
    "a[-1]"
   ]
  },
  {
   "cell_type": "code",
   "execution_count": 57,
   "id": "e07d3cf6",
   "metadata": {},
   "outputs": [
    {
     "data": {
      "text/plain": [
       "'angcheo'"
      ]
     },
     "execution_count": 57,
     "metadata": {},
     "output_type": "execute_result"
    }
   ],
   "source": [
    "a[1:-1]"
   ]
  },
  {
   "cell_type": "markdown",
   "id": "959b10cf",
   "metadata": {},
   "source": [
    "### 특수기능"
   ]
  },
  {
   "cell_type": "code",
   "execution_count": 61,
   "id": "fbc05bcb",
   "metadata": {},
   "outputs": [],
   "source": [
    "a = \"ABCD\"\n",
    "b = \"efgh\""
   ]
  },
  {
   "cell_type": "code",
   "execution_count": 62,
   "id": "b03a641d",
   "metadata": {},
   "outputs": [
    {
     "data": {
      "text/plain": [
       "('ABCD', 'efgh')"
      ]
     },
     "execution_count": 62,
     "metadata": {},
     "output_type": "execute_result"
    }
   ],
   "source": [
    "a,b"
   ]
  },
  {
   "cell_type": "code",
   "execution_count": 63,
   "id": "0735fe5d",
   "metadata": {},
   "outputs": [
    {
     "data": {
      "text/plain": [
       "('abcd', 'EFGH')"
      ]
     },
     "execution_count": 63,
     "metadata": {},
     "output_type": "execute_result"
    }
   ],
   "source": [
    "a.lower(),b.upper()"
   ]
  }
 ],
 "metadata": {
  "kernelspec": {
   "display_name": "Python 3 (ipykernel)",
   "language": "python",
   "name": "python3"
  },
  "language_info": {
   "codemirror_mode": {
    "name": "ipython",
    "version": 3
   },
   "file_extension": ".py",
   "mimetype": "text/x-python",
   "name": "python",
   "nbconvert_exporter": "python",
   "pygments_lexer": "ipython3",
   "version": "3.11.4"
  },
  "toc": {
   "base_numbering": 1,
   "nav_menu": {},
   "number_sections": false,
   "sideBar": true,
   "skip_h1_title": false,
   "title_cell": "Table of Contents",
   "title_sidebar": "Contents",
   "toc_cell": false,
   "toc_position": {
    "height": "calc(100% - 180px)",
    "left": "10px",
    "top": "150px",
    "width": "331.729px"
   },
   "toc_section_display": true,
   "toc_window_display": true
  }
 },
 "nbformat": 4,
 "nbformat_minor": 5
}
