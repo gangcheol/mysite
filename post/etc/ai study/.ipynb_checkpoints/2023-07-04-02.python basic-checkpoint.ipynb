{
 "cells": [
  {
   "cell_type": "raw",
   "id": "f3ab86e5",
   "metadata": {},
   "source": [
    "---\n",
    "title : \"02. Python basic\"\n",
    "author : \"GANGCHEOL LEE\"\n",
    "date : \"07/04/23\"\n",
    "categories : \"Python\"\n",
    "---"
   ]
  },
  {
   "cell_type": "markdown",
   "id": "ef051065",
   "metadata": {},
   "source": [
    "# Indexing"
   ]
  },
  {
   "cell_type": "code",
   "execution_count": 2,
   "id": "5b1cf2fb",
   "metadata": {},
   "outputs": [],
   "source": [
    "x = \"Rome is not built in a day!\""
   ]
  },
  {
   "cell_type": "code",
   "execution_count": 3,
   "id": "0c14dffc",
   "metadata": {},
   "outputs": [
    {
     "data": {
      "text/plain": [
       "'Rome is not built in a day!'"
      ]
     },
     "execution_count": 3,
     "metadata": {},
     "output_type": "execute_result"
    }
   ],
   "source": [
    "x"
   ]
  },
  {
   "cell_type": "code",
   "execution_count": 4,
   "id": "c6b435b6",
   "metadata": {},
   "outputs": [
    {
     "data": {
      "text/plain": [
       "'!'"
      ]
     },
     "execution_count": 4,
     "metadata": {},
     "output_type": "execute_result"
    }
   ],
   "source": [
    "x[-1]"
   ]
  },
  {
   "cell_type": "code",
   "execution_count": 5,
   "id": "09c62111",
   "metadata": {},
   "outputs": [
    {
     "data": {
      "text/plain": [
       "'R'"
      ]
     },
     "execution_count": 5,
     "metadata": {},
     "output_type": "execute_result"
    }
   ],
   "source": [
    "x[0]"
   ]
  },
  {
   "cell_type": "code",
   "execution_count": 6,
   "id": "51de273d",
   "metadata": {},
   "outputs": [
    {
     "data": {
      "text/plain": [
       "'y'"
      ]
     },
     "execution_count": 6,
     "metadata": {},
     "output_type": "execute_result"
    }
   ],
   "source": [
    "x[-2]"
   ]
  },
  {
   "cell_type": "code",
   "execution_count": 7,
   "id": "6a3fa4ac",
   "metadata": {},
   "outputs": [
    {
     "data": {
      "text/plain": [
       "'a'"
      ]
     },
     "execution_count": 7,
     "metadata": {},
     "output_type": "execute_result"
    }
   ],
   "source": [
    "x[-6]"
   ]
  },
  {
   "cell_type": "markdown",
   "id": "7e467792",
   "metadata": {},
   "source": [
    "# Slicing"
   ]
  },
  {
   "cell_type": "code",
   "execution_count": 9,
   "id": "68e9b2e3",
   "metadata": {},
   "outputs": [
    {
     "data": {
      "text/plain": [
       "'Ro'"
      ]
     },
     "execution_count": 9,
     "metadata": {},
     "output_type": "execute_result"
    }
   ],
   "source": [
    "x[0:2]"
   ]
  },
  {
   "cell_type": "code",
   "execution_count": 11,
   "id": "bcb507f7",
   "metadata": {},
   "outputs": [
    {
     "data": {
      "text/plain": [
       "'built in a day!'"
      ]
     },
     "execution_count": 11,
     "metadata": {},
     "output_type": "execute_result"
    }
   ],
   "source": [
    "x[12:]"
   ]
  },
  {
   "cell_type": "code",
   "execution_count": 12,
   "id": "88d0c783",
   "metadata": {},
   "outputs": [
    {
     "data": {
      "text/plain": [
       "'Rome is'"
      ]
     },
     "execution_count": 12,
     "metadata": {},
     "output_type": "execute_result"
    }
   ],
   "source": [
    "x[:7]"
   ]
  },
  {
   "cell_type": "code",
   "execution_count": 13,
   "id": "d45d1c1b",
   "metadata": {},
   "outputs": [
    {
     "data": {
      "text/plain": [
       "'built in'"
      ]
     },
     "execution_count": 13,
     "metadata": {},
     "output_type": "execute_result"
    }
   ],
   "source": [
    "x[12:-7]"
   ]
  },
  {
   "cell_type": "markdown",
   "id": "4ad6d1e7",
   "metadata": {},
   "source": [
    "##  Summary"
   ]
  },
  {
   "cell_type": "markdown",
   "id": "1895028a",
   "metadata": {},
   "source": [
    "`-` 내 생각 : 이런식으로 숫자값을 이용하면 먼가 코드의 확정성이 없는 것 같다...\n",
    "\n",
    "* map, lambda, list comprehension이 중요한 것 같다."
   ]
  },
  {
   "cell_type": "markdown",
   "id": "ef323457",
   "metadata": {},
   "source": [
    "# 자료형"
   ]
  },
  {
   "cell_type": "markdown",
   "id": "2c26bf6f",
   "metadata": {},
   "source": [
    "`-` String : 문자열 데이터"
   ]
  },
  {
   "cell_type": "markdown",
   "id": "04cb91ff",
   "metadata": {},
   "source": [
    "`-` integer : 정수형 데이터"
   ]
  },
  {
   "cell_type": "markdown",
   "id": "baaebf0e",
   "metadata": {},
   "source": [
    "`-` float : 실수형 데이터"
   ]
  },
  {
   "cell_type": "markdown",
   "id": "66065888",
   "metadata": {},
   "source": [
    "`-` list : 순서대로 정리된 항목들을 담는 구조"
   ]
  },
  {
   "cell_type": "markdown",
   "id": "17244a37",
   "metadata": {},
   "source": [
    "`-` Tuple : 리스트와 달리 요소들의 수정과 추가가 불가함"
   ]
  },
  {
   "cell_type": "markdown",
   "id": "c763bffa",
   "metadata": {},
   "source": [
    "## 리스트"
   ]
  },
  {
   "cell_type": "code",
   "execution_count": 18,
   "id": "584c6a06",
   "metadata": {},
   "outputs": [],
   "source": [
    "a = [1,2,3]"
   ]
  },
  {
   "cell_type": "code",
   "execution_count": 19,
   "id": "ea1d8132",
   "metadata": {},
   "outputs": [
    {
     "data": {
      "text/plain": [
       "[1, 2, 3]"
      ]
     },
     "execution_count": 19,
     "metadata": {},
     "output_type": "execute_result"
    }
   ],
   "source": [
    "a"
   ]
  },
  {
   "cell_type": "code",
   "execution_count": 22,
   "id": "a1b3314c",
   "metadata": {},
   "outputs": [
    {
     "data": {
      "text/plain": [
       "[1, 3, 5, 7, 9]"
      ]
     },
     "execution_count": 22,
     "metadata": {},
     "output_type": "execute_result"
    }
   ],
   "source": [
    "b= list(range(1,10,2))\n",
    "b"
   ]
  },
  {
   "cell_type": "markdown",
   "id": "5a5fad84",
   "metadata": {},
   "source": [
    "## 리스트 관련함수"
   ]
  },
  {
   "cell_type": "markdown",
   "id": "e2bce6bd",
   "metadata": {},
   "source": [
    "`-` append"
   ]
  },
  {
   "cell_type": "code",
   "execution_count": 33,
   "id": "41ddfe3f",
   "metadata": {},
   "outputs": [
    {
     "data": {
      "text/plain": [
       "['Red', 'Green', 'blue', 'yellow']"
      ]
     },
     "execution_count": 33,
     "metadata": {},
     "output_type": "execute_result"
    }
   ],
   "source": [
    "a = [\"Red\",\"Green\",\"blue\"]\n",
    "a.append(\"yellow\")\n",
    "a"
   ]
  },
  {
   "cell_type": "markdown",
   "id": "ce3d0eae",
   "metadata": {},
   "source": [
    "`-` insert"
   ]
  },
  {
   "cell_type": "code",
   "execution_count": 34,
   "id": "fd908be7",
   "metadata": {},
   "outputs": [
    {
     "data": {
      "text/plain": [
       "['Red', 'black', 'Green', 'blue', 'yellow']"
      ]
     },
     "execution_count": 34,
     "metadata": {},
     "output_type": "execute_result"
    }
   ],
   "source": [
    "a.insert(1,\"black\")\n",
    "a"
   ]
  },
  {
   "cell_type": "code",
   "execution_count": 35,
   "id": "70c0f090",
   "metadata": {},
   "outputs": [],
   "source": [
    "b = [\"purple\",\"white\"]\n",
    "a.extend(b)"
   ]
  },
  {
   "cell_type": "code",
   "execution_count": 36,
   "id": "5a3baf0a",
   "metadata": {},
   "outputs": [
    {
     "data": {
      "text/plain": [
       "['Red', 'black', 'Green', 'blue', 'yellow', 'purple', 'white']"
      ]
     },
     "execution_count": 36,
     "metadata": {},
     "output_type": "execute_result"
    }
   ],
   "source": [
    "a"
   ]
  },
  {
   "cell_type": "code",
   "execution_count": 37,
   "id": "83727eb2",
   "metadata": {},
   "outputs": [],
   "source": [
    "c = a+b"
   ]
  },
  {
   "cell_type": "code",
   "execution_count": 38,
   "id": "8d36c88e",
   "metadata": {},
   "outputs": [
    {
     "name": "stdout",
     "output_type": "stream",
     "text": [
      "['Red', 'black', 'Green', 'blue', 'yellow', 'purple', 'white', 'purple', 'white']\n"
     ]
    }
   ],
   "source": [
    "print(c)"
   ]
  },
  {
   "cell_type": "markdown",
   "id": "6e6d1c03",
   "metadata": {},
   "source": [
    "`-` remove"
   ]
  },
  {
   "cell_type": "code",
   "execution_count": 39,
   "id": "e7664f1f",
   "metadata": {},
   "outputs": [
    {
     "data": {
      "text/plain": [
       "[10, 20, 30, 40, 50, 60, 70, 80, 90, 100]"
      ]
     },
     "execution_count": 39,
     "metadata": {},
     "output_type": "execute_result"
    }
   ],
   "source": [
    "d = list(range(10,101,10))\n",
    "d"
   ]
  },
  {
   "cell_type": "code",
   "execution_count": 40,
   "id": "bdbcb0c1",
   "metadata": {},
   "outputs": [
    {
     "data": {
      "text/plain": [
       "[10, 20, 30, 40, 50, 60, 70, 80, 100]"
      ]
     },
     "execution_count": 40,
     "metadata": {},
     "output_type": "execute_result"
    }
   ],
   "source": [
    "d.remove(90)\n",
    "d"
   ]
  },
  {
   "cell_type": "markdown",
   "id": "e984e5a0",
   "metadata": {},
   "source": [
    "`-` count"
   ]
  },
  {
   "cell_type": "code",
   "execution_count": 42,
   "id": "a7e5918c",
   "metadata": {},
   "outputs": [
    {
     "data": {
      "text/plain": [
       "2"
      ]
     },
     "execution_count": 42,
     "metadata": {},
     "output_type": "execute_result"
    }
   ],
   "source": [
    "list1 = [\"a\",\"aaa\",\"aaa\"]\n",
    "\n",
    "list1.count(\"aaa\")"
   ]
  },
  {
   "cell_type": "code",
   "execution_count": 43,
   "id": "4f30fdeb",
   "metadata": {},
   "outputs": [],
   "source": [
    "list2 = [1,-2,3,0,4,-7]"
   ]
  },
  {
   "cell_type": "markdown",
   "id": "9bd13197",
   "metadata": {},
   "source": [
    "`-` sort"
   ]
  },
  {
   "cell_type": "code",
   "execution_count": 44,
   "id": "e4314e7d",
   "metadata": {},
   "outputs": [],
   "source": [
    "list2.sort(reverse = True)"
   ]
  },
  {
   "cell_type": "code",
   "execution_count": 46,
   "id": "e097f9e1",
   "metadata": {},
   "outputs": [
    {
     "data": {
      "text/plain": [
       "[4, 3, 1, 0, -2, -7]"
      ]
     },
     "execution_count": 46,
     "metadata": {},
     "output_type": "execute_result"
    }
   ],
   "source": [
    "list2"
   ]
  },
  {
   "cell_type": "markdown",
   "id": "94f17059",
   "metadata": {},
   "source": [
    "`-` pop"
   ]
  },
  {
   "cell_type": "code",
   "execution_count": 48,
   "id": "387fb29c",
   "metadata": {},
   "outputs": [
    {
     "data": {
      "text/plain": [
       "[20, 30, 40, 50, 60, 70, 80, 100]"
      ]
     },
     "execution_count": 48,
     "metadata": {},
     "output_type": "execute_result"
    }
   ],
   "source": [
    "d.pop(0)\n",
    "d"
   ]
  },
  {
   "cell_type": "markdown",
   "id": "a8b1d6fa",
   "metadata": {},
   "source": [
    "## 튜플"
   ]
  },
  {
   "cell_type": "markdown",
   "id": "47b8964f",
   "metadata": {},
   "source": [
    "* 요소의 추가, 수정이 불가"
   ]
  },
  {
   "cell_type": "code",
   "execution_count": 49,
   "id": "db977b44",
   "metadata": {},
   "outputs": [],
   "source": [
    "t1 = (\"b\",\"a\",\"c\")"
   ]
  },
  {
   "cell_type": "code",
   "execution_count": 50,
   "id": "4b3c0906",
   "metadata": {},
   "outputs": [
    {
     "data": {
      "text/plain": [
       "('b', 'a', 'c')"
      ]
     },
     "execution_count": 50,
     "metadata": {},
     "output_type": "execute_result"
    }
   ],
   "source": [
    "t1"
   ]
  },
  {
   "cell_type": "code",
   "execution_count": 51,
   "id": "42b0b8a5",
   "metadata": {},
   "outputs": [],
   "source": [
    "t2 = \"b\",\"a\",\"c\""
   ]
  },
  {
   "cell_type": "code",
   "execution_count": 52,
   "id": "0d71f252",
   "metadata": {},
   "outputs": [
    {
     "data": {
      "text/plain": [
       "('b', 'a', 'c')"
      ]
     },
     "execution_count": 52,
     "metadata": {},
     "output_type": "execute_result"
    }
   ],
   "source": [
    "t2"
   ]
  },
  {
   "cell_type": "markdown",
   "id": "1246b816",
   "metadata": {},
   "source": [
    "`-` t1과 t2는 사실상 동일한 튜플임"
   ]
  },
  {
   "cell_type": "markdown",
   "id": "bdd9b21a",
   "metadata": {},
   "source": [
    "`-` 아래처럼 요소 값을 변환할 경우 에러 발생"
   ]
  },
  {
   "cell_type": "code",
   "execution_count": 54,
   "id": "00e41ee6",
   "metadata": {},
   "outputs": [
    {
     "ename": "TypeError",
     "evalue": "'tuple' object does not support item assignment",
     "output_type": "error",
     "traceback": [
      "\u001b[1;31m---------------------------------------------------------------------------\u001b[0m",
      "\u001b[1;31mTypeError\u001b[0m                                 Traceback (most recent call last)",
      "\u001b[1;32m~\\AppData\\Local\\Temp\\ipykernel_23512\\3991560492.py\u001b[0m in \u001b[0;36m<module>\u001b[1;34m\u001b[0m\n\u001b[1;32m----> 1\u001b[1;33m \u001b[0mt2\u001b[0m\u001b[1;33m[\u001b[0m\u001b[1;36m0\u001b[0m\u001b[1;33m]\u001b[0m \u001b[1;33m=\u001b[0m \u001b[1;34m\"w\"\u001b[0m\u001b[1;33m\u001b[0m\u001b[1;33m\u001b[0m\u001b[0m\n\u001b[0m",
      "\u001b[1;31mTypeError\u001b[0m: 'tuple' object does not support item assignment"
     ]
    }
   ],
   "source": [
    "t2[0] = \"w\""
   ]
  },
  {
   "cell_type": "markdown",
   "id": "f470695f",
   "metadata": {},
   "source": [
    "## 딕셔너리"
   ]
  },
  {
   "cell_type": "code",
   "execution_count": 60,
   "id": "17a3ce66",
   "metadata": {},
   "outputs": [
    {
     "data": {
      "text/plain": [
       "{'name': '인지명', 'age': 30, 'email': 'dd@gam.com'}"
      ]
     },
     "execution_count": 60,
     "metadata": {},
     "output_type": "execute_result"
    }
   ],
   "source": [
    "m = {\"name\": \"인지명\",\"age\": 30, \"email\": \"dd@gam.com\"}\n",
    "m"
   ]
  },
  {
   "cell_type": "markdown",
   "id": "4356d726",
   "metadata": {},
   "source": [
    "`-` keys"
   ]
  },
  {
   "cell_type": "code",
   "execution_count": 61,
   "id": "41dbd9dd",
   "metadata": {},
   "outputs": [
    {
     "data": {
      "text/plain": [
       "dict_keys(['name', 'age', 'email'])"
      ]
     },
     "execution_count": 61,
     "metadata": {},
     "output_type": "execute_result"
    }
   ],
   "source": [
    "m.keys()"
   ]
  },
  {
   "cell_type": "code",
   "execution_count": 62,
   "id": "91aba9d3",
   "metadata": {},
   "outputs": [
    {
     "data": {
      "text/plain": [
       "dict_values(['인지명', 30, 'dd@gam.com'])"
      ]
     },
     "execution_count": 62,
     "metadata": {},
     "output_type": "execute_result"
    }
   ],
   "source": [
    "m.values()"
   ]
  },
  {
   "cell_type": "code",
   "execution_count": 63,
   "id": "94147ee7",
   "metadata": {},
   "outputs": [
    {
     "data": {
      "text/plain": [
       "dict_items([('name', '인지명'), ('age', 30), ('email', 'dd@gam.com')])"
      ]
     },
     "execution_count": 63,
     "metadata": {},
     "output_type": "execute_result"
    }
   ],
   "source": [
    "m.items()"
   ]
  },
  {
   "cell_type": "code",
   "execution_count": 66,
   "id": "4ddc4976",
   "metadata": {},
   "outputs": [
    {
     "data": {
      "text/plain": [
       "'인지명'"
      ]
     },
     "execution_count": 66,
     "metadata": {},
     "output_type": "execute_result"
    }
   ],
   "source": [
    "m.get(\"name\") # 키값으로 value를 추적"
   ]
  },
  {
   "cell_type": "code",
   "execution_count": 65,
   "id": "9d70255b",
   "metadata": {},
   "outputs": [
    {
     "data": {
      "text/plain": [
       "True"
      ]
     },
     "execution_count": 65,
     "metadata": {},
     "output_type": "execute_result"
    }
   ],
   "source": [
    "\"name\" in members"
   ]
  },
  {
   "cell_type": "code",
   "execution_count": 67,
   "id": "9a84c92a",
   "metadata": {},
   "outputs": [
    {
     "data": {
      "text/plain": [
       "False"
      ]
     },
     "execution_count": 67,
     "metadata": {},
     "output_type": "execute_result"
    }
   ],
   "source": [
    "\"birth\" in members"
   ]
  },
  {
   "cell_type": "code",
   "execution_count": 68,
   "id": "f2ad63f3",
   "metadata": {},
   "outputs": [
    {
     "data": {
      "text/plain": [
       "{}"
      ]
     },
     "execution_count": 68,
     "metadata": {},
     "output_type": "execute_result"
    }
   ],
   "source": [
    "m.clear()\n",
    "m"
   ]
  },
  {
   "cell_type": "markdown",
   "id": "6317ef4f",
   "metadata": {},
   "source": [
    "## 리스트, 튜플, 딕셔너리 차이"
   ]
  },
  {
   "cell_type": "markdown",
   "id": "54a90814",
   "metadata": {},
   "source": [
    "|구분|설명|\n",
    "|:-------:|:--:|\n",
    "|리스트|순서대로 정리된 항목들을 담는 자료구조|\n",
    "|튜플|리스트와 비슷하지만 요소 추가, 수정 불가|\n",
    "|딕셔너리|key와 value로 구성되는 자료구조|"
   ]
  }
 ],
 "metadata": {
  "kernelspec": {
   "display_name": "Python 3 (ipykernel)",
   "language": "python",
   "name": "python3"
  },
  "language_info": {
   "codemirror_mode": {
    "name": "ipython",
    "version": 3
   },
   "file_extension": ".py",
   "mimetype": "text/x-python",
   "name": "python",
   "nbconvert_exporter": "python",
   "pygments_lexer": "ipython3",
   "version": "3.9.13"
  },
  "toc": {
   "base_numbering": 1,
   "nav_menu": {},
   "number_sections": false,
   "sideBar": true,
   "skip_h1_title": false,
   "title_cell": "Table of Contents",
   "title_sidebar": "Contents",
   "toc_cell": false,
   "toc_position": {
    "height": "calc(100% - 180px)",
    "left": "10px",
    "top": "150px",
    "width": "331.729px"
   },
   "toc_section_display": true,
   "toc_window_display": true
  }
 },
 "nbformat": 4,
 "nbformat_minor": 5
}
