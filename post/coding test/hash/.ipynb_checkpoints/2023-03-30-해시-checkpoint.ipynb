{
 "cells": [
  {
   "cell_type": "raw",
   "metadata": {},
   "source": [
    "---\n",
    "title : \"01. 코딩테스트 고득점 Kit 맛보기\"\n",
    "date : \"03/30/23\"\n",
    "author : \"GANGCHEOL LEE\"\n",
    "categories : [\"Python\",\"coding test\"]\n",
    "---"
   ]
  },
  {
   "cell_type": "markdown",
   "metadata": {
    "id": "8Qxky9XIKqXa"
   },
   "source": [
    "# 1. 폰켓몬"
   ]
  },
  {
   "cell_type": "markdown",
   "metadata": {
    "id": "wIO2cdkLLA47"
   },
   "source": [
    "당신은 폰켓몬을 잡기 위한 오랜 여행 끝에, 홍 박사님의 연구실에 도착했습니다. 홍 박사님은 당신에게 자신의 연구실에 있는 총 N 마리의 폰켓몬 중에서 N/2마리를 가져가도 좋다고 했습니다.\n",
    "홍 박사님 연구실의 폰켓몬은 종류에 따라 번호를 붙여 구분합니다. 따라서 같은 종류의 폰켓몬은 같은 번호를 가지고 있습니다. 예를 들어 연구실에 총 4마리의 폰켓몬이 있고, 각 폰켓몬의 종류 번호가 [3번, 1번, 2번, 3번]이라면 이는 3번 폰켓몬 두 마리, 1번 폰켓몬 한 마리, 2번 폰켓몬 한 마리가 있음을 나타냅니다. 이때, 4마리의 폰켓몬 중 2마리를 고르는 방법은 다음과 같이 6가지가 있습니다."
   ]
  },
  {
   "cell_type": "markdown",
   "metadata": {
    "id": "mt2b7ndsLQD7"
   },
   "source": [
    "첫 번째(3번), 두 번째(1번) 폰켓몬을 선택\n",
    "\n",
    "첫 번째(3번), 세 번째(2번) 폰켓몬을 선택\n",
    "\n",
    "첫 번째(3번), 네 번째(3번) 폰켓몬을 선택\n",
    "\n",
    "두 번째(1번), 세 번째(2번) 폰켓몬을 선택\n",
    "\n",
    "두 번째(1번), 네 번째(3번) 폰켓몬을 선택\n",
    "\n",
    "세 번째(2번), 네 번째(3번) 폰켓몬을 선택"
   ]
  },
  {
   "cell_type": "markdown",
   "metadata": {
    "id": "rdPAWAXtLdVh"
   },
   "source": [
    "이때, 첫 번째(3번) 폰켓몬과 네 번째(3번) 폰켓몬을 선택하는 방법은 한 종류(3번 폰켓몬 두 마리)의 폰켓몬만 가질 수 있지만, 다른 방법들은 모두 두 종류의 폰켓몬을 가질 수 있습니다. 따라서 위 예시에서 가질 수 있는 폰켓몬 종류 수의 최댓값은 2가 됩니다.\n",
    "당신은 최대한 다양한 종류의 폰켓몬을 가지길 원하기 때문에, 최대한 많은 종류의 폰켓몬을 포함해서 N/2마리를 선택하려 합니다. N마리 폰켓몬의 종류 번호가 담긴 배열 nums가 매개변수로 주어질 때, N/2마리의 폰켓몬을 선택하는 방법 중, 가장 많은 종류의 폰켓몬을 선택하는 방법을 찾아, 그때의 폰켓몬 종류 번호의 개수를 return 하도록 solution 함수를 완성해주세요."
   ]
  },
  {
   "cell_type": "markdown",
   "metadata": {
    "id": "Mjf-E0P7L5YU"
   },
   "source": [
    "## Solution"
   ]
  },
  {
   "cell_type": "code",
   "execution_count": 22,
   "metadata": {
    "executionInfo": {
     "elapsed": 2,
     "status": "ok",
     "timestamp": 1680158617646,
     "user": {
      "displayName": "이강철",
      "userId": "13507850890638580947"
     },
     "user_tz": -540
    },
    "id": "wsAqP5iOMFNP"
   },
   "outputs": [],
   "source": [
    "ls1 = [3,3,3,3]\n",
    "ls2 = [3,3,3,2,2,3]\n",
    "ls3 = [3,3,3,2,2,2]"
   ]
  },
  {
   "cell_type": "markdown",
   "metadata": {
    "id": "CGcm4IdvO6t2"
   },
   "source": [
    "`-` 해설 : $N/2$ 마리 중 가장 많은 폰켓몬 종류를 뽑는 방법을 물어보는 문제"
   ]
  },
  {
   "cell_type": "markdown",
   "metadata": {
    "id": "NaDSBojxQLD2"
   },
   "source": [
    "* 그렇다면, 전체 폰켓몬의 유니크한 개수와, $N/2$를 비교해 적은 수를 뽑으면 된다."
   ]
  },
  {
   "cell_type": "code",
   "execution_count": 23,
   "metadata": {
    "executionInfo": {
     "elapsed": 2,
     "status": "ok",
     "timestamp": 1680158619268,
     "user": {
      "displayName": "이강철",
      "userId": "13507850890638580947"
     },
     "user_tz": -540
    },
    "id": "YHh7meGjLyb7"
   },
   "outputs": [],
   "source": [
    "def solution(ls):\n",
    "    return min(len(ls)/2, len(set(ls)))"
   ]
  },
  {
   "cell_type": "code",
   "execution_count": 24,
   "metadata": {
    "colab": {
     "base_uri": "https://localhost:8080/"
    },
    "executionInfo": {
     "elapsed": 294,
     "status": "ok",
     "timestamp": 1680158619991,
     "user": {
      "displayName": "이강철",
      "userId": "13507850890638580947"
     },
     "user_tz": -540
    },
    "id": "BM7JV2O3O09V",
    "outputId": "58fa0e94-36d1-4f96-b9ee-40518bb17838"
   },
   "outputs": [
    {
     "data": {
      "text/plain": [
       "(1, 2, 2)"
      ]
     },
     "execution_count": 24,
     "metadata": {},
     "output_type": "execute_result"
    }
   ],
   "source": [
    "solution(ls1), solution(ls2), solution(ls3) "
   ]
  },
  {
   "cell_type": "markdown",
   "metadata": {
    "id": "QTg-5ESCQ5Fe"
   },
   "source": [
    "# 2. 완주하지 못한 선수"
   ]
  },
  {
   "cell_type": "markdown",
   "metadata": {
    "id": "nuoFwE56Q8SU"
   },
   "source": [
    "수많은 마라톤 선수들이 마라톤에 참여하였습니다. 단 한 명의 선수를 제외하고는 모든 선수가 마라톤을 완주하였습니다.\n",
    "\n",
    "마라톤에 참여한 선수들의 이름이 담긴 배열 participant와 완주한 선수들의 이름이 담긴 배열 completion이 주어질 때, 완주하지 못한 선수의 이름을 return 하도록 solution 함수를 작성해주세요."
   ]
  },
  {
   "cell_type": "markdown",
   "metadata": {
    "id": "nLkS9_E6REHW"
   },
   "source": [
    "제안사항\n",
    "\n",
    "* 마라톤 경기에 참여한 선수의 수는 1명 이상 100,000명 이하입니다.\n",
    "\n",
    "* completion의 길이는 participant의 길이보다 1 작습니다\n",
    "\n",
    "* 참가자의 이름은 1개 이상 20개 이하의 알파벳 소문자로 이루어져 있습니다.\n",
    "\n",
    "* 참가자 중에는 동명이인이 있을 수 있습니다"
   ]
  },
  {
   "cell_type": "code",
   "execution_count": 59,
   "metadata": {
    "executionInfo": {
     "elapsed": 3,
     "status": "ok",
     "timestamp": 1680160519942,
     "user": {
      "displayName": "이강철",
      "userId": "13507850890638580947"
     },
     "user_tz": -540
    },
    "id": "s7J5feORTP4h"
   },
   "outputs": [],
   "source": [
    "p1 = [\"leo\", \"kiki\", \"eden\"]\n",
    "p2 = [\"marina\", \"josipa\", \"nikola\", \"vinko\", \"filipa\"]\n",
    "p3 = [\"mislav\", \"stanko\", \"mislav\", \"ana\"]\n",
    "\n",
    "c1 = [\"eden\", \"kiki\"]\n",
    "c2 = [\"josipa\", \"filipa\", \"marina\", \"nikola\"]\n",
    "c3 = [\"stanko\", \"ana\", \"mislav\"]"
   ]
  },
  {
   "cell_type": "markdown",
   "metadata": {
    "id": "97WWdCT-ZqKd"
   },
   "source": [
    "## Solution"
   ]
  },
  {
   "cell_type": "code",
   "execution_count": 85,
   "metadata": {
    "colab": {
     "base_uri": "https://localhost:8080/"
    },
    "executionInfo": {
     "elapsed": 1,
     "status": "ok",
     "timestamp": 1680160834181,
     "user": {
      "displayName": "이강철",
      "userId": "13507850890638580947"
     },
     "user_tz": -540
    },
    "id": "k3T9OOhbYBZ3",
    "outputId": "c63d2135-9266-4c4c-d4b3-0503bd740296"
   },
   "outputs": [
    {
     "data": {
      "text/plain": [
       "Counter({'mislav': 2, 'stanko': 1, 'ana': 1})"
      ]
     },
     "execution_count": 85,
     "metadata": {},
     "output_type": "execute_result"
    }
   ],
   "source": [
    "collections.Counter(p3)"
   ]
  },
  {
   "cell_type": "code",
   "execution_count": 86,
   "metadata": {
    "colab": {
     "base_uri": "https://localhost:8080/"
    },
    "executionInfo": {
     "elapsed": 2,
     "status": "ok",
     "timestamp": 1680160837041,
     "user": {
      "displayName": "이강철",
      "userId": "13507850890638580947"
     },
     "user_tz": -540
    },
    "id": "c8FU4eZoYIF2",
    "outputId": "b5e8579a-3285-4a61-b188-c78bbba7510f"
   },
   "outputs": [
    {
     "data": {
      "text/plain": [
       "Counter({'stanko': 1, 'ana': 1, 'mislav': 1})"
      ]
     },
     "execution_count": 86,
     "metadata": {},
     "output_type": "execute_result"
    }
   ],
   "source": [
    " collections.Counter(c3)"
   ]
  },
  {
   "cell_type": "code",
   "execution_count": 87,
   "metadata": {
    "executionInfo": {
     "elapsed": 2,
     "status": "ok",
     "timestamp": 1680160842656,
     "user": {
      "displayName": "이강철",
      "userId": "13507850890638580947"
     },
     "user_tz": -540
    },
    "id": "NpYh5wJzYLf2"
   },
   "outputs": [],
   "source": [
    "answer = collections.Counter(p3) - collections.Counter(c3)"
   ]
  },
  {
   "cell_type": "code",
   "execution_count": 88,
   "metadata": {
    "colab": {
     "base_uri": "https://localhost:8080/"
    },
    "executionInfo": {
     "elapsed": 3,
     "status": "ok",
     "timestamp": 1680160843929,
     "user": {
      "displayName": "이강철",
      "userId": "13507850890638580947"
     },
     "user_tz": -540
    },
    "id": "drb2PGhFYgqh",
    "outputId": "f99680dd-a730-41c3-e871-4015c6eb97ea"
   },
   "outputs": [
    {
     "data": {
      "text/plain": [
       "Counter({'mislav': 1})"
      ]
     },
     "execution_count": 88,
     "metadata": {},
     "output_type": "execute_result"
    }
   ],
   "source": [
    "answer"
   ]
  },
  {
   "cell_type": "code",
   "execution_count": 89,
   "metadata": {
    "colab": {
     "base_uri": "https://localhost:8080/"
    },
    "executionInfo": {
     "elapsed": 4,
     "status": "ok",
     "timestamp": 1680160845755,
     "user": {
      "displayName": "이강철",
      "userId": "13507850890638580947"
     },
     "user_tz": -540
    },
    "id": "Pl-_baNHYj15",
    "outputId": "eb70c66d-7fbc-4f7e-b7f3-b5c892c479f5"
   },
   "outputs": [
    {
     "data": {
      "text/plain": [
       "['mislav']"
      ]
     },
     "execution_count": 89,
     "metadata": {},
     "output_type": "execute_result"
    }
   ],
   "source": [
    "list(answer.keys())"
   ]
  },
  {
   "cell_type": "code",
   "execution_count": 77,
   "metadata": {
    "executionInfo": {
     "elapsed": 2,
     "status": "ok",
     "timestamp": 1680160772639,
     "user": {
      "displayName": "이강철",
      "userId": "13507850890638580947"
     },
     "user_tz": -540
    },
    "id": "O5iW_U18TbDw"
   },
   "outputs": [],
   "source": [
    "import collections\n",
    "\n",
    "\n",
    "def solution(participant, completion):\n",
    "    answer = collections.Counter(participant) - collections.Counter(completion)\n",
    "    return list(answer.keys())"
   ]
  },
  {
   "cell_type": "code",
   "execution_count": 82,
   "metadata": {
    "colab": {
     "base_uri": "https://localhost:8080/"
    },
    "executionInfo": {
     "elapsed": 2,
     "status": "ok",
     "timestamp": 1680160812462,
     "user": {
      "displayName": "이강철",
      "userId": "13507850890638580947"
     },
     "user_tz": -540
    },
    "id": "gS3hrKqbYtPj",
    "outputId": "8495a412-c793-41a6-98c1-4da366e2d537"
   },
   "outputs": [
    {
     "data": {
      "text/plain": [
       "['leo']"
      ]
     },
     "execution_count": 82,
     "metadata": {},
     "output_type": "execute_result"
    }
   ],
   "source": [
    "solution(p1,c1)"
   ]
  },
  {
   "cell_type": "code",
   "execution_count": 83,
   "metadata": {
    "colab": {
     "base_uri": "https://localhost:8080/"
    },
    "executionInfo": {
     "elapsed": 4,
     "status": "ok",
     "timestamp": 1680160816935,
     "user": {
      "displayName": "이강철",
      "userId": "13507850890638580947"
     },
     "user_tz": -540
    },
    "id": "DCZehVdfY2rD",
    "outputId": "55ca0404-4b60-4ff6-b4b6-7160cb34ef4a"
   },
   "outputs": [
    {
     "data": {
      "text/plain": [
       "['vinko']"
      ]
     },
     "execution_count": 83,
     "metadata": {},
     "output_type": "execute_result"
    }
   ],
   "source": [
    "solution(p2,c2)"
   ]
  },
  {
   "cell_type": "code",
   "execution_count": 84,
   "metadata": {
    "colab": {
     "base_uri": "https://localhost:8080/"
    },
    "executionInfo": {
     "elapsed": 5,
     "status": "ok",
     "timestamp": 1680160821297,
     "user": {
      "displayName": "이강철",
      "userId": "13507850890638580947"
     },
     "user_tz": -540
    },
    "id": "27S25zmUY3za",
    "outputId": "7c5659ef-c5f2-4036-e3c4-43c1e29a4c6d"
   },
   "outputs": [
    {
     "data": {
      "text/plain": [
       "['mislav']"
      ]
     },
     "execution_count": 84,
     "metadata": {},
     "output_type": "execute_result"
    }
   ],
   "source": [
    "solution(p3,c3)"
   ]
  },
  {
   "cell_type": "markdown",
   "metadata": {
    "id": "G_x-z89fZAQz"
   },
   "source": [
    "# 3. 전화번호 목록"
   ]
  },
  {
   "cell_type": "markdown",
   "metadata": {
    "id": "gBKtxIqbZJjD"
   },
   "source": [
    "전화번호부에 적힌 전화번호 중, 한 번호가 다른 번호의 접두어인 경우가 있는지 확인하려 합니다.\n",
    "전화번호가 다음과 같을 경우, 구조대 전화번호는 영석이의 전화번호의 접두사입니다."
   ]
  },
  {
   "cell_type": "markdown",
   "metadata": {
    "id": "JwlNqml-ZOik"
   },
   "source": [
    "* 구조대 : 119\n",
    "* 박준영 : 97 674 223\n",
    "* 지영석 : 11 9552 4421"
   ]
  },
  {
   "cell_type": "markdown",
   "metadata": {
    "id": "sjvtslHlZUF0"
   },
   "source": [
    "전화번호부에 적힌 전화번호를 담은 배열 phone_book 이 solution 함수의 매개변수로 주어질 때, 어떤 번호가 다른 번호의 접두어인 경우가 있으면 false를 그렇지 않으면 true를 return 하도록 solution 함수를 작성해주세요."
   ]
  },
  {
   "cell_type": "markdown",
   "metadata": {
    "id": "TMgC4vo4Zbr8"
   },
   "source": [
    "제한사항\n",
    "\n",
    "* phone_book의 길이는 1 이상 1,000,000 이하입니다.\n",
    "* 각 전화번호의 길이는 1 이상 20 이하입니다.\n",
    "* 같은 전화번호가 중복해서 들어있지 않습니다."
   ]
  },
  {
   "cell_type": "markdown",
   "metadata": {
    "id": "yOI5aGFJa30r"
   },
   "source": [
    "## Solution"
   ]
  },
  {
   "cell_type": "code",
   "execution_count": 93,
   "metadata": {
    "executionInfo": {
     "elapsed": 2,
     "status": "ok",
     "timestamp": 1680161531799,
     "user": {
      "displayName": "이강철",
      "userId": "13507850890638580947"
     },
     "user_tz": -540
    },
    "id": "92FZD1Osbic4"
   },
   "outputs": [],
   "source": [
    "p1 = [\"119\", \"97674223\", \"1195524421\"]\t\n",
    "p2 = [\"123\",\"456\",\"789\"]\n",
    "p3 = [\"12\",\"123\",\"1235\",\"567\",\"88\"]"
   ]
  },
  {
   "cell_type": "code",
   "execution_count": 100,
   "metadata": {
    "executionInfo": {
     "elapsed": 346,
     "status": "ok",
     "timestamp": 1680161693586,
     "user": {
      "displayName": "이강철",
      "userId": "13507850890638580947"
     },
     "user_tz": -540
    },
    "id": "9QYqJjkMa5Qi"
   },
   "outputs": [],
   "source": [
    "def s (p) :\n",
    "    ans = True\n",
    "    hash_map = {}\n",
    "    for p_n in p :\n",
    "        hash_map[p_n] = 1\n",
    "    for p_n in p :\n",
    "        temp = \"\"\n",
    "        for number in p_n : \n",
    "            temp +=number\n",
    "            if temp in hash_map and temp != p_n :\n",
    "               ans = False\n",
    "    return ans    "
   ]
  },
  {
   "cell_type": "markdown",
   "metadata": {
    "id": "wHLWzpgycOFO"
   },
   "source": [
    "# 4. 위장"
   ]
  },
  {
   "cell_type": "markdown",
   "metadata": {
    "id": "WQQ6u2aNcYOO"
   },
   "source": [
    "스파이들은 매일 다른 옷을 조합하여 입어 자신을 위장합니다.\n",
    "\n",
    "예를 들어 스파이가 가진 옷이 아래와 같고 오늘 스파이가 동그란 안경, 긴 코트, 파란색 티셔츠를 입었다면 다음날은 청바지를 추가로 입거나 동그란 안경 대신 검정 선글라스를 착용하거나 해야 합니다."
   ]
  },
  {
   "cell_type": "markdown",
   "metadata": {
    "id": "5sgAZhrTcaOm"
   },
   "source": [
    "종류 |\t이름\n",
    "\n",
    "얼굴 | 동그란 안경, 검정 선글라스\n",
    "\n",
    "상의 | 파란색 티셔츠\n",
    "\n",
    "하의 | 청바지\n",
    "\n",
    "겉옷 | 긴 코트"
   ]
  },
  {
   "cell_type": "markdown",
   "metadata": {
    "id": "icN7KJpJcrZV"
   },
   "source": [
    "스파이가 가진 의상들이 담긴 2차원 배열 clothes가 주어질 때 서로 다른 옷의 조합의 수를 return 하도록 solution 함수를 작성해주세요."
   ]
  },
  {
   "cell_type": "markdown",
   "metadata": {
    "id": "2cEEsHL5czqG"
   },
   "source": [
    "제한사항\n",
    "* clothes의 각 행은 [의상의 이름, 의상의 종류]로 이루어져 있습니다.\n",
    "* 스파이가 가진 의상의 수는 1개 이상 30개 이하입니다.\n",
    "* 같은 이름을 가진 의상은 존재하지 않습니다.\n",
    "* clothes의 모든 원소는 문자열로 이루어져 있습니다.\n",
    "* 모든 문자열의 길이는 1 이상 20 이하인 자연수이고 알파벳 소문자 또는 '_' 로만 이루어져 있습니다.\n",
    "* 스파이는 하루에 최소 한 개의 의상은 입습니다."
   ]
  },
  {
   "cell_type": "code",
   "execution_count": 103,
   "metadata": {
    "executionInfo": {
     "elapsed": 3,
     "status": "ok",
     "timestamp": 1680162050068,
     "user": {
      "displayName": "이강철",
      "userId": "13507850890638580947"
     },
     "user_tz": -540
    },
    "id": "Ss0Uff4zc9g9"
   },
   "outputs": [],
   "source": [
    "c1 = [[\"yellow_hat\", \"headgear\"], [\"blue_sunglasses\", \"eyewear\"], [\"green_turban\", \"headgear\"]]\n",
    "c2 = [[\"crow_mask\", \"face\"], [\"blue_sunglasses\", \"face\"], [\"smoky_makeup\", \"face\"]]"
   ]
  },
  {
   "cell_type": "markdown",
   "metadata": {
    "id": "lH5zas4bdSdQ"
   },
   "source": [
    "입출력 예 `c1` 설명\n",
    "\n",
    "1. yellow_hat\n",
    "2. blue_sunglasses\n",
    "3. green_turban\n",
    "4. yellow_hat + blue_sunglasses\n",
    "5. green_turban + blue_sunglasses\n"
   ]
  },
  {
   "cell_type": "markdown",
   "metadata": {
    "id": "aMPrDNtydDlH"
   },
   "source": [
    "## Solution"
   ]
  },
  {
   "cell_type": "markdown",
   "metadata": {
    "id": "dEKJoExTf5IF"
   },
   "source": [
    "`-` 이거 왜그런지 모르겠음.."
   ]
  },
  {
   "cell_type": "code",
   "execution_count": 121,
   "metadata": {
    "executionInfo": {
     "elapsed": 410,
     "status": "ok",
     "timestamp": 1680162656811,
     "user": {
      "displayName": "이강철",
      "userId": "13507850890638580947"
     },
     "user_tz": -540
    },
    "id": "Dd-g63wjf4Yd"
   },
   "outputs": [],
   "source": [
    "def solution(clothes):\n",
    "    clothes_type = {}\n",
    "\n",
    "    for c, t in clothes:\n",
    "        if t not in clothes_type:\n",
    "            clothes_type[t] = 2\n",
    "        else:\n",
    "            clothes_type[t] += 1\n",
    "\n",
    "    cnt = 1\n",
    "    for num in clothes_type.values():\n",
    "        cnt *= num\n",
    "\n",
    "    return cnt - 1"
   ]
  },
  {
   "cell_type": "markdown",
   "metadata": {
    "id": "P9Wn9dujgCNo"
   },
   "source": [
    "# 5. 베스트앨범"
   ]
  },
  {
   "cell_type": "markdown",
   "metadata": {
    "id": "tDjO_NydgGEU"
   },
   "source": [
    "스트리밍 사이트에서 장르 별로 가장 많이 재생된 노래를 두 개씩 모아 베스트 앨범을 출시하려 합니다. 노래는 고유 번호로 구분하며, 노래를 수록하는 기준은 다음과 같습니다."
   ]
  },
  {
   "cell_type": "markdown",
   "metadata": {
    "id": "9zudY1uEgKUt"
   },
   "source": [
    "1. 속한 노래가 많이 재생된 장르를 먼저 수록합니다.\n",
    "2. 장르 내에서 많이 재생된 노래를 먼저 수록합니다.\n",
    "3. 장르 내에서 재생 횟수가 같은 노래 중에서는 고유 번호가 낮은 노래를 먼저 수록합니다."
   ]
  },
  {
   "cell_type": "markdown",
   "metadata": {
    "id": "YNPGYSAKgUi2"
   },
   "source": [
    "노래의 장르를 나타내는 문자열 배열 genres와 노래별 재생 횟수를 나타내는 정수 배열 plays가 주어질 때, 베스트 앨범에 들어갈 노래의 고유 번호를 순서대로 return 하도록 solution 함수를 완성하세요.\n",
    "\n",
    "## 제한사항"
   ]
  },
  {
   "cell_type": "markdown",
   "metadata": {
    "id": "tJOfcqJsgZlt"
   },
   "source": [
    "* genres[i]는 고유번호가 i인 노래의 장르입니다.\n",
    "* plays[i]는 고유번호가 i인 노래가 재생된 횟수입니다.\n",
    "* genres와 plays의 길이는 같으며, 이는 1 이상 10,000 이하입니다.\n",
    "* 장르 종류는 100개 미만입니다.\n",
    "* 장르에 속한 곡이 하나라면, 하나의 곡만 선택합니다.\n",
    "* 모든 장르는 재생된 횟수가 다릅니다."
   ]
  },
  {
   "cell_type": "markdown",
   "metadata": {
    "id": "jXjjT-SGg3Z3"
   },
   "source": [
    "## 입출력 예시"
   ]
  },
  {
   "cell_type": "code",
   "execution_count": 128,
   "metadata": {
    "executionInfo": {
     "elapsed": 2,
     "status": "ok",
     "timestamp": 1680163237453,
     "user": {
      "displayName": "이강철",
      "userId": "13507850890638580947"
     },
     "user_tz": -540
    },
    "id": "DQpSIgj8gePu"
   },
   "outputs": [],
   "source": [
    "genres = [\"classic\", \"pop\", \"classic\", \"classic\", \"pop\"]\n",
    "plays = [500,600,150,800,2500]"
   ]
  },
  {
   "cell_type": "markdown",
   "metadata": {
    "id": "XXbMuN_Tg5r4"
   },
   "source": [
    "classic 장르는 1,450회 재생되었으며, classic 노래는 다음과 같습니다.\n",
    "\n",
    "* 고유 번호 3: 800회 재생\n",
    "* 고유 번호 0: 500회 재생\n",
    "* 고유 번호 2: 150회 재생\n",
    "\n",
    "pop 장르는 3,100회 재생되었으며, pop 노래는 다음과 같습니다.\n",
    "\n",
    "* 고유 번호 4: 2,500회 재생\n",
    "* 고유 번호 1: 600회 재생\n",
    "\n",
    "따라서 pop 장르의 [4, 1]번 노래를 먼저, classic 장르의 [3, 0]번 노래를 그다음에 수록합니다.\n",
    "\n",
    "장르 별로 가장 많이 재생된 노래를 최대 두 개까지 모아 베스트 앨범을 출시하므로 2번 노래는 수록되지 않습니다."
   ]
  },
  {
   "cell_type": "markdown",
   "metadata": {
    "id": "Wms8cXoDhRS5"
   },
   "source": [
    "## Solution"
   ]
  },
  {
   "cell_type": "code",
   "execution_count": 141,
   "metadata": {
    "colab": {
     "base_uri": "https://localhost:8080/"
    },
    "executionInfo": {
     "elapsed": 3,
     "status": "ok",
     "timestamp": 1680163552002,
     "user": {
      "displayName": "이강철",
      "userId": "13507850890638580947"
     },
     "user_tz": -540
    },
    "id": "FvDqMCtUhTeB",
    "outputId": "13e1475f-987e-4222-b4d5-6480c28e2bf0"
   },
   "outputs": [
    {
     "data": {
      "text/plain": [
       "[4, 1, 3, 0]"
      ]
     },
     "execution_count": 141,
     "metadata": {},
     "output_type": "execute_result"
    }
   ],
   "source": [
    "answer = [4,1,3,0]\n",
    "answer"
   ]
  },
  {
   "cell_type": "code",
   "execution_count": 169,
   "metadata": {
    "executionInfo": {
     "elapsed": 3,
     "status": "ok",
     "timestamp": 1680164250901,
     "user": {
      "displayName": "이강철",
      "userId": "13507850890638580947"
     },
     "user_tz": -540
    },
    "id": "YpqwAl8MirdN"
   },
   "outputs": [],
   "source": [
    "genres = [\"classic\", \"pop\", \"classic\", \"classic\", \"pop\"]\n",
    "plays = [500,600,150,800,2500]"
   ]
  },
  {
   "cell_type": "code",
   "execution_count": 175,
   "metadata": {
    "executionInfo": {
     "elapsed": 275,
     "status": "ok",
     "timestamp": 1680164428444,
     "user": {
      "displayName": "이강철",
      "userId": "13507850890638580947"
     },
     "user_tz": -540
    },
    "id": "T6GJ0fLjh8XN"
   },
   "outputs": [],
   "source": [
    "answer = []\n",
    "\n",
    "dic1 = {}\n",
    "dic2 = {}"
   ]
  },
  {
   "cell_type": "markdown",
   "metadata": {
    "id": "In9RbyPAmbHO"
   },
   "source": [
    "`-` enumerate : 인덱스와 원소로 이루어진 튜플을 만들어줌\n",
    "\n",
    "* 장르별 고유번호와 재생횟수를 가지는 `dic1` 을 만듬\n",
    "\n",
    "* 장르별 총 재생횟수를 기록하는 `dic2` 를 만듬"
   ]
  },
  {
   "cell_type": "code",
   "execution_count": 178,
   "metadata": {
    "executionInfo": {
     "elapsed": 298,
     "status": "ok",
     "timestamp": 1680164509978,
     "user": {
      "displayName": "이강철",
      "userId": "13507850890638580947"
     },
     "user_tz": -540
    },
    "id": "rWiJHfSXmlCg"
   },
   "outputs": [],
   "source": [
    "answer = []\n",
    "\n",
    "dic1 = {}\n",
    "dic2 = {}\n",
    "\n",
    "for i, (g,p) in enumerate(zip(genres, plays)) : \n",
    "    if g not in dic1 :\n",
    "        dic1[g] = [(i,p)]\n",
    "    else :\n",
    "        dic1[g].append((i,p))\n",
    "    \n",
    "    if g not in dic2:\n",
    "        dic2[g] = p\n",
    "    else :\n",
    "        dic2[g] += p "
   ]
  },
  {
   "cell_type": "code",
   "execution_count": 179,
   "metadata": {
    "colab": {
     "base_uri": "https://localhost:8080/"
    },
    "executionInfo": {
     "elapsed": 4,
     "status": "ok",
     "timestamp": 1680164515521,
     "user": {
      "displayName": "이강철",
      "userId": "13507850890638580947"
     },
     "user_tz": -540
    },
    "id": "sqoZm754m9yB",
    "outputId": "d3ac69bd-e0c3-4c1f-fa11-bedd34910ade"
   },
   "outputs": [
    {
     "data": {
      "text/plain": [
       "{'classic': [(0, 500), (2, 150), (3, 800)], 'pop': [(1, 600), (4, 2500)]}"
      ]
     },
     "execution_count": 179,
     "metadata": {},
     "output_type": "execute_result"
    }
   ],
   "source": [
    "dic1"
   ]
  },
  {
   "cell_type": "code",
   "execution_count": 180,
   "metadata": {
    "colab": {
     "base_uri": "https://localhost:8080/"
    },
    "executionInfo": {
     "elapsed": 6,
     "status": "ok",
     "timestamp": 1680164517690,
     "user": {
      "displayName": "이강철",
      "userId": "13507850890638580947"
     },
     "user_tz": -540
    },
    "id": "0tfAPJJpm-zY",
    "outputId": "7d7b3103-0235-4dc7-8aac-75368ca8f802"
   },
   "outputs": [
    {
     "data": {
      "text/plain": [
       "{'classic': 1450, 'pop': 3100}"
      ]
     },
     "execution_count": 180,
     "metadata": {},
     "output_type": "execute_result"
    }
   ],
   "source": [
    "dic2"
   ]
  },
  {
   "cell_type": "code",
   "execution_count": 182,
   "metadata": {
    "colab": {
     "base_uri": "https://localhost:8080/"
    },
    "executionInfo": {
     "elapsed": 4,
     "status": "ok",
     "timestamp": 1680164681834,
     "user": {
      "displayName": "이강철",
      "userId": "13507850890638580947"
     },
     "user_tz": -540
    },
    "id": "N9JQAOfNnmci",
    "outputId": "a7209462-4607-47c5-d88e-0307615fe1c6"
   },
   "outputs": [
    {
     "data": {
      "text/plain": [
       "dict_items([('classic', 1450), ('pop', 3100)])"
      ]
     },
     "execution_count": 182,
     "metadata": {},
     "output_type": "execute_result"
    }
   ],
   "source": [
    "dic2.items()"
   ]
  },
  {
   "cell_type": "markdown",
   "metadata": {
    "id": "hsRQO-f3nhGJ"
   },
   "source": [
    "* key=lambda x:x[1] : 여기서 `x[1]` 은 dic2의 첫 번째 원소 즉, 재생횟수를 나타낸다."
   ]
  },
  {
   "cell_type": "code",
   "execution_count": 186,
   "metadata": {
    "colab": {
     "base_uri": "https://localhost:8080/"
    },
    "executionInfo": {
     "elapsed": 4,
     "status": "ok",
     "timestamp": 1680164747330,
     "user": {
      "displayName": "이강철",
      "userId": "13507850890638580947"
     },
     "user_tz": -540
    },
    "id": "3VXBy__Nnw46",
    "outputId": "d30f0098-41be-47b0-d53a-b5f623592317"
   },
   "outputs": [
    {
     "data": {
      "text/plain": [
       "dict_items([('classic', 1450), ('pop', 3100)])"
      ]
     },
     "execution_count": 186,
     "metadata": {},
     "output_type": "execute_result"
    }
   ],
   "source": [
    "dic2.items()"
   ]
  },
  {
   "cell_type": "markdown",
   "metadata": {
    "id": "8sgz-Kdun7NI"
   },
   "source": [
    "즉, 아래 코드에 의미는 총 재생횟수를 기준으로 내림차 순으로 정렬"
   ]
  },
  {
   "cell_type": "code",
   "execution_count": 181,
   "metadata": {
    "colab": {
     "base_uri": "https://localhost:8080/"
    },
    "executionInfo": {
     "elapsed": 4,
     "status": "ok",
     "timestamp": 1680164580011,
     "user": {
      "displayName": "이강철",
      "userId": "13507850890638580947"
     },
     "user_tz": -540
    },
    "id": "NWT9GS0_nOGR",
    "outputId": "94589616-8981-4078-93db-a2b223d51723"
   },
   "outputs": [
    {
     "data": {
      "text/plain": [
       "[('pop', 3100), ('classic', 1450)]"
      ]
     },
     "execution_count": 181,
     "metadata": {},
     "output_type": "execute_result"
    }
   ],
   "source": [
    "sorted(dic2.items(), key=lambda x:x[1], reverse=True) "
   ]
  },
  {
   "cell_type": "markdown",
   "metadata": {
    "id": "6SpfTQA4oBn5"
   },
   "source": [
    "* (k,v) : 장르와 총 재생횟수를 나열열"
   ]
  },
  {
   "cell_type": "code",
   "execution_count": 188,
   "metadata": {
    "colab": {
     "base_uri": "https://localhost:8080/"
    },
    "executionInfo": {
     "elapsed": 4,
     "status": "ok",
     "timestamp": 1680164845743,
     "user": {
      "displayName": "이강철",
      "userId": "13507850890638580947"
     },
     "user_tz": -540
    },
    "id": "9BF8h6KCoO6C",
    "outputId": "47edce71-f6d2-4a5c-daff-fcff6fb6b673"
   },
   "outputs": [
    {
     "data": {
      "text/plain": [
       "{'classic': [(0, 500), (2, 150), (3, 800)], 'pop': [(1, 600), (4, 2500)]}"
      ]
     },
     "execution_count": 188,
     "metadata": {},
     "output_type": "execute_result"
    }
   ],
   "source": [
    "dic1"
   ]
  },
  {
   "cell_type": "markdown",
   "metadata": {
    "id": "vHvjLc7TonXz"
   },
   "source": [
    "* 각 장르에서 고유번호와 재생횟수 출력"
   ]
  },
  {
   "cell_type": "markdown",
   "metadata": {
    "id": "k5N91NpFo21w"
   },
   "source": [
    "* `[:2]` 각 장르에서 두 번째로 많은 재생횟수를 가진 노래만 수록하므로!"
   ]
  },
  {
   "cell_type": "code",
   "execution_count": 195,
   "metadata": {
    "colab": {
     "base_uri": "https://localhost:8080/"
    },
    "executionInfo": {
     "elapsed": 4,
     "status": "ok",
     "timestamp": 1680165042844,
     "user": {
      "displayName": "이강철",
      "userId": "13507850890638580947"
     },
     "user_tz": -540
    },
    "id": "ClIEZ-sIoYLC",
    "outputId": "62eb16d5-aaf5-4120-9ef0-0c44d586f018"
   },
   "outputs": [
    {
     "data": {
      "text/plain": [
       "[(3, 800), (0, 500)]"
      ]
     },
     "execution_count": 195,
     "metadata": {},
     "output_type": "execute_result"
    }
   ],
   "source": [
    "sorted(dic1[\"classic\"],key = lambda x:x[1],reverse=True)[:2]"
   ]
  },
  {
   "cell_type": "code",
   "execution_count": 196,
   "metadata": {
    "executionInfo": {
     "elapsed": 4,
     "status": "ok",
     "timestamp": 1680165054060,
     "user": {
      "displayName": "이강철",
      "userId": "13507850890638580947"
     },
     "user_tz": -540
    },
    "id": "rmkLFWdKnZ5y"
   },
   "outputs": [],
   "source": [
    "for (k,v) in sorted(dic2.items(), key=lambda x:x[1], reverse=True) :\n",
    "    for (i,p) in sorted(dic1[k],key = lambda x:x[1],reverse=True)[:2] :\n",
    "        answer.append(i)"
   ]
  },
  {
   "cell_type": "code",
   "execution_count": 197,
   "metadata": {
    "colab": {
     "base_uri": "https://localhost:8080/"
    },
    "executionInfo": {
     "elapsed": 2,
     "status": "ok",
     "timestamp": 1680165059474,
     "user": {
      "displayName": "이강철",
      "userId": "13507850890638580947"
     },
     "user_tz": -540
    },
    "id": "3CygvnXTpC07",
    "outputId": "d082a302-bbfb-451d-9732-e21d83c793f6"
   },
   "outputs": [
    {
     "data": {
      "text/plain": [
       "[4, 1, 3, 0]"
      ]
     },
     "execution_count": 197,
     "metadata": {},
     "output_type": "execute_result"
    }
   ],
   "source": [
    "answer"
   ]
  }
 ],
 "metadata": {
  "colab": {
   "authorship_tag": "ABX9TyPtpVcVXbXeN/73qTTI5Hky",
   "provenance": [],
   "toc_visible": true
  },
  "kernelspec": {
   "display_name": "Python 3 (ipykernel)",
   "language": "python",
   "name": "python3"
  },
  "language_info": {
   "codemirror_mode": {
    "name": "ipython",
    "version": 3
   },
   "file_extension": ".py",
   "mimetype": "text/x-python",
   "name": "python",
   "nbconvert_exporter": "python",
   "pygments_lexer": "ipython3",
   "version": "3.9.13"
  },
  "toc": {
   "base_numbering": 1,
   "nav_menu": {},
   "number_sections": false,
   "sideBar": true,
   "skip_h1_title": false,
   "title_cell": "Table of Contents",
   "title_sidebar": "Contents",
   "toc_cell": false,
   "toc_position": {
    "height": "calc(100% - 180px)",
    "left": "10px",
    "top": "150px",
    "width": "500.594px"
   },
   "toc_section_display": true,
   "toc_window_display": true
  }
 },
 "nbformat": 4,
 "nbformat_minor": 1
}
