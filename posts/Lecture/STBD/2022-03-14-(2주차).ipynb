{
 "cells": [
  {
   "cell_type": "raw",
   "id": "77e700b5",
   "metadata": {
    "id": "904c2d8f-accf-4a4a-86b3-e9a6361ba29a"
   },
   "source": [
    "---\n",
    "title : \"02. Tensorflow-1\"\n",
    "author : \"GANGCHEOL LEE\"\n",
    "date : \"03/14/22\"\n",
    "categories : [python] \n",
    "---"
   ]
  },
  {
   "cell_type": "markdown",
   "id": "kAjfueGf4q4b",
   "metadata": {
    "id": "kAjfueGf4q4b"
   },
   "source": [
    "# 1주차 복습"
   ]
  },
  {
   "cell_type": "markdown",
   "id": "1xOki4HJ4wts",
   "metadata": {
    "id": "1xOki4HJ4wts"
   },
   "source": [
    "## 회귀계수 추정치"
   ]
  },
  {
   "cell_type": "markdown",
   "id": "Wbd0_5FM4zKM",
   "metadata": {
    "id": "Wbd0_5FM4zKM"
   },
   "source": [
    "* 단순선형회귀의 경우 일반적인 베타계수의 추정치 "
   ]
  },
  {
   "cell_type": "markdown",
   "id": "2DXQkWvT408U",
   "metadata": {
    "id": "2DXQkWvT408U"
   },
   "source": [
    "$\\hat {\\beta_0} = \\bar y - \\beta _1\\bar x, \\quad \\hat {\\beta_1} = \\frac {S_{xy}} {S_{xx}}$"
   ]
  },
  {
   "cell_type": "markdown",
   "id": "iRAMs4M9453M",
   "metadata": {
    "id": "iRAMs4M9453M"
   },
   "source": [
    "* 다중 회귀의 경우"
   ]
  },
  {
   "cell_type": "markdown",
   "id": "pym2kJn-5Awk",
   "metadata": {
    "id": "pym2kJn-5Awk"
   },
   "source": [
    "$$L=loss =({\\bf y}-{\\bf X}{\\boldsymbol \\beta})^\\top({\\bf y}-{\\bf X}{\\boldsymbol \\beta})$$ "
   ]
  },
  {
   "cell_type": "markdown",
   "id": "oGTqWbg35HA0",
   "metadata": {
    "id": "oGTqWbg35HA0"
   },
   "source": [
    "\n",
    "$$ L= {\\bf y}^\\top {\\bf y} - {\\bf y}^\\top {\\bf X}{\\boldsymbol\\beta} - {\\boldsymbol\\beta}^\\top {\\bf X}^\\top {\\bf y} + {\\boldsymbol\\beta}^\\top {\\bf X}^\\top {\\bf X} {\\boldsymbol\\beta}$$"
   ]
  },
  {
   "cell_type": "markdown",
   "id": "KZs8lDYd5Ixs",
   "metadata": {
    "id": "KZs8lDYd5Ixs"
   },
   "source": [
    "* 위를 미분하면"
   ]
  },
  {
   "cell_type": "markdown",
   "id": "BsohtuVr5J6c",
   "metadata": {
    "id": "BsohtuVr5J6c"
   },
   "source": [
    "$$\\frac{\\partial}{\\partial \\boldsymbol{\\beta}} L = \\frac{\\partial}{\\partial \\boldsymbol{\\beta}} {\\bf y}^\\top {\\bf y} - \\frac{\\partial}{\\partial \\boldsymbol{\\beta}} {\\bf y}^\\top {\\bf X}{\\boldsymbol\\beta} - \\frac{\\partial}{\\partial \\boldsymbol{\\beta}} {\\boldsymbol\\beta}^\\top {\\bf X}^\\top {\\bf y} + \\frac{\\partial}{\\partial \\boldsymbol{\\beta}} {\\boldsymbol\\beta}^\\top {\\bf X}^\\top {\\bf X} {\\boldsymbol\\beta}  $$"
   ]
  },
  {
   "cell_type": "markdown",
   "id": "W_WSUFP25Lz9",
   "metadata": {
    "id": "W_WSUFP25Lz9"
   },
   "source": [
    "\n",
    " $$\\frac{\\partial}{\\partial \\boldsymbol{\\beta}} L=- \\mathbf{X^{\\top}y} - \\mathbf{X^{\\top}y} + 2\\mathbf{X^{\\top}X\\boldsymbol \\beta}$$"
   ]
  },
  {
   "cell_type": "markdown",
   "id": "FgYSrVvg5NQU",
   "metadata": {
    "id": "FgYSrVvg5NQU"
   },
   "source": [
    "따라서"
   ]
  },
  {
   "cell_type": "markdown",
   "id": "Fh3AzmB45Ogc",
   "metadata": {
    "id": "Fh3AzmB45Ogc"
   },
   "source": [
    "$$\\quad \\bf{X^{\\top}X}\\beta\n",
    " = \\bf{X^{\\top}Y}$$"
   ]
  },
  {
   "cell_type": "markdown",
   "id": "ZaLQaiOr5RB9",
   "metadata": {
    "id": "ZaLQaiOr5RB9"
   },
   "source": [
    "$$\\therefore \\quad \\hat {\\beta} = \\left(\\bf{X^{\\top}X}^{-1}\\right)XY$$"
   ]
  },
  {
   "cell_type": "markdown",
   "id": "1cDoNNmw5f4D",
   "metadata": {
    "id": "1cDoNNmw5f4D"
   },
   "source": [
    "***"
   ]
  },
  {
   "cell_type": "markdown",
   "id": "YXFewDw-5WLs",
   "metadata": {
    "id": "YXFewDw-5WLs"
   },
   "source": [
    "# 2주차 수업시작~~"
   ]
  },
  {
   "cell_type": "code",
   "execution_count": 1,
   "id": "e18d4288-4668-45c2-a66f-5bb76f5b9ca2",
   "metadata": {
    "executionInfo": {
     "elapsed": 3142,
     "status": "ok",
     "timestamp": 1647252562795,
     "user": {
      "displayName": "이강철",
      "photoUrl": "https://lh3.googleusercontent.com/a-/AOh14Gh842AtlEYrAXX4Lk_utP7Hd-zmxv5KSukeOCQ18g=s64",
      "userId": "13507850890638580947"
     },
     "user_tz": -540
    },
    "id": "e18d4288-4668-45c2-a66f-5bb76f5b9ca2"
   },
   "outputs": [],
   "source": [
    "#collapse-hide\n",
    "import tensorflow as tf\n",
    "import numpy as np"
   ]
  },
  {
   "cell_type": "markdown",
   "id": "mTuMUVm054gG",
   "metadata": {
    "id": "mTuMUVm054gG"
   },
   "source": [
    "# tensorflow의 GPU 연결법"
   ]
  },
  {
   "cell_type": "code",
   "execution_count": null,
   "id": "c4a78936-73df-4a20-8041-0d76aa07fd0f",
   "metadata": {
    "id": "c4a78936-73df-4a20-8041-0d76aa07fd0f",
    "outputId": "17363712-bece-4d8e-e7a6-a70dbf075c0c"
   },
   "outputs": [
    {
     "data": {
      "text/plain": [
       "[PhysicalDevice(name='/physical_device:GPU:0', device_type='GPU')]"
      ]
     },
     "execution_count": 3,
     "metadata": {},
     "output_type": "execute_result"
    }
   ],
   "source": [
    "tf.config.experimental.list_physical_devices('GPU')"
   ]
  },
  {
   "cell_type": "markdown",
   "id": "1f7d8172-8b82-4777-b922-aa46ea9e5a48",
   "metadata": {
    "id": "1f7d8172-8b82-4777-b922-aa46ea9e5a48"
   },
   "source": [
    "# tf.constant "
   ]
  },
  {
   "cell_type": "markdown",
   "id": "19d1b4f6-91ae-4638-b332-103dadaf6473",
   "metadata": {
    "id": "19d1b4f6-91ae-4638-b332-103dadaf6473"
   },
   "source": [
    "## 예비학습: 중첩리스트 "
   ]
  },
  {
   "cell_type": "markdown",
   "id": "NNM8XGjC7Ny0",
   "metadata": {
    "id": "NNM8XGjC7Ny0"
   },
   "source": [
    "`-` 리스트"
   ]
  },
  {
   "cell_type": "code",
   "execution_count": 5,
   "id": "SpR6R0Fp6yTs",
   "metadata": {
    "colab": {
     "base_uri": "https://localhost:8080/"
    },
    "executionInfo": {
     "elapsed": 3,
     "status": "ok",
     "timestamp": 1647252908004,
     "user": {
      "displayName": "이강철",
      "photoUrl": "https://lh3.googleusercontent.com/a-/AOh14Gh842AtlEYrAXX4Lk_utP7Hd-zmxv5KSukeOCQ18g=s64",
      "userId": "13507850890638580947"
     },
     "user_tz": -540
    },
    "id": "SpR6R0Fp6yTs",
    "outputId": "2503e5b6-2432-4d63-b0f4-c1571cf7d086"
   },
   "outputs": [
    {
     "data": {
      "text/plain": [
       "[0, 1, 2, 3, 4, 5]"
      ]
     },
     "execution_count": 5,
     "metadata": {},
     "output_type": "execute_result"
    }
   ],
   "source": [
    "lst = list(range(6))\n",
    "lst"
   ]
  },
  {
   "cell_type": "code",
   "execution_count": 6,
   "id": "_NIvGlJ-64Fl",
   "metadata": {
    "colab": {
     "base_uri": "https://localhost:8080/"
    },
    "executionInfo": {
     "elapsed": 4,
     "status": "ok",
     "timestamp": 1647252915597,
     "user": {
      "displayName": "이강철",
      "photoUrl": "https://lh3.googleusercontent.com/a-/AOh14Gh842AtlEYrAXX4Lk_utP7Hd-zmxv5KSukeOCQ18g=s64",
      "userId": "13507850890638580947"
     },
     "user_tz": -540
    },
    "id": "_NIvGlJ-64Fl",
    "outputId": "dfe86788-3628-44e9-daba-6198b87a063c"
   },
   "outputs": [
    {
     "data": {
      "text/plain": [
       "5"
      ]
     },
     "execution_count": 6,
     "metadata": {},
     "output_type": "execute_result"
    }
   ],
   "source": [
    "lst[-1]"
   ]
  },
  {
   "cell_type": "markdown",
   "id": "3wGsuC9Q7RSY",
   "metadata": {
    "id": "3wGsuC9Q7RSY"
   },
   "source": [
    "`-` 리스트 안에 리스트 생성"
   ]
  },
  {
   "cell_type": "code",
   "execution_count": 9,
   "id": "RX7EcA7N7Tfk",
   "metadata": {
    "colab": {
     "base_uri": "https://localhost:8080/"
    },
    "executionInfo": {
     "elapsed": 424,
     "status": "ok",
     "timestamp": 1647253002080,
     "user": {
      "displayName": "이강철",
      "photoUrl": "https://lh3.googleusercontent.com/a-/AOh14Gh842AtlEYrAXX4Lk_utP7Hd-zmxv5KSukeOCQ18g=s64",
      "userId": "13507850890638580947"
     },
     "user_tz": -540
    },
    "id": "RX7EcA7N7Tfk",
    "outputId": "7d22cf3e-81ff-455b-fb97-19ff9381e5cb"
   },
   "outputs": [
    {
     "data": {
      "text/plain": [
       "[[1, 2], [3, 4]]"
      ]
     },
     "execution_count": 9,
     "metadata": {},
     "output_type": "execute_result"
    }
   ],
   "source": [
    "lst =[[1,2,],[3,4]]\n",
    "lst"
   ]
  },
  {
   "cell_type": "code",
   "execution_count": 12,
   "id": "1X4r-goL7aOS",
   "metadata": {
    "colab": {
     "base_uri": "https://localhost:8080/"
    },
    "executionInfo": {
     "elapsed": 4,
     "status": "ok",
     "timestamp": 1647253031659,
     "user": {
      "displayName": "이강철",
      "photoUrl": "https://lh3.googleusercontent.com/a-/AOh14Gh842AtlEYrAXX4Lk_utP7Hd-zmxv5KSukeOCQ18g=s64",
      "userId": "13507850890638580947"
     },
     "user_tz": -540
    },
    "id": "1X4r-goL7aOS",
    "outputId": "0d0f21e4-9f0b-45dd-b057-bace1c63c9d2"
   },
   "outputs": [
    {
     "name": "stdout",
     "output_type": "stream",
     "text": [
      "3 1\n"
     ]
    }
   ],
   "source": [
    "print(lst[1][0],lst[0][0])"
   ]
  },
  {
   "cell_type": "markdown",
   "id": "gjGsghhj7sI9",
   "metadata": {
    "id": "gjGsghhj7sI9"
   },
   "source": [
    "`-` 위 같은 2차원의 리스트 구조를 행렬로 생각할 수 있다"
   ]
  },
  {
   "cell_type": "markdown",
   "id": "SbQ9CSX170T1",
   "metadata": {
    "id": "SbQ9CSX170T1"
   },
   "source": [
    "1  2 \\\\\n",
    "3  4"
   ]
  },
  {
   "cell_type": "markdown",
   "id": "q6CGISwY8KZl",
   "metadata": {
    "id": "q6CGISwY8KZl"
   },
   "source": [
    "또는"
   ]
  },
  {
   "cell_type": "markdown",
   "id": "1I0EWzni8MmF",
   "metadata": {
    "id": "1I0EWzni8MmF"
   },
   "source": [
    "1  \\\\\n",
    "2  \\\\\n",
    "3  \\\\\n",
    "4 "
   ]
  },
  {
   "cell_type": "markdown",
   "id": "xGXmZlKK8U-2",
   "metadata": {
    "id": "xGXmZlKK8U-2"
   },
   "source": [
    "`-`  (4,1) 행렬 느낌의 리스트"
   ]
  },
  {
   "cell_type": "code",
   "execution_count": 22,
   "id": "VL4kTENO8ZRN",
   "metadata": {
    "colab": {
     "base_uri": "https://localhost:8080/"
    },
    "executionInfo": {
     "elapsed": 413,
     "status": "ok",
     "timestamp": 1647253390130,
     "user": {
      "displayName": "이강철",
      "photoUrl": "https://lh3.googleusercontent.com/a-/AOh14Gh842AtlEYrAXX4Lk_utP7Hd-zmxv5KSukeOCQ18g=s64",
      "userId": "13507850890638580947"
     },
     "user_tz": -540
    },
    "id": "VL4kTENO8ZRN",
    "outputId": "9b82bdbf-9027-4c3e-dfae-8f436618f14f"
   },
   "outputs": [
    {
     "data": {
      "text/plain": [
       "[[1], [2], [3], [4]]"
      ]
     },
     "execution_count": 22,
     "metadata": {},
     "output_type": "execute_result"
    }
   ],
   "source": [
    "lst = [[1],[2],[3],[4]]\n",
    "lst"
   ]
  },
  {
   "cell_type": "code",
   "execution_count": 23,
   "id": "KGbjkwWD89oH",
   "metadata": {
    "colab": {
     "base_uri": "https://localhost:8080/"
    },
    "executionInfo": {
     "elapsed": 413,
     "status": "ok",
     "timestamp": 1647253394289,
     "user": {
      "displayName": "이강철",
      "photoUrl": "https://lh3.googleusercontent.com/a-/AOh14Gh842AtlEYrAXX4Lk_utP7Hd-zmxv5KSukeOCQ18g=s64",
      "userId": "13507850890638580947"
     },
     "user_tz": -540
    },
    "id": "KGbjkwWD89oH",
    "outputId": "ccf0ea04-9989-4c8e-f77b-8791f2798cb1"
   },
   "outputs": [
    {
     "data": {
      "text/plain": [
       "array([[1],\n",
       "       [2],\n",
       "       [3],\n",
       "       [4]])"
      ]
     },
     "execution_count": 23,
     "metadata": {},
     "output_type": "execute_result"
    }
   ],
   "source": [
    "np.array(lst)"
   ]
  },
  {
   "cell_type": "markdown",
   "id": "PZQMRUfN8xAe",
   "metadata": {
    "id": "PZQMRUfN8xAe"
   },
   "source": [
    "`-` (1,4) 행렬 느낌의 리스트"
   ]
  },
  {
   "cell_type": "code",
   "execution_count": 24,
   "id": "VPKDhqh884HG",
   "metadata": {
    "colab": {
     "base_uri": "https://localhost:8080/"
    },
    "executionInfo": {
     "elapsed": 7,
     "status": "ok",
     "timestamp": 1647253405403,
     "user": {
      "displayName": "이강철",
      "photoUrl": "https://lh3.googleusercontent.com/a-/AOh14Gh842AtlEYrAXX4Lk_utP7Hd-zmxv5KSukeOCQ18g=s64",
      "userId": "13507850890638580947"
     },
     "user_tz": -540
    },
    "id": "VPKDhqh884HG",
    "outputId": "e7e318a1-5814-44b2-e424-6f3f65bf2b41"
   },
   "outputs": [
    {
     "data": {
      "text/plain": [
       "[1, 2, 3, 4]"
      ]
     },
     "execution_count": 24,
     "metadata": {},
     "output_type": "execute_result"
    }
   ],
   "source": [
    "lst = [1,2,3,4]\n",
    "lst"
   ]
  },
  {
   "cell_type": "code",
   "execution_count": 25,
   "id": "PlFx4uXs9CeI",
   "metadata": {
    "colab": {
     "base_uri": "https://localhost:8080/"
    },
    "executionInfo": {
     "elapsed": 550,
     "status": "ok",
     "timestamp": 1647253407788,
     "user": {
      "displayName": "이강철",
      "photoUrl": "https://lh3.googleusercontent.com/a-/AOh14Gh842AtlEYrAXX4Lk_utP7Hd-zmxv5KSukeOCQ18g=s64",
      "userId": "13507850890638580947"
     },
     "user_tz": -540
    },
    "id": "PlFx4uXs9CeI",
    "outputId": "6f931317-3486-41f8-fa00-7bd1829571fa"
   },
   "outputs": [
    {
     "data": {
      "text/plain": [
       "array([1, 2, 3, 4])"
      ]
     },
     "execution_count": 25,
     "metadata": {},
     "output_type": "execute_result"
    }
   ],
   "source": [
    "np.array(lst)"
   ]
  },
  {
   "cell_type": "markdown",
   "id": "6a4dd379-e9c5-4e5d-a3ec-c2383ae1ac56",
   "metadata": {
    "id": "6a4dd379-e9c5-4e5d-a3ec-c2383ae1ac56"
   },
   "source": [
    "\n",
    "## 변수 선언"
   ]
  },
  {
   "cell_type": "markdown",
   "id": "iY9bqrpb9H4T",
   "metadata": {
    "id": "iY9bqrpb9H4T"
   },
   "source": [
    "### 스칼라 "
   ]
  },
  {
   "cell_type": "code",
   "execution_count": 26,
   "id": "X23f0uhM9Tln",
   "metadata": {
    "colab": {
     "base_uri": "https://localhost:8080/"
    },
    "executionInfo": {
     "elapsed": 3545,
     "status": "ok",
     "timestamp": 1647253482869,
     "user": {
      "displayName": "이강철",
      "photoUrl": "https://lh3.googleusercontent.com/a-/AOh14Gh842AtlEYrAXX4Lk_utP7Hd-zmxv5KSukeOCQ18g=s64",
      "userId": "13507850890638580947"
     },
     "user_tz": -540
    },
    "id": "X23f0uhM9Tln",
    "outputId": "ca8bc2db-8f78-4b38-b05e-c802966561e5"
   },
   "outputs": [
    {
     "data": {
      "text/plain": [
       "<tf.Tensor: shape=(), dtype=float32, numpy=3.14>"
      ]
     },
     "execution_count": 26,
     "metadata": {},
     "output_type": "execute_result"
    }
   ],
   "source": [
    "tf.constant(3.14)"
   ]
  },
  {
   "cell_type": "code",
   "execution_count": 27,
   "id": "OWAj6gCA9X7k",
   "metadata": {
    "colab": {
     "base_uri": "https://localhost:8080/"
    },
    "executionInfo": {
     "elapsed": 560,
     "status": "ok",
     "timestamp": 1647253490997,
     "user": {
      "displayName": "이강철",
      "photoUrl": "https://lh3.googleusercontent.com/a-/AOh14Gh842AtlEYrAXX4Lk_utP7Hd-zmxv5KSukeOCQ18g=s64",
      "userId": "13507850890638580947"
     },
     "user_tz": -540
    },
    "id": "OWAj6gCA9X7k",
    "outputId": "5d81c58b-62ef-4f51-b40e-6c61a8997c72"
   },
   "outputs": [
    {
     "data": {
      "text/plain": [
       "<tf.Tensor: shape=(), dtype=float32, numpy=6.28>"
      ]
     },
     "execution_count": 27,
     "metadata": {},
     "output_type": "execute_result"
    }
   ],
   "source": [
    "tf.constant(3.14) + tf.constant(3.14)"
   ]
  },
  {
   "cell_type": "markdown",
   "id": "rjC9tBjz9p_G",
   "metadata": {
    "id": "rjC9tBjz9p_G"
   },
   "source": [
    "### 벡터"
   ]
  },
  {
   "cell_type": "code",
   "execution_count": 31,
   "id": "qaXuCdFo9q7x",
   "metadata": {
    "colab": {
     "base_uri": "https://localhost:8080/"
    },
    "executionInfo": {
     "elapsed": 9,
     "status": "ok",
     "timestamp": 1647253680131,
     "user": {
      "displayName": "이강철",
      "photoUrl": "https://lh3.googleusercontent.com/a-/AOh14Gh842AtlEYrAXX4Lk_utP7Hd-zmxv5KSukeOCQ18g=s64",
      "userId": "13507850890638580947"
     },
     "user_tz": -540
    },
    "id": "qaXuCdFo9q7x",
    "outputId": "e76edc8d-47f6-496b-9cb5-684a4ae1a633"
   },
   "outputs": [
    {
     "data": {
      "text/plain": [
       "<tf.Tensor: shape=(3,), dtype=int32, numpy=array([1, 2, 3], dtype=int32)>"
      ]
     },
     "execution_count": 31,
     "metadata": {},
     "output_type": "execute_result"
    }
   ],
   "source": [
    "_vector = tf.constant([1,2,3 ])\n",
    "_vector"
   ]
  },
  {
   "cell_type": "code",
   "execution_count": 32,
   "id": "9QtTUY0c-Ipp",
   "metadata": {
    "colab": {
     "base_uri": "https://localhost:8080/"
    },
    "executionInfo": {
     "elapsed": 562,
     "status": "ok",
     "timestamp": 1647253692126,
     "user": {
      "displayName": "이강철",
      "photoUrl": "https://lh3.googleusercontent.com/a-/AOh14Gh842AtlEYrAXX4Lk_utP7Hd-zmxv5KSukeOCQ18g=s64",
      "userId": "13507850890638580947"
     },
     "user_tz": -540
    },
    "id": "9QtTUY0c-Ipp",
    "outputId": "29e6d62a-d6e3-436a-f885-4f829970fa06"
   },
   "outputs": [
    {
     "data": {
      "text/plain": [
       "<tf.Tensor: shape=(), dtype=int32, numpy=1>"
      ]
     },
     "execution_count": 32,
     "metadata": {},
     "output_type": "execute_result"
    }
   ],
   "source": [
    "_vector[0]"
   ]
  },
  {
   "cell_type": "markdown",
   "id": "7lxqLNqp-Ndx",
   "metadata": {
    "id": "7lxqLNqp-Ndx"
   },
   "source": [
    "### 매트릭스 생성"
   ]
  },
  {
   "cell_type": "code",
   "execution_count": 34,
   "id": "TEqza_-U-QqJ",
   "metadata": {
    "colab": {
     "base_uri": "https://localhost:8080/"
    },
    "executionInfo": {
     "elapsed": 8,
     "status": "ok",
     "timestamp": 1647253741657,
     "user": {
      "displayName": "이강철",
      "photoUrl": "https://lh3.googleusercontent.com/a-/AOh14Gh842AtlEYrAXX4Lk_utP7Hd-zmxv5KSukeOCQ18g=s64",
      "userId": "13507850890638580947"
     },
     "user_tz": -540
    },
    "id": "TEqza_-U-QqJ",
    "outputId": "1b292417-dad1-489b-e996-6ef1f718bbda"
   },
   "outputs": [
    {
     "data": {
      "text/plain": [
       "<tf.Tensor: shape=(2, 2), dtype=int32, numpy=\n",
       "array([[1, 0],\n",
       "       [0, 1]], dtype=int32)>"
      ]
     },
     "execution_count": 34,
     "metadata": {},
     "output_type": "execute_result"
    }
   ],
   "source": [
    "_matrix = tf.constant([[1,0],[0,1]])\n",
    "_matrix"
   ]
  },
  {
   "cell_type": "markdown",
   "id": "FXWooXnF-a7i",
   "metadata": {
    "id": "FXWooXnF-a7i"
   },
   "source": [
    "### 텐서 == 3차원 이상의 배열"
   ]
  },
  {
   "cell_type": "code",
   "execution_count": 36,
   "id": "1CoYyIm8-flY",
   "metadata": {
    "colab": {
     "base_uri": "https://localhost:8080/"
    },
    "executionInfo": {
     "elapsed": 7,
     "status": "ok",
     "timestamp": 1647253850600,
     "user": {
      "displayName": "이강철",
      "photoUrl": "https://lh3.googleusercontent.com/a-/AOh14Gh842AtlEYrAXX4Lk_utP7Hd-zmxv5KSukeOCQ18g=s64",
      "userId": "13507850890638580947"
     },
     "user_tz": -540
    },
    "id": "1CoYyIm8-flY",
    "outputId": "a4969b01-33aa-4a47-aebc-3160a390f118"
   },
   "outputs": [
    {
     "data": {
      "text/plain": [
       "array([[[0, 1],\n",
       "        [1, 2]],\n",
       "\n",
       "       [[0, 1],\n",
       "        [1, 2]]])"
      ]
     },
     "execution_count": 36,
     "metadata": {},
     "output_type": "execute_result"
    }
   ],
   "source": [
    "np.array([[[0,1],[1,2]],[[0,1],[1,2]]])"
   ]
  },
  {
   "cell_type": "code",
   "execution_count": 37,
   "id": "Q6wT78qT-w96",
   "metadata": {
    "colab": {
     "base_uri": "https://localhost:8080/"
    },
    "executionInfo": {
     "elapsed": 407,
     "status": "ok",
     "timestamp": 1647253864666,
     "user": {
      "displayName": "이강철",
      "photoUrl": "https://lh3.googleusercontent.com/a-/AOh14Gh842AtlEYrAXX4Lk_utP7Hd-zmxv5KSukeOCQ18g=s64",
      "userId": "13507850890638580947"
     },
     "user_tz": -540
    },
    "id": "Q6wT78qT-w96",
    "outputId": "ed2ff9c8-abb1-435d-f4d7-0085a77dad2e"
   },
   "outputs": [
    {
     "data": {
      "text/plain": [
       "<tf.Tensor: shape=(2, 2, 2), dtype=int32, numpy=\n",
       "array([[[0, 1],\n",
       "        [1, 2]],\n",
       "\n",
       "       [[0, 1],\n",
       "        [1, 2]]], dtype=int32)>"
      ]
     },
     "execution_count": 37,
     "metadata": {},
     "output_type": "execute_result"
    }
   ],
   "source": [
    "tf.constant([[[0,1],[1,2]],[[0,1],[1,2]]])"
   ]
  },
  {
   "cell_type": "markdown",
   "id": "db79211f-706f-4388-9e10-6b057ec840fb",
   "metadata": {
    "id": "db79211f-706f-4388-9e10-6b057ec840fb"
   },
   "source": [
    "### 타입"
   ]
  },
  {
   "cell_type": "code",
   "execution_count": 38,
   "id": "LvrkMeM3-2PK",
   "metadata": {
    "colab": {
     "base_uri": "https://localhost:8080/"
    },
    "executionInfo": {
     "elapsed": 7,
     "status": "ok",
     "timestamp": 1647253885770,
     "user": {
      "displayName": "이강철",
      "photoUrl": "https://lh3.googleusercontent.com/a-/AOh14Gh842AtlEYrAXX4Lk_utP7Hd-zmxv5KSukeOCQ18g=s64",
      "userId": "13507850890638580947"
     },
     "user_tz": -540
    },
    "id": "LvrkMeM3-2PK",
    "outputId": "9e65365a-e48f-4c5a-a40b-a973540c98a0"
   },
   "outputs": [
    {
     "data": {
      "text/plain": [
       "tensorflow.python.framework.ops.EagerTensor"
      ]
     },
     "execution_count": 38,
     "metadata": {},
     "output_type": "execute_result"
    }
   ],
   "source": [
    "type(tf.constant([[[0,1],[1,2]],[[0,1],[1,2]]]))"
   ]
  },
  {
   "cell_type": "markdown",
   "id": "uQqQp8tQ-46o",
   "metadata": {
    "id": "uQqQp8tQ-46o"
   },
   "source": [
    " `-` 끝에 `EagerTensor` 가 나오는 것을 기억하자"
   ]
  },
  {
   "cell_type": "markdown",
   "id": "f06b1e19-16d1-4667-b881-5aabf63c84d9",
   "metadata": {
    "id": "f06b1e19-16d1-4667-b881-5aabf63c84d9"
   },
   "source": [
    "### 인덱싱 "
   ]
  },
  {
   "cell_type": "code",
   "execution_count": 39,
   "id": "E_Urxqme_Bdn",
   "metadata": {
    "colab": {
     "base_uri": "https://localhost:8080/"
    },
    "executionInfo": {
     "elapsed": 8,
     "status": "ok",
     "timestamp": 1647253947667,
     "user": {
      "displayName": "이강철",
      "photoUrl": "https://lh3.googleusercontent.com/a-/AOh14Gh842AtlEYrAXX4Lk_utP7Hd-zmxv5KSukeOCQ18g=s64",
      "userId": "13507850890638580947"
     },
     "user_tz": -540
    },
    "id": "E_Urxqme_Bdn",
    "outputId": "e66c2721-6256-4c07-ff1d-295203ffc846"
   },
   "outputs": [
    {
     "data": {
      "text/plain": [
       "<tf.Tensor: shape=(2, 2), dtype=int32, numpy=\n",
       "array([[1, 2],\n",
       "       [3, 4]], dtype=int32)>"
      ]
     },
     "execution_count": 39,
     "metadata": {},
     "output_type": "execute_result"
    }
   ],
   "source": [
    "_matrix  = tf.constant([[1,2],[3,4]])\n",
    "_matrix"
   ]
  },
  {
   "cell_type": "code",
   "execution_count": 40,
   "id": "4OaqEiyy_IbS",
   "metadata": {
    "colab": {
     "base_uri": "https://localhost:8080/"
    },
    "executionInfo": {
     "elapsed": 7,
     "status": "ok",
     "timestamp": 1647253958250,
     "user": {
      "displayName": "이강철",
      "photoUrl": "https://lh3.googleusercontent.com/a-/AOh14Gh842AtlEYrAXX4Lk_utP7Hd-zmxv5KSukeOCQ18g=s64",
      "userId": "13507850890638580947"
     },
     "user_tz": -540
    },
    "id": "4OaqEiyy_IbS",
    "outputId": "c828f701-7e25-4eab-a026-edeb2f9f4039"
   },
   "outputs": [
    {
     "data": {
      "text/plain": [
       "<tf.Tensor: shape=(2,), dtype=int32, numpy=array([1, 2], dtype=int32)>"
      ]
     },
     "execution_count": 40,
     "metadata": {},
     "output_type": "execute_result"
    }
   ],
   "source": [
    "_matrix[0]"
   ]
  },
  {
   "cell_type": "code",
   "execution_count": 42,
   "id": "a8Xl442E_Ncj",
   "metadata": {
    "colab": {
     "base_uri": "https://localhost:8080/"
    },
    "executionInfo": {
     "elapsed": 2,
     "status": "ok",
     "timestamp": 1647253984387,
     "user": {
      "displayName": "이강철",
      "photoUrl": "https://lh3.googleusercontent.com/a-/AOh14Gh842AtlEYrAXX4Lk_utP7Hd-zmxv5KSukeOCQ18g=s64",
      "userId": "13507850890638580947"
     },
     "user_tz": -540
    },
    "id": "a8Xl442E_Ncj",
    "outputId": "a80d61ad-1464-4e63-88b4-369d90dfe050"
   },
   "outputs": [
    {
     "data": {
      "text/plain": [
       "<tf.Tensor: shape=(2,), dtype=int32, numpy=array([1, 2], dtype=int32)>"
      ]
     },
     "execution_count": 42,
     "metadata": {},
     "output_type": "execute_result"
    }
   ],
   "source": [
    "_matrix[0,:]"
   ]
  },
  {
   "cell_type": "code",
   "execution_count": 43,
   "id": "qUB8OZ-f_TVq",
   "metadata": {
    "colab": {
     "base_uri": "https://localhost:8080/"
    },
    "executionInfo": {
     "elapsed": 5,
     "status": "ok",
     "timestamp": 1647253998117,
     "user": {
      "displayName": "이강철",
      "photoUrl": "https://lh3.googleusercontent.com/a-/AOh14Gh842AtlEYrAXX4Lk_utP7Hd-zmxv5KSukeOCQ18g=s64",
      "userId": "13507850890638580947"
     },
     "user_tz": -540
    },
    "id": "qUB8OZ-f_TVq",
    "outputId": "f0943f70-fab1-43dc-91d5-d4191eb2d909"
   },
   "outputs": [
    {
     "data": {
      "text/plain": [
       "<tf.Tensor: shape=(), dtype=int32, numpy=1>"
      ]
     },
     "execution_count": 43,
     "metadata": {},
     "output_type": "execute_result"
    }
   ],
   "source": [
    "_matrix[0,0]"
   ]
  },
  {
   "cell_type": "code",
   "execution_count": 44,
   "id": "8RR3Bfw8_Xwy",
   "metadata": {
    "colab": {
     "base_uri": "https://localhost:8080/"
    },
    "executionInfo": {
     "elapsed": 6,
     "status": "ok",
     "timestamp": 1647254019398,
     "user": {
      "displayName": "이강철",
      "photoUrl": "https://lh3.googleusercontent.com/a-/AOh14Gh842AtlEYrAXX4Lk_utP7Hd-zmxv5KSukeOCQ18g=s64",
      "userId": "13507850890638580947"
     },
     "user_tz": -540
    },
    "id": "8RR3Bfw8_Xwy",
    "outputId": "c85e8589-64c9-4328-8078-dac72dd8ecd8"
   },
   "outputs": [
    {
     "data": {
      "text/plain": [
       "<tf.Tensor: shape=(), dtype=int32, numpy=1>"
      ]
     },
     "execution_count": 44,
     "metadata": {},
     "output_type": "execute_result"
    }
   ],
   "source": [
    "_matrix[0][0]"
   ]
  },
  {
   "cell_type": "markdown",
   "id": "cebc2e49-6c71-47bf-a884-e8556c3198cf",
   "metadata": {
    "id": "cebc2e49-6c71-47bf-a884-e8556c3198cf"
   },
   "source": [
    "### tf.constant는 불편하다. "
   ]
  },
  {
   "cell_type": "markdown",
   "id": "JuQaNC2d_lgS",
   "metadata": {
    "id": "JuQaNC2d_lgS"
   },
   "source": [
    "`-` 각 컬럼의 데이터 타입이 전부 동일하여야 한다."
   ]
  },
  {
   "cell_type": "markdown",
   "id": "Si9ICLbD_wS2",
   "metadata": {
    "id": "Si9ICLbD_wS2"
   },
   "source": [
    "`-` 원소 수정이 불가능함."
   ]
  },
  {
   "cell_type": "code",
   "execution_count": 45,
   "id": "34XbajOE_4id",
   "metadata": {
    "colab": {
     "base_uri": "https://localhost:8080/"
    },
    "executionInfo": {
     "elapsed": 13,
     "status": "ok",
     "timestamp": 1647254172878,
     "user": {
      "displayName": "이강철",
      "photoUrl": "https://lh3.googleusercontent.com/a-/AOh14Gh842AtlEYrAXX4Lk_utP7Hd-zmxv5KSukeOCQ18g=s64",
      "userId": "13507850890638580947"
     },
     "user_tz": -540
    },
    "id": "34XbajOE_4id",
    "outputId": "03e0deb0-c68e-4279-8863-916f6bad1754"
   },
   "outputs": [
    {
     "data": {
      "text/plain": [
       "<tf.Tensor: shape=(3,), dtype=int32, numpy=array([ 1, 22, 33], dtype=int32)>"
      ]
     },
     "execution_count": 45,
     "metadata": {},
     "output_type": "execute_result"
    }
   ],
   "source": [
    " a= tf.constant([1,22,33])\n",
    " a"
   ]
  },
  {
   "cell_type": "code",
   "execution_count": 47,
   "id": "RNkfTCrHAAkb",
   "metadata": {
    "colab": {
     "base_uri": "https://localhost:8080/",
     "height": 174
    },
    "executionInfo": {
     "elapsed": 15,
     "status": "error",
     "timestamp": 1647254187162,
     "user": {
      "displayName": "이강철",
      "photoUrl": "https://lh3.googleusercontent.com/a-/AOh14Gh842AtlEYrAXX4Lk_utP7Hd-zmxv5KSukeOCQ18g=s64",
      "userId": "13507850890638580947"
     },
     "user_tz": -540
    },
    "id": "RNkfTCrHAAkb",
    "outputId": "c3675028-b1dc-46be-bebf-a529145cf705"
   },
   "outputs": [
    {
     "ename": "TypeError",
     "evalue": "ignored",
     "output_type": "error",
     "traceback": [
      "\u001b[0;31m---------------------------------------------------------------------------\u001b[0m",
      "\u001b[0;31mTypeError\u001b[0m                                 Traceback (most recent call last)",
      "\u001b[0;32m<ipython-input-47-cf0e5bd1fc84>\u001b[0m in \u001b[0;36m<module>\u001b[0;34m()\u001b[0m\n\u001b[0;32m----> 1\u001b[0;31m \u001b[0ma\u001b[0m\u001b[0;34m[\u001b[0m\u001b[0;36m0\u001b[0m\u001b[0;34m]\u001b[0m \u001b[0;34m=\u001b[0m\u001b[0;36m11\u001b[0m\u001b[0;34m\u001b[0m\u001b[0;34m\u001b[0m\u001b[0m\n\u001b[0m",
      "\u001b[0;31mTypeError\u001b[0m: 'tensorflow.python.framework.ops.EagerTensor' object does not support item assignment"
     ]
    }
   ],
   "source": [
    "a[0] =11"
   ]
  },
  {
   "cell_type": "markdown",
   "id": "Hi5r0QTt_2-f",
   "metadata": {
    "id": "Hi5r0QTt_2-f"
   },
   "source": [
    "`-` 묵시적(간접적) 형변환이 불가능하다."
   ]
  },
  {
   "cell_type": "code",
   "execution_count": 48,
   "id": "XKNC7KAMAdlq",
   "metadata": {
    "colab": {
     "base_uri": "https://localhost:8080/"
    },
    "executionInfo": {
     "elapsed": 425,
     "status": "ok",
     "timestamp": 1647254302821,
     "user": {
      "displayName": "이강철",
      "photoUrl": "https://lh3.googleusercontent.com/a-/AOh14Gh842AtlEYrAXX4Lk_utP7Hd-zmxv5KSukeOCQ18g=s64",
      "userId": "13507850890638580947"
     },
     "user_tz": -540
    },
    "id": "XKNC7KAMAdlq",
    "outputId": "220f0e67-160e-4c58-91f2-09808567e645"
   },
   "outputs": [
    {
     "data": {
      "text/plain": [
       "4.140000000000001"
      ]
     },
     "execution_count": 48,
     "metadata": {},
     "output_type": "execute_result"
    }
   ],
   "source": [
    "1+3.14"
   ]
  },
  {
   "cell_type": "code",
   "execution_count": 54,
   "id": "V-JjxhoHAfUK",
   "metadata": {
    "colab": {
     "base_uri": "https://localhost:8080/",
     "height": 327
    },
    "executionInfo": {
     "elapsed": 6,
     "status": "error",
     "timestamp": 1647254424448,
     "user": {
      "displayName": "이강철",
      "photoUrl": "https://lh3.googleusercontent.com/a-/AOh14Gh842AtlEYrAXX4Lk_utP7Hd-zmxv5KSukeOCQ18g=s64",
      "userId": "13507850890638580947"
     },
     "user_tz": -540
    },
    "id": "V-JjxhoHAfUK",
    "outputId": "3bb815d0-8db5-452c-e92e-dc92a99e15ba"
   },
   "outputs": [
    {
     "ename": "InvalidArgumentError",
     "evalue": "ignored",
     "output_type": "error",
     "traceback": [
      "\u001b[0;31m---------------------------------------------------------------------------\u001b[0m",
      "\u001b[0;31mInvalidArgumentError\u001b[0m                      Traceback (most recent call last)",
      "\u001b[0;32m<ipython-input-54-51b23ac3bfb0>\u001b[0m in \u001b[0;36m<module>\u001b[0;34m()\u001b[0m\n\u001b[0;32m----> 1\u001b[0;31m \u001b[0mtf\u001b[0m\u001b[0;34m.\u001b[0m\u001b[0mconstant\u001b[0m\u001b[0;34m(\u001b[0m\u001b[0;36m1\u001b[0m\u001b[0;34m)\u001b[0m \u001b[0;34m+\u001b[0m \u001b[0mtf\u001b[0m\u001b[0;34m.\u001b[0m\u001b[0mconstant\u001b[0m\u001b[0;34m(\u001b[0m\u001b[0;36m3.14\u001b[0m\u001b[0;34m)\u001b[0m\u001b[0;34m\u001b[0m\u001b[0;34m\u001b[0m\u001b[0m\n\u001b[0m",
      "\u001b[0;32m/usr/local/lib/python3.7/dist-packages/tensorflow/python/util/traceback_utils.py\u001b[0m in \u001b[0;36merror_handler\u001b[0;34m(*args, **kwargs)\u001b[0m\n\u001b[1;32m    151\u001b[0m     \u001b[0;32mexcept\u001b[0m \u001b[0mException\u001b[0m \u001b[0;32mas\u001b[0m \u001b[0me\u001b[0m\u001b[0;34m:\u001b[0m\u001b[0;34m\u001b[0m\u001b[0;34m\u001b[0m\u001b[0m\n\u001b[1;32m    152\u001b[0m       \u001b[0mfiltered_tb\u001b[0m \u001b[0;34m=\u001b[0m \u001b[0m_process_traceback_frames\u001b[0m\u001b[0;34m(\u001b[0m\u001b[0me\u001b[0m\u001b[0;34m.\u001b[0m\u001b[0m__traceback__\u001b[0m\u001b[0;34m)\u001b[0m\u001b[0;34m\u001b[0m\u001b[0;34m\u001b[0m\u001b[0m\n\u001b[0;32m--> 153\u001b[0;31m       \u001b[0;32mraise\u001b[0m \u001b[0me\u001b[0m\u001b[0;34m.\u001b[0m\u001b[0mwith_traceback\u001b[0m\u001b[0;34m(\u001b[0m\u001b[0mfiltered_tb\u001b[0m\u001b[0;34m)\u001b[0m \u001b[0;32mfrom\u001b[0m \u001b[0;32mNone\u001b[0m\u001b[0;34m\u001b[0m\u001b[0;34m\u001b[0m\u001b[0m\n\u001b[0m\u001b[1;32m    154\u001b[0m     \u001b[0;32mfinally\u001b[0m\u001b[0;34m:\u001b[0m\u001b[0;34m\u001b[0m\u001b[0;34m\u001b[0m\u001b[0m\n\u001b[1;32m    155\u001b[0m       \u001b[0;32mdel\u001b[0m \u001b[0mfiltered_tb\u001b[0m\u001b[0;34m\u001b[0m\u001b[0;34m\u001b[0m\u001b[0m\n",
      "\u001b[0;32m/usr/local/lib/python3.7/dist-packages/tensorflow/python/framework/ops.py\u001b[0m in \u001b[0;36mraise_from_not_ok_status\u001b[0;34m(e, name)\u001b[0m\n\u001b[1;32m   7184\u001b[0m \u001b[0;32mdef\u001b[0m \u001b[0mraise_from_not_ok_status\u001b[0m\u001b[0;34m(\u001b[0m\u001b[0me\u001b[0m\u001b[0;34m,\u001b[0m \u001b[0mname\u001b[0m\u001b[0;34m)\u001b[0m\u001b[0;34m:\u001b[0m\u001b[0;34m\u001b[0m\u001b[0;34m\u001b[0m\u001b[0m\n\u001b[1;32m   7185\u001b[0m   \u001b[0me\u001b[0m\u001b[0;34m.\u001b[0m\u001b[0mmessage\u001b[0m \u001b[0;34m+=\u001b[0m \u001b[0;34m(\u001b[0m\u001b[0;34m\" name: \"\u001b[0m \u001b[0;34m+\u001b[0m \u001b[0mname\u001b[0m \u001b[0;32mif\u001b[0m \u001b[0mname\u001b[0m \u001b[0;32mis\u001b[0m \u001b[0;32mnot\u001b[0m \u001b[0;32mNone\u001b[0m \u001b[0;32melse\u001b[0m \u001b[0;34m\"\"\u001b[0m\u001b[0;34m)\u001b[0m\u001b[0;34m\u001b[0m\u001b[0;34m\u001b[0m\u001b[0m\n\u001b[0;32m-> 7186\u001b[0;31m   \u001b[0;32mraise\u001b[0m \u001b[0mcore\u001b[0m\u001b[0;34m.\u001b[0m\u001b[0m_status_to_exception\u001b[0m\u001b[0;34m(\u001b[0m\u001b[0me\u001b[0m\u001b[0;34m)\u001b[0m \u001b[0;32mfrom\u001b[0m \u001b[0;32mNone\u001b[0m  \u001b[0;31m# pylint: disable=protected-access\u001b[0m\u001b[0;34m\u001b[0m\u001b[0;34m\u001b[0m\u001b[0m\n\u001b[0m\u001b[1;32m   7187\u001b[0m \u001b[0;34m\u001b[0m\u001b[0m\n\u001b[1;32m   7188\u001b[0m \u001b[0;34m\u001b[0m\u001b[0m\n",
      "\u001b[0;31mInvalidArgumentError\u001b[0m: cannot compute AddV2 as input #1(zero-based) was expected to be a int32 tensor but is a float tensor [Op:AddV2]"
     ]
    }
   ],
   "source": [
    "tf.constant(1) + tf.constant(3.14)"
   ]
  },
  {
   "cell_type": "markdown",
   "id": "nGHz1s1VBODr",
   "metadata": {
    "id": "nGHz1s1VBODr"
   },
   "source": [
    "`-` 같은 float 도 안되는 경우가 있음"
   ]
  },
  {
   "cell_type": "code",
   "execution_count": 57,
   "id": "KHIM76SgBSBr",
   "metadata": {
    "colab": {
     "base_uri": "https://localhost:8080/",
     "height": 327
    },
    "executionInfo": {
     "elapsed": 427,
     "status": "error",
     "timestamp": 1647254550381,
     "user": {
      "displayName": "이강철",
      "photoUrl": "https://lh3.googleusercontent.com/a-/AOh14Gh842AtlEYrAXX4Lk_utP7Hd-zmxv5KSukeOCQ18g=s64",
      "userId": "13507850890638580947"
     },
     "user_tz": -540
    },
    "id": "KHIM76SgBSBr",
    "outputId": "44f30649-3421-4245-e2ed-6083d80f6eed"
   },
   "outputs": [
    {
     "ename": "InvalidArgumentError",
     "evalue": "ignored",
     "output_type": "error",
     "traceback": [
      "\u001b[0;31m---------------------------------------------------------------------------\u001b[0m",
      "\u001b[0;31mInvalidArgumentError\u001b[0m                      Traceback (most recent call last)",
      "\u001b[0;32m<ipython-input-57-4390fbcde8ad>\u001b[0m in \u001b[0;36m<module>\u001b[0;34m()\u001b[0m\n\u001b[0;32m----> 1\u001b[0;31m \u001b[0mtf\u001b[0m\u001b[0;34m.\u001b[0m\u001b[0mconstant\u001b[0m\u001b[0;34m(\u001b[0m\u001b[0;36m1.0\u001b[0m\u001b[0;34m,\u001b[0m \u001b[0mdtype\u001b[0m\u001b[0;34m=\u001b[0m \u001b[0mtf\u001b[0m\u001b[0;34m.\u001b[0m\u001b[0mfloat64\u001b[0m\u001b[0;34m)\u001b[0m \u001b[0;34m+\u001b[0m \u001b[0mtf\u001b[0m\u001b[0;34m.\u001b[0m\u001b[0mconstant\u001b[0m\u001b[0;34m(\u001b[0m\u001b[0;36m3.14\u001b[0m\u001b[0;34m)\u001b[0m\u001b[0;34m\u001b[0m\u001b[0;34m\u001b[0m\u001b[0m\n\u001b[0m",
      "\u001b[0;32m/usr/local/lib/python3.7/dist-packages/tensorflow/python/util/traceback_utils.py\u001b[0m in \u001b[0;36merror_handler\u001b[0;34m(*args, **kwargs)\u001b[0m\n\u001b[1;32m    151\u001b[0m     \u001b[0;32mexcept\u001b[0m \u001b[0mException\u001b[0m \u001b[0;32mas\u001b[0m \u001b[0me\u001b[0m\u001b[0;34m:\u001b[0m\u001b[0;34m\u001b[0m\u001b[0;34m\u001b[0m\u001b[0m\n\u001b[1;32m    152\u001b[0m       \u001b[0mfiltered_tb\u001b[0m \u001b[0;34m=\u001b[0m \u001b[0m_process_traceback_frames\u001b[0m\u001b[0;34m(\u001b[0m\u001b[0me\u001b[0m\u001b[0;34m.\u001b[0m\u001b[0m__traceback__\u001b[0m\u001b[0;34m)\u001b[0m\u001b[0;34m\u001b[0m\u001b[0;34m\u001b[0m\u001b[0m\n\u001b[0;32m--> 153\u001b[0;31m       \u001b[0;32mraise\u001b[0m \u001b[0me\u001b[0m\u001b[0;34m.\u001b[0m\u001b[0mwith_traceback\u001b[0m\u001b[0;34m(\u001b[0m\u001b[0mfiltered_tb\u001b[0m\u001b[0;34m)\u001b[0m \u001b[0;32mfrom\u001b[0m \u001b[0;32mNone\u001b[0m\u001b[0;34m\u001b[0m\u001b[0;34m\u001b[0m\u001b[0m\n\u001b[0m\u001b[1;32m    154\u001b[0m     \u001b[0;32mfinally\u001b[0m\u001b[0;34m:\u001b[0m\u001b[0;34m\u001b[0m\u001b[0;34m\u001b[0m\u001b[0m\n\u001b[1;32m    155\u001b[0m       \u001b[0;32mdel\u001b[0m \u001b[0mfiltered_tb\u001b[0m\u001b[0;34m\u001b[0m\u001b[0;34m\u001b[0m\u001b[0m\n",
      "\u001b[0;32m/usr/local/lib/python3.7/dist-packages/tensorflow/python/framework/ops.py\u001b[0m in \u001b[0;36mraise_from_not_ok_status\u001b[0;34m(e, name)\u001b[0m\n\u001b[1;32m   7184\u001b[0m \u001b[0;32mdef\u001b[0m \u001b[0mraise_from_not_ok_status\u001b[0m\u001b[0;34m(\u001b[0m\u001b[0me\u001b[0m\u001b[0;34m,\u001b[0m \u001b[0mname\u001b[0m\u001b[0;34m)\u001b[0m\u001b[0;34m:\u001b[0m\u001b[0;34m\u001b[0m\u001b[0;34m\u001b[0m\u001b[0m\n\u001b[1;32m   7185\u001b[0m   \u001b[0me\u001b[0m\u001b[0;34m.\u001b[0m\u001b[0mmessage\u001b[0m \u001b[0;34m+=\u001b[0m \u001b[0;34m(\u001b[0m\u001b[0;34m\" name: \"\u001b[0m \u001b[0;34m+\u001b[0m \u001b[0mname\u001b[0m \u001b[0;32mif\u001b[0m \u001b[0mname\u001b[0m \u001b[0;32mis\u001b[0m \u001b[0;32mnot\u001b[0m \u001b[0;32mNone\u001b[0m \u001b[0;32melse\u001b[0m \u001b[0;34m\"\"\u001b[0m\u001b[0;34m)\u001b[0m\u001b[0;34m\u001b[0m\u001b[0;34m\u001b[0m\u001b[0m\n\u001b[0;32m-> 7186\u001b[0;31m   \u001b[0;32mraise\u001b[0m \u001b[0mcore\u001b[0m\u001b[0;34m.\u001b[0m\u001b[0m_status_to_exception\u001b[0m\u001b[0;34m(\u001b[0m\u001b[0me\u001b[0m\u001b[0;34m)\u001b[0m \u001b[0;32mfrom\u001b[0m \u001b[0;32mNone\u001b[0m  \u001b[0;31m# pylint: disable=protected-access\u001b[0m\u001b[0;34m\u001b[0m\u001b[0;34m\u001b[0m\u001b[0m\n\u001b[0m\u001b[1;32m   7187\u001b[0m \u001b[0;34m\u001b[0m\u001b[0m\n\u001b[1;32m   7188\u001b[0m \u001b[0;34m\u001b[0m\u001b[0m\n",
      "\u001b[0;31mInvalidArgumentError\u001b[0m: cannot compute AddV2 as input #1(zero-based) was expected to be a double tensor but is a float tensor [Op:AddV2]"
     ]
    }
   ],
   "source": [
    "tf.constant(1.0, dtype= tf.float64) + tf.constant(3.14)"
   ]
  },
  {
   "cell_type": "markdown",
   "id": "0f7a75ed-b984-4f27-9440-d57253cb89bd",
   "metadata": {
    "id": "0f7a75ed-b984-4f27-9440-d57253cb89bd"
   },
   "source": [
    "### tf.constant $\\to$ 넘파이 "
   ]
  },
  {
   "cell_type": "code",
   "execution_count": 59,
   "id": "nGboyUjKCmTX",
   "metadata": {
    "colab": {
     "base_uri": "https://localhost:8080/"
    },
    "executionInfo": {
     "elapsed": 424,
     "status": "ok",
     "timestamp": 1647254865849,
     "user": {
      "displayName": "이강철",
      "photoUrl": "https://lh3.googleusercontent.com/a-/AOh14Gh842AtlEYrAXX4Lk_utP7Hd-zmxv5KSukeOCQ18g=s64",
      "userId": "13507850890638580947"
     },
     "user_tz": -540
    },
    "id": "nGboyUjKCmTX",
    "outputId": "6e679aa5-795d-4845-c382-d1c6fa5452b6"
   },
   "outputs": [
    {
     "data": {
      "text/plain": [
       "array(1, dtype=int32)"
      ]
     },
     "execution_count": 59,
     "metadata": {},
     "output_type": "execute_result"
    }
   ],
   "source": [
    "np.array(tf.constant(1))"
   ]
  },
  {
   "cell_type": "code",
   "execution_count": 60,
   "id": "er0OXrFWCEnD",
   "metadata": {
    "colab": {
     "base_uri": "https://localhost:8080/"
    },
    "executionInfo": {
     "elapsed": 4,
     "status": "ok",
     "timestamp": 1647254885799,
     "user": {
      "displayName": "이강철",
      "photoUrl": "https://lh3.googleusercontent.com/a-/AOh14Gh842AtlEYrAXX4Lk_utP7Hd-zmxv5KSukeOCQ18g=s64",
      "userId": "13507850890638580947"
     },
     "user_tz": -540
    },
    "id": "er0OXrFWCEnD",
    "outputId": "ff9601c9-2f29-4390-a283-18a77605e925"
   },
   "outputs": [
    {
     "data": {
      "text/plain": [
       "tensorflow.python.framework.ops.EagerTensor"
      ]
     },
     "execution_count": 60,
     "metadata": {},
     "output_type": "execute_result"
    }
   ],
   "source": [
    "a = tf.constant(3.14)\n",
    "type(a)"
   ]
  },
  {
   "cell_type": "code",
   "execution_count": 61,
   "id": "rf8WD-4RCt-J",
   "metadata": {
    "colab": {
     "base_uri": "https://localhost:8080/"
    },
    "executionInfo": {
     "elapsed": 7,
     "status": "ok",
     "timestamp": 1647254895571,
     "user": {
      "displayName": "이강철",
      "photoUrl": "https://lh3.googleusercontent.com/a-/AOh14Gh842AtlEYrAXX4Lk_utP7Hd-zmxv5KSukeOCQ18g=s64",
      "userId": "13507850890638580947"
     },
     "user_tz": -540
    },
    "id": "rf8WD-4RCt-J",
    "outputId": "16daf6a9-3e55-47d2-f3e4-45b0ba673383"
   },
   "outputs": [
    {
     "data": {
      "text/plain": [
       "3.14"
      ]
     },
     "execution_count": 61,
     "metadata": {},
     "output_type": "execute_result"
    }
   ],
   "source": [
    "a.numpy()"
   ]
  },
  {
   "cell_type": "markdown",
   "id": "b1e11f1e-122d-4de3-95e8-e8eda9dac045",
   "metadata": {
    "id": "b1e11f1e-122d-4de3-95e8-e8eda9dac045"
   },
   "source": [
    "## 연산"
   ]
  },
  {
   "cell_type": "markdown",
   "id": "qgnCoozuEmnl",
   "metadata": {
    "id": "qgnCoozuEmnl"
   },
   "source": [
    "### 더하기"
   ]
  },
  {
   "cell_type": "code",
   "execution_count": 64,
   "id": "GVgjs26RFu9k",
   "metadata": {
    "colab": {
     "base_uri": "https://localhost:8080/"
    },
    "executionInfo": {
     "elapsed": 8,
     "status": "ok",
     "timestamp": 1647255733824,
     "user": {
      "displayName": "이강철",
      "photoUrl": "https://lh3.googleusercontent.com/a-/AOh14Gh842AtlEYrAXX4Lk_utP7Hd-zmxv5KSukeOCQ18g=s64",
      "userId": "13507850890638580947"
     },
     "user_tz": -540
    },
    "id": "GVgjs26RFu9k",
    "outputId": "1678efb8-3793-4986-9cd0-7d4d8c925b81"
   },
   "outputs": [
    {
     "data": {
      "text/plain": [
       "<tf.Tensor: shape=(2,), dtype=int32, numpy=array([4, 6], dtype=int32)>"
      ]
     },
     "execution_count": 64,
     "metadata": {},
     "output_type": "execute_result"
    }
   ],
   "source": [
    "a = tf.constant([1,2])\n",
    "b = tf.constant([3,4])\n",
    "a+b"
   ]
  },
  {
   "cell_type": "code",
   "execution_count": 65,
   "id": "ZiG8G6gcF2Uu",
   "metadata": {
    "colab": {
     "base_uri": "https://localhost:8080/"
    },
    "executionInfo": {
     "elapsed": 423,
     "status": "ok",
     "timestamp": 1647255739959,
     "user": {
      "displayName": "이강철",
      "photoUrl": "https://lh3.googleusercontent.com/a-/AOh14Gh842AtlEYrAXX4Lk_utP7Hd-zmxv5KSukeOCQ18g=s64",
      "userId": "13507850890638580947"
     },
     "user_tz": -540
    },
    "id": "ZiG8G6gcF2Uu",
    "outputId": "68d25c32-3f3a-429a-96d5-5540103a4546"
   },
   "outputs": [
    {
     "data": {
      "text/plain": [
       "<tf.Tensor: shape=(2,), dtype=int32, numpy=array([4, 6], dtype=int32)>"
      ]
     },
     "execution_count": 65,
     "metadata": {},
     "output_type": "execute_result"
    }
   ],
   "source": [
    "tf.add(a,b) ## 이건 예전버전 "
   ]
  },
  {
   "cell_type": "markdown",
   "id": "iGHsToPfGJB-",
   "metadata": {
    "id": "iGHsToPfGJB-"
   },
   "source": [
    "### 곱하기"
   ]
  },
  {
   "cell_type": "markdown",
   "id": "TaKttbclGq39",
   "metadata": {
    "id": "TaKttbclGq39"
   },
   "source": [
    "`-` 결과가 조금 이상하다. 일반적인 행렬연사이 아니다"
   ]
  },
  {
   "cell_type": "code",
   "execution_count": 67,
   "id": "Owm4MMBmGLpT",
   "metadata": {
    "colab": {
     "base_uri": "https://localhost:8080/"
    },
    "executionInfo": {
     "elapsed": 440,
     "status": "ok",
     "timestamp": 1647255842575,
     "user": {
      "displayName": "이강철",
      "photoUrl": "https://lh3.googleusercontent.com/a-/AOh14Gh842AtlEYrAXX4Lk_utP7Hd-zmxv5KSukeOCQ18g=s64",
      "userId": "13507850890638580947"
     },
     "user_tz": -540
    },
    "id": "Owm4MMBmGLpT",
    "outputId": "a3d344a1-5032-45be-cf40-8bbc73c94203"
   },
   "outputs": [
    {
     "data": {
      "text/plain": [
       "<tf.Tensor: shape=(2, 2), dtype=int32, numpy=\n",
       "array([[ 5, 12],\n",
       "       [21, 32]], dtype=int32)>"
      ]
     },
     "execution_count": 67,
     "metadata": {},
     "output_type": "execute_result"
    }
   ],
   "source": [
    "a = tf.constant([[1,2],[3,4]])\n",
    "b = tf.constant([[5,6],[7,8]])\n",
    "a*b"
   ]
  },
  {
   "cell_type": "markdown",
   "id": "QM4q4I0xGdqT",
   "metadata": {
    "id": "QM4q4I0xGdqT"
   },
   "source": [
    "`-` but matrix의 곱은"
   ]
  },
  {
   "cell_type": "code",
   "execution_count": 68,
   "id": "cHe9qko2GgnU",
   "metadata": {
    "colab": {
     "base_uri": "https://localhost:8080/"
    },
    "executionInfo": {
     "elapsed": 4,
     "status": "ok",
     "timestamp": 1647255913920,
     "user": {
      "displayName": "이강철",
      "photoUrl": "https://lh3.googleusercontent.com/a-/AOh14Gh842AtlEYrAXX4Lk_utP7Hd-zmxv5KSukeOCQ18g=s64",
      "userId": "13507850890638580947"
     },
     "user_tz": -540
    },
    "id": "cHe9qko2GgnU",
    "outputId": "4055c1b7-ab23-4630-df6f-2bb1978b125a"
   },
   "outputs": [
    {
     "data": {
      "text/plain": [
       "<tf.Tensor: shape=(2, 1), dtype=int32, numpy=\n",
       "array([[5],\n",
       "       [7]], dtype=int32)>"
      ]
     },
     "execution_count": 68,
     "metadata": {},
     "output_type": "execute_result"
    }
   ],
   "source": [
    "a = tf.constant([[1,0],[0,1]])\n",
    "b = tf.constant([[5],[7]])\n",
    "a@b"
   ]
  },
  {
   "cell_type": "code",
   "execution_count": null,
   "id": "JWlJUcLAGuue",
   "metadata": {
    "id": "JWlJUcLAGuue"
   },
   "outputs": [],
   "source": [
    "tf.matmul(a,b) ## 위와 같은 표현"
   ]
  },
  {
   "cell_type": "markdown",
   "id": "4mPukjVSGyxB",
   "metadata": {
    "id": "4mPukjVSGyxB"
   },
   "source": [
    "### 역행렬"
   ]
  },
  {
   "cell_type": "code",
   "execution_count": 69,
   "id": "OvbMWbq3G3Wt",
   "metadata": {
    "colab": {
     "base_uri": "https://localhost:8080/"
    },
    "executionInfo": {
     "elapsed": 470,
     "status": "ok",
     "timestamp": 1647255997301,
     "user": {
      "displayName": "이강철",
      "photoUrl": "https://lh3.googleusercontent.com/a-/AOh14Gh842AtlEYrAXX4Lk_utP7Hd-zmxv5KSukeOCQ18g=s64",
      "userId": "13507850890638580947"
     },
     "user_tz": -540
    },
    "id": "OvbMWbq3G3Wt",
    "outputId": "62a0d2c2-1bfb-4aa1-eef1-dc5fad12b0d9"
   },
   "outputs": [
    {
     "data": {
      "text/plain": [
       "<tf.Tensor: shape=(2, 2), dtype=int32, numpy=\n",
       "array([[1, 0],\n",
       "       [0, 2]], dtype=int32)>"
      ]
     },
     "execution_count": 69,
     "metadata": {},
     "output_type": "execute_result"
    }
   ],
   "source": [
    "a = tf.constant([[1,0],[0,2]])\n",
    "a"
   ]
  },
  {
   "cell_type": "code",
   "execution_count": 70,
   "id": "I3Mrn5DVHA6o",
   "metadata": {
    "colab": {
     "base_uri": "https://localhost:8080/",
     "height": 364
    },
    "executionInfo": {
     "elapsed": 442,
     "status": "error",
     "timestamp": 1647256031430,
     "user": {
      "displayName": "이강철",
      "photoUrl": "https://lh3.googleusercontent.com/a-/AOh14Gh842AtlEYrAXX4Lk_utP7Hd-zmxv5KSukeOCQ18g=s64",
      "userId": "13507850890638580947"
     },
     "user_tz": -540
    },
    "id": "I3Mrn5DVHA6o",
    "outputId": "5e0e341a-21c1-4287-eb29-680bf714ba51"
   },
   "outputs": [
    {
     "ename": "InvalidArgumentError",
     "evalue": "ignored",
     "output_type": "error",
     "traceback": [
      "\u001b[0;31m---------------------------------------------------------------------------\u001b[0m",
      "\u001b[0;31mInvalidArgumentError\u001b[0m                      Traceback (most recent call last)",
      "\u001b[0;32m<ipython-input-70-fd9ade66c025>\u001b[0m in \u001b[0;36m<module>\u001b[0;34m()\u001b[0m\n\u001b[0;32m----> 1\u001b[0;31m \u001b[0mtf\u001b[0m\u001b[0;34m.\u001b[0m\u001b[0mlinalg\u001b[0m\u001b[0;34m.\u001b[0m\u001b[0minv\u001b[0m\u001b[0;34m(\u001b[0m\u001b[0ma\u001b[0m\u001b[0;34m)\u001b[0m\u001b[0;34m\u001b[0m\u001b[0;34m\u001b[0m\u001b[0m\n\u001b[0m",
      "\u001b[0;32m/usr/local/lib/python3.7/dist-packages/tensorflow/python/ops/gen_linalg_ops.py\u001b[0m in \u001b[0;36mmatrix_inverse\u001b[0;34m(input, adjoint, name)\u001b[0m\n\u001b[1;32m   1504\u001b[0m       \u001b[0;32mreturn\u001b[0m \u001b[0m_result\u001b[0m\u001b[0;34m\u001b[0m\u001b[0;34m\u001b[0m\u001b[0m\n\u001b[1;32m   1505\u001b[0m     \u001b[0;32mexcept\u001b[0m \u001b[0m_core\u001b[0m\u001b[0;34m.\u001b[0m\u001b[0m_NotOkStatusException\u001b[0m \u001b[0;32mas\u001b[0m \u001b[0me\u001b[0m\u001b[0;34m:\u001b[0m\u001b[0;34m\u001b[0m\u001b[0;34m\u001b[0m\u001b[0m\n\u001b[0;32m-> 1506\u001b[0;31m       \u001b[0m_ops\u001b[0m\u001b[0;34m.\u001b[0m\u001b[0mraise_from_not_ok_status\u001b[0m\u001b[0;34m(\u001b[0m\u001b[0me\u001b[0m\u001b[0;34m,\u001b[0m \u001b[0mname\u001b[0m\u001b[0;34m)\u001b[0m\u001b[0;34m\u001b[0m\u001b[0;34m\u001b[0m\u001b[0m\n\u001b[0m\u001b[1;32m   1507\u001b[0m     \u001b[0;32mexcept\u001b[0m \u001b[0m_core\u001b[0m\u001b[0;34m.\u001b[0m\u001b[0m_FallbackException\u001b[0m\u001b[0;34m:\u001b[0m\u001b[0;34m\u001b[0m\u001b[0;34m\u001b[0m\u001b[0m\n\u001b[1;32m   1508\u001b[0m       \u001b[0;32mpass\u001b[0m\u001b[0;34m\u001b[0m\u001b[0;34m\u001b[0m\u001b[0m\n",
      "\u001b[0;32m/usr/local/lib/python3.7/dist-packages/tensorflow/python/framework/ops.py\u001b[0m in \u001b[0;36mraise_from_not_ok_status\u001b[0;34m(e, name)\u001b[0m\n\u001b[1;32m   7184\u001b[0m \u001b[0;32mdef\u001b[0m \u001b[0mraise_from_not_ok_status\u001b[0m\u001b[0;34m(\u001b[0m\u001b[0me\u001b[0m\u001b[0;34m,\u001b[0m \u001b[0mname\u001b[0m\u001b[0;34m)\u001b[0m\u001b[0;34m:\u001b[0m\u001b[0;34m\u001b[0m\u001b[0;34m\u001b[0m\u001b[0m\n\u001b[1;32m   7185\u001b[0m   \u001b[0me\u001b[0m\u001b[0;34m.\u001b[0m\u001b[0mmessage\u001b[0m \u001b[0;34m+=\u001b[0m \u001b[0;34m(\u001b[0m\u001b[0;34m\" name: \"\u001b[0m \u001b[0;34m+\u001b[0m \u001b[0mname\u001b[0m \u001b[0;32mif\u001b[0m \u001b[0mname\u001b[0m \u001b[0;32mis\u001b[0m \u001b[0;32mnot\u001b[0m \u001b[0;32mNone\u001b[0m \u001b[0;32melse\u001b[0m \u001b[0;34m\"\"\u001b[0m\u001b[0;34m)\u001b[0m\u001b[0;34m\u001b[0m\u001b[0;34m\u001b[0m\u001b[0m\n\u001b[0;32m-> 7186\u001b[0;31m   \u001b[0;32mraise\u001b[0m \u001b[0mcore\u001b[0m\u001b[0;34m.\u001b[0m\u001b[0m_status_to_exception\u001b[0m\u001b[0;34m(\u001b[0m\u001b[0me\u001b[0m\u001b[0;34m)\u001b[0m \u001b[0;32mfrom\u001b[0m \u001b[0;32mNone\u001b[0m  \u001b[0;31m# pylint: disable=protected-access\u001b[0m\u001b[0;34m\u001b[0m\u001b[0;34m\u001b[0m\u001b[0m\n\u001b[0m\u001b[1;32m   7187\u001b[0m \u001b[0;34m\u001b[0m\u001b[0m\n\u001b[1;32m   7188\u001b[0m \u001b[0;34m\u001b[0m\u001b[0m\n",
      "\u001b[0;31mInvalidArgumentError\u001b[0m: Value for attr 'T' of int32 is not in the list of allowed values: double, float, half, complex64, complex128\n\t; NodeDef: {{node MatrixInverse}}; Op<name=MatrixInverse; signature=input:T -> output:T; attr=adjoint:bool,default=false; attr=T:type,allowed=[DT_DOUBLE, DT_FLOAT, DT_HALF, DT_COMPLEX64, DT_COMPLEX128]> [Op:MatrixInverse]"
     ]
    }
   ],
   "source": [
    "tf.linalg.inv(a)"
   ]
  },
  {
   "cell_type": "markdown",
   "id": "d7ZpupLgHUNe",
   "metadata": {
    "id": "d7ZpupLgHUNe"
   },
   "source": [
    "* 위의 경우는 자료가 int 형이여서 안되는 거임 "
   ]
  },
  {
   "cell_type": "code",
   "execution_count": 71,
   "id": "FMLeynSAHzbB",
   "metadata": {
    "executionInfo": {
     "elapsed": 543,
     "status": "ok",
     "timestamp": 1647256236917,
     "user": {
      "displayName": "이강철",
      "photoUrl": "https://lh3.googleusercontent.com/a-/AOh14Gh842AtlEYrAXX4Lk_utP7Hd-zmxv5KSukeOCQ18g=s64",
      "userId": "13507850890638580947"
     },
     "user_tz": -540
    },
    "id": "FMLeynSAHzbB"
   },
   "outputs": [],
   "source": [
    "?tf.constant"
   ]
  },
  {
   "cell_type": "markdown",
   "id": "7Vnc9NoWIBoF",
   "metadata": {
    "id": "7Vnc9NoWIBoF"
   },
   "source": [
    "* 아래오 같이 자료형을 선언해 주어야함 "
   ]
  },
  {
   "cell_type": "code",
   "execution_count": 72,
   "id": "c3MMWGclHxRh",
   "metadata": {
    "colab": {
     "base_uri": "https://localhost:8080/"
    },
    "executionInfo": {
     "elapsed": 4271,
     "status": "ok",
     "timestamp": 1647256260575,
     "user": {
      "displayName": "이강철",
      "photoUrl": "https://lh3.googleusercontent.com/a-/AOh14Gh842AtlEYrAXX4Lk_utP7Hd-zmxv5KSukeOCQ18g=s64",
      "userId": "13507850890638580947"
     },
     "user_tz": -540
    },
    "id": "c3MMWGclHxRh",
    "outputId": "b7d7cf82-2e3c-4b65-fcbf-8f385c6bdfa0"
   },
   "outputs": [
    {
     "data": {
      "text/plain": [
       "<tf.Tensor: shape=(2, 2), dtype=float32, numpy=\n",
       "array([[1. , 0. ],\n",
       "       [0. , 0.5]], dtype=float32)>"
      ]
     },
     "execution_count": 72,
     "metadata": {},
     "output_type": "execute_result"
    }
   ],
   "source": [
    "a = tf.constant([[1,0],[0,2]],dtype=float)\n",
    "tf.linalg.inv(a)"
   ]
  },
  {
   "cell_type": "markdown",
   "id": "OUtng2V1ISNk",
   "metadata": {
    "id": "OUtng2V1ISNk"
   },
   "source": [
    "### determinant"
   ]
  },
  {
   "cell_type": "code",
   "execution_count": 73,
   "id": "1MlB8HdfIAln",
   "metadata": {
    "colab": {
     "base_uri": "https://localhost:8080/"
    },
    "executionInfo": {
     "elapsed": 497,
     "status": "ok",
     "timestamp": 1647256330014,
     "user": {
      "displayName": "이강철",
      "photoUrl": "https://lh3.googleusercontent.com/a-/AOh14Gh842AtlEYrAXX4Lk_utP7Hd-zmxv5KSukeOCQ18g=s64",
      "userId": "13507850890638580947"
     },
     "user_tz": -540
    },
    "id": "1MlB8HdfIAln",
    "outputId": "4bc34ad2-db43-4d77-b919-7e104373656f"
   },
   "outputs": [
    {
     "name": "stdout",
     "output_type": "stream",
     "text": [
      "tf.Tensor(\n",
      "[[1. 2.]\n",
      " [3. 4.]], shape=(2, 2), dtype=float32)\n"
     ]
    },
    {
     "data": {
      "text/plain": [
       "<tf.Tensor: shape=(), dtype=float32, numpy=-2.0>"
      ]
     },
     "execution_count": 73,
     "metadata": {},
     "output_type": "execute_result"
    }
   ],
   "source": [
    "a = tf.constant([[1,2],[3,4]],dtype=float)\n",
    "print(a)\n",
    "tf.linalg.det(a)"
   ]
  },
  {
   "cell_type": "markdown",
   "id": "ixOSv89GIV2-",
   "metadata": {
    "id": "ixOSv89GIV2-"
   },
   "source": [
    "### Trace"
   ]
  },
  {
   "cell_type": "code",
   "execution_count": 74,
   "id": "TDrE4BkHIYHG",
   "metadata": {
    "colab": {
     "base_uri": "https://localhost:8080/"
    },
    "executionInfo": {
     "elapsed": 413,
     "status": "ok",
     "timestamp": 1647256381703,
     "user": {
      "displayName": "이강철",
      "photoUrl": "https://lh3.googleusercontent.com/a-/AOh14Gh842AtlEYrAXX4Lk_utP7Hd-zmxv5KSukeOCQ18g=s64",
      "userId": "13507850890638580947"
     },
     "user_tz": -540
    },
    "id": "TDrE4BkHIYHG",
    "outputId": "c36b05e8-bf84-4462-e329-68d828533557"
   },
   "outputs": [
    {
     "data": {
      "text/plain": [
       "<tf.Tensor: shape=(), dtype=float32, numpy=5.0>"
      ]
     },
     "execution_count": 74,
     "metadata": {},
     "output_type": "execute_result"
    }
   ],
   "source": [
    "tf.linalg.trace(a)"
   ]
  },
  {
   "cell_type": "markdown",
   "id": "36eb6964-8d92-469c-b4fd-5e9ae19bf9af",
   "metadata": {
    "id": "36eb6964-8d92-469c-b4fd-5e9ae19bf9af",
    "tags": []
   },
   "source": [
    "## 형태변환"
   ]
  },
  {
   "cell_type": "markdown",
   "id": "k5ysFg7wJLBM",
   "metadata": {
    "id": "k5ysFg7wJLBM"
   },
   "source": [
    "`-` 1 x 4 행렬을 $\\to$  4 x 1 "
   ]
  },
  {
   "cell_type": "code",
   "execution_count": 75,
   "id": "GL0ia92PJCsD",
   "metadata": {
    "colab": {
     "base_uri": "https://localhost:8080/"
    },
    "executionInfo": {
     "elapsed": 4,
     "status": "ok",
     "timestamp": 1647256567805,
     "user": {
      "displayName": "이강철",
      "photoUrl": "https://lh3.googleusercontent.com/a-/AOh14Gh842AtlEYrAXX4Lk_utP7Hd-zmxv5KSukeOCQ18g=s64",
      "userId": "13507850890638580947"
     },
     "user_tz": -540
    },
    "id": "GL0ia92PJCsD",
    "outputId": "2a30d98d-b25e-4cc4-fb82-6df836db6069"
   },
   "outputs": [
    {
     "data": {
      "text/plain": [
       "<tf.Tensor: shape=(4,), dtype=int32, numpy=array([1, 2, 3, 4], dtype=int32)>"
      ]
     },
     "execution_count": 75,
     "metadata": {},
     "output_type": "execute_result"
    }
   ],
   "source": [
    "a = tf.constant([1,2,3,4])\n",
    "a"
   ]
  },
  {
   "cell_type": "code",
   "execution_count": 76,
   "id": "F5AqtEKTJH-H",
   "metadata": {
    "colab": {
     "base_uri": "https://localhost:8080/"
    },
    "executionInfo": {
     "elapsed": 516,
     "status": "ok",
     "timestamp": 1647256639902,
     "user": {
      "displayName": "이강철",
      "photoUrl": "https://lh3.googleusercontent.com/a-/AOh14Gh842AtlEYrAXX4Lk_utP7Hd-zmxv5KSukeOCQ18g=s64",
      "userId": "13507850890638580947"
     },
     "user_tz": -540
    },
    "id": "F5AqtEKTJH-H",
    "outputId": "3b2e339a-bbba-4b61-caa9-d4212c4598b3"
   },
   "outputs": [
    {
     "data": {
      "text/plain": [
       "<tf.Tensor: shape=(2, 2), dtype=int32, numpy=\n",
       "array([[1, 2],\n",
       "       [3, 4]], dtype=int32)>"
      ]
     },
     "execution_count": 76,
     "metadata": {},
     "output_type": "execute_result"
    }
   ],
   "source": [
    "tf.reshape(a,(2,2))"
   ]
  },
  {
   "cell_type": "markdown",
   "id": "vj1Qj81IJd3H",
   "metadata": {
    "id": "vj1Qj81IJd3H"
   },
   "source": [
    "`-` 3차원으로도 변경이 가능"
   ]
  },
  {
   "cell_type": "code",
   "execution_count": 77,
   "id": "5c2GBie9JaDc",
   "metadata": {
    "colab": {
     "base_uri": "https://localhost:8080/"
    },
    "executionInfo": {
     "elapsed": 417,
     "status": "ok",
     "timestamp": 1647256647441,
     "user": {
      "displayName": "이강철",
      "photoUrl": "https://lh3.googleusercontent.com/a-/AOh14Gh842AtlEYrAXX4Lk_utP7Hd-zmxv5KSukeOCQ18g=s64",
      "userId": "13507850890638580947"
     },
     "user_tz": -540
    },
    "id": "5c2GBie9JaDc",
    "outputId": "0bc956d6-ee2b-46d8-8fba-11a504028d9b"
   },
   "outputs": [
    {
     "data": {
      "text/plain": [
       "<tf.Tensor: shape=(2, 2, 1), dtype=int32, numpy=\n",
       "array([[[1],\n",
       "        [2]],\n",
       "\n",
       "       [[3],\n",
       "        [4]]], dtype=int32)>"
      ]
     },
     "execution_count": 77,
     "metadata": {},
     "output_type": "execute_result"
    }
   ],
   "source": [
    "tf.reshape(a,(2,2,1))"
   ]
  },
  {
   "cell_type": "markdown",
   "id": "2SoXrRFYJrsL",
   "metadata": {
    "id": "2SoXrRFYJrsL"
   },
   "source": [
    "`-` 다차원의 경우 적용"
   ]
  },
  {
   "cell_type": "code",
   "execution_count": 81,
   "id": "rXskIY7FJjRO",
   "metadata": {
    "colab": {
     "base_uri": "https://localhost:8080/"
    },
    "executionInfo": {
     "elapsed": 2,
     "status": "ok",
     "timestamp": 1647256703437,
     "user": {
      "displayName": "이강철",
      "photoUrl": "https://lh3.googleusercontent.com/a-/AOh14Gh842AtlEYrAXX4Lk_utP7Hd-zmxv5KSukeOCQ18g=s64",
      "userId": "13507850890638580947"
     },
     "user_tz": -540
    },
    "id": "rXskIY7FJjRO",
    "outputId": "4d4d184f-c0fb-41e7-fd8d-3ebb668e104c"
   },
   "outputs": [
    {
     "data": {
      "text/plain": [
       "<tf.Tensor: shape=(12,), dtype=int32, numpy=array([ 1,  2,  3,  4,  5,  6,  7,  8,  9, 10, 11, 12], dtype=int32)>"
      ]
     },
     "execution_count": 81,
     "metadata": {},
     "output_type": "execute_result"
    }
   ],
   "source": [
    "a = tf.constant(list(range(1,13)))\n",
    "a"
   ]
  },
  {
   "cell_type": "code",
   "execution_count": 82,
   "id": "9O-39AdaJt_Z",
   "metadata": {
    "colab": {
     "base_uri": "https://localhost:8080/"
    },
    "executionInfo": {
     "elapsed": 491,
     "status": "ok",
     "timestamp": 1647256734468,
     "user": {
      "displayName": "이강철",
      "photoUrl": "https://lh3.googleusercontent.com/a-/AOh14Gh842AtlEYrAXX4Lk_utP7Hd-zmxv5KSukeOCQ18g=s64",
      "userId": "13507850890638580947"
     },
     "user_tz": -540
    },
    "id": "9O-39AdaJt_Z",
    "outputId": "e3fa32b0-142c-412c-b72b-2fb00dff9755"
   },
   "outputs": [
    {
     "data": {
      "text/plain": [
       "<tf.Tensor: shape=(2, 2, 3), dtype=int32, numpy=\n",
       "array([[[ 1,  2,  3],\n",
       "        [ 4,  5,  6]],\n",
       "\n",
       "       [[ 7,  8,  9],\n",
       "        [10, 11, 12]]], dtype=int32)>"
      ]
     },
     "execution_count": 82,
     "metadata": {},
     "output_type": "execute_result"
    }
   ],
   "source": [
    "tf.reshape(a,(2,2,3))"
   ]
  },
  {
   "cell_type": "code",
   "execution_count": 83,
   "id": "rLhsnqKRJxk-",
   "metadata": {
    "colab": {
     "base_uri": "https://localhost:8080/"
    },
    "executionInfo": {
     "elapsed": 410,
     "status": "ok",
     "timestamp": 1647256745784,
     "user": {
      "displayName": "이강철",
      "photoUrl": "https://lh3.googleusercontent.com/a-/AOh14Gh842AtlEYrAXX4Lk_utP7Hd-zmxv5KSukeOCQ18g=s64",
      "userId": "13507850890638580947"
     },
     "user_tz": -540
    },
    "id": "rLhsnqKRJxk-",
    "outputId": "9a54213c-ec23-4cb9-db98-3288f67aaed0"
   },
   "outputs": [
    {
     "data": {
      "text/plain": [
       "<tf.Tensor: shape=(4, 3), dtype=int32, numpy=\n",
       "array([[ 1,  2,  3],\n",
       "       [ 4,  5,  6],\n",
       "       [ 7,  8,  9],\n",
       "       [10, 11, 12]], dtype=int32)>"
      ]
     },
     "execution_count": 83,
     "metadata": {},
     "output_type": "execute_result"
    }
   ],
   "source": [
    "tf.reshape(a,(4,3))"
   ]
  },
  {
   "cell_type": "markdown",
   "id": "2-LjEwjKKDJd",
   "metadata": {
    "id": "2-LjEwjKKDJd"
   },
   "source": [
    "* `-1` 을 기입하면 남은 차원 수를 알아서 기입해줌 `-1` = `?` 라고 생각"
   ]
  },
  {
   "cell_type": "code",
   "execution_count": 86,
   "id": "4g8perxxJ-xe",
   "metadata": {
    "colab": {
     "base_uri": "https://localhost:8080/"
    },
    "executionInfo": {
     "elapsed": 518,
     "status": "ok",
     "timestamp": 1647256809561,
     "user": {
      "displayName": "이강철",
      "photoUrl": "https://lh3.googleusercontent.com/a-/AOh14Gh842AtlEYrAXX4Lk_utP7Hd-zmxv5KSukeOCQ18g=s64",
      "userId": "13507850890638580947"
     },
     "user_tz": -540
    },
    "id": "4g8perxxJ-xe",
    "outputId": "1728f17b-b7a0-4704-b8f6-b572a844657e"
   },
   "outputs": [
    {
     "data": {
      "text/plain": [
       "<tf.Tensor: shape=(4, 3), dtype=int32, numpy=\n",
       "array([[ 1,  2,  3],\n",
       "       [ 4,  5,  6],\n",
       "       [ 7,  8,  9],\n",
       "       [10, 11, 12]], dtype=int32)>"
      ]
     },
     "execution_count": 86,
     "metadata": {},
     "output_type": "execute_result"
    }
   ],
   "source": [
    "tf.reshape(a,(4,-1))"
   ]
  },
  {
   "cell_type": "code",
   "execution_count": 89,
   "id": "tJobZo4sKM6p",
   "metadata": {
    "colab": {
     "base_uri": "https://localhost:8080/"
    },
    "executionInfo": {
     "elapsed": 421,
     "status": "ok",
     "timestamp": 1647256895782,
     "user": {
      "displayName": "이강철",
      "photoUrl": "https://lh3.googleusercontent.com/a-/AOh14Gh842AtlEYrAXX4Lk_utP7Hd-zmxv5KSukeOCQ18g=s64",
      "userId": "13507850890638580947"
     },
     "user_tz": -540
    },
    "id": "tJobZo4sKM6p",
    "outputId": "822961e9-dc60-4dbd-b93c-f407b0acdacc"
   },
   "outputs": [
    {
     "data": {
      "text/plain": [
       "<tf.Tensor: shape=(2, 2, 3), dtype=int32, numpy=\n",
       "array([[[ 1,  2,  3],\n",
       "        [ 4,  5,  6]],\n",
       "\n",
       "       [[ 7,  8,  9],\n",
       "        [10, 11, 12]]], dtype=int32)>"
      ]
     },
     "execution_count": 89,
     "metadata": {},
     "output_type": "execute_result"
    }
   ],
   "source": [
    "b= tf.reshape(a,(2,2,-1))\n",
    "b"
   ]
  },
  {
   "cell_type": "markdown",
   "id": "zCN98xgCKcsH",
   "metadata": {
    "id": "zCN98xgCKcsH"
   },
   "source": [
    "`-` 다시 일차원으로 되돌림 "
   ]
  },
  {
   "cell_type": "code",
   "execution_count": 90,
   "id": "cgabDzJoKYVV",
   "metadata": {
    "colab": {
     "base_uri": "https://localhost:8080/"
    },
    "executionInfo": {
     "elapsed": 574,
     "status": "ok",
     "timestamp": 1647256912523,
     "user": {
      "displayName": "이강철",
      "photoUrl": "https://lh3.googleusercontent.com/a-/AOh14Gh842AtlEYrAXX4Lk_utP7Hd-zmxv5KSukeOCQ18g=s64",
      "userId": "13507850890638580947"
     },
     "user_tz": -540
    },
    "id": "cgabDzJoKYVV",
    "outputId": "2ca02020-9170-4ada-d9b1-f351d0c4823c"
   },
   "outputs": [
    {
     "data": {
      "text/plain": [
       "<tf.Tensor: shape=(12,), dtype=int32, numpy=array([ 1,  2,  3,  4,  5,  6,  7,  8,  9, 10, 11, 12], dtype=int32)>"
      ]
     },
     "execution_count": 90,
     "metadata": {},
     "output_type": "execute_result"
    }
   ],
   "source": [
    "tf.reshape(b,-1)"
   ]
  },
  {
   "cell_type": "markdown",
   "id": "327eb735-9f41-40d5-8837-1ff630860b58",
   "metadata": {
    "id": "327eb735-9f41-40d5-8837-1ff630860b58"
   },
   "source": [
    "## 선언고급 "
   ]
  },
  {
   "cell_type": "markdown",
   "id": "Np37nBqvKku5",
   "metadata": {
    "id": "Np37nBqvKku5"
   },
   "source": [
    "`-` 리스트나, 넘파이로 만들고 output을 tensor로 변경하는 것도 좋은 방법이다."
   ]
  },
  {
   "cell_type": "code",
   "execution_count": 93,
   "id": "MgFK7WSvKv6g",
   "metadata": {
    "colab": {
     "base_uri": "https://localhost:8080/"
    },
    "executionInfo": {
     "elapsed": 2,
     "status": "ok",
     "timestamp": 1647257071788,
     "user": {
      "displayName": "이강철",
      "photoUrl": "https://lh3.googleusercontent.com/a-/AOh14Gh842AtlEYrAXX4Lk_utP7Hd-zmxv5KSukeOCQ18g=s64",
      "userId": "13507850890638580947"
     },
     "user_tz": -540
    },
    "id": "MgFK7WSvKv6g",
    "outputId": "0a8d2da2-413c-4ceb-ced9-6281f4feb432"
   },
   "outputs": [
    {
     "data": {
      "text/plain": [
       "<tf.Tensor: shape=(4, 4), dtype=int64, numpy=\n",
       "array([[1, 0, 0, 0],\n",
       "       [0, 2, 0, 0],\n",
       "       [0, 0, 3, 0],\n",
       "       [0, 0, 0, 4]])>"
      ]
     },
     "execution_count": 93,
     "metadata": {},
     "output_type": "execute_result"
    }
   ],
   "source": [
    "ㅣ = [1,2,3,4]\n",
    "tf.constant(np.diag(ㅣ))"
   ]
  },
  {
   "cell_type": "markdown",
   "id": "UY8BKlU1K8zt",
   "metadata": {
    "id": "UY8BKlU1K8zt"
   },
   "source": [
    "`-` tf.ones, tf.zeros "
   ]
  },
  {
   "cell_type": "code",
   "execution_count": 94,
   "id": "umziaBtgLEy-",
   "metadata": {
    "colab": {
     "base_uri": "https://localhost:8080/"
    },
    "executionInfo": {
     "elapsed": 485,
     "status": "ok",
     "timestamp": 1647257090067,
     "user": {
      "displayName": "이강철",
      "photoUrl": "https://lh3.googleusercontent.com/a-/AOh14Gh842AtlEYrAXX4Lk_utP7Hd-zmxv5KSukeOCQ18g=s64",
      "userId": "13507850890638580947"
     },
     "user_tz": -540
    },
    "id": "umziaBtgLEy-",
    "outputId": "41cad85b-2b57-46fb-90e0-0616eefa4860"
   },
   "outputs": [
    {
     "data": {
      "text/plain": [
       "<tf.Tensor: shape=(3, 3), dtype=float32, numpy=\n",
       "array([[0., 0., 0.],\n",
       "       [0., 0., 0.],\n",
       "       [0., 0., 0.]], dtype=float32)>"
      ]
     },
     "execution_count": 94,
     "metadata": {},
     "output_type": "execute_result"
    }
   ],
   "source": [
    "tf.zeros([3,3])"
   ]
  },
  {
   "cell_type": "markdown",
   "id": "7rNbZvdyMH_n",
   "metadata": {
    "id": "7rNbZvdyMH_n"
   },
   "source": [
    "`-` tf.linspace(0,1,10)"
   ]
  },
  {
   "cell_type": "code",
   "execution_count": 95,
   "id": "5qffbijkML-Q",
   "metadata": {
    "colab": {
     "base_uri": "https://localhost:8080/"
    },
    "executionInfo": {
     "elapsed": 1018,
     "status": "ok",
     "timestamp": 1647257376352,
     "user": {
      "displayName": "이강철",
      "photoUrl": "https://lh3.googleusercontent.com/a-/AOh14Gh842AtlEYrAXX4Lk_utP7Hd-zmxv5KSukeOCQ18g=s64",
      "userId": "13507850890638580947"
     },
     "user_tz": -540
    },
    "id": "5qffbijkML-Q",
    "outputId": "72ac7fb5-cdc8-4f32-c22b-bc05e7da4e07"
   },
   "outputs": [
    {
     "data": {
      "text/plain": [
       "<tf.Tensor: shape=(10,), dtype=float64, numpy=\n",
       "array([0.        , 0.11111111, 0.22222222, 0.33333333, 0.44444444,\n",
       "       0.55555556, 0.66666667, 0.77777778, 0.88888889, 1.        ])>"
      ]
     },
     "execution_count": 95,
     "metadata": {},
     "output_type": "execute_result"
    }
   ],
   "source": [
    "tf.linspace(0,1,10)"
   ]
  },
  {
   "cell_type": "markdown",
   "id": "2d0f27b7-688e-437a-856a-7ebb6d6a4a27",
   "metadata": {
    "id": "2d0f27b7-688e-437a-856a-7ebb6d6a4a27"
   },
   "source": [
    "## tf.concat "
   ]
  },
  {
   "cell_type": "code",
   "execution_count": 110,
   "id": "sQEs7S8qQiHa",
   "metadata": {
    "colab": {
     "base_uri": "https://localhost:8080/"
    },
    "executionInfo": {
     "elapsed": 492,
     "status": "ok",
     "timestamp": 1647258523297,
     "user": {
      "displayName": "이강철",
      "photoUrl": "https://lh3.googleusercontent.com/a-/AOh14Gh842AtlEYrAXX4Lk_utP7Hd-zmxv5KSukeOCQ18g=s64",
      "userId": "13507850890638580947"
     },
     "user_tz": -540
    },
    "id": "sQEs7S8qQiHa",
    "outputId": "ffb1215e-ba35-4458-fb34-f5d3e21dde67"
   },
   "outputs": [
    {
     "data": {
      "text/plain": [
       "(<tf.Tensor: shape=(2,), dtype=int32, numpy=array([1, 2], dtype=int32)>,\n",
       " <tf.Tensor: shape=(2,), dtype=int32, numpy=array([3, 4], dtype=int32)>)"
      ]
     },
     "execution_count": 110,
     "metadata": {},
     "output_type": "execute_result"
    }
   ],
   "source": [
    "a = tf.constant([1,2])\n",
    "b = tf.constant([3,4])\n",
    "a,b"
   ]
  },
  {
   "cell_type": "code",
   "execution_count": 97,
   "id": "1Pl0SzsjMvzZ",
   "metadata": {
    "colab": {
     "base_uri": "https://localhost:8080/"
    },
    "executionInfo": {
     "elapsed": 7,
     "status": "ok",
     "timestamp": 1647257584419,
     "user": {
      "displayName": "이강철",
      "photoUrl": "https://lh3.googleusercontent.com/a-/AOh14Gh842AtlEYrAXX4Lk_utP7Hd-zmxv5KSukeOCQ18g=s64",
      "userId": "13507850890638580947"
     },
     "user_tz": -540
    },
    "id": "1Pl0SzsjMvzZ",
    "outputId": "c88f6cff-5e53-49c8-cb96-d7da3907e44a"
   },
   "outputs": [
    {
     "data": {
      "text/plain": [
       "(<tf.Tensor: shape=(2, 1), dtype=int32, numpy=\n",
       " array([[1],\n",
       "        [2]], dtype=int32)>, <tf.Tensor: shape=(2, 1), dtype=int32, numpy=\n",
       " array([[3],\n",
       "        [4]], dtype=int32)>)"
      ]
     },
     "execution_count": 97,
     "metadata": {},
     "output_type": "execute_result"
    }
   ],
   "source": [
    "a = tf.constant([[1],[2]])\n",
    "b = tf.constant([[3],[4]])\n",
    "a,b"
   ]
  },
  {
   "cell_type": "code",
   "execution_count": 99,
   "id": "coi1km30NDkf",
   "metadata": {
    "colab": {
     "base_uri": "https://localhost:8080/"
    },
    "executionInfo": {
     "elapsed": 412,
     "status": "ok",
     "timestamp": 1647257618315,
     "user": {
      "displayName": "이강철",
      "photoUrl": "https://lh3.googleusercontent.com/a-/AOh14Gh842AtlEYrAXX4Lk_utP7Hd-zmxv5KSukeOCQ18g=s64",
      "userId": "13507850890638580947"
     },
     "user_tz": -540
    },
    "id": "coi1km30NDkf",
    "outputId": "950a90a2-6c71-4be8-b0f8-9b17d1434c7e"
   },
   "outputs": [
    {
     "data": {
      "text/plain": [
       "<tf.Tensor: shape=(4, 1), dtype=int32, numpy=\n",
       "array([[1],\n",
       "       [2],\n",
       "       [3],\n",
       "       [4]], dtype=int32)>"
      ]
     },
     "execution_count": 99,
     "metadata": {},
     "output_type": "execute_result"
    }
   ],
   "source": [
    "tf.concat([a,b],axis=0)"
   ]
  },
  {
   "cell_type": "code",
   "execution_count": 102,
   "id": "GA1UwZAdOHKm",
   "metadata": {
    "colab": {
     "base_uri": "https://localhost:8080/"
    },
    "executionInfo": {
     "elapsed": 427,
     "status": "ok",
     "timestamp": 1647258001274,
     "user": {
      "displayName": "이강철",
      "photoUrl": "https://lh3.googleusercontent.com/a-/AOh14Gh842AtlEYrAXX4Lk_utP7Hd-zmxv5KSukeOCQ18g=s64",
      "userId": "13507850890638580947"
     },
     "user_tz": -540
    },
    "id": "GA1UwZAdOHKm",
    "outputId": "3b2a5276-f462-4f08-859f-829d583b63fd"
   },
   "outputs": [
    {
     "data": {
      "text/plain": [
       "(<tf.Tensor: shape=(2, 1), dtype=int32, numpy=\n",
       " array([[1],\n",
       "        [2]], dtype=int32)>, <tf.Tensor: shape=(2, 1), dtype=int32, numpy=\n",
       " array([[3],\n",
       "        [4]], dtype=int32)>)"
      ]
     },
     "execution_count": 102,
     "metadata": {},
     "output_type": "execute_result"
    }
   ],
   "source": [
    "a = tf.constant([[1],[2]])\n",
    "b = tf.constant([[3],[4]])\n",
    "a,b"
   ]
  },
  {
   "cell_type": "code",
   "execution_count": 103,
   "id": "VxAm9IziNKU_",
   "metadata": {
    "colab": {
     "base_uri": "https://localhost:8080/"
    },
    "executionInfo": {
     "elapsed": 8,
     "status": "ok",
     "timestamp": 1647258004615,
     "user": {
      "displayName": "이강철",
      "photoUrl": "https://lh3.googleusercontent.com/a-/AOh14Gh842AtlEYrAXX4Lk_utP7Hd-zmxv5KSukeOCQ18g=s64",
      "userId": "13507850890638580947"
     },
     "user_tz": -540
    },
    "id": "VxAm9IziNKU_",
    "outputId": "6a26b14b-8832-450b-9f68-47f794e4367c"
   },
   "outputs": [
    {
     "data": {
      "text/plain": [
       "<tf.Tensor: shape=(2, 2), dtype=int32, numpy=\n",
       "array([[1, 3],\n",
       "       [2, 4]], dtype=int32)>"
      ]
     },
     "execution_count": 103,
     "metadata": {},
     "output_type": "execute_result"
    }
   ],
   "source": [
    "tf.concat([a,b],axis=1)"
   ]
  },
  {
   "cell_type": "code",
   "execution_count": 109,
   "id": "q3HS_68vPEzX",
   "metadata": {
    "colab": {
     "base_uri": "https://localhost:8080/"
    },
    "executionInfo": {
     "elapsed": 419,
     "status": "ok",
     "timestamp": 1647258137135,
     "user": {
      "displayName": "이강철",
      "photoUrl": "https://lh3.googleusercontent.com/a-/AOh14Gh842AtlEYrAXX4Lk_utP7Hd-zmxv5KSukeOCQ18g=s64",
      "userId": "13507850890638580947"
     },
     "user_tz": -540
    },
    "id": "q3HS_68vPEzX",
    "outputId": "1ddddd0e-9273-4285-fd3d-28205dcd80e7"
   },
   "outputs": [
    {
     "data": {
      "text/plain": [
       "<tf.Tensor: shape=(4,), dtype=int32, numpy=array([1, 2, 3, 4], dtype=int32)>"
      ]
     },
     "execution_count": 109,
     "metadata": {},
     "output_type": "execute_result"
    }
   ],
   "source": [
    "a = tf.constant([1,2])\n",
    "b = tf.constant([3,4])\n",
    "a,b\n",
    "\n",
    "tf.concat([a,b],axis=0)"
   ]
  },
  {
   "cell_type": "code",
   "execution_count": 108,
   "id": "ZX7TcQAhOfGq",
   "metadata": {
    "colab": {
     "base_uri": "https://localhost:8080/"
    },
    "executionInfo": {
     "elapsed": 425,
     "status": "ok",
     "timestamp": 1647258117221,
     "user": {
      "displayName": "이강철",
      "photoUrl": "https://lh3.googleusercontent.com/a-/AOh14Gh842AtlEYrAXX4Lk_utP7Hd-zmxv5KSukeOCQ18g=s64",
      "userId": "13507850890638580947"
     },
     "user_tz": -540
    },
    "id": "ZX7TcQAhOfGq",
    "outputId": "b36fd95d-e30c-4546-fb56-e213938973e7"
   },
   "outputs": [
    {
     "data": {
      "text/plain": [
       "<tf.Tensor: shape=(2, 2), dtype=int32, numpy=\n",
       "array([[1, 2],\n",
       "       [3, 4]], dtype=int32)>"
      ]
     },
     "execution_count": 108,
     "metadata": {},
     "output_type": "execute_result"
    }
   ],
   "source": [
    "a = tf.constant([[1,2]]) \n",
    "b = tf.constant([[3,4]])\n",
    "a,b\n",
    "\n",
    "tf.concat([a,b],axis=0)"
   ]
  },
  {
   "cell_type": "markdown",
   "id": "F57Ey4x1Q1NZ",
   "metadata": {
    "id": "F57Ey4x1Q1NZ"
   },
   "source": [
    "### 차원 수 증가 "
   ]
  },
  {
   "cell_type": "markdown",
   "id": "4iqakmfMRKd5",
   "metadata": {
    "id": "4iqakmfMRKd5"
   },
   "source": [
    "* `(2,3,4,5)` concat `(2,3,4,5)` => `(4,3,4,5)`"
   ]
  },
  {
   "cell_type": "code",
   "execution_count": 117,
   "id": "RNQglR8QQ_fZ",
   "metadata": {
    "executionInfo": {
     "elapsed": 415,
     "status": "ok",
     "timestamp": 1647258749257,
     "user": {
      "displayName": "이강철",
      "photoUrl": "https://lh3.googleusercontent.com/a-/AOh14Gh842AtlEYrAXX4Lk_utP7Hd-zmxv5KSukeOCQ18g=s64",
      "userId": "13507850890638580947"
     },
     "user_tz": -540
    },
    "id": "RNQglR8QQ_fZ"
   },
   "outputs": [],
   "source": [
    "a=tf.reshape(tf.constant(range(120)),(2,3,4,5))\n",
    "b= -a"
   ]
  },
  {
   "cell_type": "code",
   "execution_count": 115,
   "id": "gU_ASOjPRVbC",
   "metadata": {
    "colab": {
     "base_uri": "https://localhost:8080/"
    },
    "executionInfo": {
     "elapsed": 441,
     "status": "ok",
     "timestamp": 1647258730274,
     "user": {
      "displayName": "이강철",
      "photoUrl": "https://lh3.googleusercontent.com/a-/AOh14Gh842AtlEYrAXX4Lk_utP7Hd-zmxv5KSukeOCQ18g=s64",
      "userId": "13507850890638580947"
     },
     "user_tz": -540
    },
    "id": "gU_ASOjPRVbC",
    "outputId": "65792300-d0f4-4249-c4fb-408917819081"
   },
   "outputs": [
    {
     "data": {
      "text/plain": [
       "<tf.Tensor: shape=(4, 3, 4, 5), dtype=int32, numpy=\n",
       "array([[[[   0,    1,    2,    3,    4],\n",
       "         [   5,    6,    7,    8,    9],\n",
       "         [  10,   11,   12,   13,   14],\n",
       "         [  15,   16,   17,   18,   19]],\n",
       "\n",
       "        [[  20,   21,   22,   23,   24],\n",
       "         [  25,   26,   27,   28,   29],\n",
       "         [  30,   31,   32,   33,   34],\n",
       "         [  35,   36,   37,   38,   39]],\n",
       "\n",
       "        [[  40,   41,   42,   43,   44],\n",
       "         [  45,   46,   47,   48,   49],\n",
       "         [  50,   51,   52,   53,   54],\n",
       "         [  55,   56,   57,   58,   59]]],\n",
       "\n",
       "\n",
       "       [[[  60,   61,   62,   63,   64],\n",
       "         [  65,   66,   67,   68,   69],\n",
       "         [  70,   71,   72,   73,   74],\n",
       "         [  75,   76,   77,   78,   79]],\n",
       "\n",
       "        [[  80,   81,   82,   83,   84],\n",
       "         [  85,   86,   87,   88,   89],\n",
       "         [  90,   91,   92,   93,   94],\n",
       "         [  95,   96,   97,   98,   99]],\n",
       "\n",
       "        [[ 100,  101,  102,  103,  104],\n",
       "         [ 105,  106,  107,  108,  109],\n",
       "         [ 110,  111,  112,  113,  114],\n",
       "         [ 115,  116,  117,  118,  119]]],\n",
       "\n",
       "\n",
       "       [[[   0,   -1,   -2,   -3,   -4],\n",
       "         [  -5,   -6,   -7,   -8,   -9],\n",
       "         [ -10,  -11,  -12,  -13,  -14],\n",
       "         [ -15,  -16,  -17,  -18,  -19]],\n",
       "\n",
       "        [[ -20,  -21,  -22,  -23,  -24],\n",
       "         [ -25,  -26,  -27,  -28,  -29],\n",
       "         [ -30,  -31,  -32,  -33,  -34],\n",
       "         [ -35,  -36,  -37,  -38,  -39]],\n",
       "\n",
       "        [[ -40,  -41,  -42,  -43,  -44],\n",
       "         [ -45,  -46,  -47,  -48,  -49],\n",
       "         [ -50,  -51,  -52,  -53,  -54],\n",
       "         [ -55,  -56,  -57,  -58,  -59]]],\n",
       "\n",
       "\n",
       "       [[[ -60,  -61,  -62,  -63,  -64],\n",
       "         [ -65,  -66,  -67,  -68,  -69],\n",
       "         [ -70,  -71,  -72,  -73,  -74],\n",
       "         [ -75,  -76,  -77,  -78,  -79]],\n",
       "\n",
       "        [[ -80,  -81,  -82,  -83,  -84],\n",
       "         [ -85,  -86,  -87,  -88,  -89],\n",
       "         [ -90,  -91,  -92,  -93,  -94],\n",
       "         [ -95,  -96,  -97,  -98,  -99]],\n",
       "\n",
       "        [[-100, -101, -102, -103, -104],\n",
       "         [-105, -106, -107, -108, -109],\n",
       "         [-110, -111, -112, -113, -114],\n",
       "         [-115, -116, -117, -118, -119]]]], dtype=int32)>"
      ]
     },
     "execution_count": 115,
     "metadata": {},
     "output_type": "execute_result"
    }
   ],
   "source": [
    "tf.concat([a,b],axis=0)"
   ]
  },
  {
   "cell_type": "markdown",
   "id": "usmazaR9Rfje",
   "metadata": {
    "id": "usmazaR9Rfje"
   },
   "source": [
    "* `(2,3,4,5)` concat `(2,3,4,5)` => `(2,6,4,5)`"
   ]
  },
  {
   "cell_type": "code",
   "execution_count": 120,
   "id": "LoXqsEbtRhfe",
   "metadata": {
    "colab": {
     "base_uri": "https://localhost:8080/"
    },
    "executionInfo": {
     "elapsed": 8,
     "status": "ok",
     "timestamp": 1647258828380,
     "user": {
      "displayName": "이강철",
      "photoUrl": "https://lh3.googleusercontent.com/a-/AOh14Gh842AtlEYrAXX4Lk_utP7Hd-zmxv5KSukeOCQ18g=s64",
      "userId": "13507850890638580947"
     },
     "user_tz": -540
    },
    "id": "LoXqsEbtRhfe",
    "outputId": "4a04d407-b3b7-43bc-8bbf-b82d4371e184"
   },
   "outputs": [
    {
     "data": {
      "text/plain": [
       "<tf.Tensor: shape=(2, 6, 4, 5), dtype=int32, numpy=\n",
       "array([[[[   0,    1,    2,    3,    4],\n",
       "         [   5,    6,    7,    8,    9],\n",
       "         [  10,   11,   12,   13,   14],\n",
       "         [  15,   16,   17,   18,   19]],\n",
       "\n",
       "        [[  20,   21,   22,   23,   24],\n",
       "         [  25,   26,   27,   28,   29],\n",
       "         [  30,   31,   32,   33,   34],\n",
       "         [  35,   36,   37,   38,   39]],\n",
       "\n",
       "        [[  40,   41,   42,   43,   44],\n",
       "         [  45,   46,   47,   48,   49],\n",
       "         [  50,   51,   52,   53,   54],\n",
       "         [  55,   56,   57,   58,   59]],\n",
       "\n",
       "        [[   0,   -1,   -2,   -3,   -4],\n",
       "         [  -5,   -6,   -7,   -8,   -9],\n",
       "         [ -10,  -11,  -12,  -13,  -14],\n",
       "         [ -15,  -16,  -17,  -18,  -19]],\n",
       "\n",
       "        [[ -20,  -21,  -22,  -23,  -24],\n",
       "         [ -25,  -26,  -27,  -28,  -29],\n",
       "         [ -30,  -31,  -32,  -33,  -34],\n",
       "         [ -35,  -36,  -37,  -38,  -39]],\n",
       "\n",
       "        [[ -40,  -41,  -42,  -43,  -44],\n",
       "         [ -45,  -46,  -47,  -48,  -49],\n",
       "         [ -50,  -51,  -52,  -53,  -54],\n",
       "         [ -55,  -56,  -57,  -58,  -59]]],\n",
       "\n",
       "\n",
       "       [[[  60,   61,   62,   63,   64],\n",
       "         [  65,   66,   67,   68,   69],\n",
       "         [  70,   71,   72,   73,   74],\n",
       "         [  75,   76,   77,   78,   79]],\n",
       "\n",
       "        [[  80,   81,   82,   83,   84],\n",
       "         [  85,   86,   87,   88,   89],\n",
       "         [  90,   91,   92,   93,   94],\n",
       "         [  95,   96,   97,   98,   99]],\n",
       "\n",
       "        [[ 100,  101,  102,  103,  104],\n",
       "         [ 105,  106,  107,  108,  109],\n",
       "         [ 110,  111,  112,  113,  114],\n",
       "         [ 115,  116,  117,  118,  119]],\n",
       "\n",
       "        [[ -60,  -61,  -62,  -63,  -64],\n",
       "         [ -65,  -66,  -67,  -68,  -69],\n",
       "         [ -70,  -71,  -72,  -73,  -74],\n",
       "         [ -75,  -76,  -77,  -78,  -79]],\n",
       "\n",
       "        [[ -80,  -81,  -82,  -83,  -84],\n",
       "         [ -85,  -86,  -87,  -88,  -89],\n",
       "         [ -90,  -91,  -92,  -93,  -94],\n",
       "         [ -95,  -96,  -97,  -98,  -99]],\n",
       "\n",
       "        [[-100, -101, -102, -103, -104],\n",
       "         [-105, -106, -107, -108, -109],\n",
       "         [-110, -111, -112, -113, -114],\n",
       "         [-115, -116, -117, -118, -119]]]], dtype=int32)>"
      ]
     },
     "execution_count": 120,
     "metadata": {},
     "output_type": "execute_result"
    }
   ],
   "source": [
    "tf.concat([a,b],axis=1)"
   ]
  },
  {
   "cell_type": "markdown",
   "id": "ZvCuX-LZRn1R",
   "metadata": {
    "id": "ZvCuX-LZRn1R"
   },
   "source": [
    "* `(2,3,4,5)` concat `(2,3,4,5)` => `(2,3,8,5)`"
   ]
  },
  {
   "cell_type": "code",
   "execution_count": 121,
   "id": "7urBl2dFRpn4",
   "metadata": {
    "colab": {
     "base_uri": "https://localhost:8080/"
    },
    "executionInfo": {
     "elapsed": 431,
     "status": "ok",
     "timestamp": 1647258838540,
     "user": {
      "displayName": "이강철",
      "photoUrl": "https://lh3.googleusercontent.com/a-/AOh14Gh842AtlEYrAXX4Lk_utP7Hd-zmxv5KSukeOCQ18g=s64",
      "userId": "13507850890638580947"
     },
     "user_tz": -540
    },
    "id": "7urBl2dFRpn4",
    "outputId": "24707495-6c21-4472-dee6-25ddf98e20df"
   },
   "outputs": [
    {
     "data": {
      "text/plain": [
       "<tf.Tensor: shape=(2, 3, 8, 5), dtype=int32, numpy=\n",
       "array([[[[   0,    1,    2,    3,    4],\n",
       "         [   5,    6,    7,    8,    9],\n",
       "         [  10,   11,   12,   13,   14],\n",
       "         [  15,   16,   17,   18,   19],\n",
       "         [   0,   -1,   -2,   -3,   -4],\n",
       "         [  -5,   -6,   -7,   -8,   -9],\n",
       "         [ -10,  -11,  -12,  -13,  -14],\n",
       "         [ -15,  -16,  -17,  -18,  -19]],\n",
       "\n",
       "        [[  20,   21,   22,   23,   24],\n",
       "         [  25,   26,   27,   28,   29],\n",
       "         [  30,   31,   32,   33,   34],\n",
       "         [  35,   36,   37,   38,   39],\n",
       "         [ -20,  -21,  -22,  -23,  -24],\n",
       "         [ -25,  -26,  -27,  -28,  -29],\n",
       "         [ -30,  -31,  -32,  -33,  -34],\n",
       "         [ -35,  -36,  -37,  -38,  -39]],\n",
       "\n",
       "        [[  40,   41,   42,   43,   44],\n",
       "         [  45,   46,   47,   48,   49],\n",
       "         [  50,   51,   52,   53,   54],\n",
       "         [  55,   56,   57,   58,   59],\n",
       "         [ -40,  -41,  -42,  -43,  -44],\n",
       "         [ -45,  -46,  -47,  -48,  -49],\n",
       "         [ -50,  -51,  -52,  -53,  -54],\n",
       "         [ -55,  -56,  -57,  -58,  -59]]],\n",
       "\n",
       "\n",
       "       [[[  60,   61,   62,   63,   64],\n",
       "         [  65,   66,   67,   68,   69],\n",
       "         [  70,   71,   72,   73,   74],\n",
       "         [  75,   76,   77,   78,   79],\n",
       "         [ -60,  -61,  -62,  -63,  -64],\n",
       "         [ -65,  -66,  -67,  -68,  -69],\n",
       "         [ -70,  -71,  -72,  -73,  -74],\n",
       "         [ -75,  -76,  -77,  -78,  -79]],\n",
       "\n",
       "        [[  80,   81,   82,   83,   84],\n",
       "         [  85,   86,   87,   88,   89],\n",
       "         [  90,   91,   92,   93,   94],\n",
       "         [  95,   96,   97,   98,   99],\n",
       "         [ -80,  -81,  -82,  -83,  -84],\n",
       "         [ -85,  -86,  -87,  -88,  -89],\n",
       "         [ -90,  -91,  -92,  -93,  -94],\n",
       "         [ -95,  -96,  -97,  -98,  -99]],\n",
       "\n",
       "        [[ 100,  101,  102,  103,  104],\n",
       "         [ 105,  106,  107,  108,  109],\n",
       "         [ 110,  111,  112,  113,  114],\n",
       "         [ 115,  116,  117,  118,  119],\n",
       "         [-100, -101, -102, -103, -104],\n",
       "         [-105, -106, -107, -108, -109],\n",
       "         [-110, -111, -112, -113, -114],\n",
       "         [-115, -116, -117, -118, -119]]]], dtype=int32)>"
      ]
     },
     "execution_count": 121,
     "metadata": {},
     "output_type": "execute_result"
    }
   ],
   "source": [
    "tf.concat([a,b],axis=2)"
   ]
  },
  {
   "cell_type": "markdown",
   "id": "nuCxRQSFR1oX",
   "metadata": {
    "id": "nuCxRQSFR1oX"
   },
   "source": [
    "* `(2,3,4,5)` concat `(2,3,4,5)` => `(2,3,4,10)`"
   ]
  },
  {
   "cell_type": "code",
   "execution_count": 122,
   "id": "DggurzzwR8MP",
   "metadata": {
    "colab": {
     "base_uri": "https://localhost:8080/"
    },
    "executionInfo": {
     "elapsed": 417,
     "status": "ok",
     "timestamp": 1647258888133,
     "user": {
      "displayName": "이강철",
      "photoUrl": "https://lh3.googleusercontent.com/a-/AOh14Gh842AtlEYrAXX4Lk_utP7Hd-zmxv5KSukeOCQ18g=s64",
      "userId": "13507850890638580947"
     },
     "user_tz": -540
    },
    "id": "DggurzzwR8MP",
    "outputId": "4369edc9-15f5-43c9-a6c3-03b162a08ebd"
   },
   "outputs": [
    {
     "data": {
      "text/plain": [
       "<tf.Tensor: shape=(2, 3, 4, 10), dtype=int32, numpy=\n",
       "array([[[[   0,    1,    2,    3,    4,    0,   -1,   -2,   -3,   -4],\n",
       "         [   5,    6,    7,    8,    9,   -5,   -6,   -7,   -8,   -9],\n",
       "         [  10,   11,   12,   13,   14,  -10,  -11,  -12,  -13,  -14],\n",
       "         [  15,   16,   17,   18,   19,  -15,  -16,  -17,  -18,  -19]],\n",
       "\n",
       "        [[  20,   21,   22,   23,   24,  -20,  -21,  -22,  -23,  -24],\n",
       "         [  25,   26,   27,   28,   29,  -25,  -26,  -27,  -28,  -29],\n",
       "         [  30,   31,   32,   33,   34,  -30,  -31,  -32,  -33,  -34],\n",
       "         [  35,   36,   37,   38,   39,  -35,  -36,  -37,  -38,  -39]],\n",
       "\n",
       "        [[  40,   41,   42,   43,   44,  -40,  -41,  -42,  -43,  -44],\n",
       "         [  45,   46,   47,   48,   49,  -45,  -46,  -47,  -48,  -49],\n",
       "         [  50,   51,   52,   53,   54,  -50,  -51,  -52,  -53,  -54],\n",
       "         [  55,   56,   57,   58,   59,  -55,  -56,  -57,  -58,  -59]]],\n",
       "\n",
       "\n",
       "       [[[  60,   61,   62,   63,   64,  -60,  -61,  -62,  -63,  -64],\n",
       "         [  65,   66,   67,   68,   69,  -65,  -66,  -67,  -68,  -69],\n",
       "         [  70,   71,   72,   73,   74,  -70,  -71,  -72,  -73,  -74],\n",
       "         [  75,   76,   77,   78,   79,  -75,  -76,  -77,  -78,  -79]],\n",
       "\n",
       "        [[  80,   81,   82,   83,   84,  -80,  -81,  -82,  -83,  -84],\n",
       "         [  85,   86,   87,   88,   89,  -85,  -86,  -87,  -88,  -89],\n",
       "         [  90,   91,   92,   93,   94,  -90,  -91,  -92,  -93,  -94],\n",
       "         [  95,   96,   97,   98,   99,  -95,  -96,  -97,  -98,  -99]],\n",
       "\n",
       "        [[ 100,  101,  102,  103,  104, -100, -101, -102, -103, -104],\n",
       "         [ 105,  106,  107,  108,  109, -105, -106, -107, -108, -109],\n",
       "         [ 110,  111,  112,  113,  114, -110, -111, -112, -113, -114],\n",
       "         [ 115,  116,  117,  118,  119, -115, -116, -117, -118, -119]]]],\n",
       "      dtype=int32)>"
      ]
     },
     "execution_count": 122,
     "metadata": {},
     "output_type": "execute_result"
    }
   ],
   "source": [
    "tf.concat([a,b],axis=3)"
   ]
  },
  {
   "cell_type": "markdown",
   "id": "WLGf-vuESXHT",
   "metadata": {
    "id": "WLGf-vuESXHT"
   },
   "source": [
    "* 아래와 같은 방법도 있긴하나 난 안할래"
   ]
  },
  {
   "cell_type": "code",
   "execution_count": 125,
   "id": "jqZ2s7R6SQ3U",
   "metadata": {
    "colab": {
     "base_uri": "https://localhost:8080/"
    },
    "executionInfo": {
     "elapsed": 4,
     "status": "ok",
     "timestamp": 1647258981882,
     "user": {
      "displayName": "이강철",
      "photoUrl": "https://lh3.googleusercontent.com/a-/AOh14Gh842AtlEYrAXX4Lk_utP7Hd-zmxv5KSukeOCQ18g=s64",
      "userId": "13507850890638580947"
     },
     "user_tz": -540
    },
    "id": "jqZ2s7R6SQ3U",
    "outputId": "915ec244-6376-4378-9a3a-3164fa1e2312"
   },
   "outputs": [
    {
     "data": {
      "text/plain": [
       "<tf.Tensor: shape=(2, 3, 4, 10), dtype=int32, numpy=\n",
       "array([[[[   0,    1,    2,    3,    4,    0,   -1,   -2,   -3,   -4],\n",
       "         [   5,    6,    7,    8,    9,   -5,   -6,   -7,   -8,   -9],\n",
       "         [  10,   11,   12,   13,   14,  -10,  -11,  -12,  -13,  -14],\n",
       "         [  15,   16,   17,   18,   19,  -15,  -16,  -17,  -18,  -19]],\n",
       "\n",
       "        [[  20,   21,   22,   23,   24,  -20,  -21,  -22,  -23,  -24],\n",
       "         [  25,   26,   27,   28,   29,  -25,  -26,  -27,  -28,  -29],\n",
       "         [  30,   31,   32,   33,   34,  -30,  -31,  -32,  -33,  -34],\n",
       "         [  35,   36,   37,   38,   39,  -35,  -36,  -37,  -38,  -39]],\n",
       "\n",
       "        [[  40,   41,   42,   43,   44,  -40,  -41,  -42,  -43,  -44],\n",
       "         [  45,   46,   47,   48,   49,  -45,  -46,  -47,  -48,  -49],\n",
       "         [  50,   51,   52,   53,   54,  -50,  -51,  -52,  -53,  -54],\n",
       "         [  55,   56,   57,   58,   59,  -55,  -56,  -57,  -58,  -59]]],\n",
       "\n",
       "\n",
       "       [[[  60,   61,   62,   63,   64,  -60,  -61,  -62,  -63,  -64],\n",
       "         [  65,   66,   67,   68,   69,  -65,  -66,  -67,  -68,  -69],\n",
       "         [  70,   71,   72,   73,   74,  -70,  -71,  -72,  -73,  -74],\n",
       "         [  75,   76,   77,   78,   79,  -75,  -76,  -77,  -78,  -79]],\n",
       "\n",
       "        [[  80,   81,   82,   83,   84,  -80,  -81,  -82,  -83,  -84],\n",
       "         [  85,   86,   87,   88,   89,  -85,  -86,  -87,  -88,  -89],\n",
       "         [  90,   91,   92,   93,   94,  -90,  -91,  -92,  -93,  -94],\n",
       "         [  95,   96,   97,   98,   99,  -95,  -96,  -97,  -98,  -99]],\n",
       "\n",
       "        [[ 100,  101,  102,  103,  104, -100, -101, -102, -103, -104],\n",
       "         [ 105,  106,  107,  108,  109, -105, -106, -107, -108, -109],\n",
       "         [ 110,  111,  112,  113,  114, -110, -111, -112, -113, -114],\n",
       "         [ 115,  116,  117,  118,  119, -115, -116, -117, -118, -119]]]],\n",
       "      dtype=int32)>"
      ]
     },
     "execution_count": 125,
     "metadata": {},
     "output_type": "execute_result"
    }
   ],
   "source": [
    "tf.concat([a,b],axis=-1)"
   ]
  },
  {
   "cell_type": "markdown",
   "id": "c4UI5lHbSjj8",
   "metadata": {
    "id": "c4UI5lHbSjj8"
   },
   "source": [
    "### 차원을 한번 줄여보자"
   ]
  },
  {
   "cell_type": "markdown",
   "id": "g6BRlX9VSmjZ",
   "metadata": {
    "id": "g6BRlX9VSmjZ"
   },
   "source": [
    "* `(4,)` -> `(8,)`"
   ]
  },
  {
   "cell_type": "code",
   "execution_count": 127,
   "id": "UEkMB_KnSsZS",
   "metadata": {
    "colab": {
     "base_uri": "https://localhost:8080/"
    },
    "executionInfo": {
     "elapsed": 432,
     "status": "ok",
     "timestamp": 1647259104568,
     "user": {
      "displayName": "이강철",
      "photoUrl": "https://lh3.googleusercontent.com/a-/AOh14Gh842AtlEYrAXX4Lk_utP7Hd-zmxv5KSukeOCQ18g=s64",
      "userId": "13507850890638580947"
     },
     "user_tz": -540
    },
    "id": "UEkMB_KnSsZS",
    "outputId": "9794e36a-73b3-4405-e179-ff15fcfeac6f"
   },
   "outputs": [
    {
     "data": {
      "text/plain": [
       "(<tf.Tensor: shape=(4,), dtype=int32, numpy=array([1, 2, 3, 4], dtype=int32)>,\n",
       " <tf.Tensor: shape=(4,), dtype=int32, numpy=array([-1, -2, -3, -4], dtype=int32)>)"
      ]
     },
     "execution_count": 127,
     "metadata": {},
     "output_type": "execute_result"
    }
   ],
   "source": [
    "a=tf.constant([1,2,3,4])\n",
    "b=-a\n",
    "a,b"
   ]
  },
  {
   "cell_type": "code",
   "execution_count": 136,
   "id": "LJZmZ1BJSzb1",
   "metadata": {
    "colab": {
     "base_uri": "https://localhost:8080/"
    },
    "executionInfo": {
     "elapsed": 416,
     "status": "ok",
     "timestamp": 1647259266745,
     "user": {
      "displayName": "이강철",
      "photoUrl": "https://lh3.googleusercontent.com/a-/AOh14Gh842AtlEYrAXX4Lk_utP7Hd-zmxv5KSukeOCQ18g=s64",
      "userId": "13507850890638580947"
     },
     "user_tz": -540
    },
    "id": "LJZmZ1BJSzb1",
    "outputId": "2e067cc1-2ab8-4045-ed0c-41cb1d00c339"
   },
   "outputs": [
    {
     "data": {
      "text/plain": [
       "<tf.Tensor: shape=(8,), dtype=int32, numpy=array([ 1,  2,  3,  4, -1, -2, -3, -4], dtype=int32)>"
      ]
     },
     "execution_count": 136,
     "metadata": {},
     "output_type": "execute_result"
    }
   ],
   "source": [
    "tf.concat([a,b],axis=0)"
   ]
  },
  {
   "cell_type": "markdown",
   "id": "9oNwoWZbS8oq",
   "metadata": {
    "id": "9oNwoWZbS8oq"
   },
   "source": [
    "* `(4,)` -> `(4,2)`"
   ]
  },
  {
   "cell_type": "markdown",
   "id": "c30KAO_kT0R6",
   "metadata": {
    "id": "c30KAO_kT0R6"
   },
   "source": [
    "`-` 에러가 뜬다"
   ]
  },
  {
   "cell_type": "code",
   "execution_count": 145,
   "id": "S-J5L4viTDGS",
   "metadata": {
    "colab": {
     "base_uri": "https://localhost:8080/",
     "height": 327
    },
    "executionInfo": {
     "elapsed": 426,
     "status": "error",
     "timestamp": 1647259385721,
     "user": {
      "displayName": "이강철",
      "photoUrl": "https://lh3.googleusercontent.com/a-/AOh14Gh842AtlEYrAXX4Lk_utP7Hd-zmxv5KSukeOCQ18g=s64",
      "userId": "13507850890638580947"
     },
     "user_tz": -540
    },
    "id": "S-J5L4viTDGS",
    "outputId": "5c552964-0479-43db-8430-923b6779c896"
   },
   "outputs": [
    {
     "ename": "InvalidArgumentError",
     "evalue": "ignored",
     "output_type": "error",
     "traceback": [
      "\u001b[0;31m---------------------------------------------------------------------------\u001b[0m",
      "\u001b[0;31mInvalidArgumentError\u001b[0m                      Traceback (most recent call last)",
      "\u001b[0;32m<ipython-input-145-6f52ef50c654>\u001b[0m in \u001b[0;36m<module>\u001b[0;34m()\u001b[0m\n\u001b[0;32m----> 1\u001b[0;31m \u001b[0mtf\u001b[0m\u001b[0;34m.\u001b[0m\u001b[0mconcat\u001b[0m\u001b[0;34m(\u001b[0m\u001b[0;34m[\u001b[0m\u001b[0ma\u001b[0m\u001b[0;34m,\u001b[0m\u001b[0mb\u001b[0m\u001b[0;34m]\u001b[0m\u001b[0;34m,\u001b[0m\u001b[0maxis\u001b[0m\u001b[0;34m=\u001b[0m\u001b[0;36m1\u001b[0m\u001b[0;34m)\u001b[0m\u001b[0;34m\u001b[0m\u001b[0;34m\u001b[0m\u001b[0m\n\u001b[0m",
      "\u001b[0;32m/usr/local/lib/python3.7/dist-packages/tensorflow/python/util/traceback_utils.py\u001b[0m in \u001b[0;36merror_handler\u001b[0;34m(*args, **kwargs)\u001b[0m\n\u001b[1;32m    151\u001b[0m     \u001b[0;32mexcept\u001b[0m \u001b[0mException\u001b[0m \u001b[0;32mas\u001b[0m \u001b[0me\u001b[0m\u001b[0;34m:\u001b[0m\u001b[0;34m\u001b[0m\u001b[0;34m\u001b[0m\u001b[0m\n\u001b[1;32m    152\u001b[0m       \u001b[0mfiltered_tb\u001b[0m \u001b[0;34m=\u001b[0m \u001b[0m_process_traceback_frames\u001b[0m\u001b[0;34m(\u001b[0m\u001b[0me\u001b[0m\u001b[0;34m.\u001b[0m\u001b[0m__traceback__\u001b[0m\u001b[0;34m)\u001b[0m\u001b[0;34m\u001b[0m\u001b[0;34m\u001b[0m\u001b[0m\n\u001b[0;32m--> 153\u001b[0;31m       \u001b[0;32mraise\u001b[0m \u001b[0me\u001b[0m\u001b[0;34m.\u001b[0m\u001b[0mwith_traceback\u001b[0m\u001b[0;34m(\u001b[0m\u001b[0mfiltered_tb\u001b[0m\u001b[0;34m)\u001b[0m \u001b[0;32mfrom\u001b[0m \u001b[0;32mNone\u001b[0m\u001b[0;34m\u001b[0m\u001b[0;34m\u001b[0m\u001b[0m\n\u001b[0m\u001b[1;32m    154\u001b[0m     \u001b[0;32mfinally\u001b[0m\u001b[0;34m:\u001b[0m\u001b[0;34m\u001b[0m\u001b[0;34m\u001b[0m\u001b[0m\n\u001b[1;32m    155\u001b[0m       \u001b[0;32mdel\u001b[0m \u001b[0mfiltered_tb\u001b[0m\u001b[0;34m\u001b[0m\u001b[0;34m\u001b[0m\u001b[0m\n",
      "\u001b[0;32m/usr/local/lib/python3.7/dist-packages/tensorflow/python/framework/ops.py\u001b[0m in \u001b[0;36mraise_from_not_ok_status\u001b[0;34m(e, name)\u001b[0m\n\u001b[1;32m   7184\u001b[0m \u001b[0;32mdef\u001b[0m \u001b[0mraise_from_not_ok_status\u001b[0m\u001b[0;34m(\u001b[0m\u001b[0me\u001b[0m\u001b[0;34m,\u001b[0m \u001b[0mname\u001b[0m\u001b[0;34m)\u001b[0m\u001b[0;34m:\u001b[0m\u001b[0;34m\u001b[0m\u001b[0;34m\u001b[0m\u001b[0m\n\u001b[1;32m   7185\u001b[0m   \u001b[0me\u001b[0m\u001b[0;34m.\u001b[0m\u001b[0mmessage\u001b[0m \u001b[0;34m+=\u001b[0m \u001b[0;34m(\u001b[0m\u001b[0;34m\" name: \"\u001b[0m \u001b[0;34m+\u001b[0m \u001b[0mname\u001b[0m \u001b[0;32mif\u001b[0m \u001b[0mname\u001b[0m \u001b[0;32mis\u001b[0m \u001b[0;32mnot\u001b[0m \u001b[0;32mNone\u001b[0m \u001b[0;32melse\u001b[0m \u001b[0;34m\"\"\u001b[0m\u001b[0;34m)\u001b[0m\u001b[0;34m\u001b[0m\u001b[0;34m\u001b[0m\u001b[0m\n\u001b[0;32m-> 7186\u001b[0;31m   \u001b[0;32mraise\u001b[0m \u001b[0mcore\u001b[0m\u001b[0;34m.\u001b[0m\u001b[0m_status_to_exception\u001b[0m\u001b[0;34m(\u001b[0m\u001b[0me\u001b[0m\u001b[0;34m)\u001b[0m \u001b[0;32mfrom\u001b[0m \u001b[0;32mNone\u001b[0m  \u001b[0;31m# pylint: disable=protected-access\u001b[0m\u001b[0;34m\u001b[0m\u001b[0;34m\u001b[0m\u001b[0m\n\u001b[0m\u001b[1;32m   7187\u001b[0m \u001b[0;34m\u001b[0m\u001b[0m\n\u001b[1;32m   7188\u001b[0m \u001b[0;34m\u001b[0m\u001b[0m\n",
      "\u001b[0;31mInvalidArgumentError\u001b[0m: ConcatOp : Expected concatenating dimensions in the range [-1, 1), but got 1 [Op:ConcatV2] name: concat"
     ]
    }
   ],
   "source": [
    "tf.concat([a,b],axis=1)"
   ]
  },
  {
   "cell_type": "markdown",
   "id": "fd8402bf-ccef-414e-a574-22524b02b593",
   "metadata": {
    "id": "fd8402bf-ccef-414e-a574-22524b02b593"
   },
   "source": [
    "## tf.stack "
   ]
  },
  {
   "cell_type": "markdown",
   "id": "d5u5BMZZT9nY",
   "metadata": {
    "id": "d5u5BMZZT9nY"
   },
   "source": [
    "* `(4,)` -> `(4,2)`"
   ]
  },
  {
   "cell_type": "code",
   "execution_count": 143,
   "id": "-S_ddvckTkyj",
   "metadata": {
    "colab": {
     "base_uri": "https://localhost:8080/"
    },
    "executionInfo": {
     "elapsed": 470,
     "status": "ok",
     "timestamp": 1647259381650,
     "user": {
      "displayName": "이강철",
      "photoUrl": "https://lh3.googleusercontent.com/a-/AOh14Gh842AtlEYrAXX4Lk_utP7Hd-zmxv5KSukeOCQ18g=s64",
      "userId": "13507850890638580947"
     },
     "user_tz": -540
    },
    "id": "-S_ddvckTkyj",
    "outputId": "8b64dac4-2a79-4623-b729-0b47b23336d6"
   },
   "outputs": [
    {
     "data": {
      "text/plain": [
       "(<tf.Tensor: shape=(4,), dtype=int32, numpy=array([1, 2, 3, 4], dtype=int32)>,\n",
       " <tf.Tensor: shape=(4,), dtype=int32, numpy=array([-1, -2, -3, -4], dtype=int32)>)"
      ]
     },
     "execution_count": 143,
     "metadata": {},
     "output_type": "execute_result"
    }
   ],
   "source": [
    "a=tf.constant([1,2,3,4])\n",
    "b=-a\n",
    "a,b"
   ]
  },
  {
   "cell_type": "code",
   "execution_count": 147,
   "id": "YNyLNOSjTofi",
   "metadata": {
    "colab": {
     "base_uri": "https://localhost:8080/"
    },
    "executionInfo": {
     "elapsed": 7,
     "status": "ok",
     "timestamp": 1647259399605,
     "user": {
      "displayName": "이강철",
      "photoUrl": "https://lh3.googleusercontent.com/a-/AOh14Gh842AtlEYrAXX4Lk_utP7Hd-zmxv5KSukeOCQ18g=s64",
      "userId": "13507850890638580947"
     },
     "user_tz": -540
    },
    "id": "YNyLNOSjTofi",
    "outputId": "60fcd72f-0da6-44ff-d390-6ca84110cd3c"
   },
   "outputs": [
    {
     "data": {
      "text/plain": [
       "<tf.Tensor: shape=(4, 2), dtype=int32, numpy=\n",
       "array([[ 1, -1],\n",
       "       [ 2, -2],\n",
       "       [ 3, -3],\n",
       "       [ 4, -4]], dtype=int32)>"
      ]
     },
     "execution_count": 147,
     "metadata": {},
     "output_type": "execute_result"
    }
   ],
   "source": [
    "tf.stack([a,b],axis=1)"
   ]
  },
  {
   "cell_type": "markdown",
   "id": "57cefe0a-61fa-451a-8b7c-cf27ceb750b6",
   "metadata": {
    "id": "57cefe0a-61fa-451a-8b7c-cf27ceb750b6",
    "tags": []
   },
   "source": [
    "## tf.einsum"
   ]
  },
  {
   "cell_type": "markdown",
   "id": "d314cfb7-f3f1-496d-b5cb-ac6f57eaa503",
   "metadata": {
    "id": "d314cfb7-f3f1-496d-b5cb-ac6f57eaa503"
   },
   "source": [
    "# tnp"
   ]
  },
  {
   "cell_type": "markdown",
   "id": "wmOv9JQqVtnE",
   "metadata": {
    "id": "wmOv9JQqVtnE"
   },
   "source": [
    "`-` 텐서만들기가 너무 힘듬"
   ]
  },
  {
   "cell_type": "code",
   "execution_count": 150,
   "id": "9HI8GY5ZVVj9",
   "metadata": {
    "executionInfo": {
     "elapsed": 5,
     "status": "ok",
     "timestamp": 1647259805025,
     "user": {
      "displayName": "이강철",
      "photoUrl": "https://lh3.googleusercontent.com/a-/AOh14Gh842AtlEYrAXX4Lk_utP7Hd-zmxv5KSukeOCQ18g=s64",
      "userId": "13507850890638580947"
     },
     "user_tz": -540
    },
    "id": "9HI8GY5ZVVj9"
   },
   "outputs": [],
   "source": [
    "import tensorflow.experimental.numpy as tnp\n",
    "tnp.experimental_enable_numpy_behavior() ## tnf 를 numpy 처럼 사용할 수 있도록 해줌"
   ]
  },
  {
   "cell_type": "markdown",
   "id": "de010dbc-4294-4a4f-a861-c13799fe1eb6",
   "metadata": {
    "id": "de010dbc-4294-4a4f-a861-c13799fe1eb6"
   },
   "source": [
    "## tnp 사용방법 (불만해결방법)"
   ]
  },
  {
   "cell_type": "markdown",
   "id": "GegnDnwMWR9I",
   "metadata": {
    "id": "GegnDnwMWR9I"
   },
   "source": [
    "`-` `int` 와 `float` 을 더할 수 있음"
   ]
  },
  {
   "cell_type": "code",
   "execution_count": 158,
   "id": "83msA8PGWdMy",
   "metadata": {
    "colab": {
     "base_uri": "https://localhost:8080/"
    },
    "executionInfo": {
     "elapsed": 436,
     "status": "ok",
     "timestamp": 1647260100091,
     "user": {
      "displayName": "이강철",
      "photoUrl": "https://lh3.googleusercontent.com/a-/AOh14Gh842AtlEYrAXX4Lk_utP7Hd-zmxv5KSukeOCQ18g=s64",
      "userId": "13507850890638580947"
     },
     "user_tz": -540
    },
    "id": "83msA8PGWdMy",
    "outputId": "6d88d0b7-973b-4612-da00-7340f6c65fab"
   },
   "outputs": [
    {
     "data": {
      "text/plain": [
       "<tf.Tensor: shape=(3,), dtype=float64, numpy=array([2., 4., 6.])>"
      ]
     },
     "execution_count": 158,
     "metadata": {},
     "output_type": "execute_result"
    }
   ],
   "source": [
    "tnp.array([1,2,3]) + tnp.array([1.0,2.0,3.0]) "
   ]
  },
  {
   "cell_type": "markdown",
   "id": "dtySrg_AWrer",
   "metadata": {
    "id": "dtySrg_AWrer"
   },
   "source": [
    "* 심지어"
   ]
  },
  {
   "cell_type": "code",
   "execution_count": 160,
   "id": "nkTdyRJuWs8y",
   "metadata": {
    "colab": {
     "base_uri": "https://localhost:8080/"
    },
    "executionInfo": {
     "elapsed": 491,
     "status": "ok",
     "timestamp": 1647260134311,
     "user": {
      "displayName": "이강철",
      "photoUrl": "https://lh3.googleusercontent.com/a-/AOh14Gh842AtlEYrAXX4Lk_utP7Hd-zmxv5KSukeOCQ18g=s64",
      "userId": "13507850890638580947"
     },
     "user_tz": -540
    },
    "id": "nkTdyRJuWs8y",
    "outputId": "ca475ffb-e28b-42e0-dcec-76c7bb3e80e5"
   },
   "outputs": [
    {
     "data": {
      "text/plain": [
       "<tf.Tensor: shape=(3,), dtype=float64, numpy=array([2., 3., 4.])>"
      ]
     },
     "execution_count": 160,
     "metadata": {},
     "output_type": "execute_result"
    }
   ],
   "source": [
    "tnp.array(1) + tnp.array([1.0,2.0,3.0]) "
   ]
  },
  {
   "cell_type": "code",
   "execution_count": 161,
   "id": "NXJsV_A7Wxgr",
   "metadata": {
    "colab": {
     "base_uri": "https://localhost:8080/"
    },
    "executionInfo": {
     "elapsed": 431,
     "status": "ok",
     "timestamp": 1647260168341,
     "user": {
      "displayName": "이강철",
      "photoUrl": "https://lh3.googleusercontent.com/a-/AOh14Gh842AtlEYrAXX4Lk_utP7Hd-zmxv5KSukeOCQ18g=s64",
      "userId": "13507850890638580947"
     },
     "user_tz": -540
    },
    "id": "NXJsV_A7Wxgr",
    "outputId": "23c178ae-3960-46a8-97a0-b5cdde057ec9"
   },
   "outputs": [
    {
     "data": {
      "text/plain": [
       "<tf.Tensor: shape=(3,), dtype=float64, numpy=array([2., 4., 6.])>"
      ]
     },
     "execution_count": 161,
     "metadata": {},
     "output_type": "execute_result"
    }
   ],
   "source": [
    "tnp.array([1,2,3]) + tf.constant([1.0,2.0,3.0]) "
   ]
  },
  {
   "cell_type": "code",
   "execution_count": 163,
   "id": "cAttOOG0W9Dn",
   "metadata": {
    "colab": {
     "base_uri": "https://localhost:8080/"
    },
    "executionInfo": {
     "elapsed": 408,
     "status": "ok",
     "timestamp": 1647260220303,
     "user": {
      "displayName": "이강철",
      "photoUrl": "https://lh3.googleusercontent.com/a-/AOh14Gh842AtlEYrAXX4Lk_utP7Hd-zmxv5KSukeOCQ18g=s64",
      "userId": "13507850890638580947"
     },
     "user_tz": -540
    },
    "id": "cAttOOG0W9Dn",
    "outputId": "cf6ea23a-f171-4112-8401-36293c6bbf72"
   },
   "outputs": [
    {
     "data": {
      "text/plain": [
       "tensorflow.python.framework.ops.EagerTensor"
      ]
     },
     "execution_count": 163,
     "metadata": {},
     "output_type": "execute_result"
    }
   ],
   "source": [
    "a = tnp.diag([1,2,3])\n",
    "type(a)"
   ]
  },
  {
   "cell_type": "code",
   "execution_count": 165,
   "id": "ex8RBWzrXFhd",
   "metadata": {
    "colab": {
     "base_uri": "https://localhost:8080/"
    },
    "executionInfo": {
     "elapsed": 405,
     "status": "ok",
     "timestamp": 1647260240221,
     "user": {
      "displayName": "이강철",
      "photoUrl": "https://lh3.googleusercontent.com/a-/AOh14Gh842AtlEYrAXX4Lk_utP7Hd-zmxv5KSukeOCQ18g=s64",
      "userId": "13507850890638580947"
     },
     "user_tz": -540
    },
    "id": "ex8RBWzrXFhd",
    "outputId": "a7c3d402-63ac-4133-d746-9376dfa0c110"
   },
   "outputs": [
    {
     "data": {
      "text/plain": [
       "(<tf.Tensor: shape=(), dtype=int64, numpy=0>,\n",
       " <tf.Tensor: shape=(), dtype=int64, numpy=3>)"
      ]
     },
     "execution_count": 165,
     "metadata": {},
     "output_type": "execute_result"
    }
   ],
   "source": [
    "a.min(),a.max()"
   ]
  },
  {
   "cell_type": "code",
   "execution_count": 175,
   "id": "q6wIqPfhXKoh",
   "metadata": {
    "colab": {
     "base_uri": "https://localhost:8080/"
    },
    "executionInfo": {
     "elapsed": 416,
     "status": "ok",
     "timestamp": 1647260320053,
     "user": {
      "displayName": "이강철",
      "photoUrl": "https://lh3.googleusercontent.com/a-/AOh14Gh842AtlEYrAXX4Lk_utP7Hd-zmxv5KSukeOCQ18g=s64",
      "userId": "13507850890638580947"
     },
     "user_tz": -540
    },
    "id": "q6wIqPfhXKoh",
    "outputId": "96d09ac7-32c0-432d-ebe1-7d0c48f0b003"
   },
   "outputs": [
    {
     "data": {
      "text/plain": [
       "<tf.Tensor: shape=(9, 1), dtype=int64, numpy=\n",
       "array([[1],\n",
       "       [0],\n",
       "       [0],\n",
       "       [0],\n",
       "       [2],\n",
       "       [0],\n",
       "       [0],\n",
       "       [0],\n",
       "       [3]])>"
      ]
     },
     "execution_count": 175,
     "metadata": {},
     "output_type": "execute_result"
    }
   ],
   "source": [
    "a.reshape(9,1)"
   ]
  },
  {
   "cell_type": "markdown",
   "id": "a7e4538a-52ff-4f84-8ac9-5381e0970fef",
   "metadata": {
    "id": "a7e4538a-52ff-4f84-8ac9-5381e0970fef"
   },
   "source": [
    "### 선언, 선언고급"
   ]
  },
  {
   "cell_type": "code",
   "execution_count": 176,
   "id": "zryE2-x3XdpL",
   "metadata": {
    "colab": {
     "base_uri": "https://localhost:8080/"
    },
    "executionInfo": {
     "elapsed": 8,
     "status": "ok",
     "timestamp": 1647260337228,
     "user": {
      "displayName": "이강철",
      "photoUrl": "https://lh3.googleusercontent.com/a-/AOh14Gh842AtlEYrAXX4Lk_utP7Hd-zmxv5KSukeOCQ18g=s64",
      "userId": "13507850890638580947"
     },
     "user_tz": -540
    },
    "id": "zryE2-x3XdpL",
    "outputId": "2a8bd9a6-b973-46e8-a3f8-d2b936746a20"
   },
   "outputs": [
    {
     "data": {
      "text/plain": [
       "array([-1.79271696, -0.17190837,  1.01536417,  0.10096996,  0.6384037 ])"
      ]
     },
     "execution_count": 176,
     "metadata": {},
     "output_type": "execute_result"
    }
   ],
   "source": [
    "np.random.randn(5)"
   ]
  },
  {
   "cell_type": "code",
   "execution_count": 177,
   "id": "rtfxzmI5Xgyj",
   "metadata": {
    "colab": {
     "base_uri": "https://localhost:8080/"
    },
    "executionInfo": {
     "elapsed": 480,
     "status": "ok",
     "timestamp": 1647260344568,
     "user": {
      "displayName": "이강철",
      "photoUrl": "https://lh3.googleusercontent.com/a-/AOh14Gh842AtlEYrAXX4Lk_utP7Hd-zmxv5KSukeOCQ18g=s64",
      "userId": "13507850890638580947"
     },
     "user_tz": -540
    },
    "id": "rtfxzmI5Xgyj",
    "outputId": "671f4087-636c-46ed-a5e0-8bfa6035edfa"
   },
   "outputs": [
    {
     "data": {
      "text/plain": [
       "<tf.Tensor: shape=(5,), dtype=float64, numpy=array([ 0.68371875, -0.77886642, -0.78283853, -1.91862598, -0.36602414])>"
      ]
     },
     "execution_count": 177,
     "metadata": {},
     "output_type": "execute_result"
    }
   ],
   "source": [
    "tnp.random.randn(5)"
   ]
  },
  {
   "cell_type": "markdown",
   "id": "c1a84f81-fff4-4a5a-b8b2-8045ba3943fe",
   "metadata": {
    "id": "c1a84f81-fff4-4a5a-b8b2-8045ba3943fe"
   },
   "source": [
    "### 타입"
   ]
  },
  {
   "cell_type": "code",
   "execution_count": 178,
   "id": "bAZjJ1aCXlYA",
   "metadata": {
    "colab": {
     "base_uri": "https://localhost:8080/"
    },
    "executionInfo": {
     "elapsed": 536,
     "status": "ok",
     "timestamp": 1647260368301,
     "user": {
      "displayName": "이강철",
      "photoUrl": "https://lh3.googleusercontent.com/a-/AOh14Gh842AtlEYrAXX4Lk_utP7Hd-zmxv5KSukeOCQ18g=s64",
      "userId": "13507850890638580947"
     },
     "user_tz": -540
    },
    "id": "bAZjJ1aCXlYA",
    "outputId": "ef10aa6c-5173-4db5-d7bd-eef10d13665c"
   },
   "outputs": [
    {
     "data": {
      "text/plain": [
       "tensorflow.python.framework.ops.EagerTensor"
      ]
     },
     "execution_count": 178,
     "metadata": {},
     "output_type": "execute_result"
    }
   ],
   "source": [
    "type(tnp.random.randn(5))"
   ]
  },
  {
   "cell_type": "markdown",
   "id": "bb759864-ef75-4ba0-9a11-d10cca6669f3",
   "metadata": {
    "id": "bb759864-ef75-4ba0-9a11-d10cca6669f3"
   },
   "source": [
    "### tf.contant로 만들어도 마치 넘파이인듯 쓰는 기능들"
   ]
  },
  {
   "cell_type": "markdown",
   "id": "F50QXpPuXyQc",
   "metadata": {
    "id": "F50QXpPuXyQc"
   },
   "source": [
    "`-` 묵시적 형변환이 가능해짐"
   ]
  },
  {
   "cell_type": "markdown",
   "id": "WJpKRwrsX3pr",
   "metadata": {
    "id": "WJpKRwrsX3pr"
   },
   "source": [
    "`-` 메소드를 쓸 수 있음.\n"
   ]
  },
  {
   "cell_type": "markdown",
   "id": "8426767e-976c-4e35-a390-7f2943ec4e8d",
   "metadata": {
    "id": "8426767e-976c-4e35-a390-7f2943ec4e8d"
   },
   "source": [
    "### 그렇지만 np.array는 아님 "
   ]
  },
  {
   "cell_type": "markdown",
   "id": "asdXHVm1YgaD",
   "metadata": {
    "id": "asdXHVm1YgaD"
   },
   "source": [
    "* 여전히 값을 바꾸는 것은 허용하지 않는다."
   ]
  },
  {
   "cell_type": "code",
   "execution_count": 180,
   "id": "kvvD-IE7YWzY",
   "metadata": {
    "executionInfo": {
     "elapsed": 408,
     "status": "ok",
     "timestamp": 1647260592462,
     "user": {
      "displayName": "이강철",
      "photoUrl": "https://lh3.googleusercontent.com/a-/AOh14Gh842AtlEYrAXX4Lk_utP7Hd-zmxv5KSukeOCQ18g=s64",
      "userId": "13507850890638580947"
     },
     "user_tz": -540
    },
    "id": "kvvD-IE7YWzY"
   },
   "outputs": [],
   "source": [
    " a = tf.constant([1,2,3])"
   ]
  },
  {
   "cell_type": "code",
   "execution_count": 181,
   "id": "YJ_O79yrYeyr",
   "metadata": {
    "colab": {
     "base_uri": "https://localhost:8080/",
     "height": 174
    },
    "executionInfo": {
     "elapsed": 568,
     "status": "error",
     "timestamp": 1647260599067,
     "user": {
      "displayName": "이강철",
      "photoUrl": "https://lh3.googleusercontent.com/a-/AOh14Gh842AtlEYrAXX4Lk_utP7Hd-zmxv5KSukeOCQ18g=s64",
      "userId": "13507850890638580947"
     },
     "user_tz": -540
    },
    "id": "YJ_O79yrYeyr",
    "outputId": "8f104483-3e7b-414c-f14d-31e040e1f10b"
   },
   "outputs": [
    {
     "ename": "TypeError",
     "evalue": "ignored",
     "output_type": "error",
     "traceback": [
      "\u001b[0;31m---------------------------------------------------------------------------\u001b[0m",
      "\u001b[0;31mTypeError\u001b[0m                                 Traceback (most recent call last)",
      "\u001b[0;32m<ipython-input-181-b909b2ec59d1>\u001b[0m in \u001b[0;36m<module>\u001b[0;34m()\u001b[0m\n\u001b[0;32m----> 1\u001b[0;31m \u001b[0ma\u001b[0m\u001b[0;34m[\u001b[0m\u001b[0;36m0\u001b[0m\u001b[0;34m]\u001b[0m\u001b[0;34m=\u001b[0m\u001b[0;36m11\u001b[0m\u001b[0;34m\u001b[0m\u001b[0;34m\u001b[0m\u001b[0m\n\u001b[0m",
      "\u001b[0;31mTypeError\u001b[0m: 'tensorflow.python.framework.ops.EagerTensor' object does not support item assignment"
     ]
    }
   ],
   "source": [
    "a[0]=11"
   ]
  },
  {
   "cell_type": "markdown",
   "id": "134e8dc9-4dcf-4802-b6c8-ca0178d2792d",
   "metadata": {
    "id": "134e8dc9-4dcf-4802-b6c8-ca0178d2792d"
   },
   "source": [
    "### tf.Variable"
   ]
  },
  {
   "cell_type": "markdown",
   "id": "da5a80db-9fe7-4c46-b210-dd10a07fef3b",
   "metadata": {
    "id": "da5a80db-9fe7-4c46-b210-dd10a07fef3b"
   },
   "source": [
    "#### 선언 "
   ]
  },
  {
   "cell_type": "markdown",
   "id": "e60dd0db-f157-4def-802d-613b2bd20804",
   "metadata": {
    "id": "e60dd0db-f157-4def-802d-613b2bd20804"
   },
   "source": [
    "#### 타입"
   ]
  },
  {
   "cell_type": "markdown",
   "id": "ea5946ae-2c9a-4d31-8720-5c136a024eca",
   "metadata": {
    "id": "ea5946ae-2c9a-4d31-8720-5c136a024eca"
   },
   "source": [
    "#### 인덱싱 "
   ]
  },
  {
   "cell_type": "markdown",
   "id": "7e469d06-98f9-4470-a654-299a97383706",
   "metadata": {
    "id": "7e469d06-98f9-4470-a654-299a97383706"
   },
   "source": [
    "#### tf.Variable $\\to$ 넘파이 "
   ]
  },
  {
   "cell_type": "markdown",
   "id": "065ea0b5-16ea-4884-b640-ac074d0c44ce",
   "metadata": {
    "id": "065ea0b5-16ea-4884-b640-ac074d0c44ce"
   },
   "source": [
    "#### tf.Variable 도 불편하다. "
   ]
  },
  {
   "cell_type": "markdown",
   "id": "6f802f8d-2562-4af8-b386-199fb01461c5",
   "metadata": {
    "id": "6f802f8d-2562-4af8-b386-199fb01461c5"
   },
   "source": [
    "#### 연산 "
   ]
  },
  {
   "cell_type": "markdown",
   "id": "5ae73107-074f-4c65-8ebb-4bf54e889b4c",
   "metadata": {
    "id": "5ae73107-074f-4c65-8ebb-4bf54e889b4c"
   },
   "source": [
    "#### 형태변환 "
   ]
  },
  {
   "cell_type": "markdown",
   "id": "a9b7e7eb-aeb9-491b-83d7-4a3d26334364",
   "metadata": {
    "id": "a9b7e7eb-aeb9-491b-83d7-4a3d26334364"
   },
   "source": [
    "#### 선언고급 "
   ]
  },
  {
   "cell_type": "markdown",
   "id": "ac9fb364-db20-4174-8b1d-5a476436fe77",
   "metadata": {
    "id": "ac9fb364-db20-4174-8b1d-5a476436fe77"
   },
   "source": [
    "#### tf.concat "
   ]
  },
  {
   "cell_type": "markdown",
   "id": "fc96fc7a-a57e-4eee-9931-88bca5d3e0f6",
   "metadata": {
    "id": "fc96fc7a-a57e-4eee-9931-88bca5d3e0f6"
   },
   "source": [
    "#### tf.stack"
   ]
  },
  {
   "cell_type": "markdown",
   "id": "43844a72-d627-49f1-8146-36859459a654",
   "metadata": {
    "id": "43844a72-d627-49f1-8146-36859459a654"
   },
   "source": [
    "#### 심지어 tf.Variable()로 만들어진 오브젝트는 tnp의 효과(은총)도 받지 못함"
   ]
  }
 ],
 "metadata": {
  "accelerator": "GPU",
  "colab": {
   "collapsed_sections": [],
   "name": "2022-03-14-(2주차).ipynb",
   "provenance": [
    {
     "file_id": "https://github.com/guebin/STBDA2022/blob/master/_notebooks/2022-03-14-(2%EC%A3%BC%EC%B0%A8)%203%EC%9B%9414%EC%9D%BC.ipynb",
     "timestamp": 1647252323619
    }
   ],
   "toc_visible": true
  },
  "kernelspec": {
   "display_name": "Python 3 (ipykernel)",
   "language": "python",
   "name": "python3"
  },
  "language_info": {
   "codemirror_mode": {
    "name": "ipython",
    "version": 3
   },
   "file_extension": ".py",
   "mimetype": "text/x-python",
   "name": "python",
   "nbconvert_exporter": "python",
   "pygments_lexer": "ipython3",
   "version": "3.9.13"
  }
 },
 "nbformat": 4,
 "nbformat_minor": 5
}
