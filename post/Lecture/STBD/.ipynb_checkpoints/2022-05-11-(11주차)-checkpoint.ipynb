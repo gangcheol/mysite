{
 "cells": [
  {
   "cell_type": "raw",
   "id": "055db7f5",
   "metadata": {
    "id": "d6c00e28-bc2b-44ae-8728-f42fd52845a3",
    "tags": []
   },
   "source": [
    "---\n",
    "title : \"12. Max pooling, CNN\"\n",
    "author : \"GANGCHEOL LEE\"\n",
    "date : \"05/11/22\"\n",
    "categories : [python] \n",
    "---"
   ]
  },
  {
   "cell_type": "markdown",
   "id": "eb52b81b-c50e-4a70-b392-efb8242a8e31",
   "metadata": {
    "id": "eb52b81b-c50e-4a70-b392-efb8242a8e31"
   },
   "source": [
    "### imports "
   ]
  },
  {
   "cell_type": "code",
   "execution_count": null,
   "id": "a7acd440-7164-480d-a1f4-0bfa8024dd01",
   "metadata": {
    "id": "a7acd440-7164-480d-a1f4-0bfa8024dd01"
   },
   "outputs": [],
   "source": [
    "import tensorflow as tf \n",
    "import tensorflow.experimental.numpy as tnp"
   ]
  },
  {
   "cell_type": "code",
   "execution_count": null,
   "id": "bdb16c8e-0829-4a01-a136-1fcb86ebdfc5",
   "metadata": {
    "id": "bdb16c8e-0829-4a01-a136-1fcb86ebdfc5"
   },
   "outputs": [],
   "source": [
    "tnp.experimental_enable_numpy_behavior()"
   ]
  },
  {
   "cell_type": "code",
   "execution_count": null,
   "id": "c582c669-68ff-4113-85e3-8bf1466f96f9",
   "metadata": {
    "id": "c582c669-68ff-4113-85e3-8bf1466f96f9"
   },
   "outputs": [],
   "source": [
    "import matplotlib.pyplot as plt"
   ]
  },
  {
   "cell_type": "markdown",
   "id": "82e471c8-3e98-44a3-b55b-98ebdcc00246",
   "metadata": {
    "id": "82e471c8-3e98-44a3-b55b-98ebdcc00246"
   },
   "source": [
    "### 지난시간요약 "
   ]
  },
  {
   "cell_type": "markdown",
   "id": "994de195-bbbe-4384-a52b-0b9685cad9be",
   "metadata": {
    "id": "994de195-bbbe-4384-a52b-0b9685cad9be"
   },
   "source": [
    "`-` 이미지자료의 정리 "
   ]
  },
  {
   "cell_type": "code",
   "execution_count": null,
   "id": "4f2f68b9-3124-4a91-8c12-b1d52cb41cbd",
   "metadata": {
    "colab": {
     "base_uri": "https://localhost:8080/"
    },
    "executionInfo": {
     "elapsed": 730,
     "status": "ok",
     "timestamp": 1652696229897,
     "user": {
      "displayName": "이강철",
      "userId": "13507850890638580947"
     },
     "user_tz": -540
    },
    "id": "4f2f68b9-3124-4a91-8c12-b1d52cb41cbd",
    "outputId": "9ebed808-a320-4ec3-a2df-0309514f6dbe"
   },
   "outputs": [
    {
     "name": "stdout",
     "output_type": "stream",
     "text": [
      "Downloading data from https://storage.googleapis.com/tensorflow/tf-keras-datasets/train-labels-idx1-ubyte.gz\n",
      "32768/29515 [=================================] - 0s 0us/step\n",
      "40960/29515 [=========================================] - 0s 0us/step\n",
      "Downloading data from https://storage.googleapis.com/tensorflow/tf-keras-datasets/train-images-idx3-ubyte.gz\n",
      "26427392/26421880 [==============================] - 0s 0us/step\n",
      "26435584/26421880 [==============================] - 0s 0us/step\n",
      "Downloading data from https://storage.googleapis.com/tensorflow/tf-keras-datasets/t10k-labels-idx1-ubyte.gz\n",
      "16384/5148 [===============================================================================================] - 0s 0us/step\n",
      "Downloading data from https://storage.googleapis.com/tensorflow/tf-keras-datasets/t10k-images-idx3-ubyte.gz\n",
      "4423680/4422102 [==============================] - 0s 0us/step\n",
      "4431872/4422102 [==============================] - 0s 0us/step\n"
     ]
    }
   ],
   "source": [
    "(x_train, y_train), (x_test, y_test) = tf.keras.datasets.fashion_mnist.load_data()"
   ]
  },
  {
   "cell_type": "code",
   "execution_count": null,
   "id": "iVK9j38-V0zt",
   "metadata": {
    "colab": {
     "base_uri": "https://localhost:8080/"
    },
    "executionInfo": {
     "elapsed": 2,
     "status": "ok",
     "timestamp": 1652696230747,
     "user": {
      "displayName": "이강철",
      "userId": "13507850890638580947"
     },
     "user_tz": -540
    },
    "id": "iVK9j38-V0zt",
    "outputId": "afae5089-51cc-4e11-c7da-3ea20284f5e6"
   },
   "outputs": [
    {
     "data": {
      "text/plain": [
       "(60000, 28, 28)"
      ]
     },
     "execution_count": 5,
     "metadata": {},
     "output_type": "execute_result"
    }
   ],
   "source": [
    "x_train.shape"
   ]
  },
  {
   "cell_type": "code",
   "execution_count": null,
   "id": "ZFhuyRMuVsKW",
   "metadata": {
    "colab": {
     "base_uri": "https://localhost:8080/"
    },
    "executionInfo": {
     "elapsed": 3794,
     "status": "ok",
     "timestamp": 1652696235630,
     "user": {
      "displayName": "이강철",
      "userId": "13507850890638580947"
     },
     "user_tz": -540
    },
    "id": "ZFhuyRMuVsKW",
    "outputId": "f8c1cfd3-21db-4a46-84dd-7a6994fd9b38"
   },
   "outputs": [
    {
     "data": {
      "text/plain": [
       "TensorShape([60000, 28, 28, 1])"
      ]
     },
     "execution_count": 6,
     "metadata": {},
     "output_type": "execute_result"
    }
   ],
   "source": [
    "tf.constant(x_train.reshape(-1,28,28,1),dtype=tf.float64).shape\n",
    "#tf.constant(x_train.reshape(60000,28,28,1),dtype=tf.float64).shape"
   ]
  },
  {
   "cell_type": "code",
   "execution_count": null,
   "id": "17361f88-7ba3-48e2-9aa9-0931dc7fee36",
   "metadata": {
    "id": "17361f88-7ba3-48e2-9aa9-0931dc7fee36"
   },
   "outputs": [],
   "source": [
    "X = tf.constant(x_train.reshape(-1,28,28,1),dtype=tf.float64)\n",
    "y = tf.keras.utils.to_categorical(y_train)\n",
    "XX = tf.constant(x_test.reshape(-1,28,28,1),dtype=tf.float64)\n",
    "yy = tf.keras.utils.to_categorical(y_test)"
   ]
  },
  {
   "cell_type": "markdown",
   "id": "9a3d876d-417d-4d33-bbf4-717546c0c8dd",
   "metadata": {
    "id": "9a3d876d-417d-4d33-bbf4-717546c0c8dd"
   },
   "source": [
    "`-` net1,2"
   ]
  },
  {
   "cell_type": "code",
   "execution_count": null,
   "id": "a691dd33-f7df-44ba-95d2-cd8248af840e",
   "metadata": {
    "colab": {
     "base_uri": "https://localhost:8080/"
    },
    "executionInfo": {
     "elapsed": 42239,
     "status": "ok",
     "timestamp": 1652696356693,
     "user": {
      "displayName": "이강철",
      "userId": "13507850890638580947"
     },
     "user_tz": -540
    },
    "id": "a691dd33-f7df-44ba-95d2-cd8248af840e",
    "outputId": "fa7f92e1-d3d1-4ecb-dd9c-cb013fcbb477"
   },
   "outputs": [
    {
     "data": {
      "text/plain": [
       "<keras.callbacks.History at 0x7ff3100d4ed0>"
      ]
     },
     "execution_count": 10,
     "metadata": {},
     "output_type": "execute_result"
    }
   ],
   "source": [
    "tf.random.set_seed(43052)\n",
    "net1 = tf.keras.Sequential()\n",
    "net1.add(tf.keras.layers.Flatten()) ## 데이터를 펼치는 과정\n",
    "net1.add(tf.keras.layers.Dense(30,activation='relu'))\n",
    "net1.add(tf.keras.layers.Dense(10,activation='softmax'))\n",
    "net1.compile(loss=tf.losses.categorical_crossentropy,optimizer='adam',metrics='accuracy')\n",
    "net1.fit(X,y,epochs=10,verbose=0)"
   ]
  },
  {
   "cell_type": "code",
   "execution_count": null,
   "id": "0f65b761-a071-4d7d-a991-e03c7bee2343",
   "metadata": {
    "colab": {
     "base_uri": "https://localhost:8080/"
    },
    "executionInfo": {
     "elapsed": 5484,
     "status": "ok",
     "timestamp": 1652696364880,
     "user": {
      "displayName": "이강철",
      "userId": "13507850890638580947"
     },
     "user_tz": -540
    },
    "id": "0f65b761-a071-4d7d-a991-e03c7bee2343",
    "outputId": "4b0e7036-2d08-4b9f-a970-28ccfb47ed21"
   },
   "outputs": [
    {
     "name": "stdout",
     "output_type": "stream",
     "text": [
      "1875/1875 [==============================] - 4s 2ms/step - loss: 0.6145 - accuracy: 0.7520\n"
     ]
    },
    {
     "data": {
      "text/plain": [
       "[0.614452600479126, 0.7520333528518677]"
      ]
     },
     "execution_count": 11,
     "metadata": {},
     "output_type": "execute_result"
    }
   ],
   "source": [
    "net1.evaluate(X,y)"
   ]
  },
  {
   "cell_type": "code",
   "execution_count": null,
   "id": "acec7835-6b7c-4190-b252-91e52d8f2c61",
   "metadata": {
    "colab": {
     "base_uri": "https://localhost:8080/"
    },
    "executionInfo": {
     "elapsed": 82651,
     "status": "ok",
     "timestamp": 1652696468159,
     "user": {
      "displayName": "이강철",
      "userId": "13507850890638580947"
     },
     "user_tz": -540
    },
    "id": "acec7835-6b7c-4190-b252-91e52d8f2c61",
    "outputId": "913ee2cf-bb5a-4211-b13b-0859045eeb08"
   },
   "outputs": [
    {
     "name": "stdout",
     "output_type": "stream",
     "text": [
      "Epoch 1/10\n",
      "1875/1875 [==============================] - 6s 3ms/step - loss: 1.1154 - accuracy: 0.7879\n",
      "Epoch 2/10\n",
      "1875/1875 [==============================] - 6s 3ms/step - loss: 0.4502 - accuracy: 0.8384\n",
      "Epoch 3/10\n",
      "1875/1875 [==============================] - 5s 3ms/step - loss: 0.4117 - accuracy: 0.8536\n",
      "Epoch 4/10\n",
      "1875/1875 [==============================] - 5s 3ms/step - loss: 0.3950 - accuracy: 0.8601\n",
      "Epoch 5/10\n",
      "1875/1875 [==============================] - 5s 3ms/step - loss: 0.3770 - accuracy: 0.8663\n",
      "Epoch 6/10\n",
      "1875/1875 [==============================] - 5s 3ms/step - loss: 0.3625 - accuracy: 0.8713\n",
      "Epoch 7/10\n",
      "1875/1875 [==============================] - 5s 3ms/step - loss: 0.3498 - accuracy: 0.8760\n",
      "Epoch 8/10\n",
      "1875/1875 [==============================] - 5s 3ms/step - loss: 0.3358 - accuracy: 0.8801\n",
      "Epoch 9/10\n",
      "1875/1875 [==============================] - 5s 3ms/step - loss: 0.3328 - accuracy: 0.8817\n",
      "Epoch 10/10\n",
      "1875/1875 [==============================] - 5s 3ms/step - loss: 0.3186 - accuracy: 0.8855\n"
     ]
    },
    {
     "data": {
      "text/plain": [
       "<keras.callbacks.History at 0x7ff2a66f9e90>"
      ]
     },
     "execution_count": 12,
     "metadata": {},
     "output_type": "execute_result"
    }
   ],
   "source": [
    "tf.random.set_seed(43052)\n",
    "net2 = tf.keras.Sequential()\n",
    "net2.add(tf.keras.layers.Flatten())\n",
    "net2.add(tf.keras.layers.Dense(500,activation='relu'))\n",
    "net2.add(tf.keras.layers.Dense(500,activation='relu'))\n",
    "net2.add(tf.keras.layers.Dense(500,activation='relu'))\n",
    "net2.add(tf.keras.layers.Dense(500,activation='relu'))\n",
    "net2.add(tf.keras.layers.Dense(10,activation='softmax'))\n",
    "net2.compile(loss=tf.losses.categorical_crossentropy,optimizer='adam',metrics='accuracy')\n",
    "net2.fit(X,y,epochs=10)"
   ]
  },
  {
   "cell_type": "code",
   "execution_count": null,
   "id": "1d5fb508-b3f4-490b-bbf1-09001668f05a",
   "metadata": {
    "colab": {
     "base_uri": "https://localhost:8080/"
    },
    "executionInfo": {
     "elapsed": 1296,
     "status": "ok",
     "timestamp": 1652696473021,
     "user": {
      "displayName": "이강철",
      "userId": "13507850890638580947"
     },
     "user_tz": -540
    },
    "id": "1d5fb508-b3f4-490b-bbf1-09001668f05a",
    "outputId": "e25af7e6-aecc-40a6-855e-4a64acfd7467"
   },
   "outputs": [
    {
     "name": "stdout",
     "output_type": "stream",
     "text": [
      "313/313 [==============================] - 1s 2ms/step - loss: 0.3804 - accuracy: 0.8655\n"
     ]
    },
    {
     "data": {
      "text/plain": [
       "[0.38036859035491943, 0.8654999732971191]"
      ]
     },
     "execution_count": 13,
     "metadata": {},
     "output_type": "execute_result"
    }
   ],
   "source": [
    "net2.evaluate(XX,yy)"
   ]
  },
  {
   "cell_type": "markdown",
   "id": "33681249-ff6d-455f-a2f2-48cf604c4b33",
   "metadata": {
    "id": "33681249-ff6d-455f-a2f2-48cf604c4b33"
   },
   "source": [
    "- DNN 아키텍처로는 한계가 있음\n",
    "- 파라미터 개수가 늘어난 것에 비해 딱히 성능이 많이 좋아진 것 같지는 않음"
   ]
  },
  {
   "cell_type": "markdown",
   "id": "f3ab18ff-5707-4efc-b3fd-b2f763985db9",
   "metadata": {
    "id": "f3ab18ff-5707-4efc-b3fd-b2f763985db9"
   },
   "source": [
    "`-` net3 : Conv2D + MaxPool2D"
   ]
  },
  {
   "cell_type": "code",
   "execution_count": null,
   "id": "026b8e0c-76ce-4bf3-938b-39e1644f9348",
   "metadata": {
    "colab": {
     "base_uri": "https://localhost:8080/"
    },
    "executionInfo": {
     "elapsed": 62650,
     "status": "ok",
     "timestamp": 1652696609494,
     "user": {
      "displayName": "이강철",
      "userId": "13507850890638580947"
     },
     "user_tz": -540
    },
    "id": "026b8e0c-76ce-4bf3-938b-39e1644f9348",
    "outputId": "7272e176-e207-4334-8b54-ddf0d3f8b30d"
   },
   "outputs": [
    {
     "name": "stdout",
     "output_type": "stream",
     "text": [
      "Epoch 1/10\n",
      "1875/1875 [==============================] - 14s 3ms/step - loss: 0.7710 - accuracy: 0.8084\n",
      "Epoch 2/10\n",
      "1875/1875 [==============================] - 5s 3ms/step - loss: 0.3586 - accuracy: 0.8730\n",
      "Epoch 3/10\n",
      "1875/1875 [==============================] - 5s 3ms/step - loss: 0.3152 - accuracy: 0.8868\n",
      "Epoch 4/10\n",
      "1875/1875 [==============================] - 5s 3ms/step - loss: 0.2940 - accuracy: 0.8935\n",
      "Epoch 5/10\n",
      "1875/1875 [==============================] - 5s 3ms/step - loss: 0.2793 - accuracy: 0.8989\n",
      "Epoch 6/10\n",
      "1875/1875 [==============================] - 6s 3ms/step - loss: 0.2659 - accuracy: 0.9027\n",
      "Epoch 7/10\n",
      "1875/1875 [==============================] - 5s 3ms/step - loss: 0.2573 - accuracy: 0.9063\n",
      "Epoch 8/10\n",
      "1875/1875 [==============================] - 5s 3ms/step - loss: 0.2487 - accuracy: 0.9090\n",
      "Epoch 9/10\n",
      "1875/1875 [==============================] - 5s 3ms/step - loss: 0.2441 - accuracy: 0.9110\n",
      "Epoch 10/10\n",
      "1875/1875 [==============================] - 5s 3ms/step - loss: 0.2380 - accuracy: 0.9118\n"
     ]
    },
    {
     "data": {
      "text/plain": [
       "<keras.callbacks.History at 0x7ff2a656e3d0>"
      ]
     },
     "execution_count": 14,
     "metadata": {},
     "output_type": "execute_result"
    }
   ],
   "source": [
    "tf.random.set_seed(43052)\n",
    "net3 = tf.keras.Sequential()\n",
    "net3.add(tf.keras.layers.Conv2D(30,(2,2),activation='relu'))\n",
    "net3.add(tf.keras.layers.MaxPool2D()) # net3.add(tf.keras.layers.MaxPool2D(pool_size=(2,2)))와 동일한 코드\n",
    "net3.add(tf.keras.layers.Conv2D(30,(2,2),activation='relu'))\n",
    "net3.add(tf.keras.layers.MaxPool2D())\n",
    "net3.add(tf.keras.layers.Flatten())\n",
    "net3.add(tf.keras.layers.Dense(10,activation='softmax'))\n",
    "net3.compile(loss=tf.losses.categorical_crossentropy,optimizer='adam',metrics='accuracy')\n",
    "net3.fit(X,y,epochs=10)"
   ]
  },
  {
   "cell_type": "code",
   "execution_count": null,
   "id": "862f185b-1426-48d2-85ef-7b86edfe6485",
   "metadata": {
    "colab": {
     "base_uri": "https://localhost:8080/"
    },
    "executionInfo": {
     "elapsed": 1561,
     "status": "ok",
     "timestamp": 1652696635509,
     "user": {
      "displayName": "이강철",
      "userId": "13507850890638580947"
     },
     "user_tz": -540
    },
    "id": "862f185b-1426-48d2-85ef-7b86edfe6485",
    "outputId": "5f9bca7e-0bcb-4bfc-9338-8ea2dc563a2f"
   },
   "outputs": [
    {
     "name": "stdout",
     "output_type": "stream",
     "text": [
      "313/313 [==============================] - 1s 3ms/step - loss: 0.3457 - accuracy: 0.8801\n"
     ]
    },
    {
     "data": {
      "text/plain": [
       "[0.3457203209400177, 0.8801000118255615]"
      ]
     },
     "execution_count": 16,
     "metadata": {},
     "output_type": "execute_result"
    }
   ],
   "source": [
    "net3.evaluate(XX,yy)"
   ]
  },
  {
   "cell_type": "code",
   "execution_count": null,
   "id": "aTx9BhzAaDII",
   "metadata": {
    "colab": {
     "base_uri": "https://localhost:8080/"
    },
    "executionInfo": {
     "elapsed": 301,
     "status": "ok",
     "timestamp": 1652696826704,
     "user": {
      "displayName": "이강철",
      "userId": "13507850890638580947"
     },
     "user_tz": -540
    },
    "id": "aTx9BhzAaDII",
    "outputId": "6fffba15-3ad2-42a5-d542-690504879f50"
   },
   "outputs": [
    {
     "name": "stdout",
     "output_type": "stream",
     "text": [
      "Model: \"sequential_2\"\n",
      "_________________________________________________________________\n",
      " Layer (type)                Output Shape              Param #   \n",
      "=================================================================\n",
      " flatten_2 (Flatten)         (None, 784)               0         \n",
      "                                                                 \n",
      " dense_4 (Dense)             (None, 500)               392500    \n",
      "                                                                 \n",
      " dense_5 (Dense)             (None, 500)               250500    \n",
      "                                                                 \n",
      " dense_6 (Dense)             (None, 500)               250500    \n",
      "                                                                 \n",
      " dense_7 (Dense)             (None, 500)               250500    \n",
      "                                                                 \n",
      " dense_8 (Dense)             (None, 10)                5010      \n",
      "                                                                 \n",
      "=================================================================\n",
      "Total params: 1,149,010\n",
      "Trainable params: 1,149,010\n",
      "Non-trainable params: 0\n",
      "_________________________________________________________________\n"
     ]
    }
   ],
   "source": [
    "net2.summary()"
   ]
  },
  {
   "cell_type": "code",
   "execution_count": null,
   "id": "9ntC7aTAZ_Jh",
   "metadata": {
    "colab": {
     "base_uri": "https://localhost:8080/"
    },
    "executionInfo": {
     "elapsed": 273,
     "status": "ok",
     "timestamp": 1652696820701,
     "user": {
      "displayName": "이강철",
      "userId": "13507850890638580947"
     },
     "user_tz": -540
    },
    "id": "9ntC7aTAZ_Jh",
    "outputId": "0bebea6b-1c56-4dcd-efa6-6ac32f61f872"
   },
   "outputs": [
    {
     "name": "stdout",
     "output_type": "stream",
     "text": [
      "Model: \"sequential_3\"\n",
      "_________________________________________________________________\n",
      " Layer (type)                Output Shape              Param #   \n",
      "=================================================================\n",
      " conv2d (Conv2D)             (None, 27, 27, 30)        150       \n",
      "                                                                 \n",
      " max_pooling2d (MaxPooling2D  (None, 13, 13, 30)       0         \n",
      " )                                                               \n",
      "                                                                 \n",
      " conv2d_1 (Conv2D)           (None, 12, 12, 30)        3630      \n",
      "                                                                 \n",
      " max_pooling2d_1 (MaxPooling  (None, 6, 6, 30)         0         \n",
      " 2D)                                                             \n",
      "                                                                 \n",
      " flatten_3 (Flatten)         (None, 1080)              0         \n",
      "                                                                 \n",
      " dense_9 (Dense)             (None, 10)                10810     \n",
      "                                                                 \n",
      "=================================================================\n",
      "Total params: 14,590\n",
      "Trainable params: 14,590\n",
      "Non-trainable params: 0\n",
      "_________________________________________________________________\n"
     ]
    }
   ],
   "source": [
    "net3.summary()"
   ]
  },
  {
   "cell_type": "markdown",
   "id": "0d158a3c-11d3-4c4b-a852-8912f45e62df",
   "metadata": {
    "id": "0d158a3c-11d3-4c4b-a852-8912f45e62df"
   },
   "source": [
    "- DNN의 한계(모형이 너무 복잡합)를 가볍게 돌파\n"
   ]
  },
  {
   "cell_type": "markdown",
   "id": "50402a1e-86dc-4e62-8b15-00f240129d64",
   "metadata": {
    "id": "50402a1e-86dc-4e62-8b15-00f240129d64"
   },
   "source": [
    "`-` net3의 구조 감상"
   ]
  },
  {
   "cell_type": "code",
   "execution_count": null,
   "id": "442e9e9a-5b16-4b91-a6c7-727fec21e86b",
   "metadata": {
    "colab": {
     "base_uri": "https://localhost:8080/"
    },
    "executionInfo": {
     "elapsed": 295,
     "status": "ok",
     "timestamp": 1652696891166,
     "user": {
      "displayName": "이강철",
      "userId": "13507850890638580947"
     },
     "user_tz": -540
    },
    "id": "442e9e9a-5b16-4b91-a6c7-727fec21e86b",
    "outputId": "402b1100-42e9-4bf6-d39f-89099a9f7777"
   },
   "outputs": [
    {
     "data": {
      "text/plain": [
       "[<keras.layers.convolutional.Conv2D at 0x7ff2a6550050>,\n",
       " <keras.layers.pooling.MaxPooling2D at 0x7ff2a6550c90>,\n",
       " <keras.layers.convolutional.Conv2D at 0x7ff3100b67d0>,\n",
       " <keras.layers.pooling.MaxPooling2D at 0x7ff2a655e890>,\n",
       " <keras.layers.core.flatten.Flatten at 0x7ff2a655e710>,\n",
       " <keras.layers.core.dense.Dense at 0x7ff2a654cf10>]"
      ]
     },
     "execution_count": 23,
     "metadata": {},
     "output_type": "execute_result"
    }
   ],
   "source": [
    "net3.layers"
   ]
  },
  {
   "cell_type": "code",
   "execution_count": null,
   "id": "b2b1e821-c201-473a-ad88-6a11b16b5c65",
   "metadata": {
    "id": "b2b1e821-c201-473a-ad88-6a11b16b5c65"
   },
   "outputs": [],
   "source": [
    "cv1, mp1, cv2, mp2, flttn, d1 = net3.layers"
   ]
  },
  {
   "cell_type": "code",
   "execution_count": null,
   "id": "d48fda4d-bda5-4311-9c12-67544ab741f9",
   "metadata": {
    "colab": {
     "base_uri": "https://localhost:8080/"
    },
    "executionInfo": {
     "elapsed": 1005,
     "status": "ok",
     "timestamp": 1652696904678,
     "user": {
      "displayName": "이강철",
      "userId": "13507850890638580947"
     },
     "user_tz": -540
    },
    "id": "d48fda4d-bda5-4311-9c12-67544ab741f9",
    "outputId": "63a59e56-c711-4282-b7af-ad09d3db1664"
   },
   "outputs": [
    {
     "name": "stdout",
     "output_type": "stream",
     "text": [
      "(10000, 28, 28, 1)\n",
      "(10000, 27, 27, 30)\n",
      "(10000, 13, 13, 30)\n",
      "(10000, 12, 12, 30)\n",
      "(10000, 6, 6, 30)\n",
      "(10000, 1080)\n",
      "(10000, 10)\n"
     ]
    }
   ],
   "source": [
    "print(XX.shape) ## 이미지 (2D)\n",
    "print(cv1(XX).shape) ## 이미지 (2D)\n",
    "print(mp1(cv1(XX)).shape) ## 이미지 (2D)\n",
    "print(cv2(mp1(cv1(XX))).shape) ## 이미지 (2D) \n",
    "print(mp2(cv2(mp1(cv1(XX)))).shape) ## 이미지 (2D) \n",
    "print(flttn(mp2(cv2(mp1(cv1(XX))))).shape) ## 이미지를 펼친것 (1D) \n",
    "print(d1(flttn(mp2(cv2(mp1(cv1(XX)))))).shape) ## 이미지를 펼친것 (1D) "
   ]
  },
  {
   "cell_type": "markdown",
   "id": "61fec2ac-e975-4580-bc6e-a24849845ea1",
   "metadata": {
    "id": "61fec2ac-e975-4580-bc6e-a24849845ea1"
   },
   "source": [
    "- 복잡한거아냐?"
   ]
  },
  {
   "cell_type": "markdown",
   "id": "7a5521cf-4c70-4466-8248-e9557b0aeee2",
   "metadata": {
    "id": "7a5521cf-4c70-4466-8248-e9557b0aeee2"
   },
   "source": [
    "`-` 파라메터 비교"
   ]
  },
  {
   "cell_type": "code",
   "execution_count": null,
   "id": "d338eaf0-92f6-4b9c-a0bc-91b91b07e107",
   "metadata": {
    "colab": {
     "base_uri": "https://localhost:8080/"
    },
    "executionInfo": {
     "elapsed": 268,
     "status": "ok",
     "timestamp": 1652696924812,
     "user": {
      "displayName": "이강철",
      "userId": "13507850890638580947"
     },
     "user_tz": -540
    },
    "id": "d338eaf0-92f6-4b9c-a0bc-91b91b07e107",
    "outputId": "b830e87e-cfe2-4234-e236-de0d6eace60b"
   },
   "outputs": [
    {
     "name": "stdout",
     "output_type": "stream",
     "text": [
      "Model: \"sequential_1\"\n",
      "_________________________________________________________________\n",
      " Layer (type)                Output Shape              Param #   \n",
      "=================================================================\n",
      " flatten_1 (Flatten)         (32, 784)                 0         \n",
      "                                                                 \n",
      " dense_2 (Dense)             (32, 30)                  23550     \n",
      "                                                                 \n",
      " dense_3 (Dense)             (32, 10)                  310       \n",
      "                                                                 \n",
      "=================================================================\n",
      "Total params: 23,860\n",
      "Trainable params: 23,860\n",
      "Non-trainable params: 0\n",
      "_________________________________________________________________\n"
     ]
    }
   ],
   "source": [
    "net1.summary() ## 23,860"
   ]
  },
  {
   "cell_type": "code",
   "execution_count": null,
   "id": "a794ad81-1893-4ce3-9a05-bd2716aff9a7",
   "metadata": {
    "colab": {
     "base_uri": "https://localhost:8080/"
    },
    "executionInfo": {
     "elapsed": 293,
     "status": "ok",
     "timestamp": 1652696926295,
     "user": {
      "displayName": "이강철",
      "userId": "13507850890638580947"
     },
     "user_tz": -540
    },
    "id": "a794ad81-1893-4ce3-9a05-bd2716aff9a7",
    "outputId": "3bd62e7c-c11a-4ea4-b8f0-b6fe94d1a1dd"
   },
   "outputs": [
    {
     "name": "stdout",
     "output_type": "stream",
     "text": [
      "Model: \"sequential_2\"\n",
      "_________________________________________________________________\n",
      " Layer (type)                Output Shape              Param #   \n",
      "=================================================================\n",
      " flatten_2 (Flatten)         (None, 784)               0         \n",
      "                                                                 \n",
      " dense_4 (Dense)             (None, 500)               392500    \n",
      "                                                                 \n",
      " dense_5 (Dense)             (None, 500)               250500    \n",
      "                                                                 \n",
      " dense_6 (Dense)             (None, 500)               250500    \n",
      "                                                                 \n",
      " dense_7 (Dense)             (None, 500)               250500    \n",
      "                                                                 \n",
      " dense_8 (Dense)             (None, 10)                5010      \n",
      "                                                                 \n",
      "=================================================================\n",
      "Total params: 1,149,010\n",
      "Trainable params: 1,149,010\n",
      "Non-trainable params: 0\n",
      "_________________________________________________________________\n"
     ]
    }
   ],
   "source": [
    "net2.summary() # 1,149,010"
   ]
  },
  {
   "cell_type": "code",
   "execution_count": null,
   "id": "8c751ef5-86c1-4a1b-9360-81a9b1d854f2",
   "metadata": {
    "colab": {
     "base_uri": "https://localhost:8080/"
    },
    "executionInfo": {
     "elapsed": 263,
     "status": "ok",
     "timestamp": 1652696928040,
     "user": {
      "displayName": "이강철",
      "userId": "13507850890638580947"
     },
     "user_tz": -540
    },
    "id": "8c751ef5-86c1-4a1b-9360-81a9b1d854f2",
    "outputId": "f10aa920-9710-4ad0-c3f4-917f3e3fa9be"
   },
   "outputs": [
    {
     "name": "stdout",
     "output_type": "stream",
     "text": [
      "Model: \"sequential_3\"\n",
      "_________________________________________________________________\n",
      " Layer (type)                Output Shape              Param #   \n",
      "=================================================================\n",
      " conv2d (Conv2D)             (None, 27, 27, 30)        150       \n",
      "                                                                 \n",
      " max_pooling2d (MaxPooling2D  (None, 13, 13, 30)       0         \n",
      " )                                                               \n",
      "                                                                 \n",
      " conv2d_1 (Conv2D)           (None, 12, 12, 30)        3630      \n",
      "                                                                 \n",
      " max_pooling2d_1 (MaxPooling  (None, 6, 6, 30)         0         \n",
      " 2D)                                                             \n",
      "                                                                 \n",
      " flatten_3 (Flatten)         (None, 1080)              0         \n",
      "                                                                 \n",
      " dense_9 (Dense)             (None, 10)                10810     \n",
      "                                                                 \n",
      "=================================================================\n",
      "Total params: 14,590\n",
      "Trainable params: 14,590\n",
      "Non-trainable params: 0\n",
      "_________________________________________________________________\n"
     ]
    }
   ],
   "source": [
    "net3.summary() # 14,590"
   ]
  },
  {
   "cell_type": "code",
   "execution_count": null,
   "id": "fd303548-f1d8-475f-b6ae-6fcc0839258e",
   "metadata": {
    "colab": {
     "base_uri": "https://localhost:8080/"
    },
    "executionInfo": {
     "elapsed": 291,
     "status": "ok",
     "timestamp": 1652697838288,
     "user": {
      "displayName": "이강철",
      "userId": "13507850890638580947"
     },
     "user_tz": -540
    },
    "id": "fd303548-f1d8-475f-b6ae-6fcc0839258e",
    "outputId": "7d5eaabb-8d66-48ae-b0e5-3179b390fd79"
   },
   "outputs": [
    {
     "data": {
      "text/plain": [
       "0.6114836546521375"
      ]
     },
     "execution_count": 29,
     "metadata": {},
     "output_type": "execute_result"
    }
   ],
   "source": [
    "14590/23860"
   ]
  },
  {
   "cell_type": "code",
   "execution_count": null,
   "id": "c11a540b-73f3-40cc-a2b3-974f9186098e",
   "metadata": {
    "colab": {
     "base_uri": "https://localhost:8080/"
    },
    "executionInfo": {
     "elapsed": 2,
     "status": "ok",
     "timestamp": 1652697839434,
     "user": {
      "displayName": "이강철",
      "userId": "13507850890638580947"
     },
     "user_tz": -540
    },
    "id": "c11a540b-73f3-40cc-a2b3-974f9186098e",
    "outputId": "8f1195f2-6d30-44c7-e40f-107558dbaa88"
   },
   "outputs": [
    {
     "data": {
      "text/plain": [
       "0.012697887746842934"
      ]
     },
     "execution_count": 30,
     "metadata": {},
     "output_type": "execute_result"
    }
   ],
   "source": [
    "14590/1149010"
   ]
  },
  {
   "cell_type": "markdown",
   "id": "5BLug8u3d9aq",
   "metadata": {
    "id": "5BLug8u3d9aq"
   },
   "source": [
    "## maxpooling"
   ]
  },
  {
   "cell_type": "markdown",
   "id": "JSWht7XpfjM7",
   "metadata": {
    "id": "JSWht7XpfjM7"
   },
   "source": [
    "### 테스트 1"
   ]
  },
  {
   "cell_type": "code",
   "execution_count": null,
   "id": "RkyMJAzteSUS",
   "metadata": {
    "id": "RkyMJAzteSUS"
   },
   "outputs": [],
   "source": [
    "m = tf.keras.layers.MaxPool2D()"
   ]
  },
  {
   "cell_type": "code",
   "execution_count": null,
   "id": "kUPqpewJeYsL",
   "metadata": {
    "colab": {
     "base_uri": "https://localhost:8080/"
    },
    "executionInfo": {
     "elapsed": 2,
     "status": "ok",
     "timestamp": 1652697981343,
     "user": {
      "displayName": "이강철",
      "userId": "13507850890638580947"
     },
     "user_tz": -540
    },
    "id": "kUPqpewJeYsL",
    "outputId": "e3675515-7cc3-467a-a947-f0332966fee6"
   },
   "outputs": [
    {
     "data": {
      "text/plain": [
       "<tf.Tensor: shape=(16,), dtype=int64, numpy=array([ 0,  1,  2,  3,  4,  5,  6,  7,  8,  9, 10, 11, 12, 13, 14, 15])>"
      ]
     },
     "execution_count": 34,
     "metadata": {},
     "output_type": "execute_result"
    }
   ],
   "source": [
    "XXX = tnp.arange(1*4*4*1)\n",
    "XXX"
   ]
  },
  {
   "cell_type": "code",
   "execution_count": null,
   "id": "QDHoSDrEedCS",
   "metadata": {
    "colab": {
     "base_uri": "https://localhost:8080/"
    },
    "executionInfo": {
     "elapsed": 263,
     "status": "ok",
     "timestamp": 1652698003616,
     "user": {
      "displayName": "이강철",
      "userId": "13507850890638580947"
     },
     "user_tz": -540
    },
    "id": "QDHoSDrEedCS",
    "outputId": "89e6af23-7c91-4f41-d42b-0f6d147993a3"
   },
   "outputs": [
    {
     "data": {
      "text/plain": [
       "<tf.Tensor: shape=(1, 4, 4, 1), dtype=int64, numpy=\n",
       "array([[[[ 0],\n",
       "         [ 1],\n",
       "         [ 2],\n",
       "         [ 3]],\n",
       "\n",
       "        [[ 4],\n",
       "         [ 5],\n",
       "         [ 6],\n",
       "         [ 7]],\n",
       "\n",
       "        [[ 8],\n",
       "         [ 9],\n",
       "         [10],\n",
       "         [11]],\n",
       "\n",
       "        [[12],\n",
       "         [13],\n",
       "         [14],\n",
       "         [15]]]])>"
      ]
     },
     "execution_count": 35,
     "metadata": {},
     "output_type": "execute_result"
    }
   ],
   "source": [
    "XXX = XXX.reshape(1,4,4,1) ## 컬러이미지\n",
    "XXX"
   ]
  },
  {
   "cell_type": "code",
   "execution_count": null,
   "id": "Q-AT3hyyemhK",
   "metadata": {
    "colab": {
     "base_uri": "https://localhost:8080/"
    },
    "executionInfo": {
     "elapsed": 2,
     "status": "ok",
     "timestamp": 1652698030810,
     "user": {
      "displayName": "이강철",
      "userId": "13507850890638580947"
     },
     "user_tz": -540
    },
    "id": "Q-AT3hyyemhK",
    "outputId": "dee18746-8b47-4b79-c61a-0af3cea15783"
   },
   "outputs": [
    {
     "data": {
      "text/plain": [
       "<tf.Tensor: shape=(1, 4, 4), dtype=int64, numpy=\n",
       "array([[[ 0,  1,  2,  3],\n",
       "        [ 4,  5,  6,  7],\n",
       "        [ 8,  9, 10, 11],\n",
       "        [12, 13, 14, 15]]])>"
      ]
     },
     "execution_count": 36,
     "metadata": {},
     "output_type": "execute_result"
    }
   ],
   "source": [
    "XXX.reshape(1,4,4) ## 흑백이미지"
   ]
  },
  {
   "cell_type": "code",
   "execution_count": null,
   "id": "x-Vu3khLeser",
   "metadata": {
    "colab": {
     "base_uri": "https://localhost:8080/"
    },
    "executionInfo": {
     "elapsed": 300,
     "status": "ok",
     "timestamp": 1652698061676,
     "user": {
      "displayName": "이강철",
      "userId": "13507850890638580947"
     },
     "user_tz": -540
    },
    "id": "x-Vu3khLeser",
    "outputId": "5c984dab-c8e2-45fd-9963-f50df26bad57"
   },
   "outputs": [
    {
     "data": {
      "text/plain": [
       "<tf.Tensor: shape=(1, 2, 2, 1), dtype=int64, numpy=\n",
       "array([[[[ 5],\n",
       "         [ 7]],\n",
       "\n",
       "        [[13],\n",
       "         [15]]]])>"
      ]
     },
     "execution_count": 38,
     "metadata": {},
     "output_type": "execute_result"
    }
   ],
   "source": [
    "m(XXX)"
   ]
  },
  {
   "cell_type": "code",
   "execution_count": null,
   "id": "7m3YVf60exyS",
   "metadata": {
    "colab": {
     "base_uri": "https://localhost:8080/"
    },
    "executionInfo": {
     "elapsed": 2,
     "status": "ok",
     "timestamp": 1652698068150,
     "user": {
      "displayName": "이강철",
      "userId": "13507850890638580947"
     },
     "user_tz": -540
    },
    "id": "7m3YVf60exyS",
    "outputId": "c0457f03-581d-464a-d303-a6fbea7abe24"
   },
   "outputs": [
    {
     "data": {
      "text/plain": [
       "<tf.Tensor: shape=(1, 2, 2), dtype=int64, numpy=\n",
       "array([[[ 5,  7],\n",
       "        [13, 15]]])>"
      ]
     },
     "execution_count": 39,
     "metadata": {},
     "output_type": "execute_result"
    }
   ],
   "source": [
    "m(XXX).reshape(1,2,2)"
   ]
  },
  {
   "cell_type": "markdown",
   "id": "gaGE0hQMe0QL",
   "metadata": {
    "id": "gaGE0hQMe0QL"
   },
   "source": [
    "* 눈치껏 `XXX.reshape(1,4,4)`에서 각각의 `2 x 2`에서 가장 큰 값을 찾아주는 것으로 생각하자."
   ]
  },
  {
   "cell_type": "markdown",
   "id": "AW0S3DYTfKMS",
   "metadata": {
    "id": "AW0S3DYTfKMS"
   },
   "source": [
    "* 즉, `2 x 2`의 window를 만들고 그 중 가장 기록 후 윈도우를 움직이면서 이 과정을 반복한다."
   ]
  },
  {
   "cell_type": "markdown",
   "id": "4zH_FhpJfg1L",
   "metadata": {
    "id": "4zH_FhpJfg1L"
   },
   "source": [
    "### 테스트 2"
   ]
  },
  {
   "cell_type": "code",
   "execution_count": null,
   "id": "OlV3OxeSfl6L",
   "metadata": {
    "colab": {
     "base_uri": "https://localhost:8080/"
    },
    "executionInfo": {
     "elapsed": 1,
     "status": "ok",
     "timestamp": 1652698315450,
     "user": {
      "displayName": "이강철",
      "userId": "13507850890638580947"
     },
     "user_tz": -540
    },
    "id": "OlV3OxeSfl6L",
    "outputId": "fcd00454-228a-4d5a-b782-2bcf422f75ed"
   },
   "outputs": [
    {
     "data": {
      "text/plain": [
       "<tf.Tensor: shape=(1, 6, 6), dtype=int64, numpy=\n",
       "array([[[ 0,  1,  2,  3,  4,  5],\n",
       "        [ 6,  7,  8,  9, 10, 11],\n",
       "        [12, 13, 14, 15, 16, 17],\n",
       "        [18, 19, 20, 21, 22, 23],\n",
       "        [24, 25, 26, 27, 28, 29],\n",
       "        [30, 31, 32, 33, 34, 35]]])>"
      ]
     },
     "execution_count": 40,
     "metadata": {},
     "output_type": "execute_result"
    }
   ],
   "source": [
    "XXX = tnp.arange(1*6*6*1).reshape(1,6,6,1)\n",
    "XXX.reshape(1,6,6)"
   ]
  },
  {
   "cell_type": "code",
   "execution_count": null,
   "id": "i6Ga6lqrfv6b",
   "metadata": {
    "colab": {
     "base_uri": "https://localhost:8080/"
    },
    "executionInfo": {
     "elapsed": 2,
     "status": "ok",
     "timestamp": 1652698326223,
     "user": {
      "displayName": "이강철",
      "userId": "13507850890638580947"
     },
     "user_tz": -540
    },
    "id": "i6Ga6lqrfv6b",
    "outputId": "a35042b0-ffb8-4902-c9e4-5f00b9463913"
   },
   "outputs": [
    {
     "data": {
      "text/plain": [
       "<tf.Tensor: shape=(1, 3, 3), dtype=int64, numpy=\n",
       "array([[[ 7,  9, 11],\n",
       "        [19, 21, 23],\n",
       "        [31, 33, 35]]])>"
      ]
     },
     "execution_count": 41,
     "metadata": {},
     "output_type": "execute_result"
    }
   ],
   "source": [
    "m(XXX).reshape(1,3,3)"
   ]
  },
  {
   "cell_type": "markdown",
   "id": "1u4iIx12f1Jb",
   "metadata": {
    "id": "1u4iIx12f1Jb"
   },
   "source": [
    "* 윈도우 크기 `2 x 2`는 디폴트 값이다!!"
   ]
  },
  {
   "cell_type": "markdown",
   "id": "88F0GdqTgAV7",
   "metadata": {
    "id": "88F0GdqTgAV7"
   },
   "source": [
    "### 테스트 3"
   ]
  },
  {
   "cell_type": "code",
   "execution_count": null,
   "id": "0d612b-sgBXq",
   "metadata": {
    "id": "0d612b-sgBXq"
   },
   "outputs": [],
   "source": [
    "m=tf.keras.layers.MaxPool2D(pool_size=(3,3))"
   ]
  },
  {
   "cell_type": "code",
   "execution_count": null,
   "id": "Q_drcE92gK1i",
   "metadata": {
    "colab": {
     "base_uri": "https://localhost:8080/"
    },
    "executionInfo": {
     "elapsed": 264,
     "status": "ok",
     "timestamp": 1652698432640,
     "user": {
      "displayName": "이강철",
      "userId": "13507850890638580947"
     },
     "user_tz": -540
    },
    "id": "Q_drcE92gK1i",
    "outputId": "2c6ecca4-547b-44ce-ed2f-c2b115ed26ac"
   },
   "outputs": [
    {
     "data": {
      "text/plain": [
       "<tf.Tensor: shape=(1, 6, 6), dtype=int64, numpy=\n",
       "array([[[ 0,  1,  2,  3,  4,  5],\n",
       "        [ 6,  7,  8,  9, 10, 11],\n",
       "        [12, 13, 14, 15, 16, 17],\n",
       "        [18, 19, 20, 21, 22, 23],\n",
       "        [24, 25, 26, 27, 28, 29],\n",
       "        [30, 31, 32, 33, 34, 35]]])>"
      ]
     },
     "execution_count": 43,
     "metadata": {},
     "output_type": "execute_result"
    }
   ],
   "source": [
    "XXX = tnp.arange(1*6*6*1).reshape(1,6,6,1)\n",
    "XXX.reshape(1,6,6)"
   ]
  },
  {
   "cell_type": "code",
   "execution_count": null,
   "id": "bURVl1_0gMVy",
   "metadata": {
    "colab": {
     "base_uri": "https://localhost:8080/"
    },
    "executionInfo": {
     "elapsed": 264,
     "status": "ok",
     "timestamp": 1652698439055,
     "user": {
      "displayName": "이강철",
      "userId": "13507850890638580947"
     },
     "user_tz": -540
    },
    "id": "bURVl1_0gMVy",
    "outputId": "6641babd-530f-4252-8b04-52bc8ee31ce0"
   },
   "outputs": [
    {
     "data": {
      "text/plain": [
       "<tf.Tensor: shape=(1, 2, 2), dtype=int64, numpy=\n",
       "array([[[14, 17],\n",
       "        [32, 35]]])>"
      ]
     },
     "execution_count": 44,
     "metadata": {},
     "output_type": "execute_result"
    }
   ],
   "source": [
    "m(XXX).reshape(1,2,2)"
   ]
  },
  {
   "cell_type": "markdown",
   "id": "lbHk1vhcgPC7",
   "metadata": {
    "id": "lbHk1vhcgPC7"
   },
   "source": [
    "### 테스트 4"
   ]
  },
  {
   "cell_type": "code",
   "execution_count": null,
   "id": "i7WcZbkMgkX8",
   "metadata": {
    "id": "i7WcZbkMgkX8"
   },
   "outputs": [],
   "source": [
    "m=tf.keras.layers.MaxPool2D(pool_size=(2,2))"
   ]
  },
  {
   "cell_type": "code",
   "execution_count": null,
   "id": "TsoTFQRugnVB",
   "metadata": {
    "colab": {
     "base_uri": "https://localhost:8080/"
    },
    "executionInfo": {
     "elapsed": 2,
     "status": "ok",
     "timestamp": 1652698846739,
     "user": {
      "displayName": "이강철",
      "userId": "13507850890638580947"
     },
     "user_tz": -540
    },
    "id": "TsoTFQRugnVB",
    "outputId": "355a4226-bac5-4f45-d421-8c1c6a58fd44"
   },
   "outputs": [
    {
     "data": {
      "text/plain": [
       "<tf.Tensor: shape=(1, 5, 5), dtype=int64, numpy=\n",
       "array([[[ 0,  1,  2,  3,  4],\n",
       "        [ 5,  6,  7,  8,  9],\n",
       "        [10, 11, 12, 13, 14],\n",
       "        [15, 16, 17, 18, 19],\n",
       "        [20, 21, 22, 23, 24]]])>"
      ]
     },
     "execution_count": 55,
     "metadata": {},
     "output_type": "execute_result"
    }
   ],
   "source": [
    "XXX = tnp.arange(1*5*5*1).reshape(1,5,5,1)\n",
    "XXX.reshape(1,5,5)"
   ]
  },
  {
   "cell_type": "markdown",
   "id": "MPEZ3wpHg8h7",
   "metadata": {
    "id": "MPEZ3wpHg8h7"
   },
   "source": [
    "* 차원이 안맞는 부분은 버리고 계산한다."
   ]
  },
  {
   "cell_type": "code",
   "execution_count": null,
   "id": "CLSsfG-ZgsBZ",
   "metadata": {
    "colab": {
     "base_uri": "https://localhost:8080/"
    },
    "executionInfo": {
     "elapsed": 2,
     "status": "ok",
     "timestamp": 1652698847882,
     "user": {
      "displayName": "이강철",
      "userId": "13507850890638580947"
     },
     "user_tz": -540
    },
    "id": "CLSsfG-ZgsBZ",
    "outputId": "1edf1bc8-d165-4331-fadf-e0dcdff2799d"
   },
   "outputs": [
    {
     "data": {
      "text/plain": [
       "<tf.Tensor: shape=(1, 2, 2), dtype=int64, numpy=\n",
       "array([[[ 6,  8],\n",
       "        [16, 18]]])>"
      ]
     },
     "execution_count": 56,
     "metadata": {},
     "output_type": "execute_result"
    }
   ],
   "source": [
    "m(XXX).reshape(1,2,2) ## 어? 뒤에 나머지 5행과 5열은 버리고 계산한다...."
   ]
  },
  {
   "cell_type": "code",
   "execution_count": null,
   "id": "hLr0vkiKg3KL",
   "metadata": {
    "id": "hLr0vkiKg3KL"
   },
   "outputs": [],
   "source": [
    "# ?tf.keras.layers.MaxPool2D"
   ]
  },
  {
   "cell_type": "markdown",
   "id": "9INZchkahZpU",
   "metadata": {
    "id": "9INZchkahZpU"
   },
   "source": [
    "* `padding` 옵션을 `same`으로 주면 남는 차원을 버리지 않음"
   ]
  },
  {
   "cell_type": "code",
   "execution_count": null,
   "id": "Kzz7cTRuhF_L",
   "metadata": {
    "id": "Kzz7cTRuhF_L"
   },
   "outputs": [],
   "source": [
    "m=tf.keras.layers.MaxPool2D(pool_size=(2,2),padding=\"same\")"
   ]
  },
  {
   "cell_type": "code",
   "execution_count": null,
   "id": "xdSfsHh3hI4b",
   "metadata": {
    "colab": {
     "base_uri": "https://localhost:8080/"
    },
    "executionInfo": {
     "elapsed": 272,
     "status": "ok",
     "timestamp": 1652698727542,
     "user": {
      "displayName": "이강철",
      "userId": "13507850890638580947"
     },
     "user_tz": -540
    },
    "id": "xdSfsHh3hI4b",
    "outputId": "4b31bc1d-8cc9-478e-d3d9-c5e045318712"
   },
   "outputs": [
    {
     "data": {
      "text/plain": [
       "<tf.Tensor: shape=(1, 3, 3), dtype=int64, numpy=\n",
       "array([[[ 6,  8,  9],\n",
       "        [16, 18, 19],\n",
       "        [21, 23, 24]]])>"
      ]
     },
     "execution_count": 53,
     "metadata": {},
     "output_type": "execute_result"
    }
   ],
   "source": [
    "m(XXX).reshape(1,3,3) "
   ]
  },
  {
   "cell_type": "markdown",
   "id": "YAF9n84nh5sN",
   "metadata": {
    "id": "YAF9n84nh5sN"
   },
   "source": [
    "### 테스트 5"
   ]
  },
  {
   "cell_type": "markdown",
   "id": "r10Qa-LWia_e",
   "metadata": {
    "id": "r10Qa-LWia_e"
   },
   "source": [
    "* 관측치가 2개 채널(색)은 흑백"
   ]
  },
  {
   "cell_type": "code",
   "execution_count": null,
   "id": "KYZ2TdjoiDpr",
   "metadata": {
    "id": "KYZ2TdjoiDpr"
   },
   "outputs": [],
   "source": [
    "m=tf.keras.layers.MaxPool2D(pool_size=(2,2))"
   ]
  },
  {
   "cell_type": "code",
   "execution_count": null,
   "id": "rkHl3c3piK0U",
   "metadata": {
    "colab": {
     "base_uri": "https://localhost:8080/"
    },
    "executionInfo": {
     "elapsed": 272,
     "status": "ok",
     "timestamp": 1652698976832,
     "user": {
      "displayName": "이강철",
      "userId": "13507850890638580947"
     },
     "user_tz": -540
    },
    "id": "rkHl3c3piK0U",
    "outputId": "c1604c3c-ff9a-4fbc-ffb0-af95ede55ce3"
   },
   "outputs": [
    {
     "data": {
      "text/plain": [
       "<tf.Tensor: shape=(2, 4, 4), dtype=int64, numpy=\n",
       "array([[[ 0,  1,  2,  3],\n",
       "        [ 4,  5,  6,  7],\n",
       "        [ 8,  9, 10, 11],\n",
       "        [12, 13, 14, 15]],\n",
       "\n",
       "       [[16, 17, 18, 19],\n",
       "        [20, 21, 22, 23],\n",
       "        [24, 25, 26, 27],\n",
       "        [28, 29, 30, 31]]])>"
      ]
     },
     "execution_count": 59,
     "metadata": {},
     "output_type": "execute_result"
    }
   ],
   "source": [
    "XXX = tnp.arange(2*4*4*1).reshape(2,4,4,1)\n",
    "XXX.reshape(2,4,4)"
   ]
  },
  {
   "cell_type": "code",
   "execution_count": null,
   "id": "AKWlyBNOiRXf",
   "metadata": {
    "colab": {
     "base_uri": "https://localhost:8080/"
    },
    "executionInfo": {
     "elapsed": 275,
     "status": "ok",
     "timestamp": 1652698988070,
     "user": {
      "displayName": "이강철",
      "userId": "13507850890638580947"
     },
     "user_tz": -540
    },
    "id": "AKWlyBNOiRXf",
    "outputId": "410df858-a899-4a89-d765-114ae12e31af"
   },
   "outputs": [
    {
     "data": {
      "text/plain": [
       "<tf.Tensor: shape=(2, 2, 2), dtype=int64, numpy=\n",
       "array([[[ 5,  7],\n",
       "        [13, 15]],\n",
       "\n",
       "       [[21, 23],\n",
       "        [29, 31]]])>"
      ]
     },
     "execution_count": 60,
     "metadata": {},
     "output_type": "execute_result"
    }
   ],
   "source": [
    "m(XXX).reshape(2,2,2) "
   ]
  },
  {
   "cell_type": "markdown",
   "id": "nAOrppYsiYf2",
   "metadata": {
    "id": "nAOrppYsiYf2"
   },
   "source": [
    "### 테스트 6 "
   ]
  },
  {
   "cell_type": "code",
   "execution_count": null,
   "id": "aqzT7IP3ifZc",
   "metadata": {
    "id": "aqzT7IP3ifZc"
   },
   "outputs": [],
   "source": [
    "XXX = tnp.arange(1*4*4*3).reshape(1,4,4,3)"
   ]
  },
  {
   "cell_type": "code",
   "execution_count": null,
   "id": "HBgwy2Hvi3mu",
   "metadata": {
    "colab": {
     "base_uri": "https://localhost:8080/"
    },
    "executionInfo": {
     "elapsed": 2,
     "status": "ok",
     "timestamp": 1652699145988,
     "user": {
      "displayName": "이강철",
      "userId": "13507850890638580947"
     },
     "user_tz": -540
    },
    "id": "HBgwy2Hvi3mu",
    "outputId": "be8fa7d2-2ead-401e-9e2c-a05e27b220db"
   },
   "outputs": [
    {
     "data": {
      "text/plain": [
       "<tf.Tensor: shape=(1, 4, 4), dtype=int64, numpy=\n",
       "array([[[ 0,  3,  6,  9],\n",
       "        [12, 15, 18, 21],\n",
       "        [24, 27, 30, 33],\n",
       "        [36, 39, 42, 45]]])>"
      ]
     },
     "execution_count": 68,
     "metadata": {},
     "output_type": "execute_result"
    }
   ],
   "source": [
    "XXX[:,:,:,0] ## 첫번째 채널"
   ]
  },
  {
   "cell_type": "code",
   "execution_count": null,
   "id": "0QHlEmvpiqf-",
   "metadata": {
    "colab": {
     "base_uri": "https://localhost:8080/"
    },
    "executionInfo": {
     "elapsed": 256,
     "status": "ok",
     "timestamp": 1652699084901,
     "user": {
      "displayName": "이강철",
      "userId": "13507850890638580947"
     },
     "user_tz": -540
    },
    "id": "0QHlEmvpiqf-",
    "outputId": "d3e7bd89-32fe-403f-d378-a91d07394b07"
   },
   "outputs": [
    {
     "data": {
      "text/plain": [
       "<tf.Tensor: shape=(1, 2, 2, 3), dtype=int64, numpy=\n",
       "array([[[[15, 16, 17],\n",
       "         [21, 22, 23]],\n",
       "\n",
       "        [[39, 40, 41],\n",
       "         [45, 46, 47]]]])>"
      ]
     },
     "execution_count": 64,
     "metadata": {},
     "output_type": "execute_result"
    }
   ],
   "source": [
    "m(XXX)"
   ]
  },
  {
   "cell_type": "code",
   "execution_count": null,
   "id": "TL8umFh-ikjU",
   "metadata": {
    "colab": {
     "base_uri": "https://localhost:8080/"
    },
    "executionInfo": {
     "elapsed": 265,
     "status": "ok",
     "timestamp": 1652699156692,
     "user": {
      "displayName": "이강철",
      "userId": "13507850890638580947"
     },
     "user_tz": -540
    },
    "id": "TL8umFh-ikjU",
    "outputId": "0dd009ec-ed01-4ac2-d09e-44eed9ae79d4"
   },
   "outputs": [
    {
     "data": {
      "text/plain": [
       "<tf.Tensor: shape=(1, 2, 2), dtype=int64, numpy=\n",
       "array([[[15, 21],\n",
       "        [39, 45]]])>"
      ]
     },
     "execution_count": 69,
     "metadata": {},
     "output_type": "execute_result"
    }
   ],
   "source": [
    "m(XXX)[:,:,:,0] ## 첫번째 채널"
   ]
  },
  {
   "cell_type": "markdown",
   "id": "wqRfjWUCke0c",
   "metadata": {
    "id": "wqRfjWUCke0c"
   },
   "source": [
    "## Convolution 2D"
   ]
  },
  {
   "cell_type": "markdown",
   "id": "f52MsGHwrIE3",
   "metadata": {
    "id": "f52MsGHwrIE3"
   },
   "source": [
    "`-` 테스트 1"
   ]
  },
  {
   "cell_type": "markdown",
   "id": "kQq_kr0pmcvZ",
   "metadata": {
    "id": "kQq_kr0pmcvZ"
   },
   "source": [
    "`-` 레이어 생성"
   ]
  },
  {
   "cell_type": "code",
   "execution_count": null,
   "id": "eioR30Mblz-W",
   "metadata": {
    "id": "eioR30Mblz-W"
   },
   "outputs": [],
   "source": [
    "cv = tf.keras.layers.Conv2D(1, kernel_size = (2,2))"
   ]
  },
  {
   "cell_type": "markdown",
   "id": "WeCz9MTumgKp",
   "metadata": {
    "id": "WeCz9MTumgKp"
   },
   "source": [
    "`-` XXX 생성"
   ]
  },
  {
   "cell_type": "code",
   "execution_count": null,
   "id": "VZPMa1GqmOYO",
   "metadata": {
    "colab": {
     "base_uri": "https://localhost:8080/"
    },
    "executionInfo": {
     "elapsed": 301,
     "status": "ok",
     "timestamp": 1652700252267,
     "user": {
      "displayName": "이강철",
      "userId": "13507850890638580947"
     },
     "user_tz": -540
    },
    "id": "VZPMa1GqmOYO",
    "outputId": "d277e33c-0b67-4014-9625-a645e04592eb"
   },
   "outputs": [
    {
     "data": {
      "text/plain": [
       "<tf.Tensor: shape=(1, 4, 4), dtype=float64, numpy=\n",
       "array([[[ 0.,  1.,  2.,  3.],\n",
       "        [ 4.,  5.,  6.,  7.],\n",
       "        [ 8.,  9., 10., 11.],\n",
       "        [12., 13., 14., 15.]]])>"
      ]
     },
     "execution_count": 88,
     "metadata": {},
     "output_type": "execute_result"
    }
   ],
   "source": [
    "XXX = tnp.arange(1*4*4*1,dtype=tf.float64).reshape(1,4,4,1) ### 4 x 4 픽셀을 가진 이미지 생성\n",
    "XXX.reshape(1,4,4) "
   ]
  },
  {
   "cell_type": "markdown",
   "id": "Fqgg0cGQmlo-",
   "metadata": {
    "id": "Fqgg0cGQmlo-"
   },
   "source": [
    "* 아래가 에러가 나는 이유\n",
    "  * 데이터 타입이 int가 아닌 float이어야한다.\n",
    "  * 또한 차원을 `XXX.reshape(1,4,4)`로 입력하면 에러가 난다."
   ]
  },
  {
   "cell_type": "code",
   "execution_count": null,
   "id": "7M_iPFxZmbRx",
   "metadata": {
    "colab": {
     "base_uri": "https://localhost:8080/"
    },
    "executionInfo": {
     "elapsed": 2,
     "status": "ok",
     "timestamp": 1652700253146,
     "user": {
      "displayName": "이강철",
      "userId": "13507850890638580947"
     },
     "user_tz": -540
    },
    "id": "7M_iPFxZmbRx",
    "outputId": "42f3143c-0fd1-4b7a-84ac-f0770d17d2c9"
   },
   "outputs": [
    {
     "data": {
      "text/plain": [
       "<tf.Tensor: shape=(1, 3, 3), dtype=float32, numpy=\n",
       "array([[[-4.290876 , -4.5067925, -4.722709 ],\n",
       "        [-5.154542 , -5.3704586, -5.5863748],\n",
       "        [-6.0182076, -6.234124 , -6.45004  ]]], dtype=float32)>"
      ]
     },
     "execution_count": 89,
     "metadata": {},
     "output_type": "execute_result"
    }
   ],
   "source": [
    "cv(XXX).reshape(1,3,3)"
   ]
  },
  {
   "cell_type": "markdown",
   "id": "UQyQWTKxm4ju",
   "metadata": {
    "id": "UQyQWTKxm4ju"
   },
   "source": [
    "* 사칙연산, max 이런 형태로 데이터가 변환되서 출력 되는 것이 아닌 것 같음"
   ]
  },
  {
   "cell_type": "markdown",
   "id": "ysMBRWNKnI9O",
   "metadata": {
    "id": "ysMBRWNKnI9O"
   },
   "source": [
    "* 또한, 레이어의 가중치가 랜덤으로 배정되는 것 같음"
   ]
  },
  {
   "cell_type": "markdown",
   "id": "B2rlOpnQnN9G",
   "metadata": {
    "id": "B2rlOpnQnN9G"
   },
   "source": [
    "`-` 코드 정리 + 시드통일"
   ]
  },
  {
   "cell_type": "code",
   "execution_count": null,
   "id": "-6zydfVUnP0u",
   "metadata": {
    "colab": {
     "base_uri": "https://localhost:8080/"
    },
    "executionInfo": {
     "elapsed": 392,
     "status": "ok",
     "timestamp": 1652700355653,
     "user": {
      "displayName": "이강철",
      "userId": "13507850890638580947"
     },
     "user_tz": -540
    },
    "id": "-6zydfVUnP0u",
    "outputId": "8c334c71-cbd2-4b70-ef46-d999765598c4"
   },
   "outputs": [
    {
     "name": "stdout",
     "output_type": "stream",
     "text": [
      "tf.Tensor(\n",
      "[[[ 0.  1.  2.  3.]\n",
      "  [ 4.  5.  6.  7.]\n",
      "  [ 8.  9. 10. 11.]\n",
      "  [12. 13. 14. 15.]]], shape=(1, 4, 4), dtype=float64)\n",
      "tf.Tensor(\n",
      "[[[ -4.125754   -5.312817   -6.4998803]\n",
      "  [ -8.874006  -10.0610695 -11.248133 ]\n",
      "  [-13.622259  -14.809322  -15.996386 ]]], shape=(1, 3, 3), dtype=float32)\n"
     ]
    }
   ],
   "source": [
    "tf.random.set_seed(43052)\n",
    "cv = tf.keras.layers.Conv2D(1, kernel_size = (2,2))\n",
    "XXX = tnp.arange(1*4*4*1,dtype=tf.float64).reshape(1,4,4,1)\n",
    "print(XXX.reshape(1,4,4)) \n",
    "print(cv(XXX).reshape(1,3,3))"
   ]
  },
  {
   "cell_type": "markdown",
   "id": "fk98XMkmnmu_",
   "metadata": {
    "id": "fk98XMkmnmu_"
   },
   "source": [
    "* dense layer를 생각해보면 가중치가 랜덤으로 배정되기 때문에 시드를 고정해주었다."
   ]
  },
  {
   "cell_type": "markdown",
   "id": "55C6Ri-Cnr8u",
   "metadata": {
    "id": "55C6Ri-Cnr8u"
   },
   "source": [
    "* weight를 한번 찍어보자"
   ]
  },
  {
   "cell_type": "code",
   "execution_count": null,
   "id": "F_1_aP5ZnuX9",
   "metadata": {
    "colab": {
     "base_uri": "https://localhost:8080/"
    },
    "executionInfo": {
     "elapsed": 260,
     "status": "ok",
     "timestamp": 1652700413722,
     "user": {
      "displayName": "이강철",
      "userId": "13507850890638580947"
     },
     "user_tz": -540
    },
    "id": "F_1_aP5ZnuX9",
    "outputId": "1ca300da-a50e-4d17-a2dd-13859e09bc1a"
   },
   "outputs": [
    {
     "data": {
      "text/plain": [
       "[<tf.Variable 'conv2d_7/kernel:0' shape=(2, 2, 1, 1) dtype=float32, numpy=\n",
       " array([[[[-0.13014299]],\n",
       " \n",
       "         [[-0.23927206]]],\n",
       " \n",
       " \n",
       "        [[[-0.20175874]],\n",
       " \n",
       "         [[-0.6158894 ]]]], dtype=float32)>,\n",
       " <tf.Variable 'conv2d_7/bias:0' shape=(1,) dtype=float32, numpy=array([0.], dtype=float32)>]"
      ]
     },
     "execution_count": 94,
     "metadata": {},
     "output_type": "execute_result"
    }
   ],
   "source": [
    "cv.weights"
   ]
  },
  {
   "cell_type": "code",
   "execution_count": null,
   "id": "PEje-CUyn0DG",
   "metadata": {
    "colab": {
     "base_uri": "https://localhost:8080/"
    },
    "executionInfo": {
     "elapsed": 2,
     "status": "ok",
     "timestamp": 1652700437377,
     "user": {
      "displayName": "이강철",
      "userId": "13507850890638580947"
     },
     "user_tz": -540
    },
    "id": "PEje-CUyn0DG",
    "outputId": "cb5a205d-0e60-4ad6-d061-2433a3b01a5c"
   },
   "outputs": [
    {
     "data": {
      "text/plain": [
       "list"
      ]
     },
     "execution_count": 95,
     "metadata": {},
     "output_type": "execute_result"
    }
   ],
   "source": [
    "type(cv.weights) ## 길이가 2인 리스트가 출력"
   ]
  },
  {
   "cell_type": "code",
   "execution_count": null,
   "id": "A7jqLuG7n53m",
   "metadata": {
    "colab": {
     "base_uri": "https://localhost:8080/"
    },
    "executionInfo": {
     "elapsed": 257,
     "status": "ok",
     "timestamp": 1652700464669,
     "user": {
      "displayName": "이강철",
      "userId": "13507850890638580947"
     },
     "user_tz": -540
    },
    "id": "A7jqLuG7n53m",
    "outputId": "1c3eb995-425c-43da-f889-665d54805bf1"
   },
   "outputs": [
    {
     "data": {
      "text/plain": [
       "<tf.Variable 'conv2d_7/kernel:0' shape=(2, 2, 1, 1) dtype=float32, numpy=\n",
       "array([[[[-0.13014299]],\n",
       "\n",
       "        [[-0.23927206]]],\n",
       "\n",
       "\n",
       "       [[[-0.20175874]],\n",
       "\n",
       "        [[-0.6158894 ]]]], dtype=float32)>"
      ]
     },
     "execution_count": 96,
     "metadata": {},
     "output_type": "execute_result"
    }
   ],
   "source": [
    "cv.weights[0]"
   ]
  },
  {
   "cell_type": "code",
   "execution_count": null,
   "id": "9Cusg47ToAnX",
   "metadata": {
    "colab": {
     "base_uri": "https://localhost:8080/"
    },
    "executionInfo": {
     "elapsed": 258,
     "status": "ok",
     "timestamp": 1652700556467,
     "user": {
      "displayName": "이강철",
      "userId": "13507850890638580947"
     },
     "user_tz": -540
    },
    "id": "9Cusg47ToAnX",
    "outputId": "f1e24563-a5c3-4e51-9fdf-39afe87afca4"
   },
   "outputs": [
    {
     "name": "stdout",
     "output_type": "stream",
     "text": [
      "tf.Tensor(\n",
      "[[[ 0.  1.  2.  3.]\n",
      "  [ 4.  5.  6.  7.]\n",
      "  [ 8.  9. 10. 11.]\n",
      "  [12. 13. 14. 15.]]], shape=(1, 4, 4), dtype=float64)\n"
     ]
    },
    {
     "data": {
      "text/plain": [
       "<tf.Tensor: shape=(2, 2), dtype=float32, numpy=\n",
       "array([[-0.13014299, -0.23927206],\n",
       "       [-0.20175874, -0.6158894 ]], dtype=float32)>"
      ]
     },
     "execution_count": 100,
     "metadata": {},
     "output_type": "execute_result"
    }
   ],
   "source": [
    "print(XXX.reshape(1,4,4)) \n",
    "tf.reshape(cv.weights[0],(2,2))"
   ]
  },
  {
   "cell_type": "markdown",
   "id": "shpVyZ-4n8kH",
   "metadata": {
    "id": "shpVyZ-4n8kH"
   },
   "source": [
    "`-` 연산과정"
   ]
  },
  {
   "cell_type": "code",
   "execution_count": null,
   "id": "p7sLAPyboXpf",
   "metadata": {
    "colab": {
     "base_uri": "https://localhost:8080/"
    },
    "executionInfo": {
     "elapsed": 263,
     "status": "ok",
     "timestamp": 1652700718170,
     "user": {
      "displayName": "이강철",
      "userId": "13507850890638580947"
     },
     "user_tz": -540
    },
    "id": "p7sLAPyboXpf",
    "outputId": "6e15d3a5-78ed-4ee0-f2e5-bb39b0034221"
   },
   "outputs": [
    {
     "data": {
      "text/plain": [
       "-4.1257540200000005"
      ]
     },
     "execution_count": 104,
     "metadata": {},
     "output_type": "execute_result"
    }
   ],
   "source": [
    "0*-0.13014299 + 1*-0.23927206 + 4*-0.20175874 + 5*-0.6158894 +0 ## 0 은 bias"
   ]
  },
  {
   "cell_type": "code",
   "execution_count": null,
   "id": "bPy8qpnkohHf",
   "metadata": {
    "colab": {
     "base_uri": "https://localhost:8080/"
    },
    "executionInfo": {
     "elapsed": 2,
     "status": "ok",
     "timestamp": 1652700636240,
     "user": {
      "displayName": "이강철",
      "userId": "13507850890638580947"
     },
     "user_tz": -540
    },
    "id": "bPy8qpnkohHf",
    "outputId": "728f5363-5c06-4553-d7ff-3c819bd9a575"
   },
   "outputs": [
    {
     "name": "stdout",
     "output_type": "stream",
     "text": [
      "tf.Tensor(\n",
      "[[[ -4.125754   -5.312817   -6.4998803]\n",
      "  [ -8.874006  -10.0610695 -11.248133 ]\n",
      "  [-13.622259  -14.809322  -15.996386 ]]], shape=(1, 3, 3), dtype=float32)\n"
     ]
    }
   ],
   "source": [
    "print(cv(XXX).reshape(1,3,3))"
   ]
  },
  {
   "cell_type": "markdown",
   "id": "1R6Lmn_lopnP",
   "metadata": {
    "id": "1R6Lmn_lopnP"
   },
   "source": [
    "`-` weight를 변경해보자"
   ]
  },
  {
   "cell_type": "code",
   "execution_count": null,
   "id": "DsBZP2mSo21P",
   "metadata": {
    "colab": {
     "base_uri": "https://localhost:8080/"
    },
    "executionInfo": {
     "elapsed": 259,
     "status": "ok",
     "timestamp": 1652700811659,
     "user": {
      "displayName": "이강철",
      "userId": "13507850890638580947"
     },
     "user_tz": -540
    },
    "id": "DsBZP2mSo21P",
    "outputId": "4cd2005f-8d2d-4385-fa31-c23666de9eee"
   },
   "outputs": [
    {
     "data": {
      "text/plain": [
       "(2, 2, 1, 1)"
      ]
     },
     "execution_count": 108,
     "metadata": {},
     "output_type": "execute_result"
    }
   ],
   "source": [
    "cv.get_weights()[0].shape"
   ]
  },
  {
   "cell_type": "code",
   "execution_count": null,
   "id": "mWG_HleLpRrv",
   "metadata": {
    "id": "mWG_HleLpRrv"
   },
   "outputs": [],
   "source": [
    "w = tnp.array([1/4,1/4,1/4,1/4],dtype=tf.float32).reshape(2,2,1,1)\n",
    "b = tnp.array([3],dtype=tf.float32)"
   ]
  },
  {
   "cell_type": "code",
   "execution_count": null,
   "id": "XsRTCFtRplMf",
   "metadata": {
    "id": "XsRTCFtRplMf"
   },
   "outputs": [],
   "source": [
    "cv.set_weights([w,b])"
   ]
  },
  {
   "cell_type": "code",
   "execution_count": null,
   "id": "rU62KhfoprTf",
   "metadata": {
    "colab": {
     "base_uri": "https://localhost:8080/"
    },
    "executionInfo": {
     "elapsed": 263,
     "status": "ok",
     "timestamp": 1652700987041,
     "user": {
      "displayName": "이강철",
      "userId": "13507850890638580947"
     },
     "user_tz": -540
    },
    "id": "rU62KhfoprTf",
    "outputId": "0ad8bf08-2cb5-482b-80e9-186d791ae7af"
   },
   "outputs": [
    {
     "data": {
      "text/plain": [
       "<tf.Tensor: shape=(1, 4, 4), dtype=float64, numpy=\n",
       "array([[[ 0.,  1.,  2.,  3.],\n",
       "        [ 4.,  5.,  6.,  7.],\n",
       "        [ 8.,  9., 10., 11.],\n",
       "        [12., 13., 14., 15.]]])>"
      ]
     },
     "execution_count": 119,
     "metadata": {},
     "output_type": "execute_result"
    }
   ],
   "source": [
    "XXX.reshape(1,4,4)"
   ]
  },
  {
   "cell_type": "markdown",
   "id": "PuyWMLKRp82A",
   "metadata": {
    "id": "PuyWMLKRp82A"
   },
   "source": [
    "`w`는 0,1,4,5를 평균내기위한 weight 값으로 설정한 것이다."
   ]
  },
  {
   "cell_type": "code",
   "execution_count": null,
   "id": "kun2W9z_qQPg",
   "metadata": {
    "colab": {
     "base_uri": "https://localhost:8080/"
    },
    "executionInfo": {
     "elapsed": 2,
     "status": "ok",
     "timestamp": 1652701082213,
     "user": {
      "displayName": "이강철",
      "userId": "13507850890638580947"
     },
     "user_tz": -540
    },
    "id": "kun2W9z_qQPg",
    "outputId": "c0dda01c-e4d5-4665-c1a8-d98761169268"
   },
   "outputs": [
    {
     "data": {
      "text/plain": [
       "<tf.Tensor: shape=(1, 3, 3), dtype=float32, numpy=\n",
       "array([[[ 5.5,  6.5,  7.5],\n",
       "        [ 9.5, 10.5, 11.5],\n",
       "        [13.5, 14.5, 15.5]]], dtype=float32)>"
      ]
     },
     "execution_count": 123,
     "metadata": {},
     "output_type": "execute_result"
    }
   ],
   "source": [
    "cv(XXX).reshape(1,3,3)"
   ]
  },
  {
   "cell_type": "code",
   "execution_count": null,
   "id": "BDi_laCJqDqY",
   "metadata": {
    "colab": {
     "base_uri": "https://localhost:8080/"
    },
    "executionInfo": {
     "elapsed": 274,
     "status": "ok",
     "timestamp": 1652701085815,
     "user": {
      "displayName": "이강철",
      "userId": "13507850890638580947"
     },
     "user_tz": -540
    },
    "id": "BDi_laCJqDqY",
    "outputId": "f46712e5-6d00-4dba-a91d-3979ee0f8337"
   },
   "outputs": [
    {
     "data": {
      "text/plain": [
       "(<tf.Tensor: shape=(), dtype=float64, numpy=5.5>,\n",
       " <tf.Tensor: shape=(), dtype=float64, numpy=6.5>,\n",
       " <tf.Tensor: shape=(), dtype=float64, numpy=7.5>)"
      ]
     },
     "execution_count": 124,
     "metadata": {},
     "output_type": "execute_result"
    }
   ],
   "source": [
    "tnp.mean([0,1,4,5])+3,tnp.mean([1,2,5,6])+3,tnp.mean([2,3,6,7])+3"
   ]
  },
  {
   "cell_type": "markdown",
   "id": "Aoq2KY2vqXQw",
   "metadata": {
    "id": "Aoq2KY2vqXQw"
   },
   "source": [
    "### Conv 2D 요약"
   ]
  },
  {
   "cell_type": "markdown",
   "id": "Z7gHEVDOqbiS",
   "metadata": {
    "id": "Z7gHEVDOqbiS"
   },
   "source": [
    "(1) size = (2,2)인 윈도우를 만든다.\n",
    "\n",
    "(2) XXX에 윈도우를 통과시켜서 (2,2)크기의 `sub XXX`를 얻음, `sub XXX`의 각 원소에 `conv2d.weights[0]`의 각 원소를 `element-wise`하게 곱한다.\n",
    "\n",
    "(3) (2)의 결과를 모두 더한다.\n",
    "\n",
    "(4) 위 과정을 `window`를 이동시키면서 반복!"
   ]
  },
  {
   "cell_type": "markdown",
   "id": "xBtuL7PBrLYv",
   "metadata": {
    "id": "xBtuL7PBrLYv"
   },
   "source": [
    "`-` 테스트 2"
   ]
  },
  {
   "cell_type": "code",
   "execution_count": null,
   "id": "dmWbw7M5rMa_",
   "metadata": {
    "id": "dmWbw7M5rMa_"
   },
   "outputs": [],
   "source": [
    "tf.random.set_seed(43052)\n",
    "cnv = tf.keras.layers.Conv2D(1,(3,3))\n",
    "XXX = tnp.arange(1*5*5*1,dtype=tf.float64).reshape(1,5,5,1)"
   ]
  },
  {
   "cell_type": "code",
   "execution_count": null,
   "id": "a43YsxvAsQ1g",
   "metadata": {
    "colab": {
     "base_uri": "https://localhost:8080/"
    },
    "executionInfo": {
     "elapsed": 275,
     "status": "ok",
     "timestamp": 1652701727682,
     "user": {
      "displayName": "이강철",
      "userId": "13507850890638580947"
     },
     "user_tz": -540
    },
    "id": "a43YsxvAsQ1g",
    "outputId": "047d84ae-ebbb-4210-b0b4-9dbcc2a349fb"
   },
   "outputs": [
    {
     "data": {
      "text/plain": [
       "<tf.Tensor: shape=(1, 5, 5), dtype=float64, numpy=\n",
       "array([[[ 0.,  1.,  2.,  3.,  4.],\n",
       "        [ 5.,  6.,  7.,  8.,  9.],\n",
       "        [10., 11., 12., 13., 14.],\n",
       "        [15., 16., 17., 18., 19.],\n",
       "        [20., 21., 22., 23., 24.]]])>"
      ]
     },
     "execution_count": 156,
     "metadata": {},
     "output_type": "execute_result"
    }
   ],
   "source": [
    "XXX.reshape(1,5,5)"
   ]
  },
  {
   "cell_type": "code",
   "execution_count": null,
   "id": "QxxnQj1XrlDw",
   "metadata": {
    "colab": {
     "base_uri": "https://localhost:8080/"
    },
    "executionInfo": {
     "elapsed": 280,
     "status": "ok",
     "timestamp": 1652701731341,
     "user": {
      "displayName": "이강철",
      "userId": "13507850890638580947"
     },
     "user_tz": -540
    },
    "id": "QxxnQj1XrlDw",
    "outputId": "7841b939-dc3b-4452-f3e1-2a6fd23b5c56"
   },
   "outputs": [
    {
     "data": {
      "text/plain": [
       "<tf.Tensor: shape=(3, 3), dtype=float32, numpy=\n",
       "array([[-0.08676198, -0.1595147 , -0.13450584],\n",
       "       [-0.4105929 , -0.38366908,  0.07744962],\n",
       "       [-0.09255642,  0.4915564 ,  0.20828158]], dtype=float32)>"
      ]
     },
     "execution_count": 158,
     "metadata": {},
     "output_type": "execute_result"
    }
   ],
   "source": [
    "tf.reshape(cnv.weights[0],(3,3))"
   ]
  },
  {
   "cell_type": "code",
   "execution_count": null,
   "id": "02Y-Xp0ts0GA",
   "metadata": {
    "colab": {
     "base_uri": "https://localhost:8080/"
    },
    "executionInfo": {
     "elapsed": 422,
     "status": "ok",
     "timestamp": 1652701743413,
     "user": {
      "displayName": "이강철",
      "userId": "13507850890638580947"
     },
     "user_tz": -540
    },
    "id": "02Y-Xp0ts0GA",
    "outputId": "ac55cb57-0fba-4c95-cc0b-a4d67442079d"
   },
   "outputs": [
    {
     "data": {
      "text/plain": [
       "<tf.Tensor: shape=(1, 3, 3), dtype=float32, numpy=\n",
       "array([[[ 2.7395768 ,  2.2492635 ,  1.7589504 ],\n",
       "        [ 0.28801066, -0.20230258, -0.6926158 ],\n",
       "        [-2.1635566 , -2.6538715 , -3.1441827 ]]], dtype=float32)>"
      ]
     },
     "execution_count": 160,
     "metadata": {},
     "output_type": "execute_result"
    }
   ],
   "source": [
    "cnv(XXX).reshape(1,3,3)"
   ]
  },
  {
   "cell_type": "code",
   "execution_count": null,
   "id": "84m65qgfrrUJ",
   "metadata": {
    "colab": {
     "base_uri": "https://localhost:8080/"
    },
    "executionInfo": {
     "elapsed": 252,
     "status": "ok",
     "timestamp": 1652701744984,
     "user": {
      "displayName": "이강철",
      "userId": "13507850890638580947"
     },
     "user_tz": -540
    },
    "id": "84m65qgfrrUJ",
    "outputId": "7cd9eb4f-cb4b-437c-bbc1-529f203fba4a"
   },
   "outputs": [
    {
     "data": {
      "text/plain": [
       "<tf.Tensor: shape=(), dtype=float64, numpy=2.739577144384384>"
      ]
     },
     "execution_count": 161,
     "metadata": {},
     "output_type": "execute_result"
    }
   ],
   "source": [
    "tf.reduce_sum(XXX.reshape(1,5,5)[0,:3,:3] * tf.reshape(cnv.weights[0],(3,3)))"
   ]
  },
  {
   "cell_type": "markdown",
   "id": "lJTzNNbfs3O4",
   "metadata": {
    "id": "lJTzNNbfs3O4"
   },
   "source": [
    "`-` 테스트 3"
   ]
  },
  {
   "cell_type": "code",
   "execution_count": null,
   "id": "t6GB6OXrwm1y",
   "metadata": {
    "colab": {
     "base_uri": "https://localhost:8080/"
    },
    "executionInfo": {
     "elapsed": 3,
     "status": "ok",
     "timestamp": 1652703018619,
     "user": {
      "displayName": "이강철",
      "userId": "13507850890638580947"
     },
     "user_tz": -540
    },
    "id": "t6GB6OXrwm1y",
    "outputId": "0c1b26d6-b410-4436-8610-2510dae71ee1"
   },
   "outputs": [
    {
     "data": {
      "text/plain": [
       "<tf.Tensor: shape=(1, 5, 5), dtype=float64, numpy=\n",
       "array([[[3., 3., 2., 1., 0.],\n",
       "        [0., 0., 1., 3., 1.],\n",
       "        [3., 1., 2., 2., 3.],\n",
       "        [2., 0., 0., 2., 2.],\n",
       "        [2., 0., 0., 0., 1.]]])>"
      ]
     },
     "execution_count": 169,
     "metadata": {},
     "output_type": "execute_result"
    }
   ],
   "source": [
    "XXX = tf.constant([[3,3,2,1,0],[0,0,1,3,1],[3,1,2,2,3],[2,0,0,2,2],[2,0,0,0,1]],dtype=tf.float64).reshape(1,5,5,1)\n",
    "XXX.reshape(1,5,5)"
   ]
  },
  {
   "cell_type": "code",
   "execution_count": null,
   "id": "A4QO2zPox-fj",
   "metadata": {
    "id": "A4QO2zPox-fj"
   },
   "outputs": [],
   "source": [
    "_w = tf.constant([[0,1,2],[2,2,0],[0,1,2]],dtype = tf.float64)\n",
    "_b = tf.constant([0],dtype=tf.float64)"
   ]
  },
  {
   "cell_type": "code",
   "execution_count": null,
   "id": "63HJwJBAycGg",
   "metadata": {
    "id": "63HJwJBAycGg"
   },
   "outputs": [],
   "source": [
    "cnv= tf.keras.layers.Conv2D(1, kernel_size = (3,3))"
   ]
  },
  {
   "cell_type": "code",
   "execution_count": null,
   "id": "oiVyhFHTymMz",
   "metadata": {
    "colab": {
     "base_uri": "https://localhost:8080/",
     "height": 339
    },
    "executionInfo": {
     "elapsed": 3,
     "status": "error",
     "timestamp": 1652703339303,
     "user": {
      "displayName": "이강철",
      "userId": "13507850890638580947"
     },
     "user_tz": -540
    },
    "id": "oiVyhFHTymMz",
    "outputId": "74333a5d-ce38-4355-ad69-a117a7edb752"
   },
   "outputs": [
    {
     "ename": "ValueError",
     "evalue": "ignored",
     "output_type": "error",
     "traceback": [
      "\u001b[0;31m---------------------------------------------------------------------------\u001b[0m",
      "\u001b[0;31mValueError\u001b[0m                                Traceback (most recent call last)",
      "\u001b[0;32m<ipython-input-187-6c0682c0c921>\u001b[0m in \u001b[0;36m<module>\u001b[0;34m()\u001b[0m\n\u001b[0;32m----> 1\u001b[0;31m \u001b[0mcnv\u001b[0m\u001b[0;34m.\u001b[0m\u001b[0mset_weights\u001b[0m\u001b[0;34m(\u001b[0m\u001b[0;34m[\u001b[0m\u001b[0m_w\u001b[0m\u001b[0;34m,\u001b[0m\u001b[0m_b\u001b[0m\u001b[0;34m]\u001b[0m\u001b[0;34m)\u001b[0m\u001b[0;34m\u001b[0m\u001b[0;34m\u001b[0m\u001b[0m\n\u001b[0m",
      "\u001b[0;32m/usr/local/lib/python3.7/dist-packages/keras/engine/base_layer.py\u001b[0m in \u001b[0;36mset_weights\u001b[0;34m(self, weights)\u001b[0m\n\u001b[1;32m   1847\u001b[0m           \u001b[0;34m'with a weight list of length %s, but the layer was '\u001b[0m\u001b[0;34m\u001b[0m\u001b[0;34m\u001b[0m\u001b[0m\n\u001b[1;32m   1848\u001b[0m           \u001b[0;34m'expecting %s weights. Provided weights: %s...'\u001b[0m \u001b[0;34m%\u001b[0m\u001b[0;34m\u001b[0m\u001b[0;34m\u001b[0m\u001b[0m\n\u001b[0;32m-> 1849\u001b[0;31m           (self.name, len(weights), expected_num_weights, str(weights)[:50]))\n\u001b[0m\u001b[1;32m   1850\u001b[0m \u001b[0;34m\u001b[0m\u001b[0m\n\u001b[1;32m   1851\u001b[0m     \u001b[0mweight_index\u001b[0m \u001b[0;34m=\u001b[0m \u001b[0;36m0\u001b[0m\u001b[0;34m\u001b[0m\u001b[0;34m\u001b[0m\u001b[0m\n",
      "\u001b[0;31mValueError\u001b[0m: You called `set_weights(weights)` on layer \"conv2d_19\" with a weight list of length 2, but the layer was expecting 0 weights. Provided weights: [<tf.Tensor: shape=(3, 3), dtype=float64, numpy=\na..."
     ]
    }
   ],
   "source": [
    "cnv.set_weights([_w,_b])"
   ]
  },
  {
   "cell_type": "markdown",
   "id": "aUStxvX9y6B8",
   "metadata": {
    "id": "aUStxvX9y6B8"
   },
   "source": [
    "`-` 테스트 4"
   ]
  },
  {
   "cell_type": "code",
   "execution_count": null,
   "id": "6TmxNADAy7Oc",
   "metadata": {
    "id": "6TmxNADAy7Oc"
   },
   "outputs": [],
   "source": [
    "tf.random.set_seed(43052)\n",
    "cnv = tf.keras.layers.Conv2D(1,kernel_size=(2,2))\n",
    "XXX "
   ]
  },
  {
   "cell_type": "markdown",
   "id": "ni4A0SUHzrcV",
   "metadata": {
    "id": "ni4A0SUHzrcV"
   },
   "source": [
    "### `-` 테스트 3,4 다시..."
   ]
  },
  {
   "cell_type": "markdown",
   "id": "moLOkyedzvTU",
   "metadata": {
    "id": "moLOkyedzvTU"
   },
   "source": [
    "`-` 테스트 5"
   ]
  },
  {
   "cell_type": "markdown",
   "id": "RCY1wM4fzx60",
   "metadata": {
    "id": "RCY1wM4fzx60"
   },
   "source": [
    "* 관측치는 고정이고 출력채널이 바뀔 때"
   ]
  },
  {
   "cell_type": "code",
   "execution_count": null,
   "id": "a9ww3NTLz1T0",
   "metadata": {
    "id": "a9ww3NTLz1T0"
   },
   "outputs": [],
   "source": [
    "tf.random.set_seed(43052)\n",
    "cnv = tf.keras.layers.Conv2D(4,kernel_size=(2,2)) ## 출력채널이 1인 경우 값이 1개 나옴 element wise 정확히 알아야한다\n",
    "XXX = tnp.arange(1*2*2*1,dtype=tf.float64).reshape(1,2,2,1)"
   ]
  },
  {
   "cell_type": "code",
   "execution_count": null,
   "id": "MhnlAiIp0H4k",
   "metadata": {
    "colab": {
     "base_uri": "https://localhost:8080/"
    },
    "executionInfo": {
     "elapsed": 273,
     "status": "ok",
     "timestamp": 1652703756343,
     "user": {
      "displayName": "이강철",
      "userId": "13507850890638580947"
     },
     "user_tz": -540
    },
    "id": "MhnlAiIp0H4k",
    "outputId": "e498221d-f13b-4985-d4a9-047f553c947a"
   },
   "outputs": [
    {
     "name": "stdout",
     "output_type": "stream",
     "text": [
      "tf.Tensor(\n",
      "[[[0. 1.]\n",
      "  [2. 3.]]], shape=(1, 2, 2), dtype=float64)\n"
     ]
    }
   ],
   "source": [
    "print(XXX.reshape(1,2,2))"
   ]
  },
  {
   "cell_type": "code",
   "execution_count": null,
   "id": "CCxb3TAM0KAU",
   "metadata": {
    "colab": {
     "base_uri": "https://localhost:8080/"
    },
    "executionInfo": {
     "elapsed": 2,
     "status": "ok",
     "timestamp": 1652703757085,
     "user": {
      "displayName": "이강철",
      "userId": "13507850890638580947"
     },
     "user_tz": -540
    },
    "id": "CCxb3TAM0KAU",
    "outputId": "f270615a-b29b-46bf-9df8-6bf469b779ef"
   },
   "outputs": [
    {
     "data": {
      "text/plain": [
       "<tf.Tensor: shape=(1, 1, 1, 4), dtype=float32, numpy=\n",
       "array([[[[ 1.048703  , -1.0948269 , -0.04476056, -1.7289025 ]]]],\n",
       "      dtype=float32)>"
      ]
     },
     "execution_count": 207,
     "metadata": {},
     "output_type": "execute_result"
    }
   ],
   "source": [
    "cnv(XXX)"
   ]
  },
  {
   "cell_type": "code",
   "execution_count": null,
   "id": "o6BZdLyb0OaU",
   "metadata": {
    "colab": {
     "base_uri": "https://localhost:8080/"
    },
    "executionInfo": {
     "elapsed": 255,
     "status": "ok",
     "timestamp": 1652703818879,
     "user": {
      "displayName": "이강철",
      "userId": "13507850890638580947"
     },
     "user_tz": -540
    },
    "id": "o6BZdLyb0OaU",
    "outputId": "1da6a9ef-31f4-4e52-9f10-3ab156c6cc2c"
   },
   "outputs": [
    {
     "data": {
      "text/plain": [
       "<tf.Variable 'conv2d_28/kernel:0' shape=(2, 2, 1, 4) dtype=float32, numpy=\n",
       "array([[[[-0.08230966, -0.15132892, -0.12760344, -0.38952267]],\n",
       "\n",
       "        [[-0.36398047,  0.07347518, -0.08780673,  0.46633136]]],\n",
       "\n",
       "\n",
       "       [[[ 0.19759327, -0.46042526, -0.15406173, -0.34838456]],\n",
       "\n",
       "        [[ 0.33916563, -0.08248386,  0.11705655, -0.49948823]]]],\n",
       "      dtype=float32)>"
      ]
     },
     "execution_count": 209,
     "metadata": {},
     "output_type": "execute_result"
    }
   ],
   "source": [
    "cnv.weights[0] # (2 x 2)커널의크기 // 1은 XXX의 채널 수 // 4는 con(XXX)의 채널수"
   ]
  },
  {
   "cell_type": "code",
   "execution_count": null,
   "id": "sP_ssWIu0v7t",
   "metadata": {
    "colab": {
     "base_uri": "https://localhost:8080/"
    },
    "executionInfo": {
     "elapsed": 270,
     "status": "ok",
     "timestamp": 1652703881219,
     "user": {
      "displayName": "이강철",
      "userId": "13507850890638580947"
     },
     "user_tz": -540
    },
    "id": "sP_ssWIu0v7t",
    "outputId": "b635807d-c4b2-43a9-a720-4373c667b50c"
   },
   "outputs": [
    {
     "data": {
      "text/plain": [
       "<tf.Tensor: shape=(2, 2), dtype=float32, numpy=\n",
       "array([[-0.08230966, -0.36398047],\n",
       "       [ 0.19759327,  0.33916563]], dtype=float32)>"
      ]
     },
     "execution_count": 214,
     "metadata": {},
     "output_type": "execute_result"
    }
   ],
   "source": [
    "cnv.weights[0][...,0].reshape(2,2) ## conv(XXX)의 첫 번째 채널의 weight 값"
   ]
  },
  {
   "cell_type": "code",
   "execution_count": null,
   "id": "4K0Bd1I91B38",
   "metadata": {
    "colab": {
     "base_uri": "https://localhost:8080/"
    },
    "executionInfo": {
     "elapsed": 2,
     "status": "ok",
     "timestamp": 1652703939175,
     "user": {
      "displayName": "이강철",
      "userId": "13507850890638580947"
     },
     "user_tz": -540
    },
    "id": "4K0Bd1I91B38",
    "outputId": "5fa977a5-162e-483e-a395-f268944b1c88"
   },
   "outputs": [
    {
     "data": {
      "text/plain": [
       "<tf.Tensor: shape=(), dtype=float64, numpy=1.0487029552459717>"
      ]
     },
     "execution_count": 217,
     "metadata": {},
     "output_type": "execute_result"
    }
   ],
   "source": [
    "tf.reduce_sum(XXX.reshape(1,2,2) * cnv.weights[0][...,0].reshape(2,2)) ## 이는 Conv 2D를 거쳐 나오는 첫번째 출력 값"
   ]
  },
  {
   "cell_type": "markdown",
   "id": "Voxtvo9C1UTE",
   "metadata": {
    "id": "Voxtvo9C1UTE"
   },
   "source": [
    "* 채널을 뻥튀기한다 $\\to$ 아무의미없다 그냥 늘리는 것이다 $\n",
    "\\to$ 그냥 파라미터를 많이 써서 뻥튀기하는 것이다.\n",
    "\n",
    "* 원래 채널은 3개(색깔)지만 그냥 모델을 복잡하게 해서 뻥튀기를 하는 것이다."
   ]
  },
  {
   "cell_type": "markdown",
   "id": "vRUPIg-g2CX1",
   "metadata": {
    "id": "vRUPIg-g2CX1"
   },
   "source": [
    "`-` 테스트 6"
   ]
  },
  {
   "cell_type": "markdown",
   "id": "dslRNO9Z2Fft",
   "metadata": {
    "id": "dslRNO9Z2Fft"
   },
   "source": [
    "* X의 채널이 여러개고, Conv의 채널도 여러개 일때"
   ]
  },
  {
   "cell_type": "code",
   "execution_count": null,
   "id": "XE0gsmqb2EFN",
   "metadata": {
    "id": "XE0gsmqb2EFN"
   },
   "outputs": [],
   "source": [
    "tf.random.set_seed(43052)\n",
    "cnv = tf.keras.layers.Conv2D(4,kernel_size=(2,2))\n",
    "XXX = tnp.array([1]*1*2*2*1,dtype=tf.float64).reshape(1,2,2,1)"
   ]
  },
  {
   "cell_type": "code",
   "execution_count": null,
   "id": "vYK15Xe42Y69",
   "metadata": {
    "colab": {
     "base_uri": "https://localhost:8080/"
    },
    "executionInfo": {
     "elapsed": 255,
     "status": "ok",
     "timestamp": 1652704269938,
     "user": {
      "displayName": "이강철",
      "userId": "13507850890638580947"
     },
     "user_tz": -540
    },
    "id": "vYK15Xe42Y69",
    "outputId": "a667f10f-bc89-4ce9-b813-e61dd0bfc703"
   },
   "outputs": [
    {
     "name": "stdout",
     "output_type": "stream",
     "text": [
      "tf.Tensor(\n",
      "[[[1. 1.]\n",
      "  [1. 1.]]], shape=(1, 2, 2), dtype=float64)\n"
     ]
    }
   ],
   "source": [
    "print(XXX.reshape(1,2,2))"
   ]
  },
  {
   "cell_type": "markdown",
   "id": "3UtEnj_e2dlV",
   "metadata": {
    "id": "3UtEnj_e2dlV"
   },
   "source": [
    "- 위와같이 `XXX`를 설정하면 `cnv(XXX)`의 결과는 단지 cnv의 `weigth`들의 합이 된다."
   ]
  },
  {
   "cell_type": "code",
   "execution_count": null,
   "id": "NJHDkFEu2qoC",
   "metadata": {
    "colab": {
     "base_uri": "https://localhost:8080/"
    },
    "executionInfo": {
     "elapsed": 345,
     "status": "ok",
     "timestamp": 1652704330688,
     "user": {
      "displayName": "이강철",
      "userId": "13507850890638580947"
     },
     "user_tz": -540
    },
    "id": "NJHDkFEu2qoC",
    "outputId": "26600dfb-84af-45d1-8461-e74dac363a9c"
   },
   "outputs": [
    {
     "data": {
      "text/plain": [
       "<tf.Tensor: shape=(1, 1, 1, 4), dtype=float32, numpy=\n",
       "array([[[[ 0.09046876, -0.6207628 , -0.25241536, -0.7710641 ]]]],\n",
       "      dtype=float32)>"
      ]
     },
     "execution_count": 221,
     "metadata": {},
     "output_type": "execute_result"
    }
   ],
   "source": [
    "cnv(XXX)"
   ]
  },
  {
   "cell_type": "code",
   "execution_count": null,
   "id": "GjZTyZDX2sSi",
   "metadata": {
    "colab": {
     "base_uri": "https://localhost:8080/"
    },
    "executionInfo": {
     "elapsed": 260,
     "status": "ok",
     "timestamp": 1652704339716,
     "user": {
      "displayName": "이강철",
      "userId": "13507850890638580947"
     },
     "user_tz": -540
    },
    "id": "GjZTyZDX2sSi",
    "outputId": "fd521bbc-83f6-47b2-cdd3-1f89428ed89a"
   },
   "outputs": [
    {
     "data": {
      "text/plain": [
       "<tf.Variable 'conv2d_29/kernel:0' shape=(2, 2, 1, 4) dtype=float32, numpy=\n",
       "array([[[[-0.08230966, -0.15132892, -0.12760344, -0.38952267]],\n",
       "\n",
       "        [[-0.36398047,  0.07347518, -0.08780673,  0.46633136]]],\n",
       "\n",
       "\n",
       "       [[[ 0.19759327, -0.46042526, -0.15406173, -0.34838456]],\n",
       "\n",
       "        [[ 0.33916563, -0.08248386,  0.11705655, -0.49948823]]]],\n",
       "      dtype=float32)>"
      ]
     },
     "execution_count": 222,
     "metadata": {},
     "output_type": "execute_result"
    }
   ],
   "source": [
    "cnv.weights[0] # (2 x 2)커널의크기 // 1은 XXX의 채널 수 // 4는 con(XXX)의 채널수"
   ]
  },
  {
   "cell_type": "code",
   "execution_count": null,
   "id": "-OJL0fjQ2wJy",
   "metadata": {
    "colab": {
     "base_uri": "https://localhost:8080/"
    },
    "executionInfo": {
     "elapsed": 274,
     "status": "ok",
     "timestamp": 1652704394408,
     "user": {
      "displayName": "이강철",
      "userId": "13507850890638580947"
     },
     "user_tz": -540
    },
    "id": "-OJL0fjQ2wJy",
    "outputId": "c7fd8138-993f-4c19-f7a1-7945e235bcad"
   },
   "outputs": [
    {
     "data": {
      "text/plain": [
       "<tf.Tensor: shape=(), dtype=bool, numpy=True>"
      ]
     },
     "execution_count": 227,
     "metadata": {},
     "output_type": "execute_result"
    }
   ],
   "source": [
    "tf.reduce_sum(cnv.weights[0][...,0]) == tf.reduce_sum(XXX.reshape(1,2,2) * cnv.weights[0][...,0].reshape(2,2))"
   ]
  },
  {
   "cell_type": "markdown",
   "id": "JULSL8qN2871",
   "metadata": {
    "id": "JULSL8qN2871"
   },
   "source": [
    "* 계산결과를 확인하기 쉽게 만든 약간의 트릭"
   ]
  },
  {
   "cell_type": "code",
   "execution_count": null,
   "id": "AJ0CJUQ53ApG",
   "metadata": {
    "id": "AJ0CJUQ53ApG"
   },
   "outputs": [],
   "source": [
    "tf.random.set_seed(43052)\n",
    "cnv = tf.keras.layers.Conv2D(4,kernel_size=(2,2))\n",
    "XXX = tnp.array([1]*1*2*2*3,dtype=tf.float64).reshape(1,2,2,3) ## X의 채널 차원 수를 늘림"
   ]
  },
  {
   "cell_type": "code",
   "execution_count": null,
   "id": "S0zdiM7w3KYe",
   "metadata": {
    "colab": {
     "base_uri": "https://localhost:8080/"
    },
    "executionInfo": {
     "elapsed": 284,
     "status": "ok",
     "timestamp": 1652704492598,
     "user": {
      "displayName": "이강철",
      "userId": "13507850890638580947"
     },
     "user_tz": -540
    },
    "id": "S0zdiM7w3KYe",
    "outputId": "a3055f50-cccc-4026-f229-54c1bb7c22bb"
   },
   "outputs": [
    {
     "data": {
      "text/plain": [
       "<tf.Tensor: shape=(1, 1, 1, 4), dtype=float32, numpy=\n",
       "array([[[[ 0.3297621, -0.4498347, -1.0487393, -1.580095 ]]]],\n",
       "      dtype=float32)>"
      ]
     },
     "execution_count": 236,
     "metadata": {},
     "output_type": "execute_result"
    }
   ],
   "source": [
    "cnv(XXX)"
   ]
  },
  {
   "cell_type": "code",
   "execution_count": null,
   "id": "Z25_6s3x3T3e",
   "metadata": {
    "colab": {
     "base_uri": "https://localhost:8080/"
    },
    "executionInfo": {
     "elapsed": 267,
     "status": "ok",
     "timestamp": 1652704591095,
     "user": {
      "displayName": "이강철",
      "userId": "13507850890638580947"
     },
     "user_tz": -540
    },
    "id": "Z25_6s3x3T3e",
    "outputId": "d6b51ac6-bfc6-4b3e-d657-75f4955a48f1"
   },
   "outputs": [
    {
     "data": {
      "text/plain": [
       "[<tf.Variable 'conv2d_34/kernel:0' shape=(2, 2, 3, 4) dtype=float32, numpy=\n",
       " array([[[[-0.06956434, -0.12789628, -0.10784459, -0.32920673],\n",
       "          [-0.30761963,  0.06209785, -0.07421023,  0.3941219 ],\n",
       "          [ 0.16699678, -0.38913035, -0.13020593, -0.29443866]],\n",
       " \n",
       "         [[ 0.28664726, -0.0697116 ,  0.09893084, -0.4221446 ],\n",
       "          [-0.23161241, -0.16410837, -0.36420006,  0.12424195],\n",
       "          [-0.14245945,  0.36286396, -0.10751781,  0.1733647 ]]],\n",
       " \n",
       " \n",
       "        [[[ 0.02764335,  0.15547717, -0.42024496, -0.31893867],\n",
       "          [ 0.22414821,  0.3619454 , -0.00282967, -0.3503708 ],\n",
       "          [ 0.4610079 , -0.17417148,  0.00401336, -0.29777044]],\n",
       " \n",
       "         [[-0.1620284 , -0.42066965, -0.01578814, -0.4240524 ],\n",
       "          [ 0.37925082,  0.24236053,  0.3949356 , -0.20996472],\n",
       "          [-0.30264795, -0.28889188, -0.3237777 ,  0.37506342]]]],\n",
       "       dtype=float32)>,\n",
       " <tf.Variable 'conv2d_34/bias:0' shape=(4,) dtype=float32, numpy=array([0., 0., 0., 0.], dtype=float32)>]"
      ]
     },
     "execution_count": 238,
     "metadata": {},
     "output_type": "execute_result"
    }
   ],
   "source": [
    "cnv.weights ## (2 x 2)는 커널 사이즈 // 3은 XXX의 채널 // 4는 conv(xxx) 출력 채널"
   ]
  },
  {
   "cell_type": "code",
   "execution_count": null,
   "id": "NCfLyTyk3r_e",
   "metadata": {
    "colab": {
     "base_uri": "https://localhost:8080/"
    },
    "executionInfo": {
     "elapsed": 2,
     "status": "ok",
     "timestamp": 1652704626742,
     "user": {
      "displayName": "이강철",
      "userId": "13507850890638580947"
     },
     "user_tz": -540
    },
    "id": "NCfLyTyk3r_e",
    "outputId": "a949ffbc-ffbb-45dc-e7af-4ef0e85a40ef"
   },
   "outputs": [
    {
     "data": {
      "text/plain": [
       "<tf.Tensor: shape=(2, 2, 3), dtype=float32, numpy=\n",
       "array([[[-0.06956434, -0.30761963,  0.16699678],\n",
       "        [ 0.28664726, -0.23161241, -0.14245945]],\n",
       "\n",
       "       [[ 0.02764335,  0.22414821,  0.4610079 ],\n",
       "        [-0.1620284 ,  0.37925082, -0.30264795]]], dtype=float32)>"
      ]
     },
     "execution_count": 239,
     "metadata": {},
     "output_type": "execute_result"
    }
   ],
   "source": [
    "cnv.weights[0][...,0] ### cnv(XXX)의 첫번째 채널을 얻기위해 사용되는 weight값"
   ]
  },
  {
   "cell_type": "code",
   "execution_count": null,
   "id": "cpZpAldV35Qn",
   "metadata": {
    "colab": {
     "base_uri": "https://localhost:8080/"
    },
    "executionInfo": {
     "elapsed": 256,
     "status": "ok",
     "timestamp": 1652704663240,
     "user": {
      "displayName": "이강철",
      "userId": "13507850890638580947"
     },
     "user_tz": -540
    },
    "id": "cpZpAldV35Qn",
    "outputId": "652c3bf3-ade9-46cd-8a95-f6b619c81cd4"
   },
   "outputs": [
    {
     "data": {
      "text/plain": [
       "<tf.Tensor: shape=(), dtype=float32, numpy=0.32976213>"
      ]
     },
     "execution_count": 240,
     "metadata": {},
     "output_type": "execute_result"
    }
   ],
   "source": [
    "tf.reduce_sum(cnv.weights[0][...,0]) ## 오 cnv(XXX)의 첫번째 값과 같다. 즉 첫번째 채널의 결과 ## 이거 시험에 안나오니 정리만!!\n",
    "## 채널이 뻥튀기 될 때 뻥튀기 된 채널이 아무의미가 없고 유의미한 피쳐가 있을 것이라고 기대하는 것이다 즉 그중에 강아지인지, 고양이지인지 그중에 하나만 걸려라의 느낌의 뻥튀기"
   ]
  },
  {
   "cell_type": "code",
   "execution_count": null,
   "id": "c64mo6224GGu",
   "metadata": {
    "colab": {
     "base_uri": "https://localhost:8080/"
    },
    "executionInfo": {
     "elapsed": 2,
     "status": "ok",
     "timestamp": 1652704850535,
     "user": {
      "displayName": "이강철",
      "userId": "13507850890638580947"
     },
     "user_tz": -540
    },
    "id": "c64mo6224GGu",
    "outputId": "9b5c7309-5016-4598-ba28-007209a79030"
   },
   "outputs": [
    {
     "name": "stdout",
     "output_type": "stream",
     "text": [
      "tf.Tensor(-0.44983464, shape=(), dtype=float32)\n",
      "tf.Tensor(-1.0487392, shape=(), dtype=float32)\n",
      "tf.Tensor(-1.5800952, shape=(), dtype=float32)\n"
     ]
    }
   ],
   "source": [
    "print(tf.reduce_sum(cnv.weights[0][...,1])) ## 두 번째 cnv(XXX)\n",
    "print(tf.reduce_sum(cnv.weights[0][...,2])) ## 두 번째 cnv(XXX)\n",
    "print(tf.reduce_sum(cnv.weights[0][...,3])) ## 두 번째 cnv(XXX)"
   ]
  },
  {
   "cell_type": "code",
   "execution_count": null,
   "id": "sFVpB9qO465_",
   "metadata": {
    "id": "sFVpB9qO465_"
   },
   "outputs": [],
   "source": [
    "w_red = cnv.weights[0][...,0][...,0] ## X의 입력 채널\n",
    "w_green = cnv.weights[0][...,0][...,1] ## X의 입력 채널\n",
    "w_blue = cnv.weights[0][...,0][...,2] ## X의 입력 채널"
   ]
  },
  {
   "cell_type": "code",
   "execution_count": null,
   "id": "3IMI8z4j5MKn",
   "metadata": {
    "colab": {
     "base_uri": "https://localhost:8080/"
    },
    "executionInfo": {
     "elapsed": 265,
     "status": "ok",
     "timestamp": 1652704989403,
     "user": {
      "displayName": "이강철",
      "userId": "13507850890638580947"
     },
     "user_tz": -540
    },
    "id": "3IMI8z4j5MKn",
    "outputId": "4de001fb-2634-4391-d267-8a1c65ff0e93"
   },
   "outputs": [
    {
     "data": {
      "text/plain": [
       "<tf.Tensor: shape=(2, 2), dtype=float32, numpy=\n",
       "array([[-0.06956434,  0.28664726],\n",
       "       [ 0.02764335, -0.1620284 ]], dtype=float32)>"
      ]
     },
     "execution_count": 250,
     "metadata": {},
     "output_type": "execute_result"
    }
   ],
   "source": [
    "w_red"
   ]
  },
  {
   "cell_type": "code",
   "execution_count": null,
   "id": "jxyL3jV15Uiu",
   "metadata": {
    "colab": {
     "base_uri": "https://localhost:8080/"
    },
    "executionInfo": {
     "elapsed": 274,
     "status": "ok",
     "timestamp": 1652705094565,
     "user": {
      "displayName": "이강철",
      "userId": "13507850890638580947"
     },
     "user_tz": -540
    },
    "id": "jxyL3jV15Uiu",
    "outputId": "c721efab-566f-41dd-9795-c94b9ae49f85"
   },
   "outputs": [
    {
     "data": {
      "text/plain": [
       "<tf.Tensor: shape=(1, 2, 2), dtype=float64, numpy=\n",
       "array([[[-0.2101872 , -0.08742461],\n",
       "        [ 0.71279946, -0.08542553]]])>"
      ]
     },
     "execution_count": 253,
     "metadata": {},
     "output_type": "execute_result"
    }
   ],
   "source": [
    "XXX[...,0]*w_red  +  XXX[...,1] * w_green  + XXX[...,2] * w_blue "
   ]
  },
  {
   "cell_type": "code",
   "execution_count": null,
   "id": "7qAHkAxS5N5G",
   "metadata": {
    "colab": {
     "base_uri": "https://localhost:8080/"
    },
    "executionInfo": {
     "elapsed": 256,
     "status": "ok",
     "timestamp": 1652705010657,
     "user": {
      "displayName": "이강철",
      "userId": "13507850890638580947"
     },
     "user_tz": -540
    },
    "id": "7qAHkAxS5N5G",
    "outputId": "3e5b1e90-74ba-437a-ae4f-430f6ed108df"
   },
   "outputs": [
    {
     "data": {
      "text/plain": [
       "<tf.Tensor: shape=(1, 2, 2), dtype=float64, numpy=\n",
       "array([[[1., 1.],\n",
       "        [1., 1.]]])>"
      ]
     },
     "execution_count": 252,
     "metadata": {},
     "output_type": "execute_result"
    }
   ],
   "source": [
    "XXX[...,0] ## X_red"
   ]
  },
  {
   "cell_type": "markdown",
   "id": "uGZ_VTCa63Pw",
   "metadata": {
    "id": "uGZ_VTCa63Pw"
   },
   "source": [
    "* 만약 layer의 acitvation을 relu로 잡으면 음의값은 전부 0으로 바뀐다."
   ]
  },
  {
   "cell_type": "markdown",
   "id": "5b5c25df-f55a-40b4-a209-0181ec8ce1e0",
   "metadata": {
    "id": "5b5c25df-f55a-40b4-a209-0181ec8ce1e0"
   },
   "source": [
    "## 텐서플로우를 공부하기 좋은 교재 혹은 참고자료"
   ]
  },
  {
   "cell_type": "markdown",
   "id": "6c4313ac-9e4e-4ef2-9533-6d8f63079637",
   "metadata": {
    "id": "6c4313ac-9e4e-4ef2-9533-6d8f63079637"
   },
   "source": [
    "#### 텐서플로우 교재"
   ]
  },
  {
   "cell_type": "markdown",
   "id": "fd5c1278-a0bf-4830-8321-6fc52ebfa09b",
   "metadata": {
    "id": "fd5c1278-a0bf-4830-8321-6fc52ebfa09b"
   },
   "source": [
    "`-` 교재1: http://www.kyobobook.co.kr/product/detailViewEng.laf?mallGb=ENG&ejkGb=ENG&barcode=9781838823412\n",
    "- 장점: 텐서플로우 2.0을 다룬 교재, 기본적 내용을 간략히 소개. 다양한 분야를 커버. \n",
    "- 단점: 내용이 조금 산만함 (잘 안읽힘). 코드가 예쁘지 않음. 글을 진짜 못씀. \n"
   ]
  },
  {
   "cell_type": "markdown",
   "id": "43bc74ba-7000-4b26-95cd-ead3e8fd933e",
   "metadata": {
    "id": "43bc74ba-7000-4b26-95cd-ead3e8fd933e"
   },
   "source": [
    "`-` 교재2: https://www.amazon.com/Advanced-Deep-Learning-TensorFlow-Keras/dp/1838821651/ref=pd_sbs_sccl_2_2/139-5369471-9501726?pd_rd_w=PLPU2&pf_rd_p=3676f086-9496-4fd7-8490-77cf7f43f846&pf_rd_r=019BZNCP8B6RHXPKXF0T&pd_rd_r=2dea359c-c5d4-4404-86d8-cb1f5f934607&pd_rd_wg=98kmk&pd_rd_i=1838821651&psc=1\n",
    "\n",
    "- 장점: 코드가 예쁘다. 예제가 잘 구성됨. 참신하다. 내용에 깊이가 있다. \n",
    "- 단점: 입문용 내용이 아예 없음"
   ]
  },
  {
   "cell_type": "markdown",
   "id": "dfb7ce33-5504-4241-b08f-dbdd01086cc2",
   "metadata": {
    "id": "dfb7ce33-5504-4241-b08f-dbdd01086cc2"
   },
   "source": [
    "`-` 교재3: 텐서플로 딥러닝 프로그래밍 (김동근/가메출판사) \n",
    "- 장점: 한글교재, 그래도 교재구성에 흐름이 있다. 공식문서의 가이드내용도 포함 (대부분은 튜토리얼 수준만 포함) \n",
    "- 단점: 공식문서내용 그냥 거의 그대로 베낌. "
   ]
  },
  {
   "cell_type": "markdown",
   "id": "db9f10f9-b20a-4b61-b9cd-a45fc632a1de",
   "metadata": {
    "id": "db9f10f9-b20a-4b61-b9cd-a45fc632a1de"
   },
   "source": [
    "#### 공식홈페이지"
   ]
  },
  {
   "cell_type": "markdown",
   "id": "0527b486-88af-48f0-9fd0-a640e0fc3587",
   "metadata": {
    "id": "0527b486-88af-48f0-9fd0-a640e0fc3587"
   },
   "source": [
    "`-` 튜토리얼: https://www.tensorflow.org/tutorials?hl=ko\n",
    "- 탭눌러서 초보자~고급 모두 읽어보면 좋다.\n",
    "- 간단한 모형실습들 제공.\n",
    "- 대부분의 교재는 튜토리얼의 내용을 베껴서 출판한다. (외국교재도 포함!)"
   ]
  },
  {
   "cell_type": "markdown",
   "id": "3a483916-a4b1-4f1a-9e27-c4efdce2fb26",
   "metadata": {
    "id": "3a483916-a4b1-4f1a-9e27-c4efdce2fb26"
   },
   "source": [
    "`-` 가이드: https://www.tensorflow.org/guide?hl=ko\n",
    "- 왜 파이토치가 아니고 텐서플로우를 써야하는가? 에 대한 대답들 \n",
    "- 모형에 대한 설명보다 프로그램 자체에 대한 이해도를 높여준다. "
   ]
  },
  {
   "cell_type": "markdown",
   "id": "d7ff230c-ed48-41b5-b47b-8fffe57c0818",
   "metadata": {
    "id": "d7ff230c-ed48-41b5-b47b-8fffe57c0818"
   },
   "source": [
    "`-` API: https://www.tensorflow.org/versions?hl=ko\n",
    "- tf의 다양한 모듈구조를 확인 \n",
    "- 파이썬에서 도움말 치면 나오는 것들 + $\\alpha$ \n",
    "- 교재에서 확인불가능한 아주 디테일한 부분까지 확인가능 "
   ]
  },
  {
   "cell_type": "code",
   "execution_count": null,
   "id": "5fc2f3aa-84d0-4a38-97b9-00a8dc687522",
   "metadata": {
    "id": "5fc2f3aa-84d0-4a38-97b9-00a8dc687522",
    "outputId": "97d094dc-c844-4514-d043-b640f0ba0876"
   },
   "outputs": [
    {
     "data": {
      "text/plain": [
       "\u001b[0;31mInit signature:\u001b[0m \u001b[0mtf\u001b[0m\u001b[0;34m.\u001b[0m\u001b[0mGradientTape\u001b[0m\u001b[0;34m(\u001b[0m\u001b[0mpersistent\u001b[0m\u001b[0;34m=\u001b[0m\u001b[0;32mFalse\u001b[0m\u001b[0;34m,\u001b[0m \u001b[0mwatch_accessed_variables\u001b[0m\u001b[0;34m=\u001b[0m\u001b[0;32mTrue\u001b[0m\u001b[0;34m)\u001b[0m\u001b[0;34m\u001b[0m\u001b[0;34m\u001b[0m\u001b[0m\n",
       "\u001b[0;31mDocstring:\u001b[0m     \n",
       "Record operations for automatic differentiation.\n",
       "\n",
       "Operations are recorded if they are executed within this context manager and\n",
       "at least one of their inputs is being \"watched\".\n",
       "\n",
       "Trainable variables (created by `tf.Variable` or `tf.compat.v1.get_variable`,\n",
       "where `trainable=True` is default in both cases) are automatically watched.\n",
       "Tensors can be manually watched by invoking the `watch` method on this context\n",
       "manager.\n",
       "\n",
       "For example, consider the function `y = x * x`. The gradient at `x = 3.0` can\n",
       "be computed as:\n",
       "\n",
       ">>> x = tf.constant(3.0)\n",
       ">>> with tf.GradientTape() as g:\n",
       "...   g.watch(x)\n",
       "...   y = x * x\n",
       ">>> dy_dx = g.gradient(y, x)\n",
       ">>> print(dy_dx)\n",
       "tf.Tensor(6.0, shape=(), dtype=float32)\n",
       "\n",
       "GradientTapes can be nested to compute higher-order derivatives. For example,\n",
       "\n",
       ">>> x = tf.constant(5.0)\n",
       ">>> with tf.GradientTape() as g:\n",
       "...   g.watch(x)\n",
       "...   with tf.GradientTape() as gg:\n",
       "...     gg.watch(x)\n",
       "...     y = x * x\n",
       "...   dy_dx = gg.gradient(y, x)  # dy_dx = 2 * x\n",
       ">>> d2y_dx2 = g.gradient(dy_dx, x)  # d2y_dx2 = 2\n",
       ">>> print(dy_dx)\n",
       "tf.Tensor(10.0, shape=(), dtype=float32)\n",
       ">>> print(d2y_dx2)\n",
       "tf.Tensor(2.0, shape=(), dtype=float32)\n",
       "\n",
       "By default, the resources held by a GradientTape are released as soon as\n",
       "GradientTape.gradient() method is called. To compute multiple gradients over\n",
       "the same computation, create a persistent gradient tape. This allows multiple\n",
       "calls to the gradient() method as resources are released when the tape object\n",
       "is garbage collected. For example:\n",
       "\n",
       ">>> x = tf.constant(3.0)\n",
       ">>> with tf.GradientTape(persistent=True) as g:\n",
       "...   g.watch(x)\n",
       "...   y = x * x\n",
       "...   z = y * y\n",
       ">>> dz_dx = g.gradient(z, x)  # (4*x^3 at x = 3)\n",
       ">>> print(dz_dx)\n",
       "tf.Tensor(108.0, shape=(), dtype=float32)\n",
       ">>> dy_dx = g.gradient(y, x)\n",
       ">>> print(dy_dx)\n",
       "tf.Tensor(6.0, shape=(), dtype=float32)\n",
       "\n",
       "By default GradientTape will automatically watch any trainable variables that\n",
       "are accessed inside the context. If you want fine grained control over which\n",
       "variables are watched you can disable automatic tracking by passing\n",
       "`watch_accessed_variables=False` to the tape constructor:\n",
       "\n",
       ">>> x = tf.Variable(2.0)\n",
       ">>> w = tf.Variable(5.0)\n",
       ">>> with tf.GradientTape(\n",
       "...     watch_accessed_variables=False, persistent=True) as tape:\n",
       "...   tape.watch(x)\n",
       "...   y = x ** 2  # Gradients will be available for `x`.\n",
       "...   z = w ** 3  # No gradients will be available as `w` isn't being watched.\n",
       ">>> dy_dx = tape.gradient(y, x)\n",
       ">>> print(dy_dx)\n",
       "tf.Tensor(4.0, shape=(), dtype=float32)\n",
       ">>> # No gradients will be available as `w` isn't being watched.\n",
       ">>> dz_dy = tape.gradient(z, w)\n",
       ">>> print(dz_dy)\n",
       "None\n",
       "\n",
       "Note that when using models you should ensure that your variables exist when\n",
       "using `watch_accessed_variables=False`. Otherwise it's quite easy to make your\n",
       "first iteration not have any gradients:\n",
       "\n",
       "```python\n",
       "a = tf.keras.layers.Dense(32)\n",
       "b = tf.keras.layers.Dense(32)\n",
       "\n",
       "with tf.GradientTape(watch_accessed_variables=False) as tape:\n",
       "  tape.watch(a.variables)  # Since `a.build` has not been called at this point\n",
       "                           # `a.variables` will return an empty list and the\n",
       "                           # tape will not be watching anything.\n",
       "  result = b(a(inputs))\n",
       "  tape.gradient(result, a.variables)  # The result of this computation will be\n",
       "                                      # a list of `None`s since a's variables\n",
       "                                      # are not being watched.\n",
       "```\n",
       "\n",
       "Note that only tensors with real or complex dtypes are differentiable.\n",
       "\u001b[0;31mInit docstring:\u001b[0m\n",
       "Creates a new GradientTape.\n",
       "\n",
       "Args:\n",
       "  persistent: Boolean controlling whether a persistent gradient tape\n",
       "    is created. False by default, which means at most one call can\n",
       "    be made to the gradient() method on this object.\n",
       "  watch_accessed_variables: Boolean controlling whether the tape will\n",
       "    automatically `watch` any (trainable) variables accessed while the tape\n",
       "    is active. Defaults to True meaning gradients can be requested from any\n",
       "    result computed in the tape derived from reading a trainable `Variable`.\n",
       "    If False users must explicitly `watch` any `Variable`s they want to\n",
       "    request gradients from.\n",
       "\u001b[0;31mFile:\u001b[0m           ~/anaconda3/envs/tfgpu/lib/python3.10/site-packages/tensorflow/python/eager/backprop.py\n",
       "\u001b[0;31mType:\u001b[0m           type\n",
       "\u001b[0;31mSubclasses:\u001b[0m     LossScaleGradientTape\n"
      ]
     },
     "metadata": {},
     "output_type": "display_data"
    }
   ],
   "source": [
    "tf.GradientTape?"
   ]
  },
  {
   "cell_type": "markdown",
   "id": "1e2e28bf-3dcc-49e3-b8df-50734c7708e2",
   "metadata": {
    "id": "1e2e28bf-3dcc-49e3-b8df-50734c7708e2"
   },
   "source": [
    "#### 텐서플로우가 아닌 그냥 딥러닝 이론교재 "
   ]
  },
  {
   "cell_type": "markdown",
   "id": "7f0570e2-cba9-4342-a4cc-6d953f1f5f26",
   "metadata": {
    "id": "7f0570e2-cba9-4342-a4cc-6d953f1f5f26"
   },
   "source": [
    "`-` Deep Learning (이안굿펠로우): https://www.aladin.co.kr/shop/wproduct.aspx?ItemId=171345378\n",
    "- 장점: 그나마 잘 쓰여진 전통있는 교재, 교수님들 책꽃이에 하나씩 꼽혀있었음. 방대한 내용다룸. 깊이있음. 틀린것 없음. 무료\n",
    "- 단점: 번역이 쓰레기임. 내용이 너무 어려움. (이해를 하라고 쓴 설명이 아님) \n",
    "- 무료제공: https://www.deeplearningbook.org/"
   ]
  },
  {
   "cell_type": "markdown",
   "id": "05b7f072-13de-478e-beea-badec8656fe2",
   "metadata": {
    "id": "05b7f072-13de-478e-beea-badec8656fe2"
   },
   "source": [
    "`-` 기계학습 (오일석) \n",
    "- 장점: 이해가 잘된다. 꽤 넓은 분야를 다룬다. 비교적 간단한 예제로 개념을 설명한다. "
   ]
  },
  {
   "cell_type": "markdown",
   "id": "129bb859-ff81-4fe8-9fe2-1353370009b6",
   "metadata": {
    "id": "129bb859-ff81-4fe8-9fe2-1353370009b6"
   },
   "source": [
    "### CNN의 시작: 알렉스넷"
   ]
  },
  {
   "cell_type": "markdown",
   "id": "6a690ae2-2e7d-47b3-a3ce-bf81ebc38e6e",
   "metadata": {
    "id": "6a690ae2-2e7d-47b3-a3ce-bf81ebc38e6e"
   },
   "source": [
    "`-` 만화: https://wedatalab.tistory.com/71"
   ]
  },
  {
   "cell_type": "markdown",
   "id": "a585e8fd-6363-48ba-aa66-755c14f9bd66",
   "metadata": {
    "id": "a585e8fd-6363-48ba-aa66-755c14f9bd66"
   },
   "source": [
    "### 2d convolution "
   ]
  }
 ],
 "metadata": {
  "accelerator": "GPU",
  "colab": {
   "collapsed_sections": [],
   "name": "2022-05-11-(11주차) 5월11일.ipynb",
   "provenance": [
    {
     "file_id": "https://github.com/guebin/DS2022/blob/master/_notebooks/2022-05-11-(11%EC%A3%BC%EC%B0%A8)%205%EC%9B%9411%EC%9D%BC.ipynb",
     "timestamp": 1652695588654
    }
   ]
  },
  "kernelspec": {
   "display_name": "Python 3 (ipykernel)",
   "language": "python",
   "name": "python3"
  },
  "language_info": {
   "codemirror_mode": {
    "name": "ipython",
    "version": 3
   },
   "file_extension": ".py",
   "mimetype": "text/x-python",
   "name": "python",
   "nbconvert_exporter": "python",
   "pygments_lexer": "ipython3",
   "version": "3.9.13"
  }
 },
 "nbformat": 4,
 "nbformat_minor": 5
}
