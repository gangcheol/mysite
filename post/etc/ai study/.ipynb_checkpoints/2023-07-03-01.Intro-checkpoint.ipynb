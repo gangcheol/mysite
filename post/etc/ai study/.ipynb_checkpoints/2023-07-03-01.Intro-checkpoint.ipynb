{
 "cells": [
  {
   "cell_type": "raw",
   "id": "48460122",
   "metadata": {},
   "source": [
    "---\n",
    "title : \"01. Intro\"\n",
    "date : \"07/03/23\"\n",
    "author : \"GANGCHEOL LEE\"\n",
    "categories : \"Python\"\n",
    "---"
   ]
  },
  {
   "cell_type": "markdown",
   "id": "2df8de90",
   "metadata": {},
   "source": [
    "`-` 해당 자료는 KT AICE 강의 자료를 바탕으로 만들었습니다. 문제시 삭제하겠습니다."
   ]
  },
  {
   "cell_type": "markdown",
   "id": "855e2163",
   "metadata": {},
   "source": [
    "# 01. AI 활용"
   ]
  },
  {
   "cell_type": "markdown",
   "id": "63c3919d",
   "metadata": {},
   "source": [
    "`-` 이미지 분류, 이미지 인식 $\\to$ 이미 사람의 능력을 초과.."
   ]
  },
  {
   "cell_type": "markdown",
   "id": "7111c5a2",
   "metadata": {},
   "source": [
    "`-` 현재 AI가 사람보다 못하는 부분은 NLP, 의사결정방식 분야이다."
   ]
  },
  {
   "cell_type": "markdown",
   "id": "886dfc2e",
   "metadata": {},
   "source": [
    "`-` 그러나, 최근 ChatGPT의 등장으로 코드 작성과 설명 등 다양한 분야에서 활용되고 있다."
   ]
  },
  {
   "cell_type": "markdown",
   "id": "c5e0f172",
   "metadata": {},
   "source": [
    "`-` 심지어 작곡도 훌륭하게 한다...(이건 나중에 유용하게 써보자..)"
   ]
  },
  {
   "cell_type": "markdown",
   "id": "477a367e",
   "metadata": {},
   "source": [
    "`-` 개체명 인식에도 유용하게 쓰인다."
   ]
  },
  {
   "cell_type": "markdown",
   "id": "08147a66",
   "metadata": {},
   "source": [
    "# 02. AI 개념"
   ]
  },
  {
   "cell_type": "markdown",
   "id": "52c09ec3",
   "metadata": {},
   "source": [
    "`-` 대부분 대답"
   ]
  },
  {
   "cell_type": "markdown",
   "id": "b35a5e18",
   "metadata": {},
   "source": [
    "* 스스로 생각하고 판단할 수 있는 컴퓨터"
   ]
  },
  {
   "cell_type": "markdown",
   "id": "893a3ddc",
   "metadata": {},
   "source": [
    "`-` AI에게 내 일을 빼앗길 수 있는가..??"
   ]
  },
  {
   "cell_type": "markdown",
   "id": "d10cf1c5",
   "metadata": {},
   "source": [
    "* 모든 일이 AI로 대체되지는 않지만, 새롭게 생겨나는 일도 있다."
   ]
  },
  {
   "cell_type": "markdown",
   "id": "b1beeeeb",
   "metadata": {},
   "source": [
    "`-` AI를 활용할 때 중요한점"
   ]
  },
  {
   "cell_type": "markdown",
   "id": "4cb08875",
   "metadata": {},
   "source": [
    "1. 문제의 본질을 파악하는 능력\n",
    "\n",
    "2. 데이터를 만드는 능력"
   ]
  },
  {
   "cell_type": "markdown",
   "id": "847ee318",
   "metadata": {},
   "source": [
    "`-` 출처 : (도서) 가장 쉬운 AI 입문서"
   ]
  },
  {
   "cell_type": "markdown",
   "id": "1f8b7c71",
   "metadata": {},
   "source": [
    "## a. 인공지능"
   ]
  },
  {
   "cell_type": "markdown",
   "id": "cbaa7d37",
   "metadata": {},
   "source": [
    "`-` 개념 : 인간의 지적능력(추론, 인지)를 구현하는 모든 기술 $\\to$ 고양이인지, 강아지인지...."
   ]
  },
  {
   "cell_type": "markdown",
   "id": "2f9efd22",
   "metadata": {},
   "source": [
    "## b. 머신러닝"
   ]
  },
  {
   "cell_type": "markdown",
   "id": "c61bd4f1",
   "metadata": {},
   "source": [
    "`-` 알고리즘으로 데이터를 분석, 학습하여 판단이나 예측하는 기술"
   ]
  },
  {
   "cell_type": "markdown",
   "id": "18ef4234",
   "metadata": {},
   "source": [
    "## c. 딥러닝"
   ]
  },
  {
   "cell_type": "markdown",
   "id": "3613b4d7",
   "metadata": {},
   "source": [
    "`-` 인공신경망 알고리즘을 활용하는 머신러닝 기술"
   ]
  },
  {
   "cell_type": "markdown",
   "id": "9fe465b5",
   "metadata": {},
   "source": [
    "`-` 포함관계 : 딥러닝 $\\subset$ 머신러닝 $\\subset$ 인공지능"
   ]
  },
  {
   "cell_type": "markdown",
   "id": "b0519a7f",
   "metadata": {},
   "source": [
    "# 03. AI 학습원리"
   ]
  },
  {
   "cell_type": "markdown",
   "id": "84114a57",
   "metadata": {},
   "source": [
    "`-` 데이터의 특징을 파악하고 규칙을 만듬"
   ]
  },
  {
   "cell_type": "markdown",
   "id": "d9979dea",
   "metadata": {},
   "source": [
    "`-` 학습방법\n",
    "\n",
    "* 지도학습 : 정답지로 학습 후 분류\n",
    "\n",
    "* 비지도학습 : 정답없이 학습, 군집, 특정 도출\n",
    "\n",
    "* 강화학습 : 시뮬레이션 반복 학습, 성능 강화 등에 사용"
   ]
  },
  {
   "cell_type": "markdown",
   "id": "3cc68932",
   "metadata": {},
   "source": [
    "# 04. AI 모델 구성요소"
   ]
  },
  {
   "cell_type": "markdown",
   "id": "6cb702e9",
   "metadata": {},
   "source": [
    "1. 데이터 : 이미지, 텍스트, 수치 등등\n",
    "\n",
    "2. 모델링 : RNN, CNN, LSTM 등등"
   ]
  },
  {
   "cell_type": "markdown",
   "id": "d869c674",
   "metadata": {},
   "source": [
    "# 05. AI 모델링 순서"
   ]
  },
  {
   "cell_type": "markdown",
   "id": "abd36e4a",
   "metadata": {},
   "source": [
    "데이터 수집 $\\to$ 데이터전처리 $\\to$ 모델 학습 $\\to$ 모델 테스트 $\\to$ 모델 베포"
   ]
  },
  {
   "cell_type": "markdown",
   "id": "1e0cc31f",
   "metadata": {},
   "source": [
    "# 07. 4차 산업혁명과 코딩"
   ]
  },
  {
   "cell_type": "markdown",
   "id": "9b156612",
   "metadata": {},
   "source": [
    "1. 협업능력 (Collaboration)\n",
    "\n",
    "2. 소통능력 (Communication)\n",
    "\n",
    "3. 비판적 사고 (Critical thinking)\n",
    "\n",
    "4. 창의력 (Creativity)"
   ]
  },
  {
   "cell_type": "markdown",
   "id": "36f6047d",
   "metadata": {},
   "source": [
    "`-` 코딩을 통해 위 4C역량을 키울 수 있다."
   ]
  },
  {
   "cell_type": "markdown",
   "id": "12749a25",
   "metadata": {},
   "source": [
    "`-` Ai 모델을 활용하는 방법"
   ]
  },
  {
   "cell_type": "markdown",
   "id": "58716249",
   "metadata": {},
   "source": [
    "* No-coding : 기존에 발명된  AI모델 활용 (ex) AIDUez, Azure ML Studio, AutoML)\n",
    "    \n",
    "* coding : 프로그래밍언어를 사용하여 개발자가 직접 수행"
   ]
  }
 ],
 "metadata": {
  "kernelspec": {
   "display_name": "Python 3 (ipykernel)",
   "language": "python",
   "name": "python3"
  },
  "language_info": {
   "codemirror_mode": {
    "name": "ipython",
    "version": 3
   },
   "file_extension": ".py",
   "mimetype": "text/x-python",
   "name": "python",
   "nbconvert_exporter": "python",
   "pygments_lexer": "ipython3",
   "version": "3.9.13"
  },
  "toc": {
   "base_numbering": 1,
   "nav_menu": {},
   "number_sections": false,
   "sideBar": true,
   "skip_h1_title": false,
   "title_cell": "Table of Contents",
   "title_sidebar": "Contents",
   "toc_cell": false,
   "toc_position": {},
   "toc_section_display": true,
   "toc_window_display": true
  }
 },
 "nbformat": 4,
 "nbformat_minor": 5
}
