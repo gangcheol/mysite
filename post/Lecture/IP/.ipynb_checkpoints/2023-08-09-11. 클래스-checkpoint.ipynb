{
 "cells": [
  {
   "cell_type": "raw",
   "id": "0eecb788-f4bb-4fad-80b2-513cfb06e29b",
   "metadata": {},
   "source": [
    "---\n",
    "title : \"11. 클래스\"\n",
    "date : \"08/09/23\"\n",
    "categories : [\"Python\"]\n",
    "author : \"GANGCHEOL LEE\"\n",
    "---"
   ]
  },
  {
   "cell_type": "markdown",
   "id": "cb27152e-e873-4cfd-81fd-ded21d09f7b0",
   "metadata": {},
   "source": [
    "# 복기"
   ]
  },
  {
   "cell_type": "code",
   "execution_count": 6,
   "id": "6a814041-3c1f-4d69-a0c5-129a0f521749",
   "metadata": {},
   "outputs": [],
   "source": [
    "from IPython.core.display import HTML"
   ]
  },
  {
   "cell_type": "markdown",
   "id": "48be2815-36a2-4ce4-9f83-65e8e7b71ed8",
   "metadata": {},
   "source": [
    "## 1단계 : 도화지 생성"
   ]
  },
  {
   "cell_type": "code",
   "execution_count": 1,
   "id": "e222999b-c937-42ae-842a-af099f6bd8af",
   "metadata": {},
   "outputs": [],
   "source": [
    "class jkm :\n",
    "     pass"
   ]
  },
  {
   "cell_type": "code",
   "execution_count": 2,
   "id": "825ea71c-9620-4553-9c74-adf30c00bcc2",
   "metadata": {},
   "outputs": [
    {
     "data": {
      "text/plain": [
       "<__main__.jkm at 0x18dda40e3d0>"
      ]
     },
     "execution_count": 2,
     "metadata": {},
     "output_type": "execute_result"
    }
   ],
   "source": [
    "test = jkm()\n",
    "test"
   ]
  },
  {
   "cell_type": "markdown",
   "id": "e42907a9-1e22-48f0-9f50-9b45f2cfb01e",
   "metadata": {},
   "source": [
    "## 2단계 : 뼈대 생성"
   ]
  },
  {
   "cell_type": "code",
   "execution_count": 3,
   "id": "e81c2ed7-02c1-439c-b0e2-9b269488adf0",
   "metadata": {},
   "outputs": [],
   "source": [
    "test.title = \"중요한건 꺽이지 않는 마음\"\n",
    "\n",
    "test.url = \"https://github.com/guebin/PP2023/blob/main/posts/03_Class/JungGGuckMa.jpg?raw=true\"\n",
    "\n",
    "test.Q = \"Q: 로그와 2라운드 재대결, 어떤 점에 유의해야 할까\"\n",
    "\n",
    "test.A = \"A: 상대팀에 대해서 더 분석할 건 없는 것 같고, 저희가 저희 플레이 잘하는 게 제일 중요한 것 같고 오늘 지긴 했지만 저희끼리만 안 무너지면 충분히 이길 수 있을 것 같아요.\"\n",
    "\n",
    "test.h1 = \"마음\"\n",
    "\n",
    "test.html_str =  '''\n",
    "<style>\n",
    "    .title {{\n",
    "        font-family: \"Times New Roman\", serif;\n",
    "        font-size: 30px;\n",
    "        font-weight: 900;\n",
    "    }}\n",
    "    .text {{\n",
    "        font-family: \"Arial\", sans-serif;\n",
    "        font-size: 20px;\n",
    "        font-style: italic;\n",
    "    }}\n",
    "    .highlight {{\n",
    "        font-family: \"Montserrat\", monospace;\n",
    "        font-size: 35px;\n",
    "        font-weight: 900;\n",
    "        text-decoration: underline; ## 밑줄\n",
    "        font-style: normal;\n",
    "        color: darkblue;\n",
    "        background-color: #FFFF00;\n",
    "    }}\n",
    "</style>\n",
    "\n",
    "<p class=\"title\">{tt1}</p>\n",
    "<img src={url} width=\"600\">\n",
    "<p> \\n </p>\n",
    "<p class=\"text\"> {Q}</p>\n",
    "<p class=\"text\"> {A}: 상대팀에 대해서 더 분석할 건 없는 것 같고, 저희가 저희 플레이 잘하는 게 제일 중요한 것 같고 오늘 지긴 했지만 저희끼리만 안 무너지면 충분히 이길 수 있을 것 같아요.\n",
    "<p class=\"title\">중요한 것은 꺾이지 않는 <span class=\"highlight\"> {h1} </span></p>\n",
    "'''"
   ]
  },
  {
   "cell_type": "markdown",
   "id": "ece8a094-3c35-4d20-b857-fda55e75a769",
   "metadata": {},
   "source": [
    "## 3단계 : show 함수 작성"
   ]
  },
  {
   "cell_type": "code",
   "execution_count": 4,
   "id": "a104c389-e3b3-4037-8544-ff07262e7b01",
   "metadata": {},
   "outputs": [],
   "source": [
    "def show(test):\n",
    "    _str = test.html_str.format(\n",
    "        tt1 = test.title,\n",
    "        url = test.url,\n",
    "        Q = test.Q,\n",
    "        A = test.A,\n",
    "        h1 = test.h1\n",
    "    )\n",
    "    display(HTML(_str))"
   ]
  },
  {
   "cell_type": "code",
   "execution_count": 7,
   "id": "1779ff92-b06e-49ee-a4c1-a8d48e611f18",
   "metadata": {},
   "outputs": [
    {
     "data": {
      "text/html": [
       "\n",
       "<style>\n",
       "    .title {\n",
       "        font-family: \"Times New Roman\", serif;\n",
       "        font-size: 30px;\n",
       "        font-weight: 900;\n",
       "    }\n",
       "    .text {\n",
       "        font-family: \"Arial\", sans-serif;\n",
       "        font-size: 20px;\n",
       "        font-style: italic;\n",
       "    }\n",
       "    .highlight {\n",
       "        font-family: \"Montserrat\", monospace;\n",
       "        font-size: 35px;\n",
       "        font-weight: 900;\n",
       "        text-decoration: underline; ## 밑줄\n",
       "        font-style: normal;\n",
       "        color: darkblue;\n",
       "        background-color: #FFFF00;\n",
       "    }\n",
       "</style>\n",
       "\n",
       "<p class=\"title\">중요한건 꺽이지 않는 마음</p>\n",
       "<img src=https://github.com/guebin/PP2023/blob/main/posts/03_Class/JungGGuckMa.jpg?raw=true width=\"600\">\n",
       "<p> \n",
       " </p>\n",
       "<p class=\"text\"> Q: 로그와 2라운드 재대결, 어떤 점에 유의해야 할까</p>\n",
       "<p class=\"text\"> A: 상대팀에 대해서 더 분석할 건 없는 것 같고, 저희가 저희 플레이 잘하는 게 제일 중요한 것 같고 오늘 지긴 했지만 저희끼리만 안 무너지면 충분히 이길 수 있을 것 같아요.: 상대팀에 대해서 더 분석할 건 없는 것 같고, 저희가 저희 플레이 잘하는 게 제일 중요한 것 같고 오늘 지긴 했지만 저희끼리만 안 무너지면 충분히 이길 수 있을 것 같아요.\n",
       "<p class=\"title\">중요한 것은 꺾이지 않는 <span class=\"highlight\"> 마음 </span></p>\n"
      ],
      "text/plain": [
       "<IPython.core.display.HTML object>"
      ]
     },
     "metadata": {},
     "output_type": "display_data"
    }
   ],
   "source": [
    "show(test)"
   ]
  },
  {
   "cell_type": "markdown",
   "id": "b9507a2b-df09-4816-8e44-858b15b0b8f3",
   "metadata": {},
   "source": [
    "***"
   ]
  },
  {
   "cell_type": "markdown",
   "id": "6e4c5e31-9c06-49e5-892b-ad298316dbe1",
   "metadata": {},
   "source": [
    "# 함수를 클래스에 종속"
   ]
  },
  {
   "cell_type": "markdown",
   "id": "8e8cb256-139c-46c5-8dcf-1bb75c9268cc",
   "metadata": {},
   "source": [
    "`-` 현재 show라는 함수는 클래스 외부에 독립적으로 존재하는 함수이다."
   ]
  },
  {
   "cell_type": "markdown",
   "id": "231e83d8-64f4-4242-8d77-940104479fc0",
   "metadata": {},
   "source": [
    "`-` 어차피 show는 우리가 생성한 `밈` 객체를 입력받으므로 클래스안에 종속시키는 것이 더 좋을 것 같다."
   ]
  },
  {
   "cell_type": "markdown",
   "id": "67b71265-7758-4188-a3ad-a8051adf7009",
   "metadata": {},
   "source": [
    "## self"
   ]
  },
  {
   "cell_type": "markdown",
   "id": "eb5291db-1d85-40c8-bdef-4f42f0a374a1",
   "metadata": {},
   "source": [
    "`-` `self`는 `밈` 클래스에서 생성할 인스턴스의 이름을 대신한다."
   ]
  },
  {
   "cell_type": "markdown",
   "id": "f621a995-d006-421b-8cc6-9905941b1f0c",
   "metadata": {},
   "source": [
    "`-` jkm이라는 클래스에 다음과 같이 `show`함수를 종속 시키자"
   ]
  },
  {
   "cell_type": "code",
   "execution_count": 26,
   "id": "f57e1232-4f7f-4f98-80f9-6d92e3cd7c83",
   "metadata": {},
   "outputs": [],
   "source": [
    "class jkm:\n",
    "    def show(self):\n",
    "        _str = self.html_str.format(\n",
    "            tt1 = self.title,\n",
    "            url = self.url,\n",
    "            Q = self.Q,\n",
    "            A = self.A,\n",
    "            h1 = self.h1 )\n",
    "        display(HTML(_str))"
   ]
  },
  {
   "cell_type": "code",
   "execution_count": 27,
   "id": "6d52b1c0-f296-4372-a036-51273268d841",
   "metadata": {},
   "outputs": [],
   "source": [
    "test  = jkm()"
   ]
  },
  {
   "cell_type": "code",
   "execution_count": 28,
   "id": "416d6f95-94f3-44d9-b80b-89a5c3e443b2",
   "metadata": {},
   "outputs": [],
   "source": [
    "test.title = \"중요한건 꺽이지 않는 마음\"\n",
    "\n",
    "test.url = \"https://github.com/guebin/PP2023/blob/main/posts/03_Class/JungGGuckMa.jpg?raw=true\"\n",
    "\n",
    "test.Q = \"Q: 로그와 2라운드 재대결, 어떤 점에 유의해야 할까\"\n",
    "\n",
    "test.A = \"A: 상대팀에 대해서 더 분석할 건 없는 것 같고, 저희가 저희 플레이 잘하는 게 제일 중요한 것 같고 오늘 지긴 했지만 저희끼리만 안 무너지면 충분히 이길 수 있을 것 같아요.\"\n",
    "\n",
    "test.h1 = \"마음\"\n",
    "\n",
    "test.html_str =  '''\n",
    "<style>\n",
    "    .title {{\n",
    "        font-family: \"Times New Roman\", serif;\n",
    "        font-size: 30px;\n",
    "        font-weight: 900;\n",
    "    }}\n",
    "    .text {{\n",
    "        font-family: \"Arial\", sans-serif;\n",
    "        font-size: 20px;\n",
    "        font-style: italic;\n",
    "    }}\n",
    "    .highlight {{\n",
    "        font-family: \"Montserrat\", monospace;\n",
    "        font-size: 35px;\n",
    "        font-weight: 900;\n",
    "        text-decoration: underline; ## 밑줄\n",
    "        font-style: normal;\n",
    "        color: darkblue;\n",
    "        background-color: #FFFF00;\n",
    "    }}\n",
    "</style>\n",
    "\n",
    "<p class=\"title\">{tt1}</p>\n",
    "<img src={url} width=\"600\">\n",
    "<p> \\n </p>\n",
    "<p class=\"text\"> {Q}</p>\n",
    "<p class=\"text\"> {A}: 상대팀에 대해서 더 분석할 건 없는 것 같고, 저희가 저희 플레이 잘하는 게 제일 중요한 것 같고 오늘 지긴 했지만 저희끼리만 안 무너지면 충분히 이길 수 있을 것 같아요.\n",
    "<p class=\"title\">중요한 것은 꺾이지 않는 <span class=\"highlight\"> {h1} </span></p>\n",
    "'''"
   ]
  },
  {
   "cell_type": "code",
   "execution_count": 29,
   "id": "769d4bd0-287c-4845-8bf5-aaa01c0ed54d",
   "metadata": {},
   "outputs": [
    {
     "data": {
      "text/html": [
       "\n",
       "<style>\n",
       "    .title {\n",
       "        font-family: \"Times New Roman\", serif;\n",
       "        font-size: 30px;\n",
       "        font-weight: 900;\n",
       "    }\n",
       "    .text {\n",
       "        font-family: \"Arial\", sans-serif;\n",
       "        font-size: 20px;\n",
       "        font-style: italic;\n",
       "    }\n",
       "    .highlight {\n",
       "        font-family: \"Montserrat\", monospace;\n",
       "        font-size: 35px;\n",
       "        font-weight: 900;\n",
       "        text-decoration: underline; ## 밑줄\n",
       "        font-style: normal;\n",
       "        color: darkblue;\n",
       "        background-color: #FFFF00;\n",
       "    }\n",
       "</style>\n",
       "\n",
       "<p class=\"title\">중요한건 꺽이지 않는 마음</p>\n",
       "<img src=https://github.com/guebin/PP2023/blob/main/posts/03_Class/JungGGuckMa.jpg?raw=true width=\"600\">\n",
       "<p> \n",
       " </p>\n",
       "<p class=\"text\"> Q: 로그와 2라운드 재대결, 어떤 점에 유의해야 할까</p>\n",
       "<p class=\"text\"> A: 상대팀에 대해서 더 분석할 건 없는 것 같고, 저희가 저희 플레이 잘하는 게 제일 중요한 것 같고 오늘 지긴 했지만 저희끼리만 안 무너지면 충분히 이길 수 있을 것 같아요.: 상대팀에 대해서 더 분석할 건 없는 것 같고, 저희가 저희 플레이 잘하는 게 제일 중요한 것 같고 오늘 지긴 했지만 저희끼리만 안 무너지면 충분히 이길 수 있을 것 같아요.\n",
       "<p class=\"title\">중요한 것은 꺾이지 않는 <span class=\"highlight\"> 마음 </span></p>\n"
      ],
      "text/plain": [
       "<IPython.core.display.HTML object>"
      ]
     },
     "metadata": {},
     "output_type": "display_data"
    }
   ],
   "source": [
    "test.show()"
   ]
  },
  {
   "cell_type": "markdown",
   "id": "eca9a425-0b23-4a88-8b9d-59d6f1bfd489",
   "metadata": {},
   "source": [
    "***"
   ]
  },
  {
   "cell_type": "markdown",
   "id": "dbc859c3-e7c3-406b-a9c0-c1f7e42f09a7",
   "metadata": {},
   "source": [
    "## init"
   ]
  },
  {
   "cell_type": "markdown",
   "id": "8aa90be2-562e-4310-aab2-6fb06ef5b09b",
   "metadata": {},
   "source": [
    "### 모티브"
   ]
  },
  {
   "cell_type": "markdown",
   "id": "e18ab776-3c86-4fa0-9563-a9ae5cd62320",
   "metadata": {},
   "source": [
    "`-` 인스턴스를 생성할 떄마다 변수를 선언하는 것이 귀찮음...."
   ]
  },
  {
   "cell_type": "markdown",
   "id": "1fcf8b13-39d8-4f5f-b4a8-389fe265cb08",
   "metadata": {},
   "source": [
    "`-` 초기값을 정의하는 함수 또한 클래스안에 정의해주자"
   ]
  },
  {
   "cell_type": "markdown",
   "id": "45d56bd3-fc16-4027-851a-16b1502a0403",
   "metadata": {},
   "source": [
    "### 뼈대 작성"
   ]
  },
  {
   "cell_type": "code",
   "execution_count": 31,
   "id": "c0d9cf34-4d6f-4348-8a44-bdf923e75441",
   "metadata": {},
   "outputs": [],
   "source": [
    "class jkm:\n",
    "    def __init__(self) :\n",
    "        self.title = \"중요한건 꺽이지 않는 마음\"\n",
    "\n",
    "        self.url = \"https://github.com/guebin/PP2023/blob/main/posts/03_Class/JungGGuckMa.jpg?raw=true\"\n",
    "\n",
    "        self.Q = \"Q: 로그와 2라운드 재대결, 어떤 점에 유의해야 할까\"\n",
    "\n",
    "        self.A = \"A: 상대팀에 대해서 더 분석할 건 없는 것 같고, 저희가 저희 플레이 잘하는 게 제일 중요한 것 같고 오늘 지긴 했지만 저희끼리만 안 무너지면 충분히 이길 수 있을 것 같아요.\"\n",
    "\n",
    "        self.h1 = \"마음\"\n",
    "\n",
    "        self.html_str =  '''\n",
    "                    <style>\n",
    "                        .title {{\n",
    "                            font-family: \"Times New Roman\", serif;\n",
    "                            font-size: 30px;\n",
    "                            font-weight: 900;\n",
    "                        }}\n",
    "                        .text {{\n",
    "                            font-family: \"Arial\", sans-serif;\n",
    "                            font-size: 20px;\n",
    "                            font-style: italic;\n",
    "                        }}\n",
    "                        .highlight {{\n",
    "                            font-family: \"Montserrat\", monospace;\n",
    "                            font-size: 35px;\n",
    "                            font-weight: 900;\n",
    "                            text-decoration: underline; ## 밑줄\n",
    "                            font-style: normal;\n",
    "                            color: darkblue;\n",
    "                            background-color: #FFFF00;\n",
    "                        }}\n",
    "                    </style>\n",
    "\n",
    "                    <p class=\"title\">{tt1}</p>\n",
    "                    <img src={url} width=\"600\">\n",
    "                    <p> \\n </p>\n",
    "                    <p class=\"text\"> {Q}</p>\n",
    "                    <p class=\"text\"> {A}: 상대팀에 대해서 더 분석할 건 없는 것 같고, 저희가 저희 플레이 잘하는 게 제일 중요한 것 같고 오늘 지긴 했지만 저희끼리만 안 무너지면 충분히 이길 수 있을 것 같아요.\n",
    "                    <p class=\"title\">중요한 것은 꺾이지 않는 <span class=\"highlight\"> {h1} </span></p>\n",
    "                    '''\n",
    "        \n",
    "    def show(self):\n",
    "        _str = self.html_str.format(\n",
    "            tt1 = self.title,\n",
    "            url = self.url,\n",
    "            Q = self.Q,\n",
    "            A = self.A,\n",
    "            h1 = self.h1 )\n",
    "        display(HTML(_str))"
   ]
  },
  {
   "cell_type": "code",
   "execution_count": 32,
   "id": "b9d66f11-8390-41f4-8d63-47eb5c7b1f7b",
   "metadata": {},
   "outputs": [],
   "source": [
    "test = jkm()"
   ]
  },
  {
   "cell_type": "markdown",
   "id": "5300c514-a0b0-4fa2-8767-d10f6d321734",
   "metadata": {},
   "source": [
    "### SHOW"
   ]
  },
  {
   "cell_type": "code",
   "execution_count": 35,
   "id": "0e723885-510a-4dc1-80df-9b3b51c70eb8",
   "metadata": {},
   "outputs": [
    {
     "data": {
      "text/html": [
       "\n",
       "                    <style>\n",
       "                        .title {\n",
       "                            font-family: \"Times New Roman\", serif;\n",
       "                            font-size: 30px;\n",
       "                            font-weight: 900;\n",
       "                        }\n",
       "                        .text {\n",
       "                            font-family: \"Arial\", sans-serif;\n",
       "                            font-size: 20px;\n",
       "                            font-style: italic;\n",
       "                        }\n",
       "                        .highlight {\n",
       "                            font-family: \"Montserrat\", monospace;\n",
       "                            font-size: 35px;\n",
       "                            font-weight: 900;\n",
       "                            text-decoration: underline; ## 밑줄\n",
       "                            font-style: normal;\n",
       "                            color: darkblue;\n",
       "                            background-color: #FFFF00;\n",
       "                        }\n",
       "                    </style>\n",
       "\n",
       "                    <p class=\"title\">중요한건 꺽이지 않는 마음</p>\n",
       "                    <img src=https://github.com/guebin/PP2023/blob/main/posts/03_Class/JungGGuckMa.jpg?raw=true width=\"600\">\n",
       "                    <p> \n",
       " </p>\n",
       "                    <p class=\"text\"> Q: 로그와 2라운드 재대결, 어떤 점에 유의해야 할까</p>\n",
       "                    <p class=\"text\"> A: 상대팀에 대해서 더 분석할 건 없는 것 같고, 저희가 저희 플레이 잘하는 게 제일 중요한 것 같고 오늘 지긴 했지만 저희끼리만 안 무너지면 충분히 이길 수 있을 것 같아요.: 상대팀에 대해서 더 분석할 건 없는 것 같고, 저희가 저희 플레이 잘하는 게 제일 중요한 것 같고 오늘 지긴 했지만 저희끼리만 안 무너지면 충분히 이길 수 있을 것 같아요.\n",
       "                    <p class=\"title\">중요한 것은 꺾이지 않는 <span class=\"highlight\"> 마음 </span></p>\n",
       "                    "
      ],
      "text/plain": [
       "<IPython.core.display.HTML object>"
      ]
     },
     "metadata": {},
     "output_type": "display_data"
    }
   ],
   "source": [
    "test.show()"
   ]
  },
  {
   "cell_type": "markdown",
   "id": "ba6f97e3-3de2-4fb8-a9c9-19a0bc02f221",
   "metadata": {},
   "source": [
    "***"
   ]
  },
  {
   "cell_type": "markdown",
   "id": "3b6d1a17-05c1-439d-86c7-756e20ac7998",
   "metadata": {},
   "source": [
    "# Excercise"
   ]
  },
  {
   "cell_type": "markdown",
   "id": "988de310-f1cd-4c38-869b-92d2b37059e6",
   "metadata": {},
   "source": [
    "## ex1.클래스 내에 hello라는 메소드를 정의하고 출력하라"
   ]
  },
  {
   "cell_type": "code",
   "execution_count": 36,
   "id": "73ebc935-5e6b-49ec-8406-578530931243",
   "metadata": {},
   "outputs": [],
   "source": [
    "class ex1 :\n",
    "    def hello(self):\n",
    "        print(\"안녕하세요\")\n",
    "        \n",
    "ex1 = ex1()"
   ]
  },
  {
   "cell_type": "code",
   "execution_count": 38,
   "id": "3ad42040-dae7-4f2f-b085-4c765da1cfa0",
   "metadata": {},
   "outputs": [
    {
     "name": "stdout",
     "output_type": "stream",
     "text": [
      "안녕하세요\n"
     ]
    }
   ],
   "source": [
    "ex1.hello()"
   ]
  },
  {
   "cell_type": "markdown",
   "id": "dfc233c4-b2de-4f60-8928-59fef0634a88",
   "metadata": {},
   "source": [
    "## ex2. 아래의 조건에 맞는 클래스를 구현"
   ]
  },
  {
   "cell_type": "markdown",
   "id": "4f4ced55-0d64-406b-b6f9-689835a08c36",
   "metadata": {},
   "source": [
    "`1` \"클래스 $\\to$ 인스턴스\"의 과정에서 변수 `a`가 `True`로 초기설정된다."
   ]
  },
  {
   "cell_type": "markdown",
   "id": "a3213fce-9883-42f9-8709-a64e81ec6b02",
   "metadata": {},
   "source": [
    "`2` 클래스에는 show()라는 메소드가 정의되어 있으며, show()의 기능은 a의 값을 print하는 기능을 한다."
   ]
  },
  {
   "cell_type": "code",
   "execution_count": 41,
   "id": "3fbfb1da-56ee-45b0-a2d6-c36f5395006f",
   "metadata": {},
   "outputs": [],
   "source": [
    "class ex2 :\n",
    "     def __init__(self) :\n",
    "            self.a = True\n",
    "     def show(self) :\n",
    "         print(self.a)"
   ]
  },
  {
   "cell_type": "code",
   "execution_count": 42,
   "id": "1ecbd278-4ddd-4d58-8ac4-6cd7e9ed796e",
   "metadata": {},
   "outputs": [],
   "source": [
    "ex2 = ex2()"
   ]
  },
  {
   "cell_type": "code",
   "execution_count": 43,
   "id": "d79def21-95fe-489e-9d0a-d5f260b5ab87",
   "metadata": {},
   "outputs": [
    {
     "name": "stdout",
     "output_type": "stream",
     "text": [
      "True\n"
     ]
    }
   ],
   "source": [
    "ex2.show()"
   ]
  },
  {
   "cell_type": "markdown",
   "id": "ee92d17a-6193-470d-81f4-0090be995e08",
   "metadata": {},
   "source": [
    "## ex3. 아래에 조건에 맞는 클래스를 구현하라."
   ]
  },
  {
   "cell_type": "markdown",
   "id": "73c0321b-3390-4349-933d-d8696c8ddced",
   "metadata": {},
   "source": [
    "`1` “클래스 $\\to$인스턴스”의 과정에서 변수 a가 True 로 초기설정된다."
   ]
  },
  {
   "cell_type": "markdown",
   "id": "8fd31244-b9f9-4e70-897c-1e1265a5657e",
   "metadata": {},
   "source": [
    "`2`. 클래스에는 toggle() 이라는 메소드가 정의되어 있다. 이 기능은 변수 a의 값이 True 이면 False 로, False 이면 True 로 바꾸는 역할을 한다."
   ]
  },
  {
   "cell_type": "markdown",
   "id": "dc6eca5a-677d-4b70-874a-b231562cc522",
   "metadata": {},
   "source": [
    "`3`. 클래스에는 show()라는 메소드가 정의되어 있다. 이 기능은 a의 값을 print 하는 기능을 한다."
   ]
  },
  {
   "cell_type": "code",
   "execution_count": 68,
   "id": "e2c15eb2-a567-44f9-a968-4bc9f823e469",
   "metadata": {},
   "outputs": [],
   "source": [
    "class ex3: \n",
    "    def __init__(self) :\n",
    "        self.a = True\n",
    "    def toggle(self):\n",
    "        self.a = not self.a\n",
    "    def show(self) :\n",
    "        print(self.a)"
   ]
  },
  {
   "cell_type": "code",
   "execution_count": 71,
   "id": "8be22f1e-c32c-47cb-a605-1870e32a8a06",
   "metadata": {},
   "outputs": [],
   "source": [
    "test = ex3()"
   ]
  },
  {
   "cell_type": "code",
   "execution_count": 72,
   "id": "7cbbe661-3f95-43bc-ae57-e8f4774880f4",
   "metadata": {},
   "outputs": [
    {
     "data": {
      "text/plain": [
       "True"
      ]
     },
     "execution_count": 72,
     "metadata": {},
     "output_type": "execute_result"
    }
   ],
   "source": [
    "test.a"
   ]
  },
  {
   "cell_type": "code",
   "execution_count": 74,
   "id": "802c76b4-cf7b-4320-92e7-b9beb8b33523",
   "metadata": {},
   "outputs": [],
   "source": [
    "test.toggle()"
   ]
  },
  {
   "cell_type": "code",
   "execution_count": 75,
   "id": "ab05c34f-53b0-4ee1-a116-4ec768b57705",
   "metadata": {},
   "outputs": [
    {
     "data": {
      "text/plain": [
       "False"
      ]
     },
     "execution_count": 75,
     "metadata": {},
     "output_type": "execute_result"
    }
   ],
   "source": [
    "test.a"
   ]
  },
  {
   "cell_type": "code",
   "execution_count": 76,
   "id": "4b0fe1ad-481f-4713-9cee-8673f2605ebc",
   "metadata": {},
   "outputs": [
    {
     "name": "stdout",
     "output_type": "stream",
     "text": [
      "False\n"
     ]
    }
   ],
   "source": [
    "test.show()"
   ]
  },
  {
   "cell_type": "markdown",
   "id": "3651c590-8f5d-4488-90bb-d73f211957d6",
   "metadata": {},
   "source": [
    "## ex4. 아래 조건에 맞는 클래스를 구현"
   ]
  },
  {
   "cell_type": "markdown",
   "id": "85a4ff30-aaf1-488b-9f56-b6bd4a795c83",
   "metadata": {},
   "source": [
    "`1` \"클래스 $\\to$ 인스턴스\"의 과정에서 변수 a가 0으로 초기설정된다. "
   ]
  },
  {
   "cell_type": "markdown",
   "id": "291baef1-a0d4-4a40-86a7-a31ecd4e160b",
   "metadata": {},
   "source": [
    "`2` 클래스에는 `up()`이라는 메소드가 정의되어 있따. `up()`의 기능은 a의 값을 1증가 시키는 기능을 한다."
   ]
  },
  {
   "cell_type": "markdown",
   "id": "dcea6681-785c-42d7-a339-96338be5f47e",
   "metadata": {},
   "source": [
    "`3` 클래스에는 `show()`라는 메소드가 정의되어 있다. `show()`의 기능은 a의값을 print하다."
   ]
  },
  {
   "cell_type": "code",
   "execution_count": 110,
   "id": "4817e010-0d7c-4b18-96f6-a563d9253b25",
   "metadata": {},
   "outputs": [],
   "source": [
    "class ex4: \n",
    "    def __init__(self) :\n",
    "        self.a = 1\n",
    "    def up(self):\n",
    "        self.a += 1\n",
    "    def show(self) :\n",
    "        print(self.a)"
   ]
  },
  {
   "cell_type": "code",
   "execution_count": 111,
   "id": "4b9911fd-90c2-4e2a-a9d9-e8cee532b8a3",
   "metadata": {},
   "outputs": [],
   "source": [
    "ex4 = ex4()"
   ]
  },
  {
   "cell_type": "code",
   "execution_count": 112,
   "id": "7cadd1f6-cba7-41eb-b68a-3fbbcd66f1d7",
   "metadata": {},
   "outputs": [],
   "source": [
    "ex4.up()"
   ]
  },
  {
   "cell_type": "code",
   "execution_count": 113,
   "id": "b2260d1b-5f0f-44be-afc7-c26c83b52e76",
   "metadata": {},
   "outputs": [
    {
     "data": {
      "text/plain": [
       "2"
      ]
     },
     "execution_count": 113,
     "metadata": {},
     "output_type": "execute_result"
    }
   ],
   "source": [
    "ex4.a"
   ]
  },
  {
   "cell_type": "code",
   "execution_count": 86,
   "id": "d39ccdc0-600a-4d5c-a0f1-1c5d3b455081",
   "metadata": {},
   "outputs": [
    {
     "name": "stdout",
     "output_type": "stream",
     "text": [
      "1\n"
     ]
    }
   ],
   "source": [
    "ex4.show()"
   ]
  },
  {
   "cell_type": "markdown",
   "id": "31fd7e43-d7d0-4d43-be16-213865582b66",
   "metadata": {},
   "source": [
    "## ex5. 아래 조건에 맞는 클래스를 구현하라."
   ]
  },
  {
   "cell_type": "markdown",
   "id": "df94baa7-0683-4bcf-9ef7-04d30206bce4",
   "metadata": {},
   "source": [
    "`1` 클래스 $\\to$ 인스턴스\" 과정에서 변수 a의 값이 사용자가 입력한 값으로 초기 설정된다."
   ]
  },
  {
   "cell_type": "markdown",
   "id": "ac81a99d-7a90-4049-a842-b82ed551617e",
   "metadata": {},
   "source": [
    "`2` 클래스에는 `show()`라는 메소드가 정의되어 있다. `show()`의 기능은 a의 값을 print한다."
   ]
  },
  {
   "cell_type": "code",
   "execution_count": 87,
   "id": "4cd3ef87-50c1-4782-a2b7-958103819d7b",
   "metadata": {},
   "outputs": [],
   "source": [
    "class ex5 :\n",
    "    def __init__(self,value):\n",
    "         self.a = value\n",
    "    def show(self) :\n",
    "         print(self.a)"
   ]
  },
  {
   "cell_type": "code",
   "execution_count": 89,
   "id": "ac4ec795-bd12-4b24-a4f3-9a791e16e5c3",
   "metadata": {},
   "outputs": [],
   "source": [
    "ex5 = ex5(1)"
   ]
  },
  {
   "cell_type": "code",
   "execution_count": 90,
   "id": "f424648e-f0ff-4b08-974c-3d9d65875312",
   "metadata": {},
   "outputs": [
    {
     "name": "stdout",
     "output_type": "stream",
     "text": [
      "1\n"
     ]
    }
   ],
   "source": [
    "ex5.show()"
   ]
  },
  {
   "cell_type": "markdown",
   "id": "13fa7baa-a9d0-469f-86c4-e594ed4897e1",
   "metadata": {},
   "source": [
    "## ex6. 다음 조건을 만족하는 클래스를 구현하라."
   ]
  },
  {
   "cell_type": "markdown",
   "id": "ed6ed027-4415-4ed4-9e5f-559e5fb199d7",
   "metadata": {},
   "source": [
    "1. “클래스 인스턴스”의 과정에서 변수 a가 0으로 초기설정된다.\n",
    "\n",
    "2. 클래스에는 up()라는 메소드가 정의되어 있다. up()의 기능은 a의 값을 1증가시키는 기능을 한다.\n",
    "\n",
    "3. 클래스에는 jump()라는 메소드가 정의되어 있다. jump()는 jump_size 를 입력으로 받으며 a의 값을 jump_size 만큼 증가시키는 기능을 한다.\n",
    "\n",
    "4. 클래스에는 show()라는 메소드가 정의되어 있다. show()의 기능은 a의 값을 print 하는 기능을 한다."
   ]
  },
  {
   "cell_type": "code",
   "execution_count": 127,
   "id": "d5877e3f-b431-42bd-92d4-8b4430062ba0",
   "metadata": {},
   "outputs": [],
   "source": [
    "class ex6:\n",
    "    def __init__(self):\n",
    "        self.a = 0\n",
    "    def up(self):\n",
    "        self.a += 1\n",
    "    def jump(self,js) :\n",
    "        self.a += js\n",
    "    def show(self) :\n",
    "        print(self.a)"
   ]
  },
  {
   "cell_type": "code",
   "execution_count": 128,
   "id": "daf7586b-cd8f-4eb1-80a7-09eb5c328f07",
   "metadata": {},
   "outputs": [],
   "source": [
    "ex6 = ex6()"
   ]
  },
  {
   "cell_type": "code",
   "execution_count": 129,
   "id": "07c034ef-29a7-40a5-b7c8-7e09d14d0684",
   "metadata": {},
   "outputs": [],
   "source": [
    "ex6.up()"
   ]
  },
  {
   "cell_type": "code",
   "execution_count": 130,
   "id": "a7d3d8f8-78d7-4d37-b461-e0caa0a452ac",
   "metadata": {},
   "outputs": [
    {
     "data": {
      "text/plain": [
       "1"
      ]
     },
     "execution_count": 130,
     "metadata": {},
     "output_type": "execute_result"
    }
   ],
   "source": [
    "ex6.a"
   ]
  },
  {
   "cell_type": "code",
   "execution_count": 131,
   "id": "26654f0b-1f63-46cf-a8ef-17c7ec964853",
   "metadata": {},
   "outputs": [],
   "source": [
    "ex6.jump(100)"
   ]
  },
  {
   "cell_type": "code",
   "execution_count": 132,
   "id": "b0423a21-7f63-48d9-8039-2bf57e92ffaa",
   "metadata": {},
   "outputs": [
    {
     "data": {
      "text/plain": [
       "101"
      ]
     },
     "execution_count": 132,
     "metadata": {},
     "output_type": "execute_result"
    }
   ],
   "source": [
    "ex6.a"
   ]
  },
  {
   "cell_type": "code",
   "execution_count": 133,
   "id": "bbf5aa1b-e42f-449d-ac24-df59cd58b5b7",
   "metadata": {},
   "outputs": [
    {
     "name": "stdout",
     "output_type": "stream",
     "text": [
      "101\n"
     ]
    }
   ],
   "source": [
    "ex6.show()"
   ]
  },
  {
   "cell_type": "markdown",
   "id": "8bf2f912-1b9a-4f63-9127-6768ff07bf83",
   "metadata": {},
   "source": [
    "## ex7. 아래 조건에 맞는 클래스를 구현"
   ]
  },
  {
   "cell_type": "markdown",
   "id": "bc2f5dd4-b83f-4a0c-bea3-f2d3e1cf556e",
   "metadata": {},
   "source": [
    "1. “클래스 인스턴스”의 과정에서 변수 a가 0으로 초기설정된다.\n",
    "\n",
    "2. 클래스에는 up()라는 메소드가 정의되어 있다. up()의 기능은 a의 값을 1증가시키는 기능을 한다.\n",
    "\n",
    "3. 클래스에는 jump()라는 메소드가 정의되어 있다. jump()는 jump_size 를 입력으로 받으며 a의 값을 jump_size 만큼 증가시키는 기능을 한다.\n",
    "\n",
    "4. 클래스에는 reset()이라는 메소드가 정의되어 있다. reset()는 a의 값을 0으로 초기화하는 역할을 한다.\n",
    "\n",
    "5. 클래스에는 show()라는 메소드가 정의되어 있다. show()의 기능은 a의 값을 print 하는 기능을 한다."
   ]
  },
  {
   "cell_type": "code",
   "execution_count": 134,
   "id": "290eb6d3-90d7-423e-9fe9-6607f66ac452",
   "metadata": {},
   "outputs": [],
   "source": [
    "class ex7:\n",
    "    def __init__(self):\n",
    "        self.a = 0\n",
    "    def up(self):\n",
    "        self.a += 1\n",
    "    def jump(self,js) :\n",
    "        self.a += js\n",
    "    def reset(self) :\n",
    "        self.a = 0\n",
    "    def show(self) :\n",
    "        print(self.a)"
   ]
  },
  {
   "cell_type": "code",
   "execution_count": 135,
   "id": "0310c15a-89c8-4b18-a330-9e8eaa3ac636",
   "metadata": {},
   "outputs": [],
   "source": [
    "ex7 = ex7()"
   ]
  },
  {
   "cell_type": "code",
   "execution_count": 136,
   "id": "ebacaa52-be58-4d6d-a6c8-06ef899b8090",
   "metadata": {},
   "outputs": [],
   "source": [
    "ex7.up()"
   ]
  },
  {
   "cell_type": "code",
   "execution_count": 137,
   "id": "133fa098-920e-414d-b592-4800ebe64567",
   "metadata": {},
   "outputs": [
    {
     "data": {
      "text/plain": [
       "1"
      ]
     },
     "execution_count": 137,
     "metadata": {},
     "output_type": "execute_result"
    }
   ],
   "source": [
    "ex7.a"
   ]
  },
  {
   "cell_type": "code",
   "execution_count": 138,
   "id": "075ace0b-c880-4032-904e-c8f149ca1593",
   "metadata": {},
   "outputs": [],
   "source": [
    "ex7.reset()"
   ]
  },
  {
   "cell_type": "code",
   "execution_count": 139,
   "id": "be211db4-94df-4042-a713-ee73702e0dea",
   "metadata": {},
   "outputs": [
    {
     "data": {
      "text/plain": [
       "0"
      ]
     },
     "execution_count": 139,
     "metadata": {},
     "output_type": "execute_result"
    }
   ],
   "source": [
    "ex7.a"
   ]
  },
  {
   "cell_type": "markdown",
   "id": "236b320f-22e4-410d-b30e-183c29aee0db",
   "metadata": {},
   "source": [
    "## ex8. 이미지 출력"
   ]
  },
  {
   "cell_type": "code",
   "execution_count": 140,
   "id": "e1556556-78a7-4898-9e51-a40bae96fce8",
   "metadata": {},
   "outputs": [
    {
     "data": {
      "text/html": [
       "<img src=https://github.com/guebin/PP2023/blob/main/posts/03_Class/burgerking.png?raw=true width=\"600\">"
      ],
      "text/plain": [
       "<IPython.core.display.HTML object>"
      ]
     },
     "metadata": {},
     "output_type": "display_data"
    }
   ],
   "source": [
    "url = 'https://github.com/guebin/PP2023/blob/main/posts/03_Class/burgerking.png?raw=true'\n",
    "html_str = '<img src={url} width=\"600\">'.format(url=url)\n",
    "display(HTML(html_str))"
   ]
  },
  {
   "cell_type": "markdown",
   "id": "cc4f667a-c54e-4246-abfa-630547d3d247",
   "metadata": {},
   "source": [
    "1. “클래스 $\\to$ 인스턴스”의 과정에서 변수 url이 위에서 제시된 값으로 초기화된다.\n",
    "\n",
    "\n",
    "2. 클래스에는 show()라는 함수가 있어서 url에 해당하는 이미지를 출력해주는 기능을 가진다."
   ]
  },
  {
   "cell_type": "code",
   "execution_count": 142,
   "id": "cc2d42ca-c49a-4e1f-99d3-f4c74920a420",
   "metadata": {},
   "outputs": [],
   "source": [
    "class ex8:\n",
    "    def __init_(self) :\n",
    "        self.url = 'https://github.com/guebin/PP2023/blob/main/posts/03_Class/burgerking.png?raw=true'\n",
    "    def show(self):\n",
    "        self.html_str = '<img src={url} width=\"600\">'.format(url=url)\n",
    "        display(HTML(self.html_str))"
   ]
  },
  {
   "cell_type": "code",
   "execution_count": 143,
   "id": "2d4e056c-1c49-4c6a-81af-867657691233",
   "metadata": {},
   "outputs": [],
   "source": [
    "ex8= ex8()"
   ]
  },
  {
   "cell_type": "code",
   "execution_count": 144,
   "id": "76e650ad-988d-4969-ab24-f7eaf7fe0faf",
   "metadata": {},
   "outputs": [
    {
     "data": {
      "text/html": [
       "<img src=https://github.com/guebin/PP2023/blob/main/posts/03_Class/burgerking.png?raw=true width=\"600\">"
      ],
      "text/plain": [
       "<IPython.core.display.HTML object>"
      ]
     },
     "metadata": {},
     "output_type": "display_data"
    }
   ],
   "source": [
    "ex8.show()"
   ]
  },
  {
   "cell_type": "markdown",
   "id": "8fa10cd9-db7a-4c13-9bd6-0c29d3c5ecc1",
   "metadata": {},
   "source": [
    "## ex9. 이미지 출력 + 횟수기록"
   ]
  },
  {
   "cell_type": "markdown",
   "id": "90267301-ceff-4253-90eb-8615e27fe6f8",
   "metadata": {},
   "source": [
    "1. “클래스 $\\to$인스턴스”의 과정에서 변수 url이 위에서 제시된 값으로 초기화된다.\n",
    "\n",
    "2. 클래스에는 show()라는 함수가 있어서 (1) url에 해당하는 이미지를 출력하고 (2) “당신은 이 그림을 $n$번 보았습니다” 를 출력하는 기능을 한다. 여기에서 $n$은 그림을 본 횟수"
   ]
  },
  {
   "cell_type": "code",
   "execution_count": 219,
   "id": "9f6c7a00-c28c-400e-ad06-239fda0696a7",
   "metadata": {},
   "outputs": [],
   "source": [
    "class ex9:\n",
    "    def __init__(self) :\n",
    "        self.n = 0\n",
    "        self.url = 'https://github.com/guebin/PP2023/blob/main/posts/03_Class/burgerking.png?raw=true'\n",
    "    def show(self):\n",
    "        self.html_str = '<img src={url} width=\"600\">'.format(url=self.url)\n",
    "        display(HTML(self.html_str))\n",
    "        self.n += 1\n",
    "        print(\"당신은 이 그림을 {}번 보았습니다.\".format(self.n))"
   ]
  },
  {
   "cell_type": "code",
   "execution_count": 176,
   "id": "d79b2484-e019-48a1-804c-4faa7a29df99",
   "metadata": {},
   "outputs": [],
   "source": [
    "ex9 = ex9()"
   ]
  },
  {
   "cell_type": "code",
   "execution_count": 177,
   "id": "47c076b4-560e-4e86-bff1-53fa13df5bfc",
   "metadata": {},
   "outputs": [
    {
     "data": {
      "text/html": [
       "<img src=https://github.com/guebin/PP2023/blob/main/posts/03_Class/burgerking.png?raw=true width=\"600\">"
      ],
      "text/plain": [
       "<IPython.core.display.HTML object>"
      ]
     },
     "metadata": {},
     "output_type": "display_data"
    },
    {
     "name": "stdout",
     "output_type": "stream",
     "text": [
      "당신은 이 그림을 1번 보았습니다.\n"
     ]
    }
   ],
   "source": [
    "ex9.show()"
   ]
  },
  {
   "cell_type": "markdown",
   "id": "e746149b-34fd-49fa-b165-fa10935b476f",
   "metadata": {},
   "source": [
    "## ex10. 예제 9에서 만든 클래스를 이용하여 아래의 url에 해당하는 이미지를 출려가하라."
   ]
  },
  {
   "cell_type": "code",
   "execution_count": 220,
   "id": "05c542b1-de42-4959-b5fd-9b14a9a71a30",
   "metadata": {},
   "outputs": [],
   "source": [
    "i1 =  ex9()\n",
    "i2 =  ex9()"
   ]
  },
  {
   "cell_type": "code",
   "execution_count": 221,
   "id": "977d22f5-961c-4f31-9a2d-2271d103efa7",
   "metadata": {},
   "outputs": [],
   "source": [
    "i2.url = \"https://github.com/guebin/PP2023/blob/main/posts/03_Class/JungGGuckMa.jpg?raw=true\""
   ]
  },
  {
   "cell_type": "code",
   "execution_count": 222,
   "id": "a8a29e53-7735-475b-86a3-3121a3f96085",
   "metadata": {},
   "outputs": [
    {
     "data": {
      "text/html": [
       "<img src=https://github.com/guebin/PP2023/blob/main/posts/03_Class/burgerking.png?raw=true width=\"600\">"
      ],
      "text/plain": [
       "<IPython.core.display.HTML object>"
      ]
     },
     "metadata": {},
     "output_type": "display_data"
    },
    {
     "name": "stdout",
     "output_type": "stream",
     "text": [
      "당신은 이 그림을 1번 보았습니다.\n"
     ]
    }
   ],
   "source": [
    "i1.show()"
   ]
  },
  {
   "cell_type": "code",
   "execution_count": 223,
   "id": "708b5b1b-a208-4a5d-bce2-2b05295c031b",
   "metadata": {},
   "outputs": [
    {
     "data": {
      "text/html": [
       "<img src=https://github.com/guebin/PP2023/blob/main/posts/03_Class/JungGGuckMa.jpg?raw=true width=\"600\">"
      ],
      "text/plain": [
       "<IPython.core.display.HTML object>"
      ]
     },
     "metadata": {},
     "output_type": "display_data"
    },
    {
     "name": "stdout",
     "output_type": "stream",
     "text": [
      "당신은 이 그림을 1번 보았습니다.\n"
     ]
    }
   ],
   "source": [
    "i2.show()"
   ]
  },
  {
   "cell_type": "markdown",
   "id": "1afd592c-694f-4e4f-b8c4-c0647c76fcd8",
   "metadata": {},
   "source": [
    "## ex11."
   ]
  }
 ],
 "metadata": {
  "kernelspec": {
   "display_name": "Python 3 (ipykernel)",
   "language": "python",
   "name": "python3"
  },
  "language_info": {
   "codemirror_mode": {
    "name": "ipython",
    "version": 3
   },
   "file_extension": ".py",
   "mimetype": "text/x-python",
   "name": "python",
   "nbconvert_exporter": "python",
   "pygments_lexer": "ipython3",
   "version": "3.11.4"
  }
 },
 "nbformat": 4,
 "nbformat_minor": 5
}
