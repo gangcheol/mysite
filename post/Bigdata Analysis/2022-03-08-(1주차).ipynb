{
 "cells": [
  {
   "cell_type": "raw",
   "id": "bf0fdee4",
   "metadata": {},
   "source": [
    "---\n",
    "title : \"01. 단순선형회귀\"\n",
    "author : \"GANGCHEOL LEE\"\n",
    "date : \"03/08/22\"\n",
    "categories : [python] \n",
    "---"
   ]
  },
  {
   "cell_type": "markdown",
   "id": "5fa6d496-7324-4086-94bc-242b2c6cbefd",
   "metadata": {
    "id": "5fa6d496-7324-4086-94bc-242b2c6cbefd"
   },
   "source": [
    "# 단순선형회귀"
   ]
  },
  {
   "cell_type": "markdown",
   "id": "34c967bd-cce8-4164-8908-5c4b6c23b60e",
   "metadata": {
    "id": "34c967bd-cce8-4164-8908-5c4b6c23b60e"
   },
   "source": [
    "# 로드맵 "
   ]
  },
  {
   "cell_type": "markdown",
   "id": "7137a3a0-a17a-49b0-bea8-618d6d4e732a",
   "metadata": {
    "id": "7137a3a0-a17a-49b0-bea8-618d6d4e732a"
   },
   "source": [
    "`-` 오늘수업할내용: 단순선형회귀 "
   ]
  },
  {
   "cell_type": "markdown",
   "id": "ff90e133-c4d3-412d-8eb5-fa4171803798",
   "metadata": {
    "id": "ff90e133-c4d3-412d-8eb5-fa4171803798"
   },
   "source": [
    "`-` 단순선형회귀를 배우는 이유? \n",
    "\n",
    "- 우리가 배우고싶은것: 심층신경망(DNN) $\\to$ 합성곱신경망(CNN) $\\to$ 적대적생성신경망(GAN) \n",
    "- 심층신경망을 바로 이해하기 어려움 \n",
    "- 다음의 과정으로 이해해야함: 선형대수학 $\\to$ 회귀분석 $\\to$ 로지스틱회귀분석 $\\to$ 심층신경망 "
   ]
  },
  {
   "cell_type": "markdown",
   "id": "64e251b7-6161-4860-81c4-468603f22408",
   "metadata": {
    "id": "64e251b7-6161-4860-81c4-468603f22408"
   },
   "source": [
    "# 선형회귀 "
   ]
  },
  {
   "cell_type": "markdown",
   "id": "94bb713c-8578-4a7e-870d-5768a0676705",
   "metadata": {
    "id": "94bb713c-8578-4a7e-870d-5768a0676705"
   },
   "source": [
    "`-` 상황극\n",
    "- 날이 더울수록 아이스아메리카노의 판매량이 증가함\n",
    "- 이를 바탕으로 일기예보의 온도자료를 이용하여 다음과 같은 수식을 이용해 아이스아메리카노의 판매량을 예측할 수 있음"
   ]
  },
  {
   "cell_type": "markdown",
   "id": "e8862aa5",
   "metadata": {
    "id": "e8862aa5"
   },
   "source": [
    "$$아이스아메리카노 =  \\beta_1 \\times 온도 + \\epsilon$$"
   ]
  },
  {
   "cell_type": "markdown",
   "id": "67e85f59-bc4c-49cc-80e7-6d10d92fd485",
   "metadata": {
    "id": "67e85f59-bc4c-49cc-80e7-6d10d92fd485"
   },
   "source": [
    "`-` 가짜자료 생성 "
   ]
  },
  {
   "cell_type": "code",
   "execution_count": null,
   "id": "2a1f6fff-f26b-4dbc-9dae-599c0640058c",
   "metadata": {
    "id": "2a1f6fff-f26b-4dbc-9dae-599c0640058c"
   },
   "outputs": [],
   "source": [
    "#collapse-hide\n",
    "import matplotlib.pyplot as plt \n",
    "import tensorflow as tf "
   ]
  },
  {
   "cell_type": "markdown",
   "id": "c647b602-ff89-4f2e-8a1e-18b110de0eab",
   "metadata": {
    "id": "c647b602-ff89-4f2e-8a1e-18b110de0eab"
   },
   "source": [
    "온도 ${\\bf x}$가 아래와 같다고 하자.(tf.constant 함수를 이용하여 상수 텐서를 생성)"
   ]
  },
  {
   "cell_type": "code",
   "execution_count": null,
   "id": "e6a92bfe-5c6d-4ced-b742-ecd5fe175504",
   "metadata": {
    "id": "e6a92bfe-5c6d-4ced-b742-ecd5fe175504",
    "outputId": "489c9615-8e30-4422-965a-1ce69185ada2"
   },
   "outputs": [
    {
     "data": {
      "text/plain": [
       "<tf.Tensor: shape=(10,), dtype=float32, numpy=\n",
       "array([20.1, 22.2, 22.7, 23.3, 24.4, 25.1, 26.2, 27.3, 28.4, 30.4],\n",
       "      dtype=float32)>"
      ]
     },
     "execution_count": 7,
     "metadata": {},
     "output_type": "execute_result"
    }
   ],
   "source": [
    "#collapse-hide\n",
    "x=tf.constant([20.1, 22.2, 22.7, 23.3, 24.4, 25.1, 26.2, 27.3, 28.4, 30.4]) # 기온 \n",
    "x"
   ]
  },
  {
   "cell_type": "markdown",
   "id": "0bd40a8c-825e-4505-90d5-cd4e86cbc96d",
   "metadata": {
    "id": "0bd40a8c-825e-4505-90d5-cd4e86cbc96d"
   },
   "source": [
    "아이스아메리카노의 판매량 ${\\bf y}$이 아래와 같다고 하자. (판매량은 정수로 나오겠지만 편의상 소수점도 가능하다고 생각하자) "
   ]
  },
  {
   "cell_type": "markdown",
   "id": "3604e4d7-d44a-440d-9d92-6a74a393a278",
   "metadata": {
    "id": "3604e4d7-d44a-440d-9d92-6a74a393a278"
   },
   "source": [
    "$${\\bf y} \\approx 10.2 +2.2 {\\bf x}$$ "
   ]
  },
  {
   "cell_type": "markdown",
   "id": "2c428e6b-12a5-4623-8a6f-1f06cd10a19b",
   "metadata": {
    "id": "2c428e6b-12a5-4623-8a6f-1f06cd10a19b"
   },
   "source": [
    "- 여기에서 10.2, 2.2 의 숫자는 임의로 정한 $\\beta_0,\\, \\beta_1$\n",
    "- 식의의미: 온도가 0일때 10.2잔정도 팔림 + 온도가 1도 증가하면 2.2잔정도 더 팔림"
   ]
  },
  {
   "cell_type": "code",
   "execution_count": null,
   "id": "f8481aed-e5a1-48b7-8145-1b8569b27bf6",
   "metadata": {
    "id": "f8481aed-e5a1-48b7-8145-1b8569b27bf6",
    "outputId": "6580451d-0c4f-44ff-f208-d6699bf5ced4"
   },
   "outputs": [
    {
     "data": {
      "text/plain": [
       "<tf.Tensor: shape=(10,), dtype=float32, numpy=\n",
       "array([55.418365, 58.194283, 61.230827, 62.312557, 63.107002, 63.69569 ,\n",
       "       67.247055, 71.4365  , 73.1013  , 77.84988 ], dtype=float32)>"
      ]
     },
     "execution_count": 8,
     "metadata": {},
     "output_type": "execute_result"
    }
   ],
   "source": [
    "#collapse-hide\n",
    "tf.random.set_seed(43052)\n",
    "epsilon=tf.random.normal([10]) ## 오차항 생성\n",
    "y=10.2 + 2.2*x + epsilon\n",
    "y"
   ]
  },
  {
   "cell_type": "markdown",
   "id": "e5661d66-ba58-4492-babe-36be6e7cba88",
   "metadata": {
    "id": "e5661d66-ba58-4492-babe-36be6e7cba88"
   },
   "source": [
    "`-` 우리는 아래와 같은 자료를 모았다고 생각하자.  "
   ]
  },
  {
   "cell_type": "markdown",
   "id": "1d5e795a",
   "metadata": {
    "id": "1d5e795a"
   },
   "source": [
    "`-` tensorflow 문법에 관한 내용은 이후 수업에서 다루니 크게 신경쓰지 말자"
   ]
  },
  {
   "cell_type": "code",
   "execution_count": null,
   "id": "2f9d8728-6eaf-4ddc-a4e6-2136b1d2ba6a",
   "metadata": {
    "id": "2f9d8728-6eaf-4ddc-a4e6-2136b1d2ba6a",
    "outputId": "65a22f27-9562-4b02-afff-38c895a8f63e"
   },
   "outputs": [
    {
     "data": {
      "text/plain": [
       "<tf.Tensor: shape=(10, 2), dtype=float32, numpy=\n",
       "array([[20.1     , 55.418365],\n",
       "       [22.2     , 58.194283],\n",
       "       [22.7     , 61.230827],\n",
       "       [23.3     , 62.312557],\n",
       "       [24.4     , 63.107002],\n",
       "       [25.1     , 63.69569 ],\n",
       "       [26.2     , 67.247055],\n",
       "       [27.3     , 71.4365  ],\n",
       "       [28.4     , 73.1013  ],\n",
       "       [30.4     , 77.84988 ]], dtype=float32)>"
      ]
     },
     "execution_count": 9,
     "metadata": {},
     "output_type": "execute_result"
    }
   ],
   "source": [
    "#collapse-hide\n",
    "tf.transpose(tf.concat([[x],[y]],0))"
   ]
  },
  {
   "cell_type": "markdown",
   "id": "638934ab-ab99-49b2-88f4-d08e6b56fc27",
   "metadata": {
    "id": "638934ab-ab99-49b2-88f4-d08e6b56fc27"
   },
   "source": [
    "`-` 그려보자. "
   ]
  },
  {
   "cell_type": "code",
   "execution_count": null,
   "id": "6999c6d1-89a7-4fa8-ab46-c4bfcbc6f26b",
   "metadata": {
    "id": "6999c6d1-89a7-4fa8-ab46-c4bfcbc6f26b",
    "outputId": "9b92cc14-f52d-4d2b-c83e-0e9c625b298a"
   },
   "outputs": [
    {
     "data": {
      "text/plain": [
       "[<matplotlib.lines.Line2D at 0x2e12f41df70>]"
      ]
     },
     "execution_count": 45,
     "metadata": {},
     "output_type": "execute_result"
    },
    {
     "data": {
      "image/png": "[encoded data removed]",
      "text/plain": [
       "<Figure size 864x432 with 1 Axes>"
      ]
     },
     "metadata": {
      "needs_background": "light"
     },
     "output_type": "display_data"
    }
   ],
   "source": [
    "#collapse-hide\n",
    "plt.figure(figsize=(12,6))\n",
    "plt.plot(x,y,'.') # 파란점, 관측한 데이터 \n",
    "plt.plot(x,10.2 + 2.2*x, '--')  # 주황색점선, 세상의 법칙 "
   ]
  },
  {
   "cell_type": "markdown",
   "id": "1a5e0647-d73b-4fda-a0fd-0ff2f88358d7",
   "metadata": {
    "id": "1a5e0647-d73b-4fda-a0fd-0ff2f88358d7"
   },
   "source": [
    "`-` 우리의 목표: 파란색점(관측값)에 기반하여 온도에 따른 아이스크림 판매량에 대한 일반화 식을 만드는 것"
   ]
  },
  {
   "cell_type": "markdown",
   "id": "118e9b86-86fc-4f42-8c4f-525b6922062d",
   "metadata": {
    "id": "118e9b86-86fc-4f42-8c4f-525b6922062d"
   },
   "source": [
    "`-` 아이디어: 데이터를 보니까 $x$와 $y$가 선형의 관계에 있는듯 보인다. 즉 모든 $i=1,2,\\dots, 10$에 대하여 아래를 만족하는 적당한  $\\beta_0,\\beta_1$가 존재할것 같다. "
   ]
  },
  {
   "cell_type": "markdown",
   "id": "5d6ce0f3",
   "metadata": {
    "id": "5d6ce0f3"
   },
   "source": [
    "$$y_{i} \\approx \\beta_1 x_{i}+\\beta_0$$"
   ]
  },
  {
   "cell_type": "markdown",
   "id": "d32d075d-90ab-4e47-9c72-606ff7e49920",
   "metadata": {
    "id": "d32d075d-90ab-4e47-9c72-606ff7e49920"
   },
   "source": [
    "`-` 어림짐작으로 $\\beta_0,\\beta_1$를 알아내보자. "
   ]
  },
  {
   "cell_type": "markdown",
   "id": "b3805e1a-444a-4532-b7c9-820738625345",
   "metadata": {
    "id": "b3805e1a-444a-4532-b7c9-820738625345"
   },
   "source": [
    "데이터를 살펴보자. "
   ]
  },
  {
   "cell_type": "code",
   "execution_count": null,
   "id": "19f40b1e-ee50-4403-8f17-0c70e2ac0dc6",
   "metadata": {
    "id": "19f40b1e-ee50-4403-8f17-0c70e2ac0dc6",
    "outputId": "518d1396-d919-4d12-e920-8d2365911933"
   },
   "outputs": [
    {
     "data": {
      "text/plain": [
       "<tf.Tensor: shape=(10, 2), dtype=float32, numpy=\n",
       "array([[20.1     , 55.418365],\n",
       "       [22.2     , 58.194283],\n",
       "       [22.7     , 61.230827],\n",
       "       [23.3     , 62.312557],\n",
       "       [24.4     , 63.107002],\n",
       "       [25.1     , 63.69569 ],\n",
       "       [26.2     , 67.247055],\n",
       "       [27.3     , 71.4365  ],\n",
       "       [28.4     , 73.1013  ],\n",
       "       [30.4     , 77.84988 ]], dtype=float32)>"
      ]
     },
     "execution_count": 11,
     "metadata": {},
     "output_type": "execute_result"
    }
   ],
   "source": [
    "#collapse-hide\n",
    "tf.transpose(tf.concat([[x],[y]],0))"
   ]
  },
  {
   "cell_type": "markdown",
   "id": "fa725559-3d2a-4d7a-a5f8-e64e8ede476f",
   "metadata": {
    "id": "fa725559-3d2a-4d7a-a5f8-e64e8ede476f"
   },
   "source": [
    "적당히 `왼쪽*2+15 = 오른쪽`의 관계가 성립하는것 같다. "
   ]
  },
  {
   "cell_type": "markdown",
   "id": "b2fc9a0f-d604-4953-9440-6dc6c030e8ff",
   "metadata": {
    "id": "b2fc9a0f-d604-4953-9440-6dc6c030e8ff"
   },
   "source": [
    "따라서  $\\beta_0=15, \\beta_1=2$ 로 추론할 수 있겠다. "
   ]
  },
  {
   "cell_type": "markdown",
   "id": "6ede2903-5039-4180-912e-122612e63902",
   "metadata": {
    "id": "6ede2903-5039-4180-912e-122612e63902"
   },
   "source": [
    "`-` 누군가가 $(\\beta_0,\\beta_1)=(14,2)$ 이라고 주장할 수 있다. (어차피 지금은 감각으로 추론하는 과정이니까) "
   ]
  },
  {
   "cell_type": "markdown",
   "id": "b69d510f-cb7b-40d3-b654-3545dd88707c",
   "metadata": {
    "id": "b69d510f-cb7b-40d3-b654-3545dd88707c"
   },
   "source": [
    "`-` 새로운 주장으로 인해서 $(\\beta_0,\\beta_1)=(15,2)$ 로 볼 수도 있고 $(\\beta_0,\\beta_1)=(14,2)$ 로 볼 수도 있다. 이중에서 어떠한 추정치가 좋은지 판단할 수 있을까? \n",
    "- 후보1: $(\\beta_0,\\beta_1)=(15,2)$ \n",
    "- 후보2: $(\\beta_0,\\beta_1)=(14,2)$"
   ]
  },
  {
   "cell_type": "markdown",
   "id": "4a86c0ed-fa00-4630-91fd-459157ffae08",
   "metadata": {
    "id": "4a86c0ed-fa00-4630-91fd-459157ffae08"
   },
   "source": [
    "`-` 가능한 $y_i \\approx \\beta_0 + \\beta_1 x_i$ 이 되도록 만드는 $(\\beta_0,\\beta_1)$ 이 좋을 것이다. $\\to$ 후보 1,2를 비교해보자. "
   ]
  },
  {
   "cell_type": "markdown",
   "id": "136c394d-1de5-4a25-a6cd-fa2d0a0ad668",
   "metadata": {
    "id": "136c394d-1de5-4a25-a6cd-fa2d0a0ad668"
   },
   "source": [
    "(관찰에 의한 비교) "
   ]
  },
  {
   "cell_type": "markdown",
   "id": "450f3e4a-4276-4baa-b436-630368844d22",
   "metadata": {
    "id": "450f3e4a-4276-4baa-b436-630368844d22"
   },
   "source": [
    "후보1에 대해서 $i=1,2$를 넣고 관찰하여 보자. "
   ]
  },
  {
   "cell_type": "code",
   "execution_count": null,
   "id": "5028b9ad-2214-4712-bbca-e81d26ea5412",
   "metadata": {
    "id": "5028b9ad-2214-4712-bbca-e81d26ea5412",
    "outputId": "ce869371-8922-4489-a376-a0137c650ff6"
   },
   "outputs": [
    {
     "data": {
      "text/plain": [
       "(55.2, 55.418365)"
      ]
     },
     "execution_count": 12,
     "metadata": {},
     "output_type": "execute_result"
    }
   ],
   "source": [
    "20.1 * 2 + 15 , 55.418365 # i=1 "
   ]
  },
  {
   "cell_type": "code",
   "execution_count": null,
   "id": "b161d672-21f4-4848-a8f6-0b99c8417c90",
   "metadata": {
    "id": "b161d672-21f4-4848-a8f6-0b99c8417c90",
    "outputId": "02faf27c-6198-4223-cc90-a4480deba260"
   },
   "outputs": [
    {
     "data": {
      "text/plain": [
       "(59.4, 58.194283)"
      ]
     },
     "execution_count": 13,
     "metadata": {},
     "output_type": "execute_result"
    }
   ],
   "source": [
    "22.2 * 2 + 15 , 58.194283 # i=2"
   ]
  },
  {
   "cell_type": "markdown",
   "id": "8cca1d42-61fa-4549-9fcd-8f94306e9930",
   "metadata": {
    "id": "8cca1d42-61fa-4549-9fcd-8f94306e9930"
   },
   "source": [
    "후보2에 대하여 $i=1,2$를 넣고 관찰하여 보자. "
   ]
  },
  {
   "cell_type": "code",
   "execution_count": null,
   "id": "a4431ef5-2a1f-4417-878e-e671a64e6c05",
   "metadata": {
    "id": "a4431ef5-2a1f-4417-878e-e671a64e6c05",
    "outputId": "a830b2ca-6b6a-42b9-c3f2-eeccb88896a2"
   },
   "outputs": [
    {
     "data": {
      "text/plain": [
       "(54.2, 55.418365)"
      ]
     },
     "execution_count": 14,
     "metadata": {},
     "output_type": "execute_result"
    }
   ],
   "source": [
    "20.1 * 2 + 14 , 55.418365 # i=1 "
   ]
  },
  {
   "cell_type": "code",
   "execution_count": null,
   "id": "4e76bdba-b655-452c-b621-777960b53105",
   "metadata": {
    "id": "4e76bdba-b655-452c-b621-777960b53105",
    "outputId": "4a31a86a-c6bb-4a4a-c9e8-f1d851bbbc1e"
   },
   "outputs": [
    {
     "data": {
      "text/plain": [
       "(58.4, 58.194283)"
      ]
     },
     "execution_count": 15,
     "metadata": {},
     "output_type": "execute_result"
    }
   ],
   "source": [
    "22.2 * 2 + 14 , 58.194283 # i=2"
   ]
  },
  {
   "cell_type": "markdown",
   "id": "611c288e-6e10-4a28-a5e6-dfa405fdac9e",
   "metadata": {
    "id": "611c288e-6e10-4a28-a5e6-dfa405fdac9e"
   },
   "source": [
    "$i=1$인 경우에는 후보1이 더 잘맞는것 같은데 $i=2$인 경우는 후보2가 더 잘맞는것 같다. "
   ]
  },
  {
   "cell_type": "markdown",
   "id": "065b80af-8ec4-491a-82a7-c091bd213505",
   "metadata": {
    "id": "065b80af-8ec4-491a-82a7-c091bd213505"
   },
   "source": [
    "(좀 더 체계적인 비교) "
   ]
  },
  {
   "cell_type": "markdown",
   "id": "2d6d1f7f-fe72-4c29-af3b-3d4e4b4dfe1f",
   "metadata": {
    "id": "2d6d1f7f-fe72-4c29-af3b-3d4e4b4dfe1f"
   },
   "source": [
    "$i=1,2,3, \\dots, 10$ 에서 후보1과 후보2중 어떤것이 더 좋은지 비교하는 체계적인 방법을 생각해보자. "
   ]
  },
  {
   "cell_type": "markdown",
   "id": "b46dca3e-0b51-416e-85f8-11019ec489bf",
   "metadata": {
    "id": "b46dca3e-0b51-416e-85f8-11019ec489bf"
   },
   "source": [
    "후보 1,2에 대하여 $\\sum_{i=1}^{10} (y_i -\\beta_0 -\\beta_1 x_i)^2$를 계산하여 비교해보자. "
   ]
  },
  {
   "cell_type": "code",
   "execution_count": null,
   "id": "9d7be911-4599-40d6-b518-3895d5370f47",
   "metadata": {
    "id": "9d7be911-4599-40d6-b518-3895d5370f47"
   },
   "outputs": [],
   "source": [
    "sum1=0 \n",
    "for i in range(10):\n",
    "    sum1=sum1+(y[i]-15-2*x[i])**2 "
   ]
  },
  {
   "cell_type": "code",
   "execution_count": null,
   "id": "b5d8c721-f3ea-425d-aef8-770dd4db6ac6",
   "metadata": {
    "id": "b5d8c721-f3ea-425d-aef8-770dd4db6ac6"
   },
   "outputs": [],
   "source": [
    "sum2=0 \n",
    "for i in range(10):\n",
    "    sum2=sum2+(y[i]-14-2*x[i])**2 "
   ]
  },
  {
   "cell_type": "code",
   "execution_count": null,
   "id": "bd2a614d-e23d-465b-af35-fee107471703",
   "metadata": {
    "id": "bd2a614d-e23d-465b-af35-fee107471703",
    "outputId": "23e9e9e9-660f-470f-e10e-9678ed89f187"
   },
   "outputs": [
    {
     "data": {
      "text/plain": [
       "(<tf.Tensor: shape=(), dtype=float32, numpy=14.734169>,\n",
       " <tf.Tensor: shape=(), dtype=float32, numpy=31.521088>)"
      ]
     },
     "execution_count": 21,
     "metadata": {},
     "output_type": "execute_result"
    }
   ],
   "source": [
    "sum1,sum2"
   ]
  },
  {
   "cell_type": "markdown",
   "id": "32c0cd5e-b128-4c3e-9864-8a275bea8cf5",
   "metadata": {
    "id": "32c0cd5e-b128-4c3e-9864-8a275bea8cf5"
   },
   "source": [
    "후보1이 더 $\\sum_{i=1}^{10} (y_i -\\beta_0 -\\beta_1 x_i)^2$의 값이 작다. "
   ]
  },
  {
   "cell_type": "markdown",
   "id": "69660276-d37e-4f90-b431-37dc48fa8650",
   "metadata": {
    "id": "69660276-d37e-4f90-b431-37dc48fa8650"
   },
   "source": [
    "후보1이 종합적으로 후보2에 비하여 좋다. 이 과정을 무한번 반복하면 최적의 추정치를 찾을 수 있다. "
   ]
  },
  {
   "cell_type": "markdown",
   "id": "78f34ba6-0ddc-4b66-bf42-77dfe6b6d113",
   "metadata": {
    "id": "78f34ba6-0ddc-4b66-bf42-77dfe6b6d113"
   },
   "source": [
    "`-` 그런데 이 알고리즘은 현실적으로 구현이 불가능하다. (무한번 계산하기도 힘들고, 언제 멈출지도 애매함) "
   ]
  },
  {
   "cell_type": "markdown",
   "id": "56d1f77c-40e1-461c-b44b-a5e4e331b866",
   "metadata": {
    "id": "56d1f77c-40e1-461c-b44b-a5e4e331b866"
   },
   "source": [
    "`-` 수학을 이용해서 좀 더 체계적으로 찾아보자. 결국 아래식을 가장 작게 만드는 $\\beta_0,\\beta_1$을 찾으면 된다. "
   ]
  },
  {
   "cell_type": "markdown",
   "id": "d494db54-a612-4904-8e95-55e8bd0944ae",
   "metadata": {
    "id": "d494db54-a612-4904-8e95-55e8bd0944ae"
   },
   "source": [
    "$$\\sum_{i=1}^{10} (y_i -\\beta_0 -\\beta_1 x_i)^2$$"
   ]
  },
  {
   "cell_type": "markdown",
   "id": "3a8d4569-1940-4aea-befe-08e82a03a5ce",
   "metadata": {
    "id": "3a8d4569-1940-4aea-befe-08e82a03a5ce"
   },
   "source": [
    "그런데 결국 $\\beta_0, \\beta_1$에 대한 이차식인데 이 식을 최소화하는 $\\beta_0,\\beta_1$을 구하기 위해서는 아래를 연립하여 풀면된다. "
   ]
  },
  {
   "cell_type": "markdown",
   "id": "35220b63-8ccf-48cc-be0d-0281e289cdfa",
   "metadata": {
    "id": "35220b63-8ccf-48cc-be0d-0281e289cdfa"
   },
   "source": [
    "$$\\begin{cases}\n",
    "\\frac{\\partial}{\\partial \\beta_0}\\sum_{i=1}^{10} (y_i -\\beta_0 -\\beta_1 x_i)^2=0 \\\\ \n",
    "\\frac{\\partial}{\\partial \\beta_1}\\sum_{i=1}^{10} (y_i -\\beta_0 -\\beta_1 x_i)^2=0\n",
    "\\end{cases}$$"
   ]
  },
  {
   "cell_type": "markdown",
   "id": "7daca72d-76b5-48b9-a95e-7bca9274bc6f",
   "metadata": {
    "id": "7daca72d-76b5-48b9-a95e-7bca9274bc6f"
   },
   "source": [
    "`-` 풀어보자. "
   ]
  },
  {
   "cell_type": "markdown",
   "id": "c9538349-5bf0-4c1b-8640-040178b66555",
   "metadata": {
    "id": "c9538349-5bf0-4c1b-8640-040178b66555"
   },
   "source": [
    "$$\\begin{cases}\n",
    "\\sum_{i=1}^{10} -2(y_i -\\beta_0 -\\beta_1 x_i)=0 \\\\ \n",
    "\\sum_{i=1}^{10} -2x_i(y_i -\\beta_0 -\\beta_1 x_i)=0\n",
    "\\end{cases}$$"
   ]
  },
  {
   "cell_type": "markdown",
   "id": "1e200f08-6ebb-46c7-aced-7834a8e9034d",
   "metadata": {
    "id": "1e200f08-6ebb-46c7-aced-7834a8e9034d"
   },
   "source": [
    "정리하면 \n",
    "\n",
    "$$\\hat{\\beta}_0= \\bar{y}-\\hat{\\beta}_1 \\bar{x}$$\n",
    "\n",
    "$$\\hat{\\beta}_1= \\frac{S_{xy}}{S_{xx}}=\\frac{\\sum_{i=1}^{n}(x_i-\\bar{x})(y_i-\\bar{y})}{\\sum_{i=1}^{n}(x_i-\\bar{x})^2}$$"
   ]
  },
  {
   "cell_type": "markdown",
   "id": "9d90d514-4244-4197-bf49-b64f8363bf92",
   "metadata": {
    "id": "9d90d514-4244-4197-bf49-b64f8363bf92"
   },
   "source": [
    "`-` 따라서 최적의 추정치 $(\\hat{\\beta}_0,\\hat{\\beta}_1)$를 이용한 추세선을 아래와 같이 계산할 수 있음."
   ]
  },
  {
   "cell_type": "code",
   "execution_count": null,
   "id": "ad02f2d4-b81b-4e4d-99c1-5e002516e5bf",
   "metadata": {
    "id": "ad02f2d4-b81b-4e4d-99c1-5e002516e5bf",
    "outputId": "af74ad01-40cf-4cfb-9104-0168729f3a65"
   },
   "outputs": [
    {
     "data": {
      "text/plain": [
       "<tf.Tensor: shape=(), dtype=float32, numpy=87.848976>"
      ]
     },
     "execution_count": 22,
     "metadata": {},
     "output_type": "execute_result"
    }
   ],
   "source": [
    "Sxx= sum((x-sum(x)/10)**2)\n",
    "Sxx"
   ]
  },
  {
   "cell_type": "code",
   "execution_count": null,
   "id": "8d714df9-a3a5-4c9f-9527-a17fc7b82c94",
   "metadata": {
    "id": "8d714df9-a3a5-4c9f-9527-a17fc7b82c94",
    "outputId": "b1e75ea9-7776-43b5-e954-a40d1c4ef8fc"
   },
   "outputs": [
    {
     "data": {
      "text/plain": [
       "<tf.Tensor: shape=(), dtype=float32, numpy=194.64737>"
      ]
     },
     "execution_count": 23,
     "metadata": {},
     "output_type": "execute_result"
    }
   ],
   "source": [
    "Sxy=  sum((x-sum(x)/10)*(y-sum(y)/10))\n",
    "Sxy"
   ]
  },
  {
   "cell_type": "code",
   "execution_count": null,
   "id": "4ffc9b70-4175-4792-a141-f34db319181a",
   "metadata": {
    "id": "4ffc9b70-4175-4792-a141-f34db319181a",
    "outputId": "1876f98a-9c97-4bc8-b727-6a4db9a0c286"
   },
   "outputs": [
    {
     "data": {
      "text/plain": [
       "<tf.Tensor: shape=(), dtype=float32, numpy=2.2157044>"
      ]
     },
     "execution_count": 24,
     "metadata": {},
     "output_type": "execute_result"
    }
   ],
   "source": [
    "beta1_estimated = Sxy/Sxx \n",
    "beta1_estimated "
   ]
  },
  {
   "cell_type": "code",
   "execution_count": null,
   "id": "28c82e11-2264-4764-8bdb-83f0ff79d699",
   "metadata": {
    "id": "28c82e11-2264-4764-8bdb-83f0ff79d699",
    "outputId": "9876fae2-0e8f-446d-fe8e-a4f59dbe0fcd"
   },
   "outputs": [
    {
     "data": {
      "text/plain": [
       "<tf.Tensor: shape=(), dtype=float32, numpy=9.944572>"
      ]
     },
     "execution_count": 25,
     "metadata": {},
     "output_type": "execute_result"
    }
   ],
   "source": [
    "beta0_estimated = sum(y)/10 - beta1_estimated * sum(x)/10 \n",
    "beta0_estimated"
   ]
  },
  {
   "cell_type": "code",
   "execution_count": null,
   "id": "a614304a-4cce-4b21-89a7-266faadd925a",
   "metadata": {
    "id": "a614304a-4cce-4b21-89a7-266faadd925a",
    "outputId": "5d7976e1-b871-42ba-80e2-7837b0e01ba1"
   },
   "outputs": [
    {
     "data": {
      "text/plain": [
       "<matplotlib.legend.Legend at 0x2e12f3afd90>"
      ]
     },
     "execution_count": 48,
     "metadata": {},
     "output_type": "execute_result"
    },
    {
     "data": {
      "image/png": "[encoded data removed]",
      "text/plain": [
       "<Figure size 864x432 with 1 Axes>"
      ]
     },
     "metadata": {
      "needs_background": "light"
     },
     "output_type": "display_data"
    }
   ],
   "source": [
    "#collapse-hide\n",
    "plt.figure(figsize=(12,6))\n",
    "plt.plot(x,y,'.',label= \"observed value\")\n",
    "plt.plot(x,beta0_estimated + beta1_estimated * x, '--',label=\"hat y\") # 주황색선: 세상의 법칙을 추정한선 \n",
    "plt.plot(x,10.2 + 2.2* x, '--',label = \"rule of the world\") # 초록색선: ture, 세상의법칙 \n",
    "plt.legend()"
   ]
  },
  {
   "cell_type": "markdown",
   "id": "6d943dfb-d2c1-4984-9949-3fc971fa688e",
   "metadata": {
    "id": "6d943dfb-d2c1-4984-9949-3fc971fa688e"
   },
   "source": [
    "> Note: 샘플수가 커질수록 주황색선은 점점 초록색선으로 가까워진다. (대수의 법칙은 항상 성립하는 듯?)"
   ]
  },
  {
   "cell_type": "markdown",
   "id": "b0ba8a6f-df0f-4337-a079-6d3ffbd28971",
   "metadata": {
    "id": "b0ba8a6f-df0f-4337-a079-6d3ffbd28971"
   },
   "source": [
    "`-` 꽤 훌륭한 도구임. 그런데 약간의 단점이 존재한다. \n",
    "\n",
    "(1) 공식이 좀 복잡함.. \n",
    "\n",
    "(2) $x$가 여러개일 경우 확장이 어려움 "
   ]
  },
  {
   "cell_type": "markdown",
   "id": "e8846673-3c63-436e-b2f5-1d768f90e1c0",
   "metadata": {
    "id": "e8846673-3c63-436e-b2f5-1d768f90e1c0"
   },
   "source": [
    "`-` 단점을 극복하기 위해서 우리가 지금까지 했던논의를 매트릭스로 바꾸어서 다시 써보자. "
   ]
  },
  {
   "cell_type": "markdown",
   "id": "b4f01160-2e39-4c3f-abe4-cdf29b51a8ed",
   "metadata": {
    "id": "b4f01160-2e39-4c3f-abe4-cdf29b51a8ed"
   },
   "source": [
    "## 모형의 매트릭스화 "
   ]
  },
  {
   "cell_type": "markdown",
   "id": "36ac7759",
   "metadata": {
    "id": "36ac7759"
   },
   "source": [
    "* 모형을 행렬로 표현하면 변수가 여러개인 multiple linear regression 에서도 단순형태로 표현이 가능하다."
   ]
  },
  {
   "cell_type": "markdown",
   "id": "8ec80174-d583-4822-83cc-57dead194fe4",
   "metadata": {
    "id": "8ec80174-d583-4822-83cc-57dead194fe4"
   },
   "source": [
    "우리의 모형은 아래와 같다. "
   ]
  },
  {
   "cell_type": "markdown",
   "id": "42450c1f-d0b9-4e75-be0a-85b715b9191d",
   "metadata": {
    "id": "42450c1f-d0b9-4e75-be0a-85b715b9191d"
   },
   "source": [
    "$y_i = \\beta_0 + \\beta_1 x_i + \\epsilon_i, \\quad i=1,2,\\dots,10$ "
   ]
  },
  {
   "cell_type": "markdown",
   "id": "180519a4-f863-437e-9984-ca86e0115039",
   "metadata": {
    "id": "180519a4-f863-437e-9984-ca86e0115039"
   },
   "source": [
    "풀어서 쓰면 "
   ]
  },
  {
   "cell_type": "markdown",
   "id": "2f7270f7-2c22-4ac6-a7fc-2add2d098af2",
   "metadata": {
    "id": "2f7270f7-2c22-4ac6-a7fc-2add2d098af2"
   },
   "source": [
    "$\\begin{cases}\n",
    "y_1 = \\beta_0 +\\beta_1 x_1 + \\epsilon_1 \\\\ \n",
    "y_2 = \\beta_0 +\\beta_1 x_2 + \\epsilon_2 \\\\ \n",
    "\\dots \\\\ \n",
    "y_{10} = \\beta_0 +\\beta_1 x_{10} + \\epsilon_{10} \n",
    "\\end{cases}$"
   ]
  },
  {
   "cell_type": "markdown",
   "id": "f6a4416c-f242-4d34-a448-39c7c80fae96",
   "metadata": {
    "id": "f6a4416c-f242-4d34-a448-39c7c80fae96"
   },
   "source": [
    "아래와 같이 쓸 수 있다."
   ]
  },
  {
   "cell_type": "markdown",
   "id": "6c7c8137-afdb-47c0-ba00-5c97e6eb7b02",
   "metadata": {
    "id": "6c7c8137-afdb-47c0-ba00-5c97e6eb7b02"
   },
   "source": [
    "$\\begin{bmatrix} \n",
    "y_1 \\\\ \n",
    "y_2 \\\\ \n",
    "\\dots \\\\\n",
    "y_{10} \n",
    "\\end{bmatrix} \n",
    "= \\begin{bmatrix} \n",
    "1 & x_1 \\\\ \n",
    "1 & x_2 \\\\ \n",
    "\\dots & \\dots \\\\\n",
    "1 & x_{10} \n",
    "\\end{bmatrix}\\begin{bmatrix}\\beta_0 \\\\ \\beta_1 \\end{bmatrix} + \\begin{bmatrix} \n",
    "\\epsilon_1 \\\\ \n",
    "\\epsilon_2 \\\\ \n",
    "\\dots \\\\\n",
    "\\epsilon_{10} \n",
    "\\end{bmatrix} $"
   ]
  },
  {
   "cell_type": "markdown",
   "id": "f0ba4283-7679-4348-9d37-199b46153712",
   "metadata": {
    "id": "f0ba4283-7679-4348-9d37-199b46153712"
   },
   "source": [
    "벡터와 매트릭스 형태로 정리하면 "
   ]
  },
  {
   "cell_type": "markdown",
   "id": "1a8636e8-e887-4104-8218-4f1d292e7ea1",
   "metadata": {
    "id": "1a8636e8-e887-4104-8218-4f1d292e7ea1"
   },
   "source": [
    "${\\bf y} = {\\bf X} {\\boldsymbol \\beta} + \\boldsymbol{\\epsilon}$ "
   ]
  },
  {
   "cell_type": "markdown",
   "id": "d6f8e912-8a0b-43bf-8747-5c2d68cc43a0",
   "metadata": {
    "id": "d6f8e912-8a0b-43bf-8747-5c2d68cc43a0"
   },
   "source": [
    "`-` 손실함수의 매트릭스화: 우리가 최소화 하려던 손실함수는 아래와 같다. "
   ]
  },
  {
   "cell_type": "markdown",
   "id": "0e97e64d-3736-4b74-94e6-86c65643473b",
   "metadata": {
    "id": "0e97e64d-3736-4b74-94e6-86c65643473b"
   },
   "source": [
    "$loss=\\sum_{i=1}^{n}(y_i-\\beta_0-\\beta_1x_i)^2$"
   ]
  },
  {
   "cell_type": "markdown",
   "id": "75019659-f5ba-485e-a420-7d91ed800740",
   "metadata": {
    "id": "75019659-f5ba-485e-a420-7d91ed800740"
   },
   "source": [
    "이것을 벡터표현으로 하면 아래와 같다. "
   ]
  },
  {
   "cell_type": "markdown",
   "id": "6a8c3aa2-2bd6-48d9-b98c-90d76919b540",
   "metadata": {
    "id": "6a8c3aa2-2bd6-48d9-b98c-90d76919b540"
   },
   "source": [
    "$loss=\\sum_{i=1}^{n}(y_i-\\beta_0-\\beta_1x_i)^2=({\\bf y}-{\\bf X}{\\boldsymbol \\beta})^\\top({\\bf y}-{\\bf X}{\\boldsymbol \\beta})$"
   ]
  },
  {
   "cell_type": "markdown",
   "id": "633e6b5a-a1d5-4337-9ddd-fdac451c1314",
   "metadata": {
    "id": "633e6b5a-a1d5-4337-9ddd-fdac451c1314"
   },
   "source": [
    "풀어보면 "
   ]
  },
  {
   "cell_type": "markdown",
   "id": "6b6d9860-2c2a-4a58-b89d-cf4cd95a86bc",
   "metadata": {
    "id": "6b6d9860-2c2a-4a58-b89d-cf4cd95a86bc"
   },
   "source": [
    "$loss=({\\bf y}-{\\bf X}{\\boldsymbol \\beta})^\\top({\\bf y}-{\\bf X}{\\boldsymbol \\beta})={\\bf y}^\\top {\\bf y} - {\\bf y}^\\top {\\bf X}{\\boldsymbol\\beta} - {\\boldsymbol\\beta}^\\top {\\bf X}^\\top {\\bf y} + {\\boldsymbol\\beta}^\\top {\\bf X}^\\top {\\bf X} {\\boldsymbol\\beta}$"
   ]
  },
  {
   "cell_type": "markdown",
   "id": "5692b61e-1e08-474e-b1f0-883d456ec07d",
   "metadata": {
    "id": "5692b61e-1e08-474e-b1f0-883d456ec07d"
   },
   "source": [
    "`-` 미분하는 과정의 매트릭스화 "
   ]
  },
  {
   "cell_type": "markdown",
   "id": "2d91527a-e2d8-4c75-8a08-72033b8b1cee",
   "metadata": {
    "id": "2d91527a-e2d8-4c75-8a08-72033b8b1cee"
   },
   "source": [
    "loss를 최소화하는 ${\\boldsymbol \\beta}$를 구해야하므로 loss를 ${\\boldsymbol \\beta}$로 미분한식을 0이라고 놓고 풀면 된다. "
   ]
  },
  {
   "cell_type": "markdown",
   "id": "379b569e-4e6c-4ec8-af5e-6e04a431e265",
   "metadata": {
    "id": "379b569e-4e6c-4ec8-af5e-6e04a431e265"
   },
   "source": [
    "$\\frac{\\partial}{\\partial \\boldsymbol{\\beta}} loss = \\frac{\\partial}{\\partial \\boldsymbol{\\beta}} {\\bf y}^\\top {\\bf y} - \\frac{\\partial}{\\partial \\boldsymbol{\\beta}} {\\bf y}^\\top {\\bf X}{\\boldsymbol\\beta} - \\frac{\\partial}{\\partial \\boldsymbol{\\beta}} {\\boldsymbol\\beta}^\\top {\\bf X}^\\top {\\bf y} + \\frac{\\partial}{\\partial \\boldsymbol{\\beta}} {\\boldsymbol\\beta}^\\top {\\bf X}^\\top {\\bf X} {\\boldsymbol\\beta}$ "
   ]
  },
  {
   "cell_type": "markdown",
   "id": "a47bbf51-275a-40ce-8dfc-28ffffd25e75",
   "metadata": {
    "id": "a47bbf51-275a-40ce-8dfc-28ffffd25e75"
   },
   "source": [
    "$= 0 - {\\bf X}^\\top {\\bf y}- {\\bf X}^\\top {\\bf y} + 2{\\bf X}^\\top {\\bf X}{\\boldsymbol\\beta} $"
   ]
  },
  {
   "cell_type": "markdown",
   "id": "d6bbeb8b-a497-41b4-94df-4cef64612274",
   "metadata": {
    "id": "d6bbeb8b-a497-41b4-94df-4cef64612274"
   },
   "source": [
    "따라서 $\\frac{\\partial}{\\partial \\boldsymbol{\\beta}}loss=0$을 풀면 아래와 같다. "
   ]
  },
  {
   "cell_type": "markdown",
   "id": "e64bafaa-a532-49b6-8612-711670e9f3ec",
   "metadata": {
    "id": "e64bafaa-a532-49b6-8612-711670e9f3ec"
   },
   "source": [
    "$\\boldsymbol{\\hat\\beta}= ({\\bf X}^\\top {\\bf X})^{-1}{\\bf X}^\\top {\\bf y} $"
   ]
  },
  {
   "cell_type": "markdown",
   "id": "c6b432bc-3f49-4fb3-a558-7a6fa3d5c8da",
   "metadata": {
    "id": "c6b432bc-3f49-4fb3-a558-7a6fa3d5c8da"
   },
   "source": [
    "`-` 공식도 매트릭스로 표현하면 : $\\left(\\boldsymbol{\\hat\\beta}= ({\\bf X}^\\top {\\bf X})^{-1}{\\bf X}^\\top {\\bf y}\\right) \\leftarrow$ 외우자 이건.."
   ]
  },
  {
   "cell_type": "markdown",
   "id": "b07c2e24-3460-4cc1-8039-11f4a7242e2c",
   "metadata": {
    "id": "b07c2e24-3460-4cc1-8039-11f4a7242e2c"
   },
   "source": [
    "`-` 적용을 해보자. "
   ]
  },
  {
   "cell_type": "markdown",
   "id": "5c7fd74b-51fd-4bd3-9016-0f487957f836",
   "metadata": {
    "id": "5c7fd74b-51fd-4bd3-9016-0f487957f836"
   },
   "source": [
    "(X를 만드는 방법1) "
   ]
  },
  {
   "cell_type": "code",
   "execution_count": null,
   "id": "cedbac4c-3664-4518-b809-49cfb21894b7",
   "metadata": {
    "id": "cedbac4c-3664-4518-b809-49cfb21894b7",
    "outputId": "04d72a84-a0b5-430d-fd91-13790f0f2a27"
   },
   "outputs": [
    {
     "data": {
      "text/plain": [
       "<tf.Tensor: shape=(10, 2), dtype=float32, numpy=\n",
       "array([[ 1. , 20.1],\n",
       "       [ 1. , 22.2],\n",
       "       [ 1. , 22.7],\n",
       "       [ 1. , 23.3],\n",
       "       [ 1. , 24.4],\n",
       "       [ 1. , 25.1],\n",
       "       [ 1. , 26.2],\n",
       "       [ 1. , 27.3],\n",
       "       [ 1. , 28.4],\n",
       "       [ 1. , 30.4]], dtype=float32)>"
      ]
     },
     "execution_count": 53,
     "metadata": {},
     "output_type": "execute_result"
    }
   ],
   "source": [
    "X=tf.transpose(tf.concat([[[1.0]*10],[x]],0)) # \n",
    "X "
   ]
  },
  {
   "cell_type": "markdown",
   "id": "8ce1c489-5492-4ad3-8346-9cbb72119c28",
   "metadata": {
    "id": "8ce1c489-5492-4ad3-8346-9cbb72119c28"
   },
   "source": [
    "(X를 만드는 방법2)"
   ]
  },
  {
   "cell_type": "code",
   "execution_count": null,
   "id": "6c6cceb9",
   "metadata": {
    "id": "6c6cceb9",
    "outputId": "61d9d437-37e7-40df-a2e3-b079e4314f29"
   },
   "outputs": [
    {
     "data": {
      "text/plain": [
       "<tf.Tensor: shape=(2, 10), dtype=float32, numpy=\n",
       "array([[ 1. ,  1. ,  1. ,  1. ,  1. ,  1. ,  1. ,  1. ,  1. ,  1. ],\n",
       "       [20.1, 22.2, 22.7, 23.3, 24.4, 25.1, 26.2, 27.3, 28.4, 30.4]],\n",
       "      dtype=float32)>"
      ]
     },
     "execution_count": 55,
     "metadata": {},
     "output_type": "execute_result"
    }
   ],
   "source": [
    "tf.concat([[[1.0]*10],[x]],0)"
   ]
  },
  {
   "cell_type": "code",
   "execution_count": null,
   "id": "cb36092d",
   "metadata": {
    "id": "cb36092d",
    "outputId": "bf3073d3-5652-4bd7-8dac-d309bb314c10"
   },
   "outputs": [
    {
     "ename": "AttributeError",
     "evalue": "\n        'EagerTensor' object has no attribute 'T'.\n        If you are looking for numpy-related methods, please run the following:\n        from tensorflow.python.ops.numpy_ops import np_config\n        np_config.enable_numpy_behavior()",
     "output_type": "error",
     "traceback": [
      "\u001b[1;31m---------------------------------------------------------------------------\u001b[0m",
      "\u001b[1;31mAttributeError\u001b[0m                            Traceback (most recent call last)",
      "\u001b[1;32m~\\AppData\\Local\\Temp/ipykernel_45688/2773875106.py\u001b[0m in \u001b[0;36m<module>\u001b[1;34m\u001b[0m\n\u001b[1;32m----> 1\u001b[1;33m \u001b[0mtf\u001b[0m\u001b[1;33m.\u001b[0m\u001b[0mconcat\u001b[0m\u001b[1;33m(\u001b[0m\u001b[1;33m[\u001b[0m\u001b[1;33m[\u001b[0m\u001b[1;33m[\u001b[0m\u001b[1;36m1.0\u001b[0m\u001b[1;33m]\u001b[0m\u001b[1;33m*\u001b[0m\u001b[1;36m10\u001b[0m\u001b[1;33m]\u001b[0m\u001b[1;33m,\u001b[0m\u001b[1;33m[\u001b[0m\u001b[0mx\u001b[0m\u001b[1;33m]\u001b[0m\u001b[1;33m]\u001b[0m\u001b[1;33m,\u001b[0m\u001b[1;36m0\u001b[0m\u001b[1;33m)\u001b[0m\u001b[1;33m.\u001b[0m\u001b[0mT\u001b[0m\u001b[1;33m\u001b[0m\u001b[1;33m\u001b[0m\u001b[0m\n\u001b[0m",
      "\u001b[1;32m~\\Anaconda3\\envs\\r4-base\\lib\\site-packages\\tensorflow\\python\\framework\\ops.py\u001b[0m in \u001b[0;36m__getattr__\u001b[1;34m(self, name)\u001b[0m\n\u001b[0;32m    506\u001b[0m                 \"tolist\", \"data\"}:\n\u001b[0;32m    507\u001b[0m       \u001b[1;31m# TODO(wangpeng): Export the enable_numpy_behavior knob\u001b[0m\u001b[1;33m\u001b[0m\u001b[1;33m\u001b[0m\u001b[0m\n\u001b[1;32m--> 508\u001b[1;33m       raise AttributeError(\"\"\"\n\u001b[0m\u001b[0;32m    509\u001b[0m         \u001b[1;34m'{}'\u001b[0m \u001b[0mobject\u001b[0m \u001b[0mhas\u001b[0m \u001b[0mno\u001b[0m \u001b[0mattribute\u001b[0m \u001b[1;34m'{}'\u001b[0m\u001b[1;33m.\u001b[0m\u001b[1;33m\u001b[0m\u001b[1;33m\u001b[0m\u001b[0m\n\u001b[0;32m    510\u001b[0m         \u001b[0mIf\u001b[0m \u001b[0myou\u001b[0m \u001b[0mare\u001b[0m \u001b[0mlooking\u001b[0m \u001b[1;32mfor\u001b[0m \u001b[0mnumpy\u001b[0m\u001b[1;33m-\u001b[0m\u001b[0mrelated\u001b[0m \u001b[0mmethods\u001b[0m\u001b[1;33m,\u001b[0m \u001b[0mplease\u001b[0m \u001b[0mrun\u001b[0m \u001b[0mthe\u001b[0m \u001b[0mfollowing\u001b[0m\u001b[1;33m:\u001b[0m\u001b[1;33m\u001b[0m\u001b[1;33m\u001b[0m\u001b[0m\n",
      "\u001b[1;31mAttributeError\u001b[0m: \n        'EagerTensor' object has no attribute 'T'.\n        If you are looking for numpy-related methods, please run the following:\n        from tensorflow.python.ops.numpy_ops import np_config\n        np_config.enable_numpy_behavior()"
     ]
    }
   ],
   "source": [
    "tf.concat([[[1.0]*10],[x]],0).T"
   ]
  },
  {
   "cell_type": "markdown",
   "id": "9791a1b4",
   "metadata": {
    "id": "9791a1b4"
   },
   "source": [
    "* 위 처럼 하면  error가 남\n",
    "* error를 읽어보면 numpy 스타일로 구성하고 싶을 경우 `np_config.enable_numpy_behavior()` 을 이용하라는 문구가 나옴"
   ]
  },
  {
   "cell_type": "code",
   "execution_count": null,
   "id": "83d3f30e-3b3e-45fd-86c6-794d798c6758",
   "metadata": {
    "id": "83d3f30e-3b3e-45fd-86c6-794d798c6758"
   },
   "outputs": [],
   "source": [
    "from tensorflow.python.ops.numpy_ops import np_config\n",
    "np_config.enable_numpy_behavior()"
   ]
  },
  {
   "cell_type": "code",
   "execution_count": null,
   "id": "ef799a05",
   "metadata": {
    "id": "ef799a05"
   },
   "outputs": [],
   "source": [
    "X = tf.concat([[[1.0]*10],[x]],0).T"
   ]
  },
  {
   "cell_type": "markdown",
   "id": "fe0dff6e",
   "metadata": {
    "id": "fe0dff6e"
   },
   "source": [
    "오 이제된다."
   ]
  },
  {
   "cell_type": "code",
   "execution_count": null,
   "id": "419ab965",
   "metadata": {
    "id": "419ab965",
    "outputId": "d44c1a6a-96ec-4743-ff9e-ab0f802f9c9a"
   },
   "outputs": [
    {
     "data": {
      "text/plain": [
       "<tf.Tensor: shape=(10, 2), dtype=float32, numpy=\n",
       "array([[ 1. , 20.1],\n",
       "       [ 1. , 22.2],\n",
       "       [ 1. , 22.7],\n",
       "       [ 1. , 23.3],\n",
       "       [ 1. , 24.4],\n",
       "       [ 1. , 25.1],\n",
       "       [ 1. , 26.2],\n",
       "       [ 1. , 27.3],\n",
       "       [ 1. , 28.4],\n",
       "       [ 1. , 30.4]], dtype=float32)>"
      ]
     },
     "execution_count": 63,
     "metadata": {},
     "output_type": "execute_result"
    }
   ],
   "source": [
    "X"
   ]
  },
  {
   "cell_type": "code",
   "execution_count": null,
   "id": "a94a8b9b-3978-4da3-94f3-2d7f0944cf8a",
   "metadata": {
    "id": "a94a8b9b-3978-4da3-94f3-2d7f0944cf8a",
    "outputId": "1a528522-8f92-4c35-8cb6-882eff557324"
   },
   "outputs": [
    {
     "data": {
      "text/plain": [
       "<tf.Tensor: shape=(2,), dtype=float32, numpy=array([9.945015 , 2.2156935], dtype=float32)>"
      ]
     },
     "execution_count": 65,
     "metadata": {},
     "output_type": "execute_result"
    }
   ],
   "source": [
    "tf.linalg.inv(X.T @ X) @ X.T @ y"
   ]
  },
  {
   "cell_type": "markdown",
   "id": "8beb3fb6",
   "metadata": {
    "id": "8beb3fb6"
   },
   "source": [
    "결과를 보면 $ \\left(\\beta_0,\\beta_1\\right) = (9.94...,2.21...)$ 로 산출되었다."
   ]
  },
  {
   "cell_type": "markdown",
   "id": "d1e2d8c4-d7b4-4c17-b4c9-fb3f9ee17a67",
   "metadata": {
    "id": "d1e2d8c4-d7b4-4c17-b4c9-fb3f9ee17a67"
   },
   "source": [
    "`-` 잘 구해진다. "
   ]
  },
  {
   "cell_type": "markdown",
   "id": "4244c0fc-fe69-477d-9b80-ee36610b242b",
   "metadata": {
    "id": "4244c0fc-fe69-477d-9b80-ee36610b242b"
   },
   "source": [
    "`-` 그런데.. "
   ]
  },
  {
   "cell_type": "code",
   "execution_count": null,
   "id": "4ad0739b-6de4-429a-b023-9426c2005cef",
   "metadata": {
    "id": "4ad0739b-6de4-429a-b023-9426c2005cef",
    "outputId": "f4b590e4-badb-4809-af58-7b2398741a6a"
   },
   "outputs": [
    {
     "data": {
      "text/plain": [
       "(<tf.Tensor: shape=(), dtype=float32, numpy=9.94458>,\n",
       " <tf.Tensor: shape=(), dtype=float32, numpy=2.2157042>)"
      ]
     },
     "execution_count": 74,
     "metadata": {},
     "output_type": "execute_result"
    }
   ],
   "source": [
    "beta0_estimated,beta1_estimated"
   ]
  },
  {
   "cell_type": "markdown",
   "id": "1e38e888-35f0-40d1-99be-b57a1c4ebf38",
   "metadata": {
    "id": "1e38e888-35f0-40d1-99be-b57a1c4ebf38"
   },
   "source": [
    "값이 좀 다르다..?"
   ]
  },
  {
   "cell_type": "markdown",
   "id": "d051ecbe-6ab4-439b-bc58-af48b172fda6",
   "metadata": {
    "id": "d051ecbe-6ab4-439b-bc58-af48b172fda6"
   },
   "source": [
    "`-` 같은 값입니다! 신경쓰지 마세요! 텐서플로우가 좀 대충계산합니다. "
   ]
  },
  {
   "cell_type": "markdown",
   "id": "21b4fff7",
   "metadata": {
    "id": "21b4fff7"
   },
   "source": [
    "`-` 실제로 조금 더 정확히 계산하기 위해서는 `tensorflow` 안에 내장된 `numpy` 를 사용한다."
   ]
  },
  {
   "cell_type": "code",
   "execution_count": null,
   "id": "00a97646-b2ae-4e38-bd07-125c32744fb5",
   "metadata": {
    "id": "00a97646-b2ae-4e38-bd07-125c32744fb5"
   },
   "outputs": [],
   "source": [
    "import tensorflow.experimental.numpy as tnp "
   ]
  },
  {
   "cell_type": "code",
   "execution_count": null,
   "id": "40762229-2c5f-4769-9716-c3322e4b3144",
   "metadata": {
    "id": "40762229-2c5f-4769-9716-c3322e4b3144"
   },
   "outputs": [],
   "source": [
    "x=tnp.array([20.1, 22.2, 22.7, 23.3, 24.4, 25.1, 26.2, 27.3, 28.4, 30.4]) \n",
    "y=10.2 + 2.2*x + epsilon "
   ]
  },
  {
   "cell_type": "code",
   "execution_count": null,
   "id": "ab7d73d0-18bb-4319-9864-fa10ee8b9724",
   "metadata": {
    "id": "ab7d73d0-18bb-4319-9864-fa10ee8b9724"
   },
   "outputs": [],
   "source": [
    "beta1_estimated = sum((x-sum(x)/10)*(y-sum(y)/10)) / sum((x-sum(x)/10)**2)\n",
    "beta0_estimated = sum(y)/10 - beta1_estimated * sum(x)/10 "
   ]
  },
  {
   "cell_type": "code",
   "execution_count": null,
   "id": "382dc0b5-0c02-4334-9e2e-bf669fd4a7eb",
   "metadata": {
    "id": "382dc0b5-0c02-4334-9e2e-bf669fd4a7eb",
    "outputId": "7d3d9049-c2b9-4ba4-95c8-2825411d34d1"
   },
   "outputs": [
    {
     "data": {
      "text/plain": [
       "(<tf.Tensor: shape=(), dtype=float64, numpy=9.944573294798559>,\n",
       " <tf.Tensor: shape=(), dtype=float64, numpy=2.2157046054834106>)"
      ]
     },
     "execution_count": 70,
     "metadata": {},
     "output_type": "execute_result"
    }
   ],
   "source": [
    "beta0_estimated, beta1_estimated"
   ]
  },
  {
   "cell_type": "code",
   "execution_count": null,
   "id": "ead3a278-c9f8-4c57-b5a3-9d3ef6697619",
   "metadata": {
    "id": "ead3a278-c9f8-4c57-b5a3-9d3ef6697619",
    "outputId": "f8a20444-5a3b-4869-ef87-3180c1ede29f"
   },
   "outputs": [
    {
     "data": {
      "text/plain": [
       "<tf.Tensor: shape=(2,), dtype=float64, numpy=array([9.94457329, 2.21570461])>"
      ]
     },
     "execution_count": 71,
     "metadata": {},
     "output_type": "execute_result"
    }
   ],
   "source": [
    "X=tnp.concatenate([[tnp.array([1.0]*10)],[x]],0).T\n",
    "tf.linalg.inv(X.T @ X) @ X.T @ y"
   ]
  },
  {
   "cell_type": "markdown",
   "id": "1b081179-8c73-4cf5-9d4b-a3f089626654",
   "metadata": {
    "id": "1b081179-8c73-4cf5-9d4b-a3f089626654"
   },
   "source": [
    "# do next"
   ]
  },
  {
   "cell_type": "markdown",
   "id": "5c4e377b-5882-446f-93e0-ecb032709165",
   "metadata": {
    "id": "5c4e377b-5882-446f-93e0-ecb032709165"
   },
   "source": [
    "`-` 선형대수학의 미분이론.. \n",
    "\n",
    "`-` tensorflow에서 매트릭스 연산을 자유롭게 다루기 "
   ]
  },
  {
   "cell_type": "markdown",
   "id": "40a2cf1c",
   "metadata": {
    "id": "40a2cf1c"
   },
   "source": [
    "`-` 정규방정식을 이용하여 베타계수 추정하는 법하고 벡터 미분 정리해서 추가하자"
   ]
  },
  {
   "cell_type": "markdown",
   "id": "426c5ef6",
   "metadata": {
    "id": "426c5ef6"
   },
   "source": [
    "# Extra"
   ]
  },
  {
   "cell_type": "markdown",
   "id": "b678abd8",
   "metadata": {
    "id": "b678abd8"
   },
   "source": [
    "## 회귀계수 추정"
   ]
  },
  {
   "cell_type": "markdown",
   "id": "3f69d3fa",
   "metadata": {
    "id": "3f69d3fa"
   },
   "source": [
    "$$Loss = \\sum (y-\\beta_0-\\beta_1 x)$$"
   ]
  },
  {
   "cell_type": "markdown",
   "id": "ac9db567",
   "metadata": {
    "id": "ac9db567"
   },
   "source": [
    "* $\\beta_0$ 추정"
   ]
  },
  {
   "cell_type": "markdown",
   "id": "1e8a7244",
   "metadata": {
    "id": "1e8a7244"
   },
   "source": [
    "$$L=Loss = \\sum (y-\\beta_0-\\beta_1 x)$$"
   ]
  },
  {
   "cell_type": "markdown",
   "id": "951ea129",
   "metadata": {
    "id": "951ea129"
   },
   "source": [
    "$$\\frac {d L}{d \\beta_0} = -2\\sum(y-\\beta_0-\\beta_1x) = 0$$"
   ]
  },
  {
   "cell_type": "markdown",
   "id": "38a48369",
   "metadata": {
    "id": "38a48369"
   },
   "source": [
    "$$\\therefore\\,\\,\\hat \\beta_0 = \\bar y -\\beta_1 \\bar x$$"
   ]
  },
  {
   "cell_type": "markdown",
   "id": "2aa23ee4",
   "metadata": {
    "id": "2aa23ee4"
   },
   "source": [
    "* $\\beta_1$ 추정"
   ]
  },
  {
   "cell_type": "markdown",
   "id": "a1236408",
   "metadata": {
    "id": "a1236408"
   },
   "source": [
    "\\begin{align}\\frac {d L}{d \\beta_1} &= \\sum x \\left(y-\\beta_0-\\beta_1x\\right) \\\\ \\\\ \\nonumber\n",
    "                                        & = \\left (\\sum xy -\\beta_1 x^2\\right )- n\\bar x\\left (\\bar y -\\beta_1\\bar x \\right) \\\\ \\\\ \\nonumber \n",
    "                                         &= \\left (\\sum xy -\\bar x \\bar y\\right ) -\\beta_1 \\left (\\sum x^2 - (\\bar x)^2\\right )\\nonumber\\end{align}"
   ]
  },
  {
   "cell_type": "markdown",
   "id": "d4a080d4",
   "metadata": {
    "id": "d4a080d4"
   },
   "source": [
    "\\begin{align} \n",
    "\\therefore \\hat {\\beta_1} &=  \\frac{\\sum xy -\\bar x \\bar y}{\\sum x^2 - (\\bar x)^2}  \\nonumber \\\\ \\\\\n",
    "&= \\frac {S_{xy}}{S_{xx}}  \\nonumber\n",
    "\\end{align}"
   ]
  },
  {
   "cell_type": "markdown",
   "id": "61ba93fd",
   "metadata": {
    "id": "61ba93fd"
   },
   "source": [
    "## 벡터 미분 / 매트릭스 미분"
   ]
  },
  {
   "cell_type": "markdown",
   "id": "ed96dad2",
   "metadata": {
    "id": "ed96dad2"
   },
   "source": [
    "$$L=loss=({\\bf y}-{\\bf X}{\\boldsymbol \\beta})^\\top({\\bf y}-{\\bf X}{\\boldsymbol \\beta})$$"
   ]
  },
  {
   "cell_type": "markdown",
   "id": "1428649c",
   "metadata": {
    "id": "1428649c"
   },
   "source": [
    "### 벡터 미분"
   ]
  },
  {
   "cell_type": "markdown",
   "id": "75f54c75",
   "metadata": {
    "id": "75f54c75"
   },
   "source": [
    "\\begin{align}  x^{\\top}y &= \\begin{bmatrix}x_1\\dots x_n\\end{bmatrix}\\begin{bmatrix} y_1   \\\\ \\dots \\\\ y_n\\end{bmatrix}\\nonumber  \\\\  \\\\ \n",
    "      &=  x_1y_1 + x_2y_2+\\dots x_ny_n\\nonumber  \\end{align}"
   ]
  },
  {
   "cell_type": "markdown",
   "id": "42b64a33",
   "metadata": {
    "id": "42b64a33"
   },
   "source": [
    "위를 미분하면"
   ]
  },
  {
   "cell_type": "markdown",
   "id": "7701b929",
   "metadata": {
    "id": "7701b929"
   },
   "source": [
    "\\begin{align} \\frac {d x^{\\top}y}{d x} &= \\, \\begin{bmatrix} \\frac {d}{d x_1}  \\\\ \n",
    "                                                                                       \\dots \\\\ \\frac {d}{d x_n}\n",
    "                                                                                        \\end{bmatrix} ( x_1y_1 + x_2y_2+\\dots x_ny_n) \\nonumber \\\\ \\\\  \n",
    "                                                         &=  \\, \\begin{bmatrix} y_1   \\\\ \\dots \\\\ y_n\\end{bmatrix}=y                         \\nonumber  \\end{align}"
   ]
  },
  {
   "cell_type": "markdown",
   "id": "c60b8f22",
   "metadata": {
    "id": "c60b8f22"
   },
   "source": [
    "### 벡터 미분의 다른풀이"
   ]
  },
  {
   "cell_type": "markdown",
   "id": "7216e3d7",
   "metadata": {
    "id": "7216e3d7"
   },
   "source": [
    "#### (1)"
   ]
  },
  {
   "cell_type": "markdown",
   "id": "7dd6c5eb",
   "metadata": {
    "id": "7dd6c5eb"
   },
   "source": [
    "$$ \\frac {d x^{\\top}y}{d x} = \\left (\\frac {d x^{\\top}}{d x}\\right) y=y$$"
   ]
  },
  {
   "cell_type": "markdown",
   "id": "a0c3b5fb",
   "metadata": {
    "id": "a0c3b5fb"
   },
   "source": [
    "\\begin{align}\\left( \\frac {d x^{\\top}}{d x} \\right)  = \\begin{bmatrix} \\frac {d}{d x_1} \\\\  \\dots \\\\ \\frac {d}{d x_{n}} \\end {bmatrix} \\begin{bmatrix} x_1 \\dots x_n \\end{bmatrix} =\\begin{bmatrix}\\frac {d x_1}{d x_1} & \\dots & \\frac {d x_n}{d x_1} \\\\ \n",
    "                                                                         \\dots & \\dots  &\\dots  \\\\ \n",
    "                                                                        \\frac {d x_1}{d x_n} & \\dots & \\frac {d x_n}{d x_n}     \\end{bmatrix} = \\mathbf{I} \\nonumber \\end{align}"
   ]
  },
  {
   "cell_type": "markdown",
   "id": "1c0c781b",
   "metadata": {
    "id": "1c0c781b"
   },
   "source": [
    "$$\\therefore \\quad \\frac {d x^{\\top}y}{d x} = \\left (\\frac {d x^{\\top}}{d x}\\right) y = \\mathbf{I} y = y$$"
   ]
  },
  {
   "cell_type": "markdown",
   "id": "a94aa8be",
   "metadata": {
    "id": "a94aa8be"
   },
   "source": [
    "#### (2)"
   ]
  },
  {
   "cell_type": "markdown",
   "id": "575f60e6",
   "metadata": {
    "id": "575f60e6"
   },
   "source": [
    "$$ \\frac {d y^{\\top}x}{d x} = \\left (\\frac {d y^{\\top}x}{d x}\\right) =y $$"
   ]
  },
  {
   "cell_type": "markdown",
   "id": "c28cde9c",
   "metadata": {
    "id": "c28cde9c"
   },
   "source": [
    "$ y^{\\top} x $는 $1 \\times 1$ 차원이므로 인간이면 이해할 수 있을 듯?"
   ]
  },
  {
   "cell_type": "markdown",
   "id": "a92a2305",
   "metadata": {
    "id": "a92a2305"
   },
   "source": [
    "#### (3)"
   ]
  },
  {
   "cell_type": "markdown",
   "id": "4680fae7",
   "metadata": {
    "id": "4680fae7"
   },
   "source": [
    "$$\\frac {d}{d \\boldsymbol{\\beta}} \\left ( \\mathbf{y^{\\top}X\\boldsymbol \\beta}\\right ) = \\mathbf{X^{\\top}y}$$"
   ]
  },
  {
   "cell_type": "markdown",
   "id": "0273911f",
   "metadata": {
    "id": "0273911f"
   },
   "source": [
    "$\\mathbf{y^{\\top}X\\boldsymbol \\beta}$ 는 $1 \\times 1$ 인 스칼라 이므로"
   ]
  },
  {
   "cell_type": "markdown",
   "id": "9689fa38",
   "metadata": {
    "id": "9689fa38"
   },
   "source": [
    "$$\\mathbf{y^{\\top}X\\boldsymbol \\beta} = \\left (\\mathbf{y^{\\top}X\\boldsymbol \\beta}\\right)^{\\top} = \\boldsymbol \\beta^{\\top}\\mathbf{X^{\\top} y}$$"
   ]
  },
  {
   "cell_type": "markdown",
   "id": "217b0295",
   "metadata": {
    "id": "217b0295"
   },
   "source": [
    "따라서 "
   ]
  },
  {
   "cell_type": "markdown",
   "id": "00dbee40",
   "metadata": {
    "id": "00dbee40"
   },
   "source": [
    "\\begin{align} \\frac {d}{d \\boldsymbol{\\beta}} \\left ( \\mathbf{y^{\\top}X\\boldsymbol \\beta}\\right ) &= \\frac {d}{d \\boldsymbol{\\beta}} \\left (\\boldsymbol \\beta^{\\top}\\mathbf{X^{\\top} y}\\right )\\nonumber \\\\ \\\\ \n",
    "                                                  &= \\left ( \\frac{d}{d \\boldsymbol{\\beta}}\\boldsymbol{\\beta}^{\\top}\\right)\\mathbf{X^{\\top y}} \\nonumber\\\\ \\\\ \n",
    "                                                    &= \\mathbf{I\\,X^{\\top}y} \\nonumber \\\\ \\\\ &= \\mathbf{X^{\\top}y}    \\nonumber      \\end{align}"
   ]
  },
  {
   "cell_type": "markdown",
   "id": "10906f74",
   "metadata": {
    "id": "10906f74"
   },
   "source": [
    "#### (4)"
   ]
  },
  {
   "cell_type": "markdown",
   "id": "3b8acbc5",
   "metadata": {
    "id": "3b8acbc5"
   },
   "source": [
    "$$ \\frac {d }{d \\mathbf {y}} (\\mathbf{y^{\\top}y}) = 2\\mathbf{y}$$"
   ]
  },
  {
   "cell_type": "markdown",
   "id": "f04eee62",
   "metadata": {
    "id": "f04eee62"
   },
   "source": [
    "$$ d\\, \\mathbf{y} = \\left [\\frac {d}{y_1}, \\,\\frac {d}{y_2}\\dots\\dots \\frac {d}{y_n}\\right ]$$"
   ]
  },
  {
   "cell_type": "markdown",
   "id": "e9ff5034",
   "metadata": {
    "id": "e9ff5034"
   },
   "source": [
    "$$\\mathbf{y^{\\top}y} =  \\sum{y_i}^2$$"
   ]
  },
  {
   "cell_type": "markdown",
   "id": "61c476cf",
   "metadata": {
    "id": "61c476cf"
   },
   "source": [
    "$$\\therefore  \\quad \\frac {d }{d \\mathbf {y}} (\\mathbf{y^{\\top}y}) = 2\\mathbf{y}$$"
   ]
  },
  {
   "cell_type": "markdown",
   "id": "db6fdb21",
   "metadata": {
    "id": "db6fdb21"
   },
   "source": [
    "#### 참고할 틀린풀이"
   ]
  },
  {
   "cell_type": "markdown",
   "id": "5179129d",
   "metadata": {
    "id": "5179129d"
   },
   "source": [
    "* 아래와 같은 풀이는 1번의 벡터 미분의 다른 풀이처럼 풀면 안된다."
   ]
  },
  {
   "cell_type": "markdown",
   "id": "b0fdac2a",
   "metadata": {
    "id": "b0fdac2a"
   },
   "source": [
    "$$ \\frac {d }{d \\mathbf {y}} (\\mathbf{y^{\\top}y}) = \\mathbf{y}$$"
   ]
  },
  {
   "cell_type": "markdown",
   "id": "ff1dd4e0",
   "metadata": {
    "id": "ff1dd4e0"
   },
   "source": [
    "$$ \\frac {d\\,\\mathbf{y^{\\top}y}}{d \\,\\mathbf{y}} = \\left (\\frac {d\\, \\mathbf{y^{\\top}y}}{d\\, \\mathbf y}\\right) \\mathbf y= \\mathbf{I} y \\neq y$$"
   ]
  },
  {
   "cell_type": "markdown",
   "id": "9bba973f",
   "metadata": {
    "id": "9bba973f"
   },
   "source": [
    "because 스칼라 경우를 생각해보자"
   ]
  },
  {
   "cell_type": "markdown",
   "id": "92f8d960",
   "metadata": {
    "id": "92f8d960"
   },
   "source": [
    "(틀린풀이 )$\\quad \\frac {d }{d\\,y} y^2 = \\left (\\frac {d}{d\\,y } yy \\right) = y$  ?"
   ]
  },
  {
   "cell_type": "markdown",
   "id": "47a9ae2c",
   "metadata": {
    "id": "47a9ae2c"
   },
   "source": [
    "(올바른 풀이) $\\quad \\frac {d }{d\\,y} y^2 = \\left (\\frac {d}{d\\,y } y_1 \\right)+ \\left (\\frac {d}{d\\,y } y_2 \\right) = 2y$"
   ]
  },
  {
   "cell_type": "markdown",
   "id": "f9eec8e9",
   "metadata": {
    "id": "f9eec8e9"
   },
   "source": [
    "\n",
    "스칼라를 예제로 들었는데 벡터에서 이런 느낌이라고 생각하자 이게 표준적으로 사용되는 설명은 아니지만 이해적? 으로는 간편한 듯 "
   ]
  },
  {
   "cell_type": "markdown",
   "id": "5845d895",
   "metadata": {
    "id": "5845d895"
   },
   "source": [
    "다른풀이 (3)번의 경우도 원래는 안되는데 값이 스칼라 이므로 틀린풀이 처럼 안되는 경우이나 `1 x 1` 행렬이므로 가능한 것이다."
   ]
  },
  {
   "cell_type": "markdown",
   "id": "e2e6710d",
   "metadata": {
    "id": "e2e6710d"
   },
   "source": [
    "다시 벡터로 돌아오면"
   ]
  },
  {
   "cell_type": "markdown",
   "id": "33c8fd53",
   "metadata": {
    "id": "33c8fd53"
   },
   "source": [
    "(올바른 풀이) $\\quad \\left ( \\frac {d}{d\\,\\mathbf{y}} (\\mathbf{y^{\\top}y})\\right ) = A + B$"
   ]
  },
  {
   "cell_type": "markdown",
   "id": "ec9104ef",
   "metadata": {
    "id": "ec9104ef"
   },
   "source": [
    "$A = f(\\mathbf y)$ , $B = g(\\mathbf y)$ 라고 생각하자"
   ]
  },
  {
   "cell_type": "markdown",
   "id": "9f9c5ce6",
   "metadata": {
    "id": "9f9c5ce6"
   },
   "source": [
    "$ \\frac {d}{d\\,\\mathbf y} A =\\left (\\frac {d}{d\\,\\mathbf y} \\mathbf {y^{\\top}y} \\right ) = \\mathbf {I\\,y} = \\mathbf {I\\,y}  $"
   ]
  },
  {
   "cell_type": "markdown",
   "id": "d20948d2",
   "metadata": {
    "id": "d20948d2"
   },
   "source": [
    "$B$ 의 경우도 위와 동일하므로"
   ]
  },
  {
   "cell_type": "markdown",
   "id": "7c805e00",
   "metadata": {
    "id": "7c805e00"
   },
   "source": [
    "$$\\frac {d\\,(A+B)}{d\\,\\mathbf{y}} = \\{f(\\mathbf {y})\\}^{\\prime} +\\{g(\\mathbf {y})\\}^{\\prime} = 2\\mathbf{y}$$"
   ]
  },
  {
   "cell_type": "markdown",
   "id": "8f27094c",
   "metadata": {
    "id": "8f27094c"
   },
   "source": [
    "#### (5)"
   ]
  },
  {
   "cell_type": "markdown",
   "id": "80fc0608",
   "metadata": {
    "id": "80fc0608"
   },
   "source": [
    "$$\\frac{\\partial}{\\partial \\boldsymbol{\\beta}} {\\boldsymbol\\beta}^\\top {\\bf X}^\\top {\\bf X} {\\boldsymbol\\beta} = 2\\mathbf{X^{\\top}X}\\boldsymbol \\beta$$"
   ]
  },
  {
   "cell_type": "markdown",
   "id": "3b1819b4",
   "metadata": {
    "id": "3b1819b4"
   },
   "source": [
    "4번의 원리를 이용하면 이지이지"
   ]
  },
  {
   "cell_type": "markdown",
   "id": "eac3fe0f",
   "metadata": {
    "id": "eac3fe0f"
   },
   "source": [
    "## loss를 미분"
   ]
  },
  {
   "cell_type": "markdown",
   "id": "89f200dc",
   "metadata": {
    "id": "89f200dc"
   },
   "source": [
    "$$L=loss=({\\bf y}-{\\bf X}{\\boldsymbol \\beta})^\\top({\\bf y}-{\\bf X}{\\boldsymbol \\beta})$$"
   ]
  },
  {
   "cell_type": "markdown",
   "id": "d6f75864",
   "metadata": {
    "id": "d6f75864"
   },
   "source": [
    "$$L = {\\bf y}^\\top {\\bf y} - {\\bf y}^\\top {\\bf X}{\\boldsymbol\\beta} - {\\boldsymbol\\beta}^\\top {\\bf X}^\\top {\\bf y} + {\\boldsymbol\\beta}^\\top {\\bf X}^\\top {\\bf X} {\\boldsymbol\\beta}$$"
   ]
  },
  {
   "cell_type": "markdown",
   "id": "5995b4ba",
   "metadata": {
    "id": "5995b4ba"
   },
   "source": [
    "$L$ 을 미분하면"
   ]
  },
  {
   "cell_type": "markdown",
   "id": "69f6f683",
   "metadata": {
    "id": "69f6f683"
   },
   "source": [
    "\\begin{align} \\frac{\\partial}{\\partial \\boldsymbol{\\beta}} L &= \\frac{\\partial}{\\partial \\boldsymbol{\\beta}} {\\bf y}^\\top {\\bf y} - \\frac{\\partial}{\\partial \\boldsymbol{\\beta}} {\\bf y}^\\top {\\bf X}{\\boldsymbol\\beta} - \\frac{\\partial}{\\partial \\boldsymbol{\\beta}} {\\boldsymbol\\beta}^\\top {\\bf X}^\\top {\\bf y} + \\frac{\\partial}{\\partial \\boldsymbol{\\beta}} {\\boldsymbol\\beta}^\\top {\\bf X}^\\top {\\bf X} {\\boldsymbol\\beta} \\nonumber \\\\ \\\\ \n",
    "            &=  0 - \\mathbf{X^{\\top}y} - \\mathbf{X^{\\top}y} + 2\\mathbf{X^{\\top}X\\boldsymbol \\beta}\\nonumber \\end{align}"
   ]
  },
  {
   "cell_type": "markdown",
   "id": "e56f52f1",
   "metadata": {
    "id": "e56f52f1"
   },
   "source": [
    "따라서 아래와 같은식이 성립한다."
   ]
  },
  {
   "cell_type": "markdown",
   "id": "a9487ba5",
   "metadata": {
    "id": "a9487ba5"
   },
   "source": [
    "$$  \\mathbf{X^{\\top}y}= \\mathbf{X^{\\top} X} \\boldsymbol \\beta $$"
   ]
  },
  {
   "cell_type": "markdown",
   "id": "4c3efc02",
   "metadata": {
    "id": "4c3efc02"
   },
   "source": [
    "$$\\hat {\\boldsymbol \\beta} = \\mathbf{\\left (X^{\\top}X\\right)^{-1}Xy}  $$"
   ]
  }
 ],
 "metadata": {
  "colab": {
   "collapsed_sections": [],
   "name": "2022-03-08-(1주차).ipynb",
   "provenance": [],
   "toc_visible": true
  },
  "kernelspec": {
   "display_name": "Python 3 (ipykernel)",
   "language": "python",
   "name": "python3"
  },
  "language_info": {
   "codemirror_mode": {
    "name": "ipython",
    "version": 3
   },
   "file_extension": ".py",
   "mimetype": "text/x-python",
   "name": "python",
   "nbconvert_exporter": "python",
   "pygments_lexer": "ipython3",
   "version": "3.9.13"
  },
  "toc": {
   "base_numbering": 1,
   "nav_menu": {},
   "number_sections": false,
   "sideBar": true,
   "skip_h1_title": false,
   "title_cell": "Table of Contents",
   "title_sidebar": "Contents",
   "toc_cell": false,
   "toc_position": {
    "height": "calc(100% - 180px)",
    "left": "10px",
    "top": "150px",
    "width": "303.837px"
   },
   "toc_section_display": true,
   "toc_window_display": true
  }
 },
 "nbformat": 4,
 "nbformat_minor": 5
}
