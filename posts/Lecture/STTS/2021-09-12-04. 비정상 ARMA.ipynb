{
 "cells": [
  {
   "cell_type": "raw",
   "metadata": {},
   "source": [
    "---\n",
    "title : \"04. 비정상 ARMA\"\n",
    "author : \"GC\"\n",
    "date : \"09/12/21\"\n",
    "---"
   ]
  },
  {
   "cell_type": "markdown",
   "metadata": {},
   "source": [
    "# 0. 정상시계열과 비정상시계열"
   ]
  },
  {
   "cell_type": "markdown",
   "metadata": {},
   "source": [
    "## (a) 정상시계열"
   ]
  },
  {
   "cell_type": "markdown",
   "metadata": {},
   "source": [
    "* 우리가 이야기하는 정상시계열이란 아래와 같은 약정상성을 따르는 시계열 데이터를 말한다."
   ]
  },
  {
   "cell_type": "markdown",
   "metadata": {},
   "source": [
    "* 평균과 분산이 관측 시점에 관계없이 일정 $\\to E(Z_t)= \\mu,\\,\\, Var(Z_t)= \\sigma^2$ (시계열 그림으로 확인 가능)"
   ]
  },
  {
   "cell_type": "markdown",
   "metadata": {},
   "source": [
    "* 자기 공분산이 관측 시점과는 무관하고, 시차에만 의존 $\\to Cov(Z_t,Z_{t+h})=\\sigma_h$ (SACF=Sample Auto Covariance Function)그림을 그려 확인"
   ]
  },
  {
   "cell_type": "markdown",
   "metadata": {},
   "source": [
    "## (b) 비정상 시계열(nonstationary time series)"
   ]
  },
  {
   "cell_type": "markdown",
   "metadata": {},
   "source": [
    "* 시계열의 수준이 시간대에 따라 다르다. -> 추세 또는 계절성이 보인다."
   ]
  },
  {
   "cell_type": "markdown",
   "metadata": {},
   "source": [
    "* 시계열이 추세와 계절성을 가진다."
   ]
  },
  {
   "cell_type": "markdown",
   "metadata": {},
   "source": [
    "* 위 3가지는 $E(Z_t)=\\mu$를 위반한다."
   ]
  },
  {
   "cell_type": "markdown",
   "metadata": {},
   "source": [
    "* 시계열의 분산이 시간대에 따라 변함, 즉 이분산성을 가진다."
   ]
  },
  {
   "cell_type": "markdown",
   "metadata": {},
   "source": [
    "***"
   ]
  },
  {
   "cell_type": "markdown",
   "metadata": {},
   "source": [
    "# 1. 비정상 시계열 정상화 단계 1 - 이분산성"
   ]
  },
  {
   "cell_type": "markdown",
   "metadata": {},
   "source": [
    "* 분산이 일정하지 않은 경우는 아래와 같은 분산 안정화 변환(=변수 변환)을 수행한다.\n",
    "    * Box-cox 변환, 로그 변환, 제곱근 변환 등\n",
    "    * $Z_t\\geq 0$이라는 제약 조건이 붙음"
   ]
  },
  {
   "cell_type": "markdown",
   "metadata": {},
   "source": [
    "* Boc-cox Transformation"
   ]
  },
  {
   "cell_type": "markdown",
   "metadata": {},
   "source": [
    " $$\\begin{eqnarray*}f_{\\lambda}(Z_t) = \\begin{cases}\\frac {Z_t^{\\lambda}-1}{\\lambda},\\quad Z_t \\geq 0, \\lambda >0 \\\\ \\\\\n",
    "                                           \\log({Z_t}),\\quad \\lambda =0      \\end{cases}\\end{eqnarray*}$$"
   ]
  },
  {
   "cell_type": "markdown",
   "metadata": {},
   "source": [
    "# 2. 비정상 시계열 정상화 단계 2 - 추세 제거 (Scale이 일정하지 않은 경우)"
   ]
  },
  {
   "cell_type": "markdown",
   "metadata": {},
   "source": [
    "## 2-1. 결정적 추세 ( = Deterministic trend)"
   ]
  },
  {
   "cell_type": "markdown",
   "metadata": {},
   "source": [
    "* 추세가 결정적이고 동시에 영원히 지속되는 경우"
   ]
  },
  {
   "cell_type": "markdown",
   "metadata": {},
   "source": [
    "* 시계열 그림을 통해 확인 가능하며 분해법을 이용하여 추세 제거 : $Z_t =T_t+S_t+l_t$"
   ]
  },
  {
   "cell_type": "markdown",
   "metadata": {},
   "source": [
    "* $\\hat l_t = Z_t - \\hat{T}_t-\\hat {S}_t$"
   ]
  },
  {
   "cell_type": "markdown",
   "metadata": {},
   "source": [
    "* 위 와같은 경우 $\\hat {l}_t $는 정상시계열을 따르게 되어 **ARMA** 모형 적합이 가능하게 된다."
   ]
  },
  {
   "cell_type": "markdown",
   "metadata": {},
   "source": [
    "* 결정적 추세도 차분을 통하여 제거가 가능하나 모형자체가 복잡해지므로 차분법보단 분해법을 선호한다."
   ]
  },
  {
   "cell_type": "markdown",
   "metadata": {},
   "source": [
    "* 추세 $\\begin {cases} 결정적 = 분해법 \\\\\n",
    "                       확률적 = 차분  \\end{cases}$ 이라고 생각하자."
   ]
  },
  {
   "cell_type": "markdown",
   "metadata": {},
   "source": [
    "## 2-2. 확률적 추세( = Stochastic trend)"
   ]
  },
  {
   "cell_type": "markdown",
   "metadata": {},
   "source": [
    "* 드문드문 추세가 보인다고 생각하자."
   ]
  },
  {
   "cell_type": "markdown",
   "metadata": {},
   "source": [
    "* 인접자료들 간에 존재하는 강한 양의 상관관계 때문에 어떤 추세가 있는 것처럼 보이거나 수준이 일정하지 않은 것처럼 보이는 경우"
   ]
  },
  {
   "cell_type": "markdown",
   "metadata": {},
   "source": [
    "* 시계열 그림만으로 확인하기 어려우며 **SACF**를 그려 확인\n",
    "    * 천천히 0으로 감소하는 경향을 보이면 확률적 추세가 존재한다고 생각"
   ]
  },
  {
   "cell_type": "markdown",
   "metadata": {},
   "source": [
    "* 차분법을 이용하여 정상화를 수행한다."
   ]
  },
  {
   "cell_type": "markdown",
   "metadata": {},
   "source": [
    "* 차분 연산자 (= Differencing Operator)"
   ]
  },
  {
   "cell_type": "markdown",
   "metadata": {},
   "source": [
    "* $\\nabla= 1- B$"
   ]
  },
  {
   "cell_type": "markdown",
   "metadata": {},
   "source": [
    "### 시차 lag = 1 차분"
   ]
  },
  {
   "cell_type": "markdown",
   "metadata": {},
   "source": [
    "$\\nabla Z_t = (1-B)Z_t = Z_t - Z_{t-1}$ "
   ]
  },
  {
   "cell_type": "markdown",
   "metadata": {},
   "source": [
    "### 시차 lag = 2 차분"
   ]
  },
  {
   "cell_type": "markdown",
   "metadata": {},
   "source": [
    "$\\begin{eqnarray*}\\nabla^2 Z_t &=& (1-B)^2Z_t \\\\ \\\\\n",
    "                                 &=& (1-2B+B^2)Z_t \\\\ \\\\\n",
    "                                 &=& Z_t - 2Z_{t-1}+Z_{t-2} \\\\ \\\\\n",
    "                                 &=& \\nabla Z_t - \\nabla Z_{t-1}\\end{eqnarray*}$ (시차 lag=2 차분)"
   ]
  },
  {
   "cell_type": "markdown",
   "metadata": {},
   "source": [
    "### 확률보행과정 정상화"
   ]
  },
  {
   "cell_type": "markdown",
   "metadata": {},
   "source": [
    "* {$Z_t$}: random walk => $Z_t= Z_{t-1}+\\varepsilon_t, \\varepsilon_t \\sim_{iid} (0,\\sigma^2)$"
   ]
  },
  {
   "cell_type": "markdown",
   "metadata": {},
   "source": [
    "* $\\nabla Z_t = Z_t- Z_{t-1} = \\varepsilon_t$ 이므로 $\\nabla Z_t \\sim WN(0,\\sigma^2)$"
   ]
  },
  {
   "cell_type": "markdown",
   "metadata": {},
   "source": [
    "* 즉, 차분한 시계열은 **White Noise**를 따른다."
   ]
  },
  {
   "cell_type": "markdown",
   "metadata": {},
   "source": [
    "***"
   ]
  },
  {
   "cell_type": "markdown",
   "metadata": {},
   "source": [
    "# 3. 비정상 시계열의 정상화 단계 3 - 계절성분 제거"
   ]
  },
  {
   "cell_type": "markdown",
   "metadata": {},
   "source": [
    "* 결정적 계절 추세의 경우 분해법 이용"
   ]
  },
  {
   "cell_type": "markdown",
   "metadata": {},
   "source": [
    "* 확률적 계절 추세의 경우 계절 차분 이용 => $\\nabla_s = 1-B^s$"
   ]
  },
  {
   "cell_type": "markdown",
   "metadata": {},
   "source": [
    "* 샘플의 수를 크게 늘릴 경우 $S_t \\approx S_{t-s}$ 이고 $ Z_t = S_t + l_t$ 를 생각하자."
   ]
  },
  {
   "cell_type": "markdown",
   "metadata": {},
   "source": [
    "$$\\begin{eqnarray*}\\nabla_sZ_t &=& Z_t-Z_{t-s} \\\\\n",
    "                               &=& S_t+l_t -(S_{t-s}+l_{t-s})  \\\\\n",
    "                               &=& l_t-l_{t-s}\\end{eqnarray*}$$"
   ]
  },
  {
   "cell_type": "markdown",
   "metadata": {},
   "source": [
    "* 따라서 $\\nabla_s Z_t$ 는 불규칙 성분으로 이루어진 정상시계열이다."
   ]
  },
  {
   "cell_type": "markdown",
   "metadata": {},
   "source": [
    "* 분해법이나 평활법의 경우는 분산안정화까지만 진행하여도 되나, ARMA같은 확률과정 모형 적합시 차분을 통해 정상시계열로 변환 후 모형적합을 해야한다."
   ]
  },
  {
   "cell_type": "markdown",
   "metadata": {},
   "source": [
    "***"
   ]
  },
  {
   "cell_type": "markdown",
   "metadata": {},
   "source": [
    "# 4. 비정상 자기회귀 - 이동평균 과정"
   ]
  },
  {
   "cell_type": "markdown",
   "metadata": {},
   "source": [
    "* **ARIMA ( Autoregressive Intergrated Moving Average) Model**"
   ]
  },
  {
   "cell_type": "markdown",
   "metadata": {},
   "source": [
    "* 확률적 추세만 제거하면 되는 정상시계열"
   ]
  },
  {
   "cell_type": "markdown",
   "metadata": {},
   "source": [
    "* 모형 =  $\\begin{cases} \\Phi(B) Z_t = \\Theta(B)\\varepsilon_t,\\quad ARMA \\\\ \\\\\n",
    "                         \\Phi(B)(1-B)^d Z_t= \\Theta(B)\\varepsilon_t \\quad ARIMA  \n",
    "                     \\end{cases}$"
   ]
  },
  {
   "cell_type": "markdown",
   "metadata": {},
   "source": [
    "* ARMA = 자기회귀이동평균과정, ARIMA = 자기회귀누적이동평균과정"
   ]
  },
  {
   "cell_type": "markdown",
   "metadata": {},
   "source": [
    "* $ARIMA$ 모형에서 $d$ 차 차분하면  정상시계열을 가지는 $ARMA$가 된다. "
   ]
  },
  {
   "cell_type": "markdown",
   "metadata": {},
   "source": [
    "$(Z_t \\sim ARIMA(p,d,q)) \\rightarrow \\nabla^dZ_t \\sim ARMA(p,q)$: stationary ARMA model"
   ]
  },
  {
   "cell_type": "markdown",
   "metadata": {},
   "source": [
    "* random walk 와 같은 비정상 $AR(1)$ model은 $AR(1)$로 표현하기보단 주로 $ARIMA(0,1,0)$으로 표현\n",
    "    * 이는 일반적으로 비정상 $AR(1)$은 확률적 추세 제거시 white noise가 되기 때문이다."
   ]
  },
  {
   "cell_type": "markdown",
   "metadata": {},
   "source": [
    "* $Z_t = Z_{t-1}+\\varepsilon_t$를 생각해보자."
   ]
  },
  {
   "cell_type": "markdown",
   "metadata": {},
   "source": [
    "$$\\begin{eqnarray*} \\nabla Z_t&=& Z_t - Z_{t-1} \\\\ \n",
    "                              &=& \\varepsilon_t \\sim ARMA(0,0),\\quad ARIMA(0,1,0)   \\end{eqnarray*}$$"
   ]
  },
  {
   "cell_type": "markdown",
   "metadata": {},
   "source": [
    "* $ARIMA (1,1,0)$을 생각해보자"
   ]
  },
  {
   "cell_type": "markdown",
   "metadata": {},
   "source": [
    "$$\\begin{eqnarray*}  (1-\\phi B)(1-B)Z_t &=& (1-B-\\phi B + \\phi B^2)Z_t  \\\\\n",
    "                                        &=& (1-(1+\\phi)B + \\phi B^2)Z_t \n",
    "\\end{eqnarray*}$$"
   ]
  },
  {
   "cell_type": "markdown",
   "metadata": {},
   "source": [
    "$$\\therefore  Z_t = (1+\\phi)Z_{t-1}-\\phi Z_{t-2}+\\varepsilon_t \\sim AR(2)$$"
   ]
  },
  {
   "cell_type": "markdown",
   "metadata": {},
   "source": [
    "* 그런데 정상성 조건에 의하여 $\\sum \\phi_i <1$이여야 하는데 그렇지 못하므로 위는 비정상 $AR(2)$이다."
   ]
  },
  {
   "cell_type": "markdown",
   "metadata": {},
   "source": [
    "* $ARIMA (p,1,0) \\sim 비정상 AR(p+1)$\n",
    "* $ARIMA (0,1,q) \\sim 비정상 MA(q+1)$"
   ]
  },
  {
   "cell_type": "markdown",
   "metadata": {},
   "source": [
    "# 과대차분 (Overdifferencing)"
   ]
  },
  {
   "cell_type": "markdown",
   "metadata": {},
   "source": [
    "* ARIMA 모형 적합시 지양해야되는 부분"
   ]
  },
  {
   "cell_type": "markdown",
   "metadata": {},
   "source": [
    "* MA(1) 모형을 생각해보자."
   ]
  },
  {
   "cell_type": "markdown",
   "metadata": {},
   "source": [
    "* $Var(Z_t) = (1+\\theta^2)\\sigma^2$"
   ]
  },
  {
   "cell_type": "markdown",
   "metadata": {},
   "source": [
    "* $Var(\\nabla Z_t) = \\left [\\,1+(1+\\theta)^2+\\theta^2 \\,\\right]\\sigma^2= (1+\\theta^2)\\sigma^2 + (1+\\theta^2)\\sigma^2$"
   ]
  },
  {
   "cell_type": "markdown",
   "metadata": {},
   "source": [
    "$\\therefore Var(Z_t)<Var(\\nabla Z_t)$ 가 성립"
   ]
  },
  {
   "cell_type": "markdown",
   "metadata": {},
   "source": [
    "* 위 식이 성립한다는 것은 모형의 설명력이 좋아진다 -> 즉 모형이 복잡해진다고 생각할 수 있다."
   ]
  },
  {
   "cell_type": "markdown",
   "metadata": {},
   "source": [
    " "
   ]
  },
  {
   "cell_type": "markdown",
   "metadata": {},
   "source": [
    "# Summary"
   ]
  },
  {
   "cell_type": "markdown",
   "metadata": {},
   "source": [
    "* 비정상시계열의 정상화단계는 이분산성 제거 -> 추세 및 계절성분 차분 (단 확률적 추세에 한해서)"
   ]
  },
  {
   "cell_type": "markdown",
   "metadata": {},
   "source": [
    " * 비정상자기회귀란 -> 확률적추세를 차분하여 제거하여야 하는 모형이다 : $ARIMA$ "
   ]
  },
  {
   "cell_type": "markdown",
   "metadata": {},
   "source": [
    "* 차분을 많이 하는 것은 좋지 않다. 보통 1~2회의 차분을 고려한다."
   ]
  },
  {
   "cell_type": "markdown",
   "metadata": {},
   "source": [
    "* 확률적 추세의 유무 판단은 $SACF$ 도표를 그려 0으로 천천히 감소하는 경향을 보이면 확률적 추세(추세 및 계절 추세)가 존재한다고 판단한다."
   ]
  },
  {
   "cell_type": "markdown",
   "metadata": {},
   "source": [
    "* $SACF$가 지수적으로 급격히 감소하는 패턴은 정상시계열의 패턴이다."
   ]
  }
 ],
 "metadata": {
  "kernelspec": {
   "display_name": "R",
   "language": "R",
   "name": "ir"
  },
  "language_info": {
   "codemirror_mode": "r",
   "file_extension": ".r",
   "mimetype": "text/x-r-source",
   "name": "R",
   "pygments_lexer": "r",
   "version": "4.1.3"
  },
  "toc": {
   "base_numbering": 1,
   "nav_menu": {},
   "number_sections": false,
   "sideBar": true,
   "skip_h1_title": false,
   "title_cell": "Table of Contents",
   "title_sidebar": "Contents",
   "toc_cell": false,
   "toc_position": {
    "height": "calc(100% - 180px)",
    "left": "10px",
    "top": "150px",
    "width": "335.99px"
   },
   "toc_section_display": true,
   "toc_window_display": true
  }
 },
 "nbformat": 4,
 "nbformat_minor": 4
}
