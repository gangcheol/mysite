{
 "cells": [
  {
   "cell_type": "raw",
   "metadata": {
    "id": "bnu-_Vpg9sar"
   },
   "source": [
    "---\n",
    "title : \"06. layer 과제\"\n",
    "author : \"GANGCHEOL LEE\"\n",
    "date : \"04/11/22\"\n",
    "categories : [python] \n",
    "---"
   ]
  },
  {
   "cell_type": "markdown",
   "metadata": {
    "id": "mEK_d_D59RVJ"
   },
   "source": [
    "`-`   케라스를 이용하여 아래를 만족하는 적절한 $\\beta_0$와 $\\beta_1$을 구하라. 적합결과를 시각화하라. (애니메이션 시각화 X) "
   ]
  },
  {
   "cell_type": "markdown",
   "metadata": {
    "id": "VO-fQgzn9g58"
   },
   "source": [
    "python\n",
    "```\n",
    "np.random.seed(43052) \n",
    "N= 100 \n",
    "x= np.linspace(-1,1,N)\n",
    "epsilon = np.random.randn(N)*0.5 \n",
    "y= 2.5+4*np.exp(-x) +epsilon\n",
    "```"
   ]
  },
  {
   "cell_type": "markdown",
   "metadata": {
    "id": "u_KrkxgF92A8"
   },
   "source": [
    "$$\\hat {y} \\approx 2.5+ 4e^{-x}  $$"
   ]
  },
  {
   "cell_type": "markdown",
   "metadata": {
    "id": "nhGcmuXs9oP9"
   },
   "source": [
    "## Solution"
   ]
  },
  {
   "cell_type": "code",
   "execution_count": 2,
   "metadata": {
    "executionInfo": {
     "elapsed": 5464,
     "status": "ok",
     "timestamp": 1649753323072,
     "user": {
      "displayName": "이강철",
      "userId": "13507850890638580947"
     },
     "user_tz": -540
    },
    "id": "z4HFPFhN9dwH"
   },
   "outputs": [],
   "source": [
    "import numpy as np\n",
    "import matplotlib.pyplot as plt \n",
    "import tensorflow as tf \n",
    "import tensorflow.experimental.numpy as tnp "
   ]
  },
  {
   "cell_type": "code",
   "execution_count": 12,
   "metadata": {
    "executionInfo": {
     "elapsed": 241,
     "status": "ok",
     "timestamp": 1649753551233,
     "user": {
      "displayName": "이강철",
      "userId": "13507850890638580947"
     },
     "user_tz": -540
    },
    "id": "onlLWv0Y9ejo"
   },
   "outputs": [],
   "source": [
    "tnp.experimental_enable_numpy_behavior()"
   ]
  },
  {
   "cell_type": "code",
   "execution_count": 40,
   "metadata": {
    "executionInfo": {
     "elapsed": 331,
     "status": "ok",
     "timestamp": 1649753939878,
     "user": {
      "displayName": "이강철",
      "userId": "13507850890638580947"
     },
     "user_tz": -540
    },
    "id": "sy0kJJGa9Jkx"
   },
   "outputs": [],
   "source": [
    "np.random.seed(43052) \n",
    "N= 100\n",
    "x= np.linspace(-1,1,N)\n",
    "epsilon = np.random.randn(N)*0.5 \n",
    "y= 2.5+4*np.exp(-x) +epsilon"
   ]
  },
  {
   "cell_type": "code",
   "execution_count": 41,
   "metadata": {
    "executionInfo": {
     "elapsed": 3,
     "status": "ok",
     "timestamp": 1649753941122,
     "user": {
      "displayName": "이강철",
      "userId": "13507850890638580947"
     },
     "user_tz": -540
    },
    "id": "ktOAkfCa-fHj"
   },
   "outputs": [],
   "source": [
    "X= np.stack([np.ones(N),np.exp(-x)],axis=1)\n",
    "y= y.reshape(N,1)"
   ]
  },
  {
   "cell_type": "code",
   "execution_count": 42,
   "metadata": {
    "executionInfo": {
     "elapsed": 277,
     "status": "ok",
     "timestamp": 1649753945242,
     "user": {
      "displayName": "이강철",
      "userId": "13507850890638580947"
     },
     "user_tz": -540
    },
    "id": "mqI3GjZ1-IL0"
   },
   "outputs": [],
   "source": [
    "net = tf.keras.Sequential()"
   ]
  },
  {
   "cell_type": "code",
   "execution_count": 43,
   "metadata": {
    "executionInfo": {
     "elapsed": 3,
     "status": "ok",
     "timestamp": 1649753946545,
     "user": {
      "displayName": "이강철",
      "userId": "13507850890638580947"
     },
     "user_tz": -540
    },
    "id": "XsAo1Aqk-JAn"
   },
   "outputs": [],
   "source": [
    "net.add(tf.keras.layers.Dense(1,use_bias=False))\n",
    "net.compile(tf.keras.optimizers.SGD(0.1), loss='mse') "
   ]
  },
  {
   "cell_type": "code",
   "execution_count": 44,
   "metadata": {
    "colab": {
     "base_uri": "https://localhost:8080/"
    },
    "executionInfo": {
     "elapsed": 2758,
     "status": "ok",
     "timestamp": 1649753950632,
     "user": {
      "displayName": "이강철",
      "userId": "13507850890638580947"
     },
     "user_tz": -540
    },
    "id": "1qXDmbbh-MaV",
    "outputId": "537cf975-e33f-40c6-f1b6-222ee23bf42c"
   },
   "outputs": [
    {
     "data": {
      "text/plain": [
       "<keras.callbacks.History at 0x7f77b5e4c250>"
      ]
     },
     "execution_count": 44,
     "metadata": {},
     "output_type": "execute_result"
    }
   ],
   "source": [
    "net.fit(X,y,epochs=1000,verbose=0,batch_size=N) "
   ]
  },
  {
   "cell_type": "code",
   "execution_count": 45,
   "metadata": {
    "colab": {
     "base_uri": "https://localhost:8080/"
    },
    "executionInfo": {
     "elapsed": 4,
     "status": "ok",
     "timestamp": 1649753951504,
     "user": {
      "displayName": "이강철",
      "userId": "13507850890638580947"
     },
     "user_tz": -540
    },
    "id": "HYDBQYgV-oN1",
    "outputId": "a8771e29-3992-4d87-9772-d04f250dd865"
   },
   "outputs": [
    {
     "data": {
      "text/plain": [
       "[<tf.Variable 'dense_8/kernel:0' shape=(2, 1) dtype=float32, numpy=\n",
       " array([[2.4630797],\n",
       "        [3.996811 ]], dtype=float32)>]"
      ]
     },
     "execution_count": 45,
     "metadata": {},
     "output_type": "execute_result"
    }
   ],
   "source": [
    "net.weights"
   ]
  },
  {
   "cell_type": "code",
   "execution_count": 68,
   "metadata": {
    "executionInfo": {
     "elapsed": 325,
     "status": "ok",
     "timestamp": 1649754361843,
     "user": {
      "displayName": "이강철",
      "userId": "13507850890638580947"
     },
     "user_tz": -540
    },
    "id": "nT76SPBqAKk7"
   },
   "outputs": [],
   "source": [
    "beta_hat = net.weights\n",
    "y_hat = (X @ beta_hat).reshape(-1)"
   ]
  },
  {
   "cell_type": "code",
   "execution_count": 54,
   "metadata": {
    "executionInfo": {
     "elapsed": 249,
     "status": "ok",
     "timestamp": 1649754165339,
     "user": {
      "displayName": "이강철",
      "userId": "13507850890638580947"
     },
     "user_tz": -540
    },
    "id": "g7xldT74ATCM"
   },
   "outputs": [],
   "source": [
    "import pandas as pd\n",
    "import matplotlib.pyplot as plt "
   ]
  },
  {
   "cell_type": "code",
   "execution_count": 72,
   "metadata": {
    "colab": {
     "base_uri": "https://localhost:8080/",
     "height": 283
    },
    "executionInfo": {
     "elapsed": 651,
     "status": "ok",
     "timestamp": 1649754415133,
     "user": {
      "displayName": "이강철",
      "userId": "13507850890638580947"
     },
     "user_tz": -540
    },
    "id": "seC6NnDtAcu-",
    "outputId": "6b98846d-8014-41cd-a9ef-56a0339383e8"
   },
   "outputs": [
    {
     "data": {
      "text/plain": [
       "[<matplotlib.lines.Line2D at 0x7f77b5a00b10>]"
      ]
     },
     "execution_count": 72,
     "metadata": {},
     "output_type": "execute_result"
    },
    {
     "data": {
      "image/png": "[encoded data removed]",
      "text/plain": [
       "<Figure size 432x288 with 1 Axes>"
      ]
     },
     "metadata": {
      "needs_background": "light"
     },
     "output_type": "display_data"
    }
   ],
   "source": [
    "plt.plot(x,y,\".\")\n",
    "plt.plot(x,y_hat,\"--\")"
   ]
  }
 ],
 "metadata": {
  "colab": {
   "authorship_tag": "ABX9TyP7BprLeyxowWT0i2zaTH/d",
   "collapsed_sections": [],
   "name": "2020-04-12-(6주차) 과제.ipynb",
   "provenance": []
  },
  "kernelspec": {
   "display_name": "Python 3 (ipykernel)",
   "language": "python",
   "name": "python3"
  },
  "language_info": {
   "codemirror_mode": {
    "name": "ipython",
    "version": 3
   },
   "file_extension": ".py",
   "mimetype": "text/x-python",
   "name": "python",
   "nbconvert_exporter": "python",
   "pygments_lexer": "ipython3",
   "version": "3.9.13"
  }
 },
 "nbformat": 4,
 "nbformat_minor": 1
}
