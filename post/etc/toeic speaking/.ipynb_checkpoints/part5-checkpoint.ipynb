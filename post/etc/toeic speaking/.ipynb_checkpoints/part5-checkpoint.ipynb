{
 "cells": [
  {
   "cell_type": "raw",
   "id": "d54ded5b",
   "metadata": {},
   "source": [
    "---\n",
    "title : \"part 5\"\n",
    "date : \"02/10/23\"\n",
    "author : \"GANGCHEOL LEE\"\n",
    "categories : \"speaking\"\n",
    "---"
   ]
  },
  {
   "cell_type": "markdown",
   "id": "dbbd4e1e",
   "metadata": {},
   "source": [
    "# 0. Intro"
   ]
  },
  {
   "cell_type": "markdown",
   "id": "9512a7dd",
   "metadata": {},
   "source": [
    "`-` : 준비시간 45초, 답변시간 60초"
   ]
  },
  {
   "cell_type": "markdown",
   "id": "2c10b650",
   "metadata": {},
   "source": [
    "`-` [part5 이론강의영상](https://youtu.be/xgJuKIZQbeo)"
   ]
  },
  {
   "cell_type": "markdown",
   "id": "3d0ba1fb",
   "metadata": {},
   "source": [
    "## (1) 준비시간 전략"
   ]
  },
  {
   "cell_type": "markdown",
   "id": "9769f4f2",
   "metadata": {},
   "source": [
    "### (1)-1. 문제 해석과 이해"
   ]
  },
  {
   "cell_type": "markdown",
   "id": "a9b7dabc",
   "metadata": {},
   "source": [
    "* keypoint : **\"문제에 대한 적절합 답변을 하는 것!\"**"
   ]
  },
  {
   "cell_type": "markdown",
   "id": "3ae97092",
   "metadata": {},
   "source": [
    "* 15초 이내로 문제 해석을 끝낸내는 것이 가장 좋음"
   ]
  },
  {
   "cell_type": "markdown",
   "id": "5d659302",
   "metadata": {},
   "source": [
    "### (1)-2. 아이디어 생각하기"
   ]
  },
  {
   "cell_type": "markdown",
   "id": "4aa593fe",
   "metadata": {},
   "source": [
    "* **\"파트 5 만능 문장, 파트3 만능 문장50가지\"** 를 이용하여 2문장 이상을 준비시간에 생각해내자"
   ]
  },
  {
   "cell_type": "markdown",
   "id": "3433f4b7",
   "metadata": {},
   "source": [
    "* [파트 5 만능문장](https://youtu.be/P43wDlScjIs)"
   ]
  },
  {
   "cell_type": "markdown",
   "id": "3d89cfa3",
   "metadata": {},
   "source": [
    "### (1)-3. 노트 테이킹"
   ]
  },
  {
   "cell_type": "markdown",
   "id": "1bb02900",
   "metadata": {},
   "source": [
    "* 5글자 이상 되는 단어는 앞의 4-5글자만 쓰고, 동사 위주로만 필기하자."
   ]
  },
  {
   "cell_type": "markdown",
   "id": "aebd4375",
   "metadata": {},
   "source": [
    "## (2) 답변시간 전략"
   ]
  },
  {
   "cell_type": "markdown",
   "id": "f5dc569a",
   "metadata": {},
   "source": [
    "`-` 전반적인 순서 : 서론(결론) $\\to$ 이유1 $\\to$ 예시1$\\to$ 이유2 $\\to$ 예시2 $\\to$ Therefore, I agree with the statement~ "
   ]
  },
  {
   "cell_type": "markdown",
   "id": "dc6703ac",
   "metadata": {},
   "source": [
    "`-` 할 수 있다면 만능문장과, 모범답안을 계속 모방해서 연습하자(**고득점 전략!**)"
   ]
  },
  {
   "cell_type": "markdown",
   "id": "31a832a2",
   "metadata": {},
   "source": [
    "$\\divideontimes$ 동문서답금지 $\\to$ 외운 답변을 문제에 적절하지 않게그대로 말하면 큰 실점이 된다."
   ]
  },
  {
   "cell_type": "markdown",
   "id": "c227a124",
   "metadata": {},
   "source": [
    "## (3) 목표 레벨별 전략"
   ]
  },
  {
   "cell_type": "markdown",
   "id": "5452515c",
   "metadata": {},
   "source": [
    "`-` 130 ~ 150 (IH) : 문제에 적합한 답변을 채점자가 알아 듣게만 하자 $\\to$ 모범 답안의 70 ~ 80%의 퍼포먼스"
   ]
  },
  {
   "cell_type": "markdown",
   "id": "85e54274",
   "metadata": {},
   "source": [
    "`-` 160이상 (AL 이상) : 파트5 만능 문장을 2문장 이상 다양하게 이용해서 말한다.\n",
    "    \n",
    "    - 파트 3의 만능 문장 50의 쉬운 문장들도 함께 이용한다.\n",
    "    \n",
    "    - 만능 문장을 적용해서 답변하는 연습 (30 set구비)"
   ]
  },
  {
   "cell_type": "markdown",
   "id": "dd3c4788",
   "metadata": {},
   "source": [
    "* 130 + vs 160 : 구체성의 차이!\n",
    "    * A. IH 답변 : From my experience, I studied overseas\n",
    "    * B. AL 답변 : From my experience, I studied in Japan as an exchange student last year.\n",
    " "
   ]
  },
  {
   "cell_type": "markdown",
   "id": "11b050ed",
   "metadata": {},
   "source": [
    "## (4) part5 만능 문장"
   ]
  },
  {
   "cell_type": "markdown",
   "id": "e666574e",
   "metadata": {},
   "source": [
    "### A. 경험 & 교육"
   ]
  },
  {
   "cell_type": "markdown",
   "id": "8973f4bf",
   "metadata": {},
   "source": [
    "1. They can learn new things."
   ]
  },
  {
   "cell_type": "markdown",
   "id": "ee43bf48",
   "metadata": {},
   "source": [
    "2. They can meet new people and expand their network."
   ]
  },
  {
   "cell_type": "markdown",
   "id": "502f75c8",
   "metadata": {},
   "source": [
    "3. They can have a lot of (new) experience and broaden their perspective."
   ]
  },
  {
   "cell_type": "markdown",
   "id": "08994251",
   "metadata": {},
   "source": [
    "4. They can't make good decisions because they are not mature enough."
   ]
  },
  {
   "cell_type": "markdown",
   "id": "0cb08b14",
   "metadata": {},
   "source": [
    "### B. 집중"
   ]
  },
  {
   "cell_type": "markdown",
   "id": "c4830811",
   "metadata": {},
   "source": [
    "5. They will be distracted / if a teacher is not strict : strict(엄격한)"
   ]
  },
  {
   "cell_type": "markdown",
   "id": "3bb05bef",
   "metadata": {},
   "source": [
    "6. They can't focus on their studies/work."
   ]
  },
  {
   "cell_type": "markdown",
   "id": "f3d7f864",
   "metadata": {},
   "source": [
    "7. They can't get good grades at school."
   ]
  },
  {
   "cell_type": "markdown",
   "id": "46cc4247",
   "metadata": {},
   "source": [
    "8. They will fall behind in class."
   ]
  },
  {
   "cell_type": "markdown",
   "id": "cad94512",
   "metadata": {},
   "source": [
    "9. They can't work efficiently."
   ]
  },
  {
   "cell_type": "markdown",
   "id": "ffa63d12",
   "metadata": {},
   "source": [
    "###  C. 돈"
   ]
  },
  {
   "cell_type": "markdown",
   "id": "6ae8dcca",
   "metadata": {},
   "source": [
    "10. They can save money."
   ]
  },
  {
   "cell_type": "markdown",
   "id": "9ca551ab",
   "metadata": {},
   "source": [
    "11. The cost of living is too high."
   ]
  },
  {
   "cell_type": "markdown",
   "id": "baa5048d",
   "metadata": {},
   "source": [
    "12. They can't make a living."
   ]
  },
  {
   "cell_type": "markdown",
   "id": "bc783cea",
   "metadata": {},
   "source": [
    "13. I can get a high(er) salary."
   ]
  },
  {
   "cell_type": "markdown",
   "id": "b300ce09",
   "metadata": {},
   "source": [
    "14. The cost of N is too expensive."
   ]
  },
  {
   "cell_type": "markdown",
   "id": "8e1e3b56",
   "metadata": {},
   "source": [
    "15. It's waste of money."
   ]
  },
  {
   "cell_type": "markdown",
   "id": "77992914",
   "metadata": {},
   "source": [
    "16. That's good investment because it makes lives better."
   ]
  },
  {
   "cell_type": "markdown",
   "id": "a036b997",
   "metadata": {},
   "source": [
    "### D. 혼자 vs 같이"
   ]
  },
  {
   "cell_type": "markdown",
   "id": "1a87e780",
   "metadata": {},
   "source": [
    "17. They can focus better."
   ]
  },
  {
   "cell_type": "markdown",
   "id": "aa44b480",
   "metadata": {},
   "source": [
    "18. They will not be distracted by others."
   ]
  },
  {
   "cell_type": "markdown",
   "id": "d67c6b35",
   "metadata": {},
   "source": [
    "19. They can set their own schedule."
   ]
  },
  {
   "cell_type": "markdown",
   "id": "bbd1ba32",
   "metadata": {},
   "source": [
    "20. They can have more freedom."
   ]
  },
  {
   "cell_type": "markdown",
   "id": "e32829a3",
   "metadata": {},
   "source": [
    "21. They feel more comfortable."
   ]
  },
  {
   "cell_type": "markdown",
   "id": "adbfe242",
   "metadata": {},
   "source": [
    "22. It's fun and entertaining."
   ]
  },
  {
   "cell_type": "markdown",
   "id": "042d5a94",
   "metadata": {},
   "source": [
    "23. They can get information and share it with other people."
   ]
  },
  {
   "cell_type": "markdown",
   "id": "f23e4344",
   "metadata": {},
   "source": [
    "24. It feels more like a family."
   ]
  },
  {
   "cell_type": "markdown",
   "id": "a99f0647",
   "metadata": {},
   "source": [
    "### E. 기술"
   ]
  },
  {
   "cell_type": "markdown",
   "id": "5062356b",
   "metadata": {},
   "source": [
    "25. They can get a lot of (useful information/latest information) on the Internet.\n",
    "    \n",
    "    - 기기나 인터넷 상에서 하는 것 앞에는 전치사 **'on'** 을 쓴다."
   ]
  },
  {
   "cell_type": "markdown",
   "id": "8c5c8d7e",
   "metadata": {},
   "source": [
    "26. They can communicate with their friends anytime anywhere on their smartphones.\n"
   ]
  },
  {
   "cell_type": "markdown",
   "id": "4bcfe516",
   "metadata": {},
   "source": [
    "27. It's faster and convenient."
   ]
  },
  {
   "cell_type": "markdown",
   "id": "f3ab8f2b",
   "metadata": {},
   "source": [
    "28. There is a lot of inaccurate information on the internet so it's not reliable."
   ]
  },
  {
   "cell_type": "markdown",
   "id": "affbe315",
   "metadata": {},
   "source": [
    "29. it is very distracting for S so S can't focus on their studies/work."
   ]
  },
  {
   "cell_type": "markdown",
   "id": "62e35d55",
   "metadata": {},
   "source": [
    "30. I can get responses right away"
   ]
  },
  {
   "cell_type": "markdown",
   "id": "76ecf69b",
   "metadata": {},
   "source": [
    "31. I can understand the feeling  of the speaker more accurately."
   ]
  },
  {
   "cell_type": "markdown",
   "id": "20fa42dc",
   "metadata": {},
   "source": [
    "### F. 특징"
   ]
  },
  {
   "cell_type": "markdown",
   "id": "08f55c48",
   "metadata": {},
   "source": [
    "32. They can make a friendly (work) atmosphere."
   ]
  },
  {
   "cell_type": "markdown",
   "id": "9144bf6e",
   "metadata": {},
   "source": [
    "33. They can communicate with others better."
   ]
  },
  {
   "cell_type": "markdown",
   "id": "bb165c9a",
   "metadata": {},
   "source": [
    "34. They can be good team players and make good relationships with others."
   ]
  },
  {
   "cell_type": "markdown",
   "id": "21ad346f",
   "metadata": {},
   "source": [
    "35. They can have a good reputation."
   ]
  },
  {
   "cell_type": "markdown",
   "id": "c7cd91f2",
   "metadata": {},
   "source": [
    "36. They can be very influential."
   ]
  },
  {
   "cell_type": "markdown",
   "id": "345b992b",
   "metadata": {},
   "source": [
    "37. They can motivate others."
   ]
  },
  {
   "cell_type": "markdown",
   "id": "21b8a424",
   "metadata": {},
   "source": [
    "38. Everything is always changing and there is a lot of competition."
   ]
  },
  {
   "cell_type": "markdown",
   "id": "975a99ea",
   "metadata": {},
   "source": [
    "39. They face a lot of challenges and difficulties."
   ]
  },
  {
   "cell_type": "markdown",
   "id": "1223303e",
   "metadata": {},
   "source": [
    "40. He is able to handle a variety of situation due to his N."
   ]
  },
  {
   "cell_type": "markdown",
   "id": "fe203b8f",
   "metadata": {},
   "source": [
    "41. They have a lot of experience/knowledge."
   ]
  },
  {
   "cell_type": "markdown",
   "id": "f48c967f",
   "metadata": {},
   "source": [
    "### G. 업무 환경  & 기업 성공"
   ]
  },
  {
   "cell_type": "markdown",
   "id": "ae63b0cb",
   "metadata": {},
   "source": [
    "42. Employees can work more efficiently and productively."
   ]
  },
  {
   "cell_type": "markdown",
   "id": "e8d6bcff",
   "metadata": {},
   "source": [
    "43. Employees can be more satisfied with their jobs."
   ]
  },
  {
   "cell_type": "markdown",
   "id": "01116726",
   "metadata": {},
   "source": [
    "44. It can make a better work environment."
   ]
  },
  {
   "cell_type": "markdown",
   "id": "9e497d29",
   "metadata": {},
   "source": [
    "45. They might appear less professional."
   ]
  },
  {
   "cell_type": "markdown",
   "id": "d377627b",
   "metadata": {},
   "source": [
    "46. Customers will fell satisfied and remain loyal."
   ]
  },
  {
   "cell_type": "markdown",
   "id": "bd07fe26",
   "metadata": {},
   "source": [
    "47. It will attract more customers."
   ]
  },
  {
   "cell_type": "markdown",
   "id": "a5d1bf72",
   "metadata": {},
   "source": [
    "48. The business will be more successful."
   ]
  },
  {
   "cell_type": "markdown",
   "id": "f7c34b2f",
   "metadata": {},
   "source": [
    "49. People frequently use N so it will be very effective."
   ]
  },
  {
   "cell_type": "markdown",
   "id": "d4d9fbc9",
   "metadata": {},
   "source": [
    "### H. 스트레스 & 건강"
   ]
  },
  {
   "cell_type": "markdown",
   "id": "9e1b3cf2",
   "metadata": {},
   "source": [
    "50. It relieves their stress and they can relax."
   ]
  },
  {
   "cell_type": "markdown",
   "id": "a41166fb",
   "metadata": {},
   "source": [
    "51. It is good for their (Physical / mental) health."
   ]
  },
  {
   "cell_type": "markdown",
   "id": "3d799d39",
   "metadata": {},
   "source": [
    "52. It is not good for their health."
   ]
  },
  {
   "cell_type": "markdown",
   "id": "820bb4ae",
   "metadata": {},
   "source": [
    "### I. 환경"
   ]
  },
  {
   "cell_type": "markdown",
   "id": "daa43df1",
   "metadata": {},
   "source": [
    "53. It is good for environment."
   ]
  },
  {
   "cell_type": "markdown",
   "id": "7c83998e",
   "metadata": {},
   "source": [
    "54. Pollution is a serious issue these days."
   ]
  },
  {
   "cell_type": "markdown",
   "id": "f7201ffb",
   "metadata": {},
   "source": [
    "55. It can make a cleaner environment."
   ]
  },
  {
   "cell_type": "markdown",
   "id": "fdf1e39d",
   "metadata": {},
   "source": [
    "56. We will be able to protect the environment."
   ]
  },
  {
   "cell_type": "markdown",
   "id": "78e9f6ce",
   "metadata": {},
   "source": [
    "***"
   ]
  }
 ],
 "metadata": {
  "kernelspec": {
   "display_name": "Python 3 (ipykernel)",
   "language": "python",
   "name": "python3"
  },
  "language_info": {
   "codemirror_mode": {
    "name": "ipython",
    "version": 3
   },
   "file_extension": ".py",
   "mimetype": "text/x-python",
   "name": "python",
   "nbconvert_exporter": "python",
   "pygments_lexer": "ipython3",
   "version": "3.9.13"
  },
  "toc": {
   "base_numbering": 1,
   "nav_menu": {},
   "number_sections": false,
   "sideBar": true,
   "skip_h1_title": true,
   "title_cell": "Table of Contents",
   "title_sidebar": "Contents",
   "toc_cell": false,
   "toc_position": {
    "height": "calc(100% - 180px)",
    "left": "10px",
    "top": "150px",
    "width": "409.6px"
   },
   "toc_section_display": true,
   "toc_window_display": true
  }
 },
 "nbformat": 4,
 "nbformat_minor": 5
}
