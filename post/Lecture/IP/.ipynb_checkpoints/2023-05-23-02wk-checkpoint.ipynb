{
 "cells": [
  {
   "cell_type": "raw",
   "id": "a94cfc2d",
   "metadata": {},
   "source": [
    "---\n",
    "title : \"02. 리스트\"\n",
    "date : \"05/23/23\"\n",
    "categories : [\"Python\"]\n",
    "author : \"GANGCHEOL LEE\"\n",
    "---"
   ]
  },
  {
   "cell_type": "markdown",
   "id": "11898b6c",
   "metadata": {},
   "source": [
    "# list basic"
   ]
  },
  {
   "cell_type": "markdown",
   "id": "c0e5ee00-0196-4749-910e-7fe8be09bd0e",
   "metadata": {},
   "source": [
    "`-` 리스트는 사칙연산 중 덧셈, 곱하기만 지원한다.$\\to$ 그렇다고 그 연산이, 실제 더하기나 곱하기를 수행하지 않음"
   ]
  },
  {
   "cell_type": "markdown",
   "id": "cd0d8d9c-5d27-4430-b533-56086bdbc40e",
   "metadata": {},
   "source": [
    "`-` 리스트에 더하기와 곱하기 연산은 두 개의 리스트가 주어졌을 때 단순히 이어 붙인다는 느낌이다."
   ]
  },
  {
   "cell_type": "markdown",
   "id": "6a89f967-157d-4a2a-b4a7-78377a5ebad2",
   "metadata": {},
   "source": [
    "## ex1. 더하기"
   ]
  },
  {
   "cell_type": "code",
   "execution_count": 2,
   "id": "6561b951-9375-43c5-949e-a96b8f183ad2",
   "metadata": {},
   "outputs": [],
   "source": [
    "a = [1,2,3]\n",
    "b = [4,5,6]"
   ]
  },
  {
   "cell_type": "code",
   "execution_count": 3,
   "id": "97e66f0c-d407-44b0-968f-6c8e8f6a0ae1",
   "metadata": {},
   "outputs": [
    {
     "data": {
      "text/plain": [
       "[1, 2, 3, 4, 5, 6]"
      ]
     },
     "execution_count": 3,
     "metadata": {},
     "output_type": "execute_result"
    }
   ],
   "source": [
    "a+b"
   ]
  },
  {
   "cell_type": "markdown",
   "id": "8648d1f9-7416-4513-939b-5bbd4cd3999a",
   "metadata": {},
   "source": [
    "`-` R에서처럼 브로드캐스팅이 수행되지 않음"
   ]
  },
  {
   "cell_type": "code",
   "execution_count": 9,
   "id": "bae9373e-e9c1-40c1-b10a-2805891104e1",
   "metadata": {},
   "outputs": [
    {
     "ename": "TypeError",
     "evalue": "can only concatenate list (not \"int\") to list",
     "output_type": "error",
     "traceback": [
      "\u001b[1;31m---------------------------------------------------------------------------\u001b[0m",
      "\u001b[1;31mTypeError\u001b[0m                                 Traceback (most recent call last)",
      "Cell \u001b[1;32mIn[9], line 1\u001b[0m\n\u001b[1;32m----> 1\u001b[0m a\u001b[38;5;241m+\u001b[39m\u001b[38;5;241m1\u001b[39m\n",
      "\u001b[1;31mTypeError\u001b[0m: can only concatenate list (not \"int\") to list"
     ]
    }
   ],
   "source": [
    "a+1"
   ]
  },
  {
   "cell_type": "markdown",
   "id": "fa24a965-8ea1-4b99-98a6-d6b0530885eb",
   "metadata": {},
   "source": [
    "## ex.2 곱하기"
   ]
  },
  {
   "cell_type": "markdown",
   "id": "451e3505-a7ba-41c8-be21-4f1a042f961b",
   "metadata": {},
   "source": [
    "`-` 아래와 같은 연산은 수행되지 않음"
   ]
  },
  {
   "cell_type": "code",
   "execution_count": 5,
   "id": "a6262373-f329-48cb-a001-ed38957c921f",
   "metadata": {},
   "outputs": [
    {
     "ename": "TypeError",
     "evalue": "can't multiply sequence by non-int of type 'list'",
     "output_type": "error",
     "traceback": [
      "\u001b[1;31m---------------------------------------------------------------------------\u001b[0m",
      "\u001b[1;31mTypeError\u001b[0m                                 Traceback (most recent call last)",
      "Cell \u001b[1;32mIn[5], line 1\u001b[0m\n\u001b[1;32m----> 1\u001b[0m a\u001b[38;5;241m*\u001b[39mb\n",
      "\u001b[1;31mTypeError\u001b[0m: can't multiply sequence by non-int of type 'list'"
     ]
    }
   ],
   "source": [
    "a*b"
   ]
  },
  {
   "cell_type": "code",
   "execution_count": 6,
   "id": "4262697b-6543-46ab-8943-5141d406e98f",
   "metadata": {},
   "outputs": [
    {
     "data": {
      "text/plain": [
       "[1, 2, 3, 1, 2, 3, 1, 2, 3]"
      ]
     },
     "execution_count": 6,
     "metadata": {},
     "output_type": "execute_result"
    }
   ],
   "source": [
    "a*3"
   ]
  },
  {
   "cell_type": "markdown",
   "id": "2889fc22-2a48-44f5-a341-9d71931477ef",
   "metadata": {},
   "source": [
    "`-` 즉, 곱하기 연산은 특정 리스트를 얼마만큼 반복해서 채워넣느냐를 의미한다."
   ]
  },
  {
   "cell_type": "markdown",
   "id": "293eb7dd-e196-4ae4-9558-5893b8aa1c6d",
   "metadata": {},
   "source": [
    "## ex3. 실제 더하기 수행"
   ]
  },
  {
   "cell_type": "markdown",
   "id": "6426e0da-9e83-4dfe-9c89-bff060285903",
   "metadata": {},
   "source": [
    "`-` 리스트에서 실제 더하기를 수행은 다음과 같이 이루어진다."
   ]
  },
  {
   "cell_type": "code",
   "execution_count": 11,
   "id": "567a73de-762c-4d27-93fc-97f4e5676a68",
   "metadata": {},
   "outputs": [
    {
     "data": {
      "text/plain": [
       "([1, 2, 3], [4, 5, 6])"
      ]
     },
     "execution_count": 11,
     "metadata": {},
     "output_type": "execute_result"
    }
   ],
   "source": [
    "a,b"
   ]
  },
  {
   "cell_type": "code",
   "execution_count": 10,
   "id": "c696431e-aa38-472d-8557-eac548470ea3",
   "metadata": {},
   "outputs": [
    {
     "data": {
      "text/plain": [
       "[5, 7, 9]"
      ]
     },
     "execution_count": 10,
     "metadata": {},
     "output_type": "execute_result"
    }
   ],
   "source": [
    "[a[0]+b[0],a[1]+b[1],a[2]+b[2]]"
   ]
  },
  {
   "cell_type": "markdown",
   "id": "5ff560fa-fd28-4356-8715-d7db8ce682b6",
   "metadata": {},
   "source": [
    "### numpy를 이용한 풀이"
   ]
  },
  {
   "cell_type": "markdown",
   "id": "57250491-6d65-4c8c-839d-2e1bacfc397d",
   "metadata": {},
   "source": [
    "`-` 패키지를 설치하는 방법"
   ]
  },
  {
   "cell_type": "markdown",
   "id": "101002d3-f3f9-44f7-a789-757591bd0b33",
   "metadata": {},
   "source": [
    "* pip install numpy $\\to$ 최신버전 설치"
   ]
  },
  {
   "cell_type": "markdown",
   "id": "20513aa5-c176-476b-a5e9-cf9fe54086b4",
   "metadata": {},
   "source": [
    "* conda install -c conda-forge numpy -y $\\to$ 안전한 버전을 설치"
   ]
  },
  {
   "cell_type": "code",
   "execution_count": 13,
   "id": "26711857-bd73-4fcd-b0ca-8ff48890fbc7",
   "metadata": {},
   "outputs": [],
   "source": [
    "#conda install -c conda-forge numpy -y"
   ]
  },
  {
   "cell_type": "code",
   "execution_count": 14,
   "id": "6ee3d993-dfe0-4484-9769-7d6c4390bd3e",
   "metadata": {},
   "outputs": [],
   "source": [
    "import numpy as np"
   ]
  },
  {
   "cell_type": "code",
   "execution_count": 15,
   "id": "f2f4a0c3-482f-40ec-9e05-1ba5478a6ce5",
   "metadata": {},
   "outputs": [
    {
     "data": {
      "text/plain": [
       "([1, 2, 3], [4, 5, 6])"
      ]
     },
     "execution_count": 15,
     "metadata": {},
     "output_type": "execute_result"
    }
   ],
   "source": [
    "a,b"
   ]
  },
  {
   "cell_type": "code",
   "execution_count": 16,
   "id": "0fc92f39-3488-475d-99aa-e810f646e302",
   "metadata": {},
   "outputs": [],
   "source": [
    "aa = np.array(a)\n",
    "bb = np.array(b)"
   ]
  },
  {
   "cell_type": "code",
   "execution_count": 17,
   "id": "dba9cca6-894e-4c45-9d84-9b02057d8ed2",
   "metadata": {},
   "outputs": [
    {
     "data": {
      "text/plain": [
       "array([5, 7, 9])"
      ]
     },
     "execution_count": 17,
     "metadata": {},
     "output_type": "execute_result"
    }
   ],
   "source": [
    "aa+bb"
   ]
  },
  {
   "cell_type": "markdown",
   "id": "c4b98bcb-4909-4789-8e34-14076c783cc3",
   "metadata": {},
   "source": [
    "# list advanced"
   ]
  },
  {
   "cell_type": "markdown",
   "id": "98ee785d-a7c7-4277-892f-6b08740e1402",
   "metadata": {},
   "source": [
    "`-` 리스트는 단순히 int, float 뿐만 아니라 다양한 타입의 데이터를 저장할 수 있다."
   ]
  },
  {
   "cell_type": "markdown",
   "id": "bbaed311-f6f2-40ba-a37d-06c350aba1c3",
   "metadata": {},
   "source": [
    "## ex1"
   ]
  },
  {
   "cell_type": "code",
   "execution_count": 18,
   "id": "f76ac8ed-f2d7-4c51-8991-711916317fc8",
   "metadata": {},
   "outputs": [],
   "source": [
    "lst = [1, 3.14, True, \"a\",[1,2],(1,2),\n",
    "        {\"namme\" :\"iu\", \"age\":27},{1,2,3}]"
   ]
  },
  {
   "cell_type": "code",
   "execution_count": 23,
   "id": "b9512817-6741-4e81-8e7c-8911faad57a5",
   "metadata": {},
   "outputs": [
    {
     "name": "stdout",
     "output_type": "stream",
     "text": [
      "1   <class 'int'>\n",
      "3.14   <class 'float'>\n",
      "True   <class 'bool'>\n",
      "a   <class 'str'>\n",
      "[1, 2]   <class 'list'>\n",
      "(1, 2)   <class 'tuple'>\n",
      "{'namme': 'iu', 'age': 27}   <class 'dict'>\n",
      "{1, 2, 3}   <class 'set'>\n"
     ]
    }
   ],
   "source": [
    "for i in range(len(lst)) :\n",
    "        print(lst[i],\" \",type(lst[i]))"
   ]
  },
  {
   "cell_type": "markdown",
   "id": "902c78cd-edf3-4a93-99dc-40d56c5a95b1",
   "metadata": {},
   "source": [
    "`-` 또한, 리스트는 가면 객체, 즉 원소를 수정할 수 있다."
   ]
  },
  {
   "cell_type": "markdown",
   "id": "2b5f0e3f-3536-4736-9e1c-ec3df7e821b0",
   "metadata": {},
   "source": [
    "## ex2"
   ]
  },
  {
   "cell_type": "code",
   "execution_count": 24,
   "id": "01b3ac5e-40f0-49fe-a772-efe40448fae0",
   "metadata": {},
   "outputs": [],
   "source": [
    "a =[1,2,3]"
   ]
  },
  {
   "cell_type": "code",
   "execution_count": 26,
   "id": "32157c38-6610-4b53-a9fd-d7e58fccdbf8",
   "metadata": {},
   "outputs": [
    {
     "data": {
      "text/plain": [
       "[1, 2, 3]"
      ]
     },
     "execution_count": 26,
     "metadata": {},
     "output_type": "execute_result"
    }
   ],
   "source": [
    "a"
   ]
  },
  {
   "cell_type": "code",
   "execution_count": 27,
   "id": "1b28531c-7f3a-410c-ad85-72efde458083",
   "metadata": {},
   "outputs": [],
   "source": [
    "a[0] =1000"
   ]
  },
  {
   "cell_type": "code",
   "execution_count": 28,
   "id": "9a9486eb-60a9-497f-b6cf-4a94fb95bd4e",
   "metadata": {},
   "outputs": [
    {
     "data": {
      "text/plain": [
       "[1000, 2, 3]"
      ]
     },
     "execution_count": 28,
     "metadata": {},
     "output_type": "execute_result"
    }
   ],
   "source": [
    "a"
   ]
  },
  {
   "cell_type": "markdown",
   "id": "09b23c69-b5b5-4528-a703-c4619ec67f99",
   "metadata": {},
   "source": [
    "`-` 또한, 가변 객체이므로 삭제 기능 또한 제공한다."
   ]
  },
  {
   "cell_type": "markdown",
   "id": "c3cc00cd-e5f4-47f0-b253-6bd838dc1542",
   "metadata": {},
   "source": [
    "## ex3"
   ]
  },
  {
   "cell_type": "code",
   "execution_count": 35,
   "id": "a6e775fb-6c3f-4b95-91cb-a60e55ee32f8",
   "metadata": {},
   "outputs": [
    {
     "data": {
      "text/plain": [
       "[0, 1, 2, 3, 4, 5, 6]"
      ]
     },
     "execution_count": 35,
     "metadata": {},
     "output_type": "execute_result"
    }
   ],
   "source": [
    "a = list(range(7))\n",
    "a"
   ]
  },
  {
   "cell_type": "code",
   "execution_count": 36,
   "id": "c0cdfee6-202c-44b6-9ed7-a98d5e309d8a",
   "metadata": {},
   "outputs": [],
   "source": [
    "del a[0]"
   ]
  },
  {
   "cell_type": "code",
   "execution_count": 37,
   "id": "2646c3f7-e686-4bdc-b3da-de9657432322",
   "metadata": {},
   "outputs": [
    {
     "data": {
      "text/plain": [
       "[1, 2, 3, 4, 5, 6]"
      ]
     },
     "execution_count": 37,
     "metadata": {},
     "output_type": "execute_result"
    }
   ],
   "source": [
    "a"
   ]
  },
  {
   "cell_type": "code",
   "execution_count": 38,
   "id": "ebaaeb8e-95c2-4bc7-9740-46fb48f5df33",
   "metadata": {},
   "outputs": [
    {
     "data": {
      "text/plain": [
       "1"
      ]
     },
     "execution_count": 38,
     "metadata": {},
     "output_type": "execute_result"
    }
   ],
   "source": [
    "a.pop(0)"
   ]
  },
  {
   "cell_type": "code",
   "execution_count": 39,
   "id": "60ea8a2c-fc88-4f1b-963b-a88506a13e4a",
   "metadata": {},
   "outputs": [
    {
     "data": {
      "text/plain": [
       "[2, 3, 4, 5, 6]"
      ]
     },
     "execution_count": 39,
     "metadata": {},
     "output_type": "execute_result"
    }
   ],
   "source": [
    "a"
   ]
  },
  {
   "cell_type": "markdown",
   "id": "86eb3896-dfa0-4eb6-a6ca-ca020d57f250",
   "metadata": {},
   "source": [
    "# Excercise"
   ]
  },
  {
   "cell_type": "markdown",
   "id": "07c7e247-3249-4a52-b3b2-1e36293a966b",
   "metadata": {},
   "source": [
    "## (1) 길이가 0인 리스트 생성"
   ]
  },
  {
   "cell_type": "markdown",
   "id": "46acc8b4-310d-44a2-96fd-d757781ce9e3",
   "metadata": {},
   "source": [
    "### Solution"
   ]
  },
  {
   "cell_type": "code",
   "execution_count": 41,
   "id": "d59771bc-6889-4749-8fe2-010af1942125",
   "metadata": {},
   "outputs": [],
   "source": [
    "a=[]"
   ]
  },
  {
   "cell_type": "code",
   "execution_count": 42,
   "id": "a23103c8-1367-4c7f-b270-5cdbcc747a41",
   "metadata": {},
   "outputs": [
    {
     "data": {
      "text/plain": [
       "0"
      ]
     },
     "execution_count": 42,
     "metadata": {},
     "output_type": "execute_result"
    }
   ],
   "source": [
    "len(a)"
   ]
  },
  {
   "cell_type": "markdown",
   "id": "9c3b6a3c-fc13-4952-a669-c187f000fa95",
   "metadata": {},
   "source": [
    "## (2) 다음의 실행값 중 가장 큰 숫자가 나오는 보기를 골라라."
   ]
  },
  {
   "cell_type": "markdown",
   "id": "42b87692-9d0a-4f79-9176-a8ec8804a1cd",
   "metadata": {},
   "source": [
    "``` python\n",
    "(a) len(3.14) \n",
    "(b) len([3.14]) \n",
    "(c) len('3.14')\n",
    "```"
   ]
  },
  {
   "cell_type": "markdown",
   "id": "523c1268-6925-4828-a1b9-448d07320fa8",
   "metadata": {},
   "source": [
    "### Solution"
   ]
  },
  {
   "cell_type": "code",
   "execution_count": 44,
   "id": "9544bbe0-c40e-435b-b4bd-6cc09c1ee68a",
   "metadata": {},
   "outputs": [
    {
     "ename": "TypeError",
     "evalue": "object of type 'float' has no len()",
     "output_type": "error",
     "traceback": [
      "\u001b[1;31m---------------------------------------------------------------------------\u001b[0m",
      "\u001b[1;31mTypeError\u001b[0m                                 Traceback (most recent call last)",
      "Cell \u001b[1;32mIn[44], line 1\u001b[0m\n\u001b[1;32m----> 1\u001b[0m \u001b[38;5;28mlen\u001b[39m(\u001b[38;5;241m3.14\u001b[39m)\n",
      "\u001b[1;31mTypeError\u001b[0m: object of type 'float' has no len()"
     ]
    }
   ],
   "source": [
    "len(3.14)"
   ]
  },
  {
   "cell_type": "code",
   "execution_count": 45,
   "id": "2ae8098a-fb3a-4dbb-88d9-84ddb13cd0d1",
   "metadata": {},
   "outputs": [
    {
     "data": {
      "text/plain": [
       "1"
      ]
     },
     "execution_count": 45,
     "metadata": {},
     "output_type": "execute_result"
    }
   ],
   "source": [
    "len([3.14])"
   ]
  },
  {
   "cell_type": "code",
   "execution_count": 46,
   "id": "974b1842-6d63-43dd-8c83-6365b3076928",
   "metadata": {},
   "outputs": [
    {
     "data": {
      "text/plain": [
       "4"
      ]
     },
     "execution_count": 46,
     "metadata": {},
     "output_type": "execute_result"
    }
   ],
   "source": [
    "len('3.14')"
   ]
  },
  {
   "cell_type": "markdown",
   "id": "87a2b3bb-4312-41ac-b04a-4d8954c1c7a2",
   "metadata": {},
   "source": [
    "따라서 답은 `(c)`"
   ]
  },
  {
   "cell_type": "markdown",
   "id": "16193545-3fd1-4fd8-bf6e-08555bb437b8",
   "metadata": {},
   "source": [
    "## (3) 아래의 예제를 관찰하라"
   ]
  },
  {
   "cell_type": "code",
   "execution_count": 47,
   "id": "96c61fb7-4a5f-4208-954c-b55b31b2d0e2",
   "metadata": {},
   "outputs": [
    {
     "data": {
      "text/plain": [
       "'제 이름은 이강철입니다'"
      ]
     },
     "execution_count": 47,
     "metadata": {},
     "output_type": "execute_result"
    }
   ],
   "source": [
    "'제 이름은 {}입니다'.format('이강철')"
   ]
  },
  {
   "cell_type": "markdown",
   "id": "fec96ce8-788a-41a4-8c36-7236368d3682",
   "metadata": {},
   "source": [
    "이 예제를 바탕으로 문자열에 포함된 `.format()` 함수의 기능을 유추하라. 그리고 아래의 결과를 확인하라."
   ]
  },
  {
   "cell_type": "markdown",
   "id": "42b2e166-7f29-4fed-b9f5-4893c0f62426",
   "metadata": {},
   "source": [
    "### Solution"
   ]
  },
  {
   "cell_type": "code",
   "execution_count": 49,
   "id": "d1658d2f-48c7-427a-95ea-e36af0c6c0d0",
   "metadata": {},
   "outputs": [
    {
     "data": {
      "text/plain": [
       "'전북대학교 학생엠티가 {}월{}일-{}월{}일 완주 곶감펜션에서 있다고 합니다. 자세한 일정 등은 다시 공지하겠습니다.'"
      ]
     },
     "execution_count": 49,
     "metadata": {},
     "output_type": "execute_result"
    }
   ],
   "source": [
    "st = '전북대학교 학생엠티가 {}월{}일-{}월{}일 완주 곶감펜션에서 있다고 합니다. 자세한 일정 등은 다시 공지하겠습니다.' \n",
    "st"
   ]
  },
  {
   "cell_type": "code",
   "execution_count": 50,
   "id": "a94b159d-8897-4cfa-b6a8-7bb8cccbf369",
   "metadata": {},
   "outputs": [
    {
     "data": {
      "text/plain": [
       "'전북대학교 학생엠티가 3월24일-3월25일 완주 곶감펜션에서 있다고 합니다. 자세한 일정 등은 다시 공지하겠습니다.'"
      ]
     },
     "execution_count": 50,
     "metadata": {},
     "output_type": "execute_result"
    }
   ],
   "source": [
    "st.format(3,24,3,25)"
   ]
  },
  {
   "cell_type": "markdown",
   "id": "d1f86769-3659-4a35-b6bd-6bba9c74dad1",
   "metadata": {},
   "source": [
    "## (4) 아래의 예제를 관찰하라."
   ]
  },
  {
   "cell_type": "code",
   "execution_count": 51,
   "id": "26a7eb0b-94b7-4cfc-b409-7aa7dc1e0195",
   "metadata": {},
   "outputs": [
    {
     "data": {
      "text/plain": [
       "'abcdefu'"
      ]
     },
     "execution_count": 51,
     "metadata": {},
     "output_type": "execute_result"
    }
   ],
   "source": [
    "'abcdefg'.replace('g','u')"
   ]
  },
  {
   "cell_type": "markdown",
   "id": "2b344500-8c09-459d-94ff-d36d5ab8e7bf",
   "metadata": {},
   "source": [
    "이 예제를 바탕으로 문자열의 .replace() 기능을 유추하라. "
   ]
  },
  {
   "cell_type": "markdown",
   "id": "989b3c00-6c31-4e17-b1a7-57a9c83f4e38",
   "metadata": {},
   "source": [
    "### Solution"
   ]
  },
  {
   "cell_type": "markdown",
   "id": "782005bd-3e8c-49b8-a2ca-8f3ed92a52fa",
   "metadata": {},
   "source": [
    "replace 함수는 string 객체의 특정 문자열을 새로운 문자로 바꿔주는 함수이다."
   ]
  },
  {
   "cell_type": "code",
   "execution_count": 62,
   "id": "0b576aaa-c430-4d7b-a51a-8fc77c57e438",
   "metadata": {},
   "outputs": [],
   "source": [
    "a = [\"a\",\"a\",\"a\"]"
   ]
  },
  {
   "cell_type": "code",
   "execution_count": 63,
   "id": "f4475663-c412-4175-bdcb-b9790a68a939",
   "metadata": {},
   "outputs": [
    {
     "ename": "AttributeError",
     "evalue": "'list' object has no attribute 'replace'",
     "output_type": "error",
     "traceback": [
      "\u001b[1;31m---------------------------------------------------------------------------\u001b[0m",
      "\u001b[1;31mAttributeError\u001b[0m                            Traceback (most recent call last)",
      "Cell \u001b[1;32mIn[63], line 1\u001b[0m\n\u001b[1;32m----> 1\u001b[0m a\u001b[38;5;241m.\u001b[39mreplace(\u001b[38;5;124m\"\u001b[39m\u001b[38;5;124ma\u001b[39m\u001b[38;5;124m\"\u001b[39m,\u001b[38;5;124m\"\u001b[39m\u001b[38;5;124mb\u001b[39m\u001b[38;5;124m\"\u001b[39m)\n",
      "\u001b[1;31mAttributeError\u001b[0m: 'list' object has no attribute 'replace'"
     ]
    }
   ],
   "source": [
    "a.replace(\"a\",\"b\")"
   ]
  },
  {
   "cell_type": "markdown",
   "id": "1bbd1732-0a7f-4a4d-8b97-2d4ba8df3327",
   "metadata": {},
   "source": [
    "위와 같이 list객체에 적용 시 수행되지 않는다. 이 경우 loop를 이용해서 바쭤주어야 한다."
   ]
  },
  {
   "cell_type": "code",
   "execution_count": 64,
   "id": "4c079214-bbc9-4a4b-8f8b-4d32d16133ec",
   "metadata": {},
   "outputs": [],
   "source": [
    "b = []\n",
    "for i in a :\n",
    "    b.append(i.replace(\"a\",\"b\"))"
   ]
  },
  {
   "cell_type": "code",
   "execution_count": 65,
   "id": "babb322d-e708-48ed-9694-2a1689d69899",
   "metadata": {},
   "outputs": [
    {
     "data": {
      "text/plain": [
       "['b', 'b', 'b']"
      ]
     },
     "execution_count": 65,
     "metadata": {},
     "output_type": "execute_result"
    }
   ],
   "source": [
    "b"
   ]
  },
  {
   "cell_type": "markdown",
   "id": "de31ae0b-806e-4209-8cad-ebe91da2819b",
   "metadata": {},
   "source": [
    "## (5) 리스트 자료형의 `+, *` 을 이용하여 아래와 같은 list를 생성"
   ]
  },
  {
   "cell_type": "code",
   "execution_count": 66,
   "id": "eb0f4c94-1ccf-4771-a6d7-d84fba1ae5a2",
   "metadata": {},
   "outputs": [
    {
     "data": {
      "text/plain": [
       "[1, 2, 2, 3, 3, 3, 4, 4, 4, 4, 5, 5, 5, 5, 5]"
      ]
     },
     "execution_count": 66,
     "metadata": {},
     "output_type": "execute_result"
    }
   ],
   "source": [
    "[1, 2, 2, 3, 3, 3, 4, 4, 4, 4, 5, 5, 5, 5, 5]"
   ]
  },
  {
   "cell_type": "markdown",
   "id": "93684f47-591d-4ca9-954d-47c2e8db868a",
   "metadata": {},
   "source": [
    "### Solution"
   ]
  },
  {
   "cell_type": "code",
   "execution_count": 75,
   "id": "403faaee-23ce-4bf9-95ee-bf1b78274c9d",
   "metadata": {},
   "outputs": [],
   "source": [
    "result = []\n",
    "for i in range(1,6) :\n",
    "    temp =[i]\n",
    "    result += temp*i    "
   ]
  },
  {
   "cell_type": "code",
   "execution_count": 76,
   "id": "06fe48cf-aba7-4023-b682-ea2f58c031bc",
   "metadata": {},
   "outputs": [
    {
     "data": {
      "text/plain": [
       "[1, 2, 2, 3, 3, 3, 4, 4, 4, 4, 5, 5, 5, 5, 5]"
      ]
     },
     "execution_count": 76,
     "metadata": {},
     "output_type": "execute_result"
    }
   ],
   "source": [
    "result"
   ]
  },
  {
   "cell_type": "markdown",
   "id": "36658d24-9f6e-4738-8c52-6a72908beff4",
   "metadata": {},
   "source": [
    "## (6) 넘파이를 이용하여 아래와 같은 결과가 나오도록 코드를 작성하라."
   ]
  },
  {
   "cell_type": "markdown",
   "id": "9258d532-5cd3-4085-8b4d-063b2fdcb9c0",
   "metadata": {},
   "source": [
    "$$\\begin{bmatrix}1 \\\\ 2 \\end{bmatrix} + \\begin{bmatrix}11 \\\\ 22 \\end{bmatrix}= \\begin{bmatrix}12 \\\\ 24 \\end{bmatrix}$$"
   ]
  },
  {
   "cell_type": "markdown",
   "id": "dab5571e-4486-4ddb-84ca-1a5f58d43785",
   "metadata": {},
   "source": [
    "### Solution"
   ]
  },
  {
   "cell_type": "code",
   "execution_count": 78,
   "id": "dc9d1574-7994-4b80-8239-c835621d02ae",
   "metadata": {},
   "outputs": [
    {
     "data": {
      "text/plain": [
       "(array([1, 2]), array([11, 22]))"
      ]
     },
     "execution_count": 78,
     "metadata": {},
     "output_type": "execute_result"
    }
   ],
   "source": [
    "a = np.array([1,2])\n",
    "b = np.array([11,22])\n",
    "a,b"
   ]
  },
  {
   "cell_type": "code",
   "execution_count": 81,
   "id": "1298229b-6b12-4906-a5af-727d4223290b",
   "metadata": {},
   "outputs": [
    {
     "data": {
      "text/plain": [
       "[12, 24]"
      ]
     },
     "execution_count": 81,
     "metadata": {},
     "output_type": "execute_result"
    }
   ],
   "source": [
    "list(a+b)"
   ]
  },
  {
   "cell_type": "markdown",
   "id": "62994448-ed4a-41dd-af23-fe0f11039f04",
   "metadata": {},
   "source": [
    "## (7) 다음과 같은 결과를 출력하는 코드를 작성"
   ]
  },
  {
   "cell_type": "markdown",
   "id": "5b6f5a3e-00d9-4f0a-977e-210b44a46d42",
   "metadata": {},
   "source": [
    "$$a = \\begin{bmatrix} 12 \\\\ 24\\end{bmatrix}$$"
   ]
  },
  {
   "cell_type": "markdown",
   "id": "6ee30c39-f206-43f3-bf9f-2a4fdc3b64fe",
   "metadata": {},
   "source": [
    "$$2a = \\begin{bmatrix} 24 \\\\ 48\\end{bmatrix}$$"
   ]
  },
  {
   "cell_type": "markdown",
   "id": "2c146173-6235-4577-b9d2-284ca610a868",
   "metadata": {},
   "source": [
    "## Solution"
   ]
  },
  {
   "cell_type": "code",
   "execution_count": 88,
   "id": "a32ab43d-bd86-4096-99a0-8b51d8d04734",
   "metadata": {},
   "outputs": [],
   "source": [
    "a = np.array([12,24])"
   ]
  },
  {
   "cell_type": "code",
   "execution_count": 89,
   "id": "3e28af2d-2d61-45de-b5f0-eb79a534d137",
   "metadata": {},
   "outputs": [],
   "source": [
    "a2 = list(2*a)"
   ]
  },
  {
   "cell_type": "code",
   "execution_count": 90,
   "id": "c1a32325-c1a6-4bd6-a61e-8599c0b5d7e5",
   "metadata": {},
   "outputs": [
    {
     "data": {
      "text/plain": [
       "[24, 48]"
      ]
     },
     "execution_count": 90,
     "metadata": {},
     "output_type": "execute_result"
    }
   ],
   "source": [
    "a2"
   ]
  }
 ],
 "metadata": {
  "kernelspec": {
   "display_name": "Python 3 (ipykernel)",
   "language": "python",
   "name": "python3"
  },
  "language_info": {
   "codemirror_mode": {
    "name": "ipython",
    "version": 3
   },
   "file_extension": ".py",
   "mimetype": "text/x-python",
   "name": "python",
   "nbconvert_exporter": "python",
   "pygments_lexer": "ipython3",
   "version": "3.11.4"
  },
  "toc": {
   "base_numbering": 1,
   "nav_menu": {},
   "number_sections": false,
   "sideBar": true,
   "skip_h1_title": false,
   "title_cell": "Table of Contents",
   "title_sidebar": "Contents",
   "toc_cell": false,
   "toc_position": {},
   "toc_section_display": true,
   "toc_window_display": true
  }
 },
 "nbformat": 4,
 "nbformat_minor": 5
}
