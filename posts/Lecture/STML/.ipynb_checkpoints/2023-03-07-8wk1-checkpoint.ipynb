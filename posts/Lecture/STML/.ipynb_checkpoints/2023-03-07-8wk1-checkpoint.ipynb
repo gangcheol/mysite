{
 "cells": [
  {
   "cell_type": "raw",
   "metadata": {},
   "source": [
    "---\n",
    "title : \"09. 이미지분석 (2)\"\n",
    "date : \"03/08/2023\"\n",
    "author : \"GANGCHEOL LEE\"\n",
    "categories : \"Python\"\n",
    "---"
   ]
  },
  {
   "cell_type": "markdown",
   "metadata": {
    "id": "v8-e8HrZUaQN"
   },
   "source": [
    "# imports"
   ]
  },
  {
   "cell_type": "code",
   "execution_count": 1,
   "metadata": {
    "executionInfo": {
     "elapsed": 5085,
     "status": "ok",
     "timestamp": 1682307126860,
     "user": {
      "displayName": "이강철",
      "userId": "13507850890638580947"
     },
     "user_tz": -540
    },
    "id": "p8JOI9vGT_cN"
   },
   "outputs": [],
   "source": [
    "import torch \n",
    "import torchvision\n",
    "import numpy as np\n",
    "from fastai.vision.all import * "
   ]
  },
  {
   "cell_type": "code",
   "execution_count": 2,
   "metadata": {
    "executionInfo": {
     "elapsed": 3,
     "status": "ok",
     "timestamp": 1682307140122,
     "user": {
      "displayName": "이강철",
      "userId": "13507850890638580947"
     },
     "user_tz": -540
    },
    "id": "VtOv0QVoUZv1"
   },
   "outputs": [],
   "source": [
    "import graphviz\n",
    "def gv(s): return graphviz.Source('digraph G{ rankdir=\"LR\"'+s + '; }');"
   ]
  },
  {
   "cell_type": "markdown",
   "metadata": {
    "id": "TbJUPfUJUc3_"
   },
   "source": [
    "# CNN 다중클래스 분류"
   ]
  },
  {
   "cell_type": "markdown",
   "metadata": {
    "id": "lz70gs_pUg3E"
   },
   "source": [
    "`-` 다중클래스에서 변화"
   ]
  },
  {
   "cell_type": "markdown",
   "metadata": {
    "id": "S0HaowWWUl7f"
   },
   "source": [
    "* 손실함수 : BCE loss $\\to$ Cross Entropy loss\n",
    "* 마지막층의 선형 변환 : torch.nn.Linear(?,1) $\\to$ torch.nn.Linear(?,k)\n",
    "* 마지막층의 활성화 : sig $\\to$ softmax"
   ]
  },
  {
   "cell_type": "markdown",
   "metadata": {
    "id": "ZyXFQFN5UzN6"
   },
   "source": [
    "`-` 파이토치 한정"
   ]
  },
  {
   "cell_type": "markdown",
   "metadata": {
    "id": "Xz3kipW5U9bT"
   },
   "source": [
    "* y의 형태 : **(n,) vector + int형** or **one-hot encoded vector + float 형태**\n",
    "* 손실함수 : torch.nn.BCEWithLogitsLoss $\\to$ torch.nn.CrossEntropyLoss (활성화 함수가 손실함수에 포함되어있음)\n",
    "* 마지막층의 선형변환 : torch.nn.Linear(?,1) $\\to$ torch.nn.Linear(?,k)\n",
    "* 마지막층의 활성화 : None $\\to$ None (손실함수에 이미 마지막층의 활성화 포함)"
   ]
  },
  {
   "cell_type": "markdown",
   "metadata": {
    "id": "0cmoWzuIWDVw"
   },
   "source": [
    "## 실습 : 3개의 클래스 분류"
   ]
  },
  {
   "cell_type": "code",
   "execution_count": 3,
   "metadata": {
    "colab": {
     "base_uri": "https://localhost:8080/",
     "height": 38
    },
    "executionInfo": {
     "elapsed": 15129,
     "status": "ok",
     "timestamp": 1682307598499,
     "user": {
      "displayName": "이강철",
      "userId": "13507850890638580947"
     },
     "user_tz": -540
    },
    "id": "kZ711Ee1WHie",
    "outputId": "8ff0652c-328c-416b-8476-c62652a436e1"
   },
   "outputs": [
    {
     "data": {
      "text/html": [
       "\n",
       "<style>\n",
       "    /* Turns off some styling */\n",
       "    progress {\n",
       "        /* gets rid of default border in Firefox and Opera. */\n",
       "        border: none;\n",
       "        /* Needs to be in here for Safari polyfill so background images work as expected. */\n",
       "        background-size: auto;\n",
       "    }\n",
       "    progress:not([value]), progress:not([value])::-webkit-progress-bar {\n",
       "        background: repeating-linear-gradient(45deg, #7e7e7e, #7e7e7e 10px, #5c5c5c 10px, #5c5c5c 20px);\n",
       "    }\n",
       "    .progress-bar-interrupted, .progress-bar-interrupted::-webkit-progress-bar {\n",
       "        background: #F44336;\n",
       "    }\n",
       "</style>\n"
      ],
      "text/plain": [
       "<IPython.core.display.HTML object>"
      ]
     },
     "metadata": {},
     "output_type": "display_data"
    },
    {
     "data": {
      "text/html": [
       "\n",
       "    <div>\n",
       "      <progress value='15687680' class='' max='15683414' style='width:300px; height:20px; vertical-align: middle;'></progress>\n",
       "      100.03% [15687680/15683414 00:02&lt;00:00]\n",
       "    </div>\n",
       "    "
      ],
      "text/plain": [
       "<IPython.core.display.HTML object>"
      ]
     },
     "metadata": {},
     "output_type": "display_data"
    }
   ],
   "source": [
    "path = untar_data(URLs.MNIST)"
   ]
  },
  {
   "cell_type": "markdown",
   "metadata": {
    "id": "qAtKp1ahWLNs"
   },
   "source": [
    "`-` training set"
   ]
  },
  {
   "cell_type": "code",
   "execution_count": 8,
   "metadata": {
    "executionInfo": {
     "elapsed": 949,
     "status": "ok",
     "timestamp": 1682307715115,
     "user": {
      "displayName": "이강철",
      "userId": "13507850890638580947"
     },
     "user_tz": -540
    },
    "id": "b9DomA_0WJRh"
   },
   "outputs": [],
   "source": [
    "X0 = torch.stack([torchvision.io.read_image(str(fname)) for fname in (path/'training/0').ls()])\n",
    "X1 = torch.stack([torchvision.io.read_image(str(fname)) for fname in (path/'training/1').ls()])\n",
    "X2 = torch.stack([torchvision.io.read_image(str(fname)) for fname in (path/'training/2').ls()])\n",
    "X = torch.concat([X0,X1,X2])/255\n",
    "y = torch.tensor([0]*len(X0) + [1]*len(X1)+ [2]*len(X2))#.reshape(-1,1)"
   ]
  },
  {
   "cell_type": "markdown",
   "metadata": {
    "id": "wrHfmYRmWN1F"
   },
   "source": [
    "`-` test set"
   ]
  },
  {
   "cell_type": "code",
   "execution_count": 12,
   "metadata": {
    "executionInfo": {
     "elapsed": 575,
     "status": "ok",
     "timestamp": 1682307742857,
     "user": {
      "displayName": "이강철",
      "userId": "13507850890638580947"
     },
     "user_tz": -540
    },
    "id": "AmPQbVBVWPfJ"
   },
   "outputs": [],
   "source": [
    "X0 = torch.stack([torchvision.io.read_image(str(fname)) for fname in (path/'testing/0').ls()])\n",
    "X1 = torch.stack([torchvision.io.read_image(str(fname)) for fname in (path/'testing/1').ls()])\n",
    "X2 = torch.stack([torchvision.io.read_image(str(fname)) for fname in (path/'testing/2').ls()])\n",
    "XX = torch.concat([X0,X1,X2])/255\n",
    "yy = torch.tensor([0]*len(X0) + [1]*len(X1)+ [2]*len(X2))#.reshape(-1,1)"
   ]
  },
  {
   "cell_type": "markdown",
   "metadata": {
    "id": "a85kK607WSij"
   },
   "source": [
    "`1` dls"
   ]
  },
  {
   "cell_type": "code",
   "execution_count": 14,
   "metadata": {
    "colab": {
     "base_uri": "https://localhost:8080/"
    },
    "executionInfo": {
     "elapsed": 3,
     "status": "ok",
     "timestamp": 1682307752322,
     "user": {
      "displayName": "이강철",
      "userId": "13507850890638580947"
     },
     "user_tz": -540
    },
    "id": "NV4zNelmWXyl",
    "outputId": "d0a0859e-e642-49bb-e0bf-dd71aa35e8ed"
   },
   "outputs": [
    {
     "data": {
      "text/plain": [
       "(18623, 3147)"
      ]
     },
     "execution_count": 14,
     "metadata": {},
     "output_type": "execute_result"
    }
   ],
   "source": [
    "len(X), len(XX)"
   ]
  },
  {
   "cell_type": "code",
   "execution_count": 13,
   "metadata": {
    "executionInfo": {
     "elapsed": 5,
     "status": "ok",
     "timestamp": 1682307744664,
     "user": {
      "displayName": "이강철",
      "userId": "13507850890638580947"
     },
     "user_tz": -540
    },
    "id": "rZbL1keIWUcS"
   },
   "outputs": [],
   "source": [
    "ds1 = torch.utils.data.TensorDataset(X,y) \n",
    "ds2 = torch.utils.data.TensorDataset(XX,yy) \n",
    "dl1 = torch.utils.data.DataLoader(ds1,batch_size=1862) # 에폭당 11번 iter\n",
    "dl2 = torch.utils.data.DataLoader(ds2,batch_size=3147) # \n",
    "dls = DataLoaders(dl1,dl2) "
   ]
  },
  {
   "cell_type": "markdown",
   "metadata": {
    "id": "2Mv93feJWyoH"
   },
   "source": [
    "`2` lrnr"
   ]
  },
  {
   "cell_type": "code",
   "execution_count": 15,
   "metadata": {
    "executionInfo": {
     "elapsed": 2,
     "status": "ok",
     "timestamp": 1682307776667,
     "user": {
      "displayName": "이강철",
      "userId": "13507850890638580947"
     },
     "user_tz": -540
    },
    "id": "7fkOXks_W2vH"
   },
   "outputs": [],
   "source": [
    "net1 = torch.nn.Sequential(\n",
    "    torch.nn.Conv2d(1,16,(5,5)),\n",
    "    torch.nn.ReLU(),\n",
    "    torch.nn.MaxPool2d((2,2)),\n",
    "    torch.nn.Flatten()\n",
    ")"
   ]
  },
  {
   "cell_type": "code",
   "execution_count": 16,
   "metadata": {
    "colab": {
     "base_uri": "https://localhost:8080/"
    },
    "executionInfo": {
     "elapsed": 851,
     "status": "ok",
     "timestamp": 1682307791214,
     "user": {
      "displayName": "이강철",
      "userId": "13507850890638580947"
     },
     "user_tz": -540
    },
    "id": "5yQWnO85W6FH",
    "outputId": "fe8d7187-25de-439b-d5ae-83f3a9588f4f"
   },
   "outputs": [
    {
     "data": {
      "text/plain": [
       "torch.Size([18623, 2304])"
      ]
     },
     "execution_count": 16,
     "metadata": {},
     "output_type": "execute_result"
    }
   ],
   "source": [
    "net1(X).shape"
   ]
  },
  {
   "cell_type": "code",
   "execution_count": 17,
   "metadata": {
    "executionInfo": {
     "elapsed": 2,
     "status": "ok",
     "timestamp": 1682307824148,
     "user": {
      "displayName": "이강철",
      "userId": "13507850890638580947"
     },
     "user_tz": -540
    },
    "id": "GybiGPlIXBS0"
   },
   "outputs": [],
   "source": [
    "net = torch.nn.Sequential(\n",
    "    net1,\n",
    "    torch.nn.Linear(2304,3) # 0,1,2 3개를 구분하는 문제이므로 out_features=3 \n",
    ")\n",
    "loss_fn = torch.nn.CrossEntropyLoss() "
   ]
  },
  {
   "cell_type": "code",
   "execution_count": 19,
   "metadata": {
    "executionInfo": {
     "elapsed": 3,
     "status": "ok",
     "timestamp": 1682307852900,
     "user": {
      "displayName": "이강철",
      "userId": "13507850890638580947"
     },
     "user_tz": -540
    },
    "id": "341fjW8MXJ12"
   },
   "outputs": [],
   "source": [
    "lrnr = Learner(dls,net,loss_fn) "
   ]
  },
  {
   "cell_type": "markdown",
   "metadata": {
    "id": "Fx2gDxqHXDvg"
   },
   "source": [
    "`3` 학습"
   ]
  },
  {
   "cell_type": "code",
   "execution_count": 20,
   "metadata": {
    "colab": {
     "base_uri": "https://localhost:8080/",
     "height": 363
    },
    "executionInfo": {
     "elapsed": 13620,
     "status": "ok",
     "timestamp": 1682307868985,
     "user": {
      "displayName": "이강철",
      "userId": "13507850890638580947"
     },
     "user_tz": -540
    },
    "id": "SCNIYVprXF1B",
    "outputId": "ffe1bc4a-6d19-4f58-dd5a-991c08731c0c"
   },
   "outputs": [
    {
     "data": {
      "text/html": [
       "\n",
       "<style>\n",
       "    /* Turns off some styling */\n",
       "    progress {\n",
       "        /* gets rid of default border in Firefox and Opera. */\n",
       "        border: none;\n",
       "        /* Needs to be in here for Safari polyfill so background images work as expected. */\n",
       "        background-size: auto;\n",
       "    }\n",
       "    progress:not([value]), progress:not([value])::-webkit-progress-bar {\n",
       "        background: repeating-linear-gradient(45deg, #7e7e7e, #7e7e7e 10px, #5c5c5c 10px, #5c5c5c 20px);\n",
       "    }\n",
       "    .progress-bar-interrupted, .progress-bar-interrupted::-webkit-progress-bar {\n",
       "        background: #F44336;\n",
       "    }\n",
       "</style>\n"
      ],
      "text/plain": [
       "<IPython.core.display.HTML object>"
      ]
     },
     "metadata": {},
     "output_type": "display_data"
    },
    {
     "data": {
      "text/html": [
       "<table border=\"1\" class=\"dataframe\">\n",
       "  <thead>\n",
       "    <tr style=\"text-align: left;\">\n",
       "      <th>epoch</th>\n",
       "      <th>train_loss</th>\n",
       "      <th>valid_loss</th>\n",
       "      <th>time</th>\n",
       "    </tr>\n",
       "  </thead>\n",
       "  <tbody>\n",
       "    <tr>\n",
       "      <td>0</td>\n",
       "      <td>1.907315</td>\n",
       "      <td>1.137226</td>\n",
       "      <td>00:07</td>\n",
       "    </tr>\n",
       "    <tr>\n",
       "      <td>1</td>\n",
       "      <td>1.301616</td>\n",
       "      <td>0.839809</td>\n",
       "      <td>00:00</td>\n",
       "    </tr>\n",
       "    <tr>\n",
       "      <td>2</td>\n",
       "      <td>1.086795</td>\n",
       "      <td>0.712145</td>\n",
       "      <td>00:00</td>\n",
       "    </tr>\n",
       "    <tr>\n",
       "      <td>3</td>\n",
       "      <td>0.952067</td>\n",
       "      <td>0.489769</td>\n",
       "      <td>00:00</td>\n",
       "    </tr>\n",
       "    <tr>\n",
       "      <td>4</td>\n",
       "      <td>0.809088</td>\n",
       "      <td>0.334485</td>\n",
       "      <td>00:00</td>\n",
       "    </tr>\n",
       "    <tr>\n",
       "      <td>5</td>\n",
       "      <td>0.669083</td>\n",
       "      <td>0.227808</td>\n",
       "      <td>00:00</td>\n",
       "    </tr>\n",
       "    <tr>\n",
       "      <td>6</td>\n",
       "      <td>0.553239</td>\n",
       "      <td>0.164591</td>\n",
       "      <td>00:00</td>\n",
       "    </tr>\n",
       "    <tr>\n",
       "      <td>7</td>\n",
       "      <td>0.460001</td>\n",
       "      <td>0.127254</td>\n",
       "      <td>00:00</td>\n",
       "    </tr>\n",
       "    <tr>\n",
       "      <td>8</td>\n",
       "      <td>0.383911</td>\n",
       "      <td>0.105844</td>\n",
       "      <td>00:00</td>\n",
       "    </tr>\n",
       "    <tr>\n",
       "      <td>9</td>\n",
       "      <td>0.322828</td>\n",
       "      <td>0.092200</td>\n",
       "      <td>00:00</td>\n",
       "    </tr>\n",
       "  </tbody>\n",
       "</table>"
      ],
      "text/plain": [
       "<IPython.core.display.HTML object>"
      ]
     },
     "metadata": {},
     "output_type": "display_data"
    }
   ],
   "source": [
    "lrnr.fit(10) "
   ]
  },
  {
   "cell_type": "markdown",
   "metadata": {
    "id": "9F3BT73fXLdh"
   },
   "source": [
    " `4` 예측"
   ]
  },
  {
   "cell_type": "code",
   "execution_count": 21,
   "metadata": {
    "colab": {
     "base_uri": "https://localhost:8080/"
    },
    "executionInfo": {
     "elapsed": 19,
     "status": "ok",
     "timestamp": 1682307868986,
     "user": {
      "displayName": "이강철",
      "userId": "13507850890638580947"
     },
     "user_tz": -540
    },
    "id": "PWEJkW6aXM1b",
    "outputId": "1076ad3b-4cfa-4e5c-e531-cabd92393be2"
   },
   "outputs": [
    {
     "data": {
      "text/plain": [
       "Sequential(\n",
       "  (0): Sequential(\n",
       "    (0): Conv2d(1, 16, kernel_size=(5, 5), stride=(1, 1))\n",
       "    (1): ReLU()\n",
       "    (2): MaxPool2d(kernel_size=(2, 2), stride=(2, 2), padding=0, dilation=1, ceil_mode=False)\n",
       "    (3): Flatten(start_dim=1, end_dim=-1)\n",
       "  )\n",
       "  (1): Linear(in_features=2304, out_features=3, bias=True)\n",
       ")"
      ]
     },
     "execution_count": 21,
     "metadata": {},
     "output_type": "execute_result"
    }
   ],
   "source": [
    "lrnr.model.to(\"cpu\")"
   ]
  },
  {
   "cell_type": "code",
   "execution_count": 22,
   "metadata": {
    "colab": {
     "base_uri": "https://localhost:8080/",
     "height": 423
    },
    "executionInfo": {
     "elapsed": 468,
     "status": "ok",
     "timestamp": 1682307883197,
     "user": {
      "displayName": "이강철",
      "userId": "13507850890638580947"
     },
     "user_tz": -540
    },
    "id": "eEHZtaVvXRak",
    "outputId": "38bed6a3-5bad-4a57-e970-8ddcfe477e55"
   },
   "outputs": [
    {
     "data": {
      "text/html": [
       "\n",
       "  <div id=\"df-54b95f30-62f5-40ae-993b-0848c19e12db\">\n",
       "    <div class=\"colab-df-container\">\n",
       "      <div>\n",
       "<style scoped>\n",
       "    .dataframe tbody tr th:only-of-type {\n",
       "        vertical-align: middle;\n",
       "    }\n",
       "\n",
       "    .dataframe tbody tr th {\n",
       "        vertical-align: top;\n",
       "    }\n",
       "\n",
       "    .dataframe thead th {\n",
       "        text-align: right;\n",
       "    }\n",
       "</style>\n",
       "<table border=\"1\" class=\"dataframe\">\n",
       "  <thead>\n",
       "    <tr style=\"text-align: right;\">\n",
       "      <th></th>\n",
       "      <th>0</th>\n",
       "      <th>1</th>\n",
       "      <th>2</th>\n",
       "      <th>y</th>\n",
       "    </tr>\n",
       "  </thead>\n",
       "  <tbody>\n",
       "    <tr>\n",
       "      <th>0</th>\n",
       "      <td>1.610155</td>\n",
       "      <td>-7.296218</td>\n",
       "      <td>-1.949740</td>\n",
       "      <td>0</td>\n",
       "    </tr>\n",
       "    <tr>\n",
       "      <th>1</th>\n",
       "      <td>2.721445</td>\n",
       "      <td>-11.693159</td>\n",
       "      <td>-2.574624</td>\n",
       "      <td>0</td>\n",
       "    </tr>\n",
       "    <tr>\n",
       "      <th>2</th>\n",
       "      <td>1.159257</td>\n",
       "      <td>-9.293894</td>\n",
       "      <td>-0.992080</td>\n",
       "      <td>0</td>\n",
       "    </tr>\n",
       "    <tr>\n",
       "      <th>3</th>\n",
       "      <td>2.946398</td>\n",
       "      <td>-10.934134</td>\n",
       "      <td>-1.913056</td>\n",
       "      <td>0</td>\n",
       "    </tr>\n",
       "    <tr>\n",
       "      <th>4</th>\n",
       "      <td>2.035376</td>\n",
       "      <td>-8.698581</td>\n",
       "      <td>-1.466725</td>\n",
       "      <td>0</td>\n",
       "    </tr>\n",
       "    <tr>\n",
       "      <th>...</th>\n",
       "      <td>...</td>\n",
       "      <td>...</td>\n",
       "      <td>...</td>\n",
       "      <td>...</td>\n",
       "    </tr>\n",
       "    <tr>\n",
       "      <th>3142</th>\n",
       "      <td>-1.260826</td>\n",
       "      <td>-5.236878</td>\n",
       "      <td>-0.114429</td>\n",
       "      <td>2</td>\n",
       "    </tr>\n",
       "    <tr>\n",
       "      <th>3143</th>\n",
       "      <td>-4.041571</td>\n",
       "      <td>-4.725406</td>\n",
       "      <td>1.132236</td>\n",
       "      <td>2</td>\n",
       "    </tr>\n",
       "    <tr>\n",
       "      <th>3144</th>\n",
       "      <td>-4.621160</td>\n",
       "      <td>-4.280747</td>\n",
       "      <td>1.188167</td>\n",
       "      <td>2</td>\n",
       "    </tr>\n",
       "    <tr>\n",
       "      <th>3145</th>\n",
       "      <td>-3.100066</td>\n",
       "      <td>-3.123898</td>\n",
       "      <td>0.582833</td>\n",
       "      <td>2</td>\n",
       "    </tr>\n",
       "    <tr>\n",
       "      <th>3146</th>\n",
       "      <td>-2.477711</td>\n",
       "      <td>-5.302809</td>\n",
       "      <td>1.269270</td>\n",
       "      <td>2</td>\n",
       "    </tr>\n",
       "  </tbody>\n",
       "</table>\n",
       "<p>3147 rows × 4 columns</p>\n",
       "</div>\n",
       "      <button class=\"colab-df-convert\" onclick=\"convertToInteractive('df-54b95f30-62f5-40ae-993b-0848c19e12db')\"\n",
       "              title=\"Convert this dataframe to an interactive table.\"\n",
       "              style=\"display:none;\">\n",
       "        \n",
       "  <svg xmlns=\"http://www.w3.org/2000/svg\" height=\"24px\"viewBox=\"0 0 24 24\"\n",
       "       width=\"24px\">\n",
       "    <path d=\"M0 0h24v24H0V0z\" fill=\"none\"/>\n",
       "    <path d=\"M18.56 5.44l.94 2.06.94-2.06 2.06-.94-2.06-.94-.94-2.06-.94 2.06-2.06.94zm-11 1L8.5 8.5l.94-2.06 2.06-.94-2.06-.94L8.5 2.5l-.94 2.06-2.06.94zm10 10l.94 2.06.94-2.06 2.06-.94-2.06-.94-.94-2.06-.94 2.06-2.06.94z\"/><path d=\"M17.41 7.96l-1.37-1.37c-.4-.4-.92-.59-1.43-.59-.52 0-1.04.2-1.43.59L10.3 9.45l-7.72 7.72c-.78.78-.78 2.05 0 2.83L4 21.41c.39.39.9.59 1.41.59.51 0 1.02-.2 1.41-.59l7.78-7.78 2.81-2.81c.8-.78.8-2.07 0-2.86zM5.41 20L4 18.59l7.72-7.72 1.47 1.35L5.41 20z\"/>\n",
       "  </svg>\n",
       "      </button>\n",
       "      \n",
       "  <style>\n",
       "    .colab-df-container {\n",
       "      display:flex;\n",
       "      flex-wrap:wrap;\n",
       "      gap: 12px;\n",
       "    }\n",
       "\n",
       "    .colab-df-convert {\n",
       "      background-color: #E8F0FE;\n",
       "      border: none;\n",
       "      border-radius: 50%;\n",
       "      cursor: pointer;\n",
       "      display: none;\n",
       "      fill: #1967D2;\n",
       "      height: 32px;\n",
       "      padding: 0 0 0 0;\n",
       "      width: 32px;\n",
       "    }\n",
       "\n",
       "    .colab-df-convert:hover {\n",
       "      background-color: #E2EBFA;\n",
       "      box-shadow: 0px 1px 2px rgba(60, 64, 67, 0.3), 0px 1px 3px 1px rgba(60, 64, 67, 0.15);\n",
       "      fill: #174EA6;\n",
       "    }\n",
       "\n",
       "    [theme=dark] .colab-df-convert {\n",
       "      background-color: #3B4455;\n",
       "      fill: #D2E3FC;\n",
       "    }\n",
       "\n",
       "    [theme=dark] .colab-df-convert:hover {\n",
       "      background-color: #434B5C;\n",
       "      box-shadow: 0px 1px 3px 1px rgba(0, 0, 0, 0.15);\n",
       "      filter: drop-shadow(0px 1px 2px rgba(0, 0, 0, 0.3));\n",
       "      fill: #FFFFFF;\n",
       "    }\n",
       "  </style>\n",
       "\n",
       "      <script>\n",
       "        const buttonEl =\n",
       "          document.querySelector('#df-54b95f30-62f5-40ae-993b-0848c19e12db button.colab-df-convert');\n",
       "        buttonEl.style.display =\n",
       "          google.colab.kernel.accessAllowed ? 'block' : 'none';\n",
       "\n",
       "        async function convertToInteractive(key) {\n",
       "          const element = document.querySelector('#df-54b95f30-62f5-40ae-993b-0848c19e12db');\n",
       "          const dataTable =\n",
       "            await google.colab.kernel.invokeFunction('convertToInteractive',\n",
       "                                                     [key], {});\n",
       "          if (!dataTable) return;\n",
       "\n",
       "          const docLinkHtml = 'Like what you see? Visit the ' +\n",
       "            '<a target=\"_blank\" href=https://colab.research.google.com/notebooks/data_table.ipynb>data table notebook</a>'\n",
       "            + ' to learn more about interactive tables.';\n",
       "          element.innerHTML = '';\n",
       "          dataTable['output_type'] = 'display_data';\n",
       "          await google.colab.output.renderOutput(dataTable, element);\n",
       "          const docLink = document.createElement('div');\n",
       "          docLink.innerHTML = docLinkHtml;\n",
       "          element.appendChild(docLink);\n",
       "        }\n",
       "      </script>\n",
       "    </div>\n",
       "  </div>\n",
       "  "
      ],
      "text/plain": [
       "             0          1         2  y\n",
       "0     1.610155  -7.296218 -1.949740  0\n",
       "1     2.721445 -11.693159 -2.574624  0\n",
       "2     1.159257  -9.293894 -0.992080  0\n",
       "3     2.946398 -10.934134 -1.913056  0\n",
       "4     2.035376  -8.698581 -1.466725  0\n",
       "...        ...        ...       ... ..\n",
       "3142 -1.260826  -5.236878 -0.114429  2\n",
       "3143 -4.041571  -4.725406  1.132236  2\n",
       "3144 -4.621160  -4.280747  1.188167  2\n",
       "3145 -3.100066  -3.123898  0.582833  2\n",
       "3146 -2.477711  -5.302809  1.269270  2\n",
       "\n",
       "[3147 rows x 4 columns]"
      ]
     },
     "execution_count": 22,
     "metadata": {},
     "output_type": "execute_result"
    }
   ],
   "source": [
    "pd.DataFrame(lrnr.model(XX)).assign(y=yy) "
   ]
  },
  {
   "cell_type": "markdown",
   "metadata": {
    "id": "6SBcgMg2XbHR"
   },
   "source": [
    "* 대체적으로 첫번째 칼럼의 숫자들이 다른 칼럼보다 크다."
   ]
  },
  {
   "cell_type": "code",
   "execution_count": 23,
   "metadata": {
    "colab": {
     "base_uri": "https://localhost:8080/",
     "height": 423
    },
    "executionInfo": {
     "elapsed": 5,
     "status": "ok",
     "timestamp": 1682307895023,
     "user": {
      "displayName": "이강철",
      "userId": "13507850890638580947"
     },
     "user_tz": -540
    },
    "id": "xwUxZDxzXUOF",
    "outputId": "4cccce6b-72ef-4af1-f187-2276d4f5752b"
   },
   "outputs": [
    {
     "data": {
      "text/html": [
       "\n",
       "  <div id=\"df-b257f659-b978-4bb5-9e20-89f0ab4c514f\">\n",
       "    <div class=\"colab-df-container\">\n",
       "      <div>\n",
       "<style scoped>\n",
       "    .dataframe tbody tr th:only-of-type {\n",
       "        vertical-align: middle;\n",
       "    }\n",
       "\n",
       "    .dataframe tbody tr th {\n",
       "        vertical-align: top;\n",
       "    }\n",
       "\n",
       "    .dataframe thead th {\n",
       "        text-align: right;\n",
       "    }\n",
       "</style>\n",
       "<table border=\"1\" class=\"dataframe\">\n",
       "  <thead>\n",
       "    <tr style=\"text-align: right;\">\n",
       "      <th></th>\n",
       "      <th>0</th>\n",
       "      <th>1</th>\n",
       "      <th>2</th>\n",
       "      <th>y</th>\n",
       "    </tr>\n",
       "  </thead>\n",
       "  <tbody>\n",
       "    <tr>\n",
       "      <th>0</th>\n",
       "      <td>1.610155</td>\n",
       "      <td>-7.296218</td>\n",
       "      <td>-1.949740</td>\n",
       "      <td>0</td>\n",
       "    </tr>\n",
       "    <tr>\n",
       "      <th>1</th>\n",
       "      <td>2.721445</td>\n",
       "      <td>-11.693159</td>\n",
       "      <td>-2.574624</td>\n",
       "      <td>0</td>\n",
       "    </tr>\n",
       "    <tr>\n",
       "      <th>2</th>\n",
       "      <td>1.159257</td>\n",
       "      <td>-9.293894</td>\n",
       "      <td>-0.992080</td>\n",
       "      <td>0</td>\n",
       "    </tr>\n",
       "    <tr>\n",
       "      <th>3</th>\n",
       "      <td>2.946398</td>\n",
       "      <td>-10.934134</td>\n",
       "      <td>-1.913056</td>\n",
       "      <td>0</td>\n",
       "    </tr>\n",
       "    <tr>\n",
       "      <th>4</th>\n",
       "      <td>2.035376</td>\n",
       "      <td>-8.698581</td>\n",
       "      <td>-1.466725</td>\n",
       "      <td>0</td>\n",
       "    </tr>\n",
       "    <tr>\n",
       "      <th>...</th>\n",
       "      <td>...</td>\n",
       "      <td>...</td>\n",
       "      <td>...</td>\n",
       "      <td>...</td>\n",
       "    </tr>\n",
       "    <tr>\n",
       "      <th>975</th>\n",
       "      <td>-0.421908</td>\n",
       "      <td>-4.137669</td>\n",
       "      <td>-1.921860</td>\n",
       "      <td>0</td>\n",
       "    </tr>\n",
       "    <tr>\n",
       "      <th>976</th>\n",
       "      <td>0.629439</td>\n",
       "      <td>-6.895987</td>\n",
       "      <td>-0.959484</td>\n",
       "      <td>0</td>\n",
       "    </tr>\n",
       "    <tr>\n",
       "      <th>977</th>\n",
       "      <td>1.539558</td>\n",
       "      <td>-7.074513</td>\n",
       "      <td>-2.124304</td>\n",
       "      <td>0</td>\n",
       "    </tr>\n",
       "    <tr>\n",
       "      <th>978</th>\n",
       "      <td>1.117325</td>\n",
       "      <td>-7.665346</td>\n",
       "      <td>-1.131635</td>\n",
       "      <td>0</td>\n",
       "    </tr>\n",
       "    <tr>\n",
       "      <th>979</th>\n",
       "      <td>2.633224</td>\n",
       "      <td>-6.995299</td>\n",
       "      <td>-3.818918</td>\n",
       "      <td>0</td>\n",
       "    </tr>\n",
       "  </tbody>\n",
       "</table>\n",
       "<p>980 rows × 4 columns</p>\n",
       "</div>\n",
       "      <button class=\"colab-df-convert\" onclick=\"convertToInteractive('df-b257f659-b978-4bb5-9e20-89f0ab4c514f')\"\n",
       "              title=\"Convert this dataframe to an interactive table.\"\n",
       "              style=\"display:none;\">\n",
       "        \n",
       "  <svg xmlns=\"http://www.w3.org/2000/svg\" height=\"24px\"viewBox=\"0 0 24 24\"\n",
       "       width=\"24px\">\n",
       "    <path d=\"M0 0h24v24H0V0z\" fill=\"none\"/>\n",
       "    <path d=\"M18.56 5.44l.94 2.06.94-2.06 2.06-.94-2.06-.94-.94-2.06-.94 2.06-2.06.94zm-11 1L8.5 8.5l.94-2.06 2.06-.94-2.06-.94L8.5 2.5l-.94 2.06-2.06.94zm10 10l.94 2.06.94-2.06 2.06-.94-2.06-.94-.94-2.06-.94 2.06-2.06.94z\"/><path d=\"M17.41 7.96l-1.37-1.37c-.4-.4-.92-.59-1.43-.59-.52 0-1.04.2-1.43.59L10.3 9.45l-7.72 7.72c-.78.78-.78 2.05 0 2.83L4 21.41c.39.39.9.59 1.41.59.51 0 1.02-.2 1.41-.59l7.78-7.78 2.81-2.81c.8-.78.8-2.07 0-2.86zM5.41 20L4 18.59l7.72-7.72 1.47 1.35L5.41 20z\"/>\n",
       "  </svg>\n",
       "      </button>\n",
       "      \n",
       "  <style>\n",
       "    .colab-df-container {\n",
       "      display:flex;\n",
       "      flex-wrap:wrap;\n",
       "      gap: 12px;\n",
       "    }\n",
       "\n",
       "    .colab-df-convert {\n",
       "      background-color: #E8F0FE;\n",
       "      border: none;\n",
       "      border-radius: 50%;\n",
       "      cursor: pointer;\n",
       "      display: none;\n",
       "      fill: #1967D2;\n",
       "      height: 32px;\n",
       "      padding: 0 0 0 0;\n",
       "      width: 32px;\n",
       "    }\n",
       "\n",
       "    .colab-df-convert:hover {\n",
       "      background-color: #E2EBFA;\n",
       "      box-shadow: 0px 1px 2px rgba(60, 64, 67, 0.3), 0px 1px 3px 1px rgba(60, 64, 67, 0.15);\n",
       "      fill: #174EA6;\n",
       "    }\n",
       "\n",
       "    [theme=dark] .colab-df-convert {\n",
       "      background-color: #3B4455;\n",
       "      fill: #D2E3FC;\n",
       "    }\n",
       "\n",
       "    [theme=dark] .colab-df-convert:hover {\n",
       "      background-color: #434B5C;\n",
       "      box-shadow: 0px 1px 3px 1px rgba(0, 0, 0, 0.15);\n",
       "      filter: drop-shadow(0px 1px 2px rgba(0, 0, 0, 0.3));\n",
       "      fill: #FFFFFF;\n",
       "    }\n",
       "  </style>\n",
       "\n",
       "      <script>\n",
       "        const buttonEl =\n",
       "          document.querySelector('#df-b257f659-b978-4bb5-9e20-89f0ab4c514f button.colab-df-convert');\n",
       "        buttonEl.style.display =\n",
       "          google.colab.kernel.accessAllowed ? 'block' : 'none';\n",
       "\n",
       "        async function convertToInteractive(key) {\n",
       "          const element = document.querySelector('#df-b257f659-b978-4bb5-9e20-89f0ab4c514f');\n",
       "          const dataTable =\n",
       "            await google.colab.kernel.invokeFunction('convertToInteractive',\n",
       "                                                     [key], {});\n",
       "          if (!dataTable) return;\n",
       "\n",
       "          const docLinkHtml = 'Like what you see? Visit the ' +\n",
       "            '<a target=\"_blank\" href=https://colab.research.google.com/notebooks/data_table.ipynb>data table notebook</a>'\n",
       "            + ' to learn more about interactive tables.';\n",
       "          element.innerHTML = '';\n",
       "          dataTable['output_type'] = 'display_data';\n",
       "          await google.colab.output.renderOutput(dataTable, element);\n",
       "          const docLink = document.createElement('div');\n",
       "          docLink.innerHTML = docLinkHtml;\n",
       "          element.appendChild(docLink);\n",
       "        }\n",
       "      </script>\n",
       "    </div>\n",
       "  </div>\n",
       "  "
      ],
      "text/plain": [
       "            0          1         2  y\n",
       "0    1.610155  -7.296218 -1.949740  0\n",
       "1    2.721445 -11.693159 -2.574624  0\n",
       "2    1.159257  -9.293894 -0.992080  0\n",
       "3    2.946398 -10.934134 -1.913056  0\n",
       "4    2.035376  -8.698581 -1.466725  0\n",
       "..        ...        ...       ... ..\n",
       "975 -0.421908  -4.137669 -1.921860  0\n",
       "976  0.629439  -6.895987 -0.959484  0\n",
       "977  1.539558  -7.074513 -2.124304  0\n",
       "978  1.117325  -7.665346 -1.131635  0\n",
       "979  2.633224  -6.995299 -3.818918  0\n",
       "\n",
       "[980 rows x 4 columns]"
      ]
     },
     "execution_count": 23,
     "metadata": {},
     "output_type": "execute_result"
    }
   ],
   "source": [
    "pd.DataFrame(lrnr.model(XX)).assign(y=yy).query('y==0')"
   ]
  },
  {
   "cell_type": "markdown",
   "metadata": {
    "id": "_ybBIHfUXZdI"
   },
   "source": [
    "* 대체적으로 두번쨰 칼럼의 숫자들이 다른 칼럼보다 크다."
   ]
  },
  {
   "cell_type": "code",
   "execution_count": 24,
   "metadata": {
    "colab": {
     "base_uri": "https://localhost:8080/",
     "height": 423
    },
    "executionInfo": {
     "elapsed": 471,
     "status": "ok",
     "timestamp": 1682307952300,
     "user": {
      "displayName": "이강철",
      "userId": "13507850890638580947"
     },
     "user_tz": -540
    },
    "id": "oZBHen_eXY5Y",
    "outputId": "81c5f9c7-2031-4364-9b30-d20d2b5f6012"
   },
   "outputs": [
    {
     "data": {
      "text/html": [
       "\n",
       "  <div id=\"df-759c38b6-df0d-4bff-9799-812fc79d49a1\">\n",
       "    <div class=\"colab-df-container\">\n",
       "      <div>\n",
       "<style scoped>\n",
       "    .dataframe tbody tr th:only-of-type {\n",
       "        vertical-align: middle;\n",
       "    }\n",
       "\n",
       "    .dataframe tbody tr th {\n",
       "        vertical-align: top;\n",
       "    }\n",
       "\n",
       "    .dataframe thead th {\n",
       "        text-align: right;\n",
       "    }\n",
       "</style>\n",
       "<table border=\"1\" class=\"dataframe\">\n",
       "  <thead>\n",
       "    <tr style=\"text-align: right;\">\n",
       "      <th></th>\n",
       "      <th>0</th>\n",
       "      <th>1</th>\n",
       "      <th>2</th>\n",
       "      <th>y</th>\n",
       "    </tr>\n",
       "  </thead>\n",
       "  <tbody>\n",
       "    <tr>\n",
       "      <th>980</th>\n",
       "      <td>-4.262898</td>\n",
       "      <td>1.944668</td>\n",
       "      <td>-0.949041</td>\n",
       "      <td>1</td>\n",
       "    </tr>\n",
       "    <tr>\n",
       "      <th>981</th>\n",
       "      <td>-3.462561</td>\n",
       "      <td>2.556862</td>\n",
       "      <td>-1.529038</td>\n",
       "      <td>1</td>\n",
       "    </tr>\n",
       "    <tr>\n",
       "      <th>982</th>\n",
       "      <td>-3.882701</td>\n",
       "      <td>1.947009</td>\n",
       "      <td>-1.357661</td>\n",
       "      <td>1</td>\n",
       "    </tr>\n",
       "    <tr>\n",
       "      <th>983</th>\n",
       "      <td>-3.104966</td>\n",
       "      <td>2.371521</td>\n",
       "      <td>-1.705071</td>\n",
       "      <td>1</td>\n",
       "    </tr>\n",
       "    <tr>\n",
       "      <th>984</th>\n",
       "      <td>-3.492548</td>\n",
       "      <td>2.551590</td>\n",
       "      <td>-1.425174</td>\n",
       "      <td>1</td>\n",
       "    </tr>\n",
       "    <tr>\n",
       "      <th>...</th>\n",
       "      <td>...</td>\n",
       "      <td>...</td>\n",
       "      <td>...</td>\n",
       "      <td>...</td>\n",
       "    </tr>\n",
       "    <tr>\n",
       "      <th>2110</th>\n",
       "      <td>-3.436696</td>\n",
       "      <td>2.716884</td>\n",
       "      <td>-1.594630</td>\n",
       "      <td>1</td>\n",
       "    </tr>\n",
       "    <tr>\n",
       "      <th>2111</th>\n",
       "      <td>-3.732119</td>\n",
       "      <td>2.664111</td>\n",
       "      <td>-1.861893</td>\n",
       "      <td>1</td>\n",
       "    </tr>\n",
       "    <tr>\n",
       "      <th>2112</th>\n",
       "      <td>-2.843302</td>\n",
       "      <td>2.324082</td>\n",
       "      <td>-1.652022</td>\n",
       "      <td>1</td>\n",
       "    </tr>\n",
       "    <tr>\n",
       "      <th>2113</th>\n",
       "      <td>-4.504267</td>\n",
       "      <td>2.389974</td>\n",
       "      <td>-1.222201</td>\n",
       "      <td>1</td>\n",
       "    </tr>\n",
       "    <tr>\n",
       "      <th>2114</th>\n",
       "      <td>-3.525925</td>\n",
       "      <td>2.375131</td>\n",
       "      <td>-1.666616</td>\n",
       "      <td>1</td>\n",
       "    </tr>\n",
       "  </tbody>\n",
       "</table>\n",
       "<p>1135 rows × 4 columns</p>\n",
       "</div>\n",
       "      <button class=\"colab-df-convert\" onclick=\"convertToInteractive('df-759c38b6-df0d-4bff-9799-812fc79d49a1')\"\n",
       "              title=\"Convert this dataframe to an interactive table.\"\n",
       "              style=\"display:none;\">\n",
       "        \n",
       "  <svg xmlns=\"http://www.w3.org/2000/svg\" height=\"24px\"viewBox=\"0 0 24 24\"\n",
       "       width=\"24px\">\n",
       "    <path d=\"M0 0h24v24H0V0z\" fill=\"none\"/>\n",
       "    <path d=\"M18.56 5.44l.94 2.06.94-2.06 2.06-.94-2.06-.94-.94-2.06-.94 2.06-2.06.94zm-11 1L8.5 8.5l.94-2.06 2.06-.94-2.06-.94L8.5 2.5l-.94 2.06-2.06.94zm10 10l.94 2.06.94-2.06 2.06-.94-2.06-.94-.94-2.06-.94 2.06-2.06.94z\"/><path d=\"M17.41 7.96l-1.37-1.37c-.4-.4-.92-.59-1.43-.59-.52 0-1.04.2-1.43.59L10.3 9.45l-7.72 7.72c-.78.78-.78 2.05 0 2.83L4 21.41c.39.39.9.59 1.41.59.51 0 1.02-.2 1.41-.59l7.78-7.78 2.81-2.81c.8-.78.8-2.07 0-2.86zM5.41 20L4 18.59l7.72-7.72 1.47 1.35L5.41 20z\"/>\n",
       "  </svg>\n",
       "      </button>\n",
       "      \n",
       "  <style>\n",
       "    .colab-df-container {\n",
       "      display:flex;\n",
       "      flex-wrap:wrap;\n",
       "      gap: 12px;\n",
       "    }\n",
       "\n",
       "    .colab-df-convert {\n",
       "      background-color: #E8F0FE;\n",
       "      border: none;\n",
       "      border-radius: 50%;\n",
       "      cursor: pointer;\n",
       "      display: none;\n",
       "      fill: #1967D2;\n",
       "      height: 32px;\n",
       "      padding: 0 0 0 0;\n",
       "      width: 32px;\n",
       "    }\n",
       "\n",
       "    .colab-df-convert:hover {\n",
       "      background-color: #E2EBFA;\n",
       "      box-shadow: 0px 1px 2px rgba(60, 64, 67, 0.3), 0px 1px 3px 1px rgba(60, 64, 67, 0.15);\n",
       "      fill: #174EA6;\n",
       "    }\n",
       "\n",
       "    [theme=dark] .colab-df-convert {\n",
       "      background-color: #3B4455;\n",
       "      fill: #D2E3FC;\n",
       "    }\n",
       "\n",
       "    [theme=dark] .colab-df-convert:hover {\n",
       "      background-color: #434B5C;\n",
       "      box-shadow: 0px 1px 3px 1px rgba(0, 0, 0, 0.15);\n",
       "      filter: drop-shadow(0px 1px 2px rgba(0, 0, 0, 0.3));\n",
       "      fill: #FFFFFF;\n",
       "    }\n",
       "  </style>\n",
       "\n",
       "      <script>\n",
       "        const buttonEl =\n",
       "          document.querySelector('#df-759c38b6-df0d-4bff-9799-812fc79d49a1 button.colab-df-convert');\n",
       "        buttonEl.style.display =\n",
       "          google.colab.kernel.accessAllowed ? 'block' : 'none';\n",
       "\n",
       "        async function convertToInteractive(key) {\n",
       "          const element = document.querySelector('#df-759c38b6-df0d-4bff-9799-812fc79d49a1');\n",
       "          const dataTable =\n",
       "            await google.colab.kernel.invokeFunction('convertToInteractive',\n",
       "                                                     [key], {});\n",
       "          if (!dataTable) return;\n",
       "\n",
       "          const docLinkHtml = 'Like what you see? Visit the ' +\n",
       "            '<a target=\"_blank\" href=https://colab.research.google.com/notebooks/data_table.ipynb>data table notebook</a>'\n",
       "            + ' to learn more about interactive tables.';\n",
       "          element.innerHTML = '';\n",
       "          dataTable['output_type'] = 'display_data';\n",
       "          await google.colab.output.renderOutput(dataTable, element);\n",
       "          const docLink = document.createElement('div');\n",
       "          docLink.innerHTML = docLinkHtml;\n",
       "          element.appendChild(docLink);\n",
       "        }\n",
       "      </script>\n",
       "    </div>\n",
       "  </div>\n",
       "  "
      ],
      "text/plain": [
       "             0         1         2  y\n",
       "980  -4.262898  1.944668 -0.949041  1\n",
       "981  -3.462561  2.556862 -1.529038  1\n",
       "982  -3.882701  1.947009 -1.357661  1\n",
       "983  -3.104966  2.371521 -1.705071  1\n",
       "984  -3.492548  2.551590 -1.425174  1\n",
       "...        ...       ...       ... ..\n",
       "2110 -3.436696  2.716884 -1.594630  1\n",
       "2111 -3.732119  2.664111 -1.861893  1\n",
       "2112 -2.843302  2.324082 -1.652022  1\n",
       "2113 -4.504267  2.389974 -1.222201  1\n",
       "2114 -3.525925  2.375131 -1.666616  1\n",
       "\n",
       "[1135 rows x 4 columns]"
      ]
     },
     "execution_count": 24,
     "metadata": {},
     "output_type": "execute_result"
    }
   ],
   "source": [
    "pd.DataFrame(lrnr.model(XX)).assign(y=yy).query('y==1')"
   ]
  },
  {
   "cell_type": "markdown",
   "metadata": {
    "id": "X-iIW_OLXmZW"
   },
   "source": [
    "* $i$ 번째 칼럼의 숫자가 크다 $\\to$ $y=i$ 일 확률이 크다."
   ]
  },
  {
   "cell_type": "markdown",
   "metadata": {
    "id": "aarf-q-YYTew"
   },
   "source": [
    "## 공부 1 : softmax"
   ]
  },
  {
   "cell_type": "markdown",
   "metadata": {
    "id": "KGFQBYsMYW_d"
   },
   "source": [
    " `-` softmax를 쓰기 직전의 숫자들은 (n,k) 꼴로 되어 있음, 각 관측치 마다 $k$개의 숫자가 있는데, 그 중에서 유난히 큰 하나의 숫자가 있다."
   ]
  },
  {
   "cell_type": "markdown",
   "metadata": {
    "id": "BCYoK0KlYoLX"
   },
   "source": [
    "`-` torch.nn.Softmax() 손계산"
   ]
  },
  {
   "cell_type": "markdown",
   "metadata": {
    "id": "TOwHYXQlYxJf"
   },
   "source": [
    "(예시1) 잘못된 계산"
   ]
  },
  {
   "cell_type": "code",
   "execution_count": 25,
   "metadata": {
    "colab": {
     "base_uri": "https://localhost:8080/"
    },
    "executionInfo": {
     "elapsed": 5,
     "status": "ok",
     "timestamp": 1682308268214,
     "user": {
      "displayName": "이강철",
      "userId": "13507850890638580947"
     },
     "user_tz": -540
    },
    "id": "5N_SY-qtYsD4",
    "outputId": "7b6d1113-e4e6-44d4-faac-be02ba60129d"
   },
   "outputs": [
    {
     "data": {
      "text/plain": [
       "Softmax(dim=0)"
      ]
     },
     "execution_count": 25,
     "metadata": {},
     "output_type": "execute_result"
    }
   ],
   "source": [
    "sftmax = torch.nn.Softmax(dim=0)\n",
    "sftmax"
   ]
  },
  {
   "cell_type": "code",
   "execution_count": 26,
   "metadata": {
    "colab": {
     "base_uri": "https://localhost:8080/"
    },
    "executionInfo": {
     "elapsed": 4,
     "status": "ok",
     "timestamp": 1682308286267,
     "user": {
      "displayName": "이강철",
      "userId": "13507850890638580947"
     },
     "user_tz": -540
    },
    "id": "0VXK_q8NYwcG",
    "outputId": "369df069-f741-4828-9720-41ed0fa23548"
   },
   "outputs": [
    {
     "data": {
      "text/plain": [
       "tensor([[-2.0000, -2.0000,  0.0000],\n",
       "        [ 3.1400,  3.1400,  3.1400],\n",
       "        [ 0.0000,  0.0000,  2.0000],\n",
       "        [ 2.0000,  2.0000,  4.0000],\n",
       "        [ 0.0000,  0.0000,  0.0000]])"
      ]
     },
     "execution_count": 26,
     "metadata": {},
     "output_type": "execute_result"
    }
   ],
   "source": [
    "_netout = torch.tensor([[-2.0,-2.0,0.0],\n",
    "                        [3.14,3.14,3.14],\n",
    "                        [0.0,0.0,2.0],\n",
    "                        [2.0,2.0,4.0],\n",
    "                        [0.0,0.0,0.0]])\n",
    "_netout"
   ]
  },
  {
   "cell_type": "markdown",
   "metadata": {
    "id": "P2n5HVZsZGvM"
   },
   "source": [
    "`-` 어라? 같은 값인데 확률이 다른 값들이 존재한다...."
   ]
  },
  {
   "cell_type": "code",
   "execution_count": 27,
   "metadata": {
    "colab": {
     "base_uri": "https://localhost:8080/"
    },
    "executionInfo": {
     "elapsed": 4,
     "status": "ok",
     "timestamp": 1682308299314,
     "user": {
      "displayName": "이강철",
      "userId": "13507850890638580947"
     },
     "user_tz": -540
    },
    "id": "s78dXSavY1b0",
    "outputId": "5a6f48e7-6c7d-48f7-bad4-6807c8328fbf"
   },
   "outputs": [
    {
     "data": {
      "text/plain": [
       "tensor([[0.0041, 0.0041, 0.0115],\n",
       "        [0.7081, 0.7081, 0.2653],\n",
       "        [0.0306, 0.0306, 0.0848],\n",
       "        [0.2265, 0.2265, 0.6269],\n",
       "        [0.0306, 0.0306, 0.0115]])"
      ]
     },
     "execution_count": 27,
     "metadata": {},
     "output_type": "execute_result"
    }
   ],
   "source": [
    "sftmax(_netout)"
   ]
  },
  {
   "cell_type": "markdown",
   "metadata": {
    "id": "7sMopgkWZGe4"
   },
   "source": [
    "`-` 심지어 다 더해서 1이 되지도 않는다...\n",
    "\n",
    "`-` 근데 세로로 더하면 1이 되네 핳"
   ]
  },
  {
   "cell_type": "markdown",
   "metadata": {
    "id": "ys3H9ktaZZiX"
   },
   "source": [
    "(예시 2) 올바른 계산."
   ]
  },
  {
   "cell_type": "code",
   "execution_count": 28,
   "metadata": {
    "executionInfo": {
     "elapsed": 469,
     "status": "ok",
     "timestamp": 1682308455418,
     "user": {
      "displayName": "이강철",
      "userId": "13507850890638580947"
     },
     "user_tz": -540
    },
    "id": "eCOfZoTeZchW"
   },
   "outputs": [],
   "source": [
    "sftmax = torch.nn.Softmax(dim=1)"
   ]
  },
  {
   "cell_type": "code",
   "execution_count": 29,
   "metadata": {
    "colab": {
     "base_uri": "https://localhost:8080/"
    },
    "executionInfo": {
     "elapsed": 5,
     "status": "ok",
     "timestamp": 1682308461403,
     "user": {
      "displayName": "이강철",
      "userId": "13507850890638580947"
     },
     "user_tz": -540
    },
    "id": "9uE4070DZdqn",
    "outputId": "9a121193-ea4f-4463-9b7d-47556a3fcd71"
   },
   "outputs": [
    {
     "data": {
      "text/plain": [
       "tensor([[0.1065, 0.1065, 0.7870],\n",
       "        [0.3333, 0.3333, 0.3333],\n",
       "        [0.1065, 0.1065, 0.7870],\n",
       "        [0.1065, 0.1065, 0.7870],\n",
       "        [0.3333, 0.3333, 0.3333]])"
      ]
     },
     "execution_count": 29,
     "metadata": {},
     "output_type": "execute_result"
    }
   ],
   "source": [
    "sftmax(_netout)"
   ]
  },
  {
   "cell_type": "markdown",
   "metadata": {
    "id": "r8YVGGsoZhAg"
   },
   "source": [
    "(예시 3) 차원을 명시안하면 맞게 계산해주고 경고 줌"
   ]
  },
  {
   "cell_type": "code",
   "execution_count": 30,
   "metadata": {
    "executionInfo": {
     "elapsed": 764,
     "status": "ok",
     "timestamp": 1682308491698,
     "user": {
      "displayName": "이강철",
      "userId": "13507850890638580947"
     },
     "user_tz": -540
    },
    "id": "wKhiIqD9ZlLt"
   },
   "outputs": [],
   "source": [
    "sftmax = torch.nn.Softmax()"
   ]
  },
  {
   "cell_type": "code",
   "execution_count": 31,
   "metadata": {
    "colab": {
     "base_uri": "https://localhost:8080/"
    },
    "executionInfo": {
     "elapsed": 509,
     "status": "ok",
     "timestamp": 1682308494274,
     "user": {
      "displayName": "이강철",
      "userId": "13507850890638580947"
     },
     "user_tz": -540
    },
    "id": "xingUZBfZmYO",
    "outputId": "c0898f27-2073-4946-9670-4e222f17187c"
   },
   "outputs": [
    {
     "name": "stderr",
     "output_type": "stream",
     "text": [
      "<ipython-input-31-60b02882c48d>:1: UserWarning: Implicit dimension choice for softmax has been deprecated. Change the call to include dim=X as an argument.\n",
      "  sftmax(_netout)\n"
     ]
    },
    {
     "data": {
      "text/plain": [
       "tensor([[0.1065, 0.1065, 0.7870],\n",
       "        [0.3333, 0.3333, 0.3333],\n",
       "        [0.1065, 0.1065, 0.7870],\n",
       "        [0.1065, 0.1065, 0.7870],\n",
       "        [0.3333, 0.3333, 0.3333]])"
      ]
     },
     "execution_count": 31,
     "metadata": {},
     "output_type": "execute_result"
    }
   ],
   "source": [
    "sftmax(_netout)"
   ]
  },
  {
   "cell_type": "markdown",
   "metadata": {
    "id": "yMu8O4XsZoiS"
   },
   "source": [
    "(예시 4) 진짜 손계산"
   ]
  },
  {
   "cell_type": "code",
   "execution_count": 32,
   "metadata": {
    "colab": {
     "base_uri": "https://localhost:8080/"
    },
    "executionInfo": {
     "elapsed": 5,
     "status": "ok",
     "timestamp": 1682308512988,
     "user": {
      "displayName": "이강철",
      "userId": "13507850890638580947"
     },
     "user_tz": -540
    },
    "id": "3dTwKHhCZqO8",
    "outputId": "3bee3522-9c07-48df-803f-d20bdb17dc98"
   },
   "outputs": [
    {
     "data": {
      "text/plain": [
       "tensor([[ 0.1353,  0.1353,  1.0000],\n",
       "        [23.1039, 23.1039, 23.1039],\n",
       "        [ 1.0000,  1.0000,  7.3891],\n",
       "        [ 7.3891,  7.3891, 54.5981],\n",
       "        [ 1.0000,  1.0000,  1.0000]])"
      ]
     },
     "execution_count": 32,
     "metadata": {},
     "output_type": "execute_result"
    }
   ],
   "source": [
    "torch.exp(_netout)"
   ]
  },
  {
   "cell_type": "markdown",
   "metadata": {
    "id": "aHU28HX3ZunR"
   },
   "source": [
    "`-` 첫번쨰 관측치"
   ]
  },
  {
   "cell_type": "code",
   "execution_count": 33,
   "metadata": {
    "colab": {
     "base_uri": "https://localhost:8080/"
    },
    "executionInfo": {
     "elapsed": 4,
     "status": "ok",
     "timestamp": 1682308523535,
     "user": {
      "displayName": "이강철",
      "userId": "13507850890638580947"
     },
     "user_tz": -540
    },
    "id": "8e7v7D-PZtzh",
    "outputId": "c3dee38f-2ff8-45f2-a68b-f7403d4e0095"
   },
   "outputs": [
    {
     "data": {
      "text/plain": [
       "(0.10648512513773022, 0.10648512513773022, 0.7870297497245397)"
      ]
     },
     "execution_count": 33,
     "metadata": {},
     "output_type": "execute_result"
    }
   ],
   "source": [
    "0.1353/(0.1353 + 0.1353 + 1.0000), 0.1353/(0.1353 + 0.1353 + 1.0000), 1.0000/(0.1353 + 0.1353 + 1.0000) # 첫 obs"
   ]
  },
  {
   "cell_type": "markdown",
   "metadata": {
    "id": "J0LwTQ7NZz8q"
   },
   "source": [
    "`-` 두번쨰 관측치"
   ]
  },
  {
   "cell_type": "code",
   "execution_count": 34,
   "metadata": {
    "colab": {
     "base_uri": "https://localhost:8080/"
    },
    "executionInfo": {
     "elapsed": 465,
     "status": "ok",
     "timestamp": 1682308546014,
     "user": {
      "displayName": "이강철",
      "userId": "13507850890638580947"
     },
     "user_tz": -540
    },
    "id": "cVZtWR1eZyQx",
    "outputId": "6344df92-4e3e-48e9-a113-cb6031911b14"
   },
   "outputs": [
    {
     "data": {
      "text/plain": [
       "tensor([0.3333, 0.3333, 0.3333])"
      ]
     },
     "execution_count": 34,
     "metadata": {},
     "output_type": "execute_result"
    }
   ],
   "source": [
    "np.exp(_netout[1])/np.exp(_netout[1]).sum() # 두번째 obs "
   ]
  },
  {
   "cell_type": "code",
   "execution_count": 35,
   "metadata": {
    "colab": {
     "base_uri": "https://localhost:8080/"
    },
    "executionInfo": {
     "elapsed": 5,
     "status": "ok",
     "timestamp": 1682308568693,
     "user": {
      "displayName": "이강철",
      "userId": "13507850890638580947"
     },
     "user_tz": -540
    },
    "id": "n1nXPJ47Z4h7",
    "outputId": "f9b4a0b4-7918-4728-a96c-844c4e0f27d4"
   },
   "outputs": [
    {
     "data": {
      "text/plain": [
       "array([[0.10650698, 0.10650698, 0.78698605],\n",
       "       [0.33333334, 0.33333334, 0.33333334],\n",
       "       [0.10650699, 0.10650699, 0.78698605],\n",
       "       [0.10650698, 0.10650698, 0.78698605],\n",
       "       [0.33333334, 0.33333334, 0.33333334]], dtype=float32)"
      ]
     },
     "execution_count": 35,
     "metadata": {},
     "output_type": "execute_result"
    }
   ],
   "source": [
    "np.apply_along_axis(lambda x: np.exp(x) / np.exp(x).sum(),1,_netout)"
   ]
  },
  {
   "cell_type": "markdown",
   "metadata": {
    "id": "fFjzEThjaHUZ"
   },
   "source": [
    "[참고링크](https://gangcheol.github.io/mysite/post/Lecture/STBD/2022-05-08-lecture.html)"
   ]
  },
  {
   "cell_type": "markdown",
   "metadata": {
    "id": "9WtzAeJ8Z7C1"
   },
   "source": [
    "## 공부2 : CrossEntropyLoss"
   ]
  },
  {
   "cell_type": "markdown",
   "metadata": {
    "id": "z3DXXuVeahoQ"
   },
   "source": [
    "### one-hot version 손계산"
   ]
  },
  {
   "cell_type": "code",
   "execution_count": 37,
   "metadata": {
    "executionInfo": {
     "elapsed": 3,
     "status": "ok",
     "timestamp": 1682308758418,
     "user": {
      "displayName": "이강철",
      "userId": "13507850890638580947"
     },
     "user_tz": -540
    },
    "id": "XtN6xYNkamHb"
   },
   "outputs": [],
   "source": [
    "loss_fn = torch.nn.CrossEntropyLoss()"
   ]
  },
  {
   "cell_type": "code",
   "execution_count": 38,
   "metadata": {
    "colab": {
     "base_uri": "https://localhost:8080/"
    },
    "executionInfo": {
     "elapsed": 3,
     "status": "ok",
     "timestamp": 1682308760045,
     "user": {
      "displayName": "이강철",
      "userId": "13507850890638580947"
     },
     "user_tz": -540
    },
    "id": "WUCB8UPkanHp",
    "outputId": "f016e7ab-897a-4744-8bf0-2d205836b52f"
   },
   "outputs": [
    {
     "data": {
      "text/plain": [
       "tensor([[-2.0000, -2.0000,  0.0000],\n",
       "        [ 3.1400,  3.1400,  3.1400],\n",
       "        [ 0.0000,  0.0000,  2.0000],\n",
       "        [ 2.0000,  2.0000,  4.0000],\n",
       "        [ 0.0000,  0.0000,  0.0000]])"
      ]
     },
     "execution_count": 38,
     "metadata": {},
     "output_type": "execute_result"
    }
   ],
   "source": [
    "_netout"
   ]
  },
  {
   "cell_type": "code",
   "execution_count": 40,
   "metadata": {
    "colab": {
     "base_uri": "https://localhost:8080/"
    },
    "executionInfo": {
     "elapsed": 4,
     "status": "ok",
     "timestamp": 1682308767109,
     "user": {
      "displayName": "이강철",
      "userId": "13507850890638580947"
     },
     "user_tz": -540
    },
    "id": "PQEtAa9eaoXW",
    "outputId": "a79917fa-45bc-4f2c-9b48-effce00c2738"
   },
   "outputs": [
    {
     "data": {
      "text/plain": [
       "tensor([[0., 0., 1.],\n",
       "        [0., 1., 0.],\n",
       "        [0., 0., 1.],\n",
       "        [0., 0., 1.],\n",
       "        [1., 0., 0.]])"
      ]
     },
     "execution_count": 40,
     "metadata": {},
     "output_type": "execute_result"
    }
   ],
   "source": [
    "_y_onehot = torch.tensor([[0,0,1],\n",
    "                          [0,1,0],\n",
    "                          [0,0,1],\n",
    "                          [0,0,1],\n",
    "                          [1,0,0]])*1.0\n",
    "_y_onehot"
   ]
  },
  {
   "cell_type": "code",
   "execution_count": 41,
   "metadata": {
    "colab": {
     "base_uri": "https://localhost:8080/"
    },
    "executionInfo": {
     "elapsed": 5,
     "status": "ok",
     "timestamp": 1682308775788,
     "user": {
      "displayName": "이강철",
      "userId": "13507850890638580947"
     },
     "user_tz": -540
    },
    "id": "oDfWPoOFarbh",
    "outputId": "8fa81f24-28ea-4d73-b5a0-d673ee18ccd8"
   },
   "outputs": [
    {
     "data": {
      "text/plain": [
       "(tensor([[0.1065, 0.1065, 0.7870],\n",
       "         [0.3333, 0.3333, 0.3333],\n",
       "         [0.1065, 0.1065, 0.7870],\n",
       "         [0.1065, 0.1065, 0.7870],\n",
       "         [0.3333, 0.3333, 0.3333]]),\n",
       " tensor([[0., 0., 1.],\n",
       "         [0., 1., 0.],\n",
       "         [0., 0., 1.],\n",
       "         [0., 0., 1.],\n",
       "         [1., 0., 0.]]))"
      ]
     },
     "execution_count": 41,
     "metadata": {},
     "output_type": "execute_result"
    }
   ],
   "source": [
    "sftmax = torch.nn.Softmax(dim=1) \n",
    "sftmax(_netout), _y_onehot"
   ]
  },
  {
   "cell_type": "markdown",
   "metadata": {
    "id": "cVCuaciEasqi"
   },
   "source": [
    "`-` 계산결과"
   ]
  },
  {
   "cell_type": "code",
   "execution_count": 42,
   "metadata": {
    "colab": {
     "base_uri": "https://localhost:8080/"
    },
    "executionInfo": {
     "elapsed": 2,
     "status": "ok",
     "timestamp": 1682308791048,
     "user": {
      "displayName": "이강철",
      "userId": "13507850890638580947"
     },
     "user_tz": -540
    },
    "id": "fzi9GB2EavSV",
    "outputId": "aa25d539-efab-4f1f-bfa4-b3018a9bab60"
   },
   "outputs": [
    {
     "data": {
      "text/plain": [
       "tensor(0.5832)"
      ]
     },
     "execution_count": 42,
     "metadata": {},
     "output_type": "execute_result"
    }
   ],
   "source": [
    "loss_fn(_netout,_y_onehot)"
   ]
  },
  {
   "cell_type": "markdown",
   "metadata": {
    "id": "D3Hr1mQrb50W"
   },
   "source": [
    "$$\\hat {y_i} = \\text {softmax(net(X))}$$"
   ]
  },
  {
   "cell_type": "markdown",
   "metadata": {
    "id": "iohm97FMbiFb"
   },
   "source": [
    "$$\\text {Cross entropy loss}=-\\sum_{i=1}^n  y_ilog (\\hat y_i)/n$$"
   ]
  },
  {
   "cell_type": "code",
   "execution_count": 43,
   "metadata": {
    "colab": {
     "base_uri": "https://localhost:8080/"
    },
    "executionInfo": {
     "elapsed": 4,
     "status": "ok",
     "timestamp": 1682308795847,
     "user": {
      "displayName": "이강철",
      "userId": "13507850890638580947"
     },
     "user_tz": -540
    },
    "id": "W3GCJS2FawMP",
    "outputId": "a20cf17a-f34f-4c5e-dcb0-9806aece0049"
   },
   "outputs": [
    {
     "data": {
      "text/plain": [
       "tensor(0.5832)"
      ]
     },
     "execution_count": 43,
     "metadata": {},
     "output_type": "execute_result"
    }
   ],
   "source": [
    "- torch.sum(torch.log(sftmax(_netout)) * _y_onehot)/5 "
   ]
  },
  {
   "cell_type": "markdown",
   "metadata": {
    "id": "5aO0ABA1axSV"
   },
   "source": [
    "`-` 계산하는 방법도 중요하나, 손실함수에 `softmax` 활성화함수가 이미 포함되어 있다는 것을 확인하는 것이 더 중요"
   ]
  },
  {
   "cell_type": "markdown",
   "metadata": {
    "id": "GINvV3tPbQYy"
   },
   "source": [
    "`-` 따라서 torch.nn.CrossEntropyLoss() 는 사실 torch.nn.CEWithSoftmaxLoss() 정도로 바꾸는 것이 더 말이 되는 것 같다."
   ]
  },
  {
   "cell_type": "markdown",
   "metadata": {
    "id": "9LUrYQWhcMW8"
   },
   "source": [
    "### 손계산 2 : y가 길이가 n인 벡터"
   ]
  },
  {
   "cell_type": "code",
   "execution_count": 44,
   "metadata": {
    "colab": {
     "base_uri": "https://localhost:8080/"
    },
    "executionInfo": {
     "elapsed": 5,
     "status": "ok",
     "timestamp": 1682309205694,
     "user": {
      "displayName": "이강철",
      "userId": "13507850890638580947"
     },
     "user_tz": -540
    },
    "id": "VB78AimkcUJx",
    "outputId": "828770d7-9f40-4e0e-9942-eecd0c42b508"
   },
   "outputs": [
    {
     "data": {
      "text/plain": [
       "tensor([[-2.0000, -2.0000,  0.0000],\n",
       "        [ 3.1400,  3.1400,  3.1400],\n",
       "        [ 0.0000,  0.0000,  2.0000],\n",
       "        [ 2.0000,  2.0000,  4.0000],\n",
       "        [ 0.0000,  0.0000,  0.0000]])"
      ]
     },
     "execution_count": 44,
     "metadata": {},
     "output_type": "execute_result"
    }
   ],
   "source": [
    "_netout "
   ]
  },
  {
   "cell_type": "code",
   "execution_count": 45,
   "metadata": {
    "executionInfo": {
     "elapsed": 2,
     "status": "ok",
     "timestamp": 1682309213045,
     "user": {
      "displayName": "이강철",
      "userId": "13507850890638580947"
     },
     "user_tz": -540
    },
    "id": "7eaunbXNcWH-"
   },
   "outputs": [],
   "source": [
    "_y = torch.tensor([2,1,2,2,0])"
   ]
  },
  {
   "cell_type": "code",
   "execution_count": 46,
   "metadata": {
    "colab": {
     "base_uri": "https://localhost:8080/"
    },
    "executionInfo": {
     "elapsed": 4,
     "status": "ok",
     "timestamp": 1682309218870,
     "user": {
      "displayName": "이강철",
      "userId": "13507850890638580947"
     },
     "user_tz": -540
    },
    "id": "eQ28pEBdcXkA",
    "outputId": "a797ca7c-27cd-4e1f-bd76-0781b3d7eebf"
   },
   "outputs": [
    {
     "data": {
      "text/plain": [
       "tensor(0.5832)"
      ]
     },
     "execution_count": 46,
     "metadata": {},
     "output_type": "execute_result"
    }
   ],
   "source": [
    "loss_fn(_netout,_y)"
   ]
  },
  {
   "cell_type": "code",
   "execution_count": 47,
   "metadata": {
    "colab": {
     "base_uri": "https://localhost:8080/"
    },
    "executionInfo": {
     "elapsed": 8,
     "status": "ok",
     "timestamp": 1682309302735,
     "user": {
      "displayName": "이강철",
      "userId": "13507850890638580947"
     },
     "user_tz": -540
    },
    "id": "Tsz-ilKicsEF",
    "outputId": "93bb6da1-3d7d-4938-d834-d2c2affa41f0"
   },
   "outputs": [
    {
     "data": {
      "text/plain": [
       "tensor(0.5832)"
      ]
     },
     "execution_count": 47,
     "metadata": {},
     "output_type": "execute_result"
    }
   ],
   "source": [
    "- torch.sum(torch.log(sftmax(_netout)) * _y_onehot)/5 "
   ]
  },
  {
   "cell_type": "markdown",
   "metadata": {
    "id": "aGBdo7OFczsb"
   },
   "source": [
    "## 실습 : k = 2로 두면 이진분류도 가능"
   ]
  },
  {
   "cell_type": "markdown",
   "metadata": {
    "id": "uA_0AMtyc407"
   },
   "source": [
    "`-` download data"
   ]
  },
  {
   "cell_type": "markdown",
   "metadata": {
    "id": "t3fmU58xc8PF"
   },
   "source": [
    "training"
   ]
  },
  {
   "cell_type": "code",
   "execution_count": 48,
   "metadata": {
    "executionInfo": {
     "elapsed": 1315,
     "status": "ok",
     "timestamp": 1682309385260,
     "user": {
      "displayName": "이강철",
      "userId": "13507850890638580947"
     },
     "user_tz": -540
    },
    "id": "VlFcAL5nc-1O"
   },
   "outputs": [],
   "source": [
    "X0 = torch.stack([torchvision.io.read_image(str(fname)) for fname in (path/'training/0').ls()])\n",
    "X1 = torch.stack([torchvision.io.read_image(str(fname)) for fname in (path/'training/1').ls()])\n",
    "X = torch.concat([X0,X1])/255\n",
    "y = torch.tensor([0]*len(X0) + [1]*len(X1))#.reshape(-1,1)"
   ]
  },
  {
   "cell_type": "code",
   "execution_count": 49,
   "metadata": {
    "executionInfo": {
     "elapsed": 3,
     "status": "ok",
     "timestamp": 1682309388425,
     "user": {
      "displayName": "이강철",
      "userId": "13507850890638580947"
     },
     "user_tz": -540
    },
    "id": "sKJaUwiBc_7f"
   },
   "outputs": [],
   "source": [
    "y_onehot = torch.nn.functional.one_hot(y).float()\n",
    "#y_onehot = torch.tensor(list(map(lambda x: [1,0] if x==0 else [0,1],y))).float()"
   ]
  },
  {
   "cell_type": "markdown",
   "metadata": {
    "id": "D_3MgBNIdCK2"
   },
   "source": [
    "test"
   ]
  },
  {
   "cell_type": "code",
   "execution_count": 50,
   "metadata": {
    "executionInfo": {
     "elapsed": 4,
     "status": "ok",
     "timestamp": 1682309405591,
     "user": {
      "displayName": "이강철",
      "userId": "13507850890638580947"
     },
     "user_tz": -540
    },
    "id": "tvwen3nvdFFd"
   },
   "outputs": [],
   "source": [
    "X0 = torch.stack([torchvision.io.read_image(str(fname)) for fname in (path/'testing/0').ls()])\n",
    "X1 = torch.stack([torchvision.io.read_image(str(fname)) for fname in (path/'testing/1').ls()])\n",
    "XX = torch.concat([X0,X1])/255\n",
    "yy = torch.tensor([0]*len(X0) + [1]*len(X1))#.reshape(-1,1)"
   ]
  },
  {
   "cell_type": "code",
   "execution_count": 60,
   "metadata": {
    "executionInfo": {
     "elapsed": 466,
     "status": "ok",
     "timestamp": 1682309709324,
     "user": {
      "displayName": "이강철",
      "userId": "13507850890638580947"
     },
     "user_tz": -540
    },
    "id": "4IMuqLDCdHya"
   },
   "outputs": [],
   "source": [
    "yy_onehot = torch.nn.functional.one_hot(yy).float()\n",
    "#yy_onehot = torch.tensor(list(map(lambda x: [1,0] if x==0 else [0,1],yy))).float()"
   ]
  },
  {
   "cell_type": "markdown",
   "metadata": {
    "id": "HKxKzD8zdJGD"
   },
   "source": [
    "`1` dls"
   ]
  },
  {
   "cell_type": "code",
   "execution_count": 52,
   "metadata": {
    "executionInfo": {
     "elapsed": 4,
     "status": "ok",
     "timestamp": 1682309426946,
     "user": {
      "displayName": "이강철",
      "userId": "13507850890638580947"
     },
     "user_tz": -540
    },
    "id": "94bbglxGdKGi"
   },
   "outputs": [],
   "source": [
    "ds1 = torch.utils.data.TensorDataset(X,y_onehot) \n",
    "ds2 = torch.utils.data.TensorDataset(XX,yy_onehot) \n",
    "dl1 = torch.utils.data.DataLoader(ds1,batch_size=1862) # 에폭당 11번 iter\n",
    "dl2 = torch.utils.data.DataLoader(ds2,batch_size=3147) # \n",
    "dls = DataLoaders(dl1,dl2) "
   ]
  },
  {
   "cell_type": "markdown",
   "metadata": {
    "id": "EeBMqdKAdLKB"
   },
   "source": [
    "`2` lrnr"
   ]
  },
  {
   "cell_type": "code",
   "execution_count": 53,
   "metadata": {
    "executionInfo": {
     "elapsed": 3,
     "status": "ok",
     "timestamp": 1682309435806,
     "user": {
      "displayName": "이강철",
      "userId": "13507850890638580947"
     },
     "user_tz": -540
    },
    "id": "ajZFBbIHdMKc"
   },
   "outputs": [],
   "source": [
    "net = torch.nn.Sequential(\n",
    "    torch.nn.Conv2d(1,16,(5,5)),\n",
    "    torch.nn.ReLU(),\n",
    "    torch.nn.MaxPool2d((2,2)),\n",
    "    torch.nn.Flatten(),\n",
    "    torch.nn.Linear(2304,2)\n",
    "    #torch.nn.Softmax()\n",
    ")\n",
    "loss_fn = torch.nn.CrossEntropyLoss()\n",
    "lrnr = Learner(dls,net,loss_fn) "
   ]
  },
  {
   "cell_type": "markdown",
   "metadata": {
    "id": "O-5gO91sdO5j"
   },
   "source": [
    "`3` 학습"
   ]
  },
  {
   "cell_type": "code",
   "execution_count": 54,
   "metadata": {
    "colab": {
     "base_uri": "https://localhost:8080/",
     "height": 363
    },
    "executionInfo": {
     "elapsed": 1310,
     "status": "ok",
     "timestamp": 1682309451722,
     "user": {
      "displayName": "이강철",
      "userId": "13507850890638580947"
     },
     "user_tz": -540
    },
    "id": "lzaEtvPwdPx0",
    "outputId": "a2f82235-b0ae-4924-a53a-d00d6bdb023f"
   },
   "outputs": [
    {
     "data": {
      "text/html": [
       "\n",
       "<style>\n",
       "    /* Turns off some styling */\n",
       "    progress {\n",
       "        /* gets rid of default border in Firefox and Opera. */\n",
       "        border: none;\n",
       "        /* Needs to be in here for Safari polyfill so background images work as expected. */\n",
       "        background-size: auto;\n",
       "    }\n",
       "    progress:not([value]), progress:not([value])::-webkit-progress-bar {\n",
       "        background: repeating-linear-gradient(45deg, #7e7e7e, #7e7e7e 10px, #5c5c5c 10px, #5c5c5c 20px);\n",
       "    }\n",
       "    .progress-bar-interrupted, .progress-bar-interrupted::-webkit-progress-bar {\n",
       "        background: #F44336;\n",
       "    }\n",
       "</style>\n"
      ],
      "text/plain": [
       "<IPython.core.display.HTML object>"
      ]
     },
     "metadata": {},
     "output_type": "display_data"
    },
    {
     "data": {
      "text/html": [
       "<table border=\"1\" class=\"dataframe\">\n",
       "  <thead>\n",
       "    <tr style=\"text-align: left;\">\n",
       "      <th>epoch</th>\n",
       "      <th>train_loss</th>\n",
       "      <th>valid_loss</th>\n",
       "      <th>time</th>\n",
       "    </tr>\n",
       "  </thead>\n",
       "  <tbody>\n",
       "    <tr>\n",
       "      <td>0</td>\n",
       "      <td>0.856707</td>\n",
       "      <td>0.616278</td>\n",
       "      <td>00:00</td>\n",
       "    </tr>\n",
       "    <tr>\n",
       "      <td>1</td>\n",
       "      <td>0.680172</td>\n",
       "      <td>0.431423</td>\n",
       "      <td>00:00</td>\n",
       "    </tr>\n",
       "    <tr>\n",
       "      <td>2</td>\n",
       "      <td>0.553872</td>\n",
       "      <td>0.280581</td>\n",
       "      <td>00:00</td>\n",
       "    </tr>\n",
       "    <tr>\n",
       "      <td>3</td>\n",
       "      <td>0.452270</td>\n",
       "      <td>0.167101</td>\n",
       "      <td>00:00</td>\n",
       "    </tr>\n",
       "    <tr>\n",
       "      <td>4</td>\n",
       "      <td>0.369324</td>\n",
       "      <td>0.093444</td>\n",
       "      <td>00:00</td>\n",
       "    </tr>\n",
       "    <tr>\n",
       "      <td>5</td>\n",
       "      <td>0.302544</td>\n",
       "      <td>0.052857</td>\n",
       "      <td>00:00</td>\n",
       "    </tr>\n",
       "    <tr>\n",
       "      <td>6</td>\n",
       "      <td>0.249547</td>\n",
       "      <td>0.032362</td>\n",
       "      <td>00:00</td>\n",
       "    </tr>\n",
       "    <tr>\n",
       "      <td>7</td>\n",
       "      <td>0.207629</td>\n",
       "      <td>0.021897</td>\n",
       "      <td>00:00</td>\n",
       "    </tr>\n",
       "    <tr>\n",
       "      <td>8</td>\n",
       "      <td>0.174271</td>\n",
       "      <td>0.016139</td>\n",
       "      <td>00:00</td>\n",
       "    </tr>\n",
       "    <tr>\n",
       "      <td>9</td>\n",
       "      <td>0.147444</td>\n",
       "      <td>0.012657</td>\n",
       "      <td>00:00</td>\n",
       "    </tr>\n",
       "  </tbody>\n",
       "</table>"
      ],
      "text/plain": [
       "<IPython.core.display.HTML object>"
      ]
     },
     "metadata": {},
     "output_type": "display_data"
    }
   ],
   "source": [
    "lrnr.fit(10) "
   ]
  },
  {
   "cell_type": "markdown",
   "metadata": {
    "id": "J2-K15eedQvf"
   },
   "source": [
    "`4` 예측 및 시각화"
   ]
  },
  {
   "cell_type": "code",
   "execution_count": 55,
   "metadata": {
    "colab": {
     "base_uri": "https://localhost:8080/"
    },
    "executionInfo": {
     "elapsed": 4,
     "status": "ok",
     "timestamp": 1682309462349,
     "user": {
      "displayName": "이강철",
      "userId": "13507850890638580947"
     },
     "user_tz": -540
    },
    "id": "TWsWjSFUdSsm",
    "outputId": "9827406a-2b45-4c59-ec41-1ce35236ae61"
   },
   "outputs": [
    {
     "data": {
      "text/plain": [
       "Sequential(\n",
       "  (0): Conv2d(1, 16, kernel_size=(5, 5), stride=(1, 1))\n",
       "  (1): ReLU()\n",
       "  (2): MaxPool2d(kernel_size=(2, 2), stride=(2, 2), padding=0, dilation=1, ceil_mode=False)\n",
       "  (3): Flatten(start_dim=1, end_dim=-1)\n",
       "  (4): Linear(in_features=2304, out_features=2, bias=True)\n",
       ")"
      ]
     },
     "execution_count": 55,
     "metadata": {},
     "output_type": "execute_result"
    }
   ],
   "source": [
    "lrnr.model.to(\"cpu\")"
   ]
  },
  {
   "cell_type": "code",
   "execution_count": 59,
   "metadata": {
    "colab": {
     "base_uri": "https://localhost:8080/",
     "height": 426
    },
    "executionInfo": {
     "elapsed": 1291,
     "status": "ok",
     "timestamp": 1682309555293,
     "user": {
      "displayName": "이강철",
      "userId": "13507850890638580947"
     },
     "user_tz": -540
    },
    "id": "6yb2FdfXdUM3",
    "outputId": "d39592ae-6620-41dc-faea-9d5318dec80a"
   },
   "outputs": [
    {
     "data": {
      "text/plain": [
       "Text(0.5, 0.98, 'Training Set')"
      ]
     },
     "execution_count": 59,
     "metadata": {},
     "output_type": "execute_result"
    },
    {
     "data": {
      "image/png": "[encoded data removed]",
      "text/plain": [
       "<Figure size 800x400 with 2 Axes>"
      ]
     },
     "metadata": {},
     "output_type": "display_data"
    }
   ],
   "source": [
    "sftmax = torch.nn.Softmax(dim=1) \n",
    "sig = torch.nn.Sigmoid()\n",
    "fig,ax = plt.subplots(1,2,figsize=(8,4))\n",
    "ax[0].plot(net(X).diff(axis=1).data,',',color=\"C1\") ## \\mu_2 - \\mu_1\n",
    "ax[1].plot(y,\"--\")\n",
    "ax[1].plot(sftmax(net(X))[:,1].data,',')\n",
    "#ax[1].plot(sig(net(X).diff(axis=1)).data,',')\n",
    "fig.suptitle(\"Training Set\",size=15)"
   ]
  },
  {
   "cell_type": "code",
   "execution_count": 61,
   "metadata": {
    "colab": {
     "base_uri": "https://localhost:8080/",
     "height": 426
    },
    "executionInfo": {
     "elapsed": 750,
     "status": "ok",
     "timestamp": 1682309767826,
     "user": {
      "displayName": "이강철",
      "userId": "13507850890638580947"
     },
     "user_tz": -540
    },
    "id": "Fd2sI9Q3edWe",
    "outputId": "2b519025-9fd7-4727-d6fb-4e34fb00e31a"
   },
   "outputs": [
    {
     "data": {
      "text/plain": [
       "Text(0.5, 0.98, 'Test Set')"
      ]
     },
     "execution_count": 61,
     "metadata": {},
     "output_type": "execute_result"
    },
    {
     "data": {
      "image/png": "[encoded data removed]",
      "text/plain": [
       "<Figure size 800x400 with 2 Axes>"
      ]
     },
     "metadata": {},
     "output_type": "display_data"
    }
   ],
   "source": [
    "fig,ax = plt.subplots(1,2,figsize=(8,4))\n",
    "ax[0].plot(net(XX).diff(axis=1).data,',',color=\"C1\")\n",
    "ax[1].plot(yy)\n",
    "ax[1].plot(sftmax(net(XX))[:,1].data,',')\n",
    "#ax[1].plot(sig(net(XX).diff(axis=1)).data,',')\n",
    "fig.suptitle(\"Test Set\",size=15)"
   ]
  },
  {
   "cell_type": "markdown",
   "metadata": {
    "id": "8rpODmdDe_7V"
   },
   "source": [
    "## 공부: 이진분류에서 소프트맥스 vs 시그모이드"
   ]
  },
  {
   "cell_type": "markdown",
   "metadata": {
    "id": "DvejzTRhg8RA"
   },
   "source": [
    "`-` 이진분류문제 = “y=0 or y=1” 을 맞추는 문제 = 성공과 실패를 맞추는 문제 = 성공확률과 실패확률을 추정하는 문제"
   ]
  },
  {
   "cell_type": "markdown",
   "metadata": {
    "id": "hCnTL9Nvg9gM"
   },
   "source": [
    "* softmax: (실패확률, 성공확률) 꼴로 결과가 나옴 // softmax는 실패확률과 성공확률을 둘다 추정한다."
   ]
  },
  {
   "cell_type": "markdown",
   "metadata": {
    "id": "T-iWSxMbhBjm"
   },
   "source": [
    "* sigmoid: (성공확률) 꼴로 결과가 나옴 // sigmoid는 성공확률만 추정한다."
   ]
  },
  {
   "cell_type": "code",
   "execution_count": 62,
   "metadata": {
    "colab": {
     "base_uri": "https://localhost:8080/",
     "height": 368
    },
    "executionInfo": {
     "elapsed": 640,
     "status": "ok",
     "timestamp": 1682310464507,
     "user": {
      "displayName": "이강철",
      "userId": "13507850890638580947"
     },
     "user_tz": -540
    },
    "id": "7Y_QOrg8hDDM",
    "outputId": "0abfee84-4bd5-4df9-ea0b-91d3ff181947"
   },
   "outputs": [
    {
     "data": {
      "image/svg+xml": [
       "<?xml version=\"1.0\" encoding=\"UTF-8\" standalone=\"no\"?>\n",
       "<!DOCTYPE svg PUBLIC \"-//W3C//DTD SVG 1.1//EN\"\n",
       " \"http://www.w3.org/Graphics/SVG/1.1/DTD/svg11.dtd\">\n",
       "<!-- Generated by graphviz version 2.43.0 (0)\n",
       " -->\n",
       "<!-- Title: G Pages: 1 -->\n",
       "<svg width=\"335pt\" height=\"261pt\"\n",
       " viewBox=\"0.00 0.00 334.99 261.00\" xmlns=\"http://www.w3.org/2000/svg\" xmlns:xlink=\"http://www.w3.org/1999/xlink\">\n",
       "<g id=\"graph0\" class=\"graph\" transform=\"scale(1 1) rotate(0) translate(4 257)\">\n",
       "<title>G</title>\n",
       "<polygon fill=\"white\" stroke=\"transparent\" points=\"-4,4 -4,-257 330.99,-257 330.99,4 -4,4\"/>\n",
       "<g id=\"clust1\" class=\"cluster\">\n",
       "<title>cluster_1</title>\n",
       "<polygon fill=\"lightgrey\" stroke=\"lightgrey\" points=\"8,-8 8,-245 78,-245 78,-8 8,-8\"/>\n",
       "<text text-anchor=\"middle\" x=\"43\" y=\"-229.8\" font-family=\"Times,serif\" font-size=\"14.00\">Layer ?</text>\n",
       "</g>\n",
       "<g id=\"clust2\" class=\"cluster\">\n",
       "<title>cluster_2</title>\n",
       "<polygon fill=\"lightgrey\" stroke=\"lightgrey\" points=\"98,-8 98,-245 204.99,-245 204.99,-8 98,-8\"/>\n",
       "<text text-anchor=\"middle\" x=\"151.5\" y=\"-229.8\" font-family=\"Times,serif\" font-size=\"14.00\">Layer: ReLU</text>\n",
       "</g>\n",
       "<g id=\"clust3\" class=\"cluster\">\n",
       "<title>cluster_3</title>\n",
       "<polygon fill=\"lightgrey\" stroke=\"lightgrey\" points=\"224.99,-62 224.99,-191 326.99,-191 326.99,-62 224.99,-62\"/>\n",
       "<text text-anchor=\"middle\" x=\"275.99\" y=\"-175.8\" font-family=\"Times,serif\" font-size=\"14.00\">Layer: Softmax</text>\n",
       "</g>\n",
       "<!-- ? -->\n",
       "<g id=\"node1\" class=\"node\">\n",
       "<title>?</title>\n",
       "<ellipse fill=\"none\" stroke=\"black\" cx=\"43\" cy=\"-196\" rx=\"27\" ry=\"18\"/>\n",
       "<text text-anchor=\"middle\" x=\"43\" y=\"-192.3\" font-family=\"Times,serif\" font-size=\"14.00\">?</text>\n",
       "</g>\n",
       "<!-- node1 -->\n",
       "<g id=\"node5\" class=\"node\">\n",
       "<title>node1</title>\n",
       "<ellipse fill=\"none\" stroke=\"black\" cx=\"151.5\" cy=\"-196\" rx=\"32.49\" ry=\"18\"/>\n",
       "<text text-anchor=\"middle\" x=\"151.5\" y=\"-192.3\" font-family=\"Times,serif\" font-size=\"14.00\">node1</text>\n",
       "</g>\n",
       "<!-- ?&#45;&gt;node1 -->\n",
       "<g id=\"edge1\" class=\"edge\">\n",
       "<title>?&#45;&gt;node1</title>\n",
       "<path fill=\"none\" stroke=\"black\" d=\"M70.05,-196C81.62,-196 95.52,-196 108.49,-196\"/>\n",
       "<polygon fill=\"black\" stroke=\"black\" points=\"108.63,-199.5 118.63,-196 108.63,-192.5 108.63,-199.5\"/>\n",
       "</g>\n",
       "<!-- node2 -->\n",
       "<g id=\"node6\" class=\"node\">\n",
       "<title>node2</title>\n",
       "<ellipse fill=\"none\" stroke=\"black\" cx=\"151.5\" cy=\"-142\" rx=\"32.49\" ry=\"18\"/>\n",
       "<text text-anchor=\"middle\" x=\"151.5\" y=\"-138.3\" font-family=\"Times,serif\" font-size=\"14.00\">node2</text>\n",
       "</g>\n",
       "<!-- ?&#45;&gt;node2 -->\n",
       "<g id=\"edge5\" class=\"edge\">\n",
       "<title>?&#45;&gt;node2</title>\n",
       "<path fill=\"none\" stroke=\"black\" d=\"M65.04,-185.33C80.08,-177.71 100.6,-167.3 117.77,-158.59\"/>\n",
       "<polygon fill=\"black\" stroke=\"black\" points=\"119.57,-161.61 126.9,-153.96 116.4,-155.36 119.57,-161.61\"/>\n",
       "</g>\n",
       "<!-- ... -->\n",
       "<g id=\"node7\" class=\"node\">\n",
       "<title>...</title>\n",
       "<ellipse fill=\"none\" stroke=\"black\" cx=\"151.5\" cy=\"-88\" rx=\"27\" ry=\"18\"/>\n",
       "<text text-anchor=\"middle\" x=\"151.5\" y=\"-84.3\" font-family=\"Times,serif\" font-size=\"14.00\">...</text>\n",
       "</g>\n",
       "<!-- ?&#45;&gt;... -->\n",
       "<g id=\"edge9\" class=\"edge\">\n",
       "<title>?&#45;&gt;...</title>\n",
       "<path fill=\"none\" stroke=\"black\" d=\"M58.81,-180.98C76.93,-162.61 107.77,-131.33 128.62,-110.18\"/>\n",
       "<polygon fill=\"black\" stroke=\"black\" points=\"131.28,-112.47 135.81,-102.89 126.3,-107.55 131.28,-112.47\"/>\n",
       "</g>\n",
       "<!-- node2304 -->\n",
       "<g id=\"node8\" class=\"node\">\n",
       "<title>node2304</title>\n",
       "<ellipse fill=\"none\" stroke=\"black\" cx=\"151.5\" cy=\"-34\" rx=\"45.49\" ry=\"18\"/>\n",
       "<text text-anchor=\"middle\" x=\"151.5\" y=\"-30.3\" font-family=\"Times,serif\" font-size=\"14.00\">node2304</text>\n",
       "</g>\n",
       "<!-- ?&#45;&gt;node2304 -->\n",
       "<g id=\"edge13\" class=\"edge\">\n",
       "<title>?&#45;&gt;node2304</title>\n",
       "<path fill=\"none\" stroke=\"black\" d=\"M54.8,-179.58C73.34,-151.37 111.37,-93.51 133.5,-59.85\"/>\n",
       "<polygon fill=\"black\" stroke=\"black\" points=\"136.46,-61.72 139.03,-51.45 130.61,-57.88 136.46,-61.72\"/>\n",
       "</g>\n",
       "<!-- ?? -->\n",
       "<g id=\"node2\" class=\"node\">\n",
       "<title>??</title>\n",
       "<ellipse fill=\"none\" stroke=\"black\" cx=\"43\" cy=\"-142\" rx=\"27\" ry=\"18\"/>\n",
       "<text text-anchor=\"middle\" x=\"43\" y=\"-138.3\" font-family=\"Times,serif\" font-size=\"14.00\">??</text>\n",
       "</g>\n",
       "<!-- ??&#45;&gt;node1 -->\n",
       "<g id=\"edge2\" class=\"edge\">\n",
       "<title>??&#45;&gt;node1</title>\n",
       "<path fill=\"none\" stroke=\"black\" d=\"M65.04,-152.67C80.08,-160.29 100.6,-170.7 117.77,-179.41\"/>\n",
       "<polygon fill=\"black\" stroke=\"black\" points=\"116.4,-182.64 126.9,-184.04 119.57,-176.39 116.4,-182.64\"/>\n",
       "</g>\n",
       "<!-- ??&#45;&gt;node2 -->\n",
       "<g id=\"edge6\" class=\"edge\">\n",
       "<title>??&#45;&gt;node2</title>\n",
       "<path fill=\"none\" stroke=\"black\" d=\"M70.05,-142C81.62,-142 95.52,-142 108.49,-142\"/>\n",
       "<polygon fill=\"black\" stroke=\"black\" points=\"108.63,-145.5 118.63,-142 108.63,-138.5 108.63,-145.5\"/>\n",
       "</g>\n",
       "<!-- ??&#45;&gt;... -->\n",
       "<g id=\"edge10\" class=\"edge\">\n",
       "<title>??&#45;&gt;...</title>\n",
       "<path fill=\"none\" stroke=\"black\" d=\"M65.04,-131.33C80.79,-123.34 102.57,-112.3 120.2,-103.36\"/>\n",
       "<polygon fill=\"black\" stroke=\"black\" points=\"122.16,-106.29 129.5,-98.65 119,-100.05 122.16,-106.29\"/>\n",
       "</g>\n",
       "<!-- ??&#45;&gt;node2304 -->\n",
       "<g id=\"edge14\" class=\"edge\">\n",
       "<title>??&#45;&gt;node2304</title>\n",
       "<path fill=\"none\" stroke=\"black\" d=\"M58.81,-126.98C76.42,-109.12 106.05,-79.08 126.84,-57.99\"/>\n",
       "<polygon fill=\"black\" stroke=\"black\" points=\"129.54,-60.24 134.07,-50.66 124.55,-55.32 129.54,-60.24\"/>\n",
       "</g>\n",
       "<!-- .. -->\n",
       "<g id=\"node3\" class=\"node\">\n",
       "<title>..</title>\n",
       "<ellipse fill=\"none\" stroke=\"black\" cx=\"43\" cy=\"-88\" rx=\"27\" ry=\"18\"/>\n",
       "<text text-anchor=\"middle\" x=\"43\" y=\"-84.3\" font-family=\"Times,serif\" font-size=\"14.00\">..</text>\n",
       "</g>\n",
       "<!-- ..&#45;&gt;node1 -->\n",
       "<g id=\"edge3\" class=\"edge\">\n",
       "<title>..&#45;&gt;node1</title>\n",
       "<path fill=\"none\" stroke=\"black\" d=\"M58.81,-103.02C76.73,-121.19 107.08,-151.97 127.92,-173.1\"/>\n",
       "<polygon fill=\"black\" stroke=\"black\" points=\"125.61,-175.75 135.12,-180.41 130.6,-170.83 125.61,-175.75\"/>\n",
       "</g>\n",
       "<!-- ..&#45;&gt;node2 -->\n",
       "<g id=\"edge7\" class=\"edge\">\n",
       "<title>..&#45;&gt;node2</title>\n",
       "<path fill=\"none\" stroke=\"black\" d=\"M65.04,-98.67C80.08,-106.29 100.6,-116.7 117.77,-125.41\"/>\n",
       "<polygon fill=\"black\" stroke=\"black\" points=\"116.4,-128.64 126.9,-130.04 119.57,-122.39 116.4,-128.64\"/>\n",
       "</g>\n",
       "<!-- ..&#45;&gt;... -->\n",
       "<g id=\"edge11\" class=\"edge\">\n",
       "<title>..&#45;&gt;...</title>\n",
       "<path fill=\"none\" stroke=\"black\" d=\"M70.05,-88C83.33,-88 99.7,-88 114.19,-88\"/>\n",
       "<polygon fill=\"black\" stroke=\"black\" points=\"114.34,-91.5 124.34,-88 114.34,-84.5 114.34,-91.5\"/>\n",
       "</g>\n",
       "<!-- ..&#45;&gt;node2304 -->\n",
       "<g id=\"edge15\" class=\"edge\">\n",
       "<title>..&#45;&gt;node2304</title>\n",
       "<path fill=\"none\" stroke=\"black\" d=\"M65.04,-77.33C78.82,-70.34 97.22,-61.02 113.41,-52.81\"/>\n",
       "<polygon fill=\"black\" stroke=\"black\" points=\"115.3,-55.77 122.64,-48.13 112.14,-49.53 115.3,-55.77\"/>\n",
       "</g>\n",
       "<!-- ??? -->\n",
       "<g id=\"node4\" class=\"node\">\n",
       "<title>???</title>\n",
       "<ellipse fill=\"none\" stroke=\"black\" cx=\"43\" cy=\"-34\" rx=\"27\" ry=\"18\"/>\n",
       "<text text-anchor=\"middle\" x=\"43\" y=\"-30.3\" font-family=\"Times,serif\" font-size=\"14.00\">???</text>\n",
       "</g>\n",
       "<!-- ???&#45;&gt;node1 -->\n",
       "<g id=\"edge4\" class=\"edge\">\n",
       "<title>???&#45;&gt;node1</title>\n",
       "<path fill=\"none\" stroke=\"black\" d=\"M54.8,-50.42C73.44,-78.78 111.77,-137.09 133.85,-170.67\"/>\n",
       "<polygon fill=\"black\" stroke=\"black\" points=\"130.93,-172.61 139.35,-179.05 136.78,-168.77 130.93,-172.61\"/>\n",
       "</g>\n",
       "<!-- ???&#45;&gt;node2 -->\n",
       "<g id=\"edge8\" class=\"edge\">\n",
       "<title>???&#45;&gt;node2</title>\n",
       "<path fill=\"none\" stroke=\"black\" d=\"M58.81,-49.02C76.73,-67.19 107.08,-97.97 127.92,-119.1\"/>\n",
       "<polygon fill=\"black\" stroke=\"black\" points=\"125.61,-121.75 135.12,-126.41 130.6,-116.83 125.61,-121.75\"/>\n",
       "</g>\n",
       "<!-- ???&#45;&gt;... -->\n",
       "<g id=\"edge12\" class=\"edge\">\n",
       "<title>???&#45;&gt;...</title>\n",
       "<path fill=\"none\" stroke=\"black\" d=\"M65.04,-44.67C80.79,-52.66 102.57,-63.7 120.2,-72.64\"/>\n",
       "<polygon fill=\"black\" stroke=\"black\" points=\"119,-75.95 129.5,-77.35 122.16,-69.71 119,-75.95\"/>\n",
       "</g>\n",
       "<!-- ???&#45;&gt;node2304 -->\n",
       "<g id=\"edge16\" class=\"edge\">\n",
       "<title>???&#45;&gt;node2304</title>\n",
       "<path fill=\"none\" stroke=\"black\" d=\"M70.05,-34C77.84,-34 86.68,-34 95.59,-34\"/>\n",
       "<polygon fill=\"black\" stroke=\"black\" points=\"95.62,-37.5 105.62,-34 95.62,-30.5 95.62,-37.5\"/>\n",
       "</g>\n",
       "<!-- y1 -->\n",
       "<g id=\"node9\" class=\"node\">\n",
       "<title>y1</title>\n",
       "<ellipse fill=\"none\" stroke=\"black\" cx=\"275.99\" cy=\"-142\" rx=\"27\" ry=\"18\"/>\n",
       "<text text-anchor=\"middle\" x=\"275.99\" y=\"-138.3\" font-family=\"Times,serif\" font-size=\"14.00\">y1</text>\n",
       "</g>\n",
       "<!-- node1&#45;&gt;y1 -->\n",
       "<g id=\"edge17\" class=\"edge\">\n",
       "<title>node1&#45;&gt;y1</title>\n",
       "<path fill=\"none\" stroke=\"black\" d=\"M177.58,-184.94C196.68,-176.52 223.08,-164.89 243.58,-155.85\"/>\n",
       "<polygon fill=\"black\" stroke=\"black\" points=\"245.08,-159.01 252.82,-151.77 242.26,-152.61 245.08,-159.01\"/>\n",
       "</g>\n",
       "<!-- y2 -->\n",
       "<g id=\"node10\" class=\"node\">\n",
       "<title>y2</title>\n",
       "<ellipse fill=\"none\" stroke=\"black\" cx=\"275.99\" cy=\"-88\" rx=\"27\" ry=\"18\"/>\n",
       "<text text-anchor=\"middle\" x=\"275.99\" y=\"-84.3\" font-family=\"Times,serif\" font-size=\"14.00\">y2</text>\n",
       "</g>\n",
       "<!-- node1&#45;&gt;y2 -->\n",
       "<g id=\"edge21\" class=\"edge\">\n",
       "<title>node1&#45;&gt;y2</title>\n",
       "<path fill=\"none\" stroke=\"black\" d=\"M169.53,-180.98C190.79,-162.24 227.28,-130.07 251.27,-108.92\"/>\n",
       "<polygon fill=\"black\" stroke=\"black\" points=\"253.7,-111.44 258.88,-102.2 249.07,-106.19 253.7,-111.44\"/>\n",
       "</g>\n",
       "<!-- node2&#45;&gt;y1 -->\n",
       "<g id=\"edge18\" class=\"edge\">\n",
       "<title>node2&#45;&gt;y1</title>\n",
       "<path fill=\"none\" stroke=\"black\" d=\"M184.04,-142C200.71,-142 221.26,-142 238.6,-142\"/>\n",
       "<polygon fill=\"black\" stroke=\"black\" points=\"238.92,-145.5 248.92,-142 238.92,-138.5 238.92,-145.5\"/>\n",
       "</g>\n",
       "<!-- node2&#45;&gt;y2 -->\n",
       "<g id=\"edge22\" class=\"edge\">\n",
       "<title>node2&#45;&gt;y2</title>\n",
       "<path fill=\"none\" stroke=\"black\" d=\"M177.58,-130.94C196.68,-122.52 223.08,-110.89 243.58,-101.85\"/>\n",
       "<polygon fill=\"black\" stroke=\"black\" points=\"245.08,-105.01 252.82,-97.77 242.26,-98.61 245.08,-105.01\"/>\n",
       "</g>\n",
       "<!-- ...&#45;&gt;y1 -->\n",
       "<g id=\"edge19\" class=\"edge\">\n",
       "<title>...&#45;&gt;y1</title>\n",
       "<path fill=\"none\" stroke=\"black\" d=\"M174.4,-97.65C193.61,-106.13 221.79,-118.55 243.44,-128.09\"/>\n",
       "<polygon fill=\"black\" stroke=\"black\" points=\"242.31,-131.42 252.87,-132.25 245.13,-125.01 242.31,-131.42\"/>\n",
       "</g>\n",
       "<!-- ...&#45;&gt;y2 -->\n",
       "<g id=\"edge23\" class=\"edge\">\n",
       "<title>...&#45;&gt;y2</title>\n",
       "<path fill=\"none\" stroke=\"black\" d=\"M178.77,-88C196.21,-88 219.34,-88 238.55,-88\"/>\n",
       "<polygon fill=\"black\" stroke=\"black\" points=\"238.76,-91.5 248.76,-88 238.76,-84.5 238.76,-91.5\"/>\n",
       "</g>\n",
       "<!-- node2304&#45;&gt;y1 -->\n",
       "<g id=\"edge20\" class=\"edge\">\n",
       "<title>node2304&#45;&gt;y1</title>\n",
       "<path fill=\"none\" stroke=\"black\" d=\"M171.1,-50.4C192.53,-69.3 227.8,-100.39 251.21,-121.03\"/>\n",
       "<polygon fill=\"black\" stroke=\"black\" points=\"249.14,-123.87 258.95,-127.86 253.77,-118.62 249.14,-123.87\"/>\n",
       "</g>\n",
       "<!-- node2304&#45;&gt;y2 -->\n",
       "<g id=\"edge24\" class=\"edge\">\n",
       "<title>node2304&#45;&gt;y2</title>\n",
       "<path fill=\"none\" stroke=\"black\" d=\"M182.46,-47.21C201.04,-55.4 224.86,-65.9 243.69,-74.2\"/>\n",
       "<polygon fill=\"black\" stroke=\"black\" points=\"242.46,-77.48 253.02,-78.31 245.28,-71.08 242.46,-77.48\"/>\n",
       "</g>\n",
       "</g>\n",
       "</svg>\n"
      ],
      "text/plain": [
       "<graphviz.sources.Source at 0x7f3dcebd8b80>"
      ]
     },
     "execution_count": 62,
     "metadata": {},
     "output_type": "execute_result"
    }
   ],
   "source": [
    "#| code-fold : true\n",
    "gv('''\n",
    "splines=line\n",
    "subgraph cluster_1{\n",
    "    style=filled;\n",
    "    color=lightgrey;\n",
    "    \"?\"\n",
    "    \"??\"\n",
    "    \"..\"\n",
    "    \"???\"\n",
    "    label = \"Layer ?\"\n",
    "}\n",
    "subgraph cluster_2{\n",
    "    style=filled;\n",
    "    color=lightgrey;\n",
    "    \"?\" -> \"node1\"\n",
    "    \"??\" -> \"node1\"\n",
    "    \"..\" -> \"node1\"\n",
    "    \"???\" -> \"node1\"\n",
    "    \n",
    "    \"?\" -> \"node2\"\n",
    "    \"??\" -> \"node2\"\n",
    "    \"..\" -> \"node2\"\n",
    "    \"???\" -> \"node2\"\n",
    "    \n",
    "    \"?\" -> \"...\"\n",
    "    \"??\" -> \"...\"\n",
    "    \"..\" -> \"...\"\n",
    "    \"???\" -> \"...\"\n",
    "    \n",
    "    \"?\" -> \"node2304\"\n",
    "    \"??\" -> \"node2304\"\n",
    "    \"..\" -> \"node2304\"\n",
    "    \"???\" -> \"node2304\"\n",
    "\n",
    "    label = \"Layer: ReLU\"\n",
    "}\n",
    "subgraph cluster_3{\n",
    "    style=filled;\n",
    "    color=lightgrey;\n",
    "    \"node1\" -> \"y1\"\n",
    "    \"node2\" -> \"y1\"\n",
    "    \"...\" -> \"y1\"\n",
    "    \"node2304\" -> \"y1\"\n",
    "    \n",
    "    \"node1\" -> \"y2\"\n",
    "    \"node2\" -> \"y2\"\n",
    "    \"...\" -> \"y2\"\n",
    "    \"node2304\" -> \"y2\"    \n",
    "    label = \"Layer: Softmax\"\n",
    "}\n",
    "''')"
   ]
  },
  {
   "cell_type": "code",
   "execution_count": 63,
   "metadata": {
    "colab": {
     "base_uri": "https://localhost:8080/",
     "height": 368
    },
    "executionInfo": {
     "elapsed": 762,
     "status": "ok",
     "timestamp": 1682310487399,
     "user": {
      "displayName": "이강철",
      "userId": "13507850890638580947"
     },
     "user_tz": -540
    },
    "id": "7A1srPhohI79",
    "outputId": "10a06e55-aba4-4ad9-ba93-f3b58afbf604"
   },
   "outputs": [
    {
     "data": {
      "image/svg+xml": [
       "<?xml version=\"1.0\" encoding=\"UTF-8\" standalone=\"no\"?>\n",
       "<!DOCTYPE svg PUBLIC \"-//W3C//DTD SVG 1.1//EN\"\n",
       " \"http://www.w3.org/Graphics/SVG/1.1/DTD/svg11.dtd\">\n",
       "<!-- Generated by graphviz version 2.43.0 (0)\n",
       " -->\n",
       "<!-- Title: G Pages: 1 -->\n",
       "<svg width=\"335pt\" height=\"261pt\"\n",
       " viewBox=\"0.00 0.00 334.99 261.00\" xmlns=\"http://www.w3.org/2000/svg\" xmlns:xlink=\"http://www.w3.org/1999/xlink\">\n",
       "<g id=\"graph0\" class=\"graph\" transform=\"scale(1 1) rotate(0) translate(4 257)\">\n",
       "<title>G</title>\n",
       "<polygon fill=\"white\" stroke=\"transparent\" points=\"-4,4 -4,-257 330.99,-257 330.99,4 -4,4\"/>\n",
       "<g id=\"clust1\" class=\"cluster\">\n",
       "<title>cluster_1</title>\n",
       "<polygon fill=\"lightgrey\" stroke=\"lightgrey\" points=\"8,-8 8,-245 78,-245 78,-8 8,-8\"/>\n",
       "<text text-anchor=\"middle\" x=\"43\" y=\"-229.8\" font-family=\"Times,serif\" font-size=\"14.00\">Layer ?</text>\n",
       "</g>\n",
       "<g id=\"clust2\" class=\"cluster\">\n",
       "<title>cluster_2</title>\n",
       "<polygon fill=\"lightgrey\" stroke=\"lightgrey\" points=\"98,-8 98,-245 204.99,-245 204.99,-8 98,-8\"/>\n",
       "<text text-anchor=\"middle\" x=\"151.5\" y=\"-229.8\" font-family=\"Times,serif\" font-size=\"14.00\">Layer: ReLU</text>\n",
       "</g>\n",
       "<g id=\"clust3\" class=\"cluster\">\n",
       "<title>cluster_3</title>\n",
       "<polygon fill=\"lightgrey\" stroke=\"lightgrey\" points=\"224.99,-89 224.99,-164 326.99,-164 326.99,-89 224.99,-89\"/>\n",
       "<text text-anchor=\"middle\" x=\"275.99\" y=\"-148.8\" font-family=\"Times,serif\" font-size=\"14.00\">Layer: Sigmoid</text>\n",
       "</g>\n",
       "<!-- ? -->\n",
       "<g id=\"node1\" class=\"node\">\n",
       "<title>?</title>\n",
       "<ellipse fill=\"none\" stroke=\"black\" cx=\"43\" cy=\"-196\" rx=\"27\" ry=\"18\"/>\n",
       "<text text-anchor=\"middle\" x=\"43\" y=\"-192.3\" font-family=\"Times,serif\" font-size=\"14.00\">?</text>\n",
       "</g>\n",
       "<!-- node1 -->\n",
       "<g id=\"node5\" class=\"node\">\n",
       "<title>node1</title>\n",
       "<ellipse fill=\"none\" stroke=\"black\" cx=\"151.5\" cy=\"-196\" rx=\"32.49\" ry=\"18\"/>\n",
       "<text text-anchor=\"middle\" x=\"151.5\" y=\"-192.3\" font-family=\"Times,serif\" font-size=\"14.00\">node1</text>\n",
       "</g>\n",
       "<!-- ?&#45;&gt;node1 -->\n",
       "<g id=\"edge1\" class=\"edge\">\n",
       "<title>?&#45;&gt;node1</title>\n",
       "<path fill=\"none\" stroke=\"black\" d=\"M70.05,-196C81.62,-196 95.52,-196 108.49,-196\"/>\n",
       "<polygon fill=\"black\" stroke=\"black\" points=\"108.63,-199.5 118.63,-196 108.63,-192.5 108.63,-199.5\"/>\n",
       "</g>\n",
       "<!-- node2 -->\n",
       "<g id=\"node6\" class=\"node\">\n",
       "<title>node2</title>\n",
       "<ellipse fill=\"none\" stroke=\"black\" cx=\"151.5\" cy=\"-142\" rx=\"32.49\" ry=\"18\"/>\n",
       "<text text-anchor=\"middle\" x=\"151.5\" y=\"-138.3\" font-family=\"Times,serif\" font-size=\"14.00\">node2</text>\n",
       "</g>\n",
       "<!-- ?&#45;&gt;node2 -->\n",
       "<g id=\"edge5\" class=\"edge\">\n",
       "<title>?&#45;&gt;node2</title>\n",
       "<path fill=\"none\" stroke=\"black\" d=\"M65.04,-185.33C80.08,-177.71 100.6,-167.3 117.77,-158.59\"/>\n",
       "<polygon fill=\"black\" stroke=\"black\" points=\"119.57,-161.61 126.9,-153.96 116.4,-155.36 119.57,-161.61\"/>\n",
       "</g>\n",
       "<!-- ... -->\n",
       "<g id=\"node7\" class=\"node\">\n",
       "<title>...</title>\n",
       "<ellipse fill=\"none\" stroke=\"black\" cx=\"151.5\" cy=\"-88\" rx=\"27\" ry=\"18\"/>\n",
       "<text text-anchor=\"middle\" x=\"151.5\" y=\"-84.3\" font-family=\"Times,serif\" font-size=\"14.00\">...</text>\n",
       "</g>\n",
       "<!-- ?&#45;&gt;... -->\n",
       "<g id=\"edge9\" class=\"edge\">\n",
       "<title>?&#45;&gt;...</title>\n",
       "<path fill=\"none\" stroke=\"black\" d=\"M58.81,-180.98C76.93,-162.61 107.77,-131.33 128.62,-110.18\"/>\n",
       "<polygon fill=\"black\" stroke=\"black\" points=\"131.28,-112.47 135.81,-102.89 126.3,-107.55 131.28,-112.47\"/>\n",
       "</g>\n",
       "<!-- node2304 -->\n",
       "<g id=\"node8\" class=\"node\">\n",
       "<title>node2304</title>\n",
       "<ellipse fill=\"none\" stroke=\"black\" cx=\"151.5\" cy=\"-34\" rx=\"45.49\" ry=\"18\"/>\n",
       "<text text-anchor=\"middle\" x=\"151.5\" y=\"-30.3\" font-family=\"Times,serif\" font-size=\"14.00\">node2304</text>\n",
       "</g>\n",
       "<!-- ?&#45;&gt;node2304 -->\n",
       "<g id=\"edge13\" class=\"edge\">\n",
       "<title>?&#45;&gt;node2304</title>\n",
       "<path fill=\"none\" stroke=\"black\" d=\"M54.8,-179.58C73.34,-151.37 111.37,-93.51 133.5,-59.85\"/>\n",
       "<polygon fill=\"black\" stroke=\"black\" points=\"136.46,-61.72 139.03,-51.45 130.61,-57.88 136.46,-61.72\"/>\n",
       "</g>\n",
       "<!-- ?? -->\n",
       "<g id=\"node2\" class=\"node\">\n",
       "<title>??</title>\n",
       "<ellipse fill=\"none\" stroke=\"black\" cx=\"43\" cy=\"-142\" rx=\"27\" ry=\"18\"/>\n",
       "<text text-anchor=\"middle\" x=\"43\" y=\"-138.3\" font-family=\"Times,serif\" font-size=\"14.00\">??</text>\n",
       "</g>\n",
       "<!-- ??&#45;&gt;node1 -->\n",
       "<g id=\"edge2\" class=\"edge\">\n",
       "<title>??&#45;&gt;node1</title>\n",
       "<path fill=\"none\" stroke=\"black\" d=\"M65.04,-152.67C80.08,-160.29 100.6,-170.7 117.77,-179.41\"/>\n",
       "<polygon fill=\"black\" stroke=\"black\" points=\"116.4,-182.64 126.9,-184.04 119.57,-176.39 116.4,-182.64\"/>\n",
       "</g>\n",
       "<!-- ??&#45;&gt;node2 -->\n",
       "<g id=\"edge6\" class=\"edge\">\n",
       "<title>??&#45;&gt;node2</title>\n",
       "<path fill=\"none\" stroke=\"black\" d=\"M70.05,-142C81.62,-142 95.52,-142 108.49,-142\"/>\n",
       "<polygon fill=\"black\" stroke=\"black\" points=\"108.63,-145.5 118.63,-142 108.63,-138.5 108.63,-145.5\"/>\n",
       "</g>\n",
       "<!-- ??&#45;&gt;... -->\n",
       "<g id=\"edge10\" class=\"edge\">\n",
       "<title>??&#45;&gt;...</title>\n",
       "<path fill=\"none\" stroke=\"black\" d=\"M65.04,-131.33C80.79,-123.34 102.57,-112.3 120.2,-103.36\"/>\n",
       "<polygon fill=\"black\" stroke=\"black\" points=\"122.16,-106.29 129.5,-98.65 119,-100.05 122.16,-106.29\"/>\n",
       "</g>\n",
       "<!-- ??&#45;&gt;node2304 -->\n",
       "<g id=\"edge14\" class=\"edge\">\n",
       "<title>??&#45;&gt;node2304</title>\n",
       "<path fill=\"none\" stroke=\"black\" d=\"M58.81,-126.98C76.42,-109.12 106.05,-79.08 126.84,-57.99\"/>\n",
       "<polygon fill=\"black\" stroke=\"black\" points=\"129.54,-60.24 134.07,-50.66 124.55,-55.32 129.54,-60.24\"/>\n",
       "</g>\n",
       "<!-- .. -->\n",
       "<g id=\"node3\" class=\"node\">\n",
       "<title>..</title>\n",
       "<ellipse fill=\"none\" stroke=\"black\" cx=\"43\" cy=\"-88\" rx=\"27\" ry=\"18\"/>\n",
       "<text text-anchor=\"middle\" x=\"43\" y=\"-84.3\" font-family=\"Times,serif\" font-size=\"14.00\">..</text>\n",
       "</g>\n",
       "<!-- ..&#45;&gt;node1 -->\n",
       "<g id=\"edge3\" class=\"edge\">\n",
       "<title>..&#45;&gt;node1</title>\n",
       "<path fill=\"none\" stroke=\"black\" d=\"M58.81,-103.02C76.73,-121.19 107.08,-151.97 127.92,-173.1\"/>\n",
       "<polygon fill=\"black\" stroke=\"black\" points=\"125.61,-175.75 135.12,-180.41 130.6,-170.83 125.61,-175.75\"/>\n",
       "</g>\n",
       "<!-- ..&#45;&gt;node2 -->\n",
       "<g id=\"edge7\" class=\"edge\">\n",
       "<title>..&#45;&gt;node2</title>\n",
       "<path fill=\"none\" stroke=\"black\" d=\"M65.04,-98.67C80.08,-106.29 100.6,-116.7 117.77,-125.41\"/>\n",
       "<polygon fill=\"black\" stroke=\"black\" points=\"116.4,-128.64 126.9,-130.04 119.57,-122.39 116.4,-128.64\"/>\n",
       "</g>\n",
       "<!-- ..&#45;&gt;... -->\n",
       "<g id=\"edge11\" class=\"edge\">\n",
       "<title>..&#45;&gt;...</title>\n",
       "<path fill=\"none\" stroke=\"black\" d=\"M70.05,-88C83.33,-88 99.7,-88 114.19,-88\"/>\n",
       "<polygon fill=\"black\" stroke=\"black\" points=\"114.34,-91.5 124.34,-88 114.34,-84.5 114.34,-91.5\"/>\n",
       "</g>\n",
       "<!-- ..&#45;&gt;node2304 -->\n",
       "<g id=\"edge15\" class=\"edge\">\n",
       "<title>..&#45;&gt;node2304</title>\n",
       "<path fill=\"none\" stroke=\"black\" d=\"M65.04,-77.33C78.82,-70.34 97.22,-61.02 113.41,-52.81\"/>\n",
       "<polygon fill=\"black\" stroke=\"black\" points=\"115.3,-55.77 122.64,-48.13 112.14,-49.53 115.3,-55.77\"/>\n",
       "</g>\n",
       "<!-- ??? -->\n",
       "<g id=\"node4\" class=\"node\">\n",
       "<title>???</title>\n",
       "<ellipse fill=\"none\" stroke=\"black\" cx=\"43\" cy=\"-34\" rx=\"27\" ry=\"18\"/>\n",
       "<text text-anchor=\"middle\" x=\"43\" y=\"-30.3\" font-family=\"Times,serif\" font-size=\"14.00\">???</text>\n",
       "</g>\n",
       "<!-- ???&#45;&gt;node1 -->\n",
       "<g id=\"edge4\" class=\"edge\">\n",
       "<title>???&#45;&gt;node1</title>\n",
       "<path fill=\"none\" stroke=\"black\" d=\"M54.8,-50.42C73.44,-78.78 111.77,-137.09 133.85,-170.67\"/>\n",
       "<polygon fill=\"black\" stroke=\"black\" points=\"130.93,-172.61 139.35,-179.05 136.78,-168.77 130.93,-172.61\"/>\n",
       "</g>\n",
       "<!-- ???&#45;&gt;node2 -->\n",
       "<g id=\"edge8\" class=\"edge\">\n",
       "<title>???&#45;&gt;node2</title>\n",
       "<path fill=\"none\" stroke=\"black\" d=\"M58.81,-49.02C76.73,-67.19 107.08,-97.97 127.92,-119.1\"/>\n",
       "<polygon fill=\"black\" stroke=\"black\" points=\"125.61,-121.75 135.12,-126.41 130.6,-116.83 125.61,-121.75\"/>\n",
       "</g>\n",
       "<!-- ???&#45;&gt;... -->\n",
       "<g id=\"edge12\" class=\"edge\">\n",
       "<title>???&#45;&gt;...</title>\n",
       "<path fill=\"none\" stroke=\"black\" d=\"M65.04,-44.67C80.79,-52.66 102.57,-63.7 120.2,-72.64\"/>\n",
       "<polygon fill=\"black\" stroke=\"black\" points=\"119,-75.95 129.5,-77.35 122.16,-69.71 119,-75.95\"/>\n",
       "</g>\n",
       "<!-- ???&#45;&gt;node2304 -->\n",
       "<g id=\"edge16\" class=\"edge\">\n",
       "<title>???&#45;&gt;node2304</title>\n",
       "<path fill=\"none\" stroke=\"black\" d=\"M70.05,-34C77.84,-34 86.68,-34 95.59,-34\"/>\n",
       "<polygon fill=\"black\" stroke=\"black\" points=\"95.62,-37.5 105.62,-34 95.62,-30.5 95.62,-37.5\"/>\n",
       "</g>\n",
       "<!-- y -->\n",
       "<g id=\"node9\" class=\"node\">\n",
       "<title>y</title>\n",
       "<ellipse fill=\"none\" stroke=\"black\" cx=\"275.99\" cy=\"-115\" rx=\"27\" ry=\"18\"/>\n",
       "<text text-anchor=\"middle\" x=\"275.99\" y=\"-111.3\" font-family=\"Times,serif\" font-size=\"14.00\">y</text>\n",
       "</g>\n",
       "<!-- node1&#45;&gt;y -->\n",
       "<g id=\"edge17\" class=\"edge\">\n",
       "<title>node1&#45;&gt;y</title>\n",
       "<path fill=\"none\" stroke=\"black\" d=\"M173,-182.44C193.44,-168.92 224.97,-148.08 247.56,-133.14\"/>\n",
       "<polygon fill=\"black\" stroke=\"black\" points=\"249.62,-135.97 256.03,-127.54 245.76,-130.13 249.62,-135.97\"/>\n",
       "</g>\n",
       "<!-- node2&#45;&gt;y -->\n",
       "<g id=\"edge18\" class=\"edge\">\n",
       "<title>node2&#45;&gt;y</title>\n",
       "<path fill=\"none\" stroke=\"black\" d=\"M181.84,-135.53C199.39,-131.66 221.81,-126.72 240.25,-122.66\"/>\n",
       "<polygon fill=\"black\" stroke=\"black\" points=\"241.01,-126.07 250.03,-120.5 239.51,-119.24 241.01,-126.07\"/>\n",
       "</g>\n",
       "<!-- ...&#45;&gt;y -->\n",
       "<g id=\"edge19\" class=\"edge\">\n",
       "<title>...&#45;&gt;y</title>\n",
       "<path fill=\"none\" stroke=\"black\" d=\"M177.28,-93.46C195.38,-97.45 220.16,-102.91 240.23,-107.34\"/>\n",
       "<polygon fill=\"black\" stroke=\"black\" points=\"239.72,-110.81 250.24,-109.54 241.23,-103.97 239.72,-110.81\"/>\n",
       "</g>\n",
       "<!-- node2304&#45;&gt;y -->\n",
       "<g id=\"edge20\" class=\"edge\">\n",
       "<title>node2304&#45;&gt;y</title>\n",
       "<path fill=\"none\" stroke=\"black\" d=\"M175.82,-49.43C196.32,-62.98 226.17,-82.71 247.76,-96.99\"/>\n",
       "<polygon fill=\"black\" stroke=\"black\" points=\"245.89,-99.95 256.16,-102.55 249.75,-94.11 245.89,-99.95\"/>\n",
       "</g>\n",
       "</g>\n",
       "</svg>\n"
      ],
      "text/plain": [
       "<graphviz.sources.Source at 0x7f3dcece6040>"
      ]
     },
     "execution_count": 63,
     "metadata": {},
     "output_type": "execute_result"
    }
   ],
   "source": [
    "#| code-fold : true\n",
    "gv('''\n",
    "splines=line\n",
    "subgraph cluster_1{\n",
    "    style=filled;\n",
    "    color=lightgrey;\n",
    "    \"?\"\n",
    "    \"??\"\n",
    "    \"..\"\n",
    "    \"???\"\n",
    "    label = \"Layer ?\"\n",
    "}\n",
    "subgraph cluster_2{\n",
    "    style=filled;\n",
    "    color=lightgrey;\n",
    "    \"?\" -> \"node1\"\n",
    "    \"??\" -> \"node1\"\n",
    "    \"..\" -> \"node1\"\n",
    "    \"???\" -> \"node1\"\n",
    "    \n",
    "    \"?\" -> \"node2\"\n",
    "    \"??\" -> \"node2\"\n",
    "    \"..\" -> \"node2\"\n",
    "    \"???\" -> \"node2\"\n",
    "    \n",
    "    \"?\" -> \"...\"\n",
    "    \"??\" -> \"...\"\n",
    "    \"..\" -> \"...\"\n",
    "    \"???\" -> \"...\"\n",
    "    \n",
    "    \"?\" -> \"node2304\"\n",
    "    \"??\" -> \"node2304\"\n",
    "    \"..\" -> \"node2304\"\n",
    "    \"???\" -> \"node2304\"\n",
    "\n",
    "    label = \"Layer: ReLU\"\n",
    "}\n",
    "subgraph cluster_3{\n",
    "    style=filled;\n",
    "    color=lightgrey;\n",
    "    \"node1\" -> \"y\"\n",
    "    \"node2\" -> \"y\"\n",
    "    \"...\" -> \"y\"\n",
    "    \"node2304\" -> \"y\"\n",
    "    label = \"Layer: Sigmoid\"\n",
    "}\n",
    "''')"
   ]
  },
  {
   "cell_type": "markdown",
   "metadata": {
    "id": "IfzyTpEChQCq"
   },
   "source": [
    "`-`둘은 사실상 같은 효과를 주는 모형인데 학습할 파라메터는 sigmoid의 경우가 더 적다. \n",
    " \n",
    "* sigmoid를 사용하는 모형이 비용은 싸고 효과는 동일하다는 말 \n",
    " 이진분류 한정해서는 softmax를 쓰지말고 sigmoid를 써야함."
   ]
  },
  {
   "cell_type": "markdown",
   "metadata": {
    "id": "_aEJ1FnQhZKZ"
   },
   "source": [
    "`-` 결론"
   ]
  },
  {
   "cell_type": "markdown",
   "metadata": {
    "id": "xrTh9TJ5ha8q"
   },
   "source": [
    "1. 소프트맥스는 시그모이드의 확장이다.\n",
    "\n",
    "2. 클래스의 수가 2개일 경우에는 (Sigmoid, BCEloss) 조합을 사용해야 하고 클래스의 수가 2개보다 클 경우에는 (Softmax, CrossEntropyLoss) 를 사용해야 한다.\n"
   ]
  },
  {
   "cell_type": "markdown",
   "metadata": {
    "id": "VgSlQ6ughlNc"
   },
   "source": [
    "# fastai metric 사용 "
   ]
  },
  {
   "cell_type": "markdown",
   "metadata": {
    "id": "KCPLL0jFhoPO"
   },
   "source": [
    "## 데이터 준비"
   ]
  },
  {
   "cell_type": "markdown",
   "metadata": {
    "id": "WVaFmQvbhr0G"
   },
   "source": [
    "`-` download data"
   ]
  },
  {
   "cell_type": "code",
   "execution_count": 64,
   "metadata": {
    "executionInfo": {
     "elapsed": 2,
     "status": "ok",
     "timestamp": 1682310622058,
     "user": {
      "displayName": "이강철",
      "userId": "13507850890638580947"
     },
     "user_tz": -540
    },
    "id": "ORJUVXmyhtfS"
   },
   "outputs": [],
   "source": [
    "path = untar_data(URLs.MNIST)"
   ]
  },
  {
   "cell_type": "markdown",
   "metadata": {
    "id": "widYGqVphxck"
   },
   "source": [
    "`-` training set"
   ]
  },
  {
   "cell_type": "code",
   "execution_count": 65,
   "metadata": {
    "executionInfo": {
     "elapsed": 3,
     "status": "ok",
     "timestamp": 1682310626188,
     "user": {
      "displayName": "이강철",
      "userId": "13507850890638580947"
     },
     "user_tz": -540
    },
    "id": "yR5GmjUlhuPf"
   },
   "outputs": [],
   "source": [
    "X0 = torch.stack([torchvision.io.read_image(str(fname)) for fname in (path/'training/0').ls()])\n",
    "X1 = torch.stack([torchvision.io.read_image(str(fname)) for fname in (path/'training/1').ls()])\n",
    "X = torch.concat([X0,X1])/255\n",
    "y = torch.tensor([0.0]*len(X0) + [1.0]*len(X1)).reshape(-1,1)"
   ]
  },
  {
   "cell_type": "markdown",
   "metadata": {
    "id": "tWMrvJl-hvf-"
   },
   "source": [
    "`-` test set"
   ]
  },
  {
   "cell_type": "code",
   "execution_count": 66,
   "metadata": {
    "executionInfo": {
     "elapsed": 2,
     "status": "ok",
     "timestamp": 1682310649470,
     "user": {
      "displayName": "이강철",
      "userId": "13507850890638580947"
     },
     "user_tz": -540
    },
    "id": "CUL43YO5h0Xq"
   },
   "outputs": [],
   "source": [
    "X0 = torch.stack([torchvision.io.read_image(str(fname)) for fname in (path/'testing/0').ls()])\n",
    "X1 = torch.stack([torchvision.io.read_image(str(fname)) for fname in (path/'testing/1').ls()])\n",
    "XX = torch.concat([X0,X1])/255\n",
    "yy = torch.tensor([0.0]*len(X0) + [1.0]*len(X1)).reshape(-1,1)"
   ]
  },
  {
   "cell_type": "code",
   "execution_count": 67,
   "metadata": {
    "colab": {
     "base_uri": "https://localhost:8080/"
    },
    "executionInfo": {
     "elapsed": 5,
     "status": "ok",
     "timestamp": 1682310663950,
     "user": {
      "displayName": "이강철",
      "userId": "13507850890638580947"
     },
     "user_tz": -540
    },
    "id": "NXjOHSkah1kp",
    "outputId": "55a4311c-03a4-4935-f7e3-3d1b16b2e498"
   },
   "outputs": [
    {
     "data": {
      "text/plain": [
       "(torch.Size([12665, 1, 28, 28]),\n",
       " torch.Size([2115, 1, 28, 28]),\n",
       " torch.Size([12665, 1]),\n",
       " torch.Size([2115, 1]))"
      ]
     },
     "execution_count": 67,
     "metadata": {},
     "output_type": "execute_result"
    }
   ],
   "source": [
    "X.shape,XX.shape,y.shape,yy.shape"
   ]
  },
  {
   "cell_type": "markdown",
   "metadata": {
    "id": "HNy0JxoWh5_a"
   },
   "source": [
    "## 사용자정의 메트릭 이용"
   ]
  },
  {
   "cell_type": "markdown",
   "metadata": {
    "id": "4ne0llqoh9Na"
   },
   "source": [
    "`1` dls 만들기"
   ]
  },
  {
   "cell_type": "code",
   "execution_count": 68,
   "metadata": {
    "executionInfo": {
     "elapsed": 453,
     "status": "ok",
     "timestamp": 1682310706716,
     "user": {
      "displayName": "이강철",
      "userId": "13507850890638580947"
     },
     "user_tz": -540
    },
    "id": "XNPHsxRrh_bW"
   },
   "outputs": [],
   "source": [
    "ds1 = torch.utils.data.TensorDataset(X,y)\n",
    "ds2 = torch.utils.data.TensorDataset(XX,yy)\n",
    "dl1 = torch.utils.data.DataLoader(ds1,batch_size=1266) \n",
    "dl2 = torch.utils.data.DataLoader(ds2,batch_size=2115) \n",
    "dls = DataLoaders(dl1,dl2) "
   ]
  },
  {
   "cell_type": "markdown",
   "metadata": {
    "id": "rDqEdIy2iEj9"
   },
   "source": [
    "`2` lrnr 생성"
   ]
  },
  {
   "cell_type": "code",
   "execution_count": 69,
   "metadata": {
    "executionInfo": {
     "elapsed": 2,
     "status": "ok",
     "timestamp": 1682310724741,
     "user": {
      "displayName": "이강철",
      "userId": "13507850890638580947"
     },
     "user_tz": -540
    },
    "id": "jbz3yxH3iG0W"
   },
   "outputs": [],
   "source": [
    "net = torch.nn.Sequential(\n",
    "    torch.nn.Conv2d(1,16,(5,5)),\n",
    "    torch.nn.ReLU(),\n",
    "    torch.nn.MaxPool2d((2,2)),\n",
    "    torch.nn.Flatten(),\n",
    "    torch.nn.Linear(2304,1),\n",
    "    torch.nn.Sigmoid()\n",
    ")\n",
    "loss_fn = torch.nn.BCELoss() "
   ]
  },
  {
   "cell_type": "code",
   "execution_count": 70,
   "metadata": {
    "executionInfo": {
     "elapsed": 3,
     "status": "ok",
     "timestamp": 1682310731354,
     "user": {
      "displayName": "이강철",
      "userId": "13507850890638580947"
     },
     "user_tz": -540
    },
    "id": "ZsdlM0A1iIER"
   },
   "outputs": [],
   "source": [
    "def acc(yhat,y) : \n",
    "    return ((yhat>0.5)==y).float().mean()"
   ]
  },
  {
   "cell_type": "code",
   "execution_count": 71,
   "metadata": {
    "executionInfo": {
     "elapsed": 2,
     "status": "ok",
     "timestamp": 1682310733754,
     "user": {
      "displayName": "이강철",
      "userId": "13507850890638580947"
     },
     "user_tz": -540
    },
    "id": "dnZprbF3iJhQ"
   },
   "outputs": [],
   "source": [
    "def err(yhat,y):\n",
    "    return 1-((yhat>0.5)==y).float().mean()"
   ]
  },
  {
   "cell_type": "code",
   "execution_count": 72,
   "metadata": {
    "executionInfo": {
     "elapsed": 5,
     "status": "ok",
     "timestamp": 1682310737116,
     "user": {
      "displayName": "이강철",
      "userId": "13507850890638580947"
     },
     "user_tz": -540
    },
    "id": "IaI4a2IuiKSx"
   },
   "outputs": [],
   "source": [
    "lrnr = Learner(dls,net,loss_fn,metrics=[acc,err])"
   ]
  },
  {
   "cell_type": "markdown",
   "metadata": {
    "id": "dwjbfUz0iLGg"
   },
   "source": [
    "`3` 학습"
   ]
  },
  {
   "cell_type": "code",
   "execution_count": 73,
   "metadata": {
    "colab": {
     "base_uri": "https://localhost:8080/",
     "height": 363
    },
    "executionInfo": {
     "elapsed": 2112,
     "status": "ok",
     "timestamp": 1682310747801,
     "user": {
      "displayName": "이강철",
      "userId": "13507850890638580947"
     },
     "user_tz": -540
    },
    "id": "dWD9kTIoiMNG",
    "outputId": "9307506f-c5ed-45c1-87a4-6890562bfaae"
   },
   "outputs": [
    {
     "data": {
      "text/html": [
       "\n",
       "<style>\n",
       "    /* Turns off some styling */\n",
       "    progress {\n",
       "        /* gets rid of default border in Firefox and Opera. */\n",
       "        border: none;\n",
       "        /* Needs to be in here for Safari polyfill so background images work as expected. */\n",
       "        background-size: auto;\n",
       "    }\n",
       "    progress:not([value]), progress:not([value])::-webkit-progress-bar {\n",
       "        background: repeating-linear-gradient(45deg, #7e7e7e, #7e7e7e 10px, #5c5c5c 10px, #5c5c5c 20px);\n",
       "    }\n",
       "    .progress-bar-interrupted, .progress-bar-interrupted::-webkit-progress-bar {\n",
       "        background: #F44336;\n",
       "    }\n",
       "</style>\n"
      ],
      "text/plain": [
       "<IPython.core.display.HTML object>"
      ]
     },
     "metadata": {},
     "output_type": "display_data"
    },
    {
     "data": {
      "text/html": [
       "<table border=\"1\" class=\"dataframe\">\n",
       "  <thead>\n",
       "    <tr style=\"text-align: left;\">\n",
       "      <th>epoch</th>\n",
       "      <th>train_loss</th>\n",
       "      <th>valid_loss</th>\n",
       "      <th>acc</th>\n",
       "      <th>err</th>\n",
       "      <th>time</th>\n",
       "    </tr>\n",
       "  </thead>\n",
       "  <tbody>\n",
       "    <tr>\n",
       "      <td>0</td>\n",
       "      <td>0.981153</td>\n",
       "      <td>0.635162</td>\n",
       "      <td>0.463357</td>\n",
       "      <td>0.536643</td>\n",
       "      <td>00:00</td>\n",
       "    </tr>\n",
       "    <tr>\n",
       "      <td>1</td>\n",
       "      <td>0.695933</td>\n",
       "      <td>0.389219</td>\n",
       "      <td>0.987234</td>\n",
       "      <td>0.012766</td>\n",
       "      <td>00:00</td>\n",
       "    </tr>\n",
       "    <tr>\n",
       "      <td>2</td>\n",
       "      <td>0.537728</td>\n",
       "      <td>0.246010</td>\n",
       "      <td>0.987707</td>\n",
       "      <td>0.012293</td>\n",
       "      <td>00:00</td>\n",
       "    </tr>\n",
       "    <tr>\n",
       "      <td>3</td>\n",
       "      <td>0.424565</td>\n",
       "      <td>0.138897</td>\n",
       "      <td>0.992908</td>\n",
       "      <td>0.007092</td>\n",
       "      <td>00:00</td>\n",
       "    </tr>\n",
       "    <tr>\n",
       "      <td>4</td>\n",
       "      <td>0.333698</td>\n",
       "      <td>0.082636</td>\n",
       "      <td>0.993853</td>\n",
       "      <td>0.006147</td>\n",
       "      <td>00:00</td>\n",
       "    </tr>\n",
       "    <tr>\n",
       "      <td>5</td>\n",
       "      <td>0.263328</td>\n",
       "      <td>0.053516</td>\n",
       "      <td>0.994326</td>\n",
       "      <td>0.005674</td>\n",
       "      <td>00:00</td>\n",
       "    </tr>\n",
       "    <tr>\n",
       "      <td>6</td>\n",
       "      <td>0.209578</td>\n",
       "      <td>0.037179</td>\n",
       "      <td>0.995745</td>\n",
       "      <td>0.004255</td>\n",
       "      <td>00:00</td>\n",
       "    </tr>\n",
       "    <tr>\n",
       "      <td>7</td>\n",
       "      <td>0.168352</td>\n",
       "      <td>0.027381</td>\n",
       "      <td>0.996690</td>\n",
       "      <td>0.003310</td>\n",
       "      <td>00:00</td>\n",
       "    </tr>\n",
       "    <tr>\n",
       "      <td>8</td>\n",
       "      <td>0.136389</td>\n",
       "      <td>0.021127</td>\n",
       "      <td>0.997163</td>\n",
       "      <td>0.002837</td>\n",
       "      <td>00:00</td>\n",
       "    </tr>\n",
       "    <tr>\n",
       "      <td>9</td>\n",
       "      <td>0.111303</td>\n",
       "      <td>0.016876</td>\n",
       "      <td>0.997163</td>\n",
       "      <td>0.002837</td>\n",
       "      <td>00:00</td>\n",
       "    </tr>\n",
       "  </tbody>\n",
       "</table>"
      ],
      "text/plain": [
       "<IPython.core.display.HTML object>"
      ]
     },
     "metadata": {},
     "output_type": "display_data"
    }
   ],
   "source": [
    "lrnr.fit(10)"
   ]
  },
  {
   "cell_type": "markdown",
   "metadata": {
    "id": "cpssHHviiOGF"
   },
   "source": [
    "* 예측은 생략"
   ]
  },
  {
   "cell_type": "markdown",
   "metadata": {
    "id": "1RwTWHICiQmm"
   },
   "source": [
    "## fastai지원 메트릭이용– 잘못된사용"
   ]
  },
  {
   "cell_type": "markdown",
   "metadata": {
    "id": "BKhtFAtZiT-R"
   },
   "source": [
    "`1` dls 생성"
   ]
  },
  {
   "cell_type": "code",
   "execution_count": 74,
   "metadata": {
    "executionInfo": {
     "elapsed": 2,
     "status": "ok",
     "timestamp": 1682310783746,
     "user": {
      "displayName": "이강철",
      "userId": "13507850890638580947"
     },
     "user_tz": -540
    },
    "id": "eubs2-4DiVsf"
   },
   "outputs": [],
   "source": [
    "ds1 = torch.utils.data.TensorDataset(X,y)\n",
    "ds2 = torch.utils.data.TensorDataset(XX,yy)\n",
    "dl1 = torch.utils.data.DataLoader(ds1,batch_size=1266) \n",
    "dl2 = torch.utils.data.DataLoader(ds2,batch_size=2115) \n",
    "dls = DataLoaders(dl1,dl2) "
   ]
  },
  {
   "cell_type": "markdown",
   "metadata": {
    "id": "OhovnW3iiWdD"
   },
   "source": [
    "`2` lrnr 생성"
   ]
  },
  {
   "cell_type": "code",
   "execution_count": 75,
   "metadata": {
    "executionInfo": {
     "elapsed": 2,
     "status": "ok",
     "timestamp": 1682310791410,
     "user": {
      "displayName": "이강철",
      "userId": "13507850890638580947"
     },
     "user_tz": -540
    },
    "id": "VSoW3kKJiXel"
   },
   "outputs": [],
   "source": [
    "net = torch.nn.Sequential(\n",
    "    torch.nn.Conv2d(1,16,(5,5)),\n",
    "    torch.nn.ReLU(),\n",
    "    torch.nn.MaxPool2d((2,2)),\n",
    "    torch.nn.Flatten(),\n",
    "    torch.nn.Linear(2304,1),\n",
    "    torch.nn.Sigmoid()\n",
    ")\n",
    "loss_fn = torch.nn.BCELoss()\n",
    "lrnr = Learner(dls,net,loss_fn,metrics=[accuracy,error_rate])"
   ]
  },
  {
   "cell_type": "code",
   "execution_count": 76,
   "metadata": {
    "executionInfo": {
     "elapsed": 6,
     "status": "ok",
     "timestamp": 1682310795727,
     "user": {
      "displayName": "이강철",
      "userId": "13507850890638580947"
     },
     "user_tz": -540
    },
    "id": "dUX02btMiYgj"
   },
   "outputs": [],
   "source": [
    "accuracy??"
   ]
  },
  {
   "cell_type": "code",
   "execution_count": 77,
   "metadata": {
    "executionInfo": {
     "elapsed": 1,
     "status": "ok",
     "timestamp": 1682310803754,
     "user": {
      "displayName": "이강철",
      "userId": "13507850890638580947"
     },
     "user_tz": -540
    },
    "id": "0H1AKW-PiaMm"
   },
   "outputs": [],
   "source": [
    "error_rate??"
   ]
  },
  {
   "cell_type": "markdown",
   "metadata": {
    "id": "ZRgj_TsSicfG"
   },
   "source": [
    "`3` 학습"
   ]
  },
  {
   "cell_type": "code",
   "execution_count": 78,
   "metadata": {
    "colab": {
     "base_uri": "https://localhost:8080/",
     "height": 363
    },
    "executionInfo": {
     "elapsed": 2076,
     "status": "ok",
     "timestamp": 1682310818680,
     "user": {
      "displayName": "이강철",
      "userId": "13507850890638580947"
     },
     "user_tz": -540
    },
    "id": "NKcATzqIidgM",
    "outputId": "e727371b-1d31-40c1-b3fc-446e100c34a8"
   },
   "outputs": [
    {
     "data": {
      "text/html": [
       "\n",
       "<style>\n",
       "    /* Turns off some styling */\n",
       "    progress {\n",
       "        /* gets rid of default border in Firefox and Opera. */\n",
       "        border: none;\n",
       "        /* Needs to be in here for Safari polyfill so background images work as expected. */\n",
       "        background-size: auto;\n",
       "    }\n",
       "    progress:not([value]), progress:not([value])::-webkit-progress-bar {\n",
       "        background: repeating-linear-gradient(45deg, #7e7e7e, #7e7e7e 10px, #5c5c5c 10px, #5c5c5c 20px);\n",
       "    }\n",
       "    .progress-bar-interrupted, .progress-bar-interrupted::-webkit-progress-bar {\n",
       "        background: #F44336;\n",
       "    }\n",
       "</style>\n"
      ],
      "text/plain": [
       "<IPython.core.display.HTML object>"
      ]
     },
     "metadata": {},
     "output_type": "display_data"
    },
    {
     "data": {
      "text/html": [
       "<table border=\"1\" class=\"dataframe\">\n",
       "  <thead>\n",
       "    <tr style=\"text-align: left;\">\n",
       "      <th>epoch</th>\n",
       "      <th>train_loss</th>\n",
       "      <th>valid_loss</th>\n",
       "      <th>accuracy</th>\n",
       "      <th>error_rate</th>\n",
       "      <th>time</th>\n",
       "    </tr>\n",
       "  </thead>\n",
       "  <tbody>\n",
       "    <tr>\n",
       "      <td>0</td>\n",
       "      <td>0.981847</td>\n",
       "      <td>0.638130</td>\n",
       "      <td>0.463357</td>\n",
       "      <td>0.536643</td>\n",
       "      <td>00:00</td>\n",
       "    </tr>\n",
       "    <tr>\n",
       "      <td>1</td>\n",
       "      <td>0.706334</td>\n",
       "      <td>0.414463</td>\n",
       "      <td>0.463357</td>\n",
       "      <td>0.536643</td>\n",
       "      <td>00:00</td>\n",
       "    </tr>\n",
       "    <tr>\n",
       "      <td>2</td>\n",
       "      <td>0.557118</td>\n",
       "      <td>0.275488</td>\n",
       "      <td>0.463357</td>\n",
       "      <td>0.536643</td>\n",
       "      <td>00:00</td>\n",
       "    </tr>\n",
       "    <tr>\n",
       "      <td>3</td>\n",
       "      <td>0.448049</td>\n",
       "      <td>0.156918</td>\n",
       "      <td>0.463357</td>\n",
       "      <td>0.536643</td>\n",
       "      <td>00:00</td>\n",
       "    </tr>\n",
       "    <tr>\n",
       "      <td>4</td>\n",
       "      <td>0.355552</td>\n",
       "      <td>0.091275</td>\n",
       "      <td>0.463357</td>\n",
       "      <td>0.536643</td>\n",
       "      <td>00:00</td>\n",
       "    </tr>\n",
       "    <tr>\n",
       "      <td>5</td>\n",
       "      <td>0.281673</td>\n",
       "      <td>0.058098</td>\n",
       "      <td>0.463357</td>\n",
       "      <td>0.536643</td>\n",
       "      <td>00:00</td>\n",
       "    </tr>\n",
       "    <tr>\n",
       "      <td>6</td>\n",
       "      <td>0.224770</td>\n",
       "      <td>0.040617</td>\n",
       "      <td>0.463357</td>\n",
       "      <td>0.536643</td>\n",
       "      <td>00:00</td>\n",
       "    </tr>\n",
       "    <tr>\n",
       "      <td>7</td>\n",
       "      <td>0.181157</td>\n",
       "      <td>0.030589</td>\n",
       "      <td>0.463357</td>\n",
       "      <td>0.536643</td>\n",
       "      <td>00:00</td>\n",
       "    </tr>\n",
       "    <tr>\n",
       "      <td>8</td>\n",
       "      <td>0.147395</td>\n",
       "      <td>0.024245</td>\n",
       "      <td>0.463357</td>\n",
       "      <td>0.536643</td>\n",
       "      <td>00:00</td>\n",
       "    </tr>\n",
       "    <tr>\n",
       "      <td>9</td>\n",
       "      <td>0.120925</td>\n",
       "      <td>0.019925</td>\n",
       "      <td>0.463357</td>\n",
       "      <td>0.536643</td>\n",
       "      <td>00:00</td>\n",
       "    </tr>\n",
       "  </tbody>\n",
       "</table>"
      ],
      "text/plain": [
       "<IPython.core.display.HTML object>"
      ]
     },
     "metadata": {},
     "output_type": "display_data"
    }
   ],
   "source": [
    "lrnr.fit(10)"
   ]
  },
  {
   "cell_type": "markdown",
   "metadata": {
    "id": "bsGXMeEwii0H"
   },
   "source": [
    "* 먼가 이상함 $to$ accuarcy와 error_rate이 좀 잘못됨`"
   ]
  },
  {
   "cell_type": "markdown",
   "metadata": {
    "id": "gUigN4G4imsJ"
   },
   "source": [
    "`4` 예측"
   ]
  },
  {
   "cell_type": "code",
   "execution_count": 79,
   "metadata": {
    "colab": {
     "base_uri": "https://localhost:8080/"
    },
    "executionInfo": {
     "elapsed": 4,
     "status": "ok",
     "timestamp": 1682310864149,
     "user": {
      "displayName": "이강철",
      "userId": "13507850890638580947"
     },
     "user_tz": -540
    },
    "id": "5s_IB9AKinl7",
    "outputId": "d1cff9a1-48d4-4155-b527-473666caa176"
   },
   "outputs": [
    {
     "data": {
      "text/plain": [
       "Sequential(\n",
       "  (0): Conv2d(1, 16, kernel_size=(5, 5), stride=(1, 1))\n",
       "  (1): ReLU()\n",
       "  (2): MaxPool2d(kernel_size=(2, 2), stride=(2, 2), padding=0, dilation=1, ceil_mode=False)\n",
       "  (3): Flatten(start_dim=1, end_dim=-1)\n",
       "  (4): Linear(in_features=2304, out_features=1, bias=True)\n",
       "  (5): Sigmoid()\n",
       ")"
      ]
     },
     "execution_count": 79,
     "metadata": {},
     "output_type": "execute_result"
    }
   ],
   "source": [
    "lrnr.model.to(\"cpu\")"
   ]
  },
  {
   "cell_type": "code",
   "execution_count": 80,
   "metadata": {
    "colab": {
     "base_uri": "https://localhost:8080/",
     "height": 448
    },
    "executionInfo": {
     "elapsed": 554,
     "status": "ok",
     "timestamp": 1682310871341,
     "user": {
      "displayName": "이강철",
      "userId": "13507850890638580947"
     },
     "user_tz": -540
    },
    "id": "LhlA4-RUiq0V",
    "outputId": "6f56a218-0385-41bc-9818-c7c2587c2caf"
   },
   "outputs": [
    {
     "data": {
      "text/plain": [
       "[<matplotlib.lines.Line2D at 0x7f3dcee534c0>]"
      ]
     },
     "execution_count": 80,
     "metadata": {},
     "output_type": "execute_result"
    },
    {
     "data": {
      "image/png": "[encoded data removed]",
      "text/plain": [
       "<Figure size 640x480 with 1 Axes>"
      ]
     },
     "metadata": {},
     "output_type": "display_data"
    }
   ],
   "source": [
    "plt.plot(yy)\n",
    "plt.plot(lrnr.model(XX).data,'.')"
   ]
  },
  {
   "cell_type": "markdown",
   "metadata": {
    "id": "rHEeeZKWjI7x"
   },
   "source": [
    "- 예측은 좀 잘한다."
   ]
  },
  {
   "cell_type": "markdown",
   "metadata": {
    "id": "-n37OQ5cjLIC"
   },
   "source": [
    "## fastai지원 메트릭이용 - 올바른 사용(1)"
   ]
  },
  {
   "cell_type": "markdown",
   "metadata": {
    "id": "H6MVEnq4jQY_"
   },
   "source": [
    "`-` 가정\n",
    "\n",
    "* X의 형태는 (n,채널,픽셀,픽셀)로 가정한다.\n",
    "\n",
    "* y의 형태는 (n,) 벡터이다. 즉 $n \\times 1$이 아니라 그냥 길이가 $n$ \n",
    "인 벡터로 가정한다.\n",
    "\n",
    "* y의 각 원소는 0,1,2,3,… 와 같이 카테고리를 의미하는 숫자이어야 하며 이 숫자는 int형으로 저장되어야 한다.\n",
    "\n",
    "* loss function은 CrossEntropyLoss()를 쓴다고 가정한다. (따라서 네트워크의 최종레이어는 torch.nn.Linear(?,클래스의수) 꼴이 되어야 한다.)"
   ]
  },
  {
   "cell_type": "markdown",
   "metadata": {
    "id": "07rb7iwBjeNq"
   },
   "source": [
    "`1` dls 만들기"
   ]
  },
  {
   "cell_type": "code",
   "execution_count": 81,
   "metadata": {
    "colab": {
     "base_uri": "https://localhost:8080/"
    },
    "executionInfo": {
     "elapsed": 659,
     "status": "ok",
     "timestamp": 1682311093077,
     "user": {
      "displayName": "이강철",
      "userId": "13507850890638580947"
     },
     "user_tz": -540
    },
    "id": "0GthoOjujg_Z",
    "outputId": "b631997c-ddcf-479d-8c85-96cb242cfede"
   },
   "outputs": [
    {
     "data": {
      "text/plain": [
       "(tensor([0, 0, 0,  ..., 1, 1, 1]), tensor([0, 0, 0,  ..., 1, 1, 1]))"
      ]
     },
     "execution_count": 81,
     "metadata": {},
     "output_type": "execute_result"
    }
   ],
   "source": [
    "y.to(torch.int64).reshape(-1),yy.to(torch.int64).reshape(-1)"
   ]
  },
  {
   "cell_type": "code",
   "execution_count": 82,
   "metadata": {
    "executionInfo": {
     "elapsed": 1,
     "status": "ok",
     "timestamp": 1682311097803,
     "user": {
      "displayName": "이강철",
      "userId": "13507850890638580947"
     },
     "user_tz": -540
    },
    "id": "uUGZmGTijh2c"
   },
   "outputs": [],
   "source": [
    "ds1 = torch.utils.data.TensorDataset(X,y.to(torch.int64).reshape(-1))\n",
    "ds2 = torch.utils.data.TensorDataset(XX,yy.to(torch.int64).reshape(-1))\n",
    "dl1 = torch.utils.data.DataLoader(ds1,batch_size=1266) \n",
    "dl2 = torch.utils.data.DataLoader(ds2,batch_size=2115) \n",
    "dls = DataLoaders(dl1,dl2) "
   ]
  },
  {
   "cell_type": "markdown",
   "metadata": {
    "id": "sn0gFLa2jj4C"
   },
   "source": [
    "`2` lrnr 생성"
   ]
  },
  {
   "cell_type": "code",
   "execution_count": 83,
   "metadata": {
    "executionInfo": {
     "elapsed": 3,
     "status": "ok",
     "timestamp": 1682311101152,
     "user": {
      "displayName": "이강철",
      "userId": "13507850890638580947"
     },
     "user_tz": -540
    },
    "id": "MJrIiUhBjiaZ"
   },
   "outputs": [],
   "source": [
    "net = torch.nn.Sequential(\n",
    "    torch.nn.Conv2d(1,16,(5,5)),\n",
    "    torch.nn.ReLU(),\n",
    "    torch.nn.MaxPool2d((2,2)),\n",
    "    torch.nn.Flatten(),\n",
    "    torch.nn.Linear(2304,2),\n",
    ")\n",
    "loss_fn = torch.nn.CrossEntropyLoss()\n",
    "lrnr = Learner(dls,net,loss_fn,metrics=[accuracy,error_rate])"
   ]
  },
  {
   "cell_type": "markdown",
   "metadata": {
    "id": "WarW4kEzjmJn"
   },
   "source": [
    "`3` 학습"
   ]
  },
  {
   "cell_type": "code",
   "execution_count": 84,
   "metadata": {
    "colab": {
     "base_uri": "https://localhost:8080/",
     "height": 363
    },
    "executionInfo": {
     "elapsed": 2478,
     "status": "ok",
     "timestamp": 1682311123715,
     "user": {
      "displayName": "이강철",
      "userId": "13507850890638580947"
     },
     "user_tz": -540
    },
    "id": "wcIWKcLKjnO_",
    "outputId": "4c3b2059-5f42-451c-b240-7a3503c85b51"
   },
   "outputs": [
    {
     "data": {
      "text/html": [
       "\n",
       "<style>\n",
       "    /* Turns off some styling */\n",
       "    progress {\n",
       "        /* gets rid of default border in Firefox and Opera. */\n",
       "        border: none;\n",
       "        /* Needs to be in here for Safari polyfill so background images work as expected. */\n",
       "        background-size: auto;\n",
       "    }\n",
       "    progress:not([value]), progress:not([value])::-webkit-progress-bar {\n",
       "        background: repeating-linear-gradient(45deg, #7e7e7e, #7e7e7e 10px, #5c5c5c 10px, #5c5c5c 20px);\n",
       "    }\n",
       "    .progress-bar-interrupted, .progress-bar-interrupted::-webkit-progress-bar {\n",
       "        background: #F44336;\n",
       "    }\n",
       "</style>\n"
      ],
      "text/plain": [
       "<IPython.core.display.HTML object>"
      ]
     },
     "metadata": {},
     "output_type": "display_data"
    },
    {
     "data": {
      "text/html": [
       "<table border=\"1\" class=\"dataframe\">\n",
       "  <thead>\n",
       "    <tr style=\"text-align: left;\">\n",
       "      <th>epoch</th>\n",
       "      <th>train_loss</th>\n",
       "      <th>valid_loss</th>\n",
       "      <th>accuracy</th>\n",
       "      <th>error_rate</th>\n",
       "      <th>time</th>\n",
       "    </tr>\n",
       "  </thead>\n",
       "  <tbody>\n",
       "    <tr>\n",
       "      <td>0</td>\n",
       "      <td>1.237301</td>\n",
       "      <td>0.618571</td>\n",
       "      <td>0.463357</td>\n",
       "      <td>0.536643</td>\n",
       "      <td>00:00</td>\n",
       "    </tr>\n",
       "    <tr>\n",
       "      <td>1</td>\n",
       "      <td>0.717234</td>\n",
       "      <td>0.297716</td>\n",
       "      <td>0.965012</td>\n",
       "      <td>0.034988</td>\n",
       "      <td>00:00</td>\n",
       "    </tr>\n",
       "    <tr>\n",
       "      <td>2</td>\n",
       "      <td>0.524121</td>\n",
       "      <td>0.141834</td>\n",
       "      <td>0.987707</td>\n",
       "      <td>0.012293</td>\n",
       "      <td>00:00</td>\n",
       "    </tr>\n",
       "    <tr>\n",
       "      <td>3</td>\n",
       "      <td>0.388923</td>\n",
       "      <td>0.074604</td>\n",
       "      <td>0.994799</td>\n",
       "      <td>0.005201</td>\n",
       "      <td>00:00</td>\n",
       "    </tr>\n",
       "    <tr>\n",
       "      <td>4</td>\n",
       "      <td>0.293852</td>\n",
       "      <td>0.045211</td>\n",
       "      <td>0.996690</td>\n",
       "      <td>0.003310</td>\n",
       "      <td>00:00</td>\n",
       "    </tr>\n",
       "    <tr>\n",
       "      <td>5</td>\n",
       "      <td>0.226063</td>\n",
       "      <td>0.028293</td>\n",
       "      <td>0.996690</td>\n",
       "      <td>0.003310</td>\n",
       "      <td>00:00</td>\n",
       "    </tr>\n",
       "    <tr>\n",
       "      <td>6</td>\n",
       "      <td>0.176603</td>\n",
       "      <td>0.018968</td>\n",
       "      <td>0.997163</td>\n",
       "      <td>0.002837</td>\n",
       "      <td>00:00</td>\n",
       "    </tr>\n",
       "    <tr>\n",
       "      <td>7</td>\n",
       "      <td>0.139797</td>\n",
       "      <td>0.013722</td>\n",
       "      <td>0.997636</td>\n",
       "      <td>0.002364</td>\n",
       "      <td>00:00</td>\n",
       "    </tr>\n",
       "    <tr>\n",
       "      <td>8</td>\n",
       "      <td>0.111825</td>\n",
       "      <td>0.010514</td>\n",
       "      <td>0.998109</td>\n",
       "      <td>0.001891</td>\n",
       "      <td>00:00</td>\n",
       "    </tr>\n",
       "    <tr>\n",
       "      <td>9</td>\n",
       "      <td>0.090190</td>\n",
       "      <td>0.008434</td>\n",
       "      <td>0.998582</td>\n",
       "      <td>0.001418</td>\n",
       "      <td>00:00</td>\n",
       "    </tr>\n",
       "  </tbody>\n",
       "</table>"
      ],
      "text/plain": [
       "<IPython.core.display.HTML object>"
      ]
     },
     "metadata": {},
     "output_type": "display_data"
    }
   ],
   "source": [
    "lrnr.fit(10)"
   ]
  },
  {
   "cell_type": "markdown",
   "metadata": {
    "id": "YikRQwKDjoZX"
   },
   "source": [
    "## fastai 지원 메트릭 이용 - 올바른 사용(2)"
   ]
  },
  {
   "cell_type": "markdown",
   "metadata": {
    "id": "Uxmo858kjsEV"
   },
   "source": [
    "`-` 가정\n",
    "\n",
    "* X의 형태는 (n,채널,픽셀,픽셀)로 가정한다.\n",
    "* y의 형태는 (n,클래스의수)로 가정한다. 즉 y가 one_hot 인코딩된 형태로 가정한다.\n",
    "* y의 각 원소는 0 혹은 1이다.\n",
    "* loss function은 CrossEntropyLoss()를 쓴다고 가정한다. (따라서 네트워크의 최종레이어는 torch.nn.Linear(?,클래스의수) 꼴이 되어야 한다.)"
   ]
  },
  {
   "cell_type": "markdown",
   "metadata": {
    "id": "7r0HNUw3jyCA"
   },
   "source": [
    "`1` dls 만들기"
   ]
  },
  {
   "cell_type": "code",
   "execution_count": 85,
   "metadata": {
    "executionInfo": {
     "elapsed": 601,
     "status": "ok",
     "timestamp": 1682311169353,
     "user": {
      "displayName": "이강철",
      "userId": "13507850890638580947"
     },
     "user_tz": -540
    },
    "id": "Xn6BgoZFjztQ"
   },
   "outputs": [],
   "source": [
    "y_onehot = torch.tensor(list(map(lambda x: [1.0,0.0] if x==0 else [0.0,1.0], y)))\n",
    "yy_onehot = torch.tensor(list(map(lambda x: [1.0,0.0] if x==0 else [0.0,1.0], yy)))\n",
    "# y_onehot = torch.nn.functional.one_hot(y.reshape(-1).to(torch.int64)).to(torch.float32)\n",
    "# yy_onehot = torch.nn.functional.one_hot(yy.reshape(-1).to(torch.int64)).to(torch.float32)"
   ]
  },
  {
   "cell_type": "code",
   "execution_count": 86,
   "metadata": {
    "executionInfo": {
     "elapsed": 3,
     "status": "ok",
     "timestamp": 1682311173368,
     "user": {
      "displayName": "이강철",
      "userId": "13507850890638580947"
     },
     "user_tz": -540
    },
    "id": "n9qiq5Shj0j-"
   },
   "outputs": [],
   "source": [
    "ds1 = torch.utils.data.TensorDataset(X,y_onehot)\n",
    "ds2 = torch.utils.data.TensorDataset(XX,yy_onehot)\n",
    "dl1 = torch.utils.data.DataLoader(ds1,batch_size=1266) \n",
    "dl2 = torch.utils.data.DataLoader(ds2,batch_size=2115) \n",
    "dls = DataLoaders(dl1,dl2) "
   ]
  },
  {
   "cell_type": "markdown",
   "metadata": {
    "id": "TCGMDzkrj1er"
   },
   "source": [
    "`2` lrnr 생성"
   ]
  },
  {
   "cell_type": "code",
   "execution_count": 87,
   "metadata": {
    "executionInfo": {
     "elapsed": 1,
     "status": "ok",
     "timestamp": 1682311182104,
     "user": {
      "displayName": "이강철",
      "userId": "13507850890638580947"
     },
     "user_tz": -540
    },
    "id": "vIRiTQBLj2oT"
   },
   "outputs": [],
   "source": [
    "net = torch.nn.Sequential(\n",
    "    torch.nn.Conv2d(1,16,(5,5)),\n",
    "    torch.nn.ReLU(),\n",
    "    torch.nn.MaxPool2d((2,2)),\n",
    "    torch.nn.Flatten(),\n",
    "    torch.nn.Linear(2304,2),\n",
    "    #torch.nn.Softmax()\n",
    ")\n",
    "loss_fn = torch.nn.CrossEntropyLoss() \n",
    "lrnr = Learner(dls,net,loss_fn,metrics=[accuracy_multi])"
   ]
  },
  {
   "cell_type": "markdown",
   "metadata": {
    "id": "2OwM15SGj3ip"
   },
   "source": [
    "`3` 학습"
   ]
  },
  {
   "cell_type": "code",
   "execution_count": 88,
   "metadata": {
    "colab": {
     "base_uri": "https://localhost:8080/",
     "height": 363
    },
    "executionInfo": {
     "elapsed": 1976,
     "status": "ok",
     "timestamp": 1682311192008,
     "user": {
      "displayName": "이강철",
      "userId": "13507850890638580947"
     },
     "user_tz": -540
    },
    "id": "oyxTvXpJj40F",
    "outputId": "f1718cb5-ae2c-46be-9b24-8098efef78a7"
   },
   "outputs": [
    {
     "data": {
      "text/html": [
       "\n",
       "<style>\n",
       "    /* Turns off some styling */\n",
       "    progress {\n",
       "        /* gets rid of default border in Firefox and Opera. */\n",
       "        border: none;\n",
       "        /* Needs to be in here for Safari polyfill so background images work as expected. */\n",
       "        background-size: auto;\n",
       "    }\n",
       "    progress:not([value]), progress:not([value])::-webkit-progress-bar {\n",
       "        background: repeating-linear-gradient(45deg, #7e7e7e, #7e7e7e 10px, #5c5c5c 10px, #5c5c5c 20px);\n",
       "    }\n",
       "    .progress-bar-interrupted, .progress-bar-interrupted::-webkit-progress-bar {\n",
       "        background: #F44336;\n",
       "    }\n",
       "</style>\n"
      ],
      "text/plain": [
       "<IPython.core.display.HTML object>"
      ]
     },
     "metadata": {},
     "output_type": "display_data"
    },
    {
     "data": {
      "text/html": [
       "<table border=\"1\" class=\"dataframe\">\n",
       "  <thead>\n",
       "    <tr style=\"text-align: left;\">\n",
       "      <th>epoch</th>\n",
       "      <th>train_loss</th>\n",
       "      <th>valid_loss</th>\n",
       "      <th>accuracy_multi</th>\n",
       "      <th>time</th>\n",
       "    </tr>\n",
       "  </thead>\n",
       "  <tbody>\n",
       "    <tr>\n",
       "      <td>0</td>\n",
       "      <td>1.103323</td>\n",
       "      <td>0.534813</td>\n",
       "      <td>0.465721</td>\n",
       "      <td>00:00</td>\n",
       "    </tr>\n",
       "    <tr>\n",
       "      <td>1</td>\n",
       "      <td>0.645414</td>\n",
       "      <td>0.314861</td>\n",
       "      <td>0.941371</td>\n",
       "      <td>00:00</td>\n",
       "    </tr>\n",
       "    <tr>\n",
       "      <td>2</td>\n",
       "      <td>0.489155</td>\n",
       "      <td>0.122688</td>\n",
       "      <td>0.990780</td>\n",
       "      <td>00:00</td>\n",
       "    </tr>\n",
       "    <tr>\n",
       "      <td>3</td>\n",
       "      <td>0.360367</td>\n",
       "      <td>0.063362</td>\n",
       "      <td>0.995981</td>\n",
       "      <td>00:00</td>\n",
       "    </tr>\n",
       "    <tr>\n",
       "      <td>4</td>\n",
       "      <td>0.270183</td>\n",
       "      <td>0.037917</td>\n",
       "      <td>0.996217</td>\n",
       "      <td>00:00</td>\n",
       "    </tr>\n",
       "    <tr>\n",
       "      <td>5</td>\n",
       "      <td>0.207195</td>\n",
       "      <td>0.026166</td>\n",
       "      <td>0.996217</td>\n",
       "      <td>00:00</td>\n",
       "    </tr>\n",
       "    <tr>\n",
       "      <td>6</td>\n",
       "      <td>0.162268</td>\n",
       "      <td>0.020020</td>\n",
       "      <td>0.996454</td>\n",
       "      <td>00:00</td>\n",
       "    </tr>\n",
       "    <tr>\n",
       "      <td>7</td>\n",
       "      <td>0.129200</td>\n",
       "      <td>0.016123</td>\n",
       "      <td>0.996690</td>\n",
       "      <td>00:00</td>\n",
       "    </tr>\n",
       "    <tr>\n",
       "      <td>8</td>\n",
       "      <td>0.104167</td>\n",
       "      <td>0.013462</td>\n",
       "      <td>0.997163</td>\n",
       "      <td>00:00</td>\n",
       "    </tr>\n",
       "    <tr>\n",
       "      <td>9</td>\n",
       "      <td>0.084834</td>\n",
       "      <td>0.011523</td>\n",
       "      <td>0.997400</td>\n",
       "      <td>00:00</td>\n",
       "    </tr>\n",
       "  </tbody>\n",
       "</table>"
      ],
      "text/plain": [
       "<IPython.core.display.HTML object>"
      ]
     },
     "metadata": {},
     "output_type": "display_data"
    }
   ],
   "source": [
    "lrnr.fit(10)"
   ]
  }
 ],
 "metadata": {
  "accelerator": "GPU",
  "colab": {
   "authorship_tag": "ABX9TyPqofyLmMAhhfyhhbEzrwOf",
   "machine_shape": "hm",
   "provenance": []
  },
  "gpuClass": "premium",
  "kernelspec": {
   "display_name": "Python 3 (ipykernel)",
   "language": "python",
   "name": "python3"
  },
  "language_info": {
   "codemirror_mode": {
    "name": "ipython",
    "version": 3
   },
   "file_extension": ".py",
   "mimetype": "text/x-python",
   "name": "python",
   "nbconvert_exporter": "python",
   "pygments_lexer": "ipython3",
   "version": "3.9.13"
  },
  "toc": {
   "base_numbering": 1,
   "nav_menu": {},
   "number_sections": false,
   "sideBar": true,
   "skip_h1_title": false,
   "title_cell": "Table of Contents",
   "title_sidebar": "Contents",
   "toc_cell": false,
   "toc_position": {},
   "toc_section_display": true,
   "toc_window_display": true
  }
 },
 "nbformat": 4,
 "nbformat_minor": 1
}
