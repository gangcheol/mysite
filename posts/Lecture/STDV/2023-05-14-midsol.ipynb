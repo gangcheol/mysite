{
 "cells": [
  {
   "cell_type": "raw",
   "id": "8d348b22",
   "metadata": {},
   "source": [
    "---\n",
    "title : \"08. mid term\"\n",
    "author : \"GANGCHEOL LEE\"\n",
    "date : \"05/14/23\"\n",
    "categories : [python] \n",
    "---"
   ]
  },
  {
   "cell_type": "markdown",
   "id": "0400e341-d1aa-493c-8c48-75abccfbeb69",
   "metadata": {
    "id": "0400e341-d1aa-493c-8c48-75abccfbeb69",
    "tags": []
   },
   "source": [
    "# midterm"
   ]
  },
  {
   "cell_type": "code",
   "execution_count": 1,
   "id": "83b21dc2-e43b-41bf-8810-d349f3f39705",
   "metadata": {
    "executionInfo": {
     "elapsed": 3481,
     "status": "ok",
     "timestamp": 1684135867556,
     "user": {
      "displayName": "이강철",
      "userId": "13507850890638580947"
     },
     "user_tz": -540
    },
    "id": "83b21dc2-e43b-41bf-8810-d349f3f39705"
   },
   "outputs": [],
   "source": [
    "import matplotlib.pyplot as plt \n",
    "import seaborn as sns \n",
    "from plotnine import * \n",
    "import cv2 \n",
    "import numpy as np \n",
    "import pandas as pd "
   ]
  },
  {
   "cell_type": "markdown",
   "id": "e8ad4ed3-f7a3-4695-b72e-d24c8ba4914e",
   "metadata": {
    "id": "e8ad4ed3-f7a3-4695-b72e-d24c8ba4914e"
   },
   "source": [
    "## `1`. 다음은 이미지와 대응하는 히스토그램을 나타낸것이다. 이미지와 히스토그램을 올바르게 짝지어라. (5점)"
   ]
  },
  {
   "cell_type": "markdown",
   "id": "77996359-4c3a-4cba-9802-ffdb96bc300f",
   "metadata": {
    "id": "77996359-4c3a-4cba-9802-ffdb96bc300f"
   },
   "source": [
    "- 예시 a-c, b-d"
   ]
  },
  {
   "cell_type": "markdown",
   "id": "03009b2b-c42e-4117-9390-a732ea277f0a",
   "metadata": {
    "id": "03009b2b-c42e-4117-9390-a732ea277f0a"
   },
   "source": [
    "![](https://github.com/guebin/2021DV/blob/master/_notebooks/mid_FIG1.png?raw=true)"
   ]
  },
  {
   "cell_type": "markdown",
   "id": "jFgAUcpbUg7R",
   "metadata": {
    "id": "jFgAUcpbUg7R"
   },
   "source": [
    "### Sol"
   ]
  },
  {
   "cell_type": "markdown",
   "id": "CJA8sD9fUiSj",
   "metadata": {
    "id": "CJA8sD9fUiSj"
   },
   "source": [
    "a-c, b-d"
   ]
  },
  {
   "cell_type": "markdown",
   "id": "2f9be912-13ed-4222-a980-06ed9c232e70",
   "metadata": {
    "id": "2f9be912-13ed-4222-a980-06ed9c232e70",
    "tags": []
   },
   "source": [
    "## `2`. 주어진 자료를 바탕으로 예시와 같은 시각화를 구현하라. (5점)"
   ]
  },
  {
   "cell_type": "markdown",
   "id": "b05feffd-4234-4445-a145-80ae750d8f94",
   "metadata": {
    "id": "b05feffd-4234-4445-a145-80ae750d8f94"
   },
   "source": [
    "**자료** \n",
    "\n",
    "```python\n",
    "x=[1,2,3,4]\n",
    "y=[1,2,4,3]\n",
    "```"
   ]
  },
  {
   "cell_type": "markdown",
   "id": "85d94a4b-63f8-49f7-8141-a8c426bfd382",
   "metadata": {
    "id": "85d94a4b-63f8-49f7-8141-a8c426bfd382"
   },
   "source": [
    "**시각화예시**"
   ]
  },
  {
   "cell_type": "markdown",
   "id": "f4ecdf29-47c5-450f-8f48-1523f41ba4dd",
   "metadata": {
    "id": "f4ecdf29-47c5-450f-8f48-1523f41ba4dd"
   },
   "source": [
    "![](https://github.com/guebin/2021DV/blob/master/_notebooks/mid_FIG2.png?raw=true)"
   ]
  },
  {
   "cell_type": "markdown",
   "id": "hgOLK_OpUrWf",
   "metadata": {
    "id": "hgOLK_OpUrWf"
   },
   "source": [
    "### Sol"
   ]
  },
  {
   "cell_type": "code",
   "execution_count": 15,
   "id": "AoNEcvEkUsf7",
   "metadata": {
    "colab": {
     "base_uri": "https://localhost:8080/",
     "height": 448
    },
    "executionInfo": {
     "elapsed": 600,
     "status": "ok",
     "timestamp": 1684136218479,
     "user": {
      "displayName": "이강철",
      "userId": "13507850890638580947"
     },
     "user_tz": -540
    },
    "id": "AoNEcvEkUsf7",
    "outputId": "7c4bb400-2650-4ebb-fd76-8ec781210f5b"
   },
   "outputs": [
    {
     "data": {
      "text/plain": [
       "[<matplotlib.lines.Line2D at 0x7fde441ab640>]"
      ]
     },
     "execution_count": 15,
     "metadata": {},
     "output_type": "execute_result"
    },
    {
     "data": {
      "image/png": "[encoded data removed]",
      "text/plain": [
       "<Figure size 640x480 with 4 Axes>"
      ]
     },
     "metadata": {},
     "output_type": "display_data"
    }
   ],
   "source": [
    "x = [1,2,3,4]\n",
    "y = [1,2,4,3]\n",
    "\n",
    "fig, axes = plt.subplots(2,2)\n",
    "(ax1,ax2),(ax3,ax4) = axes\n",
    "\n",
    "ax1.plot(x,y,\"bo:\")\n",
    "ax2.plot(x,y,\"rs\")\n",
    "ax3.plot(x,y,\"xk\")\n",
    "ax4.plot(x,y,\"m.--\")"
   ]
  },
  {
   "cell_type": "markdown",
   "id": "f8f4693a-35a9-4cb8-9473-d1437d4e8ddd",
   "metadata": {
    "id": "f8f4693a-35a9-4cb8-9473-d1437d4e8ddd"
   },
   "source": [
    "## `3`. 아래는 앤스콤의 플랏이다. 옳게 해석한 사람을 모두 고르라 (5점)"
   ]
  },
  {
   "cell_type": "markdown",
   "id": "9e8bc6e8-1a91-4170-86df-45a52350b139",
   "metadata": {
    "id": "9e8bc6e8-1a91-4170-86df-45a52350b139"
   },
   "source": [
    "![](https://github.com/guebin/2021DV/blob/master/_notebooks/mid_FIG3.png?raw=true)"
   ]
  },
  {
   "cell_type": "markdown",
   "id": "691802d5-d7dc-4538-8ca7-49554db27f36",
   "metadata": {
    "id": "691802d5-d7dc-4538-8ca7-49554db27f36"
   },
   "source": [
    "(하니) 그림 (a)-(d)는 모두 양의 상관계수를 가진다. \n",
    "\n",
    "(나애리) 그림 (b)는 산점도가 직선이 아니라 곡선의 모양을 띄고 있으므로 상관계수는 0이다. \n",
    "\n",
    "(홍두깨) 그림 (c)에서 상단의 이상치를 제외하면 상관계수는 1이다. \n",
    "\n",
    "(고은애) 그림 (d)의 우측 이상치의 값을 적절하게 바꾸면 (d)의 상관계수를 음수로 만드는 것이 가능하다. \n",
    "\n",
    "(이창수) 그림 (c)역시 상단의 이상치 값을 적절하게 바꾸면 (c)의 상관계수를 음수로 만드는 것이 가능하다. "
   ]
  },
  {
   "cell_type": "markdown",
   "id": "RVoAUUA4V8z0",
   "metadata": {
    "id": "RVoAUUA4V8z0"
   },
   "source": [
    "### Sol"
   ]
  },
  {
   "cell_type": "markdown",
   "id": "IHIyDccVV-3A",
   "metadata": {
    "id": "IHIyDccVV-3A"
   },
   "source": [
    "하니, 홍두깨, 고은애, 이창수"
   ]
  },
  {
   "cell_type": "markdown",
   "id": "96aeea63-0615-423e-bfb5-ab9694d70019",
   "metadata": {
    "id": "96aeea63-0615-423e-bfb5-ab9694d70019"
   },
   "source": [
    "## `4`. 다음은 아이스크림 소비량과 소아마비의 관계를 그린 산점도이다. 이때 색깔은 온도가 비슷한 관측치로 그룹핑되었다. 옳은 해석을 모두 골라라. (10점) "
   ]
  },
  {
   "cell_type": "markdown",
   "id": "d4f918bf-6325-4eb3-911e-48f9de20fe92",
   "metadata": {
    "id": "d4f918bf-6325-4eb3-911e-48f9de20fe92"
   },
   "source": [
    "![](https://github.com/guebin/2021DV/blob/master/_notebooks/mid_FIG4.png?raw=true)"
   ]
  },
  {
   "cell_type": "markdown",
   "id": "0abe0620-b5c8-4370-9fce-7431e824fb59",
   "metadata": {
    "id": "0abe0620-b5c8-4370-9fce-7431e824fb59"
   },
   "source": [
    "(하니) 아이스크림과 소아마비는 양의 상관관계에 있다. \n",
    "\n",
    "(나애리) 상관계수의 값이 1에 가까울수록 아이스크림과 소아마비의 인과성이 명확하다고 볼 수 있다. \n",
    "\n",
    "(홍두깨) 비슷한 온도를 가진 관측치에서는 아이스크림과 소아마비의 상관계수가 0에 가깝다. \n",
    "\n",
    "(고은애) 온도를 통제하였을 경우 아이스크림과 소아마비의 상관계수가 0이므로 둘 사이의 인과성이 있다고 보긴 어렵다. (단, 온도를 통제하였을 경우에는 아이스크림은 랜덤으로 먹었다고 가정한다.)"
   ]
  },
  {
   "cell_type": "markdown",
   "id": "pjWbWyLiYHLG",
   "metadata": {
    "id": "pjWbWyLiYHLG"
   },
   "source": [
    "### Sol"
   ]
  },
  {
   "cell_type": "markdown",
   "id": "hRtbNBJTYI3n",
   "metadata": {
    "id": "hRtbNBJTYI3n"
   },
   "source": [
    "하니, 홍두깨, 고은애"
   ]
  },
  {
   "cell_type": "markdown",
   "id": "599f7736-37b5-4c93-8384-b727caa65b87",
   "metadata": {
    "id": "599f7736-37b5-4c93-8384-b727caa65b87"
   },
   "source": [
    "## `5`. FIFA22 (100점) "
   ]
  },
  {
   "cell_type": "markdown",
   "id": "8be2bbc8-aa77-451d-bc81-1e81bf5066ac",
   "metadata": {
    "id": "8be2bbc8-aa77-451d-bc81-1e81bf5066ac"
   },
   "source": [
    "아래의 코드를 활용하여 FIFA22의 자료를 불러온뒤 물음에 답하라. "
   ]
  },
  {
   "cell_type": "markdown",
   "id": "3b51c6c3-fe1c-4562-94d2-040232072d65",
   "metadata": {
    "id": "3b51c6c3-fe1c-4562-94d2-040232072d65"
   },
   "source": [
    "```python\n",
    "df=pd.read_csv('https://raw.githubusercontent.com/guebin/2021DV/master/_notebooks/2021-10-25-FIFA22_official_data.csv')\n",
    "```"
   ]
  },
  {
   "cell_type": "code",
   "execution_count": 16,
   "id": "66dd5146-15e2-4f0d-af8b-ca91b257623d",
   "metadata": {
    "executionInfo": {
     "elapsed": 887,
     "status": "ok",
     "timestamp": 1684136913726,
     "user": {
      "displayName": "이강철",
      "userId": "13507850890638580947"
     },
     "user_tz": -540
    },
    "id": "66dd5146-15e2-4f0d-af8b-ca91b257623d"
   },
   "outputs": [],
   "source": [
    "import pandas as pd\n",
    "df=pd.read_csv('https://raw.githubusercontent.com/guebin/2021DV/master/_notebooks/2021-10-25-FIFA22_official_data.csv')"
   ]
  },
  {
   "cell_type": "markdown",
   "id": "86bc02cf-385f-4946-88cc-7f5656bcf116",
   "metadata": {
    "id": "86bc02cf-385f-4946-88cc-7f5656bcf116",
    "tags": []
   },
   "source": [
    "### (a) `Loaned From`,`Marking` 열을 선택하는 코드를 작성하고 값을 확인하라. "
   ]
  },
  {
   "cell_type": "code",
   "execution_count": 17,
   "id": "5c4e7e28-e0a6-40c3-bcb6-f05a6de1df01",
   "metadata": {
    "colab": {
     "base_uri": "https://localhost:8080/",
     "height": 423
    },
    "executionInfo": {
     "elapsed": 546,
     "status": "ok",
     "timestamp": 1684136928288,
     "user": {
      "displayName": "이강철",
      "userId": "13507850890638580947"
     },
     "user_tz": -540
    },
    "id": "5c4e7e28-e0a6-40c3-bcb6-f05a6de1df01",
    "outputId": "e69961fd-5d96-4fb6-9725-e64fa4c437f4"
   },
   "outputs": [
    {
     "data": {
      "text/html": [
       "\n",
       "  <div id=\"df-5fc323a6-d36c-42ad-996d-06087eb0f395\">\n",
       "    <div class=\"colab-df-container\">\n",
       "      <div>\n",
       "<style scoped>\n",
       "    .dataframe tbody tr th:only-of-type {\n",
       "        vertical-align: middle;\n",
       "    }\n",
       "\n",
       "    .dataframe tbody tr th {\n",
       "        vertical-align: top;\n",
       "    }\n",
       "\n",
       "    .dataframe thead th {\n",
       "        text-align: right;\n",
       "    }\n",
       "</style>\n",
       "<table border=\"1\" class=\"dataframe\">\n",
       "  <thead>\n",
       "    <tr style=\"text-align: right;\">\n",
       "      <th></th>\n",
       "      <th>Loaned From</th>\n",
       "      <th>Marking</th>\n",
       "    </tr>\n",
       "  </thead>\n",
       "  <tbody>\n",
       "    <tr>\n",
       "      <th>0</th>\n",
       "      <td>NaN</td>\n",
       "      <td>NaN</td>\n",
       "    </tr>\n",
       "    <tr>\n",
       "      <th>1</th>\n",
       "      <td>NaN</td>\n",
       "      <td>NaN</td>\n",
       "    </tr>\n",
       "    <tr>\n",
       "      <th>2</th>\n",
       "      <td>NaN</td>\n",
       "      <td>NaN</td>\n",
       "    </tr>\n",
       "    <tr>\n",
       "      <th>3</th>\n",
       "      <td>NaN</td>\n",
       "      <td>NaN</td>\n",
       "    </tr>\n",
       "    <tr>\n",
       "      <th>4</th>\n",
       "      <td>NaN</td>\n",
       "      <td>NaN</td>\n",
       "    </tr>\n",
       "    <tr>\n",
       "      <th>...</th>\n",
       "      <td>...</td>\n",
       "      <td>...</td>\n",
       "    </tr>\n",
       "    <tr>\n",
       "      <th>16705</th>\n",
       "      <td>NaN</td>\n",
       "      <td>5.0</td>\n",
       "    </tr>\n",
       "    <tr>\n",
       "      <th>16706</th>\n",
       "      <td>NaN</td>\n",
       "      <td>NaN</td>\n",
       "    </tr>\n",
       "    <tr>\n",
       "      <th>16707</th>\n",
       "      <td>NaN</td>\n",
       "      <td>NaN</td>\n",
       "    </tr>\n",
       "    <tr>\n",
       "      <th>16708</th>\n",
       "      <td>NaN</td>\n",
       "      <td>NaN</td>\n",
       "    </tr>\n",
       "    <tr>\n",
       "      <th>16709</th>\n",
       "      <td>NaN</td>\n",
       "      <td>15.0</td>\n",
       "    </tr>\n",
       "  </tbody>\n",
       "</table>\n",
       "<p>16710 rows × 2 columns</p>\n",
       "</div>\n",
       "      <button class=\"colab-df-convert\" onclick=\"convertToInteractive('df-5fc323a6-d36c-42ad-996d-06087eb0f395')\"\n",
       "              title=\"Convert this dataframe to an interactive table.\"\n",
       "              style=\"display:none;\">\n",
       "        \n",
       "  <svg xmlns=\"http://www.w3.org/2000/svg\" height=\"24px\"viewBox=\"0 0 24 24\"\n",
       "       width=\"24px\">\n",
       "    <path d=\"M0 0h24v24H0V0z\" fill=\"none\"/>\n",
       "    <path d=\"M18.56 5.44l.94 2.06.94-2.06 2.06-.94-2.06-.94-.94-2.06-.94 2.06-2.06.94zm-11 1L8.5 8.5l.94-2.06 2.06-.94-2.06-.94L8.5 2.5l-.94 2.06-2.06.94zm10 10l.94 2.06.94-2.06 2.06-.94-2.06-.94-.94-2.06-.94 2.06-2.06.94z\"/><path d=\"M17.41 7.96l-1.37-1.37c-.4-.4-.92-.59-1.43-.59-.52 0-1.04.2-1.43.59L10.3 9.45l-7.72 7.72c-.78.78-.78 2.05 0 2.83L4 21.41c.39.39.9.59 1.41.59.51 0 1.02-.2 1.41-.59l7.78-7.78 2.81-2.81c.8-.78.8-2.07 0-2.86zM5.41 20L4 18.59l7.72-7.72 1.47 1.35L5.41 20z\"/>\n",
       "  </svg>\n",
       "      </button>\n",
       "      \n",
       "  <style>\n",
       "    .colab-df-container {\n",
       "      display:flex;\n",
       "      flex-wrap:wrap;\n",
       "      gap: 12px;\n",
       "    }\n",
       "\n",
       "    .colab-df-convert {\n",
       "      background-color: #E8F0FE;\n",
       "      border: none;\n",
       "      border-radius: 50%;\n",
       "      cursor: pointer;\n",
       "      display: none;\n",
       "      fill: #1967D2;\n",
       "      height: 32px;\n",
       "      padding: 0 0 0 0;\n",
       "      width: 32px;\n",
       "    }\n",
       "\n",
       "    .colab-df-convert:hover {\n",
       "      background-color: #E2EBFA;\n",
       "      box-shadow: 0px 1px 2px rgba(60, 64, 67, 0.3), 0px 1px 3px 1px rgba(60, 64, 67, 0.15);\n",
       "      fill: #174EA6;\n",
       "    }\n",
       "\n",
       "    [theme=dark] .colab-df-convert {\n",
       "      background-color: #3B4455;\n",
       "      fill: #D2E3FC;\n",
       "    }\n",
       "\n",
       "    [theme=dark] .colab-df-convert:hover {\n",
       "      background-color: #434B5C;\n",
       "      box-shadow: 0px 1px 3px 1px rgba(0, 0, 0, 0.15);\n",
       "      filter: drop-shadow(0px 1px 2px rgba(0, 0, 0, 0.3));\n",
       "      fill: #FFFFFF;\n",
       "    }\n",
       "  </style>\n",
       "\n",
       "      <script>\n",
       "        const buttonEl =\n",
       "          document.querySelector('#df-5fc323a6-d36c-42ad-996d-06087eb0f395 button.colab-df-convert');\n",
       "        buttonEl.style.display =\n",
       "          google.colab.kernel.accessAllowed ? 'block' : 'none';\n",
       "\n",
       "        async function convertToInteractive(key) {\n",
       "          const element = document.querySelector('#df-5fc323a6-d36c-42ad-996d-06087eb0f395');\n",
       "          const dataTable =\n",
       "            await google.colab.kernel.invokeFunction('convertToInteractive',\n",
       "                                                     [key], {});\n",
       "          if (!dataTable) return;\n",
       "\n",
       "          const docLinkHtml = 'Like what you see? Visit the ' +\n",
       "            '<a target=\"_blank\" href=https://colab.research.google.com/notebooks/data_table.ipynb>data table notebook</a>'\n",
       "            + ' to learn more about interactive tables.';\n",
       "          element.innerHTML = '';\n",
       "          dataTable['output_type'] = 'display_data';\n",
       "          await google.colab.output.renderOutput(dataTable, element);\n",
       "          const docLink = document.createElement('div');\n",
       "          docLink.innerHTML = docLinkHtml;\n",
       "          element.appendChild(docLink);\n",
       "        }\n",
       "      </script>\n",
       "    </div>\n",
       "  </div>\n",
       "  "
      ],
      "text/plain": [
       "      Loaned From  Marking\n",
       "0             NaN      NaN\n",
       "1             NaN      NaN\n",
       "2             NaN      NaN\n",
       "3             NaN      NaN\n",
       "4             NaN      NaN\n",
       "...           ...      ...\n",
       "16705         NaN      5.0\n",
       "16706         NaN      NaN\n",
       "16707         NaN      NaN\n",
       "16708         NaN      NaN\n",
       "16709         NaN     15.0\n",
       "\n",
       "[16710 rows x 2 columns]"
      ]
     },
     "execution_count": 17,
     "metadata": {},
     "output_type": "execute_result"
    }
   ],
   "source": [
    "df.loc[:,['Loaned From','Marking']]"
   ]
  },
  {
   "cell_type": "markdown",
   "id": "701807f2-a51a-43a5-8314-84fa53b1b215",
   "metadata": {
    "id": "701807f2-a51a-43a5-8314-84fa53b1b215"
   },
   "source": [
    "### (b) 기존의 데이터프레임에서 `Loaned From`, `Marking`열을 제외하는 코드를 작성하라. "
   ]
  },
  {
   "cell_type": "code",
   "execution_count": 18,
   "id": "0ee5f3df-a25d-41b2-8dc8-66fdab502bbb",
   "metadata": {
    "colab": {
     "base_uri": "https://localhost:8080/",
     "height": 696
    },
    "executionInfo": {
     "elapsed": 498,
     "status": "ok",
     "timestamp": 1684136939778,
     "user": {
      "displayName": "이강철",
      "userId": "13507850890638580947"
     },
     "user_tz": -540
    },
    "id": "0ee5f3df-a25d-41b2-8dc8-66fdab502bbb",
    "outputId": "68593ea5-cc7b-4bd4-a005-3ca9751ad2a3"
   },
   "outputs": [
    {
     "data": {
      "text/html": [
       "\n",
       "  <div id=\"df-07f8a4ca-6fa5-40ab-916f-2700107d8b2a\">\n",
       "    <div class=\"colab-df-container\">\n",
       "      <div>\n",
       "<style scoped>\n",
       "    .dataframe tbody tr th:only-of-type {\n",
       "        vertical-align: middle;\n",
       "    }\n",
       "\n",
       "    .dataframe tbody tr th {\n",
       "        vertical-align: top;\n",
       "    }\n",
       "\n",
       "    .dataframe thead th {\n",
       "        text-align: right;\n",
       "    }\n",
       "</style>\n",
       "<table border=\"1\" class=\"dataframe\">\n",
       "  <thead>\n",
       "    <tr style=\"text-align: right;\">\n",
       "      <th></th>\n",
       "      <th>ID</th>\n",
       "      <th>Name</th>\n",
       "      <th>Age</th>\n",
       "      <th>Photo</th>\n",
       "      <th>Nationality</th>\n",
       "      <th>Flag</th>\n",
       "      <th>Overall</th>\n",
       "      <th>Potential</th>\n",
       "      <th>Club</th>\n",
       "      <th>Club Logo</th>\n",
       "      <th>...</th>\n",
       "      <th>SlidingTackle</th>\n",
       "      <th>GKDiving</th>\n",
       "      <th>GKHandling</th>\n",
       "      <th>GKKicking</th>\n",
       "      <th>GKPositioning</th>\n",
       "      <th>GKReflexes</th>\n",
       "      <th>Best Position</th>\n",
       "      <th>Best Overall Rating</th>\n",
       "      <th>Release Clause</th>\n",
       "      <th>DefensiveAwareness</th>\n",
       "    </tr>\n",
       "  </thead>\n",
       "  <tbody>\n",
       "    <tr>\n",
       "      <th>0</th>\n",
       "      <td>212198</td>\n",
       "      <td>Bruno Fernandes</td>\n",
       "      <td>26</td>\n",
       "      <td>https://cdn.sofifa.com/players/212/198/22_60.png</td>\n",
       "      <td>Portugal</td>\n",
       "      <td>https://cdn.sofifa.com/flags/pt.png</td>\n",
       "      <td>88</td>\n",
       "      <td>89</td>\n",
       "      <td>Manchester United</td>\n",
       "      <td>https://cdn.sofifa.com/teams/11/30.png</td>\n",
       "      <td>...</td>\n",
       "      <td>65.0</td>\n",
       "      <td>12.0</td>\n",
       "      <td>14.0</td>\n",
       "      <td>15.0</td>\n",
       "      <td>8.0</td>\n",
       "      <td>14.0</td>\n",
       "      <td>CAM</td>\n",
       "      <td>88.0</td>\n",
       "      <td>€206.9M</td>\n",
       "      <td>72.0</td>\n",
       "    </tr>\n",
       "    <tr>\n",
       "      <th>1</th>\n",
       "      <td>209658</td>\n",
       "      <td>L. Goretzka</td>\n",
       "      <td>26</td>\n",
       "      <td>https://cdn.sofifa.com/players/209/658/22_60.png</td>\n",
       "      <td>Germany</td>\n",
       "      <td>https://cdn.sofifa.com/flags/de.png</td>\n",
       "      <td>87</td>\n",
       "      <td>88</td>\n",
       "      <td>FC Bayern München</td>\n",
       "      <td>https://cdn.sofifa.com/teams/21/30.png</td>\n",
       "      <td>...</td>\n",
       "      <td>77.0</td>\n",
       "      <td>13.0</td>\n",
       "      <td>8.0</td>\n",
       "      <td>15.0</td>\n",
       "      <td>11.0</td>\n",
       "      <td>9.0</td>\n",
       "      <td>CM</td>\n",
       "      <td>87.0</td>\n",
       "      <td>€160.4M</td>\n",
       "      <td>74.0</td>\n",
       "    </tr>\n",
       "    <tr>\n",
       "      <th>2</th>\n",
       "      <td>176580</td>\n",
       "      <td>L. Suárez</td>\n",
       "      <td>34</td>\n",
       "      <td>https://cdn.sofifa.com/players/176/580/22_60.png</td>\n",
       "      <td>Uruguay</td>\n",
       "      <td>https://cdn.sofifa.com/flags/uy.png</td>\n",
       "      <td>88</td>\n",
       "      <td>88</td>\n",
       "      <td>Atlético de Madrid</td>\n",
       "      <td>https://cdn.sofifa.com/teams/240/30.png</td>\n",
       "      <td>...</td>\n",
       "      <td>38.0</td>\n",
       "      <td>27.0</td>\n",
       "      <td>25.0</td>\n",
       "      <td>31.0</td>\n",
       "      <td>33.0</td>\n",
       "      <td>37.0</td>\n",
       "      <td>ST</td>\n",
       "      <td>88.0</td>\n",
       "      <td>€91.2M</td>\n",
       "      <td>42.0</td>\n",
       "    </tr>\n",
       "    <tr>\n",
       "      <th>3</th>\n",
       "      <td>192985</td>\n",
       "      <td>K. De Bruyne</td>\n",
       "      <td>30</td>\n",
       "      <td>https://cdn.sofifa.com/players/192/985/22_60.png</td>\n",
       "      <td>Belgium</td>\n",
       "      <td>https://cdn.sofifa.com/flags/be.png</td>\n",
       "      <td>91</td>\n",
       "      <td>91</td>\n",
       "      <td>Manchester City</td>\n",
       "      <td>https://cdn.sofifa.com/teams/10/30.png</td>\n",
       "      <td>...</td>\n",
       "      <td>53.0</td>\n",
       "      <td>15.0</td>\n",
       "      <td>13.0</td>\n",
       "      <td>5.0</td>\n",
       "      <td>10.0</td>\n",
       "      <td>13.0</td>\n",
       "      <td>CM</td>\n",
       "      <td>91.0</td>\n",
       "      <td>€232.2M</td>\n",
       "      <td>68.0</td>\n",
       "    </tr>\n",
       "    <tr>\n",
       "      <th>4</th>\n",
       "      <td>224334</td>\n",
       "      <td>M. Acuña</td>\n",
       "      <td>29</td>\n",
       "      <td>https://cdn.sofifa.com/players/224/334/22_60.png</td>\n",
       "      <td>Argentina</td>\n",
       "      <td>https://cdn.sofifa.com/flags/ar.png</td>\n",
       "      <td>84</td>\n",
       "      <td>84</td>\n",
       "      <td>Sevilla FC</td>\n",
       "      <td>https://cdn.sofifa.com/teams/481/30.png</td>\n",
       "      <td>...</td>\n",
       "      <td>82.0</td>\n",
       "      <td>8.0</td>\n",
       "      <td>14.0</td>\n",
       "      <td>13.0</td>\n",
       "      <td>13.0</td>\n",
       "      <td>14.0</td>\n",
       "      <td>LB</td>\n",
       "      <td>84.0</td>\n",
       "      <td>€77.7M</td>\n",
       "      <td>80.0</td>\n",
       "    </tr>\n",
       "    <tr>\n",
       "      <th>...</th>\n",
       "      <td>...</td>\n",
       "      <td>...</td>\n",
       "      <td>...</td>\n",
       "      <td>...</td>\n",
       "      <td>...</td>\n",
       "      <td>...</td>\n",
       "      <td>...</td>\n",
       "      <td>...</td>\n",
       "      <td>...</td>\n",
       "      <td>...</td>\n",
       "      <td>...</td>\n",
       "      <td>...</td>\n",
       "      <td>...</td>\n",
       "      <td>...</td>\n",
       "      <td>...</td>\n",
       "      <td>...</td>\n",
       "      <td>...</td>\n",
       "      <td>...</td>\n",
       "      <td>...</td>\n",
       "      <td>...</td>\n",
       "      <td>...</td>\n",
       "    </tr>\n",
       "    <tr>\n",
       "      <th>16705</th>\n",
       "      <td>240558</td>\n",
       "      <td>18 L. Clayton</td>\n",
       "      <td>17</td>\n",
       "      <td>https://cdn.sofifa.com/players/240/558/18_60.png</td>\n",
       "      <td>England</td>\n",
       "      <td>https://cdn.sofifa.com/flags/gb-eng.png</td>\n",
       "      <td>53</td>\n",
       "      <td>70</td>\n",
       "      <td>Cheltenham Town</td>\n",
       "      <td>https://cdn.sofifa.com/teams/1936/30.png</td>\n",
       "      <td>...</td>\n",
       "      <td>12.0</td>\n",
       "      <td>55.0</td>\n",
       "      <td>54.0</td>\n",
       "      <td>52.0</td>\n",
       "      <td>50.0</td>\n",
       "      <td>59.0</td>\n",
       "      <td>GK</td>\n",
       "      <td>52.0</td>\n",
       "      <td>€238K</td>\n",
       "      <td>NaN</td>\n",
       "    </tr>\n",
       "    <tr>\n",
       "      <th>16706</th>\n",
       "      <td>262846</td>\n",
       "      <td>�. Dobre</td>\n",
       "      <td>20</td>\n",
       "      <td>https://cdn.sofifa.com/players/262/846/22_60.png</td>\n",
       "      <td>Romania</td>\n",
       "      <td>https://cdn.sofifa.com/flags/ro.png</td>\n",
       "      <td>53</td>\n",
       "      <td>63</td>\n",
       "      <td>FC Academica Clinceni</td>\n",
       "      <td>https://cdn.sofifa.com/teams/113391/30.png</td>\n",
       "      <td>...</td>\n",
       "      <td>12.0</td>\n",
       "      <td>57.0</td>\n",
       "      <td>52.0</td>\n",
       "      <td>53.0</td>\n",
       "      <td>48.0</td>\n",
       "      <td>58.0</td>\n",
       "      <td>GK</td>\n",
       "      <td>53.0</td>\n",
       "      <td>€279K</td>\n",
       "      <td>5.0</td>\n",
       "    </tr>\n",
       "    <tr>\n",
       "      <th>16707</th>\n",
       "      <td>241317</td>\n",
       "      <td>21 Xue Qinghao</td>\n",
       "      <td>19</td>\n",
       "      <td>https://cdn.sofifa.com/players/241/317/21_60.png</td>\n",
       "      <td>China PR</td>\n",
       "      <td>https://cdn.sofifa.com/flags/cn.png</td>\n",
       "      <td>47</td>\n",
       "      <td>60</td>\n",
       "      <td>Shanghai Shenhua FC</td>\n",
       "      <td>https://cdn.sofifa.com/teams/110955/30.png</td>\n",
       "      <td>...</td>\n",
       "      <td>9.0</td>\n",
       "      <td>49.0</td>\n",
       "      <td>48.0</td>\n",
       "      <td>45.0</td>\n",
       "      <td>38.0</td>\n",
       "      <td>52.0</td>\n",
       "      <td>GK</td>\n",
       "      <td>47.0</td>\n",
       "      <td>€223K</td>\n",
       "      <td>21.0</td>\n",
       "    </tr>\n",
       "    <tr>\n",
       "      <th>16708</th>\n",
       "      <td>259646</td>\n",
       "      <td>A. Shaikh</td>\n",
       "      <td>18</td>\n",
       "      <td>https://cdn.sofifa.com/players/259/646/22_60.png</td>\n",
       "      <td>India</td>\n",
       "      <td>https://cdn.sofifa.com/flags/in.png</td>\n",
       "      <td>47</td>\n",
       "      <td>67</td>\n",
       "      <td>ATK Mohun Bagan FC</td>\n",
       "      <td>https://cdn.sofifa.com/teams/113146/30.png</td>\n",
       "      <td>...</td>\n",
       "      <td>13.0</td>\n",
       "      <td>49.0</td>\n",
       "      <td>41.0</td>\n",
       "      <td>39.0</td>\n",
       "      <td>45.0</td>\n",
       "      <td>49.0</td>\n",
       "      <td>GK</td>\n",
       "      <td>47.0</td>\n",
       "      <td>€259K</td>\n",
       "      <td>7.0</td>\n",
       "    </tr>\n",
       "    <tr>\n",
       "      <th>16709</th>\n",
       "      <td>178453</td>\n",
       "      <td>07 A. Censori</td>\n",
       "      <td>17</td>\n",
       "      <td>https://cdn.sofifa.com/players/178/453/07_60.png</td>\n",
       "      <td>Italy</td>\n",
       "      <td>https://cdn.sofifa.com/flags/it.png</td>\n",
       "      <td>28</td>\n",
       "      <td>38</td>\n",
       "      <td>Arezzo</td>\n",
       "      <td>https://cdn.sofifa.com/teams/110907/30.png</td>\n",
       "      <td>...</td>\n",
       "      <td>NaN</td>\n",
       "      <td>7.0</td>\n",
       "      <td>1.0</td>\n",
       "      <td>36.0</td>\n",
       "      <td>6.0</td>\n",
       "      <td>9.0</td>\n",
       "      <td>ST</td>\n",
       "      <td>36.0</td>\n",
       "      <td>NaN</td>\n",
       "      <td>NaN</td>\n",
       "    </tr>\n",
       "  </tbody>\n",
       "</table>\n",
       "<p>16710 rows × 63 columns</p>\n",
       "</div>\n",
       "      <button class=\"colab-df-convert\" onclick=\"convertToInteractive('df-07f8a4ca-6fa5-40ab-916f-2700107d8b2a')\"\n",
       "              title=\"Convert this dataframe to an interactive table.\"\n",
       "              style=\"display:none;\">\n",
       "        \n",
       "  <svg xmlns=\"http://www.w3.org/2000/svg\" height=\"24px\"viewBox=\"0 0 24 24\"\n",
       "       width=\"24px\">\n",
       "    <path d=\"M0 0h24v24H0V0z\" fill=\"none\"/>\n",
       "    <path d=\"M18.56 5.44l.94 2.06.94-2.06 2.06-.94-2.06-.94-.94-2.06-.94 2.06-2.06.94zm-11 1L8.5 8.5l.94-2.06 2.06-.94-2.06-.94L8.5 2.5l-.94 2.06-2.06.94zm10 10l.94 2.06.94-2.06 2.06-.94-2.06-.94-.94-2.06-.94 2.06-2.06.94z\"/><path d=\"M17.41 7.96l-1.37-1.37c-.4-.4-.92-.59-1.43-.59-.52 0-1.04.2-1.43.59L10.3 9.45l-7.72 7.72c-.78.78-.78 2.05 0 2.83L4 21.41c.39.39.9.59 1.41.59.51 0 1.02-.2 1.41-.59l7.78-7.78 2.81-2.81c.8-.78.8-2.07 0-2.86zM5.41 20L4 18.59l7.72-7.72 1.47 1.35L5.41 20z\"/>\n",
       "  </svg>\n",
       "      </button>\n",
       "      \n",
       "  <style>\n",
       "    .colab-df-container {\n",
       "      display:flex;\n",
       "      flex-wrap:wrap;\n",
       "      gap: 12px;\n",
       "    }\n",
       "\n",
       "    .colab-df-convert {\n",
       "      background-color: #E8F0FE;\n",
       "      border: none;\n",
       "      border-radius: 50%;\n",
       "      cursor: pointer;\n",
       "      display: none;\n",
       "      fill: #1967D2;\n",
       "      height: 32px;\n",
       "      padding: 0 0 0 0;\n",
       "      width: 32px;\n",
       "    }\n",
       "\n",
       "    .colab-df-convert:hover {\n",
       "      background-color: #E2EBFA;\n",
       "      box-shadow: 0px 1px 2px rgba(60, 64, 67, 0.3), 0px 1px 3px 1px rgba(60, 64, 67, 0.15);\n",
       "      fill: #174EA6;\n",
       "    }\n",
       "\n",
       "    [theme=dark] .colab-df-convert {\n",
       "      background-color: #3B4455;\n",
       "      fill: #D2E3FC;\n",
       "    }\n",
       "\n",
       "    [theme=dark] .colab-df-convert:hover {\n",
       "      background-color: #434B5C;\n",
       "      box-shadow: 0px 1px 3px 1px rgba(0, 0, 0, 0.15);\n",
       "      filter: drop-shadow(0px 1px 2px rgba(0, 0, 0, 0.3));\n",
       "      fill: #FFFFFF;\n",
       "    }\n",
       "  </style>\n",
       "\n",
       "      <script>\n",
       "        const buttonEl =\n",
       "          document.querySelector('#df-07f8a4ca-6fa5-40ab-916f-2700107d8b2a button.colab-df-convert');\n",
       "        buttonEl.style.display =\n",
       "          google.colab.kernel.accessAllowed ? 'block' : 'none';\n",
       "\n",
       "        async function convertToInteractive(key) {\n",
       "          const element = document.querySelector('#df-07f8a4ca-6fa5-40ab-916f-2700107d8b2a');\n",
       "          const dataTable =\n",
       "            await google.colab.kernel.invokeFunction('convertToInteractive',\n",
       "                                                     [key], {});\n",
       "          if (!dataTable) return;\n",
       "\n",
       "          const docLinkHtml = 'Like what you see? Visit the ' +\n",
       "            '<a target=\"_blank\" href=https://colab.research.google.com/notebooks/data_table.ipynb>data table notebook</a>'\n",
       "            + ' to learn more about interactive tables.';\n",
       "          element.innerHTML = '';\n",
       "          dataTable['output_type'] = 'display_data';\n",
       "          await google.colab.output.renderOutput(dataTable, element);\n",
       "          const docLink = document.createElement('div');\n",
       "          docLink.innerHTML = docLinkHtml;\n",
       "          element.appendChild(docLink);\n",
       "        }\n",
       "      </script>\n",
       "    </div>\n",
       "  </div>\n",
       "  "
      ],
      "text/plain": [
       "           ID             Name  Age  \\\n",
       "0      212198  Bruno Fernandes   26   \n",
       "1      209658      L. Goretzka   26   \n",
       "2      176580        L. Suárez   34   \n",
       "3      192985     K. De Bruyne   30   \n",
       "4      224334         M. Acuña   29   \n",
       "...       ...              ...  ...   \n",
       "16705  240558    18 L. Clayton   17   \n",
       "16706  262846         �. Dobre   20   \n",
       "16707  241317   21 Xue Qinghao   19   \n",
       "16708  259646        A. Shaikh   18   \n",
       "16709  178453    07 A. Censori   17   \n",
       "\n",
       "                                                  Photo Nationality  \\\n",
       "0      https://cdn.sofifa.com/players/212/198/22_60.png    Portugal   \n",
       "1      https://cdn.sofifa.com/players/209/658/22_60.png     Germany   \n",
       "2      https://cdn.sofifa.com/players/176/580/22_60.png     Uruguay   \n",
       "3      https://cdn.sofifa.com/players/192/985/22_60.png     Belgium   \n",
       "4      https://cdn.sofifa.com/players/224/334/22_60.png   Argentina   \n",
       "...                                                 ...         ...   \n",
       "16705  https://cdn.sofifa.com/players/240/558/18_60.png     England   \n",
       "16706  https://cdn.sofifa.com/players/262/846/22_60.png     Romania   \n",
       "16707  https://cdn.sofifa.com/players/241/317/21_60.png    China PR   \n",
       "16708  https://cdn.sofifa.com/players/259/646/22_60.png       India   \n",
       "16709  https://cdn.sofifa.com/players/178/453/07_60.png       Italy   \n",
       "\n",
       "                                          Flag  Overall  Potential  \\\n",
       "0          https://cdn.sofifa.com/flags/pt.png       88         89   \n",
       "1          https://cdn.sofifa.com/flags/de.png       87         88   \n",
       "2          https://cdn.sofifa.com/flags/uy.png       88         88   \n",
       "3          https://cdn.sofifa.com/flags/be.png       91         91   \n",
       "4          https://cdn.sofifa.com/flags/ar.png       84         84   \n",
       "...                                        ...      ...        ...   \n",
       "16705  https://cdn.sofifa.com/flags/gb-eng.png       53         70   \n",
       "16706      https://cdn.sofifa.com/flags/ro.png       53         63   \n",
       "16707      https://cdn.sofifa.com/flags/cn.png       47         60   \n",
       "16708      https://cdn.sofifa.com/flags/in.png       47         67   \n",
       "16709      https://cdn.sofifa.com/flags/it.png       28         38   \n",
       "\n",
       "                        Club                                   Club Logo  ...  \\\n",
       "0          Manchester United      https://cdn.sofifa.com/teams/11/30.png  ...   \n",
       "1          FC Bayern München      https://cdn.sofifa.com/teams/21/30.png  ...   \n",
       "2         Atlético de Madrid     https://cdn.sofifa.com/teams/240/30.png  ...   \n",
       "3            Manchester City      https://cdn.sofifa.com/teams/10/30.png  ...   \n",
       "4                 Sevilla FC     https://cdn.sofifa.com/teams/481/30.png  ...   \n",
       "...                      ...                                         ...  ...   \n",
       "16705        Cheltenham Town    https://cdn.sofifa.com/teams/1936/30.png  ...   \n",
       "16706  FC Academica Clinceni  https://cdn.sofifa.com/teams/113391/30.png  ...   \n",
       "16707    Shanghai Shenhua FC  https://cdn.sofifa.com/teams/110955/30.png  ...   \n",
       "16708     ATK Mohun Bagan FC  https://cdn.sofifa.com/teams/113146/30.png  ...   \n",
       "16709                 Arezzo  https://cdn.sofifa.com/teams/110907/30.png  ...   \n",
       "\n",
       "      SlidingTackle GKDiving  GKHandling GKKicking  GKPositioning  GKReflexes  \\\n",
       "0              65.0     12.0        14.0      15.0            8.0        14.0   \n",
       "1              77.0     13.0         8.0      15.0           11.0         9.0   \n",
       "2              38.0     27.0        25.0      31.0           33.0        37.0   \n",
       "3              53.0     15.0        13.0       5.0           10.0        13.0   \n",
       "4              82.0      8.0        14.0      13.0           13.0        14.0   \n",
       "...             ...      ...         ...       ...            ...         ...   \n",
       "16705          12.0     55.0        54.0      52.0           50.0        59.0   \n",
       "16706          12.0     57.0        52.0      53.0           48.0        58.0   \n",
       "16707           9.0     49.0        48.0      45.0           38.0        52.0   \n",
       "16708          13.0     49.0        41.0      39.0           45.0        49.0   \n",
       "16709           NaN      7.0         1.0      36.0            6.0         9.0   \n",
       "\n",
       "       Best Position Best Overall Rating Release Clause DefensiveAwareness  \n",
       "0                CAM                88.0        €206.9M               72.0  \n",
       "1                 CM                87.0        €160.4M               74.0  \n",
       "2                 ST                88.0         €91.2M               42.0  \n",
       "3                 CM                91.0        €232.2M               68.0  \n",
       "4                 LB                84.0         €77.7M               80.0  \n",
       "...              ...                 ...            ...                ...  \n",
       "16705             GK                52.0          €238K                NaN  \n",
       "16706             GK                53.0          €279K                5.0  \n",
       "16707             GK                47.0          €223K               21.0  \n",
       "16708             GK                47.0          €259K                7.0  \n",
       "16709             ST                36.0            NaN                NaN  \n",
       "\n",
       "[16710 rows x 63 columns]"
      ]
     },
     "execution_count": 18,
     "metadata": {},
     "output_type": "execute_result"
    }
   ],
   "source": [
    "df.iloc[:,map(lambda x: 'Loaned From' != x and 'Marking' != x ,df.columns )]"
   ]
  },
  {
   "cell_type": "markdown",
   "id": "a629fc3a-57ba-4a84-a13b-03206d0ee09c",
   "metadata": {
    "id": "a629fc3a-57ba-4a84-a13b-03206d0ee09c"
   },
   "source": [
    "### (c) (b)의 결과에 `.dropna()`를 사용하여 결측치를 제거하는 코드를 작성하라. 몇개의 결측치가 제거되었는가? "
   ]
  },
  {
   "cell_type": "code",
   "execution_count": 19,
   "id": "b4ebb3fc-eb1f-406f-9611-285a3e33d448",
   "metadata": {
    "colab": {
     "base_uri": "https://localhost:8080/",
     "height": 730
    },
    "executionInfo": {
     "elapsed": 263,
     "status": "ok",
     "timestamp": 1684136945346,
     "user": {
      "displayName": "이강철",
      "userId": "13507850890638580947"
     },
     "user_tz": -540
    },
    "id": "b4ebb3fc-eb1f-406f-9611-285a3e33d448",
    "outputId": "6b7fa993-ea60-4e2d-9b29-8d73dc7ff746"
   },
   "outputs": [
    {
     "data": {
      "text/html": [
       "\n",
       "  <div id=\"df-de8dfebd-5b56-4850-8ea9-66058cc99d29\">\n",
       "    <div class=\"colab-df-container\">\n",
       "      <div>\n",
       "<style scoped>\n",
       "    .dataframe tbody tr th:only-of-type {\n",
       "        vertical-align: middle;\n",
       "    }\n",
       "\n",
       "    .dataframe tbody tr th {\n",
       "        vertical-align: top;\n",
       "    }\n",
       "\n",
       "    .dataframe thead th {\n",
       "        text-align: right;\n",
       "    }\n",
       "</style>\n",
       "<table border=\"1\" class=\"dataframe\">\n",
       "  <thead>\n",
       "    <tr style=\"text-align: right;\">\n",
       "      <th></th>\n",
       "      <th>ID</th>\n",
       "      <th>Name</th>\n",
       "      <th>Age</th>\n",
       "      <th>Photo</th>\n",
       "      <th>Nationality</th>\n",
       "      <th>Flag</th>\n",
       "      <th>Overall</th>\n",
       "      <th>Potential</th>\n",
       "      <th>Club</th>\n",
       "      <th>Club Logo</th>\n",
       "      <th>...</th>\n",
       "      <th>SlidingTackle</th>\n",
       "      <th>GKDiving</th>\n",
       "      <th>GKHandling</th>\n",
       "      <th>GKKicking</th>\n",
       "      <th>GKPositioning</th>\n",
       "      <th>GKReflexes</th>\n",
       "      <th>Best Position</th>\n",
       "      <th>Best Overall Rating</th>\n",
       "      <th>Release Clause</th>\n",
       "      <th>DefensiveAwareness</th>\n",
       "    </tr>\n",
       "  </thead>\n",
       "  <tbody>\n",
       "    <tr>\n",
       "      <th>0</th>\n",
       "      <td>212198</td>\n",
       "      <td>Bruno Fernandes</td>\n",
       "      <td>26</td>\n",
       "      <td>https://cdn.sofifa.com/players/212/198/22_60.png</td>\n",
       "      <td>Portugal</td>\n",
       "      <td>https://cdn.sofifa.com/flags/pt.png</td>\n",
       "      <td>88</td>\n",
       "      <td>89</td>\n",
       "      <td>Manchester United</td>\n",
       "      <td>https://cdn.sofifa.com/teams/11/30.png</td>\n",
       "      <td>...</td>\n",
       "      <td>65.0</td>\n",
       "      <td>12.0</td>\n",
       "      <td>14.0</td>\n",
       "      <td>15.0</td>\n",
       "      <td>8.0</td>\n",
       "      <td>14.0</td>\n",
       "      <td>CAM</td>\n",
       "      <td>88.0</td>\n",
       "      <td>€206.9M</td>\n",
       "      <td>72.0</td>\n",
       "    </tr>\n",
       "    <tr>\n",
       "      <th>1</th>\n",
       "      <td>209658</td>\n",
       "      <td>L. Goretzka</td>\n",
       "      <td>26</td>\n",
       "      <td>https://cdn.sofifa.com/players/209/658/22_60.png</td>\n",
       "      <td>Germany</td>\n",
       "      <td>https://cdn.sofifa.com/flags/de.png</td>\n",
       "      <td>87</td>\n",
       "      <td>88</td>\n",
       "      <td>FC Bayern München</td>\n",
       "      <td>https://cdn.sofifa.com/teams/21/30.png</td>\n",
       "      <td>...</td>\n",
       "      <td>77.0</td>\n",
       "      <td>13.0</td>\n",
       "      <td>8.0</td>\n",
       "      <td>15.0</td>\n",
       "      <td>11.0</td>\n",
       "      <td>9.0</td>\n",
       "      <td>CM</td>\n",
       "      <td>87.0</td>\n",
       "      <td>€160.4M</td>\n",
       "      <td>74.0</td>\n",
       "    </tr>\n",
       "    <tr>\n",
       "      <th>2</th>\n",
       "      <td>176580</td>\n",
       "      <td>L. Suárez</td>\n",
       "      <td>34</td>\n",
       "      <td>https://cdn.sofifa.com/players/176/580/22_60.png</td>\n",
       "      <td>Uruguay</td>\n",
       "      <td>https://cdn.sofifa.com/flags/uy.png</td>\n",
       "      <td>88</td>\n",
       "      <td>88</td>\n",
       "      <td>Atlético de Madrid</td>\n",
       "      <td>https://cdn.sofifa.com/teams/240/30.png</td>\n",
       "      <td>...</td>\n",
       "      <td>38.0</td>\n",
       "      <td>27.0</td>\n",
       "      <td>25.0</td>\n",
       "      <td>31.0</td>\n",
       "      <td>33.0</td>\n",
       "      <td>37.0</td>\n",
       "      <td>ST</td>\n",
       "      <td>88.0</td>\n",
       "      <td>€91.2M</td>\n",
       "      <td>42.0</td>\n",
       "    </tr>\n",
       "    <tr>\n",
       "      <th>3</th>\n",
       "      <td>192985</td>\n",
       "      <td>K. De Bruyne</td>\n",
       "      <td>30</td>\n",
       "      <td>https://cdn.sofifa.com/players/192/985/22_60.png</td>\n",
       "      <td>Belgium</td>\n",
       "      <td>https://cdn.sofifa.com/flags/be.png</td>\n",
       "      <td>91</td>\n",
       "      <td>91</td>\n",
       "      <td>Manchester City</td>\n",
       "      <td>https://cdn.sofifa.com/teams/10/30.png</td>\n",
       "      <td>...</td>\n",
       "      <td>53.0</td>\n",
       "      <td>15.0</td>\n",
       "      <td>13.0</td>\n",
       "      <td>5.0</td>\n",
       "      <td>10.0</td>\n",
       "      <td>13.0</td>\n",
       "      <td>CM</td>\n",
       "      <td>91.0</td>\n",
       "      <td>€232.2M</td>\n",
       "      <td>68.0</td>\n",
       "    </tr>\n",
       "    <tr>\n",
       "      <th>4</th>\n",
       "      <td>224334</td>\n",
       "      <td>M. Acuña</td>\n",
       "      <td>29</td>\n",
       "      <td>https://cdn.sofifa.com/players/224/334/22_60.png</td>\n",
       "      <td>Argentina</td>\n",
       "      <td>https://cdn.sofifa.com/flags/ar.png</td>\n",
       "      <td>84</td>\n",
       "      <td>84</td>\n",
       "      <td>Sevilla FC</td>\n",
       "      <td>https://cdn.sofifa.com/teams/481/30.png</td>\n",
       "      <td>...</td>\n",
       "      <td>82.0</td>\n",
       "      <td>8.0</td>\n",
       "      <td>14.0</td>\n",
       "      <td>13.0</td>\n",
       "      <td>13.0</td>\n",
       "      <td>14.0</td>\n",
       "      <td>LB</td>\n",
       "      <td>84.0</td>\n",
       "      <td>€77.7M</td>\n",
       "      <td>80.0</td>\n",
       "    </tr>\n",
       "    <tr>\n",
       "      <th>...</th>\n",
       "      <td>...</td>\n",
       "      <td>...</td>\n",
       "      <td>...</td>\n",
       "      <td>...</td>\n",
       "      <td>...</td>\n",
       "      <td>...</td>\n",
       "      <td>...</td>\n",
       "      <td>...</td>\n",
       "      <td>...</td>\n",
       "      <td>...</td>\n",
       "      <td>...</td>\n",
       "      <td>...</td>\n",
       "      <td>...</td>\n",
       "      <td>...</td>\n",
       "      <td>...</td>\n",
       "      <td>...</td>\n",
       "      <td>...</td>\n",
       "      <td>...</td>\n",
       "      <td>...</td>\n",
       "      <td>...</td>\n",
       "      <td>...</td>\n",
       "    </tr>\n",
       "    <tr>\n",
       "      <th>16703</th>\n",
       "      <td>259718</td>\n",
       "      <td>F. Gebhardt</td>\n",
       "      <td>19</td>\n",
       "      <td>https://cdn.sofifa.com/players/259/718/22_60.png</td>\n",
       "      <td>Germany</td>\n",
       "      <td>https://cdn.sofifa.com/flags/de.png</td>\n",
       "      <td>52</td>\n",
       "      <td>66</td>\n",
       "      <td>FC Basel 1893</td>\n",
       "      <td>https://cdn.sofifa.com/teams/896/30.png</td>\n",
       "      <td>...</td>\n",
       "      <td>10.0</td>\n",
       "      <td>53.0</td>\n",
       "      <td>45.0</td>\n",
       "      <td>47.0</td>\n",
       "      <td>52.0</td>\n",
       "      <td>57.0</td>\n",
       "      <td>GK</td>\n",
       "      <td>52.0</td>\n",
       "      <td>€361K</td>\n",
       "      <td>6.0</td>\n",
       "    </tr>\n",
       "    <tr>\n",
       "      <th>16704</th>\n",
       "      <td>251433</td>\n",
       "      <td>B. Voll</td>\n",
       "      <td>20</td>\n",
       "      <td>https://cdn.sofifa.com/players/251/433/22_60.png</td>\n",
       "      <td>Germany</td>\n",
       "      <td>https://cdn.sofifa.com/flags/de.png</td>\n",
       "      <td>58</td>\n",
       "      <td>69</td>\n",
       "      <td>F.C. Hansa Rostock</td>\n",
       "      <td>https://cdn.sofifa.com/teams/27/30.png</td>\n",
       "      <td>...</td>\n",
       "      <td>10.0</td>\n",
       "      <td>59.0</td>\n",
       "      <td>60.0</td>\n",
       "      <td>56.0</td>\n",
       "      <td>55.0</td>\n",
       "      <td>61.0</td>\n",
       "      <td>GK</td>\n",
       "      <td>58.0</td>\n",
       "      <td>€656K</td>\n",
       "      <td>5.0</td>\n",
       "    </tr>\n",
       "    <tr>\n",
       "      <th>16706</th>\n",
       "      <td>262846</td>\n",
       "      <td>�. Dobre</td>\n",
       "      <td>20</td>\n",
       "      <td>https://cdn.sofifa.com/players/262/846/22_60.png</td>\n",
       "      <td>Romania</td>\n",
       "      <td>https://cdn.sofifa.com/flags/ro.png</td>\n",
       "      <td>53</td>\n",
       "      <td>63</td>\n",
       "      <td>FC Academica Clinceni</td>\n",
       "      <td>https://cdn.sofifa.com/teams/113391/30.png</td>\n",
       "      <td>...</td>\n",
       "      <td>12.0</td>\n",
       "      <td>57.0</td>\n",
       "      <td>52.0</td>\n",
       "      <td>53.0</td>\n",
       "      <td>48.0</td>\n",
       "      <td>58.0</td>\n",
       "      <td>GK</td>\n",
       "      <td>53.0</td>\n",
       "      <td>€279K</td>\n",
       "      <td>5.0</td>\n",
       "    </tr>\n",
       "    <tr>\n",
       "      <th>16707</th>\n",
       "      <td>241317</td>\n",
       "      <td>21 Xue Qinghao</td>\n",
       "      <td>19</td>\n",
       "      <td>https://cdn.sofifa.com/players/241/317/21_60.png</td>\n",
       "      <td>China PR</td>\n",
       "      <td>https://cdn.sofifa.com/flags/cn.png</td>\n",
       "      <td>47</td>\n",
       "      <td>60</td>\n",
       "      <td>Shanghai Shenhua FC</td>\n",
       "      <td>https://cdn.sofifa.com/teams/110955/30.png</td>\n",
       "      <td>...</td>\n",
       "      <td>9.0</td>\n",
       "      <td>49.0</td>\n",
       "      <td>48.0</td>\n",
       "      <td>45.0</td>\n",
       "      <td>38.0</td>\n",
       "      <td>52.0</td>\n",
       "      <td>GK</td>\n",
       "      <td>47.0</td>\n",
       "      <td>€223K</td>\n",
       "      <td>21.0</td>\n",
       "    </tr>\n",
       "    <tr>\n",
       "      <th>16708</th>\n",
       "      <td>259646</td>\n",
       "      <td>A. Shaikh</td>\n",
       "      <td>18</td>\n",
       "      <td>https://cdn.sofifa.com/players/259/646/22_60.png</td>\n",
       "      <td>India</td>\n",
       "      <td>https://cdn.sofifa.com/flags/in.png</td>\n",
       "      <td>47</td>\n",
       "      <td>67</td>\n",
       "      <td>ATK Mohun Bagan FC</td>\n",
       "      <td>https://cdn.sofifa.com/teams/113146/30.png</td>\n",
       "      <td>...</td>\n",
       "      <td>13.0</td>\n",
       "      <td>49.0</td>\n",
       "      <td>41.0</td>\n",
       "      <td>39.0</td>\n",
       "      <td>45.0</td>\n",
       "      <td>49.0</td>\n",
       "      <td>GK</td>\n",
       "      <td>47.0</td>\n",
       "      <td>€259K</td>\n",
       "      <td>7.0</td>\n",
       "    </tr>\n",
       "  </tbody>\n",
       "</table>\n",
       "<p>14398 rows × 63 columns</p>\n",
       "</div>\n",
       "      <button class=\"colab-df-convert\" onclick=\"convertToInteractive('df-de8dfebd-5b56-4850-8ea9-66058cc99d29')\"\n",
       "              title=\"Convert this dataframe to an interactive table.\"\n",
       "              style=\"display:none;\">\n",
       "        \n",
       "  <svg xmlns=\"http://www.w3.org/2000/svg\" height=\"24px\"viewBox=\"0 0 24 24\"\n",
       "       width=\"24px\">\n",
       "    <path d=\"M0 0h24v24H0V0z\" fill=\"none\"/>\n",
       "    <path d=\"M18.56 5.44l.94 2.06.94-2.06 2.06-.94-2.06-.94-.94-2.06-.94 2.06-2.06.94zm-11 1L8.5 8.5l.94-2.06 2.06-.94-2.06-.94L8.5 2.5l-.94 2.06-2.06.94zm10 10l.94 2.06.94-2.06 2.06-.94-2.06-.94-.94-2.06-.94 2.06-2.06.94z\"/><path d=\"M17.41 7.96l-1.37-1.37c-.4-.4-.92-.59-1.43-.59-.52 0-1.04.2-1.43.59L10.3 9.45l-7.72 7.72c-.78.78-.78 2.05 0 2.83L4 21.41c.39.39.9.59 1.41.59.51 0 1.02-.2 1.41-.59l7.78-7.78 2.81-2.81c.8-.78.8-2.07 0-2.86zM5.41 20L4 18.59l7.72-7.72 1.47 1.35L5.41 20z\"/>\n",
       "  </svg>\n",
       "      </button>\n",
       "      \n",
       "  <style>\n",
       "    .colab-df-container {\n",
       "      display:flex;\n",
       "      flex-wrap:wrap;\n",
       "      gap: 12px;\n",
       "    }\n",
       "\n",
       "    .colab-df-convert {\n",
       "      background-color: #E8F0FE;\n",
       "      border: none;\n",
       "      border-radius: 50%;\n",
       "      cursor: pointer;\n",
       "      display: none;\n",
       "      fill: #1967D2;\n",
       "      height: 32px;\n",
       "      padding: 0 0 0 0;\n",
       "      width: 32px;\n",
       "    }\n",
       "\n",
       "    .colab-df-convert:hover {\n",
       "      background-color: #E2EBFA;\n",
       "      box-shadow: 0px 1px 2px rgba(60, 64, 67, 0.3), 0px 1px 3px 1px rgba(60, 64, 67, 0.15);\n",
       "      fill: #174EA6;\n",
       "    }\n",
       "\n",
       "    [theme=dark] .colab-df-convert {\n",
       "      background-color: #3B4455;\n",
       "      fill: #D2E3FC;\n",
       "    }\n",
       "\n",
       "    [theme=dark] .colab-df-convert:hover {\n",
       "      background-color: #434B5C;\n",
       "      box-shadow: 0px 1px 3px 1px rgba(0, 0, 0, 0.15);\n",
       "      filter: drop-shadow(0px 1px 2px rgba(0, 0, 0, 0.3));\n",
       "      fill: #FFFFFF;\n",
       "    }\n",
       "  </style>\n",
       "\n",
       "      <script>\n",
       "        const buttonEl =\n",
       "          document.querySelector('#df-de8dfebd-5b56-4850-8ea9-66058cc99d29 button.colab-df-convert');\n",
       "        buttonEl.style.display =\n",
       "          google.colab.kernel.accessAllowed ? 'block' : 'none';\n",
       "\n",
       "        async function convertToInteractive(key) {\n",
       "          const element = document.querySelector('#df-de8dfebd-5b56-4850-8ea9-66058cc99d29');\n",
       "          const dataTable =\n",
       "            await google.colab.kernel.invokeFunction('convertToInteractive',\n",
       "                                                     [key], {});\n",
       "          if (!dataTable) return;\n",
       "\n",
       "          const docLinkHtml = 'Like what you see? Visit the ' +\n",
       "            '<a target=\"_blank\" href=https://colab.research.google.com/notebooks/data_table.ipynb>data table notebook</a>'\n",
       "            + ' to learn more about interactive tables.';\n",
       "          element.innerHTML = '';\n",
       "          dataTable['output_type'] = 'display_data';\n",
       "          await google.colab.output.renderOutput(dataTable, element);\n",
       "          const docLink = document.createElement('div');\n",
       "          docLink.innerHTML = docLinkHtml;\n",
       "          element.appendChild(docLink);\n",
       "        }\n",
       "      </script>\n",
       "    </div>\n",
       "  </div>\n",
       "  "
      ],
      "text/plain": [
       "           ID             Name  Age  \\\n",
       "0      212198  Bruno Fernandes   26   \n",
       "1      209658      L. Goretzka   26   \n",
       "2      176580        L. Suárez   34   \n",
       "3      192985     K. De Bruyne   30   \n",
       "4      224334         M. Acuña   29   \n",
       "...       ...              ...  ...   \n",
       "16703  259718      F. Gebhardt   19   \n",
       "16704  251433          B. Voll   20   \n",
       "16706  262846         �. Dobre   20   \n",
       "16707  241317   21 Xue Qinghao   19   \n",
       "16708  259646        A. Shaikh   18   \n",
       "\n",
       "                                                  Photo Nationality  \\\n",
       "0      https://cdn.sofifa.com/players/212/198/22_60.png    Portugal   \n",
       "1      https://cdn.sofifa.com/players/209/658/22_60.png     Germany   \n",
       "2      https://cdn.sofifa.com/players/176/580/22_60.png     Uruguay   \n",
       "3      https://cdn.sofifa.com/players/192/985/22_60.png     Belgium   \n",
       "4      https://cdn.sofifa.com/players/224/334/22_60.png   Argentina   \n",
       "...                                                 ...         ...   \n",
       "16703  https://cdn.sofifa.com/players/259/718/22_60.png     Germany   \n",
       "16704  https://cdn.sofifa.com/players/251/433/22_60.png     Germany   \n",
       "16706  https://cdn.sofifa.com/players/262/846/22_60.png     Romania   \n",
       "16707  https://cdn.sofifa.com/players/241/317/21_60.png    China PR   \n",
       "16708  https://cdn.sofifa.com/players/259/646/22_60.png       India   \n",
       "\n",
       "                                      Flag  Overall  Potential  \\\n",
       "0      https://cdn.sofifa.com/flags/pt.png       88         89   \n",
       "1      https://cdn.sofifa.com/flags/de.png       87         88   \n",
       "2      https://cdn.sofifa.com/flags/uy.png       88         88   \n",
       "3      https://cdn.sofifa.com/flags/be.png       91         91   \n",
       "4      https://cdn.sofifa.com/flags/ar.png       84         84   \n",
       "...                                    ...      ...        ...   \n",
       "16703  https://cdn.sofifa.com/flags/de.png       52         66   \n",
       "16704  https://cdn.sofifa.com/flags/de.png       58         69   \n",
       "16706  https://cdn.sofifa.com/flags/ro.png       53         63   \n",
       "16707  https://cdn.sofifa.com/flags/cn.png       47         60   \n",
       "16708  https://cdn.sofifa.com/flags/in.png       47         67   \n",
       "\n",
       "                        Club                                   Club Logo  ...  \\\n",
       "0          Manchester United      https://cdn.sofifa.com/teams/11/30.png  ...   \n",
       "1          FC Bayern München      https://cdn.sofifa.com/teams/21/30.png  ...   \n",
       "2         Atlético de Madrid     https://cdn.sofifa.com/teams/240/30.png  ...   \n",
       "3            Manchester City      https://cdn.sofifa.com/teams/10/30.png  ...   \n",
       "4                 Sevilla FC     https://cdn.sofifa.com/teams/481/30.png  ...   \n",
       "...                      ...                                         ...  ...   \n",
       "16703          FC Basel 1893     https://cdn.sofifa.com/teams/896/30.png  ...   \n",
       "16704     F.C. Hansa Rostock      https://cdn.sofifa.com/teams/27/30.png  ...   \n",
       "16706  FC Academica Clinceni  https://cdn.sofifa.com/teams/113391/30.png  ...   \n",
       "16707    Shanghai Shenhua FC  https://cdn.sofifa.com/teams/110955/30.png  ...   \n",
       "16708     ATK Mohun Bagan FC  https://cdn.sofifa.com/teams/113146/30.png  ...   \n",
       "\n",
       "      SlidingTackle GKDiving  GKHandling GKKicking  GKPositioning  GKReflexes  \\\n",
       "0              65.0     12.0        14.0      15.0            8.0        14.0   \n",
       "1              77.0     13.0         8.0      15.0           11.0         9.0   \n",
       "2              38.0     27.0        25.0      31.0           33.0        37.0   \n",
       "3              53.0     15.0        13.0       5.0           10.0        13.0   \n",
       "4              82.0      8.0        14.0      13.0           13.0        14.0   \n",
       "...             ...      ...         ...       ...            ...         ...   \n",
       "16703          10.0     53.0        45.0      47.0           52.0        57.0   \n",
       "16704          10.0     59.0        60.0      56.0           55.0        61.0   \n",
       "16706          12.0     57.0        52.0      53.0           48.0        58.0   \n",
       "16707           9.0     49.0        48.0      45.0           38.0        52.0   \n",
       "16708          13.0     49.0        41.0      39.0           45.0        49.0   \n",
       "\n",
       "       Best Position Best Overall Rating Release Clause DefensiveAwareness  \n",
       "0                CAM                88.0        €206.9M               72.0  \n",
       "1                 CM                87.0        €160.4M               74.0  \n",
       "2                 ST                88.0         €91.2M               42.0  \n",
       "3                 CM                91.0        €232.2M               68.0  \n",
       "4                 LB                84.0         €77.7M               80.0  \n",
       "...              ...                 ...            ...                ...  \n",
       "16703             GK                52.0          €361K                6.0  \n",
       "16704             GK                58.0          €656K                5.0  \n",
       "16706             GK                53.0          €279K                5.0  \n",
       "16707             GK                47.0          €223K               21.0  \n",
       "16708             GK                47.0          €259K                7.0  \n",
       "\n",
       "[14398 rows x 63 columns]"
      ]
     },
     "execution_count": 19,
     "metadata": {},
     "output_type": "execute_result"
    }
   ],
   "source": [
    "df.iloc[:,map(lambda x: 'Loaned From' != x and 'Marking' != x ,df.columns )].dropna()"
   ]
  },
  {
   "cell_type": "markdown",
   "id": "8d4aacbe-3871-45a0-b844-5a87cd7933a4",
   "metadata": {
    "id": "8d4aacbe-3871-45a0-b844-5a87cd7933a4",
    "tags": []
   },
   "source": [
    "### (d) (c)의 결과에 아래의 코드를 활용하여 `Wage`의 값을 적절하게 변환하라. \n",
    "\n",
    "```python\n",
    "### 코드1 \n",
    "def convert_currency(value):\n",
    "    floatvalue = 0.0\n",
    "    strvalue=\"\"\n",
    "    if \"M\" in value:\n",
    "        strvalue=value.replace(\"M\",\"\").replace(\"€\",\"\")\n",
    "        floatvalue=float(float(strvalue)*1000000)\n",
    "    elif \"K\" in value:\n",
    "        strvalue=value.replace(\"K\",\"\").replace(\"€\",\"\")\n",
    "        floatvalue=float(float(strvalue)*1000)\n",
    "    else:\n",
    "        floatvalue=value.replace(\"€\",\"\")\n",
    "    return floatvalue\n",
    "```\n",
    "- 코드출처: https://www.kaggle.com/talhademirezen/cost-effective-youth-players-fifa22"
   ]
  },
  {
   "cell_type": "code",
   "execution_count": 20,
   "id": "e9fb3efa-e883-42bb-bd25-5967df4dc07d",
   "metadata": {
    "executionInfo": {
     "elapsed": 243,
     "status": "ok",
     "timestamp": 1684136959376,
     "user": {
      "displayName": "이강철",
      "userId": "13507850890638580947"
     },
     "user_tz": -540
    },
    "id": "e9fb3efa-e883-42bb-bd25-5967df4dc07d"
   },
   "outputs": [],
   "source": [
    "def convert_currency(value):\n",
    "    floatvalue = 0.0\n",
    "    strvalue=\"\"\n",
    "    if \"M\" in value:\n",
    "        strvalue=value.replace(\"M\",\"\").replace(\"€\",\"\")\n",
    "        floatvalue=float(float(strvalue)*1000000)\n",
    "    elif \"K\" in value:\n",
    "        strvalue=value.replace(\"K\",\"\").replace(\"€\",\"\")\n",
    "        floatvalue=float(float(strvalue)*1000)\n",
    "    else:\n",
    "        floatvalue=value.replace(\"€\",\"\")\n",
    "    return floatvalue"
   ]
  },
  {
   "cell_type": "code",
   "execution_count": 21,
   "id": "1fc673f2-3e8a-4cd1-a3b4-4a01f2f4f7c5",
   "metadata": {
    "executionInfo": {
     "elapsed": 333,
     "status": "ok",
     "timestamp": 1684136961591,
     "user": {
      "displayName": "이강철",
      "userId": "13507850890638580947"
     },
     "user_tz": -540
    },
    "id": "1fc673f2-3e8a-4cd1-a3b4-4a01f2f4f7c5"
   },
   "outputs": [],
   "source": [
    "df=df.iloc[:,map(lambda x: 'Loaned From' != x and 'Marking' != x ,df.columns )].dropna()\n",
    "df['Wage']=list(map(convert_currency,df.Wage))"
   ]
  },
  {
   "cell_type": "markdown",
   "id": "91bc8847-ab0f-4bbc-8633-ff2292d5b320",
   "metadata": {
    "id": "91bc8847-ab0f-4bbc-8633-ff2292d5b320"
   },
   "source": [
    "### (e) 아래의 세부사항에 맞춰서 `Best Position`에 따른 시장가치(`Value`)의 평균을 barplot을 이용하여 시각화 하라. "
   ]
  },
  {
   "cell_type": "markdown",
   "id": "152a50e5-7c9e-48d0-aa5a-0f83d0ca895a",
   "metadata": {
    "id": "152a50e5-7c9e-48d0-aa5a-0f83d0ca895a"
   },
   "source": [
    "- x축을 `Best Position`으로 하고 y축은 `Value`의 평균으로 할 것\n",
    "- `Value`가 가장 높은 3개의 포지션을 다른색으로 하이라이팅 할 것"
   ]
  },
  {
   "cell_type": "markdown",
   "id": "97bb20d2-30bd-456c-a55b-ea6230ba02fb",
   "metadata": {
    "id": "97bb20d2-30bd-456c-a55b-ea6230ba02fb"
   },
   "source": [
    "***시각화예시***"
   ]
  },
  {
   "cell_type": "code",
   "execution_count": 22,
   "id": "678ccc52-e803-48f7-aefc-e8308371b4a5",
   "metadata": {
    "executionInfo": {
     "elapsed": 289,
     "status": "ok",
     "timestamp": 1684136978182,
     "user": {
      "displayName": "이강철",
      "userId": "13507850890638580947"
     },
     "user_tz": -540
    },
    "id": "678ccc52-e803-48f7-aefc-e8308371b4a5"
   },
   "outputs": [],
   "source": [
    "df['Value']=list(map(convert_currency,df.Value))"
   ]
  },
  {
   "cell_type": "code",
   "execution_count": 23,
   "id": "a57a7a71-ccc1-4fb1-9307-d5ce12834f7e",
   "metadata": {
    "executionInfo": {
     "elapsed": 3,
     "status": "ok",
     "timestamp": 1684136979437,
     "user": {
      "displayName": "이강철",
      "userId": "13507850890638580947"
     },
     "user_tz": -540
    },
    "id": "a57a7a71-ccc1-4fb1-9307-d5ce12834f7e"
   },
   "outputs": [],
   "source": [
    "import numpy as np"
   ]
  },
  {
   "cell_type": "code",
   "execution_count": 24,
   "id": "e14df3c9-dbde-4adc-86ea-fb5b86328bc5",
   "metadata": {
    "colab": {
     "base_uri": "https://localhost:8080/",
     "height": 519
    },
    "executionInfo": {
     "elapsed": 409,
     "status": "ok",
     "timestamp": 1684136983073,
     "user": {
      "displayName": "이강철",
      "userId": "13507850890638580947"
     },
     "user_tz": -540
    },
    "id": "e14df3c9-dbde-4adc-86ea-fb5b86328bc5",
    "outputId": "cf65f680-5e39-449b-803c-c1113bee54fb"
   },
   "outputs": [
    {
     "data": {
      "text/html": [
       "\n",
       "  <div id=\"df-c8180389-e814-4a2d-9ce5-e3c06d8a4af0\">\n",
       "    <div class=\"colab-df-container\">\n",
       "      <div>\n",
       "<style scoped>\n",
       "    .dataframe tbody tr th:only-of-type {\n",
       "        vertical-align: middle;\n",
       "    }\n",
       "\n",
       "    .dataframe tbody tr th {\n",
       "        vertical-align: top;\n",
       "    }\n",
       "\n",
       "    .dataframe thead th {\n",
       "        text-align: right;\n",
       "    }\n",
       "</style>\n",
       "<table border=\"1\" class=\"dataframe\">\n",
       "  <thead>\n",
       "    <tr style=\"text-align: right;\">\n",
       "      <th></th>\n",
       "      <th>Best Position</th>\n",
       "      <th>mean(Value)</th>\n",
       "      <th>Highlight</th>\n",
       "    </tr>\n",
       "  </thead>\n",
       "  <tbody>\n",
       "    <tr>\n",
       "      <th>0</th>\n",
       "      <td>CF</td>\n",
       "      <td>9.122222e+06</td>\n",
       "      <td>True</td>\n",
       "    </tr>\n",
       "    <tr>\n",
       "      <th>1</th>\n",
       "      <td>LW</td>\n",
       "      <td>6.443137e+06</td>\n",
       "      <td>True</td>\n",
       "    </tr>\n",
       "    <tr>\n",
       "      <th>2</th>\n",
       "      <td>CM</td>\n",
       "      <td>5.630414e+06</td>\n",
       "      <td>True</td>\n",
       "    </tr>\n",
       "    <tr>\n",
       "      <th>3</th>\n",
       "      <td>CAM</td>\n",
       "      <td>4.356162e+06</td>\n",
       "      <td>False</td>\n",
       "    </tr>\n",
       "    <tr>\n",
       "      <th>4</th>\n",
       "      <td>RW</td>\n",
       "      <td>3.977832e+06</td>\n",
       "      <td>False</td>\n",
       "    </tr>\n",
       "    <tr>\n",
       "      <th>5</th>\n",
       "      <td>CDM</td>\n",
       "      <td>3.539740e+06</td>\n",
       "      <td>False</td>\n",
       "    </tr>\n",
       "    <tr>\n",
       "      <th>6</th>\n",
       "      <td>LWB</td>\n",
       "      <td>3.451340e+06</td>\n",
       "      <td>False</td>\n",
       "    </tr>\n",
       "    <tr>\n",
       "      <th>7</th>\n",
       "      <td>LM</td>\n",
       "      <td>3.439977e+06</td>\n",
       "      <td>False</td>\n",
       "    </tr>\n",
       "    <tr>\n",
       "      <th>8</th>\n",
       "      <td>ST</td>\n",
       "      <td>3.295080e+06</td>\n",
       "      <td>False</td>\n",
       "    </tr>\n",
       "    <tr>\n",
       "      <th>9</th>\n",
       "      <td>RB</td>\n",
       "      <td>3.203283e+06</td>\n",
       "      <td>False</td>\n",
       "    </tr>\n",
       "    <tr>\n",
       "      <th>10</th>\n",
       "      <td>LB</td>\n",
       "      <td>3.051887e+06</td>\n",
       "      <td>False</td>\n",
       "    </tr>\n",
       "    <tr>\n",
       "      <th>11</th>\n",
       "      <td>CB</td>\n",
       "      <td>3.038834e+06</td>\n",
       "      <td>False</td>\n",
       "    </tr>\n",
       "    <tr>\n",
       "      <th>12</th>\n",
       "      <td>RWB</td>\n",
       "      <td>3.023522e+06</td>\n",
       "      <td>False</td>\n",
       "    </tr>\n",
       "    <tr>\n",
       "      <th>13</th>\n",
       "      <td>GK</td>\n",
       "      <td>2.703686e+06</td>\n",
       "      <td>False</td>\n",
       "    </tr>\n",
       "    <tr>\n",
       "      <th>14</th>\n",
       "      <td>RM</td>\n",
       "      <td>2.550153e+06</td>\n",
       "      <td>False</td>\n",
       "    </tr>\n",
       "  </tbody>\n",
       "</table>\n",
       "</div>\n",
       "      <button class=\"colab-df-convert\" onclick=\"convertToInteractive('df-c8180389-e814-4a2d-9ce5-e3c06d8a4af0')\"\n",
       "              title=\"Convert this dataframe to an interactive table.\"\n",
       "              style=\"display:none;\">\n",
       "        \n",
       "  <svg xmlns=\"http://www.w3.org/2000/svg\" height=\"24px\"viewBox=\"0 0 24 24\"\n",
       "       width=\"24px\">\n",
       "    <path d=\"M0 0h24v24H0V0z\" fill=\"none\"/>\n",
       "    <path d=\"M18.56 5.44l.94 2.06.94-2.06 2.06-.94-2.06-.94-.94-2.06-.94 2.06-2.06.94zm-11 1L8.5 8.5l.94-2.06 2.06-.94-2.06-.94L8.5 2.5l-.94 2.06-2.06.94zm10 10l.94 2.06.94-2.06 2.06-.94-2.06-.94-.94-2.06-.94 2.06-2.06.94z\"/><path d=\"M17.41 7.96l-1.37-1.37c-.4-.4-.92-.59-1.43-.59-.52 0-1.04.2-1.43.59L10.3 9.45l-7.72 7.72c-.78.78-.78 2.05 0 2.83L4 21.41c.39.39.9.59 1.41.59.51 0 1.02-.2 1.41-.59l7.78-7.78 2.81-2.81c.8-.78.8-2.07 0-2.86zM5.41 20L4 18.59l7.72-7.72 1.47 1.35L5.41 20z\"/>\n",
       "  </svg>\n",
       "      </button>\n",
       "      \n",
       "  <style>\n",
       "    .colab-df-container {\n",
       "      display:flex;\n",
       "      flex-wrap:wrap;\n",
       "      gap: 12px;\n",
       "    }\n",
       "\n",
       "    .colab-df-convert {\n",
       "      background-color: #E8F0FE;\n",
       "      border: none;\n",
       "      border-radius: 50%;\n",
       "      cursor: pointer;\n",
       "      display: none;\n",
       "      fill: #1967D2;\n",
       "      height: 32px;\n",
       "      padding: 0 0 0 0;\n",
       "      width: 32px;\n",
       "    }\n",
       "\n",
       "    .colab-df-convert:hover {\n",
       "      background-color: #E2EBFA;\n",
       "      box-shadow: 0px 1px 2px rgba(60, 64, 67, 0.3), 0px 1px 3px 1px rgba(60, 64, 67, 0.15);\n",
       "      fill: #174EA6;\n",
       "    }\n",
       "\n",
       "    [theme=dark] .colab-df-convert {\n",
       "      background-color: #3B4455;\n",
       "      fill: #D2E3FC;\n",
       "    }\n",
       "\n",
       "    [theme=dark] .colab-df-convert:hover {\n",
       "      background-color: #434B5C;\n",
       "      box-shadow: 0px 1px 3px 1px rgba(0, 0, 0, 0.15);\n",
       "      filter: drop-shadow(0px 1px 2px rgba(0, 0, 0, 0.3));\n",
       "      fill: #FFFFFF;\n",
       "    }\n",
       "  </style>\n",
       "\n",
       "      <script>\n",
       "        const buttonEl =\n",
       "          document.querySelector('#df-c8180389-e814-4a2d-9ce5-e3c06d8a4af0 button.colab-df-convert');\n",
       "        buttonEl.style.display =\n",
       "          google.colab.kernel.accessAllowed ? 'block' : 'none';\n",
       "\n",
       "        async function convertToInteractive(key) {\n",
       "          const element = document.querySelector('#df-c8180389-e814-4a2d-9ce5-e3c06d8a4af0');\n",
       "          const dataTable =\n",
       "            await google.colab.kernel.invokeFunction('convertToInteractive',\n",
       "                                                     [key], {});\n",
       "          if (!dataTable) return;\n",
       "\n",
       "          const docLinkHtml = 'Like what you see? Visit the ' +\n",
       "            '<a target=\"_blank\" href=https://colab.research.google.com/notebooks/data_table.ipynb>data table notebook</a>'\n",
       "            + ' to learn more about interactive tables.';\n",
       "          element.innerHTML = '';\n",
       "          dataTable['output_type'] = 'display_data';\n",
       "          await google.colab.output.renderOutput(dataTable, element);\n",
       "          const docLink = document.createElement('div');\n",
       "          docLink.innerHTML = docLinkHtml;\n",
       "          element.appendChild(docLink);\n",
       "        }\n",
       "      </script>\n",
       "    </div>\n",
       "  </div>\n",
       "  "
      ],
      "text/plain": [
       "   Best Position   mean(Value)  Highlight\n",
       "0             CF  9.122222e+06       True\n",
       "1             LW  6.443137e+06       True\n",
       "2             CM  5.630414e+06       True\n",
       "3            CAM  4.356162e+06      False\n",
       "4             RW  3.977832e+06      False\n",
       "5            CDM  3.539740e+06      False\n",
       "6            LWB  3.451340e+06      False\n",
       "7             LM  3.439977e+06      False\n",
       "8             ST  3.295080e+06      False\n",
       "9             RB  3.203283e+06      False\n",
       "10            LB  3.051887e+06      False\n",
       "11            CB  3.038834e+06      False\n",
       "12           RWB  3.023522e+06      False\n",
       "13            GK  2.703686e+06      False\n",
       "14            RM  2.550153e+06      False"
      ]
     },
     "execution_count": 24,
     "metadata": {},
     "output_type": "execute_result"
    }
   ],
   "source": [
    "_df=df.groupby('Best Position').agg({'Value':np.mean})\\\n",
    ".rename(columns={'Value':'mean(Value)'})\\\n",
    ".sort_values('mean(Value)',ascending=False)\\\n",
    ".reset_index()\n",
    "_df['Highlight']=_df['mean(Value)']>=_df['mean(Value)'][2]\n",
    "_df"
   ]
  },
  {
   "cell_type": "code",
   "execution_count": 25,
   "id": "ad527320-4685-498a-a042-c2fe20b6d169",
   "metadata": {
    "executionInfo": {
     "elapsed": 631,
     "status": "ok",
     "timestamp": 1684136988448,
     "user": {
      "displayName": "이강철",
      "userId": "13507850890638580947"
     },
     "user_tz": -540
    },
    "id": "ad527320-4685-498a-a042-c2fe20b6d169"
   },
   "outputs": [],
   "source": [
    "from plotnine import *"
   ]
  },
  {
   "cell_type": "code",
   "execution_count": 26,
   "id": "0a116e03-d06b-4fa8-9c15-273f1e0e8f88",
   "metadata": {
    "colab": {
     "base_uri": "https://localhost:8080/",
     "height": 425
    },
    "executionInfo": {
     "elapsed": 639,
     "status": "ok",
     "timestamp": 1684137017195,
     "user": {
      "displayName": "이강철",
      "userId": "13507850890638580947"
     },
     "user_tz": -540
    },
    "id": "0a116e03-d06b-4fa8-9c15-273f1e0e8f88",
    "outputId": "2522dab8-186c-4f86-b923-509033da3ae6"
   },
   "outputs": [
    {
     "data": {
      "image/png": "[encoded data removed]",
      "text/plain": [
       "<Figure size 640x480 with 1 Axes>"
      ]
     },
     "metadata": {},
     "output_type": "display_data"
    },
    {
     "data": {
      "text/plain": [
       "<ggplot: (8787037455895)>"
      ]
     },
     "execution_count": 26,
     "metadata": {},
     "output_type": "execute_result"
    }
   ],
   "source": [
    "(\n",
    "  ggplot(_df)\\\n",
    "    + geom_bar(aes(x='Best Position',y='mean(Value)',fill='Highlight'),stat='identity')\n",
    ")"
   ]
  },
  {
   "cell_type": "markdown",
   "id": "9fb0d622-d957-4fec-9206-ad19351fd0e2",
   "metadata": {
    "id": "9fb0d622-d957-4fec-9206-ad19351fd0e2"
   },
   "source": [
    "### (f) 아래의 세부사항에 맞추어 (`Dribbling`,`SlidingTackle`)의 산점도를 그려라. "
   ]
  },
  {
   "cell_type": "markdown",
   "id": "637de295-d29a-4225-a1b9-e004b83fbb31",
   "metadata": {
    "id": "637de295-d29a-4225-a1b9-e004b83fbb31"
   },
   "source": [
    "***세부사항***\n",
    "\n",
    "(i) `Best Position`의 값을 바탕으로 면분할을 하라. \n",
    "\n",
    "(ii) `Age`를 색으로 표현하라. \n",
    "\n",
    "(iii) 산점도의 투명도는 `alpha=0.5`로 `size=0.5`로 설정할 것."
   ]
  },
  {
   "cell_type": "code",
   "execution_count": 27,
   "id": "5c238714-ffbf-42a9-8c2a-6b28aa6084d2",
   "metadata": {
    "colab": {
     "base_uri": "https://localhost:8080/",
     "height": 476
    },
    "executionInfo": {
     "elapsed": 2799,
     "status": "ok",
     "timestamp": 1684137049613,
     "user": {
      "displayName": "이강철",
      "userId": "13507850890638580947"
     },
     "user_tz": -540
    },
    "id": "5c238714-ffbf-42a9-8c2a-6b28aa6084d2",
    "outputId": "4282094c-ad80-4d47-c2a8-10352b4f3feb"
   },
   "outputs": [
    {
     "data": {
      "image/png": "[encoded data removed]",
      "text/plain": [
       "<Figure size 640x480 with 15 Axes>"
      ]
     },
     "metadata": {},
     "output_type": "display_data"
    },
    {
     "data": {
      "text/plain": [
       "<ggplot: (8787037504353)>"
      ]
     },
     "execution_count": 27,
     "metadata": {},
     "output_type": "execute_result"
    }
   ],
   "source": [
    "ggplot(df)\\\n",
    "+geom_point(aes(x='Dribbling',y='SlidingTackle',color='Age'),alpha=0.5,size=0.5)\\\n",
    "+facet_wrap('Best Position')"
   ]
  },
  {
   "cell_type": "markdown",
   "id": "45ccb8eb-a70f-4c2d-ab97-363b4ca14f19",
   "metadata": {
    "id": "45ccb8eb-a70f-4c2d-ab97-363b4ca14f19"
   },
   "source": [
    "### (g) (f)의 그림을 올바르게 해석한 사람은? "
   ]
  },
  {
   "cell_type": "markdown",
   "id": "da2309bf-634b-4c17-9a92-2cbe01b010c0",
   "metadata": {
    "id": "da2309bf-634b-4c17-9a92-2cbe01b010c0"
   },
   "source": [
    "(하니) 포지션 `GK`에 있는 선수는 `Dribbling`, `SlidingTackle` 값이 다른포지션대비 상대적으로 낮다. \n",
    "\n",
    "(나애리) 모든 포지션에서 `Dribbling`, `SlidingTackle`은 서로 독립이라 볼 수 있다. \n",
    "\n",
    "(홍두깨) 포지션 `CAM`은 나이와 `Dribbling` 사이에 양의 상관관계에 있다.  \n",
    "\n",
    "(고은애) 포지션 `CB`은 나이와 `Dribbling` 사이에 상관계수가 거의 0이다. "
   ]
  },
  {
   "cell_type": "markdown",
   "id": "NTjkjBhCZDcB",
   "metadata": {
    "id": "NTjkjBhCZDcB"
   },
   "source": [
    "#### Sol\n",
    " "
   ]
  },
  {
   "cell_type": "markdown",
   "id": "WdxCGwxFZIfv",
   "metadata": {
    "id": "WdxCGwxFZIfv"
   },
   "source": [
    "하니, 홍두깨, 고은애"
   ]
  },
  {
   "cell_type": "markdown",
   "id": "d208219c-758d-439a-b2c2-604c7d909a85",
   "metadata": {
    "id": "d208219c-758d-439a-b2c2-604c7d909a85"
   },
   "source": [
    "### (h) `Best Position`이 \"CAM\" 혹은 \"CB\"인 플레이어만 골라서 (`Dribbling`,`SlidingTackle`)의 산점도를 그려라. "
   ]
  },
  {
   "cell_type": "markdown",
   "id": "bacd3199-99ef-43e0-bf89-4b2c3401e890",
   "metadata": {
    "id": "bacd3199-99ef-43e0-bf89-4b2c3401e890"
   },
   "source": [
    "***세부사항*** \n",
    "\n",
    "- x축: Dribbling, y축: SlidingTackle 로 설정\n",
    "- Value에 따라 점의 크기를 다르게 설정 \n",
    "- 나이에 따라 색깔을 다르게 설정 "
   ]
  },
  {
   "cell_type": "markdown",
   "id": "8001e091-7dc7-4c70-b97a-3cab4757a81b",
   "metadata": {
    "id": "8001e091-7dc7-4c70-b97a-3cab4757a81b"
   },
   "source": [
    "***시각화예시***"
   ]
  },
  {
   "cell_type": "code",
   "execution_count": 28,
   "id": "ee2430ff-8738-4f01-a1c6-ccc3843d38a8",
   "metadata": {
    "colab": {
     "base_uri": "https://localhost:8080/",
     "height": 452
    },
    "executionInfo": {
     "elapsed": 906,
     "status": "ok",
     "timestamp": 1684137333188,
     "user": {
      "displayName": "이강철",
      "userId": "13507850890638580947"
     },
     "user_tz": -540
    },
    "id": "ee2430ff-8738-4f01-a1c6-ccc3843d38a8",
    "outputId": "1ececba2-6869-44aa-c63d-dca8720249d8"
   },
   "outputs": [
    {
     "data": {
      "image/png": "[encoded data removed]",
      "text/plain": [
       "<Figure size 640x480 with 2 Axes>"
      ]
     },
     "metadata": {},
     "output_type": "display_data"
    },
    {
     "data": {
      "text/plain": [
       "<ggplot: (8787037463105)>"
      ]
     },
     "execution_count": 28,
     "metadata": {},
     "output_type": "execute_result"
    }
   ],
   "source": [
    "ggplot(df.loc[(df['Best Position']=='CAM') |(df['Best Position']=='CB')])\\\n",
    "+geom_point(aes(x='Dribbling',y='SlidingTackle',color='Age',size='Value'),alpha=0.5)\\\n",
    "+facet_wrap('Best Position')"
   ]
  },
  {
   "cell_type": "markdown",
   "id": "e0b6b21f-0244-47db-9eb0-788f9bc11f6c",
   "metadata": {
    "id": "e0b6b21f-0244-47db-9eb0-788f9bc11f6c"
   },
   "source": [
    "### (i) 그림 (h)를 올바르게 해석한것을 모두 고르라. "
   ]
  },
  {
   "cell_type": "markdown",
   "id": "a8fecfd5-4206-4cf0-8527-985a99e1fe96",
   "metadata": {
    "id": "a8fecfd5-4206-4cf0-8527-985a99e1fe96"
   },
   "source": [
    "(하니) `AGE`와 `Value`는 양의 상관관계에 있다. \n",
    "\n",
    "(나애리) 따라서 축구선수는 `AGE`가 증가함 따라 `Value`가 올라가는 것을 알 수 있다. 즉 `AGE`와 `Value`사이에는 인과성이 있다. \n",
    "\n",
    "(홍두깨) 포지션 `CAM`은 `Dribbiling` 능력과 `Value`가 양의 상관관계에 있어보인다. \n",
    "\n",
    "(고은애) 반면에 포지션 `CB`는 `Dribbling` 능력보다는 `SlidingTackle`이 `Value`와 양의 상관관계에 있다고 볼 수 있다. "
   ]
  },
  {
   "cell_type": "markdown",
   "id": "ic1Q_hW3aJ83",
   "metadata": {
    "id": "ic1Q_hW3aJ83"
   },
   "source": [
    "#### Sol"
   ]
  },
  {
   "cell_type": "markdown",
   "id": "ahCfeRfeaLdo",
   "metadata": {
    "id": "ahCfeRfeaLdo"
   },
   "source": [
    "하니, 홍두깨, 고은애"
   ]
  },
  {
   "cell_type": "markdown",
   "id": "a05eaf76-e23b-47ef-930a-93dd4bf7c2fb",
   "metadata": {
    "id": "a05eaf76-e23b-47ef-930a-93dd4bf7c2fb"
   },
   "source": [
    "## `6`. 하니의 산책경로 (40점)"
   ]
  },
  {
   "cell_type": "markdown",
   "id": "75ec8ea7-718b-4147-bdcd-d06cd190be6e",
   "metadata": {
    "id": "75ec8ea7-718b-4147-bdcd-d06cd190be6e"
   },
   "source": [
    "공원에서 뛰는것을 좋아하는 강아지 하니가 있다. 아래는 강아지 하니가 주인과 함께 공원을 산책한 경로이다. 산책코스는 아래와 같이 집에서 공원으로 가는 A코스와 공원에서 집으로 오는 B코스로 나누어진다.  \n",
    "\n",
    "`-` A코스: 집 $\\to$ 카페 $\\to$ 초등학교 정문  $\\to$ 공원\n",
    "\n",
    "`-` B코스: 공원 $\\to$ 초등학교 후문 $\\to$ 동물병원 $\\to$ 집 \n",
    "\n",
    "각 위치의 좌표는 아래와 같다. \n",
    "\n",
    "- 집: (0,0)\n",
    "- 카페: (1,2) \n",
    "- 초등학교 정문: (4,3)\n",
    "- 공원: (5,5)\n",
    "- 초등학교 후문: (4.1,3)\n",
    "- 동물병원: (1,0.5)\n",
    "\n",
    "집에서 출발시에 하니의 체력은 100이며, 각 중간지점에서 하니의 체력은 이동거리에 비례하여 감소한다고 하자. 예를들어 A코스-카페에서 하니의 체력은 아래와 같이 계산할 수 있다. \n",
    "\n",
    "- $100- \\sqrt{1^2+2^2}$\n",
    "\n",
    "또한 하니는 공원정문에서 달리기를 시작하였고 이후에 70의 체력을 소진한뒤 공원후문에 도착하였다고 하자. (즉 공원정문에서하니의 체력이 $x$ 라면 공원후문에서 하니의 체력은 $x-60$ 이다.) \n",
    "\n",
    "하니의 이동경로에 따른 체력의 변화를 시각화 하라. "
   ]
  },
  {
   "cell_type": "markdown",
   "id": "a54cede8-ce82-4ce6-952a-9c1d13875d6a",
   "metadata": {
    "id": "a54cede8-ce82-4ce6-952a-9c1d13875d6a"
   },
   "source": [
    "(풀이) "
   ]
  },
  {
   "cell_type": "code",
   "execution_count": 34,
   "id": "52e9ab36-8384-43d0-bede-f46a1a4d1d11",
   "metadata": {
    "executionInfo": {
     "elapsed": 3,
     "status": "ok",
     "timestamp": 1684138207686,
     "user": {
      "displayName": "이강철",
      "userId": "13507850890638580947"
     },
     "user_tz": -540
    },
    "id": "52e9ab36-8384-43d0-bede-f46a1a4d1d11"
   },
   "outputs": [],
   "source": [
    "x=[0, 1, 4, 5,  5, 4.1, 1, 0] \n",
    "y=[0, 2, 3, 5,  5, 3, 0.5, 0] \n",
    "course=['A']*4 + ['B']*4 \n",
    "_delta = [np.sqrt((x[i]-x[i-1])**2 + (y[i]-y[i-1])**2) for i in range(len(x))]\n",
    "stamina = np.array([100,100,100,100, 40, 40, 40, 40]) - [sum(_delta[:(i+1)]) for i in range(8)]"
   ]
  },
  {
   "cell_type": "code",
   "execution_count": 35,
   "id": "7364c07a-2009-44f0-82d6-840678f7bfb5",
   "metadata": {
    "colab": {
     "base_uri": "https://localhost:8080/",
     "height": 457
    },
    "executionInfo": {
     "elapsed": 1120,
     "status": "ok",
     "timestamp": 1684138211185,
     "user": {
      "displayName": "이강철",
      "userId": "13507850890638580947"
     },
     "user_tz": -540
    },
    "id": "7364c07a-2009-44f0-82d6-840678f7bfb5",
    "outputId": "ea02c4be-aa3c-4397-c00a-640e6d3520fd"
   },
   "outputs": [
    {
     "data": {
      "image/png": "[encoded data removed]",
      "text/plain": [
       "<Figure size 640x480 with 1 Axes>"
      ]
     },
     "metadata": {},
     "output_type": "display_data"
    },
    {
     "data": {
      "text/plain": [
       "<ggplot: (8787037463066)>"
      ]
     },
     "execution_count": 35,
     "metadata": {},
     "output_type": "execute_result"
    }
   ],
   "source": [
    "ggplot(pd.DataFrame({'x':x, 'y':y, 'course':course, 'stamina':stamina}))+\\\n",
    "geom_point(aes(x='x',y='y'))+\\\n",
    "geom_line(aes(x='x',y='y',size='stamina',color='course'))"
   ]
  },
  {
   "cell_type": "markdown",
   "id": "3d900792-18f0-4248-a2b1-ff12c0debb0f",
   "metadata": {
    "id": "3d900792-18f0-4248-a2b1-ff12c0debb0f"
   },
   "source": [
    "## `7`. 빈칸에 적절한 값을 채워 심슨의 역설을 설명하는 예제를 완성하고 시각화 하라. (30점)"
   ]
  },
  {
   "cell_type": "markdown",
   "id": "3f89815b-b2d2-4d26-8f03-30ad899a43d6",
   "metadata": {
    "id": "3f89815b-b2d2-4d26-8f03-30ad899a43d6"
   },
   "source": [
    "다음은 농구선수 A,B의 시즌별 자유투 성공률이다. "
   ]
  },
  {
   "cell_type": "markdown",
   "id": "143a54cc-852c-41e3-a70e-3626984bc315",
   "metadata": {
    "id": "143a54cc-852c-41e3-a70e-3626984bc315"
   },
   "source": [
    "| |시즌1|시즌2|\n",
    "|:-:|:-:|:-:|\n",
    "|A선수|7/10|?|\n",
    "|B선수|?|4/4|\n",
    "* 표안의 값은 성공횟수/총자유투시도 "
   ]
  },
  {
   "cell_type": "markdown",
   "id": "b5b27c1b-0169-488f-b161-fdc09feaa809",
   "metadata": {
    "id": "b5b27c1b-0169-488f-b161-fdc09feaa809"
   },
   "source": [
    "?에 적절한 값을 채워 시즌 1,2 모두 B선수의 자유투 성공률이 높지만 시즌1-2를 전체 합치면 A선수의 자유투 성공률이 더 높도록 하라. (즉 ?에 적절한 값을 채워 심슨의 역설을 설명하기 위한 자료를 구성하라.) \n",
    "\n",
    "만들어진 자료를 바탕으로 심슨의 역설을 시각화하라. (즉 시즌 1,2의 자유투 성공률과 전체 자유투 성공률을 barplot으로 시각화하라) "
   ]
  },
  {
   "cell_type": "markdown",
   "id": "yqhvvHMPde7A",
   "metadata": {
    "id": "yqhvvHMPde7A"
   },
   "source": [
    "### Sol"
   ]
  },
  {
   "cell_type": "code",
   "execution_count": 67,
   "id": "qhf0UEXEdhSz",
   "metadata": {
    "executionInfo": {
     "elapsed": 2,
     "status": "ok",
     "timestamp": 1684139191034,
     "user": {
      "displayName": "이강철",
      "userId": "13507850890638580947"
     },
     "user_tz": -540
    },
    "id": "qhf0UEXEdhSz"
   },
   "outputs": [],
   "source": [
    "s1 = [7,999999,8,4]\n",
    "s2 = [10,1000000,10,4]\n",
    "player = [\"A\",\"A\",\"B\",\"B\"]"
   ]
  },
  {
   "cell_type": "code",
   "execution_count": 69,
   "id": "Q7yGi6NgfVcJ",
   "metadata": {
    "executionInfo": {
     "elapsed": 3,
     "status": "ok",
     "timestamp": 1684139194485,
     "user": {
      "displayName": "이강철",
      "userId": "13507850890638580947"
     },
     "user_tz": -540
    },
    "id": "Q7yGi6NgfVcJ"
   },
   "outputs": [],
   "source": [
    "total_A = [s2[0] + s2[1]]*2 ## A가 총 던진횟수\n",
    "total_B = [s2[2] + s2[3]]*2 ## B가 총 던진횟수\n",
    "\n",
    "total  = total_A + total_B"
   ]
  },
  {
   "cell_type": "code",
   "execution_count": 78,
   "id": "fwAiom1mh2vE",
   "metadata": {
    "colab": {
     "base_uri": "https://localhost:8080/"
    },
    "executionInfo": {
     "elapsed": 3,
     "status": "ok",
     "timestamp": 1684139374288,
     "user": {
      "displayName": "이강철",
      "userId": "13507850890638580947"
     },
     "user_tz": -540
    },
    "id": "fwAiom1mh2vE",
    "outputId": "e86db0a3-e570-4516-ada5-82f65dbca3c1"
   },
   "outputs": [
    {
     "data": {
      "text/plain": [
       "[1000010, 1000010, 14, 14]"
      ]
     },
     "execution_count": 78,
     "metadata": {},
     "output_type": "execute_result"
    }
   ],
   "source": [
    "total"
   ]
  },
  {
   "cell_type": "code",
   "execution_count": 84,
   "id": "YmD3TscngCJw",
   "metadata": {
    "executionInfo": {
     "elapsed": 3,
     "status": "ok",
     "timestamp": 1684139548025,
     "user": {
      "displayName": "이강철",
      "userId": "13507850890638580947"
     },
     "user_tz": -540
    },
    "id": "YmD3TscngCJw"
   },
   "outputs": [],
   "source": [
    "seson_prob = [ s1[i]/s2[i]  for i in range(len(total))]\n",
    "\n",
    "total_prob1 = [((s1[0] + s1[1])/total[0])]*2\n",
    "total_prob2 = [((s1[2] + s1[3])/total[2])]*2\n",
    "total_prob = total_prob1 + total_prob2"
   ]
  },
  {
   "cell_type": "code",
   "execution_count": 86,
   "id": "ClNiqtdqirRF",
   "metadata": {
    "colab": {
     "base_uri": "https://localhost:8080/"
    },
    "executionInfo": {
     "elapsed": 3,
     "status": "ok",
     "timestamp": 1684139594386,
     "user": {
      "displayName": "이강철",
      "userId": "13507850890638580947"
     },
     "user_tz": -540
    },
    "id": "ClNiqtdqirRF",
    "outputId": "350cdea5-1536-4d29-a69c-1b60c3b9ee39"
   },
   "outputs": [
    {
     "data": {
      "text/plain": [
       "['A', 'A', 'B', 'B']"
      ]
     },
     "execution_count": 86,
     "metadata": {},
     "output_type": "execute_result"
    }
   ],
   "source": [
    "player"
   ]
  },
  {
   "cell_type": "code",
   "execution_count": 88,
   "id": "jTZ_V7jEiti5",
   "metadata": {
    "colab": {
     "base_uri": "https://localhost:8080/"
    },
    "executionInfo": {
     "elapsed": 2,
     "status": "ok",
     "timestamp": 1684139602514,
     "user": {
      "displayName": "이강철",
      "userId": "13507850890638580947"
     },
     "user_tz": -540
    },
    "id": "jTZ_V7jEiti5",
    "outputId": "7bbcb29b-a1fc-425f-dd9d-0e883084ff99"
   },
   "outputs": [
    {
     "data": {
      "text/plain": [
       "[0.7, 0.999999, 0.8, 1.0]"
      ]
     },
     "execution_count": 88,
     "metadata": {},
     "output_type": "execute_result"
    }
   ],
   "source": [
    "seson_prob"
   ]
  },
  {
   "cell_type": "code",
   "execution_count": 91,
   "id": "INgrKgUIiiAU",
   "metadata": {
    "executionInfo": {
     "elapsed": 4,
     "status": "ok",
     "timestamp": 1684139733681,
     "user": {
      "displayName": "이강철",
      "userId": "13507850890638580947"
     },
     "user_tz": -540
    },
    "id": "INgrKgUIiiAU"
   },
   "outputs": [],
   "source": [
    "data = pd.DataFrame({\"player\" : player, \"season_prob\" : seson_prob,\n",
    "              \"toal_prob\": total_prob})"
   ]
  },
  {
   "cell_type": "code",
   "execution_count": 101,
   "id": "BmCyrgo1jn8p",
   "metadata": {
    "colab": {
     "base_uri": "https://localhost:8080/",
     "height": 175
    },
    "executionInfo": {
     "elapsed": 4,
     "status": "ok",
     "timestamp": 1684139921709,
     "user": {
      "displayName": "이강철",
      "userId": "13507850890638580947"
     },
     "user_tz": -540
    },
    "id": "BmCyrgo1jn8p",
    "outputId": "61d014e8-5cbb-4641-ac70-157162720f42"
   },
   "outputs": [
    {
     "data": {
      "text/html": [
       "\n",
       "  <div id=\"df-7900eaf6-aced-4a0a-afd9-162f658aafeb\">\n",
       "    <div class=\"colab-df-container\">\n",
       "      <div>\n",
       "<style scoped>\n",
       "    .dataframe tbody tr th:only-of-type {\n",
       "        vertical-align: middle;\n",
       "    }\n",
       "\n",
       "    .dataframe tbody tr th {\n",
       "        vertical-align: top;\n",
       "    }\n",
       "\n",
       "    .dataframe thead th {\n",
       "        text-align: right;\n",
       "    }\n",
       "</style>\n",
       "<table border=\"1\" class=\"dataframe\">\n",
       "  <thead>\n",
       "    <tr style=\"text-align: right;\">\n",
       "      <th></th>\n",
       "      <th>player</th>\n",
       "      <th>toal_prob</th>\n",
       "      <th>season</th>\n",
       "      <th>season_prob</th>\n",
       "    </tr>\n",
       "  </thead>\n",
       "  <tbody>\n",
       "    <tr>\n",
       "      <th>0</th>\n",
       "      <td>A</td>\n",
       "      <td>0.999996</td>\n",
       "      <td>1</td>\n",
       "      <td>0.700000</td>\n",
       "    </tr>\n",
       "    <tr>\n",
       "      <th>1</th>\n",
       "      <td>A</td>\n",
       "      <td>0.999996</td>\n",
       "      <td>2</td>\n",
       "      <td>0.999999</td>\n",
       "    </tr>\n",
       "    <tr>\n",
       "      <th>2</th>\n",
       "      <td>B</td>\n",
       "      <td>0.857143</td>\n",
       "      <td>1</td>\n",
       "      <td>0.800000</td>\n",
       "    </tr>\n",
       "    <tr>\n",
       "      <th>3</th>\n",
       "      <td>B</td>\n",
       "      <td>0.857143</td>\n",
       "      <td>2</td>\n",
       "      <td>1.000000</td>\n",
       "    </tr>\n",
       "  </tbody>\n",
       "</table>\n",
       "</div>\n",
       "      <button class=\"colab-df-convert\" onclick=\"convertToInteractive('df-7900eaf6-aced-4a0a-afd9-162f658aafeb')\"\n",
       "              title=\"Convert this dataframe to an interactive table.\"\n",
       "              style=\"display:none;\">\n",
       "        \n",
       "  <svg xmlns=\"http://www.w3.org/2000/svg\" height=\"24px\"viewBox=\"0 0 24 24\"\n",
       "       width=\"24px\">\n",
       "    <path d=\"M0 0h24v24H0V0z\" fill=\"none\"/>\n",
       "    <path d=\"M18.56 5.44l.94 2.06.94-2.06 2.06-.94-2.06-.94-.94-2.06-.94 2.06-2.06.94zm-11 1L8.5 8.5l.94-2.06 2.06-.94-2.06-.94L8.5 2.5l-.94 2.06-2.06.94zm10 10l.94 2.06.94-2.06 2.06-.94-2.06-.94-.94-2.06-.94 2.06-2.06.94z\"/><path d=\"M17.41 7.96l-1.37-1.37c-.4-.4-.92-.59-1.43-.59-.52 0-1.04.2-1.43.59L10.3 9.45l-7.72 7.72c-.78.78-.78 2.05 0 2.83L4 21.41c.39.39.9.59 1.41.59.51 0 1.02-.2 1.41-.59l7.78-7.78 2.81-2.81c.8-.78.8-2.07 0-2.86zM5.41 20L4 18.59l7.72-7.72 1.47 1.35L5.41 20z\"/>\n",
       "  </svg>\n",
       "      </button>\n",
       "      \n",
       "  <style>\n",
       "    .colab-df-container {\n",
       "      display:flex;\n",
       "      flex-wrap:wrap;\n",
       "      gap: 12px;\n",
       "    }\n",
       "\n",
       "    .colab-df-convert {\n",
       "      background-color: #E8F0FE;\n",
       "      border: none;\n",
       "      border-radius: 50%;\n",
       "      cursor: pointer;\n",
       "      display: none;\n",
       "      fill: #1967D2;\n",
       "      height: 32px;\n",
       "      padding: 0 0 0 0;\n",
       "      width: 32px;\n",
       "    }\n",
       "\n",
       "    .colab-df-convert:hover {\n",
       "      background-color: #E2EBFA;\n",
       "      box-shadow: 0px 1px 2px rgba(60, 64, 67, 0.3), 0px 1px 3px 1px rgba(60, 64, 67, 0.15);\n",
       "      fill: #174EA6;\n",
       "    }\n",
       "\n",
       "    [theme=dark] .colab-df-convert {\n",
       "      background-color: #3B4455;\n",
       "      fill: #D2E3FC;\n",
       "    }\n",
       "\n",
       "    [theme=dark] .colab-df-convert:hover {\n",
       "      background-color: #434B5C;\n",
       "      box-shadow: 0px 1px 3px 1px rgba(0, 0, 0, 0.15);\n",
       "      filter: drop-shadow(0px 1px 2px rgba(0, 0, 0, 0.3));\n",
       "      fill: #FFFFFF;\n",
       "    }\n",
       "  </style>\n",
       "\n",
       "      <script>\n",
       "        const buttonEl =\n",
       "          document.querySelector('#df-7900eaf6-aced-4a0a-afd9-162f658aafeb button.colab-df-convert');\n",
       "        buttonEl.style.display =\n",
       "          google.colab.kernel.accessAllowed ? 'block' : 'none';\n",
       "\n",
       "        async function convertToInteractive(key) {\n",
       "          const element = document.querySelector('#df-7900eaf6-aced-4a0a-afd9-162f658aafeb');\n",
       "          const dataTable =\n",
       "            await google.colab.kernel.invokeFunction('convertToInteractive',\n",
       "                                                     [key], {});\n",
       "          if (!dataTable) return;\n",
       "\n",
       "          const docLinkHtml = 'Like what you see? Visit the ' +\n",
       "            '<a target=\"_blank\" href=https://colab.research.google.com/notebooks/data_table.ipynb>data table notebook</a>'\n",
       "            + ' to learn more about interactive tables.';\n",
       "          element.innerHTML = '';\n",
       "          dataTable['output_type'] = 'display_data';\n",
       "          await google.colab.output.renderOutput(dataTable, element);\n",
       "          const docLink = document.createElement('div');\n",
       "          docLink.innerHTML = docLinkHtml;\n",
       "          element.appendChild(docLink);\n",
       "        }\n",
       "      </script>\n",
       "    </div>\n",
       "  </div>\n",
       "  "
      ],
      "text/plain": [
       "  player  toal_prob season  season_prob\n",
       "0      A   0.999996      1     0.700000\n",
       "1      A   0.999996      2     0.999999\n",
       "2      B   0.857143      1     0.800000\n",
       "3      B   0.857143      2     1.000000"
      ]
     },
     "execution_count": 101,
     "metadata": {},
     "output_type": "execute_result"
    }
   ],
   "source": [
    "data[\"season\"] = [\"1\",\"2\",\"1\",\"2\"]\n",
    "data = data.iloc[:, [0,3,1,2]]\n",
    "data"
   ]
  },
  {
   "cell_type": "code",
   "execution_count": 103,
   "id": "Tf98Qi_KjPMk",
   "metadata": {
    "colab": {
     "base_uri": "https://localhost:8080/",
     "height": 472
    },
    "executionInfo": {
     "elapsed": 838,
     "status": "ok",
     "timestamp": 1684139969201,
     "user": {
      "displayName": "이강철",
      "userId": "13507850890638580947"
     },
     "user_tz": -540
    },
    "id": "Tf98Qi_KjPMk",
    "outputId": "dcbdc218-6a9b-4e5a-c355-ca63369f3ed4"
   },
   "outputs": [
    {
     "data": {
      "image/png": "[encoded data removed]",
      "text/plain": [
       "<Figure size 640x480 with 2 Axes>"
      ]
     },
     "metadata": {},
     "output_type": "display_data"
    },
    {
     "data": {
      "text/plain": [
       "<ggplot: (8787038724640)>"
      ]
     },
     "execution_count": 103,
     "metadata": {},
     "output_type": "execute_result"
    }
   ],
   "source": [
    "(\n",
    "    ggplot(data)\\\n",
    "      + geom_bar(aes(x = \"player\",y = \"seson_prob\",fill=\"player\"),stat = \"identity\") \\\n",
    "      + facet_wrap(\"season\")\n",
    ")"
   ]
  },
  {
   "cell_type": "code",
   "execution_count": 104,
   "id": "9ukxZx9HkNa8",
   "metadata": {
    "colab": {
     "base_uri": "https://localhost:8080/",
     "height": 458
    },
    "executionInfo": {
     "elapsed": 847,
     "status": "ok",
     "timestamp": 1684139999692,
     "user": {
      "displayName": "이강철",
      "userId": "13507850890638580947"
     },
     "user_tz": -540
    },
    "id": "9ukxZx9HkNa8",
    "outputId": "7c79add8-5bc1-4660-c1d7-4392bd847086"
   },
   "outputs": [
    {
     "data": {
      "image/png": "[encoded data removed]",
      "text/plain": [
       "<Figure size 640x480 with 1 Axes>"
      ]
     },
     "metadata": {},
     "output_type": "display_data"
    },
    {
     "data": {
      "text/plain": [
       "<ggplot: (8787033849340)>"
      ]
     },
     "execution_count": 104,
     "metadata": {},
     "output_type": "execute_result"
    }
   ],
   "source": [
    "(\n",
    "    ggplot(data)\\\n",
    "      + geom_bar(aes(x = \"player\",y = \"total_prob\",fill=\"player\"),stat = \"identity\")\n",
    ")"
   ]
  }
 ],
 "metadata": {
  "colab": {
   "provenance": [
    {
     "file_id": "https://github.com/guebin/STDV2021/blob/master/_notebooks/2021-11-07-midsol.ipynb",
     "timestamp": 1684135573950
    }
   ]
  },
  "kernelspec": {
   "display_name": "Python 3 (ipykernel)",
   "language": "python",
   "name": "python3"
  },
  "language_info": {
   "codemirror_mode": {
    "name": "ipython",
    "version": 3
   },
   "file_extension": ".py",
   "mimetype": "text/x-python",
   "name": "python",
   "nbconvert_exporter": "python",
   "pygments_lexer": "ipython3",
   "version": "3.9.13"
  },
  "toc": {
   "base_numbering": 1,
   "nav_menu": {},
   "number_sections": false,
   "sideBar": true,
   "skip_h1_title": false,
   "title_cell": "Table of Contents",
   "title_sidebar": "Contents",
   "toc_cell": false,
   "toc_position": {},
   "toc_section_display": true,
   "toc_window_display": true
  }
 },
 "nbformat": 4,
 "nbformat_minor": 5
}
