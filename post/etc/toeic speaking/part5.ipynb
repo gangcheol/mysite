{
 "cells": [
  {
   "cell_type": "raw",
   "id": "d54ded5b",
   "metadata": {},
   "source": [
    "---\n",
    "title : \"part 5\"\n",
    "date : \"02/10/23\"\n",
    "author : \"GANGCHEOL LEE\"\n",
    "categories : \"speaking\"\n",
    "---"
   ]
  },
  {
   "cell_type": "markdown",
   "id": "dbbd4e1e",
   "metadata": {},
   "source": [
    "# 0. Intro"
   ]
  },
  {
   "cell_type": "markdown",
   "id": "9512a7dd",
   "metadata": {},
   "source": [
    "`-` : 준비시간 45초, 답변시간 60초"
   ]
  },
  {
   "cell_type": "markdown",
   "id": "2c10b650",
   "metadata": {},
   "source": [
    "`-` [part5 이론강의영상](https://youtu.be/xgJuKIZQbeo)"
   ]
  },
  {
   "cell_type": "markdown",
   "id": "3d0ba1fb",
   "metadata": {},
   "source": [
    "## (1) 준비시간 전략"
   ]
  },
  {
   "cell_type": "markdown",
   "id": "9769f4f2",
   "metadata": {},
   "source": [
    "### (1)-1. 문제 해석과 이해"
   ]
  },
  {
   "cell_type": "markdown",
   "id": "a9b7dabc",
   "metadata": {},
   "source": [
    "* keypoint : **\"문제에 대한 적절합 답변을 하는 것!\"**"
   ]
  },
  {
   "cell_type": "markdown",
   "id": "3ae97092",
   "metadata": {},
   "source": [
    "* 15초 이내로 문제 해석을 끝낸내는 것이 가장 좋음"
   ]
  },
  {
   "cell_type": "markdown",
   "id": "5d659302",
   "metadata": {},
   "source": [
    "### (1)-2. 아이디어 생각하기"
   ]
  },
  {
   "cell_type": "markdown",
   "id": "4aa593fe",
   "metadata": {},
   "source": [
    "* **\"파트 5 만능 문장, 파트3 만능 문장50가지\"** 를 이용하여 2문장 이상을 준비시간에 생각해내자"
   ]
  },
  {
   "cell_type": "markdown",
   "id": "3433f4b7",
   "metadata": {},
   "source": [
    "* [파트 5 만능문장](https://youtu.be/P43wDlScjIs)"
   ]
  },
  {
   "cell_type": "markdown",
   "id": "3d89cfa3",
   "metadata": {},
   "source": [
    "### (1)-3. 노트 테이킹"
   ]
  },
  {
   "cell_type": "markdown",
   "id": "1bb02900",
   "metadata": {},
   "source": [
    "* 5글자 이상 되는 단어는 앞의 4-5글자만 쓰고, 동사 위주로만 필기하자."
   ]
  },
  {
   "cell_type": "markdown",
   "id": "aebd4375",
   "metadata": {},
   "source": [
    "## (2) 답변시간 전략"
   ]
  },
  {
   "cell_type": "markdown",
   "id": "f5dc569a",
   "metadata": {},
   "source": [
    "`-` 전반적인 순서 : 서론(결론) $\\to$ 이유1 $\\to$ 예시1$\\to$ 이유2 $\\to$ 예시2 $\\to$ Therefore, I agree with the statement~ "
   ]
  },
  {
   "cell_type": "markdown",
   "id": "dc6703ac",
   "metadata": {},
   "source": [
    "`-` 할 수 있다면 만능문장과, 모범답안을 계속 모방해서 연습하자(**고득점 전략!**)"
   ]
  },
  {
   "cell_type": "markdown",
   "id": "31a832a2",
   "metadata": {},
   "source": [
    "$\\divideontimes$ 동문서답금지 $\\to$ 외운 답변을 문제에 적절하지 않게그대로 말하면 큰 실점이 된다."
   ]
  },
  {
   "cell_type": "markdown",
   "id": "c227a124",
   "metadata": {},
   "source": [
    "## (3) 목표 레벨별 전략"
   ]
  },
  {
   "cell_type": "markdown",
   "id": "5452515c",
   "metadata": {},
   "source": [
    "`-` 130 ~ 150 (IH) : 문제에 적합한 답변을 채점자가 알아 듣게만 하자 $\\to$ 모범 답안의 70 ~ 80%의 퍼포먼스"
   ]
  },
  {
   "cell_type": "markdown",
   "id": "85e54274",
   "metadata": {},
   "source": [
    "`-` 160이상 (AL 이상) : 파트5 만능 문장을 2문장 이상 다양하게 이용해서 말한다.\n",
    "    \n",
    "    - 파트 3의 만능 문장 50의 쉬운 문장들도 함께 이용한다.\n",
    "    \n",
    "    - 만능 문장을 적용해서 답변하는 연습 (30 set구비)"
   ]
  },
  {
   "cell_type": "markdown",
   "id": "dd3c4788",
   "metadata": {},
   "source": [
    "* 130 + vs 160 : 구체성의 차이!\n",
    "    * A. IH 답변 : From my experience, I studied overseas\n",
    "    * B. AL 답변 : From my experience, I studied in Japan as an exchange student last year.\n",
    " "
   ]
  },
  {
   "cell_type": "markdown",
   "id": "11b050ed",
   "metadata": {},
   "source": [
    "## (4) part5 만능 문장"
   ]
  },
  {
   "cell_type": "markdown",
   "id": "e666574e",
   "metadata": {},
   "source": [
    "### A. 경험 & 교육"
   ]
  },
  {
   "cell_type": "markdown",
   "id": "8973f4bf",
   "metadata": {},
   "source": [
    "1. They can learn new things."
   ]
  },
  {
   "cell_type": "markdown",
   "id": "ee43bf48",
   "metadata": {},
   "source": [
    "2. They can meet new people and expand their network."
   ]
  },
  {
   "cell_type": "markdown",
   "id": "502f75c8",
   "metadata": {},
   "source": [
    "3. They can have a lot of (new) experience and broaden their perspective."
   ]
  },
  {
   "cell_type": "markdown",
   "id": "08994251",
   "metadata": {},
   "source": [
    "4. They can't make good decisions because they are not mature enough."
   ]
  },
  {
   "cell_type": "markdown",
   "id": "0cb08b14",
   "metadata": {},
   "source": [
    "### B. 집중"
   ]
  },
  {
   "cell_type": "markdown",
   "id": "c4830811",
   "metadata": {},
   "source": [
    "5. They will be distracted / if a teacher is not strict : strict(엄격한)"
   ]
  },
  {
   "cell_type": "markdown",
   "id": "3bb05bef",
   "metadata": {},
   "source": [
    "6. They can't focus on their studies/work."
   ]
  },
  {
   "cell_type": "markdown",
   "id": "f3d7f864",
   "metadata": {},
   "source": [
    "7. They can't get good grades at school."
   ]
  },
  {
   "cell_type": "markdown",
   "id": "46cc4247",
   "metadata": {},
   "source": [
    "8. They will fall behind in class."
   ]
  },
  {
   "cell_type": "markdown",
   "id": "cad94512",
   "metadata": {},
   "source": [
    "9. They can't work efficiently."
   ]
  },
  {
   "cell_type": "markdown",
   "id": "ffa63d12",
   "metadata": {},
   "source": [
    "###  C. 돈"
   ]
  },
  {
   "cell_type": "markdown",
   "id": "6ae8dcca",
   "metadata": {},
   "source": [
    "10. They can save money."
   ]
  },
  {
   "cell_type": "markdown",
   "id": "9ca551ab",
   "metadata": {},
   "source": [
    "11. The cost of living is too high."
   ]
  },
  {
   "cell_type": "markdown",
   "id": "baa5048d",
   "metadata": {},
   "source": [
    "12. They can't make a living."
   ]
  },
  {
   "cell_type": "markdown",
   "id": "bc783cea",
   "metadata": {},
   "source": [
    "13. I can get a high(er) salary."
   ]
  },
  {
   "cell_type": "markdown",
   "id": "b300ce09",
   "metadata": {},
   "source": [
    "14. The cost of N is too expensive."
   ]
  },
  {
   "cell_type": "markdown",
   "id": "8e1e3b56",
   "metadata": {},
   "source": [
    "15. It's waste of money."
   ]
  },
  {
   "cell_type": "markdown",
   "id": "77992914",
   "metadata": {},
   "source": [
    "16. That's good investment because it makes lives better."
   ]
  },
  {
   "cell_type": "markdown",
   "id": "a036b997",
   "metadata": {},
   "source": [
    "### D. 혼자 vs 같이"
   ]
  },
  {
   "cell_type": "markdown",
   "id": "1a87e780",
   "metadata": {},
   "source": [
    "17. They can focus better."
   ]
  },
  {
   "cell_type": "markdown",
   "id": "aa44b480",
   "metadata": {},
   "source": [
    "18. They will not be distracted by others."
   ]
  },
  {
   "cell_type": "markdown",
   "id": "d67c6b35",
   "metadata": {},
   "source": [
    "19. They can set their own schedule."
   ]
  },
  {
   "cell_type": "markdown",
   "id": "bbd1ba32",
   "metadata": {},
   "source": [
    "20. They can have more freedom."
   ]
  },
  {
   "cell_type": "markdown",
   "id": "e32829a3",
   "metadata": {},
   "source": [
    "21. They feel more comfortable."
   ]
  },
  {
   "cell_type": "markdown",
   "id": "adbfe242",
   "metadata": {},
   "source": [
    "22. It's fun and entertaining."
   ]
  },
  {
   "cell_type": "markdown",
   "id": "042d5a94",
   "metadata": {},
   "source": [
    "23. They can get information and share it with other people."
   ]
  },
  {
   "cell_type": "markdown",
   "id": "f23e4344",
   "metadata": {},
   "source": [
    "24. It feels more like a family."
   ]
  },
  {
   "cell_type": "markdown",
   "id": "a99f0647",
   "metadata": {},
   "source": [
    "### E. 기술"
   ]
  },
  {
   "cell_type": "markdown",
   "id": "5062356b",
   "metadata": {},
   "source": [
    "25. They can get a lot of (useful information/latest information) on the Internet.\n",
    "    \n",
    "    - 기기나 인터넷 상에서 하는 것 앞에는 전치사 **'on'** 을 쓴다."
   ]
  },
  {
   "cell_type": "markdown",
   "id": "8c5c8d7e",
   "metadata": {},
   "source": [
    "26. They can communicate with their friends anytime anywhere on their smartphones.\n"
   ]
  },
  {
   "cell_type": "markdown",
   "id": "4bcfe516",
   "metadata": {},
   "source": [
    "27. It's faster and convenient."
   ]
  },
  {
   "cell_type": "markdown",
   "id": "f3ab8f2b",
   "metadata": {},
   "source": [
    "28. There is a lot of inaccurate information on the internet so it's not reliable."
   ]
  },
  {
   "cell_type": "markdown",
   "id": "affbe315",
   "metadata": {},
   "source": [
    "29. it is very distracting for S so S can't focus on their studies/work."
   ]
  },
  {
   "cell_type": "markdown",
   "id": "62e35d55",
   "metadata": {},
   "source": [
    "30. I can get responses right away"
   ]
  },
  {
   "cell_type": "markdown",
   "id": "76ecf69b",
   "metadata": {},
   "source": [
    "31. I can understand the feeling  of the speaker more accurately."
   ]
  },
  {
   "cell_type": "markdown",
   "id": "20fa42dc",
   "metadata": {},
   "source": [
    "### F. 특징"
   ]
  },
  {
   "cell_type": "markdown",
   "id": "08f55c48",
   "metadata": {},
   "source": [
    "32. They can make a friendly (work) atmosphere."
   ]
  },
  {
   "cell_type": "markdown",
   "id": "9144bf6e",
   "metadata": {},
   "source": [
    "33. They can communicate with others better."
   ]
  },
  {
   "cell_type": "markdown",
   "id": "bb165c9a",
   "metadata": {},
   "source": [
    "34. They can be good team players and make good relationships with others."
   ]
  },
  {
   "cell_type": "markdown",
   "id": "21ad346f",
   "metadata": {},
   "source": [
    "35. They can have a good reputation."
   ]
  },
  {
   "cell_type": "markdown",
   "id": "c7cd91f2",
   "metadata": {},
   "source": [
    "36. They can be very influential."
   ]
  },
  {
   "cell_type": "markdown",
   "id": "345b992b",
   "metadata": {},
   "source": [
    "37. They can motivate others."
   ]
  },
  {
   "cell_type": "markdown",
   "id": "21b8a424",
   "metadata": {},
   "source": [
    "38. Everything is always changing and there is a lot of competition."
   ]
  },
  {
   "cell_type": "markdown",
   "id": "975a99ea",
   "metadata": {},
   "source": [
    "39. They face a lot of challenges and difficulties."
   ]
  },
  {
   "cell_type": "markdown",
   "id": "1223303e",
   "metadata": {},
   "source": [
    "40. He is able to handle a variety of situation due to his N."
   ]
  },
  {
   "cell_type": "markdown",
   "id": "fe203b8f",
   "metadata": {},
   "source": [
    "41. They have a lot of experience/knowledge."
   ]
  },
  {
   "cell_type": "markdown",
   "id": "f48c967f",
   "metadata": {},
   "source": [
    "### G. 업무 환경  & 기업 성공"
   ]
  },
  {
   "cell_type": "markdown",
   "id": "ae63b0cb",
   "metadata": {},
   "source": [
    "42. Employees can work more efficiently and productively."
   ]
  },
  {
   "cell_type": "markdown",
   "id": "e8d6bcff",
   "metadata": {},
   "source": [
    "43. Employees can be more satisfied with their jobs."
   ]
  },
  {
   "cell_type": "markdown",
   "id": "01116726",
   "metadata": {},
   "source": [
    "44. It can make a better work environment."
   ]
  },
  {
   "cell_type": "markdown",
   "id": "9e497d29",
   "metadata": {},
   "source": [
    "45. They might appear less professional."
   ]
  },
  {
   "cell_type": "markdown",
   "id": "d377627b",
   "metadata": {},
   "source": [
    "46. Customers will fell satisfied and remain loyal."
   ]
  },
  {
   "cell_type": "markdown",
   "id": "bd07fe26",
   "metadata": {},
   "source": [
    "47. It will attract more customers."
   ]
  },
  {
   "cell_type": "markdown",
   "id": "a5d1bf72",
   "metadata": {},
   "source": [
    "48. The business will be more successful."
   ]
  },
  {
   "cell_type": "markdown",
   "id": "f7c34b2f",
   "metadata": {},
   "source": [
    "49. People frequently use N so it will be very effective."
   ]
  },
  {
   "cell_type": "markdown",
   "id": "d4d9fbc9",
   "metadata": {},
   "source": [
    "### H. 스트레스 & 건강"
   ]
  },
  {
   "cell_type": "markdown",
   "id": "9e1b3cf2",
   "metadata": {},
   "source": [
    "50. It relieves their stress and they can relax."
   ]
  },
  {
   "cell_type": "markdown",
   "id": "a41166fb",
   "metadata": {},
   "source": [
    "51. It is good for their (Physical / mental) health."
   ]
  },
  {
   "cell_type": "markdown",
   "id": "3d799d39",
   "metadata": {},
   "source": [
    "52. It is not good for their health."
   ]
  },
  {
   "cell_type": "markdown",
   "id": "820bb4ae",
   "metadata": {},
   "source": [
    "### I. 환경"
   ]
  },
  {
   "cell_type": "markdown",
   "id": "daa43df1",
   "metadata": {},
   "source": [
    "53. It is good for environment."
   ]
  },
  {
   "cell_type": "markdown",
   "id": "7c83998e",
   "metadata": {},
   "source": [
    "54. Pollution is a serious issue these days."
   ]
  },
  {
   "cell_type": "markdown",
   "id": "f7201ffb",
   "metadata": {},
   "source": [
    "55. It can make a cleaner environment."
   ]
  },
  {
   "cell_type": "markdown",
   "id": "fdf1e39d",
   "metadata": {},
   "source": [
    "56. We will be able to protect the environment."
   ]
  },
  {
   "cell_type": "markdown",
   "id": "78e9f6ce",
   "metadata": {},
   "source": [
    "***"
   ]
  },
  {
   "cell_type": "markdown",
   "id": "b0af6c14",
   "metadata": {},
   "source": [
    "# 1. 파트5 템플릿 & 적용"
   ]
  },
  {
   "cell_type": "markdown",
   "id": "4612f84c",
   "metadata": {},
   "source": [
    "## (1) 서론 "
   ]
  },
  {
   "cell_type": "markdown",
   "id": "83e83dbf",
   "metadata": {},
   "source": [
    "`-` 서론 문장은 문제에 맞게 결론부터 말한다."
   ]
  },
  {
   "cell_type": "markdown",
   "id": "7e2883d8",
   "metadata": {},
   "source": [
    "`-` 유형별 빈출 서론문장\n",
    "\n",
    "    1. 동의/비동의 : agree/disagree with the statement.\n",
    "    \n",
    "    2. 장/단점 : There are some advantages/disadvantages of N.\n",
    "    \n",
    "    3. 옵션 선택 : I think N is the most important.\n",
    "    \n",
    "    4. Do you think S + V : I think that S + V / I don't think S + V\n",
    "    \n",
    "    5. 선호도 질문 : I prefer A to B"
   ]
  },
  {
   "cell_type": "markdown",
   "id": "19aa4bc1",
   "metadata": {},
   "source": [
    "## (2) 연결문장"
   ]
  },
  {
   "cell_type": "markdown",
   "id": "e4a71aa3",
   "metadata": {},
   "source": [
    "`-` Let me explain why I think this way."
   ]
  },
  {
   "cell_type": "markdown",
   "id": "6f5448e2",
   "metadata": {},
   "source": [
    "## (3) 이유 1"
   ]
  },
  {
   "cell_type": "markdown",
   "id": "d0888424",
   "metadata": {},
   "source": [
    "`-` 첫 번째 이유는 만능 문장을 이용해서 말하되, 문장에 맞게 적절하게 변형해서 이용한다."
   ]
  },
  {
   "cell_type": "markdown",
   "id": "29734e1b",
   "metadata": {},
   "source": [
    "> example : Most of all, 첫번째 이유  S + V $\\to$ 무엇보다도, 첫번째 이유"
   ]
  },
  {
   "cell_type": "markdown",
   "id": "29f9a788",
   "metadata": {},
   "source": [
    "## (4) 예시 1"
   ]
  },
  {
   "cell_type": "markdown",
   "id": "e4a411b0",
   "metadata": {},
   "source": [
    "`-` 첫 번째 예시에서는 경험 이야기를 하자."
   ]
  },
  {
   "cell_type": "markdown",
   "id": "4e868c0a",
   "metadata": {},
   "source": [
    "From my experienece, S + V"
   ]
  },
  {
   "cell_type": "markdown",
   "id": "544b4693",
   "metadata": {},
   "source": [
    "`-` 경험 세부사항 말하는 법\n",
    "\n",
    "    1) For me, it was very helpful because S + V\n",
    "    \n",
    "    2) It was great!, because \n",
    "    \n",
    "    ex) For me, it was not helpful at all : 나에게 전혀 도움이 되지 않았다."
   ]
  },
  {
   "cell_type": "markdown",
   "id": "7d1f4145",
   "metadata": {},
   "source": [
    "## (5) 이유 2"
   ]
  },
  {
   "cell_type": "markdown",
   "id": "92396c7b",
   "metadata": {},
   "source": [
    "On top of that, 두 번째 이유 (if / When S + V) $\\to$ 게다가 ~ 한다면, ~ 할 때 두 번째 이유다."
   ]
  },
  {
   "cell_type": "markdown",
   "id": "f89801b9",
   "metadata": {},
   "source": [
    "## (6) 예시 2"
   ]
  },
  {
   "cell_type": "markdown",
   "id": "ea3e16c3",
   "metadata": {},
   "source": [
    "`-` 뉴스기사와 전문가들의 견해를 연결하여 말하자."
   ]
  },
  {
   "cell_type": "markdown",
   "id": "de122e43",
   "metadata": {},
   "source": [
    "According to a recent news report,. the majority of 사람들 in korea said that\n",
    "S + V (if / when S + V)"
   ]
  },
  {
   "cell_type": "markdown",
   "id": "6cebc52b",
   "metadata": {},
   "source": [
    "`-` 위 S + V 에는 주장을 쓰자 (문제와 내 노트 테이킹 한거를 다시 말하기!)"
   ]
  },
  {
   "cell_type": "markdown",
   "id": "fb05bf0f",
   "metadata": {},
   "source": [
    "## (7) 결론"
   ]
  },
  {
   "cell_type": "markdown",
   "id": "8039708e",
   "metadata": {},
   "source": [
    "`-` Therefore, 서론"
   ]
  },
  {
   "cell_type": "markdown",
   "id": "ae8140ac",
   "metadata": {},
   "source": [
    "***"
   ]
  },
  {
   "cell_type": "markdown",
   "id": "004fa973",
   "metadata": {},
   "source": [
    "#  2. 테마별 연습문제"
   ]
  },
  {
   "cell_type": "markdown",
   "id": "081801fa",
   "metadata": {},
   "source": [
    "## (1) 경험 & 교육"
   ]
  },
  {
   "cell_type": "markdown",
   "id": "b7839b3a",
   "metadata": {},
   "source": [
    "### set2"
   ]
  },
  {
   "cell_type": "markdown",
   "id": "fa1a33af",
   "metadata": {},
   "source": [
    "`-` 교재 154"
   ]
  },
  {
   "cell_type": "markdown",
   "id": "e5114329",
   "metadata": {},
   "source": [
    "Do you agree or disagree with the statement : \n",
    "\n",
    "Teenagers Should get free admission to art galleries"
   ]
  },
  {
   "cell_type": "markdown",
   "id": "96c37f91",
   "metadata": {},
   "source": [
    "#### answer"
   ]
  },
  {
   "cell_type": "markdown",
   "id": "23fa2fa7",
   "metadata": {},
   "source": [
    "`-` 서론 : I agree with the statement"
   ]
  },
  {
   "cell_type": "markdown",
   "id": "14c92e52",
   "metadata": {},
   "source": [
    "`-` 연결문장 : Let me explain why I think this way."
   ]
  },
  {
   "cell_type": "markdown",
   "id": "6d73a7f8",
   "metadata": {},
   "source": [
    "`-` 이유1\n",
    "\n",
    "Most of all, Teenagers can learn new things about the arts **(만능문장1번)**"
   ]
  },
  {
   "cell_type": "markdown",
   "id": "9381d509",
   "metadata": {},
   "source": [
    "`-` 예시 1\n",
    "\n",
    "From my experienece, When I was a high school student, I got free admission to gallery.**(문제 질문을 그대로 인용)**\n",
    "\n",
    "For me, It was very helpful because **I learned new things about the arts and art history (만능문장 1번 변형)** "
   ]
  },
  {
   "cell_type": "markdown",
   "id": "dab1064f",
   "metadata": {},
   "source": [
    "`-` 이유 2\n",
    "\n",
    "On top of that, **they can have a lot of new experience and broaden their perspective.(만능문장 3번)** when they visit art galleries."
   ]
  },
  {
   "cell_type": "markdown",
   "id": "da528c34",
   "metadata": {},
   "source": [
    "`-` 예시 2"
   ]
  },
  {
   "cell_type": "markdown",
   "id": "27fbe2dc",
   "metadata": {},
   "source": [
    "According to a recent news report, the majority of education experts in korea said that visiting art galleries(for free) is very beneficial for teenagers because **they can experience many things and broaden their persfectives.** (만능문장 3번 변형)"
   ]
  },
  {
   "cell_type": "markdown",
   "id": "78a039ca",
   "metadata": {},
   "source": [
    "`-` 결론"
   ]
  },
  {
   "cell_type": "markdown",
   "id": "64368651",
   "metadata": {},
   "source": [
    "Therefore, I think this way."
   ]
  },
  {
   "cell_type": "markdown",
   "id": "e6729b48",
   "metadata": {},
   "source": [
    "### set1"
   ]
  },
  {
   "cell_type": "markdown",
   "id": "889102f4",
   "metadata": {},
   "source": [
    "`-` 교재 153 page"
   ]
  },
  {
   "cell_type": "markdown",
   "id": "c8491ca8",
   "metadata": {},
   "source": [
    "What are advantages of learning how to play musical instruments for teenagers?\n",
    "\n",
    "Use specific reasons and examples to suppport your opinions."
   ]
  },
  {
   "cell_type": "markdown",
   "id": "23448c1c",
   "metadata": {},
   "source": [
    "#### answer"
   ]
  },
  {
   "cell_type": "markdown",
   "id": "c4017b0a",
   "metadata": {},
   "source": [
    "`-` 서론\n",
    "\n",
    "There are some advangtages of learning how to play musical instruments for teenagers.**(서론 만능 템플릿!)**"
   ]
  },
  {
   "cell_type": "markdown",
   "id": "b05daae7",
   "metadata": {},
   "source": [
    "`-` 연결문장"
   ]
  },
  {
   "cell_type": "markdown",
   "id": "d6f52f46",
   "metadata": {},
   "source": [
    "Let me explain why I think this way."
   ]
  },
  {
   "cell_type": "markdown",
   "id": "58436d2e",
   "metadata": {},
   "source": [
    "`-` 이유 1\n",
    "\n",
    "\n",
    "Most of all, teenagers can learn new things such as music skills **(만능문장 1번 변형)**"
   ]
  },
  {
   "cell_type": "markdown",
   "id": "4d285f04",
   "metadata": {},
   "source": [
    "`-` 예시 1"
   ]
  },
  {
   "cell_type": "markdown",
   "id": "748b5f9b",
   "metadata": {},
   "source": [
    "From my experience, When I was a highschool student, I learn piano.\n",
    "\n",
    "For me, It was very helpful because **I learned new things such as piano skills and music skiils (이유 1에서 이용한 만능문장 그대로 사용)**"
   ]
  },
  {
   "cell_type": "markdown",
   "id": "b7534025",
   "metadata": {},
   "source": [
    "`-` 이유 2"
   ]
  },
  {
   "cell_type": "markdown",
   "id": "38f52d76",
   "metadata": {},
   "source": [
    "On top of that, they can have a lot of new experience and broaden their perspective.**(만능문장 3번)**"
   ]
  },
  {
   "cell_type": "markdown",
   "id": "0e16fcc4",
   "metadata": {},
   "source": [
    "`-` 예시 2"
   ]
  },
  {
   "cell_type": "markdown",
   "id": "2413092d",
   "metadata": {},
   "source": [
    "According to a recent news report, the majority of education experts in korea said that learnging how to play  musical instruments is very beneficial because **they can have a lot of new experience and broaden their perspective (만능문장 3번)**"
   ]
  },
  {
   "cell_type": "markdown",
   "id": "eb9fe2d0",
   "metadata": {},
   "source": [
    "`-` 결론\n",
    "\n",
    "therefore, I think this way"
   ]
  },
  {
   "cell_type": "markdown",
   "id": "566f070a",
   "metadata": {},
   "source": [
    "### set 24"
   ]
  },
  {
   "cell_type": "markdown",
   "id": "bb852e7b",
   "metadata": {},
   "source": [
    "`-` 교재 187"
   ]
  },
  {
   "cell_type": "markdown",
   "id": "772a28c5",
   "metadata": {},
   "source": [
    "Do you agree or disagree with the following statement : Participating in an international internship is the best way to imporve one's work performance"
   ]
  },
  {
   "cell_type": "markdown",
   "id": "f5b5d583",
   "metadata": {},
   "source": [
    "#### answer"
   ]
  },
  {
   "cell_type": "markdown",
   "id": "1f1c2e39",
   "metadata": {},
   "source": [
    "`-` 서론\n",
    "\n",
    "I agree with the statement"
   ]
  },
  {
   "cell_type": "markdown",
   "id": "2fc8b9bc",
   "metadata": {},
   "source": [
    "`-` 연결문장\n",
    "\n",
    "Let me explain why I think this way."
   ]
  },
  {
   "cell_type": "markdown",
   "id": "2a519498",
   "metadata": {},
   "source": [
    "`-` 이유 1"
   ]
  },
  {
   "cell_type": "markdown",
   "id": "af8c310b",
   "metadata": {},
   "source": [
    "Most of all, **if employees participate in an international internship, they can have a lot of experience and broaden their perspective (만능문장 3번 변형)**\n",
    "\n",
    "\n",
    "Also, **they can meet new people and expand their business network overseas. (만능문장 2번 변형)** "
   ]
  },
  {
   "cell_type": "markdown",
   "id": "5aa948f4",
   "metadata": {},
   "source": [
    "`-` 이유 2"
   ]
  },
  {
   "cell_type": "markdown",
   "id": "79c7272c",
   "metadata": {},
   "source": [
    "On top of that, **they can learn new things such as language skiis and culture.(만능문장 1번 변형)**"
   ]
  },
  {
   "cell_type": "markdown",
   "id": "812de46b",
   "metadata": {},
   "source": [
    "`-` 예시 "
   ]
  },
  {
   "cell_type": "markdown",
   "id": "f4ff121a",
   "metadata": {},
   "source": [
    "According to a recent news report, the majority of succesful CEOS in korea said that  Participating in an international internship is very beneficail because they can improve theirs work performance.\n",
    "\n",
    "Therefore, I think this way"
   ]
  },
  {
   "cell_type": "markdown",
   "id": "ed55f691",
   "metadata": {},
   "source": [
    "***"
   ]
  },
  {
   "cell_type": "markdown",
   "id": "0b007801",
   "metadata": {},
   "source": [
    "## (2) 집중"
   ]
  },
  {
   "cell_type": "markdown",
   "id": "3b828443",
   "metadata": {},
   "source": [
    "###  set 3"
   ]
  },
  {
   "cell_type": "markdown",
   "id": "cfb0bddc",
   "metadata": {},
   "source": [
    "`-` 교재 156"
   ]
  },
  {
   "cell_type": "markdown",
   "id": "65d0a6b5",
   "metadata": {},
   "source": [
    "Do you agree or disagree with the statments :\n",
    "\n",
    "\n",
    "Elementary school studentes should not be allowed to have their own smartphones at school.\n",
    "\n",
    "use specific reasons and examples to support tour opinions."
   ]
  },
  {
   "cell_type": "markdown",
   "id": "d0f39bde",
   "metadata": {},
   "source": [
    "#### answer"
   ]
  },
  {
   "cell_type": "markdown",
   "id": "6a2f7bee",
   "metadata": {},
   "source": [
    "`-` 서론 및 연결문장\n",
    "\n",
    "I agree with the statement.\n",
    "\n",
    "Let me explain why I think this way."
   ]
  },
  {
   "cell_type": "markdown",
   "id": "a0c101b5",
   "metadata": {},
   "source": [
    "`-`이유 1\n",
    "\n",
    "Most of all, If elementary school students are allowed to have their own smartphones at school **(문제는 우리의 참고서!)**, **they wiil be distracted and they can't focus on their studies (만능문장 5번 6번)** "
   ]
  },
  {
   "cell_type": "markdown",
   "id": "a39d8340",
   "metadata": {},
   "source": [
    "`-` 예시 1"
   ]
  },
  {
   "cell_type": "markdown",
   "id": "a703f7d6",
   "metadata": {},
   "source": [
    "From my exeperience, When I was an elementary school student, I had my own smartphones.**(문제를 꼼꼼히 보자)** \n",
    "\n",
    "\n",
    "For me , it was not helpful at all becasue I was distracted by my smartphones. So, I couldn't focus on my studies. **(주장을 한번 더 부각하고, 만능문장 6번 변형)** "
   ]
  },
  {
   "cell_type": "markdown",
   "id": "3189cd82",
   "metadata": {},
   "source": [
    "`-` 이유 2"
   ]
  },
  {
   "cell_type": "markdown",
   "id": "12b5641b",
   "metadata": {},
   "source": [
    "On top of that, according to a recent news report, the majority of education experts in korea said that elementary school students should not be allowed to have their smartphones at school because **they can be distracted and can't learn efficiently.(만능문장 5번 9번)**\n",
    "\n",
    "Therefore, I agree with the statement."
   ]
  },
  {
   "cell_type": "markdown",
   "id": "a1555c43",
   "metadata": {},
   "source": [
    "$\\divideontimes$ 위 문제 같은 경우는 서론-이유1-예시1-예시2-결론 형태이다. 익숙해지면 나에게 편한 방식으로 뱉어보자"
   ]
  },
  {
   "cell_type": "markdown",
   "id": "65c68500",
   "metadata": {},
   "source": [
    "***"
   ]
  },
  {
   "cell_type": "markdown",
   "id": "69c3232c",
   "metadata": {},
   "source": [
    "## (3) 돈"
   ]
  },
  {
   "cell_type": "markdown",
   "id": "d8a274a5",
   "metadata": {},
   "source": [
    "### set 4"
   ]
  },
  {
   "cell_type": "markdown",
   "id": "4b8a0bb5",
   "metadata": {},
   "source": [
    "`-` 교재 158"
   ]
  },
  {
   "cell_type": "markdown",
   "id": "8dc2fcf2",
   "metadata": {},
   "source": [
    "when you choose a place to work, which of the following is the most important?\n",
    "\n",
    "`-` a high salary\n",
    "\n",
    "`-` a flexible working schedule\n",
    "\n",
    "`-` more opportunities to work abroad"
   ]
  },
  {
   "cell_type": "markdown",
   "id": "a76377ac",
   "metadata": {},
   "source": [
    "#### answer"
   ]
  },
  {
   "cell_type": "markdown",
   "id": "dcc0c0db",
   "metadata": {},
   "source": [
    "`-` 서론\n",
    "\n",
    "I think a high salary is the most important.\n",
    "\n",
    "Let me explain I think this way."
   ]
  },
  {
   "cell_type": "markdown",
   "id": "875460ff",
   "metadata": {},
   "source": [
    "`-` 이유 1\n",
    "\n",
    "Most of all,  I can save money.  **(만능문장 10번)**\n",
    "\n",
    "As you know, the cost of living is too high these days. So, I can't make a living without a high salary **(만능문장 11, 12)**"
   ]
  },
  {
   "cell_type": "markdown",
   "id": "1c52de73",
   "metadata": {},
   "source": [
    "`-` 이유 2\n",
    "\n",
    "On top of that, I can be more satisfied with my job if I earn(get) a high salary.**(만능문장 45)**\n"
   ]
  },
  {
   "cell_type": "markdown",
   "id": "68f286da",
   "metadata": {},
   "source": [
    "`-` 예시 2\n",
    "\n",
    "Accroding to a recent news report, the majority of offices workers in korea said that getting a high salary is very important **(서론이용)**\n",
    "\n",
    "because they can be more satisfied with their jobs and they can work more efficiently and productively when they get a high salary. **(만능문장 45, 44)**\n",
    "\n",
    "therefore, I think a high salary is the most impoartant."
   ]
  },
  {
   "cell_type": "markdown",
   "id": "5ad66737",
   "metadata": {},
   "source": [
    "### set 5"
   ]
  },
  {
   "cell_type": "markdown",
   "id": "ff84a915",
   "metadata": {},
   "source": [
    "`-` 교재 159"
   ]
  },
  {
   "cell_type": "markdown",
   "id": "e8a93e86",
   "metadata": {},
   "source": [
    "Do you agree with the following statement : \n",
    "    \n",
    "Local goverments should provide more financial support for making more green spaces such as parks.\n",
    "\n",
    "use specific reasons and examples to support your opinons."
   ]
  },
  {
   "cell_type": "markdown",
   "id": "68c346a7",
   "metadata": {},
   "source": [
    "#### answer"
   ]
  },
  {
   "cell_type": "markdown",
   "id": "6b208c06",
   "metadata": {},
   "source": [
    "`-` 서론\n",
    "\n",
    "I agree with the statement.\n",
    "\n",
    "Let me explan why I think this way."
   ]
  },
  {
   "cell_type": "markdown",
   "id": "0ddb5e4c",
   "metadata": {},
   "source": [
    "`-` 이유 1\n",
    "\n",
    "Most of all, making more green spaces such as parks is a good investment because it makes people's lives better **(만능문장 16)** because It's good for people's health. so it's not a waste of money. **(만능문장 15, 53)**"
   ]
  },
  {
   "cell_type": "markdown",
   "id": "50ea9186",
   "metadata": {},
   "source": [
    "`-` 이유 2"
   ]
  },
  {
   "cell_type": "markdown",
   "id": "2de1e27f",
   "metadata": {},
   "source": [
    "On top of that, making green spaces is good for the environment. **(만능문장 55)**\n",
    "\n",
    "Polloution is a serious issues these days,**(만능문장 56)**. if the local goverments provide more financia(빠이낸셜) support for making green speaces, we will be able to protect the environment.**(만능문장 58)**\n",
    "\n",
    "Therefore, I agree with the statement."
   ]
  },
  {
   "cell_type": "markdown",
   "id": "74016b63",
   "metadata": {},
   "source": [
    "***"
   ]
  },
  {
   "cell_type": "markdown",
   "id": "e976ef57",
   "metadata": {},
   "source": [
    "## (4) 혼자 vs 같이"
   ]
  },
  {
   "cell_type": "markdown",
   "id": "527be71d",
   "metadata": {},
   "source": [
    "### set 6"
   ]
  },
  {
   "cell_type": "markdown",
   "id": "f953f79c",
   "metadata": {},
   "source": [
    "`-`교재 161"
   ]
  },
  {
   "cell_type": "markdown",
   "id": "253040a1",
   "metadata": {},
   "source": [
    "When you do projects, do you prefer to wortk with the people in your own department everytime or collaborate with employees of other departments? why?\n",
    "\n",
    "\n",
    "use specific reasons and examples to supoort your opinions."
   ]
  },
  {
   "cell_type": "markdown",
   "id": "d2404338",
   "metadata": {},
   "source": [
    "#### answer"
   ]
  },
  {
   "cell_type": "markdown",
   "id": "b3ff8ab8",
   "metadata": {},
   "source": [
    "`-` 서론"
   ]
  },
  {
   "cell_type": "markdown",
   "id": "adfd48ec",
   "metadata": {},
   "source": [
    "When I do projects, I prefer to collaborate with employees of other departments.\n",
    "\n",
    "Let me explain why I think this way."
   ]
  },
  {
   "cell_type": "markdown",
   "id": "1438c99b",
   "metadata": {},
   "source": [
    "`- ` 이유 1\n",
    "\n",
    "Most of all, I can get information from employees from other departments and share it with other people. **(만능문장 23)**"
   ]
  },
  {
   "cell_type": "markdown",
   "id": "0cce38b2",
   "metadata": {},
   "source": [
    "`-` 예시 1\n",
    "\n",
    "From my experience, I used to work at a company. At that times, I collaborated with employess from other departments. For me, It was very helpful because I was able to new information. **(만능문장 25)**"
   ]
  },
  {
   "cell_type": "markdown",
   "id": "2ad1882d",
   "metadata": {},
   "source": [
    "`-` 예시 2\n",
    "\n",
    "On top of that, I was able to meet new people from other departments and expand my network. **(만능문장 2)** (시간이 부족하면 생략가능)\n",
    "\n",
    "\n",
    "Therefore, When I do projects, I prefer to collaborate with employees of other departments."
   ]
  },
  {
   "cell_type": "markdown",
   "id": "d7f965cd",
   "metadata": {},
   "source": [
    "### set 7"
   ]
  },
  {
   "cell_type": "markdown",
   "id": "c553f32c",
   "metadata": {},
   "source": [
    "`-` 교재 162"
   ]
  },
  {
   "cell_type": "markdown",
   "id": "e735f249",
   "metadata": {},
   "source": [
    "what are some advantages of taking a class that provides one-on-one teaching rather than taking a big class for college student?\n",
    "\n",
    "use specific reasons and examples to support your opinions."
   ]
  },
  {
   "cell_type": "markdown",
   "id": "ef52d39e",
   "metadata": {},
   "source": [
    "#### answer"
   ]
  },
  {
   "cell_type": "markdown",
   "id": "97d886e5",
   "metadata": {},
   "source": [
    "`-` 서론"
   ]
  },
  {
   "cell_type": "markdown",
   "id": "e08f1ee2",
   "metadata": {},
   "source": [
    "there are some advantages of taking a class that providing one-on-one teaching.\n",
    "\n",
    "Let me explain why I think this way."
   ]
  },
  {
   "cell_type": "markdown",
   "id": "1a6167f1",
   "metadata": {},
   "source": [
    "`-` 이유 1"
   ]
  },
  {
   "cell_type": "markdown",
   "id": "30a34bcc",
   "metadata": {},
   "source": [
    "Most of all, Students can focus better and they will not be distracted by other students if a class provide one-on-one teaching. **(만능문장 17, 20)**"
   ]
  },
  {
   "cell_type": "markdown",
   "id": "f47ef1f1",
   "metadata": {},
   "source": [
    "`-` 예시 1"
   ]
  },
  {
   "cell_type": "markdown",
   "id": "a4e7dfda",
   "metadata": {},
   "source": [
    "From my experience, when I was college student, I took a class that provided one-on-one teaching.\n",
    "\n",
    "For me. it was very helpful because I could focus better and not be distracted by other students.(I feel more comfotable $\\to$ **만능문장 21**)"
   ]
  },
  {
   "cell_type": "markdown",
   "id": "c8a58c0f",
   "metadata": {},
   "source": [
    "`-` 이유 2"
   ]
  },
  {
   "cell_type": "markdown",
   "id": "5c7068c3",
   "metadata": {},
   "source": [
    "On top of that, students can set their own schedule**(만능문장 19)** if they take a class that provides one-on-one teaching. Then, They can have more freedom.\n",
    "\n",
    "Therefore, I think this way."
   ]
  },
  {
   "cell_type": "markdown",
   "id": "fbea1dfc",
   "metadata": {},
   "source": [
    "***"
   ]
  },
  {
   "cell_type": "markdown",
   "id": "f7219f92",
   "metadata": {},
   "source": [
    "## (5) 기술"
   ]
  },
  {
   "cell_type": "markdown",
   "id": "db615893",
   "metadata": {},
   "source": [
    "### set 8"
   ]
  },
  {
   "cell_type": "markdown",
   "id": "6fa33780",
   "metadata": {},
   "source": [
    "`-` 교재 165"
   ]
  },
  {
   "cell_type": "markdown",
   "id": "07babc46",
   "metadata": {},
   "source": [
    "Which of the following inventions do you think improved the quality of our lives more?\n",
    "\n",
    "- social media, TV"
   ]
  },
  {
   "cell_type": "markdown",
   "id": "b5ea42c2",
   "metadata": {},
   "source": [
    "#### answer"
   ]
  },
  {
   "cell_type": "markdown",
   "id": "8a15b675",
   "metadata": {},
   "source": [
    "`-` 서론 \n",
    "\n",
    "I think social media improved the quality of our lives more.\n",
    "\n",
    "Let me explain why I think this way."
   ]
  },
  {
   "cell_type": "markdown",
   "id": "b3784aa7",
   "metadata": {},
   "source": [
    "`-` 이유 1, 예시 1\n",
    "\n",
    "Most of all, people can communicate with other people anytime anywere on social media. **(만능문장 26)**\n",
    "\n",
    "From my experience, I use social media whe I communicate with my friends.\n",
    "\n",
    "For me, It is very helpful because i can communicate with my friends anytime anywhere on social media, and It's faster and more convenient."
   ]
  },
  {
   "cell_type": "markdown",
   "id": "0207af01",
   "metadata": {},
   "source": [
    "`-` 예시 2"
   ]
  },
  {
   "cell_type": "markdown",
   "id": "f2943321",
   "metadata": {},
   "source": [
    "According to a recent news report, the majority of people in korea said that social media improved the qulity of our lives because they can get the latest information on social medial.\n",
    "\n",
    "therefore, I think this way."
   ]
  },
  {
   "cell_type": "markdown",
   "id": "0621a35e",
   "metadata": {},
   "source": [
    "***"
   ]
  },
  {
   "cell_type": "markdown",
   "id": "c57c4d51",
   "metadata": {},
   "source": [
    "### set 9"
   ]
  },
  {
   "cell_type": "markdown",
   "id": "28508601",
   "metadata": {},
   "source": [
    "`-` 교재 167"
   ]
  },
  {
   "cell_type": "markdown",
   "id": "aaebafba",
   "metadata": {},
   "source": [
    "When having a meeting with clients at work, which one do you think is a more efficient way?\n",
    "\n",
    "- having a video conference, - talking face-to-face"
   ]
  },
  {
   "cell_type": "markdown",
   "id": "1842e0ab",
   "metadata": {},
   "source": [
    "#### answer"
   ]
  },
  {
   "cell_type": "markdown",
   "id": "93000219",
   "metadata": {},
   "source": [
    "`-` 서론"
   ]
  },
  {
   "cell_type": "markdown",
   "id": "86fe5ad2",
   "metadata": {},
   "source": [
    "I think talking face-to-face is more efficient way.\n",
    "\n",
    "Let me explain why I think this way."
   ]
  },
  {
   "cell_type": "markdown",
   "id": "09284eb6",
   "metadata": {},
   "source": [
    "`-` 이유 1"
   ]
  },
  {
   "cell_type": "markdown",
   "id": "78ea6e1d",
   "metadata": {},
   "source": [
    "Most of all, employees can understand the feeling of the clients more accurately. so it caues less misunderstanding. **(만능문장 33)**"
   ]
  },
  {
   "cell_type": "markdown",
   "id": "f916fd20",
   "metadata": {},
   "source": [
    "`-` 예시 1"
   ]
  },
  {
   "cell_type": "markdown",
   "id": "5933cdc8",
   "metadata": {},
   "source": [
    "From my experience, I used to work at a company, and I had video conference with my clients.\n",
    "\n",
    "For me, It was not very helpful because we couldn't talk face-to-face."
   ]
  },
  {
   "cell_type": "markdown",
   "id": "910a5523",
   "metadata": {},
   "source": [
    "`-` 이유 2"
   ]
  },
  {
   "cell_type": "markdown",
   "id": "31b0c057",
   "metadata": {},
   "source": [
    "On top of that, talking face-to-face is more personal and builds a closer relationship with clients."
   ]
  },
  {
   "cell_type": "markdown",
   "id": "2fa2d6bf",
   "metadata": {},
   "source": [
    "`-` 예시 2"
   ]
  },
  {
   "cell_type": "markdown",
   "id": "8c9684f5",
   "metadata": {},
   "source": [
    "According to a recent news report, the majoriy of successful CEOs in korea said that talking face-to-face with clients is very important because it builds a closer relationship with clients and clients will be more satisfied.\n",
    "\n",
    "Therefore, I think this way."
   ]
  },
  {
   "cell_type": "markdown",
   "id": "7a664c09",
   "metadata": {},
   "source": [
    "***"
   ]
  },
  {
   "cell_type": "markdown",
   "id": "c6caffb2",
   "metadata": {},
   "source": [
    "## (6) 특징"
   ]
  },
  {
   "cell_type": "markdown",
   "id": "d50770fa",
   "metadata": {},
   "source": [
    "### set 11"
   ]
  },
  {
   "cell_type": "markdown",
   "id": "bc80aa8b",
   "metadata": {},
   "source": [
    "`-` 교재 170"
   ]
  },
  {
   "cell_type": "markdown",
   "id": "aa13fc28",
   "metadata": {},
   "source": [
    "Which of the following is the most important quality of a good business leader?\n",
    "\n",
    "1. Knowing how to deal with conflicts\n",
    "\n",
    "2. knowing how to listen to others\n",
    "\n",
    "3. organizational skills"
   ]
  },
  {
   "cell_type": "markdown",
   "id": "93a36499",
   "metadata": {},
   "source": [
    "#### answer"
   ]
  },
  {
   "cell_type": "markdown",
   "id": "88f0e0a7",
   "metadata": {},
   "source": [
    "I think knowing how to listen to others is the best important.\n",
    "\n",
    "let me explain why I think this way.\n",
    "\n",
    "\n",
    "Most of all, leaders can communicate with other employees better when they know how to listen to others.\n",
    "\n",
    "From my experience, I used to \n",
    "work at a company, and my manager knew how to listen to others. It was great because he was able to commnuicate with other employees very well.\n",
    "\n",
    "He was able to be a good team player and make good relationships wtih other employees.\n",
    "\n",
    "On top of that, accroding to a recent news report. the majority of successful CEOs in korea said that knowing how to listen to others is very imortant for leader because those leaders can make a friendly work atmosphere. **(만능문장 34)**\n",
    "\n",
    "\n",
    "Therefore, I think knowing how to listen to others is the most important."
   ]
  },
  {
   "cell_type": "markdown",
   "id": "473fe05d",
   "metadata": {},
   "source": [
    "### set 12"
   ]
  },
  {
   "cell_type": "markdown",
   "id": "77a4df1f",
   "metadata": {},
   "source": [
    "`-` 교재 171"
   ]
  },
  {
   "cell_type": "markdown",
   "id": "b59b674a",
   "metadata": {},
   "source": [
    "Do you agree or disagree with the following statement : New employees should be creative in order to succeed in their careers."
   ]
  },
  {
   "cell_type": "markdown",
   "id": "ce11d682",
   "metadata": {},
   "source": [
    "#### answer"
   ]
  },
  {
   "cell_type": "markdown",
   "id": "c3191d6e",
   "metadata": {},
   "source": [
    "i agree with the statement.\n",
    "\n",
    "Let me explain why i think this way.\n",
    "\n",
    "Most of all, creative employees are able to handle a variety of situation due to their creativity. **(만능문장42)**\n",
    "\n",
    "Everything is always changing, and there is a lot of competition, and they face a lot of challenges and difficulties.**(만능문장 40, 41)**\n",
    "\n",
    "If new employees are creative, they can handle a variety of situation (due to creativity. 생략가능)\n",
    "\n",
    "\n",
    "On top of that, according to a recent news report, the majority of successful CEOs in korea said that creativity is very important for new employeees because they can deal with problems more effectively if they are creative.\n",
    "\n",
    "Therefore, I agree with the statement."
   ]
  },
  {
   "cell_type": "markdown",
   "id": "495a4db3",
   "metadata": {},
   "source": [
    "### set 13"
   ]
  },
  {
   "cell_type": "markdown",
   "id": "6f0727af",
   "metadata": {},
   "source": [
    "`-` 교재 172"
   ]
  },
  {
   "cell_type": "markdown",
   "id": "aaeee826",
   "metadata": {},
   "source": [
    "Do you think pop stars can be good role models for other people?"
   ]
  },
  {
   "cell_type": "markdown",
   "id": "4c483bd9",
   "metadata": {},
   "source": [
    "#### answer"
   ]
  },
  {
   "cell_type": "markdown",
   "id": "231beddb",
   "metadata": {},
   "source": [
    "I agree with the statement.\n",
    "\n",
    "Let me explain why I think this way.\n",
    "\n",
    "Most of all, pop stars **can have a good reputation, and they can be very influential. So, they can motivate other people.(만능문장 37, 38, 39)**. \n",
    "\n",
    "\n",
    "For example, the korean pop group, BTS has a good reputation and is very influential. BTS motivates a lot of teenagers.\n",
    "\n",
    "On top of that, according to a recent news report, the majoriy of teenagers in korea said that pop stars are their good role models because pop stars motivate teenagers.\n",
    "\n",
    "Therfore, I agree with the statement."
   ]
  },
  {
   "cell_type": "markdown",
   "id": "782d281e",
   "metadata": {},
   "source": [
    "***"
   ]
  },
  {
   "cell_type": "markdown",
   "id": "62f78b03",
   "metadata": {},
   "source": [
    "## (7) 업무환경/기업성공"
   ]
  },
  {
   "cell_type": "markdown",
   "id": "88674ca7",
   "metadata": {},
   "source": [
    "### set 14"
   ]
  },
  {
   "cell_type": "markdown",
   "id": "56d7f70a",
   "metadata": {},
   "source": [
    "`-` 교재 174"
   ]
  },
  {
   "cell_type": "markdown",
   "id": "79cbb63a",
   "metadata": {},
   "source": [
    "Do you think telecommuting is better than working at an office?"
   ]
  },
  {
   "cell_type": "markdown",
   "id": "1627e749",
   "metadata": {},
   "source": [
    "#### answer"
   ]
  },
  {
   "cell_type": "markdown",
   "id": "b81d6d53",
   "metadata": {},
   "source": [
    "I think telecommuting is better than working at an office.\n",
    "\n",
    "Let me explain why I think this way.\n",
    "\n",
    "Most of all. employees can work more efficiently and productively.**(만능문장 44)**\n",
    "\n",
    "From my experience. I used to work from home For me, it was very helpful becasue **I felt very comfortable at home**. **It made a better environment, so I worked more efficiently and productively (만능문장 44, 46 혼합)**. \n",
    "\n",
    "Also, I was more satisfied with my job when I worked from home **(만능문장 45)**.\n",
    "\n",
    "\n",
    "On top of that, employees can be more satisfied with their jobs if they work from home.\n",
    "\n",
    "According to a rencent news report, the majority of office worker in korear said that they prefer to work from home,\n",
    "\n",
    "therefore, I think telecommuing is better than working at an office."
   ]
  },
  {
   "cell_type": "markdown",
   "id": "298a17c2",
   "metadata": {},
   "source": [
    "### set 15"
   ]
  },
  {
   "cell_type": "markdown",
   "id": "01121da3",
   "metadata": {},
   "source": [
    "`-` 교재 175"
   ]
  },
  {
   "cell_type": "markdown",
   "id": "ad49dfd2",
   "metadata": {},
   "source": [
    "What is the most important quality of start-up company should have in order to succeed in a market?\n",
    "\n",
    "1. good location\n",
    "\n",
    "2. variety of products\n",
    "\n",
    "3. great customer service"
   ]
  },
  {
   "cell_type": "markdown",
   "id": "1b99729d",
   "metadata": {},
   "source": [
    "#### answer"
   ]
  },
  {
   "cell_type": "markdown",
   "id": "ab5c02d5",
   "metadata": {},
   "source": [
    "i think a great customer service is the most important.\n",
    "\n",
    "Let me explain why I think this way.\n",
    "\n",
    "Most of all, customers will feel satisfied and remain loyal if a start-up company offers great customer service. **(만능문장 48)**\n",
    "\n",
    "From my experience, I visited a new restaurant in my town, and they offerd great customer service. I was very satisfied and became a regular customer.\n",
    "\n",
    "On top of that, according to a recent news report, the majority of successful CEos in korea said that a great service is very important in order to succeed in  a market because it can attract a lot of customers.\n",
    "\n",
    "therfore, I think a great customer service is the most important.\n",
    "\n"
   ]
  },
  {
   "cell_type": "markdown",
   "id": "151e0f06",
   "metadata": {},
   "source": [
    "***"
   ]
  },
  {
   "cell_type": "markdown",
   "id": "4ce1e796",
   "metadata": {},
   "source": [
    "## (8) 스트레스/건강"
   ]
  },
  {
   "cell_type": "markdown",
   "id": "4d04c6b5",
   "metadata": {},
   "source": [
    "### set 16"
   ]
  },
  {
   "cell_type": "markdown",
   "id": "25fb4fec",
   "metadata": {},
   "source": [
    "`-` 교재 177"
   ]
  },
  {
   "cell_type": "markdown",
   "id": "d2fcc14b",
   "metadata": {},
   "source": [
    "Which one do you think is the most important subject for high school students to learn?\n",
    "\n",
    "1. physical education\n",
    "\n",
    "2. math and science\n",
    "\n",
    "3. arts and crafts"
   ]
  },
  {
   "cell_type": "markdown",
   "id": "9e91ce10",
   "metadata": {},
   "source": [
    "#### answer"
   ]
  },
  {
   "cell_type": "markdown",
   "id": "7e7a2858",
   "metadata": {},
   "source": [
    "I think Physical education is the most important.\n",
    "\n",
    "Let me explain why I think this way.\n",
    "\n",
    "Most of all, physical education relives their stress and they can relax. **(만능문장 52)**\n",
    "\n",
    "From my experience, When I was a high school student, I had a lot of stress.\n",
    "\n",
    "howerver, I took a physical education classes, and they relived my stresss, so I was able to relax. It was good for my mental health.\n",
    "\n",
    "On top of that, **it is good for their physical health. (만능문장 53)**\n",
    "\n",
    "According to a recent news report, the majoriy of doctors in korea said that physical education is very beneficial for high school students because **it is good for their health. (만능문장 54)**\n",
    "\n",
    "\n",
    "therefore, I think this way."
   ]
  },
  {
   "cell_type": "markdown",
   "id": "5be231b5",
   "metadata": {},
   "source": [
    "### set 17"
   ]
  },
  {
   "cell_type": "markdown",
   "id": "61c44776",
   "metadata": {},
   "source": [
    "`-` 교재 178 "
   ]
  },
  {
   "cell_type": "markdown",
   "id": "65383844",
   "metadata": {},
   "source": [
    "Do you agree or disagree with the following statement : \n",
    "\n",
    "Vending machines should not be allowed in cafeterias of schools or workplaces.\n",
    "\n"
   ]
  },
  {
   "cell_type": "markdown",
   "id": "0a9334ac",
   "metadata": {},
   "source": [
    "#### answer"
   ]
  },
  {
   "cell_type": "markdown",
   "id": "08d3deb9",
   "metadata": {},
   "source": [
    "I agree with the statement.\n",
    "\n",
    "Let me explain why I think this way.\n",
    "\n",
    "Most of all, **It is not good for people's health.**\n",
    "\n",
    "From my experience, when I was a high school student, There was a vending machine in my school cafetia, and I used to buy sodas every day.\n",
    "\n",
    "For me, **it was not helpful at all. It developed unhealthy habits.**\n",
    "\n",
    "On top of that, accroding to recent news repot, the majority of doctors in korea said that **vending machines should not be allowed in cafeterias because people can develop unhealthy habits.**\n",
    "\n",
    "therefore. I agree with the statement.\n"
   ]
  },
  {
   "cell_type": "markdown",
   "id": "9e7e54d5",
   "metadata": {},
   "source": [
    "###  set 18"
   ]
  },
  {
   "cell_type": "markdown",
   "id": "07cdb965",
   "metadata": {},
   "source": [
    "Which of the following pastime activities would be the best way to relieve people's stress\n",
    "\n",
    "1. playing mobile game\n",
    "\n",
    "2. knitting\n",
    "\n",
    "3. walking a dog"
   ]
  },
  {
   "cell_type": "markdown",
   "id": "8e0f6bfa",
   "metadata": {},
   "source": [
    "#### answer"
   ]
  },
  {
   "cell_type": "markdown",
   "id": "3ffd5af3",
   "metadata": {},
   "source": [
    "I think playing mobile game is the best way to relieve people's stress\n",
    "\n",
    "Let me explain why I think this way.\n",
    "\n",
    "Most of all. **It's more fun and entertaining more knitting and walking a dog**\n",
    "\n",
    "From my experience, I like to play mobile game in my free time. it's great **because it's fun and entertaining, and I don't get bored.**\n",
    "\n",
    "On top of that, mobile games are very popular, so people love them.\n",
    "\n",
    "According to a recent news report, the majority of people in korea said that **playing mobile games is the best way to relieve their stress.** because it makes them happy and they can forget about their worries\n",
    "\n",
    "therefore, I think this way"
   ]
  },
  {
   "cell_type": "markdown",
   "id": "5c571cb3",
   "metadata": {},
   "source": [
    "***"
   ]
  },
  {
   "cell_type": "markdown",
   "id": "a6b5da3d",
   "metadata": {},
   "source": [
    "## (9) 환경"
   ]
  },
  {
   "cell_type": "markdown",
   "id": "f288c349",
   "metadata": {},
   "source": [
    "### set 19"
   ]
  },
  {
   "cell_type": "markdown",
   "id": "24919af7",
   "metadata": {},
   "source": [
    "`-` 교재 181"
   ]
  },
  {
   "cell_type": "markdown",
   "id": "1a077125",
   "metadata": {},
   "source": [
    " Do you think the goverment should make laws to have more people use  public transportation?"
   ]
  },
  {
   "cell_type": "markdown",
   "id": "f8102ddc",
   "metadata": {},
   "source": [
    "#### answer"
   ]
  },
  {
   "cell_type": "markdown",
   "id": "40bb379e",
   "metadata": {},
   "source": [
    "I agree with the statement.\n",
    "\n",
    "Let me explain why I think this way.\n",
    "\n",
    "Most of all, it is good for environment.**(만능문장 55)**\n",
    "\n",
    "Pollution is a serious issue these days. **(만능문장 56)**\n",
    "\n",
    "if the goverment makes laws to have more people use public transportation, it can make a cleaner environment. **(만능문장 57)**\n",
    "\n",
    "Then, we will able to protect environment.**(만능문장 58)**\n",
    "\n",
    "On top of that, According to a recent news report, the majority of environmental experts in korea said that public transfortation is very important because it is good for the environment. **(만능문장 55)**\n",
    "\n",
    "therfore, I think the goverment should make laws to have more people use public trasportation."
   ]
  },
  {
   "cell_type": "markdown",
   "id": "32cce5b5",
   "metadata": {},
   "source": [
    "***"
   ]
  },
  {
   "cell_type": "markdown",
   "id": "e0fe11eb",
   "metadata": {},
   "source": [
    "## (10) 과거 현재 비교"
   ]
  },
  {
   "cell_type": "markdown",
   "id": "e56a4fcd",
   "metadata": {},
   "source": [
    "### set 20"
   ]
  },
  {
   "cell_type": "markdown",
   "id": "abf43a08",
   "metadata": {},
   "source": [
    "`-` 교재 182 ~ 183"
   ]
  },
  {
   "cell_type": "markdown",
   "id": "1be8c032",
   "metadata": {},
   "source": [
    "Do you agree or disagree with the following statement :\n",
    "\n",
    "these days, people spend more time using their cell phones than in the past."
   ]
  },
  {
   "cell_type": "markdown",
   "id": "a84f2105",
   "metadata": {},
   "source": [
    "#### answer"
   ]
  },
  {
   "cell_type": "markdown",
   "id": "c13ceb75",
   "metadata": {},
   "source": [
    "I agree with the statement.\n",
    "\n",
    "Let me explain why I think this way.\n",
    "\n",
    "Most of all, thanks to technology, **people can do everything anytime anywhere on their smartphones.**\n",
    "\n",
    "So, people spend more time using their smartphones than in the past.\n",
    "\n",
    "However, in the past, they didn't have smartphones, so they were not able to do many things on their smartphones.\n",
    "\n",
    "So, people spent less time using their cellphones than now.\n",
    "\n",
    "therfore, I agree with the statement."
   ]
  },
  {
   "cell_type": "markdown",
   "id": "74a5f703",
   "metadata": {},
   "source": [
    "### set 21"
   ]
  },
  {
   "cell_type": "markdown",
   "id": "374af7f5",
   "metadata": {},
   "source": [
    "`-` 교재 184"
   ]
  },
  {
   "cell_type": "markdown",
   "id": "26a46b72",
   "metadata": {},
   "source": [
    "When you work at a company as anew employee, which one do you think is the best option.\n",
    "\n",
    "1. a bonus\n",
    "\n",
    "2. a long vacation\n",
    "\n",
    "3. flexible working hours"
   ]
  },
  {
   "cell_type": "markdown",
   "id": "4ed48622",
   "metadata": {},
   "source": [
    "#### answer"
   ]
  },
  {
   "cell_type": "markdown",
   "id": "766407d1",
   "metadata": {},
   "source": [
    "When I work at a company as a new employee, I think a long vacation is the best option for me.\n",
    "\n",
    "Let me explain why I think this way.\n",
    "\n",
    "Most of all, **it relieves my stress, and I can relax if I have a long vacation.**\n",
    "\n",
    "From my experience, I used to work at a company, and the company offered a long vacation for employees. \n",
    "\n",
    "For me, **it was very helpful because I was able to relax and work more efficiently and productively** after the vacation. **I was able to be more satisfied with my job.**\n",
    "\n",
    "On top of that, **employeess can learn new things during the vacation**.\n",
    "\n",
    "according to a recent news report, the majority of successful CEOs in korea said that a long vacation is very benefical for employees because **they can learn new thing and broaden their pespectives.** (during the vacation)\n",
    "\n",
    "therefore. I think this way."
   ]
  },
  {
   "cell_type": "markdown",
   "id": "0248b51b",
   "metadata": {},
   "source": [
    "### set 22"
   ]
  },
  {
   "cell_type": "markdown",
   "id": "0061fd64",
   "metadata": {},
   "source": [
    "`-` 교재 185"
   ]
  },
  {
   "cell_type": "markdown",
   "id": "81a59b2e",
   "metadata": {},
   "source": [
    "Do you think high school students should have organizational skills to do well at school? why?"
   ]
  },
  {
   "cell_type": "markdown",
   "id": "d2d50049",
   "metadata": {},
   "source": [
    "#### answer"
   ]
  },
  {
   "cell_type": "markdown",
   "id": "3bb3e472",
   "metadata": {},
   "source": [
    "I think high school students should have organizational skiils to do well at school.\n",
    "\n",
    "let me explain why I think this way.\n",
    "\n",
    "Most of all, **they can save time if they have organizational skills.**\n",
    "\n",
    "As you know, there is a lot of competition at school.\n",
    "\n",
    "However, if they have organizational skiils and can save time, **they can get good grades at school and will not fall in behind.**\n",
    "\n",
    "On top of that, students can set their own schedule better if they have organizational skills.\n",
    "\n",
    "Then, **they will not be distracted by other things and they can focus better on their studies.**\n",
    "\n",
    "therfore, I think this way."
   ]
  },
  {
   "cell_type": "markdown",
   "id": "f7d4a556",
   "metadata": {},
   "source": [
    "***"
   ]
  },
  {
   "cell_type": "markdown",
   "id": "a36e23ef",
   "metadata": {},
   "source": [
    "# 내 필살기"
   ]
  },
  {
   "cell_type": "markdown",
   "id": "ceb15fb4",
   "metadata": {},
   "source": [
    "1. 서론-연결문장은 배운대로!\n",
    "\n",
    "2. 노트 테이깅도 주장/단어, 주장/단어로 2개정도 쓰고\n",
    "\n",
    "3. 첫 번째, 두 번째 이유/사례 부분에서 우려먹자"
   ]
  }
 ],
 "metadata": {
  "kernelspec": {
   "display_name": "Python 3 (ipykernel)",
   "language": "python",
   "name": "python3"
  },
  "language_info": {
   "codemirror_mode": {
    "name": "ipython",
    "version": 3
   },
   "file_extension": ".py",
   "mimetype": "text/x-python",
   "name": "python",
   "nbconvert_exporter": "python",
   "pygments_lexer": "ipython3",
   "version": "3.9.13"
  },
  "toc": {
   "base_numbering": 1,
   "nav_menu": {},
   "number_sections": false,
   "sideBar": true,
   "skip_h1_title": false,
   "title_cell": "Table of Contents",
   "title_sidebar": "Contents",
   "toc_cell": false,
   "toc_position": {
    "height": "calc(100% - 180px)",
    "left": "10px",
    "top": "150px",
    "width": "253.935px"
   },
   "toc_section_display": true,
   "toc_window_display": true
  }
 },
 "nbformat": 4,
 "nbformat_minor": 5
}
