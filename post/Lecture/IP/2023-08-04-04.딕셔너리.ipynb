{
 "cells": [
  {
   "cell_type": "raw",
   "id": "87993d39-8b4c-4a34-b1c6-7a0763ea013f",
   "metadata": {},
   "source": [
    "---\n",
    "title : \"04. 딕셔너리\"\n",
    "date : \"08/04/23\"\n",
    "categories : [\"Python\"]\n",
    "author : \"GANGCHEOL LEE\"\n",
    "---"
   ]
  },
  {
   "cell_type": "markdown",
   "id": "66dea7b5-6ed1-4468-9209-8a5ac8226564",
   "metadata": {},
   "source": [
    "# Dictionary basic"
   ]
  },
  {
   "cell_type": "markdown",
   "id": "4c71624e-d718-4c53-b363-c172098b7edb",
   "metadata": {},
   "source": [
    "`-` 딕셔너리는 `key` 값과 `value`로 구성되어있다."
   ]
  },
  {
   "cell_type": "markdown",
   "id": "548f9bf8-ca29-4e19-9da3-7be38c481c69",
   "metadata": {},
   "source": [
    "`-` 순서대로 정리된 자료를 검색할 때는 시퀀스형(리스트, 튜플,string)이 유리하나, 키워드로 검색하고 싶을때는 딕셔너리 타입이 유리하다."
   ]
  },
  {
   "cell_type": "markdown",
   "id": "1d919efb-878e-499b-85da-900962425ee7",
   "metadata": {},
   "source": [
    "## 선언"
   ]
  },
  {
   "cell_type": "markdown",
   "id": "04ce3321-1c9b-4883-9e34-56632df02404",
   "metadata": {},
   "source": [
    "### 방법 1. 가장 일반적"
   ]
  },
  {
   "cell_type": "code",
   "execution_count": 3,
   "id": "d8ba9fec-b9d4-48d7-b225-0923c3d4a080",
   "metadata": {},
   "outputs": [],
   "source": [
    "dct=  {\"a\" : 1, \"b\":2}"
   ]
  },
  {
   "cell_type": "code",
   "execution_count": 4,
   "id": "6d1ea0bb-3345-4e03-86a1-8175fa1c78ec",
   "metadata": {},
   "outputs": [
    {
     "data": {
      "text/plain": [
       "{'a': 1, 'b': 2}"
      ]
     },
     "execution_count": 4,
     "metadata": {},
     "output_type": "execute_result"
    }
   ],
   "source": [
    "dct"
   ]
  },
  {
   "cell_type": "markdown",
   "id": "1be07215-84be-4ded-acdc-fd63d8b895f4",
   "metadata": {},
   "source": [
    "### 방법 2. dict"
   ]
  },
  {
   "cell_type": "code",
   "execution_count": 5,
   "id": "bcc2f3b7-6675-431d-9ca7-df44cf25f15b",
   "metadata": {},
   "outputs": [],
   "source": [
    "dct = dict(a=1, b=2)"
   ]
  },
  {
   "cell_type": "code",
   "execution_count": 6,
   "id": "1180d6ab-041f-4118-9ea7-2f171d0ab6e7",
   "metadata": {},
   "outputs": [
    {
     "data": {
      "text/plain": [
       "{'a': 1, 'b': 2}"
      ]
     },
     "execution_count": 6,
     "metadata": {},
     "output_type": "execute_result"
    }
   ],
   "source": [
    "dct"
   ]
  },
  {
   "cell_type": "markdown",
   "id": "e495ad17-4584-4214-a7be-de716fcf5e7a",
   "metadata": {},
   "source": [
    "### 방법 3. 중첩된 리스트"
   ]
  },
  {
   "cell_type": "code",
   "execution_count": 7,
   "id": "a1658e54-6925-418b-9988-c38a27121ed3",
   "metadata": {},
   "outputs": [],
   "source": [
    "dct = dict([[\"a\",1],[\"b\",2]])"
   ]
  },
  {
   "cell_type": "code",
   "execution_count": 8,
   "id": "55655d77-2fd5-4c22-8502-566ca118f05f",
   "metadata": {},
   "outputs": [
    {
     "data": {
      "text/plain": [
       "{'a': 1, 'b': 2}"
      ]
     },
     "execution_count": 8,
     "metadata": {},
     "output_type": "execute_result"
    }
   ],
   "source": [
    "dct"
   ]
  },
  {
   "cell_type": "markdown",
   "id": "0cd2126c-dbe1-4a93-a9ce-b92b56d9ff30",
   "metadata": {},
   "source": [
    "### 방법 4. 튜플"
   ]
  },
  {
   "cell_type": "code",
   "execution_count": 9,
   "id": "a1af8bb0-c450-4f65-8fdd-bff4660dcc31",
   "metadata": {},
   "outputs": [],
   "source": [
    "dct = (\"a\",1),(\"b\",2)"
   ]
  },
  {
   "cell_type": "code",
   "execution_count": 10,
   "id": "8d8f56ec-9178-4de0-a48d-e0b2e169dd18",
   "metadata": {},
   "outputs": [
    {
     "data": {
      "text/plain": [
       "{'a': 1, 'b': 2}"
      ]
     },
     "execution_count": 10,
     "metadata": {},
     "output_type": "execute_result"
    }
   ],
   "source": [
    "dict(dct)"
   ]
  },
  {
   "cell_type": "markdown",
   "id": "8ce6c3d6-1315-4cc5-9456-7dd495fd01ab",
   "metadata": {},
   "source": [
    "## 원소 추출"
   ]
  },
  {
   "cell_type": "markdown",
   "id": "fe1ff7fc-3486-43dd-8040-b58f0a0ffd93",
   "metadata": {},
   "source": [
    "`-` key값을 이용해서 추출해야한다."
   ]
  },
  {
   "cell_type": "code",
   "execution_count": 11,
   "id": "a852eab5-b998-48cd-9137-91f21686e1bf",
   "metadata": {},
   "outputs": [],
   "source": [
    "dct = dict(dct)"
   ]
  },
  {
   "cell_type": "code",
   "execution_count": 12,
   "id": "96ffd77c-fb5e-4091-8fc7-77308cadcd6a",
   "metadata": {},
   "outputs": [
    {
     "data": {
      "text/plain": [
       "{'a': 1, 'b': 2}"
      ]
     },
     "execution_count": 12,
     "metadata": {},
     "output_type": "execute_result"
    }
   ],
   "source": [
    "dct"
   ]
  },
  {
   "cell_type": "code",
   "execution_count": 13,
   "id": "444eb04c-aa81-4422-8a05-f9b338f1dab9",
   "metadata": {},
   "outputs": [
    {
     "data": {
      "text/plain": [
       "1"
      ]
     },
     "execution_count": 13,
     "metadata": {},
     "output_type": "execute_result"
    }
   ],
   "source": [
    "dct[\"a\"]"
   ]
  },
  {
   "cell_type": "markdown",
   "id": "b1be5062-e8d6-4ad5-abd7-275a85a078cc",
   "metadata": {},
   "source": [
    "### ex1. 딕셔너리를 쓰는 이유"
   ]
  },
  {
   "cell_type": "markdown",
   "id": "40ef3a3b-42f5-4e10-a42e-ceb57acbfd4c",
   "metadata": {},
   "source": [
    "`-` 아래와 같은 구조가 있다고 하자."
   ]
  },
  {
   "cell_type": "code",
   "execution_count": 14,
   "id": "54498acc-ace0-4535-bc46-14a91225e68c",
   "metadata": {},
   "outputs": [],
   "source": [
    "lst = [[\"a\",1],[\"b\",2]]"
   ]
  },
  {
   "cell_type": "code",
   "execution_count": 15,
   "id": "e110d642-2ee3-4d03-a337-03b97edbfb4d",
   "metadata": {},
   "outputs": [
    {
     "data": {
      "text/plain": [
       "[['a', 1], ['b', 2]]"
      ]
     },
     "execution_count": 15,
     "metadata": {},
     "output_type": "execute_result"
    }
   ],
   "source": [
    "lst"
   ]
  },
  {
   "cell_type": "markdown",
   "id": "f7d80a52-b173-4369-9b70-697f8ccfc8a2",
   "metadata": {},
   "source": [
    "`-` 여기에서 a의 값을 알려면?"
   ]
  },
  {
   "cell_type": "markdown",
   "id": "25a2dcae-ac69-44e1-9cb6-5bf9a6b60a59",
   "metadata": {},
   "source": [
    "#### 리스트 컴프리헨션"
   ]
  },
  {
   "cell_type": "markdown",
   "id": "21631168-ab30-4721-be97-d55e7d81273a",
   "metadata": {},
   "source": [
    "* 기존의 우리가 배운 리스트 컴프리헨션 방식으로"
   ]
  },
  {
   "cell_type": "code",
   "execution_count": 16,
   "id": "cfd782d2-9a01-4ab0-a6ce-1c137de4c77d",
   "metadata": {},
   "outputs": [
    {
     "data": {
      "text/plain": [
       "[1]"
      ]
     },
     "execution_count": 16,
     "metadata": {},
     "output_type": "execute_result"
    }
   ],
   "source": [
    "[s for n,s in lst if n==\"a\"]"
   ]
  },
  {
   "cell_type": "markdown",
   "id": "cb7c15a1-1016-4e16-a335-232a6c0ce268",
   "metadata": {},
   "source": [
    "#### 딕셔너리를 이용한 풀이"
   ]
  },
  {
   "cell_type": "code",
   "execution_count": 21,
   "id": "e9c97d8b-b433-4cde-8045-931bcbc3546b",
   "metadata": {},
   "outputs": [
    {
     "data": {
      "text/plain": [
       "1"
      ]
     },
     "execution_count": 21,
     "metadata": {},
     "output_type": "execute_result"
    }
   ],
   "source": [
    "dict(lst)[\"a\"]"
   ]
  },
  {
   "cell_type": "markdown",
   "id": "3f9af94e-d1be-42a3-9d9b-a3cd23a9393e",
   "metadata": {},
   "source": [
    "## 원소 추가, 변경, 삭제"
   ]
  },
  {
   "cell_type": "code",
   "execution_count": 23,
   "id": "bfd11ab7-b804-4be1-a0c6-fc333d825c78",
   "metadata": {},
   "outputs": [],
   "source": [
    "dct = dict(lst)"
   ]
  },
  {
   "cell_type": "code",
   "execution_count": 24,
   "id": "40c02585-998f-404e-80fe-9874c1ab800e",
   "metadata": {},
   "outputs": [
    {
     "data": {
      "text/plain": [
       "{'a': 1, 'b': 2}"
      ]
     },
     "execution_count": 24,
     "metadata": {},
     "output_type": "execute_result"
    }
   ],
   "source": [
    "dct"
   ]
  },
  {
   "cell_type": "markdown",
   "id": "042ca565-624f-4e71-b85c-03ad0fe0db59",
   "metadata": {},
   "source": [
    "### 추가"
   ]
  },
  {
   "cell_type": "code",
   "execution_count": 25,
   "id": "4fa3d682-4660-4ffb-a2c8-254df3d01bf9",
   "metadata": {},
   "outputs": [],
   "source": [
    "dct[\"c\"] = 3"
   ]
  },
  {
   "cell_type": "code",
   "execution_count": 26,
   "id": "956da67c-5ef7-4c8a-807a-2b051b19266d",
   "metadata": {},
   "outputs": [
    {
     "data": {
      "text/plain": [
       "{'a': 1, 'b': 2, 'c': 3}"
      ]
     },
     "execution_count": 26,
     "metadata": {},
     "output_type": "execute_result"
    }
   ],
   "source": [
    "dct"
   ]
  },
  {
   "cell_type": "markdown",
   "id": "13574fa9-3e14-4c65-b77d-e00d928d9e1b",
   "metadata": {},
   "source": [
    "### 삭제"
   ]
  },
  {
   "cell_type": "markdown",
   "id": "22b7435e-a3bd-43b0-b5ea-caab3483f87f",
   "metadata": {},
   "source": [
    "`-` 방법 1"
   ]
  },
  {
   "cell_type": "code",
   "execution_count": 28,
   "id": "2feeaad1-b4cf-4832-9ffb-347382afd6f4",
   "metadata": {},
   "outputs": [],
   "source": [
    "del dct[\"a\"]"
   ]
  },
  {
   "cell_type": "code",
   "execution_count": 29,
   "id": "5d51f06d-f119-4e2d-9674-003f60b9de7d",
   "metadata": {},
   "outputs": [
    {
     "data": {
      "text/plain": [
       "{'b': 2, 'c': 3}"
      ]
     },
     "execution_count": 29,
     "metadata": {},
     "output_type": "execute_result"
    }
   ],
   "source": [
    "dct"
   ]
  },
  {
   "cell_type": "markdown",
   "id": "c1c8d4b5-6c1d-49c8-afe0-9063296c8595",
   "metadata": {},
   "source": [
    "`-` 방법 2"
   ]
  },
  {
   "cell_type": "code",
   "execution_count": 30,
   "id": "cded286e-2c8c-48eb-bcdd-7b93d1131d96",
   "metadata": {},
   "outputs": [
    {
     "data": {
      "text/plain": [
       "2"
      ]
     },
     "execution_count": 30,
     "metadata": {},
     "output_type": "execute_result"
    }
   ],
   "source": [
    "dct.pop(\"b\")"
   ]
  },
  {
   "cell_type": "code",
   "execution_count": 31,
   "id": "f0c375d1-826f-4ecb-ad14-69152827540a",
   "metadata": {},
   "outputs": [
    {
     "data": {
      "text/plain": [
       "{'c': 3}"
      ]
     },
     "execution_count": 31,
     "metadata": {},
     "output_type": "execute_result"
    }
   ],
   "source": [
    "dct"
   ]
  },
  {
   "cell_type": "markdown",
   "id": "8e973b7a-4e3b-4bd1-825e-3c7a4488f306",
   "metadata": {},
   "source": [
    "### 만약 리스트였다면?"
   ]
  },
  {
   "cell_type": "code",
   "execution_count": 32,
   "id": "63abc6c8-3c10-44d7-a02d-09441dda2009",
   "metadata": {},
   "outputs": [],
   "source": [
    "dct = dict(lst)"
   ]
  },
  {
   "cell_type": "code",
   "execution_count": 33,
   "id": "78910f58-c637-4068-8dd6-520325422675",
   "metadata": {},
   "outputs": [
    {
     "data": {
      "text/plain": [
       "{'a': 1, 'b': 2}"
      ]
     },
     "execution_count": 33,
     "metadata": {},
     "output_type": "execute_result"
    }
   ],
   "source": [
    "dct"
   ]
  },
  {
   "cell_type": "code",
   "execution_count": 37,
   "id": "b90cc4e2-a185-44f6-92be-8317f8c3b821",
   "metadata": {},
   "outputs": [
    {
     "data": {
      "text/plain": [
       "[['b', 2]]"
      ]
     },
     "execution_count": 37,
     "metadata": {},
     "output_type": "execute_result"
    }
   ],
   "source": [
    "[[n,s] for n,s in lst if n!= \"a\"]"
   ]
  },
  {
   "cell_type": "markdown",
   "id": "5269d317-89f8-41e6-b1c7-b7c05990a85c",
   "metadata": {},
   "source": [
    "## 연산"
   ]
  },
  {
   "cell_type": "code",
   "execution_count": 38,
   "id": "2de30e90-c03a-4908-97d1-f312045b6343",
   "metadata": {},
   "outputs": [
    {
     "data": {
      "text/plain": [
       "{'a': 1, 'b': 2}"
      ]
     },
     "execution_count": 38,
     "metadata": {},
     "output_type": "execute_result"
    }
   ],
   "source": [
    "dct"
   ]
  },
  {
   "cell_type": "code",
   "execution_count": 39,
   "id": "aa1ad4a2-01e1-4f13-af12-78dd6d5bd73f",
   "metadata": {},
   "outputs": [
    {
     "data": {
      "text/plain": [
       "True"
      ]
     },
     "execution_count": 39,
     "metadata": {},
     "output_type": "execute_result"
    }
   ],
   "source": [
    "\"a\" in dct"
   ]
  },
  {
   "cell_type": "code",
   "execution_count": 40,
   "id": "e700ee59-45ef-485f-9f19-2f88aec5d5c6",
   "metadata": {},
   "outputs": [
    {
     "data": {
      "text/plain": [
       "True"
      ]
     },
     "execution_count": 40,
     "metadata": {},
     "output_type": "execute_result"
    }
   ],
   "source": [
    "\"b\" in dct"
   ]
  },
  {
   "cell_type": "markdown",
   "id": "674f2943-b3f9-49e6-b2f1-07535da7d36f",
   "metadata": {},
   "source": [
    "`-` 아래의 경우를 보고 딕셔너리의 `in`은 `key`값의 유무를 판단한다. "
   ]
  },
  {
   "cell_type": "code",
   "execution_count": 41,
   "id": "e96c9484-441f-4e5c-8310-b5cff860e2e8",
   "metadata": {},
   "outputs": [
    {
     "data": {
      "text/plain": [
       "False"
      ]
     },
     "execution_count": 41,
     "metadata": {},
     "output_type": "execute_result"
    }
   ],
   "source": [
    "1 in dct"
   ]
  },
  {
   "cell_type": "markdown",
   "id": "91d9a2ab-6f1e-4412-b2a3-550256e73c6f",
   "metadata": {},
   "source": [
    "## 특수 기능"
   ]
  },
  {
   "cell_type": "code",
   "execution_count": 45,
   "id": "1265ae8e-4fae-4bd4-9004-7a89430e2ba0",
   "metadata": {},
   "outputs": [
    {
     "data": {
      "text/plain": [
       "{'a': 1, 'b': 2}"
      ]
     },
     "execution_count": 45,
     "metadata": {},
     "output_type": "execute_result"
    }
   ],
   "source": [
    "dct"
   ]
  },
  {
   "cell_type": "code",
   "execution_count": 43,
   "id": "3716ed0b-e286-4426-9083-8da0f59e2d56",
   "metadata": {},
   "outputs": [
    {
     "data": {
      "text/plain": [
       "dict_keys(['a', 'b'])"
      ]
     },
     "execution_count": 43,
     "metadata": {},
     "output_type": "execute_result"
    }
   ],
   "source": [
    "dct.keys()"
   ]
  },
  {
   "cell_type": "code",
   "execution_count": 44,
   "id": "0d2de7b2-6ff6-4aff-a60b-0582be1a15a9",
   "metadata": {},
   "outputs": [
    {
     "data": {
      "text/plain": [
       "dict_values([1, 2])"
      ]
     },
     "execution_count": 44,
     "metadata": {},
     "output_type": "execute_result"
    }
   ],
   "source": [
    "dct.values()"
   ]
  },
  {
   "cell_type": "code",
   "execution_count": 46,
   "id": "dfd4b560-014e-48de-a477-d26dd6a9f28d",
   "metadata": {},
   "outputs": [
    {
     "data": {
      "text/plain": [
       "dict_items([('a', 1), ('b', 2)])"
      ]
     },
     "execution_count": 46,
     "metadata": {},
     "output_type": "execute_result"
    }
   ],
   "source": [
    "dct.items()"
   ]
  },
  {
   "cell_type": "code",
   "execution_count": 47,
   "id": "846dcd58-df63-4f69-b2c7-7d0b993a2ca9",
   "metadata": {},
   "outputs": [
    {
     "data": {
      "text/plain": [
       "1"
      ]
     },
     "execution_count": 47,
     "metadata": {},
     "output_type": "execute_result"
    }
   ],
   "source": [
    "dct.get(\"a\")"
   ]
  },
  {
   "cell_type": "markdown",
   "id": "f7804f45-dc3c-4472-9366-4c16414df736",
   "metadata": {},
   "source": [
    "## for + dict($\\star$)"
   ]
  },
  {
   "cell_type": "code",
   "execution_count": 48,
   "id": "68635b32-c9e9-4c74-a87d-be4453e9a21f",
   "metadata": {},
   "outputs": [
    {
     "data": {
      "text/plain": [
       "{'a': 1, 'b': 2}"
      ]
     },
     "execution_count": 48,
     "metadata": {},
     "output_type": "execute_result"
    }
   ],
   "source": [
    "dct"
   ]
  },
  {
   "cell_type": "code",
   "execution_count": 50,
   "id": "24a7d4b7-10ce-4cc5-9c66-46b0f5194c33",
   "metadata": {},
   "outputs": [
    {
     "name": "stdout",
     "output_type": "stream",
     "text": [
      "a\n",
      "b\n"
     ]
    }
   ],
   "source": [
    "for k in dct.keys():\n",
    "    print(k)"
   ]
  },
  {
   "cell_type": "code",
   "execution_count": 51,
   "id": "4ea263bd-a326-4d58-b5bb-efae6e7822a4",
   "metadata": {},
   "outputs": [
    {
     "name": "stdout",
     "output_type": "stream",
     "text": [
      "a\n",
      "b\n"
     ]
    }
   ],
   "source": [
    "for k in dct:\n",
    "    print(k)"
   ]
  },
  {
   "cell_type": "code",
   "execution_count": 53,
   "id": "d43cf6bc-8bae-4696-b3b3-d6468fb65fbd",
   "metadata": {},
   "outputs": [
    {
     "data": {
      "text/plain": [
       "['a', 'b']"
      ]
     },
     "execution_count": 53,
     "metadata": {},
     "output_type": "execute_result"
    }
   ],
   "source": [
    "list(dct)"
   ]
  },
  {
   "cell_type": "code",
   "execution_count": 52,
   "id": "867ac09c-0390-4c64-969f-8444408afbb0",
   "metadata": {},
   "outputs": [
    {
     "name": "stdout",
     "output_type": "stream",
     "text": [
      "a\n",
      "b\n"
     ]
    }
   ],
   "source": [
    "for k in list(dct):\n",
    "    print(k)"
   ]
  },
  {
   "cell_type": "markdown",
   "id": "234211f3-69c3-4b80-96d7-57c767121d2a",
   "metadata": {},
   "source": [
    "`-` 딕셔너리 그 자체도 for문에 넣을 수 있음."
   ]
  },
  {
   "cell_type": "markdown",
   "id": "f21a47aa-7f01-4223-9620-ef8262c711b8",
   "metadata": {},
   "source": [
    "`-` 단 key값만 들어감"
   ]
  },
  {
   "cell_type": "code",
   "execution_count": 54,
   "id": "e667dd56-fe5d-4829-ac33-1b80e4438c12",
   "metadata": {},
   "outputs": [
    {
     "name": "stdout",
     "output_type": "stream",
     "text": [
      "1\n",
      "2\n"
     ]
    }
   ],
   "source": [
    "for v in dct.values():\n",
    "    print(v)"
   ]
  },
  {
   "cell_type": "code",
   "execution_count": 55,
   "id": "346a26fe-939d-4f89-a43a-b116f96129fa",
   "metadata": {},
   "outputs": [
    {
     "name": "stdout",
     "output_type": "stream",
     "text": [
      "('a', 1)\n",
      "('b', 2)\n"
     ]
    }
   ],
   "source": [
    "for i in dct.items():\n",
    "    print(i)"
   ]
  },
  {
   "cell_type": "code",
   "execution_count": 56,
   "id": "1f09aab4-1b96-4008-b443-9adeb848f001",
   "metadata": {},
   "outputs": [
    {
     "name": "stdout",
     "output_type": "stream",
     "text": [
      "a은 1입니다.\n",
      "b은 2입니다.\n"
     ]
    }
   ],
   "source": [
    "for n,s in dct.items():\n",
    "    print(\"{}은 {}입니다.\".format(n,s))"
   ]
  },
  {
   "cell_type": "markdown",
   "id": "43920e93-5481-434e-9421-d7ea27b1ad54",
   "metadata": {},
   "source": [
    "# Dictionary advanced($\\star$)"
   ]
  },
  {
   "cell_type": "code",
   "execution_count": 58,
   "id": "7e4145ab-01d6-4122-b678-1b956525129d",
   "metadata": {},
   "outputs": [
    {
     "data": {
      "text/plain": [
       "{'a': 1, 'b': 2}"
      ]
     },
     "execution_count": 58,
     "metadata": {},
     "output_type": "execute_result"
    }
   ],
   "source": [
    "dct"
   ]
  },
  {
   "cell_type": "markdown",
   "id": "4aa4d9b7-8526-4935-bcbe-5adcf24c37f6",
   "metadata": {},
   "source": [
    "## key값만 뽑기"
   ]
  },
  {
   "cell_type": "code",
   "execution_count": 62,
   "id": "1736e6e7-2a46-4d9a-a804-6d10b49241df",
   "metadata": {},
   "outputs": [
    {
     "data": {
      "text/plain": [
       "['a', 'b']"
      ]
     },
     "execution_count": 62,
     "metadata": {},
     "output_type": "execute_result"
    }
   ],
   "source": [
    "list(dct)"
   ]
  },
  {
   "cell_type": "code",
   "execution_count": 64,
   "id": "5f1dd251-9431-4f64-b345-692eab83bff8",
   "metadata": {},
   "outputs": [
    {
     "data": {
      "text/plain": [
       "['a', 'b']"
      ]
     },
     "execution_count": 64,
     "metadata": {},
     "output_type": "execute_result"
    }
   ],
   "source": [
    "list(dct.keys())"
   ]
  },
  {
   "cell_type": "code",
   "execution_count": 65,
   "id": "2e2d735b-5ca9-4fd4-a149-6bfea0151d00",
   "metadata": {},
   "outputs": [
    {
     "data": {
      "text/plain": [
       "['a', 'b']"
      ]
     },
     "execution_count": 65,
     "metadata": {},
     "output_type": "execute_result"
    }
   ],
   "source": [
    "[k for k in dct]"
   ]
  },
  {
   "cell_type": "code",
   "execution_count": 66,
   "id": "8ef84c9f-e152-4072-98f1-32a034d46ab8",
   "metadata": {},
   "outputs": [
    {
     "data": {
      "text/plain": [
       "['a', 'b']"
      ]
     },
     "execution_count": 66,
     "metadata": {},
     "output_type": "execute_result"
    }
   ],
   "source": [
    "[k for k,v in dct.items()]"
   ]
  },
  {
   "cell_type": "markdown",
   "id": "bd881092-7bab-422b-933d-40cefe9ccd8d",
   "metadata": {},
   "source": [
    "## value만 뽑기"
   ]
  },
  {
   "cell_type": "code",
   "execution_count": 67,
   "id": "a29874cd-0713-408f-8142-61351a72db72",
   "metadata": {},
   "outputs": [
    {
     "data": {
      "text/plain": [
       "[1, 2]"
      ]
     },
     "execution_count": 67,
     "metadata": {},
     "output_type": "execute_result"
    }
   ],
   "source": [
    "[v for k,v in dct.items()]"
   ]
  },
  {
   "cell_type": "code",
   "execution_count": 71,
   "id": "4f802d44-a893-482f-8591-9001b33304b3",
   "metadata": {},
   "outputs": [
    {
     "data": {
      "text/plain": [
       "[1, 2]"
      ]
     },
     "execution_count": 71,
     "metadata": {},
     "output_type": "execute_result"
    }
   ],
   "source": [
    "list(dct.values())"
   ]
  },
  {
   "cell_type": "code",
   "execution_count": 73,
   "id": "67ba7e15-a62a-47b4-938b-23efa9913fe9",
   "metadata": {},
   "outputs": [
    {
     "data": {
      "text/plain": [
       "[1, 2]"
      ]
     },
     "execution_count": 73,
     "metadata": {},
     "output_type": "execute_result"
    }
   ],
   "source": [
    "[v for v in dct.values()]"
   ]
  },
  {
   "cell_type": "code",
   "execution_count": 75,
   "id": "4e86c862-4374-48f2-9e31-9febafc55363",
   "metadata": {},
   "outputs": [
    {
     "data": {
      "text/plain": [
       "[1, 2]"
      ]
     },
     "execution_count": 75,
     "metadata": {},
     "output_type": "execute_result"
    }
   ],
   "source": [
    "[dct[k] for k in dct ]"
   ]
  },
  {
   "cell_type": "markdown",
   "id": "7bda4e45-fa6c-4936-bf66-31db55242a4f",
   "metadata": {},
   "source": [
    "## ex1) 변환"
   ]
  },
  {
   "cell_type": "code",
   "execution_count": 81,
   "id": "21b920ec-0569-4d33-bc87-c11094990433",
   "metadata": {},
   "outputs": [],
   "source": [
    "lst = list(\"abcd\"*2)"
   ]
  },
  {
   "cell_type": "code",
   "execution_count": 82,
   "id": "4cf9aa80-43d7-48ca-ba8d-204153044a89",
   "metadata": {},
   "outputs": [
    {
     "data": {
      "text/plain": [
       "['a', 'b', 'c', 'd', 'a', 'b', 'c', 'd']"
      ]
     },
     "execution_count": 82,
     "metadata": {},
     "output_type": "execute_result"
    }
   ],
   "source": [
    "lst"
   ]
  },
  {
   "cell_type": "markdown",
   "id": "407d13bf-393b-4af8-9210-875a83c5e147",
   "metadata": {},
   "source": [
    "|변환전|변환후|\n",
    "|-----|------|\n",
    "|a|[1,0,0,0]|\n",
    "|b|[0,1,0,0]|\n",
    "|c|[0,0,1,0]|\n",
    "|d|[0,0,0,1]|"
   ]
  },
  {
   "cell_type": "code",
   "execution_count": 87,
   "id": "715ef5d2-f612-45df-9797-66efceb54870",
   "metadata": {},
   "outputs": [],
   "source": [
    "dct = {\"a\": [1,0,0,0],\n",
    "      \"b\": [0,1,0,0],\n",
    "      \"c\": [0,0,1,0],\n",
    "      \"d\": [0,0,0,1]}"
   ]
  },
  {
   "cell_type": "code",
   "execution_count": 88,
   "id": "1818426c-a01f-4206-a638-c0e7d3c7d983",
   "metadata": {},
   "outputs": [
    {
     "data": {
      "text/plain": [
       "{'a': [1, 0, 0, 0], 'b': [0, 1, 0, 0], 'c': [0, 0, 1, 0], 'd': [0, 0, 0, 1]}"
      ]
     },
     "execution_count": 88,
     "metadata": {},
     "output_type": "execute_result"
    }
   ],
   "source": [
    "dct"
   ]
  },
  {
   "cell_type": "markdown",
   "id": "a18ae860-956b-4c10-a19d-7f86e3796af7",
   "metadata": {},
   "source": [
    "### Sol"
   ]
  },
  {
   "cell_type": "code",
   "execution_count": 89,
   "id": "21416b4f-9da5-4d7f-972f-2f895476605f",
   "metadata": {},
   "outputs": [
    {
     "data": {
      "text/plain": [
       "[[1, 0, 0, 0], [0, 1, 0, 0], [0, 0, 1, 0], [0, 0, 0, 1]]"
      ]
     },
     "execution_count": 89,
     "metadata": {},
     "output_type": "execute_result"
    }
   ],
   "source": [
    "[v for v in dct.values()]"
   ]
  },
  {
   "cell_type": "markdown",
   "id": "bc679ab0-5e11-40c7-afc1-d09d1896d42b",
   "metadata": {},
   "source": [
    "## ex2) 역변환"
   ]
  },
  {
   "cell_type": "code",
   "execution_count": 93,
   "id": "7229b1f4-17c6-442e-adee-ac38b75adf61",
   "metadata": {},
   "outputs": [],
   "source": [
    "lst=[v for v in dct.values()]*2"
   ]
  },
  {
   "cell_type": "code",
   "execution_count": 94,
   "id": "af298391-c433-417a-a4a6-c0a7ce27db87",
   "metadata": {},
   "outputs": [
    {
     "data": {
      "text/plain": [
       "[[1, 0, 0, 0],\n",
       " [0, 1, 0, 0],\n",
       " [0, 0, 1, 0],\n",
       " [0, 0, 0, 1],\n",
       " [1, 0, 0, 0],\n",
       " [0, 1, 0, 0],\n",
       " [0, 0, 1, 0],\n",
       " [0, 0, 0, 1]]"
      ]
     },
     "execution_count": 94,
     "metadata": {},
     "output_type": "execute_result"
    }
   ],
   "source": [
    "lst"
   ]
  },
  {
   "cell_type": "markdown",
   "id": "9e7a6c15-4d39-436e-bb64-9b186aa8a4b2",
   "metadata": {},
   "source": [
    "### Sol"
   ]
  },
  {
   "cell_type": "code",
   "execution_count": 119,
   "id": "76f7a9cf-b6c2-4ed2-991e-06b180efd3d3",
   "metadata": {},
   "outputs": [
    {
     "data": {
      "text/plain": [
       "['a', 'b', 'c', 'd', 'a', 'b', 'c', 'd']"
      ]
     },
     "execution_count": 119,
     "metadata": {},
     "output_type": "execute_result"
    }
   ],
   "source": [
    "[k for i in lst for k,v in dct.items() if v == i]"
   ]
  },
  {
   "cell_type": "markdown",
   "id": "336dbd49-3f3c-4945-838e-5711dd47790d",
   "metadata": {},
   "source": [
    "## ex3)"
   ]
  },
  {
   "cell_type": "code",
   "execution_count": 120,
   "id": "7b209d35-f6dc-4f73-bf4b-1a0a085df425",
   "metadata": {},
   "outputs": [],
   "source": [
    "lst = ['딸기','사과','바나나','딸기','사과','오토바이','자동차','버스','기차','오토바이','자동차']"
   ]
  },
  {
   "cell_type": "code",
   "execution_count": 123,
   "id": "0b1a78e8-1f13-4157-82ff-c7e6ce12c857",
   "metadata": {},
   "outputs": [
    {
     "data": {
      "text/plain": [
       "['딸기', '사과', '바나나', '딸기', '사과', '오토바이', '자동차', '버스', '기차', '오토바이', '자동차']"
      ]
     },
     "execution_count": 123,
     "metadata": {},
     "output_type": "execute_result"
    }
   ],
   "source": [
    "lst"
   ]
  },
  {
   "cell_type": "markdown",
   "id": "ec26156f-d059-422b-bbbc-ab5b5f1f45e4",
   "metadata": {},
   "source": [
    "|변환전|변환후|\n",
    "|:---:|:---:|\n",
    "|딸기|과일|\n",
    "|사과|과일|\n",
    "|바나나|과일|\n",
    "|오토바이|탈것|\n",
    "|자동차|탈것|\n",
    "|버스|탈것|\n",
    "|기차|탈것|"
   ]
  },
  {
   "cell_type": "code",
   "execution_count": 124,
   "id": "09354b13-ee48-4fe7-9ae1-c86fa1863fb0",
   "metadata": {},
   "outputs": [],
   "source": [
    "dct = {\"과일\" :[\"딸기\",\"사과\",\"바나나\"],\n",
    "       \"탈것\" : [\"오토바이\", \"자동차\",\"버스\",\"기차\"]}"
   ]
  },
  {
   "cell_type": "code",
   "execution_count": 125,
   "id": "02b36438-5ecd-4902-9de6-0b6455902951",
   "metadata": {},
   "outputs": [
    {
     "data": {
      "text/plain": [
       "{'과일': ['딸기', '사과', '바나나'], '탈것': ['오토바이', '자동차', '버스', '기차']}"
      ]
     },
     "execution_count": 125,
     "metadata": {},
     "output_type": "execute_result"
    }
   ],
   "source": [
    "dct"
   ]
  },
  {
   "cell_type": "code",
   "execution_count": 128,
   "id": "dd2aeb6a-b779-431c-b130-0ccefed50059",
   "metadata": {},
   "outputs": [
    {
     "data": {
      "text/plain": [
       "['과일', '과일', '과일', '과일', '과일', '탈것', '탈것', '탈것', '탈것', '탈것', '탈것']"
      ]
     },
     "execution_count": 128,
     "metadata": {},
     "output_type": "execute_result"
    }
   ],
   "source": [
    "[k for i in lst for k,v in dct.items() if i in v]"
   ]
  },
  {
   "cell_type": "markdown",
   "id": "2011e272-ab89-4c8e-9bae-e2cff883ae29",
   "metadata": {},
   "source": [
    "***"
   ]
  },
  {
   "cell_type": "markdown",
   "id": "007c8673-a484-41cf-beef-7ad63f615be4",
   "metadata": {},
   "source": [
    "# Exercise"
   ]
  },
  {
   "cell_type": "markdown",
   "id": "80b0b060-760b-4944-9ddf-9485797ab308",
   "metadata": {},
   "source": [
    "## (1) 아래 규칙에 따라 리스트의 원소를 문자로 변환"
   ]
  },
  {
   "cell_type": "code",
   "execution_count": 132,
   "id": "1dc0c68e-6633-4a0a-8533-9a56e71c57f7",
   "metadata": {},
   "outputs": [],
   "source": [
    "lst = [1, 0, 1, 0, 1, 0, 1, 1, 1, 1, 0, 0, 1, 0, 1]"
   ]
  },
  {
   "cell_type": "code",
   "execution_count": 133,
   "id": "65aa4380-540d-4bed-a186-ca11df479047",
   "metadata": {},
   "outputs": [
    {
     "data": {
      "text/plain": [
       "[1, 0, 1, 0, 1, 0, 1, 1, 1, 1, 0, 0, 1, 0, 1]"
      ]
     },
     "execution_count": 133,
     "metadata": {},
     "output_type": "execute_result"
    }
   ],
   "source": [
    "lst"
   ]
  },
  {
   "cell_type": "markdown",
   "id": "5c72bf70-6637-4b5d-9831-868b39eaa3c1",
   "metadata": {},
   "source": [
    "|문자|숫자|\n",
    "|:---:|:---:|\n",
    "|a|1|\n",
    "|b|0|"
   ]
  },
  {
   "cell_type": "markdown",
   "id": "cc1936a2-cd15-4a03-882f-662bfbc430b1",
   "metadata": {},
   "source": [
    "### sol"
   ]
  },
  {
   "cell_type": "code",
   "execution_count": 129,
   "id": "0c15bee3-9391-4a45-987a-9b4f60816eb7",
   "metadata": {},
   "outputs": [],
   "source": [
    "dct = {\"a\":1,\"b\":0}"
   ]
  },
  {
   "cell_type": "code",
   "execution_count": 136,
   "id": "370181cb-e201-4f68-82fc-a61575786068",
   "metadata": {},
   "outputs": [
    {
     "data": {
      "text/plain": [
       "['a', 'b', 'a', 'b', 'a', 'b', 'a', 'a', 'a', 'a', 'b', 'b', 'a', 'b', 'a']"
      ]
     },
     "execution_count": 136,
     "metadata": {},
     "output_type": "execute_result"
    }
   ],
   "source": [
    "[k for i in lst for k,v in dct.items() if v==i]"
   ]
  },
  {
   "cell_type": "markdown",
   "id": "1d605b11-d531-4227-be86-72604dd2e1a0",
   "metadata": {},
   "source": [
    "## (2) 1번과 동일"
   ]
  },
  {
   "cell_type": "code",
   "execution_count": 137,
   "id": "339e5b89-894c-4423-9c4b-35082512aafd",
   "metadata": {},
   "outputs": [],
   "source": [
    "month = [1,2,2,3,4,5,6,7,8,9,9,10,11,12] "
   ]
  },
  {
   "cell_type": "markdown",
   "id": "4d14206d-ca21-493a-8fd3-838cef8f753d",
   "metadata": {},
   "source": [
    "|월|의미|\n",
    "|:---:|:---:|\n",
    "|1,2|겨울방학|\n",
    "|3,4,5,6|1학기|\n",
    "|7,8|여름방학|\n",
    "|9,10,11,12|2학기|\n"
   ]
  },
  {
   "cell_type": "markdown",
   "id": "ed17ce1d-7a83-4c77-a554-4219cd155e7a",
   "metadata": {},
   "source": [
    "### sol"
   ]
  },
  {
   "cell_type": "code",
   "execution_count": 138,
   "id": "3d3eeb54-433e-4640-8e63-8796d20f6e71",
   "metadata": {},
   "outputs": [],
   "source": [
    "dct = {\"겨울방학\":[1,2],\n",
    "       \"1학기\" : [3,4,5,6],\n",
    "       \"여름방학\" : [7,8],\n",
    "       \"2학기\" : [9,10,11,12]}"
   ]
  },
  {
   "cell_type": "code",
   "execution_count": 139,
   "id": "8653cdd3-8828-4889-a62a-c32bad798682",
   "metadata": {},
   "outputs": [
    {
     "data": {
      "text/plain": [
       "['겨울방학',\n",
       " '겨울방학',\n",
       " '겨울방학',\n",
       " '1학기',\n",
       " '1학기',\n",
       " '1학기',\n",
       " '1학기',\n",
       " '여름방학',\n",
       " '여름방학',\n",
       " '2학기',\n",
       " '2학기',\n",
       " '2학기',\n",
       " '2학기',\n",
       " '2학기']"
      ]
     },
     "execution_count": 139,
     "metadata": {},
     "output_type": "execute_result"
    }
   ],
   "source": [
    "[k for m in month for k,v in dct.items() if m in v ]"
   ]
  },
  {
   "cell_type": "markdown",
   "id": "37ff6694-57de-4796-9629-b52011f8bbc6",
   "metadata": {},
   "source": [
    "## (3) 규칙 1을 이용하여 주어진 리스트를 변환하라"
   ]
  },
  {
   "cell_type": "markdown",
   "id": "ab0b6c4d-f85c-4b11-84f2-f16856ac6c85",
   "metadata": {},
   "source": [
    "(규칙1)"
   ]
  },
  {
   "cell_type": "markdown",
   "id": "f028cf66-99ee-4fdf-860f-6b87b5282da2",
   "metadata": {},
   "source": [
    "|문자|숫자|\n",
    "|:---:|:---:|\n",
    "|바나나|0|\n",
    "|사과|1|\n",
    "|오토바이|2|\n",
    "|자동차|3|\n",
    "|자전거|4|\n"
   ]
  },
  {
   "cell_type": "markdown",
   "id": "550746b7-394f-4a61-9d15-aa8f31f078a8",
   "metadata": {},
   "source": [
    "(규칙2)"
   ]
  },
  {
   "cell_type": "markdown",
   "id": "afef6ba8-52a7-4f6b-90c5-59baa1c99a40",
   "metadata": {},
   "source": [
    "|아이템|카테고리|\n",
    "|:---:|:---:|\n",
    "|바나나|과일|\n",
    "|사과|과일|\n",
    "|오토바이|탈것|\n",
    "|자동차|탈것|\n",
    "|자전거|탈것|"
   ]
  },
  {
   "cell_type": "markdown",
   "id": "dcf91c19-92ac-4f0e-bf81-5d9103790017",
   "metadata": {},
   "source": [
    "`-` 각각의 규칙을 나타내는 딕셔너리"
   ]
  },
  {
   "cell_type": "code",
   "execution_count": 140,
   "id": "c261ccec-c79f-4c9b-859e-d11d72951ef0",
   "metadata": {},
   "outputs": [],
   "source": [
    "dct1 = {'바나나':0, '사과':1, '오토바이':2, '자동차':3, '자전거':4} \n",
    "dct2 = {'과일':['바나나','사과'], '탈것':['오토바이','자동차','자전거']} "
   ]
  },
  {
   "cell_type": "code",
   "execution_count": 142,
   "id": "9cde287d-fb30-4396-9568-9357a8913885",
   "metadata": {},
   "outputs": [],
   "source": [
    "lst = [0,1,0,1,4]"
   ]
  },
  {
   "cell_type": "markdown",
   "id": "c1140f9b-6ce3-4566-b9d0-b608a8349e4a",
   "metadata": {},
   "source": [
    "### sol"
   ]
  },
  {
   "cell_type": "code",
   "execution_count": 144,
   "id": "e83791a0-ba13-40eb-b37e-1f1b8861b356",
   "metadata": {},
   "outputs": [],
   "source": [
    "def f(lst) :\n",
    "    return [k for i in lst for k,v in dct1.items() if v==i ]"
   ]
  },
  {
   "cell_type": "code",
   "execution_count": 145,
   "id": "66a8e529-8adc-4d86-bb1e-bfca0eb83905",
   "metadata": {},
   "outputs": [
    {
     "data": {
      "text/plain": [
       "['바나나', '사과', '바나나', '사과', '자전거']"
      ]
     },
     "execution_count": 145,
     "metadata": {},
     "output_type": "execute_result"
    }
   ],
   "source": [
    "f(lst)"
   ]
  },
  {
   "cell_type": "markdown",
   "id": "c7b05710-b785-43c6-929f-bea7a4f829bf",
   "metadata": {},
   "source": [
    "## (4) 규칙2를 이용하여 주어진 리스트를 변환하는 함수를 구현"
   ]
  },
  {
   "cell_type": "code",
   "execution_count": 150,
   "id": "1d9207ad-507b-40ad-8bf7-8ef7221018b1",
   "metadata": {},
   "outputs": [],
   "source": [
    "def g(lst) :\n",
    "    return [k for i in lst for k,v in dct2.items() if i in v ]"
   ]
  },
  {
   "cell_type": "code",
   "execution_count": 152,
   "id": "34c8f9ba-f65f-44e8-8ebd-2fa4fc50b08b",
   "metadata": {},
   "outputs": [],
   "source": [
    "lst = ['바나나','바나나','바나나','자동차']"
   ]
  },
  {
   "cell_type": "code",
   "execution_count": 153,
   "id": "8fc04bd3-4e6b-4243-a4d0-6eb14c801018",
   "metadata": {},
   "outputs": [
    {
     "data": {
      "text/plain": [
       "['과일', '과일', '과일', '탈것']"
      ]
     },
     "execution_count": 153,
     "metadata": {},
     "output_type": "execute_result"
    }
   ],
   "source": [
    "g(lst)"
   ]
  },
  {
   "cell_type": "markdown",
   "id": "f0349d2e-20b3-432f-86d3-8f179ddae35d",
   "metadata": {},
   "source": [
    "## (5) 규칙 1과 2를 이용하여 주어진 입력을 \"과일\",\"탈것\"중 하나로 바꾸는 코드를 구현"
   ]
  },
  {
   "cell_type": "code",
   "execution_count": 154,
   "id": "f9f2f9c5-81a2-4a10-93d8-5118925273ad",
   "metadata": {},
   "outputs": [],
   "source": [
    "lst = [0,1,0,1,3,4,2,2,3,4,1,0]"
   ]
  },
  {
   "cell_type": "markdown",
   "id": "299782a6-afea-491f-836e-f0335f134f2e",
   "metadata": {},
   "source": [
    "### sol"
   ]
  },
  {
   "cell_type": "code",
   "execution_count": 156,
   "id": "87d806d8-9779-49de-b45c-0cb28d195435",
   "metadata": {},
   "outputs": [
    {
     "data": {
      "text/plain": [
       "['과일', '과일', '과일', '과일', '탈것', '탈것', '탈것', '탈것', '탈것', '탈것', '과일', '과일']"
      ]
     },
     "execution_count": 156,
     "metadata": {},
     "output_type": "execute_result"
    }
   ],
   "source": [
    "g(f(lst))"
   ]
  },
  {
   "cell_type": "markdown",
   "id": "32de067e-ca03-4152-9f60-00b120b19b9e",
   "metadata": {},
   "source": [
    "***"
   ]
  },
  {
   "cell_type": "markdown",
   "id": "4eff1be7-b60c-4ba4-9d16-77500c17272f",
   "metadata": {},
   "source": [
    "# Dictionary advanced($\\star\\star$)"
   ]
  },
  {
   "cell_type": "markdown",
   "id": "af1bcab2-7078-4434-b92d-75ecb2f37ca7",
   "metadata": {},
   "source": [
    "## Key의 조건"
   ]
  },
  {
   "cell_type": "markdown",
   "id": "0777de19-2777-4cbf-85ba-1c6ac143c148",
   "metadata": {},
   "source": [
    "`-` Key는  중복을 허용하지 않는다."
   ]
  },
  {
   "cell_type": "code",
   "execution_count": 158,
   "id": "a4dc4aa8-aefd-433c-b628-11a6b7b607e8",
   "metadata": {},
   "outputs": [
    {
     "data": {
      "text/plain": [
       "{'a': [3, 4], 'b': [5, 6]}"
      ]
     },
     "execution_count": 158,
     "metadata": {},
     "output_type": "execute_result"
    }
   ],
   "source": [
    "{\"a\" : [1,2],\"a\" : [3,4],\"b\" : [5,6] }"
   ]
  },
  {
   "cell_type": "markdown",
   "id": "15c64340-3fc7-4239-b115-4cf515e800a0",
   "metadata": {},
   "source": [
    "`-` 또한, `리스트, dict의 key, set`으로 선언 불가능"
   ]
  },
  {
   "cell_type": "code",
   "execution_count": 159,
   "id": "f55a942a-fab6-46d2-a561-7d8e97e2c042",
   "metadata": {},
   "outputs": [
    {
     "ename": "TypeError",
     "evalue": "unhashable type: 'list'",
     "output_type": "error",
     "traceback": [
      "\u001b[1;31m---------------------------------------------------------------------------\u001b[0m",
      "\u001b[1;31mTypeError\u001b[0m                                 Traceback (most recent call last)",
      "Cell \u001b[1;32mIn[159], line 1\u001b[0m\n\u001b[1;32m----> 1\u001b[0m dct \u001b[38;5;241m=\u001b[39m {[\u001b[38;5;241m10\u001b[39m,\u001b[38;5;241m20\u001b[39m,\u001b[38;5;241m30\u001b[39m,\u001b[38;5;241m40\u001b[39m]: \u001b[38;5;124m'\u001b[39m\u001b[38;5;124mguebin\u001b[39m\u001b[38;5;124m'\u001b[39m, [\u001b[38;5;241m10\u001b[39m,\u001b[38;5;241m20\u001b[39m,\u001b[38;5;241m25\u001b[39m,\u001b[38;5;241m40\u001b[39m]: \u001b[38;5;124m'\u001b[39m\u001b[38;5;124mhanni\u001b[39m\u001b[38;5;124m'\u001b[39m} \n\u001b[0;32m      2\u001b[0m dct\n",
      "\u001b[1;31mTypeError\u001b[0m: unhashable type: 'list'"
     ]
    }
   ],
   "source": [
    "dct = {[10,20,30,40]: 'guebin', [10,20,25,40]: 'hanni'} \n",
    "dct"
   ]
  },
  {
   "cell_type": "code",
   "execution_count": 163,
   "id": "fbb7306e-4b9c-451c-8a5c-63b2a61f6571",
   "metadata": {},
   "outputs": [
    {
     "ename": "TypeError",
     "evalue": "unhashable type: 'dict'",
     "output_type": "error",
     "traceback": [
      "\u001b[1;31m---------------------------------------------------------------------------\u001b[0m",
      "\u001b[1;31mTypeError\u001b[0m                                 Traceback (most recent call last)",
      "Cell \u001b[1;32mIn[163], line 1\u001b[0m\n\u001b[1;32m----> 1\u001b[0m dct \u001b[38;5;241m=\u001b[39m {{\u001b[38;5;241m0\u001b[39m:\u001b[38;5;241m1\u001b[39m}: \u001b[38;5;124m'\u001b[39m\u001b[38;5;124mguebin\u001b[39m\u001b[38;5;124m'\u001b[39m, {\u001b[38;5;241m1\u001b[39m:\u001b[38;5;241m2\u001b[39m}: \u001b[38;5;124m'\u001b[39m\u001b[38;5;124mhanni\u001b[39m\u001b[38;5;124m'\u001b[39m} \n\u001b[0;32m      2\u001b[0m dct\n",
      "\u001b[1;31mTypeError\u001b[0m: unhashable type: 'dict'"
     ]
    }
   ],
   "source": [
    "dct = {{0:1}: 'guebin', {1:2}: 'hanni'} \n",
    "dct"
   ]
  },
  {
   "cell_type": "code",
   "execution_count": 164,
   "id": "75fb5c25-7bb8-4dbd-a339-ed3d69da3de3",
   "metadata": {},
   "outputs": [
    {
     "ename": "TypeError",
     "evalue": "unhashable type: 'set'",
     "output_type": "error",
     "traceback": [
      "\u001b[1;31m---------------------------------------------------------------------------\u001b[0m",
      "\u001b[1;31mTypeError\u001b[0m                                 Traceback (most recent call last)",
      "Cell \u001b[1;32mIn[164], line 1\u001b[0m\n\u001b[1;32m----> 1\u001b[0m dct \u001b[38;5;241m=\u001b[39m {{\u001b[38;5;124m'\u001b[39m\u001b[38;5;124m샌드위치\u001b[39m\u001b[38;5;124m'\u001b[39m,\u001b[38;5;124m'\u001b[39m\u001b[38;5;124m딸기우유\u001b[39m\u001b[38;5;124m'\u001b[39m}:\u001b[38;5;124m'\u001b[39m\u001b[38;5;124m점심\u001b[39m\u001b[38;5;124m'\u001b[39m, {\u001b[38;5;124m'\u001b[39m\u001b[38;5;124m불고기\u001b[39m\u001b[38;5;124m'\u001b[39m,\u001b[38;5;124m'\u001b[39m\u001b[38;5;124m된장찌개\u001b[39m\u001b[38;5;124m'\u001b[39m,\u001b[38;5;124m'\u001b[39m\u001b[38;5;124m김\u001b[39m\u001b[38;5;124m'\u001b[39m,\u001b[38;5;124m'\u001b[39m\u001b[38;5;124m콩자반\u001b[39m\u001b[38;5;124m'\u001b[39m}: \u001b[38;5;124m'\u001b[39m\u001b[38;5;124m저녁\u001b[39m\u001b[38;5;124m'\u001b[39m}\n\u001b[0;32m      2\u001b[0m dct\n",
      "\u001b[1;31mTypeError\u001b[0m: unhashable type: 'set'"
     ]
    }
   ],
   "source": [
    "dct = {{'샌드위치','딸기우유'}:'점심', {'불고기','된장찌개','김','콩자반'}: '저녁'}\n",
    "dct"
   ]
  },
  {
   "cell_type": "markdown",
   "id": "b903969c-3af2-43d1-b861-1d05ed143cf8",
   "metadata": {},
   "source": [
    "`-` 튜플은 가능하다"
   ]
  },
  {
   "cell_type": "code",
   "execution_count": 160,
   "id": "d053a1bd-9c34-4781-838b-d28db2711381",
   "metadata": {},
   "outputs": [
    {
     "data": {
      "text/plain": [
       "{(10, 20, 30, 40): 'guebin', (10, 20, 25, 40): 'hanni'}"
      ]
     },
     "execution_count": 160,
     "metadata": {},
     "output_type": "execute_result"
    }
   ],
   "source": [
    "dct = {(10,20,30,40): 'guebin', (10,20,25,40): 'hanni'} \n",
    "dct"
   ]
  },
  {
   "cell_type": "code",
   "execution_count": 162,
   "id": "cc4ce84d-4d64-4b42-ab8e-2253dfba1958",
   "metadata": {},
   "outputs": [
    {
     "data": {
      "text/plain": [
       "'guebin'"
      ]
     },
     "execution_count": 162,
     "metadata": {},
     "output_type": "execute_result"
    }
   ],
   "source": [
    "dct[10,20,30,40]"
   ]
  },
  {
   "cell_type": "markdown",
   "id": "803367af-94cd-450a-9c5b-de97e10591f7",
   "metadata": {},
   "source": [
    "## value의 조건"
   ]
  },
  {
   "cell_type": "markdown",
   "id": "ebce1096-640b-45f7-8760-47f8ca9fd060",
   "metadata": {},
   "source": [
    "`-` 없음"
   ]
  },
  {
   "cell_type": "markdown",
   "id": "ff13c1e0-d012-4106-ae15-3dae2ad3e533",
   "metadata": {},
   "source": [
    "## 딕셔너리 컴프리헤션"
   ]
  },
  {
   "cell_type": "markdown",
   "id": "7ccfa469-2d0c-4657-b178-69ceb044fa77",
   "metadata": {},
   "source": [
    "### ex1"
   ]
  },
  {
   "cell_type": "code",
   "execution_count": 165,
   "id": "7bb0a131-af04-4624-b81d-6c278fd9589e",
   "metadata": {},
   "outputs": [
    {
     "data": {
      "text/plain": [
       "[['딸기', '사과'], ['오토바이', '자동차'], ['컴퓨터', '아이패드', '마우스']]"
      ]
     },
     "execution_count": 165,
     "metadata": {},
     "output_type": "execute_result"
    }
   ],
   "source": [
    "lst = [['딸기','사과'],['오토바이','자동차'],['컴퓨터','아이패드','마우스']]\n",
    "lst  "
   ]
  },
  {
   "cell_type": "code",
   "execution_count": 168,
   "id": "8fa90a18-ff5d-45af-ac92-74522fb664d5",
   "metadata": {},
   "outputs": [
    {
     "data": {
      "text/plain": [
       "{0: ['딸기', '사과'], 1: ['오토바이', '자동차'], 2: ['컴퓨터', '아이패드', '마우스']}"
      ]
     },
     "execution_count": 168,
     "metadata": {},
     "output_type": "execute_result"
    }
   ],
   "source": [
    "{i:lst[i] for i in range(3)}"
   ]
  },
  {
   "cell_type": "markdown",
   "id": "cd58f35e-2b44-450a-a494-528a97e6405f",
   "metadata": {},
   "source": [
    "## ex2"
   ]
  },
  {
   "cell_type": "code",
   "execution_count": 169,
   "id": "7e7c387d-eeea-466d-9996-15b180ad948a",
   "metadata": {},
   "outputs": [
    {
     "data": {
      "text/plain": [
       "{'a': (1, 0, 0, 0), 'b': (0, 1, 0, 0), 'c': (0, 0, 1, 0), 'd': (0, 0, 0, 1)}"
      ]
     },
     "execution_count": 169,
     "metadata": {},
     "output_type": "execute_result"
    }
   ],
   "source": [
    "dct = {'a':(1,0,0,0), 'b':(0,1,0,0), 'c':(0,0,1,0), 'd':(0,0,0,1)}\n",
    "dct"
   ]
  },
  {
   "cell_type": "code",
   "execution_count": 171,
   "id": "2cd678f3-c52f-4d6b-8ad2-b46804fef020",
   "metadata": {},
   "outputs": [
    {
     "data": {
      "text/plain": [
       "{(1, 0, 0, 0): 'a', (0, 1, 0, 0): 'b', (0, 0, 1, 0): 'c', (0, 0, 0, 1): 'd'}"
      ]
     },
     "execution_count": 171,
     "metadata": {},
     "output_type": "execute_result"
    }
   ],
   "source": [
    "{v:k for k,v in dct.items()}"
   ]
  }
 ],
 "metadata": {
  "kernelspec": {
   "display_name": "Python 3 (ipykernel)",
   "language": "python",
   "name": "python3"
  },
  "language_info": {
   "codemirror_mode": {
    "name": "ipython",
    "version": 3
   },
   "file_extension": ".py",
   "mimetype": "text/x-python",
   "name": "python",
   "nbconvert_exporter": "python",
   "pygments_lexer": "ipython3",
   "version": "3.11.4"
  }
 },
 "nbformat": 4,
 "nbformat_minor": 5
}
