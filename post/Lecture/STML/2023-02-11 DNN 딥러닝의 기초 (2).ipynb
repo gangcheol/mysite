{
 "cells": [
  {
   "cell_type": "raw",
   "metadata": {},
   "source": [
    "---\n",
    "title : \"03. 딥러닝의 기초 (2)\"\n",
    "date : \"02/11/2023\"\n",
    "author : \"GANGCHEOL LEE\"\n",
    "categories : \"Python\"\n",
    "---"
   ]
  },
  {
   "cell_type": "markdown",
   "metadata": {
    "id": "HoxutpFvHclB"
   },
   "source": [
    "# imports"
   ]
  },
  {
   "cell_type": "code",
   "execution_count": null,
   "metadata": {
    "id": "RUmYRKixH7pc"
   },
   "outputs": [],
   "source": [
    "import numpy as np\n",
    "import matplotlib.pyplot as plt \n",
    "import pandas as pd\n",
    "import torch"
   ]
  },
  {
   "cell_type": "markdown",
   "metadata": {
    "id": "e0SxCHvJQNog"
   },
   "source": [
    "# numpy, torch"
   ]
  },
  {
   "cell_type": "markdown",
   "metadata": {
    "id": "alG-Ie98QfjE"
   },
   "source": [
    "`-` torch.tensor() = np.array()"
   ]
  },
  {
   "cell_type": "code",
   "execution_count": null,
   "metadata": {
    "colab": {
     "base_uri": "https://localhost:8080/"
    },
    "executionInfo": {
     "elapsed": 52,
     "status": "ok",
     "timestamp": 1677224141331,
     "user": {
      "displayName": "이강철",
      "userId": "13507850890638580947"
     },
     "user_tz": -540
    },
    "id": "b2aHX5IFQvSY",
    "outputId": "d48da67f-eaf7-4e0d-e4e0-78328d4aea99"
   },
   "outputs": [
    {
     "data": {
      "text/plain": [
       "(array([1, 2, 3]), tensor([1, 2, 3]))"
      ]
     },
     "execution_count": 2,
     "metadata": {},
     "output_type": "execute_result"
    }
   ],
   "source": [
    "np.array([1,2,3]), torch.tensor([1,2,3])"
   ]
  },
  {
   "cell_type": "markdown",
   "metadata": {
    "id": "tYOyipnXQzWm"
   },
   "source": [
    "`-` 소수점의 정밀도에서 차이가 있음 (torch가 조금 쪼잔)"
   ]
  },
  {
   "cell_type": "code",
   "execution_count": null,
   "metadata": {
    "colab": {
     "base_uri": "https://localhost:8080/"
    },
    "executionInfo": {
     "elapsed": 49,
     "status": "ok",
     "timestamp": 1677224141333,
     "user": {
      "displayName": "이강철",
      "userId": "13507850890638580947"
     },
     "user_tz": -540
    },
    "id": "yQRSBfWoQ59H",
    "outputId": "0f6a6ffb-ea47-4d1f-c32b-715b581ecc19"
   },
   "outputs": [
    {
     "data": {
      "text/plain": [
       "(array([3.12345679]), tensor([3.1235]))"
      ]
     },
     "execution_count": 3,
     "metadata": {},
     "output_type": "execute_result"
    }
   ],
   "source": [
    "np.array([3.123456789]), torch.tensor([3.123456789])"
   ]
  },
  {
   "cell_type": "markdown",
   "metadata": {
    "id": "mfqCXP9YRCKh"
   },
   "source": [
    "`-` 기본적인 `numpy`문법은 `np`대신에 `torch`를 써도 무방 $\\to$ 완전히 같지는 않음"
   ]
  },
  {
   "cell_type": "code",
   "execution_count": null,
   "metadata": {
    "colab": {
     "base_uri": "https://localhost:8080/"
    },
    "executionInfo": {
     "elapsed": 47,
     "status": "ok",
     "timestamp": 1677224141334,
     "user": {
      "displayName": "이강철",
      "userId": "13507850890638580947"
     },
     "user_tz": -540
    },
    "id": "cHiwxFvjRYEt",
    "outputId": "adae61b8-7152-442c-8f09-5ddee8c7ad77"
   },
   "outputs": [
    {
     "data": {
      "text/plain": [
       "(array([0, 1, 2, 3, 4, 5, 6, 7, 8, 9]), tensor([0, 1, 2, 3, 4, 5, 6, 7, 8, 9]))"
      ]
     },
     "execution_count": 4,
     "metadata": {},
     "output_type": "execute_result"
    }
   ],
   "source": [
    "np.arange(10), torch.arange(10)"
   ]
  },
  {
   "cell_type": "code",
   "execution_count": null,
   "metadata": {
    "colab": {
     "base_uri": "https://localhost:8080/"
    },
    "executionInfo": {
     "elapsed": 46,
     "status": "ok",
     "timestamp": 1677224141334,
     "user": {
      "displayName": "이강철",
      "userId": "13507850890638580947"
     },
     "user_tz": -540
    },
    "id": "OYbqGpxpRcHZ",
    "outputId": "5c9e9959-b6ed-43ea-c35c-7a4105bd7dfb"
   },
   "outputs": [
    {
     "data": {
      "text/plain": [
       "(array([0.        , 0.11111111, 0.22222222, 0.33333333, 0.44444444,\n",
       "        0.55555556, 0.66666667, 0.77777778, 0.88888889, 1.        ]),\n",
       " tensor([0.0000, 0.1111, 0.2222, 0.3333, 0.4444, 0.5556, 0.6667, 0.7778, 0.8889,\n",
       "         1.0000]))"
      ]
     },
     "execution_count": 5,
     "metadata": {},
     "output_type": "execute_result"
    }
   ],
   "source": [
    "np.linspace(0,1,10), torch.linspace(0,1,10)"
   ]
  },
  {
   "cell_type": "code",
   "execution_count": null,
   "metadata": {
    "colab": {
     "base_uri": "https://localhost:8080/"
    },
    "executionInfo": {
     "elapsed": 44,
     "status": "ok",
     "timestamp": 1677224141335,
     "user": {
      "displayName": "이강철",
      "userId": "13507850890638580947"
     },
     "user_tz": -540
    },
    "id": "MUpkVlL9RlvD",
    "outputId": "86140f91-2bc7-4fba-c32c-6195577aa21f"
   },
   "outputs": [
    {
     "data": {
      "text/plain": [
       "array([-1.25129098e+00,  1.92125061e-01, -1.82716363e+00, -1.37293516e+00,\n",
       "        1.38834103e+00, -1.76753229e+00, -1.02414400e+00, -5.02814204e-01,\n",
       "        1.68938944e-01,  1.01113642e-03])"
      ]
     },
     "execution_count": 6,
     "metadata": {},
     "output_type": "execute_result"
    }
   ],
   "source": [
    "np.random.randn(10)"
   ]
  },
  {
   "cell_type": "code",
   "execution_count": null,
   "metadata": {
    "colab": {
     "base_uri": "https://localhost:8080/"
    },
    "executionInfo": {
     "elapsed": 43,
     "status": "ok",
     "timestamp": 1677224141335,
     "user": {
      "displayName": "이강철",
      "userId": "13507850890638580947"
     },
     "user_tz": -540
    },
    "id": "IiDqVmh0Rn9W",
    "outputId": "52235ab6-3bdd-436d-d1bd-b60a2dd382d0"
   },
   "outputs": [
    {
     "data": {
      "text/plain": [
       "tensor([ 0.9400,  0.6244,  1.7138,  0.7075,  0.2483, -2.4638, -1.3615, -0.5378,\n",
       "        -1.1571,  0.2088])"
      ]
     },
     "execution_count": 7,
     "metadata": {},
     "output_type": "execute_result"
    }
   ],
   "source": [
    "torch.randn(10)"
   ]
  },
  {
   "cell_type": "markdown",
   "metadata": {
    "id": "EvGlWpZbRsrg"
   },
   "source": [
    "## 벡터 생성법"
   ]
  },
  {
   "cell_type": "markdown",
   "metadata": {
    "id": "EBNxhw4jRy1k"
   },
   "source": [
    "`-` 길이가 3인 벡터 선언방법"
   ]
  },
  {
   "cell_type": "code",
   "execution_count": null,
   "metadata": {
    "colab": {
     "base_uri": "https://localhost:8080/"
    },
    "executionInfo": {
     "elapsed": 42,
     "status": "ok",
     "timestamp": 1677224141336,
     "user": {
      "displayName": "이강철",
      "userId": "13507850890638580947"
     },
     "user_tz": -540
    },
    "id": "Q3rJgiRXR2e_",
    "outputId": "86a78685-6e06-41ee-f73e-136df171d49c"
   },
   "outputs": [
    {
     "data": {
      "text/plain": [
       "torch.Size([3])"
      ]
     },
     "execution_count": 8,
     "metadata": {},
     "output_type": "execute_result"
    }
   ],
   "source": [
    "a = torch.tensor([1,2,3])\n",
    "a.shape"
   ]
  },
  {
   "cell_type": "markdown",
   "metadata": {
    "id": "ozy5uY1dR5P7"
   },
   "source": [
    "`-` `3 x 1` col vec 선언방법"
   ]
  },
  {
   "cell_type": "code",
   "execution_count": null,
   "metadata": {
    "colab": {
     "base_uri": "https://localhost:8080/"
    },
    "executionInfo": {
     "elapsed": 36,
     "status": "ok",
     "timestamp": 1677224141336,
     "user": {
      "displayName": "이강철",
      "userId": "13507850890638580947"
     },
     "user_tz": -540
    },
    "id": "Lokcq48uR_xN",
    "outputId": "05658abb-ec7d-4ccf-d877-75fdbb5eb636"
   },
   "outputs": [
    {
     "data": {
      "text/plain": [
       "torch.Size([3, 1])"
      ]
     },
     "execution_count": 9,
     "metadata": {},
     "output_type": "execute_result"
    }
   ],
   "source": [
    "a = torch.tensor([[1],[1],[1]])\n",
    "a.shape"
   ]
  },
  {
   "cell_type": "markdown",
   "metadata": {
    "id": "OHLJIHEWSJRY"
   },
   "source": [
    "`-` `1x 3` row vec 선언방법"
   ]
  },
  {
   "cell_type": "code",
   "execution_count": null,
   "metadata": {
    "colab": {
     "base_uri": "https://localhost:8080/"
    },
    "executionInfo": {
     "elapsed": 35,
     "status": "ok",
     "timestamp": 1677224141338,
     "user": {
      "displayName": "이강철",
      "userId": "13507850890638580947"
     },
     "user_tz": -540
    },
    "id": "Cyi54UoRSUFp",
    "outputId": "7bdee1a9-e650-41a8-b6c7-a1042a0a1ff6"
   },
   "outputs": [
    {
     "data": {
      "text/plain": [
       "torch.Size([1, 3])"
      ]
     },
     "execution_count": 10,
     "metadata": {},
     "output_type": "execute_result"
    }
   ],
   "source": [
    "a = torch.tensor([[1,2,3]])\n",
    "a.shape"
   ]
  },
  {
   "cell_type": "markdown",
   "metadata": {
    "id": "_QeO6lkESaEU"
   },
   "source": [
    "## torch의 dtype"
   ]
  },
  {
   "cell_type": "markdown",
   "metadata": {
    "id": "iW5cAnGfSe9Z"
   },
   "source": [
    "`-` default $\\to$ dtype = torch.float32"
   ]
  },
  {
   "cell_type": "code",
   "execution_count": null,
   "metadata": {
    "colab": {
     "base_uri": "https://localhost:8080/"
    },
    "executionInfo": {
     "elapsed": 35,
     "status": "ok",
     "timestamp": 1677224141341,
     "user": {
      "displayName": "이강철",
      "userId": "13507850890638580947"
     },
     "user_tz": -540
    },
    "id": "ISU8kNOuSkwb",
    "outputId": "7968885b-dc68-45d9-b280-48b2e832c0f2"
   },
   "outputs": [
    {
     "data": {
      "text/plain": [
       "torch.float32"
      ]
     },
     "execution_count": 11,
     "metadata": {},
     "output_type": "execute_result"
    }
   ],
   "source": [
    "tsr = torch.tensor([1.23,2.34])\n",
    "tsr.dtype"
   ]
  },
  {
   "cell_type": "markdown",
   "metadata": {
    "id": "3syisJwESpXp"
   },
   "source": [
    "`-` 정수로 선언하더라도 dtype을 torch.float32로 바꾸는게 유리하다."
   ]
  },
  {
   "cell_type": "markdown",
   "metadata": {
    "id": "MZ3F_IWWSuH2"
   },
   "source": [
    "(안 좋은 선언예시)"
   ]
  },
  {
   "cell_type": "code",
   "execution_count": null,
   "metadata": {
    "colab": {
     "base_uri": "https://localhost:8080/"
    },
    "executionInfo": {
     "elapsed": 33,
     "status": "ok",
     "timestamp": 1677224141341,
     "user": {
      "displayName": "이강철",
      "userId": "13507850890638580947"
     },
     "user_tz": -540
    },
    "id": "ot0ccYTuSxC6",
    "outputId": "1c5e1727-a007-4e22-b642-2c72de812fb2"
   },
   "outputs": [
    {
     "data": {
      "text/plain": [
       "torch.int64"
      ]
     },
     "execution_count": 12,
     "metadata": {},
     "output_type": "execute_result"
    }
   ],
   "source": [
    "tsr = torch.tensor([1,2])\n",
    "tsr.dtype"
   ]
  },
  {
   "cell_type": "markdown",
   "metadata": {
    "id": "RojB_U7bS2tc"
   },
   "source": [
    "(좋은 선언예시1)"
   ]
  },
  {
   "cell_type": "code",
   "execution_count": null,
   "metadata": {
    "colab": {
     "base_uri": "https://localhost:8080/"
    },
    "executionInfo": {
     "elapsed": 31,
     "status": "ok",
     "timestamp": 1677224141342,
     "user": {
      "displayName": "이강철",
      "userId": "13507850890638580947"
     },
     "user_tz": -540
    },
    "id": "SP3Q8YGpS_2Z",
    "outputId": "05ba6804-d90e-44b8-8717-336c9ec0862f"
   },
   "outputs": [
    {
     "data": {
      "text/plain": [
       "torch.float32"
      ]
     },
     "execution_count": 13,
     "metadata": {},
     "output_type": "execute_result"
    }
   ],
   "source": [
    "tsr = torch.tensor([1,2],dtype = torch.float32)\n",
    "tsr.dtype"
   ]
  },
  {
   "cell_type": "markdown",
   "metadata": {
    "id": "HStNfxVOS1kb"
   },
   "source": [
    "(좋은 선언예시2)"
   ]
  },
  {
   "cell_type": "code",
   "execution_count": null,
   "metadata": {
    "colab": {
     "base_uri": "https://localhost:8080/"
    },
    "executionInfo": {
     "elapsed": 25,
     "status": "ok",
     "timestamp": 1677224141342,
     "user": {
      "displayName": "이강철",
      "userId": "13507850890638580947"
     },
     "user_tz": -540
    },
    "id": "J7HZAeokTKmX",
    "outputId": "f2e4124d-d9d0-4023-88a7-63656809e573"
   },
   "outputs": [
    {
     "data": {
      "text/plain": [
       "torch.float32"
      ]
     },
     "execution_count": 14,
     "metadata": {},
     "output_type": "execute_result"
    }
   ],
   "source": [
    "tsr = torch.tensor([1,2.0])\n",
    "tsr.dtype"
   ]
  },
  {
   "cell_type": "markdown",
   "metadata": {
    "id": "mEFYkEqWTRYj"
   },
   "source": [
    "(사실 int로 선언해도 나중에 float로 바꿔주면 큰 문제가 없음)"
   ]
  },
  {
   "cell_type": "code",
   "execution_count": null,
   "metadata": {
    "colab": {
     "base_uri": "https://localhost:8080/"
    },
    "executionInfo": {
     "elapsed": 21,
     "status": "ok",
     "timestamp": 1677224141342,
     "user": {
      "displayName": "이강철",
      "userId": "13507850890638580947"
     },
     "user_tz": -540
    },
    "id": "qTKBRZBLTWaM",
    "outputId": "814bb266-4453-41cf-b7c2-784e6fdf1c3d"
   },
   "outputs": [
    {
     "data": {
      "text/plain": [
       "torch.float32"
      ]
     },
     "execution_count": 15,
     "metadata": {},
     "output_type": "execute_result"
    }
   ],
   "source": [
    "tsr = torch.tensor([1,2]).float()\n",
    "tsr.dtype"
   ]
  },
  {
   "cell_type": "markdown",
   "metadata": {
    "id": "4p0gShV8TbVB"
   },
   "source": [
    "`-` torch.float32로 바꾸는게 유리한 이유 $\\to$ torch.tensor 끼리의 연산에서 문제가 될 수 있음."
   ]
  },
  {
   "cell_type": "markdown",
   "metadata": {
    "id": "0qHUlmM4Tl0-"
   },
   "source": [
    "(별 문제가 없는 경우)"
   ]
  },
  {
   "cell_type": "code",
   "execution_count": null,
   "metadata": {
    "colab": {
     "base_uri": "https://localhost:8080/"
    },
    "executionInfo": {
     "elapsed": 17,
     "status": "ok",
     "timestamp": 1677224142813,
     "user": {
      "displayName": "이강철",
      "userId": "13507850890638580947"
     },
     "user_tz": -540
    },
    "id": "y23pZz3dToDq",
    "outputId": "bda674e4-95fb-45a2-b21c-2fbf3b9f8565"
   },
   "outputs": [
    {
     "data": {
      "text/plain": [
       "tensor([0., 0.])"
      ]
     },
     "execution_count": 16,
     "metadata": {},
     "output_type": "execute_result"
    }
   ],
   "source": [
    "torch.tensor([1,2])-torch.tensor([1.0,2.0]) "
   ]
  },
  {
   "cell_type": "markdown",
   "metadata": {
    "id": "1v8pN9e5TplR"
   },
   "source": [
    "(에러 1)"
   ]
  },
  {
   "cell_type": "code",
   "execution_count": null,
   "metadata": {
    "colab": {
     "base_uri": "https://localhost:8080/",
     "height": 173
    },
    "executionInfo": {
     "elapsed": 15,
     "status": "error",
     "timestamp": 1677224142814,
     "user": {
      "displayName": "이강철",
      "userId": "13507850890638580947"
     },
     "user_tz": -540
    },
    "id": "kixFmUX6TrFU",
    "outputId": "01440840-0edd-449c-fb65-a7d59a521fce"
   },
   "outputs": [
    {
     "ename": "RuntimeError",
     "evalue": "ignored",
     "output_type": "error",
     "traceback": [
      "\u001b[0;31m---------------------------------------------------------------------------\u001b[0m",
      "\u001b[0;31mRuntimeError\u001b[0m                              Traceback (most recent call last)",
      "\u001b[0;32m<ipython-input-17-50099f3be8ff>\u001b[0m in \u001b[0;36m<module>\u001b[0;34m\u001b[0m\n\u001b[0;32m----> 1\u001b[0;31m \u001b[0mtorch\u001b[0m\u001b[0;34m.\u001b[0m\u001b[0mtensor\u001b[0m\u001b[0;34m(\u001b[0m\u001b[0;34m[\u001b[0m\u001b[0;34m[\u001b[0m\u001b[0;36m1.0\u001b[0m\u001b[0;34m,\u001b[0m\u001b[0;36m0.0\u001b[0m\u001b[0;34m]\u001b[0m\u001b[0;34m,\u001b[0m\u001b[0;34m[\u001b[0m\u001b[0;36m0.0\u001b[0m\u001b[0;34m,\u001b[0m\u001b[0;36m1.0\u001b[0m\u001b[0;34m]\u001b[0m\u001b[0;34m]\u001b[0m\u001b[0;34m)\u001b[0m \u001b[0;34m@\u001b[0m \u001b[0mtorch\u001b[0m\u001b[0;34m.\u001b[0m\u001b[0mtensor\u001b[0m\u001b[0;34m(\u001b[0m\u001b[0;34m[\u001b[0m\u001b[0;34m[\u001b[0m\u001b[0;36m1\u001b[0m\u001b[0;34m]\u001b[0m\u001b[0;34m,\u001b[0m\u001b[0;34m[\u001b[0m\u001b[0;36m2\u001b[0m\u001b[0;34m]\u001b[0m\u001b[0;34m]\u001b[0m\u001b[0;34m)\u001b[0m\u001b[0;34m\u001b[0m\u001b[0;34m\u001b[0m\u001b[0m\n\u001b[0m",
      "\u001b[0;31mRuntimeError\u001b[0m: expected scalar type Float but found Long"
     ]
    }
   ],
   "source": [
    "torch.tensor([[1.0,0.0],[0.0,1.0]]) @ torch.tensor([[1],[2]])"
   ]
  },
  {
   "cell_type": "markdown",
   "metadata": {
    "id": "hx3TVN5mT42G"
   },
   "source": [
    "(에러 2)"
   ]
  },
  {
   "cell_type": "code",
   "execution_count": null,
   "metadata": {
    "colab": {
     "base_uri": "https://localhost:8080/",
     "height": 173
    },
    "executionInfo": {
     "elapsed": 8,
     "status": "error",
     "timestamp": 1677224620381,
     "user": {
      "displayName": "이강철",
      "userId": "13507850890638580947"
     },
     "user_tz": -540
    },
    "id": "Ew2a8MioT85c",
    "outputId": "117d1fa4-9df6-424e-e796-92eebd7ac59d"
   },
   "outputs": [
    {
     "ename": "RuntimeError",
     "evalue": "ignored",
     "output_type": "error",
     "traceback": [
      "\u001b[0;31m---------------------------------------------------------------------------\u001b[0m",
      "\u001b[0;31mRuntimeError\u001b[0m                              Traceback (most recent call last)",
      "\u001b[0;32m<ipython-input-18-6f3c8cd47d1a>\u001b[0m in \u001b[0;36m<module>\u001b[0;34m\u001b[0m\n\u001b[0;32m----> 1\u001b[0;31m \u001b[0mtorch\u001b[0m\u001b[0;34m.\u001b[0m\u001b[0mtensor\u001b[0m\u001b[0;34m(\u001b[0m\u001b[0;34m[\u001b[0m\u001b[0;34m[\u001b[0m\u001b[0;36m1\u001b[0m\u001b[0;34m,\u001b[0m\u001b[0;36m0\u001b[0m\u001b[0;34m]\u001b[0m\u001b[0;34m,\u001b[0m\u001b[0;34m[\u001b[0m\u001b[0;36m0\u001b[0m\u001b[0;34m,\u001b[0m\u001b[0;36m1\u001b[0m\u001b[0;34m]\u001b[0m\u001b[0;34m]\u001b[0m\u001b[0;34m)\u001b[0m \u001b[0;34m@\u001b[0m \u001b[0mtorch\u001b[0m\u001b[0;34m.\u001b[0m\u001b[0mtensor\u001b[0m\u001b[0;34m(\u001b[0m\u001b[0;34m[\u001b[0m\u001b[0;34m[\u001b[0m\u001b[0;36m1.0\u001b[0m\u001b[0;34m]\u001b[0m\u001b[0;34m,\u001b[0m\u001b[0;34m[\u001b[0m\u001b[0;36m2.0\u001b[0m\u001b[0;34m]\u001b[0m\u001b[0;34m]\u001b[0m\u001b[0;34m)\u001b[0m\u001b[0;34m\u001b[0m\u001b[0;34m\u001b[0m\u001b[0m\n\u001b[0m",
      "\u001b[0;31mRuntimeError\u001b[0m: expected scalar type Long but found Float"
     ]
    }
   ],
   "source": [
    "torch.tensor([[1,0],[0,1]]) @ torch.tensor([[1.0],[2.0]])"
   ]
  },
  {
   "cell_type": "markdown",
   "metadata": {
    "id": "QdMoIRhKUInP"
   },
   "source": [
    "(해결 1) 둘다 정수로 통일"
   ]
  },
  {
   "cell_type": "code",
   "execution_count": null,
   "metadata": {
    "colab": {
     "base_uri": "https://localhost:8080/"
    },
    "executionInfo": {
     "elapsed": 270,
     "status": "ok",
     "timestamp": 1677224622991,
     "user": {
      "displayName": "이강철",
      "userId": "13507850890638580947"
     },
     "user_tz": -540
    },
    "id": "1o1PbgppUM1p",
    "outputId": "8445d6d6-02cb-45c5-a6a1-680a2eb8f6b3"
   },
   "outputs": [
    {
     "data": {
      "text/plain": [
       "tensor([[1],\n",
       "        [2]])"
      ]
     },
     "execution_count": 19,
     "metadata": {},
     "output_type": "execute_result"
    }
   ],
   "source": [
    "torch.tensor([[1,0],[0,1]]) @ torch.tensor([[1],[2]])"
   ]
  },
  {
   "cell_type": "markdown",
   "metadata": {
    "id": "9n8xdzh3UR0A"
   },
   "source": [
    "(해결 2) 둘다 소수로 통일 $\\to$ 더 좋은 방법"
   ]
  },
  {
   "cell_type": "code",
   "execution_count": null,
   "metadata": {
    "colab": {
     "base_uri": "https://localhost:8080/"
    },
    "executionInfo": {
     "elapsed": 3,
     "status": "ok",
     "timestamp": 1677224625372,
     "user": {
      "displayName": "이강철",
      "userId": "13507850890638580947"
     },
     "user_tz": -540
    },
    "id": "IfdyTP2HUWDI",
    "outputId": "6e92a5fc-763f-4b96-9fca-2e6ef6aeed41"
   },
   "outputs": [
    {
     "data": {
      "text/plain": [
       "tensor([[1.],\n",
       "        [2.]])"
      ]
     },
     "execution_count": 20,
     "metadata": {},
     "output_type": "execute_result"
    }
   ],
   "source": [
    "torch.tensor([[1.0,0.0],[0.0,1.0]]) @ torch.tensor([[1.0],[2.0]])"
   ]
  },
  {
   "cell_type": "markdown",
   "metadata": {
    "id": "QDzVTQqdUYkv"
   },
   "source": [
    "## shape of vector"
   ]
  },
  {
   "cell_type": "code",
   "execution_count": null,
   "metadata": {
    "id": "i-NfU0ktUbAW"
   },
   "outputs": [],
   "source": [
    "A = torch.tensor([[2.00,0.00],[0.00,3.00]])\n",
    "b1 = torch.tensor([[-1.0, -5.0]])\n",
    "b2 = torch.tensor([[-1.0], [-5.0]])\n",
    "b3 = torch.tensor([-1.0, -5.0])"
   ]
  },
  {
   "cell_type": "code",
   "execution_count": null,
   "metadata": {
    "colab": {
     "base_uri": "https://localhost:8080/"
    },
    "executionInfo": {
     "elapsed": 280,
     "status": "ok",
     "timestamp": 1677224627948,
     "user": {
      "displayName": "이강철",
      "userId": "13507850890638580947"
     },
     "user_tz": -540
    },
    "id": "_WvIFXhLUrq-",
    "outputId": "cf305f4e-13b2-4fb4-96bd-1fe103e6c7c1"
   },
   "outputs": [
    {
     "data": {
      "text/plain": [
       "torch.Size([2, 2])"
      ]
     },
     "execution_count": 22,
     "metadata": {},
     "output_type": "execute_result"
    }
   ],
   "source": [
    "A.shape"
   ]
  },
  {
   "cell_type": "code",
   "execution_count": null,
   "metadata": {
    "colab": {
     "base_uri": "https://localhost:8080/"
    },
    "executionInfo": {
     "elapsed": 8,
     "status": "ok",
     "timestamp": 1677224629688,
     "user": {
      "displayName": "이강철",
      "userId": "13507850890638580947"
     },
     "user_tz": -540
    },
    "id": "VqgEs5QfUsuS",
    "outputId": "c0ba5295-b55d-411c-b655-af3be7cafb94"
   },
   "outputs": [
    {
     "data": {
      "text/plain": [
       "(torch.Size([1, 2]), torch.Size([2, 1]), torch.Size([2]))"
      ]
     },
     "execution_count": 23,
     "metadata": {},
     "output_type": "execute_result"
    }
   ],
   "source": [
    "b1.shape, b2.shape, b3.shape"
   ]
  },
  {
   "cell_type": "markdown",
   "metadata": {
    "id": "43EmKG3YU8VS"
   },
   "source": [
    "`-` 브로드캐스팅"
   ]
  },
  {
   "cell_type": "code",
   "execution_count": null,
   "metadata": {
    "colab": {
     "base_uri": "https://localhost:8080/"
    },
    "executionInfo": {
     "elapsed": 4,
     "status": "ok",
     "timestamp": 1677224645383,
     "user": {
      "displayName": "이강철",
      "userId": "13507850890638580947"
     },
     "user_tz": -540
    },
    "id": "bdUfj2ypU-hP",
    "outputId": "a4ec0c27-3d23-4031-c907-a4b4451a4f3f"
   },
   "outputs": [
    {
     "data": {
      "text/plain": [
       "tensor([0, 1, 2])"
      ]
     },
     "execution_count": 24,
     "metadata": {},
     "output_type": "execute_result"
    }
   ],
   "source": [
    "a = torch.tensor([1,2,3])\n",
    "a -1"
   ]
  },
  {
   "cell_type": "code",
   "execution_count": null,
   "metadata": {
    "colab": {
     "base_uri": "https://localhost:8080/"
    },
    "executionInfo": {
     "elapsed": 779,
     "status": "ok",
     "timestamp": 1677224647789,
     "user": {
      "displayName": "이강철",
      "userId": "13507850890638580947"
     },
     "user_tz": -540
    },
    "id": "xe2FuP9SVA6T",
    "outputId": "6f23df09-fa96-407c-9dee-cf65b2747175"
   },
   "outputs": [
    {
     "data": {
      "text/plain": [
       "tensor([[0],\n",
       "        [1],\n",
       "        [2]])"
      ]
     },
     "execution_count": 25,
     "metadata": {},
     "output_type": "execute_result"
    }
   ],
   "source": [
    "b = torch.tensor([[1],[2],[3]])\n",
    "b-1"
   ]
  },
  {
   "cell_type": "code",
   "execution_count": null,
   "metadata": {
    "colab": {
     "base_uri": "https://localhost:8080/"
    },
    "executionInfo": {
     "elapsed": 3,
     "status": "ok",
     "timestamp": 1677224809078,
     "user": {
      "displayName": "이강철",
      "userId": "13507850890638580947"
     },
     "user_tz": -540
    },
    "id": "fsCUi7FzYyrR",
    "outputId": "b53bcbde-bf77-48c8-fad4-ea322a0bfd95"
   },
   "outputs": [
    {
     "data": {
      "text/plain": [
       "(torch.Size([3, 1]), torch.Size([3]))"
      ]
     },
     "execution_count": 28,
     "metadata": {},
     "output_type": "execute_result"
    }
   ],
   "source": [
    "b.shape, a.shape"
   ]
  },
  {
   "cell_type": "markdown",
   "metadata": {
    "id": "a5BHzDKAViTA"
   },
   "source": [
    "(a는 그냥 길이가 3인 벡터이지만 연산시, a를 row-vec으로 해석)"
   ]
  },
  {
   "cell_type": "markdown",
   "metadata": {
    "id": "dE1zRi-TZKGj"
   },
   "source": [
    "$ a= [1, 2, 3], \\quad b= \\begin{bmatrix} 1 \\\\ 2 \\\\ 3  \\end{bmatrix} \\quad \\to  \\quad a = \\begin{bmatrix} 1 & 2 & 3 \\\\ 1 & 2 & 3 \\\\ 1 & 2 & 3  \\end{bmatrix}, \\quad b = \\begin{bmatrix} 1 & 1 & 1 \\\\ 2 & 2 & 2 \\\\ 3 & 3 & 3  \\end{bmatrix}  $"
   ]
  },
  {
   "cell_type": "code",
   "execution_count": null,
   "metadata": {
    "colab": {
     "base_uri": "https://localhost:8080/"
    },
    "executionInfo": {
     "elapsed": 283,
     "status": "ok",
     "timestamp": 1677225259468,
     "user": {
      "displayName": "이강철",
      "userId": "13507850890638580947"
     },
     "user_tz": -540
    },
    "id": "rFuTjuK9aQTq",
    "outputId": "12e45023-31f4-4f04-b0a2-e9e3c1f89704"
   },
   "outputs": [
    {
     "data": {
      "text/plain": [
       "tensor([[ 0,  1,  2],\n",
       "        [-1,  0,  1],\n",
       "        [-2, -1,  0]])"
      ]
     },
     "execution_count": 30,
     "metadata": {},
     "output_type": "execute_result"
    }
   ],
   "source": [
    "a-b"
   ]
  },
  {
   "cell_type": "code",
   "execution_count": null,
   "metadata": {
    "colab": {
     "base_uri": "https://localhost:8080/"
    },
    "executionInfo": {
     "elapsed": 249,
     "status": "ok",
     "timestamp": 1677225254785,
     "user": {
      "displayName": "이강철",
      "userId": "13507850890638580947"
     },
     "user_tz": -540
    },
    "id": "kHkSUADWVQqO",
    "outputId": "2e48df07-9f10-421f-9afe-b2de6f0351c4"
   },
   "outputs": [
    {
     "data": {
      "text/plain": [
       "torch.Size([3, 3])"
      ]
     },
     "execution_count": 29,
     "metadata": {},
     "output_type": "execute_result"
    }
   ],
   "source": [
    "(a-b).shape"
   ]
  },
  {
   "cell_type": "markdown",
   "metadata": {
    "id": "2qZTUseXVtMC"
   },
   "source": [
    "# Review"
   ]
  },
  {
   "cell_type": "code",
   "execution_count": null,
   "metadata": {
    "colab": {
     "base_uri": "https://localhost:8080/",
     "height": 206
    },
    "executionInfo": {
     "elapsed": 274,
     "status": "ok",
     "timestamp": 1677225477857,
     "user": {
      "displayName": "이강철",
      "userId": "13507850890638580947"
     },
     "user_tz": -540
    },
    "id": "_SCneT2nVwe_",
    "outputId": "e6f4a202-98fe-4be7-c57b-51162d264018"
   },
   "outputs": [
    {
     "data": {
      "text/html": [
       "\n",
       "  <div id=\"df-931dd00a-5911-42fc-b7a1-95afb48198f3\">\n",
       "    <div class=\"colab-df-container\">\n",
       "      <div>\n",
       "<style scoped>\n",
       "    .dataframe tbody tr th:only-of-type {\n",
       "        vertical-align: middle;\n",
       "    }\n",
       "\n",
       "    .dataframe tbody tr th {\n",
       "        vertical-align: top;\n",
       "    }\n",
       "\n",
       "    .dataframe thead th {\n",
       "        text-align: right;\n",
       "    }\n",
       "</style>\n",
       "<table border=\"1\" class=\"dataframe\">\n",
       "  <thead>\n",
       "    <tr style=\"text-align: right;\">\n",
       "      <th></th>\n",
       "      <th>x</th>\n",
       "      <th>y</th>\n",
       "    </tr>\n",
       "  </thead>\n",
       "  <tbody>\n",
       "    <tr>\n",
       "      <th>0</th>\n",
       "      <td>-2.482113</td>\n",
       "      <td>-8.542024</td>\n",
       "    </tr>\n",
       "    <tr>\n",
       "      <th>1</th>\n",
       "      <td>-2.362146</td>\n",
       "      <td>-6.576713</td>\n",
       "    </tr>\n",
       "    <tr>\n",
       "      <th>2</th>\n",
       "      <td>-1.997295</td>\n",
       "      <td>-5.949576</td>\n",
       "    </tr>\n",
       "    <tr>\n",
       "      <th>3</th>\n",
       "      <td>-1.623936</td>\n",
       "      <td>-4.479364</td>\n",
       "    </tr>\n",
       "    <tr>\n",
       "      <th>4</th>\n",
       "      <td>-1.479192</td>\n",
       "      <td>-4.251570</td>\n",
       "    </tr>\n",
       "  </tbody>\n",
       "</table>\n",
       "</div>\n",
       "      <button class=\"colab-df-convert\" onclick=\"convertToInteractive('df-931dd00a-5911-42fc-b7a1-95afb48198f3')\"\n",
       "              title=\"Convert this dataframe to an interactive table.\"\n",
       "              style=\"display:none;\">\n",
       "        \n",
       "  <svg xmlns=\"http://www.w3.org/2000/svg\" height=\"24px\"viewBox=\"0 0 24 24\"\n",
       "       width=\"24px\">\n",
       "    <path d=\"M0 0h24v24H0V0z\" fill=\"none\"/>\n",
       "    <path d=\"M18.56 5.44l.94 2.06.94-2.06 2.06-.94-2.06-.94-.94-2.06-.94 2.06-2.06.94zm-11 1L8.5 8.5l.94-2.06 2.06-.94-2.06-.94L8.5 2.5l-.94 2.06-2.06.94zm10 10l.94 2.06.94-2.06 2.06-.94-2.06-.94-.94-2.06-.94 2.06-2.06.94z\"/><path d=\"M17.41 7.96l-1.37-1.37c-.4-.4-.92-.59-1.43-.59-.52 0-1.04.2-1.43.59L10.3 9.45l-7.72 7.72c-.78.78-.78 2.05 0 2.83L4 21.41c.39.39.9.59 1.41.59.51 0 1.02-.2 1.41-.59l7.78-7.78 2.81-2.81c.8-.78.8-2.07 0-2.86zM5.41 20L4 18.59l7.72-7.72 1.47 1.35L5.41 20z\"/>\n",
       "  </svg>\n",
       "      </button>\n",
       "      \n",
       "  <style>\n",
       "    .colab-df-container {\n",
       "      display:flex;\n",
       "      flex-wrap:wrap;\n",
       "      gap: 12px;\n",
       "    }\n",
       "\n",
       "    .colab-df-convert {\n",
       "      background-color: #E8F0FE;\n",
       "      border: none;\n",
       "      border-radius: 50%;\n",
       "      cursor: pointer;\n",
       "      display: none;\n",
       "      fill: #1967D2;\n",
       "      height: 32px;\n",
       "      padding: 0 0 0 0;\n",
       "      width: 32px;\n",
       "    }\n",
       "\n",
       "    .colab-df-convert:hover {\n",
       "      background-color: #E2EBFA;\n",
       "      box-shadow: 0px 1px 2px rgba(60, 64, 67, 0.3), 0px 1px 3px 1px rgba(60, 64, 67, 0.15);\n",
       "      fill: #174EA6;\n",
       "    }\n",
       "\n",
       "    [theme=dark] .colab-df-convert {\n",
       "      background-color: #3B4455;\n",
       "      fill: #D2E3FC;\n",
       "    }\n",
       "\n",
       "    [theme=dark] .colab-df-convert:hover {\n",
       "      background-color: #434B5C;\n",
       "      box-shadow: 0px 1px 3px 1px rgba(0, 0, 0, 0.15);\n",
       "      filter: drop-shadow(0px 1px 2px rgba(0, 0, 0, 0.3));\n",
       "      fill: #FFFFFF;\n",
       "    }\n",
       "  </style>\n",
       "\n",
       "      <script>\n",
       "        const buttonEl =\n",
       "          document.querySelector('#df-931dd00a-5911-42fc-b7a1-95afb48198f3 button.colab-df-convert');\n",
       "        buttonEl.style.display =\n",
       "          google.colab.kernel.accessAllowed ? 'block' : 'none';\n",
       "\n",
       "        async function convertToInteractive(key) {\n",
       "          const element = document.querySelector('#df-931dd00a-5911-42fc-b7a1-95afb48198f3');\n",
       "          const dataTable =\n",
       "            await google.colab.kernel.invokeFunction('convertToInteractive',\n",
       "                                                     [key], {});\n",
       "          if (!dataTable) return;\n",
       "\n",
       "          const docLinkHtml = 'Like what you see? Visit the ' +\n",
       "            '<a target=\"_blank\" href=https://colab.research.google.com/notebooks/data_table.ipynb>data table notebook</a>'\n",
       "            + ' to learn more about interactive tables.';\n",
       "          element.innerHTML = '';\n",
       "          dataTable['output_type'] = 'display_data';\n",
       "          await google.colab.output.renderOutput(dataTable, element);\n",
       "          const docLink = document.createElement('div');\n",
       "          docLink.innerHTML = docLinkHtml;\n",
       "          element.appendChild(docLink);\n",
       "        }\n",
       "      </script>\n",
       "    </div>\n",
       "  </div>\n",
       "  "
      ],
      "text/plain": [
       "          x         y\n",
       "0 -2.482113 -8.542024\n",
       "1 -2.362146 -6.576713\n",
       "2 -1.997295 -5.949576\n",
       "3 -1.623936 -4.479364\n",
       "4 -1.479192 -4.251570"
      ]
     },
     "execution_count": 31,
     "metadata": {},
     "output_type": "execute_result"
    }
   ],
   "source": [
    "df = pd.read_csv(\"https://raw.githubusercontent.com/guebin/DL2022/main/posts/II.%20DNN/2022-09-22-regression.csv\") \n",
    "df.head()"
   ]
  },
  {
   "cell_type": "code",
   "execution_count": null,
   "metadata": {
    "colab": {
     "base_uri": "https://localhost:8080/",
     "height": 283
    },
    "executionInfo": {
     "elapsed": 323,
     "status": "ok",
     "timestamp": 1677225485036,
     "user": {
      "displayName": "이강철",
      "userId": "13507850890638580947"
     },
     "user_tz": -540
    },
    "id": "drGlceEsWqk5",
    "outputId": "26898059-0ca0-4699-9d3f-39e82827c5a4"
   },
   "outputs": [
    {
     "data": {
      "text/plain": [
       "[<matplotlib.lines.Line2D at 0x7f51e9df53a0>]"
      ]
     },
     "execution_count": 32,
     "metadata": {},
     "output_type": "execute_result"
    },
    {
     "data": {
      "image/png": "[encoded data removed]",
      "text/plain": [
       "<Figure size 432x288 with 1 Axes>"
      ]
     },
     "metadata": {
      "needs_background": "light"
     },
     "output_type": "display_data"
    }
   ],
   "source": [
    "plt.plot(df.x,df.y,\".\")"
   ]
  },
  {
   "cell_type": "code",
   "execution_count": null,
   "metadata": {
    "id": "CvQqzEmgWwt6"
   },
   "outputs": [],
   "source": [
    "x = torch.tensor(df.x).float().reshape(100,1) ### 메모리 절약을 위해 float32를 사용\n",
    "y = torch.tensor(df.y).float().reshape(100,1)\n",
    "_1 = torch.ones([100,1])\n",
    "X = torch.concat([_1,x],axis=1)"
   ]
  },
  {
   "cell_type": "code",
   "execution_count": null,
   "metadata": {
    "colab": {
     "base_uri": "https://localhost:8080/"
    },
    "executionInfo": {
     "elapsed": 3,
     "status": "ok",
     "timestamp": 1677225486868,
     "user": {
      "displayName": "이강철",
      "userId": "13507850890638580947"
     },
     "user_tz": -540
    },
    "id": "tkvdVRQtW-XV",
    "outputId": "574c9ff4-6516-410e-aebc-4543f817ece7"
   },
   "outputs": [
    {
     "data": {
      "text/plain": [
       "torch.Size([100, 2])"
      ]
     },
     "execution_count": 34,
     "metadata": {},
     "output_type": "execute_result"
    }
   ],
   "source": [
    "X.shape"
   ]
  },
  {
   "cell_type": "code",
   "execution_count": null,
   "metadata": {
    "colab": {
     "base_uri": "https://localhost:8080/"
    },
    "executionInfo": {
     "elapsed": 266,
     "status": "ok",
     "timestamp": 1677225804472,
     "user": {
      "displayName": "이강철",
      "userId": "13507850890638580947"
     },
     "user_tz": -540
    },
    "id": "5_PpL-wiXFhw",
    "outputId": "59cad132-2c3f-4129-a563-21333cad15a5"
   },
   "outputs": [
    {
     "data": {
      "text/plain": [
       "tensor([[-5.],\n",
       "        [10.]], requires_grad=True)"
      ]
     },
     "execution_count": 38,
     "metadata": {},
     "output_type": "execute_result"
    }
   ],
   "source": [
    "What= torch.tensor([[-5.0],[10.0]],requires_grad = True)\n",
    "What"
   ]
  },
  {
   "cell_type": "code",
   "execution_count": null,
   "metadata": {
    "colab": {
     "base_uri": "https://localhost:8080/",
     "height": 283
    },
    "executionInfo": {
     "elapsed": 377,
     "status": "ok",
     "timestamp": 1677225805110,
     "user": {
      "displayName": "이강철",
      "userId": "13507850890638580947"
     },
     "user_tz": -540
    },
    "id": "RDHpGXq7XPQH",
    "outputId": "00cc158c-11b9-4dd3-a189-0c1db6330f84"
   },
   "outputs": [
    {
     "data": {
      "text/plain": [
       "<matplotlib.legend.Legend at 0x7f51e24bb3d0>"
      ]
     },
     "execution_count": 39,
     "metadata": {},
     "output_type": "execute_result"
    },
    {
     "data": {
      "image/png": "[encoded data removed]",
      "text/plain": [
       "<Figure size 432x288 with 1 Axes>"
      ]
     },
     "metadata": {
      "needs_background": "light"
     },
     "output_type": "display_data"
    }
   ],
   "source": [
    "plt.plot(x,y,\".\")\n",
    "plt.plot(x,(X@What).data,\"--\")\n",
    "plt.legend([\"y\",\"yhat\"])"
   ]
  },
  {
   "cell_type": "markdown",
   "metadata": {
    "id": "3KfOQNQVXcV3"
   },
   "source": [
    "## loss = SSE"
   ]
  },
  {
   "cell_type": "code",
   "execution_count": null,
   "metadata": {
    "colab": {
     "base_uri": "https://localhost:8080/"
    },
    "executionInfo": {
     "elapsed": 408,
     "status": "ok",
     "timestamp": 1677226600252,
     "user": {
      "displayName": "이강철",
      "userId": "13507850890638580947"
     },
     "user_tz": -540
    },
    "id": "geuz1-PEfrDg",
    "outputId": "23502f1b-e583-4254-936b-5a74a4b9e1e4"
   },
   "outputs": [
    {
     "data": {
      "text/plain": [
       "tensor([[-5.],\n",
       "        [10.]], requires_grad=True)"
      ]
     },
     "execution_count": 45,
     "metadata": {},
     "output_type": "execute_result"
    }
   ],
   "source": [
    "What= torch.tensor([[-5.0],[10.0]],requires_grad = True)\n",
    "What"
   ]
  },
  {
   "cell_type": "code",
   "execution_count": null,
   "metadata": {
    "id": "oY5-z8alXgQv"
   },
   "outputs": [],
   "source": [
    "for epoc in range(30) : \n",
    "    yhat = X@What\n",
    "    loss = torch.sum((y-yhat)**2)\n",
    "    loss.backward()\n",
    "    What.data = What.data - 0.001*What.grad ## 갱신한 가중치 저장\n",
    "    What.grad = None"
   ]
  },
  {
   "cell_type": "code",
   "execution_count": null,
   "metadata": {
    "colab": {
     "base_uri": "https://localhost:8080/",
     "height": 283
    },
    "executionInfo": {
     "elapsed": 7,
     "status": "ok",
     "timestamp": 1677226603907,
     "user": {
      "displayName": "이강철",
      "userId": "13507850890638580947"
     },
     "user_tz": -540
    },
    "id": "W2CLkUT2XzZZ",
    "outputId": "5d68e589-ce0c-4d6b-cd35-0bd4f106cdae"
   },
   "outputs": [
    {
     "data": {
      "text/plain": [
       "<matplotlib.legend.Legend at 0x7f51db312d30>"
      ]
     },
     "execution_count": 47,
     "metadata": {},
     "output_type": "execute_result"
    },
    {
     "data": {
      "image/png": "[encoded data removed]",
      "text/plain": [
       "<Figure size 432x288 with 1 Axes>"
      ]
     },
     "metadata": {
      "needs_background": "light"
     },
     "output_type": "display_data"
    }
   ],
   "source": [
    "plt.plot(x,y,\".\")\n",
    "plt.plot(x,(X@What).data,\"--\")\n",
    "plt.legend([\"y\",\"yhat\"])"
   ]
  },
  {
   "cell_type": "markdown",
   "metadata": {
    "id": "j9C0auvsYBkV"
   },
   "source": [
    "### SSE의 다른버전 = MSE"
   ]
  },
  {
   "cell_type": "code",
   "execution_count": null,
   "metadata": {
    "colab": {
     "base_uri": "https://localhost:8080/"
    },
    "executionInfo": {
     "elapsed": 2,
     "status": "ok",
     "timestamp": 1677226650386,
     "user": {
      "displayName": "이강철",
      "userId": "13507850890638580947"
     },
     "user_tz": -540
    },
    "id": "Yas6mGpBf0Cp",
    "outputId": "ca7e23de-4196-42fe-fa3c-e3034a416064"
   },
   "outputs": [
    {
     "data": {
      "text/plain": [
       "tensor([[-5.],\n",
       "        [10.]], requires_grad=True)"
      ]
     },
     "execution_count": 57,
     "metadata": {},
     "output_type": "execute_result"
    }
   ],
   "source": [
    "What= torch.tensor([[-5.0],[10.0]],requires_grad = True)\n",
    "What"
   ]
  },
  {
   "cell_type": "code",
   "execution_count": null,
   "metadata": {
    "id": "Md8uRDyyYNkc"
   },
   "outputs": [],
   "source": [
    "for epoc in range(30) : \n",
    "    yhat = X@What\n",
    "    loss = torch.mean((y-yhat)**2)\n",
    "    loss.backward()\n",
    "    What.data = What.data - 0.1*What.grad ## 갱신한 가중치 저장\n",
    "    What.grad = None"
   ]
  },
  {
   "cell_type": "code",
   "execution_count": null,
   "metadata": {
    "colab": {
     "base_uri": "https://localhost:8080/",
     "height": 283
    },
    "executionInfo": {
     "elapsed": 833,
     "status": "ok",
     "timestamp": 1677226652454,
     "user": {
      "displayName": "이강철",
      "userId": "13507850890638580947"
     },
     "user_tz": -540
    },
    "id": "hBkctbYBfpEu",
    "outputId": "555a3fce-d999-46e7-a805-3daf3ae02ca2"
   },
   "outputs": [
    {
     "data": {
      "text/plain": [
       "<matplotlib.legend.Legend at 0x7f51e24f1310>"
      ]
     },
     "execution_count": 59,
     "metadata": {},
     "output_type": "execute_result"
    },
    {
     "data": {
      "image/png": "[encoded data removed]",
      "text/plain": [
       "<Figure size 432x288 with 1 Axes>"
      ]
     },
     "metadata": {
      "needs_background": "light"
     },
     "output_type": "display_data"
    }
   ],
   "source": [
    "plt.plot(x,y,\".\")\n",
    "plt.plot(x,(X@What).data,\"--\")\n",
    "plt.legend([\"y\",\"yhat\"])"
   ]
  },
  {
   "cell_type": "markdown",
   "metadata": {
    "id": "n5XBoDFof8FC"
   },
   "source": [
    "# step1의 다른 버전 - net설계만"
   ]
  },
  {
   "cell_type": "markdown",
   "metadata": {
    "id": "7nrvDxGfkwdq"
   },
   "source": [
    "## ver1 : 벡터형"
   ]
  },
  {
   "cell_type": "markdown",
   "metadata": {
    "id": "mJapdihlhUMl"
   },
   "source": [
    "`-` parameter"
   ]
  },
  {
   "cell_type": "markdown",
   "metadata": {
    "id": "AgGJjEpthY2b"
   },
   "source": [
    "* in_features : 입력차원\n",
    "\n",
    "* out_features : 출력차원\n",
    "\n",
    "* bias : 절편유무"
   ]
  },
  {
   "cell_type": "code",
   "execution_count": null,
   "metadata": {
    "id": "tl2e1Nl6gP4M"
   },
   "outputs": [],
   "source": [
    "torch.manual_seed(202150256)\n",
    "net = torch.nn.Linear(in_features=1,out_features=1,bias=True)"
   ]
  },
  {
   "cell_type": "markdown",
   "metadata": {
    "id": "8VWDmhMhjuIX"
   },
   "source": [
    "* `net`이 만들어질 때 최초 가중치 값이 설정된다."
   ]
  },
  {
   "cell_type": "code",
   "execution_count": null,
   "metadata": {
    "colab": {
     "base_uri": "https://localhost:8080/"
    },
    "executionInfo": {
     "elapsed": 5,
     "status": "ok",
     "timestamp": 1677227512674,
     "user": {
      "displayName": "이강철",
      "userId": "13507850890638580947"
     },
     "user_tz": -540
    },
    "id": "s86YILG_jK24",
    "outputId": "8430a604-df68-4411-ce05-ab41f2a5bc18"
   },
   "outputs": [
    {
     "data": {
      "text/plain": [
       "(Parameter containing:\n",
       " tensor([-0.0483], requires_grad=True), Parameter containing:\n",
       " tensor([[-0.8675]], requires_grad=True))"
      ]
     },
     "execution_count": 63,
     "metadata": {},
     "output_type": "execute_result"
    }
   ],
   "source": [
    "net.bias, net.weight"
   ]
  },
  {
   "cell_type": "code",
   "execution_count": null,
   "metadata": {
    "colab": {
     "base_uri": "https://localhost:8080/",
     "height": 283
    },
    "executionInfo": {
     "elapsed": 6,
     "status": "ok",
     "timestamp": 1677227633618,
     "user": {
      "displayName": "이강철",
      "userId": "13507850890638580947"
     },
     "user_tz": -540
    },
    "id": "e8sQBNvajO4-",
    "outputId": "f75f2e76-322a-4f98-c358-7a10bf2fd352"
   },
   "outputs": [
    {
     "data": {
      "text/plain": [
       "[<matplotlib.lines.Line2D at 0x7f51dad90790>]"
      ]
     },
     "execution_count": 69,
     "metadata": {},
     "output_type": "execute_result"
    },
    {
     "data": {
      "image/png": "[encoded data removed]",
      "text/plain": [
       "<Figure size 432x288 with 1 Axes>"
      ]
     },
     "metadata": {
      "needs_background": "light"
     },
     "output_type": "display_data"
    }
   ],
   "source": [
    "plt.plot(x,y,\".\")\n",
    "plt.plot(x,net(x).data,\"--\")\n",
    "plt.plot(x,-0.483-0.8675*x,\"-\")"
   ]
  },
  {
   "cell_type": "markdown",
   "metadata": {
    "id": "Dt6UHMdEi8_T"
   },
   "source": [
    "`-` 데이터로드"
   ]
  },
  {
   "cell_type": "code",
   "execution_count": null,
   "metadata": {
    "id": "NmjdGBEFjGPB"
   },
   "outputs": [],
   "source": [
    "df = pd.read_csv(\"https://raw.githubusercontent.com/guebin/DL2022/main/posts/II.%20DNN/2022-09-22-regression.csv\") "
   ]
  },
  {
   "cell_type": "code",
   "execution_count": 74,
   "metadata": {
    "executionInfo": {
     "elapsed": 2,
     "status": "ok",
     "timestamp": 1677227867560,
     "user": {
      "displayName": "이강철",
      "userId": "13507850890638580947"
     },
     "user_tz": -540
    },
    "id": "bI0_vv1tjG-S"
   },
   "outputs": [],
   "source": [
    "x = torch.tensor(df.x).float()\n",
    "y = torch.tensor(df.y).float()"
   ]
  },
  {
   "cell_type": "markdown",
   "metadata": {
    "id": "3dYmm6AKkrxr"
   },
   "source": [
    "## ver2  : 매트릭스"
   ]
  },
  {
   "cell_type": "code",
   "execution_count": 76,
   "metadata": {
    "executionInfo": {
     "elapsed": 4,
     "status": "ok",
     "timestamp": 1677228019487,
     "user": {
      "displayName": "이강철",
      "userId": "13507850890638580947"
     },
     "user_tz": -540
    },
    "id": "ssTd2xjnk_fa"
   },
   "outputs": [],
   "source": [
    "yhat = net(X)"
   ]
  },
  {
   "cell_type": "code",
   "execution_count": 79,
   "metadata": {
    "executionInfo": {
     "elapsed": 4,
     "status": "ok",
     "timestamp": 1677228074341,
     "user": {
      "displayName": "이강철",
      "userId": "13507850890638580947"
     },
     "user_tz": -540
    },
    "id": "pvkJhOYzlCbE"
   },
   "outputs": [],
   "source": [
    "torch.manual_seed(202150256)\n",
    "net = torch.nn.Linear(in_features=2, out_features=1,bias=False)"
   ]
  },
  {
   "cell_type": "code",
   "execution_count": 80,
   "metadata": {
    "colab": {
     "base_uri": "https://localhost:8080/"
    },
    "executionInfo": {
     "elapsed": 3,
     "status": "ok",
     "timestamp": 1677228076537,
     "user": {
      "displayName": "이강철",
      "userId": "13507850890638580947"
     },
     "user_tz": -540
    },
    "id": "bezaLk6OlJMR",
    "outputId": "fa68fa5e-c1ab-4da5-d01a-8ca19bafe3be"
   },
   "outputs": [
    {
     "data": {
      "text/plain": [
       "Parameter containing:\n",
       "tensor([[-0.6134, -0.0341]], requires_grad=True)"
      ]
     },
     "execution_count": 80,
     "metadata": {},
     "output_type": "execute_result"
    }
   ],
   "source": [
    "net.weight"
   ]
  },
  {
   "cell_type": "markdown",
   "metadata": {
    "id": "uoaOdOV0lK1m"
   },
   "source": [
    "$w_0 = -0.6134, w_1 =-0.0341$"
   ]
  },
  {
   "cell_type": "code",
   "execution_count": 86,
   "metadata": {
    "colab": {
     "base_uri": "https://localhost:8080/"
    },
    "executionInfo": {
     "elapsed": 5,
     "status": "ok",
     "timestamp": 1677228218917,
     "user": {
      "displayName": "이강철",
      "userId": "13507850890638580947"
     },
     "user_tz": -540
    },
    "id": "tlzIDe0ul3T5",
    "outputId": "26a5e14e-53cf-45ea-dee5-9da0b4562a78"
   },
   "outputs": [
    {
     "data": {
      "text/plain": [
       "torch.Size([100, 2])"
      ]
     },
     "execution_count": 86,
     "metadata": {},
     "output_type": "execute_result"
    }
   ],
   "source": [
    "X.shape"
   ]
  },
  {
   "cell_type": "code",
   "execution_count": 91,
   "metadata": {
    "colab": {
     "base_uri": "https://localhost:8080/",
     "height": 283
    },
    "executionInfo": {
     "elapsed": 1228,
     "status": "ok",
     "timestamp": 1677228285372,
     "user": {
      "displayName": "이강철",
      "userId": "13507850890638580947"
     },
     "user_tz": -540
    },
    "id": "3qy06t7Sld7F",
    "outputId": "7db92c51-0ced-4b80-e909-bf53ecc9a57e"
   },
   "outputs": [
    {
     "data": {
      "text/plain": [
       "[<matplotlib.lines.Line2D at 0x7f51dab3d640>]"
      ]
     },
     "execution_count": 91,
     "metadata": {},
     "output_type": "execute_result"
    },
    {
     "data": {
      "image/png": "[encoded data removed]",
      "text/plain": [
       "<Figure size 432x288 with 1 Axes>"
      ]
     },
     "metadata": {
      "needs_background": "light"
     },
     "output_type": "display_data"
    }
   ],
   "source": [
    "plt.plot(x,y,\"o\")\n",
    "plt.plot(x,net(X).data,\"--\")\n",
    "plt.plot(x,X@torch.tensor([[-0.6134], [-0.0341]]),\".\")"
   ]
  },
  {
   "cell_type": "markdown",
   "metadata": {
    "id": "KUXi6DGQmMQo"
   },
   "source": [
    "`-` 수식표현 : $\\bf {\\hat y} = \\bf{X\\hat W} = \\begin{bmatrix} 1 & x_1 \\\\\n",
    "1 & x_2 \\\\ \\dots & \\dots \\\\ 1 & x_{100}  \\end{bmatrix} \\times \\begin{bmatrix} \\hat{w_0} \\\\ \\hat {w_1}\\end{bmatrix}$"
   ]
  },
  {
   "cell_type": "markdown",
   "metadata": {
    "id": "3ZX2k1BOnoqd"
   },
   "source": [
    "* 위 표현을 하는게 `net`의 역할"
   ]
  },
  {
   "cell_type": "markdown",
   "metadata": {
    "id": "v74V90kbnsMm"
   },
   "source": [
    "(잘못된 사용1)"
   ]
  },
  {
   "cell_type": "markdown",
   "metadata": {
    "id": "B-sso_eOoILU"
   },
   "source": [
    "* 컬럼벡터로 명시하지 않은 경우, 즉 단순히 길이가 100인 벡터를 선언"
   ]
  },
  {
   "cell_type": "code",
   "execution_count": 98,
   "metadata": {
    "executionInfo": {
     "elapsed": 4,
     "status": "ok",
     "timestamp": 1677228742733,
     "user": {
      "displayName": "이강철",
      "userId": "13507850890638580947"
     },
     "user_tz": -540
    },
    "id": "H5dw4Q4QnuSp"
   },
   "outputs": [],
   "source": [
    "x = x.reshape(100,1)\n",
    "_x = x.reshape(-1)\n",
    "y = y.reshape(100,1)\n",
    "_y = y.reshape(-1)"
   ]
  },
  {
   "cell_type": "code",
   "execution_count": 101,
   "metadata": {
    "executionInfo": {
     "elapsed": 3,
     "status": "ok",
     "timestamp": 1677228795727,
     "user": {
      "displayName": "이강철",
      "userId": "13507850890638580947"
     },
     "user_tz": -540
    },
    "id": "H3eLzZhPn6NT"
   },
   "outputs": [],
   "source": [
    "net = torch.nn.Linear(in_features= 1, out_features=1, bias=True)"
   ]
  },
  {
   "cell_type": "code",
   "execution_count": 102,
   "metadata": {
    "colab": {
     "base_uri": "https://localhost:8080/",
     "height": 325
    },
    "executionInfo": {
     "elapsed": 6,
     "status": "error",
     "timestamp": 1677228798176,
     "user": {
      "displayName": "이강철",
      "userId": "13507850890638580947"
     },
     "user_tz": -540
    },
    "id": "lVooLGwwoD5Y",
    "outputId": "868e10ff-ecaf-4b65-ee33-31d6a1e72823"
   },
   "outputs": [
    {
     "ename": "RuntimeError",
     "evalue": "ignored",
     "output_type": "error",
     "traceback": [
      "\u001b[0;31m---------------------------------------------------------------------------\u001b[0m",
      "\u001b[0;31mRuntimeError\u001b[0m                              Traceback (most recent call last)",
      "\u001b[0;32m<ipython-input-102-6f02cc22c6a4>\u001b[0m in \u001b[0;36m<module>\u001b[0;34m\u001b[0m\n\u001b[0;32m----> 1\u001b[0;31m \u001b[0mnet\u001b[0m\u001b[0;34m(\u001b[0m\u001b[0m_x\u001b[0m\u001b[0;34m)\u001b[0m\u001b[0;34m\u001b[0m\u001b[0;34m\u001b[0m\u001b[0m\n\u001b[0m",
      "\u001b[0;32m/usr/local/lib/python3.8/dist-packages/torch/nn/modules/module.py\u001b[0m in \u001b[0;36m_call_impl\u001b[0;34m(self, *input, **kwargs)\u001b[0m\n\u001b[1;32m   1192\u001b[0m         if not (self._backward_hooks or self._forward_hooks or self._forward_pre_hooks or _global_backward_hooks\n\u001b[1;32m   1193\u001b[0m                 or _global_forward_hooks or _global_forward_pre_hooks):\n\u001b[0;32m-> 1194\u001b[0;31m             \u001b[0;32mreturn\u001b[0m \u001b[0mforward_call\u001b[0m\u001b[0;34m(\u001b[0m\u001b[0;34m*\u001b[0m\u001b[0minput\u001b[0m\u001b[0;34m,\u001b[0m \u001b[0;34m**\u001b[0m\u001b[0mkwargs\u001b[0m\u001b[0;34m)\u001b[0m\u001b[0;34m\u001b[0m\u001b[0;34m\u001b[0m\u001b[0m\n\u001b[0m\u001b[1;32m   1195\u001b[0m         \u001b[0;31m# Do not call functions when jit is used\u001b[0m\u001b[0;34m\u001b[0m\u001b[0;34m\u001b[0m\u001b[0;34m\u001b[0m\u001b[0m\n\u001b[1;32m   1196\u001b[0m         \u001b[0mfull_backward_hooks\u001b[0m\u001b[0;34m,\u001b[0m \u001b[0mnon_full_backward_hooks\u001b[0m \u001b[0;34m=\u001b[0m \u001b[0;34m[\u001b[0m\u001b[0;34m]\u001b[0m\u001b[0;34m,\u001b[0m \u001b[0;34m[\u001b[0m\u001b[0;34m]\u001b[0m\u001b[0;34m\u001b[0m\u001b[0;34m\u001b[0m\u001b[0m\n",
      "\u001b[0;32m/usr/local/lib/python3.8/dist-packages/torch/nn/modules/linear.py\u001b[0m in \u001b[0;36mforward\u001b[0;34m(self, input)\u001b[0m\n\u001b[1;32m    112\u001b[0m \u001b[0;34m\u001b[0m\u001b[0m\n\u001b[1;32m    113\u001b[0m     \u001b[0;32mdef\u001b[0m \u001b[0mforward\u001b[0m\u001b[0;34m(\u001b[0m\u001b[0mself\u001b[0m\u001b[0;34m,\u001b[0m \u001b[0minput\u001b[0m\u001b[0;34m:\u001b[0m \u001b[0mTensor\u001b[0m\u001b[0;34m)\u001b[0m \u001b[0;34m->\u001b[0m \u001b[0mTensor\u001b[0m\u001b[0;34m:\u001b[0m\u001b[0;34m\u001b[0m\u001b[0;34m\u001b[0m\u001b[0m\n\u001b[0;32m--> 114\u001b[0;31m         \u001b[0;32mreturn\u001b[0m \u001b[0mF\u001b[0m\u001b[0;34m.\u001b[0m\u001b[0mlinear\u001b[0m\u001b[0;34m(\u001b[0m\u001b[0minput\u001b[0m\u001b[0;34m,\u001b[0m \u001b[0mself\u001b[0m\u001b[0;34m.\u001b[0m\u001b[0mweight\u001b[0m\u001b[0;34m,\u001b[0m \u001b[0mself\u001b[0m\u001b[0;34m.\u001b[0m\u001b[0mbias\u001b[0m\u001b[0;34m)\u001b[0m\u001b[0;34m\u001b[0m\u001b[0;34m\u001b[0m\u001b[0m\n\u001b[0m\u001b[1;32m    115\u001b[0m \u001b[0;34m\u001b[0m\u001b[0m\n\u001b[1;32m    116\u001b[0m     \u001b[0;32mdef\u001b[0m \u001b[0mextra_repr\u001b[0m\u001b[0;34m(\u001b[0m\u001b[0mself\u001b[0m\u001b[0;34m)\u001b[0m \u001b[0;34m->\u001b[0m \u001b[0mstr\u001b[0m\u001b[0;34m:\u001b[0m\u001b[0;34m\u001b[0m\u001b[0;34m\u001b[0m\u001b[0m\n",
      "\u001b[0;31mRuntimeError\u001b[0m: mat1 and mat2 shapes cannot be multiplied (1x100 and 1x1)"
     ]
    }
   ],
   "source": [
    "net(_x)"
   ]
  },
  {
   "cell_type": "markdown",
   "metadata": {
    "id": "omSPIWlqoOjp"
   },
   "source": [
    "(잘못된 사용2)"
   ]
  },
  {
   "cell_type": "markdown",
   "metadata": {
    "id": "OJl9uiJXooLz"
   },
   "source": [
    "* `bias = False` 생략\n",
    "\n",
    "`-` 수식표현 : $\\bf {\\hat y} = \\bf{X\\hat W} = \\begin{bmatrix} 1 & x_1 \\\\\n",
    "1 & x_2 \\\\ \\dots & \\dots \\\\ 1 & x_{100}  \\end{bmatrix} \\times \\begin{bmatrix} \\hat{w_0} \\\\ \\hat {w_1}\\end{bmatrix} + c$"
   ]
  },
  {
   "cell_type": "code",
   "execution_count": 103,
   "metadata": {
    "executionInfo": {
     "elapsed": 7,
     "status": "ok",
     "timestamp": 1677228870447,
     "user": {
      "displayName": "이강철",
      "userId": "13507850890638580947"
     },
     "user_tz": -540
    },
    "id": "mOfiX-L7oPM5"
   },
   "outputs": [],
   "source": [
    "torch.manual_seed(202150256)\n",
    "net = torch.nn.Linear(in_features= 2, out_features=1) ##bias=False를 깜빡"
   ]
  },
  {
   "cell_type": "code",
   "execution_count": 104,
   "metadata": {
    "colab": {
     "base_uri": "https://localhost:8080/"
    },
    "executionInfo": {
     "elapsed": 6,
     "status": "ok",
     "timestamp": 1677228876776,
     "user": {
      "displayName": "이강철",
      "userId": "13507850890638580947"
     },
     "user_tz": -540
    },
    "id": "p7xCEXoYoXeS",
    "outputId": "d8965498-88a2-43a5-a91d-bbeb122eca18"
   },
   "outputs": [
    {
     "data": {
      "text/plain": [
       "Parameter containing:\n",
       "tensor([[-0.6134, -0.0341]], requires_grad=True)"
      ]
     },
     "execution_count": 104,
     "metadata": {},
     "output_type": "execute_result"
    }
   ],
   "source": [
    "net.weight"
   ]
  },
  {
   "cell_type": "code",
   "execution_count": 105,
   "metadata": {
    "colab": {
     "base_uri": "https://localhost:8080/"
    },
    "executionInfo": {
     "elapsed": 5,
     "status": "ok",
     "timestamp": 1677228885734,
     "user": {
      "displayName": "이강철",
      "userId": "13507850890638580947"
     },
     "user_tz": -540
    },
    "id": "tAI5Jpzmoaek",
    "outputId": "2bb21e00-f786-4fb2-e3ae-7333ff3229e0"
   },
   "outputs": [
    {
     "data": {
      "text/plain": [
       "Parameter containing:\n",
       "tensor([0.6102], requires_grad=True)"
      ]
     },
     "execution_count": 105,
     "metadata": {},
     "output_type": "execute_result"
    }
   ],
   "source": [
    "net.bias"
   ]
  },
  {
   "cell_type": "code",
   "execution_count": 106,
   "metadata": {
    "colab": {
     "base_uri": "https://localhost:8080/",
     "height": 283
    },
    "executionInfo": {
     "elapsed": 270,
     "status": "ok",
     "timestamp": 1677228926318,
     "user": {
      "displayName": "이강철",
      "userId": "13507850890638580947"
     },
     "user_tz": -540
    },
    "id": "tSQFc-ALogiw",
    "outputId": "45e43ea5-4b8d-487e-a58b-93e84e27b125"
   },
   "outputs": [
    {
     "data": {
      "text/plain": [
       "[<matplotlib.lines.Line2D at 0x7f51da089b50>]"
      ]
     },
     "execution_count": 106,
     "metadata": {},
     "output_type": "execute_result"
    },
    {
     "data": {
      "image/png": "[encoded data removed]",
      "text/plain": [
       "<Figure size 432x288 with 1 Axes>"
      ]
     },
     "metadata": {
      "needs_background": "light"
     },
     "output_type": "display_data"
    }
   ],
   "source": [
    "plt.plot(x,y,\"o\")\n",
    "plt.plot(x,net(X).data,\"--\")\n",
    "plt.plot(x,X@torch.tensor([[-0.6134], [-0.0341]])+0.6102,\".\")"
   ]
  },
  {
   "cell_type": "markdown",
   "metadata": {
    "id": "FjOwP_WIozGW"
   },
   "source": [
    "# step1~3"
   ]
  },
  {
   "cell_type": "markdown",
   "metadata": {
    "id": "AnuFbO1KptcB"
   },
   "source": [
    "## ver1"
   ]
  },
  {
   "cell_type": "markdown",
   "metadata": {
    "id": "JD7OAEi8q0nD"
   },
   "source": [
    "`-` 네트워크 준비"
   ]
  },
  {
   "cell_type": "code",
   "execution_count": 111,
   "metadata": {
    "colab": {
     "base_uri": "https://localhost:8080/"
    },
    "executionInfo": {
     "elapsed": 242,
     "status": "ok",
     "timestamp": 1677229349326,
     "user": {
      "displayName": "이강철",
      "userId": "13507850890638580947"
     },
     "user_tz": -540
    },
    "id": "T3fy8Rf-psPd",
    "outputId": "c6847d13-381d-4c82-ccb3-47c125f09ba0"
   },
   "outputs": [
    {
     "data": {
      "text/plain": [
       "(Parameter containing:\n",
       " tensor([-5.], requires_grad=True), Parameter containing:\n",
       " tensor([[-10.]], requires_grad=True))"
      ]
     },
     "execution_count": 111,
     "metadata": {},
     "output_type": "execute_result"
    }
   ],
   "source": [
    "net = torch.nn.Linear(1, 1)\n",
    "net.bias.data = torch.tensor([-5.0])\n",
    "net.weight.data = torch.tensor([[-10.0]])\n",
    "net.bias,net.weight"
   ]
  },
  {
   "cell_type": "code",
   "execution_count": 117,
   "metadata": {
    "colab": {
     "base_uri": "https://localhost:8080/",
     "height": 283
    },
    "executionInfo": {
     "elapsed": 6,
     "status": "ok",
     "timestamp": 1677229500389,
     "user": {
      "displayName": "이강철",
      "userId": "13507850890638580947"
     },
     "user_tz": -540
    },
    "id": "Tz6DulCIqOPW",
    "outputId": "833500c2-f796-40ec-d693-c052d47c91f5"
   },
   "outputs": [
    {
     "data": {
      "text/plain": [
       "<matplotlib.legend.Legend at 0x7f51d9f3f070>"
      ]
     },
     "execution_count": 117,
     "metadata": {},
     "output_type": "execute_result"
    },
    {
     "data": {
      "image/png": "[encoded data removed]",
      "text/plain": [
       "<Figure size 432x288 with 1 Axes>"
      ]
     },
     "metadata": {
      "needs_background": "light"
     },
     "output_type": "display_data"
    }
   ],
   "source": [
    "plt.plot(x,y,\"o\")\n",
    "plt.plot(x,net(x).data,\"--\")\n",
    "plt.plot(x,-5-10*x,\".\")\n",
    "plt.legend([\"y\",\"net\",\"yhat\"])"
   ]
  },
  {
   "cell_type": "markdown",
   "metadata": {
    "id": "HRPGM6cJqzPF"
   },
   "source": [
    "`-` step1 : $\\hat {y}$를 구하는 과정"
   ]
  },
  {
   "cell_type": "code",
   "execution_count": 123,
   "metadata": {
    "executionInfo": {
     "elapsed": 3,
     "status": "ok",
     "timestamp": 1677229659537,
     "user": {
      "displayName": "이강철",
      "userId": "13507850890638580947"
     },
     "user_tz": -540
    },
    "id": "R0wlxAVrrXgG"
   },
   "outputs": [],
   "source": [
    "yhat = net(x)"
   ]
  },
  {
   "cell_type": "markdown",
   "metadata": {
    "id": "dzn2y6Vgq8W3"
   },
   "source": [
    "`-` step2 : $loss$ 계산"
   ]
  },
  {
   "cell_type": "code",
   "execution_count": 124,
   "metadata": {
    "colab": {
     "base_uri": "https://localhost:8080/"
    },
    "executionInfo": {
     "elapsed": 5,
     "status": "ok",
     "timestamp": 1677229661162,
     "user": {
      "displayName": "이강철",
      "userId": "13507850890638580947"
     },
     "user_tz": -540
    },
    "id": "8EIhxyperA6y",
    "outputId": "9e470c5c-0bd8-45ce-c4db-6d357d99fe3b"
   },
   "outputs": [
    {
     "data": {
      "text/plain": [
       "tensor(305.5515, grad_fn=<MeanBackward0>)"
      ]
     },
     "execution_count": 124,
     "metadata": {},
     "output_type": "execute_result"
    }
   ],
   "source": [
    "loss = torch.mean((y-yhat)**2)\n",
    "loss"
   ]
  },
  {
   "cell_type": "markdown",
   "metadata": {
    "id": "pz1SUm9nrJ5A"
   },
   "source": [
    "`-` step3"
   ]
  },
  {
   "cell_type": "markdown",
   "metadata": {
    "id": "KATNltO8rMHK"
   },
   "source": [
    "(미분전)"
   ]
  },
  {
   "cell_type": "code",
   "execution_count": 125,
   "metadata": {
    "colab": {
     "base_uri": "https://localhost:8080/"
    },
    "executionInfo": {
     "elapsed": 251,
     "status": "ok",
     "timestamp": 1677229663405,
     "user": {
      "displayName": "이강철",
      "userId": "13507850890638580947"
     },
     "user_tz": -540
    },
    "id": "t_Wy4hkerPGg",
    "outputId": "882ad8bb-e3fd-42a4-c45f-c60b22e6f7b6"
   },
   "outputs": [
    {
     "data": {
      "text/plain": [
       "(Parameter containing:\n",
       " tensor([[-10.]], requires_grad=True), Parameter containing:\n",
       " tensor([-5.], requires_grad=True))"
      ]
     },
     "execution_count": 125,
     "metadata": {},
     "output_type": "execute_result"
    }
   ],
   "source": [
    "net.weight,net.bias"
   ]
  },
  {
   "cell_type": "code",
   "execution_count": 126,
   "metadata": {
    "colab": {
     "base_uri": "https://localhost:8080/"
    },
    "executionInfo": {
     "elapsed": 4,
     "status": "ok",
     "timestamp": 1677229679112,
     "user": {
      "displayName": "이강철",
      "userId": "13507850890638580947"
     },
     "user_tz": -540
    },
    "id": "7iw9fwJKrbgz",
    "outputId": "d63a4733-b989-4a4a-82ee-a2c0a6a3d4be"
   },
   "outputs": [
    {
     "data": {
      "text/plain": [
       "(None, None)"
      ]
     },
     "execution_count": 126,
     "metadata": {},
     "output_type": "execute_result"
    }
   ],
   "source": [
    "net.bias.grad, net.weight.grad"
   ]
  },
  {
   "cell_type": "markdown",
   "metadata": {
    "id": "yS50NhGNrNRk"
   },
   "source": [
    "(미분후)"
   ]
  },
  {
   "cell_type": "code",
   "execution_count": 127,
   "metadata": {
    "executionInfo": {
     "elapsed": 3,
     "status": "ok",
     "timestamp": 1677229694275,
     "user": {
      "displayName": "이강철",
      "userId": "13507850890638580947"
     },
     "user_tz": -540
    },
    "id": "wolCERGQrgYi"
   },
   "outputs": [],
   "source": [
    "loss.backward()"
   ]
  },
  {
   "cell_type": "code",
   "execution_count": 129,
   "metadata": {
    "colab": {
     "base_uri": "https://localhost:8080/"
    },
    "executionInfo": {
     "elapsed": 866,
     "status": "ok",
     "timestamp": 1677229731620,
     "user": {
      "displayName": "이강철",
      "userId": "13507850890638580947"
     },
     "user_tz": -540
    },
    "id": "1IQSaoTJrlBR",
    "outputId": "565a3c1d-117c-4bcf-a412-b02700da908f"
   },
   "outputs": [
    {
     "data": {
      "text/plain": [
       "(tensor([-18.3235]), tensor([[-33.8568]]))"
      ]
     },
     "execution_count": 129,
     "metadata": {},
     "output_type": "execute_result"
    }
   ],
   "source": [
    "net.bias.grad, net.weight.grad"
   ]
  },
  {
   "cell_type": "markdown",
   "metadata": {
    "id": "EU7Gweejrucz"
   },
   "source": [
    "`-` step4"
   ]
  },
  {
   "cell_type": "markdown",
   "metadata": {
    "id": "nAXa3HYlrvip"
   },
   "source": [
    "(업데이트 전)"
   ]
  },
  {
   "cell_type": "code",
   "execution_count": 130,
   "metadata": {
    "colab": {
     "base_uri": "https://localhost:8080/"
    },
    "executionInfo": {
     "elapsed": 271,
     "status": "ok",
     "timestamp": 1677229780495,
     "user": {
      "displayName": "이강철",
      "userId": "13507850890638580947"
     },
     "user_tz": -540
    },
    "id": "yuO9VXlAryGQ",
    "outputId": "f45420dc-f032-492d-8f8d-5e2c5d7b7b97"
   },
   "outputs": [
    {
     "data": {
      "text/plain": [
       "(Parameter containing:\n",
       " tensor([[-10.]], requires_grad=True), Parameter containing:\n",
       " tensor([-5.], requires_grad=True))"
      ]
     },
     "execution_count": 130,
     "metadata": {},
     "output_type": "execute_result"
    }
   ],
   "source": [
    "net.weight, net.bias"
   ]
  },
  {
   "cell_type": "code",
   "execution_count": 131,
   "metadata": {
    "colab": {
     "base_uri": "https://localhost:8080/"
    },
    "executionInfo": {
     "elapsed": 3,
     "status": "ok",
     "timestamp": 1677229790678,
     "user": {
      "displayName": "이강철",
      "userId": "13507850890638580947"
     },
     "user_tz": -540
    },
    "id": "8TUj0CMhr4zc",
    "outputId": "1471ab35-8568-49d9-bfcd-c1cc8e2e1d50"
   },
   "outputs": [
    {
     "data": {
      "text/plain": [
       "(tensor([-18.3235]), tensor([[-33.8568]]))"
      ]
     },
     "execution_count": 131,
     "metadata": {},
     "output_type": "execute_result"
    }
   ],
   "source": [
    "net.bias.grad, net.weight.grad"
   ]
  },
  {
   "cell_type": "markdown",
   "metadata": {
    "id": "iPCScnACrw6O"
   },
   "source": [
    "(업데이트)"
   ]
  },
  {
   "cell_type": "code",
   "execution_count": 132,
   "metadata": {
    "executionInfo": {
     "elapsed": 238,
     "status": "ok",
     "timestamp": 1677229831830,
     "user": {
      "displayName": "이강철",
      "userId": "13507850890638580947"
     },
     "user_tz": -540
    },
    "id": "LZjqsLasr5Y3"
   },
   "outputs": [],
   "source": [
    "net.bias.data = net.bias.data - 0.1 * net.bias.grad\n",
    "net.weight.data = net.weight.data - 0.1 * net.weight.grad"
   ]
  },
  {
   "cell_type": "code",
   "execution_count": 133,
   "metadata": {
    "executionInfo": {
     "elapsed": 288,
     "status": "ok",
     "timestamp": 1677229854994,
     "user": {
      "displayName": "이강철",
      "userId": "13507850890638580947"
     },
     "user_tz": -540
    },
    "id": "DAYOvIjhsDKd"
   },
   "outputs": [],
   "source": [
    "net.bias.grad = None\n",
    "net.weight.grad = None"
   ]
  },
  {
   "cell_type": "markdown",
   "metadata": {
    "id": "0rMmNXhPsMIB"
   },
   "source": [
    "(업데이트 후)"
   ]
  },
  {
   "cell_type": "code",
   "execution_count": 134,
   "metadata": {
    "colab": {
     "base_uri": "https://localhost:8080/"
    },
    "executionInfo": {
     "elapsed": 5,
     "status": "ok",
     "timestamp": 1677229884800,
     "user": {
      "displayName": "이강철",
      "userId": "13507850890638580947"
     },
     "user_tz": -540
    },
    "id": "KhXAYEr7sNRK",
    "outputId": "fb8b9a56-7f28-4d58-f491-213ef6326775"
   },
   "outputs": [
    {
     "data": {
      "text/plain": [
       "(Parameter containing:\n",
       " tensor([-3.1677], requires_grad=True), Parameter containing:\n",
       " tensor([[-6.6143]], requires_grad=True))"
      ]
     },
     "execution_count": 134,
     "metadata": {},
     "output_type": "execute_result"
    }
   ],
   "source": [
    "net.bias, net.weight"
   ]
  },
  {
   "cell_type": "code",
   "execution_count": 135,
   "metadata": {
    "colab": {
     "base_uri": "https://localhost:8080/"
    },
    "executionInfo": {
     "elapsed": 3,
     "status": "ok",
     "timestamp": 1677229896372,
     "user": {
      "displayName": "이강철",
      "userId": "13507850890638580947"
     },
     "user_tz": -540
    },
    "id": "Ndv3N0EksQ-H",
    "outputId": "67cb460e-1463-4430-d060-8721721908ab"
   },
   "outputs": [
    {
     "data": {
      "text/plain": [
       "(None, None)"
      ]
     },
     "execution_count": 135,
     "metadata": {},
     "output_type": "execute_result"
    }
   ],
   "source": [
    "net.bias.grad, net.weight.grad"
   ]
  },
  {
   "cell_type": "markdown",
   "metadata": {
    "id": "xkE9XNr0sd5K"
   },
   "source": [
    "(위 과정을 반복)"
   ]
  },
  {
   "cell_type": "code",
   "execution_count": 136,
   "metadata": {
    "executionInfo": {
     "elapsed": 234,
     "status": "ok",
     "timestamp": 1677230060620,
     "user": {
      "displayName": "이강철",
      "userId": "13507850890638580947"
     },
     "user_tz": -540
    },
    "id": "c_8NteX6sfh6"
   },
   "outputs": [],
   "source": [
    "for epoc in range(30) :\n",
    "    ## step1\n",
    "    yhat = net(x)\n",
    "\n",
    "    ## step2\n",
    "\n",
    "    loss = torch.mean((y-yhat)**2)\n",
    "\n",
    "    ## step3\n",
    "\n",
    "    loss.backward()\n",
    "\n",
    "    ## step4\n",
    "\n",
    "    net.bias.data = net.bias.data - 0.1*net.bias.grad\n",
    "    net.weight.data = net.weight.data - 0.1*net.weight.grad\n",
    "    net.bias.grad = None\n",
    "    net.weight.grad = None"
   ]
  },
  {
   "cell_type": "code",
   "execution_count": 138,
   "metadata": {
    "colab": {
     "base_uri": "https://localhost:8080/",
     "height": 283
    },
    "executionInfo": {
     "elapsed": 951,
     "status": "ok",
     "timestamp": 1677230107287,
     "user": {
      "displayName": "이강철",
      "userId": "13507850890638580947"
     },
     "user_tz": -540
    },
    "id": "JUu9r5Wus8Ob",
    "outputId": "e88e3a6a-7e1c-4486-cf36-73c3007d790b"
   },
   "outputs": [
    {
     "data": {
      "text/plain": [
       "<matplotlib.legend.Legend at 0x7f51dacf5790>"
      ]
     },
     "execution_count": 138,
     "metadata": {},
     "output_type": "execute_result"
    },
    {
     "data": {
      "image/png": "[encoded data removed]",
      "text/plain": [
       "<Figure size 432x288 with 1 Axes>"
      ]
     },
     "metadata": {
      "needs_background": "light"
     },
     "output_type": "display_data"
    }
   ],
   "source": [
    "plt.plot(x,y,\".\")\n",
    "plt.plot(x,net(x).data,\"--\")\n",
    "plt.legend([\"y\",\"yhat\"])"
   ]
  },
  {
   "cell_type": "markdown",
   "metadata": {
    "id": "cV3hR2WFtULr"
   },
   "source": [
    "## ver2"
   ]
  },
  {
   "cell_type": "code",
   "execution_count": 139,
   "metadata": {
    "executionInfo": {
     "elapsed": 2,
     "status": "ok",
     "timestamp": 1677230191006,
     "user": {
      "displayName": "이강철",
      "userId": "13507850890638580947"
     },
     "user_tz": -540
    },
    "id": "niPHsL62tWx1"
   },
   "outputs": [],
   "source": [
    "net = torch.nn.Linear(2,1,bias=False)"
   ]
  },
  {
   "cell_type": "code",
   "execution_count": 142,
   "metadata": {
    "colab": {
     "base_uri": "https://localhost:8080/"
    },
    "executionInfo": {
     "elapsed": 4,
     "status": "ok",
     "timestamp": 1677230238440,
     "user": {
      "displayName": "이강철",
      "userId": "13507850890638580947"
     },
     "user_tz": -540
    },
    "id": "LG_zijiXthFt",
    "outputId": "9d41ea36-9567-448c-c7f5-13d15e023fd5"
   },
   "outputs": [
    {
     "data": {
      "text/plain": [
       "Parameter containing:\n",
       "tensor([[-0.4208, -0.1402]], requires_grad=True)"
      ]
     },
     "execution_count": 142,
     "metadata": {},
     "output_type": "execute_result"
    }
   ],
   "source": [
    "net.weight"
   ]
  },
  {
   "cell_type": "code",
   "execution_count": 143,
   "metadata": {
    "executionInfo": {
     "elapsed": 2,
     "status": "ok",
     "timestamp": 1677230277898,
     "user": {
      "displayName": "이강철",
      "userId": "13507850890638580947"
     },
     "user_tz": -540
    },
    "id": "cNBz5VUYtmw8"
   },
   "outputs": [],
   "source": [
    "net.weight.data = torch.tensor([[-5.0, -10.0]])"
   ]
  },
  {
   "cell_type": "code",
   "execution_count": 146,
   "metadata": {
    "executionInfo": {
     "elapsed": 1,
     "status": "ok",
     "timestamp": 1677230434856,
     "user": {
      "displayName": "이강철",
      "userId": "13507850890638580947"
     },
     "user_tz": -540
    },
    "id": "lnm7YnXAtbRD"
   },
   "outputs": [],
   "source": [
    "for epoc in range(30) : \n",
    "    ## step1\n",
    "    yhat = net(X)\n",
    "    ## step2\n",
    "    loss = torch.mean((y-yhat)**2)\n",
    "    ## step3\n",
    "    loss.backward()\n",
    "    ## step4\n",
    "    net.weight.data = net.weight.data - 0.1*net.weight.grad\n",
    "    net.weight.grad = None"
   ]
  },
  {
   "cell_type": "code",
   "execution_count": 148,
   "metadata": {
    "colab": {
     "base_uri": "https://localhost:8080/",
     "height": 283
    },
    "executionInfo": {
     "elapsed": 5,
     "status": "ok",
     "timestamp": 1677230445420,
     "user": {
      "displayName": "이강철",
      "userId": "13507850890638580947"
     },
     "user_tz": -540
    },
    "id": "PRzEM6GBuX3u",
    "outputId": "3ec87402-f8b7-4d40-b418-1534531758a2"
   },
   "outputs": [
    {
     "data": {
      "text/plain": [
       "<matplotlib.legend.Legend at 0x7f51daf5a9d0>"
      ]
     },
     "execution_count": 148,
     "metadata": {},
     "output_type": "execute_result"
    },
    {
     "data": {
      "image/png": "[encoded data removed]",
      "text/plain": [
       "<Figure size 432x288 with 1 Axes>"
      ]
     },
     "metadata": {
      "needs_background": "light"
     },
     "output_type": "display_data"
    }
   ],
   "source": [
    "plt.plot(x,y,\".\")\n",
    "plt.plot(x,net(X).data,\"--\")\n",
    "plt.legend([\"y\",\"yhat\"])"
   ]
  },
  {
   "cell_type": "markdown",
   "metadata": {
    "id": "8wUoQBLyuad6"
   },
   "source": [
    "# step4의 다른버전 : 옵티마이저!"
   ]
  },
  {
   "cell_type": "markdown",
   "metadata": {
    "id": "Np_2GCXoupWh"
   },
   "source": [
    "## ver1"
   ]
  },
  {
   "cell_type": "code",
   "execution_count": 151,
   "metadata": {
    "colab": {
     "base_uri": "https://localhost:8080/"
    },
    "executionInfo": {
     "elapsed": 2,
     "status": "ok",
     "timestamp": 1677230554119,
     "user": {
      "displayName": "이강철",
      "userId": "13507850890638580947"
     },
     "user_tz": -540
    },
    "id": "g3KnUYKEurxm",
    "outputId": "93646f28-c6fa-4fa7-f989-4357a37d63af"
   },
   "outputs": [
    {
     "data": {
      "text/plain": [
       "(Parameter containing:\n",
       " tensor([-5.], requires_grad=True), Parameter containing:\n",
       " tensor([[10.]], requires_grad=True))"
      ]
     },
     "execution_count": 151,
     "metadata": {},
     "output_type": "execute_result"
    }
   ],
   "source": [
    "net = torch.nn.Linear(1,1) \n",
    "net.bias.data = torch.tensor([-5.0])\n",
    "net.weight.data = torch.tensor([[10.0]])\n",
    "net.bias,net.weight"
   ]
  },
  {
   "cell_type": "code",
   "execution_count": 152,
   "metadata": {
    "executionInfo": {
     "elapsed": 2,
     "status": "ok",
     "timestamp": 1677230565389,
     "user": {
      "displayName": "이강철",
      "userId": "13507850890638580947"
     },
     "user_tz": -540
    },
    "id": "K_Kee9DVu10_"
   },
   "outputs": [],
   "source": [
    "optimizr = torch.optim.SGD(net.parameters(),lr=0.1)"
   ]
  },
  {
   "cell_type": "code",
   "execution_count": 153,
   "metadata": {
    "executionInfo": {
     "elapsed": 247,
     "status": "ok",
     "timestamp": 1677230567475,
     "user": {
      "displayName": "이강철",
      "userId": "13507850890638580947"
     },
     "user_tz": -540
    },
    "id": "cqrvv6CWuu83"
   },
   "outputs": [],
   "source": [
    "for epoc in range(30):\n",
    "    ## step1\n",
    "    yhat = net(x) \n",
    "    ## step2\n",
    "    loss = torch.mean((y-yhat)**2)\n",
    "    ## step3 \n",
    "    loss.backward()\n",
    "    ## step4 \n",
    "    optimizr.step()\n",
    "    optimizr.zero_grad()"
   ]
  },
  {
   "cell_type": "code",
   "execution_count": 155,
   "metadata": {
    "colab": {
     "base_uri": "https://localhost:8080/",
     "height": 283
    },
    "executionInfo": {
     "elapsed": 8,
     "status": "ok",
     "timestamp": 1677230606868,
     "user": {
      "displayName": "이강철",
      "userId": "13507850890638580947"
     },
     "user_tz": -540
    },
    "id": "dWLzzprwu4zZ",
    "outputId": "8477ec57-1508-4807-c60e-df6ee4c2187b"
   },
   "outputs": [
    {
     "data": {
      "text/plain": [
       "<matplotlib.legend.Legend at 0x7f51dac9bca0>"
      ]
     },
     "execution_count": 155,
     "metadata": {},
     "output_type": "execute_result"
    },
    {
     "data": {
      "image/png": "[encoded data removed]",
      "text/plain": [
       "<Figure size 432x288 with 1 Axes>"
      ]
     },
     "metadata": {
      "needs_background": "light"
     },
     "output_type": "display_data"
    }
   ],
   "source": [
    "plt.plot(x,y,'.')\n",
    "plt.plot(x,net(x).data,'--')\n",
    "plt.legend([\"y\",\"yhat\"])"
   ]
  },
  {
   "cell_type": "markdown",
   "metadata": {
    "id": "wRAhwW3mvA1C"
   },
   "source": [
    "## ver2 (가장 중요)"
   ]
  },
  {
   "cell_type": "code",
   "execution_count": 157,
   "metadata": {
    "executionInfo": {
     "elapsed": 4,
     "status": "ok",
     "timestamp": 1677230655112,
     "user": {
      "displayName": "이강철",
      "userId": "13507850890638580947"
     },
     "user_tz": -540
    },
    "id": "NTxJENG5vDej"
   },
   "outputs": [],
   "source": [
    "net = torch.nn.Linear(2,1,bias=False)\n",
    "net.weight.data = torch.tensor([[-5.0, -10.0]])"
   ]
  },
  {
   "cell_type": "code",
   "execution_count": 158,
   "metadata": {
    "executionInfo": {
     "elapsed": 3,
     "status": "ok",
     "timestamp": 1677230665494,
     "user": {
      "displayName": "이강철",
      "userId": "13507850890638580947"
     },
     "user_tz": -540
    },
    "id": "-GUJ9AYGvObg"
   },
   "outputs": [],
   "source": [
    "optimizr = torch.optim.SGD(net.parameters(),lr=0.1)"
   ]
  },
  {
   "cell_type": "code",
   "execution_count": 159,
   "metadata": {
    "executionInfo": {
     "elapsed": 234,
     "status": "ok",
     "timestamp": 1677230751195,
     "user": {
      "displayName": "이강철",
      "userId": "13507850890638580947"
     },
     "user_tz": -540
    },
    "id": "a3T3UmM6vPxO"
   },
   "outputs": [],
   "source": [
    "for epoc in range(30) :\n",
    "    ## step1\n",
    "    yhat = net(X)\n",
    "    ## step2\n",
    "    loss = torch.mean((y-yhat)**2)\n",
    "    ## step3\n",
    "    loss.backward()\n",
    "    ## step4\n",
    "    optimizr.step()\n",
    "    optimizr.zero_grad()"
   ]
  },
  {
   "cell_type": "code",
   "execution_count": 160,
   "metadata": {
    "colab": {
     "base_uri": "https://localhost:8080/",
     "height": 283
    },
    "executionInfo": {
     "elapsed": 421,
     "status": "ok",
     "timestamp": 1677230766390,
     "user": {
      "displayName": "이강철",
      "userId": "13507850890638580947"
     },
     "user_tz": -540
    },
    "id": "C8La-tPAvknQ",
    "outputId": "498b6f9a-9213-45df-d903-9d15fcbc7142"
   },
   "outputs": [
    {
     "data": {
      "text/plain": [
       "<matplotlib.legend.Legend at 0x7f51daf6fee0>"
      ]
     },
     "execution_count": 160,
     "metadata": {},
     "output_type": "execute_result"
    },
    {
     "data": {
      "image/png": "[encoded data removed]",
      "text/plain": [
       "<Figure size 432x288 with 1 Axes>"
      ]
     },
     "metadata": {
      "needs_background": "light"
     },
     "output_type": "display_data"
    }
   ],
   "source": [
    "plt.plot(x,y,'.')\n",
    "plt.plot(x,net(X).data,'--')\n",
    "plt.legend([\"y\",\"yhat\"])"
   ]
  },
  {
   "cell_type": "markdown",
   "metadata": {
    "id": "Pe7XY4f_x_Tx"
   },
   "source": [
    "# Logistic regression"
   ]
  },
  {
   "cell_type": "markdown",
   "metadata": {
    "id": "_604F7SJyC7o"
   },
   "source": [
    "## motive"
   ]
  },
  {
   "cell_type": "markdown",
   "metadata": {
    "id": "AnAK-QkCyHBG"
   },
   "source": [
    "`-` $x$가 커질수록(혹은 작아질수록) 성공확률이 증가함."
   ]
  },
  {
   "cell_type": "markdown",
   "metadata": {
    "id": "K7D9wRy4yPAd"
   },
   "source": [
    "`-` $(\\bf{X},y)= (스펙,합격)$ "
   ]
  },
  {
   "cell_type": "code",
   "execution_count": 163,
   "metadata": {
    "colab": {
     "base_uri": "https://localhost:8080/",
     "height": 457
    },
    "executionInfo": {
     "elapsed": 253,
     "status": "ok",
     "timestamp": 1677231521094,
     "user": {
      "displayName": "이강철",
      "userId": "13507850890638580947"
     },
     "user_tz": -540
    },
    "id": "ZL5z9-TUyW9a",
    "outputId": "7db673c1-d510-4440-a8b1-ccb6d5b38167"
   },
   "outputs": [
    {
     "data": {
      "text/html": [
       "\n",
       "  <div id=\"df-b9f03458-267d-4aec-ac4e-febe7b882d7e\">\n",
       "    <div class=\"colab-df-container\">\n",
       "      <div>\n",
       "<style scoped>\n",
       "    .dataframe tbody tr th:only-of-type {\n",
       "        vertical-align: middle;\n",
       "    }\n",
       "\n",
       "    .dataframe tbody tr th {\n",
       "        vertical-align: top;\n",
       "    }\n",
       "\n",
       "    .dataframe thead th {\n",
       "        text-align: right;\n",
       "    }\n",
       "</style>\n",
       "<table border=\"1\" class=\"dataframe\">\n",
       "  <thead>\n",
       "    <tr style=\"text-align: right;\">\n",
       "      <th></th>\n",
       "      <th>x</th>\n",
       "      <th>y</th>\n",
       "    </tr>\n",
       "  </thead>\n",
       "  <tbody>\n",
       "    <tr>\n",
       "      <th>0</th>\n",
       "      <td>-6</td>\n",
       "      <td>0</td>\n",
       "    </tr>\n",
       "    <tr>\n",
       "      <th>1</th>\n",
       "      <td>-5</td>\n",
       "      <td>0</td>\n",
       "    </tr>\n",
       "    <tr>\n",
       "      <th>2</th>\n",
       "      <td>-4</td>\n",
       "      <td>0</td>\n",
       "    </tr>\n",
       "    <tr>\n",
       "      <th>3</th>\n",
       "      <td>-3</td>\n",
       "      <td>0</td>\n",
       "    </tr>\n",
       "    <tr>\n",
       "      <th>4</th>\n",
       "      <td>-2</td>\n",
       "      <td>0</td>\n",
       "    </tr>\n",
       "    <tr>\n",
       "      <th>5</th>\n",
       "      <td>-1</td>\n",
       "      <td>0</td>\n",
       "    </tr>\n",
       "    <tr>\n",
       "      <th>6</th>\n",
       "      <td>0</td>\n",
       "      <td>1</td>\n",
       "    </tr>\n",
       "    <tr>\n",
       "      <th>7</th>\n",
       "      <td>1</td>\n",
       "      <td>0</td>\n",
       "    </tr>\n",
       "    <tr>\n",
       "      <th>8</th>\n",
       "      <td>2</td>\n",
       "      <td>1</td>\n",
       "    </tr>\n",
       "    <tr>\n",
       "      <th>9</th>\n",
       "      <td>3</td>\n",
       "      <td>1</td>\n",
       "    </tr>\n",
       "    <tr>\n",
       "      <th>10</th>\n",
       "      <td>4</td>\n",
       "      <td>1</td>\n",
       "    </tr>\n",
       "    <tr>\n",
       "      <th>11</th>\n",
       "      <td>5</td>\n",
       "      <td>1</td>\n",
       "    </tr>\n",
       "    <tr>\n",
       "      <th>12</th>\n",
       "      <td>6</td>\n",
       "      <td>1</td>\n",
       "    </tr>\n",
       "  </tbody>\n",
       "</table>\n",
       "</div>\n",
       "      <button class=\"colab-df-convert\" onclick=\"convertToInteractive('df-b9f03458-267d-4aec-ac4e-febe7b882d7e')\"\n",
       "              title=\"Convert this dataframe to an interactive table.\"\n",
       "              style=\"display:none;\">\n",
       "        \n",
       "  <svg xmlns=\"http://www.w3.org/2000/svg\" height=\"24px\"viewBox=\"0 0 24 24\"\n",
       "       width=\"24px\">\n",
       "    <path d=\"M0 0h24v24H0V0z\" fill=\"none\"/>\n",
       "    <path d=\"M18.56 5.44l.94 2.06.94-2.06 2.06-.94-2.06-.94-.94-2.06-.94 2.06-2.06.94zm-11 1L8.5 8.5l.94-2.06 2.06-.94-2.06-.94L8.5 2.5l-.94 2.06-2.06.94zm10 10l.94 2.06.94-2.06 2.06-.94-2.06-.94-.94-2.06-.94 2.06-2.06.94z\"/><path d=\"M17.41 7.96l-1.37-1.37c-.4-.4-.92-.59-1.43-.59-.52 0-1.04.2-1.43.59L10.3 9.45l-7.72 7.72c-.78.78-.78 2.05 0 2.83L4 21.41c.39.39.9.59 1.41.59.51 0 1.02-.2 1.41-.59l7.78-7.78 2.81-2.81c.8-.78.8-2.07 0-2.86zM5.41 20L4 18.59l7.72-7.72 1.47 1.35L5.41 20z\"/>\n",
       "  </svg>\n",
       "      </button>\n",
       "      \n",
       "  <style>\n",
       "    .colab-df-container {\n",
       "      display:flex;\n",
       "      flex-wrap:wrap;\n",
       "      gap: 12px;\n",
       "    }\n",
       "\n",
       "    .colab-df-convert {\n",
       "      background-color: #E8F0FE;\n",
       "      border: none;\n",
       "      border-radius: 50%;\n",
       "      cursor: pointer;\n",
       "      display: none;\n",
       "      fill: #1967D2;\n",
       "      height: 32px;\n",
       "      padding: 0 0 0 0;\n",
       "      width: 32px;\n",
       "    }\n",
       "\n",
       "    .colab-df-convert:hover {\n",
       "      background-color: #E2EBFA;\n",
       "      box-shadow: 0px 1px 2px rgba(60, 64, 67, 0.3), 0px 1px 3px 1px rgba(60, 64, 67, 0.15);\n",
       "      fill: #174EA6;\n",
       "    }\n",
       "\n",
       "    [theme=dark] .colab-df-convert {\n",
       "      background-color: #3B4455;\n",
       "      fill: #D2E3FC;\n",
       "    }\n",
       "\n",
       "    [theme=dark] .colab-df-convert:hover {\n",
       "      background-color: #434B5C;\n",
       "      box-shadow: 0px 1px 3px 1px rgba(0, 0, 0, 0.15);\n",
       "      filter: drop-shadow(0px 1px 2px rgba(0, 0, 0, 0.3));\n",
       "      fill: #FFFFFF;\n",
       "    }\n",
       "  </style>\n",
       "\n",
       "      <script>\n",
       "        const buttonEl =\n",
       "          document.querySelector('#df-b9f03458-267d-4aec-ac4e-febe7b882d7e button.colab-df-convert');\n",
       "        buttonEl.style.display =\n",
       "          google.colab.kernel.accessAllowed ? 'block' : 'none';\n",
       "\n",
       "        async function convertToInteractive(key) {\n",
       "          const element = document.querySelector('#df-b9f03458-267d-4aec-ac4e-febe7b882d7e');\n",
       "          const dataTable =\n",
       "            await google.colab.kernel.invokeFunction('convertToInteractive',\n",
       "                                                     [key], {});\n",
       "          if (!dataTable) return;\n",
       "\n",
       "          const docLinkHtml = 'Like what you see? Visit the ' +\n",
       "            '<a target=\"_blank\" href=https://colab.research.google.com/notebooks/data_table.ipynb>data table notebook</a>'\n",
       "            + ' to learn more about interactive tables.';\n",
       "          element.innerHTML = '';\n",
       "          dataTable['output_type'] = 'display_data';\n",
       "          await google.colab.output.renderOutput(dataTable, element);\n",
       "          const docLink = document.createElement('div');\n",
       "          docLink.innerHTML = docLinkHtml;\n",
       "          element.appendChild(docLink);\n",
       "        }\n",
       "      </script>\n",
       "    </div>\n",
       "  </div>\n",
       "  "
      ],
      "text/plain": [
       "    x  y\n",
       "0  -6  0\n",
       "1  -5  0\n",
       "2  -4  0\n",
       "3  -3  0\n",
       "4  -2  0\n",
       "5  -1  0\n",
       "6   0  1\n",
       "7   1  0\n",
       "8   2  1\n",
       "9   3  1\n",
       "10  4  1\n",
       "11  5  1\n",
       "12  6  1"
      ]
     },
     "execution_count": 163,
     "metadata": {},
     "output_type": "execute_result"
    }
   ],
   "source": [
    "_df = pd.DataFrame({'x':range(-6,7),'y':[0,0,0,0,0,0,1,0,1,1,1,1,1]})\n",
    "_df "
   ]
  },
  {
   "cell_type": "code",
   "execution_count": 166,
   "metadata": {
    "colab": {
     "base_uri": "https://localhost:8080/",
     "height": 283
    },
    "executionInfo": {
     "elapsed": 7,
     "status": "ok",
     "timestamp": 1677231642971,
     "user": {
      "displayName": "이강철",
      "userId": "13507850890638580947"
     },
     "user_tz": -540
    },
    "id": "Fuv-xEKYybtJ",
    "outputId": "c91117ff-12e9-4cfb-bc91-6649542e991c"
   },
   "outputs": [
    {
     "data": {
      "text/plain": [
       "[<matplotlib.lines.Line2D at 0x7f51d9c8c2b0>]"
      ]
     },
     "execution_count": 166,
     "metadata": {},
     "output_type": "execute_result"
    },
    {
     "data": {
      "image/png": "[encoded data removed]",
      "text/plain": [
       "<Figure size 432x288 with 1 Axes>"
      ]
     },
     "metadata": {
      "needs_background": "light"
     },
     "output_type": "display_data"
    }
   ],
   "source": [
    "def f(x) :\n",
    "    return torch.exp(x) / (1+torch.exp(x))\n",
    "\n",
    "xx = torch.linspace(-6,6,100)\n",
    "plt.plot(_df.x,_df.y,'o')\n",
    "plt.plot(xx,f(xx))"
   ]
  },
  {
   "cell_type": "markdown",
   "metadata": {
    "id": "FYjceN1Qy_MI"
   },
   "source": [
    "## model"
   ]
  },
  {
   "cell_type": "markdown",
   "metadata": {
    "id": "M07ZFAdYzDsT"
   },
   "source": [
    "* $y_i \\sim Ber$, $\\pi_i =  \\frac{exp(w_0+w_1x_i)}{1+exp(w_0+w_1x_i)} = \\frac{1}{1+exp(-(w_0+w_1x_i))}$"
   ]
  },
  {
   "cell_type": "markdown",
   "metadata": {
    "id": "kSuAUhkQ0ItB"
   },
   "source": [
    "*  $\\hat{y_i} = \\hat {\\pi_i} = \\frac{1}{1+exp(-(\\hat{w_0}+\\hat{w_1}x_i))}$"
   ]
  },
  {
   "cell_type": "markdown",
   "metadata": {
    "id": "2fkuC2g-0Suc"
   },
   "source": [
    "* $loss = -\\sum_{i=1}^{n}{(y_i \\log(\\hat{y_i}) + (1-y_i) \\log(1-\\hat{y_i}))}$"
   ]
  },
  {
   "cell_type": "markdown",
   "metadata": {
    "id": "p4f9vi2f12TE"
   },
   "source": [
    "## toy example"
   ]
  },
  {
   "cell_type": "code",
   "execution_count": 167,
   "metadata": {
    "executionInfo": {
     "elapsed": 4,
     "status": "ok",
     "timestamp": 1677232480853,
     "user": {
      "displayName": "이강철",
      "userId": "13507850890638580947"
     },
     "user_tz": -540
    },
    "id": "5LBNpmPw14HO"
   },
   "outputs": [],
   "source": [
    "x = torch.linspace(-1, 1, 2000).reshape(2000,1)\n",
    "w0  = -1\n",
    "w1 = 5\n",
    "u = w0+w1*x\n",
    "v = torch.exp(u) /(1+torch.exp(u))\n",
    "y = torch.bernoulli(v)"
   ]
  },
  {
   "cell_type": "code",
   "execution_count": 168,
   "metadata": {
    "colab": {
     "base_uri": "https://localhost:8080/",
     "height": 283
    },
    "executionInfo": {
     "elapsed": 576,
     "status": "ok",
     "timestamp": 1677232487346,
     "user": {
      "displayName": "이강철",
      "userId": "13507850890638580947"
     },
     "user_tz": -540
    },
    "id": "zPaGRXyi2KK6",
    "outputId": "53738193-fcf2-4e03-8121-a10c6d4a5994"
   },
   "outputs": [
    {
     "data": {
      "text/plain": [
       "[<matplotlib.lines.Line2D at 0x7f51d9bf36a0>]"
      ]
     },
     "execution_count": 168,
     "metadata": {},
     "output_type": "execute_result"
    },
    {
     "data": {
      "image/png": "[encoded data removed]",
      "text/plain": [
       "<Figure size 432x288 with 1 Axes>"
      ]
     },
     "metadata": {
      "needs_background": "light"
     },
     "output_type": "display_data"
    }
   ],
   "source": [
    "plt.plot(x,y,'o',alpha=0.05,ms=4)\n",
    "plt.plot(x,v,'--')"
   ]
  },
  {
   "cell_type": "markdown",
   "metadata": {
    "id": "lj431rjD2TL0"
   },
   "source": [
    "`-` 최초의 곡선"
   ]
  },
  {
   "cell_type": "code",
   "execution_count": 176,
   "metadata": {
    "colab": {
     "base_uri": "https://localhost:8080/",
     "height": 283
    },
    "executionInfo": {
     "elapsed": 652,
     "status": "ok",
     "timestamp": 1677232663201,
     "user": {
      "displayName": "이강철",
      "userId": "13507850890638580947"
     },
     "user_tz": -540
    },
    "id": "iEsTDhQT2SE0",
    "outputId": "64766523-1967-4630-8614-258f9f0e32a9"
   },
   "outputs": [
    {
     "data": {
      "text/plain": [
       "<matplotlib.legend.Legend at 0x7f51d9b71ee0>"
      ]
     },
     "execution_count": 176,
     "metadata": {},
     "output_type": "execute_result"
    },
    {
     "data": {
      "image/png": "[encoded data removed]",
      "text/plain": [
       "<Figure size 432x288 with 1 Axes>"
      ]
     },
     "metadata": {
      "needs_background": "light"
     },
     "output_type": "display_data"
    }
   ],
   "source": [
    "w0hat= -1\n",
    "w1hat = 1\n",
    "yhat = f(w0hat+x*w1hat)\n",
    "plt.plot(x,y,'o',alpha=0.05,ms=4)\n",
    "plt.plot(x,v,'--')\n",
    "plt.plot(x,yhat,'--r')\n",
    "plt.legend([\"y\",\"v\",\"1st yhat\"])"
   ]
  },
  {
   "cell_type": "code",
   "execution_count": 180,
   "metadata": {
    "executionInfo": {
     "elapsed": 253,
     "status": "ok",
     "timestamp": 1677232683804,
     "user": {
      "displayName": "이강철",
      "userId": "13507850890638580947"
     },
     "user_tz": -540
    },
    "id": "fbpgKIem2oa8"
   },
   "outputs": [],
   "source": [
    "l1=torch.nn.Linear(1,1)\n",
    "l1.bias.data=torch.tensor([-1.0])\n",
    "l1.weight.data = torch.tensor([[1.0]])"
   ]
  },
  {
   "cell_type": "code",
   "execution_count": 181,
   "metadata": {
    "executionInfo": {
     "elapsed": 3,
     "status": "ok",
     "timestamp": 1677232684868,
     "user": {
      "displayName": "이강철",
      "userId": "13507850890638580947"
     },
     "user_tz": -540
    },
    "id": "OQvtWCYe2tIf"
   },
   "outputs": [],
   "source": [
    "a1=torch.nn.Sigmoid()"
   ]
  },
  {
   "cell_type": "code",
   "execution_count": 182,
   "metadata": {
    "executionInfo": {
     "elapsed": 1127,
     "status": "ok",
     "timestamp": 1677232690648,
     "user": {
      "displayName": "이강철",
      "userId": "13507850890638580947"
     },
     "user_tz": -540
    },
    "id": "3bd9em1m2kBn"
   },
   "outputs": [],
   "source": [
    "for epoc in range(6000):\n",
    "    ## step1 \n",
    "    _yhat = a1(l1(x))\n",
    "    ## step2 \n",
    "    loss = torch.mean((y-_yhat)**2) ## loss 를 원래 이렇게 하는건 아니에요.. \n",
    "    ## step3 \n",
    "    loss.backward()\n",
    "    ## step4 \n",
    "    l1.bias.data = l1.bias.data - 0.1 * l1.bias.grad \n",
    "    l1.weight.data = l1.weight.data - 0.1 * l1.weight.grad \n",
    "    l1.bias.grad = None \n",
    "    l1.weight.grad = None "
   ]
  },
  {
   "cell_type": "code",
   "execution_count": 185,
   "metadata": {
    "colab": {
     "base_uri": "https://localhost:8080/",
     "height": 283
    },
    "executionInfo": {
     "elapsed": 1077,
     "status": "ok",
     "timestamp": 1677232760000,
     "user": {
      "displayName": "이강철",
      "userId": "13507850890638580947"
     },
     "user_tz": -540
    },
    "id": "aIBN9hSN2yIM",
    "outputId": "c6fda303-2e6c-4edf-9301-7323b72e54ac"
   },
   "outputs": [
    {
     "data": {
      "text/plain": [
       "<matplotlib.legend.Legend at 0x7f51d9d22b20>"
      ]
     },
     "execution_count": 185,
     "metadata": {},
     "output_type": "execute_result"
    },
    {
     "data": {
      "image/png": "[encoded data removed]",
      "text/plain": [
       "<Figure size 432x288 with 1 Axes>"
      ]
     },
     "metadata": {
      "needs_background": "light"
     },
     "output_type": "display_data"
    }
   ],
   "source": [
    "plt.plot(x,y,'o',alpha=0.05,ms=4)\n",
    "plt.plot(x,v,'--')\n",
    "plt.plot(x,yhat,'--r')\n",
    "plt.plot(x,_yhat.data,\"--b\")\n",
    "plt.legend([\"y\",\"true v\",\"1st yhat\",\"final yhat\"])"
   ]
  }
 ],
 "metadata": {
  "accelerator": "GPU",
  "colab": {
   "authorship_tag": "ABX9TyOcuK7HbR2ilM9CGHDdE1Mg",
   "machine_shape": "hm",
   "provenance": []
  },
  "gpuClass": "premium",
  "kernelspec": {
   "display_name": "Python 3 (ipykernel)",
   "language": "python",
   "name": "python3"
  },
  "language_info": {
   "codemirror_mode": {
    "name": "ipython",
    "version": 3
   },
   "file_extension": ".py",
   "mimetype": "text/x-python",
   "name": "python",
   "nbconvert_exporter": "python",
   "pygments_lexer": "ipython3",
   "version": "3.9.13"
  },
  "toc": {
   "base_numbering": 1,
   "nav_menu": {},
   "number_sections": false,
   "sideBar": true,
   "skip_h1_title": true,
   "title_cell": "Table of Contents",
   "title_sidebar": "Contents",
   "toc_cell": false,
   "toc_position": {},
   "toc_section_display": true,
   "toc_window_display": true
  }
 },
 "nbformat": 4,
 "nbformat_minor": 1
}
