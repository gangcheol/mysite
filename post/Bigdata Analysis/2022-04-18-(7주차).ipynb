{
 "cells": [
  {
   "cell_type": "raw",
   "metadata": {
    "id": "BjyUsliEanTP"
   },
   "source": [
    "---\n",
    "title : \"07. Adam\"\n",
    "author : \"GANGCHEOL LEE\"\n",
    "date : \"04/18/22\"\n",
    "categories : [python] \n",
    "---"
   ]
  },
  {
   "cell_type": "code",
   "execution_count": 1,
   "metadata": {
    "executionInfo": {
     "elapsed": 5263,
     "status": "ok",
     "timestamp": 1650583125950,
     "user": {
      "displayName": "이강철",
      "userId": "13507850890638580947"
     },
     "user_tz": -540
    },
    "id": "Y0c5QsTka3AJ"
   },
   "outputs": [],
   "source": [
    "import numpy as np\n",
    "import tensorflow as tf\n",
    "import tensorflow.experimental.numpy as tnp\n",
    "import matplotlib.pyplot as plt"
   ]
  },
  {
   "cell_type": "code",
   "execution_count": 91,
   "metadata": {
    "executionInfo": {
     "elapsed": 406,
     "status": "ok",
     "timestamp": 1650584649853,
     "user": {
      "displayName": "이강철",
      "userId": "13507850890638580947"
     },
     "user_tz": -540
    },
    "id": "yfNCtC72gvn1"
   },
   "outputs": [],
   "source": [
    "import graphviz\n",
    "def gv(s): return graphviz.Source('digraph G{ rankdir=\"LR\"'+s + '; }')"
   ]
  },
  {
   "cell_type": "code",
   "execution_count": 2,
   "metadata": {
    "executionInfo": {
     "elapsed": 3,
     "status": "ok",
     "timestamp": 1650583176651,
     "user": {
      "displayName": "이강철",
      "userId": "13507850890638580947"
     },
     "user_tz": -540
    },
    "id": "qUOdHL_RbDzw"
   },
   "outputs": [],
   "source": [
    "tnp.experimental_enable_numpy_behavior()"
   ]
  },
  {
   "cell_type": "markdown",
   "metadata": {
    "id": "sNaLMrpIa6Sn"
   },
   "source": [
    "## piece-wise linear regression"
   ]
  },
  {
   "cell_type": "markdown",
   "metadata": {
    "id": "GctCbJfjbKUM"
   },
   "source": [
    "* 이제까지는 단순선형회귀에 대해서 다루었다면 일정한 지점에서 절단점을 가지는 piecc-wise linear regreesion을 다루어보자"
   ]
  },
  {
   "cell_type": "markdown",
   "metadata": {
    "id": "t0rGDNRBa__W"
   },
   "source": [
    "$$y = x + 0.3\\varepsilon \\quad x\\leq 0$$"
   ]
  },
  {
   "cell_type": "markdown",
   "metadata": {
    "id": "erGvvmzpbaz7"
   },
   "source": [
    "$$y = 3.5x + 0.3\\varepsilon$$"
   ]
  },
  {
   "cell_type": "code",
   "execution_count": 63,
   "metadata": {
    "executionInfo": {
     "elapsed": 266,
     "status": "ok",
     "timestamp": 1650584075526,
     "user": {
      "displayName": "이강철",
      "userId": "13507850890638580947"
     },
     "user_tz": -540
    },
    "id": "Rq4MINyPblwd"
   },
   "outputs": [],
   "source": [
    "np.random.seed(2021025)\n",
    "\n",
    "N = 100\n",
    "\n",
    "x = np.linspace(-1,1,N)\n",
    "e = np.random.normal(size=N)\n",
    "\n",
    "y = list(map(lambda x,e : x + 0.3*e if x<=0 else 3.5*x +0.3*e,x,e))\n",
    "y = np.array(y)"
   ]
  },
  {
   "cell_type": "markdown",
   "metadata": {
    "id": "Jx1YivD5ceYV"
   },
   "source": [
    "#### 시각화"
   ]
  },
  {
   "cell_type": "code",
   "execution_count": 65,
   "metadata": {
    "colab": {
     "base_uri": "https://localhost:8080/",
     "height": 283
    },
    "executionInfo": {
     "elapsed": 795,
     "status": "ok",
     "timestamp": 1650584094185,
     "user": {
      "displayName": "이강철",
      "userId": "13507850890638580947"
     },
     "user_tz": -540
    },
    "id": "M58dRA1ZcZaX",
    "outputId": "37bed45e-374c-46d4-e2af-8d7b7744480d"
   },
   "outputs": [
    {
     "data": {
      "text/plain": [
       "<matplotlib.legend.Legend at 0x7fee233e4e50>"
      ]
     },
     "execution_count": 65,
     "metadata": {},
     "output_type": "execute_result"
    },
    {
     "data": {
      "image/png": "[encoded data removed]",
      "text/plain": [
       "<Figure size 432x288 with 1 Axes>"
      ]
     },
     "metadata": {
      "needs_background": "light"
     },
     "output_type": "display_data"
    }
   ],
   "source": [
    "plt.plot(x[x<=0],y[x<=0],\".\")\n",
    "plt.plot(x[x>0],y[x>0],\".\")\n",
    "plt.legend([\"x<=0\", \"x>0\"])"
   ]
  },
  {
   "cell_type": "markdown",
   "metadata": {
    "id": "IfgoREXDepyC"
   },
   "source": [
    "#### 풀이 1"
   ]
  },
  {
   "cell_type": "markdown",
   "metadata": {
    "id": "WNSz3-tAeuqd"
   },
   "source": [
    "* tip : `x,y`가 `tensor`가 아니어도 신경망 적합시 잘 적합된다."
   ]
  },
  {
   "cell_type": "code",
   "execution_count": 68,
   "metadata": {
    "executionInfo": {
     "elapsed": 261,
     "status": "ok",
     "timestamp": 1650584179824,
     "user": {
      "displayName": "이강철",
      "userId": "13507850890638580947"
     },
     "user_tz": -540
    },
    "id": "5F19S_-ce22Y"
   },
   "outputs": [],
   "source": [
    "x = x.reshape(N,1)\n",
    "y = y.reshape(N,1)"
   ]
  },
  {
   "cell_type": "code",
   "execution_count": 69,
   "metadata": {
    "colab": {
     "base_uri": "https://localhost:8080/"
    },
    "executionInfo": {
     "elapsed": 3897,
     "status": "ok",
     "timestamp": 1650584267111,
     "user": {
      "displayName": "이강철",
      "userId": "13507850890638580947"
     },
     "user_tz": -540
    },
    "id": "BvviseHCe9TG",
    "outputId": "46eefebe-0181-4753-9351-d26bf70d9a6a"
   },
   "outputs": [
    {
     "data": {
      "text/plain": [
       "<keras.callbacks.History at 0x7fee1f1e8b50>"
      ]
     },
     "execution_count": 69,
     "metadata": {},
     "output_type": "execute_result"
    }
   ],
   "source": [
    "net = tf.keras.Sequential()\n",
    "layer = tf.keras.layers.Dense(1)\n",
    "net.add(layer)\n",
    "\n",
    "net.compile(tf.optimizers.SGD(0.1),loss = \"mse\")\n",
    "net.fit(x,y,batch_size=N,verbose=0,epochs=1000)"
   ]
  },
  {
   "cell_type": "code",
   "execution_count": 71,
   "metadata": {
    "executionInfo": {
     "elapsed": 360,
     "status": "ok",
     "timestamp": 1650584284329,
     "user": {
      "displayName": "이강철",
      "userId": "13507850890638580947"
     },
     "user_tz": -540
    },
    "id": "2uG5rOXHfRtU"
   },
   "outputs": [],
   "source": [
    "w = net.weights"
   ]
  },
  {
   "cell_type": "code",
   "execution_count": 77,
   "metadata": {
    "executionInfo": {
     "elapsed": 318,
     "status": "ok",
     "timestamp": 1650584314338,
     "user": {
      "displayName": "이강철",
      "userId": "13507850890638580947"
     },
     "user_tz": -540
    },
    "id": "FLRV9wPsfWxm"
   },
   "outputs": [],
   "source": [
    "beta0, beta1 = w[1],w[0]"
   ]
  },
  {
   "cell_type": "code",
   "execution_count": 87,
   "metadata": {
    "executionInfo": {
     "elapsed": 252,
     "status": "ok",
     "timestamp": 1650584404314,
     "user": {
      "displayName": "이강철",
      "userId": "13507850890638580947"
     },
     "user_tz": -540
    },
    "id": "LMGOqQ-tfepG"
   },
   "outputs": [],
   "source": [
    "yhat = x*beta1+beta0\n",
    "yhat = yhat.reshape(N,)"
   ]
  },
  {
   "cell_type": "code",
   "execution_count": 89,
   "metadata": {
    "colab": {
     "base_uri": "https://localhost:8080/",
     "height": 283
    },
    "executionInfo": {
     "elapsed": 782,
     "status": "ok",
     "timestamp": 1650584424056,
     "user": {
      "displayName": "이강철",
      "userId": "13507850890638580947"
     },
     "user_tz": -540
    },
    "id": "tWGeYj-6f0Tn",
    "outputId": "278b01dc-7a68-441a-da25-6cc2f54de780"
   },
   "outputs": [
    {
     "data": {
      "text/plain": [
       "<matplotlib.legend.Legend at 0x7fee1f0f8110>"
      ]
     },
     "execution_count": 89,
     "metadata": {},
     "output_type": "execute_result"
    },
    {
     "data": {
      "image/png": "[encoded data removed]",
      "text/plain": [
       "<Figure size 432x288 with 1 Axes>"
      ]
     },
     "metadata": {
      "needs_background": "light"
     },
     "output_type": "display_data"
    }
   ],
   "source": [
    "plt.plot(x[x<=0],y[x<=0],\".\")\n",
    "plt.plot(x[x>0],y[x>0],\".\")\n",
    "plt.plot(x,yhat,\".\")\n",
    "plt.legend([\"x<=0\", \"x>0\",\"yhat\"])"
   ]
  },
  {
   "cell_type": "markdown",
   "metadata": {
    "id": "S0jmrFAEf7oG"
   },
   "source": [
    "* 위 적합한 모형은 틀렸음"
   ]
  },
  {
   "cell_type": "markdown",
   "metadata": {
    "id": "rrPqW5ZXf_gc"
   },
   "source": [
    "* 우리가 의도한 모델은 피스와이즈 모델이지 단순선형모델이 아님 $\\to$ 꺽은선 형태의 모델이 형성되어야 한다."
   ]
  },
  {
   "cell_type": "markdown",
   "metadata": {
    "id": "tQ4HuKPBgFmw"
   },
   "source": [
    "* 위 같은 문제를 `underfit` 의 문제라고 함."
   ]
  },
  {
   "cell_type": "markdown",
   "metadata": {
    "id": "eO_ZqtFggWU3"
   },
   "source": [
    "#### 풀이 2. 비선형 활성화 함수의 도입(Relu)"
   ]
  },
  {
   "cell_type": "markdown",
   "metadata": {
    "id": "BqcY-G_mgalc"
   },
   "source": [
    "`Relu`"
   ]
  },
  {
   "cell_type": "markdown",
   "metadata": {
    "id": "M13PcskRgcxj"
   },
   "source": [
    "$$relu(x) = max(0,x)$$"
   ]
  },
  {
   "cell_type": "code",
   "execution_count": 92,
   "metadata": {
    "colab": {
     "base_uri": "https://localhost:8080/",
     "height": 78
    },
    "executionInfo": {
     "elapsed": 266,
     "status": "ok",
     "timestamp": 1650584652631,
     "user": {
      "displayName": "이강철",
      "userId": "13507850890638580947"
     },
     "user_tz": -540
    },
    "id": "MbleroJ4gs26",
    "outputId": "4ca6f267-3b7e-49fe-9b79-1d8a4d49020d"
   },
   "outputs": [
    {
     "data": {
      "image/svg+xml": [
       "<?xml version=\"1.0\" encoding=\"UTF-8\" standalone=\"no\"?>\n",
       "<!DOCTYPE svg PUBLIC \"-//W3C//DTD SVG 1.1//EN\"\n",
       " \"http://www.w3.org/Graphics/SVG/1.1/DTD/svg11.dtd\">\n",
       "<!-- Generated by graphviz version 2.40.1 (20161225.0304)\n",
       " -->\n",
       "<!-- Title: G Pages: 1 -->\n",
       "<svg width=\"381pt\" height=\"44pt\"\n",
       " viewBox=\"0.00 0.00 381.09 44.00\" xmlns=\"http://www.w3.org/2000/svg\" xmlns:xlink=\"http://www.w3.org/1999/xlink\">\n",
       "<g id=\"graph0\" class=\"graph\" transform=\"scale(1 1) rotate(0) translate(4 40)\">\n",
       "<title>G</title>\n",
       "<polygon fill=\"#ffffff\" stroke=\"transparent\" points=\"-4,4 -4,-40 377.0865,-40 377.0865,4 -4,4\"/>\n",
       "<!-- x -->\n",
       "<g id=\"node1\" class=\"node\">\n",
       "<title>x</title>\n",
       "<ellipse fill=\"none\" stroke=\"#000000\" cx=\"27\" cy=\"-18\" rx=\"27\" ry=\"18\"/>\n",
       "<text text-anchor=\"middle\" x=\"27\" y=\"-14.3\" font-family=\"Times,serif\" font-size=\"14.00\" fill=\"#000000\">x</text>\n",
       "</g>\n",
       "<!-- x*w, &#160;&#160;&#160;bias=True -->\n",
       "<g id=\"node2\" class=\"node\">\n",
       "<title>x*w, &#160;&#160;&#160;bias=True</title>\n",
       "<ellipse fill=\"none\" stroke=\"#000000\" cx=\"185.0433\" cy=\"-18\" rx=\"76.0865\" ry=\"18\"/>\n",
       "<text text-anchor=\"middle\" x=\"185.0433\" y=\"-14.3\" font-family=\"Times,serif\" font-size=\"14.00\" fill=\"#000000\">x*w, &#160;&#160;&#160;bias=True</text>\n",
       "</g>\n",
       "<!-- x&#45;&gt;x*w, &#160;&#160;&#160;bias=True -->\n",
       "<g id=\"edge1\" class=\"edge\">\n",
       "<title>x&#45;&gt;x*w, &#160;&#160;&#160;bias=True</title>\n",
       "<path fill=\"none\" stroke=\"#000000\" d=\"M54.1686,-18C66.8126,-18 82.6277,-18 98.8492,-18\"/>\n",
       "<polygon fill=\"#000000\" stroke=\"#000000\" points=\"98.9773,-21.5001 108.9773,-18 98.9772,-14.5001 98.9773,-21.5001\"/>\n",
       "<text text-anchor=\"middle\" x=\"81.5\" y=\"-21.8\" font-family=\"Times,serif\" font-size=\"14.00\" fill=\"#000000\">*w</text>\n",
       "</g>\n",
       "<!-- y -->\n",
       "<g id=\"node3\" class=\"node\">\n",
       "<title>y</title>\n",
       "<ellipse fill=\"none\" stroke=\"#000000\" cx=\"346.0865\" cy=\"-18\" rx=\"27\" ry=\"18\"/>\n",
       "<text text-anchor=\"middle\" x=\"346.0865\" y=\"-14.3\" font-family=\"Times,serif\" font-size=\"14.00\" fill=\"#000000\">y</text>\n",
       "</g>\n",
       "<!-- x*w, &#160;&#160;&#160;bias=True&#45;&gt;y -->\n",
       "<g id=\"edge2\" class=\"edge\">\n",
       "<title>x*w, &#160;&#160;&#160;bias=True&#45;&gt;y</title>\n",
       "<path fill=\"none\" stroke=\"#000000\" d=\"M261.3204,-18C277.7757,-18 294.468,-18 308.6382,-18\"/>\n",
       "<polygon fill=\"#000000\" stroke=\"#000000\" points=\"308.9371,-21.5001 318.937,-18 308.937,-14.5001 308.9371,-21.5001\"/>\n",
       "<text text-anchor=\"middle\" x=\"290.0865\" y=\"-21.8\" font-family=\"Times,serif\" font-size=\"14.00\" fill=\"#000000\">relu</text>\n",
       "</g>\n",
       "</g>\n",
       "</svg>\n"
      ],
      "text/plain": [
       "<graphviz.files.Source at 0x7fee1f093c90>"
      ]
     },
     "execution_count": 92,
     "metadata": {},
     "output_type": "execute_result"
    }
   ],
   "source": [
    "#collapse\n",
    "gv('''\n",
    "\"x\" -> \"x*w,    bias=True\"[label=\"*w\"] ;\n",
    "\"x*w,    bias=True\" -> \"y\"[label=\"relu\"] ''')"
   ]
  },
  {
   "cell_type": "markdown",
   "metadata": {
    "id": "zx9le459gkvx"
   },
   "source": [
    "* 즉, $x$가 0보다 작은 녀석들은 전부다 0으로 보내는 활성화함수이다."
   ]
  },
  {
   "cell_type": "code",
   "execution_count": 95,
   "metadata": {
    "executionInfo": {
     "elapsed": 333,
     "status": "ok",
     "timestamp": 1650584998676,
     "user": {
      "displayName": "이강철",
      "userId": "13507850890638580947"
     },
     "user_tz": -540
    },
    "id": "o87DAFvmgxOU"
   },
   "outputs": [],
   "source": [
    "net2 = tf.keras.Sequential()\n",
    "\n",
    "l1 = tf.keras.layers.Dense(1,input_shape=(1,))\n",
    "\n",
    "a1 = tf.keras.layers.Activation(tf.nn.relu)\n",
    "\n",
    "net2.add(l1)\n",
    "net2.add(a1)"
   ]
  },
  {
   "cell_type": "markdown",
   "metadata": {
    "id": "zzN5pjr8iI3p"
   },
   "source": [
    "*  l1의 weight($\\beta_1$)값이 1보다 크게 나와야 현재 보여주려는 문제 의도대로 풀 수 있다."
   ]
  },
  {
   "cell_type": "code",
   "execution_count": 99,
   "metadata": {
    "colab": {
     "base_uri": "https://localhost:8080/"
    },
    "executionInfo": {
     "elapsed": 269,
     "status": "ok",
     "timestamp": 1650585093031,
     "user": {
      "displayName": "이강철",
      "userId": "13507850890638580947"
     },
     "user_tz": -540
    },
    "id": "155K4G84iFYf",
    "outputId": "e921bfae-4b7c-4723-e1ed-8b0ef2eda0a4"
   },
   "outputs": [
    {
     "data": {
      "text/plain": [
       "[<tf.Variable 'dense_3/kernel:0' shape=(1, 1) dtype=float32, numpy=array([[0.47527015]], dtype=float32)>,\n",
       " <tf.Variable 'dense_3/bias:0' shape=(1,) dtype=float32, numpy=array([0.], dtype=float32)>]"
      ]
     },
     "execution_count": 99,
     "metadata": {},
     "output_type": "execute_result"
    }
   ],
   "source": [
    "l1.weights"
   ]
  },
  {
   "cell_type": "markdown",
   "metadata": {
    "id": "U_5sPRGyicXd"
   },
   "source": [
    "* 현재 생성한 네트워크 상황을 확인해보자."
   ]
  },
  {
   "cell_type": "code",
   "execution_count": 100,
   "metadata": {
    "executionInfo": {
     "elapsed": 248,
     "status": "ok",
     "timestamp": 1650585140701,
     "user": {
      "displayName": "이강철",
      "userId": "13507850890638580947"
     },
     "user_tz": -540
    },
    "id": "8I7WMVLgij8c"
   },
   "outputs": [],
   "source": [
    "u1 = l1(x)\n",
    "v1 = a1(u1)"
   ]
  },
  {
   "cell_type": "code",
   "execution_count": 105,
   "metadata": {
    "colab": {
     "base_uri": "https://localhost:8080/",
     "height": 283
    },
    "executionInfo": {
     "elapsed": 961,
     "status": "ok",
     "timestamp": 1650585263272,
     "user": {
      "displayName": "이강철",
      "userId": "13507850890638580947"
     },
     "user_tz": -540
    },
    "id": "-L22ASBqioNX",
    "outputId": "5c67c77d-b5f0-4606-e969-44674b9febda"
   },
   "outputs": [
    {
     "data": {
      "text/plain": [
       "<matplotlib.legend.Legend at 0x7fee1efb1990>"
      ]
     },
     "execution_count": 105,
     "metadata": {},
     "output_type": "execute_result"
    },
    {
     "data": {
      "image/png": "[encoded data removed]",
      "text/plain": [
       "<Figure size 432x288 with 1 Axes>"
      ]
     },
     "metadata": {
      "needs_background": "light"
     },
     "output_type": "display_data"
    }
   ],
   "source": [
    "plt.plot(x,x,\"--\")\n",
    "plt.plot(x,u1,\"--\")\n",
    "plt.plot(x,v1,\"--\")\n",
    "plt.legend([\"x=x\",\"y=linear x\",\"relu (y)\"])"
   ]
  },
  {
   "cell_type": "markdown",
   "metadata": {
    "id": "84tC-iNBjGPI"
   },
   "source": [
    "* 오 표현하려는 relu 함수처럼 잘 표시된 것 같다."
   ]
  },
  {
   "cell_type": "markdown",
   "metadata": {
    "id": "bG333f2tjaCd"
   },
   "source": [
    "이제 모델을 컴파일 하고 적합해보자!!"
   ]
  },
  {
   "cell_type": "code",
   "execution_count": 109,
   "metadata": {
    "colab": {
     "base_uri": "https://localhost:8080/"
    },
    "executionInfo": {
     "elapsed": 3354,
     "status": "ok",
     "timestamp": 1650585445085,
     "user": {
      "displayName": "이강철",
      "userId": "13507850890638580947"
     },
     "user_tz": -540
    },
    "id": "3E15U1IIjZAM",
    "outputId": "a36adfb6-77c6-40d2-b6cd-8740fe318f32"
   },
   "outputs": [
    {
     "data": {
      "text/plain": [
       "<keras.callbacks.History at 0x7fee1ed30f50>"
      ]
     },
     "execution_count": 109,
     "metadata": {},
     "output_type": "execute_result"
    }
   ],
   "source": [
    "net2.compile(tf.optimizers.SGD(0.1),loss=\"MSE\")\n",
    "net2.fit(x,y,N,1000,0)"
   ]
  },
  {
   "cell_type": "code",
   "execution_count": 115,
   "metadata": {
    "executionInfo": {
     "elapsed": 281,
     "status": "ok",
     "timestamp": 1650585539496,
     "user": {
      "displayName": "이강철",
      "userId": "13507850890638580947"
     },
     "user_tz": -540
    },
    "id": "gVJFtTVWj0ko"
   },
   "outputs": [],
   "source": [
    "yhat = net2(x)\n",
    "yhat = yhat.reshape(N,) ## 이건 굳이 안해줘도 되나 습관화하자 (목적에 맞게 차원변환)"
   ]
  },
  {
   "cell_type": "code",
   "execution_count": 118,
   "metadata": {
    "colab": {
     "base_uri": "https://localhost:8080/",
     "height": 283
    },
    "executionInfo": {
     "elapsed": 812,
     "status": "ok",
     "timestamp": 1650585622127,
     "user": {
      "displayName": "이강철",
      "userId": "13507850890638580947"
     },
     "user_tz": -540
    },
    "id": "vgb7rieUj-Ty",
    "outputId": "9818c707-131d-4982-e219-4ed9092bb448"
   },
   "outputs": [
    {
     "data": {
      "text/plain": [
       "<matplotlib.legend.Legend at 0x7feea848ca10>"
      ]
     },
     "execution_count": 118,
     "metadata": {},
     "output_type": "execute_result"
    },
    {
     "data": {
      "image/png": "[encoded data removed]",
      "text/plain": [
       "<Figure size 432x288 with 1 Axes>"
      ]
     },
     "metadata": {
      "needs_background": "light"
     },
     "output_type": "display_data"
    }
   ],
   "source": [
    "plt.plot(x[x>=0],y[x>=0],\".\",label=\"x>=0\")\n",
    "plt.plot(x[x<0],y[x<0],\".\",label=\"x<0\")\n",
    "plt.plot(x,yhat,\"--\",label=\"hat y\")\n",
    "plt.legend()"
   ]
  },
  {
   "cell_type": "markdown",
   "metadata": {
    "id": "rPBjDshlkLDg"
   },
   "source": [
    "* 그런데... 아직도 $x<0$인 부분에서는 모델 적합이 잘 되지 않은 것 같다."
   ]
  },
  {
   "cell_type": "markdown",
   "metadata": {
    "id": "EVRGrTYykQL1"
   },
   "source": [
    "* why? relu 함수의 특성상 $relu(y) = 0, (y<0)$ 으로 전부 보냈기 때문!"
   ]
  },
  {
   "cell_type": "markdown",
   "metadata": {
    "id": "US-rhPNFkprg"
   },
   "source": [
    "* 이제 선형변환된 값들이 0 이하로 떨어지는 부분들을 어떻게 하면 잘 적합시킬 수 있는지 해결하자!"
   ]
  },
  {
   "cell_type": "markdown",
   "metadata": {
    "id": "x06U2M0FlAeh"
   },
   "source": [
    "* 해결책 : $\\hat {y}$ 가 2개가 있으면? "
   ]
  },
  {
   "cell_type": "markdown",
   "metadata": {
    "id": "NfSX-nvRk6-9"
   },
   "source": [
    "#### 풀이 3"
   ]
  },
  {
   "cell_type": "markdown",
   "metadata": {
    "id": "aj2a9JJAlfCJ"
   },
   "source": [
    "* 목표 : $\\hat y$를 2개 만들자,즉 $\\hat y \\to (N,2)$"
   ]
  },
  {
   "cell_type": "markdown",
   "metadata": {
    "id": "-c_yUi7CmSnj"
   },
   "source": [
    "* 위의 의도대로 하려면 하나의 $\\bf X$를 받아 2개의 출력이 나와야한다!!"
   ]
  },
  {
   "cell_type": "code",
   "execution_count": 351,
   "metadata": {
    "executionInfo": {
     "elapsed": 249,
     "status": "ok",
     "timestamp": 1650589269716,
     "user": {
      "displayName": "이강철",
      "userId": "13507850890638580947"
     },
     "user_tz": -540
    },
    "id": "swi2p0Hck89R"
   },
   "outputs": [],
   "source": [
    "net3 = tf.keras.Sequential()\n",
    "\n",
    "l1 = tf.keras.layers.Dense(2,input_shape=(1,))\n",
    "a1 = tf.keras.layers.Activation(tf.nn.relu)\n",
    "\n",
    "net3.add(l1)\n",
    "net3.add(a1)"
   ]
  },
  {
   "cell_type": "markdown",
   "metadata": {
    "id": "fT4_rp0Bl8LV"
   },
   "source": [
    "(현재 네트워크 상황 확인)"
   ]
  },
  {
   "cell_type": "code",
   "execution_count": 352,
   "metadata": {
    "colab": {
     "base_uri": "https://localhost:8080/"
    },
    "executionInfo": {
     "elapsed": 3,
     "status": "ok",
     "timestamp": 1650589270515,
     "user": {
      "displayName": "이강철",
      "userId": "13507850890638580947"
     },
     "user_tz": -540
    },
    "id": "g7-iGfmfmMb7",
    "outputId": "21cda5df-ca4b-4420-d712-8cf997f8eb7b"
   },
   "outputs": [
    {
     "data": {
      "text/plain": [
       "[<tf.Variable 'dense_50/kernel:0' shape=(1, 2) dtype=float32, numpy=array([[-1.1642166,  0.6747991]], dtype=float32)>,\n",
       " <tf.Variable 'dense_50/bias:0' shape=(2,) dtype=float32, numpy=array([0., 0.], dtype=float32)>]"
      ]
     },
     "execution_count": 352,
     "metadata": {},
     "output_type": "execute_result"
    }
   ],
   "source": [
    "l1.weights"
   ]
  },
  {
   "cell_type": "code",
   "execution_count": 353,
   "metadata": {
    "colab": {
     "base_uri": "https://localhost:8080/",
     "height": 338
    },
    "executionInfo": {
     "elapsed": 570,
     "status": "ok",
     "timestamp": 1650589272077,
     "user": {
      "displayName": "이강철",
      "userId": "13507850890638580947"
     },
     "user_tz": -540
    },
    "id": "dudA6HtTmEZa",
    "outputId": "2e1fe123-790f-457b-d6ea-9e4d54033eed"
   },
   "outputs": [
    {
     "data": {
      "text/plain": [
       "<matplotlib.legend.Legend at 0x7fee129f4e10>"
      ]
     },
     "execution_count": 353,
     "metadata": {},
     "output_type": "execute_result"
    },
    {
     "data": {
      "image/png": "[encoded data removed]",
      "text/plain": [
       "<Figure size 720x360 with 2 Axes>"
      ]
     },
     "metadata": {
      "needs_background": "light"
     },
     "output_type": "display_data"
    }
   ],
   "source": [
    "## collapse\n",
    "fig,(ax1,ax2) = plt.subplots(1,2)\n",
    "fig.set_figwidth(10)\n",
    "fig.set_figheight(5)\n",
    "\n",
    "ax1.plot(x,x,\"--\")\n",
    "ax1.plot(x,l1(x),\"--\")\n",
    "ax1.legend([\"x\",\"l1=w1*x+b\",\"l2=w2*x+b\"])\n",
    "\n",
    "ax2.plot(x,x,\"--\")\n",
    "ax2.plot(x,a1(l1(x)),\"--\")\n",
    "ax2.legend([\"x\",\"al(l1)\",\"al(l2)\"])"
   ]
  },
  {
   "cell_type": "markdown",
   "metadata": {
    "id": "n1kIfL8co7j_"
   },
   "source": [
    "* 위의 문제점"
   ]
  },
  {
   "cell_type": "markdown",
   "metadata": {
    "id": "hax0A9WOpYth"
   },
   "source": [
    "`1`. 우리의 의도대로 `relu`를 지나서 $\\hat y$ 를 2차원으로 만들었다.."
   ]
  },
  {
   "cell_type": "markdown",
   "metadata": {
    "id": "r4mW4PxlpnSf"
   },
   "source": [
    "`2`. 근데 차피 `relu`를 지나면 `al(l1),al(l2)`가 0보다 작으면 $\\hat y$는 전부 0이 나올 것임"
   ]
  },
  {
   "cell_type": "markdown",
   "metadata": {
    "id": "zAh_ReNlpyCx"
   },
   "source": [
    "`3`. 해결책 : 노드를 추가해서 `al(l1),al(l2)`를 입력으로 받아 선형모형을 다시 만들자"
   ]
  },
  {
   "cell_type": "markdown",
   "metadata": {
    "id": "KvBng9uaqCjC"
   },
   "source": [
    "`4`. 또한 $\\hat y$의 차원의 수를 의도적으로 2차원으로 만들었으니 다시 1차원으로 변경해주자!\n",
    "\n",
    "  * 즉, 입력차원 2, 출력차원 1로 변환해주는 노드를 추가"
   ]
  },
  {
   "cell_type": "markdown",
   "metadata": {
    "id": "kJh-jk3qrJ37"
   },
   "source": [
    "python\n",
    "```\n",
    "temp  = tf.keras.Sequential()\n",
    "_l1 = tf.keras.layers.Dense(2,input_shape=(1,))\n",
    "_a1 = tf.keras.layers.Activation(tf.nn.relu)\n",
    "_l2 = tf.keras.layers.Dense(2,input_shape=(2,))\n",
    "\n",
    "temp.add(_l1)\n",
    "temp.add(_a1)\n",
    "temp.add(_l2)\n",
    "````"
   ]
  },
  {
   "cell_type": "code",
   "execution_count": 354,
   "metadata": {
    "colab": {
     "base_uri": "https://localhost:8080/"
    },
    "executionInfo": {
     "elapsed": 255,
     "status": "ok",
     "timestamp": 1650589275531,
     "user": {
      "displayName": "이강철",
      "userId": "13507850890638580947"
     },
     "user_tz": -540
    },
    "id": "D1NRsq6orqLc",
    "outputId": "a5f8f808-3bae-4726-e914-c5b327392985"
   },
   "outputs": [
    {
     "name": "stdout",
     "output_type": "stream",
     "text": [
      "Model: \"sequential_21\"\n",
      "_________________________________________________________________\n",
      " Layer (type)                Output Shape              Param #   \n",
      "=================================================================\n",
      " dense_26 (Dense)            (None, 2)                 4         \n",
      "                                                                 \n",
      " activation_15 (Activation)  (None, 2)                 0         \n",
      "                                                                 \n",
      " dense_27 (Dense)            (None, 2)                 6         \n",
      "                                                                 \n",
      "=================================================================\n",
      "Total params: 10\n",
      "Trainable params: 10\n",
      "Non-trainable params: 0\n",
      "_________________________________________________________________\n"
     ]
    }
   ],
   "source": [
    "temp.summary()"
   ]
  },
  {
   "cell_type": "code",
   "execution_count": 355,
   "metadata": {
    "executionInfo": {
     "elapsed": 245,
     "status": "ok",
     "timestamp": 1650589278327,
     "user": {
      "displayName": "이강철",
      "userId": "13507850890638580947"
     },
     "user_tz": -540
    },
    "id": "h0EZd9fuqM-P"
   },
   "outputs": [],
   "source": [
    "l2 = tf.keras.layers.Dense(1,input_shape=(2,))"
   ]
  },
  {
   "cell_type": "code",
   "execution_count": 356,
   "metadata": {
    "executionInfo": {
     "elapsed": 345,
     "status": "ok",
     "timestamp": 1650589281483,
     "user": {
      "displayName": "이강철",
      "userId": "13507850890638580947"
     },
     "user_tz": -540
    },
    "id": "65rEpvt_ql5P"
   },
   "outputs": [],
   "source": [
    "net3.add(l2)"
   ]
  },
  {
   "cell_type": "code",
   "execution_count": 357,
   "metadata": {
    "colab": {
     "base_uri": "https://localhost:8080/"
    },
    "executionInfo": {
     "elapsed": 263,
     "status": "ok",
     "timestamp": 1650589287931,
     "user": {
      "displayName": "이강철",
      "userId": "13507850890638580947"
     },
     "user_tz": -540
    },
    "id": "Pv7_KVd2ybNt",
    "outputId": "b00b0c56-6c06-47a8-b74f-dd042be9ff64"
   },
   "outputs": [
    {
     "data": {
      "text/plain": [
       "[<tf.Variable 'dense_51/kernel:0' shape=(2, 1) dtype=float32, numpy=\n",
       " array([[-0.54625785],\n",
       "        [ 0.949442  ]], dtype=float32)>,\n",
       " <tf.Variable 'dense_51/bias:0' shape=(1,) dtype=float32, numpy=array([0.], dtype=float32)>]"
      ]
     },
     "execution_count": 357,
     "metadata": {},
     "output_type": "execute_result"
    }
   ],
   "source": [
    "l2.weights"
   ]
  },
  {
   "cell_type": "code",
   "execution_count": 358,
   "metadata": {
    "colab": {
     "base_uri": "https://localhost:8080/"
    },
    "executionInfo": {
     "elapsed": 281,
     "status": "ok",
     "timestamp": 1650589292868,
     "user": {
      "displayName": "이강철",
      "userId": "13507850890638580947"
     },
     "user_tz": -540
    },
    "id": "VKs17kNaydCk",
    "outputId": "a85a56ac-5dfe-48ac-d26e-c604fe077ea3"
   },
   "outputs": [
    {
     "name": "stdout",
     "output_type": "stream",
     "text": [
      "Model: \"sequential_34\"\n",
      "_________________________________________________________________\n",
      " Layer (type)                Output Shape              Param #   \n",
      "=================================================================\n",
      " dense_50 (Dense)            (None, 2)                 4         \n",
      "                                                                 \n",
      " activation_28 (Activation)  (None, 2)                 0         \n",
      "                                                                 \n",
      " dense_51 (Dense)            (None, 1)                 3         \n",
      "                                                                 \n",
      "=================================================================\n",
      "Total params: 7\n",
      "Trainable params: 7\n",
      "Non-trainable params: 0\n",
      "_________________________________________________________________\n"
     ]
    }
   ],
   "source": [
    "net3.summary()"
   ]
  },
  {
   "cell_type": "code",
   "execution_count": 359,
   "metadata": {
    "colab": {
     "base_uri": "https://localhost:8080/"
    },
    "executionInfo": {
     "elapsed": 3146,
     "status": "ok",
     "timestamp": 1650589298066,
     "user": {
      "displayName": "이강철",
      "userId": "13507850890638580947"
     },
     "user_tz": -540
    },
    "id": "Sxoxsc5AsWle",
    "outputId": "a4845d69-65bd-4cc7-a929-b58129ede80b"
   },
   "outputs": [
    {
     "data": {
      "text/plain": [
       "<keras.callbacks.History at 0x7fee12a87950>"
      ]
     },
     "execution_count": 359,
     "metadata": {},
     "output_type": "execute_result"
    }
   ],
   "source": [
    "net3.compile(tf.optimizers.SGD(0.1),loss=\"mse\")\n",
    "net3.fit(x,y,N,1000,0)"
   ]
  },
  {
   "cell_type": "code",
   "execution_count": 360,
   "metadata": {
    "executionInfo": {
     "elapsed": 251,
     "status": "ok",
     "timestamp": 1650589299380,
     "user": {
      "displayName": "이강철",
      "userId": "13507850890638580947"
     },
     "user_tz": -540
    },
    "id": "OVRqGKTysubf"
   },
   "outputs": [],
   "source": [
    "yhat = net3(x)\n",
    "yhat = yhat.reshape(N,)"
   ]
  },
  {
   "cell_type": "markdown",
   "metadata": {
    "id": "lTtmZvkmtDWl"
   },
   "source": [
    "(네트워크의 변화과정 확인)"
   ]
  },
  {
   "cell_type": "code",
   "execution_count": 361,
   "metadata": {
    "executionInfo": {
     "elapsed": 244,
     "status": "ok",
     "timestamp": 1650589301191,
     "user": {
      "displayName": "이강철",
      "userId": "13507850890638580947"
     },
     "user_tz": -540
    },
    "id": "XnoZsos_tX4R"
   },
   "outputs": [],
   "source": [
    "l1_1=l1(x)[:,[0]].reshape(N,)\n",
    "l1_2=l1(x)[:,[1]].reshape(N,)"
   ]
  },
  {
   "cell_type": "code",
   "execution_count": 362,
   "metadata": {
    "colab": {
     "base_uri": "https://localhost:8080/"
    },
    "executionInfo": {
     "elapsed": 273,
     "status": "ok",
     "timestamp": 1650589302659,
     "user": {
      "displayName": "이강철",
      "userId": "13507850890638580947"
     },
     "user_tz": -540
    },
    "id": "5h-llrt3xMLD",
    "outputId": "f38ea196-8361-4707-c34b-df9bf7ccc2d6"
   },
   "outputs": [
    {
     "data": {
      "text/plain": [
       "[<tf.Variable 'dense_51/kernel:0' shape=(2, 1) dtype=float32, numpy=\n",
       " array([[-0.734917 ],\n",
       "        [ 1.8227489]], dtype=float32)>,\n",
       " <tf.Variable 'dense_51/bias:0' shape=(1,) dtype=float32, numpy=array([-0.05703843], dtype=float32)>]"
      ]
     },
     "execution_count": 362,
     "metadata": {},
     "output_type": "execute_result"
    }
   ],
   "source": [
    "l2.weights"
   ]
  },
  {
   "cell_type": "code",
   "execution_count": 363,
   "metadata": {
    "colab": {
     "base_uri": "https://localhost:8080/",
     "height": 354
    },
    "executionInfo": {
     "elapsed": 834,
     "status": "ok",
     "timestamp": 1650589305537,
     "user": {
      "displayName": "이강철",
      "userId": "13507850890638580947"
     },
     "user_tz": -540
    },
    "id": "Wf0RNTBgs0qX",
    "outputId": "bb72c461-d9b4-43de-9061-b1d2adec132d"
   },
   "outputs": [
    {
     "data": {
      "text/plain": [
       "<matplotlib.legend.Legend at 0x7fee12862550>"
      ]
     },
     "execution_count": 363,
     "metadata": {},
     "output_type": "execute_result"
    },
    {
     "data": {
      "image/png": "[encoded data removed]",
      "text/plain": [
       "<Figure size 1008x360 with 3 Axes>"
      ]
     },
     "metadata": {
      "needs_background": "light"
     },
     "output_type": "display_data"
    }
   ],
   "source": [
    "fig,(ax1,ax2,ax3) = plt.subplots(1,3)\n",
    "fig.set_figwidth(14b)\n",
    "fig.set_figheight(5)\n",
    "\n",
    "ax1.plot(x,y,\".\")\n",
    "ax1.plot(x,l1_1,\"--\")\n",
    "ax1.plot(x,l1_2,\"--\")\n",
    "ax1.legend([\"y\",\"l1\",\"l2\"])\n",
    "ax1.set_title(\"1st linear regreesion\")\n",
    "\n",
    "ax2.plot(x,y,\".\")\n",
    "ax2.plot(x,a1(l1(x)),\"--\")\n",
    "ax2.set_title(\"2st relu\")\n",
    "ax2.legend([\"y\",\"relu(l1)\",\"relu(l2)\"])\n",
    "\n",
    "ax3.plot(x,y,\".\")\n",
    "ax3.plot(x,l2(a1(l1(x))),\"--\")\n",
    "ax3.set_title(\"3rd linear regression\")\n",
    "ax3.legend([\"y\",\"l2\"])"
   ]
  },
  {
   "cell_type": "markdown",
   "metadata": {
    "id": "Q8475Geyyi0X"
   },
   "source": [
    "* 표본의 수가 작아서 그런가 의도한대로 잘 안나오다가 한 10번 돌려서 나온 것 같음.."
   ]
  },
  {
   "cell_type": "markdown",
   "metadata": {
    "id": "LFKHjYrHyoXJ"
   },
   "source": [
    "* 즉. 여기까지 요약하자면"
   ]
  },
  {
   "cell_type": "markdown",
   "metadata": {
    "id": "ItRrrZ2syrUS"
   },
   "source": [
    "* 2개의 출력을 가지는 linear $\\to$ relu $\\to$ 1차원의 linear"
   ]
  },
  {
   "cell_type": "markdown",
   "metadata": {
    "id": "uTgrtMD2zDxD"
   },
   "source": [
    "* 근데 풀이 3의 실패하는 경우도 존재함."
   ]
  },
  {
   "cell_type": "code",
   "execution_count": 394,
   "metadata": {
    "executionInfo": {
     "elapsed": 4,
     "status": "ok",
     "timestamp": 1650589817245,
     "user": {
      "displayName": "이강철",
      "userId": "13507850890638580947"
     },
     "user_tz": -540
    },
    "id": "Rs1cO3IBzZmv"
   },
   "outputs": [],
   "source": [
    "np.random.seed(4)\n",
    "N = 100\n",
    "\n",
    "x = np.linspace(-1,1,N)\n",
    "e = np.random.normal(size=N)\n",
    "\n",
    "y = list(map(lambda x,e : x + 0.3*e if x<=0 else 3.5*x +0.3*e,x,e))\n",
    "y = np.array(y)\n",
    "\n",
    "x= x.reshape(N,1)\n",
    "y= y.reshape(N,1)"
   ]
  },
  {
   "cell_type": "code",
   "execution_count": 395,
   "metadata": {
    "colab": {
     "base_uri": "https://localhost:8080/"
    },
    "executionInfo": {
     "elapsed": 2166,
     "status": "ok",
     "timestamp": 1650589820394,
     "user": {
      "displayName": "이강철",
      "userId": "13507850890638580947"
     },
     "user_tz": -540
    },
    "id": "HJ22bWsPzF_O",
    "outputId": "5052e8d5-2043-4620-bd1c-c2a4e4ee6b72"
   },
   "outputs": [
    {
     "data": {
      "text/plain": [
       "<keras.callbacks.History at 0x7fee1d2ff490>"
      ]
     },
     "execution_count": 395,
     "metadata": {},
     "output_type": "execute_result"
    }
   ],
   "source": [
    "tf.random.set_seed(2)\n",
    "\n",
    "net3 = tf.keras.Sequential()\n",
    "####\n",
    "net3.add(tf.keras.layers.Dense(2))\n",
    "net3.add(tf.keras.layers.Activation(\"relu\"))\n",
    "net3.add(tf.keras.layers.Dense(1))\n",
    "####\n",
    "net3.compile(optimizer = tf.optimizers.SGD(0.1),loss=\"mse\")\n",
    "\n",
    "net3.fit(x,y,epochs=1000,verbose=0,batch_size=N)"
   ]
  },
  {
   "cell_type": "code",
   "execution_count": 400,
   "metadata": {
    "colab": {
     "base_uri": "https://localhost:8080/"
    },
    "executionInfo": {
     "elapsed": 416,
     "status": "ok",
     "timestamp": 1650589877107,
     "user": {
      "displayName": "이강철",
      "userId": "13507850890638580947"
     },
     "user_tz": -540
    },
    "id": "tWypAoHT0rR3",
    "outputId": "a4cfa454-9561-4b3c-92f2-0d1181b03ff2"
   },
   "outputs": [
    {
     "data": {
      "text/plain": [
       "[<tf.Variable 'dense_51/kernel:0' shape=(2, 1) dtype=float32, numpy=\n",
       " array([[-0.734917 ],\n",
       "        [ 1.8227489]], dtype=float32)>,\n",
       " <tf.Variable 'dense_51/bias:0' shape=(1,) dtype=float32, numpy=array([-0.05703843], dtype=float32)>]"
      ]
     },
     "execution_count": 400,
     "metadata": {},
     "output_type": "execute_result"
    }
   ],
   "source": [
    "l2.weights"
   ]
  },
  {
   "cell_type": "markdown",
   "metadata": {
    "id": "M6eN-36O1bFB"
   },
   "source": [
    "* 그냥 이거는 교수님 코드 따라서 친건데 밑에 그래프하고 똑같음"
   ]
  },
  {
   "cell_type": "code",
   "execution_count": 406,
   "metadata": {
    "colab": {
     "base_uri": "https://localhost:8080/",
     "height": 283
    },
    "executionInfo": {
     "elapsed": 961,
     "status": "ok",
     "timestamp": 1650590093245,
     "user": {
      "displayName": "이강철",
      "userId": "13507850890638580947"
     },
     "user_tz": -540
    },
    "id": "bx1s3BoY0kts",
    "outputId": "05f73e7f-bf0a-4d6e-916a-9d80637dab9f"
   },
   "outputs": [
    {
     "data": {
      "text/plain": [
       "[<matplotlib.lines.Line2D at 0x7fee1c128cd0>]"
      ]
     },
     "execution_count": 406,
     "metadata": {},
     "output_type": "execute_result"
    },
    {
     "data": {
      "image/png": "[encoded data removed]",
      "text/plain": [
       "<Figure size 1152x288 with 4 Axes>"
      ]
     },
     "metadata": {
      "needs_background": "light"
     },
     "output_type": "display_data"
    }
   ],
   "source": [
    "#collapse\n",
    "fig, (ax1,ax2,ax3,ax4) = plt.subplots(1,4) \n",
    "fig.set_figwidth(16) \n",
    "ax1.plot(x,y,'.')\n",
    "ax1.plot(x,l1(x)[:,0],'--r')\n",
    "ax1.plot(x,l1(x)[:,1],'--b')\n",
    "ax2.plot(x,y,'.')\n",
    "ax2.plot(x,a1(l1(x))[:,0],'--r')\n",
    "ax2.plot(x,a1(l1(x))[:,1],'--b')\n",
    "ax3.plot(x,y,'.')\n",
    "ax3.plot(x,a1(l1(x))[:,0]*(-0.734917),'--r')\n",
    "ax3.plot(x,a1(l1(x))[:,1]*(1.8227489)+(-0.05703843),'--b')\n",
    "ax4.plot(x,y,'.')\n",
    "ax4.plot(x,a1(l1(x))[:,0]*(-0.734917)+a1(l1(x))[:,1]*(1.8227489)+(-0.05703843),'--')"
   ]
  },
  {
   "cell_type": "code",
   "execution_count": 405,
   "metadata": {
    "colab": {
     "base_uri": "https://localhost:8080/",
     "height": 354
    },
    "executionInfo": {
     "elapsed": 892,
     "status": "ok",
     "timestamp": 1650590060671,
     "user": {
      "displayName": "이강철",
      "userId": "13507850890638580947"
     },
     "user_tz": -540
    },
    "id": "LkPjbnlOzISt",
    "outputId": "cd381998-7a77-4802-abea-de4aaba09688"
   },
   "outputs": [
    {
     "data": {
      "text/plain": [
       "<matplotlib.legend.Legend at 0x7fee1c33b250>"
      ]
     },
     "execution_count": 405,
     "metadata": {},
     "output_type": "execute_result"
    },
    {
     "data": {
      "image/png": "[encoded data removed]",
      "text/plain": [
       "<Figure size 1008x360 with 3 Axes>"
      ]
     },
     "metadata": {
      "needs_background": "light"
     },
     "output_type": "display_data"
    }
   ],
   "source": [
    "#collapse\n",
    "fig,(ax1,ax2,ax3) = plt.subplots(1,3)\n",
    "\n",
    "fig.set_figwidth(14)\n",
    "fig.set_figheight(5)\n",
    "\n",
    "ax1.plot(x,y,\".\")\n",
    "ax1.plot(x,l1_1,\"--\")\n",
    "ax1.plot(x,l1_2,\"--\")\n",
    "ax1.legend([\"y\",\"l1\",\"l2\"])\n",
    "ax1.set_title(\"1st linear regreesion\")\n",
    "\n",
    "ax2.plot(x,y,\".\")\n",
    "ax2.plot(x,a1(l1(x)),\"--\")\n",
    "ax2.set_title(\"2st relu\")\n",
    "ax2.legend([\"y\",\"relu(l1)\",\"relu(l2)\"])\n",
    "\n",
    "ax3.plot(x,y,\".\")\n",
    "ax3.plot(x,l2(a1(l1(x))),\"--\")\n",
    "ax3.set_title(\"3rd linear regression\")\n",
    "ax3.legend([\"y\",\"l2\"])"
   ]
  },
  {
   "cell_type": "markdown",
   "metadata": {
    "id": "6Exp86dZ1s9f"
   },
   "source": [
    "* 사실 위 경우는 2개의 linear가 둘 다 일을 잘하고 있는 것임"
   ]
  },
  {
   "cell_type": "markdown",
   "metadata": {
    "id": "gTf_w6xl1zF8"
   },
   "source": [
    "* 근데 가끔 둘 중에 한 개가 일을 제대로 하지 못하는 경우가 발생 (예를 들어 선형변환된 선중에 하나가 계속 0값을 가지면?)"
   ]
  },
  {
   "cell_type": "markdown",
   "metadata": {
    "id": "T60sJz7D2BHg"
   },
   "source": [
    "* 즉, 현재 학습한 에포크에서 우리가 만든 모델이 최적상태이다. $\\to$ 완전한 예측은 난 못해 이런느낌"
   ]
  },
  {
   "cell_type": "markdown",
   "metadata": {
    "id": "lVUDmr702MvL"
   },
   "source": [
    "* 이를 `global minimum(로스를 최소하는)`을 찾지 못하고 `local minimum(현재 조건에서 최적화한)`에 빠졌다고 한다."
   ]
  },
  {
   "cell_type": "markdown",
   "metadata": {
    "id": "w7hgrAM02Zu5"
   },
   "source": [
    "* 7주차 공부한 `피스와이즈`는  `DNN` 이라고 할 수 있다."
   ]
  },
  {
   "cell_type": "markdown",
   "metadata": {
    "id": "5OUmHJeI2oWR"
   },
   "source": [
    "## logistic "
   ]
  },
  {
   "cell_type": "markdown",
   "metadata": {
    "id": "YEOXWjY72qo9"
   },
   "source": [
    "* 결론부터 말하자면 로지스틱은 `MSE`대신 `BCE`(Binary cross entropy)를 손실함수로 사용한다."
   ]
  },
  {
   "cell_type": "markdown",
   "metadata": {
    "id": "f7zm_pzR2_Oy"
   },
   "source": [
    "* 왜? 로지스틱의 손실함수 BCE인 경우 convex(2차함수모양)하기 때문에 글로벌 미니멈을 잘 찾을 수 있음!!"
   ]
  },
  {
   "cell_type": "markdown",
   "metadata": {
    "id": "LLFfYPsT3vXm"
   },
   "source": [
    "### 예제"
   ]
  },
  {
   "cell_type": "code",
   "execution_count": 496,
   "metadata": {
    "executionInfo": {
     "elapsed": 297,
     "status": "ok",
     "timestamp": 1650593474553,
     "user": {
      "displayName": "이강철",
      "userId": "13507850890638580947"
     },
     "user_tz": -540
    },
    "id": "EXExoPFX3zav"
   },
   "outputs": [],
   "source": [
    "N = 2000\n",
    "\n",
    "x = np.linspace(-1,1,N).reshape(N,1)"
   ]
  },
  {
   "cell_type": "markdown",
   "metadata": {
    "id": "ixuZYmv635yn"
   },
   "source": [
    "초기 가중치 설정 및 베르누이 분포"
   ]
  },
  {
   "cell_type": "code",
   "execution_count": 409,
   "metadata": {
    "executionInfo": {
     "elapsed": 258,
     "status": "ok",
     "timestamp": 1650590832389,
     "user": {
      "displayName": "이강철",
      "userId": "13507850890638580947"
     },
     "user_tz": -540
    },
    "id": "xSe-tvyz38QV"
   },
   "outputs": [],
   "source": [
    "w0 = -1\n",
    "w1 = 5\n",
    "\n",
    "u = w0+x*w1\n",
    "\n",
    "v = tf.nn.sigmoid(u)\n",
    "y = tf.constant(np.random.binomial(1,v))"
   ]
  },
  {
   "cell_type": "code",
   "execution_count": 413,
   "metadata": {
    "colab": {
     "base_uri": "https://localhost:8080/",
     "height": 283
    },
    "executionInfo": {
     "elapsed": 812,
     "status": "ok",
     "timestamp": 1650590932340,
     "user": {
      "displayName": "이강철",
      "userId": "13507850890638580947"
     },
     "user_tz": -540
    },
    "id": "a7eHW-YX4V8z",
    "outputId": "faee675d-a079-4380-cac1-5acdf9526db9"
   },
   "outputs": [
    {
     "data": {
      "text/plain": [
       "<matplotlib.legend.Legend at 0x7fee1851fe90>"
      ]
     },
     "execution_count": 413,
     "metadata": {},
     "output_type": "execute_result"
    },
    {
     "data": {
      "image/png": "[encoded data removed]",
      "text/plain": [
       "<Figure size 432x288 with 1 Axes>"
      ]
     },
     "metadata": {
      "needs_background": "light"
     },
     "output_type": "display_data"
    }
   ],
   "source": [
    "plt.plot(x,y,\".\",alpha=0.2)\n",
    "plt.plot(x,v,\"--\")\n",
    "plt.legend([\"y\",\"p(y=1)\"])"
   ]
  },
  {
   "cell_type": "markdown",
   "metadata": {
    "id": "a9vfIR7h4pbt"
   },
   "source": [
    "#### 케라스를 이용하여 구현"
   ]
  },
  {
   "cell_type": "code",
   "execution_count": 440,
   "metadata": {
    "executionInfo": {
     "elapsed": 300,
     "status": "ok",
     "timestamp": 1650592538817,
     "user": {
      "displayName": "이강철",
      "userId": "13507850890638580947"
     },
     "user_tz": -540
    },
    "id": "sWHCuZyM4wju"
   },
   "outputs": [],
   "source": [
    "net = tf.keras.Sequential()\n",
    "net.add(tf.keras.layers.Dense(1,input_shape=(1,),activation=\"sigmoid\"))\n",
    "net.compile(tf.optimizers.SGD(0.1),loss='binary_crossentropy' )"
   ]
  },
  {
   "cell_type": "code",
   "execution_count": 441,
   "metadata": {
    "colab": {
     "base_uri": "https://localhost:8080/"
    },
    "executionInfo": {
     "elapsed": 5593,
     "status": "ok",
     "timestamp": 1650592544829,
     "user": {
      "displayName": "이강철",
      "userId": "13507850890638580947"
     },
     "user_tz": -540
    },
    "id": "4GXNPYJZ60n6",
    "outputId": "72f0f173-f752-40ba-f3f6-e78b04202c48"
   },
   "outputs": [
    {
     "data": {
      "text/plain": [
       "<keras.callbacks.History at 0x7fee12459b90>"
      ]
     },
     "execution_count": 441,
     "metadata": {},
     "output_type": "execute_result"
    }
   ],
   "source": [
    "net.fit(x,y,epochs=1000,verbose=0,batch_size=N)"
   ]
  },
  {
   "cell_type": "code",
   "execution_count": 442,
   "metadata": {
    "colab": {
     "base_uri": "https://localhost:8080/",
     "height": 299
    },
    "executionInfo": {
     "elapsed": 579,
     "status": "ok",
     "timestamp": 1650592545395,
     "user": {
      "displayName": "이강철",
      "userId": "13507850890638580947"
     },
     "user_tz": -540
    },
    "id": "8_71YwGR6Ml-",
    "outputId": "b0ec32db-a5da-4d29-9b0b-a5f9c2df968b"
   },
   "outputs": [
    {
     "data": {
      "text/plain": [
       "Text(0.5, 1.0, 'with keras')"
      ]
     },
     "execution_count": 442,
     "metadata": {},
     "output_type": "execute_result"
    },
    {
     "data": {
      "image/png": "[encoded data removed]",
      "text/plain": [
       "<Figure size 864x288 with 2 Axes>"
      ]
     },
     "metadata": {
      "needs_background": "light"
     },
     "output_type": "display_data"
    }
   ],
   "source": [
    "fig, (ax1,ax2) = plt.subplots(1,2)\n",
    "fig.set_figwidth(12)\n",
    "\n",
    "ax1.plot(x,y,\".\",alpha=0.2)\n",
    "ax1.plot(x,v,\"--\")\n",
    "ax1.legend([\"y\",\"p(y=1)\"])\n",
    "ax1.set_title(\"not keras\")\n",
    "\n",
    "ax2.plot(x,y,\".\",alpha=0.2)\n",
    "ax2.plot(x,net(x),\"--\")\n",
    "ax2.legend([\"y\",\"p(y=1)\"])\n",
    "ax2.set_title(\"with keras\")\n"
   ]
  },
  {
   "cell_type": "markdown",
   "metadata": {
    "id": "c7BeDRzS7JGl"
   },
   "source": [
    "#### MSE vs BCE"
   ]
  },
  {
   "cell_type": "code",
   "execution_count": 443,
   "metadata": {
    "executionInfo": {
     "elapsed": 269,
     "status": "ok",
     "timestamp": 1650592583323,
     "user": {
      "displayName": "이강철",
      "userId": "13507850890638580947"
     },
     "user_tz": -540
    },
    "id": "1ve_wofE7P45"
   },
   "outputs": [],
   "source": [
    "net2 = tf.keras.Sequential()\n",
    "net2.add(tf.keras.layers.Dense(1,input_shape=(1,),activation=\"sigmoid\"))\n",
    "net2.compile(tf.optimizers.SGD(0.1),loss='mse' )"
   ]
  },
  {
   "cell_type": "code",
   "execution_count": 445,
   "metadata": {
    "colab": {
     "base_uri": "https://localhost:8080/"
    },
    "executionInfo": {
     "elapsed": 2986,
     "status": "ok",
     "timestamp": 1650592591904,
     "user": {
      "displayName": "이강철",
      "userId": "13507850890638580947"
     },
     "user_tz": -540
    },
    "id": "MS5N86yZ7UYj",
    "outputId": "cad494af-41f9-47fa-cec0-71f9b45dc950"
   },
   "outputs": [
    {
     "data": {
      "text/plain": [
       "<keras.callbacks.History at 0x7fee11a3e2d0>"
      ]
     },
     "execution_count": 445,
     "metadata": {},
     "output_type": "execute_result"
    }
   ],
   "source": [
    "net2.fit(x,y,epochs=1000,verbose=0,batch_size=N)"
   ]
  },
  {
   "cell_type": "code",
   "execution_count": 446,
   "metadata": {
    "colab": {
     "base_uri": "https://localhost:8080/",
     "height": 299
    },
    "executionInfo": {
     "elapsed": 813,
     "status": "ok",
     "timestamp": 1650592593728,
     "user": {
      "displayName": "이강철",
      "userId": "13507850890638580947"
     },
     "user_tz": -540
    },
    "id": "-LSCFdoL7azF",
    "outputId": "416a9091-01c4-4a24-987e-c3f5a8a774be"
   },
   "outputs": [
    {
     "data": {
      "text/plain": [
       "Text(0.5, 1.0, 'BCE vs MSE')"
      ]
     },
     "execution_count": 446,
     "metadata": {},
     "output_type": "execute_result"
    },
    {
     "data": {
      "image/png": "[encoded data removed]",
      "text/plain": [
       "<Figure size 432x288 with 1 Axes>"
      ]
     },
     "metadata": {
      "needs_background": "light"
     },
     "output_type": "display_data"
    }
   ],
   "source": [
    "plt.plot(x,y,\".\",alpha=0.2)\n",
    "plt.plot(x,net(x),\"--\")\n",
    "plt.plot(x,net2(x),\"--\")\n",
    "plt.legend([\"y\",\"BCE\",\"MSE\"])\n",
    "plt.title(\"BCE vs MSE\")"
   ]
  },
  {
   "cell_type": "markdown",
   "metadata": {
    "id": "FMvO2aNV7-V4"
   },
   "source": [
    "* 로지스틱 회귀모형의 특성상 $x$는 0을 기점으로 약간 지그재그에 가까울수록 좋은 모형인데"
   ]
  },
  {
   "cell_type": "markdown",
   "metadata": {
    "id": "WzVw_hbZ8GIl"
   },
   "source": [
    "* `BCE`가 확실히 `MSE`에 비해서 지그재그에 가까워 보인다!"
   ]
  },
  {
   "cell_type": "markdown",
   "metadata": {
    "id": "4m3AOYDg-IIk"
   },
   "source": [
    "* 즉 BCE는 동일한 조건(epoch,가중치)에서 `BCE`가 `MSE`보다 적합이 뛰어나다."
   ]
  },
  {
   "cell_type": "markdown",
   "metadata": {
    "id": "_RaCcNvo_LER"
   },
   "source": [
    "##### MSE, BCE loss 비교"
   ]
  },
  {
   "cell_type": "code",
   "execution_count": 502,
   "metadata": {
    "executionInfo": {
     "elapsed": 304,
     "status": "ok",
     "timestamp": 1650593608099,
     "user": {
      "displayName": "이강철",
      "userId": "13507850890638580947"
     },
     "user_tz": -540
    },
    "id": "WcU3QHVsC3Po"
   },
   "outputs": [],
   "source": [
    "mseloss_fn = lambda y,yhat: tf.reduce_mean((y-yhat)**2)\n",
    "bceloss_fn = lambda y,yhat: -tf.reduce_mean(y*tnp.log(yhat) + (1-y)*tnp.log(1-yhat))"
   ]
  },
  {
   "cell_type": "code",
   "execution_count": 503,
   "metadata": {
    "executionInfo": {
     "elapsed": 291,
     "status": "ok",
     "timestamp": 1650593617024,
     "user": {
      "displayName": "이강철",
      "userId": "13507850890638580947"
     },
     "user_tz": -540
    },
    "id": "RCooQX6e_ZmT"
   },
   "outputs": [],
   "source": [
    "def loss_fn1(w0,w1):\n",
    "    u = w0+w1*x \n",
    "    yhat = np.exp(u)/(np.exp(u)+1)\n",
    "    return mseloss_fn(y,yhat) \n",
    "\n",
    "def loss_fn2(w0,w1):\n",
    "    u = w0+w1*x \n",
    "    yhat = np.exp(u)/(np.exp(u)+1)\n",
    "    return bceloss_fn(y,yhat)"
   ]
  },
  {
   "cell_type": "code",
   "execution_count": 512,
   "metadata": {
    "executionInfo": {
     "elapsed": 7114,
     "status": "ok",
     "timestamp": 1650593727187,
     "user": {
      "displayName": "이강철",
      "userId": "13507850890638580947"
     },
     "user_tz": -540
    },
    "id": "1uPngZN6Asco"
   },
   "outputs": [],
   "source": [
    "w0, w1 = np.meshgrid(np.arange(-10,3,0.2), np.arange(-1,10,0.2), indexing='ij')\n",
    "w0, w1 = w0.reshape(-1), w1.reshape(-1)\n",
    "\n",
    "\n",
    "loss1 = list(map(loss_fn1,w0,w1))\n",
    "loss2 = list(map(loss_fn2,w0,w1))"
   ]
  },
  {
   "cell_type": "code",
   "execution_count": 532,
   "metadata": {
    "colab": {
     "base_uri": "https://localhost:8080/"
    },
    "executionInfo": {
     "elapsed": 256,
     "status": "ok",
     "timestamp": 1650594073526,
     "user": {
      "displayName": "이강철",
      "userId": "13507850890638580947"
     },
     "user_tz": -540
    },
    "id": "5eC_sYQrEq-B",
    "outputId": "3ed93c5a-bfe0-4cf3-980d-7a3c242c8643"
   },
   "outputs": [
    {
     "data": {
      "text/plain": [
       "((3575,), (3575,))"
      ]
     },
     "execution_count": 532,
     "metadata": {},
     "output_type": "execute_result"
    }
   ],
   "source": [
    "w0.shape,w1.shape"
   ]
  },
  {
   "cell_type": "code",
   "execution_count": 530,
   "metadata": {
    "colab": {
     "base_uri": "https://localhost:8080/",
     "height": 538
    },
    "executionInfo": {
     "elapsed": 1995,
     "status": "ok",
     "timestamp": 1650593976380,
     "user": {
      "displayName": "이강철",
      "userId": "13507850890638580947"
     },
     "user_tz": -540
    },
    "id": "CRdwFlaGDOrZ",
    "outputId": "1b364d04-bf89-4ec6-8d6b-75f920bf0dcc"
   },
   "outputs": [
    {
     "data": {
      "text/plain": [
       "Text(0.5, 0.92, 'BCE Loss')"
      ]
     },
     "execution_count": 530,
     "metadata": {},
     "output_type": "execute_result"
    },
    {
     "data": {
      "image/png": "[encoded data removed]",
      "text/plain": [
       "<Figure size 648x648 with 2 Axes>"
      ]
     },
     "metadata": {
      "needs_background": "light"
     },
     "output_type": "display_data"
    }
   ],
   "source": [
    "fig = plt.figure()\n",
    "fig.set_figwidth(9)\n",
    "fig.set_figheight(9)\n",
    "ax1=fig.add_subplot(1,2,1,projection='3d')\n",
    "ax2=fig.add_subplot(1,2,2,projection='3d')\n",
    "ax1.elev=15\n",
    "ax2.elev=15\n",
    "ax1.azim=75\n",
    "ax2.azim=75\n",
    "ax1.scatter(w0,w1,loss1,s=0.1)\n",
    "ax1.set_title(\"MSE Loss\")\n",
    "ax2.scatter(w0,w1,loss2,s=0.1) \n",
    "ax2.set_title(\"BCE Loss\")"
   ]
  },
  {
   "cell_type": "markdown",
   "metadata": {
    "id": "XJ2gvRdzEMh4"
   },
   "source": [
    "* 로스를 확인한 결과 오른쪽 그림이 더 최적해에 잘 수렴할 것 같음"
   ]
  },
  {
   "cell_type": "markdown",
   "metadata": {
    "id": "axGzssRZFf2a"
   },
   "source": [
    "* 이번엔 동일한 기준을 설정해놓고 확인해보자."
   ]
  },
  {
   "cell_type": "markdown",
   "metadata": {
    "id": "-d5_-jxlGAwx"
   },
   "source": [
    "`-` 파라미터 : (w0,w1) = (-3.0,1.0), epoch 15 마다 관찰"
   ]
  },
  {
   "cell_type": "code",
   "execution_count": 543,
   "metadata": {
    "colab": {
     "base_uri": "https://localhost:8080/"
    },
    "executionInfo": {
     "elapsed": 255,
     "status": "ok",
     "timestamp": 1650594752253,
     "user": {
      "displayName": "이강철",
      "userId": "13507850890638580947"
     },
     "user_tz": -540
    },
    "id": "a1NWySdpHR23",
    "outputId": "c317214d-a782-456f-e296-fa4f49c25acf"
   },
   "outputs": [
    {
     "data": {
      "text/plain": [
       "(2000, 1)"
      ]
     },
     "execution_count": 543,
     "metadata": {},
     "output_type": "execute_result"
    }
   ],
   "source": [
    "x.shape"
   ]
  },
  {
   "cell_type": "code",
   "execution_count": 546,
   "metadata": {
    "colab": {
     "base_uri": "https://localhost:8080/"
    },
    "executionInfo": {
     "elapsed": 280,
     "status": "ok",
     "timestamp": 1650594808402,
     "user": {
      "displayName": "이강철",
      "userId": "13507850890638580947"
     },
     "user_tz": -540
    },
    "id": "flcD10UrHdgs",
    "outputId": "11d9ed01-49ed-4f8f-a484-5f2cdb188c5f"
   },
   "outputs": [
    {
     "data": {
      "text/plain": [
       "<tf.Tensor: shape=(2000, 1), dtype=float64, numpy=\n",
       "array([[1.],\n",
       "       [1.],\n",
       "       [1.],\n",
       "       ...,\n",
       "       [1.],\n",
       "       [1.],\n",
       "       [1.]])>"
      ]
     },
     "execution_count": 546,
     "metadata": {},
     "output_type": "execute_result"
    }
   ],
   "source": [
    "tf.ones(N,dtype=tf.float64).reshape(N,1)"
   ]
  },
  {
   "cell_type": "code",
   "execution_count": 549,
   "metadata": {
    "executionInfo": {
     "elapsed": 262,
     "status": "ok",
     "timestamp": 1650594831157,
     "user": {
      "displayName": "이강철",
      "userId": "13507850890638580947"
     },
     "user_tz": -540
    },
    "id": "QNz4dckCHETm"
   },
   "outputs": [],
   "source": [
    "X = tf.concat([tf.ones(N,dtype=tf.float64).reshape(N,1),x],axis=1)"
   ]
  },
  {
   "cell_type": "code",
   "execution_count": 584,
   "metadata": {
    "colab": {
     "base_uri": "https://localhost:8080/"
    },
    "executionInfo": {
     "elapsed": 5,
     "status": "ok",
     "timestamp": 1650595465988,
     "user": {
      "displayName": "이강철",
      "userId": "13507850890638580947"
     },
     "user_tz": -540
    },
    "id": "K97AGiyfKACt",
    "outputId": "6880722e-3438-4f13-8353-079c2e993188"
   },
   "outputs": [
    {
     "data": {
      "text/plain": [
       "TensorShape([2000, 2])"
      ]
     },
     "execution_count": 584,
     "metadata": {},
     "output_type": "execute_result"
    }
   ],
   "source": [
    "X.shape"
   ]
  },
  {
   "cell_type": "code",
   "execution_count": 606,
   "metadata": {
    "colab": {
     "base_uri": "https://localhost:8080/"
    },
    "executionInfo": {
     "elapsed": 1027,
     "status": "ok",
     "timestamp": 1650595656207,
     "user": {
      "displayName": "이강철",
      "userId": "13507850890638580947"
     },
     "user_tz": -540
    },
    "id": "EcMSa7WXGL7a",
    "outputId": "5eefb58c-48ac-4b09-ee32-80d3b2fd7331"
   },
   "outputs": [
    {
     "data": {
      "text/plain": [
       "<keras.callbacks.History at 0x7fee0a4f27d0>"
      ]
     },
     "execution_count": 606,
     "metadata": {},
     "output_type": "execute_result"
    }
   ],
   "source": [
    "net1 = tf.keras.Sequential()\n",
    "net1.add(tf.keras.layers.Dense(1,use_bias=False,activation='sigmoid')) \n",
    "net1.compile(tf.keras.optimizers.SGD(0.1),loss=\"mse\")\n",
    "net1.fit(X,y,N,1,0)"
   ]
  },
  {
   "cell_type": "code",
   "execution_count": 607,
   "metadata": {
    "colab": {
     "base_uri": "https://localhost:8080/"
    },
    "executionInfo": {
     "elapsed": 688,
     "status": "ok",
     "timestamp": 1650595658010,
     "user": {
      "displayName": "이강철",
      "userId": "13507850890638580947"
     },
     "user_tz": -540
    },
    "id": "7HK4REdQJDFX",
    "outputId": "c66fe643-5a71-4e34-8772-6d83578be4d4"
   },
   "outputs": [
    {
     "data": {
      "text/plain": [
       "<keras.callbacks.History at 0x7fee0a47add0>"
      ]
     },
     "execution_count": 607,
     "metadata": {},
     "output_type": "execute_result"
    }
   ],
   "source": [
    "net2 = tf.keras.Sequential()\n",
    "net2.add(tf.keras.layers.Dense(1,use_bias=False,activation='sigmoid')) \n",
    "net2.compile(tf.keras.optimizers.SGD(0.1),loss=\"binary_crossentropy\")\n",
    "net2.fit(X,y,N,1,0)"
   ]
  },
  {
   "cell_type": "markdown",
   "metadata": {
    "id": "uLb3j0YqKyT-"
   },
   "source": [
    "* 에포크 한번 안덜리면 `set_weights`못함..."
   ]
  },
  {
   "cell_type": "code",
   "execution_count": 610,
   "metadata": {
    "executionInfo": {
     "elapsed": 301,
     "status": "ok",
     "timestamp": 1650595702406,
     "user": {
      "displayName": "이강철",
      "userId": "13507850890638580947"
     },
     "user_tz": -540
    },
    "id": "gx1zqhh-JZlf"
   },
   "outputs": [],
   "source": [
    "net1.set_weights([tnp.array([[-3.0 ],[ -1.0]],dtype=tf.float32)])\n",
    "net2.set_weights([tnp.array([[-3.0 ],[ -1.0]],dtype=tf.float32)])"
   ]
  },
  {
   "cell_type": "code",
   "execution_count": 611,
   "metadata": {
    "colab": {
     "base_uri": "https://localhost:8080/"
    },
    "executionInfo": {
     "elapsed": 269,
     "status": "ok",
     "timestamp": 1650595708407,
     "user": {
      "displayName": "이강철",
      "userId": "13507850890638580947"
     },
     "user_tz": -540
    },
    "id": "I80rMGiIK3wn",
    "outputId": "5d4f4a57-6435-4b34-e5e3-831f40dfc701"
   },
   "outputs": [
    {
     "data": {
      "text/plain": [
       "([array([[-3.],\n",
       "         [-1.]], dtype=float32)], [array([[-3.],\n",
       "         [-1.]], dtype=float32)])"
      ]
     },
     "execution_count": 611,
     "metadata": {},
     "output_type": "execute_result"
    }
   ],
   "source": [
    "net_mse.get_weights(), net_bce.get_weights()"
   ]
  },
  {
   "cell_type": "markdown",
   "metadata": {
    "id": "8YUak-1KK8P7"
   },
   "source": [
    "이제 `15 epoch`마다 기록해보자"
   ]
  },
  {
   "cell_type": "code",
   "execution_count": 613,
   "metadata": {
    "executionInfo": {
     "elapsed": 282,
     "status": "ok",
     "timestamp": 1650595778462,
     "user": {
      "displayName": "이강철",
      "userId": "13507850890638580947"
     },
     "user_tz": -540
    },
    "id": "wEnZLGJdLDog"
   },
   "outputs": [],
   "source": [
    "mse_hat = tnp.array([[-3.0 ],[ -1.0]],dtype=tf.float32)\n",
    "bce_hat = tnp.array([[-3.0 ],[ -1.0]],dtype=tf.float32)"
   ]
  },
  {
   "cell_type": "code",
   "execution_count": 616,
   "metadata": {
    "colab": {
     "base_uri": "https://localhost:8080/"
    },
    "executionInfo": {
     "elapsed": 283,
     "status": "ok",
     "timestamp": 1650595846722,
     "user": {
      "displayName": "이강철",
      "userId": "13507850890638580947"
     },
     "user_tz": -540
    },
    "id": "2wfdsa2oLUmn",
    "outputId": "b65dcb8e-84e0-45d4-9ccd-47b57ba0594b"
   },
   "outputs": [
    {
     "data": {
      "text/plain": [
       "<tf.Tensor: shape=(2, 2), dtype=float32, numpy=\n",
       "array([[-3., -3.],\n",
       "       [-1., -1.]], dtype=float32)>"
      ]
     },
     "execution_count": 616,
     "metadata": {},
     "output_type": "execute_result"
    }
   ],
   "source": [
    "tf.concat([mse_hat,bce_hat],axis=1)"
   ]
  },
  {
   "cell_type": "code",
   "execution_count": 621,
   "metadata": {
    "colab": {
     "base_uri": "https://localhost:8080/"
    },
    "executionInfo": {
     "elapsed": 269,
     "status": "ok",
     "timestamp": 1650596098436,
     "user": {
      "displayName": "이강철",
      "userId": "13507850890638580947"
     },
     "user_tz": -540
    },
    "id": "oinmCu9rMadP",
    "outputId": "4388820b-ba11-4bf1-fbc9-007d89a1927c"
   },
   "outputs": [
    {
     "data": {
      "text/plain": [
       "<tf.Variable 'dense_116/kernel:0' shape=(2, 1) dtype=float32, numpy=\n",
       "array([[-1.4075234 ],\n",
       "       [ 0.26052466]], dtype=float32)>"
      ]
     },
     "execution_count": 621,
     "metadata": {},
     "output_type": "execute_result"
    }
   ],
   "source": [
    "net1.weights[0]"
   ]
  },
  {
   "cell_type": "code",
   "execution_count": 619,
   "metadata": {
    "executionInfo": {
     "elapsed": 7898,
     "status": "ok",
     "timestamp": 1650595987810,
     "user": {
      "displayName": "이강철",
      "userId": "13507850890638580947"
     },
     "user_tz": -540
    },
    "id": "sa2ANe52LNJt"
   },
   "outputs": [],
   "source": [
    "for i in range(29) :\n",
    "    net1.fit(X,y,N,15,0)\n",
    "    net2.fit(X,y,N,15,0)\n",
    "    mse_hat = tf.concat([mse_hat,net1.weights[0]],axis=1)\n",
    "    bce_hat = tf.concat([bce_hat,net2.weights[0]],axis=1)"
   ]
  },
  {
   "cell_type": "markdown",
   "metadata": {
    "id": "ZAzu9AB6M7zp"
   },
   "source": [
    "##### 시각화"
   ]
  },
  {
   "cell_type": "code",
   "execution_count": 622,
   "metadata": {
    "executionInfo": {
     "elapsed": 289,
     "status": "ok",
     "timestamp": 1650596240948,
     "user": {
      "displayName": "이강철",
      "userId": "13507850890638580947"
     },
     "user_tz": -540
    },
    "id": "TcIosYyWM9WX"
   },
   "outputs": [],
   "source": [
    "from matplotlib import animation\n",
    "plt.rcParams[\"animation.html\"] = \"jshtml\""
   ]
  },
  {
   "cell_type": "code",
   "execution_count": 625,
   "metadata": {
    "colab": {
     "base_uri": "https://localhost:8080/",
     "height": 529,
     "output_embedded_package_id": "1MkZZFYqHr3XtNVYSym1K5rCLULb-nzWv"
    },
    "executionInfo": {
     "elapsed": 16782,
     "status": "ok",
     "timestamp": 1650596406266,
     "user": {
      "displayName": "이강철",
      "userId": "13507850890638580947"
     },
     "user_tz": -540
    },
    "id": "jCv2nc3KM97v",
    "outputId": "dbc69595-8cfc-477f-d5c0-d40316340685"
   },
   "outputs": [
    {
     "data": {
      "text/plain": [
       "Output hidden; open in https://colab.research.google.com to view."
      ]
     },
     "metadata": {},
     "output_type": "display_data"
    }
   ],
   "source": [
    "fig = plt.figure()\n",
    "fig.set_figwidth(6)\n",
    "fig.set_figheight(6)\n",
    "fig.suptitle(\"SGD, Winit=(-3,-1)\")\n",
    "ax1=fig.add_subplot(2,2,1,projection='3d')\n",
    "ax2=fig.add_subplot(2,2,2,projection='3d')\n",
    "ax1.elev=15;ax2.elev=15;ax1.azim=75;ax2.azim=75\n",
    "ax3=fig.add_subplot(2,2,3)\n",
    "ax4=fig.add_subplot(2,2,4)\n",
    "\n",
    "ax1.scatter(w0,w1,loss1,s=0.1);ax1.scatter(-1,5,loss_fn1(-1,5),color='red',marker='*',s=200)\n",
    "ax2.scatter(w0,w1,loss2,s=0.1);ax2.scatter(-1,5,loss_fn2(-1,5),color='red',marker='*',s=200)\n",
    "\n",
    "ax3.plot(x,y,','); ax3.plot(x,v,'--r'); \n",
    "line3, = ax3.plot(x,1/(1+np.exp(-X@mse_hat[:,0])),'--b')\n",
    "ax3.set_title(\"MSE\")\n",
    "ax4.plot(x,y,','); ax4.plot(x,v,'--r')\n",
    "line4, = ax4.plot(x,1/(1+np.exp(-X@bce_hat[:,0])),'--b')\n",
    "ax4.set_title(\"BCE\")\n",
    "def animate(i):\n",
    "    _w0_mse,_w1_mse = mse_hat[:,i]\n",
    "    _w0_bce,_w1_bce = bce_hat[:,i]\n",
    "    ax1.scatter(_w0_mse, _w1_mse, loss_fn1(_w0_mse, _w1_mse),color='gray')\n",
    "    ax2.scatter(_w0_bce, _w1_bce, loss_fn2(_w0_bce, _w1_bce),color='gray')\n",
    "    line3.set_ydata(1/(1+np.exp(-X@mse_hat[:,i])))\n",
    "    line4.set_ydata(1/(1+np.exp(-X@bce_hat[:,i])))\n",
    "\n",
    "ani = animation.FuncAnimation(fig, animate, frames=30)\n",
    "plt.close()\n",
    "ani"
   ]
  },
  {
   "cell_type": "markdown",
   "metadata": {
    "id": "5G_r4g5ONwYd"
   },
   "source": [
    "* MSE의 경우 초기 기울기가 크지 않아 loss가 0으로 가는 속도가 매우 느리다."
   ]
  },
  {
   "cell_type": "markdown",
   "metadata": {
    "id": "K0pDw5lMN2D4"
   },
   "source": [
    "* 즉 동일한 기준에서 BCE loss가 성능이 더좋다!!"
   ]
  },
  {
   "cell_type": "markdown",
   "metadata": {
    "id": "Nb4-_dZAN4RQ"
   },
   "source": [
    "##### Adam 옵티마이저"
   ]
  },
  {
   "cell_type": "code",
   "execution_count": 626,
   "metadata": {
    "colab": {
     "base_uri": "https://localhost:8080/"
    },
    "executionInfo": {
     "elapsed": 659,
     "status": "ok",
     "timestamp": 1650596496929,
     "user": {
      "displayName": "이강철",
      "userId": "13507850890638580947"
     },
     "user_tz": -540
    },
    "id": "bPnV4l3KN6xs",
    "outputId": "94c372c7-66c2-4e8d-9a13-1625c3e6fdcc"
   },
   "outputs": [
    {
     "name": "stdout",
     "output_type": "stream",
     "text": [
      "1/1 [==============================] - 0s 438ms/step - loss: 0.3187\n"
     ]
    },
    {
     "data": {
      "text/plain": [
       "<keras.callbacks.History at 0x7fee07c90f90>"
      ]
     },
     "execution_count": 626,
     "metadata": {},
     "output_type": "execute_result"
    }
   ],
   "source": [
    "net_mse = tf.keras.Sequential()\n",
    "net_mse.add(tf.keras.layers.Dense(1,use_bias=False,activation='sigmoid')) \n",
    "net_mse.compile(optimizer=tf.optimizers.Adam(0.1),loss=mseloss_fn) \n",
    "net_mse.fit(X,y,epochs=1,batch_size=N)"
   ]
  },
  {
   "cell_type": "code",
   "execution_count": 627,
   "metadata": {
    "colab": {
     "base_uri": "https://localhost:8080/"
    },
    "executionInfo": {
     "elapsed": 692,
     "status": "ok",
     "timestamp": 1650596501917,
     "user": {
      "displayName": "이강철",
      "userId": "13507850890638580947"
     },
     "user_tz": -540
    },
    "id": "nS3RiXIlN8UD",
    "outputId": "39b7b989-6d78-4f0d-a0f2-af7577047700"
   },
   "outputs": [
    {
     "name": "stdout",
     "output_type": "stream",
     "text": [
      "1/1 [==============================] - 0s 495ms/step - loss: 0.8539\n"
     ]
    },
    {
     "data": {
      "text/plain": [
       "<keras.callbacks.History at 0x7fee07a886d0>"
      ]
     },
     "execution_count": 627,
     "metadata": {},
     "output_type": "execute_result"
    }
   ],
   "source": [
    "net_bce = tf.keras.Sequential()\n",
    "net_bce.add(tf.keras.layers.Dense(1,use_bias=False,activation='sigmoid')) \n",
    "net_bce.compile(optimizer=tf.optimizers.Adam(0.1),loss=bceloss_fn) \n",
    "net_bce.fit(X,y,epochs=1,batch_size=N)"
   ]
  },
  {
   "cell_type": "code",
   "execution_count": 628,
   "metadata": {
    "executionInfo": {
     "elapsed": 272,
     "status": "ok",
     "timestamp": 1650596505309,
     "user": {
      "displayName": "이강철",
      "userId": "13507850890638580947"
     },
     "user_tz": -540
    },
    "id": "SAVhtzNrN-CF"
   },
   "outputs": [],
   "source": [
    "net_mse.set_weights([tnp.array([[-3.0 ],[ -1.0]],dtype=tf.float32)])\n",
    "net_bce.set_weights([tnp.array([[-3.0 ],[ -1.0]],dtype=tf.float32)])"
   ]
  },
  {
   "cell_type": "code",
   "execution_count": 629,
   "metadata": {
    "executionInfo": {
     "elapsed": 303,
     "status": "ok",
     "timestamp": 1650596511260,
     "user": {
      "displayName": "이강철",
      "userId": "13507850890638580947"
     },
     "user_tz": -540
    },
    "id": "n2sSsmW7N_WB"
   },
   "outputs": [],
   "source": [
    "What_mse = tnp.array([[-3.0 ],[ -1.0]],dtype=tf.float32)\n",
    "What_bce = tnp.array([[-3.0 ],[ -1.0]],dtype=tf.float32)"
   ]
  },
  {
   "cell_type": "code",
   "execution_count": 630,
   "metadata": {
    "executionInfo": {
     "elapsed": 7161,
     "status": "ok",
     "timestamp": 1650596525252,
     "user": {
      "displayName": "이강철",
      "userId": "13507850890638580947"
     },
     "user_tz": -540
    },
    "id": "zIsZSdtzOBKH"
   },
   "outputs": [],
   "source": [
    "for k in range(29): \n",
    "    net_mse.fit(X,y,epochs=15,batch_size=N,verbose=0)\n",
    "    net_bce.fit(X,y,epochs=15,batch_size=N,verbose=0)\n",
    "    What_mse = tf.concat([What_mse,net_mse.weights[0]],axis=1) \n",
    "    What_bce = tf.concat([What_bce,net_bce.weights[0]],axis=1)"
   ]
  },
  {
   "cell_type": "code",
   "execution_count": 633,
   "metadata": {
    "colab": {
     "base_uri": "https://localhost:8080/",
     "height": 529,
     "output_embedded_package_id": "1w3sG6aiPYJ4hJuEMo1Cez3tzy9vfT73b"
    },
    "executionInfo": {
     "elapsed": 17400,
     "status": "ok",
     "timestamp": 1650596610471,
     "user": {
      "displayName": "이강철",
      "userId": "13507850890638580947"
     },
     "user_tz": -540
    },
    "id": "H3eB5gnsODRj",
    "outputId": "ddf9b8af-d95e-4b50-aa09-7ef2d462718d"
   },
   "outputs": [
    {
     "data": {
      "text/plain": [
       "Output hidden; open in https://colab.research.google.com to view."
      ]
     },
     "metadata": {},
     "output_type": "display_data"
    }
   ],
   "source": [
    "fig = plt.figure()\n",
    "fig.set_figwidth(6)\n",
    "fig.set_figheight(6)\n",
    "fig.suptitle(\"Adam, Winit=(-3,-1)\")\n",
    "ax1=fig.add_subplot(2,2,1,projection='3d')\n",
    "ax2=fig.add_subplot(2,2,2,projection='3d')\n",
    "ax1.elev=15;ax2.elev=15;ax1.azim=75;ax2.azim=75\n",
    "ax3=fig.add_subplot(2,2,3)\n",
    "ax4=fig.add_subplot(2,2,4)\n",
    "\n",
    "ax1.scatter(w0,w1,loss1,s=0.1);ax1.scatter(-1,5,loss_fn1(-1,5),color='red',marker='*',s=200)\n",
    "ax2.scatter(w0,w1,loss2,s=0.1);ax2.scatter(-1,5,loss_fn2(-1,5),color='red',marker='*',s=200)\n",
    "\n",
    "ax3.plot(x,y,','); ax3.plot(x,v,'--r'); \n",
    "line3, = ax3.plot(x,1/(1+np.exp(-X@What_mse[:,0])),'--b')\n",
    "ax4.plot(x,y,','); ax4.plot(x,v,'--r')\n",
    "line4, = ax4.plot(x,1/(1+np.exp(-X@What_bce[:,0])),'--b')\n",
    "\n",
    "def animate(i):\n",
    "    _w0_mse,_w1_mse = What_mse[:,i]\n",
    "    _w0_bce,_w1_bce = What_bce[:,i]\n",
    "    ax1.scatter(_w0_mse, _w1_mse, loss_fn1(_w0_mse, _w1_mse),color='gray')\n",
    "    ax2.scatter(_w0_bce, _w1_bce, loss_fn2(_w0_bce, _w1_bce),color='gray')\n",
    "    line3.set_ydata(1/(1+np.exp(-X@What_mse[:,i])))\n",
    "    line4.set_ydata(1/(1+np.exp(-X@What_bce[:,i])))\n",
    "\n",
    "ani = animation.FuncAnimation(fig, animate, frames=30)\n",
    "plt.close()\n",
    "ani"
   ]
  },
  {
   "cell_type": "markdown",
   "metadata": {
    "id": "GDXPxwrNOd3C"
   },
   "source": [
    "* `Adam`의 경우 손실함수 미분시 자동으로 `scale`을 조정해주고 계산된 기울기 값을 누적시켜 반영하기 때문에 잘 적합됨을 보인다."
   ]
  },
  {
   "cell_type": "markdown",
   "metadata": {
    "id": "sE5yGKFpOoin"
   },
   "source": [
    "* 그렇다고 손실함수 상관없이 `Adam`을 무조건으로 선호하면 안된다."
   ]
  },
  {
   "cell_type": "markdown",
   "metadata": {
    "id": "rON_hF4OOeBu"
   },
   "source": [
    "* 아무리 `Adam`이라고 해도 초기값 설정이 좋지 않으면 로컬미니멈에서 빠져나오기 힘들다."
   ]
  },
  {
   "cell_type": "markdown",
   "metadata": {
    "id": "0vJ_8zCtO5bw"
   },
   "source": [
    "* 따라서 경우에 맞게 일차적으로 손실함수를 결정한 후 그 후에 옵티마이저를 결정하는 것이 옳은 판단!!"
   ]
  }
 ],
 "metadata": {
  "colab": {
   "authorship_tag": "ABX9TyN4b2ONGDnHMBTe9Hk3yd9/",
   "collapsed_sections": [],
   "name": "2022-04-18-(7주차).ipynb",
   "provenance": [],
   "toc_visible": true
  },
  "kernelspec": {
   "display_name": "Python 3 (ipykernel)",
   "language": "python",
   "name": "python3"
  },
  "language_info": {
   "codemirror_mode": {
    "name": "ipython",
    "version": 3
   },
   "file_extension": ".py",
   "mimetype": "text/x-python",
   "name": "python",
   "nbconvert_exporter": "python",
   "pygments_lexer": "ipython3",
   "version": "3.9.13"
  }
 },
 "nbformat": 4,
 "nbformat_minor": 1
}
